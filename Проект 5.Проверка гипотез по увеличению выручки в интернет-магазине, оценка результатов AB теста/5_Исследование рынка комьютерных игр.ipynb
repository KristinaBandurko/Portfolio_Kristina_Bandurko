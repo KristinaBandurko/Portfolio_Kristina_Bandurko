{
 "cells": [
  {
   "cell_type": "markdown",
   "metadata": {},
   "source": [
    "# Исследование закономерностей, определяющих успех игр"
   ]
  },
  {
   "cell_type": "markdown",
   "metadata": {},
   "source": [
    "**Описание задачи проекта:** вы работаете в интернет-магазине, который продаёт по всему миру компьютерные игры. Из открытых источников доступны исторические данные о продажах игр, оценки пользователей и экспертов, жанры и платформы (например, Xbox или PlayStation). Вам нужно выявить определяющие успешность игры закономерности. Это позволит сделать ставку на потенциально популярный продукт и спланировать рекламные кампании.\n",
    "\n",
    "**Исходные данные:** \n",
    "для проекта используются данные до 2016 года. Представим, что сейчас декабрь 2016 г, и необходимо спланировать кампанию на 2017-й. Нужно отработать принцип работы с данными. Неважно, прогнозируете ли вы продажи на 2017 год по данным 2016-го или же 2027-й — по данным 2026 года."
   ]
  },
  {
   "cell_type": "markdown",
   "metadata": {},
   "source": [
    "<a id=5></a>\n",
    "### Глава 5 Результаты исследования"
   ]
  },
  {
   "cell_type": "markdown",
   "metadata": {},
   "source": [
    "* К самым перспективным консолям на 2017 год, исходя из жизненного цикла и динамики продаж по платформам за актульный период по всем регионам в целом, можно отнести PS4 и XOne. \n",
    "\n",
    "* По регионам NA и EU также имеет смысл обратить внимание на консоль X360, находящуюся в тройке лидеров по популярности, по жанрам сделать упор на Action, Shooter, Sports и ориентироваться на рейтинги ESRB M,E,E10+/\n",
    "\n",
    "* По региону JP к платформам PS4 и XOne можно добавить ещё самую популярную в регионе 3DS.\n",
    "\n",
    "* По жанрам акцент сделать на Role-Playing, Action и ориентироваться на рейтинг E, при этом допустимо и отсутствие рейтинги ESRB вовсе."
   ]
  },
  {
   "cell_type": "markdown",
   "metadata": {},
   "source": [
    "**Навыки и инструменты, применённые в работе:**\n",
    "\n",
    "* **Библиотеки:** pandas, matplotlib.pyplot, seaborn, scipy.stats\n",
    "\n",
    "* **Предобработка данных:**\n",
    "\n",
    "* **Исследовательский анализ:**\n",
    "\n",
    "* **Проверка гипотез:**"
   ]
  },
  {
   "cell_type": "markdown",
   "metadata": {},
   "source": [
    "### Содержание"
   ]
  },
  {
   "cell_type": "markdown",
   "metadata": {},
   "source": [
    "[Глава 1 Обзор и подготовка данных](#1)\n",
    "\n",
    "[Глава 2 Исследовательский анализ данных](#2)\n",
    "\n",
    "[Глава 3 Портрет пользователя каждого региона](#3)\n",
    "\n",
    "[Глава 4 Проверка гипотез](#4)\n",
    "\n",
    "[Глава 5 Результаты исследования](#5)"
   ]
  },
  {
   "cell_type": "markdown",
   "metadata": {},
   "source": [
    "#### **Ход исследования:**\n",
    "\n",
    "**В ходе предобработки данных были:**\n",
    "* названия столбцов приведены к нижнему регистру,\n",
    "* проверены исходные данные, заполнены пропуски и преобразованы типы данных,\n",
    "* посчитаны суммарные продажи каждой игры по всем регионам и записаны полученные значения в отдельный столбец. \n",
    "\n",
    "**Проведён исследовательский анализ данных:**\n",
    "\n",
    "* посчитано количество выпущенных игр в разные годы,\n",
    "* посчитано количество миллионов копий игр, проданых на каждой из платформ,\n",
    "* выделены актуальные данные для дальнейших рассчётов (за период с 2006 - 2016 г.г.),\n",
    "* простроены соответсвующие расчётам графики, а также диаграмма размаха по глобальным продажам игр в разбивке по платформам,\n",
    "* рассчитана зависимость продаж от отзывов  пользователей и критиков, а также зависимость продаж от жанров\n",
    "\n",
    "**В разделе \"Портрет пользователя каждого региона\":**\n",
    "\n",
    "* были выделены Тор-5 платформ по каждому региону и отражены на графике суммарные продажи по каждому региону по всем платформам, посчитаны отношения объёмов продаж в одних регионах к другим по платформам,\n",
    "* выделены Тор-5 жанров по каждому региону, отражены на графике суммарные продажи по каждому региону по всем жанрам, посчитаны отношения объёмов продаж в одних регионах к другим по жанрам,\n",
    "* изучено влияние рейтинга ESRB на продажи на продажи в каждом регионе.\n",
    " \n",
    "**В разделе \"Проверка гипотез\":**\n",
    "\n",
    "* не опровергнута гипотеза о том, что средние пользовательские рейтинги платформ Xbox One и PC равны.\n",
    "* опровергнута гипотеза о том, что средние пользовательские рейтинги жанров Action и Sports равны."
   ]
  },
  {
   "cell_type": "markdown",
   "metadata": {},
   "source": [
    "<a id=1></a>\n",
    "### Глава 1 Обзор и подготовка данных"
   ]
  },
  {
   "cell_type": "code",
   "execution_count": 1,
   "metadata": {},
   "outputs": [],
   "source": [
    "import pandas as pd \n",
    "import matplotlib.pyplot as plt\n",
    "import seaborn as sns\n",
    "from scipy import stats as st"
   ]
  },
  {
   "cell_type": "markdown",
   "metadata": {},
   "source": [
    "Загрузим исходные данные и посмотрим общую информацию о датасете:"
   ]
  },
  {
   "cell_type": "code",
   "execution_count": 2,
   "metadata": {},
   "outputs": [
    {
     "data": {
      "text/html": [
       "<div>\n",
       "<style scoped>\n",
       "    .dataframe tbody tr th:only-of-type {\n",
       "        vertical-align: middle;\n",
       "    }\n",
       "\n",
       "    .dataframe tbody tr th {\n",
       "        vertical-align: top;\n",
       "    }\n",
       "\n",
       "    .dataframe thead th {\n",
       "        text-align: right;\n",
       "    }\n",
       "</style>\n",
       "<table border=\"1\" class=\"dataframe\">\n",
       "  <thead>\n",
       "    <tr style=\"text-align: right;\">\n",
       "      <th></th>\n",
       "      <th>Name</th>\n",
       "      <th>Platform</th>\n",
       "      <th>Year_of_Release</th>\n",
       "      <th>Genre</th>\n",
       "      <th>NA_sales</th>\n",
       "      <th>EU_sales</th>\n",
       "      <th>JP_sales</th>\n",
       "      <th>Other_sales</th>\n",
       "      <th>Critic_Score</th>\n",
       "      <th>User_Score</th>\n",
       "      <th>Rating</th>\n",
       "    </tr>\n",
       "  </thead>\n",
       "  <tbody>\n",
       "    <tr>\n",
       "      <th>0</th>\n",
       "      <td>Wii Sports</td>\n",
       "      <td>Wii</td>\n",
       "      <td>2006.0</td>\n",
       "      <td>Sports</td>\n",
       "      <td>41.36</td>\n",
       "      <td>28.96</td>\n",
       "      <td>3.77</td>\n",
       "      <td>8.45</td>\n",
       "      <td>76.0</td>\n",
       "      <td>8</td>\n",
       "      <td>E</td>\n",
       "    </tr>\n",
       "    <tr>\n",
       "      <th>1</th>\n",
       "      <td>Super Mario Bros.</td>\n",
       "      <td>NES</td>\n",
       "      <td>1985.0</td>\n",
       "      <td>Platform</td>\n",
       "      <td>29.08</td>\n",
       "      <td>3.58</td>\n",
       "      <td>6.81</td>\n",
       "      <td>0.77</td>\n",
       "      <td>NaN</td>\n",
       "      <td>NaN</td>\n",
       "      <td>NaN</td>\n",
       "    </tr>\n",
       "    <tr>\n",
       "      <th>2</th>\n",
       "      <td>Mario Kart Wii</td>\n",
       "      <td>Wii</td>\n",
       "      <td>2008.0</td>\n",
       "      <td>Racing</td>\n",
       "      <td>15.68</td>\n",
       "      <td>12.76</td>\n",
       "      <td>3.79</td>\n",
       "      <td>3.29</td>\n",
       "      <td>82.0</td>\n",
       "      <td>8.3</td>\n",
       "      <td>E</td>\n",
       "    </tr>\n",
       "    <tr>\n",
       "      <th>3</th>\n",
       "      <td>Wii Sports Resort</td>\n",
       "      <td>Wii</td>\n",
       "      <td>2009.0</td>\n",
       "      <td>Sports</td>\n",
       "      <td>15.61</td>\n",
       "      <td>10.93</td>\n",
       "      <td>3.28</td>\n",
       "      <td>2.95</td>\n",
       "      <td>80.0</td>\n",
       "      <td>8</td>\n",
       "      <td>E</td>\n",
       "    </tr>\n",
       "    <tr>\n",
       "      <th>4</th>\n",
       "      <td>Pokemon Red/Pokemon Blue</td>\n",
       "      <td>GB</td>\n",
       "      <td>1996.0</td>\n",
       "      <td>Role-Playing</td>\n",
       "      <td>11.27</td>\n",
       "      <td>8.89</td>\n",
       "      <td>10.22</td>\n",
       "      <td>1.00</td>\n",
       "      <td>NaN</td>\n",
       "      <td>NaN</td>\n",
       "      <td>NaN</td>\n",
       "    </tr>\n",
       "  </tbody>\n",
       "</table>\n",
       "</div>"
      ],
      "text/plain": [
       "                       Name Platform  Year_of_Release         Genre  NA_sales  \\\n",
       "0                Wii Sports      Wii           2006.0        Sports     41.36   \n",
       "1         Super Mario Bros.      NES           1985.0      Platform     29.08   \n",
       "2            Mario Kart Wii      Wii           2008.0        Racing     15.68   \n",
       "3         Wii Sports Resort      Wii           2009.0        Sports     15.61   \n",
       "4  Pokemon Red/Pokemon Blue       GB           1996.0  Role-Playing     11.27   \n",
       "\n",
       "   EU_sales  JP_sales  Other_sales  Critic_Score User_Score Rating  \n",
       "0     28.96      3.77         8.45          76.0          8      E  \n",
       "1      3.58      6.81         0.77           NaN        NaN    NaN  \n",
       "2     12.76      3.79         3.29          82.0        8.3      E  \n",
       "3     10.93      3.28         2.95          80.0          8      E  \n",
       "4      8.89     10.22         1.00           NaN        NaN    NaN  "
      ]
     },
     "execution_count": 2,
     "metadata": {},
     "output_type": "execute_result"
    }
   ],
   "source": [
    "df = pd.read_csv('games.csv')\n",
    "df.head()"
   ]
  },
  {
   "cell_type": "code",
   "execution_count": 3,
   "metadata": {},
   "outputs": [
    {
     "name": "stdout",
     "output_type": "stream",
     "text": [
      "<class 'pandas.core.frame.DataFrame'>\n",
      "RangeIndex: 16715 entries, 0 to 16714\n",
      "Data columns (total 11 columns):\n",
      " #   Column           Non-Null Count  Dtype  \n",
      "---  ------           --------------  -----  \n",
      " 0   Name             16713 non-null  object \n",
      " 1   Platform         16715 non-null  object \n",
      " 2   Year_of_Release  16446 non-null  float64\n",
      " 3   Genre            16713 non-null  object \n",
      " 4   NA_sales         16715 non-null  float64\n",
      " 5   EU_sales         16715 non-null  float64\n",
      " 6   JP_sales         16715 non-null  float64\n",
      " 7   Other_sales      16715 non-null  float64\n",
      " 8   Critic_Score     8137 non-null   float64\n",
      " 9   User_Score       10014 non-null  object \n",
      " 10  Rating           9949 non-null   object \n",
      "dtypes: float64(6), object(5)\n",
      "memory usage: 1.4+ MB\n"
     ]
    }
   ],
   "source": [
    "df.info()"
   ]
  },
  {
   "cell_type": "markdown",
   "metadata": {},
   "source": [
    "В таблице 11 столбцов. Тип данных в столбцах — `object` и `float64`.\n",
    "\n",
    "Согласно документации к данным:\n",
    "   * Name — название игры\n",
    "   * Platform — платформа\n",
    "   * Year_of_Release — год выпуска\n",
    "   * Genre — жанр игры\n",
    "   * NA_sales — продажи в Северной Америке (миллионы проданных копий)\n",
    "   * EU_sales — продажи в Европе (миллионы проданных копий)\n",
    "   * JP_sales — продажи в Японии (миллионы проданных копий)\n",
    "   * Other_sales — продажи в других странах (миллионы проданных копий)\n",
    "   * Critic_Score — оценка критиков (максимум 100)\n",
    "   * User_Score — оценка пользователей (максимум 10)\n",
    "   * Rating — рейтинг от организации ESRB (англ. Entertainment Software Rating Board). Эта ассоциация определяет рейтинг компьютерных игр и присваивает им подходящую возрастную категорию.\n"
   ]
  },
  {
   "cell_type": "markdown",
   "metadata": {},
   "source": [
    "#### Замена названий столбцов"
   ]
  },
  {
   "cell_type": "markdown",
   "metadata": {},
   "source": [
    "Приведём названия столбцов к нижнему регистру:"
   ]
  },
  {
   "cell_type": "code",
   "execution_count": 4,
   "metadata": {},
   "outputs": [
    {
     "data": {
      "text/html": [
       "<div>\n",
       "<style scoped>\n",
       "    .dataframe tbody tr th:only-of-type {\n",
       "        vertical-align: middle;\n",
       "    }\n",
       "\n",
       "    .dataframe tbody tr th {\n",
       "        vertical-align: top;\n",
       "    }\n",
       "\n",
       "    .dataframe thead th {\n",
       "        text-align: right;\n",
       "    }\n",
       "</style>\n",
       "<table border=\"1\" class=\"dataframe\">\n",
       "  <thead>\n",
       "    <tr style=\"text-align: right;\">\n",
       "      <th></th>\n",
       "      <th>name</th>\n",
       "      <th>platform</th>\n",
       "      <th>year_of_release</th>\n",
       "      <th>genre</th>\n",
       "      <th>na_sales</th>\n",
       "      <th>eu_sales</th>\n",
       "      <th>jp_sales</th>\n",
       "      <th>other_sales</th>\n",
       "      <th>critic_score</th>\n",
       "      <th>user_score</th>\n",
       "      <th>rating</th>\n",
       "    </tr>\n",
       "  </thead>\n",
       "  <tbody>\n",
       "    <tr>\n",
       "      <th>0</th>\n",
       "      <td>Wii Sports</td>\n",
       "      <td>Wii</td>\n",
       "      <td>2006.0</td>\n",
       "      <td>Sports</td>\n",
       "      <td>41.36</td>\n",
       "      <td>28.96</td>\n",
       "      <td>3.77</td>\n",
       "      <td>8.45</td>\n",
       "      <td>76.0</td>\n",
       "      <td>8</td>\n",
       "      <td>E</td>\n",
       "    </tr>\n",
       "    <tr>\n",
       "      <th>1</th>\n",
       "      <td>Super Mario Bros.</td>\n",
       "      <td>NES</td>\n",
       "      <td>1985.0</td>\n",
       "      <td>Platform</td>\n",
       "      <td>29.08</td>\n",
       "      <td>3.58</td>\n",
       "      <td>6.81</td>\n",
       "      <td>0.77</td>\n",
       "      <td>NaN</td>\n",
       "      <td>NaN</td>\n",
       "      <td>NaN</td>\n",
       "    </tr>\n",
       "    <tr>\n",
       "      <th>2</th>\n",
       "      <td>Mario Kart Wii</td>\n",
       "      <td>Wii</td>\n",
       "      <td>2008.0</td>\n",
       "      <td>Racing</td>\n",
       "      <td>15.68</td>\n",
       "      <td>12.76</td>\n",
       "      <td>3.79</td>\n",
       "      <td>3.29</td>\n",
       "      <td>82.0</td>\n",
       "      <td>8.3</td>\n",
       "      <td>E</td>\n",
       "    </tr>\n",
       "    <tr>\n",
       "      <th>3</th>\n",
       "      <td>Wii Sports Resort</td>\n",
       "      <td>Wii</td>\n",
       "      <td>2009.0</td>\n",
       "      <td>Sports</td>\n",
       "      <td>15.61</td>\n",
       "      <td>10.93</td>\n",
       "      <td>3.28</td>\n",
       "      <td>2.95</td>\n",
       "      <td>80.0</td>\n",
       "      <td>8</td>\n",
       "      <td>E</td>\n",
       "    </tr>\n",
       "    <tr>\n",
       "      <th>4</th>\n",
       "      <td>Pokemon Red/Pokemon Blue</td>\n",
       "      <td>GB</td>\n",
       "      <td>1996.0</td>\n",
       "      <td>Role-Playing</td>\n",
       "      <td>11.27</td>\n",
       "      <td>8.89</td>\n",
       "      <td>10.22</td>\n",
       "      <td>1.00</td>\n",
       "      <td>NaN</td>\n",
       "      <td>NaN</td>\n",
       "      <td>NaN</td>\n",
       "    </tr>\n",
       "  </tbody>\n",
       "</table>\n",
       "</div>"
      ],
      "text/plain": [
       "                       name platform  year_of_release         genre  na_sales  \\\n",
       "0                Wii Sports      Wii           2006.0        Sports     41.36   \n",
       "1         Super Mario Bros.      NES           1985.0      Platform     29.08   \n",
       "2            Mario Kart Wii      Wii           2008.0        Racing     15.68   \n",
       "3         Wii Sports Resort      Wii           2009.0        Sports     15.61   \n",
       "4  Pokemon Red/Pokemon Blue       GB           1996.0  Role-Playing     11.27   \n",
       "\n",
       "   eu_sales  jp_sales  other_sales  critic_score user_score rating  \n",
       "0     28.96      3.77         8.45          76.0          8      E  \n",
       "1      3.58      6.81         0.77           NaN        NaN    NaN  \n",
       "2     12.76      3.79         3.29          82.0        8.3      E  \n",
       "3     10.93      3.28         2.95          80.0          8      E  \n",
       "4      8.89     10.22         1.00           NaN        NaN    NaN  "
      ]
     },
     "execution_count": 4,
     "metadata": {},
     "output_type": "execute_result"
    }
   ],
   "source": [
    "df.columns = df.columns.str.lower()\n",
    "df.head()"
   ]
  },
  {
   "cell_type": "markdown",
   "metadata": {},
   "source": [
    "Проверим датафрейм на наличие дубликатов:"
   ]
  },
  {
   "cell_type": "code",
   "execution_count": 5,
   "metadata": {},
   "outputs": [
    {
     "data": {
      "text/plain": [
       "0"
      ]
     },
     "execution_count": 5,
     "metadata": {},
     "output_type": "execute_result"
    }
   ],
   "source": [
    "df.duplicated().sum()"
   ]
  },
  {
   "cell_type": "markdown",
   "metadata": {},
   "source": [
    "Полных дубликатов строк нет, но возможно, имеет смысл поискать дубликаты по комбинации имя-консоль-год:"
   ]
  },
  {
   "cell_type": "code",
   "execution_count": 6,
   "metadata": {},
   "outputs": [
    {
     "name": "stdout",
     "output_type": "stream",
     "text": [
      "Кол-во дубликтов имя-консоль-год: 2\n"
     ]
    }
   ],
   "source": [
    "# можно было бы сфомировать доп. датафрейм из исходного:\n",
    "#search_dupl = df[['name','platform','year_of_release']]\n",
    "# но делать этого не будем, т.к. это займет лишний ресурс памяти\n",
    "\n",
    "print('Кол-во дубликтов имя-консоль-год:',df[['name','platform','year_of_release']].duplicated().sum())"
   ]
  },
  {
   "cell_type": "markdown",
   "metadata": {},
   "source": [
    "Посмотрим, как выглядит дубликат имя-консоль-год:"
   ]
  },
  {
   "cell_type": "code",
   "execution_count": 7,
   "metadata": {},
   "outputs": [
    {
     "data": {
      "text/plain": [
       "name                        platform  year_of_release\n",
       "Madden NFL 13               PS3       2012.0             2\n",
       " Beyblade Burst             3DS       2016.0             1\n",
       "Ratatouille                 PC        2007.0             1\n",
       "Rapala Tournament Fishing!  X360      2006.0             1\n",
       "Rapala Trophies             PSP       2006.0             1\n",
       "dtype: int64"
      ]
     },
     "execution_count": 7,
     "metadata": {},
     "output_type": "execute_result"
    }
   ],
   "source": [
    "df[['name','platform','year_of_release']].value_counts().head()"
   ]
  },
  {
   "cell_type": "code",
   "execution_count": 8,
   "metadata": {},
   "outputs": [
    {
     "data": {
      "text/html": [
       "<div>\n",
       "<style scoped>\n",
       "    .dataframe tbody tr th:only-of-type {\n",
       "        vertical-align: middle;\n",
       "    }\n",
       "\n",
       "    .dataframe tbody tr th {\n",
       "        vertical-align: top;\n",
       "    }\n",
       "\n",
       "    .dataframe thead th {\n",
       "        text-align: right;\n",
       "    }\n",
       "</style>\n",
       "<table border=\"1\" class=\"dataframe\">\n",
       "  <thead>\n",
       "    <tr style=\"text-align: right;\">\n",
       "      <th></th>\n",
       "      <th>name</th>\n",
       "      <th>platform</th>\n",
       "      <th>year_of_release</th>\n",
       "      <th>genre</th>\n",
       "      <th>na_sales</th>\n",
       "      <th>eu_sales</th>\n",
       "      <th>jp_sales</th>\n",
       "      <th>other_sales</th>\n",
       "      <th>critic_score</th>\n",
       "      <th>user_score</th>\n",
       "      <th>rating</th>\n",
       "    </tr>\n",
       "  </thead>\n",
       "  <tbody>\n",
       "    <tr>\n",
       "      <th>604</th>\n",
       "      <td>Madden NFL 13</td>\n",
       "      <td>PS3</td>\n",
       "      <td>2012.0</td>\n",
       "      <td>Sports</td>\n",
       "      <td>2.11</td>\n",
       "      <td>0.22</td>\n",
       "      <td>0.0</td>\n",
       "      <td>0.23</td>\n",
       "      <td>83.0</td>\n",
       "      <td>5.5</td>\n",
       "      <td>E</td>\n",
       "    </tr>\n",
       "    <tr>\n",
       "      <th>16230</th>\n",
       "      <td>Madden NFL 13</td>\n",
       "      <td>PS3</td>\n",
       "      <td>2012.0</td>\n",
       "      <td>Sports</td>\n",
       "      <td>0.00</td>\n",
       "      <td>0.01</td>\n",
       "      <td>0.0</td>\n",
       "      <td>0.00</td>\n",
       "      <td>83.0</td>\n",
       "      <td>5.5</td>\n",
       "      <td>E</td>\n",
       "    </tr>\n",
       "  </tbody>\n",
       "</table>\n",
       "</div>"
      ],
      "text/plain": [
       "                name platform  year_of_release   genre  na_sales  eu_sales  \\\n",
       "604    Madden NFL 13      PS3           2012.0  Sports      2.11      0.22   \n",
       "16230  Madden NFL 13      PS3           2012.0  Sports      0.00      0.01   \n",
       "\n",
       "       jp_sales  other_sales  critic_score user_score rating  \n",
       "604         0.0         0.23          83.0        5.5      E  \n",
       "16230       0.0         0.00          83.0        5.5      E  "
      ]
     },
     "execution_count": 8,
     "metadata": {},
     "output_type": "execute_result"
    }
   ],
   "source": [
    "# чтобы найти найденные дубли в комбинации имя-консоль-год применим множественную фильтрацию:\n",
    "(\n",
    "    df[\n",
    "        (df['name']=='Madden NFL 13')\n",
    "        &(df['platform'] == 'PS3')\n",
    "        &(df['year_of_release']==2012.0)\n",
    "      ]\n",
    ")"
   ]
  },
  {
   "cell_type": "markdown",
   "metadata": {},
   "source": [
    "Видим, что дубликат в строке № 16230 связан с тем, что, по видимому, данные по продажам были некорректно записаны. \n",
    "\n",
    "Чтобы избавиться от строки - дубликата перезапишем датафрейм, отфильтровав эту строку:"
   ]
  },
  {
   "cell_type": "code",
   "execution_count": 9,
   "metadata": {},
   "outputs": [
    {
     "name": "stdout",
     "output_type": "stream",
     "text": [
      "<class 'pandas.core.frame.DataFrame'>\n",
      "Int64Index: 11195 entries, 0 to 16713\n",
      "Data columns (total 11 columns):\n",
      " #   Column           Non-Null Count  Dtype  \n",
      "---  ------           --------------  -----  \n",
      " 0   name             11194 non-null  object \n",
      " 1   platform         11195 non-null  object \n",
      " 2   year_of_release  11000 non-null  float64\n",
      " 3   genre            11194 non-null  object \n",
      " 4   na_sales         11195 non-null  float64\n",
      " 5   eu_sales         11195 non-null  float64\n",
      " 6   jp_sales         11195 non-null  float64\n",
      " 7   other_sales      11195 non-null  float64\n",
      " 8   critic_score     6719 non-null   float64\n",
      " 9   user_score       8293 non-null   object \n",
      " 10  rating           8274 non-null   object \n",
      "dtypes: float64(6), object(5)\n",
      "memory usage: 1.0+ MB\n"
     ]
    }
   ],
   "source": [
    "df = (\n",
    "    df[\n",
    "        (df['name']!='Madden NFL 13')\n",
    "        &(df['platform'] != 'PS3')\n",
    "        &(df['year_of_release']!=012.0)\n",
    "        &(df['na_sales']!=0.00)\n",
    "      ]\n",
    ")\n",
    "df.info()"
   ]
  },
  {
   "cell_type": "markdown",
   "metadata": {},
   "source": [
    "В результате видим, что датафрейм уменьшился на одну строку."
   ]
  },
  {
   "cell_type": "markdown",
   "metadata": {},
   "source": [
    "#### Обработка пропусков и преобразование типов"
   ]
  },
  {
   "cell_type": "code",
   "execution_count": 10,
   "metadata": {},
   "outputs": [
    {
     "name": "stdout",
     "output_type": "stream",
     "text": [
      "Количество пропусков в столбцах:\n",
      "\n",
      "name: 1, что составляет 0% от всех данных\n",
      "\n",
      "year_of_release: 195, что составляет 1% от всех данных\n",
      "\n",
      "genre: 1, что составляет 0% от всех данных\n",
      "\n",
      "critic_score: 4476, что составляет 27% от всех данных\n",
      "\n",
      "user_score: 2902, что составляет 17% от всех данных\n",
      "\n",
      "rating: 2921, что составляет 17% от всех данных\n",
      "\n"
     ]
    }
   ],
   "source": [
    "print('Количество пропусков в столбцах:')\n",
    "print()\n",
    "for col in df:\n",
    "    a = len(df[df[col].isna()]) #находим кол-во пропусков в каждом слолбце\n",
    "    if a!=0: #перед выводм отбрасывем столбцы, в которых нет пропусков\n",
    "        print(\n",
    "        '{}: {}, что составляет {:.0%} от всех данных'.format(col, len(df[df[col].isna()]), len(df[df[col].isna()])/16715)            \n",
    "         )\n",
    "        print()"
   ]
  },
  {
   "cell_type": "markdown",
   "metadata": {},
   "source": [
    "Из 11 столбцов 6 имеют пропуски."
   ]
  },
  {
   "cell_type": "markdown",
   "metadata": {},
   "source": [
    "###### name, genre"
   ]
  },
  {
   "cell_type": "markdown",
   "metadata": {},
   "source": [
    "name - название игры, пропущено всего 2 названия из 16715, что не существенно для всего объема данных. Пропущенные значения можем заменить на 'unknown', аналогичным образом дело обстоит со столбцом genre."
   ]
  },
  {
   "cell_type": "code",
   "execution_count": 11,
   "metadata": {},
   "outputs": [],
   "source": [
    "df['name'] = df['name'].fillna('unknown')\n",
    "df['genre'] = df['genre'].fillna('unknown')"
   ]
  },
  {
   "cell_type": "markdown",
   "metadata": {},
   "source": [
    "year_of_release - год выпуска, пропуски составляют не значительный объём от всех данных, но их необходимо заменить на 0, чтобы далее была возможность привести тип данных в столбце с вещественного на целочисленный:"
   ]
  },
  {
   "cell_type": "markdown",
   "metadata": {},
   "source": [
    "##### year_of_release"
   ]
  },
  {
   "cell_type": "code",
   "execution_count": 12,
   "metadata": {},
   "outputs": [
    {
     "data": {
      "text/html": [
       "<div>\n",
       "<style scoped>\n",
       "    .dataframe tbody tr th:only-of-type {\n",
       "        vertical-align: middle;\n",
       "    }\n",
       "\n",
       "    .dataframe tbody tr th {\n",
       "        vertical-align: top;\n",
       "    }\n",
       "\n",
       "    .dataframe thead th {\n",
       "        text-align: right;\n",
       "    }\n",
       "</style>\n",
       "<table border=\"1\" class=\"dataframe\">\n",
       "  <thead>\n",
       "    <tr style=\"text-align: right;\">\n",
       "      <th></th>\n",
       "      <th>name</th>\n",
       "      <th>platform</th>\n",
       "      <th>year_of_release</th>\n",
       "      <th>genre</th>\n",
       "      <th>na_sales</th>\n",
       "      <th>eu_sales</th>\n",
       "      <th>jp_sales</th>\n",
       "      <th>other_sales</th>\n",
       "      <th>critic_score</th>\n",
       "      <th>user_score</th>\n",
       "      <th>rating</th>\n",
       "    </tr>\n",
       "  </thead>\n",
       "  <tbody>\n",
       "    <tr>\n",
       "      <th>0</th>\n",
       "      <td>Wii Sports</td>\n",
       "      <td>Wii</td>\n",
       "      <td>2006</td>\n",
       "      <td>Sports</td>\n",
       "      <td>41.36</td>\n",
       "      <td>28.96</td>\n",
       "      <td>3.77</td>\n",
       "      <td>8.45</td>\n",
       "      <td>76.0</td>\n",
       "      <td>8</td>\n",
       "      <td>E</td>\n",
       "    </tr>\n",
       "    <tr>\n",
       "      <th>1</th>\n",
       "      <td>Super Mario Bros.</td>\n",
       "      <td>NES</td>\n",
       "      <td>1985</td>\n",
       "      <td>Platform</td>\n",
       "      <td>29.08</td>\n",
       "      <td>3.58</td>\n",
       "      <td>6.81</td>\n",
       "      <td>0.77</td>\n",
       "      <td>NaN</td>\n",
       "      <td>NaN</td>\n",
       "      <td>NaN</td>\n",
       "    </tr>\n",
       "    <tr>\n",
       "      <th>2</th>\n",
       "      <td>Mario Kart Wii</td>\n",
       "      <td>Wii</td>\n",
       "      <td>2008</td>\n",
       "      <td>Racing</td>\n",
       "      <td>15.68</td>\n",
       "      <td>12.76</td>\n",
       "      <td>3.79</td>\n",
       "      <td>3.29</td>\n",
       "      <td>82.0</td>\n",
       "      <td>8.3</td>\n",
       "      <td>E</td>\n",
       "    </tr>\n",
       "    <tr>\n",
       "      <th>3</th>\n",
       "      <td>Wii Sports Resort</td>\n",
       "      <td>Wii</td>\n",
       "      <td>2009</td>\n",
       "      <td>Sports</td>\n",
       "      <td>15.61</td>\n",
       "      <td>10.93</td>\n",
       "      <td>3.28</td>\n",
       "      <td>2.95</td>\n",
       "      <td>80.0</td>\n",
       "      <td>8</td>\n",
       "      <td>E</td>\n",
       "    </tr>\n",
       "    <tr>\n",
       "      <th>4</th>\n",
       "      <td>Pokemon Red/Pokemon Blue</td>\n",
       "      <td>GB</td>\n",
       "      <td>1996</td>\n",
       "      <td>Role-Playing</td>\n",
       "      <td>11.27</td>\n",
       "      <td>8.89</td>\n",
       "      <td>10.22</td>\n",
       "      <td>1.00</td>\n",
       "      <td>NaN</td>\n",
       "      <td>NaN</td>\n",
       "      <td>NaN</td>\n",
       "    </tr>\n",
       "  </tbody>\n",
       "</table>\n",
       "</div>"
      ],
      "text/plain": [
       "                       name platform  year_of_release         genre  na_sales  \\\n",
       "0                Wii Sports      Wii             2006        Sports     41.36   \n",
       "1         Super Mario Bros.      NES             1985      Platform     29.08   \n",
       "2            Mario Kart Wii      Wii             2008        Racing     15.68   \n",
       "3         Wii Sports Resort      Wii             2009        Sports     15.61   \n",
       "4  Pokemon Red/Pokemon Blue       GB             1996  Role-Playing     11.27   \n",
       "\n",
       "   eu_sales  jp_sales  other_sales  critic_score user_score rating  \n",
       "0     28.96      3.77         8.45          76.0          8      E  \n",
       "1      3.58      6.81         0.77           NaN        NaN    NaN  \n",
       "2     12.76      3.79         3.29          82.0        8.3      E  \n",
       "3     10.93      3.28         2.95          80.0          8      E  \n",
       "4      8.89     10.22         1.00           NaN        NaN    NaN  "
      ]
     },
     "execution_count": 12,
     "metadata": {},
     "output_type": "execute_result"
    }
   ],
   "source": [
    "df['year_of_release'] = df['year_of_release'].fillna(0)\n",
    "df['year_of_release'] = df['year_of_release'].astype('int')\n",
    "df.head()"
   ]
  },
  {
   "cell_type": "markdown",
   "metadata": {},
   "source": [
    "По отношению ко всему объему данных пропуски в полях name, year_of_release, genre имеют незначительный объем и могут быть связаны, с тем, что данные о названии игры, жанрах и годе выпуска были случайно не указаны или утеряны при заполнении данных."
   ]
  },
  {
   "cell_type": "markdown",
   "metadata": {},
   "source": [
    "##### critic_score"
   ]
  },
  {
   "cell_type": "markdown",
   "metadata": {},
   "source": [
    "* critic_score: 8578, что составляет 51% от всех данных\n",
    "* user_score: 6701, что составляет 40% от всех данных\n",
    "* rating: 6766, что составляет 40% от всех данных\n",
    "\n",
    "-пропуски имеют массовый характер, что может быть связано либо с техническими ошибками при записи в таблицу, либо с тем, что эта часть игр не вошла в рейтинги и по ним не проводились процедуры оценивания критиками и пользователями.\n",
    "\n",
    "В связи с чем оставим пропуски critic_score и user_score без изменений."
   ]
  },
  {
   "cell_type": "markdown",
   "metadata": {},
   "source": [
    "##### user_score"
   ]
  },
  {
   "cell_type": "markdown",
   "metadata": {},
   "source": [
    "Столбец user_score имеет тип object. Посмотрим, какие уникальные значения содержит столбец:"
   ]
  },
  {
   "cell_type": "code",
   "execution_count": 13,
   "metadata": {},
   "outputs": [
    {
     "data": {
      "text/plain": [
       "array(['8', nan, '8.3', '8.5', '6.6', '8.4', '8.6', '7.7', '6.3', '7.4',\n",
       "       '9', '7.9', '8.1', '8.7', '7.1', '3.4', '4.8', '8.9', '8.2', '7.8',\n",
       "       '2.6', '7.2', '9.2', '7', '7.3', '4.3', '7.6', '5.7', '5', '9.1',\n",
       "       '6.5', 'tbd', '8.8', '9.4', '6.1', '6.7', '5.4', '4', '6.4', '7.5',\n",
       "       '4.9', '9.3', '6.2', '4.2', '6', '3.7', '6.9', '6.8', '4.1', '5.6',\n",
       "       '5.5', '4.4', '4.6', '5.9', '3.9', '5.8', '5.3', '3.1', '2.9',\n",
       "       '5.2', '3.3', '4.7', '4.5', '5.1', '3.5', '2.5', '1.9', '3', '2.2',\n",
       "       '2', '9.5', '2.1', '3.6', '2.8', '3.2', '1.8', '3.8', '0', '1.6',\n",
       "       '9.6', '2.4', '1.7', '2.7', '1.1', '0.3', '1.5', '0.7', '1.2',\n",
       "       '2.3', '1.3', '0.5', '0.6', '1.4', '0.9', '1', '0.2'], dtype=object)"
      ]
     },
     "execution_count": 13,
     "metadata": {},
     "output_type": "execute_result"
    }
   ],
   "source": [
    "df['user_score'].unique()"
   ]
  },
  {
   "cell_type": "markdown",
   "metadata": {},
   "source": [
    "Значение 'tbd' - to be defined, что в случае с нашим столбцом user_score можно трактовать как \"оценка пользователей ещё не определёна\". "
   ]
  },
  {
   "cell_type": "markdown",
   "metadata": {},
   "source": [
    "Определим, какой % от всего количества оценок занимают занимает значение 'tbd':"
   ]
  },
  {
   "cell_type": "code",
   "execution_count": 14,
   "metadata": {},
   "outputs": [
    {
     "data": {
      "text/plain": [
       "19.9"
      ]
     },
     "execution_count": 14,
     "metadata": {},
     "output_type": "execute_result"
    }
   ],
   "source": [
    "tbd=df[df['user_score']=='tbd']\n",
    "round(len(tbd)/len(df)*100,1)"
   ]
  },
  {
   "cell_type": "markdown",
   "metadata": {},
   "source": [
    "Теперь посчитаем, какое количество оценок имеют значение '0':"
   ]
  },
  {
   "cell_type": "code",
   "execution_count": 15,
   "metadata": {},
   "outputs": [
    {
     "data": {
      "text/plain": [
       "1"
      ]
     },
     "execution_count": 15,
     "metadata": {},
     "output_type": "execute_result"
    }
   ],
   "source": [
    "nol=df[df['user_score']=='0']\n",
    "len(nol)"
   ]
  },
  {
   "cell_type": "markdown",
   "metadata": {},
   "source": [
    "Такое значение всего одно и во всём объеме данных оно, по сути, никакого влияния не оказывает. Поэтому заменим значения 'tbd' на '0', чтобы далее привести тип данных в столбце 'user_score' к типу float.Т.е. будем считать, что ещё не определённые значения оценок пользователей имеют значения 0. "
   ]
  },
  {
   "cell_type": "code",
   "execution_count": 16,
   "metadata": {},
   "outputs": [],
   "source": [
    "df['user_score'] =  df['user_score'].replace('tbd',0)"
   ]
  },
  {
   "cell_type": "markdown",
   "metadata": {},
   "source": [
    "Теперь заменим тип данных в столбце user_score с object на float"
   ]
  },
  {
   "cell_type": "code",
   "execution_count": 17,
   "metadata": {},
   "outputs": [],
   "source": [
    "df['user_score'] = df['user_score'].astype('float')"
   ]
  },
  {
   "cell_type": "markdown",
   "metadata": {},
   "source": [
    "##### rating"
   ]
  },
  {
   "cell_type": "markdown",
   "metadata": {},
   "source": [
    "Посмотрим, какие уникальные значения записаны в поле rating:"
   ]
  },
  {
   "cell_type": "code",
   "execution_count": 18,
   "metadata": {},
   "outputs": [
    {
     "data": {
      "text/plain": [
       "array(['E', nan, 'M', 'T', 'E10+', 'K-A', 'AO', 'EC'], dtype=object)"
      ]
     },
     "execution_count": 18,
     "metadata": {},
     "output_type": "execute_result"
    }
   ],
   "source": [
    "df['rating'].unique()"
   ]
  },
  {
   "cell_type": "markdown",
   "metadata": {},
   "source": [
    "Значения в поле rating, являются категориальными переменными. Заменим пропущенные значения NaN на значения 'unknown'"
   ]
  },
  {
   "cell_type": "code",
   "execution_count": 19,
   "metadata": {},
   "outputs": [],
   "source": [
    "df['rating'] = df['rating'].fillna('unknown')"
   ]
  },
  {
   "cell_type": "markdown",
   "metadata": {},
   "source": [
    "Проверим полученный результат замены типов и пропусков:"
   ]
  },
  {
   "cell_type": "code",
   "execution_count": 20,
   "metadata": {},
   "outputs": [
    {
     "name": "stdout",
     "output_type": "stream",
     "text": [
      "<class 'pandas.core.frame.DataFrame'>\n",
      "Int64Index: 11195 entries, 0 to 16713\n",
      "Data columns (total 11 columns):\n",
      " #   Column           Non-Null Count  Dtype  \n",
      "---  ------           --------------  -----  \n",
      " 0   name             11195 non-null  object \n",
      " 1   platform         11195 non-null  object \n",
      " 2   year_of_release  11195 non-null  int32  \n",
      " 3   genre            11195 non-null  object \n",
      " 4   na_sales         11195 non-null  float64\n",
      " 5   eu_sales         11195 non-null  float64\n",
      " 6   jp_sales         11195 non-null  float64\n",
      " 7   other_sales      11195 non-null  float64\n",
      " 8   critic_score     6719 non-null   float64\n",
      " 9   user_score       8293 non-null   float64\n",
      " 10  rating           11195 non-null  object \n",
      "dtypes: float64(6), int32(1), object(4)\n",
      "memory usage: 1005.8+ KB\n"
     ]
    }
   ],
   "source": [
    "df.info()"
   ]
  },
  {
   "cell_type": "markdown",
   "metadata": {},
   "source": [
    "##### Суммарные продажи во всех регионах "
   ]
  },
  {
   "cell_type": "markdown",
   "metadata": {},
   "source": [
    "Посчитаем суммарные продажи каждой игры по всем регионам и запишем полученные значения в отдельный столбец:"
   ]
  },
  {
   "cell_type": "code",
   "execution_count": 21,
   "metadata": {},
   "outputs": [
    {
     "data": {
      "text/html": [
       "<div>\n",
       "<style scoped>\n",
       "    .dataframe tbody tr th:only-of-type {\n",
       "        vertical-align: middle;\n",
       "    }\n",
       "\n",
       "    .dataframe tbody tr th {\n",
       "        vertical-align: top;\n",
       "    }\n",
       "\n",
       "    .dataframe thead th {\n",
       "        text-align: right;\n",
       "    }\n",
       "</style>\n",
       "<table border=\"1\" class=\"dataframe\">\n",
       "  <thead>\n",
       "    <tr style=\"text-align: right;\">\n",
       "      <th></th>\n",
       "      <th>name</th>\n",
       "      <th>platform</th>\n",
       "      <th>year_of_release</th>\n",
       "      <th>genre</th>\n",
       "      <th>na_sales</th>\n",
       "      <th>eu_sales</th>\n",
       "      <th>jp_sales</th>\n",
       "      <th>other_sales</th>\n",
       "      <th>critic_score</th>\n",
       "      <th>user_score</th>\n",
       "      <th>rating</th>\n",
       "      <th>total_pay</th>\n",
       "    </tr>\n",
       "  </thead>\n",
       "  <tbody>\n",
       "    <tr>\n",
       "      <th>0</th>\n",
       "      <td>Wii Sports</td>\n",
       "      <td>Wii</td>\n",
       "      <td>2006</td>\n",
       "      <td>Sports</td>\n",
       "      <td>41.36</td>\n",
       "      <td>28.96</td>\n",
       "      <td>3.77</td>\n",
       "      <td>8.45</td>\n",
       "      <td>76.0</td>\n",
       "      <td>8.0</td>\n",
       "      <td>E</td>\n",
       "      <td>82.54</td>\n",
       "    </tr>\n",
       "    <tr>\n",
       "      <th>1</th>\n",
       "      <td>Super Mario Bros.</td>\n",
       "      <td>NES</td>\n",
       "      <td>1985</td>\n",
       "      <td>Platform</td>\n",
       "      <td>29.08</td>\n",
       "      <td>3.58</td>\n",
       "      <td>6.81</td>\n",
       "      <td>0.77</td>\n",
       "      <td>NaN</td>\n",
       "      <td>NaN</td>\n",
       "      <td>unknown</td>\n",
       "      <td>40.24</td>\n",
       "    </tr>\n",
       "    <tr>\n",
       "      <th>2</th>\n",
       "      <td>Mario Kart Wii</td>\n",
       "      <td>Wii</td>\n",
       "      <td>2008</td>\n",
       "      <td>Racing</td>\n",
       "      <td>15.68</td>\n",
       "      <td>12.76</td>\n",
       "      <td>3.79</td>\n",
       "      <td>3.29</td>\n",
       "      <td>82.0</td>\n",
       "      <td>8.3</td>\n",
       "      <td>E</td>\n",
       "      <td>35.52</td>\n",
       "    </tr>\n",
       "    <tr>\n",
       "      <th>3</th>\n",
       "      <td>Wii Sports Resort</td>\n",
       "      <td>Wii</td>\n",
       "      <td>2009</td>\n",
       "      <td>Sports</td>\n",
       "      <td>15.61</td>\n",
       "      <td>10.93</td>\n",
       "      <td>3.28</td>\n",
       "      <td>2.95</td>\n",
       "      <td>80.0</td>\n",
       "      <td>8.0</td>\n",
       "      <td>E</td>\n",
       "      <td>32.77</td>\n",
       "    </tr>\n",
       "    <tr>\n",
       "      <th>4</th>\n",
       "      <td>Pokemon Red/Pokemon Blue</td>\n",
       "      <td>GB</td>\n",
       "      <td>1996</td>\n",
       "      <td>Role-Playing</td>\n",
       "      <td>11.27</td>\n",
       "      <td>8.89</td>\n",
       "      <td>10.22</td>\n",
       "      <td>1.00</td>\n",
       "      <td>NaN</td>\n",
       "      <td>NaN</td>\n",
       "      <td>unknown</td>\n",
       "      <td>31.38</td>\n",
       "    </tr>\n",
       "  </tbody>\n",
       "</table>\n",
       "</div>"
      ],
      "text/plain": [
       "                       name platform  year_of_release         genre  na_sales  \\\n",
       "0                Wii Sports      Wii             2006        Sports     41.36   \n",
       "1         Super Mario Bros.      NES             1985      Platform     29.08   \n",
       "2            Mario Kart Wii      Wii             2008        Racing     15.68   \n",
       "3         Wii Sports Resort      Wii             2009        Sports     15.61   \n",
       "4  Pokemon Red/Pokemon Blue       GB             1996  Role-Playing     11.27   \n",
       "\n",
       "   eu_sales  jp_sales  other_sales  critic_score  user_score   rating  \\\n",
       "0     28.96      3.77         8.45          76.0         8.0        E   \n",
       "1      3.58      6.81         0.77           NaN         NaN  unknown   \n",
       "2     12.76      3.79         3.29          82.0         8.3        E   \n",
       "3     10.93      3.28         2.95          80.0         8.0        E   \n",
       "4      8.89     10.22         1.00           NaN         NaN  unknown   \n",
       "\n",
       "   total_pay  \n",
       "0      82.54  \n",
       "1      40.24  \n",
       "2      35.52  \n",
       "3      32.77  \n",
       "4      31.38  "
      ]
     },
     "execution_count": 21,
     "metadata": {},
     "output_type": "execute_result"
    }
   ],
   "source": [
    "df['total_pay'] = df['na_sales'] + df['eu_sales'] + df['jp_sales'] + df['other_sales']\n",
    "df.head()"
   ]
  },
  {
   "cell_type": "markdown",
   "metadata": {},
   "source": [
    "<a id=2></a>\n",
    "### Глава 2 Исследовательский анализ данных "
   ]
  },
  {
   "cell_type": "markdown",
   "metadata": {},
   "source": [
    "#### Кол-во выпущенных игр в разные годы"
   ]
  },
  {
   "cell_type": "code",
   "execution_count": 22,
   "metadata": {},
   "outputs": [
    {
     "data": {
      "text/html": [
       "<div>\n",
       "<style scoped>\n",
       "    .dataframe tbody tr th:only-of-type {\n",
       "        vertical-align: middle;\n",
       "    }\n",
       "\n",
       "    .dataframe tbody tr th {\n",
       "        vertical-align: top;\n",
       "    }\n",
       "\n",
       "    .dataframe thead th {\n",
       "        text-align: right;\n",
       "    }\n",
       "</style>\n",
       "<table border=\"1\" class=\"dataframe\">\n",
       "  <thead>\n",
       "    <tr style=\"text-align: right;\">\n",
       "      <th></th>\n",
       "      <th>year_of_release</th>\n",
       "      <th>amount_of_games</th>\n",
       "    </tr>\n",
       "  </thead>\n",
       "  <tbody>\n",
       "    <tr>\n",
       "      <th>0</th>\n",
       "      <td>0</td>\n",
       "      <td>195</td>\n",
       "    </tr>\n",
       "    <tr>\n",
       "      <th>1</th>\n",
       "      <td>1980</td>\n",
       "      <td>9</td>\n",
       "    </tr>\n",
       "    <tr>\n",
       "      <th>2</th>\n",
       "      <td>1981</td>\n",
       "      <td>46</td>\n",
       "    </tr>\n",
       "    <tr>\n",
       "      <th>3</th>\n",
       "      <td>1982</td>\n",
       "      <td>36</td>\n",
       "    </tr>\n",
       "    <tr>\n",
       "      <th>4</th>\n",
       "      <td>1983</td>\n",
       "      <td>17</td>\n",
       "    </tr>\n",
       "  </tbody>\n",
       "</table>\n",
       "</div>"
      ],
      "text/plain": [
       "   year_of_release  amount_of_games\n",
       "0                0              195\n",
       "1             1980                9\n",
       "2             1981               46\n",
       "3             1982               36\n",
       "4             1983               17"
      ]
     },
     "execution_count": 22,
     "metadata": {},
     "output_type": "execute_result"
    }
   ],
   "source": [
    "games_year = df.pivot_table(index='year_of_release', values = 'name', aggfunc = 'count').reset_index()\n",
    "games_year.columns = ['year_of_release','amount_of_games']\n",
    "games_year.head()"
   ]
  },
  {
   "cell_type": "markdown",
   "metadata": {},
   "source": [
    "Отфильтруем нулевые значения года выпуска: "
   ]
  },
  {
   "cell_type": "code",
   "execution_count": 23,
   "metadata": {},
   "outputs": [
    {
     "data": {
      "text/html": [
       "<div>\n",
       "<style scoped>\n",
       "    .dataframe tbody tr th:only-of-type {\n",
       "        vertical-align: middle;\n",
       "    }\n",
       "\n",
       "    .dataframe tbody tr th {\n",
       "        vertical-align: top;\n",
       "    }\n",
       "\n",
       "    .dataframe thead th {\n",
       "        text-align: right;\n",
       "    }\n",
       "</style>\n",
       "<table border=\"1\" class=\"dataframe\">\n",
       "  <thead>\n",
       "    <tr style=\"text-align: right;\">\n",
       "      <th></th>\n",
       "      <th>year_of_release</th>\n",
       "      <th>amount_of_games</th>\n",
       "    </tr>\n",
       "  </thead>\n",
       "  <tbody>\n",
       "    <tr>\n",
       "      <th>1</th>\n",
       "      <td>1980</td>\n",
       "      <td>9</td>\n",
       "    </tr>\n",
       "    <tr>\n",
       "      <th>2</th>\n",
       "      <td>1981</td>\n",
       "      <td>46</td>\n",
       "    </tr>\n",
       "    <tr>\n",
       "      <th>3</th>\n",
       "      <td>1982</td>\n",
       "      <td>36</td>\n",
       "    </tr>\n",
       "    <tr>\n",
       "      <th>4</th>\n",
       "      <td>1983</td>\n",
       "      <td>17</td>\n",
       "    </tr>\n",
       "    <tr>\n",
       "      <th>5</th>\n",
       "      <td>1984</td>\n",
       "      <td>10</td>\n",
       "    </tr>\n",
       "  </tbody>\n",
       "</table>\n",
       "</div>"
      ],
      "text/plain": [
       "   year_of_release  amount_of_games\n",
       "1             1980                9\n",
       "2             1981               46\n",
       "3             1982               36\n",
       "4             1983               17\n",
       "5             1984               10"
      ]
     },
     "execution_count": 23,
     "metadata": {},
     "output_type": "execute_result"
    }
   ],
   "source": [
    "games_year = games_year[games_year['year_of_release']!=0]\n",
    "games_year.head()"
   ]
  },
  {
   "cell_type": "markdown",
   "metadata": {},
   "source": [
    "По рассчитанным данным построим соответсвующий график:"
   ]
  },
  {
   "cell_type": "code",
   "execution_count": 24,
   "metadata": {},
   "outputs": [
    {
     "data": {
      "image/png": "[encoded data removed]",
      "text/plain": [
       "<Figure size 864x360 with 1 Axes>"
      ]
     },
     "metadata": {
      "needs_background": "light"
     },
     "output_type": "display_data"
    }
   ],
   "source": [
    "games_year.plot(title='Количество игр, выпущенных по годам по всем платформам', x='year_of_release', y='amount_of_games', legend=None, style='o-', grid=True, figsize=(12,5))\n",
    "plt.xlabel(\"Год выпуска\")\n",
    "plt.ylabel(\"Количество игр\")\n",
    "plt.show()"
   ]
  },
  {
   "cell_type": "markdown",
   "metadata": {},
   "source": [
    "Выделим из исходной таблицы столбцы с названием игр и годом выпуска и удалим повторы названий игр, т.е. одни и те же игры, которые вышли на разных платформах "
   ]
  },
  {
   "cell_type": "code",
   "execution_count": 25,
   "metadata": {},
   "outputs": [
    {
     "data": {
      "text/plain": [
       "2868"
      ]
     },
     "execution_count": 25,
     "metadata": {},
     "output_type": "execute_result"
    }
   ],
   "source": [
    "df[['name','year_of_release']].duplicated().sum()"
   ]
  },
  {
   "cell_type": "code",
   "execution_count": 26,
   "metadata": {},
   "outputs": [],
   "source": [
    "uniq_games_year = df[['name','year_of_release']].drop_duplicates()"
   ]
  },
  {
   "cell_type": "markdown",
   "metadata": {},
   "source": [
    "Сгруппируем в сводной таблице и посчитаем количество выпусков игр по годам:"
   ]
  },
  {
   "cell_type": "code",
   "execution_count": 27,
   "metadata": {},
   "outputs": [],
   "source": [
    "uniq_games_year = uniq_games_year.pivot_table(index='year_of_release', values = 'name', aggfunc = 'count').reset_index()\n",
    "uniq_games_year.columns = ['year_of_release','amount_of_games']\n",
    "uniq_games_year = uniq_games_year[uniq_games_year['year_of_release']!=0]"
   ]
  },
  {
   "cell_type": "markdown",
   "metadata": {},
   "source": [
    "На основе полученных данных об уникальных выпусках игр построим график:"
   ]
  },
  {
   "cell_type": "code",
   "execution_count": 77,
   "metadata": {
    "scrolled": true
   },
   "outputs": [
    {
     "data": {
      "image/png": "[encoded data removed]",
      "text/plain": [
       "<Figure size 864x360 with 1 Axes>"
      ]
     },
     "metadata": {
      "needs_background": "light"
     },
     "output_type": "display_data"
    }
   ],
   "source": [
    "uniq_games_year.plot(title='Количество уникальных игр, выпущенных по годам', x='year_of_release', y='amount_of_games', legend=None, style='o-', grid=True, figsize=(12,5))\n",
    "plt.xlabel(\"Год выпуска\")\n",
    "plt.ylabel(\"Количество уникальных игр\")\n",
    "plt.show()"
   ]
  },
  {
   "cell_type": "markdown",
   "metadata": {},
   "source": [
    "**Вывод:** под данным таблицы games_year и графика видим, что до 1995 года количество выпускаемых игр было меньше 100 в год."
   ]
  },
  {
   "cell_type": "markdown",
   "metadata": {},
   "source": [
    "#### Изменение продаж по платформам."
   ]
  },
  {
   "cell_type": "markdown",
   "metadata": {},
   "source": [
    "Посчитаем, какое количество миллионов копий игр было продано на каждой из платформ:"
   ]
  },
  {
   "cell_type": "code",
   "execution_count": 29,
   "metadata": {},
   "outputs": [
    {
     "data": {
      "text/plain": [
       "platform\n",
       "PS2     1159.23\n",
       "X360     954.58\n",
       "Wii      869.79\n",
       "DS       734.82\n",
       "PS       665.31\n",
       "PS4      307.48\n",
       "GBA      298.27\n",
       "XB       251.48\n",
       "PSP      237.82\n",
       "NES      228.23\n",
       "GB       225.91\n",
       "3DS      218.23\n",
       "PC       212.29\n",
       "N64      211.24\n",
       "GC       193.92\n",
       "XOne     159.00\n",
       "SNES     128.13\n",
       "2600      86.48\n",
       "WiiU      80.57\n",
       "PSV       37.70\n",
       "GEN       29.17\n",
       "DC         8.82\n",
       "SAT        4.17\n",
       "SCD        1.50\n",
       "Name: total_pay, dtype: float64"
      ]
     },
     "execution_count": 29,
     "metadata": {},
     "output_type": "execute_result"
    }
   ],
   "source": [
    "df = df[df['year_of_release']!=0]\n",
    "platform_sales= (\n",
    "    df.groupby('platform')['total_pay'].sum()\n",
    "    .sort_values(ascending=False)\n",
    "                )\n",
    "platform_sales"
   ]
  },
  {
   "cell_type": "markdown",
   "metadata": {},
   "source": [
    "Построим график динамики продаж по годам для пяти платформ наибольшими суммарными продажами:"
   ]
  },
  {
   "cell_type": "code",
   "execution_count": 30,
   "metadata": {},
   "outputs": [
    {
     "data": {
      "image/png": "[encoded data removed]",
      "text/plain": [
       "<Figure size 1080x432 with 1 Axes>"
      ]
     },
     "metadata": {
      "needs_background": "light"
     },
     "output_type": "display_data"
    }
   ],
   "source": [
    "platform_sales = (\n",
    "                  df.pivot_table(index=['platform','year_of_release'], values='total_pay' , aggfunc='sum')\n",
    "                  .unstack('platform').reset_index()\n",
    "                  )\n",
    " \n",
    "\n",
    "plt.figure(figsize=(15,6))\n",
    "Years = platform_sales['year_of_release']\n",
    "\n",
    "consol = ['PS2','X360','Wii','DS','PS']\n",
    "\n",
    "for x in consol:\n",
    "    y= platform_sales['total_pay'][x]\n",
    "    plt.plot(Years, y, '-o',label= x)\n",
    "    \n",
    "plt.grid()\n",
    "plt.legend()\n",
    "plt.title(\"Динамика продаж по платформам TOP-5\")\n",
    "plt.show()"
   ]
  },
  {
   "cell_type": "markdown",
   "metadata": {},
   "source": [
    "**Вывод:** из графиков видим, что характерный срок жизни платформы 9-11 лет."
   ]
  },
  {
   "cell_type": "markdown",
   "metadata": {},
   "source": [
    "#### Актуальные данные для исследования"
   ]
  },
  {
   "cell_type": "markdown",
   "metadata": {},
   "source": [
    "Т.к. характерный срок жизни платформы 9-11 лет и на последние 10 лет приходится период использования 4-х из 6 самых популярных платформ, то для дальнейшего исследования возьмём данные за период с 2006 - 2016 г.г. "
   ]
  },
  {
   "cell_type": "code",
   "execution_count": 31,
   "metadata": {},
   "outputs": [
    {
     "data": {
      "text/html": [
       "<div>\n",
       "<style scoped>\n",
       "    .dataframe tbody tr th:only-of-type {\n",
       "        vertical-align: middle;\n",
       "    }\n",
       "\n",
       "    .dataframe tbody tr th {\n",
       "        vertical-align: top;\n",
       "    }\n",
       "\n",
       "    .dataframe thead th {\n",
       "        text-align: right;\n",
       "    }\n",
       "</style>\n",
       "<table border=\"1\" class=\"dataframe\">\n",
       "  <thead>\n",
       "    <tr style=\"text-align: right;\">\n",
       "      <th></th>\n",
       "      <th>name</th>\n",
       "      <th>platform</th>\n",
       "      <th>year_of_release</th>\n",
       "      <th>genre</th>\n",
       "      <th>na_sales</th>\n",
       "      <th>eu_sales</th>\n",
       "      <th>jp_sales</th>\n",
       "      <th>other_sales</th>\n",
       "      <th>critic_score</th>\n",
       "      <th>user_score</th>\n",
       "      <th>rating</th>\n",
       "      <th>total_pay</th>\n",
       "    </tr>\n",
       "  </thead>\n",
       "  <tbody>\n",
       "    <tr>\n",
       "      <th>23</th>\n",
       "      <td>Grand Theft Auto V</td>\n",
       "      <td>X360</td>\n",
       "      <td>2013</td>\n",
       "      <td>Action</td>\n",
       "      <td>9.66</td>\n",
       "      <td>5.14</td>\n",
       "      <td>0.06</td>\n",
       "      <td>1.41</td>\n",
       "      <td>97.0</td>\n",
       "      <td>8.1</td>\n",
       "      <td>M</td>\n",
       "      <td>16.27</td>\n",
       "    </tr>\n",
       "    <tr>\n",
       "      <th>31</th>\n",
       "      <td>Call of Duty: Black Ops 3</td>\n",
       "      <td>PS4</td>\n",
       "      <td>2015</td>\n",
       "      <td>Shooter</td>\n",
       "      <td>6.03</td>\n",
       "      <td>5.86</td>\n",
       "      <td>0.36</td>\n",
       "      <td>2.38</td>\n",
       "      <td>NaN</td>\n",
       "      <td>NaN</td>\n",
       "      <td>unknown</td>\n",
       "      <td>14.63</td>\n",
       "    </tr>\n",
       "    <tr>\n",
       "      <th>33</th>\n",
       "      <td>Pokemon X/Pokemon Y</td>\n",
       "      <td>3DS</td>\n",
       "      <td>2013</td>\n",
       "      <td>Role-Playing</td>\n",
       "      <td>5.28</td>\n",
       "      <td>4.19</td>\n",
       "      <td>4.35</td>\n",
       "      <td>0.78</td>\n",
       "      <td>NaN</td>\n",
       "      <td>NaN</td>\n",
       "      <td>unknown</td>\n",
       "      <td>14.60</td>\n",
       "    </tr>\n",
       "    <tr>\n",
       "      <th>35</th>\n",
       "      <td>Call of Duty: Black Ops II</td>\n",
       "      <td>X360</td>\n",
       "      <td>2012</td>\n",
       "      <td>Shooter</td>\n",
       "      <td>8.25</td>\n",
       "      <td>4.24</td>\n",
       "      <td>0.07</td>\n",
       "      <td>1.12</td>\n",
       "      <td>83.0</td>\n",
       "      <td>4.8</td>\n",
       "      <td>M</td>\n",
       "      <td>13.68</td>\n",
       "    </tr>\n",
       "    <tr>\n",
       "      <th>42</th>\n",
       "      <td>Grand Theft Auto V</td>\n",
       "      <td>PS4</td>\n",
       "      <td>2014</td>\n",
       "      <td>Action</td>\n",
       "      <td>3.96</td>\n",
       "      <td>6.31</td>\n",
       "      <td>0.38</td>\n",
       "      <td>1.97</td>\n",
       "      <td>97.0</td>\n",
       "      <td>8.3</td>\n",
       "      <td>M</td>\n",
       "      <td>12.62</td>\n",
       "    </tr>\n",
       "  </tbody>\n",
       "</table>\n",
       "</div>"
      ],
      "text/plain": [
       "                          name platform  year_of_release         genre  \\\n",
       "23          Grand Theft Auto V     X360             2013        Action   \n",
       "31   Call of Duty: Black Ops 3      PS4             2015       Shooter   \n",
       "33         Pokemon X/Pokemon Y      3DS             2013  Role-Playing   \n",
       "35  Call of Duty: Black Ops II     X360             2012       Shooter   \n",
       "42          Grand Theft Auto V      PS4             2014        Action   \n",
       "\n",
       "    na_sales  eu_sales  jp_sales  other_sales  critic_score  user_score  \\\n",
       "23      9.66      5.14      0.06         1.41          97.0         8.1   \n",
       "31      6.03      5.86      0.36         2.38           NaN         NaN   \n",
       "33      5.28      4.19      4.35         0.78           NaN         NaN   \n",
       "35      8.25      4.24      0.07         1.12          83.0         4.8   \n",
       "42      3.96      6.31      0.38         1.97          97.0         8.3   \n",
       "\n",
       "     rating  total_pay  \n",
       "23        M      16.27  \n",
       "31  unknown      14.63  \n",
       "33  unknown      14.60  \n",
       "35        M      13.68  \n",
       "42        M      12.62  "
      ]
     },
     "execution_count": 31,
     "metadata": {},
     "output_type": "execute_result"
    }
   ],
   "source": [
    "df=df[df['year_of_release']> 2011]\n",
    "df.head(10).head()"
   ]
  },
  {
   "cell_type": "code",
   "execution_count": 32,
   "metadata": {},
   "outputs": [
    {
     "data": {
      "text/plain": [
       "array(['X360', 'PS4', '3DS', 'DS', 'XOne', 'WiiU', 'Wii', 'PC', 'PSV',\n",
       "       'PSP'], dtype=object)"
      ]
     },
     "execution_count": 32,
     "metadata": {},
     "output_type": "execute_result"
    }
   ],
   "source": [
    "df['platform'].unique() #смотрим уникальные значения названий платформ за выбранный период"
   ]
  },
  {
   "cell_type": "code",
   "execution_count": 33,
   "metadata": {},
   "outputs": [
    {
     "data": {
      "text/html": [
       "<div>\n",
       "<style scoped>\n",
       "    .dataframe tbody tr th:only-of-type {\n",
       "        vertical-align: middle;\n",
       "    }\n",
       "\n",
       "    .dataframe tbody tr th {\n",
       "        vertical-align: top;\n",
       "    }\n",
       "\n",
       "    .dataframe thead th {\n",
       "        text-align: right;\n",
       "    }\n",
       "</style>\n",
       "<table border=\"1\" class=\"dataframe\">\n",
       "  <thead>\n",
       "    <tr style=\"text-align: right;\">\n",
       "      <th></th>\n",
       "      <th>platform</th>\n",
       "      <th>year_of_release</th>\n",
       "      <th>total_pay</th>\n",
       "    </tr>\n",
       "  </thead>\n",
       "  <tbody>\n",
       "    <tr>\n",
       "      <th>0</th>\n",
       "      <td>3DS</td>\n",
       "      <td>2012</td>\n",
       "      <td>44.95</td>\n",
       "    </tr>\n",
       "    <tr>\n",
       "      <th>1</th>\n",
       "      <td>3DS</td>\n",
       "      <td>2013</td>\n",
       "      <td>45.26</td>\n",
       "    </tr>\n",
       "    <tr>\n",
       "      <th>2</th>\n",
       "      <td>3DS</td>\n",
       "      <td>2014</td>\n",
       "      <td>36.55</td>\n",
       "    </tr>\n",
       "    <tr>\n",
       "      <th>3</th>\n",
       "      <td>3DS</td>\n",
       "      <td>2015</td>\n",
       "      <td>19.85</td>\n",
       "    </tr>\n",
       "    <tr>\n",
       "      <th>4</th>\n",
       "      <td>3DS</td>\n",
       "      <td>2016</td>\n",
       "      <td>10.73</td>\n",
       "    </tr>\n",
       "  </tbody>\n",
       "</table>\n",
       "</div>"
      ],
      "text/plain": [
       "  platform  year_of_release  total_pay\n",
       "0      3DS             2012      44.95\n",
       "1      3DS             2013      45.26\n",
       "2      3DS             2014      36.55\n",
       "3      3DS             2015      19.85\n",
       "4      3DS             2016      10.73"
      ]
     },
     "execution_count": 33,
     "metadata": {},
     "output_type": "execute_result"
    }
   ],
   "source": [
    "platform_sales = df.pivot_table(index=['platform','year_of_release'], values='total_pay' , aggfunc='sum').sort_values(by=['platform','year_of_release'], ascending=True)\n",
    "platform_sales.reset_index().head()"
   ]
  },
  {
   "cell_type": "markdown",
   "metadata": {},
   "source": [
    "По рассчитанным данным построим график инамика продаж по платформам 2012-2016:"
   ]
  },
  {
   "cell_type": "code",
   "execution_count": 34,
   "metadata": {},
   "outputs": [
    {
     "data": {
      "image/png": "[encoded data removed]",
      "text/plain": [
       "<Figure size 1080x432 with 1 Axes>"
      ]
     },
     "metadata": {
      "needs_background": "light"
     },
     "output_type": "display_data"
    }
   ],
   "source": [
    "platform_sales = (df.pivot_table(index=['platform','year_of_release'], values='total_pay' , aggfunc='sum')\n",
    "                  .unstack('platform').reset_index()\n",
    "                  )\n",
    "\n",
    "plt.figure(figsize=(15,6))\n",
    "Years =  platform_sales['year_of_release']\n",
    "\n",
    "consol = df['platform'].unique()\n",
    "\n",
    "for x in consol:\n",
    "    y = platform_sales['total_pay'][x]\n",
    "    plt.plot(Years, y, '-o', label= x)\n",
    "\n",
    "plt.grid()\n",
    "plt.legend()\n",
    "plt.title(\"Динамика продаж по платформам 2012-2016\")\n",
    "plt.xlabel('Год')\n",
    "plt.ylabel('Проданные копии, млн')\n",
    "plt.show()"
   ]
  },
  {
   "cell_type": "markdown",
   "metadata": {},
   "source": [
    "**Вывод:** из графиков видим, что за 2015 год наблюдается спад продаж по всем платформам. При этом лидирами по продажам являются платформы: PS4, XOne, 3DS.\n",
    "\n",
    "Платформы PS4, XOne можно считать самыми перспективными, т.к. из жизненного цикла платформы в 9-11 лет эти платформы прошли только по 3 года и с конца 2013 года начали лидировать по продажам и продолжили рост в 2014 году, тогда как по другим наблюдался спад и в 2015 при общем спаде на рынке, остались лидерами с большим отрывом."
   ]
  },
  {
   "cell_type": "markdown",
   "metadata": {},
   "source": [
    "#### Диаграмма размаха"
   ]
  },
  {
   "cell_type": "markdown",
   "metadata": {},
   "source": [
    "Построим график «ящик с усами» по глобальным продажам игр в разбивке по платформам:"
   ]
  },
  {
   "cell_type": "code",
   "execution_count": 78,
   "metadata": {
    "scrolled": false
   },
   "outputs": [
    {
     "data": {
      "text/plain": [
       "(0.0, 6.0)"
      ]
     },
     "execution_count": 78,
     "metadata": {},
     "output_type": "execute_result"
    },
    {
     "data": {
      "image/png": "[encoded data removed]",
      "text/plain": [
       "<Figure size 1080x2160 with 1 Axes>"
      ]
     },
     "metadata": {
      "needs_background": "light"
     },
     "output_type": "display_data"
    }
   ],
   "source": [
    "df.boxplot(column='total_pay', by='platform', figsize=(15,30))\n",
    "\n",
    "plt.ylim([0, 6]) # масштабирование графика с помощью ограничения оси параметром ylim"
   ]
  },
  {
   "cell_type": "markdown",
   "metadata": {},
   "source": [
    "**Вывод:** по диаграмме размаха видим, нормальное распределение находится примерно в пределах 0,5-2 млн. копий по платформам, при этом значительное количество продаж выходит за пределы нормального распределения (за размах усов) и находится в приделах 0,5-5 мнл. копий по различным платформам."
   ]
  },
  {
   "cell_type": "markdown",
   "metadata": {},
   "source": [
    "Над \"усами\" графиков, в пределах которых расположены нормальные значения, находится значительно количество точек, обозначающих выбросы, т.е. значения 'total_pay' (суммарные продажи), которые выделяются из общей выборки. Для наших данных выбросы дают игры, лидирующие по продажам по каждой из платформ.\n",
    "\n",
    "То есть можем сказать, что выбросы это какие-то популярные игры.Посмотрим, например на 3DS. Маленький ящик и много выбросов. Это говорит о том, что большАя часть объема продаж делается за счет этих выбросов. В то же время у XOne ситуация другая: большой бокс, длинный ус и мало выбросов. Это свидетельствует о том, что на XOne покупают самые разные игры, причем, в немалом количестве. "
   ]
  },
  {
   "cell_type": "markdown",
   "metadata": {},
   "source": [
    "#### Зависимость продаж от отзывов"
   ]
  },
  {
   "cell_type": "markdown",
   "metadata": {},
   "source": [
    "Отфильтруем нули в оценках, ведь они влияют на коэфф-т."
   ]
  },
  {
   "cell_type": "code",
   "execution_count": 38,
   "metadata": {},
   "outputs": [
    {
     "data": {
      "text/plain": [
       "0"
      ]
     },
     "execution_count": 38,
     "metadata": {},
     "output_type": "execute_result"
    }
   ],
   "source": [
    "len(df[df['critic_score']==0])"
   ]
  },
  {
   "cell_type": "code",
   "execution_count": 39,
   "metadata": {},
   "outputs": [
    {
     "data": {
      "text/plain": [
       "59"
      ]
     },
     "execution_count": 39,
     "metadata": {},
     "output_type": "execute_result"
    }
   ],
   "source": [
    "len(df[df['user_score']==0])"
   ]
  },
  {
   "cell_type": "code",
   "execution_count": 40,
   "metadata": {},
   "outputs": [],
   "source": [
    "df_1=df[df['user_score']!=0].reset_index()"
   ]
  },
  {
   "cell_type": "markdown",
   "metadata": {},
   "source": [
    "Рассмотрим, как влияют на продажи отзывы пользователей и критиков на примере платформы PS4. "
   ]
  },
  {
   "cell_type": "code",
   "execution_count": 41,
   "metadata": {},
   "outputs": [],
   "source": [
    "PS4 = df[df['platform']=='PS4']"
   ]
  },
  {
   "cell_type": "markdown",
   "metadata": {},
   "source": [
    "Построим диаграммs рассеяния для зависимости продаж на платформе PS4 от оценки критиков и пользователей :"
   ]
  },
  {
   "cell_type": "code",
   "execution_count": 79,
   "metadata": {},
   "outputs": [
    {
     "data": {
      "image/png": "[encoded data removed]",
      "text/plain": [
       "<Figure size 432x288 with 1 Axes>"
      ]
     },
     "metadata": {
      "needs_background": "light"
     },
     "output_type": "display_data"
    },
    {
     "data": {
      "image/png": "[encoded data removed]",
      "text/plain": [
       "<Figure size 432x288 with 1 Axes>"
      ]
     },
     "metadata": {
      "needs_background": "light"
     },
     "output_type": "display_data"
    }
   ],
   "source": [
    "PS4.plot(title = 'Зависимость продаж на PS4 от оценки критиков', x='total_pay', y = 'critic_score', kind = 'scatter', grid = True)\n",
    "PS4.plot(title = 'Зависимость продаж на PS4 от оценки пользователей', x='total_pay', y = 'user_score', kind = 'scatter', grid = True)\n",
    "plt.show()"
   ]
  },
  {
   "cell_type": "code",
   "execution_count": 43,
   "metadata": {},
   "outputs": [
    {
     "name": "stdout",
     "output_type": "stream",
     "text": [
      "Коэффициент корреляции продаж от оценок критиков для платформы PS4: 0.4117238309202437\n",
      "Коэффициент корреляции продаж от оценок пользователей для платформы PS4: 0.033886990695734455\n"
     ]
    }
   ],
   "source": [
    "print('Коэффициент корреляции продаж от оценок критиков для платформы PS4:', PS4['total_pay'].corr(PS4['critic_score'])) \n",
    "print('Коэффициент корреляции продаж от оценок пользователей для платформы PS4:',PS4['total_pay'].corr(PS4['user_score'])) "
   ]
  },
  {
   "cell_type": "markdown",
   "metadata": {},
   "source": [
    "Коэффициент корреляции продаж от оценок пользователей для платформы PS4:"
   ]
  },
  {
   "cell_type": "code",
   "execution_count": 44,
   "metadata": {},
   "outputs": [
    {
     "name": "stdout",
     "output_type": "stream",
     "text": [
      "Коэффициент корреляции продаж от оценок пользователей для платформы PS4: 0.033886990695734455\n"
     ]
    }
   ],
   "source": [
    "print('Коэффициент корреляции продаж от оценок пользователей для платформы PS4:',PS4['total_pay'].corr(PS4['user_score'])) "
   ]
  },
  {
   "cell_type": "markdown",
   "metadata": {},
   "source": [
    "По графикам и результатам рассчётов коэффециентов корреляции видим, что отзывы критиков имеют прямое влияние на продажи по платформе PS4. Влияние оценки пользователей по имеющимся данным практически отсутсвтует. "
   ]
  },
  {
   "cell_type": "markdown",
   "metadata": {},
   "source": [
    "Посмотрим, как обстоят дела с остальными платформами, лидирующими по продажам за последние 3 года: XOne, 3DS"
   ]
  },
  {
   "cell_type": "code",
   "execution_count": 45,
   "metadata": {},
   "outputs": [],
   "source": [
    "XOne = df[df['platform']=='XOne']"
   ]
  },
  {
   "cell_type": "code",
   "execution_count": 80,
   "metadata": {},
   "outputs": [
    {
     "data": {
      "image/png": "[encoded data removed]",
      "text/plain": [
       "<Figure size 432x288 with 1 Axes>"
      ]
     },
     "metadata": {
      "needs_background": "light"
     },
     "output_type": "display_data"
    },
    {
     "data": {
      "image/png": "[encoded data removed]",
      "text/plain": [
       "<Figure size 432x288 with 1 Axes>"
      ]
     },
     "metadata": {
      "needs_background": "light"
     },
     "output_type": "display_data"
    }
   ],
   "source": [
    "XOne.plot(title = 'Зависимость продаж на XOne от оценки критиков', x='total_pay', y = 'critic_score', kind = 'scatter', grid = True)\n",
    "XOne.plot(title = 'Зависимость продаж на XOne от оценки пользователей', x='total_pay', y = 'user_score', kind = 'scatter', grid = True)\n",
    "plt.show()"
   ]
  },
  {
   "cell_type": "code",
   "execution_count": 47,
   "metadata": {},
   "outputs": [
    {
     "name": "stdout",
     "output_type": "stream",
     "text": [
      "Коэффициент корреляции продаж от оценок критиков для платформы XOne: 0.4112189411751006\n",
      "Коэффициент корреляции продаж от оценок пользователей для платформы XOne: 0.0942573780554114\n"
     ]
    }
   ],
   "source": [
    "print('Коэффициент корреляции продаж от оценок критиков для платформы XOne:', XOne['total_pay'].corr(XOne['critic_score'])) \n",
    "print('Коэффициент корреляции продаж от оценок пользователей для платформы XOne:',XOne['total_pay'].corr(XOne['user_score'])) "
   ]
  },
  {
   "cell_type": "markdown",
   "metadata": {},
   "source": [
    "Для платформы XOne значения влияния оценок критиков и пользователей чуть меньше чем у PS4, но в целом ситуация схожая."
   ]
  },
  {
   "cell_type": "code",
   "execution_count": 48,
   "metadata": {},
   "outputs": [],
   "source": [
    " Tr_DS = df[df['platform']=='3DS']"
   ]
  },
  {
   "cell_type": "code",
   "execution_count": 81,
   "metadata": {},
   "outputs": [
    {
     "data": {
      "image/png": "[encoded data removed]",
      "text/plain": [
       "<Figure size 432x288 with 1 Axes>"
      ]
     },
     "metadata": {
      "needs_background": "light"
     },
     "output_type": "display_data"
    },
    {
     "data": {
      "image/png": "[encoded data removed]",
      "text/plain": [
       "<Figure size 432x288 with 1 Axes>"
      ]
     },
     "metadata": {
      "needs_background": "light"
     },
     "output_type": "display_data"
    }
   ],
   "source": [
    "Tr_DS.plot(title = 'Зависимость продаж на 3DS от оценки критиков', x='total_pay', y = 'critic_score', kind = 'scatter', grid = True)\n",
    "Tr_DS.plot(title = 'Зависимость продаж на 3DS от оценки пользователей', x='total_pay', y = 'user_score', kind = 'scatter', grid = True)\n",
    "plt.show()"
   ]
  },
  {
   "cell_type": "code",
   "execution_count": 50,
   "metadata": {},
   "outputs": [
    {
     "name": "stdout",
     "output_type": "stream",
     "text": [
      "Коэффициент корреляции продаж от оценок критиков для платформы 3DS: 0.3209370625183588\n",
      "Коэффициент корреляции продаж от оценок пользователей для платформы 3DS: 0.2572112605725825\n"
     ]
    }
   ],
   "source": [
    "print('Коэффициент корреляции продаж от оценок критиков для платформы 3DS:', Tr_DS['total_pay'].corr(Tr_DS['critic_score'])) \n",
    "print('Коэффициент корреляции продаж от оценок пользователей для платформы 3DS:', Tr_DS['total_pay'].corr(Tr_DS['user_score'])) "
   ]
  },
  {
   "cell_type": "markdown",
   "metadata": {},
   "source": [
    "Для платформы 3DS влияние оценок критиков также чуть меньше, чем у PS4, а вот оценки пользователей никакого влияния не оказывают."
   ]
  },
  {
   "cell_type": "markdown",
   "metadata": {},
   "source": [
    "**Вывод:** по графикам и результатам рассчётов коэффециентов корреляции видим, что для платформ Тор-3 по продажам (за актуальный период) есть небольшая зависимость продаж от оценок критиков, при этом она не является определяющей. Влияние оценок пользователей отсутсвует."
   ]
  },
  {
   "cell_type": "markdown",
   "metadata": {},
   "source": [
    "#### Зависимость продаж от жанров"
   ]
  },
  {
   "cell_type": "markdown",
   "metadata": {},
   "source": [
    "Посчитаем количество игр по каждому жанру, для этого выделим из таблицы df столбцы 'name', 'genre' и удалим дубликаты, чтобы избавиться от повторов, когда одно и то же сочетание игра повторяется на нескольких платформах: "
   ]
  },
  {
   "cell_type": "code",
   "execution_count": 83,
   "metadata": {},
   "outputs": [
    {
     "name": "stdout",
     "output_type": "stream",
     "text": [
      "Кол-во уникальных игр по всем жанрам: 772\n"
     ]
    }
   ],
   "source": [
    "uique_genres_game = df[['name', 'genre']].drop_duplicates()\n",
    "print('Кол-во уникальных игр по всем жанрам:', len(uique_genres_game))"
   ]
  },
  {
   "cell_type": "code",
   "execution_count": 52,
   "metadata": {},
   "outputs": [
    {
     "data": {
      "text/html": [
       "<div>\n",
       "<style scoped>\n",
       "    .dataframe tbody tr th:only-of-type {\n",
       "        vertical-align: middle;\n",
       "    }\n",
       "\n",
       "    .dataframe tbody tr th {\n",
       "        vertical-align: top;\n",
       "    }\n",
       "\n",
       "    .dataframe thead th {\n",
       "        text-align: right;\n",
       "    }\n",
       "</style>\n",
       "<table border=\"1\" class=\"dataframe\">\n",
       "  <thead>\n",
       "    <tr style=\"text-align: right;\">\n",
       "      <th></th>\n",
       "      <th>genre</th>\n",
       "      <th>amount</th>\n",
       "    </tr>\n",
       "  </thead>\n",
       "  <tbody>\n",
       "    <tr>\n",
       "      <th>0</th>\n",
       "      <td>Action</td>\n",
       "      <td>247</td>\n",
       "    </tr>\n",
       "    <tr>\n",
       "      <th>1</th>\n",
       "      <td>Role-Playing</td>\n",
       "      <td>120</td>\n",
       "    </tr>\n",
       "    <tr>\n",
       "      <th>2</th>\n",
       "      <td>Shooter</td>\n",
       "      <td>83</td>\n",
       "    </tr>\n",
       "    <tr>\n",
       "      <th>3</th>\n",
       "      <td>Sports</td>\n",
       "      <td>66</td>\n",
       "    </tr>\n",
       "    <tr>\n",
       "      <th>4</th>\n",
       "      <td>Misc</td>\n",
       "      <td>54</td>\n",
       "    </tr>\n",
       "    <tr>\n",
       "      <th>5</th>\n",
       "      <td>Fighting</td>\n",
       "      <td>40</td>\n",
       "    </tr>\n",
       "    <tr>\n",
       "      <th>6</th>\n",
       "      <td>Racing</td>\n",
       "      <td>39</td>\n",
       "    </tr>\n",
       "    <tr>\n",
       "      <th>7</th>\n",
       "      <td>Adventure</td>\n",
       "      <td>38</td>\n",
       "    </tr>\n",
       "    <tr>\n",
       "      <th>8</th>\n",
       "      <td>Platform</td>\n",
       "      <td>37</td>\n",
       "    </tr>\n",
       "    <tr>\n",
       "      <th>9</th>\n",
       "      <td>Simulation</td>\n",
       "      <td>23</td>\n",
       "    </tr>\n",
       "    <tr>\n",
       "      <th>10</th>\n",
       "      <td>Strategy</td>\n",
       "      <td>18</td>\n",
       "    </tr>\n",
       "    <tr>\n",
       "      <th>11</th>\n",
       "      <td>Puzzle</td>\n",
       "      <td>7</td>\n",
       "    </tr>\n",
       "  </tbody>\n",
       "</table>\n",
       "</div>"
      ],
      "text/plain": [
       "           genre  amount\n",
       "0         Action     247\n",
       "1   Role-Playing     120\n",
       "2        Shooter      83\n",
       "3         Sports      66\n",
       "4           Misc      54\n",
       "5       Fighting      40\n",
       "6         Racing      39\n",
       "7      Adventure      38\n",
       "8       Platform      37\n",
       "9     Simulation      23\n",
       "10      Strategy      18\n",
       "11        Puzzle       7"
      ]
     },
     "execution_count": 52,
     "metadata": {},
     "output_type": "execute_result"
    }
   ],
   "source": [
    "genres_game =uique_genres_game.groupby('genre')['name'].count().sort_values(ascending=False).reset_index()\n",
    "genres_game.columns=['genre','amount']\n",
    "genres_game "
   ]
  },
  {
   "cell_type": "code",
   "execution_count": 53,
   "metadata": {},
   "outputs": [
    {
     "data": {
      "image/png": "[encoded data removed]",
      "text/plain": [
       "<Figure size 1080x720 with 1 Axes>"
      ]
     },
     "metadata": {
      "needs_background": "light"
     },
     "output_type": "display_data"
    }
   ],
   "source": [
    "plt.figure(figsize=(15,10))\n",
    "\n",
    "sns.barplot(x='genre', y='amount', data=genres_game) \n",
    "\n",
    "plt.grid()\n",
    "plt.title('Количество игр по различным жанрам, ед')\n",
    "plt.xlabel('Жанр')\n",
    "plt.ylabel('Количество игр,ед')\n",
    "plt.show()"
   ]
  },
  {
   "cell_type": "markdown",
   "metadata": {},
   "source": [
    "Видим, что в Top-5 жанров по количеству игр входят: Action, Sports, Misc, Shooter, Role-Playing.\n",
    "С не вошел в Тор-5 жанр Racing, при этом по количеству игр он имеет минимальное отставание от жанра Role-Playing."
   ]
  },
  {
   "cell_type": "markdown",
   "metadata": {},
   "source": [
    "Теперь посчитаем суммарные продажи млн. копий по каждому жанру:"
   ]
  },
  {
   "cell_type": "code",
   "execution_count": 54,
   "metadata": {},
   "outputs": [
    {
     "data": {
      "text/html": [
       "<div>\n",
       "<style scoped>\n",
       "    .dataframe tbody tr th:only-of-type {\n",
       "        vertical-align: middle;\n",
       "    }\n",
       "\n",
       "    .dataframe tbody tr th {\n",
       "        vertical-align: top;\n",
       "    }\n",
       "\n",
       "    .dataframe thead th {\n",
       "        text-align: right;\n",
       "    }\n",
       "</style>\n",
       "<table border=\"1\" class=\"dataframe\">\n",
       "  <thead>\n",
       "    <tr style=\"text-align: right;\">\n",
       "      <th></th>\n",
       "      <th>genre</th>\n",
       "      <th>total_pay</th>\n",
       "    </tr>\n",
       "  </thead>\n",
       "  <tbody>\n",
       "    <tr>\n",
       "      <th>0</th>\n",
       "      <td>Action</td>\n",
       "      <td>298.26</td>\n",
       "    </tr>\n",
       "    <tr>\n",
       "      <th>1</th>\n",
       "      <td>Shooter</td>\n",
       "      <td>243.23</td>\n",
       "    </tr>\n",
       "    <tr>\n",
       "      <th>2</th>\n",
       "      <td>Role-Playing</td>\n",
       "      <td>145.38</td>\n",
       "    </tr>\n",
       "    <tr>\n",
       "      <th>3</th>\n",
       "      <td>Sports</td>\n",
       "      <td>124.86</td>\n",
       "    </tr>\n",
       "    <tr>\n",
       "      <th>4</th>\n",
       "      <td>Misc</td>\n",
       "      <td>69.37</td>\n",
       "    </tr>\n",
       "    <tr>\n",
       "      <th>5</th>\n",
       "      <td>Platform</td>\n",
       "      <td>56.28</td>\n",
       "    </tr>\n",
       "    <tr>\n",
       "      <th>6</th>\n",
       "      <td>Racing</td>\n",
       "      <td>40.54</td>\n",
       "    </tr>\n",
       "    <tr>\n",
       "      <th>7</th>\n",
       "      <td>Fighting</td>\n",
       "      <td>31.84</td>\n",
       "    </tr>\n",
       "    <tr>\n",
       "      <th>8</th>\n",
       "      <td>Simulation</td>\n",
       "      <td>29.32</td>\n",
       "    </tr>\n",
       "    <tr>\n",
       "      <th>9</th>\n",
       "      <td>Adventure</td>\n",
       "      <td>15.97</td>\n",
       "    </tr>\n",
       "    <tr>\n",
       "      <th>10</th>\n",
       "      <td>Strategy</td>\n",
       "      <td>9.35</td>\n",
       "    </tr>\n",
       "    <tr>\n",
       "      <th>11</th>\n",
       "      <td>Puzzle</td>\n",
       "      <td>2.85</td>\n",
       "    </tr>\n",
       "  </tbody>\n",
       "</table>\n",
       "</div>"
      ],
      "text/plain": [
       "           genre  total_pay\n",
       "0         Action     298.26\n",
       "1        Shooter     243.23\n",
       "2   Role-Playing     145.38\n",
       "3         Sports     124.86\n",
       "4           Misc      69.37\n",
       "5       Platform      56.28\n",
       "6         Racing      40.54\n",
       "7       Fighting      31.84\n",
       "8     Simulation      29.32\n",
       "9      Adventure      15.97\n",
       "10      Strategy       9.35\n",
       "11        Puzzle       2.85"
      ]
     },
     "execution_count": 54,
     "metadata": {},
     "output_type": "execute_result"
    }
   ],
   "source": [
    "genres_sale=df.groupby('genre')['total_pay'].sum().sort_values(ascending=False).reset_index()\n",
    "genres_sale.columns=['genre','total_pay']\n",
    "genres_sale"
   ]
  },
  {
   "cell_type": "code",
   "execution_count": 55,
   "metadata": {},
   "outputs": [
    {
     "data": {
      "image/png": "[encoded data removed]",
      "text/plain": [
       "<Figure size 1080x720 with 1 Axes>"
      ]
     },
     "metadata": {
      "needs_background": "light"
     },
     "output_type": "display_data"
    }
   ],
   "source": [
    "plt.figure(figsize=(15,10))\n",
    "\n",
    "sns.barplot(x='genre', y='total_pay', data=genres_sale) \n",
    "\n",
    "plt.grid()\n",
    "plt.title('Суммарные продажи по различным жанрам, млн.копий')\n",
    "plt.xlabel('Жанр')\n",
    "plt.ylabel('Объем продаж, млн копий')\n",
    "plt.show()"
   ]
  },
  {
   "cell_type": "markdown",
   "metadata": {},
   "source": [
    "Видим, что к Top-5 самых **продаваемых** жанров относятся: Action, Sports, Shooter, Platform, Role-Playing. \n",
    "Таким образом, вошедщий в Top-5 по количеству игр жанр Misc - не вошёл в Top-5 самых продаваемых жанров и оказался на 6-ом месте по продажам. Что означает, что большое количество игр в жанре не всегда определяет успешность по объемам продаж. Но в целом, зависимость между количеством игр в жанре и объёмом продаж практически прямая, что подтверждает коэффициент корреляции:"
   ]
  },
  {
   "cell_type": "code",
   "execution_count": 56,
   "metadata": {},
   "outputs": [
    {
     "name": "stdout",
     "output_type": "stream",
     "text": [
      "0.941469294006578\n"
     ]
    }
   ],
   "source": [
    "print(genres_game['amount'].corr(genres_sale['total_pay'])) "
   ]
  },
  {
   "cell_type": "markdown",
   "metadata": {},
   "source": [
    "В Top-5 жанров с самыми низкими продажами входят: Simulation, Fighting, Adventure, Puzzle, Strategy."
   ]
  },
  {
   "cell_type": "code",
   "execution_count": 57,
   "metadata": {},
   "outputs": [
    {
     "data": {
      "text/html": [
       "<div>\n",
       "<style scoped>\n",
       "    .dataframe tbody tr th:only-of-type {\n",
       "        vertical-align: middle;\n",
       "    }\n",
       "\n",
       "    .dataframe tbody tr th {\n",
       "        vertical-align: top;\n",
       "    }\n",
       "\n",
       "    .dataframe thead th {\n",
       "        text-align: right;\n",
       "    }\n",
       "</style>\n",
       "<table border=\"1\" class=\"dataframe\">\n",
       "  <thead>\n",
       "    <tr style=\"text-align: right;\">\n",
       "      <th></th>\n",
       "      <th>genre</th>\n",
       "      <th>median_total_pay</th>\n",
       "    </tr>\n",
       "  </thead>\n",
       "  <tbody>\n",
       "    <tr>\n",
       "      <th>0</th>\n",
       "      <td>Shooter</td>\n",
       "      <td>0.570</td>\n",
       "    </tr>\n",
       "    <tr>\n",
       "      <th>1</th>\n",
       "      <td>Sports</td>\n",
       "      <td>0.480</td>\n",
       "    </tr>\n",
       "    <tr>\n",
       "      <th>2</th>\n",
       "      <td>Role-Playing</td>\n",
       "      <td>0.340</td>\n",
       "    </tr>\n",
       "    <tr>\n",
       "      <th>3</th>\n",
       "      <td>Misc</td>\n",
       "      <td>0.315</td>\n",
       "    </tr>\n",
       "    <tr>\n",
       "      <th>4</th>\n",
       "      <td>Racing</td>\n",
       "      <td>0.270</td>\n",
       "    </tr>\n",
       "    <tr>\n",
       "      <th>5</th>\n",
       "      <td>Action</td>\n",
       "      <td>0.255</td>\n",
       "    </tr>\n",
       "    <tr>\n",
       "      <th>6</th>\n",
       "      <td>Platform</td>\n",
       "      <td>0.255</td>\n",
       "    </tr>\n",
       "    <tr>\n",
       "      <th>7</th>\n",
       "      <td>Strategy</td>\n",
       "      <td>0.240</td>\n",
       "    </tr>\n",
       "    <tr>\n",
       "      <th>8</th>\n",
       "      <td>Simulation</td>\n",
       "      <td>0.205</td>\n",
       "    </tr>\n",
       "    <tr>\n",
       "      <th>9</th>\n",
       "      <td>Fighting</td>\n",
       "      <td>0.195</td>\n",
       "    </tr>\n",
       "    <tr>\n",
       "      <th>10</th>\n",
       "      <td>Adventure</td>\n",
       "      <td>0.100</td>\n",
       "    </tr>\n",
       "    <tr>\n",
       "      <th>11</th>\n",
       "      <td>Puzzle</td>\n",
       "      <td>0.100</td>\n",
       "    </tr>\n",
       "  </tbody>\n",
       "</table>\n",
       "</div>"
      ],
      "text/plain": [
       "           genre  median_total_pay\n",
       "0        Shooter             0.570\n",
       "1         Sports             0.480\n",
       "2   Role-Playing             0.340\n",
       "3           Misc             0.315\n",
       "4         Racing             0.270\n",
       "5         Action             0.255\n",
       "6       Platform             0.255\n",
       "7       Strategy             0.240\n",
       "8     Simulation             0.205\n",
       "9       Fighting             0.195\n",
       "10     Adventure             0.100\n",
       "11        Puzzle             0.100"
      ]
     },
     "execution_count": 57,
     "metadata": {},
     "output_type": "execute_result"
    }
   ],
   "source": [
    "df=df[df['genre'] !='unknown'] \n",
    "median_genres_sale=df.groupby('genre')['total_pay'].median().sort_values(ascending=False).reset_index()\n",
    "median_genres_sale.columns=['genre','median_total_pay']\n",
    "median_genres_sale"
   ]
  },
  {
   "cell_type": "code",
   "execution_count": 58,
   "metadata": {},
   "outputs": [
    {
     "data": {
      "image/png": "[encoded data removed]",
      "text/plain": [
       "<Figure size 1080x720 with 1 Axes>"
      ]
     },
     "metadata": {
      "needs_background": "light"
     },
     "output_type": "display_data"
    }
   ],
   "source": [
    "plt.figure(figsize=(15,10))\n",
    "\n",
    "sns.barplot(x='genre', y='median_total_pay', data=median_genres_sale) \n",
    "\n",
    "plt.grid()\n",
    "plt.title('Медианные продажи по различным жанрам в расчете на единицу игры, млн.копий')\n",
    "plt.xlabel('Жанр')\n",
    "plt.ylabel('Медианный объем продаж, млн копий на ед. игры')\n",
    "plt.show()"
   ]
  },
  {
   "cell_type": "markdown",
   "metadata": {},
   "source": [
    "**Вывод:** при рассчёте продаж на еденицу игры из пятёрки лидеров выбыл жанр Action, который был первым по абсолютным показателям продаж, но зато пятёрку лидеров по продажам при рассчёте на единицу игры добавился жанр Platform.И внутри пятёрки жанры поменялись местами.\n",
    "\n",
    "Теперь экшн не такой популярный. Это нам говорит о том, что у этого жанра очень много игр, которые мало покупают. А вот у шутера гораздо больше игр покупают в большом количестве."
   ]
  },
  {
   "cell_type": "markdown",
   "metadata": {},
   "source": [
    "<a id=3></a> \n",
    "### Глава 3 Портрет пользователя каждого региона"
   ]
  },
  {
   "cell_type": "markdown",
   "metadata": {},
   "source": [
    "#### Топ-5 популярных платформ "
   ]
  },
  {
   "cell_type": "markdown",
   "metadata": {},
   "source": [
    "Посмотрим, какие платформы входоят в Тор-5 по продажам по каждому региону:"
   ]
  },
  {
   "cell_type": "code",
   "execution_count": 59,
   "metadata": {},
   "outputs": [
    {
     "data": {
      "text/html": [
       "<div>\n",
       "<style scoped>\n",
       "    .dataframe tbody tr th:only-of-type {\n",
       "        vertical-align: middle;\n",
       "    }\n",
       "\n",
       "    .dataframe tbody tr th {\n",
       "        vertical-align: top;\n",
       "    }\n",
       "\n",
       "    .dataframe thead th {\n",
       "        text-align: right;\n",
       "    }\n",
       "</style>\n",
       "<table border=\"1\" class=\"dataframe\">\n",
       "  <thead>\n",
       "    <tr style=\"text-align: right;\">\n",
       "      <th></th>\n",
       "      <th>platform</th>\n",
       "      <th>na_sales</th>\n",
       "    </tr>\n",
       "  </thead>\n",
       "  <tbody>\n",
       "    <tr>\n",
       "      <th>0</th>\n",
       "      <td>X360</td>\n",
       "      <td>137.52</td>\n",
       "    </tr>\n",
       "    <tr>\n",
       "      <th>1</th>\n",
       "      <td>PS4</td>\n",
       "      <td>108.74</td>\n",
       "    </tr>\n",
       "    <tr>\n",
       "      <th>2</th>\n",
       "      <td>XOne</td>\n",
       "      <td>93.12</td>\n",
       "    </tr>\n",
       "    <tr>\n",
       "      <th>3</th>\n",
       "      <td>3DS</td>\n",
       "      <td>55.31</td>\n",
       "    </tr>\n",
       "    <tr>\n",
       "      <th>4</th>\n",
       "      <td>WiiU</td>\n",
       "      <td>37.89</td>\n",
       "    </tr>\n",
       "  </tbody>\n",
       "</table>\n",
       "</div>"
      ],
      "text/plain": [
       "  platform  na_sales\n",
       "0     X360    137.52\n",
       "1      PS4    108.74\n",
       "2     XOne     93.12\n",
       "3      3DS     55.31\n",
       "4     WiiU     37.89"
      ]
     },
     "metadata": {},
     "output_type": "display_data"
    },
    {
     "data": {
      "text/html": [
       "<div>\n",
       "<style scoped>\n",
       "    .dataframe tbody tr th:only-of-type {\n",
       "        vertical-align: middle;\n",
       "    }\n",
       "\n",
       "    .dataframe tbody tr th {\n",
       "        vertical-align: top;\n",
       "    }\n",
       "\n",
       "    .dataframe thead th {\n",
       "        text-align: right;\n",
       "    }\n",
       "</style>\n",
       "<table border=\"1\" class=\"dataframe\">\n",
       "  <thead>\n",
       "    <tr style=\"text-align: right;\">\n",
       "      <th></th>\n",
       "      <th>platform</th>\n",
       "      <th>eu_sales</th>\n",
       "    </tr>\n",
       "  </thead>\n",
       "  <tbody>\n",
       "    <tr>\n",
       "      <th>0</th>\n",
       "      <td>PS4</td>\n",
       "      <td>138.66</td>\n",
       "    </tr>\n",
       "    <tr>\n",
       "      <th>1</th>\n",
       "      <td>X360</td>\n",
       "      <td>73.87</td>\n",
       "    </tr>\n",
       "    <tr>\n",
       "      <th>2</th>\n",
       "      <td>XOne</td>\n",
       "      <td>51.28</td>\n",
       "    </tr>\n",
       "    <tr>\n",
       "      <th>3</th>\n",
       "      <td>3DS</td>\n",
       "      <td>40.81</td>\n",
       "    </tr>\n",
       "    <tr>\n",
       "      <th>4</th>\n",
       "      <td>PC</td>\n",
       "      <td>28.60</td>\n",
       "    </tr>\n",
       "  </tbody>\n",
       "</table>\n",
       "</div>"
      ],
      "text/plain": [
       "  platform  eu_sales\n",
       "0      PS4    138.66\n",
       "1     X360     73.87\n",
       "2     XOne     51.28\n",
       "3      3DS     40.81\n",
       "4       PC     28.60"
      ]
     },
     "metadata": {},
     "output_type": "display_data"
    },
    {
     "data": {
      "text/html": [
       "<div>\n",
       "<style scoped>\n",
       "    .dataframe tbody tr th:only-of-type {\n",
       "        vertical-align: middle;\n",
       "    }\n",
       "\n",
       "    .dataframe tbody tr th {\n",
       "        vertical-align: top;\n",
       "    }\n",
       "\n",
       "    .dataframe thead th {\n",
       "        text-align: right;\n",
       "    }\n",
       "</style>\n",
       "<table border=\"1\" class=\"dataframe\">\n",
       "  <thead>\n",
       "    <tr style=\"text-align: right;\">\n",
       "      <th></th>\n",
       "      <th>platform</th>\n",
       "      <th>jp_sales</th>\n",
       "    </tr>\n",
       "  </thead>\n",
       "  <tbody>\n",
       "    <tr>\n",
       "      <th>0</th>\n",
       "      <td>3DS</td>\n",
       "      <td>52.42</td>\n",
       "    </tr>\n",
       "    <tr>\n",
       "      <th>1</th>\n",
       "      <td>PS4</td>\n",
       "      <td>12.13</td>\n",
       "    </tr>\n",
       "    <tr>\n",
       "      <th>2</th>\n",
       "      <td>WiiU</td>\n",
       "      <td>11.88</td>\n",
       "    </tr>\n",
       "    <tr>\n",
       "      <th>3</th>\n",
       "      <td>PSV</td>\n",
       "      <td>6.98</td>\n",
       "    </tr>\n",
       "    <tr>\n",
       "      <th>4</th>\n",
       "      <td>DS</td>\n",
       "      <td>3.51</td>\n",
       "    </tr>\n",
       "  </tbody>\n",
       "</table>\n",
       "</div>"
      ],
      "text/plain": [
       "  platform  jp_sales\n",
       "0      3DS     52.42\n",
       "1      PS4     12.13\n",
       "2     WiiU     11.88\n",
       "3      PSV      6.98\n",
       "4       DS      3.51"
      ]
     },
     "metadata": {},
     "output_type": "display_data"
    }
   ],
   "source": [
    "na_sales = df.pivot_table(index=['platform',], values=['na_sales'] , aggfunc='sum').sort_values(by='na_sales',ascending=False).reset_index()              \n",
    "eu_sales = df.pivot_table(index=['platform',], values=['eu_sales'] , aggfunc='sum').sort_values(by='eu_sales',ascending=False).reset_index()              \n",
    "jp_sales = df.pivot_table(index=['platform',], values=['jp_sales'] , aggfunc='sum').sort_values(by='jp_sales',ascending=False).reset_index()              \n",
    "\n",
    "\n",
    "display(na_sales.head())\n",
    "display(eu_sales.head())\n",
    "display(jp_sales.head())"
   ]
  },
  {
   "cell_type": "markdown",
   "metadata": {},
   "source": [
    "Видим, что состав платформ и их позиции в Тор-5 отличаются. Посчитаем в процентном соотношении, насколько отличаются продажи по регионам по каждой платформе:\n",
    "\n",
    "na/eu - отношение продаж в регионе na к продажам в регионе eu;\n",
    "\n",
    "na/jp - отношение продаж в регионе na к продажам в регионе jp;\n",
    "\n",
    "eu/jp - отношение продаж в регионе eu к продажам в регионе jp."
   ]
  },
  {
   "cell_type": "code",
   "execution_count": 60,
   "metadata": {},
   "outputs": [
    {
     "data": {
      "text/html": [
       "<div>\n",
       "<style scoped>\n",
       "    .dataframe tbody tr th:only-of-type {\n",
       "        vertical-align: middle;\n",
       "    }\n",
       "\n",
       "    .dataframe tbody tr th {\n",
       "        vertical-align: top;\n",
       "    }\n",
       "\n",
       "    .dataframe thead th {\n",
       "        text-align: right;\n",
       "    }\n",
       "</style>\n",
       "<table border=\"1\" class=\"dataframe\">\n",
       "  <thead>\n",
       "    <tr style=\"text-align: right;\">\n",
       "      <th></th>\n",
       "      <th>platform</th>\n",
       "      <th>na_sales</th>\n",
       "      <th>eu_sales</th>\n",
       "      <th>jp_sales</th>\n",
       "      <th>na/eu</th>\n",
       "      <th>na/jp</th>\n",
       "      <th>eu/jp</th>\n",
       "    </tr>\n",
       "  </thead>\n",
       "  <tbody>\n",
       "    <tr>\n",
       "      <th>0</th>\n",
       "      <td>X360</td>\n",
       "      <td>137.52</td>\n",
       "      <td>73.87</td>\n",
       "      <td>1.45</td>\n",
       "      <td>1.9</td>\n",
       "      <td>94.8</td>\n",
       "      <td>50.9</td>\n",
       "    </tr>\n",
       "    <tr>\n",
       "      <th>1</th>\n",
       "      <td>PS4</td>\n",
       "      <td>108.74</td>\n",
       "      <td>138.66</td>\n",
       "      <td>12.13</td>\n",
       "      <td>0.8</td>\n",
       "      <td>9.0</td>\n",
       "      <td>11.4</td>\n",
       "    </tr>\n",
       "    <tr>\n",
       "      <th>2</th>\n",
       "      <td>XOne</td>\n",
       "      <td>93.12</td>\n",
       "      <td>51.28</td>\n",
       "      <td>0.33</td>\n",
       "      <td>1.8</td>\n",
       "      <td>282.2</td>\n",
       "      <td>155.4</td>\n",
       "    </tr>\n",
       "    <tr>\n",
       "      <th>3</th>\n",
       "      <td>3DS</td>\n",
       "      <td>55.31</td>\n",
       "      <td>40.81</td>\n",
       "      <td>52.42</td>\n",
       "      <td>1.4</td>\n",
       "      <td>1.1</td>\n",
       "      <td>0.8</td>\n",
       "    </tr>\n",
       "    <tr>\n",
       "      <th>4</th>\n",
       "      <td>WiiU</td>\n",
       "      <td>37.89</td>\n",
       "      <td>24.87</td>\n",
       "      <td>11.88</td>\n",
       "      <td>1.5</td>\n",
       "      <td>3.2</td>\n",
       "      <td>2.1</td>\n",
       "    </tr>\n",
       "    <tr>\n",
       "      <th>5</th>\n",
       "      <td>PC</td>\n",
       "      <td>19.12</td>\n",
       "      <td>28.60</td>\n",
       "      <td>0.00</td>\n",
       "      <td>0.7</td>\n",
       "      <td>inf</td>\n",
       "      <td>inf</td>\n",
       "    </tr>\n",
       "    <tr>\n",
       "      <th>6</th>\n",
       "      <td>Wii</td>\n",
       "      <td>16.98</td>\n",
       "      <td>11.17</td>\n",
       "      <td>1.09</td>\n",
       "      <td>1.5</td>\n",
       "      <td>15.6</td>\n",
       "      <td>10.2</td>\n",
       "    </tr>\n",
       "    <tr>\n",
       "      <th>7</th>\n",
       "      <td>PSV</td>\n",
       "      <td>10.70</td>\n",
       "      <td>10.17</td>\n",
       "      <td>6.98</td>\n",
       "      <td>1.1</td>\n",
       "      <td>1.5</td>\n",
       "      <td>1.5</td>\n",
       "    </tr>\n",
       "    <tr>\n",
       "      <th>8</th>\n",
       "      <td>DS</td>\n",
       "      <td>4.59</td>\n",
       "      <td>2.88</td>\n",
       "      <td>3.51</td>\n",
       "      <td>1.6</td>\n",
       "      <td>1.3</td>\n",
       "      <td>0.8</td>\n",
       "    </tr>\n",
       "    <tr>\n",
       "      <th>9</th>\n",
       "      <td>PSP</td>\n",
       "      <td>0.13</td>\n",
       "      <td>0.18</td>\n",
       "      <td>0.02</td>\n",
       "      <td>0.7</td>\n",
       "      <td>6.5</td>\n",
       "      <td>9.0</td>\n",
       "    </tr>\n",
       "  </tbody>\n",
       "</table>\n",
       "</div>"
      ],
      "text/plain": [
       "  platform  na_sales  eu_sales  jp_sales  na/eu  na/jp  eu/jp\n",
       "0     X360    137.52     73.87      1.45    1.9   94.8   50.9\n",
       "1      PS4    108.74    138.66     12.13    0.8    9.0   11.4\n",
       "2     XOne     93.12     51.28      0.33    1.8  282.2  155.4\n",
       "3      3DS     55.31     40.81     52.42    1.4    1.1    0.8\n",
       "4     WiiU     37.89     24.87     11.88    1.5    3.2    2.1\n",
       "5       PC     19.12     28.60      0.00    0.7    inf    inf\n",
       "6      Wii     16.98     11.17      1.09    1.5   15.6   10.2\n",
       "7      PSV     10.70     10.17      6.98    1.1    1.5    1.5\n",
       "8       DS      4.59      2.88      3.51    1.6    1.3    0.8\n",
       "9      PSP      0.13      0.18      0.02    0.7    6.5    9.0"
      ]
     },
     "execution_count": 60,
     "metadata": {},
     "output_type": "execute_result"
    }
   ],
   "source": [
    "sales_region= na_sales.merge(eu_sales, on='platform', how='left',suffixes=('na_sales', 'eu_sales')) \n",
    "sales_region=sales_region.merge(jp_sales, on='platform', how='left',suffixes=('na_sales', 'eu_sales', 'jp_sales'))\n",
    "sales_region['na/eu'] = round(sales_region['na_sales']/sales_region['eu_sales'],1)\n",
    "sales_region['na/jp'] = round(sales_region['na_sales']/sales_region['jp_sales'],1)\n",
    "sales_region['eu/jp'] = round(sales_region['eu_sales']/sales_region['jp_sales'],1)\n",
    "sales_region"
   ]
  },
  {
   "cell_type": "markdown",
   "metadata": {},
   "source": [
    "Отразим данные по продажам по платформам по каждому региону на графике:"
   ]
  },
  {
   "cell_type": "code",
   "execution_count": 61,
   "metadata": {},
   "outputs": [
    {
     "data": {
      "image/png": "[encoded data removed]",
      "text/plain": [
       "<Figure size 1080x720 with 1 Axes>"
      ]
     },
     "metadata": {
      "needs_background": "light"
     },
     "output_type": "display_data"
    }
   ],
   "source": [
    "platform =sales_region['platform']\n",
    "na = sales_region[['platform','na_sales']].rename(columns={'na_sales':'sales'})\n",
    "na['region'] = 'na'\n",
    "eu = sales_region[['platform','eu_sales']].rename(columns={'eu_sales':'sales'})\n",
    "eu['region'] = 'eu'\n",
    "jp = sales_region[['platform','jp_sales']].rename(columns={'jp_sales':'sales'})\n",
    "jp ['region'] = 'jp'\n",
    "\n",
    "plt.figure(figsize=(15,10))\n",
    "\n",
    "concat=pd.concat([na,eu,jp])\n",
    "sns.barplot(x='platform', y='sales', hue='region', data=concat)\n",
    "\n",
    "plt.grid()\n",
    "plt.title('Суммарные продажи по платформам за период 2012-2016')\n",
    "plt.xlabel('Платформа')\n",
    "plt.ylabel('Проданные копии, млн')\n",
    "plt.show()"
   ]
  },
  {
   "cell_type": "markdown",
   "metadata": {},
   "source": [
    "По графику видим разницу в предпочтениях пользователей регионов NA, EU и JP. \n",
    "\n",
    "NA - лидирует по продажам относительно других регинов, особенно по Тор-5 платформ в NA. В регионе EU предпочтения по платформам Тор-5 схожие с небольшой разницей в порядке лидирующих платформ, но в общем, объемы продаж зачастую, примерно в 1,5 - 2 раза ниже. Исключение составляют платформы PS4, PC, которые превышают объем продаж региона NA и платформа PSV,которая имеет аналогичные, невысокие продажи как и в регионе NA.\n",
    "\n",
    "Регион JP отличается по своим предпочтениям от регионов NA, EU. Например, лидирующая в NA, EU платформа X360, в JP имеет незначительный объем продаж. Лидируют в JP платформы DS (4-е место в NA, EU), PS (5-е место в NA 4-е в EU), PS2(2-е местов NA 1-е в EU), платформы NES и 3DS так же вошедшие в Тор-5 в в JP, не вошли в Тор-5 регионов NA, EU. И в целом, объемы продаж по платформам значительно ниже, чем в NA, EU.\n",
    "\t\n",
    "\n"
   ]
  },
  {
   "cell_type": "markdown",
   "metadata": {},
   "source": [
    "#### Топ-5 популярных жанров "
   ]
  },
  {
   "cell_type": "markdown",
   "metadata": {},
   "source": [
    "Посмотрим, какие жанры входоят в Тор-5 по каждому региону:"
   ]
  },
  {
   "cell_type": "code",
   "execution_count": 62,
   "metadata": {
    "scrolled": true
   },
   "outputs": [
    {
     "data": {
      "text/html": [
       "<div>\n",
       "<style scoped>\n",
       "    .dataframe tbody tr th:only-of-type {\n",
       "        vertical-align: middle;\n",
       "    }\n",
       "\n",
       "    .dataframe tbody tr th {\n",
       "        vertical-align: top;\n",
       "    }\n",
       "\n",
       "    .dataframe thead th {\n",
       "        text-align: right;\n",
       "    }\n",
       "</style>\n",
       "<table border=\"1\" class=\"dataframe\">\n",
       "  <thead>\n",
       "    <tr style=\"text-align: right;\">\n",
       "      <th></th>\n",
       "      <th>genre</th>\n",
       "      <th>na_sales</th>\n",
       "    </tr>\n",
       "  </thead>\n",
       "  <tbody>\n",
       "    <tr>\n",
       "      <th>0</th>\n",
       "      <td>Action</td>\n",
       "      <td>137.86</td>\n",
       "    </tr>\n",
       "    <tr>\n",
       "      <th>1</th>\n",
       "      <td>Shooter</td>\n",
       "      <td>122.46</td>\n",
       "    </tr>\n",
       "    <tr>\n",
       "      <th>2</th>\n",
       "      <td>Sports</td>\n",
       "      <td>59.38</td>\n",
       "    </tr>\n",
       "    <tr>\n",
       "      <th>3</th>\n",
       "      <td>Role-Playing</td>\n",
       "      <td>56.33</td>\n",
       "    </tr>\n",
       "    <tr>\n",
       "      <th>4</th>\n",
       "      <td>Misc</td>\n",
       "      <td>34.68</td>\n",
       "    </tr>\n",
       "  </tbody>\n",
       "</table>\n",
       "</div>"
      ],
      "text/plain": [
       "          genre  na_sales\n",
       "0        Action    137.86\n",
       "1       Shooter    122.46\n",
       "2        Sports     59.38\n",
       "3  Role-Playing     56.33\n",
       "4          Misc     34.68"
      ]
     },
     "metadata": {},
     "output_type": "display_data"
    },
    {
     "data": {
      "text/html": [
       "<div>\n",
       "<style scoped>\n",
       "    .dataframe tbody tr th:only-of-type {\n",
       "        vertical-align: middle;\n",
       "    }\n",
       "\n",
       "    .dataframe tbody tr th {\n",
       "        vertical-align: top;\n",
       "    }\n",
       "\n",
       "    .dataframe thead th {\n",
       "        text-align: right;\n",
       "    }\n",
       "</style>\n",
       "<table border=\"1\" class=\"dataframe\">\n",
       "  <thead>\n",
       "    <tr style=\"text-align: right;\">\n",
       "      <th></th>\n",
       "      <th>genre</th>\n",
       "      <th>eu_sales</th>\n",
       "    </tr>\n",
       "  </thead>\n",
       "  <tbody>\n",
       "    <tr>\n",
       "      <th>0</th>\n",
       "      <td>Action</td>\n",
       "      <td>111.77</td>\n",
       "    </tr>\n",
       "    <tr>\n",
       "      <th>1</th>\n",
       "      <td>Shooter</td>\n",
       "      <td>87.93</td>\n",
       "    </tr>\n",
       "    <tr>\n",
       "      <th>2</th>\n",
       "      <td>Sports</td>\n",
       "      <td>48.22</td>\n",
       "    </tr>\n",
       "    <tr>\n",
       "      <th>3</th>\n",
       "      <td>Role-Playing</td>\n",
       "      <td>41.87</td>\n",
       "    </tr>\n",
       "    <tr>\n",
       "      <th>4</th>\n",
       "      <td>Misc</td>\n",
       "      <td>22.56</td>\n",
       "    </tr>\n",
       "  </tbody>\n",
       "</table>\n",
       "</div>"
      ],
      "text/plain": [
       "          genre  eu_sales\n",
       "0        Action    111.77\n",
       "1       Shooter     87.93\n",
       "2        Sports     48.22\n",
       "3  Role-Playing     41.87\n",
       "4          Misc     22.56"
      ]
     },
     "metadata": {},
     "output_type": "display_data"
    },
    {
     "data": {
      "text/html": [
       "<div>\n",
       "<style scoped>\n",
       "    .dataframe tbody tr th:only-of-type {\n",
       "        vertical-align: middle;\n",
       "    }\n",
       "\n",
       "    .dataframe tbody tr th {\n",
       "        vertical-align: top;\n",
       "    }\n",
       "\n",
       "    .dataframe thead th {\n",
       "        text-align: right;\n",
       "    }\n",
       "</style>\n",
       "<table border=\"1\" class=\"dataframe\">\n",
       "  <thead>\n",
       "    <tr style=\"text-align: right;\">\n",
       "      <th></th>\n",
       "      <th>genre</th>\n",
       "      <th>jp_sales</th>\n",
       "    </tr>\n",
       "  </thead>\n",
       "  <tbody>\n",
       "    <tr>\n",
       "      <th>0</th>\n",
       "      <td>Role-Playing</td>\n",
       "      <td>35.09</td>\n",
       "    </tr>\n",
       "    <tr>\n",
       "      <th>1</th>\n",
       "      <td>Action</td>\n",
       "      <td>16.10</td>\n",
       "    </tr>\n",
       "    <tr>\n",
       "      <th>2</th>\n",
       "      <td>Platform</td>\n",
       "      <td>8.48</td>\n",
       "    </tr>\n",
       "    <tr>\n",
       "      <th>3</th>\n",
       "      <td>Simulation</td>\n",
       "      <td>8.43</td>\n",
       "    </tr>\n",
       "    <tr>\n",
       "      <th>4</th>\n",
       "      <td>Misc</td>\n",
       "      <td>5.84</td>\n",
       "    </tr>\n",
       "  </tbody>\n",
       "</table>\n",
       "</div>"
      ],
      "text/plain": [
       "          genre  jp_sales\n",
       "0  Role-Playing     35.09\n",
       "1        Action     16.10\n",
       "2      Platform      8.48\n",
       "3    Simulation      8.43\n",
       "4          Misc      5.84"
      ]
     },
     "metadata": {},
     "output_type": "display_data"
    }
   ],
   "source": [
    "na_genre = df.pivot_table(index=['genre'], values=['na_sales'] , aggfunc='sum').sort_values(by='na_sales',ascending=False).reset_index()              \n",
    "eu_genre = df.pivot_table(index=['genre'], values=['eu_sales'] , aggfunc='sum').sort_values(by='eu_sales',ascending=False).reset_index()              \n",
    "jp_genre = df.pivot_table(index=['genre'], values=['jp_sales'] , aggfunc='sum').sort_values(by='jp_sales',ascending=False).reset_index()              \n",
    "\n",
    "display(na_genre.head())\n",
    "display(eu_genre.head())\n",
    "display(jp_genre.head())"
   ]
  },
  {
   "cell_type": "markdown",
   "metadata": {},
   "source": [
    "Видим, что самые популярные жанры и их позиции в Тор-5 отличаются по разным регионам. По регионам NA и EU первая тройка популярных жанров одинаковая (Action, Sports, Shooter), отличие только по объемам продаж (в NA они примерно в 1,5 -2 раза выше) и отличаются четвертые и пятая позиции. (NA: Platform и Misc, в EU-Racing и Platform).\n",
    "\n",
    "По региону JP - состав самых популярных жанров схож, но в отличие от NA - жанр Role-Playing - занимет первое место и замыкает Тор-5 жанр Platform. Жанр Shooter не вошёл регионе JP в Тор-5, в отличии от NA и EU.\n",
    "\n",
    "Посчитаем в процентном соотношении, насколько отличаются продажи по регионам по каждому жанру:"
   ]
  },
  {
   "cell_type": "code",
   "execution_count": 63,
   "metadata": {},
   "outputs": [
    {
     "data": {
      "text/html": [
       "<div>\n",
       "<style scoped>\n",
       "    .dataframe tbody tr th:only-of-type {\n",
       "        vertical-align: middle;\n",
       "    }\n",
       "\n",
       "    .dataframe tbody tr th {\n",
       "        vertical-align: top;\n",
       "    }\n",
       "\n",
       "    .dataframe thead th {\n",
       "        text-align: right;\n",
       "    }\n",
       "</style>\n",
       "<table border=\"1\" class=\"dataframe\">\n",
       "  <thead>\n",
       "    <tr style=\"text-align: right;\">\n",
       "      <th></th>\n",
       "      <th>genre</th>\n",
       "      <th>na_sales</th>\n",
       "      <th>eu_sales</th>\n",
       "      <th>jp_sales</th>\n",
       "      <th>na/eu</th>\n",
       "      <th>na/jp</th>\n",
       "      <th>eu/jp</th>\n",
       "    </tr>\n",
       "  </thead>\n",
       "  <tbody>\n",
       "    <tr>\n",
       "      <th>0</th>\n",
       "      <td>Action</td>\n",
       "      <td>137.86</td>\n",
       "      <td>111.77</td>\n",
       "      <td>16.10</td>\n",
       "      <td>1.2</td>\n",
       "      <td>8.6</td>\n",
       "      <td>77.1</td>\n",
       "    </tr>\n",
       "    <tr>\n",
       "      <th>1</th>\n",
       "      <td>Shooter</td>\n",
       "      <td>122.46</td>\n",
       "      <td>87.93</td>\n",
       "      <td>5.12</td>\n",
       "      <td>1.4</td>\n",
       "      <td>23.9</td>\n",
       "      <td>7.2</td>\n",
       "    </tr>\n",
       "    <tr>\n",
       "      <th>2</th>\n",
       "      <td>Sports</td>\n",
       "      <td>59.38</td>\n",
       "      <td>48.22</td>\n",
       "      <td>2.25</td>\n",
       "      <td>1.2</td>\n",
       "      <td>26.4</td>\n",
       "      <td>146.1</td>\n",
       "    </tr>\n",
       "    <tr>\n",
       "      <th>3</th>\n",
       "      <td>Role-Playing</td>\n",
       "      <td>56.33</td>\n",
       "      <td>41.87</td>\n",
       "      <td>35.09</td>\n",
       "      <td>1.3</td>\n",
       "      <td>1.6</td>\n",
       "      <td>0.8</td>\n",
       "    </tr>\n",
       "    <tr>\n",
       "      <th>4</th>\n",
       "      <td>Misc</td>\n",
       "      <td>34.68</td>\n",
       "      <td>22.56</td>\n",
       "      <td>5.84</td>\n",
       "      <td>1.5</td>\n",
       "      <td>5.9</td>\n",
       "      <td>1.9</td>\n",
       "    </tr>\n",
       "    <tr>\n",
       "      <th>5</th>\n",
       "      <td>Platform</td>\n",
       "      <td>23.48</td>\n",
       "      <td>19.42</td>\n",
       "      <td>8.48</td>\n",
       "      <td>1.2</td>\n",
       "      <td>2.8</td>\n",
       "      <td>inf</td>\n",
       "    </tr>\n",
       "    <tr>\n",
       "      <th>6</th>\n",
       "      <td>Fighting</td>\n",
       "      <td>16.09</td>\n",
       "      <td>7.80</td>\n",
       "      <td>4.74</td>\n",
       "      <td>2.1</td>\n",
       "      <td>3.4</td>\n",
       "      <td>7.2</td>\n",
       "    </tr>\n",
       "    <tr>\n",
       "      <th>7</th>\n",
       "      <td>Racing</td>\n",
       "      <td>14.64</td>\n",
       "      <td>19.87</td>\n",
       "      <td>1.65</td>\n",
       "      <td>0.7</td>\n",
       "      <td>8.9</td>\n",
       "      <td>2.8</td>\n",
       "    </tr>\n",
       "    <tr>\n",
       "      <th>8</th>\n",
       "      <td>Simulation</td>\n",
       "      <td>7.46</td>\n",
       "      <td>11.67</td>\n",
       "      <td>8.43</td>\n",
       "      <td>0.6</td>\n",
       "      <td>0.9</td>\n",
       "      <td>3.3</td>\n",
       "    </tr>\n",
       "    <tr>\n",
       "      <th>9</th>\n",
       "      <td>Adventure</td>\n",
       "      <td>6.70</td>\n",
       "      <td>6.40</td>\n",
       "      <td>0.98</td>\n",
       "      <td>1.0</td>\n",
       "      <td>6.8</td>\n",
       "      <td>320.0</td>\n",
       "    </tr>\n",
       "    <tr>\n",
       "      <th>10</th>\n",
       "      <td>Strategy</td>\n",
       "      <td>3.89</td>\n",
       "      <td>4.27</td>\n",
       "      <td>0.30</td>\n",
       "      <td>0.9</td>\n",
       "      <td>13.0</td>\n",
       "      <td>NaN</td>\n",
       "    </tr>\n",
       "    <tr>\n",
       "      <th>11</th>\n",
       "      <td>Puzzle</td>\n",
       "      <td>1.13</td>\n",
       "      <td>0.71</td>\n",
       "      <td>0.83</td>\n",
       "      <td>1.6</td>\n",
       "      <td>1.4</td>\n",
       "      <td>NaN</td>\n",
       "    </tr>\n",
       "  </tbody>\n",
       "</table>\n",
       "</div>"
      ],
      "text/plain": [
       "           genre  na_sales  eu_sales  jp_sales  na/eu  na/jp  eu/jp\n",
       "0         Action    137.86    111.77     16.10    1.2    8.6   77.1\n",
       "1        Shooter    122.46     87.93      5.12    1.4   23.9    7.2\n",
       "2         Sports     59.38     48.22      2.25    1.2   26.4  146.1\n",
       "3   Role-Playing     56.33     41.87     35.09    1.3    1.6    0.8\n",
       "4           Misc     34.68     22.56      5.84    1.5    5.9    1.9\n",
       "5       Platform     23.48     19.42      8.48    1.2    2.8    inf\n",
       "6       Fighting     16.09      7.80      4.74    2.1    3.4    7.2\n",
       "7         Racing     14.64     19.87      1.65    0.7    8.9    2.8\n",
       "8     Simulation      7.46     11.67      8.43    0.6    0.9    3.3\n",
       "9      Adventure      6.70      6.40      0.98    1.0    6.8  320.0\n",
       "10      Strategy      3.89      4.27      0.30    0.9   13.0    NaN\n",
       "11        Puzzle      1.13      0.71      0.83    1.6    1.4    NaN"
      ]
     },
     "execution_count": 63,
     "metadata": {},
     "output_type": "execute_result"
    }
   ],
   "source": [
    "genre_region= na_genre.merge(eu_genre, on='genre', how='left', suffixes=('na_sales','eu_sales')) \n",
    "genre_region=genre_region.merge(jp_genre, on='genre', how='left', suffixes=('na_sales', 'eu_sales', 'jp_sales'))\n",
    "\n",
    "genre_region['na/eu'] = round(genre_region['na_sales']/genre_region['eu_sales'],1)\n",
    "genre_region['na/jp'] = round(genre_region['na_sales']/genre_region['jp_sales'],1)\n",
    "genre_region['eu/jp'] = round(genre_region['eu_sales']/sales_region['jp_sales'],1)\n",
    "\n",
    "genre_region"
   ]
  },
  {
   "cell_type": "markdown",
   "metadata": {},
   "source": [
    "Отразим данные по продажам по жанрам по каждому региону на графике:"
   ]
  },
  {
   "cell_type": "code",
   "execution_count": 64,
   "metadata": {},
   "outputs": [
    {
     "data": {
      "image/png": "[encoded data removed]",
      "text/plain": [
       "<Figure size 720x432 with 1 Axes>"
      ]
     },
     "metadata": {
      "needs_background": "light"
     },
     "output_type": "display_data"
    }
   ],
   "source": [
    "genre =genre_region['genre']\n",
    "na = genre_region[['genre','na_sales']].rename(columns={'na_sales':'sales'})\n",
    "na['region'] = 'na'\n",
    "eu = genre_region[['genre','eu_sales']].rename(columns={'eu_sales':'sales'})\n",
    "eu['region'] = 'eu'\n",
    "jp = genre_region[['genre','jp_sales']].rename(columns={'jp_sales':'sales'})\n",
    "jp ['region'] = 'jp'\n",
    "\n",
    "plt.figure(figsize=(10,6))\n",
    "\n",
    "concat=pd.concat([na,eu,jp])\n",
    "sns.barplot(x='genre', y='sales', hue='region', data=concat)\n",
    "\n",
    "plt.grid()\n",
    "plt.title('Суммарные продажи по жанрам за период 2006-2016')\n",
    "plt.xlabel('Жанр')\n",
    "plt.ylabel('Проданные копии, млн')\n",
    "plt.show()"
   ]
  },
  {
   "cell_type": "markdown",
   "metadata": {},
   "source": [
    "####  Влияние рейтинга ESRB на продажи"
   ]
  },
  {
   "cell_type": "code",
   "execution_count": 65,
   "metadata": {},
   "outputs": [
    {
     "data": {
      "text/html": [
       "<div>\n",
       "<style scoped>\n",
       "    .dataframe tbody tr th:only-of-type {\n",
       "        vertical-align: middle;\n",
       "    }\n",
       "\n",
       "    .dataframe tbody tr th {\n",
       "        vertical-align: top;\n",
       "    }\n",
       "\n",
       "    .dataframe thead th {\n",
       "        text-align: right;\n",
       "    }\n",
       "</style>\n",
       "<table border=\"1\" class=\"dataframe\">\n",
       "  <thead>\n",
       "    <tr style=\"text-align: right;\">\n",
       "      <th></th>\n",
       "      <th>rating</th>\n",
       "      <th>eu_sales</th>\n",
       "      <th>jp_sales</th>\n",
       "      <th>na_sales</th>\n",
       "    </tr>\n",
       "  </thead>\n",
       "  <tbody>\n",
       "    <tr>\n",
       "      <th>0</th>\n",
       "      <td>M</td>\n",
       "      <td>139.73</td>\n",
       "      <td>9.32</td>\n",
       "      <td>180.93</td>\n",
       "    </tr>\n",
       "    <tr>\n",
       "      <th>1</th>\n",
       "      <td>unknown</td>\n",
       "      <td>73.50</td>\n",
       "      <td>37.43</td>\n",
       "      <td>91.16</td>\n",
       "    </tr>\n",
       "    <tr>\n",
       "      <th>2</th>\n",
       "      <td>E</td>\n",
       "      <td>82.37</td>\n",
       "      <td>24.80</td>\n",
       "      <td>90.03</td>\n",
       "    </tr>\n",
       "    <tr>\n",
       "      <th>3</th>\n",
       "      <td>E10+</td>\n",
       "      <td>45.46</td>\n",
       "      <td>7.07</td>\n",
       "      <td>67.93</td>\n",
       "    </tr>\n",
       "    <tr>\n",
       "      <th>4</th>\n",
       "      <td>T</td>\n",
       "      <td>41.43</td>\n",
       "      <td>11.19</td>\n",
       "      <td>54.05</td>\n",
       "    </tr>\n",
       "  </tbody>\n",
       "</table>\n",
       "</div>"
      ],
      "text/plain": [
       "    rating  eu_sales  jp_sales  na_sales\n",
       "0        M    139.73      9.32    180.93\n",
       "1  unknown     73.50     37.43     91.16\n",
       "2        E     82.37     24.80     90.03\n",
       "3     E10+     45.46      7.07     67.93\n",
       "4        T     41.43     11.19     54.05"
      ]
     },
     "execution_count": 65,
     "metadata": {},
     "output_type": "execute_result"
    }
   ],
   "source": [
    "rating_region = (\n",
    "            df.pivot_table(index=df['rating'], values=['na_sales', 'eu_sales', 'jp_sales'], aggfunc='sum')\n",
    "            .sort_values(by='na_sales', ascending=False)\n",
    "            .reset_index() \n",
    "            )\n",
    "rating_region"
   ]
  },
  {
   "cell_type": "code",
   "execution_count": 66,
   "metadata": {},
   "outputs": [
    {
     "data": {
      "image/png": "[encoded data removed]",
      "text/plain": [
       "<Figure size 720x432 with 1 Axes>"
      ]
     },
     "metadata": {
      "needs_background": "light"
     },
     "output_type": "display_data"
    }
   ],
   "source": [
    "rating =rating_region['rating']\n",
    "na = rating_region[['rating','na_sales']].rename(columns={'na_sales':'sales'})\n",
    "na['region'] = 'na'\n",
    "eu = rating_region[['rating','eu_sales']].rename(columns={'eu_sales':'sales'})\n",
    "eu['region'] = 'eu'\n",
    "jp = rating_region[['rating','jp_sales']].rename(columns={'jp_sales':'sales'})\n",
    "jp ['region'] = 'jp'\n",
    "\n",
    "plt.figure(figsize=(10,6))\n",
    "\n",
    "concat=pd.concat([na,eu,jp])\n",
    "sns.barplot(x='rating', y='sales', hue='region', data=concat)\n",
    "\n",
    "plt.grid()\n",
    "plt.title('Суммарные продажи по рейтингу за период 2006-2016')\n",
    "plt.xlabel('Рейтинг')\n",
    "plt.ylabel('Проданные копии, млн')\n",
    "plt.show()"
   ]
  },
  {
   "cell_type": "markdown",
   "metadata": {},
   "source": [
    "По графику видим, что рейтинг влияет на продажи игр, причём тенденции влияния практически одинаковые с небольшим отличием по JP региону.\n",
    "\n",
    "По регионам NA и EU продажи идут по убывающей в зависимости от рейтинга: \n",
    "\n",
    "* E- 1-ое место по объемам продаж\n",
    "* M - 2-ое место\t\n",
    "* T - 3-е место\n",
    "* E10+ - 4-ое место.\n",
    "\n",
    "По региону JP:\n",
    "* E- также на 1-ом месте по объемам продаж,\n",
    "* T - на 2-ом месте в отличии от регионов NA и EU\n",
    "* М - 3-е место в отличии от регионов NA и EU\n",
    "* E10+ - также 4-ое место\n",
    "\n",
    "\n",
    "Почему в Японии чаще покупают игры без рейтинга? Это может быть связано с  тем, что часть игр созданная в Японии, может не попадать под рейтинги ESRB.\n",
    "Возможно, дело тут в том, что ESRB работает только на территории СА, в Японии есть аналогичная организация: CERO. С одной стороны, иностранным играм они (ESRB) не присваивают рейтинги, поскольку на них уже есть маркировка. Чтобы не было конфликта, так сказать. Так что вполне возможно, что часть игр это продукция Японии или же это корейские игры (там тоже своя организация). С другой стороны, раз они продают игры на своем рынке, то присвоение рейтинга может быть обязательным. Значит, дело еще может быть в том, что наша таблица это склейка двух таблиц: продажи на Западе и на Востоке. Так или иначе, это очень показательный пример. И именно разница в рынках (восточный и западный) наталкивает на мысль о неслучайности пропусков."
   ]
  },
  {
   "cell_type": "markdown",
   "metadata": {},
   "source": [
    "\n",
    "<a id=4></a>\n",
    "### Глава 4 Проверка гипотез"
   ]
  },
  {
   "cell_type": "markdown",
   "metadata": {},
   "source": [
    "#### Гипотеза 1"
   ]
  },
  {
   "cell_type": "markdown",
   "metadata": {},
   "source": [
    "Проверим гипотезу: \"Средние пользовательские рейтинги платформ Xbox One и PC одинаковые.\""
   ]
  },
  {
   "cell_type": "markdown",
   "metadata": {},
   "source": [
    "Сформулируем нулевую гипотезу H₀: \n",
    "\"Средние пользовательские рейтинги платформ Xbox One и PC равны.\"\n",
    "\n",
    "Альтернативная гипотеза H₁: \"Средние пользовательские рейтинги платформ Xbox One и PC различаются.\" - двухсторонняя гипотеза, т.к. отличия могут быть как в одну так и другую сторону."
   ]
  },
  {
   "cell_type": "code",
   "execution_count": 67,
   "metadata": {},
   "outputs": [],
   "source": [
    "df_XOne = (\n",
    "           df[\n",
    "                (df['platform']=='XOne') # фильтруем интересующую платформу\n",
    "                #& (df['year_of_release']> 2011) #фильтруем период\n",
    "                & (df['user_score'] != 0) # отфильтровываем нули из оценок\n",
    "            ]\n",
    "          )\n",
    "             \n",
    "df_PC = (\n",
    "           df[\n",
    "                (df['platform']=='PC')\n",
    "                #& (df['year_of_release']> 2011)\n",
    "                & (df['user_score'] != 0)\n",
    "            ]\n",
    "          )"
   ]
  },
  {
   "cell_type": "code",
   "execution_count": 68,
   "metadata": {},
   "outputs": [
    {
     "data": {
      "text/plain": [
       "216"
      ]
     },
     "execution_count": 68,
     "metadata": {},
     "output_type": "execute_result"
    }
   ],
   "source": [
    "len(df_XOne)"
   ]
  },
  {
   "cell_type": "code",
   "execution_count": 69,
   "metadata": {},
   "outputs": [
    {
     "data": {
      "text/plain": [
       "113"
      ]
     },
     "execution_count": 69,
     "metadata": {},
     "output_type": "execute_result"
    }
   ],
   "source": [
    "len(df_PC)"
   ]
  },
  {
   "cell_type": "markdown",
   "metadata": {},
   "source": [
    "При проверке гипотезы будем использовать доп.параметр  equal_var = False, т.к. выборки по тарифам не большие и при этом значительно отличаются друг от друга."
   ]
  },
  {
   "cell_type": "code",
   "execution_count": 70,
   "metadata": {},
   "outputs": [],
   "source": [
    "XOne_user_score= df_XOne['user_score'].dropna()\n",
    "PC_user_score= df_PC['user_score'].dropna()"
   ]
  },
  {
   "cell_type": "code",
   "execution_count": 71,
   "metadata": {},
   "outputs": [
    {
     "name": "stdout",
     "output_type": "stream",
     "text": [
      "p-значение: 0.49296686919074384\n",
      "Не получилось отвергнуть нулевую гипотезу\n"
     ]
    }
   ],
   "source": [
    "alpha = .05 # критический уровень статистической значимости\n",
    "# если p-value окажется меньше него - отвегнем нулевую гипотезу\n",
    "\n",
    "results = st.ttest_ind(\n",
    "    XOne_user_score, \n",
    "    PC_user_score, equal_var = False) \n",
    "print('p-значение:', results.pvalue)\n",
    "\n",
    "if results.pvalue < alpha:\n",
    "    print(\"Отвергаем нулевую гипотезу\")\n",
    "else:\n",
    "    print(\"Не получилось отвергнуть нулевую гипотезу\") "
   ]
  },
  {
   "cell_type": "markdown",
   "metadata": {},
   "source": [
    "Результат теста **не отвергает** нулевую гипотезу о том, что средние пользовательские рейтинги платформ Xbox One и PC равны."
   ]
  },
  {
   "cell_type": "markdown",
   "metadata": {},
   "source": [
    "#### Гипотеза 2"
   ]
  },
  {
   "cell_type": "markdown",
   "metadata": {},
   "source": [
    "Проверим гипотезу: \"Средние пользовательские рейтинги жанров Action и Sports разные.\"\n",
    "\n",
    "Сформулируем нулевую гипотезу H₀: \n",
    "\"Средние пользовательские рейтинги жанров Action и Sports **равны**.\"\n",
    "\n",
    "Альтернативная гипотеза H₁: \"Средние пользовательские рейтинги жанров Action и Sports **разные**.\" - двухсторонняя гипотеза, т.к. отличия могут быть как в одну так и другую сторону."
   ]
  },
  {
   "cell_type": "code",
   "execution_count": 72,
   "metadata": {},
   "outputs": [],
   "source": [
    "df_Action = (\n",
    "           df[\n",
    "                (df['genre']=='Action') # фильтруем интересующий жанр\n",
    "                #& (df['year_of_release']> 2011) #фильтруем период\n",
    "                & (df['user_score'] != 0) # отфильтровываем нули из оценок пользователей\n",
    "            ]\n",
    "          )\n",
    "             \n",
    "df_Sports = (\n",
    "           df[\n",
    "                (df['genre']=='Sports')\n",
    "                #& (df['year_of_release']> 2011)\n",
    "                & (df['user_score'] != 0)\n",
    "            ]\n",
    "          )"
   ]
  },
  {
   "cell_type": "code",
   "execution_count": 73,
   "metadata": {},
   "outputs": [
    {
     "data": {
      "text/plain": [
       "470"
      ]
     },
     "execution_count": 73,
     "metadata": {},
     "output_type": "execute_result"
    }
   ],
   "source": [
    "len(df_Action)"
   ]
  },
  {
   "cell_type": "code",
   "execution_count": 74,
   "metadata": {},
   "outputs": [
    {
     "data": {
      "text/plain": [
       "130"
      ]
     },
     "execution_count": 74,
     "metadata": {},
     "output_type": "execute_result"
    }
   ],
   "source": [
    "len(df_Sports)"
   ]
  },
  {
   "cell_type": "markdown",
   "metadata": {},
   "source": [
    "При проверке гипотезы будем использовать доп.параметр  equal_var = False, т.к. выборки по тарифам не большие и при этом значительно отличаются друг от друга."
   ]
  },
  {
   "cell_type": "code",
   "execution_count": 75,
   "metadata": {},
   "outputs": [],
   "source": [
    "Action_user_score= df_Action['user_score'].dropna()\n",
    "Sports_user_score= df_Sports['user_score'].dropna()"
   ]
  },
  {
   "cell_type": "code",
   "execution_count": 76,
   "metadata": {},
   "outputs": [
    {
     "name": "stdout",
     "output_type": "stream",
     "text": [
      "p-значение: 4.1166271763267964e-11\n",
      "Отвергаем нулевую гипотезу\n"
     ]
    }
   ],
   "source": [
    "alpha = .05 # критический уровень статистической значимости\n",
    "# если p-value окажется меньше него - отвегнем нулевую гипотезу\n",
    "\n",
    "results = st.ttest_ind(\n",
    "    Action_user_score, \n",
    "    Sports_user_score, equal_var = False) \n",
    "print('p-значение:', results.pvalue)\n",
    "\n",
    "if results.pvalue < alpha:\n",
    "    print(\"Отвергаем нулевую гипотезу\")\n",
    "else:\n",
    "    print(\"Не получилось отвергнуть нулевую гипотезу\") \n",
    "    \n",
    "    \n",
    "#import warnings   \n",
    "#warnings.simplefilter('ignore')"
   ]
  },
  {
   "cell_type": "markdown",
   "metadata": {},
   "source": [
    "Результат теста **отвергает** нулевую гипотезу о том, что средние пользовательские рейтинги жанров Action и Sports равны и оставлет нам альтернативную гипотезу о том, что средние пользовательские рейтинги жанров Action и Sports разные."
   ]
  }
 ],
 "metadata": {
  "ExecuteTimeLog": [
   {
    "duration": 44,
    "start_time": "2022-05-02T03:10:57.350Z"
   },
   {
    "duration": 410,
    "start_time": "2022-05-02T03:11:00.118Z"
   },
   {
    "duration": 55,
    "start_time": "2022-05-02T03:11:02.150Z"
   },
   {
    "duration": 14,
    "start_time": "2022-05-02T03:15:04.143Z"
   },
   {
    "duration": 30,
    "start_time": "2022-05-02T03:37:00.235Z"
   },
   {
    "duration": 8,
    "start_time": "2022-05-02T03:37:06.979Z"
   },
   {
    "duration": 2,
    "start_time": "2022-05-02T03:37:40.900Z"
   },
   {
    "duration": 50,
    "start_time": "2022-05-02T03:37:40.904Z"
   },
   {
    "duration": 13,
    "start_time": "2022-05-02T03:37:40.956Z"
   },
   {
    "duration": 7,
    "start_time": "2022-05-02T03:37:40.971Z"
   },
   {
    "duration": 4,
    "start_time": "2022-05-02T03:39:00.947Z"
   },
   {
    "duration": 8,
    "start_time": "2022-05-02T03:39:04.035Z"
   },
   {
    "duration": 13,
    "start_time": "2022-05-02T03:39:16.387Z"
   },
   {
    "duration": 9,
    "start_time": "2022-05-02T03:47:33.099Z"
   },
   {
    "duration": 2,
    "start_time": "2022-05-02T03:47:42.715Z"
   },
   {
    "duration": 53,
    "start_time": "2022-05-02T03:47:42.730Z"
   },
   {
    "duration": 12,
    "start_time": "2022-05-02T03:47:42.785Z"
   },
   {
    "duration": 18,
    "start_time": "2022-05-02T03:47:42.798Z"
   },
   {
    "duration": 14,
    "start_time": "2022-05-02T03:47:42.817Z"
   },
   {
    "duration": 12,
    "start_time": "2022-05-02T03:48:00.479Z"
   },
   {
    "duration": 12,
    "start_time": "2022-05-02T03:48:29.395Z"
   },
   {
    "duration": 14,
    "start_time": "2022-05-02T03:48:37.427Z"
   },
   {
    "duration": 12,
    "start_time": "2022-05-02T03:48:39.806Z"
   },
   {
    "duration": 16,
    "start_time": "2022-05-02T03:49:20.055Z"
   },
   {
    "duration": 11,
    "start_time": "2022-05-02T03:50:31.408Z"
   },
   {
    "duration": 31,
    "start_time": "2022-05-02T03:56:17.647Z"
   },
   {
    "duration": 30,
    "start_time": "2022-05-02T03:56:57.108Z"
   },
   {
    "duration": 10,
    "start_time": "2022-05-02T04:04:48.960Z"
   },
   {
    "duration": 18,
    "start_time": "2022-05-02T04:04:55.018Z"
   },
   {
    "duration": 14,
    "start_time": "2022-05-02T04:05:12.124Z"
   },
   {
    "duration": 15,
    "start_time": "2022-05-02T04:05:53.741Z"
   },
   {
    "duration": 5,
    "start_time": "2022-05-02T04:12:36.288Z"
   },
   {
    "duration": 23,
    "start_time": "2022-05-02T04:12:52.160Z"
   },
   {
    "duration": 6,
    "start_time": "2022-05-02T04:13:01.120Z"
   },
   {
    "duration": 8,
    "start_time": "2022-05-02T04:36:39.085Z"
   },
   {
    "duration": 72,
    "start_time": "2022-05-02T04:36:57.011Z"
   },
   {
    "duration": 20,
    "start_time": "2022-05-02T04:47:31.024Z"
   },
   {
    "duration": 32,
    "start_time": "2022-05-02T04:47:46.424Z"
   },
   {
    "duration": 3,
    "start_time": "2022-05-02T04:47:59.274Z"
   },
   {
    "duration": 46,
    "start_time": "2022-05-02T04:47:59.279Z"
   },
   {
    "duration": 15,
    "start_time": "2022-05-02T04:47:59.327Z"
   },
   {
    "duration": 18,
    "start_time": "2022-05-02T04:47:59.344Z"
   },
   {
    "duration": 40,
    "start_time": "2022-05-02T04:47:59.365Z"
   },
   {
    "duration": 5,
    "start_time": "2022-05-02T04:47:59.407Z"
   },
   {
    "duration": 9,
    "start_time": "2022-05-02T04:47:59.414Z"
   },
   {
    "duration": 0,
    "start_time": "2022-05-02T04:47:59.425Z"
   },
   {
    "duration": 0,
    "start_time": "2022-05-02T04:47:59.426Z"
   },
   {
    "duration": 22,
    "start_time": "2022-05-02T04:48:08.123Z"
   },
   {
    "duration": 22,
    "start_time": "2022-05-02T04:48:19.954Z"
   },
   {
    "duration": 22,
    "start_time": "2022-05-02T04:48:58.456Z"
   },
   {
    "duration": 20,
    "start_time": "2022-05-02T04:49:22.799Z"
   },
   {
    "duration": 26,
    "start_time": "2022-05-02T05:04:04.893Z"
   },
   {
    "duration": 2,
    "start_time": "2022-05-02T05:05:47.098Z"
   },
   {
    "duration": 61,
    "start_time": "2022-05-02T05:06:08.240Z"
   },
   {
    "duration": 44,
    "start_time": "2022-05-02T05:06:13.120Z"
   },
   {
    "duration": 3,
    "start_time": "2022-05-02T05:06:22.601Z"
   },
   {
    "duration": 82,
    "start_time": "2022-05-02T05:06:22.606Z"
   },
   {
    "duration": 19,
    "start_time": "2022-05-02T05:06:22.690Z"
   },
   {
    "duration": 14,
    "start_time": "2022-05-02T05:06:22.711Z"
   },
   {
    "duration": 66,
    "start_time": "2022-05-02T05:06:22.728Z"
   },
   {
    "duration": 6,
    "start_time": "2022-05-02T05:06:22.796Z"
   },
   {
    "duration": 7,
    "start_time": "2022-05-02T05:06:22.804Z"
   },
   {
    "duration": 25,
    "start_time": "2022-05-02T05:06:22.813Z"
   },
   {
    "duration": 29,
    "start_time": "2022-05-02T05:06:22.839Z"
   },
   {
    "duration": 28,
    "start_time": "2022-05-02T05:06:51.781Z"
   },
   {
    "duration": 20,
    "start_time": "2022-05-02T05:07:18.560Z"
   },
   {
    "duration": 6,
    "start_time": "2022-05-02T05:12:02.979Z"
   },
   {
    "duration": 16,
    "start_time": "2022-05-02T05:14:50.171Z"
   },
   {
    "duration": 4,
    "start_time": "2022-05-02T05:33:39.048Z"
   },
   {
    "duration": 6,
    "start_time": "2022-05-02T05:33:46.164Z"
   },
   {
    "duration": 6,
    "start_time": "2022-05-02T05:33:48.207Z"
   },
   {
    "duration": 7,
    "start_time": "2022-05-02T05:34:12.708Z"
   },
   {
    "duration": 4,
    "start_time": "2022-05-02T05:35:02.652Z"
   },
   {
    "duration": 15,
    "start_time": "2022-05-02T05:35:28.739Z"
   },
   {
    "duration": 16,
    "start_time": "2022-05-02T05:36:19.476Z"
   },
   {
    "duration": 23,
    "start_time": "2022-05-02T05:36:27.971Z"
   },
   {
    "duration": 25,
    "start_time": "2022-05-02T05:37:26.971Z"
   },
   {
    "duration": 3,
    "start_time": "2022-05-02T05:38:54.884Z"
   },
   {
    "duration": 57,
    "start_time": "2022-05-02T05:38:54.888Z"
   },
   {
    "duration": 14,
    "start_time": "2022-05-02T05:38:54.946Z"
   },
   {
    "duration": 15,
    "start_time": "2022-05-02T05:38:54.962Z"
   },
   {
    "duration": 36,
    "start_time": "2022-05-02T05:38:54.979Z"
   },
   {
    "duration": 42,
    "start_time": "2022-05-02T05:38:55.017Z"
   },
   {
    "duration": 14,
    "start_time": "2022-05-02T05:38:55.061Z"
   },
   {
    "duration": 26,
    "start_time": "2022-05-02T05:38:55.077Z"
   },
   {
    "duration": 6,
    "start_time": "2022-05-02T05:38:55.105Z"
   },
   {
    "duration": 43,
    "start_time": "2022-05-02T05:38:55.113Z"
   },
   {
    "duration": 3,
    "start_time": "2022-05-02T05:39:32.216Z"
   },
   {
    "duration": 102,
    "start_time": "2022-05-02T05:39:32.221Z"
   },
   {
    "duration": 19,
    "start_time": "2022-05-02T05:39:32.325Z"
   },
   {
    "duration": 22,
    "start_time": "2022-05-02T05:39:32.346Z"
   },
   {
    "duration": 33,
    "start_time": "2022-05-02T05:39:32.370Z"
   },
   {
    "duration": 34,
    "start_time": "2022-05-02T05:39:32.404Z"
   },
   {
    "duration": 10,
    "start_time": "2022-05-02T05:39:32.454Z"
   },
   {
    "duration": 19,
    "start_time": "2022-05-02T05:39:32.466Z"
   },
   {
    "duration": 6,
    "start_time": "2022-05-02T05:39:32.487Z"
   },
   {
    "duration": 35,
    "start_time": "2022-05-02T05:39:32.494Z"
   },
   {
    "duration": 14,
    "start_time": "2022-05-02T05:40:24.824Z"
   },
   {
    "duration": 10,
    "start_time": "2022-05-02T05:50:06.746Z"
   },
   {
    "duration": 6,
    "start_time": "2022-05-02T05:50:31.006Z"
   },
   {
    "duration": 2,
    "start_time": "2022-05-02T05:53:52.172Z"
   },
   {
    "duration": 2,
    "start_time": "2022-05-02T05:54:21.793Z"
   },
   {
    "duration": 25,
    "start_time": "2022-05-02T07:07:27.881Z"
   },
   {
    "duration": 2,
    "start_time": "2022-05-02T07:07:59.305Z"
   },
   {
    "duration": 3,
    "start_time": "2022-05-02T07:24:26.030Z"
   },
   {
    "duration": 22,
    "start_time": "2022-05-02T07:24:28.949Z"
   },
   {
    "duration": 8,
    "start_time": "2022-05-02T07:24:41.410Z"
   },
   {
    "duration": 18,
    "start_time": "2022-05-02T07:24:43.750Z"
   },
   {
    "duration": 2,
    "start_time": "2022-05-02T07:25:01.740Z"
   },
   {
    "duration": 6,
    "start_time": "2022-05-02T07:26:37.039Z"
   },
   {
    "duration": 6,
    "start_time": "2022-05-02T07:26:49.586Z"
   },
   {
    "duration": 10,
    "start_time": "2022-05-02T07:27:10.519Z"
   },
   {
    "duration": 19,
    "start_time": "2022-05-02T07:29:13.505Z"
   },
   {
    "duration": 20,
    "start_time": "2022-05-02T07:29:38.056Z"
   },
   {
    "duration": 23,
    "start_time": "2022-05-02T07:29:41.048Z"
   },
   {
    "duration": 5,
    "start_time": "2022-05-02T07:29:51.248Z"
   },
   {
    "duration": 4,
    "start_time": "2022-05-02T07:29:55.608Z"
   },
   {
    "duration": 75,
    "start_time": "2022-05-02T07:29:55.614Z"
   },
   {
    "duration": 21,
    "start_time": "2022-05-02T07:29:55.691Z"
   },
   {
    "duration": 19,
    "start_time": "2022-05-02T07:29:55.715Z"
   },
   {
    "duration": 23,
    "start_time": "2022-05-02T07:29:55.755Z"
   },
   {
    "duration": 40,
    "start_time": "2022-05-02T07:29:55.780Z"
   },
   {
    "duration": 33,
    "start_time": "2022-05-02T07:29:55.822Z"
   },
   {
    "duration": 25,
    "start_time": "2022-05-02T07:29:55.857Z"
   },
   {
    "duration": 18,
    "start_time": "2022-05-02T07:29:55.885Z"
   },
   {
    "duration": 35,
    "start_time": "2022-05-02T07:29:55.905Z"
   },
   {
    "duration": 36,
    "start_time": "2022-05-02T07:29:55.942Z"
   },
   {
    "duration": 5,
    "start_time": "2022-05-02T07:29:55.980Z"
   },
   {
    "duration": 11,
    "start_time": "2022-05-02T07:29:55.987Z"
   },
   {
    "duration": 13,
    "start_time": "2022-05-02T07:30:06.296Z"
   },
   {
    "duration": 4,
    "start_time": "2022-05-02T07:30:10.565Z"
   },
   {
    "duration": 77,
    "start_time": "2022-05-02T07:30:10.571Z"
   },
   {
    "duration": 14,
    "start_time": "2022-05-02T07:30:10.650Z"
   },
   {
    "duration": 26,
    "start_time": "2022-05-02T07:30:10.666Z"
   },
   {
    "duration": 29,
    "start_time": "2022-05-02T07:30:10.694Z"
   },
   {
    "duration": 36,
    "start_time": "2022-05-02T07:30:10.724Z"
   },
   {
    "duration": 6,
    "start_time": "2022-05-02T07:30:10.762Z"
   },
   {
    "duration": 28,
    "start_time": "2022-05-02T07:30:10.770Z"
   },
   {
    "duration": 41,
    "start_time": "2022-05-02T07:30:10.799Z"
   },
   {
    "duration": 19,
    "start_time": "2022-05-02T07:30:10.842Z"
   },
   {
    "duration": 26,
    "start_time": "2022-05-02T07:30:10.863Z"
   },
   {
    "duration": 34,
    "start_time": "2022-05-02T07:30:10.891Z"
   },
   {
    "duration": 21,
    "start_time": "2022-05-02T07:30:10.927Z"
   },
   {
    "duration": 15,
    "start_time": "2022-05-02T07:31:43.869Z"
   },
   {
    "duration": 3,
    "start_time": "2022-05-02T07:31:49.783Z"
   },
   {
    "duration": 87,
    "start_time": "2022-05-02T07:31:49.789Z"
   },
   {
    "duration": 32,
    "start_time": "2022-05-02T07:31:49.878Z"
   },
   {
    "duration": 24,
    "start_time": "2022-05-02T07:31:49.912Z"
   },
   {
    "duration": 37,
    "start_time": "2022-05-02T07:31:49.939Z"
   },
   {
    "duration": 49,
    "start_time": "2022-05-02T07:31:49.978Z"
   },
   {
    "duration": 27,
    "start_time": "2022-05-02T07:31:50.030Z"
   },
   {
    "duration": 26,
    "start_time": "2022-05-02T07:31:50.059Z"
   },
   {
    "duration": 21,
    "start_time": "2022-05-02T07:31:50.087Z"
   },
   {
    "duration": 10,
    "start_time": "2022-05-02T07:31:50.110Z"
   },
   {
    "duration": 36,
    "start_time": "2022-05-02T07:31:50.122Z"
   },
   {
    "duration": 5,
    "start_time": "2022-05-02T07:31:50.161Z"
   },
   {
    "duration": 22,
    "start_time": "2022-05-02T07:31:50.168Z"
   },
   {
    "duration": 20,
    "start_time": "2022-05-02T07:31:54.822Z"
   },
   {
    "duration": 3,
    "start_time": "2022-05-02T07:31:57.522Z"
   },
   {
    "duration": 61,
    "start_time": "2022-05-02T07:31:57.527Z"
   },
   {
    "duration": 17,
    "start_time": "2022-05-02T07:31:57.591Z"
   },
   {
    "duration": 29,
    "start_time": "2022-05-02T07:31:57.610Z"
   },
   {
    "duration": 35,
    "start_time": "2022-05-02T07:31:57.642Z"
   },
   {
    "duration": 43,
    "start_time": "2022-05-02T07:31:57.679Z"
   },
   {
    "duration": 13,
    "start_time": "2022-05-02T07:31:57.724Z"
   },
   {
    "duration": 33,
    "start_time": "2022-05-02T07:31:57.739Z"
   },
   {
    "duration": 28,
    "start_time": "2022-05-02T07:31:57.774Z"
   },
   {
    "duration": 11,
    "start_time": "2022-05-02T07:31:57.804Z"
   },
   {
    "duration": 34,
    "start_time": "2022-05-02T07:31:57.817Z"
   },
   {
    "duration": 19,
    "start_time": "2022-05-02T07:31:57.853Z"
   },
   {
    "duration": 32,
    "start_time": "2022-05-02T07:31:57.875Z"
   },
   {
    "duration": 3,
    "start_time": "2022-05-02T07:32:12.203Z"
   },
   {
    "duration": 63,
    "start_time": "2022-05-02T07:32:12.208Z"
   },
   {
    "duration": 21,
    "start_time": "2022-05-02T07:32:12.274Z"
   },
   {
    "duration": 23,
    "start_time": "2022-05-02T07:32:12.297Z"
   },
   {
    "duration": 44,
    "start_time": "2022-05-02T07:32:12.323Z"
   },
   {
    "duration": 43,
    "start_time": "2022-05-02T07:32:12.370Z"
   },
   {
    "duration": 8,
    "start_time": "2022-05-02T07:32:12.415Z"
   },
   {
    "duration": 46,
    "start_time": "2022-05-02T07:32:12.425Z"
   },
   {
    "duration": 20,
    "start_time": "2022-05-02T07:32:12.473Z"
   },
   {
    "duration": 6,
    "start_time": "2022-05-02T07:32:12.496Z"
   },
   {
    "duration": 14,
    "start_time": "2022-05-02T07:32:12.504Z"
   },
   {
    "duration": 9,
    "start_time": "2022-05-02T07:32:12.520Z"
   },
   {
    "duration": 35,
    "start_time": "2022-05-02T07:32:12.531Z"
   },
   {
    "duration": 13,
    "start_time": "2022-05-02T07:34:28.234Z"
   },
   {
    "duration": 3,
    "start_time": "2022-05-02T07:34:31.062Z"
   },
   {
    "duration": 49,
    "start_time": "2022-05-02T07:34:31.067Z"
   },
   {
    "duration": 18,
    "start_time": "2022-05-02T07:34:31.118Z"
   },
   {
    "duration": 31,
    "start_time": "2022-05-02T07:34:31.138Z"
   },
   {
    "duration": 27,
    "start_time": "2022-05-02T07:34:31.172Z"
   },
   {
    "duration": 32,
    "start_time": "2022-05-02T07:34:31.201Z"
   },
   {
    "duration": 23,
    "start_time": "2022-05-02T07:34:31.235Z"
   },
   {
    "duration": 25,
    "start_time": "2022-05-02T07:34:31.259Z"
   },
   {
    "duration": 18,
    "start_time": "2022-05-02T07:34:31.286Z"
   },
   {
    "duration": 6,
    "start_time": "2022-05-02T07:34:31.306Z"
   },
   {
    "duration": 16,
    "start_time": "2022-05-02T07:34:31.314Z"
   },
   {
    "duration": 41,
    "start_time": "2022-05-02T07:34:31.332Z"
   },
   {
    "duration": 31,
    "start_time": "2022-05-02T07:34:31.375Z"
   },
   {
    "duration": 3,
    "start_time": "2022-05-02T07:35:13.034Z"
   },
   {
    "duration": 66,
    "start_time": "2022-05-02T07:35:13.039Z"
   },
   {
    "duration": 14,
    "start_time": "2022-05-02T07:35:13.107Z"
   },
   {
    "duration": 40,
    "start_time": "2022-05-02T07:35:13.122Z"
   },
   {
    "duration": 24,
    "start_time": "2022-05-02T07:35:13.164Z"
   },
   {
    "duration": 32,
    "start_time": "2022-05-02T07:35:13.189Z"
   },
   {
    "duration": 22,
    "start_time": "2022-05-02T07:35:13.223Z"
   },
   {
    "duration": 40,
    "start_time": "2022-05-02T07:35:13.246Z"
   },
   {
    "duration": 16,
    "start_time": "2022-05-02T07:35:13.287Z"
   },
   {
    "duration": 6,
    "start_time": "2022-05-02T07:35:13.305Z"
   },
   {
    "duration": 17,
    "start_time": "2022-05-02T07:35:13.312Z"
   },
   {
    "duration": 17,
    "start_time": "2022-05-02T07:35:13.331Z"
   },
   {
    "duration": 7,
    "start_time": "2022-05-02T07:35:13.350Z"
   },
   {
    "duration": 10,
    "start_time": "2022-05-02T07:35:13.358Z"
   },
   {
    "duration": 2,
    "start_time": "2022-05-02T07:35:28.224Z"
   },
   {
    "duration": 45,
    "start_time": "2022-05-02T07:35:28.228Z"
   },
   {
    "duration": 12,
    "start_time": "2022-05-02T07:35:28.275Z"
   },
   {
    "duration": 15,
    "start_time": "2022-05-02T07:35:28.288Z"
   },
   {
    "duration": 24,
    "start_time": "2022-05-02T07:35:28.305Z"
   },
   {
    "duration": 38,
    "start_time": "2022-05-02T07:35:28.331Z"
   },
   {
    "duration": 6,
    "start_time": "2022-05-02T07:35:28.372Z"
   },
   {
    "duration": 19,
    "start_time": "2022-05-02T07:35:28.380Z"
   },
   {
    "duration": 17,
    "start_time": "2022-05-02T07:35:28.400Z"
   },
   {
    "duration": 8,
    "start_time": "2022-05-02T07:35:28.418Z"
   },
   {
    "duration": 27,
    "start_time": "2022-05-02T07:35:28.428Z"
   },
   {
    "duration": 6,
    "start_time": "2022-05-02T07:35:28.456Z"
   },
   {
    "duration": 30,
    "start_time": "2022-05-02T07:35:28.463Z"
   },
   {
    "duration": 12,
    "start_time": "2022-05-02T07:35:28.496Z"
   },
   {
    "duration": 15,
    "start_time": "2022-05-02T07:35:44.681Z"
   },
   {
    "duration": 21,
    "start_time": "2022-05-02T07:35:54.581Z"
   },
   {
    "duration": 24,
    "start_time": "2022-05-02T07:36:30.534Z"
   },
   {
    "duration": 20,
    "start_time": "2022-05-02T07:36:52.261Z"
   },
   {
    "duration": 10,
    "start_time": "2022-05-02T07:43:23.381Z"
   },
   {
    "duration": 15,
    "start_time": "2022-05-02T07:44:05.508Z"
   },
   {
    "duration": 5,
    "start_time": "2022-05-02T07:45:51.580Z"
   },
   {
    "duration": 14,
    "start_time": "2022-05-02T07:45:58.817Z"
   },
   {
    "duration": 6,
    "start_time": "2022-05-02T07:46:17.775Z"
   },
   {
    "duration": 6,
    "start_time": "2022-05-02T07:47:40.453Z"
   },
   {
    "duration": 4,
    "start_time": "2022-05-02T08:14:37.982Z"
   },
   {
    "duration": 13,
    "start_time": "2022-05-02T08:15:37.382Z"
   },
   {
    "duration": 13,
    "start_time": "2022-05-02T08:15:56.302Z"
   },
   {
    "duration": 19,
    "start_time": "2022-05-02T08:30:08.629Z"
   },
   {
    "duration": 12,
    "start_time": "2022-05-02T08:39:47.621Z"
   },
   {
    "duration": 18,
    "start_time": "2022-05-02T08:39:54.748Z"
   },
   {
    "duration": 12,
    "start_time": "2022-05-02T09:14:51.720Z"
   },
   {
    "duration": 23,
    "start_time": "2022-05-02T09:14:59.740Z"
   },
   {
    "duration": 3353,
    "start_time": "2022-05-02T09:15:46.686Z"
   },
   {
    "duration": 458,
    "start_time": "2022-05-02T09:16:06.500Z"
   },
   {
    "duration": 4,
    "start_time": "2022-05-02T09:17:03.939Z"
   },
   {
    "duration": 372,
    "start_time": "2022-05-02T09:17:09.572Z"
   },
   {
    "duration": 162,
    "start_time": "2022-05-02T09:27:20.799Z"
   },
   {
    "duration": 171,
    "start_time": "2022-05-02T09:28:16.719Z"
   },
   {
    "duration": 148,
    "start_time": "2022-05-02T09:28:40.040Z"
   },
   {
    "duration": 172,
    "start_time": "2022-05-02T09:28:43.459Z"
   },
   {
    "duration": 165,
    "start_time": "2022-05-02T09:29:09.299Z"
   },
   {
    "duration": 4,
    "start_time": "2022-05-02T09:31:38.839Z"
   },
   {
    "duration": 67,
    "start_time": "2022-05-02T09:31:38.845Z"
   },
   {
    "duration": 20,
    "start_time": "2022-05-02T09:31:38.915Z"
   },
   {
    "duration": 38,
    "start_time": "2022-05-02T09:31:38.938Z"
   },
   {
    "duration": 32,
    "start_time": "2022-05-02T09:31:38.978Z"
   },
   {
    "duration": 48,
    "start_time": "2022-05-02T09:31:39.011Z"
   },
   {
    "duration": 7,
    "start_time": "2022-05-02T09:31:39.061Z"
   },
   {
    "duration": 44,
    "start_time": "2022-05-02T09:31:39.070Z"
   },
   {
    "duration": 14,
    "start_time": "2022-05-02T09:31:39.117Z"
   },
   {
    "duration": 6,
    "start_time": "2022-05-02T09:31:39.132Z"
   },
   {
    "duration": 19,
    "start_time": "2022-05-02T09:31:39.139Z"
   },
   {
    "duration": 7,
    "start_time": "2022-05-02T09:31:39.160Z"
   },
   {
    "duration": 8,
    "start_time": "2022-05-02T09:31:39.169Z"
   },
   {
    "duration": 13,
    "start_time": "2022-05-02T09:31:39.180Z"
   },
   {
    "duration": 7,
    "start_time": "2022-05-02T09:31:39.195Z"
   },
   {
    "duration": 7,
    "start_time": "2022-05-02T09:31:39.204Z"
   },
   {
    "duration": 10,
    "start_time": "2022-05-02T09:31:39.213Z"
   },
   {
    "duration": 45,
    "start_time": "2022-05-02T09:31:39.224Z"
   },
   {
    "duration": 11,
    "start_time": "2022-05-02T09:31:39.271Z"
   },
   {
    "duration": 0,
    "start_time": "2022-05-02T09:31:39.284Z"
   },
   {
    "duration": 0,
    "start_time": "2022-05-02T09:31:39.285Z"
   },
   {
    "duration": 0,
    "start_time": "2022-05-02T09:31:39.286Z"
   },
   {
    "duration": 0,
    "start_time": "2022-05-02T09:31:39.287Z"
   },
   {
    "duration": 0,
    "start_time": "2022-05-02T09:31:39.288Z"
   },
   {
    "duration": 16,
    "start_time": "2022-05-02T09:31:43.318Z"
   },
   {
    "duration": 274,
    "start_time": "2022-05-02T09:31:46.822Z"
   },
   {
    "duration": 180,
    "start_time": "2022-05-02T09:31:49.272Z"
   },
   {
    "duration": 15,
    "start_time": "2022-05-02T09:34:02.441Z"
   },
   {
    "duration": 9,
    "start_time": "2022-05-02T09:40:40.112Z"
   },
   {
    "duration": 12,
    "start_time": "2022-05-02T09:41:03.383Z"
   },
   {
    "duration": 706,
    "start_time": "2022-05-02T09:41:13.992Z"
   },
   {
    "duration": 53,
    "start_time": "2022-05-02T09:41:17.615Z"
   },
   {
    "duration": 12,
    "start_time": "2022-05-02T09:41:27.624Z"
   },
   {
    "duration": 11,
    "start_time": "2022-05-02T09:41:51.823Z"
   },
   {
    "duration": 13,
    "start_time": "2022-05-02T09:42:09.843Z"
   },
   {
    "duration": 10,
    "start_time": "2022-05-02T09:42:21.826Z"
   },
   {
    "duration": 168,
    "start_time": "2022-05-02T09:44:28.331Z"
   },
   {
    "duration": 164,
    "start_time": "2022-05-02T09:44:30.563Z"
   },
   {
    "duration": 174,
    "start_time": "2022-05-02T09:44:37.643Z"
   },
   {
    "duration": 161,
    "start_time": "2022-05-02T09:44:49.763Z"
   },
   {
    "duration": 284,
    "start_time": "2022-05-02T09:48:33.432Z"
   },
   {
    "duration": 168,
    "start_time": "2022-05-02T09:48:44.864Z"
   },
   {
    "duration": 163,
    "start_time": "2022-05-02T09:49:45.128Z"
   },
   {
    "duration": 163,
    "start_time": "2022-05-02T09:49:52.783Z"
   },
   {
    "duration": 159,
    "start_time": "2022-05-02T09:50:30.104Z"
   },
   {
    "duration": 163,
    "start_time": "2022-05-02T09:51:57.044Z"
   },
   {
    "duration": 139,
    "start_time": "2022-05-02T09:56:54.916Z"
   },
   {
    "duration": 133,
    "start_time": "2022-05-02T09:57:01.924Z"
   },
   {
    "duration": 164,
    "start_time": "2022-05-02T09:57:12.984Z"
   },
   {
    "duration": 166,
    "start_time": "2022-05-02T09:59:58.335Z"
   },
   {
    "duration": 38,
    "start_time": "2022-05-02T10:03:35.624Z"
   },
   {
    "duration": 3,
    "start_time": "2022-05-02T10:03:45.009Z"
   },
   {
    "duration": 54,
    "start_time": "2022-05-02T10:03:45.015Z"
   },
   {
    "duration": 14,
    "start_time": "2022-05-02T10:03:45.071Z"
   },
   {
    "duration": 14,
    "start_time": "2022-05-02T10:03:45.086Z"
   },
   {
    "duration": 19,
    "start_time": "2022-05-02T10:03:45.102Z"
   },
   {
    "duration": 59,
    "start_time": "2022-05-02T10:03:45.123Z"
   },
   {
    "duration": 7,
    "start_time": "2022-05-02T10:03:45.184Z"
   },
   {
    "duration": 39,
    "start_time": "2022-05-02T10:03:45.193Z"
   },
   {
    "duration": 30,
    "start_time": "2022-05-02T10:03:45.234Z"
   },
   {
    "duration": 5,
    "start_time": "2022-05-02T10:03:45.266Z"
   },
   {
    "duration": 8,
    "start_time": "2022-05-02T10:03:45.273Z"
   },
   {
    "duration": 7,
    "start_time": "2022-05-02T10:03:45.282Z"
   },
   {
    "duration": 6,
    "start_time": "2022-05-02T10:03:45.291Z"
   },
   {
    "duration": 10,
    "start_time": "2022-05-02T10:03:45.300Z"
   },
   {
    "duration": 8,
    "start_time": "2022-05-02T10:03:45.311Z"
   },
   {
    "duration": 11,
    "start_time": "2022-05-02T10:03:45.320Z"
   },
   {
    "duration": 7,
    "start_time": "2022-05-02T10:03:45.332Z"
   },
   {
    "duration": 21,
    "start_time": "2022-05-02T10:03:45.340Z"
   },
   {
    "duration": 16,
    "start_time": "2022-05-02T10:03:45.363Z"
   },
   {
    "duration": 13,
    "start_time": "2022-05-02T10:03:45.381Z"
   },
   {
    "duration": 0,
    "start_time": "2022-05-02T10:03:45.396Z"
   },
   {
    "duration": 0,
    "start_time": "2022-05-02T10:03:45.397Z"
   },
   {
    "duration": 0,
    "start_time": "2022-05-02T10:03:45.399Z"
   },
   {
    "duration": 19,
    "start_time": "2022-05-02T10:04:03.903Z"
   },
   {
    "duration": 190,
    "start_time": "2022-05-02T10:04:07.855Z"
   },
   {
    "duration": 22,
    "start_time": "2022-05-02T10:04:32.303Z"
   },
   {
    "duration": 2403,
    "start_time": "2022-05-02T10:06:31.791Z"
   },
   {
    "duration": 164,
    "start_time": "2022-05-02T10:06:46.503Z"
   },
   {
    "duration": 20,
    "start_time": "2022-05-02T10:07:37.263Z"
   },
   {
    "duration": 12,
    "start_time": "2022-05-02T10:09:12.324Z"
   },
   {
    "duration": 18,
    "start_time": "2022-05-02T10:09:15.685Z"
   },
   {
    "duration": 171,
    "start_time": "2022-05-02T10:09:29.676Z"
   },
   {
    "duration": 3071,
    "start_time": "2022-05-02T10:10:02.285Z"
   },
   {
    "duration": 3063,
    "start_time": "2022-05-02T10:10:33.004Z"
   },
   {
    "duration": 17,
    "start_time": "2022-05-02T10:10:50.423Z"
   },
   {
    "duration": 175,
    "start_time": "2022-05-02T10:10:53.756Z"
   },
   {
    "duration": 15,
    "start_time": "2022-05-02T10:29:38.824Z"
   },
   {
    "duration": 15,
    "start_time": "2022-05-02T10:31:13.092Z"
   },
   {
    "duration": 16,
    "start_time": "2022-05-02T10:31:50.743Z"
   },
   {
    "duration": 15,
    "start_time": "2022-05-02T10:32:11.432Z"
   },
   {
    "duration": 15,
    "start_time": "2022-05-02T10:32:25.274Z"
   },
   {
    "duration": 10,
    "start_time": "2022-05-02T10:33:03.624Z"
   },
   {
    "duration": 8,
    "start_time": "2022-05-02T10:35:02.296Z"
   },
   {
    "duration": 8,
    "start_time": "2022-05-02T10:39:05.775Z"
   },
   {
    "duration": 23,
    "start_time": "2022-05-02T10:50:48.511Z"
   },
   {
    "duration": 6,
    "start_time": "2022-05-02T10:51:04.448Z"
   },
   {
    "duration": 24,
    "start_time": "2022-05-02T10:53:37.071Z"
   },
   {
    "duration": 18,
    "start_time": "2022-05-02T10:56:54.327Z"
   },
   {
    "duration": 7,
    "start_time": "2022-05-02T10:59:04.567Z"
   },
   {
    "duration": 8,
    "start_time": "2022-05-02T10:59:49.094Z"
   },
   {
    "duration": 19,
    "start_time": "2022-05-02T10:59:55.734Z"
   },
   {
    "duration": 22,
    "start_time": "2022-05-02T11:00:56.714Z"
   },
   {
    "duration": 18,
    "start_time": "2022-05-02T11:01:14.279Z"
   },
   {
    "duration": 18,
    "start_time": "2022-05-02T11:01:36.590Z"
   },
   {
    "duration": 3,
    "start_time": "2022-05-02T11:01:46.921Z"
   },
   {
    "duration": 80,
    "start_time": "2022-05-02T11:01:46.926Z"
   },
   {
    "duration": 20,
    "start_time": "2022-05-02T11:01:47.118Z"
   },
   {
    "duration": 13,
    "start_time": "2022-05-02T11:01:47.141Z"
   },
   {
    "duration": 33,
    "start_time": "2022-05-02T11:01:47.156Z"
   },
   {
    "duration": 38,
    "start_time": "2022-05-02T11:01:47.192Z"
   },
   {
    "duration": 6,
    "start_time": "2022-05-02T11:01:47.231Z"
   },
   {
    "duration": 42,
    "start_time": "2022-05-02T11:01:47.239Z"
   },
   {
    "duration": 20,
    "start_time": "2022-05-02T11:01:47.283Z"
   },
   {
    "duration": 6,
    "start_time": "2022-05-02T11:01:47.305Z"
   },
   {
    "duration": 11,
    "start_time": "2022-05-02T11:01:47.313Z"
   },
   {
    "duration": 28,
    "start_time": "2022-05-02T11:01:47.327Z"
   },
   {
    "duration": 6,
    "start_time": "2022-05-02T11:01:47.357Z"
   },
   {
    "duration": 15,
    "start_time": "2022-05-02T11:01:47.365Z"
   },
   {
    "duration": 5,
    "start_time": "2022-05-02T11:01:47.382Z"
   },
   {
    "duration": 8,
    "start_time": "2022-05-02T11:01:47.388Z"
   },
   {
    "duration": 5,
    "start_time": "2022-05-02T11:01:47.398Z"
   },
   {
    "duration": 14,
    "start_time": "2022-05-02T11:01:47.405Z"
   },
   {
    "duration": 45,
    "start_time": "2022-05-02T11:01:47.420Z"
   },
   {
    "duration": 17,
    "start_time": "2022-05-02T11:01:47.467Z"
   },
   {
    "duration": 190,
    "start_time": "2022-05-02T11:01:47.486Z"
   },
   {
    "duration": 10,
    "start_time": "2022-05-02T11:01:47.678Z"
   },
   {
    "duration": 4,
    "start_time": "2022-05-02T11:01:47.690Z"
   },
   {
    "duration": 11,
    "start_time": "2022-05-02T11:01:47.695Z"
   },
   {
    "duration": 22,
    "start_time": "2022-05-02T11:01:47.708Z"
   },
   {
    "duration": 37,
    "start_time": "2022-05-02T11:01:47.731Z"
   },
   {
    "duration": 0,
    "start_time": "2022-05-02T11:01:47.770Z"
   },
   {
    "duration": 2648,
    "start_time": "2022-05-02T11:02:27.276Z"
   },
   {
    "duration": 18,
    "start_time": "2022-05-02T11:02:52.831Z"
   },
   {
    "duration": 158,
    "start_time": "2022-05-02T11:03:07.871Z"
   },
   {
    "duration": 18,
    "start_time": "2022-05-02T11:07:45.672Z"
   },
   {
    "duration": 3,
    "start_time": "2022-05-02T11:07:49.440Z"
   },
   {
    "duration": 62,
    "start_time": "2022-05-02T11:07:49.446Z"
   },
   {
    "duration": 18,
    "start_time": "2022-05-02T11:07:49.510Z"
   },
   {
    "duration": 30,
    "start_time": "2022-05-02T11:07:49.530Z"
   },
   {
    "duration": 23,
    "start_time": "2022-05-02T11:07:49.562Z"
   },
   {
    "duration": 38,
    "start_time": "2022-05-02T11:07:49.586Z"
   },
   {
    "duration": 29,
    "start_time": "2022-05-02T11:07:49.626Z"
   },
   {
    "duration": 38,
    "start_time": "2022-05-02T11:07:49.657Z"
   },
   {
    "duration": 159,
    "start_time": "2022-05-02T11:07:49.698Z"
   },
   {
    "duration": 6,
    "start_time": "2022-05-02T11:07:49.859Z"
   },
   {
    "duration": 8,
    "start_time": "2022-05-02T11:07:49.867Z"
   },
   {
    "duration": 12,
    "start_time": "2022-05-02T11:07:49.877Z"
   },
   {
    "duration": 7,
    "start_time": "2022-05-02T11:07:49.891Z"
   },
   {
    "duration": 11,
    "start_time": "2022-05-02T11:07:49.900Z"
   },
   {
    "duration": 8,
    "start_time": "2022-05-02T11:07:49.913Z"
   },
   {
    "duration": 10,
    "start_time": "2022-05-02T11:07:49.923Z"
   },
   {
    "duration": 22,
    "start_time": "2022-05-02T11:07:49.934Z"
   },
   {
    "duration": 19,
    "start_time": "2022-05-02T11:07:49.958Z"
   },
   {
    "duration": 20,
    "start_time": "2022-05-02T11:07:49.978Z"
   },
   {
    "duration": 26,
    "start_time": "2022-05-02T11:07:50.000Z"
   },
   {
    "duration": 264,
    "start_time": "2022-05-02T11:07:50.028Z"
   },
   {
    "duration": 11,
    "start_time": "2022-05-02T11:07:50.294Z"
   },
   {
    "duration": 24,
    "start_time": "2022-05-02T11:07:50.306Z"
   },
   {
    "duration": 0,
    "start_time": "2022-05-02T11:07:50.332Z"
   },
   {
    "duration": 0,
    "start_time": "2022-05-02T11:07:50.333Z"
   },
   {
    "duration": 0,
    "start_time": "2022-05-02T11:07:50.355Z"
   },
   {
    "duration": 0,
    "start_time": "2022-05-02T11:07:50.356Z"
   },
   {
    "duration": 14,
    "start_time": "2022-05-02T11:08:20.407Z"
   },
   {
    "duration": 17,
    "start_time": "2022-05-02T11:11:29.025Z"
   },
   {
    "duration": 4,
    "start_time": "2022-05-02T11:11:40.307Z"
   },
   {
    "duration": 16,
    "start_time": "2022-05-02T11:11:45.665Z"
   },
   {
    "duration": 74,
    "start_time": "2022-05-05T10:32:04.451Z"
   },
   {
    "duration": 2234,
    "start_time": "2022-05-05T10:32:10.214Z"
   },
   {
    "duration": 74,
    "start_time": "2022-05-05T10:32:12.453Z"
   },
   {
    "duration": 35,
    "start_time": "2022-05-05T10:32:12.529Z"
   },
   {
    "duration": 24,
    "start_time": "2022-05-05T10:32:12.567Z"
   },
   {
    "duration": 61,
    "start_time": "2022-05-05T10:32:12.594Z"
   },
   {
    "duration": 45,
    "start_time": "2022-05-05T10:32:12.659Z"
   },
   {
    "duration": 11,
    "start_time": "2022-05-05T10:32:12.707Z"
   },
   {
    "duration": 72,
    "start_time": "2022-05-05T10:32:12.720Z"
   },
   {
    "duration": 60,
    "start_time": "2022-05-05T10:32:12.795Z"
   },
   {
    "duration": 10,
    "start_time": "2022-05-05T10:32:12.861Z"
   },
   {
    "duration": 12,
    "start_time": "2022-05-05T10:32:12.874Z"
   },
   {
    "duration": 12,
    "start_time": "2022-05-05T10:32:12.888Z"
   },
   {
    "duration": 7,
    "start_time": "2022-05-05T10:32:12.903Z"
   },
   {
    "duration": 15,
    "start_time": "2022-05-05T10:32:12.953Z"
   },
   {
    "duration": 21,
    "start_time": "2022-05-05T10:32:12.971Z"
   },
   {
    "duration": 13,
    "start_time": "2022-05-05T10:32:12.997Z"
   },
   {
    "duration": 22,
    "start_time": "2022-05-05T10:32:13.013Z"
   },
   {
    "duration": 40,
    "start_time": "2022-05-05T10:32:13.038Z"
   },
   {
    "duration": 42,
    "start_time": "2022-05-05T10:32:13.080Z"
   },
   {
    "duration": 63,
    "start_time": "2022-05-05T10:32:13.124Z"
   },
   {
    "duration": 511,
    "start_time": "2022-05-05T10:32:13.189Z"
   },
   {
    "duration": 14,
    "start_time": "2022-05-05T10:32:13.703Z"
   },
   {
    "duration": 50,
    "start_time": "2022-05-05T10:32:13.720Z"
   },
   {
    "duration": 2159,
    "start_time": "2022-05-05T10:32:13.774Z"
   },
   {
    "duration": 0,
    "start_time": "2022-05-05T10:32:15.935Z"
   },
   {
    "duration": 0,
    "start_time": "2022-05-05T10:32:15.937Z"
   },
   {
    "duration": 0,
    "start_time": "2022-05-05T10:32:15.939Z"
   },
   {
    "duration": 287,
    "start_time": "2022-05-05T10:32:45.643Z"
   },
   {
    "duration": 190,
    "start_time": "2022-05-05T10:32:58.020Z"
   },
   {
    "duration": 5,
    "start_time": "2022-05-05T10:33:12.100Z"
   },
   {
    "duration": 75,
    "start_time": "2022-05-05T10:33:12.108Z"
   },
   {
    "duration": 22,
    "start_time": "2022-05-05T10:33:12.189Z"
   },
   {
    "duration": 51,
    "start_time": "2022-05-05T10:33:12.214Z"
   },
   {
    "duration": 28,
    "start_time": "2022-05-05T10:33:12.267Z"
   },
   {
    "duration": 64,
    "start_time": "2022-05-05T10:33:12.297Z"
   },
   {
    "duration": 8,
    "start_time": "2022-05-05T10:33:12.363Z"
   },
   {
    "duration": 50,
    "start_time": "2022-05-05T10:33:12.374Z"
   },
   {
    "duration": 38,
    "start_time": "2022-05-05T10:33:12.429Z"
   },
   {
    "duration": 7,
    "start_time": "2022-05-05T10:33:12.469Z"
   },
   {
    "duration": 12,
    "start_time": "2022-05-05T10:33:12.479Z"
   },
   {
    "duration": 8,
    "start_time": "2022-05-05T10:33:12.494Z"
   },
   {
    "duration": 48,
    "start_time": "2022-05-05T10:33:12.504Z"
   },
   {
    "duration": 10,
    "start_time": "2022-05-05T10:33:12.554Z"
   },
   {
    "duration": 9,
    "start_time": "2022-05-05T10:33:12.566Z"
   },
   {
    "duration": 17,
    "start_time": "2022-05-05T10:33:12.577Z"
   },
   {
    "duration": 12,
    "start_time": "2022-05-05T10:33:12.596Z"
   },
   {
    "duration": 22,
    "start_time": "2022-05-05T10:33:12.610Z"
   },
   {
    "duration": 25,
    "start_time": "2022-05-05T10:33:12.651Z"
   },
   {
    "duration": 24,
    "start_time": "2022-05-05T10:33:12.679Z"
   },
   {
    "duration": 324,
    "start_time": "2022-05-05T10:33:12.707Z"
   },
   {
    "duration": 24,
    "start_time": "2022-05-05T10:33:13.033Z"
   },
   {
    "duration": 23,
    "start_time": "2022-05-05T10:33:13.059Z"
   },
   {
    "duration": 198,
    "start_time": "2022-05-05T10:33:13.086Z"
   },
   {
    "duration": 26,
    "start_time": "2022-05-05T10:33:13.286Z"
   },
   {
    "duration": 11,
    "start_time": "2022-05-05T10:33:13.315Z"
   },
   {
    "duration": 17,
    "start_time": "2022-05-05T10:33:13.352Z"
   },
   {
    "duration": 202,
    "start_time": "2022-05-05T10:35:41.308Z"
   },
   {
    "duration": 2899,
    "start_time": "2022-05-05T10:40:56.827Z"
   },
   {
    "duration": 2611,
    "start_time": "2022-05-05T10:42:15.721Z"
   },
   {
    "duration": 39,
    "start_time": "2022-05-05T10:42:38.960Z"
   },
   {
    "duration": 6,
    "start_time": "2022-05-05T10:44:54.974Z"
   },
   {
    "duration": 99,
    "start_time": "2022-05-05T10:44:54.983Z"
   },
   {
    "duration": 19,
    "start_time": "2022-05-05T10:44:55.084Z"
   },
   {
    "duration": 75,
    "start_time": "2022-05-05T10:44:55.106Z"
   },
   {
    "duration": 45,
    "start_time": "2022-05-05T10:44:55.184Z"
   },
   {
    "duration": 68,
    "start_time": "2022-05-05T10:44:55.231Z"
   },
   {
    "duration": 10,
    "start_time": "2022-05-05T10:44:55.301Z"
   },
   {
    "duration": 83,
    "start_time": "2022-05-05T10:44:55.313Z"
   },
   {
    "duration": 58,
    "start_time": "2022-05-05T10:44:55.401Z"
   },
   {
    "duration": 37,
    "start_time": "2022-05-05T10:44:55.463Z"
   },
   {
    "duration": 35,
    "start_time": "2022-05-05T10:44:55.503Z"
   },
   {
    "duration": 65,
    "start_time": "2022-05-05T10:44:55.540Z"
   },
   {
    "duration": 38,
    "start_time": "2022-05-05T10:44:55.608Z"
   },
   {
    "duration": 68,
    "start_time": "2022-05-05T10:44:55.648Z"
   },
   {
    "duration": 30,
    "start_time": "2022-05-05T10:44:55.719Z"
   },
   {
    "duration": 66,
    "start_time": "2022-05-05T10:44:55.752Z"
   },
   {
    "duration": 18,
    "start_time": "2022-05-05T10:44:55.820Z"
   },
   {
    "duration": 50,
    "start_time": "2022-05-05T10:44:55.840Z"
   },
   {
    "duration": 36,
    "start_time": "2022-05-05T10:44:55.896Z"
   },
   {
    "duration": 75,
    "start_time": "2022-05-05T10:44:55.935Z"
   },
   {
    "duration": 303,
    "start_time": "2022-05-05T10:44:56.012Z"
   },
   {
    "duration": 12,
    "start_time": "2022-05-05T10:44:56.317Z"
   },
   {
    "duration": 45,
    "start_time": "2022-05-05T10:44:56.332Z"
   },
   {
    "duration": 207,
    "start_time": "2022-05-05T10:44:56.382Z"
   },
   {
    "duration": 26,
    "start_time": "2022-05-05T10:44:56.591Z"
   },
   {
    "duration": 2143,
    "start_time": "2022-05-05T10:44:56.620Z"
   },
   {
    "duration": 0,
    "start_time": "2022-05-05T10:44:58.765Z"
   },
   {
    "duration": 2113,
    "start_time": "2022-05-05T10:45:19.316Z"
   },
   {
    "duration": 14,
    "start_time": "2022-05-05T10:45:40.994Z"
   },
   {
    "duration": 37,
    "start_time": "2022-05-05T10:47:34.332Z"
   },
   {
    "duration": 1799,
    "start_time": "2022-05-05T10:49:12.537Z"
   },
   {
    "duration": 8154,
    "start_time": "2022-05-05T10:50:06.280Z"
   },
   {
    "duration": 3124,
    "start_time": "2022-05-05T10:53:13.975Z"
   },
   {
    "duration": 1825,
    "start_time": "2022-05-05T10:54:15.037Z"
   },
   {
    "duration": 499,
    "start_time": "2022-05-05T10:54:30.037Z"
   },
   {
    "duration": 1828,
    "start_time": "2022-05-05T10:55:13.894Z"
   },
   {
    "duration": 537,
    "start_time": "2022-05-05T10:55:38.542Z"
   },
   {
    "duration": 533,
    "start_time": "2022-05-05T10:58:47.656Z"
   },
   {
    "duration": 1024,
    "start_time": "2022-05-05T10:59:10.720Z"
   },
   {
    "duration": 801,
    "start_time": "2022-05-05T11:01:04.705Z"
   },
   {
    "duration": 748,
    "start_time": "2022-05-05T11:01:40.049Z"
   },
   {
    "duration": 123,
    "start_time": "2022-05-05T11:01:54.772Z"
   },
   {
    "duration": 297,
    "start_time": "2022-05-05T11:02:00.876Z"
   },
   {
    "duration": 730,
    "start_time": "2022-05-05T11:02:14.506Z"
   },
   {
    "duration": 854,
    "start_time": "2022-05-05T11:02:24.731Z"
   },
   {
    "duration": 845,
    "start_time": "2022-05-05T11:02:32.617Z"
   },
   {
    "duration": 730,
    "start_time": "2022-05-05T11:02:40.460Z"
   },
   {
    "duration": 823,
    "start_time": "2022-05-05T11:03:45.747Z"
   },
   {
    "duration": 789,
    "start_time": "2022-05-05T11:04:22.323Z"
   },
   {
    "duration": 13,
    "start_time": "2022-05-05T11:07:59.874Z"
   },
   {
    "duration": 38,
    "start_time": "2022-05-05T11:08:05.605Z"
   },
   {
    "duration": 12,
    "start_time": "2022-05-05T11:09:14.520Z"
   },
   {
    "duration": 15,
    "start_time": "2022-05-05T11:09:20.261Z"
   },
   {
    "duration": 13,
    "start_time": "2022-05-05T11:09:22.926Z"
   },
   {
    "duration": 789,
    "start_time": "2022-05-05T11:09:36.094Z"
   },
   {
    "duration": 795,
    "start_time": "2022-05-05T11:11:08.968Z"
   },
   {
    "duration": 5,
    "start_time": "2022-05-05T11:12:07.261Z"
   },
   {
    "duration": 116,
    "start_time": "2022-05-05T11:12:07.269Z"
   },
   {
    "duration": 20,
    "start_time": "2022-05-05T11:12:07.387Z"
   },
   {
    "duration": 22,
    "start_time": "2022-05-05T11:12:07.410Z"
   },
   {
    "duration": 56,
    "start_time": "2022-05-05T11:12:07.434Z"
   },
   {
    "duration": 43,
    "start_time": "2022-05-05T11:12:07.492Z"
   },
   {
    "duration": 10,
    "start_time": "2022-05-05T11:12:07.551Z"
   },
   {
    "duration": 51,
    "start_time": "2022-05-05T11:12:07.563Z"
   },
   {
    "duration": 148,
    "start_time": "2022-05-05T11:12:07.617Z"
   },
   {
    "duration": 11,
    "start_time": "2022-05-05T11:12:07.769Z"
   },
   {
    "duration": 17,
    "start_time": "2022-05-05T11:12:07.783Z"
   },
   {
    "duration": 11,
    "start_time": "2022-05-05T11:12:07.803Z"
   },
   {
    "duration": 46,
    "start_time": "2022-05-05T11:12:07.817Z"
   },
   {
    "duration": 34,
    "start_time": "2022-05-05T11:12:07.866Z"
   },
   {
    "duration": 9,
    "start_time": "2022-05-05T11:12:07.903Z"
   },
   {
    "duration": 14,
    "start_time": "2022-05-05T11:12:07.914Z"
   },
   {
    "duration": 10,
    "start_time": "2022-05-05T11:12:07.930Z"
   },
   {
    "duration": 32,
    "start_time": "2022-05-05T11:12:07.942Z"
   },
   {
    "duration": 26,
    "start_time": "2022-05-05T11:12:07.977Z"
   },
   {
    "duration": 28,
    "start_time": "2022-05-05T11:12:08.006Z"
   },
   {
    "duration": 346,
    "start_time": "2022-05-05T11:12:08.036Z"
   },
   {
    "duration": 15,
    "start_time": "2022-05-05T11:12:08.384Z"
   },
   {
    "duration": 25,
    "start_time": "2022-05-05T11:12:08.401Z"
   },
   {
    "duration": 63,
    "start_time": "2022-05-05T11:12:08.430Z"
   },
   {
    "duration": 11,
    "start_time": "2022-05-05T11:12:08.495Z"
   },
   {
    "duration": 820,
    "start_time": "2022-05-05T11:12:08.508Z"
   },
   {
    "duration": 53,
    "start_time": "2022-05-05T11:12:09.331Z"
   },
   {
    "duration": 11,
    "start_time": "2022-05-05T11:12:51.945Z"
   },
   {
    "duration": 607,
    "start_time": "2022-05-05T11:12:53.993Z"
   },
   {
    "duration": 112,
    "start_time": "2022-05-05T11:16:17.420Z"
   },
   {
    "duration": 663,
    "start_time": "2022-05-05T11:22:39.441Z"
   },
   {
    "duration": 652,
    "start_time": "2022-05-05T11:23:54.306Z"
   },
   {
    "duration": 635,
    "start_time": "2022-05-05T11:24:16.075Z"
   },
   {
    "duration": 929,
    "start_time": "2022-05-05T11:24:37.306Z"
   },
   {
    "duration": 47,
    "start_time": "2022-05-05T21:23:21.996Z"
   },
   {
    "duration": 1319,
    "start_time": "2022-05-05T21:23:25.573Z"
   },
   {
    "duration": 55,
    "start_time": "2022-05-05T21:23:26.894Z"
   },
   {
    "duration": 14,
    "start_time": "2022-05-05T21:23:26.951Z"
   },
   {
    "duration": 13,
    "start_time": "2022-05-05T21:23:26.967Z"
   },
   {
    "duration": 17,
    "start_time": "2022-05-05T21:23:26.993Z"
   },
   {
    "duration": 28,
    "start_time": "2022-05-05T21:23:27.011Z"
   },
   {
    "duration": 5,
    "start_time": "2022-05-05T21:23:27.041Z"
   },
   {
    "duration": 53,
    "start_time": "2022-05-05T21:23:27.048Z"
   },
   {
    "duration": 16,
    "start_time": "2022-05-05T21:23:27.103Z"
   },
   {
    "duration": 5,
    "start_time": "2022-05-05T21:23:27.121Z"
   },
   {
    "duration": 10,
    "start_time": "2022-05-05T21:23:27.128Z"
   },
   {
    "duration": 5,
    "start_time": "2022-05-05T21:23:27.140Z"
   },
   {
    "duration": 5,
    "start_time": "2022-05-05T21:23:27.147Z"
   },
   {
    "duration": 10,
    "start_time": "2022-05-05T21:23:27.154Z"
   },
   {
    "duration": 29,
    "start_time": "2022-05-05T21:23:27.166Z"
   },
   {
    "duration": 9,
    "start_time": "2022-05-05T21:23:27.197Z"
   },
   {
    "duration": 7,
    "start_time": "2022-05-05T21:23:27.208Z"
   },
   {
    "duration": 16,
    "start_time": "2022-05-05T21:23:27.216Z"
   },
   {
    "duration": 17,
    "start_time": "2022-05-05T21:23:27.234Z"
   },
   {
    "duration": 46,
    "start_time": "2022-05-05T21:23:27.253Z"
   },
   {
    "duration": 184,
    "start_time": "2022-05-05T21:23:27.300Z"
   },
   {
    "duration": 11,
    "start_time": "2022-05-05T21:23:27.485Z"
   },
   {
    "duration": 11,
    "start_time": "2022-05-05T21:23:27.498Z"
   },
   {
    "duration": 355,
    "start_time": "2022-05-05T21:23:27.511Z"
   },
   {
    "duration": 7,
    "start_time": "2022-05-05T21:23:27.867Z"
   },
   {
    "duration": 24,
    "start_time": "2022-05-05T21:23:32.522Z"
   },
   {
    "duration": 17,
    "start_time": "2022-05-05T21:23:47.187Z"
   },
   {
    "duration": 12,
    "start_time": "2022-05-05T21:24:00.563Z"
   },
   {
    "duration": 22,
    "start_time": "2022-05-05T21:39:56.024Z"
   },
   {
    "duration": 80,
    "start_time": "2022-05-06T10:14:23.806Z"
   },
   {
    "duration": 98,
    "start_time": "2022-05-06T10:14:34.377Z"
   },
   {
    "duration": 11,
    "start_time": "2022-05-06T10:14:43.333Z"
   },
   {
    "duration": 1747,
    "start_time": "2022-05-06T10:14:54.505Z"
   },
   {
    "duration": 77,
    "start_time": "2022-05-06T10:14:56.255Z"
   },
   {
    "duration": 29,
    "start_time": "2022-05-06T10:14:56.334Z"
   },
   {
    "duration": 20,
    "start_time": "2022-05-06T10:14:56.367Z"
   },
   {
    "duration": 27,
    "start_time": "2022-05-06T10:14:56.389Z"
   },
   {
    "duration": 68,
    "start_time": "2022-05-06T10:14:56.418Z"
   },
   {
    "duration": 9,
    "start_time": "2022-05-06T10:14:56.488Z"
   },
   {
    "duration": 65,
    "start_time": "2022-05-06T10:14:56.500Z"
   },
   {
    "duration": 22,
    "start_time": "2022-05-06T10:14:56.568Z"
   },
   {
    "duration": 8,
    "start_time": "2022-05-06T10:14:56.594Z"
   },
   {
    "duration": 48,
    "start_time": "2022-05-06T10:14:56.604Z"
   },
   {
    "duration": 8,
    "start_time": "2022-05-06T10:14:56.655Z"
   },
   {
    "duration": 7,
    "start_time": "2022-05-06T10:14:56.665Z"
   },
   {
    "duration": 18,
    "start_time": "2022-05-06T10:14:56.674Z"
   },
   {
    "duration": 9,
    "start_time": "2022-05-06T10:14:56.694Z"
   },
   {
    "duration": 11,
    "start_time": "2022-05-06T10:14:56.705Z"
   },
   {
    "duration": 7,
    "start_time": "2022-05-06T10:14:56.751Z"
   },
   {
    "duration": 29,
    "start_time": "2022-05-06T10:14:56.760Z"
   },
   {
    "duration": 26,
    "start_time": "2022-05-06T10:14:56.792Z"
   },
   {
    "duration": 48,
    "start_time": "2022-05-06T10:14:56.820Z"
   },
   {
    "duration": 317,
    "start_time": "2022-05-06T10:14:56.870Z"
   },
   {
    "duration": 11,
    "start_time": "2022-05-06T10:14:57.189Z"
   },
   {
    "duration": 8,
    "start_time": "2022-05-06T10:14:57.202Z"
   },
   {
    "duration": 592,
    "start_time": "2022-05-06T10:14:57.212Z"
   },
   {
    "duration": 24,
    "start_time": "2022-05-06T10:14:57.807Z"
   },
   {
    "duration": 22,
    "start_time": "2022-05-06T10:14:57.833Z"
   },
   {
    "duration": 35,
    "start_time": "2022-05-06T10:14:57.857Z"
   },
   {
    "duration": 32,
    "start_time": "2022-05-06T10:15:27.503Z"
   },
   {
    "duration": 34,
    "start_time": "2022-05-06T10:15:48.238Z"
   },
   {
    "duration": 34,
    "start_time": "2022-05-06T10:16:16.431Z"
   },
   {
    "duration": 450,
    "start_time": "2022-05-06T10:24:11.252Z"
   },
   {
    "duration": 158,
    "start_time": "2022-05-06T10:27:05.336Z"
   },
   {
    "duration": 14,
    "start_time": "2022-05-06T10:27:11.079Z"
   },
   {
    "duration": 7,
    "start_time": "2022-05-06T10:28:21.300Z"
   },
   {
    "duration": 97,
    "start_time": "2022-05-06T10:30:53.156Z"
   },
   {
    "duration": 56,
    "start_time": "2022-05-06T10:32:55.072Z"
   },
   {
    "duration": 1518,
    "start_time": "2022-05-06T10:34:32.048Z"
   },
   {
    "duration": 56,
    "start_time": "2022-05-06T10:35:07.382Z"
   },
   {
    "duration": 1434,
    "start_time": "2022-05-06T10:35:22.064Z"
   },
   {
    "duration": 1813,
    "start_time": "2022-05-06T10:35:39.303Z"
   },
   {
    "duration": 333,
    "start_time": "2022-05-06T10:36:19.647Z"
   },
   {
    "duration": 38,
    "start_time": "2022-05-06T10:39:14.232Z"
   },
   {
    "duration": 1836,
    "start_time": "2022-05-06T10:42:43.379Z"
   },
   {
    "duration": 29,
    "start_time": "2022-05-06T10:43:47.164Z"
   },
   {
    "duration": 54,
    "start_time": "2022-05-06T10:43:58.635Z"
   },
   {
    "duration": 454,
    "start_time": "2022-05-06T10:46:17.023Z"
   },
   {
    "duration": 633,
    "start_time": "2022-05-06T10:46:33.494Z"
   },
   {
    "duration": 155,
    "start_time": "2022-05-06T10:51:43.489Z"
   },
   {
    "duration": 333,
    "start_time": "2022-05-06T10:52:06.155Z"
   },
   {
    "duration": 349,
    "start_time": "2022-05-06T10:52:33.262Z"
   },
   {
    "duration": 5,
    "start_time": "2022-05-06T10:52:56.286Z"
   },
   {
    "duration": 68,
    "start_time": "2022-05-06T10:52:56.294Z"
   },
   {
    "duration": 28,
    "start_time": "2022-05-06T10:52:56.365Z"
   },
   {
    "duration": 21,
    "start_time": "2022-05-06T10:52:56.396Z"
   },
   {
    "duration": 24,
    "start_time": "2022-05-06T10:52:56.452Z"
   },
   {
    "duration": 42,
    "start_time": "2022-05-06T10:52:56.479Z"
   },
   {
    "duration": 33,
    "start_time": "2022-05-06T10:52:56.524Z"
   },
   {
    "duration": 64,
    "start_time": "2022-05-06T10:52:56.560Z"
   },
   {
    "duration": 46,
    "start_time": "2022-05-06T10:52:56.627Z"
   },
   {
    "duration": 9,
    "start_time": "2022-05-06T10:52:56.676Z"
   },
   {
    "duration": 17,
    "start_time": "2022-05-06T10:52:56.690Z"
   },
   {
    "duration": 19,
    "start_time": "2022-05-06T10:52:56.710Z"
   },
   {
    "duration": 7,
    "start_time": "2022-05-06T10:52:56.754Z"
   },
   {
    "duration": 17,
    "start_time": "2022-05-06T10:52:56.764Z"
   },
   {
    "duration": 12,
    "start_time": "2022-05-06T10:52:56.783Z"
   },
   {
    "duration": 10,
    "start_time": "2022-05-06T10:52:56.798Z"
   },
   {
    "duration": 41,
    "start_time": "2022-05-06T10:52:56.811Z"
   },
   {
    "duration": 24,
    "start_time": "2022-05-06T10:52:56.855Z"
   },
   {
    "duration": 29,
    "start_time": "2022-05-06T10:52:56.882Z"
   },
   {
    "duration": 57,
    "start_time": "2022-05-06T10:52:56.913Z"
   },
   {
    "duration": 316,
    "start_time": "2022-05-06T10:52:56.973Z"
   },
   {
    "duration": 12,
    "start_time": "2022-05-06T10:52:57.292Z"
   },
   {
    "duration": 9,
    "start_time": "2022-05-06T10:52:57.307Z"
   },
   {
    "duration": 614,
    "start_time": "2022-05-06T10:52:57.319Z"
   },
   {
    "duration": 34,
    "start_time": "2022-05-06T10:52:57.935Z"
   },
   {
    "duration": 6,
    "start_time": "2022-05-06T10:52:57.972Z"
   },
   {
    "duration": 33,
    "start_time": "2022-05-06T10:52:57.981Z"
   },
   {
    "duration": 487,
    "start_time": "2022-05-06T10:52:58.017Z"
   },
   {
    "duration": 0,
    "start_time": "2022-05-06T10:52:58.507Z"
   },
   {
    "duration": 680,
    "start_time": "2022-05-06T10:53:36.205Z"
   },
   {
    "duration": 540,
    "start_time": "2022-05-06T10:53:55.812Z"
   },
   {
    "duration": 483,
    "start_time": "2022-05-06T10:54:57.101Z"
   },
   {
    "duration": 382,
    "start_time": "2022-05-06T10:55:12.326Z"
   },
   {
    "duration": 391,
    "start_time": "2022-05-06T10:55:54.566Z"
   },
   {
    "duration": 490,
    "start_time": "2022-05-06T10:57:33.439Z"
   },
   {
    "duration": 260,
    "start_time": "2022-05-06T11:12:01.219Z"
   },
   {
    "duration": 503,
    "start_time": "2022-05-06T11:12:28.404Z"
   },
   {
    "duration": 749,
    "start_time": "2022-05-06T11:17:48.903Z"
   },
   {
    "duration": 453,
    "start_time": "2022-05-06T11:46:41.108Z"
   },
   {
    "duration": 684,
    "start_time": "2022-05-06T11:46:56.441Z"
   },
   {
    "duration": 550,
    "start_time": "2022-05-06T11:47:20.852Z"
   },
   {
    "duration": 696,
    "start_time": "2022-05-06T11:47:29.341Z"
   },
   {
    "duration": 934,
    "start_time": "2022-05-06T11:47:44.461Z"
   },
   {
    "duration": 837,
    "start_time": "2022-05-06T11:48:49.644Z"
   },
   {
    "duration": 54,
    "start_time": "2022-05-14T01:19:25.689Z"
   },
   {
    "duration": 1436,
    "start_time": "2022-05-14T01:19:31.405Z"
   },
   {
    "duration": 73,
    "start_time": "2022-05-14T01:19:32.843Z"
   },
   {
    "duration": 17,
    "start_time": "2022-05-14T01:19:32.917Z"
   },
   {
    "duration": 14,
    "start_time": "2022-05-14T01:19:32.936Z"
   },
   {
    "duration": 20,
    "start_time": "2022-05-14T01:19:32.952Z"
   },
   {
    "duration": 50,
    "start_time": "2022-05-14T01:19:32.974Z"
   },
   {
    "duration": 7,
    "start_time": "2022-05-14T01:19:33.025Z"
   },
   {
    "duration": 29,
    "start_time": "2022-05-14T01:19:33.033Z"
   },
   {
    "duration": 14,
    "start_time": "2022-05-14T01:19:33.064Z"
   },
   {
    "duration": 5,
    "start_time": "2022-05-14T01:19:33.081Z"
   },
   {
    "duration": 8,
    "start_time": "2022-05-14T01:19:33.087Z"
   },
   {
    "duration": 6,
    "start_time": "2022-05-14T01:19:33.122Z"
   },
   {
    "duration": 6,
    "start_time": "2022-05-14T01:19:33.129Z"
   },
   {
    "duration": 8,
    "start_time": "2022-05-14T01:19:33.136Z"
   },
   {
    "duration": 5,
    "start_time": "2022-05-14T01:19:33.145Z"
   },
   {
    "duration": 8,
    "start_time": "2022-05-14T01:19:33.151Z"
   },
   {
    "duration": 9,
    "start_time": "2022-05-14T01:19:33.160Z"
   },
   {
    "duration": 17,
    "start_time": "2022-05-14T01:19:33.171Z"
   },
   {
    "duration": 41,
    "start_time": "2022-05-14T01:19:33.190Z"
   },
   {
    "duration": 16,
    "start_time": "2022-05-14T01:19:33.233Z"
   },
   {
    "duration": 190,
    "start_time": "2022-05-14T01:19:33.251Z"
   },
   {
    "duration": 9,
    "start_time": "2022-05-14T01:19:33.442Z"
   },
   {
    "duration": 6,
    "start_time": "2022-05-14T01:19:33.453Z"
   },
   {
    "duration": 359,
    "start_time": "2022-05-14T01:19:33.460Z"
   },
   {
    "duration": 18,
    "start_time": "2022-05-14T01:19:33.821Z"
   },
   {
    "duration": 5,
    "start_time": "2022-05-14T01:19:33.841Z"
   },
   {
    "duration": 23,
    "start_time": "2022-05-14T01:19:33.848Z"
   },
   {
    "duration": 451,
    "start_time": "2022-05-14T01:19:33.875Z"
   },
   {
    "duration": 0,
    "start_time": "2022-05-14T01:19:34.327Z"
   },
   {
    "duration": 373,
    "start_time": "2022-05-14T01:20:02.468Z"
   },
   {
    "duration": 517,
    "start_time": "2022-05-14T01:20:26.227Z"
   },
   {
    "duration": 25,
    "start_time": "2022-05-14T01:43:29.789Z"
   },
   {
    "duration": 22,
    "start_time": "2022-05-14T01:43:39.829Z"
   },
   {
    "duration": 23,
    "start_time": "2022-05-14T01:43:52.884Z"
   },
   {
    "duration": 22,
    "start_time": "2022-05-14T01:44:02.869Z"
   },
   {
    "duration": 21,
    "start_time": "2022-05-14T01:44:22.990Z"
   },
   {
    "duration": 153,
    "start_time": "2022-05-14T02:06:25.266Z"
   },
   {
    "duration": 5,
    "start_time": "2022-05-14T02:08:45.232Z"
   },
   {
    "duration": 5,
    "start_time": "2022-05-14T02:10:55.904Z"
   },
   {
    "duration": 145,
    "start_time": "2022-05-14T02:11:21.897Z"
   },
   {
    "duration": 5,
    "start_time": "2022-05-14T02:12:36.854Z"
   },
   {
    "duration": 159,
    "start_time": "2022-05-14T02:14:00.883Z"
   },
   {
    "duration": 2548,
    "start_time": "2022-05-14T02:14:37.684Z"
   },
   {
    "duration": 651,
    "start_time": "2022-05-14T02:14:46.344Z"
   },
   {
    "duration": 5,
    "start_time": "2022-05-14T02:16:39.365Z"
   },
   {
    "duration": 4,
    "start_time": "2022-05-14T02:16:55.173Z"
   },
   {
    "duration": 142,
    "start_time": "2022-05-14T02:16:56.749Z"
   },
   {
    "duration": 1247,
    "start_time": "2022-05-14T07:44:39.791Z"
   },
   {
    "duration": 50,
    "start_time": "2022-05-14T07:44:41.040Z"
   },
   {
    "duration": 15,
    "start_time": "2022-05-14T07:44:41.091Z"
   },
   {
    "duration": 14,
    "start_time": "2022-05-14T07:44:41.108Z"
   },
   {
    "duration": 40,
    "start_time": "2022-05-14T07:44:41.123Z"
   },
   {
    "duration": 27,
    "start_time": "2022-05-14T07:44:41.165Z"
   },
   {
    "duration": 6,
    "start_time": "2022-05-14T07:44:41.194Z"
   },
   {
    "duration": 32,
    "start_time": "2022-05-14T07:44:41.202Z"
   },
   {
    "duration": 35,
    "start_time": "2022-05-14T07:44:41.236Z"
   },
   {
    "duration": 5,
    "start_time": "2022-05-14T07:44:41.274Z"
   },
   {
    "duration": 17,
    "start_time": "2022-05-14T07:44:41.280Z"
   },
   {
    "duration": 15,
    "start_time": "2022-05-14T07:44:41.298Z"
   },
   {
    "duration": 13,
    "start_time": "2022-05-14T07:44:41.314Z"
   },
   {
    "duration": 13,
    "start_time": "2022-05-14T07:44:41.329Z"
   },
   {
    "duration": 11,
    "start_time": "2022-05-14T07:44:41.343Z"
   },
   {
    "duration": 11,
    "start_time": "2022-05-14T07:44:41.355Z"
   },
   {
    "duration": 7,
    "start_time": "2022-05-14T07:44:41.367Z"
   },
   {
    "duration": 16,
    "start_time": "2022-05-14T07:44:41.375Z"
   },
   {
    "duration": 16,
    "start_time": "2022-05-14T07:44:41.393Z"
   },
   {
    "duration": 15,
    "start_time": "2022-05-14T07:44:41.410Z"
   },
   {
    "duration": 186,
    "start_time": "2022-05-14T07:44:41.426Z"
   },
   {
    "duration": 7,
    "start_time": "2022-05-14T07:44:41.614Z"
   },
   {
    "duration": 8,
    "start_time": "2022-05-14T07:44:41.623Z"
   },
   {
    "duration": 346,
    "start_time": "2022-05-14T07:44:41.632Z"
   },
   {
    "duration": 17,
    "start_time": "2022-05-14T07:44:41.981Z"
   },
   {
    "duration": 5,
    "start_time": "2022-05-14T07:44:42.000Z"
   },
   {
    "duration": 25,
    "start_time": "2022-05-14T07:44:42.007Z"
   },
   {
    "duration": 357,
    "start_time": "2022-05-14T07:44:42.036Z"
   },
   {
    "duration": 402,
    "start_time": "2022-05-14T07:44:42.395Z"
   },
   {
    "duration": 2266,
    "start_time": "2022-05-14T07:44:42.799Z"
   },
   {
    "duration": 0,
    "start_time": "2022-05-14T07:44:45.067Z"
   },
   {
    "duration": 0,
    "start_time": "2022-05-14T07:44:45.068Z"
   },
   {
    "duration": 0,
    "start_time": "2022-05-14T07:44:45.069Z"
   },
   {
    "duration": 0,
    "start_time": "2022-05-14T07:44:45.070Z"
   },
   {
    "duration": 212,
    "start_time": "2022-05-14T07:44:59.369Z"
   },
   {
    "duration": 139,
    "start_time": "2022-05-14T07:45:05.723Z"
   },
   {
    "duration": 4,
    "start_time": "2022-05-14T07:45:08.530Z"
   },
   {
    "duration": 18,
    "start_time": "2022-05-14T07:50:05.926Z"
   },
   {
    "duration": 6,
    "start_time": "2022-05-14T07:50:21.805Z"
   },
   {
    "duration": 4,
    "start_time": "2022-05-14T07:51:04.663Z"
   },
   {
    "duration": 121,
    "start_time": "2022-05-14T07:52:19.631Z"
   },
   {
    "duration": 4,
    "start_time": "2022-05-14T07:52:56.783Z"
   },
   {
    "duration": 108,
    "start_time": "2022-05-14T07:55:05.936Z"
   },
   {
    "duration": 5,
    "start_time": "2022-05-14T07:55:33.130Z"
   },
   {
    "duration": 4,
    "start_time": "2022-05-14T07:55:47.509Z"
   },
   {
    "duration": 6,
    "start_time": "2022-05-14T07:57:04.026Z"
   },
   {
    "duration": 5,
    "start_time": "2022-05-14T08:11:52.259Z"
   },
   {
    "duration": 143,
    "start_time": "2022-05-14T08:11:55.557Z"
   },
   {
    "duration": 4,
    "start_time": "2022-05-14T08:12:00.262Z"
   },
   {
    "duration": 133,
    "start_time": "2022-05-14T08:12:02.637Z"
   },
   {
    "duration": 4,
    "start_time": "2022-05-14T08:12:12.934Z"
   },
   {
    "duration": 16,
    "start_time": "2022-05-14T09:07:31.246Z"
   },
   {
    "duration": 16,
    "start_time": "2022-05-14T09:07:48.726Z"
   },
   {
    "duration": 15,
    "start_time": "2022-05-14T09:10:37.028Z"
   },
   {
    "duration": 2,
    "start_time": "2022-05-14T09:10:43.172Z"
   },
   {
    "duration": 10,
    "start_time": "2022-05-14T09:11:41.340Z"
   },
   {
    "duration": 12,
    "start_time": "2022-05-14T09:12:13.379Z"
   },
   {
    "duration": 10,
    "start_time": "2022-05-14T09:13:08.974Z"
   },
   {
    "duration": 10,
    "start_time": "2022-05-14T09:14:27.327Z"
   },
   {
    "duration": 14,
    "start_time": "2022-05-14T09:15:15.855Z"
   },
   {
    "duration": 12,
    "start_time": "2022-05-14T09:15:28.767Z"
   },
   {
    "duration": 272,
    "start_time": "2022-05-14T09:15:38.832Z"
   },
   {
    "duration": 16,
    "start_time": "2022-05-14T09:16:18.744Z"
   },
   {
    "duration": 8,
    "start_time": "2022-05-14T09:23:18.166Z"
   },
   {
    "duration": 11,
    "start_time": "2022-05-14T09:23:23.192Z"
   },
   {
    "duration": 111,
    "start_time": "2022-05-14T09:23:30.213Z"
   },
   {
    "duration": 176,
    "start_time": "2022-05-14T09:24:18.383Z"
   },
   {
    "duration": 167,
    "start_time": "2022-05-14T09:24:53.279Z"
   },
   {
    "duration": 248,
    "start_time": "2022-05-14T09:28:00.961Z"
   },
   {
    "duration": 11,
    "start_time": "2022-05-14T09:29:11.991Z"
   },
   {
    "duration": 170,
    "start_time": "2022-05-14T09:30:48.235Z"
   },
   {
    "duration": 166,
    "start_time": "2022-05-14T09:31:15.899Z"
   },
   {
    "duration": 183,
    "start_time": "2022-05-14T09:31:54.324Z"
   },
   {
    "duration": 157,
    "start_time": "2022-05-14T09:32:44.053Z"
   },
   {
    "duration": 194,
    "start_time": "2022-05-14T09:33:51.918Z"
   },
   {
    "duration": 234,
    "start_time": "2022-05-14T09:33:57.574Z"
   },
   {
    "duration": 166,
    "start_time": "2022-05-14T09:34:01.078Z"
   },
   {
    "duration": 3,
    "start_time": "2022-05-14T09:44:58.879Z"
   },
   {
    "duration": 35,
    "start_time": "2022-05-14T10:52:45.682Z"
   },
   {
    "duration": 36,
    "start_time": "2022-05-14T11:13:51.761Z"
   },
   {
    "duration": 18,
    "start_time": "2022-05-14T11:18:45.144Z"
   },
   {
    "duration": 20,
    "start_time": "2022-05-14T11:19:15.921Z"
   },
   {
    "duration": 335,
    "start_time": "2022-05-14T11:20:33.593Z"
   },
   {
    "duration": 44,
    "start_time": "2022-05-14T11:21:08.866Z"
   },
   {
    "duration": 40,
    "start_time": "2022-05-14T11:21:30.738Z"
   },
   {
    "duration": 19,
    "start_time": "2022-05-14T11:22:07.850Z"
   },
   {
    "duration": 15,
    "start_time": "2022-05-14T11:22:33.587Z"
   },
   {
    "duration": 23,
    "start_time": "2022-05-14T11:24:35.269Z"
   },
   {
    "duration": 23,
    "start_time": "2022-05-14T11:28:09.328Z"
   },
   {
    "duration": 18,
    "start_time": "2022-05-14T11:28:23.783Z"
   },
   {
    "duration": 18,
    "start_time": "2022-05-14T11:29:19.927Z"
   },
   {
    "duration": 17,
    "start_time": "2022-05-14T11:29:39.967Z"
   },
   {
    "duration": 15,
    "start_time": "2022-05-14T11:29:50.327Z"
   },
   {
    "duration": 133,
    "start_time": "2022-05-14T11:32:37.906Z"
   },
   {
    "duration": 154,
    "start_time": "2022-05-14T11:32:43.353Z"
   },
   {
    "duration": 128,
    "start_time": "2022-05-14T11:32:51.843Z"
   },
   {
    "duration": 15,
    "start_time": "2022-05-14T11:33:00.242Z"
   },
   {
    "duration": 52,
    "start_time": "2022-05-15T00:41:10.088Z"
   },
   {
    "duration": 1402,
    "start_time": "2022-05-15T00:41:13.406Z"
   },
   {
    "duration": 72,
    "start_time": "2022-05-15T00:41:14.810Z"
   },
   {
    "duration": 16,
    "start_time": "2022-05-15T00:41:14.883Z"
   },
   {
    "duration": 15,
    "start_time": "2022-05-15T00:41:14.901Z"
   },
   {
    "duration": 23,
    "start_time": "2022-05-15T00:41:14.933Z"
   },
   {
    "duration": 30,
    "start_time": "2022-05-15T00:41:14.958Z"
   },
   {
    "duration": 6,
    "start_time": "2022-05-15T00:41:14.990Z"
   },
   {
    "duration": 52,
    "start_time": "2022-05-15T00:41:14.998Z"
   },
   {
    "duration": 16,
    "start_time": "2022-05-15T00:41:15.052Z"
   },
   {
    "duration": 15,
    "start_time": "2022-05-15T00:41:15.072Z"
   },
   {
    "duration": 11,
    "start_time": "2022-05-15T00:41:15.089Z"
   },
   {
    "duration": 39,
    "start_time": "2022-05-15T00:41:15.102Z"
   },
   {
    "duration": 14,
    "start_time": "2022-05-15T00:41:15.143Z"
   },
   {
    "duration": 21,
    "start_time": "2022-05-15T00:41:15.159Z"
   },
   {
    "duration": 9,
    "start_time": "2022-05-15T00:41:15.182Z"
   },
   {
    "duration": 10,
    "start_time": "2022-05-15T00:41:15.193Z"
   },
   {
    "duration": 8,
    "start_time": "2022-05-15T00:41:15.205Z"
   },
   {
    "duration": 17,
    "start_time": "2022-05-15T00:41:15.215Z"
   },
   {
    "duration": 19,
    "start_time": "2022-05-15T00:41:15.234Z"
   },
   {
    "duration": 19,
    "start_time": "2022-05-15T00:41:15.254Z"
   },
   {
    "duration": 222,
    "start_time": "2022-05-15T00:41:15.275Z"
   },
   {
    "duration": 8,
    "start_time": "2022-05-15T00:41:15.499Z"
   },
   {
    "duration": 8,
    "start_time": "2022-05-15T00:41:15.509Z"
   },
   {
    "duration": 394,
    "start_time": "2022-05-15T00:41:15.519Z"
   },
   {
    "duration": 21,
    "start_time": "2022-05-15T00:41:15.915Z"
   },
   {
    "duration": 4,
    "start_time": "2022-05-15T00:41:15.938Z"
   },
   {
    "duration": 26,
    "start_time": "2022-05-15T00:41:15.944Z"
   },
   {
    "duration": 429,
    "start_time": "2022-05-15T00:41:15.974Z"
   },
   {
    "duration": 479,
    "start_time": "2022-05-15T00:41:16.405Z"
   },
   {
    "duration": 5,
    "start_time": "2022-05-15T00:41:16.886Z"
   },
   {
    "duration": 163,
    "start_time": "2022-05-15T00:41:16.893Z"
   },
   {
    "duration": 5,
    "start_time": "2022-05-15T00:41:17.058Z"
   },
   {
    "duration": 221,
    "start_time": "2022-05-15T00:41:17.065Z"
   },
   {
    "duration": 5,
    "start_time": "2022-05-15T00:41:17.288Z"
   },
   {
    "duration": 8,
    "start_time": "2022-05-15T00:41:17.295Z"
   },
   {
    "duration": 180,
    "start_time": "2022-05-15T00:41:17.305Z"
   },
   {
    "duration": 5,
    "start_time": "2022-05-15T00:41:17.487Z"
   },
   {
    "duration": 178,
    "start_time": "2022-05-15T00:41:17.494Z"
   },
   {
    "duration": 5,
    "start_time": "2022-05-15T00:41:17.674Z"
   },
   {
    "duration": 14,
    "start_time": "2022-05-15T00:41:17.681Z"
   },
   {
    "duration": 209,
    "start_time": "2022-05-15T00:41:17.697Z"
   },
   {
    "duration": 12,
    "start_time": "2022-05-15T00:41:17.908Z"
   },
   {
    "duration": 196,
    "start_time": "2022-05-15T00:41:17.921Z"
   },
   {
    "duration": 4,
    "start_time": "2022-05-15T00:41:18.120Z"
   },
   {
    "duration": 18,
    "start_time": "2022-05-15T00:41:18.132Z"
   },
   {
    "duration": 86,
    "start_time": "2022-05-15T00:42:27.260Z"
   },
   {
    "duration": 26,
    "start_time": "2022-05-15T00:42:40.071Z"
   },
   {
    "duration": 25,
    "start_time": "2022-05-15T00:42:52.952Z"
   },
   {
    "duration": 29,
    "start_time": "2022-05-15T00:43:11.232Z"
   },
   {
    "duration": 28,
    "start_time": "2022-05-15T00:43:21.258Z"
   },
   {
    "duration": 25,
    "start_time": "2022-05-15T00:43:32.696Z"
   },
   {
    "duration": 24,
    "start_time": "2022-05-15T00:43:51.280Z"
   },
   {
    "duration": 32,
    "start_time": "2022-05-15T00:47:44.835Z"
   },
   {
    "duration": 34,
    "start_time": "2022-05-15T00:47:58.908Z"
   },
   {
    "duration": 32,
    "start_time": "2022-05-15T00:48:35.517Z"
   },
   {
    "duration": 32,
    "start_time": "2022-05-15T00:49:12.838Z"
   },
   {
    "duration": 36,
    "start_time": "2022-05-15T00:54:06.488Z"
   },
   {
    "duration": 32,
    "start_time": "2022-05-15T00:54:31.247Z"
   },
   {
    "duration": 27,
    "start_time": "2022-05-15T00:54:39.248Z"
   },
   {
    "duration": 31,
    "start_time": "2022-05-15T00:55:41.354Z"
   },
   {
    "duration": 147,
    "start_time": "2022-05-15T00:56:13.145Z"
   },
   {
    "duration": 31,
    "start_time": "2022-05-15T00:56:17.993Z"
   },
   {
    "duration": 36,
    "start_time": "2022-05-15T00:56:43.067Z"
   },
   {
    "duration": 37,
    "start_time": "2022-05-15T00:58:14.743Z"
   },
   {
    "duration": 38,
    "start_time": "2022-05-15T00:58:45.171Z"
   },
   {
    "duration": 37,
    "start_time": "2022-05-15T00:59:05.435Z"
   },
   {
    "duration": 36,
    "start_time": "2022-05-15T00:59:11.739Z"
   },
   {
    "duration": 29,
    "start_time": "2022-05-15T00:59:58.109Z"
   },
   {
    "duration": 35,
    "start_time": "2022-05-15T01:00:05.620Z"
   },
   {
    "duration": 36,
    "start_time": "2022-05-15T01:03:58.184Z"
   },
   {
    "duration": 34,
    "start_time": "2022-05-15T01:04:21.575Z"
   },
   {
    "duration": 35,
    "start_time": "2022-05-15T01:04:36.959Z"
   },
   {
    "duration": 37,
    "start_time": "2022-05-15T01:05:17.304Z"
   },
   {
    "duration": 31,
    "start_time": "2022-05-15T01:06:56.702Z"
   },
   {
    "duration": 33,
    "start_time": "2022-05-15T01:07:08.681Z"
   },
   {
    "duration": 5,
    "start_time": "2022-05-15T01:07:18.153Z"
   },
   {
    "duration": 30,
    "start_time": "2022-05-15T01:07:27.417Z"
   },
   {
    "duration": 36,
    "start_time": "2022-05-15T01:07:48.873Z"
   },
   {
    "duration": 39,
    "start_time": "2022-05-15T01:08:01.130Z"
   },
   {
    "duration": 17,
    "start_time": "2022-05-15T01:08:16.746Z"
   },
   {
    "duration": 20,
    "start_time": "2022-05-15T01:13:04.125Z"
   },
   {
    "duration": 18,
    "start_time": "2022-05-15T01:15:16.367Z"
   },
   {
    "duration": 19,
    "start_time": "2022-05-15T01:15:35.647Z"
   },
   {
    "duration": 20,
    "start_time": "2022-05-15T01:15:44.999Z"
   },
   {
    "duration": 17,
    "start_time": "2022-05-15T01:16:04.230Z"
   },
   {
    "duration": 17,
    "start_time": "2022-05-15T01:16:17.159Z"
   },
   {
    "duration": 12,
    "start_time": "2022-05-15T01:16:31.487Z"
   },
   {
    "duration": 4,
    "start_time": "2022-05-15T01:17:06.920Z"
   },
   {
    "duration": 9,
    "start_time": "2022-05-15T01:17:25.297Z"
   },
   {
    "duration": 18,
    "start_time": "2022-05-15T01:17:32.424Z"
   },
   {
    "duration": 5,
    "start_time": "2022-05-15T01:17:37.511Z"
   },
   {
    "duration": 11,
    "start_time": "2022-05-15T01:17:50.976Z"
   },
   {
    "duration": 17,
    "start_time": "2022-05-15T01:17:56.017Z"
   },
   {
    "duration": 11,
    "start_time": "2022-05-15T01:18:35.561Z"
   },
   {
    "duration": 19,
    "start_time": "2022-05-15T01:18:43.682Z"
   },
   {
    "duration": 20,
    "start_time": "2022-05-15T01:18:59.842Z"
   },
   {
    "duration": 20,
    "start_time": "2022-05-15T01:19:15.459Z"
   },
   {
    "duration": 23,
    "start_time": "2022-05-15T01:20:50.939Z"
   },
   {
    "duration": 25,
    "start_time": "2022-05-15T01:21:13.612Z"
   },
   {
    "duration": 25,
    "start_time": "2022-05-15T01:21:32.892Z"
   },
   {
    "duration": 26,
    "start_time": "2022-05-15T01:21:47.484Z"
   },
   {
    "duration": 2659,
    "start_time": "2022-05-15T01:32:51.316Z"
   },
   {
    "duration": 18,
    "start_time": "2022-05-15T01:45:38.637Z"
   },
   {
    "duration": 16,
    "start_time": "2022-05-15T01:45:41.396Z"
   },
   {
    "duration": 26,
    "start_time": "2022-05-15T01:46:04.165Z"
   },
   {
    "duration": 2658,
    "start_time": "2022-05-15T01:46:06.533Z"
   },
   {
    "duration": 2811,
    "start_time": "2022-05-15T01:46:11.125Z"
   },
   {
    "duration": 2710,
    "start_time": "2022-05-15T01:46:31.125Z"
   },
   {
    "duration": 3,
    "start_time": "2022-05-15T01:47:00.063Z"
   },
   {
    "duration": 9,
    "start_time": "2022-05-15T01:47:08.357Z"
   },
   {
    "duration": 10,
    "start_time": "2022-05-15T01:47:36.774Z"
   },
   {
    "duration": 9,
    "start_time": "2022-05-15T01:47:41.291Z"
   },
   {
    "duration": 12,
    "start_time": "2022-05-15T01:53:22.418Z"
   },
   {
    "duration": 11,
    "start_time": "2022-05-15T01:53:39.563Z"
   },
   {
    "duration": 2680,
    "start_time": "2022-05-15T01:54:43.488Z"
   },
   {
    "duration": 2691,
    "start_time": "2022-05-15T01:55:10.532Z"
   },
   {
    "duration": 21,
    "start_time": "2022-05-15T01:55:44.284Z"
   },
   {
    "duration": 20,
    "start_time": "2022-05-15T01:55:53.302Z"
   },
   {
    "duration": 23,
    "start_time": "2022-05-15T01:55:56.803Z"
   },
   {
    "duration": 18,
    "start_time": "2022-05-15T01:56:21.134Z"
   },
   {
    "duration": 25,
    "start_time": "2022-05-15T01:56:53.294Z"
   },
   {
    "duration": 8,
    "start_time": "2022-05-15T01:57:08.533Z"
   },
   {
    "duration": 4,
    "start_time": "2022-05-15T01:57:12.589Z"
   },
   {
    "duration": 2696,
    "start_time": "2022-05-15T01:57:34.757Z"
   },
   {
    "duration": 2738,
    "start_time": "2022-05-15T01:58:15.262Z"
   },
   {
    "duration": 2637,
    "start_time": "2022-05-15T01:58:27.233Z"
   },
   {
    "duration": 3705,
    "start_time": "2022-05-15T01:58:40.902Z"
   },
   {
    "duration": 2688,
    "start_time": "2022-05-15T01:59:12.935Z"
   },
   {
    "duration": 3,
    "start_time": "2022-05-15T02:00:59.535Z"
   },
   {
    "duration": 3,
    "start_time": "2022-05-15T02:02:17.345Z"
   },
   {
    "duration": 165,
    "start_time": "2022-05-15T02:03:37.594Z"
   },
   {
    "duration": 10,
    "start_time": "2022-05-15T02:03:44.874Z"
   },
   {
    "duration": 10,
    "start_time": "2022-05-15T02:04:13.554Z"
   },
   {
    "duration": 13,
    "start_time": "2022-05-15T02:04:29.290Z"
   },
   {
    "duration": 11,
    "start_time": "2022-05-15T02:05:05.764Z"
   },
   {
    "duration": 10,
    "start_time": "2022-05-15T02:06:01.933Z"
   },
   {
    "duration": 12,
    "start_time": "2022-05-15T02:06:06.460Z"
   },
   {
    "duration": 16,
    "start_time": "2022-05-15T02:06:08.461Z"
   },
   {
    "duration": 10,
    "start_time": "2022-05-15T02:06:11.341Z"
   },
   {
    "duration": 15,
    "start_time": "2022-05-15T02:06:17.172Z"
   },
   {
    "duration": 2605,
    "start_time": "2022-05-15T02:07:11.270Z"
   },
   {
    "duration": 13,
    "start_time": "2022-05-15T02:07:36.679Z"
   },
   {
    "duration": 15,
    "start_time": "2022-05-15T02:08:01.558Z"
   },
   {
    "duration": 21,
    "start_time": "2022-05-15T02:18:47.267Z"
   },
   {
    "duration": 355,
    "start_time": "2022-05-15T02:18:55.752Z"
   },
   {
    "duration": 324,
    "start_time": "2022-05-15T02:19:23.249Z"
   },
   {
    "duration": 468,
    "start_time": "2022-05-15T02:19:46.641Z"
   },
   {
    "duration": 325,
    "start_time": "2022-05-15T02:19:56.634Z"
   },
   {
    "duration": 378,
    "start_time": "2022-05-15T02:20:10.874Z"
   },
   {
    "duration": 27,
    "start_time": "2022-05-15T02:20:57.762Z"
   },
   {
    "duration": 376,
    "start_time": "2022-05-15T02:21:18.027Z"
   },
   {
    "duration": 171,
    "start_time": "2022-05-15T02:22:06.364Z"
   },
   {
    "duration": 372,
    "start_time": "2022-05-15T02:22:11.140Z"
   },
   {
    "duration": 516,
    "start_time": "2022-05-15T02:22:42.132Z"
   },
   {
    "duration": 404,
    "start_time": "2022-05-15T02:23:04.982Z"
   },
   {
    "duration": 426,
    "start_time": "2022-05-15T02:23:58.221Z"
   },
   {
    "duration": 389,
    "start_time": "2022-05-15T02:24:12.373Z"
   },
   {
    "duration": 403,
    "start_time": "2022-05-15T02:24:21.781Z"
   },
   {
    "duration": 157,
    "start_time": "2022-05-15T02:25:01.054Z"
   },
   {
    "duration": 536,
    "start_time": "2022-05-15T02:25:07.526Z"
   },
   {
    "duration": 399,
    "start_time": "2022-05-15T02:25:17.094Z"
   },
   {
    "duration": 399,
    "start_time": "2022-05-15T02:25:25.094Z"
   },
   {
    "duration": 392,
    "start_time": "2022-05-15T02:25:32.151Z"
   },
   {
    "duration": 28,
    "start_time": "2022-05-15T02:40:15.883Z"
   },
   {
    "duration": 26,
    "start_time": "2022-05-15T02:40:29.083Z"
   },
   {
    "duration": 27,
    "start_time": "2022-05-15T02:41:15.907Z"
   },
   {
    "duration": 24,
    "start_time": "2022-05-15T02:44:34.191Z"
   },
   {
    "duration": 36,
    "start_time": "2022-05-15T02:51:23.883Z"
   },
   {
    "duration": 34,
    "start_time": "2022-05-15T02:52:08.453Z"
   },
   {
    "duration": 10,
    "start_time": "2022-05-15T02:53:31.373Z"
   },
   {
    "duration": 34,
    "start_time": "2022-05-15T02:56:12.176Z"
   },
   {
    "duration": 34,
    "start_time": "2022-05-15T02:56:17.352Z"
   },
   {
    "duration": 33,
    "start_time": "2022-05-15T02:57:44.569Z"
   },
   {
    "duration": 38,
    "start_time": "2022-05-15T02:59:25.507Z"
   },
   {
    "duration": 16,
    "start_time": "2022-05-15T03:06:19.112Z"
   },
   {
    "duration": 14,
    "start_time": "2022-05-15T03:07:03.320Z"
   },
   {
    "duration": 16,
    "start_time": "2022-05-15T03:07:47.904Z"
   },
   {
    "duration": 14,
    "start_time": "2022-05-15T03:08:35.250Z"
   },
   {
    "duration": 14,
    "start_time": "2022-05-15T03:08:52.770Z"
   },
   {
    "duration": 14,
    "start_time": "2022-05-15T03:09:48.306Z"
   },
   {
    "duration": 14,
    "start_time": "2022-05-15T03:09:59.554Z"
   },
   {
    "duration": 38,
    "start_time": "2022-05-15T03:10:04.627Z"
   },
   {
    "duration": 13,
    "start_time": "2022-05-15T03:10:39.547Z"
   },
   {
    "duration": 17,
    "start_time": "2022-05-15T03:10:59.821Z"
   },
   {
    "duration": 18,
    "start_time": "2022-05-15T03:11:26.292Z"
   },
   {
    "duration": 20,
    "start_time": "2022-05-15T03:11:47.908Z"
   },
   {
    "duration": 21,
    "start_time": "2022-05-15T03:11:50.252Z"
   },
   {
    "duration": 25,
    "start_time": "2022-05-15T03:11:51.772Z"
   },
   {
    "duration": 23,
    "start_time": "2022-05-15T03:12:40.462Z"
   },
   {
    "duration": 26,
    "start_time": "2022-05-15T03:12:50.037Z"
   },
   {
    "duration": 2967,
    "start_time": "2022-05-15T03:16:32.256Z"
   },
   {
    "duration": 2780,
    "start_time": "2022-05-15T03:16:48.400Z"
   },
   {
    "duration": 14,
    "start_time": "2022-05-15T03:19:19.778Z"
   },
   {
    "duration": 348,
    "start_time": "2022-05-15T03:19:40.026Z"
   },
   {
    "duration": 527,
    "start_time": "2022-05-15T03:20:21.393Z"
   },
   {
    "duration": 350,
    "start_time": "2022-05-15T03:20:39.930Z"
   },
   {
    "duration": 26,
    "start_time": "2022-05-15T03:31:29.417Z"
   },
   {
    "duration": 11,
    "start_time": "2022-05-15T03:50:14.160Z"
   },
   {
    "duration": 19,
    "start_time": "2022-05-15T03:50:20.375Z"
   },
   {
    "duration": 18,
    "start_time": "2022-05-15T03:51:11.521Z"
   },
   {
    "duration": 19,
    "start_time": "2022-05-15T03:51:39.561Z"
   },
   {
    "duration": 18,
    "start_time": "2022-05-15T03:52:47.633Z"
   },
   {
    "duration": 17,
    "start_time": "2022-05-15T03:53:34.202Z"
   },
   {
    "duration": 18,
    "start_time": "2022-05-15T03:53:49.507Z"
   },
   {
    "duration": 19,
    "start_time": "2022-05-15T03:55:30.556Z"
   },
   {
    "duration": 18,
    "start_time": "2022-05-15T03:57:19.925Z"
   },
   {
    "duration": 262,
    "start_time": "2022-05-15T04:00:44.143Z"
   },
   {
    "duration": 19,
    "start_time": "2022-05-15T04:02:34.330Z"
   },
   {
    "duration": 20,
    "start_time": "2022-05-15T04:02:56.250Z"
   },
   {
    "duration": 18,
    "start_time": "2022-05-15T04:03:38.986Z"
   },
   {
    "duration": 267,
    "start_time": "2022-05-15T04:03:49.595Z"
   },
   {
    "duration": 274,
    "start_time": "2022-05-15T04:04:10.003Z"
   },
   {
    "duration": 339,
    "start_time": "2022-05-15T04:04:17.227Z"
   },
   {
    "duration": 339,
    "start_time": "2022-05-15T04:04:25.083Z"
   },
   {
    "duration": 404,
    "start_time": "2022-05-15T04:04:32.747Z"
   },
   {
    "duration": 400,
    "start_time": "2022-05-15T04:05:04.276Z"
   },
   {
    "duration": 1749,
    "start_time": "2022-05-15T06:32:57.983Z"
   },
   {
    "duration": 75,
    "start_time": "2022-05-15T06:32:59.736Z"
   },
   {
    "duration": 21,
    "start_time": "2022-05-15T06:32:59.813Z"
   },
   {
    "duration": 20,
    "start_time": "2022-05-15T06:32:59.837Z"
   },
   {
    "duration": 43,
    "start_time": "2022-05-15T06:32:59.860Z"
   },
   {
    "duration": 41,
    "start_time": "2022-05-15T06:32:59.905Z"
   },
   {
    "duration": 38,
    "start_time": "2022-05-15T06:32:59.948Z"
   },
   {
    "duration": 42,
    "start_time": "2022-05-15T06:32:59.988Z"
   },
   {
    "duration": 21,
    "start_time": "2022-05-15T06:33:00.032Z"
   },
   {
    "duration": 7,
    "start_time": "2022-05-15T06:33:00.083Z"
   },
   {
    "duration": 15,
    "start_time": "2022-05-15T06:33:00.092Z"
   },
   {
    "duration": 8,
    "start_time": "2022-05-15T06:33:00.109Z"
   },
   {
    "duration": 12,
    "start_time": "2022-05-15T06:33:00.120Z"
   },
   {
    "duration": 17,
    "start_time": "2022-05-15T06:33:00.135Z"
   },
   {
    "duration": 29,
    "start_time": "2022-05-15T06:33:00.154Z"
   },
   {
    "duration": 16,
    "start_time": "2022-05-15T06:33:00.185Z"
   },
   {
    "duration": 15,
    "start_time": "2022-05-15T06:33:00.204Z"
   },
   {
    "duration": 24,
    "start_time": "2022-05-15T06:33:00.222Z"
   },
   {
    "duration": 37,
    "start_time": "2022-05-15T06:33:00.248Z"
   },
   {
    "duration": 23,
    "start_time": "2022-05-15T06:33:00.287Z"
   },
   {
    "duration": 328,
    "start_time": "2022-05-15T06:33:00.312Z"
   },
   {
    "duration": 11,
    "start_time": "2022-05-15T06:33:00.643Z"
   },
   {
    "duration": 30,
    "start_time": "2022-05-15T06:33:00.656Z"
   },
   {
    "duration": 598,
    "start_time": "2022-05-15T06:33:00.688Z"
   },
   {
    "duration": 29,
    "start_time": "2022-05-15T06:33:01.289Z"
   },
   {
    "duration": 7,
    "start_time": "2022-05-15T06:33:01.321Z"
   },
   {
    "duration": 56,
    "start_time": "2022-05-15T06:33:01.330Z"
   },
   {
    "duration": 673,
    "start_time": "2022-05-15T06:33:01.391Z"
   },
   {
    "duration": 885,
    "start_time": "2022-05-15T06:33:02.066Z"
   },
   {
    "duration": 6,
    "start_time": "2022-05-15T06:33:02.954Z"
   },
   {
    "duration": 263,
    "start_time": "2022-05-15T06:33:02.963Z"
   },
   {
    "duration": 6,
    "start_time": "2022-05-15T06:33:03.228Z"
   },
   {
    "duration": 301,
    "start_time": "2022-05-15T06:33:03.236Z"
   },
   {
    "duration": 5,
    "start_time": "2022-05-15T06:33:03.539Z"
   },
   {
    "duration": 9,
    "start_time": "2022-05-15T06:33:03.546Z"
   },
   {
    "duration": 275,
    "start_time": "2022-05-15T06:33:03.557Z"
   },
   {
    "duration": 6,
    "start_time": "2022-05-15T06:33:03.834Z"
   },
   {
    "duration": 272,
    "start_time": "2022-05-15T06:33:03.842Z"
   },
   {
    "duration": 5,
    "start_time": "2022-05-15T06:33:04.117Z"
   },
   {
    "duration": 19,
    "start_time": "2022-05-15T06:33:04.125Z"
   },
   {
    "duration": 329,
    "start_time": "2022-05-15T06:33:04.147Z"
   },
   {
    "duration": 17,
    "start_time": "2022-05-15T06:33:04.481Z"
   },
   {
    "duration": 301,
    "start_time": "2022-05-15T06:33:04.500Z"
   },
   {
    "duration": 7,
    "start_time": "2022-05-15T06:33:04.803Z"
   },
   {
    "duration": 87,
    "start_time": "2022-05-15T06:33:04.813Z"
   },
   {
    "duration": 36,
    "start_time": "2022-05-15T06:33:04.902Z"
   },
   {
    "duration": 666,
    "start_time": "2022-05-15T06:33:04.940Z"
   },
   {
    "duration": 75,
    "start_time": "2022-05-15T06:33:05.608Z"
   },
   {
    "duration": 39,
    "start_time": "2022-05-15T06:33:05.685Z"
   },
   {
    "duration": 555,
    "start_time": "2022-05-15T06:33:05.726Z"
   },
   {
    "duration": 26,
    "start_time": "2022-05-15T06:33:06.284Z"
   },
   {
    "duration": 438,
    "start_time": "2022-05-15T06:33:06.313Z"
   },
   {
    "duration": 157,
    "start_time": "2022-05-15T06:33:06.753Z"
   },
   {
    "duration": 0,
    "start_time": "2022-05-15T06:33:06.912Z"
   },
   {
    "duration": 15,
    "start_time": "2022-05-15T06:33:12.257Z"
   },
   {
    "duration": 39,
    "start_time": "2022-05-15T06:33:48.391Z"
   },
   {
    "duration": 9,
    "start_time": "2022-05-15T06:34:21.048Z"
   },
   {
    "duration": 8,
    "start_time": "2022-05-15T06:34:25.114Z"
   },
   {
    "duration": 5,
    "start_time": "2022-05-15T06:36:19.921Z"
   },
   {
    "duration": 6,
    "start_time": "2022-05-15T06:36:29.736Z"
   },
   {
    "duration": 4,
    "start_time": "2022-05-15T06:37:38.697Z"
   },
   {
    "duration": 40,
    "start_time": "2022-05-15T06:38:38.266Z"
   },
   {
    "duration": 27,
    "start_time": "2022-05-15T06:38:44.882Z"
   },
   {
    "duration": 10,
    "start_time": "2022-05-15T06:40:13.107Z"
   },
   {
    "duration": 28,
    "start_time": "2022-05-15T06:40:16.499Z"
   },
   {
    "duration": 6,
    "start_time": "2022-05-15T06:40:18.522Z"
   },
   {
    "duration": 13,
    "start_time": "2022-05-15T06:44:08.396Z"
   },
   {
    "duration": 4,
    "start_time": "2022-05-15T06:44:17.005Z"
   },
   {
    "duration": 6,
    "start_time": "2022-05-15T06:44:18.909Z"
   },
   {
    "duration": 7,
    "start_time": "2022-05-15T06:44:28.021Z"
   },
   {
    "duration": 7,
    "start_time": "2022-05-15T06:44:31.941Z"
   },
   {
    "duration": 5,
    "start_time": "2022-05-15T06:47:37.247Z"
   },
   {
    "duration": 6,
    "start_time": "2022-05-15T06:47:47.751Z"
   },
   {
    "duration": 6,
    "start_time": "2022-05-15T06:48:08.368Z"
   },
   {
    "duration": 9,
    "start_time": "2022-05-15T06:49:16.329Z"
   },
   {
    "duration": 9,
    "start_time": "2022-05-15T06:54:26.662Z"
   },
   {
    "duration": 9,
    "start_time": "2022-05-15T06:54:53.913Z"
   },
   {
    "duration": 5,
    "start_time": "2022-05-15T06:54:57.869Z"
   },
   {
    "duration": 6,
    "start_time": "2022-05-15T06:55:08.461Z"
   },
   {
    "duration": 5,
    "start_time": "2022-05-15T06:56:09.543Z"
   },
   {
    "duration": 7,
    "start_time": "2022-05-15T06:56:38.608Z"
   },
   {
    "duration": 6,
    "start_time": "2022-05-15T06:59:31.098Z"
   },
   {
    "duration": 6,
    "start_time": "2022-05-15T06:59:44.342Z"
   },
   {
    "duration": 6,
    "start_time": "2022-05-15T06:59:45.546Z"
   },
   {
    "duration": 9,
    "start_time": "2022-05-15T06:59:53.745Z"
   },
   {
    "duration": 7,
    "start_time": "2022-05-15T07:00:08.705Z"
   },
   {
    "duration": 6,
    "start_time": "2022-05-15T07:00:16.753Z"
   },
   {
    "duration": 7,
    "start_time": "2022-05-15T07:00:21.913Z"
   },
   {
    "duration": 7,
    "start_time": "2022-05-15T07:03:22.324Z"
   },
   {
    "duration": 7,
    "start_time": "2022-05-15T07:51:11.724Z"
   },
   {
    "duration": 8,
    "start_time": "2022-05-15T07:51:14.840Z"
   },
   {
    "duration": 8,
    "start_time": "2022-05-15T07:51:17.462Z"
   },
   {
    "duration": 4,
    "start_time": "2022-05-15T07:51:22.288Z"
   },
   {
    "duration": 71,
    "start_time": "2022-05-15T07:51:22.294Z"
   },
   {
    "duration": 29,
    "start_time": "2022-05-15T07:51:22.368Z"
   },
   {
    "duration": 21,
    "start_time": "2022-05-15T07:51:22.399Z"
   },
   {
    "duration": 65,
    "start_time": "2022-05-15T07:51:22.423Z"
   },
   {
    "duration": 43,
    "start_time": "2022-05-15T07:51:22.490Z"
   },
   {
    "duration": 8,
    "start_time": "2022-05-15T07:51:22.535Z"
   },
   {
    "duration": 39,
    "start_time": "2022-05-15T07:51:22.581Z"
   },
   {
    "duration": 69,
    "start_time": "2022-05-15T07:51:22.623Z"
   },
   {
    "duration": 10,
    "start_time": "2022-05-15T07:51:22.695Z"
   },
   {
    "duration": 8,
    "start_time": "2022-05-15T07:51:22.710Z"
   },
   {
    "duration": 8,
    "start_time": "2022-05-15T07:51:22.720Z"
   },
   {
    "duration": 54,
    "start_time": "2022-05-15T07:51:22.729Z"
   },
   {
    "duration": 11,
    "start_time": "2022-05-15T07:51:22.786Z"
   },
   {
    "duration": 11,
    "start_time": "2022-05-15T07:51:22.800Z"
   },
   {
    "duration": 11,
    "start_time": "2022-05-15T07:51:22.813Z"
   },
   {
    "duration": 56,
    "start_time": "2022-05-15T07:51:22.827Z"
   },
   {
    "duration": 21,
    "start_time": "2022-05-15T07:51:22.886Z"
   },
   {
    "duration": 36,
    "start_time": "2022-05-15T07:51:22.910Z"
   },
   {
    "duration": 37,
    "start_time": "2022-05-15T07:51:22.983Z"
   },
   {
    "duration": 341,
    "start_time": "2022-05-15T07:51:23.023Z"
   },
   {
    "duration": 22,
    "start_time": "2022-05-15T07:51:23.366Z"
   },
   {
    "duration": 18,
    "start_time": "2022-05-15T07:51:23.390Z"
   },
   {
    "duration": 748,
    "start_time": "2022-05-15T07:51:23.410Z"
   },
   {
    "duration": 42,
    "start_time": "2022-05-15T07:51:24.160Z"
   },
   {
    "duration": 7,
    "start_time": "2022-05-15T07:51:24.205Z"
   },
   {
    "duration": 69,
    "start_time": "2022-05-15T07:51:24.214Z"
   },
   {
    "duration": 677,
    "start_time": "2022-05-15T07:51:24.286Z"
   },
   {
    "duration": 843,
    "start_time": "2022-05-15T07:51:24.982Z"
   },
   {
    "duration": 7,
    "start_time": "2022-05-15T07:51:25.827Z"
   },
   {
    "duration": 258,
    "start_time": "2022-05-15T07:51:25.836Z"
   },
   {
    "duration": 6,
    "start_time": "2022-05-15T07:51:26.097Z"
   },
   {
    "duration": 329,
    "start_time": "2022-05-15T07:51:26.106Z"
   },
   {
    "duration": 7,
    "start_time": "2022-05-15T07:51:26.437Z"
   },
   {
    "duration": 36,
    "start_time": "2022-05-15T07:51:26.447Z"
   },
   {
    "duration": 267,
    "start_time": "2022-05-15T07:51:26.485Z"
   },
   {
    "duration": 7,
    "start_time": "2022-05-15T07:51:26.754Z"
   },
   {
    "duration": 281,
    "start_time": "2022-05-15T07:51:26.763Z"
   },
   {
    "duration": 7,
    "start_time": "2022-05-15T07:51:27.047Z"
   },
   {
    "duration": 36,
    "start_time": "2022-05-15T07:51:27.056Z"
   },
   {
    "duration": 455,
    "start_time": "2022-05-15T07:51:27.094Z"
   },
   {
    "duration": 42,
    "start_time": "2022-05-15T07:51:27.551Z"
   },
   {
    "duration": 536,
    "start_time": "2022-05-15T07:51:27.596Z"
   },
   {
    "duration": 7,
    "start_time": "2022-05-15T07:51:28.134Z"
   },
   {
    "duration": 79,
    "start_time": "2022-05-15T07:51:28.143Z"
   },
   {
    "duration": 63,
    "start_time": "2022-05-15T07:51:28.224Z"
   },
   {
    "duration": 724,
    "start_time": "2022-05-15T07:51:28.290Z"
   },
   {
    "duration": 74,
    "start_time": "2022-05-15T07:51:29.016Z"
   },
   {
    "duration": 37,
    "start_time": "2022-05-15T07:51:29.092Z"
   },
   {
    "duration": 568,
    "start_time": "2022-05-15T07:51:29.132Z"
   },
   {
    "duration": 26,
    "start_time": "2022-05-15T07:51:29.702Z"
   },
   {
    "duration": 451,
    "start_time": "2022-05-15T07:51:29.730Z"
   },
   {
    "duration": 8,
    "start_time": "2022-05-15T07:51:30.184Z"
   },
   {
    "duration": 19,
    "start_time": "2022-05-15T07:51:30.194Z"
   },
   {
    "duration": 19,
    "start_time": "2022-05-15T07:51:30.215Z"
   },
   {
    "duration": 14,
    "start_time": "2022-05-15T07:51:30.236Z"
   },
   {
    "duration": 32,
    "start_time": "2022-05-15T07:51:30.252Z"
   },
   {
    "duration": 20,
    "start_time": "2022-05-15T07:51:30.286Z"
   },
   {
    "duration": 21,
    "start_time": "2022-05-15T07:51:30.308Z"
   },
   {
    "duration": 16,
    "start_time": "2022-05-15T07:51:30.331Z"
   },
   {
    "duration": 36,
    "start_time": "2022-05-15T07:51:30.349Z"
   },
   {
    "duration": 15,
    "start_time": "2022-05-15T07:51:30.387Z"
   },
   {
    "duration": 28,
    "start_time": "2022-05-15T07:51:30.404Z"
   },
   {
    "duration": 8,
    "start_time": "2022-05-15T07:51:44.872Z"
   },
   {
    "duration": 4,
    "start_time": "2022-05-15T07:51:56.457Z"
   },
   {
    "duration": 61,
    "start_time": "2022-05-15T07:51:56.464Z"
   },
   {
    "duration": 20,
    "start_time": "2022-05-15T07:51:56.527Z"
   },
   {
    "duration": 52,
    "start_time": "2022-05-15T07:51:56.550Z"
   },
   {
    "duration": 25,
    "start_time": "2022-05-15T07:51:56.605Z"
   },
   {
    "duration": 82,
    "start_time": "2022-05-15T07:51:56.633Z"
   },
   {
    "duration": 8,
    "start_time": "2022-05-15T07:51:56.718Z"
   },
   {
    "duration": 83,
    "start_time": "2022-05-15T07:51:56.729Z"
   },
   {
    "duration": 23,
    "start_time": "2022-05-15T07:51:56.814Z"
   },
   {
    "duration": 44,
    "start_time": "2022-05-15T07:51:56.839Z"
   },
   {
    "duration": 10,
    "start_time": "2022-05-15T07:51:56.887Z"
   },
   {
    "duration": 7,
    "start_time": "2022-05-15T07:51:56.899Z"
   },
   {
    "duration": 12,
    "start_time": "2022-05-15T07:51:56.908Z"
   },
   {
    "duration": 59,
    "start_time": "2022-05-15T07:51:56.922Z"
   },
   {
    "duration": 7,
    "start_time": "2022-05-15T07:51:56.984Z"
   },
   {
    "duration": 10,
    "start_time": "2022-05-15T07:51:56.993Z"
   },
   {
    "duration": 13,
    "start_time": "2022-05-15T07:51:57.005Z"
   },
   {
    "duration": 23,
    "start_time": "2022-05-15T07:51:57.020Z"
   },
   {
    "duration": 57,
    "start_time": "2022-05-15T07:51:57.045Z"
   },
   {
    "duration": 25,
    "start_time": "2022-05-15T07:51:57.104Z"
   },
   {
    "duration": 331,
    "start_time": "2022-05-15T07:51:57.131Z"
   },
   {
    "duration": 21,
    "start_time": "2022-05-15T07:51:57.465Z"
   },
   {
    "duration": 10,
    "start_time": "2022-05-15T07:51:57.488Z"
   },
   {
    "duration": 689,
    "start_time": "2022-05-15T07:51:57.500Z"
   },
   {
    "duration": 31,
    "start_time": "2022-05-15T07:51:58.191Z"
   },
   {
    "duration": 7,
    "start_time": "2022-05-15T07:51:58.225Z"
   },
   {
    "duration": 73,
    "start_time": "2022-05-15T07:51:58.234Z"
   },
   {
    "duration": 877,
    "start_time": "2022-05-15T07:51:58.309Z"
   },
   {
    "duration": 945,
    "start_time": "2022-05-15T07:51:59.192Z"
   },
   {
    "duration": 6,
    "start_time": "2022-05-15T07:52:00.140Z"
   },
   {
    "duration": 246,
    "start_time": "2022-05-15T07:52:00.148Z"
   },
   {
    "duration": 6,
    "start_time": "2022-05-15T07:52:00.396Z"
   },
   {
    "duration": 233,
    "start_time": "2022-05-15T07:52:00.404Z"
   },
   {
    "duration": 6,
    "start_time": "2022-05-15T07:52:00.639Z"
   },
   {
    "duration": 35,
    "start_time": "2022-05-15T07:52:00.647Z"
   },
   {
    "duration": 254,
    "start_time": "2022-05-15T07:52:00.684Z"
   },
   {
    "duration": 6,
    "start_time": "2022-05-15T07:52:00.941Z"
   },
   {
    "duration": 273,
    "start_time": "2022-05-15T07:52:00.949Z"
   },
   {
    "duration": 7,
    "start_time": "2022-05-15T07:52:01.226Z"
   },
   {
    "duration": 49,
    "start_time": "2022-05-15T07:52:01.236Z"
   },
   {
    "duration": 327,
    "start_time": "2022-05-15T07:52:01.288Z"
   },
   {
    "duration": 19,
    "start_time": "2022-05-15T07:52:01.619Z"
   },
   {
    "duration": 312,
    "start_time": "2022-05-15T07:52:01.642Z"
   },
   {
    "duration": 6,
    "start_time": "2022-05-15T07:52:01.958Z"
   },
   {
    "duration": 62,
    "start_time": "2022-05-15T07:52:01.983Z"
   },
   {
    "duration": 39,
    "start_time": "2022-05-15T07:52:02.083Z"
   },
   {
    "duration": 659,
    "start_time": "2022-05-15T07:52:02.125Z"
   },
   {
    "duration": 55,
    "start_time": "2022-05-15T07:52:02.787Z"
   },
   {
    "duration": 65,
    "start_time": "2022-05-15T07:52:02.845Z"
   },
   {
    "duration": 664,
    "start_time": "2022-05-15T07:52:02.912Z"
   },
   {
    "duration": 26,
    "start_time": "2022-05-15T07:52:03.582Z"
   },
   {
    "duration": 447,
    "start_time": "2022-05-15T07:52:03.610Z"
   },
   {
    "duration": 8,
    "start_time": "2022-05-15T07:52:04.059Z"
   },
   {
    "duration": 5,
    "start_time": "2022-05-15T07:52:04.082Z"
   },
   {
    "duration": 9,
    "start_time": "2022-05-15T07:52:04.089Z"
   },
   {
    "duration": 8,
    "start_time": "2022-05-15T07:52:04.099Z"
   },
   {
    "duration": 7,
    "start_time": "2022-05-15T07:52:04.109Z"
   },
   {
    "duration": 14,
    "start_time": "2022-05-15T07:52:04.119Z"
   },
   {
    "duration": 51,
    "start_time": "2022-05-15T07:52:04.136Z"
   },
   {
    "duration": 6,
    "start_time": "2022-05-15T07:52:04.189Z"
   },
   {
    "duration": 6,
    "start_time": "2022-05-15T07:52:04.197Z"
   },
   {
    "duration": 5,
    "start_time": "2022-05-15T07:52:04.205Z"
   },
   {
    "duration": 8,
    "start_time": "2022-05-15T07:52:04.212Z"
   },
   {
    "duration": 7,
    "start_time": "2022-05-15T07:52:38.073Z"
   },
   {
    "duration": 7,
    "start_time": "2022-05-15T07:52:48.840Z"
   },
   {
    "duration": 4,
    "start_time": "2022-05-15T07:52:53.848Z"
   },
   {
    "duration": 8,
    "start_time": "2022-05-15T07:52:54.984Z"
   },
   {
    "duration": 8,
    "start_time": "2022-05-15T07:53:15.272Z"
   },
   {
    "duration": 7,
    "start_time": "2022-05-15T07:53:20.212Z"
   },
   {
    "duration": 4,
    "start_time": "2022-05-15T07:53:23.314Z"
   },
   {
    "duration": 61,
    "start_time": "2022-05-15T07:53:23.324Z"
   },
   {
    "duration": 22,
    "start_time": "2022-05-15T07:53:23.388Z"
   },
   {
    "duration": 34,
    "start_time": "2022-05-15T07:53:23.412Z"
   },
   {
    "duration": 53,
    "start_time": "2022-05-15T07:53:23.449Z"
   },
   {
    "duration": 78,
    "start_time": "2022-05-15T07:53:23.505Z"
   },
   {
    "duration": 8,
    "start_time": "2022-05-15T07:53:23.586Z"
   },
   {
    "duration": 38,
    "start_time": "2022-05-15T07:53:23.596Z"
   },
   {
    "duration": 63,
    "start_time": "2022-05-15T07:53:23.638Z"
   },
   {
    "duration": 8,
    "start_time": "2022-05-15T07:53:23.703Z"
   },
   {
    "duration": 10,
    "start_time": "2022-05-15T07:53:23.715Z"
   },
   {
    "duration": 59,
    "start_time": "2022-05-15T07:53:23.727Z"
   },
   {
    "duration": 7,
    "start_time": "2022-05-15T07:53:23.789Z"
   },
   {
    "duration": 9,
    "start_time": "2022-05-15T07:53:23.799Z"
   },
   {
    "duration": 7,
    "start_time": "2022-05-15T07:53:23.810Z"
   },
   {
    "duration": 64,
    "start_time": "2022-05-15T07:53:23.819Z"
   },
   {
    "duration": 9,
    "start_time": "2022-05-15T07:53:23.885Z"
   },
   {
    "duration": 23,
    "start_time": "2022-05-15T07:53:23.897Z"
   },
   {
    "duration": 23,
    "start_time": "2022-05-15T07:53:23.922Z"
   },
   {
    "duration": 56,
    "start_time": "2022-05-15T07:53:23.947Z"
   },
   {
    "duration": 312,
    "start_time": "2022-05-15T07:53:24.005Z"
   },
   {
    "duration": 12,
    "start_time": "2022-05-15T07:53:24.319Z"
   },
   {
    "duration": 9,
    "start_time": "2022-05-15T07:53:24.334Z"
   },
   {
    "duration": 597,
    "start_time": "2022-05-15T07:53:24.345Z"
   },
   {
    "duration": 52,
    "start_time": "2022-05-15T07:53:24.944Z"
   },
   {
    "duration": 7,
    "start_time": "2022-05-15T07:53:24.998Z"
   },
   {
    "duration": 32,
    "start_time": "2022-05-15T07:53:25.007Z"
   },
   {
    "duration": 672,
    "start_time": "2022-05-15T07:53:25.041Z"
   },
   {
    "duration": 851,
    "start_time": "2022-05-15T07:53:25.719Z"
   },
   {
    "duration": 11,
    "start_time": "2022-05-15T07:53:26.573Z"
   },
   {
    "duration": 238,
    "start_time": "2022-05-15T07:53:26.586Z"
   },
   {
    "duration": 6,
    "start_time": "2022-05-15T07:53:26.826Z"
   },
   {
    "duration": 228,
    "start_time": "2022-05-15T07:53:26.834Z"
   },
   {
    "duration": 18,
    "start_time": "2022-05-15T07:53:27.064Z"
   },
   {
    "duration": 10,
    "start_time": "2022-05-15T07:53:27.084Z"
   },
   {
    "duration": 259,
    "start_time": "2022-05-15T07:53:27.097Z"
   },
   {
    "duration": 6,
    "start_time": "2022-05-15T07:53:27.358Z"
   },
   {
    "duration": 277,
    "start_time": "2022-05-15T07:53:27.365Z"
   },
   {
    "duration": 6,
    "start_time": "2022-05-15T07:53:27.644Z"
   },
   {
    "duration": 37,
    "start_time": "2022-05-15T07:53:27.652Z"
   },
   {
    "duration": 448,
    "start_time": "2022-05-15T07:53:27.691Z"
   },
   {
    "duration": 16,
    "start_time": "2022-05-15T07:53:28.141Z"
   },
   {
    "duration": 309,
    "start_time": "2022-05-15T07:53:28.158Z"
   },
   {
    "duration": 13,
    "start_time": "2022-05-15T07:53:28.469Z"
   },
   {
    "duration": 54,
    "start_time": "2022-05-15T07:53:28.485Z"
   },
   {
    "duration": 70,
    "start_time": "2022-05-15T07:53:28.541Z"
   },
   {
    "duration": 621,
    "start_time": "2022-05-15T07:53:28.613Z"
   },
   {
    "duration": 75,
    "start_time": "2022-05-15T07:53:29.236Z"
   },
   {
    "duration": 38,
    "start_time": "2022-05-15T07:53:29.313Z"
   },
   {
    "duration": 552,
    "start_time": "2022-05-15T07:53:29.353Z"
   },
   {
    "duration": 26,
    "start_time": "2022-05-15T07:53:29.907Z"
   },
   {
    "duration": 449,
    "start_time": "2022-05-15T07:53:29.935Z"
   },
   {
    "duration": 9,
    "start_time": "2022-05-15T07:53:30.386Z"
   },
   {
    "duration": 16,
    "start_time": "2022-05-15T07:53:30.397Z"
   },
   {
    "duration": 14,
    "start_time": "2022-05-15T07:53:30.415Z"
   },
   {
    "duration": 12,
    "start_time": "2022-05-15T07:53:30.432Z"
   },
   {
    "duration": 35,
    "start_time": "2022-05-15T07:53:30.447Z"
   },
   {
    "duration": 7,
    "start_time": "2022-05-15T07:53:30.484Z"
   },
   {
    "duration": 16,
    "start_time": "2022-05-15T07:53:30.493Z"
   },
   {
    "duration": 9,
    "start_time": "2022-05-15T07:53:30.512Z"
   },
   {
    "duration": 15,
    "start_time": "2022-05-15T07:53:30.523Z"
   },
   {
    "duration": 14,
    "start_time": "2022-05-15T07:53:30.539Z"
   },
   {
    "duration": 32,
    "start_time": "2022-05-15T07:53:30.556Z"
   },
   {
    "duration": 7,
    "start_time": "2022-05-15T07:53:44.953Z"
   },
   {
    "duration": 7,
    "start_time": "2022-05-15T07:53:59.872Z"
   },
   {
    "duration": 8,
    "start_time": "2022-05-15T07:57:39.149Z"
   },
   {
    "duration": 8,
    "start_time": "2022-05-15T07:57:50.156Z"
   },
   {
    "duration": 7,
    "start_time": "2022-05-15T08:03:30.401Z"
   },
   {
    "duration": 20,
    "start_time": "2022-05-15T08:06:17.412Z"
   },
   {
    "duration": 9,
    "start_time": "2022-05-15T08:08:48.284Z"
   },
   {
    "duration": 9,
    "start_time": "2022-05-15T08:09:00.757Z"
   },
   {
    "duration": 3236,
    "start_time": "2022-05-16T05:20:09.122Z"
   },
   {
    "duration": 202,
    "start_time": "2022-05-16T05:20:12.362Z"
   },
   {
    "duration": 30,
    "start_time": "2022-05-16T05:20:12.567Z"
   },
   {
    "duration": 28,
    "start_time": "2022-05-16T05:20:12.656Z"
   },
   {
    "duration": 78,
    "start_time": "2022-05-16T05:20:12.686Z"
   },
   {
    "duration": 99,
    "start_time": "2022-05-16T05:20:12.766Z"
   },
   {
    "duration": 8,
    "start_time": "2022-05-16T05:20:12.867Z"
   },
   {
    "duration": 100,
    "start_time": "2022-05-16T05:20:12.877Z"
   },
   {
    "duration": 80,
    "start_time": "2022-05-16T05:20:12.980Z"
   },
   {
    "duration": 8,
    "start_time": "2022-05-16T05:20:13.065Z"
   },
   {
    "duration": 11,
    "start_time": "2022-05-16T05:20:13.075Z"
   },
   {
    "duration": 10,
    "start_time": "2022-05-16T05:20:13.089Z"
   },
   {
    "duration": 7,
    "start_time": "2022-05-16T05:20:13.156Z"
   },
   {
    "duration": 12,
    "start_time": "2022-05-16T05:20:13.165Z"
   },
   {
    "duration": 11,
    "start_time": "2022-05-16T05:20:13.180Z"
   },
   {
    "duration": 63,
    "start_time": "2022-05-16T05:20:13.193Z"
   },
   {
    "duration": 7,
    "start_time": "2022-05-16T05:20:13.259Z"
   },
   {
    "duration": 24,
    "start_time": "2022-05-16T05:20:13.269Z"
   },
   {
    "duration": 77,
    "start_time": "2022-05-16T05:20:13.295Z"
   },
   {
    "duration": 22,
    "start_time": "2022-05-16T05:20:13.374Z"
   },
   {
    "duration": 602,
    "start_time": "2022-05-16T05:20:13.398Z"
   },
   {
    "duration": 63,
    "start_time": "2022-05-16T05:20:14.002Z"
   },
   {
    "duration": 10,
    "start_time": "2022-05-16T05:20:14.067Z"
   },
   {
    "duration": 602,
    "start_time": "2022-05-16T05:20:14.079Z"
   },
   {
    "duration": 32,
    "start_time": "2022-05-16T05:20:14.684Z"
   },
   {
    "duration": 7,
    "start_time": "2022-05-16T05:20:14.718Z"
   },
   {
    "duration": 44,
    "start_time": "2022-05-16T05:20:14.727Z"
   },
   {
    "duration": 735,
    "start_time": "2022-05-16T05:20:14.777Z"
   },
   {
    "duration": 825,
    "start_time": "2022-05-16T05:20:15.514Z"
   },
   {
    "duration": 17,
    "start_time": "2022-05-16T05:20:16.341Z"
   },
   {
    "duration": 248,
    "start_time": "2022-05-16T05:20:16.360Z"
   },
   {
    "duration": 7,
    "start_time": "2022-05-16T05:20:16.611Z"
   },
   {
    "duration": 308,
    "start_time": "2022-05-16T05:20:16.620Z"
   },
   {
    "duration": 6,
    "start_time": "2022-05-16T05:20:16.931Z"
   },
   {
    "duration": 9,
    "start_time": "2022-05-16T05:20:16.956Z"
   },
   {
    "duration": 252,
    "start_time": "2022-05-16T05:20:16.967Z"
   },
   {
    "duration": 5,
    "start_time": "2022-05-16T05:20:17.222Z"
   },
   {
    "duration": 319,
    "start_time": "2022-05-16T05:20:17.229Z"
   },
   {
    "duration": 5,
    "start_time": "2022-05-16T05:20:17.556Z"
   },
   {
    "duration": 17,
    "start_time": "2022-05-16T05:20:17.563Z"
   },
   {
    "duration": 320,
    "start_time": "2022-05-16T05:20:17.582Z"
   },
   {
    "duration": 18,
    "start_time": "2022-05-16T05:20:17.905Z"
   },
   {
    "duration": 309,
    "start_time": "2022-05-16T05:20:17.925Z"
   },
   {
    "duration": 5,
    "start_time": "2022-05-16T05:20:18.237Z"
   },
   {
    "duration": 63,
    "start_time": "2022-05-16T05:20:18.244Z"
   },
   {
    "duration": 62,
    "start_time": "2022-05-16T05:20:18.309Z"
   },
   {
    "duration": 610,
    "start_time": "2022-05-16T05:20:18.374Z"
   },
   {
    "duration": 73,
    "start_time": "2022-05-16T05:20:18.985Z"
   },
   {
    "duration": 35,
    "start_time": "2022-05-16T05:20:19.060Z"
   },
   {
    "duration": 529,
    "start_time": "2022-05-16T05:20:19.097Z"
   },
   {
    "duration": 37,
    "start_time": "2022-05-16T05:20:19.628Z"
   },
   {
    "duration": 422,
    "start_time": "2022-05-16T05:20:19.667Z"
   },
   {
    "duration": 9,
    "start_time": "2022-05-16T05:20:20.091Z"
   },
   {
    "duration": 9,
    "start_time": "2022-05-16T05:20:20.102Z"
   },
   {
    "duration": 9,
    "start_time": "2022-05-16T05:20:20.113Z"
   },
   {
    "duration": 7,
    "start_time": "2022-05-16T05:20:20.124Z"
   },
   {
    "duration": 4,
    "start_time": "2022-05-16T05:20:20.157Z"
   },
   {
    "duration": 10,
    "start_time": "2022-05-16T05:20:20.163Z"
   },
   {
    "duration": 11,
    "start_time": "2022-05-16T05:20:20.176Z"
   },
   {
    "duration": 7,
    "start_time": "2022-05-16T05:20:20.189Z"
   },
   {
    "duration": 13,
    "start_time": "2022-05-16T05:20:20.198Z"
   },
   {
    "duration": 43,
    "start_time": "2022-05-16T05:20:20.213Z"
   },
   {
    "duration": 10,
    "start_time": "2022-05-16T05:20:20.258Z"
   },
   {
    "duration": 155,
    "start_time": "2022-05-16T05:23:58.829Z"
   },
   {
    "duration": 78,
    "start_time": "2022-05-16T05:24:03.130Z"
   },
   {
    "duration": 21,
    "start_time": "2022-05-16T05:24:07.780Z"
   },
   {
    "duration": 16,
    "start_time": "2022-05-16T05:24:13.872Z"
   },
   {
    "duration": 17,
    "start_time": "2022-05-16T05:24:22.151Z"
   },
   {
    "duration": 21,
    "start_time": "2022-05-16T05:24:25.861Z"
   },
   {
    "duration": 23,
    "start_time": "2022-05-16T05:24:29.991Z"
   },
   {
    "duration": 5,
    "start_time": "2022-05-16T05:24:33.148Z"
   },
   {
    "duration": 109,
    "start_time": "2022-05-16T05:24:33.156Z"
   },
   {
    "duration": 21,
    "start_time": "2022-05-16T05:24:33.269Z"
   },
   {
    "duration": 21,
    "start_time": "2022-05-16T05:24:33.292Z"
   },
   {
    "duration": 67,
    "start_time": "2022-05-16T05:24:33.317Z"
   },
   {
    "duration": 81,
    "start_time": "2022-05-16T05:24:33.387Z"
   },
   {
    "duration": 27,
    "start_time": "2022-05-16T05:24:33.470Z"
   },
   {
    "duration": 8,
    "start_time": "2022-05-16T05:24:33.499Z"
   },
   {
    "duration": 65,
    "start_time": "2022-05-16T05:24:33.509Z"
   },
   {
    "duration": 21,
    "start_time": "2022-05-16T05:24:33.576Z"
   },
   {
    "duration": 8,
    "start_time": "2022-05-16T05:24:33.599Z"
   },
   {
    "duration": 8,
    "start_time": "2022-05-16T05:24:33.609Z"
   },
   {
    "duration": 39,
    "start_time": "2022-05-16T05:24:33.620Z"
   },
   {
    "duration": 102,
    "start_time": "2022-05-16T05:24:33.663Z"
   },
   {
    "duration": 14,
    "start_time": "2022-05-16T05:24:33.767Z"
   },
   {
    "duration": 7,
    "start_time": "2022-05-16T05:24:33.783Z"
   },
   {
    "duration": 8,
    "start_time": "2022-05-16T05:24:33.792Z"
   },
   {
    "duration": 8,
    "start_time": "2022-05-16T05:24:33.802Z"
   },
   {
    "duration": 52,
    "start_time": "2022-05-16T05:24:33.812Z"
   },
   {
    "duration": 25,
    "start_time": "2022-05-16T05:24:33.866Z"
   },
   {
    "duration": 22,
    "start_time": "2022-05-16T05:24:33.893Z"
   },
   {
    "duration": 329,
    "start_time": "2022-05-16T05:24:33.917Z"
   },
   {
    "duration": 16,
    "start_time": "2022-05-16T05:24:34.249Z"
   },
   {
    "duration": 11,
    "start_time": "2022-05-16T05:24:34.268Z"
   },
   {
    "duration": 1709,
    "start_time": "2022-05-16T05:24:34.282Z"
   },
   {
    "duration": 100,
    "start_time": "2022-05-16T05:24:35.994Z"
   },
   {
    "duration": 61,
    "start_time": "2022-05-16T05:24:36.097Z"
   },
   {
    "duration": 102,
    "start_time": "2022-05-16T05:24:36.161Z"
   },
   {
    "duration": 1903,
    "start_time": "2022-05-16T05:24:36.266Z"
   },
   {
    "duration": 1167,
    "start_time": "2022-05-16T05:24:38.172Z"
   },
   {
    "duration": 17,
    "start_time": "2022-05-16T05:24:39.342Z"
   },
   {
    "duration": 234,
    "start_time": "2022-05-16T05:24:39.361Z"
   },
   {
    "duration": 6,
    "start_time": "2022-05-16T05:24:39.598Z"
   },
   {
    "duration": 229,
    "start_time": "2022-05-16T05:24:39.607Z"
   },
   {
    "duration": 6,
    "start_time": "2022-05-16T05:24:39.838Z"
   },
   {
    "duration": 7,
    "start_time": "2022-05-16T05:24:39.857Z"
   },
   {
    "duration": 260,
    "start_time": "2022-05-16T05:24:39.866Z"
   },
   {
    "duration": 6,
    "start_time": "2022-05-16T05:24:40.128Z"
   },
   {
    "duration": 255,
    "start_time": "2022-05-16T05:24:40.136Z"
   },
   {
    "duration": 6,
    "start_time": "2022-05-16T05:24:40.393Z"
   },
   {
    "duration": 15,
    "start_time": "2022-05-16T05:24:40.405Z"
   },
   {
    "duration": 410,
    "start_time": "2022-05-16T05:24:40.422Z"
   },
   {
    "duration": 29,
    "start_time": "2022-05-16T05:24:40.834Z"
   },
   {
    "duration": 286,
    "start_time": "2022-05-16T05:24:40.865Z"
   },
   {
    "duration": 6,
    "start_time": "2022-05-16T05:24:41.156Z"
   },
   {
    "duration": 53,
    "start_time": "2022-05-16T05:24:41.165Z"
   },
   {
    "duration": 66,
    "start_time": "2022-05-16T05:24:41.220Z"
   },
   {
    "duration": 631,
    "start_time": "2022-05-16T05:24:41.289Z"
   },
   {
    "duration": 65,
    "start_time": "2022-05-16T05:24:41.922Z"
   },
   {
    "duration": 35,
    "start_time": "2022-05-16T05:24:41.989Z"
   },
   {
    "duration": 538,
    "start_time": "2022-05-16T05:24:42.026Z"
   },
   {
    "duration": 27,
    "start_time": "2022-05-16T05:24:42.566Z"
   },
   {
    "duration": 434,
    "start_time": "2022-05-16T05:24:42.595Z"
   },
   {
    "duration": 8,
    "start_time": "2022-05-16T05:24:43.032Z"
   },
   {
    "duration": 5,
    "start_time": "2022-05-16T05:24:43.057Z"
   },
   {
    "duration": 5,
    "start_time": "2022-05-16T05:24:43.065Z"
   },
   {
    "duration": 6,
    "start_time": "2022-05-16T05:24:43.072Z"
   },
   {
    "duration": 5,
    "start_time": "2022-05-16T05:24:43.081Z"
   },
   {
    "duration": 6,
    "start_time": "2022-05-16T05:24:43.088Z"
   },
   {
    "duration": 26,
    "start_time": "2022-05-16T05:24:43.097Z"
   },
   {
    "duration": 6,
    "start_time": "2022-05-16T05:24:43.156Z"
   },
   {
    "duration": 5,
    "start_time": "2022-05-16T05:24:43.164Z"
   },
   {
    "duration": 7,
    "start_time": "2022-05-16T05:24:43.171Z"
   },
   {
    "duration": 11,
    "start_time": "2022-05-16T05:24:43.180Z"
   },
   {
    "duration": 18,
    "start_time": "2022-05-16T05:25:35.882Z"
   },
   {
    "duration": 7,
    "start_time": "2022-05-16T05:27:18.065Z"
   },
   {
    "duration": 7,
    "start_time": "2022-05-16T05:36:08.004Z"
   },
   {
    "duration": 80,
    "start_time": "2022-05-17T11:57:07.343Z"
   },
   {
    "duration": 57,
    "start_time": "2022-05-18T10:59:05.570Z"
   },
   {
    "duration": 1633,
    "start_time": "2022-05-18T10:59:12.398Z"
   },
   {
    "duration": 214,
    "start_time": "2022-05-18T10:59:14.033Z"
   },
   {
    "duration": 15,
    "start_time": "2022-05-18T10:59:14.248Z"
   },
   {
    "duration": 14,
    "start_time": "2022-05-18T10:59:14.265Z"
   },
   {
    "duration": 20,
    "start_time": "2022-05-18T10:59:14.281Z"
   },
   {
    "duration": 94,
    "start_time": "2022-05-18T10:59:14.303Z"
   },
   {
    "duration": 0,
    "start_time": "2022-05-18T10:59:14.401Z"
   },
   {
    "duration": 0,
    "start_time": "2022-05-18T10:59:14.403Z"
   },
   {
    "duration": 0,
    "start_time": "2022-05-18T10:59:14.404Z"
   },
   {
    "duration": 0,
    "start_time": "2022-05-18T10:59:14.405Z"
   },
   {
    "duration": 0,
    "start_time": "2022-05-18T10:59:14.406Z"
   },
   {
    "duration": 0,
    "start_time": "2022-05-18T10:59:14.408Z"
   },
   {
    "duration": 0,
    "start_time": "2022-05-18T10:59:14.409Z"
   },
   {
    "duration": 0,
    "start_time": "2022-05-18T10:59:14.410Z"
   },
   {
    "duration": 0,
    "start_time": "2022-05-18T10:59:14.411Z"
   },
   {
    "duration": 0,
    "start_time": "2022-05-18T10:59:14.412Z"
   },
   {
    "duration": 0,
    "start_time": "2022-05-18T10:59:14.413Z"
   },
   {
    "duration": 0,
    "start_time": "2022-05-18T10:59:14.414Z"
   },
   {
    "duration": 0,
    "start_time": "2022-05-18T10:59:14.415Z"
   },
   {
    "duration": 0,
    "start_time": "2022-05-18T10:59:14.417Z"
   },
   {
    "duration": 0,
    "start_time": "2022-05-18T10:59:14.417Z"
   },
   {
    "duration": 0,
    "start_time": "2022-05-18T10:59:14.418Z"
   },
   {
    "duration": 0,
    "start_time": "2022-05-18T10:59:14.419Z"
   },
   {
    "duration": 0,
    "start_time": "2022-05-18T10:59:14.420Z"
   },
   {
    "duration": 0,
    "start_time": "2022-05-18T10:59:14.421Z"
   },
   {
    "duration": 0,
    "start_time": "2022-05-18T10:59:14.423Z"
   },
   {
    "duration": 0,
    "start_time": "2022-05-18T10:59:14.424Z"
   },
   {
    "duration": 0,
    "start_time": "2022-05-18T10:59:14.425Z"
   },
   {
    "duration": 0,
    "start_time": "2022-05-18T10:59:14.426Z"
   },
   {
    "duration": 0,
    "start_time": "2022-05-18T10:59:14.426Z"
   },
   {
    "duration": 0,
    "start_time": "2022-05-18T10:59:14.428Z"
   },
   {
    "duration": 0,
    "start_time": "2022-05-18T10:59:14.429Z"
   },
   {
    "duration": 0,
    "start_time": "2022-05-18T10:59:14.430Z"
   },
   {
    "duration": 0,
    "start_time": "2022-05-18T10:59:14.431Z"
   },
   {
    "duration": 0,
    "start_time": "2022-05-18T10:59:14.432Z"
   },
   {
    "duration": 0,
    "start_time": "2022-05-18T10:59:14.433Z"
   },
   {
    "duration": 0,
    "start_time": "2022-05-18T10:59:14.434Z"
   },
   {
    "duration": 0,
    "start_time": "2022-05-18T10:59:14.435Z"
   },
   {
    "duration": 1,
    "start_time": "2022-05-18T10:59:14.435Z"
   },
   {
    "duration": 0,
    "start_time": "2022-05-18T10:59:14.495Z"
   },
   {
    "duration": 0,
    "start_time": "2022-05-18T10:59:14.496Z"
   },
   {
    "duration": 0,
    "start_time": "2022-05-18T10:59:14.497Z"
   },
   {
    "duration": 0,
    "start_time": "2022-05-18T10:59:14.498Z"
   },
   {
    "duration": 0,
    "start_time": "2022-05-18T10:59:14.499Z"
   },
   {
    "duration": 0,
    "start_time": "2022-05-18T10:59:14.500Z"
   },
   {
    "duration": 0,
    "start_time": "2022-05-18T10:59:14.502Z"
   },
   {
    "duration": 0,
    "start_time": "2022-05-18T10:59:14.503Z"
   },
   {
    "duration": 0,
    "start_time": "2022-05-18T10:59:14.504Z"
   },
   {
    "duration": 0,
    "start_time": "2022-05-18T10:59:14.506Z"
   },
   {
    "duration": 0,
    "start_time": "2022-05-18T10:59:14.507Z"
   },
   {
    "duration": 0,
    "start_time": "2022-05-18T10:59:14.508Z"
   },
   {
    "duration": 0,
    "start_time": "2022-05-18T10:59:14.510Z"
   },
   {
    "duration": 0,
    "start_time": "2022-05-18T10:59:14.511Z"
   },
   {
    "duration": 0,
    "start_time": "2022-05-18T10:59:14.513Z"
   },
   {
    "duration": 0,
    "start_time": "2022-05-18T10:59:14.514Z"
   },
   {
    "duration": 0,
    "start_time": "2022-05-18T10:59:14.515Z"
   },
   {
    "duration": 0,
    "start_time": "2022-05-18T10:59:14.517Z"
   },
   {
    "duration": 0,
    "start_time": "2022-05-18T10:59:14.518Z"
   },
   {
    "duration": 1,
    "start_time": "2022-05-18T10:59:14.519Z"
   },
   {
    "duration": 0,
    "start_time": "2022-05-18T10:59:14.521Z"
   },
   {
    "duration": 0,
    "start_time": "2022-05-18T10:59:14.522Z"
   },
   {
    "duration": 0,
    "start_time": "2022-05-18T10:59:14.524Z"
   },
   {
    "duration": 0,
    "start_time": "2022-05-18T10:59:14.525Z"
   },
   {
    "duration": 0,
    "start_time": "2022-05-18T10:59:14.527Z"
   },
   {
    "duration": 0,
    "start_time": "2022-05-18T10:59:14.528Z"
   },
   {
    "duration": 0,
    "start_time": "2022-05-18T10:59:14.529Z"
   },
   {
    "duration": 24,
    "start_time": "2022-05-18T10:59:50.688Z"
   },
   {
    "duration": 28,
    "start_time": "2022-05-18T10:59:56.647Z"
   },
   {
    "duration": 2,
    "start_time": "2022-05-18T11:00:22.952Z"
   },
   {
    "duration": 59,
    "start_time": "2022-05-18T11:00:23.783Z"
   },
   {
    "duration": 15,
    "start_time": "2022-05-18T11:00:26.084Z"
   },
   {
    "duration": 13,
    "start_time": "2022-05-18T11:00:29.616Z"
   },
   {
    "duration": 17,
    "start_time": "2022-05-18T11:00:31.711Z"
   },
   {
    "duration": 736,
    "start_time": "2022-05-18T11:00:33.280Z"
   },
   {
    "duration": 826,
    "start_time": "2022-05-18T11:00:50.168Z"
   },
   {
    "duration": 2,
    "start_time": "2022-05-18T11:02:24.753Z"
   },
   {
    "duration": 2,
    "start_time": "2022-05-18T11:02:27.452Z"
   },
   {
    "duration": 4,
    "start_time": "2022-05-18T11:02:30.680Z"
   },
   {
    "duration": 551,
    "start_time": "2022-05-18T11:02:41.496Z"
   },
   {
    "duration": 86,
    "start_time": "2022-05-18T11:03:11.073Z"
   },
   {
    "duration": 15,
    "start_time": "2022-05-18T11:03:15.409Z"
   },
   {
    "duration": 23,
    "start_time": "2022-05-18T11:07:06.215Z"
   },
   {
    "duration": 18,
    "start_time": "2022-05-18T11:07:52.868Z"
   },
   {
    "duration": 5,
    "start_time": "2022-05-18T11:08:10.350Z"
   },
   {
    "duration": 1151,
    "start_time": "2022-05-18T11:08:52.964Z"
   },
   {
    "duration": 19,
    "start_time": "2022-05-18T11:16:46.392Z"
   },
   {
    "duration": 10,
    "start_time": "2022-05-18T11:17:23.045Z"
   },
   {
    "duration": 9,
    "start_time": "2022-05-18T11:17:48.861Z"
   },
   {
    "duration": 10,
    "start_time": "2022-05-18T11:21:35.287Z"
   },
   {
    "duration": 10,
    "start_time": "2022-05-18T11:23:25.733Z"
   },
   {
    "duration": 12,
    "start_time": "2022-05-18T11:34:09.733Z"
   },
   {
    "duration": 18,
    "start_time": "2022-05-18T11:35:11.410Z"
   },
   {
    "duration": 16,
    "start_time": "2022-05-18T11:35:24.419Z"
   },
   {
    "duration": 14,
    "start_time": "2022-05-18T11:35:40.771Z"
   },
   {
    "duration": 18,
    "start_time": "2022-05-18T11:36:19.148Z"
   },
   {
    "duration": 15,
    "start_time": "2022-05-18T11:36:28.516Z"
   },
   {
    "duration": 16,
    "start_time": "2022-05-18T11:37:02.883Z"
   },
   {
    "duration": 17,
    "start_time": "2022-05-18T11:37:05.901Z"
   },
   {
    "duration": 20,
    "start_time": "2022-05-18T11:37:13.363Z"
   },
   {
    "duration": 16,
    "start_time": "2022-05-18T11:37:17.531Z"
   },
   {
    "duration": 14,
    "start_time": "2022-05-18T11:37:21.524Z"
   },
   {
    "duration": 27,
    "start_time": "2022-05-18T11:39:13.877Z"
   },
   {
    "duration": 10,
    "start_time": "2022-05-18T11:39:38.372Z"
   },
   {
    "duration": 25,
    "start_time": "2022-05-18T11:39:41.741Z"
   },
   {
    "duration": 9,
    "start_time": "2022-05-18T11:47:53.098Z"
   },
   {
    "duration": 15,
    "start_time": "2022-05-18T11:49:15.768Z"
   },
   {
    "duration": 41,
    "start_time": "2022-05-18T11:51:09.361Z"
   },
   {
    "duration": 4,
    "start_time": "2022-05-18T11:51:38.450Z"
   },
   {
    "duration": 47,
    "start_time": "2022-05-18T11:51:46.433Z"
   },
   {
    "duration": 60,
    "start_time": "2022-05-18T11:52:08.833Z"
   },
   {
    "duration": 5,
    "start_time": "2022-05-18T11:52:25.258Z"
   },
   {
    "duration": 22,
    "start_time": "2022-05-18T11:55:38.012Z"
   },
   {
    "duration": 27,
    "start_time": "2022-05-18T11:55:59.126Z"
   },
   {
    "duration": 47,
    "start_time": "2022-05-18T12:04:27.861Z"
   },
   {
    "duration": 8,
    "start_time": "2022-05-18T12:04:54.378Z"
   },
   {
    "duration": 17,
    "start_time": "2022-05-18T12:05:08.300Z"
   },
   {
    "duration": 9,
    "start_time": "2022-05-18T12:07:42.050Z"
   },
   {
    "duration": 10,
    "start_time": "2022-05-18T12:07:48.583Z"
   },
   {
    "duration": 2,
    "start_time": "2022-05-18T12:07:53.351Z"
   },
   {
    "duration": 79,
    "start_time": "2022-05-18T12:07:53.357Z"
   },
   {
    "duration": 14,
    "start_time": "2022-05-18T12:07:53.437Z"
   },
   {
    "duration": 24,
    "start_time": "2022-05-18T12:07:53.453Z"
   },
   {
    "duration": 44,
    "start_time": "2022-05-18T12:07:53.480Z"
   },
   {
    "duration": 24,
    "start_time": "2022-05-18T12:07:53.525Z"
   },
   {
    "duration": 43,
    "start_time": "2022-05-18T12:07:53.551Z"
   },
   {
    "duration": 46,
    "start_time": "2022-05-18T12:07:53.596Z"
   },
   {
    "duration": 32,
    "start_time": "2022-05-18T12:07:53.644Z"
   },
   {
    "duration": 47,
    "start_time": "2022-05-18T12:07:53.677Z"
   },
   {
    "duration": 42,
    "start_time": "2022-05-18T12:07:53.728Z"
   },
   {
    "duration": 592,
    "start_time": "2022-05-18T12:07:53.772Z"
   },
   {
    "duration": 6,
    "start_time": "2022-05-18T12:07:54.365Z"
   },
   {
    "duration": 41,
    "start_time": "2022-05-18T12:07:54.373Z"
   },
   {
    "duration": 24,
    "start_time": "2022-05-18T12:07:54.416Z"
   },
   {
    "duration": 27,
    "start_time": "2022-05-18T12:07:54.442Z"
   },
   {
    "duration": 37,
    "start_time": "2022-05-18T12:07:54.471Z"
   },
   {
    "duration": 18,
    "start_time": "2022-05-18T12:07:54.510Z"
   },
   {
    "duration": 34,
    "start_time": "2022-05-18T12:07:54.530Z"
   },
   {
    "duration": 27,
    "start_time": "2022-05-18T12:07:54.566Z"
   },
   {
    "duration": 31,
    "start_time": "2022-05-18T12:07:54.595Z"
   },
   {
    "duration": 21,
    "start_time": "2022-05-18T12:07:54.628Z"
   },
   {
    "duration": 20,
    "start_time": "2022-05-18T12:07:54.650Z"
   },
   {
    "duration": 41,
    "start_time": "2022-05-18T12:07:54.672Z"
   },
   {
    "duration": 35,
    "start_time": "2022-05-18T12:07:54.714Z"
   },
   {
    "duration": 99,
    "start_time": "2022-05-18T12:07:54.751Z"
   },
   {
    "duration": 193,
    "start_time": "2022-05-18T12:07:54.852Z"
   },
   {
    "duration": 8,
    "start_time": "2022-05-18T12:07:55.047Z"
   },
   {
    "duration": 41,
    "start_time": "2022-05-18T12:07:55.058Z"
   },
   {
    "duration": 71,
    "start_time": "2022-05-18T12:07:55.101Z"
   },
   {
    "duration": 0,
    "start_time": "2022-05-18T12:07:55.175Z"
   },
   {
    "duration": 0,
    "start_time": "2022-05-18T12:07:55.176Z"
   },
   {
    "duration": 0,
    "start_time": "2022-05-18T12:07:55.178Z"
   },
   {
    "duration": 0,
    "start_time": "2022-05-18T12:07:55.179Z"
   },
   {
    "duration": 0,
    "start_time": "2022-05-18T12:07:55.180Z"
   },
   {
    "duration": 0,
    "start_time": "2022-05-18T12:07:55.181Z"
   },
   {
    "duration": 0,
    "start_time": "2022-05-18T12:07:55.182Z"
   },
   {
    "duration": 0,
    "start_time": "2022-05-18T12:07:55.183Z"
   },
   {
    "duration": 0,
    "start_time": "2022-05-18T12:07:55.184Z"
   },
   {
    "duration": 0,
    "start_time": "2022-05-18T12:07:55.185Z"
   },
   {
    "duration": 0,
    "start_time": "2022-05-18T12:07:55.186Z"
   },
   {
    "duration": 0,
    "start_time": "2022-05-18T12:07:55.195Z"
   },
   {
    "duration": 0,
    "start_time": "2022-05-18T12:07:55.196Z"
   },
   {
    "duration": 0,
    "start_time": "2022-05-18T12:07:55.196Z"
   },
   {
    "duration": 0,
    "start_time": "2022-05-18T12:07:55.198Z"
   },
   {
    "duration": 0,
    "start_time": "2022-05-18T12:07:55.199Z"
   },
   {
    "duration": 0,
    "start_time": "2022-05-18T12:07:55.200Z"
   },
   {
    "duration": 0,
    "start_time": "2022-05-18T12:07:55.201Z"
   },
   {
    "duration": 0,
    "start_time": "2022-05-18T12:07:55.202Z"
   },
   {
    "duration": 0,
    "start_time": "2022-05-18T12:07:55.204Z"
   },
   {
    "duration": 0,
    "start_time": "2022-05-18T12:07:55.205Z"
   },
   {
    "duration": 0,
    "start_time": "2022-05-18T12:07:55.206Z"
   },
   {
    "duration": 0,
    "start_time": "2022-05-18T12:07:55.207Z"
   },
   {
    "duration": 0,
    "start_time": "2022-05-18T12:07:55.208Z"
   },
   {
    "duration": 0,
    "start_time": "2022-05-18T12:07:55.209Z"
   },
   {
    "duration": 0,
    "start_time": "2022-05-18T12:07:55.210Z"
   },
   {
    "duration": 0,
    "start_time": "2022-05-18T12:07:55.211Z"
   },
   {
    "duration": 0,
    "start_time": "2022-05-18T12:07:55.212Z"
   },
   {
    "duration": 0,
    "start_time": "2022-05-18T12:07:55.214Z"
   },
   {
    "duration": 0,
    "start_time": "2022-05-18T12:07:55.215Z"
   },
   {
    "duration": 0,
    "start_time": "2022-05-18T12:07:55.216Z"
   },
   {
    "duration": 0,
    "start_time": "2022-05-18T12:07:55.217Z"
   },
   {
    "duration": 0,
    "start_time": "2022-05-18T12:07:55.218Z"
   },
   {
    "duration": 0,
    "start_time": "2022-05-18T12:07:55.219Z"
   },
   {
    "duration": 0,
    "start_time": "2022-05-18T12:07:55.220Z"
   },
   {
    "duration": 0,
    "start_time": "2022-05-18T12:07:55.221Z"
   },
   {
    "duration": 0,
    "start_time": "2022-05-18T12:07:55.222Z"
   },
   {
    "duration": 0,
    "start_time": "2022-05-18T12:07:55.223Z"
   },
   {
    "duration": 0,
    "start_time": "2022-05-18T12:07:55.224Z"
   },
   {
    "duration": 0,
    "start_time": "2022-05-18T12:07:55.226Z"
   },
   {
    "duration": 16,
    "start_time": "2022-05-18T12:13:49.609Z"
   },
   {
    "duration": 46,
    "start_time": "2022-05-18T12:14:47.116Z"
   },
   {
    "duration": 64,
    "start_time": "2022-05-19T10:39:08.038Z"
   },
   {
    "duration": 1465,
    "start_time": "2022-05-19T10:39:11.723Z"
   },
   {
    "duration": 90,
    "start_time": "2022-05-19T10:39:13.191Z"
   },
   {
    "duration": 14,
    "start_time": "2022-05-19T10:39:13.283Z"
   },
   {
    "duration": 19,
    "start_time": "2022-05-19T10:39:13.300Z"
   },
   {
    "duration": 19,
    "start_time": "2022-05-19T10:39:13.323Z"
   },
   {
    "duration": 11,
    "start_time": "2022-05-19T10:39:13.344Z"
   },
   {
    "duration": 14,
    "start_time": "2022-05-19T10:39:13.356Z"
   },
   {
    "duration": 57,
    "start_time": "2022-05-19T10:39:13.371Z"
   },
   {
    "duration": 18,
    "start_time": "2022-05-19T10:39:13.430Z"
   },
   {
    "duration": 19,
    "start_time": "2022-05-19T10:39:13.452Z"
   },
   {
    "duration": 54,
    "start_time": "2022-05-19T10:39:13.472Z"
   },
   {
    "duration": 53,
    "start_time": "2022-05-19T10:39:13.528Z"
   },
   {
    "duration": 7,
    "start_time": "2022-05-19T10:39:13.583Z"
   },
   {
    "duration": 43,
    "start_time": "2022-05-19T10:39:13.594Z"
   },
   {
    "duration": 13,
    "start_time": "2022-05-19T10:39:13.639Z"
   },
   {
    "duration": 9,
    "start_time": "2022-05-19T10:39:13.654Z"
   },
   {
    "duration": 19,
    "start_time": "2022-05-19T10:39:13.665Z"
   },
   {
    "duration": 17,
    "start_time": "2022-05-19T10:39:13.686Z"
   },
   {
    "duration": 11,
    "start_time": "2022-05-19T10:39:13.704Z"
   },
   {
    "duration": 11,
    "start_time": "2022-05-19T10:39:13.716Z"
   },
   {
    "duration": 17,
    "start_time": "2022-05-19T10:39:13.728Z"
   },
   {
    "duration": 8,
    "start_time": "2022-05-19T10:39:13.747Z"
   },
   {
    "duration": 7,
    "start_time": "2022-05-19T10:39:13.757Z"
   },
   {
    "duration": 16,
    "start_time": "2022-05-19T10:39:13.766Z"
   },
   {
    "duration": 16,
    "start_time": "2022-05-19T10:39:13.784Z"
   },
   {
    "duration": 39,
    "start_time": "2022-05-19T10:39:13.802Z"
   },
   {
    "duration": 309,
    "start_time": "2022-05-19T10:39:13.845Z"
   },
   {
    "duration": 8,
    "start_time": "2022-05-19T10:39:14.159Z"
   },
   {
    "duration": 9,
    "start_time": "2022-05-19T10:39:14.168Z"
   },
   {
    "duration": 694,
    "start_time": "2022-05-19T10:39:14.179Z"
   },
   {
    "duration": 0,
    "start_time": "2022-05-19T10:39:14.875Z"
   },
   {
    "duration": 0,
    "start_time": "2022-05-19T10:39:14.877Z"
   },
   {
    "duration": 0,
    "start_time": "2022-05-19T10:39:14.879Z"
   },
   {
    "duration": 0,
    "start_time": "2022-05-19T10:39:14.880Z"
   },
   {
    "duration": 1,
    "start_time": "2022-05-19T10:39:14.881Z"
   },
   {
    "duration": 0,
    "start_time": "2022-05-19T10:39:14.883Z"
   },
   {
    "duration": 0,
    "start_time": "2022-05-19T10:39:14.884Z"
   },
   {
    "duration": 0,
    "start_time": "2022-05-19T10:39:14.885Z"
   },
   {
    "duration": 0,
    "start_time": "2022-05-19T10:39:14.886Z"
   },
   {
    "duration": 0,
    "start_time": "2022-05-19T10:39:14.887Z"
   },
   {
    "duration": 0,
    "start_time": "2022-05-19T10:39:14.888Z"
   },
   {
    "duration": 1,
    "start_time": "2022-05-19T10:39:14.889Z"
   },
   {
    "duration": 0,
    "start_time": "2022-05-19T10:39:14.890Z"
   },
   {
    "duration": 0,
    "start_time": "2022-05-19T10:39:14.892Z"
   },
   {
    "duration": 0,
    "start_time": "2022-05-19T10:39:14.893Z"
   },
   {
    "duration": 0,
    "start_time": "2022-05-19T10:39:14.894Z"
   },
   {
    "duration": 0,
    "start_time": "2022-05-19T10:39:14.895Z"
   },
   {
    "duration": 0,
    "start_time": "2022-05-19T10:39:14.896Z"
   },
   {
    "duration": 0,
    "start_time": "2022-05-19T10:39:14.897Z"
   },
   {
    "duration": 0,
    "start_time": "2022-05-19T10:39:14.898Z"
   },
   {
    "duration": 0,
    "start_time": "2022-05-19T10:39:14.899Z"
   },
   {
    "duration": 0,
    "start_time": "2022-05-19T10:39:14.900Z"
   },
   {
    "duration": 0,
    "start_time": "2022-05-19T10:39:14.901Z"
   },
   {
    "duration": 0,
    "start_time": "2022-05-19T10:39:14.903Z"
   },
   {
    "duration": 0,
    "start_time": "2022-05-19T10:39:14.904Z"
   },
   {
    "duration": 0,
    "start_time": "2022-05-19T10:39:14.909Z"
   },
   {
    "duration": 0,
    "start_time": "2022-05-19T10:39:14.910Z"
   },
   {
    "duration": 0,
    "start_time": "2022-05-19T10:39:14.911Z"
   },
   {
    "duration": 0,
    "start_time": "2022-05-19T10:39:14.912Z"
   },
   {
    "duration": 0,
    "start_time": "2022-05-19T10:39:14.923Z"
   },
   {
    "duration": 0,
    "start_time": "2022-05-19T10:39:14.924Z"
   },
   {
    "duration": 0,
    "start_time": "2022-05-19T10:39:14.926Z"
   },
   {
    "duration": 0,
    "start_time": "2022-05-19T10:39:14.927Z"
   },
   {
    "duration": 0,
    "start_time": "2022-05-19T10:39:14.929Z"
   },
   {
    "duration": 0,
    "start_time": "2022-05-19T10:39:14.931Z"
   },
   {
    "duration": 0,
    "start_time": "2022-05-19T10:39:14.932Z"
   },
   {
    "duration": 0,
    "start_time": "2022-05-19T10:39:14.934Z"
   },
   {
    "duration": 0,
    "start_time": "2022-05-19T10:39:14.936Z"
   },
   {
    "duration": 0,
    "start_time": "2022-05-19T10:39:14.938Z"
   },
   {
    "duration": 0,
    "start_time": "2022-05-19T10:39:14.939Z"
   },
   {
    "duration": 3,
    "start_time": "2022-05-19T11:13:04.882Z"
   },
   {
    "duration": 82,
    "start_time": "2022-05-19T11:13:04.890Z"
   },
   {
    "duration": 18,
    "start_time": "2022-05-19T11:13:04.974Z"
   },
   {
    "duration": 35,
    "start_time": "2022-05-19T11:13:04.995Z"
   },
   {
    "duration": 40,
    "start_time": "2022-05-19T11:13:05.033Z"
   },
   {
    "duration": 17,
    "start_time": "2022-05-19T11:13:05.076Z"
   },
   {
    "duration": 41,
    "start_time": "2022-05-19T11:13:05.095Z"
   },
   {
    "duration": 43,
    "start_time": "2022-05-19T11:13:05.138Z"
   },
   {
    "duration": 19,
    "start_time": "2022-05-19T11:13:05.182Z"
   },
   {
    "duration": 20,
    "start_time": "2022-05-19T11:13:05.224Z"
   },
   {
    "duration": 34,
    "start_time": "2022-05-19T11:13:05.247Z"
   },
   {
    "duration": 54,
    "start_time": "2022-05-19T11:13:05.283Z"
   },
   {
    "duration": 9,
    "start_time": "2022-05-19T11:13:05.339Z"
   },
   {
    "duration": 28,
    "start_time": "2022-05-19T11:13:05.350Z"
   },
   {
    "duration": 7,
    "start_time": "2022-05-19T11:13:05.380Z"
   },
   {
    "duration": 39,
    "start_time": "2022-05-19T11:13:05.389Z"
   },
   {
    "duration": 26,
    "start_time": "2022-05-19T11:13:05.430Z"
   },
   {
    "duration": 14,
    "start_time": "2022-05-19T11:13:05.458Z"
   },
   {
    "duration": 16,
    "start_time": "2022-05-19T11:13:05.475Z"
   },
   {
    "duration": 16,
    "start_time": "2022-05-19T11:13:05.494Z"
   },
   {
    "duration": 21,
    "start_time": "2022-05-19T11:13:05.512Z"
   },
   {
    "duration": 31,
    "start_time": "2022-05-19T11:13:05.536Z"
   },
   {
    "duration": 19,
    "start_time": "2022-05-19T11:13:05.569Z"
   },
   {
    "duration": 30,
    "start_time": "2022-05-19T11:13:05.590Z"
   },
   {
    "duration": 223,
    "start_time": "2022-05-19T11:13:05.622Z"
   },
   {
    "duration": 13,
    "start_time": "2022-05-19T11:13:05.847Z"
   },
   {
    "duration": 9,
    "start_time": "2022-05-19T11:13:05.862Z"
   },
   {
    "duration": 710,
    "start_time": "2022-05-19T11:13:05.873Z"
   },
   {
    "duration": 0,
    "start_time": "2022-05-19T11:13:06.587Z"
   },
   {
    "duration": 0,
    "start_time": "2022-05-19T11:13:06.588Z"
   },
   {
    "duration": 0,
    "start_time": "2022-05-19T11:13:06.590Z"
   },
   {
    "duration": 0,
    "start_time": "2022-05-19T11:13:06.591Z"
   },
   {
    "duration": 0,
    "start_time": "2022-05-19T11:13:06.592Z"
   },
   {
    "duration": 0,
    "start_time": "2022-05-19T11:13:06.593Z"
   },
   {
    "duration": 0,
    "start_time": "2022-05-19T11:13:06.594Z"
   },
   {
    "duration": 0,
    "start_time": "2022-05-19T11:13:06.599Z"
   },
   {
    "duration": 0,
    "start_time": "2022-05-19T11:13:06.601Z"
   },
   {
    "duration": 0,
    "start_time": "2022-05-19T11:13:06.603Z"
   },
   {
    "duration": 0,
    "start_time": "2022-05-19T11:13:06.604Z"
   },
   {
    "duration": 0,
    "start_time": "2022-05-19T11:13:06.606Z"
   },
   {
    "duration": 0,
    "start_time": "2022-05-19T11:13:06.608Z"
   },
   {
    "duration": 0,
    "start_time": "2022-05-19T11:13:06.611Z"
   },
   {
    "duration": 0,
    "start_time": "2022-05-19T11:13:06.612Z"
   },
   {
    "duration": 0,
    "start_time": "2022-05-19T11:13:06.615Z"
   },
   {
    "duration": 0,
    "start_time": "2022-05-19T11:13:06.617Z"
   },
   {
    "duration": 0,
    "start_time": "2022-05-19T11:13:06.619Z"
   },
   {
    "duration": 0,
    "start_time": "2022-05-19T11:13:06.621Z"
   },
   {
    "duration": 0,
    "start_time": "2022-05-19T11:13:06.622Z"
   },
   {
    "duration": 0,
    "start_time": "2022-05-19T11:13:06.624Z"
   },
   {
    "duration": 0,
    "start_time": "2022-05-19T11:13:06.626Z"
   },
   {
    "duration": 0,
    "start_time": "2022-05-19T11:13:06.628Z"
   },
   {
    "duration": 0,
    "start_time": "2022-05-19T11:13:06.629Z"
   },
   {
    "duration": 0,
    "start_time": "2022-05-19T11:13:06.630Z"
   },
   {
    "duration": 0,
    "start_time": "2022-05-19T11:13:06.631Z"
   },
   {
    "duration": 0,
    "start_time": "2022-05-19T11:13:06.633Z"
   },
   {
    "duration": 0,
    "start_time": "2022-05-19T11:13:06.635Z"
   },
   {
    "duration": 0,
    "start_time": "2022-05-19T11:13:06.636Z"
   },
   {
    "duration": 0,
    "start_time": "2022-05-19T11:13:06.638Z"
   },
   {
    "duration": 0,
    "start_time": "2022-05-19T11:13:06.641Z"
   },
   {
    "duration": 0,
    "start_time": "2022-05-19T11:13:06.642Z"
   },
   {
    "duration": 0,
    "start_time": "2022-05-19T11:13:06.646Z"
   },
   {
    "duration": 0,
    "start_time": "2022-05-19T11:13:06.648Z"
   },
   {
    "duration": 0,
    "start_time": "2022-05-19T11:13:06.650Z"
   },
   {
    "duration": 0,
    "start_time": "2022-05-19T11:13:06.651Z"
   },
   {
    "duration": 0,
    "start_time": "2022-05-19T11:13:06.653Z"
   },
   {
    "duration": 0,
    "start_time": "2022-05-19T11:13:06.654Z"
   },
   {
    "duration": 0,
    "start_time": "2022-05-19T11:13:06.656Z"
   },
   {
    "duration": 0,
    "start_time": "2022-05-19T11:13:06.657Z"
   },
   {
    "duration": 19,
    "start_time": "2022-05-19T11:14:59.818Z"
   },
   {
    "duration": 14,
    "start_time": "2022-05-19T11:15:44.698Z"
   },
   {
    "duration": 221,
    "start_time": "2022-05-19T11:15:51.250Z"
   },
   {
    "duration": 521,
    "start_time": "2022-05-19T11:19:13.461Z"
   },
   {
    "duration": 15,
    "start_time": "2022-05-19T11:19:17.525Z"
   },
   {
    "duration": 722,
    "start_time": "2022-05-19T11:19:22.592Z"
   },
   {
    "duration": 348,
    "start_time": "2022-05-19T11:19:56.027Z"
   },
   {
    "duration": 15,
    "start_time": "2022-05-19T11:20:13.590Z"
   },
   {
    "duration": 6,
    "start_time": "2022-05-19T11:20:17.022Z"
   },
   {
    "duration": 186,
    "start_time": "2022-05-19T11:20:25.399Z"
   },
   {
    "duration": 8,
    "start_time": "2022-05-19T11:20:41.774Z"
   },
   {
    "duration": 202,
    "start_time": "2022-05-19T11:21:24.271Z"
   },
   {
    "duration": 170,
    "start_time": "2022-05-19T11:21:40.679Z"
   },
   {
    "duration": 199,
    "start_time": "2022-05-19T11:21:51.431Z"
   },
   {
    "duration": 199,
    "start_time": "2022-05-19T11:21:59.303Z"
   },
   {
    "duration": 173,
    "start_time": "2022-05-19T11:22:45.367Z"
   },
   {
    "duration": 189,
    "start_time": "2022-05-19T11:22:52.418Z"
   },
   {
    "duration": 205,
    "start_time": "2022-05-19T11:23:00.376Z"
   },
   {
    "duration": 180,
    "start_time": "2022-05-19T11:23:31.105Z"
   },
   {
    "duration": 315,
    "start_time": "2022-05-19T11:23:42.704Z"
   },
   {
    "duration": 212,
    "start_time": "2022-05-19T11:23:56.584Z"
   },
   {
    "duration": 181,
    "start_time": "2022-05-19T11:24:10.216Z"
   },
   {
    "duration": 187,
    "start_time": "2022-05-19T11:24:50.899Z"
   },
   {
    "duration": 221,
    "start_time": "2022-05-19T11:25:52.827Z"
   },
   {
    "duration": 166,
    "start_time": "2022-05-19T11:27:22.870Z"
   },
   {
    "duration": 169,
    "start_time": "2022-05-19T11:32:43.223Z"
   },
   {
    "duration": 168,
    "start_time": "2022-05-19T11:32:53.208Z"
   },
   {
    "duration": 3,
    "start_time": "2022-05-19T11:44:21.097Z"
   },
   {
    "duration": 3,
    "start_time": "2022-05-19T11:44:29.872Z"
   },
   {
    "duration": 9,
    "start_time": "2022-05-19T11:45:08.275Z"
   },
   {
    "duration": 9,
    "start_time": "2022-05-19T11:46:11.012Z"
   },
   {
    "duration": 3,
    "start_time": "2022-05-19T11:46:16.501Z"
   },
   {
    "duration": 4,
    "start_time": "2022-05-19T11:46:21.547Z"
   },
   {
    "duration": 14,
    "start_time": "2022-05-19T11:47:31.547Z"
   },
   {
    "duration": 7,
    "start_time": "2022-05-19T11:47:57.470Z"
   },
   {
    "duration": 9,
    "start_time": "2022-05-19T11:48:03.363Z"
   },
   {
    "duration": 8,
    "start_time": "2022-05-19T11:48:44.099Z"
   },
   {
    "duration": 10,
    "start_time": "2022-05-19T11:51:53.216Z"
   },
   {
    "duration": 9,
    "start_time": "2022-05-19T11:51:56.871Z"
   },
   {
    "duration": 12,
    "start_time": "2022-05-19T11:52:12.642Z"
   },
   {
    "duration": 16,
    "start_time": "2022-05-19T11:52:17.017Z"
   },
   {
    "duration": 13,
    "start_time": "2022-05-19T11:56:19.883Z"
   },
   {
    "duration": 8,
    "start_time": "2022-05-19T11:56:30.875Z"
   },
   {
    "duration": 13,
    "start_time": "2022-05-19T11:56:33.156Z"
   },
   {
    "duration": 12,
    "start_time": "2022-05-19T11:57:36.374Z"
   },
   {
    "duration": 11,
    "start_time": "2022-05-19T11:57:54.998Z"
   },
   {
    "duration": 16,
    "start_time": "2022-05-19T11:58:01.922Z"
   },
   {
    "duration": 14,
    "start_time": "2022-05-19T11:58:04.749Z"
   },
   {
    "duration": 11,
    "start_time": "2022-05-19T11:58:16.736Z"
   },
   {
    "duration": 11,
    "start_time": "2022-05-19T11:58:32.405Z"
   },
   {
    "duration": 7,
    "start_time": "2022-05-19T11:58:37.076Z"
   },
   {
    "duration": 9,
    "start_time": "2022-05-19T11:58:38.565Z"
   },
   {
    "duration": 11,
    "start_time": "2022-05-19T11:58:46.773Z"
   },
   {
    "duration": 7,
    "start_time": "2022-05-19T11:58:49.439Z"
   },
   {
    "duration": 13,
    "start_time": "2022-05-19T11:58:51.684Z"
   },
   {
    "duration": 13,
    "start_time": "2022-05-19T11:59:58.984Z"
   },
   {
    "duration": 9,
    "start_time": "2022-05-19T12:00:02.974Z"
   },
   {
    "duration": 10,
    "start_time": "2022-05-19T12:00:05.415Z"
   },
   {
    "duration": 180,
    "start_time": "2022-05-19T12:00:27.238Z"
   },
   {
    "duration": 198,
    "start_time": "2022-05-19T12:02:00.995Z"
   },
   {
    "duration": 164,
    "start_time": "2022-05-19T12:02:27.680Z"
   },
   {
    "duration": 171,
    "start_time": "2022-05-19T12:02:49.688Z"
   },
   {
    "duration": 10,
    "start_time": "2022-05-19T12:07:07.547Z"
   },
   {
    "duration": 563,
    "start_time": "2022-05-19T12:07:13.159Z"
   },
   {
    "duration": 7,
    "start_time": "2022-05-19T12:08:07.283Z"
   },
   {
    "duration": 703,
    "start_time": "2022-05-19T12:08:09.492Z"
   },
   {
    "duration": 85,
    "start_time": "2022-05-21T07:01:00.503Z"
   },
   {
    "duration": 1522,
    "start_time": "2022-05-21T07:01:06.261Z"
   },
   {
    "duration": 98,
    "start_time": "2022-05-21T07:01:07.785Z"
   },
   {
    "duration": 16,
    "start_time": "2022-05-21T07:01:07.885Z"
   },
   {
    "duration": 15,
    "start_time": "2022-05-21T07:01:07.903Z"
   },
   {
    "duration": 26,
    "start_time": "2022-05-21T07:01:07.919Z"
   },
   {
    "duration": 11,
    "start_time": "2022-05-21T07:01:07.946Z"
   },
   {
    "duration": 17,
    "start_time": "2022-05-21T07:01:07.959Z"
   },
   {
    "duration": 30,
    "start_time": "2022-05-21T07:01:07.978Z"
   },
   {
    "duration": 24,
    "start_time": "2022-05-21T07:01:08.025Z"
   },
   {
    "duration": 20,
    "start_time": "2022-05-21T07:01:08.051Z"
   },
   {
    "duration": 23,
    "start_time": "2022-05-21T07:01:08.072Z"
   },
   {
    "duration": 83,
    "start_time": "2022-05-21T07:01:08.097Z"
   },
   {
    "duration": 6,
    "start_time": "2022-05-21T07:01:08.182Z"
   },
   {
    "duration": 19,
    "start_time": "2022-05-21T07:01:08.189Z"
   },
   {
    "duration": 17,
    "start_time": "2022-05-21T07:01:08.222Z"
   },
   {
    "duration": 10,
    "start_time": "2022-05-21T07:01:08.241Z"
   },
   {
    "duration": 9,
    "start_time": "2022-05-21T07:01:08.252Z"
   },
   {
    "duration": 6,
    "start_time": "2022-05-21T07:01:08.262Z"
   },
   {
    "duration": 7,
    "start_time": "2022-05-21T07:01:08.269Z"
   },
   {
    "duration": 6,
    "start_time": "2022-05-21T07:01:08.277Z"
   },
   {
    "duration": 6,
    "start_time": "2022-05-21T07:01:08.284Z"
   },
   {
    "duration": 15,
    "start_time": "2022-05-21T07:01:08.292Z"
   },
   {
    "duration": 29,
    "start_time": "2022-05-21T07:01:08.309Z"
   },
   {
    "duration": 13,
    "start_time": "2022-05-21T07:01:08.340Z"
   },
   {
    "duration": 7,
    "start_time": "2022-05-21T07:01:08.354Z"
   },
   {
    "duration": 277,
    "start_time": "2022-05-21T07:01:08.362Z"
   },
   {
    "duration": 8,
    "start_time": "2022-05-21T07:01:08.641Z"
   },
   {
    "duration": 9,
    "start_time": "2022-05-21T07:01:08.652Z"
   },
   {
    "duration": 11,
    "start_time": "2022-05-21T07:01:08.663Z"
   },
   {
    "duration": 183,
    "start_time": "2022-05-21T07:01:08.675Z"
   },
   {
    "duration": 8,
    "start_time": "2022-05-21T07:01:08.859Z"
   },
   {
    "duration": 9,
    "start_time": "2022-05-21T07:01:08.868Z"
   },
   {
    "duration": 271,
    "start_time": "2022-05-21T07:01:08.878Z"
   },
   {
    "duration": 92,
    "start_time": "2022-05-21T07:01:09.151Z"
   },
   {
    "duration": 0,
    "start_time": "2022-05-21T07:01:09.245Z"
   },
   {
    "duration": 0,
    "start_time": "2022-05-21T07:01:09.247Z"
   },
   {
    "duration": 0,
    "start_time": "2022-05-21T07:01:09.248Z"
   },
   {
    "duration": 0,
    "start_time": "2022-05-21T07:01:09.250Z"
   },
   {
    "duration": 0,
    "start_time": "2022-05-21T07:01:09.251Z"
   },
   {
    "duration": 0,
    "start_time": "2022-05-21T07:01:09.253Z"
   },
   {
    "duration": 0,
    "start_time": "2022-05-21T07:01:09.254Z"
   },
   {
    "duration": 0,
    "start_time": "2022-05-21T07:01:09.255Z"
   },
   {
    "duration": 0,
    "start_time": "2022-05-21T07:01:09.256Z"
   },
   {
    "duration": 0,
    "start_time": "2022-05-21T07:01:09.258Z"
   },
   {
    "duration": 0,
    "start_time": "2022-05-21T07:01:09.259Z"
   },
   {
    "duration": 0,
    "start_time": "2022-05-21T07:01:09.260Z"
   },
   {
    "duration": 0,
    "start_time": "2022-05-21T07:01:09.260Z"
   },
   {
    "duration": 0,
    "start_time": "2022-05-21T07:01:09.261Z"
   },
   {
    "duration": 0,
    "start_time": "2022-05-21T07:01:09.262Z"
   },
   {
    "duration": 0,
    "start_time": "2022-05-21T07:01:09.263Z"
   },
   {
    "duration": 0,
    "start_time": "2022-05-21T07:01:09.264Z"
   },
   {
    "duration": 0,
    "start_time": "2022-05-21T07:01:09.266Z"
   },
   {
    "duration": 0,
    "start_time": "2022-05-21T07:01:09.267Z"
   },
   {
    "duration": 0,
    "start_time": "2022-05-21T07:01:09.269Z"
   },
   {
    "duration": 0,
    "start_time": "2022-05-21T07:01:09.270Z"
   },
   {
    "duration": 0,
    "start_time": "2022-05-21T07:01:09.272Z"
   },
   {
    "duration": 0,
    "start_time": "2022-05-21T07:01:09.273Z"
   },
   {
    "duration": 0,
    "start_time": "2022-05-21T07:01:09.275Z"
   },
   {
    "duration": 0,
    "start_time": "2022-05-21T07:01:09.276Z"
   },
   {
    "duration": 0,
    "start_time": "2022-05-21T07:01:09.278Z"
   },
   {
    "duration": 0,
    "start_time": "2022-05-21T07:01:09.279Z"
   },
   {
    "duration": 0,
    "start_time": "2022-05-21T07:01:09.280Z"
   },
   {
    "duration": 0,
    "start_time": "2022-05-21T07:01:09.281Z"
   },
   {
    "duration": 0,
    "start_time": "2022-05-21T07:01:09.281Z"
   },
   {
    "duration": 0,
    "start_time": "2022-05-21T07:01:09.323Z"
   },
   {
    "duration": 0,
    "start_time": "2022-05-21T07:01:09.323Z"
   },
   {
    "duration": 0,
    "start_time": "2022-05-21T07:01:09.324Z"
   },
   {
    "duration": 0,
    "start_time": "2022-05-21T07:01:09.328Z"
   },
   {
    "duration": 0,
    "start_time": "2022-05-21T07:01:09.331Z"
   },
   {
    "duration": 0,
    "start_time": "2022-05-21T07:01:09.333Z"
   },
   {
    "duration": 0,
    "start_time": "2022-05-21T07:01:09.337Z"
   },
   {
    "duration": 0,
    "start_time": "2022-05-21T07:01:09.341Z"
   },
   {
    "duration": 0,
    "start_time": "2022-05-21T07:01:09.344Z"
   },
   {
    "duration": 5,
    "start_time": "2022-05-21T07:02:02.891Z"
   },
   {
    "duration": 281,
    "start_time": "2022-05-21T07:02:03.994Z"
   },
   {
    "duration": 71,
    "start_time": "2022-05-21T07:09:52.288Z"
   },
   {
    "duration": 50,
    "start_time": "2022-05-21T07:10:49.318Z"
   },
   {
    "duration": 29,
    "start_time": "2022-05-21T07:12:37.319Z"
   },
   {
    "duration": 3,
    "start_time": "2022-05-21T07:20:08.161Z"
   },
   {
    "duration": 265,
    "start_time": "2022-05-21T07:20:10.076Z"
   },
   {
    "duration": 11,
    "start_time": "2022-05-21T07:21:00.773Z"
   },
   {
    "duration": 217,
    "start_time": "2022-05-21T07:21:11.392Z"
   },
   {
    "duration": 19,
    "start_time": "2022-05-21T07:21:18.398Z"
   },
   {
    "duration": 4,
    "start_time": "2022-05-21T07:21:29.677Z"
   },
   {
    "duration": 70,
    "start_time": "2022-05-21T07:21:29.683Z"
   },
   {
    "duration": 22,
    "start_time": "2022-05-21T07:21:29.756Z"
   },
   {
    "duration": 17,
    "start_time": "2022-05-21T07:21:29.780Z"
   },
   {
    "duration": 40,
    "start_time": "2022-05-21T07:21:29.799Z"
   },
   {
    "duration": 20,
    "start_time": "2022-05-21T07:21:29.841Z"
   },
   {
    "duration": 22,
    "start_time": "2022-05-21T07:21:29.863Z"
   },
   {
    "duration": 28,
    "start_time": "2022-05-21T07:21:29.887Z"
   },
   {
    "duration": 24,
    "start_time": "2022-05-21T07:21:29.924Z"
   },
   {
    "duration": 70,
    "start_time": "2022-05-21T07:21:29.950Z"
   },
   {
    "duration": 47,
    "start_time": "2022-05-21T07:21:30.023Z"
   },
   {
    "duration": 26,
    "start_time": "2022-05-21T07:21:30.072Z"
   },
   {
    "duration": 14,
    "start_time": "2022-05-21T07:21:30.100Z"
   },
   {
    "duration": 25,
    "start_time": "2022-05-21T07:21:30.118Z"
   },
   {
    "duration": 43,
    "start_time": "2022-05-21T07:21:30.146Z"
   },
   {
    "duration": 35,
    "start_time": "2022-05-21T07:21:30.191Z"
   },
   {
    "duration": 40,
    "start_time": "2022-05-21T07:21:30.229Z"
   },
   {
    "duration": 14,
    "start_time": "2022-05-21T07:21:30.270Z"
   },
   {
    "duration": 12,
    "start_time": "2022-05-21T07:21:30.286Z"
   },
   {
    "duration": 16,
    "start_time": "2022-05-21T07:21:30.299Z"
   },
   {
    "duration": 48,
    "start_time": "2022-05-21T07:21:30.316Z"
   },
   {
    "duration": 34,
    "start_time": "2022-05-21T07:21:30.365Z"
   },
   {
    "duration": 15,
    "start_time": "2022-05-21T07:21:30.402Z"
   },
   {
    "duration": 20,
    "start_time": "2022-05-21T07:21:30.418Z"
   },
   {
    "duration": 41,
    "start_time": "2022-05-21T07:21:30.440Z"
   },
   {
    "duration": 214,
    "start_time": "2022-05-21T07:21:30.483Z"
   },
   {
    "duration": 8,
    "start_time": "2022-05-21T07:21:30.699Z"
   },
   {
    "duration": 39,
    "start_time": "2022-05-21T07:21:30.709Z"
   },
   {
    "duration": 42,
    "start_time": "2022-05-21T07:21:30.750Z"
   },
   {
    "duration": 262,
    "start_time": "2022-05-21T07:21:30.794Z"
   },
   {
    "duration": 10,
    "start_time": "2022-05-21T07:21:31.058Z"
   },
   {
    "duration": 28,
    "start_time": "2022-05-21T07:21:31.070Z"
   },
   {
    "duration": 289,
    "start_time": "2022-05-21T07:21:31.100Z"
   },
   {
    "duration": 5,
    "start_time": "2022-05-21T07:21:31.390Z"
   },
   {
    "duration": 25,
    "start_time": "2022-05-21T07:21:31.397Z"
   },
   {
    "duration": 0,
    "start_time": "2022-05-21T07:21:31.429Z"
   },
   {
    "duration": 0,
    "start_time": "2022-05-21T07:21:31.431Z"
   },
   {
    "duration": 0,
    "start_time": "2022-05-21T07:21:31.432Z"
   },
   {
    "duration": 0,
    "start_time": "2022-05-21T07:21:31.433Z"
   },
   {
    "duration": 0,
    "start_time": "2022-05-21T07:21:31.434Z"
   },
   {
    "duration": 0,
    "start_time": "2022-05-21T07:21:31.435Z"
   },
   {
    "duration": 0,
    "start_time": "2022-05-21T07:21:31.437Z"
   },
   {
    "duration": 0,
    "start_time": "2022-05-21T07:21:31.440Z"
   },
   {
    "duration": 0,
    "start_time": "2022-05-21T07:21:31.441Z"
   },
   {
    "duration": 0,
    "start_time": "2022-05-21T07:21:31.442Z"
   },
   {
    "duration": 0,
    "start_time": "2022-05-21T07:21:31.442Z"
   },
   {
    "duration": 0,
    "start_time": "2022-05-21T07:21:31.443Z"
   },
   {
    "duration": 0,
    "start_time": "2022-05-21T07:21:31.445Z"
   },
   {
    "duration": 0,
    "start_time": "2022-05-21T07:21:31.446Z"
   },
   {
    "duration": 0,
    "start_time": "2022-05-21T07:21:31.448Z"
   },
   {
    "duration": 0,
    "start_time": "2022-05-21T07:21:31.449Z"
   },
   {
    "duration": 0,
    "start_time": "2022-05-21T07:21:31.453Z"
   },
   {
    "duration": 0,
    "start_time": "2022-05-21T07:21:31.455Z"
   },
   {
    "duration": 0,
    "start_time": "2022-05-21T07:21:31.456Z"
   },
   {
    "duration": 0,
    "start_time": "2022-05-21T07:21:31.457Z"
   },
   {
    "duration": 0,
    "start_time": "2022-05-21T07:21:31.458Z"
   },
   {
    "duration": 0,
    "start_time": "2022-05-21T07:21:31.460Z"
   },
   {
    "duration": 0,
    "start_time": "2022-05-21T07:21:31.461Z"
   },
   {
    "duration": 0,
    "start_time": "2022-05-21T07:21:31.462Z"
   },
   {
    "duration": 0,
    "start_time": "2022-05-21T07:21:31.463Z"
   },
   {
    "duration": 0,
    "start_time": "2022-05-21T07:21:31.466Z"
   },
   {
    "duration": 0,
    "start_time": "2022-05-21T07:21:31.467Z"
   },
   {
    "duration": 0,
    "start_time": "2022-05-21T07:21:31.468Z"
   },
   {
    "duration": 0,
    "start_time": "2022-05-21T07:21:31.469Z"
   },
   {
    "duration": 0,
    "start_time": "2022-05-21T07:21:31.470Z"
   },
   {
    "duration": 0,
    "start_time": "2022-05-21T07:21:31.471Z"
   },
   {
    "duration": 0,
    "start_time": "2022-05-21T07:21:31.472Z"
   },
   {
    "duration": 0,
    "start_time": "2022-05-21T07:21:31.474Z"
   },
   {
    "duration": 0,
    "start_time": "2022-05-21T07:21:31.475Z"
   },
   {
    "duration": 0,
    "start_time": "2022-05-21T07:21:31.476Z"
   },
   {
    "duration": 0,
    "start_time": "2022-05-21T07:21:31.477Z"
   },
   {
    "duration": 0,
    "start_time": "2022-05-21T07:21:31.480Z"
   },
   {
    "duration": 0,
    "start_time": "2022-05-21T07:21:31.481Z"
   },
   {
    "duration": 0,
    "start_time": "2022-05-21T07:21:31.482Z"
   },
   {
    "duration": 0,
    "start_time": "2022-05-21T07:21:31.527Z"
   },
   {
    "duration": 6,
    "start_time": "2022-05-21T07:23:16.220Z"
   },
   {
    "duration": 14,
    "start_time": "2022-05-21T07:23:50.843Z"
   },
   {
    "duration": 301,
    "start_time": "2022-05-21T07:24:03.440Z"
   },
   {
    "duration": 2,
    "start_time": "2022-05-21T07:24:28.383Z"
   },
   {
    "duration": 319,
    "start_time": "2022-05-21T07:32:29.789Z"
   },
   {
    "duration": 453,
    "start_time": "2022-05-21T07:32:38.907Z"
   },
   {
    "duration": 230,
    "start_time": "2022-05-21T07:32:48.135Z"
   },
   {
    "duration": 232,
    "start_time": "2022-05-21T07:34:24.679Z"
   },
   {
    "duration": 725,
    "start_time": "2022-05-21T07:34:38.764Z"
   },
   {
    "duration": 230,
    "start_time": "2022-05-21T07:34:51.079Z"
   },
   {
    "duration": 715,
    "start_time": "2022-05-21T07:35:29.837Z"
   },
   {
    "duration": 711,
    "start_time": "2022-05-21T07:35:37.538Z"
   },
   {
    "duration": 200,
    "start_time": "2022-05-21T07:35:48.784Z"
   },
   {
    "duration": 714,
    "start_time": "2022-05-21T07:35:55.904Z"
   },
   {
    "duration": 731,
    "start_time": "2022-05-21T07:36:52.697Z"
   },
   {
    "duration": 239,
    "start_time": "2022-05-21T07:37:07.408Z"
   },
   {
    "duration": 433,
    "start_time": "2022-05-21T07:37:52.572Z"
   },
   {
    "duration": 708,
    "start_time": "2022-05-21T07:38:19.080Z"
   },
   {
    "duration": 240,
    "start_time": "2022-05-21T07:38:45.683Z"
   },
   {
    "duration": 301,
    "start_time": "2022-05-21T07:38:51.075Z"
   },
   {
    "duration": 700,
    "start_time": "2022-05-21T07:39:16.984Z"
   },
   {
    "duration": 131,
    "start_time": "2022-05-21T07:40:24.380Z"
   },
   {
    "duration": 28,
    "start_time": "2022-05-21T07:40:31.092Z"
   },
   {
    "duration": 26,
    "start_time": "2022-05-21T07:40:37.983Z"
   },
   {
    "duration": 24,
    "start_time": "2022-05-21T07:40:48.081Z"
   },
   {
    "duration": 716,
    "start_time": "2022-05-21T07:40:55.784Z"
   },
   {
    "duration": 240,
    "start_time": "2022-05-21T07:41:19.738Z"
   },
   {
    "duration": 245,
    "start_time": "2022-05-21T07:41:55.291Z"
   },
   {
    "duration": 240,
    "start_time": "2022-05-21T07:42:35.480Z"
   },
   {
    "duration": 424,
    "start_time": "2022-05-21T07:50:00.177Z"
   },
   {
    "duration": 550,
    "start_time": "2022-05-21T08:03:39.409Z"
   },
   {
    "duration": 20,
    "start_time": "2022-05-21T08:03:49.496Z"
   },
   {
    "duration": 666,
    "start_time": "2022-05-21T08:03:52.416Z"
   },
   {
    "duration": 469,
    "start_time": "2022-05-21T08:04:11.408Z"
   },
   {
    "duration": 10,
    "start_time": "2022-05-21T08:08:32.093Z"
   },
   {
    "duration": 11,
    "start_time": "2022-05-21T08:08:40.803Z"
   },
   {
    "duration": 20,
    "start_time": "2022-05-21T08:09:02.723Z"
   },
   {
    "duration": 18,
    "start_time": "2022-05-21T08:09:15.170Z"
   },
   {
    "duration": 7,
    "start_time": "2022-05-21T08:09:25.445Z"
   },
   {
    "duration": 22,
    "start_time": "2022-05-21T08:09:30.668Z"
   },
   {
    "duration": 38,
    "start_time": "2022-05-21T08:09:39.221Z"
   },
   {
    "duration": 457,
    "start_time": "2022-05-21T08:09:59.322Z"
   },
   {
    "duration": 498,
    "start_time": "2022-05-21T08:10:29.419Z"
   },
   {
    "duration": 439,
    "start_time": "2022-05-21T08:10:42.061Z"
   },
   {
    "duration": 566,
    "start_time": "2022-05-21T08:10:55.947Z"
   },
   {
    "duration": 844,
    "start_time": "2022-05-21T08:11:07.357Z"
   },
   {
    "duration": 376,
    "start_time": "2022-05-21T08:11:17.713Z"
   },
   {
    "duration": 356,
    "start_time": "2022-05-21T08:16:44.121Z"
   },
   {
    "duration": 21,
    "start_time": "2022-05-21T08:24:51.879Z"
   },
   {
    "duration": 5,
    "start_time": "2022-05-21T08:24:54.902Z"
   },
   {
    "duration": 29,
    "start_time": "2022-05-21T08:24:56.966Z"
   },
   {
    "duration": 405,
    "start_time": "2022-05-21T08:24:59.170Z"
   },
   {
    "duration": 20,
    "start_time": "2022-05-21T08:25:19.695Z"
   },
   {
    "duration": 363,
    "start_time": "2022-05-21T08:25:25.511Z"
   },
   {
    "duration": 27,
    "start_time": "2022-05-21T08:27:49.393Z"
   },
   {
    "duration": 22,
    "start_time": "2022-05-21T08:28:41.374Z"
   },
   {
    "duration": 357,
    "start_time": "2022-05-21T08:28:50.017Z"
   },
   {
    "duration": 21,
    "start_time": "2022-05-21T08:29:29.768Z"
   },
   {
    "duration": 3,
    "start_time": "2022-05-21T08:30:14.487Z"
   },
   {
    "duration": 92,
    "start_time": "2022-05-21T08:30:14.493Z"
   },
   {
    "duration": 23,
    "start_time": "2022-05-21T08:30:14.588Z"
   },
   {
    "duration": 22,
    "start_time": "2022-05-21T08:30:14.622Z"
   },
   {
    "duration": 69,
    "start_time": "2022-05-21T08:30:14.650Z"
   },
   {
    "duration": 48,
    "start_time": "2022-05-21T08:30:14.722Z"
   },
   {
    "duration": 35,
    "start_time": "2022-05-21T08:30:14.773Z"
   },
   {
    "duration": 78,
    "start_time": "2022-05-21T08:30:14.811Z"
   },
   {
    "duration": 16,
    "start_time": "2022-05-21T08:30:14.891Z"
   },
   {
    "duration": 30,
    "start_time": "2022-05-21T08:30:14.910Z"
   },
   {
    "duration": 58,
    "start_time": "2022-05-21T08:30:14.944Z"
   },
   {
    "duration": 24,
    "start_time": "2022-05-21T08:30:15.003Z"
   },
   {
    "duration": 36,
    "start_time": "2022-05-21T08:30:15.030Z"
   },
   {
    "duration": 30,
    "start_time": "2022-05-21T08:30:15.069Z"
   },
   {
    "duration": 7,
    "start_time": "2022-05-21T08:30:15.101Z"
   },
   {
    "duration": 12,
    "start_time": "2022-05-21T08:30:15.110Z"
   },
   {
    "duration": 67,
    "start_time": "2022-05-21T08:30:15.123Z"
   },
   {
    "duration": 7,
    "start_time": "2022-05-21T08:30:15.192Z"
   },
   {
    "duration": 8,
    "start_time": "2022-05-21T08:30:15.201Z"
   },
   {
    "duration": 12,
    "start_time": "2022-05-21T08:30:15.210Z"
   },
   {
    "duration": 51,
    "start_time": "2022-05-21T08:30:15.228Z"
   },
   {
    "duration": 14,
    "start_time": "2022-05-21T08:30:15.281Z"
   },
   {
    "duration": 17,
    "start_time": "2022-05-21T08:30:15.296Z"
   },
   {
    "duration": 23,
    "start_time": "2022-05-21T08:30:15.315Z"
   },
   {
    "duration": 29,
    "start_time": "2022-05-21T08:30:15.341Z"
   },
   {
    "duration": 222,
    "start_time": "2022-05-21T08:30:15.374Z"
   },
   {
    "duration": 8,
    "start_time": "2022-05-21T08:30:15.598Z"
   },
   {
    "duration": 67,
    "start_time": "2022-05-21T08:30:15.607Z"
   },
   {
    "duration": 13,
    "start_time": "2022-05-21T08:30:15.679Z"
   },
   {
    "duration": 261,
    "start_time": "2022-05-21T08:30:15.693Z"
   },
   {
    "duration": 16,
    "start_time": "2022-05-21T08:30:15.962Z"
   },
   {
    "duration": 486,
    "start_time": "2022-05-21T08:30:15.984Z"
   },
   {
    "duration": 25,
    "start_time": "2022-05-21T08:30:16.472Z"
   },
   {
    "duration": 6,
    "start_time": "2022-05-21T08:30:16.500Z"
   },
   {
    "duration": 65,
    "start_time": "2022-05-21T08:30:16.507Z"
   },
   {
    "duration": 446,
    "start_time": "2022-05-21T08:30:16.575Z"
   },
   {
    "duration": 10,
    "start_time": "2022-05-21T08:30:17.030Z"
   },
   {
    "duration": 513,
    "start_time": "2022-05-21T08:30:17.042Z"
   },
   {
    "duration": 5,
    "start_time": "2022-05-21T08:30:17.556Z"
   },
   {
    "duration": 190,
    "start_time": "2022-05-21T08:30:17.562Z"
   },
   {
    "duration": 16,
    "start_time": "2022-05-21T08:30:17.758Z"
   },
   {
    "duration": 238,
    "start_time": "2022-05-21T08:30:17.779Z"
   },
   {
    "duration": 5,
    "start_time": "2022-05-21T08:30:18.026Z"
   },
   {
    "duration": 56,
    "start_time": "2022-05-21T08:30:18.033Z"
   },
   {
    "duration": 277,
    "start_time": "2022-05-21T08:30:18.091Z"
   },
   {
    "duration": 5,
    "start_time": "2022-05-21T08:30:18.371Z"
   },
   {
    "duration": 182,
    "start_time": "2022-05-21T08:30:18.378Z"
   },
   {
    "duration": 6,
    "start_time": "2022-05-21T08:30:18.561Z"
   },
   {
    "duration": 22,
    "start_time": "2022-05-21T08:30:18.569Z"
   },
   {
    "duration": 277,
    "start_time": "2022-05-21T08:30:18.593Z"
   },
   {
    "duration": 12,
    "start_time": "2022-05-21T08:30:18.872Z"
   },
   {
    "duration": 266,
    "start_time": "2022-05-21T08:30:18.886Z"
   },
   {
    "duration": 6,
    "start_time": "2022-05-21T08:30:19.155Z"
   },
   {
    "duration": 57,
    "start_time": "2022-05-21T08:30:19.164Z"
   },
   {
    "duration": 62,
    "start_time": "2022-05-21T08:30:19.223Z"
   },
   {
    "duration": 503,
    "start_time": "2022-05-21T08:30:19.287Z"
   },
   {
    "duration": 73,
    "start_time": "2022-05-21T08:30:19.792Z"
   },
   {
    "duration": 28,
    "start_time": "2022-05-21T08:30:19.867Z"
   },
   {
    "duration": 486,
    "start_time": "2022-05-21T08:30:19.897Z"
   },
   {
    "duration": 25,
    "start_time": "2022-05-21T08:30:20.385Z"
   },
   {
    "duration": 377,
    "start_time": "2022-05-21T08:30:20.412Z"
   },
   {
    "duration": 8,
    "start_time": "2022-05-21T08:30:20.791Z"
   },
   {
    "duration": 9,
    "start_time": "2022-05-21T08:30:20.801Z"
   },
   {
    "duration": 12,
    "start_time": "2022-05-21T08:30:20.812Z"
   },
   {
    "duration": 42,
    "start_time": "2022-05-21T08:30:20.831Z"
   },
   {
    "duration": 7,
    "start_time": "2022-05-21T08:30:20.875Z"
   },
   {
    "duration": 7,
    "start_time": "2022-05-21T08:30:20.884Z"
   },
   {
    "duration": 8,
    "start_time": "2022-05-21T08:30:20.893Z"
   },
   {
    "duration": 11,
    "start_time": "2022-05-21T08:30:20.904Z"
   },
   {
    "duration": 14,
    "start_time": "2022-05-21T08:30:20.918Z"
   },
   {
    "duration": 30,
    "start_time": "2022-05-21T08:30:20.936Z"
   },
   {
    "duration": 16,
    "start_time": "2022-05-21T08:30:20.971Z"
   },
   {
    "duration": 26,
    "start_time": "2022-05-21T08:31:22.769Z"
   },
   {
    "duration": 30,
    "start_time": "2022-05-21T08:31:26.269Z"
   },
   {
    "duration": 22,
    "start_time": "2022-05-21T08:31:41.285Z"
   },
   {
    "duration": 352,
    "start_time": "2022-05-21T08:31:45.277Z"
   },
   {
    "duration": 22,
    "start_time": "2022-05-21T08:31:55.370Z"
   },
   {
    "duration": 379,
    "start_time": "2022-05-21T08:31:59.989Z"
   },
   {
    "duration": 18,
    "start_time": "2022-05-21T08:32:08.291Z"
   },
   {
    "duration": 28,
    "start_time": "2022-05-21T08:32:10.441Z"
   },
   {
    "duration": 418,
    "start_time": "2022-05-21T08:32:13.184Z"
   },
   {
    "duration": 4,
    "start_time": "2022-05-21T08:32:17.198Z"
   },
   {
    "duration": 113,
    "start_time": "2022-05-21T08:32:17.204Z"
   },
   {
    "duration": 51,
    "start_time": "2022-05-21T08:32:17.320Z"
   },
   {
    "duration": 30,
    "start_time": "2022-05-21T08:32:17.374Z"
   },
   {
    "duration": 117,
    "start_time": "2022-05-21T08:32:17.406Z"
   },
   {
    "duration": 83,
    "start_time": "2022-05-21T08:32:17.525Z"
   },
   {
    "duration": 44,
    "start_time": "2022-05-21T08:32:17.611Z"
   },
   {
    "duration": 66,
    "start_time": "2022-05-21T08:32:17.656Z"
   },
   {
    "duration": 31,
    "start_time": "2022-05-21T08:32:17.727Z"
   },
   {
    "duration": 46,
    "start_time": "2022-05-21T08:32:17.760Z"
   },
   {
    "duration": 45,
    "start_time": "2022-05-21T08:32:17.807Z"
   },
   {
    "duration": 27,
    "start_time": "2022-05-21T08:32:17.853Z"
   },
   {
    "duration": 9,
    "start_time": "2022-05-21T08:32:17.882Z"
   },
   {
    "duration": 18,
    "start_time": "2022-05-21T08:32:17.896Z"
   },
   {
    "duration": 8,
    "start_time": "2022-05-21T08:32:17.916Z"
   },
   {
    "duration": 87,
    "start_time": "2022-05-21T08:32:17.935Z"
   },
   {
    "duration": 29,
    "start_time": "2022-05-21T08:32:18.025Z"
   },
   {
    "duration": 43,
    "start_time": "2022-05-21T08:32:18.057Z"
   },
   {
    "duration": 7,
    "start_time": "2022-05-21T08:32:18.103Z"
   },
   {
    "duration": 29,
    "start_time": "2022-05-21T08:32:18.113Z"
   },
   {
    "duration": 22,
    "start_time": "2022-05-21T08:32:18.155Z"
   },
   {
    "duration": 22,
    "start_time": "2022-05-21T08:32:18.179Z"
   },
   {
    "duration": 24,
    "start_time": "2022-05-21T08:32:18.203Z"
   },
   {
    "duration": 32,
    "start_time": "2022-05-21T08:32:18.241Z"
   },
   {
    "duration": 21,
    "start_time": "2022-05-21T08:32:18.286Z"
   },
   {
    "duration": 237,
    "start_time": "2022-05-21T08:32:18.309Z"
   },
   {
    "duration": 21,
    "start_time": "2022-05-21T08:32:18.558Z"
   },
   {
    "duration": 21,
    "start_time": "2022-05-21T08:32:18.581Z"
   },
   {
    "duration": 14,
    "start_time": "2022-05-21T08:32:18.604Z"
   },
   {
    "duration": 326,
    "start_time": "2022-05-21T08:32:18.620Z"
   },
   {
    "duration": 43,
    "start_time": "2022-05-21T08:32:18.950Z"
   },
   {
    "duration": 380,
    "start_time": "2022-05-21T08:32:18.997Z"
   },
   {
    "duration": 25,
    "start_time": "2022-05-21T08:32:19.379Z"
   },
   {
    "duration": 18,
    "start_time": "2022-05-21T08:32:19.406Z"
   },
   {
    "duration": 109,
    "start_time": "2022-05-21T08:32:19.425Z"
   },
   {
    "duration": 544,
    "start_time": "2022-05-21T08:32:19.535Z"
   },
   {
    "duration": 11,
    "start_time": "2022-05-21T08:32:20.081Z"
   },
   {
    "duration": 1021,
    "start_time": "2022-05-21T08:32:20.094Z"
   },
   {
    "duration": 16,
    "start_time": "2022-05-21T08:32:21.117Z"
   },
   {
    "duration": 366,
    "start_time": "2022-05-21T08:32:21.138Z"
   },
   {
    "duration": 5,
    "start_time": "2022-05-21T08:32:21.507Z"
   },
   {
    "duration": 255,
    "start_time": "2022-05-21T08:32:21.514Z"
   },
   {
    "duration": 8,
    "start_time": "2022-05-21T08:32:21.771Z"
   },
   {
    "duration": 81,
    "start_time": "2022-05-21T08:32:21.790Z"
   },
   {
    "duration": 314,
    "start_time": "2022-05-21T08:32:21.873Z"
   },
   {
    "duration": 9,
    "start_time": "2022-05-21T08:32:22.190Z"
   },
   {
    "duration": 414,
    "start_time": "2022-05-21T08:32:22.202Z"
   },
   {
    "duration": 19,
    "start_time": "2022-05-21T08:32:22.622Z"
   },
   {
    "duration": 105,
    "start_time": "2022-05-21T08:32:22.647Z"
   },
   {
    "duration": 362,
    "start_time": "2022-05-21T08:32:22.757Z"
   },
   {
    "duration": 24,
    "start_time": "2022-05-21T08:32:23.120Z"
   },
   {
    "duration": 303,
    "start_time": "2022-05-21T08:32:23.150Z"
   },
   {
    "duration": 11,
    "start_time": "2022-05-21T08:32:23.458Z"
   },
   {
    "duration": 101,
    "start_time": "2022-05-21T08:32:23.476Z"
   },
   {
    "duration": 147,
    "start_time": "2022-05-21T08:32:23.582Z"
   },
   {
    "duration": 1039,
    "start_time": "2022-05-21T08:32:23.731Z"
   },
   {
    "duration": 155,
    "start_time": "2022-05-21T08:32:24.773Z"
   },
   {
    "duration": 110,
    "start_time": "2022-05-21T08:32:24.931Z"
   },
   {
    "duration": 1257,
    "start_time": "2022-05-21T08:32:25.045Z"
   },
   {
    "duration": 74,
    "start_time": "2022-05-21T08:32:26.328Z"
   },
   {
    "duration": 506,
    "start_time": "2022-05-21T08:32:26.404Z"
   },
   {
    "duration": 12,
    "start_time": "2022-05-21T08:32:26.914Z"
   },
   {
    "duration": 61,
    "start_time": "2022-05-21T08:32:26.929Z"
   },
   {
    "duration": 15,
    "start_time": "2022-05-21T08:32:26.992Z"
   },
   {
    "duration": 16,
    "start_time": "2022-05-21T08:32:27.009Z"
   },
   {
    "duration": 63,
    "start_time": "2022-05-21T08:32:27.029Z"
   },
   {
    "duration": 17,
    "start_time": "2022-05-21T08:32:27.094Z"
   },
   {
    "duration": 8,
    "start_time": "2022-05-21T08:32:27.113Z"
   },
   {
    "duration": 60,
    "start_time": "2022-05-21T08:32:27.128Z"
   },
   {
    "duration": 21,
    "start_time": "2022-05-21T08:32:27.190Z"
   },
   {
    "duration": 26,
    "start_time": "2022-05-21T08:32:27.215Z"
   },
   {
    "duration": 49,
    "start_time": "2022-05-21T08:32:27.245Z"
   },
   {
    "duration": 4,
    "start_time": "2022-05-21T09:13:47.907Z"
   },
   {
    "duration": 15,
    "start_time": "2022-05-21T09:14:02.247Z"
   },
   {
    "duration": 6,
    "start_time": "2022-05-21T09:14:51.832Z"
   },
   {
    "duration": 10,
    "start_time": "2022-05-21T09:14:56.087Z"
   },
   {
    "duration": 38,
    "start_time": "2022-05-21T09:15:28.663Z"
   },
   {
    "duration": 9,
    "start_time": "2022-05-21T09:16:04.797Z"
   },
   {
    "duration": 7,
    "start_time": "2022-05-21T09:16:18.635Z"
   },
   {
    "duration": 5,
    "start_time": "2022-05-21T09:16:38.177Z"
   },
   {
    "duration": 29,
    "start_time": "2022-05-21T09:17:14.220Z"
   },
   {
    "duration": 29,
    "start_time": "2022-05-21T09:17:32.567Z"
   },
   {
    "duration": 7,
    "start_time": "2022-05-21T09:17:40.259Z"
   },
   {
    "duration": 5,
    "start_time": "2022-05-21T09:18:53.454Z"
   },
   {
    "duration": 258,
    "start_time": "2022-05-21T09:18:55.156Z"
   },
   {
    "duration": 4,
    "start_time": "2022-05-21T09:20:29.175Z"
   },
   {
    "duration": 176,
    "start_time": "2022-05-21T09:20:30.486Z"
   },
   {
    "duration": 5,
    "start_time": "2022-05-21T09:20:41.459Z"
   },
   {
    "duration": 7,
    "start_time": "2022-05-21T09:20:49.198Z"
   },
   {
    "duration": 176,
    "start_time": "2022-05-21T09:20:56.197Z"
   },
   {
    "duration": 5,
    "start_time": "2022-05-21T09:21:05.560Z"
   },
   {
    "duration": 162,
    "start_time": "2022-05-21T09:26:23.557Z"
   },
   {
    "duration": 151,
    "start_time": "2022-05-21T09:26:35.067Z"
   },
   {
    "duration": 2,
    "start_time": "2022-05-21T09:34:37.873Z"
   },
   {
    "duration": 51,
    "start_time": "2022-05-21T09:34:37.880Z"
   },
   {
    "duration": 18,
    "start_time": "2022-05-21T09:34:37.933Z"
   },
   {
    "duration": 18,
    "start_time": "2022-05-21T09:34:37.953Z"
   },
   {
    "duration": 19,
    "start_time": "2022-05-21T09:34:37.974Z"
   },
   {
    "duration": 37,
    "start_time": "2022-05-21T09:34:37.995Z"
   },
   {
    "duration": 13,
    "start_time": "2022-05-21T09:34:38.034Z"
   },
   {
    "duration": 29,
    "start_time": "2022-05-21T09:34:38.049Z"
   },
   {
    "duration": 45,
    "start_time": "2022-05-21T09:34:38.080Z"
   },
   {
    "duration": 20,
    "start_time": "2022-05-21T09:34:38.127Z"
   },
   {
    "duration": 24,
    "start_time": "2022-05-21T09:34:38.150Z"
   },
   {
    "duration": 14,
    "start_time": "2022-05-21T09:34:38.176Z"
   },
   {
    "duration": 7,
    "start_time": "2022-05-21T09:34:38.223Z"
   },
   {
    "duration": 20,
    "start_time": "2022-05-21T09:34:38.231Z"
   },
   {
    "duration": 5,
    "start_time": "2022-05-21T09:34:38.253Z"
   },
   {
    "duration": 8,
    "start_time": "2022-05-21T09:34:38.259Z"
   },
   {
    "duration": 6,
    "start_time": "2022-05-21T09:34:38.268Z"
   },
   {
    "duration": 7,
    "start_time": "2022-05-21T09:34:38.276Z"
   },
   {
    "duration": 6,
    "start_time": "2022-05-21T09:34:38.285Z"
   },
   {
    "duration": 32,
    "start_time": "2022-05-21T09:34:38.292Z"
   },
   {
    "duration": 4,
    "start_time": "2022-05-21T09:34:38.325Z"
   },
   {
    "duration": 15,
    "start_time": "2022-05-21T09:34:38.330Z"
   },
   {
    "duration": 17,
    "start_time": "2022-05-21T09:34:38.347Z"
   },
   {
    "duration": 15,
    "start_time": "2022-05-21T09:34:38.366Z"
   },
   {
    "duration": 7,
    "start_time": "2022-05-21T09:34:38.383Z"
   },
   {
    "duration": 188,
    "start_time": "2022-05-21T09:34:38.424Z"
   },
   {
    "duration": 11,
    "start_time": "2022-05-21T09:34:38.613Z"
   },
   {
    "duration": 8,
    "start_time": "2022-05-21T09:34:38.626Z"
   },
   {
    "duration": 14,
    "start_time": "2022-05-21T09:34:38.637Z"
   },
   {
    "duration": 201,
    "start_time": "2022-05-21T09:34:38.652Z"
   },
   {
    "duration": 11,
    "start_time": "2022-05-21T09:34:38.854Z"
   },
   {
    "duration": 278,
    "start_time": "2022-05-21T09:34:38.867Z"
   },
   {
    "duration": 297,
    "start_time": "2022-05-21T09:34:39.147Z"
   },
   {
    "duration": 17,
    "start_time": "2022-05-21T09:34:39.446Z"
   },
   {
    "duration": 5,
    "start_time": "2022-05-21T09:34:39.465Z"
   },
   {
    "duration": 22,
    "start_time": "2022-05-21T09:34:39.471Z"
   },
   {
    "duration": 345,
    "start_time": "2022-05-21T09:34:39.494Z"
   },
   {
    "duration": 5,
    "start_time": "2022-05-21T09:34:39.840Z"
   },
   {
    "duration": 430,
    "start_time": "2022-05-21T09:34:39.847Z"
   },
   {
    "duration": 6,
    "start_time": "2022-05-21T09:34:40.279Z"
   },
   {
    "duration": 13,
    "start_time": "2022-05-21T09:34:40.287Z"
   },
   {
    "duration": 6,
    "start_time": "2022-05-21T09:34:40.302Z"
   },
   {
    "duration": 18,
    "start_time": "2022-05-21T09:34:40.309Z"
   },
   {
    "duration": 163,
    "start_time": "2022-05-21T09:34:40.329Z"
   },
   {
    "duration": 4,
    "start_time": "2022-05-21T09:34:40.497Z"
   },
   {
    "duration": 164,
    "start_time": "2022-05-21T09:34:40.503Z"
   },
   {
    "duration": 4,
    "start_time": "2022-05-21T09:34:40.669Z"
   },
   {
    "duration": 7,
    "start_time": "2022-05-21T09:34:40.674Z"
   },
   {
    "duration": 166,
    "start_time": "2022-05-21T09:34:40.682Z"
   },
   {
    "duration": 4,
    "start_time": "2022-05-21T09:34:40.850Z"
   },
   {
    "duration": 282,
    "start_time": "2022-05-21T09:34:40.856Z"
   },
   {
    "duration": 5,
    "start_time": "2022-05-21T09:34:41.139Z"
   },
   {
    "duration": 11,
    "start_time": "2022-05-21T09:34:41.145Z"
   },
   {
    "duration": 219,
    "start_time": "2022-05-21T09:34:41.159Z"
   },
   {
    "duration": 11,
    "start_time": "2022-05-21T09:34:41.379Z"
   },
   {
    "duration": 192,
    "start_time": "2022-05-21T09:34:41.391Z"
   },
   {
    "duration": 4,
    "start_time": "2022-05-21T09:34:41.585Z"
   },
   {
    "duration": 53,
    "start_time": "2022-05-21T09:34:41.591Z"
   },
   {
    "duration": 24,
    "start_time": "2022-05-21T09:34:41.646Z"
   },
   {
    "duration": 323,
    "start_time": "2022-05-21T09:34:41.671Z"
   },
   {
    "duration": 45,
    "start_time": "2022-05-21T09:34:41.995Z"
   },
   {
    "duration": 24,
    "start_time": "2022-05-21T09:34:42.042Z"
   },
   {
    "duration": 365,
    "start_time": "2022-05-21T09:34:42.068Z"
   },
   {
    "duration": 17,
    "start_time": "2022-05-21T09:34:42.434Z"
   },
   {
    "duration": 288,
    "start_time": "2022-05-21T09:34:42.452Z"
   },
   {
    "duration": 6,
    "start_time": "2022-05-21T09:34:42.742Z"
   },
   {
    "duration": 13,
    "start_time": "2022-05-21T09:34:42.750Z"
   },
   {
    "duration": 6,
    "start_time": "2022-05-21T09:34:42.764Z"
   },
   {
    "duration": 4,
    "start_time": "2022-05-21T09:34:42.772Z"
   },
   {
    "duration": 6,
    "start_time": "2022-05-21T09:34:42.778Z"
   },
   {
    "duration": 7,
    "start_time": "2022-05-21T09:34:42.785Z"
   },
   {
    "duration": 29,
    "start_time": "2022-05-21T09:34:42.794Z"
   },
   {
    "duration": 4,
    "start_time": "2022-05-21T09:34:42.824Z"
   },
   {
    "duration": 7,
    "start_time": "2022-05-21T09:34:42.829Z"
   },
   {
    "duration": 6,
    "start_time": "2022-05-21T09:34:42.837Z"
   },
   {
    "duration": 8,
    "start_time": "2022-05-21T09:34:42.844Z"
   },
   {
    "duration": 629,
    "start_time": "2022-05-21T09:37:11.907Z"
   },
   {
    "duration": 246,
    "start_time": "2022-05-21T09:37:23.179Z"
   },
   {
    "duration": 14,
    "start_time": "2022-05-21T10:52:00.037Z"
   },
   {
    "duration": 690,
    "start_time": "2022-05-21T10:54:02.582Z"
   },
   {
    "duration": 216,
    "start_time": "2022-05-21T10:57:20.000Z"
   },
   {
    "duration": 320,
    "start_time": "2022-05-21T10:57:30.596Z"
   },
   {
    "duration": 316,
    "start_time": "2022-05-21T10:58:00.192Z"
   },
   {
    "duration": 4,
    "start_time": "2022-05-21T11:01:46.795Z"
   },
   {
    "duration": 177,
    "start_time": "2022-05-21T11:01:59.072Z"
   },
   {
    "duration": 203,
    "start_time": "2022-05-21T11:03:17.736Z"
   },
   {
    "duration": 151,
    "start_time": "2022-05-21T11:03:23.341Z"
   },
   {
    "duration": 168,
    "start_time": "2022-05-21T11:03:41.071Z"
   },
   {
    "duration": 171,
    "start_time": "2022-05-21T11:03:59.877Z"
   },
   {
    "duration": 344,
    "start_time": "2022-05-21T11:04:37.542Z"
   },
   {
    "duration": 124,
    "start_time": "2022-05-21T11:08:52.792Z"
   },
   {
    "duration": 111,
    "start_time": "2022-05-21T11:09:34.267Z"
   },
   {
    "duration": 108,
    "start_time": "2022-05-21T11:09:55.076Z"
   },
   {
    "duration": 355,
    "start_time": "2022-05-21T11:12:52.315Z"
   },
   {
    "duration": 298,
    "start_time": "2022-05-21T11:13:25.136Z"
   },
   {
    "duration": 348,
    "start_time": "2022-05-21T11:14:28.613Z"
   },
   {
    "duration": 336,
    "start_time": "2022-05-21T11:16:28.014Z"
   },
   {
    "duration": 6,
    "start_time": "2022-05-21T11:17:42.440Z"
   },
   {
    "duration": 5,
    "start_time": "2022-05-21T11:18:09.591Z"
   },
   {
    "duration": 6,
    "start_time": "2022-05-21T11:18:26.271Z"
   },
   {
    "duration": 6,
    "start_time": "2022-05-21T11:19:45.904Z"
   },
   {
    "duration": 32,
    "start_time": "2022-05-21T11:20:30.979Z"
   },
   {
    "duration": 4,
    "start_time": "2022-05-21T11:20:37.808Z"
   },
   {
    "duration": 4,
    "start_time": "2022-05-21T11:20:54.980Z"
   },
   {
    "duration": 295,
    "start_time": "2022-05-21T11:21:40.904Z"
   },
   {
    "duration": 7,
    "start_time": "2022-05-21T11:22:32.114Z"
   },
   {
    "duration": 30,
    "start_time": "2022-05-21T11:27:41.038Z"
   },
   {
    "duration": 20,
    "start_time": "2022-05-21T11:33:36.994Z"
   },
   {
    "duration": 11,
    "start_time": "2022-05-21T11:33:59.090Z"
   },
   {
    "duration": 3,
    "start_time": "2022-05-21T11:35:26.215Z"
   },
   {
    "duration": 19,
    "start_time": "2022-05-21T11:37:27.477Z"
   },
   {
    "duration": 10,
    "start_time": "2022-05-22T02:10:37.202Z"
   },
   {
    "duration": 15,
    "start_time": "2022-05-22T02:11:07.718Z"
   },
   {
    "duration": 10,
    "start_time": "2022-05-22T02:11:32.846Z"
   },
   {
    "duration": 449,
    "start_time": "2022-05-22T02:12:10.169Z"
   },
   {
    "duration": 23,
    "start_time": "2022-05-22T02:12:42.073Z"
   },
   {
    "duration": 345,
    "start_time": "2022-05-22T02:13:45.824Z"
   },
   {
    "duration": 18,
    "start_time": "2022-05-22T02:16:08.906Z"
   },
   {
    "duration": 263,
    "start_time": "2022-05-22T02:17:03.226Z"
   },
   {
    "duration": 213,
    "start_time": "2022-05-22T02:31:02.464Z"
   },
   {
    "duration": 246,
    "start_time": "2022-05-22T02:35:01.992Z"
   },
   {
    "duration": 331,
    "start_time": "2022-05-22T02:36:23.539Z"
   },
   {
    "duration": 386,
    "start_time": "2022-05-22T03:09:38.445Z"
   },
   {
    "duration": 3,
    "start_time": "2022-05-22T03:09:46.775Z"
   },
   {
    "duration": 5,
    "start_time": "2022-05-22T03:09:57.767Z"
   },
   {
    "duration": 12,
    "start_time": "2022-05-22T03:10:16.467Z"
   },
   {
    "duration": 10,
    "start_time": "2022-05-22T03:11:10.535Z"
   },
   {
    "duration": 10,
    "start_time": "2022-05-22T03:11:32.799Z"
   },
   {
    "duration": 10,
    "start_time": "2022-05-22T03:12:06.681Z"
   },
   {
    "duration": 12,
    "start_time": "2022-05-22T03:12:23.088Z"
   },
   {
    "duration": 7,
    "start_time": "2022-05-22T03:12:42.800Z"
   },
   {
    "duration": 13,
    "start_time": "2022-05-22T03:12:50.113Z"
   },
   {
    "duration": 15,
    "start_time": "2022-05-22T03:13:16.483Z"
   },
   {
    "duration": 12,
    "start_time": "2022-05-22T03:13:27.121Z"
   },
   {
    "duration": 10,
    "start_time": "2022-05-22T03:13:52.776Z"
   },
   {
    "duration": 12,
    "start_time": "2022-05-22T03:14:03.947Z"
   },
   {
    "duration": 217,
    "start_time": "2022-05-22T03:14:21.009Z"
   },
   {
    "duration": 10,
    "start_time": "2022-05-22T03:15:00.691Z"
   },
   {
    "duration": 10,
    "start_time": "2022-05-22T03:19:00.007Z"
   },
   {
    "duration": 11,
    "start_time": "2022-05-22T03:31:31.724Z"
   },
   {
    "duration": 12,
    "start_time": "2022-05-22T03:31:36.563Z"
   },
   {
    "duration": 220,
    "start_time": "2022-05-22T03:31:39.637Z"
   },
   {
    "duration": 231,
    "start_time": "2022-05-22T03:32:24.574Z"
   },
   {
    "duration": 4,
    "start_time": "2022-05-22T03:39:57.860Z"
   },
   {
    "duration": 11,
    "start_time": "2022-05-22T03:45:48.706Z"
   },
   {
    "duration": 11,
    "start_time": "2022-05-22T03:46:52.970Z"
   },
   {
    "duration": 14,
    "start_time": "2022-05-22T03:46:56.828Z"
   },
   {
    "duration": 15,
    "start_time": "2022-05-22T03:47:59.946Z"
   },
   {
    "duration": 14,
    "start_time": "2022-05-22T03:48:15.569Z"
   },
   {
    "duration": 16,
    "start_time": "2022-05-22T03:48:17.954Z"
   },
   {
    "duration": 13,
    "start_time": "2022-05-22T03:48:47.187Z"
   },
   {
    "duration": 220,
    "start_time": "2022-05-22T03:49:07.476Z"
   },
   {
    "duration": 371,
    "start_time": "2022-05-22T03:50:16.476Z"
   },
   {
    "duration": 370,
    "start_time": "2022-05-22T03:50:22.596Z"
   },
   {
    "duration": 11,
    "start_time": "2022-05-22T03:50:33.315Z"
   },
   {
    "duration": 7,
    "start_time": "2022-05-22T03:50:36.788Z"
   },
   {
    "duration": 14,
    "start_time": "2022-05-22T03:51:07.757Z"
   },
   {
    "duration": 56,
    "start_time": "2022-05-22T03:54:50.104Z"
   },
   {
    "duration": 220,
    "start_time": "2022-05-22T03:55:03.569Z"
   },
   {
    "duration": 219,
    "start_time": "2022-05-22T03:55:29.424Z"
   },
   {
    "duration": 220,
    "start_time": "2022-05-22T03:55:44.976Z"
   },
   {
    "duration": 130,
    "start_time": "2022-05-22T03:57:32.882Z"
   },
   {
    "duration": 36,
    "start_time": "2022-05-22T03:59:15.388Z"
   },
   {
    "duration": 29,
    "start_time": "2022-05-22T03:59:36.988Z"
   },
   {
    "duration": 32,
    "start_time": "2022-05-22T04:00:04.020Z"
   },
   {
    "duration": 42,
    "start_time": "2022-05-22T04:00:16.247Z"
   },
   {
    "duration": 34,
    "start_time": "2022-05-22T04:10:14.203Z"
   },
   {
    "duration": 11,
    "start_time": "2022-05-22T04:15:44.648Z"
   },
   {
    "duration": 10,
    "start_time": "2022-05-22T04:15:47.144Z"
   },
   {
    "duration": 3,
    "start_time": "2022-05-22T04:15:54.173Z"
   },
   {
    "duration": 52,
    "start_time": "2022-05-22T04:15:54.180Z"
   },
   {
    "duration": 13,
    "start_time": "2022-05-22T04:15:54.234Z"
   },
   {
    "duration": 14,
    "start_time": "2022-05-22T04:15:54.249Z"
   },
   {
    "duration": 16,
    "start_time": "2022-05-22T04:15:54.266Z"
   },
   {
    "duration": 9,
    "start_time": "2022-05-22T04:15:54.283Z"
   },
   {
    "duration": 37,
    "start_time": "2022-05-22T04:15:54.293Z"
   },
   {
    "duration": 22,
    "start_time": "2022-05-22T04:15:54.332Z"
   },
   {
    "duration": 15,
    "start_time": "2022-05-22T04:15:54.355Z"
   },
   {
    "duration": 18,
    "start_time": "2022-05-22T04:15:54.372Z"
   },
   {
    "duration": 52,
    "start_time": "2022-05-22T04:15:54.393Z"
   },
   {
    "duration": 14,
    "start_time": "2022-05-22T04:15:54.447Z"
   },
   {
    "duration": 6,
    "start_time": "2022-05-22T04:15:54.462Z"
   },
   {
    "duration": 15,
    "start_time": "2022-05-22T04:15:54.469Z"
   },
   {
    "duration": 4,
    "start_time": "2022-05-22T04:15:54.485Z"
   },
   {
    "duration": 5,
    "start_time": "2022-05-22T04:15:54.527Z"
   },
   {
    "duration": 10,
    "start_time": "2022-05-22T04:15:54.533Z"
   },
   {
    "duration": 6,
    "start_time": "2022-05-22T04:15:54.544Z"
   },
   {
    "duration": 6,
    "start_time": "2022-05-22T04:15:54.552Z"
   },
   {
    "duration": 7,
    "start_time": "2022-05-22T04:15:54.559Z"
   },
   {
    "duration": 6,
    "start_time": "2022-05-22T04:15:54.567Z"
   },
   {
    "duration": 16,
    "start_time": "2022-05-22T04:15:54.574Z"
   },
   {
    "duration": 37,
    "start_time": "2022-05-22T04:15:54.591Z"
   },
   {
    "duration": 11,
    "start_time": "2022-05-22T04:15:54.630Z"
   },
   {
    "duration": 6,
    "start_time": "2022-05-22T04:15:54.643Z"
   },
   {
    "duration": 177,
    "start_time": "2022-05-22T04:15:54.652Z"
   },
   {
    "duration": 10,
    "start_time": "2022-05-22T04:15:54.830Z"
   },
   {
    "duration": 9,
    "start_time": "2022-05-22T04:15:54.842Z"
   },
   {
    "duration": 14,
    "start_time": "2022-05-22T04:15:54.853Z"
   },
   {
    "duration": 185,
    "start_time": "2022-05-22T04:15:54.869Z"
   },
   {
    "duration": 9,
    "start_time": "2022-05-22T04:15:55.056Z"
   },
   {
    "duration": 10,
    "start_time": "2022-05-22T04:15:55.066Z"
   },
   {
    "duration": 0,
    "start_time": "2022-05-22T04:15:55.078Z"
   },
   {
    "duration": 0,
    "start_time": "2022-05-22T04:15:55.078Z"
   },
   {
    "duration": 0,
    "start_time": "2022-05-22T04:15:55.079Z"
   },
   {
    "duration": 0,
    "start_time": "2022-05-22T04:15:55.080Z"
   },
   {
    "duration": 0,
    "start_time": "2022-05-22T04:15:55.082Z"
   },
   {
    "duration": 0,
    "start_time": "2022-05-22T04:15:55.083Z"
   },
   {
    "duration": 0,
    "start_time": "2022-05-22T04:15:55.084Z"
   },
   {
    "duration": 0,
    "start_time": "2022-05-22T04:15:55.085Z"
   },
   {
    "duration": 0,
    "start_time": "2022-05-22T04:15:55.086Z"
   },
   {
    "duration": 0,
    "start_time": "2022-05-22T04:15:55.087Z"
   },
   {
    "duration": 0,
    "start_time": "2022-05-22T04:15:55.088Z"
   },
   {
    "duration": 0,
    "start_time": "2022-05-22T04:15:55.089Z"
   },
   {
    "duration": 0,
    "start_time": "2022-05-22T04:15:55.127Z"
   },
   {
    "duration": 0,
    "start_time": "2022-05-22T04:15:55.128Z"
   },
   {
    "duration": 0,
    "start_time": "2022-05-22T04:15:55.129Z"
   },
   {
    "duration": 0,
    "start_time": "2022-05-22T04:15:55.130Z"
   },
   {
    "duration": 0,
    "start_time": "2022-05-22T04:15:55.132Z"
   },
   {
    "duration": 0,
    "start_time": "2022-05-22T04:15:55.133Z"
   },
   {
    "duration": 0,
    "start_time": "2022-05-22T04:15:55.134Z"
   },
   {
    "duration": 1,
    "start_time": "2022-05-22T04:15:55.135Z"
   },
   {
    "duration": 0,
    "start_time": "2022-05-22T04:15:55.136Z"
   },
   {
    "duration": 0,
    "start_time": "2022-05-22T04:15:55.137Z"
   },
   {
    "duration": 0,
    "start_time": "2022-05-22T04:15:55.139Z"
   },
   {
    "duration": 0,
    "start_time": "2022-05-22T04:15:55.139Z"
   },
   {
    "duration": 0,
    "start_time": "2022-05-22T04:15:55.140Z"
   },
   {
    "duration": 0,
    "start_time": "2022-05-22T04:15:55.141Z"
   },
   {
    "duration": 0,
    "start_time": "2022-05-22T04:15:55.142Z"
   },
   {
    "duration": 0,
    "start_time": "2022-05-22T04:15:55.143Z"
   },
   {
    "duration": 1,
    "start_time": "2022-05-22T04:15:55.143Z"
   },
   {
    "duration": 1,
    "start_time": "2022-05-22T04:15:55.144Z"
   },
   {
    "duration": 0,
    "start_time": "2022-05-22T04:15:55.145Z"
   },
   {
    "duration": 0,
    "start_time": "2022-05-22T04:15:55.146Z"
   },
   {
    "duration": 0,
    "start_time": "2022-05-22T04:15:55.147Z"
   },
   {
    "duration": 0,
    "start_time": "2022-05-22T04:15:55.148Z"
   },
   {
    "duration": 0,
    "start_time": "2022-05-22T04:15:55.149Z"
   },
   {
    "duration": 0,
    "start_time": "2022-05-22T04:15:55.150Z"
   },
   {
    "duration": 0,
    "start_time": "2022-05-22T04:15:55.151Z"
   },
   {
    "duration": 0,
    "start_time": "2022-05-22T04:15:55.152Z"
   },
   {
    "duration": 0,
    "start_time": "2022-05-22T04:15:55.153Z"
   },
   {
    "duration": 0,
    "start_time": "2022-05-22T04:15:55.154Z"
   },
   {
    "duration": 0,
    "start_time": "2022-05-22T04:15:55.155Z"
   },
   {
    "duration": 0,
    "start_time": "2022-05-22T04:15:55.156Z"
   },
   {
    "duration": 69,
    "start_time": "2022-05-22T04:15:55.159Z"
   },
   {
    "duration": 0,
    "start_time": "2022-05-22T04:15:55.229Z"
   },
   {
    "duration": 0,
    "start_time": "2022-05-22T04:15:55.231Z"
   },
   {
    "duration": 12,
    "start_time": "2022-05-22T04:16:17.216Z"
   },
   {
    "duration": 28,
    "start_time": "2022-05-22T04:16:23.864Z"
   },
   {
    "duration": 493,
    "start_time": "2022-05-22T04:16:26.945Z"
   },
   {
    "duration": 536,
    "start_time": "2022-05-22T04:16:34.456Z"
   },
   {
    "duration": 3,
    "start_time": "2022-05-22T04:16:42.734Z"
   },
   {
    "duration": 70,
    "start_time": "2022-05-22T04:16:42.741Z"
   },
   {
    "duration": 13,
    "start_time": "2022-05-22T04:16:42.813Z"
   },
   {
    "duration": 16,
    "start_time": "2022-05-22T04:16:42.828Z"
   },
   {
    "duration": 50,
    "start_time": "2022-05-22T04:16:42.846Z"
   },
   {
    "duration": 29,
    "start_time": "2022-05-22T04:16:42.897Z"
   },
   {
    "duration": 29,
    "start_time": "2022-05-22T04:16:42.928Z"
   },
   {
    "duration": 53,
    "start_time": "2022-05-22T04:16:42.959Z"
   },
   {
    "duration": 23,
    "start_time": "2022-05-22T04:16:43.014Z"
   },
   {
    "duration": 19,
    "start_time": "2022-05-22T04:16:43.038Z"
   },
   {
    "duration": 79,
    "start_time": "2022-05-22T04:16:43.059Z"
   },
   {
    "duration": 15,
    "start_time": "2022-05-22T04:16:43.139Z"
   },
   {
    "duration": 72,
    "start_time": "2022-05-22T04:16:43.155Z"
   },
   {
    "duration": 15,
    "start_time": "2022-05-22T04:16:43.229Z"
   },
   {
    "duration": 18,
    "start_time": "2022-05-22T04:16:43.245Z"
   },
   {
    "duration": 64,
    "start_time": "2022-05-22T04:16:43.264Z"
   },
   {
    "duration": 18,
    "start_time": "2022-05-22T04:16:43.329Z"
   },
   {
    "duration": 9,
    "start_time": "2022-05-22T04:16:43.349Z"
   },
   {
    "duration": 34,
    "start_time": "2022-05-22T04:16:43.360Z"
   },
   {
    "duration": 42,
    "start_time": "2022-05-22T04:16:43.395Z"
   },
   {
    "duration": 19,
    "start_time": "2022-05-22T04:16:43.438Z"
   },
   {
    "duration": 13,
    "start_time": "2022-05-22T04:16:43.688Z"
   },
   {
    "duration": 17,
    "start_time": "2022-05-22T04:16:43.727Z"
   },
   {
    "duration": 26,
    "start_time": "2022-05-22T04:16:43.746Z"
   },
   {
    "duration": 54,
    "start_time": "2022-05-22T04:16:43.775Z"
   },
   {
    "duration": 165,
    "start_time": "2022-05-22T04:16:43.830Z"
   },
   {
    "duration": 8,
    "start_time": "2022-05-22T04:16:43.998Z"
   },
   {
    "duration": 28,
    "start_time": "2022-05-22T04:16:44.007Z"
   },
   {
    "duration": 17,
    "start_time": "2022-05-22T04:16:44.036Z"
   },
   {
    "duration": 170,
    "start_time": "2022-05-22T04:16:44.054Z"
   },
   {
    "duration": 8,
    "start_time": "2022-05-22T04:16:44.226Z"
   },
   {
    "duration": 29,
    "start_time": "2022-05-22T04:16:44.236Z"
   },
   {
    "duration": 0,
    "start_time": "2022-05-22T04:16:44.268Z"
   },
   {
    "duration": 0,
    "start_time": "2022-05-22T04:16:44.269Z"
   },
   {
    "duration": 0,
    "start_time": "2022-05-22T04:16:44.270Z"
   },
   {
    "duration": 0,
    "start_time": "2022-05-22T04:16:44.271Z"
   },
   {
    "duration": 0,
    "start_time": "2022-05-22T04:16:44.272Z"
   },
   {
    "duration": 0,
    "start_time": "2022-05-22T04:16:44.272Z"
   },
   {
    "duration": 0,
    "start_time": "2022-05-22T04:16:44.274Z"
   },
   {
    "duration": 0,
    "start_time": "2022-05-22T04:16:44.275Z"
   },
   {
    "duration": 0,
    "start_time": "2022-05-22T04:16:44.275Z"
   },
   {
    "duration": 0,
    "start_time": "2022-05-22T04:16:44.276Z"
   },
   {
    "duration": 0,
    "start_time": "2022-05-22T04:16:44.277Z"
   },
   {
    "duration": 0,
    "start_time": "2022-05-22T04:16:44.278Z"
   },
   {
    "duration": 0,
    "start_time": "2022-05-22T04:16:44.279Z"
   },
   {
    "duration": 0,
    "start_time": "2022-05-22T04:16:44.280Z"
   },
   {
    "duration": 0,
    "start_time": "2022-05-22T04:16:44.281Z"
   },
   {
    "duration": 0,
    "start_time": "2022-05-22T04:16:44.282Z"
   },
   {
    "duration": 0,
    "start_time": "2022-05-22T04:16:44.282Z"
   },
   {
    "duration": 0,
    "start_time": "2022-05-22T04:16:44.284Z"
   },
   {
    "duration": 0,
    "start_time": "2022-05-22T04:16:44.285Z"
   },
   {
    "duration": 0,
    "start_time": "2022-05-22T04:16:44.286Z"
   },
   {
    "duration": 0,
    "start_time": "2022-05-22T04:16:44.287Z"
   },
   {
    "duration": 0,
    "start_time": "2022-05-22T04:16:44.288Z"
   },
   {
    "duration": 0,
    "start_time": "2022-05-22T04:16:44.289Z"
   },
   {
    "duration": 0,
    "start_time": "2022-05-22T04:16:44.290Z"
   },
   {
    "duration": 0,
    "start_time": "2022-05-22T04:16:44.291Z"
   },
   {
    "duration": 0,
    "start_time": "2022-05-22T04:16:44.292Z"
   },
   {
    "duration": 0,
    "start_time": "2022-05-22T04:16:44.293Z"
   },
   {
    "duration": 0,
    "start_time": "2022-05-22T04:16:44.293Z"
   },
   {
    "duration": 0,
    "start_time": "2022-05-22T04:16:44.326Z"
   },
   {
    "duration": 0,
    "start_time": "2022-05-22T04:16:44.328Z"
   },
   {
    "duration": 0,
    "start_time": "2022-05-22T04:16:44.329Z"
   },
   {
    "duration": 0,
    "start_time": "2022-05-22T04:16:44.330Z"
   },
   {
    "duration": 0,
    "start_time": "2022-05-22T04:16:44.331Z"
   },
   {
    "duration": 0,
    "start_time": "2022-05-22T04:16:44.332Z"
   },
   {
    "duration": 0,
    "start_time": "2022-05-22T04:16:44.333Z"
   },
   {
    "duration": 0,
    "start_time": "2022-05-22T04:16:44.334Z"
   },
   {
    "duration": 0,
    "start_time": "2022-05-22T04:16:44.335Z"
   },
   {
    "duration": 0,
    "start_time": "2022-05-22T04:16:44.335Z"
   },
   {
    "duration": 0,
    "start_time": "2022-05-22T04:16:44.336Z"
   },
   {
    "duration": 0,
    "start_time": "2022-05-22T04:16:44.337Z"
   },
   {
    "duration": 0,
    "start_time": "2022-05-22T04:16:44.338Z"
   },
   {
    "duration": 0,
    "start_time": "2022-05-22T04:16:44.339Z"
   },
   {
    "duration": 0,
    "start_time": "2022-05-22T04:16:44.340Z"
   },
   {
    "duration": 0,
    "start_time": "2022-05-22T04:16:44.341Z"
   },
   {
    "duration": 0,
    "start_time": "2022-05-22T04:16:44.343Z"
   },
   {
    "duration": 33,
    "start_time": "2022-05-22T04:17:08.521Z"
   },
   {
    "duration": 26,
    "start_time": "2022-05-22T04:17:10.640Z"
   },
   {
    "duration": 636,
    "start_time": "2022-05-22T04:17:13.928Z"
   },
   {
    "duration": 231,
    "start_time": "2022-05-22T04:17:33.473Z"
   },
   {
    "duration": 552,
    "start_time": "2022-05-22T04:18:00.785Z"
   },
   {
    "duration": 514,
    "start_time": "2022-05-22T04:18:14.938Z"
   },
   {
    "duration": 11,
    "start_time": "2022-05-22T04:40:12.711Z"
   },
   {
    "duration": 17,
    "start_time": "2022-05-22T04:40:16.742Z"
   },
   {
    "duration": 268,
    "start_time": "2022-05-22T04:40:18.718Z"
   },
   {
    "duration": 5,
    "start_time": "2022-05-22T04:51:13.174Z"
   },
   {
    "duration": 25,
    "start_time": "2022-05-22T04:51:20.822Z"
   },
   {
    "duration": 10,
    "start_time": "2022-05-22T04:53:48.952Z"
   },
   {
    "duration": 33,
    "start_time": "2022-05-22T04:54:07.137Z"
   },
   {
    "duration": 15,
    "start_time": "2022-05-22T04:54:09.401Z"
   },
   {
    "duration": 11,
    "start_time": "2022-05-22T04:55:20.368Z"
   },
   {
    "duration": 16,
    "start_time": "2022-05-22T04:57:45.026Z"
   },
   {
    "duration": 7,
    "start_time": "2022-05-22T04:58:20.195Z"
   },
   {
    "duration": 9,
    "start_time": "2022-05-22T04:58:50.579Z"
   },
   {
    "duration": 4,
    "start_time": "2022-05-22T04:58:56.572Z"
   },
   {
    "duration": 4,
    "start_time": "2022-05-22T04:58:58.348Z"
   },
   {
    "duration": 8,
    "start_time": "2022-05-22T05:02:46.969Z"
   },
   {
    "duration": 4,
    "start_time": "2022-05-22T05:03:21.113Z"
   },
   {
    "duration": 6,
    "start_time": "2022-05-22T05:03:22.712Z"
   },
   {
    "duration": 3,
    "start_time": "2022-05-22T05:04:01.098Z"
   },
   {
    "duration": 9,
    "start_time": "2022-05-22T05:05:10.083Z"
   },
   {
    "duration": 4,
    "start_time": "2022-05-22T05:05:12.099Z"
   },
   {
    "duration": 6,
    "start_time": "2022-05-22T05:05:19.779Z"
   },
   {
    "duration": 4,
    "start_time": "2022-05-22T05:05:21.362Z"
   },
   {
    "duration": 7,
    "start_time": "2022-05-22T05:05:25.987Z"
   },
   {
    "duration": 8,
    "start_time": "2022-05-22T05:05:27.803Z"
   },
   {
    "duration": 4,
    "start_time": "2022-05-22T05:05:31.225Z"
   },
   {
    "duration": 6,
    "start_time": "2022-05-22T05:05:32.570Z"
   },
   {
    "duration": 4,
    "start_time": "2022-05-22T05:05:46.668Z"
   },
   {
    "duration": 9,
    "start_time": "2022-05-22T05:07:13.966Z"
   },
   {
    "duration": 8,
    "start_time": "2022-05-22T05:08:55.431Z"
   },
   {
    "duration": 4,
    "start_time": "2022-05-22T05:08:57.248Z"
   },
   {
    "duration": 3,
    "start_time": "2022-05-22T05:08:58.574Z"
   },
   {
    "duration": 8,
    "start_time": "2022-05-22T05:09:14.504Z"
   },
   {
    "duration": 4,
    "start_time": "2022-05-22T05:09:16.831Z"
   },
   {
    "duration": 10,
    "start_time": "2022-05-22T05:09:24.801Z"
   },
   {
    "duration": 4,
    "start_time": "2022-05-22T05:09:26.807Z"
   },
   {
    "duration": 9,
    "start_time": "2022-05-22T05:09:30.423Z"
   },
   {
    "duration": 7,
    "start_time": "2022-05-23T10:08:20.710Z"
   },
   {
    "duration": 4,
    "start_time": "2022-05-23T10:08:22.663Z"
   },
   {
    "duration": 3,
    "start_time": "2022-05-23T10:08:23.848Z"
   },
   {
    "duration": 4,
    "start_time": "2022-05-23T10:08:25.551Z"
   },
   {
    "duration": 5,
    "start_time": "2022-05-23T10:08:27.496Z"
   },
   {
    "duration": 2,
    "start_time": "2022-05-23T10:08:40.750Z"
   },
   {
    "duration": 69,
    "start_time": "2022-05-23T10:08:40.756Z"
   },
   {
    "duration": 14,
    "start_time": "2022-05-23T10:08:40.827Z"
   },
   {
    "duration": 13,
    "start_time": "2022-05-23T10:08:40.843Z"
   },
   {
    "duration": 34,
    "start_time": "2022-05-23T10:08:40.858Z"
   },
   {
    "duration": 15,
    "start_time": "2022-05-23T10:08:40.893Z"
   },
   {
    "duration": 12,
    "start_time": "2022-05-23T10:08:40.909Z"
   },
   {
    "duration": 53,
    "start_time": "2022-05-23T10:08:40.922Z"
   },
   {
    "duration": 17,
    "start_time": "2022-05-23T10:08:40.977Z"
   },
   {
    "duration": 19,
    "start_time": "2022-05-23T10:08:40.995Z"
   },
   {
    "duration": 22,
    "start_time": "2022-05-23T10:08:41.017Z"
   },
   {
    "duration": 14,
    "start_time": "2022-05-23T10:08:41.075Z"
   },
   {
    "duration": 5,
    "start_time": "2022-05-23T10:08:41.090Z"
   },
   {
    "duration": 17,
    "start_time": "2022-05-23T10:08:41.096Z"
   },
   {
    "duration": 5,
    "start_time": "2022-05-23T10:08:41.114Z"
   },
   {
    "duration": 7,
    "start_time": "2022-05-23T10:08:41.120Z"
   },
   {
    "duration": 6,
    "start_time": "2022-05-23T10:08:41.128Z"
   },
   {
    "duration": 10,
    "start_time": "2022-05-23T10:08:41.136Z"
   },
   {
    "duration": 7,
    "start_time": "2022-05-23T10:08:41.175Z"
   },
   {
    "duration": 10,
    "start_time": "2022-05-23T10:08:41.184Z"
   },
   {
    "duration": 7,
    "start_time": "2022-05-23T10:08:41.195Z"
   },
   {
    "duration": 18,
    "start_time": "2022-05-23T10:08:41.203Z"
   },
   {
    "duration": 17,
    "start_time": "2022-05-23T10:08:41.222Z"
   },
   {
    "duration": 37,
    "start_time": "2022-05-23T10:08:41.240Z"
   },
   {
    "duration": 7,
    "start_time": "2022-05-23T10:08:41.278Z"
   },
   {
    "duration": 172,
    "start_time": "2022-05-23T10:08:41.287Z"
   },
   {
    "duration": 8,
    "start_time": "2022-05-23T10:08:41.474Z"
   },
   {
    "duration": 7,
    "start_time": "2022-05-23T10:08:41.484Z"
   },
   {
    "duration": 9,
    "start_time": "2022-05-23T10:08:41.495Z"
   },
   {
    "duration": 184,
    "start_time": "2022-05-23T10:08:41.506Z"
   },
   {
    "duration": 10,
    "start_time": "2022-05-23T10:08:41.691Z"
   },
   {
    "duration": 10,
    "start_time": "2022-05-23T10:08:41.702Z"
   },
   {
    "duration": 0,
    "start_time": "2022-05-23T10:08:41.713Z"
   },
   {
    "duration": 0,
    "start_time": "2022-05-23T10:08:41.715Z"
   },
   {
    "duration": 0,
    "start_time": "2022-05-23T10:08:41.715Z"
   },
   {
    "duration": 0,
    "start_time": "2022-05-23T10:08:41.716Z"
   },
   {
    "duration": 0,
    "start_time": "2022-05-23T10:08:41.718Z"
   },
   {
    "duration": 0,
    "start_time": "2022-05-23T10:08:41.719Z"
   },
   {
    "duration": 0,
    "start_time": "2022-05-23T10:08:41.720Z"
   },
   {
    "duration": 0,
    "start_time": "2022-05-23T10:08:41.721Z"
   },
   {
    "duration": 0,
    "start_time": "2022-05-23T10:08:41.721Z"
   },
   {
    "duration": 0,
    "start_time": "2022-05-23T10:08:41.722Z"
   },
   {
    "duration": 0,
    "start_time": "2022-05-23T10:08:41.723Z"
   },
   {
    "duration": 0,
    "start_time": "2022-05-23T10:08:41.724Z"
   },
   {
    "duration": 0,
    "start_time": "2022-05-23T10:08:41.725Z"
   },
   {
    "duration": 0,
    "start_time": "2022-05-23T10:08:41.726Z"
   },
   {
    "duration": 0,
    "start_time": "2022-05-23T10:08:41.727Z"
   },
   {
    "duration": 0,
    "start_time": "2022-05-23T10:08:41.728Z"
   },
   {
    "duration": 0,
    "start_time": "2022-05-23T10:08:41.729Z"
   },
   {
    "duration": 0,
    "start_time": "2022-05-23T10:08:41.775Z"
   },
   {
    "duration": 0,
    "start_time": "2022-05-23T10:08:41.776Z"
   },
   {
    "duration": 0,
    "start_time": "2022-05-23T10:08:41.777Z"
   },
   {
    "duration": 0,
    "start_time": "2022-05-23T10:08:41.778Z"
   },
   {
    "duration": 0,
    "start_time": "2022-05-23T10:08:41.779Z"
   },
   {
    "duration": 0,
    "start_time": "2022-05-23T10:08:41.780Z"
   },
   {
    "duration": 0,
    "start_time": "2022-05-23T10:08:41.781Z"
   },
   {
    "duration": 0,
    "start_time": "2022-05-23T10:08:41.782Z"
   },
   {
    "duration": 0,
    "start_time": "2022-05-23T10:08:41.783Z"
   },
   {
    "duration": 0,
    "start_time": "2022-05-23T10:08:41.784Z"
   },
   {
    "duration": 0,
    "start_time": "2022-05-23T10:08:41.785Z"
   },
   {
    "duration": 0,
    "start_time": "2022-05-23T10:08:41.786Z"
   },
   {
    "duration": 0,
    "start_time": "2022-05-23T10:08:41.787Z"
   },
   {
    "duration": 0,
    "start_time": "2022-05-23T10:08:41.788Z"
   },
   {
    "duration": 0,
    "start_time": "2022-05-23T10:08:41.789Z"
   },
   {
    "duration": 0,
    "start_time": "2022-05-23T10:08:41.790Z"
   },
   {
    "duration": 0,
    "start_time": "2022-05-23T10:08:41.791Z"
   },
   {
    "duration": 0,
    "start_time": "2022-05-23T10:08:41.792Z"
   },
   {
    "duration": 0,
    "start_time": "2022-05-23T10:08:41.793Z"
   },
   {
    "duration": 0,
    "start_time": "2022-05-23T10:08:41.794Z"
   },
   {
    "duration": 0,
    "start_time": "2022-05-23T10:08:41.795Z"
   },
   {
    "duration": 0,
    "start_time": "2022-05-23T10:08:41.796Z"
   },
   {
    "duration": 0,
    "start_time": "2022-05-23T10:08:41.797Z"
   },
   {
    "duration": 0,
    "start_time": "2022-05-23T10:08:41.798Z"
   },
   {
    "duration": 0,
    "start_time": "2022-05-23T10:08:41.799Z"
   },
   {
    "duration": 0,
    "start_time": "2022-05-23T10:08:41.800Z"
   },
   {
    "duration": 0,
    "start_time": "2022-05-23T10:08:41.801Z"
   },
   {
    "duration": 0,
    "start_time": "2022-05-23T10:08:41.802Z"
   },
   {
    "duration": 4,
    "start_time": "2022-05-23T10:08:50.774Z"
   },
   {
    "duration": 7,
    "start_time": "2022-05-23T10:09:05.938Z"
   },
   {
    "duration": 3,
    "start_time": "2022-05-23T10:09:07.847Z"
   },
   {
    "duration": 4,
    "start_time": "2022-05-23T10:09:08.976Z"
   },
   {
    "duration": 3,
    "start_time": "2022-05-23T10:09:10.480Z"
   },
   {
    "duration": 5,
    "start_time": "2022-05-23T10:09:11.809Z"
   },
   {
    "duration": 4,
    "start_time": "2022-05-23T10:11:04.291Z"
   },
   {
    "duration": 2,
    "start_time": "2022-05-23T10:11:11.561Z"
   },
   {
    "duration": 61,
    "start_time": "2022-05-23T10:11:11.567Z"
   },
   {
    "duration": 14,
    "start_time": "2022-05-23T10:11:11.630Z"
   },
   {
    "duration": 14,
    "start_time": "2022-05-23T10:11:11.646Z"
   },
   {
    "duration": 18,
    "start_time": "2022-05-23T10:11:11.662Z"
   },
   {
    "duration": 8,
    "start_time": "2022-05-23T10:11:11.682Z"
   },
   {
    "duration": 9,
    "start_time": "2022-05-23T10:11:11.692Z"
   },
   {
    "duration": 22,
    "start_time": "2022-05-23T10:11:11.702Z"
   },
   {
    "duration": 15,
    "start_time": "2022-05-23T10:11:11.726Z"
   },
   {
    "duration": 45,
    "start_time": "2022-05-23T10:11:11.743Z"
   },
   {
    "duration": 21,
    "start_time": "2022-05-23T10:11:11.791Z"
   },
   {
    "duration": 13,
    "start_time": "2022-05-23T10:11:11.814Z"
   },
   {
    "duration": 4,
    "start_time": "2022-05-23T10:11:11.828Z"
   },
   {
    "duration": 51,
    "start_time": "2022-05-23T10:11:11.834Z"
   },
   {
    "duration": 5,
    "start_time": "2022-05-23T10:11:11.887Z"
   },
   {
    "duration": 8,
    "start_time": "2022-05-23T10:11:11.894Z"
   },
   {
    "duration": 5,
    "start_time": "2022-05-23T10:11:11.904Z"
   },
   {
    "duration": 6,
    "start_time": "2022-05-23T10:11:11.910Z"
   },
   {
    "duration": 7,
    "start_time": "2022-05-23T10:11:11.917Z"
   },
   {
    "duration": 7,
    "start_time": "2022-05-23T10:11:11.925Z"
   },
   {
    "duration": 6,
    "start_time": "2022-05-23T10:11:11.933Z"
   },
   {
    "duration": 45,
    "start_time": "2022-05-23T10:11:11.940Z"
   },
   {
    "duration": 16,
    "start_time": "2022-05-23T10:11:11.986Z"
   },
   {
    "duration": 19,
    "start_time": "2022-05-23T10:11:12.003Z"
   },
   {
    "duration": 6,
    "start_time": "2022-05-23T10:11:12.025Z"
   },
   {
    "duration": 183,
    "start_time": "2022-05-23T10:11:12.032Z"
   },
   {
    "duration": 9,
    "start_time": "2022-05-23T10:11:12.217Z"
   },
   {
    "duration": 14,
    "start_time": "2022-05-23T10:11:12.228Z"
   },
   {
    "duration": 23,
    "start_time": "2022-05-23T10:11:12.244Z"
   },
   {
    "duration": 163,
    "start_time": "2022-05-23T10:11:12.274Z"
   },
   {
    "duration": 11,
    "start_time": "2022-05-23T10:11:12.439Z"
   },
   {
    "duration": 26,
    "start_time": "2022-05-23T10:11:12.451Z"
   },
   {
    "duration": 0,
    "start_time": "2022-05-23T10:11:12.479Z"
   },
   {
    "duration": 0,
    "start_time": "2022-05-23T10:11:12.480Z"
   },
   {
    "duration": 0,
    "start_time": "2022-05-23T10:11:12.481Z"
   },
   {
    "duration": 0,
    "start_time": "2022-05-23T10:11:12.482Z"
   },
   {
    "duration": 0,
    "start_time": "2022-05-23T10:11:12.483Z"
   },
   {
    "duration": 0,
    "start_time": "2022-05-23T10:11:12.484Z"
   },
   {
    "duration": 0,
    "start_time": "2022-05-23T10:11:12.485Z"
   },
   {
    "duration": 0,
    "start_time": "2022-05-23T10:11:12.486Z"
   },
   {
    "duration": 0,
    "start_time": "2022-05-23T10:11:12.487Z"
   },
   {
    "duration": 0,
    "start_time": "2022-05-23T10:11:12.488Z"
   },
   {
    "duration": 0,
    "start_time": "2022-05-23T10:11:12.489Z"
   },
   {
    "duration": 0,
    "start_time": "2022-05-23T10:11:12.490Z"
   },
   {
    "duration": 0,
    "start_time": "2022-05-23T10:11:12.491Z"
   },
   {
    "duration": 0,
    "start_time": "2022-05-23T10:11:12.492Z"
   },
   {
    "duration": 0,
    "start_time": "2022-05-23T10:11:12.493Z"
   },
   {
    "duration": 0,
    "start_time": "2022-05-23T10:11:12.494Z"
   },
   {
    "duration": 0,
    "start_time": "2022-05-23T10:11:12.495Z"
   },
   {
    "duration": 0,
    "start_time": "2022-05-23T10:11:12.496Z"
   },
   {
    "duration": 0,
    "start_time": "2022-05-23T10:11:12.497Z"
   },
   {
    "duration": 0,
    "start_time": "2022-05-23T10:11:12.498Z"
   },
   {
    "duration": 0,
    "start_time": "2022-05-23T10:11:12.499Z"
   },
   {
    "duration": 0,
    "start_time": "2022-05-23T10:11:12.500Z"
   },
   {
    "duration": 0,
    "start_time": "2022-05-23T10:11:12.501Z"
   },
   {
    "duration": 0,
    "start_time": "2022-05-23T10:11:12.502Z"
   },
   {
    "duration": 0,
    "start_time": "2022-05-23T10:11:12.503Z"
   },
   {
    "duration": 0,
    "start_time": "2022-05-23T10:11:12.505Z"
   },
   {
    "duration": 0,
    "start_time": "2022-05-23T10:11:12.506Z"
   },
   {
    "duration": 0,
    "start_time": "2022-05-23T10:11:12.508Z"
   },
   {
    "duration": 0,
    "start_time": "2022-05-23T10:11:12.509Z"
   },
   {
    "duration": 0,
    "start_time": "2022-05-23T10:11:12.510Z"
   },
   {
    "duration": 0,
    "start_time": "2022-05-23T10:11:12.511Z"
   },
   {
    "duration": 0,
    "start_time": "2022-05-23T10:11:12.512Z"
   },
   {
    "duration": 0,
    "start_time": "2022-05-23T10:11:12.513Z"
   },
   {
    "duration": 0,
    "start_time": "2022-05-23T10:11:12.514Z"
   },
   {
    "duration": 0,
    "start_time": "2022-05-23T10:11:12.515Z"
   },
   {
    "duration": 0,
    "start_time": "2022-05-23T10:11:12.516Z"
   },
   {
    "duration": 0,
    "start_time": "2022-05-23T10:11:12.575Z"
   },
   {
    "duration": 0,
    "start_time": "2022-05-23T10:11:12.576Z"
   },
   {
    "duration": 0,
    "start_time": "2022-05-23T10:11:12.577Z"
   },
   {
    "duration": 0,
    "start_time": "2022-05-23T10:11:12.579Z"
   },
   {
    "duration": 0,
    "start_time": "2022-05-23T10:11:12.580Z"
   },
   {
    "duration": 0,
    "start_time": "2022-05-23T10:11:12.582Z"
   },
   {
    "duration": 0,
    "start_time": "2022-05-23T10:11:12.583Z"
   },
   {
    "duration": 0,
    "start_time": "2022-05-23T10:11:12.585Z"
   },
   {
    "duration": 0,
    "start_time": "2022-05-23T10:11:12.587Z"
   },
   {
    "duration": 8,
    "start_time": "2022-05-23T10:11:25.131Z"
   },
   {
    "duration": 4,
    "start_time": "2022-05-23T10:11:27.711Z"
   },
   {
    "duration": 4,
    "start_time": "2022-05-23T10:11:29.984Z"
   },
   {
    "duration": 3,
    "start_time": "2022-05-23T10:11:49.482Z"
   },
   {
    "duration": 5,
    "start_time": "2022-05-23T10:12:04.031Z"
   },
   {
    "duration": 5,
    "start_time": "2022-05-23T10:12:13.633Z"
   },
   {
    "duration": 11,
    "start_time": "2022-05-23T10:12:52.450Z"
   },
   {
    "duration": 8,
    "start_time": "2022-05-23T10:13:07.986Z"
   },
   {
    "duration": 7,
    "start_time": "2022-05-23T10:13:12.615Z"
   },
   {
    "duration": 4,
    "start_time": "2022-05-23T10:13:14.568Z"
   },
   {
    "duration": 4,
    "start_time": "2022-05-23T10:13:16.533Z"
   },
   {
    "duration": 3,
    "start_time": "2022-05-23T10:13:19.394Z"
   },
   {
    "duration": 5,
    "start_time": "2022-05-23T10:13:22.458Z"
   },
   {
    "duration": 5,
    "start_time": "2022-05-23T10:15:48.445Z"
   },
   {
    "duration": 3,
    "start_time": "2022-05-23T10:16:29.803Z"
   },
   {
    "duration": 69,
    "start_time": "2022-05-23T10:16:29.809Z"
   },
   {
    "duration": 12,
    "start_time": "2022-05-23T10:16:29.879Z"
   },
   {
    "duration": 16,
    "start_time": "2022-05-23T10:16:29.893Z"
   },
   {
    "duration": 21,
    "start_time": "2022-05-23T10:16:29.911Z"
   },
   {
    "duration": 10,
    "start_time": "2022-05-23T10:16:29.935Z"
   },
   {
    "duration": 11,
    "start_time": "2022-05-23T10:16:29.975Z"
   },
   {
    "duration": 24,
    "start_time": "2022-05-23T10:16:29.987Z"
   },
   {
    "duration": 14,
    "start_time": "2022-05-23T10:16:30.012Z"
   },
   {
    "duration": 19,
    "start_time": "2022-05-23T10:16:30.028Z"
   },
   {
    "duration": 45,
    "start_time": "2022-05-23T10:16:30.049Z"
   },
   {
    "duration": 13,
    "start_time": "2022-05-23T10:16:30.095Z"
   },
   {
    "duration": 11,
    "start_time": "2022-05-23T10:16:30.110Z"
   },
   {
    "duration": 22,
    "start_time": "2022-05-23T10:16:30.122Z"
   },
   {
    "duration": 31,
    "start_time": "2022-05-23T10:16:30.145Z"
   },
   {
    "duration": 8,
    "start_time": "2022-05-23T10:16:30.178Z"
   },
   {
    "duration": 5,
    "start_time": "2022-05-23T10:16:30.188Z"
   },
   {
    "duration": 7,
    "start_time": "2022-05-23T10:16:30.195Z"
   },
   {
    "duration": 14,
    "start_time": "2022-05-23T10:16:30.204Z"
   },
   {
    "duration": 17,
    "start_time": "2022-05-23T10:16:30.219Z"
   },
   {
    "duration": 12,
    "start_time": "2022-05-23T10:16:30.237Z"
   },
   {
    "duration": 25,
    "start_time": "2022-05-23T10:16:30.250Z"
   },
   {
    "duration": 18,
    "start_time": "2022-05-23T10:16:30.277Z"
   },
   {
    "duration": 13,
    "start_time": "2022-05-23T10:16:30.296Z"
   },
   {
    "duration": 7,
    "start_time": "2022-05-23T10:16:30.311Z"
   },
   {
    "duration": 186,
    "start_time": "2022-05-23T10:16:30.319Z"
   },
   {
    "duration": 7,
    "start_time": "2022-05-23T10:16:30.507Z"
   },
   {
    "duration": 9,
    "start_time": "2022-05-23T10:16:30.515Z"
   },
   {
    "duration": 11,
    "start_time": "2022-05-23T10:16:30.528Z"
   },
   {
    "duration": 177,
    "start_time": "2022-05-23T10:16:30.540Z"
   },
   {
    "duration": 9,
    "start_time": "2022-05-23T10:16:30.718Z"
   },
   {
    "duration": 21,
    "start_time": "2022-05-23T10:16:30.728Z"
   },
   {
    "duration": 0,
    "start_time": "2022-05-23T10:16:30.750Z"
   },
   {
    "duration": 0,
    "start_time": "2022-05-23T10:16:30.752Z"
   },
   {
    "duration": 0,
    "start_time": "2022-05-23T10:16:30.753Z"
   },
   {
    "duration": 0,
    "start_time": "2022-05-23T10:16:30.754Z"
   },
   {
    "duration": 0,
    "start_time": "2022-05-23T10:16:30.756Z"
   },
   {
    "duration": 0,
    "start_time": "2022-05-23T10:16:30.757Z"
   },
   {
    "duration": 0,
    "start_time": "2022-05-23T10:16:30.758Z"
   },
   {
    "duration": 0,
    "start_time": "2022-05-23T10:16:30.775Z"
   },
   {
    "duration": 1,
    "start_time": "2022-05-23T10:16:30.776Z"
   },
   {
    "duration": 0,
    "start_time": "2022-05-23T10:16:30.778Z"
   },
   {
    "duration": 0,
    "start_time": "2022-05-23T10:16:30.780Z"
   },
   {
    "duration": 0,
    "start_time": "2022-05-23T10:16:30.781Z"
   },
   {
    "duration": 0,
    "start_time": "2022-05-23T10:16:30.782Z"
   },
   {
    "duration": 0,
    "start_time": "2022-05-23T10:16:30.783Z"
   },
   {
    "duration": 0,
    "start_time": "2022-05-23T10:16:30.785Z"
   },
   {
    "duration": 0,
    "start_time": "2022-05-23T10:16:30.787Z"
   },
   {
    "duration": 0,
    "start_time": "2022-05-23T10:16:30.788Z"
   },
   {
    "duration": 0,
    "start_time": "2022-05-23T10:16:30.789Z"
   },
   {
    "duration": 0,
    "start_time": "2022-05-23T10:16:30.791Z"
   },
   {
    "duration": 0,
    "start_time": "2022-05-23T10:16:30.792Z"
   },
   {
    "duration": 0,
    "start_time": "2022-05-23T10:16:30.793Z"
   },
   {
    "duration": 0,
    "start_time": "2022-05-23T10:16:30.795Z"
   },
   {
    "duration": 0,
    "start_time": "2022-05-23T10:16:30.796Z"
   },
   {
    "duration": 0,
    "start_time": "2022-05-23T10:16:30.798Z"
   },
   {
    "duration": 0,
    "start_time": "2022-05-23T10:16:30.799Z"
   },
   {
    "duration": 0,
    "start_time": "2022-05-23T10:16:30.800Z"
   },
   {
    "duration": 0,
    "start_time": "2022-05-23T10:16:30.802Z"
   },
   {
    "duration": 0,
    "start_time": "2022-05-23T10:16:30.803Z"
   },
   {
    "duration": 0,
    "start_time": "2022-05-23T10:16:30.804Z"
   },
   {
    "duration": 0,
    "start_time": "2022-05-23T10:16:30.806Z"
   },
   {
    "duration": 0,
    "start_time": "2022-05-23T10:16:30.807Z"
   },
   {
    "duration": 0,
    "start_time": "2022-05-23T10:16:30.808Z"
   },
   {
    "duration": 0,
    "start_time": "2022-05-23T10:16:30.809Z"
   },
   {
    "duration": 0,
    "start_time": "2022-05-23T10:16:30.811Z"
   },
   {
    "duration": 0,
    "start_time": "2022-05-23T10:16:30.812Z"
   },
   {
    "duration": 0,
    "start_time": "2022-05-23T10:16:30.874Z"
   },
   {
    "duration": 0,
    "start_time": "2022-05-23T10:16:30.876Z"
   },
   {
    "duration": 0,
    "start_time": "2022-05-23T10:16:30.876Z"
   },
   {
    "duration": 0,
    "start_time": "2022-05-23T10:16:30.877Z"
   },
   {
    "duration": 0,
    "start_time": "2022-05-23T10:16:30.878Z"
   },
   {
    "duration": 0,
    "start_time": "2022-05-23T10:16:30.879Z"
   },
   {
    "duration": 0,
    "start_time": "2022-05-23T10:16:30.880Z"
   },
   {
    "duration": 0,
    "start_time": "2022-05-23T10:16:30.881Z"
   },
   {
    "duration": 0,
    "start_time": "2022-05-23T10:16:30.882Z"
   },
   {
    "duration": 0,
    "start_time": "2022-05-23T10:16:30.883Z"
   },
   {
    "duration": 3,
    "start_time": "2022-05-23T10:17:19.485Z"
   },
   {
    "duration": 73,
    "start_time": "2022-05-23T10:17:20.373Z"
   },
   {
    "duration": 18,
    "start_time": "2022-05-23T10:17:22.925Z"
   },
   {
    "duration": 13,
    "start_time": "2022-05-23T10:17:25.797Z"
   },
   {
    "duration": 15,
    "start_time": "2022-05-23T10:17:27.316Z"
   },
   {
    "duration": 10,
    "start_time": "2022-05-23T10:17:28.910Z"
   },
   {
    "duration": 12,
    "start_time": "2022-05-23T10:17:29.853Z"
   },
   {
    "duration": 24,
    "start_time": "2022-05-23T10:17:31.771Z"
   },
   {
    "duration": 3,
    "start_time": "2022-05-23T10:17:34.629Z"
   },
   {
    "duration": 69,
    "start_time": "2022-05-23T10:17:34.636Z"
   },
   {
    "duration": 11,
    "start_time": "2022-05-23T10:17:34.707Z"
   },
   {
    "duration": 16,
    "start_time": "2022-05-23T10:17:34.720Z"
   },
   {
    "duration": 37,
    "start_time": "2022-05-23T10:17:34.737Z"
   },
   {
    "duration": 26,
    "start_time": "2022-05-23T10:17:34.775Z"
   },
   {
    "duration": 38,
    "start_time": "2022-05-23T10:17:34.803Z"
   },
   {
    "duration": 53,
    "start_time": "2022-05-23T10:17:34.843Z"
   },
   {
    "duration": 47,
    "start_time": "2022-05-23T10:17:34.897Z"
   },
   {
    "duration": 16,
    "start_time": "2022-05-23T10:17:34.945Z"
   },
   {
    "duration": 21,
    "start_time": "2022-05-23T10:17:34.963Z"
   },
   {
    "duration": 38,
    "start_time": "2022-05-23T10:17:34.985Z"
   },
   {
    "duration": 6,
    "start_time": "2022-05-23T10:17:35.024Z"
   },
   {
    "duration": 49,
    "start_time": "2022-05-23T10:17:35.031Z"
   },
   {
    "duration": 6,
    "start_time": "2022-05-23T10:17:35.082Z"
   },
   {
    "duration": 15,
    "start_time": "2022-05-23T10:17:35.089Z"
   },
   {
    "duration": 46,
    "start_time": "2022-05-23T10:17:35.106Z"
   },
   {
    "duration": 23,
    "start_time": "2022-05-23T10:17:35.153Z"
   },
   {
    "duration": 26,
    "start_time": "2022-05-23T10:17:35.178Z"
   },
   {
    "duration": 28,
    "start_time": "2022-05-23T10:17:35.207Z"
   },
   {
    "duration": 39,
    "start_time": "2022-05-23T10:17:35.236Z"
   },
   {
    "duration": 42,
    "start_time": "2022-05-23T10:17:35.276Z"
   },
   {
    "duration": 26,
    "start_time": "2022-05-23T10:17:35.319Z"
   },
   {
    "duration": 24,
    "start_time": "2022-05-23T10:17:35.346Z"
   },
   {
    "duration": 19,
    "start_time": "2022-05-23T10:17:35.372Z"
   },
   {
    "duration": 157,
    "start_time": "2022-05-23T10:17:35.393Z"
   },
   {
    "duration": 7,
    "start_time": "2022-05-23T10:17:35.552Z"
   },
   {
    "duration": 15,
    "start_time": "2022-05-23T10:17:35.561Z"
   },
   {
    "duration": 32,
    "start_time": "2022-05-23T10:17:35.580Z"
   },
   {
    "duration": 166,
    "start_time": "2022-05-23T10:17:35.614Z"
   },
   {
    "duration": 9,
    "start_time": "2022-05-23T10:17:35.781Z"
   },
   {
    "duration": 19,
    "start_time": "2022-05-23T10:17:35.791Z"
   },
   {
    "duration": 0,
    "start_time": "2022-05-23T10:17:35.811Z"
   },
   {
    "duration": 0,
    "start_time": "2022-05-23T10:17:35.812Z"
   },
   {
    "duration": 0,
    "start_time": "2022-05-23T10:17:35.813Z"
   },
   {
    "duration": 0,
    "start_time": "2022-05-23T10:17:35.815Z"
   },
   {
    "duration": 0,
    "start_time": "2022-05-23T10:17:35.816Z"
   },
   {
    "duration": 0,
    "start_time": "2022-05-23T10:17:35.817Z"
   },
   {
    "duration": 0,
    "start_time": "2022-05-23T10:17:35.818Z"
   },
   {
    "duration": 0,
    "start_time": "2022-05-23T10:17:35.819Z"
   },
   {
    "duration": 0,
    "start_time": "2022-05-23T10:17:35.820Z"
   },
   {
    "duration": 0,
    "start_time": "2022-05-23T10:17:35.821Z"
   },
   {
    "duration": 0,
    "start_time": "2022-05-23T10:17:35.822Z"
   },
   {
    "duration": 0,
    "start_time": "2022-05-23T10:17:35.822Z"
   },
   {
    "duration": 0,
    "start_time": "2022-05-23T10:17:35.823Z"
   },
   {
    "duration": 0,
    "start_time": "2022-05-23T10:17:35.824Z"
   },
   {
    "duration": 0,
    "start_time": "2022-05-23T10:17:35.825Z"
   },
   {
    "duration": 0,
    "start_time": "2022-05-23T10:17:35.826Z"
   },
   {
    "duration": 0,
    "start_time": "2022-05-23T10:17:35.827Z"
   },
   {
    "duration": 0,
    "start_time": "2022-05-23T10:17:35.828Z"
   },
   {
    "duration": 0,
    "start_time": "2022-05-23T10:17:35.829Z"
   },
   {
    "duration": 0,
    "start_time": "2022-05-23T10:17:35.830Z"
   },
   {
    "duration": 0,
    "start_time": "2022-05-23T10:17:35.830Z"
   },
   {
    "duration": 0,
    "start_time": "2022-05-23T10:17:35.831Z"
   },
   {
    "duration": 0,
    "start_time": "2022-05-23T10:17:35.832Z"
   },
   {
    "duration": 0,
    "start_time": "2022-05-23T10:17:35.875Z"
   },
   {
    "duration": 0,
    "start_time": "2022-05-23T10:17:35.877Z"
   },
   {
    "duration": 0,
    "start_time": "2022-05-23T10:17:35.878Z"
   },
   {
    "duration": 0,
    "start_time": "2022-05-23T10:17:35.879Z"
   },
   {
    "duration": 0,
    "start_time": "2022-05-23T10:17:35.880Z"
   },
   {
    "duration": 0,
    "start_time": "2022-05-23T10:17:35.881Z"
   },
   {
    "duration": 0,
    "start_time": "2022-05-23T10:17:35.882Z"
   },
   {
    "duration": 0,
    "start_time": "2022-05-23T10:17:35.883Z"
   },
   {
    "duration": 0,
    "start_time": "2022-05-23T10:17:35.885Z"
   },
   {
    "duration": 0,
    "start_time": "2022-05-23T10:17:35.886Z"
   },
   {
    "duration": 0,
    "start_time": "2022-05-23T10:17:35.887Z"
   },
   {
    "duration": 0,
    "start_time": "2022-05-23T10:17:35.888Z"
   },
   {
    "duration": 0,
    "start_time": "2022-05-23T10:17:35.889Z"
   },
   {
    "duration": 0,
    "start_time": "2022-05-23T10:17:35.890Z"
   },
   {
    "duration": 0,
    "start_time": "2022-05-23T10:17:35.891Z"
   },
   {
    "duration": 0,
    "start_time": "2022-05-23T10:17:35.892Z"
   },
   {
    "duration": 0,
    "start_time": "2022-05-23T10:17:35.893Z"
   },
   {
    "duration": 0,
    "start_time": "2022-05-23T10:17:35.894Z"
   },
   {
    "duration": 0,
    "start_time": "2022-05-23T10:17:35.895Z"
   },
   {
    "duration": 0,
    "start_time": "2022-05-23T10:17:35.896Z"
   },
   {
    "duration": 0,
    "start_time": "2022-05-23T10:17:35.897Z"
   },
   {
    "duration": 0,
    "start_time": "2022-05-23T10:17:35.898Z"
   },
   {
    "duration": 4,
    "start_time": "2022-05-23T10:18:14.366Z"
   },
   {
    "duration": 5,
    "start_time": "2022-05-23T10:18:21.189Z"
   },
   {
    "duration": 4,
    "start_time": "2022-05-23T10:18:39.343Z"
   },
   {
    "duration": 9,
    "start_time": "2022-05-23T10:27:38.392Z"
   },
   {
    "duration": 4,
    "start_time": "2022-05-23T10:27:40.611Z"
   },
   {
    "duration": 4,
    "start_time": "2022-05-23T10:27:41.642Z"
   },
   {
    "duration": 3,
    "start_time": "2022-05-23T10:27:43.596Z"
   },
   {
    "duration": 4,
    "start_time": "2022-05-23T10:27:46.260Z"
   },
   {
    "duration": 5,
    "start_time": "2022-05-23T10:35:21.592Z"
   },
   {
    "duration": 3,
    "start_time": "2022-05-23T10:35:41.385Z"
   },
   {
    "duration": 65,
    "start_time": "2022-05-23T10:35:42.329Z"
   },
   {
    "duration": 3,
    "start_time": "2022-05-23T10:38:10.418Z"
   },
   {
    "duration": 81,
    "start_time": "2022-05-23T10:38:10.424Z"
   },
   {
    "duration": 17,
    "start_time": "2022-05-23T10:38:10.507Z"
   },
   {
    "duration": 13,
    "start_time": "2022-05-23T10:38:10.525Z"
   },
   {
    "duration": 18,
    "start_time": "2022-05-23T10:38:10.539Z"
   },
   {
    "duration": 9,
    "start_time": "2022-05-23T10:38:10.574Z"
   },
   {
    "duration": 8,
    "start_time": "2022-05-23T10:38:10.584Z"
   },
   {
    "duration": 21,
    "start_time": "2022-05-23T10:38:10.594Z"
   },
   {
    "duration": 14,
    "start_time": "2022-05-23T10:38:10.616Z"
   },
   {
    "duration": 45,
    "start_time": "2022-05-23T10:38:10.631Z"
   },
   {
    "duration": 22,
    "start_time": "2022-05-23T10:38:10.678Z"
   },
   {
    "duration": 13,
    "start_time": "2022-05-23T10:38:10.701Z"
   },
   {
    "duration": 5,
    "start_time": "2022-05-23T10:38:10.715Z"
   },
   {
    "duration": 17,
    "start_time": "2022-05-23T10:38:10.721Z"
   },
   {
    "duration": 38,
    "start_time": "2022-05-23T10:38:10.739Z"
   },
   {
    "duration": 9,
    "start_time": "2022-05-23T10:38:10.779Z"
   },
   {
    "duration": 5,
    "start_time": "2022-05-23T10:38:10.790Z"
   },
   {
    "duration": 6,
    "start_time": "2022-05-23T10:38:10.797Z"
   },
   {
    "duration": 6,
    "start_time": "2022-05-23T10:38:10.805Z"
   },
   {
    "duration": 8,
    "start_time": "2022-05-23T10:38:10.813Z"
   },
   {
    "duration": 5,
    "start_time": "2022-05-23T10:38:10.823Z"
   },
   {
    "duration": 14,
    "start_time": "2022-05-23T10:38:10.830Z"
   },
   {
    "duration": 38,
    "start_time": "2022-05-23T10:38:10.846Z"
   },
   {
    "duration": 13,
    "start_time": "2022-05-23T10:38:10.885Z"
   },
   {
    "duration": 6,
    "start_time": "2022-05-23T10:38:10.899Z"
   },
   {
    "duration": 182,
    "start_time": "2022-05-23T10:38:10.908Z"
   },
   {
    "duration": 8,
    "start_time": "2022-05-23T10:38:11.091Z"
   },
   {
    "duration": 6,
    "start_time": "2022-05-23T10:38:11.100Z"
   },
   {
    "duration": 8,
    "start_time": "2022-05-23T10:38:11.107Z"
   },
   {
    "duration": 269,
    "start_time": "2022-05-23T10:38:11.117Z"
   },
   {
    "duration": 9,
    "start_time": "2022-05-23T10:38:11.387Z"
   },
   {
    "duration": 8,
    "start_time": "2022-05-23T10:38:11.398Z"
   },
   {
    "duration": 0,
    "start_time": "2022-05-23T10:38:11.408Z"
   },
   {
    "duration": 0,
    "start_time": "2022-05-23T10:38:11.409Z"
   },
   {
    "duration": 0,
    "start_time": "2022-05-23T10:38:11.410Z"
   },
   {
    "duration": 0,
    "start_time": "2022-05-23T10:38:11.411Z"
   },
   {
    "duration": 0,
    "start_time": "2022-05-23T10:38:11.412Z"
   },
   {
    "duration": 0,
    "start_time": "2022-05-23T10:38:11.413Z"
   },
   {
    "duration": 0,
    "start_time": "2022-05-23T10:38:11.414Z"
   },
   {
    "duration": 0,
    "start_time": "2022-05-23T10:38:11.415Z"
   },
   {
    "duration": 0,
    "start_time": "2022-05-23T10:38:11.416Z"
   },
   {
    "duration": 0,
    "start_time": "2022-05-23T10:38:11.417Z"
   },
   {
    "duration": 0,
    "start_time": "2022-05-23T10:38:11.418Z"
   },
   {
    "duration": 0,
    "start_time": "2022-05-23T10:38:11.419Z"
   },
   {
    "duration": 0,
    "start_time": "2022-05-23T10:38:11.420Z"
   },
   {
    "duration": 0,
    "start_time": "2022-05-23T10:38:11.421Z"
   },
   {
    "duration": 0,
    "start_time": "2022-05-23T10:38:11.422Z"
   },
   {
    "duration": 0,
    "start_time": "2022-05-23T10:38:11.424Z"
   },
   {
    "duration": 0,
    "start_time": "2022-05-23T10:38:11.425Z"
   },
   {
    "duration": 0,
    "start_time": "2022-05-23T10:38:11.426Z"
   },
   {
    "duration": 0,
    "start_time": "2022-05-23T10:38:11.427Z"
   },
   {
    "duration": 0,
    "start_time": "2022-05-23T10:38:11.474Z"
   },
   {
    "duration": 0,
    "start_time": "2022-05-23T10:38:11.476Z"
   },
   {
    "duration": 0,
    "start_time": "2022-05-23T10:38:11.477Z"
   },
   {
    "duration": 0,
    "start_time": "2022-05-23T10:38:11.478Z"
   },
   {
    "duration": 0,
    "start_time": "2022-05-23T10:38:11.479Z"
   },
   {
    "duration": 0,
    "start_time": "2022-05-23T10:38:11.480Z"
   },
   {
    "duration": 0,
    "start_time": "2022-05-23T10:38:11.481Z"
   },
   {
    "duration": 0,
    "start_time": "2022-05-23T10:38:11.482Z"
   },
   {
    "duration": 0,
    "start_time": "2022-05-23T10:38:11.483Z"
   },
   {
    "duration": 0,
    "start_time": "2022-05-23T10:38:11.484Z"
   },
   {
    "duration": 0,
    "start_time": "2022-05-23T10:38:11.485Z"
   },
   {
    "duration": 0,
    "start_time": "2022-05-23T10:38:11.486Z"
   },
   {
    "duration": 0,
    "start_time": "2022-05-23T10:38:11.487Z"
   },
   {
    "duration": 0,
    "start_time": "2022-05-23T10:38:11.488Z"
   },
   {
    "duration": 0,
    "start_time": "2022-05-23T10:38:11.488Z"
   },
   {
    "duration": 0,
    "start_time": "2022-05-23T10:38:11.489Z"
   },
   {
    "duration": 0,
    "start_time": "2022-05-23T10:38:11.490Z"
   },
   {
    "duration": 0,
    "start_time": "2022-05-23T10:38:11.491Z"
   },
   {
    "duration": 0,
    "start_time": "2022-05-23T10:38:11.492Z"
   },
   {
    "duration": 0,
    "start_time": "2022-05-23T10:38:11.493Z"
   },
   {
    "duration": 0,
    "start_time": "2022-05-23T10:38:11.494Z"
   },
   {
    "duration": 0,
    "start_time": "2022-05-23T10:38:11.495Z"
   },
   {
    "duration": 0,
    "start_time": "2022-05-23T10:38:11.496Z"
   },
   {
    "duration": 0,
    "start_time": "2022-05-23T10:38:11.496Z"
   },
   {
    "duration": 0,
    "start_time": "2022-05-23T10:38:11.497Z"
   },
   {
    "duration": 0,
    "start_time": "2022-05-23T10:38:11.498Z"
   },
   {
    "duration": 10,
    "start_time": "2022-05-23T10:38:26.221Z"
   },
   {
    "duration": 4,
    "start_time": "2022-05-23T10:38:28.515Z"
   },
   {
    "duration": 3,
    "start_time": "2022-05-23T10:38:30.907Z"
   },
   {
    "duration": 5,
    "start_time": "2022-05-23T10:38:32.819Z"
   },
   {
    "duration": 4,
    "start_time": "2022-05-23T10:38:35.243Z"
   },
   {
    "duration": 4,
    "start_time": "2022-05-23T10:38:54.403Z"
   },
   {
    "duration": 4,
    "start_time": "2022-05-23T10:49:17.684Z"
   },
   {
    "duration": 3,
    "start_time": "2022-05-23T10:49:49.514Z"
   },
   {
    "duration": 67,
    "start_time": "2022-05-23T10:49:49.521Z"
   },
   {
    "duration": 12,
    "start_time": "2022-05-23T10:49:49.590Z"
   },
   {
    "duration": 15,
    "start_time": "2022-05-23T10:49:49.604Z"
   },
   {
    "duration": 16,
    "start_time": "2022-05-23T10:49:49.621Z"
   },
   {
    "duration": 36,
    "start_time": "2022-05-23T10:49:49.639Z"
   },
   {
    "duration": 10,
    "start_time": "2022-05-23T10:49:49.676Z"
   },
   {
    "duration": 25,
    "start_time": "2022-05-23T10:49:49.687Z"
   },
   {
    "duration": 14,
    "start_time": "2022-05-23T10:49:49.713Z"
   },
   {
    "duration": 18,
    "start_time": "2022-05-23T10:49:49.729Z"
   },
   {
    "duration": 22,
    "start_time": "2022-05-23T10:49:49.775Z"
   },
   {
    "duration": 14,
    "start_time": "2022-05-23T10:49:49.798Z"
   },
   {
    "duration": 6,
    "start_time": "2022-05-23T10:49:49.813Z"
   },
   {
    "duration": 14,
    "start_time": "2022-05-23T10:49:49.820Z"
   },
   {
    "duration": 4,
    "start_time": "2022-05-23T10:49:49.836Z"
   },
   {
    "duration": 33,
    "start_time": "2022-05-23T10:49:49.842Z"
   },
   {
    "duration": 5,
    "start_time": "2022-05-23T10:49:49.877Z"
   },
   {
    "duration": 8,
    "start_time": "2022-05-23T10:49:49.883Z"
   },
   {
    "duration": 13,
    "start_time": "2022-05-23T10:49:49.893Z"
   },
   {
    "duration": 6,
    "start_time": "2022-05-23T10:49:49.908Z"
   },
   {
    "duration": 8,
    "start_time": "2022-05-23T10:49:49.915Z"
   },
   {
    "duration": 16,
    "start_time": "2022-05-23T10:49:49.924Z"
   },
   {
    "duration": 44,
    "start_time": "2022-05-23T10:49:49.942Z"
   },
   {
    "duration": 12,
    "start_time": "2022-05-23T10:49:49.988Z"
   },
   {
    "duration": 7,
    "start_time": "2022-05-23T10:49:50.001Z"
   },
   {
    "duration": 191,
    "start_time": "2022-05-23T10:49:50.009Z"
   },
   {
    "duration": 7,
    "start_time": "2022-05-23T10:49:50.202Z"
   },
   {
    "duration": 6,
    "start_time": "2022-05-23T10:49:50.213Z"
   },
   {
    "duration": 13,
    "start_time": "2022-05-23T10:49:50.220Z"
   },
   {
    "duration": 182,
    "start_time": "2022-05-23T10:49:50.234Z"
   },
   {
    "duration": 9,
    "start_time": "2022-05-23T10:49:50.417Z"
   },
   {
    "duration": 9,
    "start_time": "2022-05-23T10:49:50.427Z"
   },
   {
    "duration": 1,
    "start_time": "2022-05-23T10:49:50.437Z"
   },
   {
    "duration": 0,
    "start_time": "2022-05-23T10:49:50.438Z"
   },
   {
    "duration": 0,
    "start_time": "2022-05-23T10:49:50.440Z"
   },
   {
    "duration": 0,
    "start_time": "2022-05-23T10:49:50.440Z"
   },
   {
    "duration": 0,
    "start_time": "2022-05-23T10:49:50.442Z"
   },
   {
    "duration": 0,
    "start_time": "2022-05-23T10:49:50.443Z"
   },
   {
    "duration": 0,
    "start_time": "2022-05-23T10:49:50.444Z"
   },
   {
    "duration": 0,
    "start_time": "2022-05-23T10:49:50.444Z"
   },
   {
    "duration": 0,
    "start_time": "2022-05-23T10:49:50.446Z"
   },
   {
    "duration": 0,
    "start_time": "2022-05-23T10:49:50.446Z"
   },
   {
    "duration": 0,
    "start_time": "2022-05-23T10:49:50.447Z"
   },
   {
    "duration": 0,
    "start_time": "2022-05-23T10:49:50.448Z"
   },
   {
    "duration": 0,
    "start_time": "2022-05-23T10:49:50.475Z"
   },
   {
    "duration": 0,
    "start_time": "2022-05-23T10:49:50.476Z"
   },
   {
    "duration": 0,
    "start_time": "2022-05-23T10:49:50.477Z"
   },
   {
    "duration": 0,
    "start_time": "2022-05-23T10:49:50.478Z"
   },
   {
    "duration": 0,
    "start_time": "2022-05-23T10:49:50.478Z"
   },
   {
    "duration": 0,
    "start_time": "2022-05-23T10:49:50.479Z"
   },
   {
    "duration": 0,
    "start_time": "2022-05-23T10:49:50.480Z"
   },
   {
    "duration": 0,
    "start_time": "2022-05-23T10:49:50.482Z"
   },
   {
    "duration": 0,
    "start_time": "2022-05-23T10:49:50.483Z"
   },
   {
    "duration": 0,
    "start_time": "2022-05-23T10:49:50.483Z"
   },
   {
    "duration": 0,
    "start_time": "2022-05-23T10:49:50.484Z"
   },
   {
    "duration": 0,
    "start_time": "2022-05-23T10:49:50.485Z"
   },
   {
    "duration": 0,
    "start_time": "2022-05-23T10:49:50.486Z"
   },
   {
    "duration": 0,
    "start_time": "2022-05-23T10:49:50.487Z"
   },
   {
    "duration": 0,
    "start_time": "2022-05-23T10:49:50.488Z"
   },
   {
    "duration": 0,
    "start_time": "2022-05-23T10:49:50.489Z"
   },
   {
    "duration": 0,
    "start_time": "2022-05-23T10:49:50.490Z"
   },
   {
    "duration": 0,
    "start_time": "2022-05-23T10:49:50.490Z"
   },
   {
    "duration": 0,
    "start_time": "2022-05-23T10:49:50.491Z"
   },
   {
    "duration": 0,
    "start_time": "2022-05-23T10:49:50.492Z"
   },
   {
    "duration": 0,
    "start_time": "2022-05-23T10:49:50.493Z"
   },
   {
    "duration": 0,
    "start_time": "2022-05-23T10:49:50.494Z"
   },
   {
    "duration": 0,
    "start_time": "2022-05-23T10:49:50.495Z"
   },
   {
    "duration": 0,
    "start_time": "2022-05-23T10:49:50.496Z"
   },
   {
    "duration": 0,
    "start_time": "2022-05-23T10:49:50.496Z"
   },
   {
    "duration": 0,
    "start_time": "2022-05-23T10:49:50.497Z"
   },
   {
    "duration": 0,
    "start_time": "2022-05-23T10:49:50.498Z"
   },
   {
    "duration": 0,
    "start_time": "2022-05-23T10:49:50.499Z"
   },
   {
    "duration": 0,
    "start_time": "2022-05-23T10:49:50.500Z"
   },
   {
    "duration": 0,
    "start_time": "2022-05-23T10:49:50.501Z"
   },
   {
    "duration": 0,
    "start_time": "2022-05-23T10:49:50.502Z"
   },
   {
    "duration": 0,
    "start_time": "2022-05-23T10:49:50.503Z"
   },
   {
    "duration": 0,
    "start_time": "2022-05-23T10:49:50.503Z"
   },
   {
    "duration": 3,
    "start_time": "2022-05-23T10:50:08.025Z"
   },
   {
    "duration": 61,
    "start_time": "2022-05-23T10:50:08.033Z"
   },
   {
    "duration": 13,
    "start_time": "2022-05-23T10:50:08.096Z"
   },
   {
    "duration": 15,
    "start_time": "2022-05-23T10:50:08.110Z"
   },
   {
    "duration": 16,
    "start_time": "2022-05-23T10:50:08.128Z"
   },
   {
    "duration": 30,
    "start_time": "2022-05-23T10:50:08.146Z"
   },
   {
    "duration": 11,
    "start_time": "2022-05-23T10:50:08.177Z"
   },
   {
    "duration": 27,
    "start_time": "2022-05-23T10:50:08.189Z"
   },
   {
    "duration": 16,
    "start_time": "2022-05-23T10:50:08.218Z"
   },
   {
    "duration": 46,
    "start_time": "2022-05-23T10:50:08.236Z"
   },
   {
    "duration": 22,
    "start_time": "2022-05-23T10:50:08.284Z"
   },
   {
    "duration": 14,
    "start_time": "2022-05-23T10:50:08.308Z"
   },
   {
    "duration": 5,
    "start_time": "2022-05-23T10:50:08.323Z"
   },
   {
    "duration": 47,
    "start_time": "2022-05-23T10:50:08.329Z"
   },
   {
    "duration": 5,
    "start_time": "2022-05-23T10:50:08.377Z"
   },
   {
    "duration": 7,
    "start_time": "2022-05-23T10:50:08.384Z"
   },
   {
    "duration": 5,
    "start_time": "2022-05-23T10:50:08.392Z"
   },
   {
    "duration": 8,
    "start_time": "2022-05-23T10:50:08.398Z"
   },
   {
    "duration": 12,
    "start_time": "2022-05-23T10:50:08.407Z"
   },
   {
    "duration": 7,
    "start_time": "2022-05-23T10:50:08.421Z"
   },
   {
    "duration": 5,
    "start_time": "2022-05-23T10:50:08.430Z"
   },
   {
    "duration": 41,
    "start_time": "2022-05-23T10:50:08.436Z"
   },
   {
    "duration": 16,
    "start_time": "2022-05-23T10:50:08.478Z"
   },
   {
    "duration": 14,
    "start_time": "2022-05-23T10:50:08.496Z"
   },
   {
    "duration": 6,
    "start_time": "2022-05-23T10:50:08.512Z"
   },
   {
    "duration": 193,
    "start_time": "2022-05-23T10:50:08.519Z"
   },
   {
    "duration": 8,
    "start_time": "2022-05-23T10:50:08.714Z"
   },
   {
    "duration": 8,
    "start_time": "2022-05-23T10:50:08.723Z"
   },
   {
    "duration": 9,
    "start_time": "2022-05-23T10:50:08.736Z"
   },
   {
    "duration": 188,
    "start_time": "2022-05-23T10:50:08.747Z"
   },
   {
    "duration": 11,
    "start_time": "2022-05-23T10:50:08.936Z"
   },
   {
    "duration": 28,
    "start_time": "2022-05-23T10:50:08.948Z"
   },
   {
    "duration": 0,
    "start_time": "2022-05-23T10:50:08.977Z"
   },
   {
    "duration": 0,
    "start_time": "2022-05-23T10:50:08.979Z"
   },
   {
    "duration": 0,
    "start_time": "2022-05-23T10:50:08.980Z"
   },
   {
    "duration": 0,
    "start_time": "2022-05-23T10:50:08.982Z"
   },
   {
    "duration": 0,
    "start_time": "2022-05-23T10:50:08.983Z"
   },
   {
    "duration": 0,
    "start_time": "2022-05-23T10:50:08.984Z"
   },
   {
    "duration": 0,
    "start_time": "2022-05-23T10:50:08.985Z"
   },
   {
    "duration": 0,
    "start_time": "2022-05-23T10:50:08.986Z"
   },
   {
    "duration": 0,
    "start_time": "2022-05-23T10:50:08.988Z"
   },
   {
    "duration": 0,
    "start_time": "2022-05-23T10:50:08.989Z"
   },
   {
    "duration": 0,
    "start_time": "2022-05-23T10:50:08.990Z"
   },
   {
    "duration": 0,
    "start_time": "2022-05-23T10:50:08.991Z"
   },
   {
    "duration": 0,
    "start_time": "2022-05-23T10:50:08.993Z"
   },
   {
    "duration": 0,
    "start_time": "2022-05-23T10:50:08.994Z"
   },
   {
    "duration": 0,
    "start_time": "2022-05-23T10:50:08.995Z"
   },
   {
    "duration": 0,
    "start_time": "2022-05-23T10:50:08.997Z"
   },
   {
    "duration": 0,
    "start_time": "2022-05-23T10:50:08.998Z"
   },
   {
    "duration": 0,
    "start_time": "2022-05-23T10:50:08.999Z"
   },
   {
    "duration": 0,
    "start_time": "2022-05-23T10:50:09.000Z"
   },
   {
    "duration": 0,
    "start_time": "2022-05-23T10:50:09.002Z"
   },
   {
    "duration": 0,
    "start_time": "2022-05-23T10:50:09.003Z"
   },
   {
    "duration": 0,
    "start_time": "2022-05-23T10:50:09.004Z"
   },
   {
    "duration": 0,
    "start_time": "2022-05-23T10:50:09.005Z"
   },
   {
    "duration": 0,
    "start_time": "2022-05-23T10:50:09.007Z"
   },
   {
    "duration": 0,
    "start_time": "2022-05-23T10:50:09.008Z"
   },
   {
    "duration": 0,
    "start_time": "2022-05-23T10:50:09.009Z"
   },
   {
    "duration": 0,
    "start_time": "2022-05-23T10:50:09.010Z"
   },
   {
    "duration": 0,
    "start_time": "2022-05-23T10:50:09.012Z"
   },
   {
    "duration": 0,
    "start_time": "2022-05-23T10:50:09.013Z"
   },
   {
    "duration": 0,
    "start_time": "2022-05-23T10:50:09.014Z"
   },
   {
    "duration": 0,
    "start_time": "2022-05-23T10:50:09.075Z"
   },
   {
    "duration": 0,
    "start_time": "2022-05-23T10:50:09.076Z"
   },
   {
    "duration": 0,
    "start_time": "2022-05-23T10:50:09.078Z"
   },
   {
    "duration": 0,
    "start_time": "2022-05-23T10:50:09.079Z"
   },
   {
    "duration": 0,
    "start_time": "2022-05-23T10:50:09.079Z"
   },
   {
    "duration": 0,
    "start_time": "2022-05-23T10:50:09.080Z"
   },
   {
    "duration": 0,
    "start_time": "2022-05-23T10:50:09.081Z"
   },
   {
    "duration": 0,
    "start_time": "2022-05-23T10:50:09.082Z"
   },
   {
    "duration": 0,
    "start_time": "2022-05-23T10:50:09.083Z"
   },
   {
    "duration": 0,
    "start_time": "2022-05-23T10:50:09.084Z"
   },
   {
    "duration": 0,
    "start_time": "2022-05-23T10:50:09.085Z"
   },
   {
    "duration": 0,
    "start_time": "2022-05-23T10:50:09.086Z"
   },
   {
    "duration": 0,
    "start_time": "2022-05-23T10:50:09.086Z"
   },
   {
    "duration": 0,
    "start_time": "2022-05-23T10:50:09.088Z"
   },
   {
    "duration": 0,
    "start_time": "2022-05-23T10:50:09.088Z"
   },
   {
    "duration": 2,
    "start_time": "2022-05-23T10:50:34.017Z"
   },
   {
    "duration": 62,
    "start_time": "2022-05-23T10:50:34.023Z"
   },
   {
    "duration": 13,
    "start_time": "2022-05-23T10:50:34.086Z"
   },
   {
    "duration": 13,
    "start_time": "2022-05-23T10:50:34.101Z"
   },
   {
    "duration": 16,
    "start_time": "2022-05-23T10:50:34.116Z"
   },
   {
    "duration": 9,
    "start_time": "2022-05-23T10:50:34.134Z"
   },
   {
    "duration": 32,
    "start_time": "2022-05-23T10:50:34.145Z"
   },
   {
    "duration": 32,
    "start_time": "2022-05-23T10:50:34.179Z"
   },
   {
    "duration": 17,
    "start_time": "2022-05-23T10:50:34.213Z"
   },
   {
    "duration": 50,
    "start_time": "2022-05-23T10:50:34.232Z"
   },
   {
    "duration": 23,
    "start_time": "2022-05-23T10:50:34.284Z"
   },
   {
    "duration": 13,
    "start_time": "2022-05-23T10:50:34.308Z"
   },
   {
    "duration": 4,
    "start_time": "2022-05-23T10:50:34.323Z"
   },
   {
    "duration": 48,
    "start_time": "2022-05-23T10:50:34.329Z"
   },
   {
    "duration": 5,
    "start_time": "2022-05-23T10:50:34.378Z"
   },
   {
    "duration": 21,
    "start_time": "2022-05-23T10:50:34.384Z"
   },
   {
    "duration": 32,
    "start_time": "2022-05-23T10:50:34.407Z"
   },
   {
    "duration": 7,
    "start_time": "2022-05-23T10:50:34.440Z"
   },
   {
    "duration": 20,
    "start_time": "2022-05-23T10:50:34.449Z"
   },
   {
    "duration": 9,
    "start_time": "2022-05-23T10:50:34.471Z"
   },
   {
    "duration": 7,
    "start_time": "2022-05-23T10:50:34.481Z"
   },
   {
    "duration": 21,
    "start_time": "2022-05-23T10:50:34.490Z"
   },
   {
    "duration": 14,
    "start_time": "2022-05-23T10:50:34.513Z"
   },
   {
    "duration": 14,
    "start_time": "2022-05-23T10:50:34.529Z"
   },
   {
    "duration": 6,
    "start_time": "2022-05-23T10:50:34.544Z"
   },
   {
    "duration": 176,
    "start_time": "2022-05-23T10:50:34.552Z"
   },
   {
    "duration": 7,
    "start_time": "2022-05-23T10:50:34.729Z"
   },
   {
    "duration": 10,
    "start_time": "2022-05-23T10:50:34.738Z"
   },
   {
    "duration": 29,
    "start_time": "2022-05-23T10:50:34.751Z"
   },
   {
    "duration": 166,
    "start_time": "2022-05-23T10:50:34.781Z"
   },
   {
    "duration": 9,
    "start_time": "2022-05-23T10:50:34.949Z"
   },
   {
    "duration": 21,
    "start_time": "2022-05-23T10:50:34.959Z"
   },
   {
    "duration": 0,
    "start_time": "2022-05-23T10:50:34.981Z"
   },
   {
    "duration": 0,
    "start_time": "2022-05-23T10:50:34.982Z"
   },
   {
    "duration": 0,
    "start_time": "2022-05-23T10:50:34.983Z"
   },
   {
    "duration": 0,
    "start_time": "2022-05-23T10:50:34.984Z"
   },
   {
    "duration": 0,
    "start_time": "2022-05-23T10:50:34.985Z"
   },
   {
    "duration": 0,
    "start_time": "2022-05-23T10:50:34.986Z"
   },
   {
    "duration": 0,
    "start_time": "2022-05-23T10:50:34.988Z"
   },
   {
    "duration": 0,
    "start_time": "2022-05-23T10:50:34.989Z"
   },
   {
    "duration": 0,
    "start_time": "2022-05-23T10:50:34.990Z"
   },
   {
    "duration": 0,
    "start_time": "2022-05-23T10:50:34.990Z"
   },
   {
    "duration": 0,
    "start_time": "2022-05-23T10:50:34.992Z"
   },
   {
    "duration": 0,
    "start_time": "2022-05-23T10:50:34.992Z"
   },
   {
    "duration": 0,
    "start_time": "2022-05-23T10:50:34.994Z"
   },
   {
    "duration": 0,
    "start_time": "2022-05-23T10:50:34.995Z"
   },
   {
    "duration": 0,
    "start_time": "2022-05-23T10:50:34.996Z"
   },
   {
    "duration": 0,
    "start_time": "2022-05-23T10:50:34.997Z"
   },
   {
    "duration": 0,
    "start_time": "2022-05-23T10:50:34.997Z"
   },
   {
    "duration": 0,
    "start_time": "2022-05-23T10:50:34.998Z"
   },
   {
    "duration": 0,
    "start_time": "2022-05-23T10:50:34.999Z"
   },
   {
    "duration": 0,
    "start_time": "2022-05-23T10:50:35.000Z"
   },
   {
    "duration": 0,
    "start_time": "2022-05-23T10:50:35.001Z"
   },
   {
    "duration": 0,
    "start_time": "2022-05-23T10:50:35.002Z"
   },
   {
    "duration": 0,
    "start_time": "2022-05-23T10:50:35.003Z"
   },
   {
    "duration": 0,
    "start_time": "2022-05-23T10:50:35.004Z"
   },
   {
    "duration": 0,
    "start_time": "2022-05-23T10:50:35.005Z"
   },
   {
    "duration": 0,
    "start_time": "2022-05-23T10:50:35.006Z"
   },
   {
    "duration": 0,
    "start_time": "2022-05-23T10:50:35.007Z"
   },
   {
    "duration": 0,
    "start_time": "2022-05-23T10:50:35.008Z"
   },
   {
    "duration": 0,
    "start_time": "2022-05-23T10:50:35.009Z"
   },
   {
    "duration": 0,
    "start_time": "2022-05-23T10:50:35.009Z"
   },
   {
    "duration": 0,
    "start_time": "2022-05-23T10:50:35.010Z"
   },
   {
    "duration": 0,
    "start_time": "2022-05-23T10:50:35.011Z"
   },
   {
    "duration": 0,
    "start_time": "2022-05-23T10:50:35.012Z"
   },
   {
    "duration": 0,
    "start_time": "2022-05-23T10:50:35.013Z"
   },
   {
    "duration": 0,
    "start_time": "2022-05-23T10:50:35.014Z"
   },
   {
    "duration": 0,
    "start_time": "2022-05-23T10:50:35.015Z"
   },
   {
    "duration": 0,
    "start_time": "2022-05-23T10:50:35.015Z"
   },
   {
    "duration": 0,
    "start_time": "2022-05-23T10:50:35.016Z"
   },
   {
    "duration": 0,
    "start_time": "2022-05-23T10:50:35.075Z"
   },
   {
    "duration": 0,
    "start_time": "2022-05-23T10:50:35.076Z"
   },
   {
    "duration": 0,
    "start_time": "2022-05-23T10:50:35.077Z"
   },
   {
    "duration": 0,
    "start_time": "2022-05-23T10:50:35.078Z"
   },
   {
    "duration": 0,
    "start_time": "2022-05-23T10:50:35.079Z"
   },
   {
    "duration": 0,
    "start_time": "2022-05-23T10:50:35.079Z"
   },
   {
    "duration": 0,
    "start_time": "2022-05-23T10:50:35.080Z"
   },
   {
    "duration": 4,
    "start_time": "2022-05-23T10:50:41.491Z"
   },
   {
    "duration": 3,
    "start_time": "2022-05-23T10:50:44.794Z"
   },
   {
    "duration": 5,
    "start_time": "2022-05-23T10:50:47.290Z"
   },
   {
    "duration": 3,
    "start_time": "2022-05-23T10:52:01.397Z"
   },
   {
    "duration": 59,
    "start_time": "2022-05-23T10:52:02.300Z"
   },
   {
    "duration": 13,
    "start_time": "2022-05-23T10:52:05.124Z"
   },
   {
    "duration": 14,
    "start_time": "2022-05-23T10:52:08.148Z"
   },
   {
    "duration": 15,
    "start_time": "2022-05-23T10:52:11.116Z"
   },
   {
    "duration": 10,
    "start_time": "2022-05-23T10:52:13.396Z"
   },
   {
    "duration": 10,
    "start_time": "2022-05-23T10:52:14.676Z"
   },
   {
    "duration": 23,
    "start_time": "2022-05-23T10:52:16.141Z"
   },
   {
    "duration": 16,
    "start_time": "2022-05-23T10:52:17.389Z"
   },
   {
    "duration": 20,
    "start_time": "2022-05-23T10:52:18.941Z"
   },
   {
    "duration": 25,
    "start_time": "2022-05-23T10:52:20.852Z"
   },
   {
    "duration": 22,
    "start_time": "2022-05-23T10:52:24.580Z"
   },
   {
    "duration": 5,
    "start_time": "2022-05-23T10:52:26.852Z"
   },
   {
    "duration": 14,
    "start_time": "2022-05-23T10:52:28.276Z"
   },
   {
    "duration": 6,
    "start_time": "2022-05-23T10:52:34.880Z"
   },
   {
    "duration": 5,
    "start_time": "2022-05-23T10:52:36.358Z"
   },
   {
    "duration": 5,
    "start_time": "2022-05-23T10:52:37.284Z"
   },
   {
    "duration": 4,
    "start_time": "2022-05-23T10:52:38.316Z"
   },
   {
    "duration": 4,
    "start_time": "2022-05-23T10:52:40.293Z"
   },
   {
    "duration": 4,
    "start_time": "2022-05-23T10:52:41.837Z"
   },
   {
    "duration": 4,
    "start_time": "2022-05-23T10:52:43.286Z"
   },
   {
    "duration": 12,
    "start_time": "2022-05-23T10:52:44.028Z"
   },
   {
    "duration": 16,
    "start_time": "2022-05-23T10:52:45.749Z"
   },
   {
    "duration": 14,
    "start_time": "2022-05-23T10:52:47.948Z"
   },
   {
    "duration": 7,
    "start_time": "2022-05-23T10:52:49.797Z"
   },
   {
    "duration": 142,
    "start_time": "2022-05-23T10:52:51.308Z"
   },
   {
    "duration": 8,
    "start_time": "2022-05-23T10:52:54.852Z"
   },
   {
    "duration": 7,
    "start_time": "2022-05-23T10:52:56.038Z"
   },
   {
    "duration": 11,
    "start_time": "2022-05-23T10:52:57.367Z"
   },
   {
    "duration": 169,
    "start_time": "2022-05-23T10:52:58.140Z"
   },
   {
    "duration": 9,
    "start_time": "2022-05-23T10:53:01.772Z"
   },
   {
    "duration": 9,
    "start_time": "2022-05-23T10:53:03.614Z"
   },
   {
    "duration": 227,
    "start_time": "2022-05-23T10:53:22.418Z"
   },
   {
    "duration": 19,
    "start_time": "2022-05-23T10:53:40.901Z"
   },
   {
    "duration": 5,
    "start_time": "2022-05-23T10:53:43.212Z"
   },
   {
    "duration": 17,
    "start_time": "2022-05-23T10:53:44.373Z"
   },
   {
    "duration": 298,
    "start_time": "2022-05-23T10:53:46.101Z"
   },
   {
    "duration": 4,
    "start_time": "2022-05-23T10:53:50.757Z"
   },
   {
    "duration": 440,
    "start_time": "2022-05-23T10:53:54.809Z"
   },
   {
    "duration": 4,
    "start_time": "2022-05-23T10:54:00.974Z"
   },
   {
    "duration": 5,
    "start_time": "2022-05-23T10:54:02.051Z"
   },
   {
    "duration": 4,
    "start_time": "2022-05-23T10:54:03.141Z"
   },
   {
    "duration": 4,
    "start_time": "2022-05-23T10:54:04.348Z"
   },
   {
    "duration": 279,
    "start_time": "2022-05-23T10:54:06.269Z"
   },
   {
    "duration": 6,
    "start_time": "2022-05-23T10:54:08.790Z"
   },
   {
    "duration": 5,
    "start_time": "2022-05-23T10:54:10.368Z"
   },
   {
    "duration": 6,
    "start_time": "2022-05-23T10:54:12.021Z"
   },
   {
    "duration": 312,
    "start_time": "2022-05-23T10:54:13.013Z"
   },
   {
    "duration": 5,
    "start_time": "2022-05-23T10:54:15.749Z"
   },
   {
    "duration": 4,
    "start_time": "2022-05-23T10:54:17.853Z"
   },
   {
    "duration": 278,
    "start_time": "2022-05-23T10:54:18.813Z"
   },
   {
    "duration": 5,
    "start_time": "2022-05-23T10:54:21.702Z"
   },
   {
    "duration": 8,
    "start_time": "2022-05-23T10:54:24.917Z"
   },
   {
    "duration": 11,
    "start_time": "2022-05-23T10:54:26.269Z"
   },
   {
    "duration": 240,
    "start_time": "2022-05-23T10:54:28.575Z"
   },
   {
    "duration": 10,
    "start_time": "2022-05-23T10:54:32.494Z"
   },
   {
    "duration": 236,
    "start_time": "2022-05-23T10:54:34.423Z"
   },
   {
    "duration": 4,
    "start_time": "2022-05-23T10:54:37.189Z"
   },
   {
    "duration": 13,
    "start_time": "2022-05-23T10:54:38.806Z"
   },
   {
    "duration": 211,
    "start_time": "2022-05-23T10:54:40.581Z"
   },
   {
    "duration": 30,
    "start_time": "2022-05-23T10:54:44.326Z"
   },
   {
    "duration": 21,
    "start_time": "2022-05-23T10:54:46.487Z"
   },
   {
    "duration": 302,
    "start_time": "2022-05-23T10:54:48.183Z"
   },
   {
    "duration": 32,
    "start_time": "2022-05-23T10:54:52.518Z"
   },
   {
    "duration": 22,
    "start_time": "2022-05-23T10:54:55.109Z"
   },
   {
    "duration": 308,
    "start_time": "2022-05-23T10:54:57.438Z"
   },
   {
    "duration": 16,
    "start_time": "2022-05-23T10:54:59.982Z"
   },
   {
    "duration": 201,
    "start_time": "2022-05-23T10:55:01.486Z"
   },
   {
    "duration": 6,
    "start_time": "2022-05-23T10:55:07.959Z"
   },
   {
    "duration": 4,
    "start_time": "2022-05-23T10:55:09.197Z"
   },
   {
    "duration": 4,
    "start_time": "2022-05-23T10:55:11.207Z"
   },
   {
    "duration": 3,
    "start_time": "2022-05-23T10:55:12.686Z"
   },
   {
    "duration": 4,
    "start_time": "2022-05-23T10:55:14.719Z"
   },
   {
    "duration": 6,
    "start_time": "2022-05-23T10:55:18.639Z"
   },
   {
    "duration": 4,
    "start_time": "2022-05-23T10:55:20.573Z"
   },
   {
    "duration": 4,
    "start_time": "2022-05-23T10:55:21.629Z"
   },
   {
    "duration": 3,
    "start_time": "2022-05-23T10:55:23.078Z"
   },
   {
    "duration": 4,
    "start_time": "2022-05-23T10:55:24.934Z"
   },
   {
    "duration": 1437,
    "start_time": "2022-05-24T07:47:04.339Z"
   },
   {
    "duration": 114,
    "start_time": "2022-05-24T07:47:05.778Z"
   },
   {
    "duration": 14,
    "start_time": "2022-05-24T07:47:05.894Z"
   },
   {
    "duration": 13,
    "start_time": "2022-05-24T07:47:05.910Z"
   },
   {
    "duration": 17,
    "start_time": "2022-05-24T07:47:05.926Z"
   },
   {
    "duration": 10,
    "start_time": "2022-05-24T07:47:05.945Z"
   },
   {
    "duration": 16,
    "start_time": "2022-05-24T07:47:05.956Z"
   },
   {
    "duration": 24,
    "start_time": "2022-05-24T07:47:05.974Z"
   },
   {
    "duration": 43,
    "start_time": "2022-05-24T07:47:06.000Z"
   },
   {
    "duration": 35,
    "start_time": "2022-05-24T07:47:06.044Z"
   },
   {
    "duration": 36,
    "start_time": "2022-05-24T07:47:06.081Z"
   },
   {
    "duration": 61,
    "start_time": "2022-05-24T07:47:06.118Z"
   },
   {
    "duration": 11,
    "start_time": "2022-05-24T07:47:06.180Z"
   },
   {
    "duration": 30,
    "start_time": "2022-05-24T07:47:06.198Z"
   },
   {
    "duration": 8,
    "start_time": "2022-05-24T07:47:06.230Z"
   },
   {
    "duration": 17,
    "start_time": "2022-05-24T07:47:06.240Z"
   },
   {
    "duration": 16,
    "start_time": "2022-05-24T07:47:06.260Z"
   },
   {
    "duration": 18,
    "start_time": "2022-05-24T07:47:06.278Z"
   },
   {
    "duration": 14,
    "start_time": "2022-05-24T07:47:06.298Z"
   },
   {
    "duration": 21,
    "start_time": "2022-05-24T07:47:06.314Z"
   },
   {
    "duration": 14,
    "start_time": "2022-05-24T07:47:06.338Z"
   },
   {
    "duration": 21,
    "start_time": "2022-05-24T07:47:06.354Z"
   },
   {
    "duration": 32,
    "start_time": "2022-05-24T07:47:06.377Z"
   },
   {
    "duration": 19,
    "start_time": "2022-05-24T07:47:06.411Z"
   },
   {
    "duration": 10,
    "start_time": "2022-05-24T07:47:06.433Z"
   },
   {
    "duration": 279,
    "start_time": "2022-05-24T07:47:06.445Z"
   },
   {
    "duration": 9,
    "start_time": "2022-05-24T07:47:06.727Z"
   },
   {
    "duration": 7,
    "start_time": "2022-05-24T07:47:06.738Z"
   },
   {
    "duration": 17,
    "start_time": "2022-05-24T07:47:06.746Z"
   },
   {
    "duration": 200,
    "start_time": "2022-05-24T07:47:06.765Z"
   },
   {
    "duration": 11,
    "start_time": "2022-05-24T07:47:06.967Z"
   },
   {
    "duration": 275,
    "start_time": "2022-05-24T07:47:06.980Z"
   },
   {
    "duration": 18,
    "start_time": "2022-05-24T07:47:07.256Z"
   },
   {
    "duration": 12,
    "start_time": "2022-05-24T07:47:07.276Z"
   },
   {
    "duration": 35,
    "start_time": "2022-05-24T07:47:07.290Z"
   },
   {
    "duration": 333,
    "start_time": "2022-05-24T07:47:07.328Z"
   },
   {
    "duration": 17,
    "start_time": "2022-05-24T07:47:20.368Z"
   },
   {
    "duration": 164,
    "start_time": "2022-05-24T07:47:24.324Z"
   },
   {
    "duration": 161,
    "start_time": "2022-05-24T07:47:35.890Z"
   },
   {
    "duration": 28,
    "start_time": "2022-05-24T07:50:58.235Z"
   },
   {
    "duration": 338,
    "start_time": "2022-05-24T07:51:01.738Z"
   },
   {
    "duration": 272,
    "start_time": "2022-05-24T07:51:11.314Z"
   },
   {
    "duration": 268,
    "start_time": "2022-05-24T07:51:37.514Z"
   },
   {
    "duration": 131,
    "start_time": "2022-05-24T08:31:33.899Z"
   },
   {
    "duration": 4,
    "start_time": "2022-05-24T08:31:38.234Z"
   },
   {
    "duration": 78,
    "start_time": "2022-05-24T08:31:38.241Z"
   },
   {
    "duration": 15,
    "start_time": "2022-05-24T08:31:38.321Z"
   },
   {
    "duration": 32,
    "start_time": "2022-05-24T08:31:38.338Z"
   },
   {
    "duration": 19,
    "start_time": "2022-05-24T08:31:38.372Z"
   },
   {
    "duration": 42,
    "start_time": "2022-05-24T08:31:38.393Z"
   },
   {
    "duration": 17,
    "start_time": "2022-05-24T08:31:38.437Z"
   },
   {
    "duration": 25,
    "start_time": "2022-05-24T08:31:38.456Z"
   },
   {
    "duration": 45,
    "start_time": "2022-05-24T08:31:38.483Z"
   },
   {
    "duration": 23,
    "start_time": "2022-05-24T08:31:38.530Z"
   },
   {
    "duration": 32,
    "start_time": "2022-05-24T08:31:38.557Z"
   },
   {
    "duration": 41,
    "start_time": "2022-05-24T08:31:38.590Z"
   },
   {
    "duration": 6,
    "start_time": "2022-05-24T08:31:38.632Z"
   },
   {
    "duration": 28,
    "start_time": "2022-05-24T08:31:38.639Z"
   },
   {
    "duration": 5,
    "start_time": "2022-05-24T08:31:38.669Z"
   },
   {
    "duration": 20,
    "start_time": "2022-05-24T08:31:38.676Z"
   },
   {
    "duration": 18,
    "start_time": "2022-05-24T08:31:38.698Z"
   },
   {
    "duration": 10,
    "start_time": "2022-05-24T08:31:38.718Z"
   },
   {
    "duration": 12,
    "start_time": "2022-05-24T08:31:38.730Z"
   },
   {
    "duration": 7,
    "start_time": "2022-05-24T08:31:38.743Z"
   },
   {
    "duration": 10,
    "start_time": "2022-05-24T08:31:38.752Z"
   },
   {
    "duration": 25,
    "start_time": "2022-05-24T08:31:38.764Z"
   },
   {
    "duration": 26,
    "start_time": "2022-05-24T08:31:38.791Z"
   },
   {
    "duration": 19,
    "start_time": "2022-05-24T08:31:38.828Z"
   },
   {
    "duration": 8,
    "start_time": "2022-05-24T08:31:38.849Z"
   },
   {
    "duration": 190,
    "start_time": "2022-05-24T08:31:38.858Z"
   },
   {
    "duration": 9,
    "start_time": "2022-05-24T08:31:39.050Z"
   },
   {
    "duration": 12,
    "start_time": "2022-05-24T08:31:39.061Z"
   },
   {
    "duration": 11,
    "start_time": "2022-05-24T08:31:39.079Z"
   },
   {
    "duration": 238,
    "start_time": "2022-05-24T08:31:39.092Z"
   },
   {
    "duration": 12,
    "start_time": "2022-05-24T08:31:39.332Z"
   },
   {
    "duration": 704,
    "start_time": "2022-05-24T08:31:39.346Z"
   },
   {
    "duration": 18,
    "start_time": "2022-05-24T08:31:40.052Z"
   },
   {
    "duration": 13,
    "start_time": "2022-05-24T08:31:40.130Z"
   },
   {
    "duration": 87,
    "start_time": "2022-05-24T08:31:40.146Z"
   },
   {
    "duration": 911,
    "start_time": "2022-05-24T08:31:40.235Z"
   },
   {
    "duration": 540,
    "start_time": "2022-05-24T08:31:41.148Z"
   },
   {
    "duration": 4,
    "start_time": "2022-05-24T08:31:41.690Z"
   },
   {
    "duration": 416,
    "start_time": "2022-05-24T08:31:41.696Z"
   },
   {
    "duration": 13,
    "start_time": "2022-05-24T08:31:42.115Z"
   },
   {
    "duration": 25,
    "start_time": "2022-05-24T08:31:42.130Z"
   },
   {
    "duration": 13,
    "start_time": "2022-05-24T08:31:42.157Z"
   },
   {
    "duration": 11,
    "start_time": "2022-05-24T08:31:42.172Z"
   },
   {
    "duration": 344,
    "start_time": "2022-05-24T08:31:42.184Z"
   },
   {
    "duration": 6,
    "start_time": "2022-05-24T08:31:42.530Z"
   },
   {
    "duration": 14,
    "start_time": "2022-05-24T08:31:42.537Z"
   },
   {
    "duration": 6,
    "start_time": "2022-05-24T08:31:42.553Z"
   },
   {
    "duration": 394,
    "start_time": "2022-05-24T08:31:42.561Z"
   },
   {
    "duration": 9,
    "start_time": "2022-05-24T08:31:42.957Z"
   },
   {
    "duration": 14,
    "start_time": "2022-05-24T08:31:42.968Z"
   },
   {
    "duration": 451,
    "start_time": "2022-05-24T08:31:42.984Z"
   },
   {
    "duration": 8,
    "start_time": "2022-05-24T08:31:43.438Z"
   },
   {
    "duration": 44,
    "start_time": "2022-05-24T08:31:43.447Z"
   },
   {
    "duration": 27,
    "start_time": "2022-05-24T08:31:43.493Z"
   },
   {
    "duration": 380,
    "start_time": "2022-05-24T08:31:43.522Z"
   },
   {
    "duration": 23,
    "start_time": "2022-05-24T08:31:43.904Z"
   },
   {
    "duration": 357,
    "start_time": "2022-05-24T08:31:43.932Z"
   },
   {
    "duration": 6,
    "start_time": "2022-05-24T08:31:44.293Z"
   },
   {
    "duration": 34,
    "start_time": "2022-05-24T08:31:44.302Z"
   },
   {
    "duration": 505,
    "start_time": "2022-05-24T08:31:44.338Z"
   },
   {
    "duration": 49,
    "start_time": "2022-05-24T08:31:44.845Z"
   },
   {
    "duration": 56,
    "start_time": "2022-05-24T08:31:44.896Z"
   },
   {
    "duration": 408,
    "start_time": "2022-05-24T08:31:44.955Z"
   },
   {
    "duration": 43,
    "start_time": "2022-05-24T08:31:45.365Z"
   },
   {
    "duration": 34,
    "start_time": "2022-05-24T08:31:45.428Z"
   },
   {
    "duration": 427,
    "start_time": "2022-05-24T08:31:45.464Z"
   },
   {
    "duration": 21,
    "start_time": "2022-05-24T08:31:45.893Z"
   },
   {
    "duration": 344,
    "start_time": "2022-05-24T08:31:45.928Z"
   },
   {
    "duration": 10,
    "start_time": "2022-05-24T08:31:46.275Z"
   },
   {
    "duration": 31,
    "start_time": "2022-05-24T08:31:46.287Z"
   },
   {
    "duration": 45,
    "start_time": "2022-05-24T08:31:46.321Z"
   },
   {
    "duration": 17,
    "start_time": "2022-05-24T08:31:46.370Z"
   },
   {
    "duration": 31,
    "start_time": "2022-05-24T08:31:46.389Z"
   },
   {
    "duration": 15,
    "start_time": "2022-05-24T08:31:46.422Z"
   },
   {
    "duration": 27,
    "start_time": "2022-05-24T08:31:46.439Z"
   },
   {
    "duration": 29,
    "start_time": "2022-05-24T08:31:46.468Z"
   },
   {
    "duration": 44,
    "start_time": "2022-05-24T08:31:46.500Z"
   },
   {
    "duration": 33,
    "start_time": "2022-05-24T08:31:46.547Z"
   },
   {
    "duration": 6,
    "start_time": "2022-05-24T08:32:02.318Z"
   },
   {
    "duration": 8,
    "start_time": "2022-05-24T08:32:07.289Z"
   },
   {
    "duration": 6,
    "start_time": "2022-05-24T08:32:12.488Z"
   },
   {
    "duration": 91,
    "start_time": "2022-05-24T11:20:56.052Z"
   },
   {
    "duration": 57,
    "start_time": "2022-05-24T11:23:35.466Z"
   },
   {
    "duration": 1569,
    "start_time": "2022-05-24T11:23:48.969Z"
   },
   {
    "duration": 461,
    "start_time": "2022-05-24T11:23:50.540Z"
   },
   {
    "duration": 15,
    "start_time": "2022-05-24T11:23:51.003Z"
   },
   {
    "duration": 14,
    "start_time": "2022-05-24T11:23:51.020Z"
   },
   {
    "duration": 17,
    "start_time": "2022-05-24T11:23:51.036Z"
   },
   {
    "duration": 11,
    "start_time": "2022-05-24T11:23:51.055Z"
   },
   {
    "duration": 12,
    "start_time": "2022-05-24T11:23:51.095Z"
   },
   {
    "duration": 25,
    "start_time": "2022-05-24T11:23:51.109Z"
   },
   {
    "duration": 18,
    "start_time": "2022-05-24T11:23:51.136Z"
   },
   {
    "duration": 44,
    "start_time": "2022-05-24T11:23:51.157Z"
   },
   {
    "duration": 23,
    "start_time": "2022-05-24T11:23:51.202Z"
   },
   {
    "duration": 69,
    "start_time": "2022-05-24T11:23:51.227Z"
   },
   {
    "duration": 6,
    "start_time": "2022-05-24T11:23:51.297Z"
   },
   {
    "duration": 18,
    "start_time": "2022-05-24T11:23:51.304Z"
   },
   {
    "duration": 4,
    "start_time": "2022-05-24T11:23:51.324Z"
   },
   {
    "duration": 6,
    "start_time": "2022-05-24T11:23:51.330Z"
   },
   {
    "duration": 7,
    "start_time": "2022-05-24T11:23:51.338Z"
   },
   {
    "duration": 5,
    "start_time": "2022-05-24T11:23:51.347Z"
   },
   {
    "duration": 6,
    "start_time": "2022-05-24T11:23:51.354Z"
   },
   {
    "duration": 36,
    "start_time": "2022-05-24T11:23:51.362Z"
   },
   {
    "duration": 7,
    "start_time": "2022-05-24T11:23:51.399Z"
   },
   {
    "duration": 15,
    "start_time": "2022-05-24T11:23:51.407Z"
   },
   {
    "duration": 15,
    "start_time": "2022-05-24T11:23:51.424Z"
   },
   {
    "duration": 14,
    "start_time": "2022-05-24T11:23:51.440Z"
   },
   {
    "duration": 6,
    "start_time": "2022-05-24T11:23:51.456Z"
   },
   {
    "duration": 251,
    "start_time": "2022-05-24T11:23:51.464Z"
   },
   {
    "duration": 8,
    "start_time": "2022-05-24T11:23:51.717Z"
   },
   {
    "duration": 7,
    "start_time": "2022-05-24T11:23:51.729Z"
   },
   {
    "duration": 10,
    "start_time": "2022-05-24T11:23:51.737Z"
   },
   {
    "duration": 189,
    "start_time": "2022-05-24T11:23:51.748Z"
   },
   {
    "duration": 9,
    "start_time": "2022-05-24T11:23:51.938Z"
   },
   {
    "duration": 272,
    "start_time": "2022-05-24T11:23:51.949Z"
   },
   {
    "duration": 16,
    "start_time": "2022-05-24T11:23:52.223Z"
   },
   {
    "duration": 8,
    "start_time": "2022-05-24T11:23:52.241Z"
   },
   {
    "duration": 22,
    "start_time": "2022-05-24T11:23:52.250Z"
   },
   {
    "duration": 295,
    "start_time": "2022-05-24T11:23:52.274Z"
   },
   {
    "duration": 287,
    "start_time": "2022-05-24T11:23:52.571Z"
   },
   {
    "duration": 4,
    "start_time": "2022-05-24T11:23:52.860Z"
   },
   {
    "duration": 398,
    "start_time": "2022-05-24T11:23:52.866Z"
   },
   {
    "duration": 5,
    "start_time": "2022-05-24T11:23:53.266Z"
   },
   {
    "duration": 10,
    "start_time": "2022-05-24T11:23:53.272Z"
   },
   {
    "duration": 13,
    "start_time": "2022-05-24T11:23:53.284Z"
   },
   {
    "duration": 6,
    "start_time": "2022-05-24T11:23:53.298Z"
   },
   {
    "duration": 313,
    "start_time": "2022-05-24T11:23:53.305Z"
   },
   {
    "duration": 7,
    "start_time": "2022-05-24T11:23:53.620Z"
   },
   {
    "duration": 17,
    "start_time": "2022-05-24T11:23:53.629Z"
   },
   {
    "duration": 4,
    "start_time": "2022-05-24T11:23:53.649Z"
   },
   {
    "duration": 338,
    "start_time": "2022-05-24T11:23:53.656Z"
   },
   {
    "duration": 6,
    "start_time": "2022-05-24T11:23:53.996Z"
   },
   {
    "duration": 8,
    "start_time": "2022-05-24T11:23:54.004Z"
   },
   {
    "duration": 342,
    "start_time": "2022-05-24T11:23:54.014Z"
   },
   {
    "duration": 6,
    "start_time": "2022-05-24T11:23:54.358Z"
   },
   {
    "duration": 9,
    "start_time": "2022-05-24T11:23:54.366Z"
   },
   {
    "duration": 25,
    "start_time": "2022-05-24T11:23:54.376Z"
   },
   {
    "duration": 306,
    "start_time": "2022-05-24T11:23:54.403Z"
   },
   {
    "duration": 11,
    "start_time": "2022-05-24T11:23:54.710Z"
   },
   {
    "duration": 251,
    "start_time": "2022-05-24T11:23:54.722Z"
   },
   {
    "duration": 4,
    "start_time": "2022-05-24T11:23:54.974Z"
   },
   {
    "duration": 25,
    "start_time": "2022-05-24T11:23:54.979Z"
   },
   {
    "duration": 255,
    "start_time": "2022-05-24T11:23:55.006Z"
   },
   {
    "duration": 46,
    "start_time": "2022-05-24T11:23:55.263Z"
   },
   {
    "duration": 21,
    "start_time": "2022-05-24T11:23:55.310Z"
   },
   {
    "duration": 359,
    "start_time": "2022-05-24T11:23:55.332Z"
   },
   {
    "duration": 35,
    "start_time": "2022-05-24T11:23:55.695Z"
   },
   {
    "duration": 23,
    "start_time": "2022-05-24T11:23:55.732Z"
   },
   {
    "duration": 353,
    "start_time": "2022-05-24T11:23:55.756Z"
   },
   {
    "duration": 18,
    "start_time": "2022-05-24T11:23:56.110Z"
   },
   {
    "duration": 240,
    "start_time": "2022-05-24T11:23:56.129Z"
   },
   {
    "duration": 8,
    "start_time": "2022-05-24T11:23:56.370Z"
   },
   {
    "duration": 17,
    "start_time": "2022-05-24T11:23:56.379Z"
   },
   {
    "duration": 5,
    "start_time": "2022-05-24T11:23:56.398Z"
   },
   {
    "duration": 5,
    "start_time": "2022-05-24T11:23:56.405Z"
   },
   {
    "duration": 5,
    "start_time": "2022-05-24T11:23:56.411Z"
   },
   {
    "duration": 7,
    "start_time": "2022-05-24T11:23:56.418Z"
   },
   {
    "duration": 6,
    "start_time": "2022-05-24T11:23:56.426Z"
   },
   {
    "duration": 6,
    "start_time": "2022-05-24T11:23:56.433Z"
   },
   {
    "duration": 4,
    "start_time": "2022-05-24T11:23:56.440Z"
   },
   {
    "duration": 5,
    "start_time": "2022-05-24T11:23:56.446Z"
   },
   {
    "duration": 371,
    "start_time": "2022-05-24T11:26:33.303Z"
   },
   {
    "duration": 467,
    "start_time": "2022-05-24T11:26:48.118Z"
   },
   {
    "duration": 400,
    "start_time": "2022-05-24T11:27:26.496Z"
   },
   {
    "duration": 317,
    "start_time": "2022-05-24T11:27:35.000Z"
   },
   {
    "duration": 381,
    "start_time": "2022-05-24T11:28:46.034Z"
   },
   {
    "duration": 446,
    "start_time": "2022-05-24T11:29:01.829Z"
   },
   {
    "duration": 392,
    "start_time": "2022-05-24T11:29:04.785Z"
   },
   {
    "duration": 482,
    "start_time": "2022-05-24T11:29:14.749Z"
   },
   {
    "duration": 387,
    "start_time": "2022-05-24T11:29:24.928Z"
   },
   {
    "duration": 405,
    "start_time": "2022-05-24T11:29:44.882Z"
   },
   {
    "duration": 33,
    "start_time": "2022-05-24T11:30:27.203Z"
   },
   {
    "duration": 8,
    "start_time": "2022-05-24T11:30:56.578Z"
   },
   {
    "duration": 5,
    "start_time": "2022-05-24T11:31:01.233Z"
   },
   {
    "duration": 34,
    "start_time": "2022-05-24T11:31:40.738Z"
   },
   {
    "duration": 351,
    "start_time": "2022-05-24T11:32:26.956Z"
   },
   {
    "duration": 34,
    "start_time": "2022-05-24T11:33:24.781Z"
   },
   {
    "duration": 4,
    "start_time": "2022-05-24T11:33:33.452Z"
   },
   {
    "duration": 348,
    "start_time": "2022-05-24T11:33:36.827Z"
   },
   {
    "duration": 6,
    "start_time": "2022-05-24T11:33:42.554Z"
   },
   {
    "duration": 5,
    "start_time": "2022-05-24T11:34:18.916Z"
   },
   {
    "duration": 312,
    "start_time": "2022-05-24T11:34:20.571Z"
   },
   {
    "duration": 6,
    "start_time": "2022-05-24T11:34:24.932Z"
   },
   {
    "duration": 266,
    "start_time": "2022-05-24T11:36:55.781Z"
   },
   {
    "duration": 7,
    "start_time": "2022-05-24T11:44:31.717Z"
   },
   {
    "duration": 4,
    "start_time": "2022-05-24T11:46:53.127Z"
   },
   {
    "duration": 4,
    "start_time": "2022-05-24T11:47:00.431Z"
   },
   {
    "duration": 6,
    "start_time": "2022-05-24T11:47:03.655Z"
   },
   {
    "duration": 4,
    "start_time": "2022-05-24T11:47:34.851Z"
   },
   {
    "duration": 6,
    "start_time": "2022-05-24T11:47:38.257Z"
   },
   {
    "duration": 32,
    "start_time": "2022-05-24T11:49:07.113Z"
   },
   {
    "duration": 4,
    "start_time": "2022-05-24T11:57:05.956Z"
   },
   {
    "duration": 85,
    "start_time": "2022-05-24T11:57:05.962Z"
   },
   {
    "duration": 13,
    "start_time": "2022-05-24T11:57:06.049Z"
   },
   {
    "duration": 14,
    "start_time": "2022-05-24T11:57:06.063Z"
   },
   {
    "duration": 40,
    "start_time": "2022-05-24T11:57:06.094Z"
   },
   {
    "duration": 33,
    "start_time": "2022-05-24T11:57:06.136Z"
   },
   {
    "duration": 19,
    "start_time": "2022-05-24T11:57:06.171Z"
   },
   {
    "duration": 64,
    "start_time": "2022-05-24T11:57:06.192Z"
   },
   {
    "duration": 26,
    "start_time": "2022-05-24T11:57:06.258Z"
   },
   {
    "duration": 48,
    "start_time": "2022-05-24T11:57:06.286Z"
   },
   {
    "duration": 55,
    "start_time": "2022-05-24T11:57:06.338Z"
   },
   {
    "duration": 20,
    "start_time": "2022-05-24T11:57:06.396Z"
   },
   {
    "duration": 18,
    "start_time": "2022-05-24T11:57:06.418Z"
   },
   {
    "duration": 45,
    "start_time": "2022-05-24T11:57:06.438Z"
   },
   {
    "duration": 5,
    "start_time": "2022-05-24T11:57:06.485Z"
   },
   {
    "duration": 32,
    "start_time": "2022-05-24T11:57:06.492Z"
   },
   {
    "duration": 18,
    "start_time": "2022-05-24T11:57:06.526Z"
   },
   {
    "duration": 21,
    "start_time": "2022-05-24T11:57:06.550Z"
   },
   {
    "duration": 24,
    "start_time": "2022-05-24T11:57:06.574Z"
   },
   {
    "duration": 15,
    "start_time": "2022-05-24T11:57:06.600Z"
   },
   {
    "duration": 37,
    "start_time": "2022-05-24T11:57:06.617Z"
   },
   {
    "duration": 40,
    "start_time": "2022-05-24T11:57:06.657Z"
   },
   {
    "duration": 30,
    "start_time": "2022-05-24T11:57:06.699Z"
   },
   {
    "duration": 42,
    "start_time": "2022-05-24T11:57:06.731Z"
   },
   {
    "duration": 19,
    "start_time": "2022-05-24T11:57:06.775Z"
   },
   {
    "duration": 202,
    "start_time": "2022-05-24T11:57:06.796Z"
   },
   {
    "duration": 11,
    "start_time": "2022-05-24T11:57:07.000Z"
   },
   {
    "duration": 30,
    "start_time": "2022-05-24T11:57:07.013Z"
   },
   {
    "duration": 48,
    "start_time": "2022-05-24T11:57:07.049Z"
   },
   {
    "duration": 267,
    "start_time": "2022-05-24T11:57:07.099Z"
   },
   {
    "duration": 14,
    "start_time": "2022-05-24T11:57:07.368Z"
   },
   {
    "duration": 326,
    "start_time": "2022-05-24T11:57:07.394Z"
   },
   {
    "duration": 20,
    "start_time": "2022-05-24T11:57:07.722Z"
   },
   {
    "duration": 8,
    "start_time": "2022-05-24T11:57:07.743Z"
   },
   {
    "duration": 25,
    "start_time": "2022-05-24T11:57:07.753Z"
   },
   {
    "duration": 454,
    "start_time": "2022-05-24T11:57:07.794Z"
   },
   {
    "duration": 419,
    "start_time": "2022-05-24T11:57:08.250Z"
   },
   {
    "duration": 4,
    "start_time": "2022-05-24T11:57:08.671Z"
   },
   {
    "duration": 423,
    "start_time": "2022-05-24T11:57:08.677Z"
   },
   {
    "duration": 5,
    "start_time": "2022-05-24T11:57:09.102Z"
   },
   {
    "duration": 7,
    "start_time": "2022-05-24T11:57:09.109Z"
   },
   {
    "duration": 9,
    "start_time": "2022-05-24T11:57:09.117Z"
   },
   {
    "duration": 16,
    "start_time": "2022-05-24T11:57:09.128Z"
   },
   {
    "duration": 0,
    "start_time": "2022-05-24T11:57:09.146Z"
   },
   {
    "duration": 0,
    "start_time": "2022-05-24T11:57:09.147Z"
   },
   {
    "duration": 0,
    "start_time": "2022-05-24T11:57:09.148Z"
   },
   {
    "duration": 0,
    "start_time": "2022-05-24T11:57:09.149Z"
   },
   {
    "duration": 0,
    "start_time": "2022-05-24T11:57:09.150Z"
   },
   {
    "duration": 0,
    "start_time": "2022-05-24T11:57:09.152Z"
   },
   {
    "duration": 0,
    "start_time": "2022-05-24T11:57:09.153Z"
   },
   {
    "duration": 0,
    "start_time": "2022-05-24T11:57:09.154Z"
   },
   {
    "duration": 0,
    "start_time": "2022-05-24T11:57:09.155Z"
   },
   {
    "duration": 0,
    "start_time": "2022-05-24T11:57:09.156Z"
   },
   {
    "duration": 0,
    "start_time": "2022-05-24T11:57:09.157Z"
   },
   {
    "duration": 0,
    "start_time": "2022-05-24T11:57:09.158Z"
   },
   {
    "duration": 0,
    "start_time": "2022-05-24T11:57:09.195Z"
   },
   {
    "duration": 0,
    "start_time": "2022-05-24T11:57:09.196Z"
   },
   {
    "duration": 0,
    "start_time": "2022-05-24T11:57:09.198Z"
   },
   {
    "duration": 0,
    "start_time": "2022-05-24T11:57:09.198Z"
   },
   {
    "duration": 0,
    "start_time": "2022-05-24T11:57:09.200Z"
   },
   {
    "duration": 0,
    "start_time": "2022-05-24T11:57:09.201Z"
   },
   {
    "duration": 0,
    "start_time": "2022-05-24T11:57:09.202Z"
   },
   {
    "duration": 0,
    "start_time": "2022-05-24T11:57:09.204Z"
   },
   {
    "duration": 0,
    "start_time": "2022-05-24T11:57:09.205Z"
   },
   {
    "duration": 0,
    "start_time": "2022-05-24T11:57:09.206Z"
   },
   {
    "duration": 0,
    "start_time": "2022-05-24T11:57:09.207Z"
   },
   {
    "duration": 0,
    "start_time": "2022-05-24T11:57:09.208Z"
   },
   {
    "duration": 0,
    "start_time": "2022-05-24T11:57:09.209Z"
   },
   {
    "duration": 0,
    "start_time": "2022-05-24T11:57:09.210Z"
   },
   {
    "duration": 0,
    "start_time": "2022-05-24T11:57:09.211Z"
   },
   {
    "duration": 0,
    "start_time": "2022-05-24T11:57:09.212Z"
   },
   {
    "duration": 0,
    "start_time": "2022-05-24T11:57:09.213Z"
   },
   {
    "duration": 0,
    "start_time": "2022-05-24T11:57:09.214Z"
   },
   {
    "duration": 0,
    "start_time": "2022-05-24T11:57:09.215Z"
   },
   {
    "duration": 0,
    "start_time": "2022-05-24T11:57:09.216Z"
   },
   {
    "duration": 0,
    "start_time": "2022-05-24T11:57:09.217Z"
   },
   {
    "duration": 0,
    "start_time": "2022-05-24T11:57:09.218Z"
   },
   {
    "duration": 0,
    "start_time": "2022-05-24T11:57:09.219Z"
   },
   {
    "duration": 3339,
    "start_time": "2022-05-24T18:38:03.494Z"
   },
   {
    "duration": 219,
    "start_time": "2022-05-24T18:38:06.874Z"
   },
   {
    "duration": 26,
    "start_time": "2022-05-24T18:38:07.095Z"
   },
   {
    "duration": 33,
    "start_time": "2022-05-24T18:38:07.123Z"
   },
   {
    "duration": 47,
    "start_time": "2022-05-24T18:38:07.159Z"
   },
   {
    "duration": 43,
    "start_time": "2022-05-24T18:38:07.211Z"
   },
   {
    "duration": 24,
    "start_time": "2022-05-24T18:38:07.256Z"
   },
   {
    "duration": 80,
    "start_time": "2022-05-24T18:38:07.282Z"
   },
   {
    "duration": 48,
    "start_time": "2022-05-24T18:38:07.364Z"
   },
   {
    "duration": 64,
    "start_time": "2022-05-24T18:38:07.414Z"
   },
   {
    "duration": 94,
    "start_time": "2022-05-24T18:38:07.480Z"
   },
   {
    "duration": 73,
    "start_time": "2022-05-24T18:38:07.578Z"
   },
   {
    "duration": 5,
    "start_time": "2022-05-24T18:38:07.653Z"
   },
   {
    "duration": 18,
    "start_time": "2022-05-24T18:38:07.661Z"
   },
   {
    "duration": 57,
    "start_time": "2022-05-24T18:38:07.681Z"
   },
   {
    "duration": 10,
    "start_time": "2022-05-24T18:38:07.739Z"
   },
   {
    "duration": 6,
    "start_time": "2022-05-24T18:38:07.750Z"
   },
   {
    "duration": 30,
    "start_time": "2022-05-24T18:38:07.761Z"
   },
   {
    "duration": 51,
    "start_time": "2022-05-24T18:38:07.793Z"
   },
   {
    "duration": 6,
    "start_time": "2022-05-24T18:38:07.846Z"
   },
   {
    "duration": 6,
    "start_time": "2022-05-24T18:38:07.853Z"
   },
   {
    "duration": 26,
    "start_time": "2022-05-24T18:38:07.860Z"
   },
   {
    "duration": 58,
    "start_time": "2022-05-24T18:38:07.888Z"
   },
   {
    "duration": 14,
    "start_time": "2022-05-24T18:38:07.948Z"
   },
   {
    "duration": 50,
    "start_time": "2022-05-24T18:38:07.966Z"
   },
   {
    "duration": 324,
    "start_time": "2022-05-24T18:38:08.018Z"
   },
   {
    "duration": 9,
    "start_time": "2022-05-24T18:38:08.343Z"
   },
   {
    "duration": 25,
    "start_time": "2022-05-24T18:38:08.353Z"
   },
   {
    "duration": 61,
    "start_time": "2022-05-24T18:38:08.379Z"
   },
   {
    "duration": 217,
    "start_time": "2022-05-24T18:38:08.441Z"
   },
   {
    "duration": 30,
    "start_time": "2022-05-24T18:38:08.660Z"
   },
   {
    "duration": 371,
    "start_time": "2022-05-24T18:38:08.691Z"
   },
   {
    "duration": 19,
    "start_time": "2022-05-24T18:38:09.065Z"
   },
   {
    "duration": 51,
    "start_time": "2022-05-24T18:38:09.090Z"
   },
   {
    "duration": 33,
    "start_time": "2022-05-24T18:38:09.143Z"
   },
   {
    "duration": 515,
    "start_time": "2022-05-24T18:38:09.178Z"
   },
   {
    "duration": 374,
    "start_time": "2022-05-24T18:38:09.695Z"
   },
   {
    "duration": 17,
    "start_time": "2022-05-24T18:38:10.074Z"
   },
   {
    "duration": 557,
    "start_time": "2022-05-24T18:38:10.097Z"
   },
   {
    "duration": 5,
    "start_time": "2022-05-24T18:38:10.656Z"
   },
   {
    "duration": 49,
    "start_time": "2022-05-24T18:38:10.679Z"
   },
   {
    "duration": 17,
    "start_time": "2022-05-24T18:38:10.731Z"
   },
   {
    "duration": 207,
    "start_time": "2022-05-24T18:38:10.750Z"
   },
   {
    "duration": 0,
    "start_time": "2022-05-24T18:38:10.959Z"
   },
   {
    "duration": 0,
    "start_time": "2022-05-24T18:38:10.972Z"
   },
   {
    "duration": 0,
    "start_time": "2022-05-24T18:38:10.973Z"
   },
   {
    "duration": 0,
    "start_time": "2022-05-24T18:38:10.973Z"
   },
   {
    "duration": 0,
    "start_time": "2022-05-24T18:38:10.974Z"
   },
   {
    "duration": 0,
    "start_time": "2022-05-24T18:38:10.975Z"
   },
   {
    "duration": 0,
    "start_time": "2022-05-24T18:38:10.980Z"
   },
   {
    "duration": 0,
    "start_time": "2022-05-24T18:38:10.981Z"
   },
   {
    "duration": 0,
    "start_time": "2022-05-24T18:38:10.983Z"
   },
   {
    "duration": 0,
    "start_time": "2022-05-24T18:38:10.983Z"
   },
   {
    "duration": 0,
    "start_time": "2022-05-24T18:38:10.984Z"
   },
   {
    "duration": 0,
    "start_time": "2022-05-24T18:38:10.984Z"
   },
   {
    "duration": 0,
    "start_time": "2022-05-24T18:38:10.985Z"
   },
   {
    "duration": 0,
    "start_time": "2022-05-24T18:38:10.990Z"
   },
   {
    "duration": 0,
    "start_time": "2022-05-24T18:38:10.990Z"
   },
   {
    "duration": 0,
    "start_time": "2022-05-24T18:38:10.991Z"
   },
   {
    "duration": 0,
    "start_time": "2022-05-24T18:38:10.992Z"
   },
   {
    "duration": 0,
    "start_time": "2022-05-24T18:38:10.992Z"
   },
   {
    "duration": 0,
    "start_time": "2022-05-24T18:38:10.997Z"
   },
   {
    "duration": 0,
    "start_time": "2022-05-24T18:38:11.006Z"
   },
   {
    "duration": 0,
    "start_time": "2022-05-24T18:38:11.006Z"
   },
   {
    "duration": 0,
    "start_time": "2022-05-24T18:38:11.007Z"
   },
   {
    "duration": 0,
    "start_time": "2022-05-24T18:38:11.008Z"
   },
   {
    "duration": 0,
    "start_time": "2022-05-24T18:38:11.008Z"
   },
   {
    "duration": 0,
    "start_time": "2022-05-24T18:38:11.009Z"
   },
   {
    "duration": 0,
    "start_time": "2022-05-24T18:38:11.009Z"
   },
   {
    "duration": 0,
    "start_time": "2022-05-24T18:38:11.014Z"
   },
   {
    "duration": 0,
    "start_time": "2022-05-24T18:38:11.018Z"
   },
   {
    "duration": 0,
    "start_time": "2022-05-24T18:38:11.018Z"
   },
   {
    "duration": 0,
    "start_time": "2022-05-24T18:38:11.023Z"
   },
   {
    "duration": 0,
    "start_time": "2022-05-24T18:38:11.023Z"
   },
   {
    "duration": 0,
    "start_time": "2022-05-24T18:38:11.024Z"
   },
   {
    "duration": 0,
    "start_time": "2022-05-24T18:38:11.025Z"
   },
   {
    "duration": 0,
    "start_time": "2022-05-24T18:38:11.025Z"
   },
   {
    "duration": 0,
    "start_time": "2022-05-24T18:38:11.026Z"
   },
   {
    "duration": 5,
    "start_time": "2022-05-24T18:40:43.648Z"
   },
   {
    "duration": 370,
    "start_time": "2022-05-24T18:40:43.655Z"
   },
   {
    "duration": 7,
    "start_time": "2022-05-24T18:40:44.026Z"
   },
   {
    "duration": 21,
    "start_time": "2022-05-24T18:40:44.035Z"
   },
   {
    "duration": 359,
    "start_time": "2022-05-24T18:40:44.058Z"
   },
   {
    "duration": 10,
    "start_time": "2022-05-24T18:40:44.421Z"
   },
   {
    "duration": 25,
    "start_time": "2022-05-24T18:40:44.434Z"
   },
   {
    "duration": 53,
    "start_time": "2022-05-24T18:40:44.460Z"
   },
   {
    "duration": 460,
    "start_time": "2022-05-24T18:40:44.524Z"
   },
   {
    "duration": 14,
    "start_time": "2022-05-24T18:40:44.988Z"
   },
   {
    "duration": 717,
    "start_time": "2022-05-24T18:40:45.003Z"
   },
   {
    "duration": 8,
    "start_time": "2022-05-24T18:40:45.765Z"
   },
   {
    "duration": 93,
    "start_time": "2022-05-24T18:40:45.775Z"
   },
   {
    "duration": 846,
    "start_time": "2022-05-24T18:40:45.873Z"
   },
   {
    "duration": 104,
    "start_time": "2022-05-24T18:40:46.721Z"
   },
   {
    "duration": 74,
    "start_time": "2022-05-24T18:40:46.827Z"
   },
   {
    "duration": 916,
    "start_time": "2022-05-24T18:40:46.904Z"
   },
   {
    "duration": 78,
    "start_time": "2022-05-24T18:40:47.821Z"
   },
   {
    "duration": 39,
    "start_time": "2022-05-24T18:40:47.900Z"
   },
   {
    "duration": 952,
    "start_time": "2022-05-24T18:40:47.965Z"
   },
   {
    "duration": 55,
    "start_time": "2022-05-24T18:40:48.920Z"
   },
   {
    "duration": 568,
    "start_time": "2022-05-24T18:40:48.977Z"
   },
   {
    "duration": 39,
    "start_time": "2022-05-24T18:40:49.548Z"
   },
   {
    "duration": 64,
    "start_time": "2022-05-24T18:40:49.590Z"
   },
   {
    "duration": 74,
    "start_time": "2022-05-24T18:40:49.665Z"
   },
   {
    "duration": 30,
    "start_time": "2022-05-24T18:40:49.743Z"
   },
   {
    "duration": 79,
    "start_time": "2022-05-24T18:40:49.779Z"
   },
   {
    "duration": 67,
    "start_time": "2022-05-24T18:40:49.860Z"
   },
   {
    "duration": 14,
    "start_time": "2022-05-24T18:40:49.929Z"
   },
   {
    "duration": 23,
    "start_time": "2022-05-24T18:40:49.944Z"
   },
   {
    "duration": 75,
    "start_time": "2022-05-24T18:40:49.969Z"
   },
   {
    "duration": 28,
    "start_time": "2022-05-24T18:40:50.046Z"
   },
   {
    "duration": 54,
    "start_time": "2022-05-25T10:35:25.784Z"
   },
   {
    "duration": 6,
    "start_time": "2022-05-25T10:36:44.763Z"
   },
   {
    "duration": 1398,
    "start_time": "2022-05-25T10:36:50.676Z"
   },
   {
    "duration": 486,
    "start_time": "2022-05-25T10:36:52.076Z"
   },
   {
    "duration": 13,
    "start_time": "2022-05-25T10:36:52.563Z"
   },
   {
    "duration": 20,
    "start_time": "2022-05-25T10:36:52.578Z"
   },
   {
    "duration": 42,
    "start_time": "2022-05-25T10:36:52.599Z"
   },
   {
    "duration": 14,
    "start_time": "2022-05-25T10:36:52.643Z"
   },
   {
    "duration": 12,
    "start_time": "2022-05-25T10:36:52.659Z"
   },
   {
    "duration": 26,
    "start_time": "2022-05-25T10:36:52.673Z"
   },
   {
    "duration": 15,
    "start_time": "2022-05-25T10:36:52.701Z"
   },
   {
    "duration": 14,
    "start_time": "2022-05-25T10:36:52.718Z"
   },
   {
    "duration": 35,
    "start_time": "2022-05-25T10:36:52.734Z"
   },
   {
    "duration": 46,
    "start_time": "2022-05-25T10:36:52.771Z"
   },
   {
    "duration": 5,
    "start_time": "2022-05-25T10:36:52.819Z"
   },
   {
    "duration": 34,
    "start_time": "2022-05-25T10:36:52.825Z"
   },
   {
    "duration": 5,
    "start_time": "2022-05-25T10:36:52.861Z"
   },
   {
    "duration": 20,
    "start_time": "2022-05-25T10:36:52.867Z"
   },
   {
    "duration": 7,
    "start_time": "2022-05-25T10:36:52.889Z"
   },
   {
    "duration": 5,
    "start_time": "2022-05-25T10:36:52.898Z"
   },
   {
    "duration": 12,
    "start_time": "2022-05-25T10:36:52.905Z"
   },
   {
    "duration": 8,
    "start_time": "2022-05-25T10:36:52.919Z"
   },
   {
    "duration": 5,
    "start_time": "2022-05-25T10:36:52.929Z"
   },
   {
    "duration": 30,
    "start_time": "2022-05-25T10:36:52.936Z"
   },
   {
    "duration": 14,
    "start_time": "2022-05-25T10:36:52.968Z"
   },
   {
    "duration": 19,
    "start_time": "2022-05-25T10:36:52.984Z"
   },
   {
    "duration": 7,
    "start_time": "2022-05-25T10:36:53.005Z"
   },
   {
    "duration": 273,
    "start_time": "2022-05-25T10:36:53.013Z"
   },
   {
    "duration": 8,
    "start_time": "2022-05-25T10:36:53.288Z"
   },
   {
    "duration": 12,
    "start_time": "2022-05-25T10:36:53.300Z"
   },
   {
    "duration": 10,
    "start_time": "2022-05-25T10:36:53.313Z"
   },
   {
    "duration": 201,
    "start_time": "2022-05-25T10:36:53.324Z"
   },
   {
    "duration": 12,
    "start_time": "2022-05-25T10:36:53.527Z"
   },
   {
    "duration": 280,
    "start_time": "2022-05-25T10:36:53.541Z"
   },
   {
    "duration": 27,
    "start_time": "2022-05-25T10:36:53.823Z"
   },
   {
    "duration": 6,
    "start_time": "2022-05-25T10:36:53.852Z"
   },
   {
    "duration": 42,
    "start_time": "2022-05-25T10:36:53.860Z"
   },
   {
    "duration": 321,
    "start_time": "2022-05-25T10:36:53.904Z"
   },
   {
    "duration": 278,
    "start_time": "2022-05-25T10:36:54.226Z"
   },
   {
    "duration": 4,
    "start_time": "2022-05-25T10:36:54.505Z"
   },
   {
    "duration": 367,
    "start_time": "2022-05-25T10:36:54.511Z"
   },
   {
    "duration": 5,
    "start_time": "2022-05-25T10:36:54.879Z"
   },
   {
    "duration": 7,
    "start_time": "2022-05-25T10:36:54.885Z"
   },
   {
    "duration": 27,
    "start_time": "2022-05-25T10:36:54.893Z"
   },
   {
    "duration": 7,
    "start_time": "2022-05-25T10:36:54.921Z"
   },
   {
    "duration": 272,
    "start_time": "2022-05-25T10:36:54.929Z"
   },
   {
    "duration": 6,
    "start_time": "2022-05-25T10:36:55.202Z"
   },
   {
    "duration": 5,
    "start_time": "2022-05-25T10:36:55.209Z"
   },
   {
    "duration": 5,
    "start_time": "2022-05-25T10:36:55.216Z"
   },
   {
    "duration": 281,
    "start_time": "2022-05-25T10:36:55.223Z"
   },
   {
    "duration": 6,
    "start_time": "2022-05-25T10:36:55.506Z"
   },
   {
    "duration": 6,
    "start_time": "2022-05-25T10:36:55.514Z"
   },
   {
    "duration": 267,
    "start_time": "2022-05-25T10:36:55.522Z"
   },
   {
    "duration": 5,
    "start_time": "2022-05-25T10:36:55.791Z"
   },
   {
    "duration": 19,
    "start_time": "2022-05-25T10:36:55.798Z"
   },
   {
    "duration": 22,
    "start_time": "2022-05-25T10:36:55.818Z"
   },
   {
    "duration": 229,
    "start_time": "2022-05-25T10:36:55.842Z"
   },
   {
    "duration": 12,
    "start_time": "2022-05-25T10:36:56.074Z"
   },
   {
    "duration": 316,
    "start_time": "2022-05-25T10:36:56.087Z"
   },
   {
    "duration": 4,
    "start_time": "2022-05-25T10:36:56.404Z"
   },
   {
    "duration": 27,
    "start_time": "2022-05-25T10:36:56.410Z"
   },
   {
    "duration": 212,
    "start_time": "2022-05-25T10:36:56.438Z"
   },
   {
    "duration": 31,
    "start_time": "2022-05-25T10:36:56.659Z"
   },
   {
    "duration": 18,
    "start_time": "2022-05-25T10:36:56.691Z"
   },
   {
    "duration": 308,
    "start_time": "2022-05-25T10:36:56.711Z"
   },
   {
    "duration": 45,
    "start_time": "2022-05-25T10:36:57.020Z"
   },
   {
    "duration": 24,
    "start_time": "2022-05-25T10:36:57.066Z"
   },
   {
    "duration": 336,
    "start_time": "2022-05-25T10:36:57.091Z"
   },
   {
    "duration": 16,
    "start_time": "2022-05-25T10:36:57.429Z"
   },
   {
    "duration": 214,
    "start_time": "2022-05-25T10:36:57.459Z"
   },
   {
    "duration": 7,
    "start_time": "2022-05-25T10:36:57.674Z"
   },
   {
    "duration": 36,
    "start_time": "2022-05-25T10:36:57.683Z"
   },
   {
    "duration": 24,
    "start_time": "2022-05-25T10:36:57.720Z"
   },
   {
    "duration": 29,
    "start_time": "2022-05-25T10:36:57.745Z"
   },
   {
    "duration": 31,
    "start_time": "2022-05-25T10:36:57.776Z"
   },
   {
    "duration": 32,
    "start_time": "2022-05-25T10:36:57.809Z"
   },
   {
    "duration": 15,
    "start_time": "2022-05-25T10:36:57.843Z"
   },
   {
    "duration": 15,
    "start_time": "2022-05-25T10:36:57.860Z"
   },
   {
    "duration": 12,
    "start_time": "2022-05-25T10:36:57.878Z"
   },
   {
    "duration": 26,
    "start_time": "2022-05-25T10:36:57.893Z"
   },
   {
    "duration": 368,
    "start_time": "2022-05-25T10:40:24.646Z"
   },
   {
    "duration": 4,
    "start_time": "2022-05-25T10:45:08.225Z"
   }
  ],
  "kernelspec": {
   "display_name": "Python 3 (ipykernel)",
   "language": "python",
   "name": "python3"
  },
  "language_info": {
   "codemirror_mode": {
    "name": "ipython",
    "version": 3
   },
   "file_extension": ".py",
   "mimetype": "text/x-python",
   "name": "python",
   "nbconvert_exporter": "python",
   "pygments_lexer": "ipython3",
   "version": "3.9.7"
  },
  "toc": {
   "base_numbering": 1,
   "nav_menu": {},
   "number_sections": true,
   "sideBar": true,
   "skip_h1_title": true,
   "title_cell": "Table of Contents",
   "title_sidebar": "Contents",
   "toc_cell": false,
   "toc_position": {
    "height": "471px",
    "left": "392px",
    "top": "567.125px",
    "width": "263px"
   },
   "toc_section_display": true,
   "toc_window_display": true
  }
 },
 "nbformat": 4,
 "nbformat_minor": 2
}
