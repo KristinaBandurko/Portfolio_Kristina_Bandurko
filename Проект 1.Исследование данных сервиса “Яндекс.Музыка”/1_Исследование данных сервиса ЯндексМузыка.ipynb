{
 "cells": [
  {
   "cell_type": "markdown",
   "metadata": {
    "id": "E0vqbgi9ay0H"
   },
   "source": [
    "# Исследование данных сервиса “Яндекс.Музыка” — сравнение пользователей пользователей двух городов"
   ]
  },
  {
   "cell_type": "markdown",
   "metadata": {
    "id": "VUC88oWjTJw2"
   },
   "source": [
    "<div style=\"border:solid Chocolate 2px; padding: 40px\">\n",
    "    \n",
    "**Описание задачи проекта:** на реальных данных Яндекс.Музыки c помощью библиотеки Pandas и её возможностей проверить данные и сравнить поведение и предпочтения пользователей двух столиц — Москвы и Санкт-Петербурга.\n",
    "\n",
    "\n",
    "**Цель исследования:** проверить три гипотезы:\n",
    "1. Активность пользователей зависит от дня недели. *Причём в Москве и Петербурге это проявляется по-разному*.\n",
    "2. В понедельник утром в Москве преобладают одни жанры, а в Петербурге — другие. Так же и вечером пятницы преобладают разные жанры — в зависимости от города. \n",
    "3. Москва и Петербург предпочитают разные жанры музыки. В Москве чаще слушают поп-музыку, в Петербурге — русский рэп.\n",
    "\n",
    "**План исследования:**\n",
    "\n",
    "О качестве исходных данных ничего не известно, поэтому перед проверкой гипотез понадобится их изучение, проверка данных на ошибки и оценка их влияния на исследование, и по возможности, исправление критичных ошибок.\n",
    " \n",
    "Таким образом, исследование пройдёт в три основных этапа:\n",
    " 1. Обзор данных.\n",
    " 2. Предобработка данных.\n",
    " 3. Проверка гипотез."
   ]
  },
  {
   "cell_type": "markdown",
   "metadata": {},
   "source": [
    "<div class=\"alert alert-success\">\n",
    "<h3> 🛠️ Навыки и инструменты, применённые в работе: <a class=\"tocSkip\"> </h3>\n",
    "\n",
    "* <b>Преобработка данных:</b> переименование столбцов, проверка и замена пропусков, проверка и удаление явных и не явных дубликатов\n",
    "* <b>Фильтрация, сортировка, группировка данных </b>\n",
    "* <b>Создание функций:</b> для замены неявных дубликатов, подсчёт значений при изменении 2-х переменных\n",
    "* <b>Создание таблиц:</b> с помощью конструктора pd.DataFrame\n",
    "    \n",
    "    </div>"
   ]
  },
  {
   "cell_type": "markdown",
   "metadata": {},
   "source": [
    "## Итоги исследования"
   ]
  },
  {
   "cell_type": "markdown",
   "metadata": {},
   "source": [
    "Вы проверили три гипотезы и установили:\n",
    "\n",
    "1. День недели по-разному влияет на активность пользователей в Москве и Петербурге. \n",
    "\n",
    "Первая гипотеза полностью подтвердилась.\n",
    "\n",
    "2. Музыкальные предпочтения не сильно меняются в течение недели — будь то Москва или Петербург. Небольшие различия заметны в начале недели, по понедельникам:\n",
    "* в Москве слушают музыку жанра “world”,\n",
    "* в Петербурге — джаз и классику.\n",
    "\n",
    "Таким образом, вторая гипотеза подтвердилась лишь отчасти. Этот результат мог оказаться иным, если бы не пропуски в данных.\n",
    "\n",
    "3. Во вкусах пользователей Москвы и Петербурга больше общего чем различий. Вопреки ожиданиям, предпочтения жанров в Петербурге напоминают московские.\n",
    "\n",
    "Третья гипотеза не подтвердилась. Если различия в предпочтениях и существуют, на основной массе пользователей они незаметны.\n",
    "\n",
    "**На практике исследования содержат проверки статистических гипотез.**\n",
    "Из данных одного сервиса не всегда можно сделать вывод о всех жителях города.\n",
    "Проверки статистических гипотез покажут, насколько они достоверны, исходя из имеющихся данных. \n",
    "С методами проверок гипотез вы ещё познакомитесь в следующих темах."
   ]
  },
  {
   "cell_type": "markdown",
   "metadata": {},
   "source": [
    "## Детализация исследования"
   ]
  },
  {
   "cell_type": "markdown",
   "metadata": {
    "id": "Ml1hmfXC_Zcs"
   },
   "source": [
    "## Раздел_1.Обзор данных\n",
    "\n",
    "Составим первое представление о данных Яндекс.Музыки. Для этого импортируем библиотеку pandas и загрузим исходные данные:\n",
    "\n",
    "\n"
   ]
  },
  {
   "cell_type": "code",
   "execution_count": 2,
   "metadata": {
    "id": "AXN7PHPN_Zcs"
   },
   "outputs": [],
   "source": [
    "import pandas as pd"
   ]
  },
  {
   "cell_type": "code",
   "execution_count": 7,
   "metadata": {
    "id": "fFVu7vqh_Zct"
   },
   "outputs": [],
   "source": [
    "df = pd.read_csv('yandex_music_project.csv') "
   ]
  },
  {
   "cell_type": "markdown",
   "metadata": {
    "id": "rDoOMd3uTqnZ"
   },
   "source": [
    "Выведем на экран первые десять строк таблицы:"
   ]
  },
  {
   "cell_type": "code",
   "execution_count": 6,
   "metadata": {
    "id": "oWTVX3gW_Zct"
   },
   "outputs": [
    {
     "data": {
      "text/html": [
       "<div>\n",
       "<style scoped>\n",
       "    .dataframe tbody tr th:only-of-type {\n",
       "        vertical-align: middle;\n",
       "    }\n",
       "\n",
       "    .dataframe tbody tr th {\n",
       "        vertical-align: top;\n",
       "    }\n",
       "\n",
       "    .dataframe thead th {\n",
       "        text-align: right;\n",
       "    }\n",
       "</style>\n",
       "<table border=\"1\" class=\"dataframe\">\n",
       "  <thead>\n",
       "    <tr style=\"text-align: right;\">\n",
       "      <th></th>\n",
       "      <th>userID</th>\n",
       "      <th>Track</th>\n",
       "      <th>artist</th>\n",
       "      <th>genre</th>\n",
       "      <th>City</th>\n",
       "      <th>time</th>\n",
       "      <th>Day</th>\n",
       "    </tr>\n",
       "  </thead>\n",
       "  <tbody>\n",
       "    <tr>\n",
       "      <th>0</th>\n",
       "      <td>FFB692EC</td>\n",
       "      <td>Kamigata To Boots</td>\n",
       "      <td>The Mass Missile</td>\n",
       "      <td>rock</td>\n",
       "      <td>Saint-Petersburg</td>\n",
       "      <td>20:28:33</td>\n",
       "      <td>Wednesday</td>\n",
       "    </tr>\n",
       "    <tr>\n",
       "      <th>1</th>\n",
       "      <td>55204538</td>\n",
       "      <td>Delayed Because of Accident</td>\n",
       "      <td>Andreas Rönnberg</td>\n",
       "      <td>rock</td>\n",
       "      <td>Moscow</td>\n",
       "      <td>14:07:09</td>\n",
       "      <td>Friday</td>\n",
       "    </tr>\n",
       "    <tr>\n",
       "      <th>2</th>\n",
       "      <td>20EC38</td>\n",
       "      <td>Funiculì funiculà</td>\n",
       "      <td>Mario Lanza</td>\n",
       "      <td>pop</td>\n",
       "      <td>Saint-Petersburg</td>\n",
       "      <td>20:58:07</td>\n",
       "      <td>Wednesday</td>\n",
       "    </tr>\n",
       "    <tr>\n",
       "      <th>3</th>\n",
       "      <td>A3DD03C9</td>\n",
       "      <td>Dragons in the Sunset</td>\n",
       "      <td>Fire + Ice</td>\n",
       "      <td>folk</td>\n",
       "      <td>Saint-Petersburg</td>\n",
       "      <td>08:37:09</td>\n",
       "      <td>Monday</td>\n",
       "    </tr>\n",
       "    <tr>\n",
       "      <th>4</th>\n",
       "      <td>E2DC1FAE</td>\n",
       "      <td>Soul People</td>\n",
       "      <td>Space Echo</td>\n",
       "      <td>dance</td>\n",
       "      <td>Moscow</td>\n",
       "      <td>08:34:34</td>\n",
       "      <td>Monday</td>\n",
       "    </tr>\n",
       "    <tr>\n",
       "      <th>5</th>\n",
       "      <td>842029A1</td>\n",
       "      <td>Преданная</td>\n",
       "      <td>IMPERVTOR</td>\n",
       "      <td>rusrap</td>\n",
       "      <td>Saint-Petersburg</td>\n",
       "      <td>13:09:41</td>\n",
       "      <td>Friday</td>\n",
       "    </tr>\n",
       "    <tr>\n",
       "      <th>6</th>\n",
       "      <td>4CB90AA5</td>\n",
       "      <td>True</td>\n",
       "      <td>Roman Messer</td>\n",
       "      <td>dance</td>\n",
       "      <td>Moscow</td>\n",
       "      <td>13:00:07</td>\n",
       "      <td>Wednesday</td>\n",
       "    </tr>\n",
       "    <tr>\n",
       "      <th>7</th>\n",
       "      <td>F03E1C1F</td>\n",
       "      <td>Feeling This Way</td>\n",
       "      <td>Polina Griffith</td>\n",
       "      <td>dance</td>\n",
       "      <td>Moscow</td>\n",
       "      <td>20:47:49</td>\n",
       "      <td>Wednesday</td>\n",
       "    </tr>\n",
       "    <tr>\n",
       "      <th>8</th>\n",
       "      <td>8FA1D3BE</td>\n",
       "      <td>И вновь продолжается бой</td>\n",
       "      <td>NaN</td>\n",
       "      <td>ruspop</td>\n",
       "      <td>Moscow</td>\n",
       "      <td>09:17:40</td>\n",
       "      <td>Friday</td>\n",
       "    </tr>\n",
       "    <tr>\n",
       "      <th>9</th>\n",
       "      <td>E772D5C0</td>\n",
       "      <td>Pessimist</td>\n",
       "      <td>NaN</td>\n",
       "      <td>dance</td>\n",
       "      <td>Saint-Petersburg</td>\n",
       "      <td>21:20:49</td>\n",
       "      <td>Wednesday</td>\n",
       "    </tr>\n",
       "  </tbody>\n",
       "</table>\n",
       "</div>"
      ],
      "text/plain": [
       "     userID                        Track            artist   genre  \\\n",
       "0  FFB692EC            Kamigata To Boots  The Mass Missile    rock   \n",
       "1  55204538  Delayed Because of Accident  Andreas Rönnberg    rock   \n",
       "2    20EC38            Funiculì funiculà       Mario Lanza     pop   \n",
       "3  A3DD03C9        Dragons in the Sunset        Fire + Ice    folk   \n",
       "4  E2DC1FAE                  Soul People        Space Echo   dance   \n",
       "5  842029A1                    Преданная         IMPERVTOR  rusrap   \n",
       "6  4CB90AA5                         True      Roman Messer   dance   \n",
       "7  F03E1C1F             Feeling This Way   Polina Griffith   dance   \n",
       "8  8FA1D3BE     И вновь продолжается бой               NaN  ruspop   \n",
       "9  E772D5C0                    Pessimist               NaN   dance   \n",
       "\n",
       "             City        time        Day  \n",
       "0  Saint-Petersburg  20:28:33  Wednesday  \n",
       "1            Moscow  14:07:09     Friday  \n",
       "2  Saint-Petersburg  20:58:07  Wednesday  \n",
       "3  Saint-Petersburg  08:37:09     Monday  \n",
       "4            Moscow  08:34:34     Monday  \n",
       "5  Saint-Petersburg  13:09:41     Friday  \n",
       "6            Moscow  13:00:07  Wednesday  \n",
       "7            Moscow  20:47:49  Wednesday  \n",
       "8            Moscow  09:17:40     Friday  \n",
       "9  Saint-Petersburg  21:20:49  Wednesday  "
      ]
     },
     "metadata": {},
     "output_type": "display_data"
    }
   ],
   "source": [
    "display(df.head(10)) #применена функция display, чтобы таблица выглядела более наглядно и легче воспринималась"
   ]
  },
  {
   "cell_type": "markdown",
   "metadata": {
    "id": "EO73Kwic_Zct"
   },
   "source": [
    "Просмотрим общую информацию о таблице:"
   ]
  },
  {
   "cell_type": "code",
   "execution_count": 4,
   "metadata": {
    "id": "DSf2kIb-_Zct"
   },
   "outputs": [
    {
     "name": "stdout",
     "output_type": "stream",
     "text": [
      "<class 'pandas.core.frame.DataFrame'>\n",
      "RangeIndex: 65079 entries, 0 to 65078\n",
      "Data columns (total 7 columns):\n",
      "  userID    65079 non-null object\n",
      "Track       63848 non-null object\n",
      "artist      57876 non-null object\n",
      "genre       63881 non-null object\n",
      "  City      65079 non-null object\n",
      "time        65079 non-null object\n",
      "Day         65079 non-null object\n",
      "dtypes: object(7)\n",
      "memory usage: 3.5+ MB\n"
     ]
    }
   ],
   "source": [
    "df.info()"
   ]
  },
  {
   "cell_type": "markdown",
   "metadata": {
    "id": "TaQ2Iwbr_Zct"
   },
   "source": [
    "В таблице семь столбцов. Тип данных во всех столбцах — `object`.\n",
    "\n",
    "Согласно документации к данным:\n",
    "* `userID` — идентификатор пользователя;\n",
    "* `Track` — название трека;  \n",
    "* `artist` — имя исполнителя;\n",
    "* `genre` — название жанра;\n",
    "* `City` — город пользователя;\n",
    "* `time` — время начала прослушивания;\n",
    "* `Day` — день недели.\n",
    "\n",
    "В названиях колонок видны три нарушения стиля:\n",
    "1. Строчные буквы сочетаются с прописными.\n",
    "2. Встречаются пробелы.\n",
    "3. В столбце `userID` использован 'camel case', вместо 'snake case'.\n",
    "\n",
    "Количество значений в столбцах различается. Значит, в данных есть пропущенные значения.\n"
   ]
  },
  {
   "cell_type": "markdown",
   "metadata": {
    "id": "MCB6-dXG_Zct"
   },
   "source": [
    "**Выводы к разделу \"Обзор данных\"**\n",
    "\n",
    "В каждой строке таблицы — данные о прослушанном треке. Часть колонок описывает саму композицию: название, исполнителя и жанр. Остальные данные рассказывают о пользователе: из какого он города, когда он слушал музыку. \n",
    "\n",
    "Встречаются пропуски в данных, а в названиях колонок — расхождения с хорошим стилем. Устраним найденные проблемы в данных."
   ]
  },
  {
   "cell_type": "markdown",
   "metadata": {
    "id": "SjYF6Ub9_Zct"
   },
   "source": [
    "## Раздел_2.Предобработка данных\n",
    "Исправьте стиль в заголовках столбцов, исключите пропуски. Затем проверьте данные на дубликаты."
   ]
  },
  {
   "cell_type": "markdown",
   "metadata": {
    "id": "dIaKXr29_Zct"
   },
   "source": [
    "### 2.1.Стиль заголовков\n",
    "Выведим на экран перечень названий столбцов таблицы df:"
   ]
  },
  {
   "cell_type": "code",
   "execution_count": 8,
   "metadata": {
    "id": "oKOTdF_Q_Zct"
   },
   "outputs": [
    {
     "data": {
      "text/plain": [
       "Index(['  userID', 'Track', 'artist', 'genre', '  City  ', 'time', 'Day'], dtype='object')"
      ]
     },
     "execution_count": 8,
     "metadata": {},
     "output_type": "execute_result"
    }
   ],
   "source": [
    "df.columns"
   ]
  },
  {
   "cell_type": "markdown",
   "metadata": {
    "id": "zj5534cv_Zct"
   },
   "source": [
    "Приведём названия в соответствие с хорошим стилем: несколько слов в названии перепишем в «змеином_регистре», все символы сделайем строчными и устраним пробелы."
   ]
  },
  {
   "cell_type": "code",
   "execution_count": 9,
   "metadata": {
    "id": "ISlFqs5y_Zct"
   },
   "outputs": [],
   "source": [
    "# переименование столбцов\n",
    "df = df.rename(columns={'  userID':'user_id', 'Track':'track', '  City  ':'city', 'Day':'day'})"
   ]
  },
  {
   "cell_type": "markdown",
   "metadata": {
    "id": "1dqbh00J_Zct"
   },
   "source": [
    "Проверим результат, для этого ещё раз выведите на экран названия столбцов:"
   ]
  },
  {
   "cell_type": "code",
   "execution_count": 10,
   "metadata": {
    "id": "d4NOAmTW_Zct"
   },
   "outputs": [
    {
     "data": {
      "text/plain": [
       "Index(['user_id', 'track', 'artist', 'genre', 'city', 'time', 'day'], dtype='object')"
      ]
     },
     "execution_count": 10,
     "metadata": {},
     "output_type": "execute_result"
    }
   ],
   "source": [
    "# проверка результатов - перечень названий столбцов\n",
    "df.columns"
   ]
  },
  {
   "cell_type": "markdown",
   "metadata": {
    "id": "5ISfbcfY_Zct"
   },
   "source": [
    "### 2.2.Пропуски значений\n",
    "Посчитайте, сколько в таблице пропущенных значений. Для этого используем методы `pandas`: isna() и sum()"
   ]
  },
  {
   "cell_type": "code",
   "execution_count": 11,
   "metadata": {
    "id": "RskX29qr_Zct"
   },
   "outputs": [
    {
     "data": {
      "text/plain": [
       "user_id       0\n",
       "track      1231\n",
       "artist     7203\n",
       "genre      1198\n",
       "city          0\n",
       "time          0\n",
       "day           0\n",
       "dtype: int64"
      ]
     },
     "execution_count": 11,
     "metadata": {},
     "output_type": "execute_result"
    }
   ],
   "source": [
    "# подсчёт пропусков\n",
    "df.isna().sum()"
   ]
  },
  {
   "cell_type": "markdown",
   "metadata": {
    "id": "qubhgnlO_Zct"
   },
   "source": [
    "Не все пропущенные значения влияют на исследование. Так в `track` и `artist` пропуски не важны в данной работе, в данном случае будет достаточно заменить их явными обозначениями.\n",
    "\n",
    "Пропуски в поле `genre` могут помешать сравнению музыкальных предпочтний в Москве и Санкт-Петербурге. На практике было бы правильно установить причину пропусков. В данном проекте такой возможности нет в учебном проекте. В связи с чем:\n",
    "* заполним и эти пропуски явными обозначениями,\n",
    "* оценим, насколько они повредят расчётам. "
   ]
  },
  {
   "cell_type": "markdown",
   "metadata": {
    "id": "fSv2laPA_Zct"
   },
   "source": [
    "Заменим пропущенные значения в столбцах `track`, `artist` и `genre` на строку `'unknown'`. Для этого создадим список `columns_to_replace`, переберём его элементы циклом `for` и для каждого столбца выполните замену пропущенных значений:"
   ]
  },
  {
   "cell_type": "code",
   "execution_count": 12,
   "metadata": {
    "id": "KplB5qWs_Zct"
   },
   "outputs": [],
   "source": [
    "# перебор названий столбцов в цикле и замена пропущенных значений на 'unknown'\n",
    "\n",
    "columns_to_replace = ['track','artist','genre']\n",
    "for column in columns_to_replace:\n",
    "    df[column] = df[column].fillna('unknown')"
   ]
  },
  {
   "cell_type": "markdown",
   "metadata": {
    "id": "Ilsm-MZo_Zct"
   },
   "source": [
    "Убедимся, что в таблице не осталось пропусков. Для этого ещё раз посчитаем пропущенные значения."
   ]
  },
  {
   "cell_type": "code",
   "execution_count": 10,
   "metadata": {
    "id": "Tq4nYRX4_Zct"
   },
   "outputs": [
    {
     "data": {
      "text/plain": [
       "user_id    0\n",
       "track      0\n",
       "artist     0\n",
       "genre      0\n",
       "city       0\n",
       "time       0\n",
       "day        0\n",
       "dtype: int64"
      ]
     },
     "execution_count": 10,
     "metadata": {},
     "output_type": "execute_result"
    }
   ],
   "source": [
    "# подсчёт пропусков\n",
    "df.isna().sum()"
   ]
  },
  {
   "cell_type": "markdown",
   "metadata": {
    "id": "BWKRtBJ3_Zct"
   },
   "source": [
    "### 2.3.Дубликаты\n",
    "Посчитаем явные дубликаты в таблице и удалим явные дубликаты:"
   ]
  },
  {
   "cell_type": "code",
   "execution_count": 11,
   "metadata": {
    "id": "36eES_S0_Zct"
   },
   "outputs": [
    {
     "data": {
      "text/plain": [
       "3826"
      ]
     },
     "execution_count": 11,
     "metadata": {},
     "output_type": "execute_result"
    }
   ],
   "source": [
    "# подсчёт явных дубликатов\n",
    "\n",
    "df.duplicated().sum()"
   ]
  },
  {
   "cell_type": "code",
   "execution_count": 12,
   "metadata": {
    "id": "exFHq6tt_Zct"
   },
   "outputs": [],
   "source": [
    "# удаление явных дубликатов (с удалением старых индексов и формированием новых)\n",
    "df = df.drop_duplicates().reset_index(drop=True)"
   ]
  },
  {
   "cell_type": "markdown",
   "metadata": {
    "id": "Im2YwBEG_Zct"
   },
   "source": [
    "Повторно посчитайте явные дубликаты в таблице и убедимся, что полностью от них избавились:"
   ]
  },
  {
   "cell_type": "code",
   "execution_count": 13,
   "metadata": {
    "id": "-8PuNWQ0_Zct"
   },
   "outputs": [
    {
     "data": {
      "text/plain": [
       "0"
      ]
     },
     "execution_count": 13,
     "metadata": {},
     "output_type": "execute_result"
    }
   ],
   "source": [
    "# проверка на отсутствие дубликатов\n",
    "df.duplicated().sum()"
   ]
  },
  {
   "cell_type": "markdown",
   "metadata": {
    "id": "QlFBsxAr_Zct"
   },
   "source": [
    "Теперь избавимся от неявных дубликатов в колонке `genre`. Это связано с тем, что название одного и того же жанра может быть записано немного по-разному. Такие ошибки тоже повлияют на результат исследования."
   ]
  },
  {
   "cell_type": "markdown",
   "metadata": {
    "id": "eSjWwsOh_Zct"
   },
   "source": [
    "Отсортируем столбце `genre` и вернём все его уникальные значения."
   ]
  },
  {
   "cell_type": "code",
   "execution_count": 13,
   "metadata": {
    "id": "JIUcqzZN_Zct"
   },
   "outputs": [
    {
     "data": {
      "text/plain": [
       "array(['acid', 'acoustic', 'action', 'adult', 'africa', 'afrikaans',\n",
       "       'alternative', 'alternativepunk', 'ambient', 'americana',\n",
       "       'animated', 'anime', 'arabesk', 'arabic', 'arena',\n",
       "       'argentinetango', 'art', 'audiobook', 'author', 'avantgarde',\n",
       "       'axé', 'baile', 'balkan', 'beats', 'bigroom', 'black', 'bluegrass',\n",
       "       'blues', 'bollywood', 'bossa', 'brazilian', 'breakbeat', 'breaks',\n",
       "       'broadway', 'cantautori', 'cantopop', 'canzone', 'caribbean',\n",
       "       'caucasian', 'celtic', 'chamber', 'chanson', 'children', 'chill',\n",
       "       'chinese', 'choral', 'christian', 'christmas', 'classical',\n",
       "       'classicmetal', 'club', 'colombian', 'comedy', 'conjazz',\n",
       "       'contemporary', 'country', 'cuban', 'dance', 'dancehall',\n",
       "       'dancepop', 'dark', 'death', 'deep', 'deutschrock', 'deutschspr',\n",
       "       'dirty', 'disco', 'dnb', 'documentary', 'downbeat', 'downtempo',\n",
       "       'drum', 'dub', 'dubstep', 'eastern', 'easy', 'electronic',\n",
       "       'electropop', 'emo', 'entehno', 'epicmetal', 'estrada', 'ethnic',\n",
       "       'eurofolk', 'european', 'experimental', 'extrememetal', 'fado',\n",
       "       'fairytail', 'film', 'fitness', 'flamenco', 'folk', 'folklore',\n",
       "       'folkmetal', 'folkrock', 'folktronica', 'forró', 'frankreich',\n",
       "       'französisch', 'french', 'funk', 'future', 'gangsta', 'garage',\n",
       "       'german', 'ghazal', 'gitarre', 'glitch', 'gospel', 'gothic',\n",
       "       'grime', 'grunge', 'gypsy', 'handsup', \"hard'n'heavy\", 'hardcore',\n",
       "       'hardstyle', 'hardtechno', 'hip', 'hip-hop', 'hiphop',\n",
       "       'historisch', 'holiday', 'hop', 'horror', 'house', 'hymn', 'idm',\n",
       "       'independent', 'indian', 'indie', 'indipop', 'industrial',\n",
       "       'inspirational', 'instrumental', 'international', 'irish', 'jam',\n",
       "       'japanese', 'jazz', 'jewish', 'jpop', 'jungle', 'k-pop',\n",
       "       'karadeniz', 'karaoke', 'kayokyoku', 'korean', 'laiko', 'latin',\n",
       "       'latino', 'leftfield', 'local', 'lounge', 'loungeelectronic',\n",
       "       'lovers', 'malaysian', 'mandopop', 'marschmusik', 'meditative',\n",
       "       'mediterranean', 'melodic', 'metal', 'metalcore', 'mexican',\n",
       "       'middle', 'minimal', 'miscellaneous', 'modern', 'mood', 'mpb',\n",
       "       'muslim', 'native', 'neoklassik', 'neue', 'new', 'newage',\n",
       "       'newwave', 'nu', 'nujazz', 'numetal', 'oceania', 'old', 'opera',\n",
       "       'orchestral', 'other', 'piano', 'podcasts', 'pop', 'popdance',\n",
       "       'popelectronic', 'popeurodance', 'poprussian', 'post',\n",
       "       'posthardcore', 'postrock', 'power', 'progmetal', 'progressive',\n",
       "       'psychedelic', 'punjabi', 'punk', 'quebecois', 'ragga', 'ram',\n",
       "       'rancheras', 'rap', 'rave', 'reggae', 'reggaeton', 'regional',\n",
       "       'relax', 'religious', 'retro', 'rhythm', 'rnb', 'rnr', 'rock',\n",
       "       'rockabilly', 'rockalternative', 'rockindie', 'rockother',\n",
       "       'romance', 'roots', 'ruspop', 'rusrap', 'rusrock', 'russian',\n",
       "       'salsa', 'samba', 'scenic', 'schlager', 'self', 'sertanejo',\n",
       "       'shanson', 'shoegazing', 'showtunes', 'singer', 'ska', 'skarock',\n",
       "       'slow', 'smooth', 'soft', 'soul', 'soulful', 'sound', 'soundtrack',\n",
       "       'southern', 'specialty', 'speech', 'spiritual', 'sport',\n",
       "       'stonerrock', 'surf', 'swing', 'synthpop', 'synthrock',\n",
       "       'sängerportrait', 'tango', 'tanzorchester', 'taraftar', 'tatar',\n",
       "       'tech', 'techno', 'teen', 'thrash', 'top', 'traditional',\n",
       "       'tradjazz', 'trance', 'tribal', 'trip', 'triphop', 'tropical',\n",
       "       'türk', 'türkçe', 'ukrrock', 'unknown', 'urban', 'uzbek',\n",
       "       'variété', 'vi', 'videogame', 'vocal', 'western', 'world',\n",
       "       'worldbeat', 'ïîï', 'электроника'], dtype=object)"
      ]
     },
     "execution_count": 13,
     "metadata": {},
     "output_type": "execute_result"
    }
   ],
   "source": [
    "# Просмотр уникальных названий жанров\n",
    "df['genre'].sort_values().unique()"
   ]
  },
  {
   "cell_type": "markdown",
   "metadata": {
    "id": "qej-Qmuo_Zct"
   },
   "source": [
    "В списке видим неявные дубликаты названия `hiphop`. Это могут быть названия с ошибками или альтернативные названия того же жанра: *hip*, *hop*, *hip-hop*.\n",
    "\n",
    "Чтобы очистить от них таблицу, напишем функцию `replace_wrong_genres()` с двумя параметрами: \n",
    "* `wrong_genres` — список дубликатов,\n",
    "* `correct_genre` — строка с правильным значением.\n",
    "\n",
    "Функция будет исправлять колонку `genre` в таблице `df`: заменять каждое значение из списка `wrong_genres` на значение из `correct_genre`."
   ]
  },
  {
   "cell_type": "code",
   "execution_count": 15,
   "metadata": {
    "id": "ErNDkmns_Zct"
   },
   "outputs": [],
   "source": [
    "# Функция для замены неявных дубликатов\n",
    "\n",
    "def replace_wrong_genres(wrong_genres,correct_genre): # функция получает список дубликатов и строку с правильным значением\n",
    "    for wrong_genre in wrong_genres: #перебор неправильных жанров\n",
    "        df['genre'] =  df['genre'].replace(wrong_genres,correct_genre) #для каждого неправильно написанного жанра делаем замену на правильное значение\n",
    "    "
   ]
  },
  {
   "cell_type": "markdown",
   "metadata": {
    "id": "aDoBJxbA_Zct"
   },
   "source": [
    "Вызовим функцию `replace_wrong_genres()` и заменим значения `hip`, `hop` и `hip-hop` на значение `hiphop`:"
   ]
  },
  {
   "cell_type": "code",
   "execution_count": 16,
   "metadata": {
    "id": "YN5i2hpmSo09"
   },
   "outputs": [],
   "source": [
    "# Устранение неявных дубликатов\n",
    "\n",
    "duplicates = ['hip','hop','hip-hop'] # список неявных дубликатов жатра hiphop \n",
    "right_genre = 'hiphop' # правильное написание жарна hiphop\n",
    "replace_wrong_genres( duplicates, right_genre) #вызов функции для замены дубликатов на правильное написание жанра\n"
   ]
  },
  {
   "cell_type": "markdown",
   "metadata": {
    "id": "zQKF16_RG15m"
   },
   "source": [
    "Провеим правильность замены:"
   ]
  },
  {
   "cell_type": "code",
   "execution_count": 17,
   "metadata": {
    "id": "wvixALnFG15m"
   },
   "outputs": [
    {
     "data": {
      "text/plain": [
       "array(['acid', 'acoustic', 'action', 'adult', 'africa', 'afrikaans',\n",
       "       'alternative', 'alternativepunk', 'ambient', 'americana',\n",
       "       'animated', 'anime', 'arabesk', 'arabic', 'arena',\n",
       "       'argentinetango', 'art', 'audiobook', 'author', 'avantgarde',\n",
       "       'axé', 'baile', 'balkan', 'beats', 'bigroom', 'black', 'bluegrass',\n",
       "       'blues', 'bollywood', 'bossa', 'brazilian', 'breakbeat', 'breaks',\n",
       "       'broadway', 'cantautori', 'cantopop', 'canzone', 'caribbean',\n",
       "       'caucasian', 'celtic', 'chamber', 'chanson', 'children', 'chill',\n",
       "       'chinese', 'choral', 'christian', 'christmas', 'classical',\n",
       "       'classicmetal', 'club', 'colombian', 'comedy', 'conjazz',\n",
       "       'contemporary', 'country', 'cuban', 'dance', 'dancehall',\n",
       "       'dancepop', 'dark', 'death', 'deep', 'deutschrock', 'deutschspr',\n",
       "       'dirty', 'disco', 'dnb', 'documentary', 'downbeat', 'downtempo',\n",
       "       'drum', 'dub', 'dubstep', 'eastern', 'easy', 'electronic',\n",
       "       'electropop', 'emo', 'entehno', 'epicmetal', 'estrada', 'ethnic',\n",
       "       'eurofolk', 'european', 'experimental', 'extrememetal', 'fado',\n",
       "       'fairytail', 'film', 'fitness', 'flamenco', 'folk', 'folklore',\n",
       "       'folkmetal', 'folkrock', 'folktronica', 'forró', 'frankreich',\n",
       "       'französisch', 'french', 'funk', 'future', 'gangsta', 'garage',\n",
       "       'german', 'ghazal', 'gitarre', 'glitch', 'gospel', 'gothic',\n",
       "       'grime', 'grunge', 'gypsy', 'handsup', \"hard'n'heavy\", 'hardcore',\n",
       "       'hardstyle', 'hardtechno', 'hiphop', 'historisch', 'holiday',\n",
       "       'horror', 'house', 'hymn', 'idm', 'independent', 'indian', 'indie',\n",
       "       'indipop', 'industrial', 'inspirational', 'instrumental',\n",
       "       'international', 'irish', 'jam', 'japanese', 'jazz', 'jewish',\n",
       "       'jpop', 'jungle', 'k-pop', 'karadeniz', 'karaoke', 'kayokyoku',\n",
       "       'korean', 'laiko', 'latin', 'latino', 'leftfield', 'local',\n",
       "       'lounge', 'loungeelectronic', 'lovers', 'malaysian', 'mandopop',\n",
       "       'marschmusik', 'meditative', 'mediterranean', 'melodic', 'metal',\n",
       "       'metalcore', 'mexican', 'middle', 'minimal', 'miscellaneous',\n",
       "       'modern', 'mood', 'mpb', 'muslim', 'native', 'neoklassik', 'neue',\n",
       "       'new', 'newage', 'newwave', 'nu', 'nujazz', 'numetal', 'oceania',\n",
       "       'old', 'opera', 'orchestral', 'other', 'piano', 'podcasts', 'pop',\n",
       "       'popdance', 'popelectronic', 'popeurodance', 'poprussian', 'post',\n",
       "       'posthardcore', 'postrock', 'power', 'progmetal', 'progressive',\n",
       "       'psychedelic', 'punjabi', 'punk', 'quebecois', 'ragga', 'ram',\n",
       "       'rancheras', 'rap', 'rave', 'reggae', 'reggaeton', 'regional',\n",
       "       'relax', 'religious', 'retro', 'rhythm', 'rnb', 'rnr', 'rock',\n",
       "       'rockabilly', 'rockalternative', 'rockindie', 'rockother',\n",
       "       'romance', 'roots', 'ruspop', 'rusrap', 'rusrock', 'russian',\n",
       "       'salsa', 'samba', 'scenic', 'schlager', 'self', 'sertanejo',\n",
       "       'shanson', 'shoegazing', 'showtunes', 'singer', 'ska', 'skarock',\n",
       "       'slow', 'smooth', 'soft', 'soul', 'soulful', 'sound', 'soundtrack',\n",
       "       'southern', 'specialty', 'speech', 'spiritual', 'sport',\n",
       "       'stonerrock', 'surf', 'swing', 'synthpop', 'synthrock',\n",
       "       'sängerportrait', 'tango', 'tanzorchester', 'taraftar', 'tatar',\n",
       "       'tech', 'techno', 'teen', 'thrash', 'top', 'traditional',\n",
       "       'tradjazz', 'trance', 'tribal', 'trip', 'triphop', 'tropical',\n",
       "       'türk', 'türkçe', 'ukrrock', 'unknown', 'urban', 'uzbek',\n",
       "       'variété', 'vi', 'videogame', 'vocal', 'western', 'world',\n",
       "       'worldbeat', 'ïîï', 'электроника'], dtype=object)"
      ]
     },
     "execution_count": 17,
     "metadata": {},
     "output_type": "execute_result"
    }
   ],
   "source": [
    "# Проверка на неявные дубликаты\n",
    "df['genre'].sort_values().unique() # находим уникальные значения столбца"
   ]
  },
  {
   "cell_type": "markdown",
   "metadata": {
    "id": "jz6a9-7HQUDd"
   },
   "source": [
    "**Выводы к разделу \"Предобработка данных\"**\n",
    "\n",
    "Предобработка обнаружила три проблемы в данных:\n",
    "\n",
    "- нарушения в стиле заголовков - были исправлены, чтобы упростить работу с таблицей;\n",
    "- пропущенные значения-заменили на `'unknown'`. Далее необходимо проверить, как влияют на исследование пропуски в колонке `genre`;\n",
    "- дубликаты — явные и неявные, без дубликатов исследование будет более точным."
   ]
  },
  {
   "cell_type": "markdown",
   "metadata": {
    "id": "WttZHXH0SqKk"
   },
   "source": [
    "## Раздел_3.Проверка гипотез"
   ]
  },
  {
   "cell_type": "markdown",
   "metadata": {
    "id": "Im936VVi_Zcu"
   },
   "source": [
    "### Проверка гипотезы 1. Сравнение поведения пользователей двух столиц"
   ]
  },
  {
   "cell_type": "markdown",
   "metadata": {
    "id": "nwt_MuaL_Zcu"
   },
   "source": [
    "Первая гипотеза утверждает, что пользователи по-разному слушают музыку в Москве и Санкт-Петербурге. Проверим это предположение по данным о трёх днях недели — понедельнике, среде и пятнице. Для этого:\n",
    "\n",
    "* Разделим пользователей Москвы и Санкт-Петербурга\n",
    "* Сравним, сколько треков послушала каждая группа пользователей в понедельник, среду и пятницу."
   ]
  },
  {
   "cell_type": "markdown",
   "metadata": {
    "id": "8Dw_YMmT_Zcu"
   },
   "source": [
    "Для тренировки выполним каждый из расчётов по отдельности. \n",
    "\n",
    "Оценим активность пользователей в каждом городе:  для этого сгруппируем данные по городу и посчитаем прослушивания в каждой группе."
   ]
  },
  {
   "cell_type": "code",
   "execution_count": 15,
   "metadata": {
    "id": "0_Qs96oh_Zcu"
   },
   "outputs": [
    {
     "data": {
      "text/plain": [
       "city\n",
       "Moscow              45360\n",
       "Saint-Petersburg    19719\n",
       "Name: time, dtype: int64"
      ]
     },
     "execution_count": 15,
     "metadata": {},
     "output_type": "execute_result"
    }
   ],
   "source": [
    "# Подсчёт прослушиваний в каждом городе\n",
    "\n",
    "plays_number = df.groupby('city')['time'].count() \n",
    "#сгруппировали по городу, подсчёт сделали по столбцу 'time'\n",
    "# чтобы съэкномить ресурсы компьютера и убрать лишнюю информацию для пользователя\n",
    "plays_number"
   ]
  },
  {
   "cell_type": "markdown",
   "metadata": {
    "id": "dzli3w8o_Zcu"
   },
   "source": [
    "В Москве прослушиваний больше, чем в Петербурге. Из этого не следует, что московские пользователи чаще слушают музыку. Просто самих пользователей в Москве больше.\n",
    "\n",
    "Теперь сгруппируем данные по дню недели и подсчитаем прослушивания в понедельник, среду и пятницу. \n",
    "Необходимо учесть, что в данных есть информация только о прослушиваниях только за эти дни."
   ]
  },
  {
   "cell_type": "code",
   "execution_count": 19,
   "metadata": {
    "id": "uZMKjiJz_Zcu"
   },
   "outputs": [
    {
     "data": {
      "text/plain": [
       "day\n",
       "Friday       21840\n",
       "Monday       21354\n",
       "Wednesday    18059\n",
       "Name: time, dtype: int64"
      ]
     },
     "execution_count": 19,
     "metadata": {},
     "output_type": "execute_result"
    }
   ],
   "source": [
    "# Подсчёт прослушиваний в каждый из трёх дней\n",
    "\n",
    "plays_number = df.groupby('day')['time'].count() # в методе groupby меняем группировку с города на день недели\n",
    "plays_number\n"
   ]
  },
  {
   "cell_type": "markdown",
   "metadata": {
    "id": "cC2tNrlL_Zcu"
   },
   "source": [
    "В среднем пользователи из двух городов менее активны по средам. Но картина может измениться, если рассмотреть каждый город в отдельности."
   ]
  },
  {
   "cell_type": "markdown",
   "metadata": {
    "id": "POzs8bGa_Zcu"
   },
   "source": [
    "Теперь напишите функцию, которая объединит два эти расчёта.\n",
    "\n",
    "Создайм функцию `number_tracks()`, которая посчитает прослушивания для заданного дня и города. Ей понадобятся два параметра:\n",
    "* день недели,\n",
    "* название города.\n",
    "\n",
    "В функции сохраним в переменную строки исходной таблицы, у которых значение:\n",
    "  * в колонке `day` равно параметру `day`,\n",
    "  * в колонке `city` равно параметру `city`.\n",
    "\n",
    "Для этого применим последовательную фильтрацию с логической индексацией.\n",
    "\n",
    "Затем посчитаем значения в столбце `user_id` получившейся таблицы. Результат сохраним в новую переменную. Вернём эту переменную из функции."
   ]
  },
  {
   "cell_type": "code",
   "execution_count": 16,
   "metadata": {},
   "outputs": [],
   "source": [
    "# <создание функции number_tracks()>\n",
    "# Объявляется функция с двумя параметрами: day, city.\n",
    "# В переменной track_list сохраняются те строки таблицы df, для которых \n",
    "# значение в столбце 'day' равно параметру day и одновременно значение\n",
    "# в столбце 'city' равно параметру city (используйте последовательную фильтрацию\n",
    "# с помощью логической индексации).\n",
    "# В переменной track_list_count сохраняется число значений столбца 'user_id',\n",
    "# рассчитанное методом count() для таблицы track_list.\n",
    "\n",
    "# Функция возвращает число - значение track_list_count.\n",
    "# Функция для подсчёта прослушиваний для конкретного города и дня.\n",
    "# С помощью последовательной фильтрации с логической индексацией она \n",
    "# сначала получит из исходной таблицы строки с нужным днём,\n",
    "# затем из результата отфильтрует строки с нужным городом,\n",
    "# методом count() посчитает количество значений в колонке user_id. \n",
    "# Это количество функция вернёт в качестве результата"
   ]
  },
  {
   "cell_type": "code",
   "execution_count": 19,
   "metadata": {
    "id": "Nz3GdQB1_Zcu"
   },
   "outputs": [],
   "source": [
    "def number_tracks(day, city):\n",
    "    track_list = df[df['day'] == day] \n",
    "    track_list = track_list[track_list['city'] == city]\n",
    "    track_list_count = track_list['user_id'].count()\n",
    "    return track_list_count"
   ]
  },
  {
   "cell_type": "markdown",
   "metadata": {
    "id": "ytf7xFrFJQ2r"
   },
   "source": [
    "Вызовем `number_tracks()` шесть раз, меняя значение параметров — так, чтобы получить данные для каждого города в каждый из трёх дней."
   ]
  },
  {
   "cell_type": "code",
   "execution_count": 20,
   "metadata": {
    "id": "rJcRATNQ_Zcu"
   },
   "outputs": [
    {
     "data": {
      "text/plain": [
       "16715"
      ]
     },
     "execution_count": 20,
     "metadata": {},
     "output_type": "execute_result"
    }
   ],
   "source": [
    "# количество прослушиваний в Москве по понедельникам\n",
    "day = 'Monday'\n",
    "city= 'Moscow' \n",
    "number_tracks(day,city)"
   ]
  },
  {
   "cell_type": "code",
   "execution_count": 21,
   "metadata": {
    "id": "hq_ncZ5T_Zcu"
   },
   "outputs": [
    {
     "data": {
      "text/plain": [
       "5982"
      ]
     },
     "execution_count": 21,
     "metadata": {},
     "output_type": "execute_result"
    }
   ],
   "source": [
    "# количество прослушиваний в Санкт-Петербурге по понедельникам\n",
    "day = 'Monday'\n",
    "city= 'Saint-Petersburg' \n",
    "number_tracks(day,city)"
   ]
  },
  {
   "cell_type": "code",
   "execution_count": 22,
   "metadata": {
    "id": "_NTy2VPU_Zcu"
   },
   "outputs": [
    {
     "data": {
      "text/plain": [
       "11755"
      ]
     },
     "execution_count": 22,
     "metadata": {},
     "output_type": "execute_result"
    }
   ],
   "source": [
    "# количество прослушиваний в Москве по средам\n",
    "day = 'Wednesday'\n",
    "city= 'Moscow' \n",
    "number_tracks(day,city)"
   ]
  },
  {
   "cell_type": "code",
   "execution_count": 23,
   "metadata": {
    "id": "j2y3TAwo_Zcu"
   },
   "outputs": [
    {
     "data": {
      "text/plain": [
       "7478"
      ]
     },
     "execution_count": 23,
     "metadata": {},
     "output_type": "execute_result"
    }
   ],
   "source": [
    "# количество прослушиваний в Санкт-Петербурге по средам\n",
    "day = 'Wednesday'\n",
    "city= 'Saint-Petersburg' \n",
    "number_tracks(day,city)"
   ]
  },
  {
   "cell_type": "code",
   "execution_count": 24,
   "metadata": {
    "id": "vYDw5u_K_Zcu"
   },
   "outputs": [
    {
     "data": {
      "text/plain": [
       "16890"
      ]
     },
     "execution_count": 24,
     "metadata": {},
     "output_type": "execute_result"
    }
   ],
   "source": [
    "# количество прослушиваний в Москве по пятницам\n",
    "day = 'Friday'\n",
    "city= 'Moscow' \n",
    "number_tracks(day,city)"
   ]
  },
  {
   "cell_type": "code",
   "execution_count": 25,
   "metadata": {
    "id": "8_yzFtW3_Zcu"
   },
   "outputs": [
    {
     "data": {
      "text/plain": [
       "6259"
      ]
     },
     "execution_count": 25,
     "metadata": {},
     "output_type": "execute_result"
    }
   ],
   "source": [
    "# количество прослушиваний в Санкт-Петербурге по пятницам\n",
    "day = 'Friday'\n",
    "city= 'Saint-Petersburg' \n",
    "number_tracks(day,city)         "
   ]
  },
  {
   "cell_type": "markdown",
   "metadata": {
    "id": "7QXffbO-_Zcu"
   },
   "source": [
    "Создадим c помощью конструктора `pd.DataFrame` таблицу, где\n",
    "* названия колонок — `['city', 'monday', 'wednesday', 'friday']`;\n",
    "* данные — результаты, которые вы получили с помощью `number_tracks`."
   ]
  },
  {
   "cell_type": "code",
   "execution_count": 27,
   "metadata": {
    "id": "APAcLpOr_Zcu"
   },
   "outputs": [
    {
     "data": {
      "text/html": [
       "<div>\n",
       "<style scoped>\n",
       "    .dataframe tbody tr th:only-of-type {\n",
       "        vertical-align: middle;\n",
       "    }\n",
       "\n",
       "    .dataframe tbody tr th {\n",
       "        vertical-align: top;\n",
       "    }\n",
       "\n",
       "    .dataframe thead th {\n",
       "        text-align: right;\n",
       "    }\n",
       "</style>\n",
       "<table border=\"1\" class=\"dataframe\">\n",
       "  <thead>\n",
       "    <tr style=\"text-align: right;\">\n",
       "      <th></th>\n",
       "      <th>city</th>\n",
       "      <th>monday</th>\n",
       "      <th>wednesday</th>\n",
       "      <th>friday</th>\n",
       "    </tr>\n",
       "  </thead>\n",
       "  <tbody>\n",
       "    <tr>\n",
       "      <td>0</td>\n",
       "      <td>Moscow</td>\n",
       "      <td>15740</td>\n",
       "      <td>11056</td>\n",
       "      <td>15945</td>\n",
       "    </tr>\n",
       "    <tr>\n",
       "      <td>1</td>\n",
       "      <td>Saint-Petersburg</td>\n",
       "      <td>5614</td>\n",
       "      <td>7003</td>\n",
       "      <td>5895</td>\n",
       "    </tr>\n",
       "  </tbody>\n",
       "</table>\n",
       "</div>"
      ],
      "text/plain": [
       "               city  monday  wednesday  friday\n",
       "0            Moscow   15740      11056   15945\n",
       "1  Saint-Petersburg    5614       7003    5895"
      ]
     },
     "execution_count": 27,
     "metadata": {},
     "output_type": "execute_result"
    }
   ],
   "source": [
    "# Таблица с результатами\n",
    "\n",
    "data = [['Moscow', 15740, 11056, 15945],\n",
    "        ['Saint-Petersburg', 5614, 7003, 5895]] # создаём список списков, из данных полученых с помощью number_tracks\n",
    "\n",
    "columns = ['city', 'monday', 'wednesday', 'friday'] # создаём список названия колонок\n",
    "\n",
    "study_results_days = pd.DataFrame(data = data, columns = columns ) #собираем таблицу\n",
    "study_results_days #выводим полученную таблицу\n"
   ]
  },
  {
   "cell_type": "markdown",
   "metadata": {
    "id": "-EgPIHYu_Zcu"
   },
   "source": [
    "**Выводы**\n",
    "\n",
    "Данные показывают разницу поведения пользователей:\n",
    "\n",
    "- В Москве пик прослушиваний приходится на понедельник и пятницу, а в среду заметен спад.\n",
    "- В Петербурге, наоборот, больше слушают музыку по средам. Активность в понедельник и пятницу здесь почти в равной мере уступает среде.\n",
    "\n",
    "Значит, данные говорят в пользу первой гипотезы."
   ]
  },
  {
   "cell_type": "markdown",
   "metadata": {
    "id": "atZAxtq4_Zcu"
   },
   "source": [
    "###  Проверка гипотезы 2.Музыка в начале и в конце недели"
   ]
  },
  {
   "cell_type": "markdown",
   "metadata": {
    "id": "eXrQqXFH_Zcu"
   },
   "source": [
    "Согласно второй гипотезе, утром в понедельник в Москве преобладают одни жанры, а в Петербурге — другие. Так же и вечером пятницы преобладают разные жанры — в зависимости от города."
   ]
  },
  {
   "cell_type": "markdown",
   "metadata": {
    "id": "S8UcW6Hw_Zcu"
   },
   "source": [
    "Сохраните таблицы с данными в две переменные:\n",
    "* по Москве — в `moscow_general`;\n",
    "* по Санкт-Петербургу — в `spb_general`."
   ]
  },
  {
   "cell_type": "code",
   "execution_count": 28,
   "metadata": {
    "id": "qeaFfM_P_Zcu"
   },
   "outputs": [],
   "source": [
    "# получение таблицы moscow_general из тех строк таблицы df, \n",
    "# для которых значение в столбце 'city' равно 'Moscow'\n",
    "moscow_general = df[df['city'] =='Moscow']"
   ]
  },
  {
   "cell_type": "code",
   "execution_count": 29,
   "metadata": {
    "id": "ORaVRKto_Zcu"
   },
   "outputs": [],
   "source": [
    "# получение таблицы spb_general из тех строк таблицы df,\n",
    "# для которых значение в столбце 'city' равно 'Saint-Petersburg'\n",
    "spb_general = df[df['city'] =='Saint-Petersburg']"
   ]
  },
  {
   "cell_type": "markdown",
   "metadata": {
    "id": "MEJV-CX2_Zcu"
   },
   "source": [
    "Создайте функцию `genre_weekday()` с четырьмя параметрами:\n",
    "* таблица (датафрейм) с данными,\n",
    "* день недели,\n",
    "* начальная временная метка в формате 'hh:mm', \n",
    "* последняя временная метка в формате 'hh:mm'.\n",
    "\n",
    "Функция должна вернуть информацию о топ-10 жанров тех треков, которые прослушивали в указанный день, в промежутке между двумя отметками времени."
   ]
  },
  {
   "cell_type": "code",
   "execution_count": 30,
   "metadata": {
    "id": "laJT9BYl_Zcu"
   },
   "outputs": [],
   "source": [
    "# Объявление функции genre_weekday() с параметрами table, day, time1, time2,\n",
    "# которая возвращает информацию о самых популярных жанрах в указанный день в\n",
    "# заданное время:\n",
    "# 1) в переменную genre_df сохраняются те строки переданного датафрейма table, для\n",
    "#    которых одновременно:\n",
    "#    - значение в столбце day равно значению аргумента day\n",
    "#    - значение в столбце time больше значения аргумента time1\n",
    "#    - значение в столбце time меньше значения аргумента time2\n",
    "#    Используйте последовательную фильтрацию с помощью логической индексации.\n",
    "# 2) сгруппировать датафрейм genre_df по столбцу genre, взять один из его\n",
    "#    столбцов и посчитать методом count() количество записей для каждого из\n",
    "#    присутствующих жанров, получившийся Series записать в переменную\n",
    "#    genre_df_count\n",
    "# 3) отсортировать genre_df_count по убыванию встречаемости и сохранить\n",
    "#    в переменную genre_df_sorted\n",
    "# 4) вернуть Series из 10 первых значений genre_df_sorted, это будут топ-10\n",
    "#    популярных жанров (в указанный день, в заданное время)\n",
    "def genre_weekday(table, day, time1, time2):\n",
    "    #genre_df = table[table['day'] == day]           # последовательная фильтрация пошагово\n",
    "    #genre_df = genre_df[genre_df['time'] > time1]\n",
    "    #genre_df = genre_df[genre_df['time'] < time2]\n",
    "    genre_df = table[                                # та же последовательная фильтрация объединённым выражением\n",
    "    (table['day'] == day)      \n",
    "    &(table['time'] > time1)   \n",
    "    &(table['time'] < time2)   \n",
    "    ]\n",
    "    genre_df_count = genre_df.groupby('genre')['time'].count()\n",
    "    genre_df_sorted = genre_df_count.sort_values(ascending = False)\n",
    "    return genre_df_sorted.head(10)\n"
   ]
  },
  {
   "cell_type": "markdown",
   "metadata": {
    "id": "la2s2_PF_Zcu"
   },
   "source": [
    "Cравните результаты функции `genre_weekday()` для Москвы и Санкт-Петербурга в понедельник утром (с 7:00 до 11:00) и в пятницу вечером (с 17:00 до 23:00):"
   ]
  },
  {
   "cell_type": "code",
   "execution_count": 31,
   "metadata": {
    "id": "yz7itPUQ_Zcu"
   },
   "outputs": [
    {
     "data": {
      "text/plain": [
       "genre\n",
       "pop            781\n",
       "dance          549\n",
       "electronic     480\n",
       "rock           474\n",
       "hiphop         286\n",
       "ruspop         186\n",
       "world          181\n",
       "rusrap         175\n",
       "alternative    164\n",
       "unknown        161\n",
       "Name: time, dtype: int64"
      ]
     },
     "execution_count": 31,
     "metadata": {},
     "output_type": "execute_result"
    }
   ],
   "source": [
    "# вызов функции для утра понедельника в Москве (вместо df — таблица moscow_general)\n",
    "# объекты, хранящие время, являются строками и сравниваются как строки\n",
    "# пример вызова: genre_weekday(moscow_general, 'Monday', '07:00', '11:00')\n",
    "table = moscow_general #проиписывем значения каждой переменной, назовём их так же как параметры. Можно значения записать в \n",
    "day = 'Monday'         \n",
    "time1 = '07:00'\n",
    "time2 = '11:00'\n",
    "genre_weekday(table, day, time1, time2) # можно переменные не объявлять, а записать значения сразу в скобках в строке  print(genre_weekday(moscow_general, 'Monday', '07:00', '11:00'))"
   ]
  },
  {
   "cell_type": "code",
   "execution_count": 32,
   "metadata": {
    "id": "kwUcHPdy_Zcu"
   },
   "outputs": [
    {
     "data": {
      "text/plain": [
       "genre\n",
       "pop            218\n",
       "dance          182\n",
       "rock           162\n",
       "electronic     147\n",
       "hiphop          80\n",
       "ruspop          64\n",
       "alternative     58\n",
       "rusrap          55\n",
       "jazz            44\n",
       "classical       40\n",
       "Name: time, dtype: int64"
      ]
     },
     "execution_count": 32,
     "metadata": {},
     "output_type": "execute_result"
    }
   ],
   "source": [
    "# вызов функции для утра понедельника в Петербурге (вместо df — таблица spb_general)\n",
    "table = spb_general\n",
    "day = 'Monday'\n",
    "time1 = '07:00'\n",
    "time2 = '11:00'\n",
    "genre_weekday(table, day, time1, time2)"
   ]
  },
  {
   "cell_type": "code",
   "execution_count": 33,
   "metadata": {
    "id": "EzXVRE1o_Zcu"
   },
   "outputs": [
    {
     "data": {
      "text/plain": [
       "genre\n",
       "pop            713\n",
       "rock           517\n",
       "dance          495\n",
       "electronic     482\n",
       "hiphop         273\n",
       "world          208\n",
       "ruspop         170\n",
       "alternative    163\n",
       "classical      163\n",
       "rusrap         142\n",
       "Name: time, dtype: int64"
      ]
     },
     "execution_count": 33,
     "metadata": {},
     "output_type": "execute_result"
    }
   ],
   "source": [
    "# вызов функции для вечера пятницы в Москве  17:00 до 23:00\n",
    "table = moscow_general\n",
    "day = 'Friday'\n",
    "time1 = '17:00'\n",
    "time2 = '23:00'\n",
    "genre_weekday(table, day, time1, time2)"
   ]
  },
  {
   "cell_type": "code",
   "execution_count": 34,
   "metadata": {
    "id": "JZaEKu5v_Zcu"
   },
   "outputs": [
    {
     "data": {
      "text/plain": [
       "genre\n",
       "pop            256\n",
       "rock           216\n",
       "electronic     216\n",
       "dance          210\n",
       "hiphop          97\n",
       "alternative     63\n",
       "jazz            61\n",
       "classical       60\n",
       "rusrap          59\n",
       "world           54\n",
       "Name: time, dtype: int64"
      ]
     },
     "execution_count": 34,
     "metadata": {},
     "output_type": "execute_result"
    }
   ],
   "source": [
    "#вызов функции для вечера пятницы в Петербурге\n",
    "table = spb_general\n",
    "day = 'Friday'\n",
    "time1 = '17:00'\n",
    "time2 = '23:00'\n",
    "genre_weekday(table, day, time1, time2)"
   ]
  },
  {
   "cell_type": "markdown",
   "metadata": {
    "id": "wrCe4MNX_Zcu"
   },
   "source": [
    "**Выводы**\n",
    "\n",
    "Если сравнить топ-10 жанров в понедельник утром, можно сделать такие выводы:\n",
    "\n",
    "1. В Москве и Петербурге слушают похожую музыку. Единственное отличие — в московский рейтинг вошёл жанр “world”, а в петербургский — джаз и классика.\n",
    "\n",
    "2. В Москве пропущенных значений оказалось так много, что значение `'unknown'` заняло десятое место среди самых популярных жанров. Значит, пропущенные значения занимают существенную долю в данных и угрожают достоверности исследования.\n",
    "\n",
    "Вечер пятницы не меняет эту картину. Некоторые жанры поднимаются немного выше, другие спускаются, но в целом топ-10 остаётся тем же самым.\n",
    "\n",
    "Таким образом, вторая гипотеза подтвердилась лишь частично:\n",
    "* Пользователи слушают похожую музыку в начале недели и в конце.\n",
    "* Разница между Москвой и Петербургом не слишком выражена. В Москве чаще слушают русскую популярную музыку, в Петербурге — джаз.\n",
    "\n",
    "Однако пропуски в данных ставят под сомнение этот результат. В Москве их так много, что рейтинг топ-10 мог бы выглядеть иначе, если бы не утерянные  данные о жанрах."
   ]
  },
  {
   "cell_type": "markdown",
   "metadata": {
    "id": "JolODAqr_Zcu"
   },
   "source": [
    "###  Проверка гипотезы 3.Жанровые предпочтения в Москве и Петербурге\n",
    "\n",
    "Гипотеза: Петербург — столица рэпа, музыку этого жанра там слушают чаще, чем в Москве.  А Москва — город контрастов, в котором, тем не менее, преобладает поп-музыка."
   ]
  },
  {
   "cell_type": "markdown",
   "metadata": {
    "id": "DlegSvaT_Zcu"
   },
   "source": [
    "Сгруппируйте таблицу `moscow_general` по жанру и посчитайте прослушивания треков каждого жанра методом `count()`. Затем отсортируйте результат в порядке убывания и сохраните его в таблице `moscow_genres`."
   ]
  },
  {
   "cell_type": "code",
   "execution_count": 35,
   "metadata": {
    "id": "r19lIPke_Zcu"
   },
   "outputs": [],
   "source": [
    "# одной строкой: группировка таблицы moscow_general по столбцу 'genre', \n",
    "# подсчёт числа значений 'genre' в этой группировке методом count(), \n",
    "# сортировка получившегося Series в порядке убывания и сохранение в moscow_genres\n",
    "\n",
    "moscow_genres = moscow_general.groupby('genre')['genre'].count().sort_values(ascending = False)"
   ]
  },
  {
   "cell_type": "markdown",
   "metadata": {
    "id": "6kMuomxTiIr8"
   },
   "source": [
    "Выведите на экран первые десять строк `moscow_genres`:"
   ]
  },
  {
   "cell_type": "code",
   "execution_count": 36,
   "metadata": {
    "id": "WhCSooF8_Zcv"
   },
   "outputs": [
    {
     "data": {
      "text/plain": [
       "genre\n",
       "pop            5892\n",
       "dance          4435\n",
       "rock           3965\n",
       "electronic     3786\n",
       "hiphop         2096\n",
       "classical      1616\n",
       "world          1432\n",
       "alternative    1379\n",
       "ruspop         1372\n",
       "rusrap         1161\n",
       "Name: genre, dtype: int64"
      ]
     },
     "execution_count": 36,
     "metadata": {},
     "output_type": "execute_result"
    }
   ],
   "source": [
    "# просмотр первых 10 строк moscow_genres\n",
    "moscow_genres.head(10)"
   ]
  },
  {
   "cell_type": "markdown",
   "metadata": {
    "id": "cnPG2vnN_Zcv"
   },
   "source": [
    "Теперь повторите то же и для Петербурга.\n",
    "\n",
    "Сгруппируйте таблицу `spb_general` по жанру. Посчитайте прослушивания треков каждого жанра. Результат отсортируйте в порядке убывания и сохраните в таблице `spb_genres`:\n"
   ]
  },
  {
   "cell_type": "code",
   "execution_count": 37,
   "metadata": {
    "id": "gluLIpE7_Zcv"
   },
   "outputs": [],
   "source": [
    "# одной строкой: группировка таблицы spb_general по столбцу 'genre', \n",
    "# подсчёт числа значений 'genre' в этой группировке методом count(), \n",
    "# сортировка получившегося Series в порядке убывания и сохранение в spb_genres\n",
    "spb_genres = spb_general.groupby('genre')['genre'].count().sort_values(ascending = False)"
   ]
  },
  {
   "cell_type": "markdown",
   "metadata": {
    "id": "5Doha_ODgyQ8"
   },
   "source": [
    "Выведите на экран первые десять строк `spb_genres`:"
   ]
  },
  {
   "cell_type": "code",
   "execution_count": 38,
   "metadata": {
    "id": "uaGJHjVU_Zcv"
   },
   "outputs": [
    {
     "data": {
      "text/plain": [
       "genre\n",
       "pop            2431\n",
       "dance          1932\n",
       "rock           1879\n",
       "electronic     1736\n",
       "hiphop          960\n",
       "alternative     649\n",
       "classical       646\n",
       "rusrap          564\n",
       "ruspop          538\n",
       "world           515\n",
       "Name: genre, dtype: int64"
      ]
     },
     "execution_count": 38,
     "metadata": {},
     "output_type": "execute_result"
    }
   ],
   "source": [
    "# просмотр первых 10 строк spb_genres\n",
    "spb_genres.head(10)"
   ]
  },
  {
   "cell_type": "markdown",
   "metadata": {
    "id": "RY51YJYu_Zcv"
   },
   "source": [
    "**Выводы**"
   ]
  },
  {
   "cell_type": "markdown",
   "metadata": {
    "id": "nVhnJEm__Zcv"
   },
   "source": [
    "Гипотеза частично подтвердилась:\n",
    "* Поп-музыка — самый популярный жанр в Москве, как и предполагала гипотеза. Более того, в топ-10 жанров встречается близкий жанр — русская популярная музыка.\n",
    "* Вопреки ожиданиям, рэп одинаково популярен в Москве и Петербурге. \n"
   ]
  }
 ],
 "metadata": {
  "ExecuteTimeLog": [
   {
    "duration": 228,
    "start_time": "2022-01-15T08:47:11.842Z"
   },
   {
    "duration": 540,
    "start_time": "2022-01-15T08:47:45.815Z"
   },
   {
    "duration": 109,
    "start_time": "2022-01-15T08:47:49.383Z"
   },
   {
    "duration": 6,
    "start_time": "2022-01-15T08:47:52.028Z"
   },
   {
    "duration": 15,
    "start_time": "2022-01-15T08:48:08.216Z"
   },
   {
    "duration": 22,
    "start_time": "2022-01-15T08:48:45.608Z"
   },
   {
    "duration": 299,
    "start_time": "2022-01-15T09:30:25.846Z"
   },
   {
    "duration": 3,
    "start_time": "2022-01-15T09:31:20.319Z"
   },
   {
    "duration": 77,
    "start_time": "2022-01-15T09:41:24.564Z"
   },
   {
    "duration": 18,
    "start_time": "2022-01-15T09:41:56.477Z"
   },
   {
    "duration": 20,
    "start_time": "2022-01-15T09:42:00.409Z"
   },
   {
    "duration": 3,
    "start_time": "2022-01-15T09:42:02.800Z"
   },
   {
    "duration": 19,
    "start_time": "2022-01-15T09:47:20.548Z"
   },
   {
    "duration": 189,
    "start_time": "2022-01-15T10:00:11.182Z"
   },
   {
    "duration": 174,
    "start_time": "2022-01-15T10:01:07.142Z"
   },
   {
    "duration": 193,
    "start_time": "2022-01-15T10:33:24.302Z"
   },
   {
    "duration": 69,
    "start_time": "2022-01-15T10:35:35.158Z"
   },
   {
    "duration": 15,
    "start_time": "2022-01-15T10:35:42.326Z"
   },
   {
    "duration": 15,
    "start_time": "2022-01-15T10:35:46.181Z"
   },
   {
    "duration": 22,
    "start_time": "2022-01-15T10:40:25.082Z"
   },
   {
    "duration": 19,
    "start_time": "2022-01-15T10:40:50.954Z"
   },
   {
    "duration": 16,
    "start_time": "2022-01-15T10:42:08.515Z"
   },
   {
    "duration": 50,
    "start_time": "2022-01-15T10:59:32.769Z"
   },
   {
    "duration": 204,
    "start_time": "2022-01-15T11:15:02.795Z"
   },
   {
    "duration": 51,
    "start_time": "2022-01-15T11:15:46.717Z"
   },
   {
    "duration": 44,
    "start_time": "2022-01-15T11:29:48.543Z"
   },
   {
    "duration": 188,
    "start_time": "2022-01-15T11:50:36.051Z"
   },
   {
    "duration": 5,
    "start_time": "2022-01-15T11:50:43.378Z"
   },
   {
    "duration": 179,
    "start_time": "2022-01-15T11:52:44.424Z"
   },
   {
    "duration": 65,
    "start_time": "2022-01-15T11:52:58.743Z"
   },
   {
    "duration": 67,
    "start_time": "2022-01-15T11:53:12.312Z"
   },
   {
    "duration": 6,
    "start_time": "2022-01-15T11:55:41.090Z"
   },
   {
    "duration": 5,
    "start_time": "2022-01-15T11:55:53.771Z"
   },
   {
    "duration": 5,
    "start_time": "2022-01-15T11:56:36.076Z"
   },
   {
    "duration": 6,
    "start_time": "2022-01-15T11:57:22.139Z"
   },
   {
    "duration": 5,
    "start_time": "2022-01-15T11:59:23.325Z"
   },
   {
    "duration": 6,
    "start_time": "2022-01-15T11:59:44.013Z"
   },
   {
    "duration": 5,
    "start_time": "2022-01-15T11:59:46.669Z"
   },
   {
    "duration": 5,
    "start_time": "2022-01-15T12:00:09.277Z"
   },
   {
    "duration": 202,
    "start_time": "2022-01-15T12:02:42.519Z"
   },
   {
    "duration": 192,
    "start_time": "2022-01-15T12:03:09.082Z"
   },
   {
    "duration": 303,
    "start_time": "2022-01-15T12:04:10.161Z"
   },
   {
    "duration": 3,
    "start_time": "2022-01-15T12:05:37.561Z"
   },
   {
    "duration": 188,
    "start_time": "2022-01-15T12:08:15.979Z"
   },
   {
    "duration": 2,
    "start_time": "2022-01-15T12:09:10.700Z"
   },
   {
    "duration": 217,
    "start_time": "2022-01-15T12:11:58.550Z"
   },
   {
    "duration": 45,
    "start_time": "2022-01-15T12:12:12.398Z"
   },
   {
    "duration": 34,
    "start_time": "2022-01-15T12:14:02.855Z"
   },
   {
    "duration": 35,
    "start_time": "2022-01-15T12:14:16.088Z"
   },
   {
    "duration": 33,
    "start_time": "2022-01-15T12:14:45.744Z"
   },
   {
    "duration": 36,
    "start_time": "2022-01-15T12:20:52.548Z"
   },
   {
    "duration": 71,
    "start_time": "2022-01-15T12:21:23.533Z"
   },
   {
    "duration": 5,
    "start_time": "2022-01-16T02:54:37.868Z"
   },
   {
    "duration": 5,
    "start_time": "2022-01-16T02:54:45.795Z"
   },
   {
    "duration": 763,
    "start_time": "2022-01-16T03:02:07.360Z"
   },
   {
    "duration": 739,
    "start_time": "2022-01-16T03:04:49.571Z"
   },
   {
    "duration": 775,
    "start_time": "2022-01-16T03:06:55.231Z"
   },
   {
    "duration": 181,
    "start_time": "2022-01-16T03:06:58.392Z"
   },
   {
    "duration": 26,
    "start_time": "2022-01-16T03:07:01.540Z"
   },
   {
    "duration": 34,
    "start_time": "2022-01-16T03:07:06.729Z"
   },
   {
    "duration": 5,
    "start_time": "2022-01-16T03:07:12.032Z"
   },
   {
    "duration": 28,
    "start_time": "2022-01-16T03:07:16.687Z"
   },
   {
    "duration": 4,
    "start_time": "2022-01-16T03:07:18.746Z"
   },
   {
    "duration": 28,
    "start_time": "2022-01-16T03:07:23.720Z"
   },
   {
    "duration": 22,
    "start_time": "2022-01-16T03:07:27.464Z"
   },
   {
    "duration": 29,
    "start_time": "2022-01-16T03:07:29.663Z"
   },
   {
    "duration": 81,
    "start_time": "2022-01-16T03:07:33.504Z"
   },
   {
    "duration": 96,
    "start_time": "2022-01-16T03:07:36.256Z"
   },
   {
    "duration": 74,
    "start_time": "2022-01-16T03:07:38.264Z"
   },
   {
    "duration": 108,
    "start_time": "2022-01-16T03:07:43.768Z"
   },
   {
    "duration": 5,
    "start_time": "2022-01-16T03:07:52.040Z"
   },
   {
    "duration": 408,
    "start_time": "2022-01-16T03:07:56.833Z"
   },
   {
    "duration": 21,
    "start_time": "2022-01-16T03:08:02.929Z"
   },
   {
    "duration": 28,
    "start_time": "2022-01-16T03:08:06.109Z"
   },
   {
    "duration": 104,
    "start_time": "2022-01-16T03:10:22.195Z"
   },
   {
    "duration": 25,
    "start_time": "2022-01-16T03:33:39.888Z"
   },
   {
    "duration": 14,
    "start_time": "2022-01-16T03:37:20.530Z"
   },
   {
    "duration": 14,
    "start_time": "2022-01-16T03:37:21.982Z"
   },
   {
    "duration": 15,
    "start_time": "2022-01-16T03:37:51.467Z"
   },
   {
    "duration": 15,
    "start_time": "2022-01-16T03:41:40.725Z"
   },
   {
    "duration": 5,
    "start_time": "2022-01-16T04:19:22.961Z"
   },
   {
    "duration": 350,
    "start_time": "2022-01-16T04:26:37.782Z"
   },
   {
    "duration": 5,
    "start_time": "2022-01-16T04:27:19.912Z"
   },
   {
    "duration": 359,
    "start_time": "2022-01-16T04:27:23.386Z"
   },
   {
    "duration": 348,
    "start_time": "2022-01-16T04:27:45.299Z"
   },
   {
    "duration": 114,
    "start_time": "2022-01-16T04:29:24.517Z"
   },
   {
    "duration": 122,
    "start_time": "2022-01-16T04:29:36.234Z"
   },
   {
    "duration": 114,
    "start_time": "2022-01-16T04:32:28.766Z"
   },
   {
    "duration": 125,
    "start_time": "2022-01-16T04:33:34.064Z"
   },
   {
    "duration": 116,
    "start_time": "2022-01-16T04:34:56.424Z"
   },
   {
    "duration": 2063,
    "start_time": "2022-01-16T04:35:26.871Z"
   },
   {
    "duration": 608,
    "start_time": "2022-01-16T04:35:50.333Z"
   },
   {
    "duration": 4,
    "start_time": "2022-01-16T04:42:54.982Z"
   },
   {
    "duration": 130,
    "start_time": "2022-01-16T04:43:16.814Z"
   },
   {
    "duration": 401,
    "start_time": "2022-01-16T04:44:40.463Z"
   },
   {
    "duration": 360,
    "start_time": "2022-01-16T04:45:18.791Z"
   },
   {
    "duration": 350,
    "start_time": "2022-01-16T04:45:45.367Z"
   },
   {
    "duration": 361,
    "start_time": "2022-01-16T04:46:39.817Z"
   },
   {
    "duration": 5,
    "start_time": "2022-01-16T04:46:45.329Z"
   },
   {
    "duration": 343,
    "start_time": "2022-01-16T04:46:51.232Z"
   },
   {
    "duration": 375,
    "start_time": "2022-01-16T04:47:45.816Z"
   },
   {
    "duration": 365,
    "start_time": "2022-01-16T04:48:03.784Z"
   },
   {
    "duration": 4896,
    "start_time": "2022-01-16T04:48:28.632Z"
   },
   {
    "duration": 5306,
    "start_time": "2022-01-16T04:48:59.697Z"
   },
   {
    "duration": 5104,
    "start_time": "2022-01-16T04:49:27.290Z"
   },
   {
    "duration": 6657,
    "start_time": "2022-01-16T04:50:35.379Z"
   },
   {
    "duration": 4,
    "start_time": "2022-01-16T04:50:49.442Z"
   },
   {
    "duration": 4969,
    "start_time": "2022-01-16T04:52:30.828Z"
   },
   {
    "duration": 9,
    "start_time": "2022-01-16T04:52:50.271Z"
   },
   {
    "duration": 5604,
    "start_time": "2022-01-16T04:52:54.071Z"
   },
   {
    "duration": 5024,
    "start_time": "2022-01-16T05:00:17.721Z"
   },
   {
    "duration": 4870,
    "start_time": "2022-01-16T05:03:11.428Z"
   },
   {
    "duration": 5069,
    "start_time": "2022-01-16T05:11:15.826Z"
   },
   {
    "duration": 5193,
    "start_time": "2022-01-16T05:12:12.554Z"
   },
   {
    "duration": 25,
    "start_time": "2022-01-16T05:12:41.746Z"
   },
   {
    "duration": 5,
    "start_time": "2022-01-16T05:12:45.153Z"
   },
   {
    "duration": 578,
    "start_time": "2022-01-16T05:12:53.067Z"
   },
   {
    "duration": 5,
    "start_time": "2022-01-16T05:13:00.715Z"
   },
   {
    "duration": 21,
    "start_time": "2022-01-16T05:13:05.978Z"
   },
   {
    "duration": 5,
    "start_time": "2022-01-16T05:13:32.596Z"
   },
   {
    "duration": 4827,
    "start_time": "2022-01-16T05:13:35.770Z"
   },
   {
    "duration": 9,
    "start_time": "2022-01-16T05:13:50.211Z"
   },
   {
    "duration": 21,
    "start_time": "2022-01-16T05:13:55.835Z"
   },
   {
    "duration": 25,
    "start_time": "2022-01-16T05:14:40.083Z"
   },
   {
    "duration": 19,
    "start_time": "2022-01-16T05:15:20.012Z"
   },
   {
    "duration": 18,
    "start_time": "2022-01-16T05:15:36.709Z"
   },
   {
    "duration": 21,
    "start_time": "2022-01-16T05:16:06.780Z"
   },
   {
    "duration": 20,
    "start_time": "2022-01-16T05:16:33.532Z"
   },
   {
    "duration": 12,
    "start_time": "2022-01-16T05:28:41.195Z"
   },
   {
    "duration": 15,
    "start_time": "2022-01-16T05:37:31.400Z"
   },
   {
    "duration": 14,
    "start_time": "2022-01-16T05:37:56.228Z"
   },
   {
    "duration": 5,
    "start_time": "2022-01-16T05:54:17.309Z"
   },
   {
    "duration": 22,
    "start_time": "2022-01-16T06:01:08.225Z"
   },
   {
    "duration": 23,
    "start_time": "2022-01-16T06:02:46.566Z"
   },
   {
    "duration": 6,
    "start_time": "2022-01-16T06:07:18.017Z"
   },
   {
    "duration": 26,
    "start_time": "2022-01-16T06:07:20.745Z"
   },
   {
    "duration": 19,
    "start_time": "2022-01-16T06:08:10.017Z"
   },
   {
    "duration": 23,
    "start_time": "2022-01-16T06:09:10.834Z"
   },
   {
    "duration": 17,
    "start_time": "2022-01-16T06:09:15.682Z"
   },
   {
    "duration": 6,
    "start_time": "2022-01-16T06:10:06.356Z"
   },
   {
    "duration": 20,
    "start_time": "2022-01-16T06:10:09.259Z"
   },
   {
    "duration": 6,
    "start_time": "2022-01-16T06:10:19.020Z"
   },
   {
    "duration": 26,
    "start_time": "2022-01-16T06:10:21.266Z"
   },
   {
    "duration": 25,
    "start_time": "2022-01-16T06:11:39.379Z"
   },
   {
    "duration": 13,
    "start_time": "2022-01-16T06:16:47.837Z"
   },
   {
    "duration": 6,
    "start_time": "2022-01-16T06:17:13.823Z"
   },
   {
    "duration": 386,
    "start_time": "2022-01-16T06:18:31.633Z"
   },
   {
    "duration": 10,
    "start_time": "2022-01-16T06:18:38.585Z"
   },
   {
    "duration": 5,
    "start_time": "2022-01-16T06:18:41.649Z"
   },
   {
    "duration": 590,
    "start_time": "2022-01-18T18:23:59.635Z"
   },
   {
    "duration": 136,
    "start_time": "2022-01-18T18:24:00.227Z"
   },
   {
    "duration": 17,
    "start_time": "2022-01-18T18:24:00.365Z"
   },
   {
    "duration": 35,
    "start_time": "2022-01-18T18:24:00.384Z"
   },
   {
    "duration": 8,
    "start_time": "2022-01-18T18:24:00.421Z"
   },
   {
    "duration": 25,
    "start_time": "2022-01-18T18:24:00.431Z"
   },
   {
    "duration": 4,
    "start_time": "2022-01-18T18:24:00.457Z"
   },
   {
    "duration": 39,
    "start_time": "2022-01-18T18:24:00.463Z"
   },
   {
    "duration": 22,
    "start_time": "2022-01-18T18:24:00.505Z"
   },
   {
    "duration": 23,
    "start_time": "2022-01-18T18:24:00.529Z"
   },
   {
    "duration": 75,
    "start_time": "2022-01-18T18:24:00.554Z"
   },
   {
    "duration": 83,
    "start_time": "2022-01-18T18:24:00.630Z"
   },
   {
    "duration": 53,
    "start_time": "2022-01-18T18:24:00.715Z"
   },
   {
    "duration": 91,
    "start_time": "2022-01-18T18:24:00.770Z"
   },
   {
    "duration": 4,
    "start_time": "2022-01-18T18:24:00.863Z"
   },
   {
    "duration": 37,
    "start_time": "2022-01-18T18:24:00.869Z"
   },
   {
    "duration": 79,
    "start_time": "2022-01-18T18:24:00.908Z"
   },
   {
    "duration": 17,
    "start_time": "2022-01-18T18:24:00.989Z"
   },
   {
    "duration": 15,
    "start_time": "2022-01-18T18:24:01.008Z"
   },
   {
    "duration": 10,
    "start_time": "2022-01-18T18:24:01.025Z"
   },
   {
    "duration": 39,
    "start_time": "2022-01-18T18:24:01.037Z"
   },
   {
    "duration": 20,
    "start_time": "2022-01-18T18:24:01.078Z"
   },
   {
    "duration": 16,
    "start_time": "2022-01-18T18:24:01.100Z"
   },
   {
    "duration": 16,
    "start_time": "2022-01-18T18:24:01.118Z"
   },
   {
    "duration": 18,
    "start_time": "2022-01-18T18:24:01.137Z"
   },
   {
    "duration": 47,
    "start_time": "2022-01-18T18:24:01.156Z"
   },
   {
    "duration": 7,
    "start_time": "2022-01-18T18:24:01.206Z"
   },
   {
    "duration": 18,
    "start_time": "2022-01-18T18:24:01.215Z"
   },
   {
    "duration": 25,
    "start_time": "2022-01-18T18:24:01.235Z"
   },
   {
    "duration": 10,
    "start_time": "2022-01-18T18:24:01.262Z"
   },
   {
    "duration": 29,
    "start_time": "2022-01-18T18:24:01.274Z"
   },
   {
    "duration": 14,
    "start_time": "2022-01-18T18:24:01.305Z"
   },
   {
    "duration": 21,
    "start_time": "2022-01-18T18:24:01.321Z"
   },
   {
    "duration": 14,
    "start_time": "2022-01-18T18:24:01.344Z"
   },
   {
    "duration": 41,
    "start_time": "2022-01-18T18:24:01.360Z"
   },
   {
    "duration": 4,
    "start_time": "2022-01-18T18:24:01.402Z"
   },
   {
    "duration": 16,
    "start_time": "2022-01-18T18:24:01.408Z"
   },
   {
    "duration": 8,
    "start_time": "2022-01-18T18:24:01.426Z"
   },
   {
    "duration": 60,
    "start_time": "2022-01-19T10:59:37.892Z"
   },
   {
    "duration": 55,
    "start_time": "2022-01-19T10:59:39.699Z"
   },
   {
    "duration": 212,
    "start_time": "2022-01-19T11:13:31.707Z"
   },
   {
    "duration": 187,
    "start_time": "2022-01-19T11:14:00.107Z"
   },
   {
    "duration": 600,
    "start_time": "2022-01-19T11:14:03.571Z"
   },
   {
    "duration": 151,
    "start_time": "2022-01-19T11:14:06.343Z"
   },
   {
    "duration": 17,
    "start_time": "2022-01-19T11:14:10.224Z"
   },
   {
    "duration": 25,
    "start_time": "2022-01-19T11:14:17.043Z"
   },
   {
    "duration": 5,
    "start_time": "2022-01-19T11:14:28.051Z"
   },
   {
    "duration": 62,
    "start_time": "2022-01-19T11:16:16.292Z"
   },
   {
    "duration": 4,
    "start_time": "2022-01-19T11:16:43.470Z"
   },
   {
    "duration": 24,
    "start_time": "2022-01-19T11:18:37.231Z"
   },
   {
    "duration": 58,
    "start_time": "2022-01-19T11:18:43.207Z"
   },
   {
    "duration": 23,
    "start_time": "2022-01-19T11:21:34.545Z"
   },
   {
    "duration": 146,
    "start_time": "2022-01-19T11:24:10.509Z"
   },
   {
    "duration": 71,
    "start_time": "2022-01-19T11:24:33.772Z"
   },
   {
    "duration": 63,
    "start_time": "2022-01-19T11:25:34.093Z"
   },
   {
    "duration": 62,
    "start_time": "2022-01-19T11:31:42.866Z"
   },
   {
    "duration": 63,
    "start_time": "2022-01-19T11:31:55.949Z"
   },
   {
    "duration": 78,
    "start_time": "2022-01-19T11:32:12.418Z"
   },
   {
    "duration": 56,
    "start_time": "2022-01-19T11:32:14.938Z"
   },
   {
    "duration": 60,
    "start_time": "2022-01-19T11:32:23.091Z"
   },
   {
    "duration": 63,
    "start_time": "2022-01-19T11:33:28.436Z"
   },
   {
    "duration": 76,
    "start_time": "2022-01-19T11:33:47.554Z"
   },
   {
    "duration": 76,
    "start_time": "2022-01-19T11:35:11.059Z"
   },
   {
    "duration": 214,
    "start_time": "2022-01-19T11:36:33.363Z"
   },
   {
    "duration": 184,
    "start_time": "2022-01-19T11:36:49.319Z"
   },
   {
    "duration": 192,
    "start_time": "2022-01-19T11:37:06.507Z"
   },
   {
    "duration": 73,
    "start_time": "2022-01-19T11:37:19.596Z"
   },
   {
    "duration": 184,
    "start_time": "2022-01-19T11:37:34.691Z"
   },
   {
    "duration": 268,
    "start_time": "2022-01-19T11:38:06.866Z"
   },
   {
    "duration": 172,
    "start_time": "2022-01-19T11:38:37.627Z"
   },
   {
    "duration": 2,
    "start_time": "2022-01-19T11:39:00.259Z"
   },
   {
    "duration": 141,
    "start_time": "2022-01-19T11:39:03.715Z"
   },
   {
    "duration": 10,
    "start_time": "2022-01-19T11:39:07.880Z"
   },
   {
    "duration": 24,
    "start_time": "2022-01-19T11:39:10.779Z"
   },
   {
    "duration": 5,
    "start_time": "2022-01-19T11:39:15.003Z"
   },
   {
    "duration": 30,
    "start_time": "2022-01-19T11:39:21.491Z"
   },
   {
    "duration": 4,
    "start_time": "2022-01-19T11:39:23.651Z"
   },
   {
    "duration": 22,
    "start_time": "2022-01-19T11:39:26.643Z"
   },
   {
    "duration": 19,
    "start_time": "2022-01-19T11:39:31.211Z"
   },
   {
    "duration": 23,
    "start_time": "2022-01-19T11:39:33.115Z"
   },
   {
    "duration": 53,
    "start_time": "2022-01-19T11:39:37.292Z"
   },
   {
    "duration": 53,
    "start_time": "2022-01-19T11:39:39.147Z"
   },
   {
    "duration": 62,
    "start_time": "2022-01-19T11:39:41.756Z"
   },
   {
    "duration": 49,
    "start_time": "2022-01-19T11:39:43.660Z"
   },
   {
    "duration": 70,
    "start_time": "2022-01-19T11:39:46.379Z"
   },
   {
    "duration": 210,
    "start_time": "2022-01-19T11:39:53.836Z"
   },
   {
    "duration": 3,
    "start_time": "2022-01-19T11:40:25.044Z"
   },
   {
    "duration": 15,
    "start_time": "2022-01-19T11:40:27.907Z"
   },
   {
    "duration": 72,
    "start_time": "2022-01-19T11:40:31.085Z"
   },
   {
    "duration": 11,
    "start_time": "2022-01-19T11:40:40.917Z"
   },
   {
    "duration": 77,
    "start_time": "2022-01-19T11:40:43.588Z"
   },
   {
    "duration": 12,
    "start_time": "2022-01-19T11:41:08.020Z"
   },
   {
    "duration": 56,
    "start_time": "2022-01-19T11:41:41.188Z"
   },
   {
    "duration": 10,
    "start_time": "2022-01-19T11:41:58.213Z"
   },
   {
    "duration": 60,
    "start_time": "2022-01-19T11:44:09.398Z"
   },
   {
    "duration": 171,
    "start_time": "2022-01-19T11:45:34.486Z"
   },
   {
    "duration": 4,
    "start_time": "2022-01-19T11:45:38.783Z"
   },
   {
    "duration": 18,
    "start_time": "2022-01-19T11:45:42.151Z"
   },
   {
    "duration": 17,
    "start_time": "2022-01-19T11:45:44.374Z"
   },
   {
    "duration": 16,
    "start_time": "2022-01-19T11:45:46.494Z"
   },
   {
    "duration": 16,
    "start_time": "2022-01-19T11:45:48.446Z"
   },
   {
    "duration": 20,
    "start_time": "2022-01-19T11:45:51.110Z"
   },
   {
    "duration": 17,
    "start_time": "2022-01-19T11:45:53.310Z"
   },
   {
    "duration": 10,
    "start_time": "2022-01-19T11:50:17.425Z"
   },
   {
    "duration": 13,
    "start_time": "2022-01-19T11:50:43.537Z"
   },
   {
    "duration": 9,
    "start_time": "2022-01-19T11:50:45.833Z"
   },
   {
    "duration": 4,
    "start_time": "2022-01-19T11:50:48.986Z"
   },
   {
    "duration": 61,
    "start_time": "2022-01-19T11:51:57.457Z"
   },
   {
    "duration": 64,
    "start_time": "2022-01-19T11:52:20.332Z"
   },
   {
    "duration": 64,
    "start_time": "2022-01-19T11:54:23.427Z"
   },
   {
    "duration": 19,
    "start_time": "2022-01-19T11:54:56.101Z"
   },
   {
    "duration": 15,
    "start_time": "2022-01-19T11:55:04.995Z"
   },
   {
    "duration": 14,
    "start_time": "2022-01-19T11:56:06.132Z"
   },
   {
    "duration": 17,
    "start_time": "2022-01-19T11:56:41.933Z"
   },
   {
    "duration": 18,
    "start_time": "2022-01-19T11:56:52.465Z"
   },
   {
    "duration": 14,
    "start_time": "2022-01-19T11:57:05.909Z"
   },
   {
    "duration": 17,
    "start_time": "2022-01-19T11:58:05.270Z"
   },
   {
    "duration": 13,
    "start_time": "2022-01-19T11:58:36.093Z"
   },
   {
    "duration": 21,
    "start_time": "2022-01-19T12:00:23.535Z"
   },
   {
    "duration": 75,
    "start_time": "2022-01-19T12:00:25.991Z"
   },
   {
    "duration": 14,
    "start_time": "2022-01-19T12:00:30.831Z"
   },
   {
    "duration": 19,
    "start_time": "2022-01-19T12:00:34.759Z"
   },
   {
    "duration": 14,
    "start_time": "2022-01-19T12:00:37.775Z"
   },
   {
    "duration": 21,
    "start_time": "2022-01-19T12:01:53.016Z"
   },
   {
    "duration": 16,
    "start_time": "2022-01-19T12:02:00.008Z"
   },
   {
    "duration": 55,
    "start_time": "2022-01-19T12:02:21.879Z"
   },
   {
    "duration": 58,
    "start_time": "2022-01-19T12:06:16.266Z"
   },
   {
    "duration": 61,
    "start_time": "2022-01-19T12:09:36.558Z"
   },
   {
    "duration": 75,
    "start_time": "2022-01-19T12:10:50.512Z"
   },
   {
    "duration": 176,
    "start_time": "2022-01-19T12:10:58.655Z"
   },
   {
    "duration": 179,
    "start_time": "2022-01-19T12:11:06.344Z"
   },
   {
    "duration": 10,
    "start_time": "2022-01-19T12:11:10.655Z"
   },
   {
    "duration": 5,
    "start_time": "2022-01-19T12:11:13.039Z"
   },
   {
    "duration": 7,
    "start_time": "2022-01-19T12:11:19.455Z"
   },
   {
    "duration": 5,
    "start_time": "2022-01-19T12:11:21.487Z"
   },
   {
    "duration": 3,
    "start_time": "2022-01-19T12:17:33.201Z"
   },
   {
    "duration": 178,
    "start_time": "2022-01-19T12:17:33.207Z"
   },
   {
    "duration": 15,
    "start_time": "2022-01-19T12:17:33.387Z"
   },
   {
    "duration": 67,
    "start_time": "2022-01-19T12:17:33.404Z"
   },
   {
    "duration": 31,
    "start_time": "2022-01-19T12:17:33.474Z"
   },
   {
    "duration": 48,
    "start_time": "2022-01-19T12:17:33.507Z"
   },
   {
    "duration": 12,
    "start_time": "2022-01-19T12:17:33.557Z"
   },
   {
    "duration": 55,
    "start_time": "2022-01-19T12:17:33.571Z"
   },
   {
    "duration": 37,
    "start_time": "2022-01-19T12:17:33.629Z"
   },
   {
    "duration": 47,
    "start_time": "2022-01-19T12:17:33.668Z"
   },
   {
    "duration": 74,
    "start_time": "2022-01-19T12:17:33.716Z"
   },
   {
    "duration": 61,
    "start_time": "2022-01-19T12:17:33.791Z"
   },
   {
    "duration": 59,
    "start_time": "2022-01-19T12:17:33.853Z"
   },
   {
    "duration": 85,
    "start_time": "2022-01-19T12:17:33.913Z"
   },
   {
    "duration": 3,
    "start_time": "2022-01-19T12:17:34.000Z"
   },
   {
    "duration": 63,
    "start_time": "2022-01-19T12:17:34.005Z"
   },
   {
    "duration": 83,
    "start_time": "2022-01-19T12:17:34.070Z"
   },
   {
    "duration": 10,
    "start_time": "2022-01-19T12:17:34.155Z"
   },
   {
    "duration": 18,
    "start_time": "2022-01-19T12:17:34.167Z"
   },
   {
    "duration": 21,
    "start_time": "2022-01-19T12:17:34.187Z"
   },
   {
    "duration": 61,
    "start_time": "2022-01-19T12:17:34.210Z"
   },
   {
    "duration": 34,
    "start_time": "2022-01-19T12:17:34.273Z"
   },
   {
    "duration": 52,
    "start_time": "2022-01-19T12:17:34.308Z"
   },
   {
    "duration": 26,
    "start_time": "2022-01-19T12:17:34.363Z"
   },
   {
    "duration": 26,
    "start_time": "2022-01-19T12:17:34.391Z"
   },
   {
    "duration": 28,
    "start_time": "2022-01-19T12:17:34.419Z"
   },
   {
    "duration": 19,
    "start_time": "2022-01-19T12:17:34.449Z"
   },
   {
    "duration": 32,
    "start_time": "2022-01-19T12:17:34.469Z"
   },
   {
    "duration": 18,
    "start_time": "2022-01-19T12:17:34.503Z"
   },
   {
    "duration": 24,
    "start_time": "2022-01-19T12:17:34.522Z"
   },
   {
    "duration": 50,
    "start_time": "2022-01-19T12:17:34.548Z"
   },
   {
    "duration": 36,
    "start_time": "2022-01-19T12:17:34.600Z"
   },
   {
    "duration": 43,
    "start_time": "2022-01-19T12:17:34.638Z"
   },
   {
    "duration": 29,
    "start_time": "2022-01-19T12:17:34.683Z"
   },
   {
    "duration": 46,
    "start_time": "2022-01-19T12:17:34.714Z"
   },
   {
    "duration": 44,
    "start_time": "2022-01-19T12:17:34.762Z"
   },
   {
    "duration": 38,
    "start_time": "2022-01-19T12:17:34.808Z"
   },
   {
    "duration": 28,
    "start_time": "2022-01-19T12:17:34.848Z"
   },
   {
    "duration": 3,
    "start_time": "2022-01-19T12:21:28.684Z"
   },
   {
    "duration": 164,
    "start_time": "2022-01-19T12:21:28.691Z"
   },
   {
    "duration": 11,
    "start_time": "2022-01-19T12:21:28.857Z"
   },
   {
    "duration": 48,
    "start_time": "2022-01-19T12:21:28.871Z"
   },
   {
    "duration": 8,
    "start_time": "2022-01-19T12:21:28.921Z"
   },
   {
    "duration": 25,
    "start_time": "2022-01-19T12:21:28.931Z"
   },
   {
    "duration": 4,
    "start_time": "2022-01-19T12:21:28.958Z"
   },
   {
    "duration": 48,
    "start_time": "2022-01-19T12:21:28.963Z"
   },
   {
    "duration": 25,
    "start_time": "2022-01-19T12:21:29.014Z"
   },
   {
    "duration": 24,
    "start_time": "2022-01-19T12:21:29.042Z"
   },
   {
    "duration": 70,
    "start_time": "2022-01-19T12:21:29.068Z"
   },
   {
    "duration": 76,
    "start_time": "2022-01-19T12:21:29.139Z"
   },
   {
    "duration": 56,
    "start_time": "2022-01-19T12:21:29.216Z"
   },
   {
    "duration": 89,
    "start_time": "2022-01-19T12:21:29.273Z"
   },
   {
    "duration": 3,
    "start_time": "2022-01-19T12:21:29.363Z"
   },
   {
    "duration": 31,
    "start_time": "2022-01-19T12:21:29.368Z"
   },
   {
    "duration": 72,
    "start_time": "2022-01-19T12:21:29.401Z"
   },
   {
    "duration": 23,
    "start_time": "2022-01-19T12:21:29.475Z"
   },
   {
    "duration": 11,
    "start_time": "2022-01-19T12:21:29.499Z"
   },
   {
    "duration": 4,
    "start_time": "2022-01-19T12:21:29.512Z"
   },
   {
    "duration": 25,
    "start_time": "2022-01-19T12:21:29.517Z"
   },
   {
    "duration": 15,
    "start_time": "2022-01-19T12:21:29.544Z"
   },
   {
    "duration": 44,
    "start_time": "2022-01-19T12:21:29.560Z"
   },
   {
    "duration": 14,
    "start_time": "2022-01-19T12:21:29.608Z"
   },
   {
    "duration": 50,
    "start_time": "2022-01-19T12:21:29.624Z"
   },
   {
    "duration": 15,
    "start_time": "2022-01-19T12:21:29.676Z"
   },
   {
    "duration": 12,
    "start_time": "2022-01-19T12:21:29.693Z"
   },
   {
    "duration": 27,
    "start_time": "2022-01-19T12:21:29.707Z"
   },
   {
    "duration": 12,
    "start_time": "2022-01-19T12:21:29.736Z"
   },
   {
    "duration": 18,
    "start_time": "2022-01-19T12:21:29.750Z"
   },
   {
    "duration": 31,
    "start_time": "2022-01-19T12:21:29.770Z"
   },
   {
    "duration": 20,
    "start_time": "2022-01-19T12:21:29.802Z"
   },
   {
    "duration": 24,
    "start_time": "2022-01-19T12:21:29.824Z"
   },
   {
    "duration": 13,
    "start_time": "2022-01-19T12:21:29.850Z"
   },
   {
    "duration": 19,
    "start_time": "2022-01-19T12:21:29.864Z"
   },
   {
    "duration": 16,
    "start_time": "2022-01-19T12:21:29.885Z"
   },
   {
    "duration": 15,
    "start_time": "2022-01-19T12:21:29.903Z"
   },
   {
    "duration": 12,
    "start_time": "2022-01-19T12:21:29.920Z"
   },
   {
    "duration": 598,
    "start_time": "2022-01-20T11:24:00.084Z"
   },
   {
    "duration": 142,
    "start_time": "2022-01-20T11:24:00.684Z"
   },
   {
    "duration": 16,
    "start_time": "2022-01-20T11:24:00.829Z"
   },
   {
    "duration": 121,
    "start_time": "2022-01-20T11:24:00.846Z"
   },
   {
    "duration": 51,
    "start_time": "2022-01-20T11:24:00.969Z"
   },
   {
    "duration": 53,
    "start_time": "2022-01-20T11:24:01.022Z"
   },
   {
    "duration": 46,
    "start_time": "2022-01-20T11:24:01.077Z"
   },
   {
    "duration": 44,
    "start_time": "2022-01-20T11:24:01.125Z"
   },
   {
    "duration": 43,
    "start_time": "2022-01-20T11:24:01.171Z"
   },
   {
    "duration": 34,
    "start_time": "2022-01-20T11:24:01.216Z"
   },
   {
    "duration": 79,
    "start_time": "2022-01-20T11:24:01.252Z"
   },
   {
    "duration": 74,
    "start_time": "2022-01-20T11:24:01.333Z"
   },
   {
    "duration": 60,
    "start_time": "2022-01-20T11:24:01.409Z"
   },
   {
    "duration": 89,
    "start_time": "2022-01-20T11:24:01.471Z"
   },
   {
    "duration": 3,
    "start_time": "2022-01-20T11:24:01.562Z"
   },
   {
    "duration": 22,
    "start_time": "2022-01-20T11:24:01.567Z"
   },
   {
    "duration": 89,
    "start_time": "2022-01-20T11:24:01.591Z"
   },
   {
    "duration": 11,
    "start_time": "2022-01-20T11:24:01.682Z"
   },
   {
    "duration": 10,
    "start_time": "2022-01-20T11:24:01.695Z"
   },
   {
    "duration": 4,
    "start_time": "2022-01-20T11:24:01.707Z"
   },
   {
    "duration": 23,
    "start_time": "2022-01-20T11:24:01.712Z"
   },
   {
    "duration": 36,
    "start_time": "2022-01-20T11:24:01.737Z"
   },
   {
    "duration": 16,
    "start_time": "2022-01-20T11:24:01.777Z"
   },
   {
    "duration": 15,
    "start_time": "2022-01-20T11:24:01.795Z"
   },
   {
    "duration": 50,
    "start_time": "2022-01-20T11:24:01.812Z"
   },
   {
    "duration": 17,
    "start_time": "2022-01-20T11:24:01.864Z"
   },
   {
    "duration": 9,
    "start_time": "2022-01-20T11:24:01.882Z"
   },
   {
    "duration": 16,
    "start_time": "2022-01-20T11:24:01.893Z"
   },
   {
    "duration": 9,
    "start_time": "2022-01-20T11:24:01.911Z"
   },
   {
    "duration": 4,
    "start_time": "2022-01-20T11:24:01.922Z"
   },
   {
    "duration": 48,
    "start_time": "2022-01-20T11:24:01.928Z"
   },
   {
    "duration": 13,
    "start_time": "2022-01-20T11:24:01.978Z"
   },
   {
    "duration": 19,
    "start_time": "2022-01-20T11:24:01.993Z"
   },
   {
    "duration": 14,
    "start_time": "2022-01-20T11:24:02.014Z"
   },
   {
    "duration": 38,
    "start_time": "2022-01-20T11:24:02.030Z"
   },
   {
    "duration": 6,
    "start_time": "2022-01-20T11:24:02.070Z"
   },
   {
    "duration": 14,
    "start_time": "2022-01-20T11:24:02.078Z"
   },
   {
    "duration": 6,
    "start_time": "2022-01-20T11:24:02.094Z"
   }
  ],
  "colab": {
   "collapsed_sections": [
    "E0vqbgi9ay0H",
    "VUC88oWjTJw2"
   ],
   "name": "yandex_music_project_2021.2.ipynb",
   "provenance": []
  },
  "kernelspec": {
   "display_name": "Python 3 (ipykernel)",
   "language": "python",
   "name": "python3"
  },
  "language_info": {
   "codemirror_mode": {
    "name": "ipython",
    "version": 3
   },
   "file_extension": ".py",
   "mimetype": "text/x-python",
   "name": "python",
   "nbconvert_exporter": "python",
   "pygments_lexer": "ipython3",
   "version": "3.9.7"
  },
  "toc": {
   "base_numbering": 1,
   "nav_menu": {},
   "number_sections": true,
   "sideBar": true,
   "skip_h1_title": true,
   "title_cell": "Table of Contents",
   "title_sidebar": "Contents",
   "toc_cell": false,
   "toc_position": {
    "height": "calc(100% - 180px)",
    "left": "10px",
    "top": "150px",
    "width": "206px"
   },
   "toc_section_display": true,
   "toc_window_display": true
  }
 },
 "nbformat": 4,
 "nbformat_minor": 1
}
