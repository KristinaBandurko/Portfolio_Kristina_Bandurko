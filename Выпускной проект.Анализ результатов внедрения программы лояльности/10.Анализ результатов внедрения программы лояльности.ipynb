{
 "cells": [
  {
   "cell_type": "markdown",
   "metadata": {},
   "source": [
    "# Дипломный проект: \"Анализ результатов внедрения программы лояльности\""
   ]
  },
  {
   "cell_type": "markdown",
   "metadata": {},
   "source": [
    "## Материалы:"
   ]
  },
  {
   "cell_type": "markdown",
   "metadata": {},
   "source": [
    "**Ссылка на дашборд:** \n",
    "https://public.tableau.com/app/profile/karin.vink/viz/Final_project_16721149442770/Dashboard1?publish=yes"
   ]
  },
  {
   "cell_type": "markdown",
   "metadata": {},
   "source": [
    "**Ссылка на презентацию:** https://cloud.mail.ru/public/oPgC/oQA5eq8mc"
   ]
  },
  {
   "cell_type": "markdown",
   "metadata": {},
   "source": [
    "### Описание проекта"
   ]
  },
  {
   "cell_type": "markdown",
   "metadata": {},
   "source": [
    "**Заказчик:** менеджер проекта, отвечающий за программу лояльности\n",
    "\n",
    "**Входные данные:** датасет содержит данные о покупках в магазине строительных материалов «Строили, строили и наконец построили» за период декабря 2016 - февраль 2017гг.\n",
    "\n",
    "**Цель исследования:**  оценить результаты внедрения и понять насколько сработала программа лояльности (проверить, повышаются ли основные показатели у клиентов, использующих программу) для дальнейшего принятия менеджером решения об её использовании.\n"
   ]
  },
  {
   "cell_type": "markdown",
   "metadata": {},
   "source": [
    "###  Загрузка данных и подготовка к исследованию"
   ]
  },
  {
   "cell_type": "markdown",
   "metadata": {},
   "source": [
    "Импортируем необходимые библиотеки:"
   ]
  },
  {
   "cell_type": "code",
   "execution_count": 99,
   "metadata": {},
   "outputs": [],
   "source": [
    "import pandas as pd\n",
    "import seaborn as sns\n",
    "import matplotlib.pyplot as plt\n",
    "%matplotlib inline\n",
    "from plotly import graph_objects as go #для построения круговой диаграммы\n",
    "import scipy.stats as stats # для проверки стат. гипотез"
   ]
  },
  {
   "cell_type": "code",
   "execution_count": 100,
   "metadata": {},
   "outputs": [],
   "source": [
    "data = pd.read_csv('retail_dataset.csv')"
   ]
  },
  {
   "cell_type": "markdown",
   "metadata": {},
   "source": [
    "**Информация о датасете data:**\n",
    "\n",
    "* purchaseId — id чека;\n",
    "* item_ID — id товара;\n",
    "* purchasedate — дата покупки;\n",
    "* Quantity — количество товара;\n",
    "* CustomerID — id покупателя;\n",
    "* ShopID — id магазина;\n",
    "* loyalty_program — участвует ли покупатель в программе лояльности\n"
   ]
  },
  {
   "cell_type": "code",
   "execution_count": 101,
   "metadata": {},
   "outputs": [
    {
     "data": {
      "text/html": [
       "<div>\n",
       "<style scoped>\n",
       "    .dataframe tbody tr th:only-of-type {\n",
       "        vertical-align: middle;\n",
       "    }\n",
       "\n",
       "    .dataframe tbody tr th {\n",
       "        vertical-align: top;\n",
       "    }\n",
       "\n",
       "    .dataframe thead th {\n",
       "        text-align: right;\n",
       "    }\n",
       "</style>\n",
       "<table border=\"1\" class=\"dataframe\">\n",
       "  <thead>\n",
       "    <tr style=\"text-align: right;\">\n",
       "      <th></th>\n",
       "      <th>purchaseid</th>\n",
       "      <th>item_ID</th>\n",
       "      <th>Quantity</th>\n",
       "      <th>purchasedate</th>\n",
       "      <th>CustomerID</th>\n",
       "      <th>ShopID</th>\n",
       "      <th>loyalty_program</th>\n",
       "    </tr>\n",
       "  </thead>\n",
       "  <tbody>\n",
       "    <tr>\n",
       "      <th>0</th>\n",
       "      <td>538280</td>\n",
       "      <td>21873</td>\n",
       "      <td>11</td>\n",
       "      <td>2016-12-10 12:50:00</td>\n",
       "      <td>18427.0</td>\n",
       "      <td>Shop 0</td>\n",
       "      <td>0.0</td>\n",
       "    </tr>\n",
       "    <tr>\n",
       "      <th>1</th>\n",
       "      <td>538862</td>\n",
       "      <td>22195</td>\n",
       "      <td>0</td>\n",
       "      <td>2016-12-14 14:11:00</td>\n",
       "      <td>22389.0</td>\n",
       "      <td>Shop 0</td>\n",
       "      <td>1.0</td>\n",
       "    </tr>\n",
       "    <tr>\n",
       "      <th>2</th>\n",
       "      <td>538855</td>\n",
       "      <td>21239</td>\n",
       "      <td>7</td>\n",
       "      <td>2016-12-14 13:50:00</td>\n",
       "      <td>22182.0</td>\n",
       "      <td>Shop 0</td>\n",
       "      <td>1.0</td>\n",
       "    </tr>\n",
       "    <tr>\n",
       "      <th>3</th>\n",
       "      <td>543543</td>\n",
       "      <td>22271</td>\n",
       "      <td>0</td>\n",
       "      <td>2017-02-09 15:33:00</td>\n",
       "      <td>23522.0</td>\n",
       "      <td>Shop 0</td>\n",
       "      <td>1.0</td>\n",
       "    </tr>\n",
       "    <tr>\n",
       "      <th>4</th>\n",
       "      <td>543812</td>\n",
       "      <td>79321</td>\n",
       "      <td>0</td>\n",
       "      <td>2017-02-13 14:40:00</td>\n",
       "      <td>23151.0</td>\n",
       "      <td>Shop 0</td>\n",
       "      <td>1.0</td>\n",
       "    </tr>\n",
       "  </tbody>\n",
       "</table>\n",
       "</div>"
      ],
      "text/plain": [
       "  purchaseid item_ID  Quantity         purchasedate  CustomerID  ShopID  \\\n",
       "0     538280   21873        11  2016-12-10 12:50:00     18427.0  Shop 0   \n",
       "1     538862   22195         0  2016-12-14 14:11:00     22389.0  Shop 0   \n",
       "2     538855   21239         7  2016-12-14 13:50:00     22182.0  Shop 0   \n",
       "3     543543   22271         0  2017-02-09 15:33:00     23522.0  Shop 0   \n",
       "4     543812   79321         0  2017-02-13 14:40:00     23151.0  Shop 0   \n",
       "\n",
       "   loyalty_program  \n",
       "0              0.0  \n",
       "1              1.0  \n",
       "2              1.0  \n",
       "3              1.0  \n",
       "4              1.0  "
      ]
     },
     "execution_count": 101,
     "metadata": {},
     "output_type": "execute_result"
    }
   ],
   "source": [
    "data.head()"
   ]
  },
  {
   "cell_type": "markdown",
   "metadata": {},
   "source": [
    "**Проверим корректность наименований колонок в датасете data и выполним переименования:**"
   ]
  },
  {
   "cell_type": "code",
   "execution_count": 102,
   "metadata": {},
   "outputs": [],
   "source": [
    "data = data.rename(columns={'purchaseid':'purchase_ID', 'purchasedate':'purchase_date','Quantity':'quantity', 'CustomerID':'customer_ID', 'ShopID':'shop_ID'})"
   ]
  },
  {
   "cell_type": "code",
   "execution_count": 103,
   "metadata": {},
   "outputs": [
    {
     "name": "stdout",
     "output_type": "stream",
     "text": [
      "<class 'pandas.core.frame.DataFrame'>\n",
      "RangeIndex: 105335 entries, 0 to 105334\n",
      "Data columns (total 7 columns):\n",
      " #   Column           Non-Null Count   Dtype  \n",
      "---  ------           --------------   -----  \n",
      " 0   purchase_ID      105335 non-null  object \n",
      " 1   item_ID          105335 non-null  object \n",
      " 2   quantity         105335 non-null  int64  \n",
      " 3   purchase_date    105335 non-null  object \n",
      " 4   customer_ID      69125 non-null   float64\n",
      " 5   shop_ID          105335 non-null  object \n",
      " 6   loyalty_program  105335 non-null  float64\n",
      "dtypes: float64(2), int64(1), object(4)\n",
      "memory usage: 5.6+ MB\n"
     ]
    }
   ],
   "source": [
    "data.info()"
   ]
  },
  {
   "cell_type": "code",
   "execution_count": 104,
   "metadata": {},
   "outputs": [],
   "source": [
    "df = pd.read_csv('product_codes.csv')"
   ]
  },
  {
   "cell_type": "markdown",
   "metadata": {},
   "source": [
    "**Информация о датасете df:**\n",
    "\n",
    "* productID — id товара;\n",
    "* price_per_one — стоимость одной единицы товара;"
   ]
  },
  {
   "cell_type": "code",
   "execution_count": 105,
   "metadata": {},
   "outputs": [
    {
     "data": {
      "text/html": [
       "<div>\n",
       "<style scoped>\n",
       "    .dataframe tbody tr th:only-of-type {\n",
       "        vertical-align: middle;\n",
       "    }\n",
       "\n",
       "    .dataframe tbody tr th {\n",
       "        vertical-align: top;\n",
       "    }\n",
       "\n",
       "    .dataframe thead th {\n",
       "        text-align: right;\n",
       "    }\n",
       "</style>\n",
       "<table border=\"1\" class=\"dataframe\">\n",
       "  <thead>\n",
       "    <tr style=\"text-align: right;\">\n",
       "      <th></th>\n",
       "      <th>productID</th>\n",
       "      <th>price_per_one</th>\n",
       "    </tr>\n",
       "  </thead>\n",
       "  <tbody>\n",
       "    <tr>\n",
       "      <th>0</th>\n",
       "      <td>85123A</td>\n",
       "      <td>2.55</td>\n",
       "    </tr>\n",
       "    <tr>\n",
       "      <th>1</th>\n",
       "      <td>71053</td>\n",
       "      <td>3.39</td>\n",
       "    </tr>\n",
       "    <tr>\n",
       "      <th>2</th>\n",
       "      <td>84406B</td>\n",
       "      <td>2.75</td>\n",
       "    </tr>\n",
       "  </tbody>\n",
       "</table>\n",
       "</div>"
      ],
      "text/plain": [
       "  productID  price_per_one\n",
       "0    85123A           2.55\n",
       "1     71053           3.39\n",
       "2    84406B           2.75"
      ]
     },
     "execution_count": 105,
     "metadata": {},
     "output_type": "execute_result"
    }
   ],
   "source": [
    "df.head(3)"
   ]
  },
  {
   "cell_type": "markdown",
   "metadata": {},
   "source": [
    "**Проверим корректность наименований колонок в датасете df и выполним переименования:**"
   ]
  },
  {
   "cell_type": "code",
   "execution_count": 106,
   "metadata": {},
   "outputs": [],
   "source": [
    "df = df.rename(columns={'productID':'item_ID'}) "
   ]
  },
  {
   "cell_type": "code",
   "execution_count": 107,
   "metadata": {},
   "outputs": [
    {
     "name": "stdout",
     "output_type": "stream",
     "text": [
      "<class 'pandas.core.frame.DataFrame'>\n",
      "RangeIndex: 9969 entries, 0 to 9968\n",
      "Data columns (total 2 columns):\n",
      " #   Column         Non-Null Count  Dtype  \n",
      "---  ------         --------------  -----  \n",
      " 0   item_ID        9969 non-null   object \n",
      " 1   price_per_one  9969 non-null   float64\n",
      "dtypes: float64(1), object(1)\n",
      "memory usage: 155.9+ KB\n"
     ]
    }
   ],
   "source": [
    "df.info()"
   ]
  },
  {
   "cell_type": "markdown",
   "metadata": {},
   "source": [
    "**Исследуем пропущенные значения:**"
   ]
  },
  {
   "cell_type": "code",
   "execution_count": 108,
   "metadata": {},
   "outputs": [
    {
     "name": "stdout",
     "output_type": "stream",
     "text": [
      "<class 'pandas.core.frame.DataFrame'>\n",
      "RangeIndex: 9969 entries, 0 to 9968\n",
      "Data columns (total 2 columns):\n",
      " #   Column         Non-Null Count  Dtype  \n",
      "---  ------         --------------  -----  \n",
      " 0   item_ID        9969 non-null   object \n",
      " 1   price_per_one  9969 non-null   float64\n",
      "dtypes: float64(1), object(1)\n",
      "memory usage: 155.9+ KB\n"
     ]
    }
   ],
   "source": [
    "df.info()"
   ]
  },
  {
   "cell_type": "code",
   "execution_count": 109,
   "metadata": {},
   "outputs": [
    {
     "data": {
      "text/plain": [
       "purchase_ID            0\n",
       "item_ID                0\n",
       "quantity               0\n",
       "purchase_date          0\n",
       "customer_ID        36210\n",
       "shop_ID                0\n",
       "loyalty_program        0\n",
       "dtype: int64"
      ]
     },
     "execution_count": 109,
     "metadata": {},
     "output_type": "execute_result"
    }
   ],
   "source": [
    "data.isna().sum()"
   ]
  },
  {
   "cell_type": "markdown",
   "metadata": {},
   "source": [
    "Посмотрим долю пропусков в % от всех данных в столбце customer_ID:"
   ]
  },
  {
   "cell_type": "code",
   "execution_count": 110,
   "metadata": {},
   "outputs": [
    {
     "data": {
      "text/plain": [
       "purchase_ID         0.0\n",
       "item_ID             0.0\n",
       "quantity            0.0\n",
       "purchase_date       0.0\n",
       "customer_ID        34.4\n",
       "shop_ID             0.0\n",
       "loyalty_program     0.0\n",
       "dtype: float64"
      ]
     },
     "execution_count": 110,
     "metadata": {},
     "output_type": "execute_result"
    }
   ],
   "source": [
    "propusk = round(data.isna().mean()*100,1)\n",
    "propusk"
   ]
  },
  {
   "cell_type": "markdown",
   "metadata": {},
   "source": [
    "Т.к. пропуски в столбце customer_ID занимают значительную долю (34,4%) то их удаление негативно полвияет на точность результатов исследования, поэтому в данном случае обработаем пропуски заменив их на нулевые значения."
   ]
  },
  {
   "cell_type": "code",
   "execution_count": 111,
   "metadata": {},
   "outputs": [
    {
     "name": "stdout",
     "output_type": "stream",
     "text": [
      "<class 'pandas.core.frame.DataFrame'>\n",
      "RangeIndex: 105335 entries, 0 to 105334\n",
      "Data columns (total 7 columns):\n",
      " #   Column           Non-Null Count   Dtype  \n",
      "---  ------           --------------   -----  \n",
      " 0   purchase_ID      105335 non-null  object \n",
      " 1   item_ID          105335 non-null  object \n",
      " 2   quantity         105335 non-null  int64  \n",
      " 3   purchase_date    105335 non-null  object \n",
      " 4   customer_ID      105335 non-null  float64\n",
      " 5   shop_ID          105335 non-null  object \n",
      " 6   loyalty_program  105335 non-null  float64\n",
      "dtypes: float64(2), int64(1), object(4)\n",
      "memory usage: 5.6+ MB\n"
     ]
    }
   ],
   "source": [
    "data['customer_ID'] = data['customer_ID'].fillna(value=0)\n",
    "data.info() "
   ]
  },
  {
   "cell_type": "markdown",
   "metadata": {},
   "source": [
    "Также вызывает вопрос случаи, когда в поле 'quantity' значение = 0, т.е. в данном чеке кол-во данного товара = 0. Тогда почему этот товар присутсвует в чеке? "
   ]
  },
  {
   "cell_type": "code",
   "execution_count": 112,
   "metadata": {},
   "outputs": [
    {
     "data": {
      "text/plain": [
       "33055"
      ]
     },
     "execution_count": 112,
     "metadata": {},
     "output_type": "execute_result"
    }
   ],
   "source": [
    "len(data[data['quantity']==0])"
   ]
  },
  {
   "cell_type": "markdown",
   "metadata": {},
   "source": [
    "Проверим, есть ли отрицательные значения в поле 'quantity':"
   ]
  },
  {
   "cell_type": "code",
   "execution_count": 113,
   "metadata": {},
   "outputs": [
    {
     "data": {
      "text/plain": [
       "2118"
      ]
     },
     "execution_count": 113,
     "metadata": {},
     "output_type": "execute_result"
    }
   ],
   "source": [
    "len(data[data['quantity'] < 0])"
   ]
  },
  {
   "cell_type": "code",
   "execution_count": 114,
   "metadata": {},
   "outputs": [
    {
     "data": {
      "text/plain": [
       "[       purchase_ID item_ID  quantity        purchase_date  customer_ID  \\\n",
       " 64         C539944   22776        -2  2016-12-23 11:38:00      20239.0   \n",
       " 109        C542910   20726        -2  2017-02-01 15:38:00      23190.0   \n",
       " 112        C542426   22418       -25  2017-01-28 09:32:00      19825.0   \n",
       " 253        C539726   22791       -11  2016-12-21 14:24:00      22686.0   \n",
       " 344        C544034   21878        -2  2017-02-15 11:28:00      20380.0   \n",
       " ...            ...     ...       ...                  ...          ...   \n",
       " 105160     C541650       M        -2  2017-01-20 11:44:00          0.0   \n",
       " 105172     C540246   79320        -2  2017-01-05 15:43:00      18760.0   \n",
       " 105211     C539467   22801        -2  2016-12-19 12:46:00      20723.0   \n",
       " 105250     C540847   22197        -3  2017-01-11 17:35:00      19137.0   \n",
       " 105300     C540164   21144       -13  2017-01-05 12:02:00      20590.0   \n",
       " \n",
       "        shop_ID  loyalty_program  \n",
       " 64      Shop 0              0.0  \n",
       " 109     Shop 0              1.0  \n",
       " 112     Shop 0              0.0  \n",
       " 253     Shop 0              1.0  \n",
       " 344     Shop 0              0.0  \n",
       " ...        ...              ...  \n",
       " 105160  Shop 0              0.0  \n",
       " 105172  Shop 0              0.0  \n",
       " 105211  Shop 0              0.0  \n",
       " 105250  Shop 0              0.0  \n",
       " 105300  Shop 6              0.0  \n",
       " \n",
       " [2118 rows x 7 columns]]"
      ]
     },
     "execution_count": 114,
     "metadata": {},
     "output_type": "execute_result"
    }
   ],
   "source": [
    "vozvrat = [data[data['quantity'] < 0]]\n",
    "vozvrat"
   ]
  },
  {
   "cell_type": "code",
   "execution_count": 115,
   "metadata": {},
   "outputs": [],
   "source": [
    "#chek_vozvrat = [data[data['purchase_ID'] == 'C540246']]\n",
    "#chek_vozvrat"
   ]
  },
  {
   "cell_type": "markdown",
   "metadata": {},
   "source": [
    "**Отрицательные значения в поле 'quantity' могут быть связаны с возвратами товаров. Посмотрим, какое количество возвратов в процентном отношении было сделано клиентами программы лояльности, а какое обычными клиентами:**"
   ]
  },
  {
   "cell_type": "code",
   "execution_count": 116,
   "metadata": {},
   "outputs": [
    {
     "data": {
      "text/html": [
       "<div>\n",
       "<style scoped>\n",
       "    .dataframe tbody tr th:only-of-type {\n",
       "        vertical-align: middle;\n",
       "    }\n",
       "\n",
       "    .dataframe tbody tr th {\n",
       "        vertical-align: top;\n",
       "    }\n",
       "\n",
       "    .dataframe thead th {\n",
       "        text-align: right;\n",
       "    }\n",
       "</style>\n",
       "<table border=\"1\" class=\"dataframe\">\n",
       "  <thead>\n",
       "    <tr style=\"text-align: right;\">\n",
       "      <th></th>\n",
       "      <th>loyalty_program</th>\n",
       "      <th>amount_return_item</th>\n",
       "      <th>%</th>\n",
       "    </tr>\n",
       "  </thead>\n",
       "  <tbody>\n",
       "    <tr>\n",
       "      <th>0</th>\n",
       "      <td>0.0</td>\n",
       "      <td>1673</td>\n",
       "      <td>79.0</td>\n",
       "    </tr>\n",
       "    <tr>\n",
       "      <th>1</th>\n",
       "      <td>1.0</td>\n",
       "      <td>445</td>\n",
       "      <td>21.0</td>\n",
       "    </tr>\n",
       "  </tbody>\n",
       "</table>\n",
       "</div>"
      ],
      "text/plain": [
       "   loyalty_program  amount_return_item     %\n",
       "0              0.0                1673  79.0\n",
       "1              1.0                 445  21.0"
      ]
     },
     "execution_count": 116,
     "metadata": {},
     "output_type": "execute_result"
    }
   ],
   "source": [
    "return_item = (data[data['quantity'] < 0]).groupby(['loyalty_program']).agg({'loyalty_program':'count'}).rename(columns={'loyalty_program':'amount_return_item'})\n",
    "return_item = return_item.reset_index()\n",
    "return_item['%'] = round(return_item['amount_return_item']/len(data[data['quantity'] < 0])*100,1)\n",
    "return_item"
   ]
  },
  {
   "cell_type": "markdown",
   "metadata": {},
   "source": [
    "**Промежуточные выводы:** по сделанным расчётам видим, что из 2118 наименований товаров, которые были возвращены 21% приходится на покупки по программе лояльности, остальные 79% на остальных покупателей."
   ]
  },
  {
   "cell_type": "markdown",
   "metadata": {},
   "source": [
    "Посмотрим, какой процент от всех записей занимают отрицательные значения:"
   ]
  },
  {
   "cell_type": "code",
   "execution_count": 117,
   "metadata": {},
   "outputs": [
    {
     "name": "stdout",
     "output_type": "stream",
     "text": [
      "% возвратов от всех записей в таблице: 2.01\n"
     ]
    }
   ],
   "source": [
    "print('% возвратов от всех записей в таблице:', round(len(data[data['quantity'] < 0])/len(data)*100,2))"
   ]
  },
  {
   "cell_type": "markdown",
   "metadata": {},
   "source": [
    "**Для дальнейшего анализа результатов программы исключим данные по возвратам:**"
   ]
  },
  {
   "cell_type": "code",
   "execution_count": 118,
   "metadata": {},
   "outputs": [
    {
     "name": "stdout",
     "output_type": "stream",
     "text": [
      "<class 'pandas.core.frame.DataFrame'>\n",
      "Int64Index: 103217 entries, 0 to 105334\n",
      "Data columns (total 7 columns):\n",
      " #   Column           Non-Null Count   Dtype  \n",
      "---  ------           --------------   -----  \n",
      " 0   purchase_ID      103217 non-null  object \n",
      " 1   item_ID          103217 non-null  object \n",
      " 2   quantity         103217 non-null  int64  \n",
      " 3   purchase_date    103217 non-null  object \n",
      " 4   customer_ID      103217 non-null  float64\n",
      " 5   shop_ID          103217 non-null  object \n",
      " 6   loyalty_program  103217 non-null  float64\n",
      "dtypes: float64(2), int64(1), object(4)\n",
      "memory usage: 6.3+ MB\n"
     ]
    }
   ],
   "source": [
    "data = data[data['quantity'] >= 0]\n",
    "data.info()"
   ]
  },
  {
   "cell_type": "markdown",
   "metadata": {},
   "source": [
    "Посмотрим количество записей может быть по одному и тому же чеку и в результате видим, что идентификатор чека может повторяться в зависимости от того, сколько товаров в нём было, а значит ситуация с тем, что какой-то товар был обозначен в чеке как 0 (например, добавили в чек, а потом отменили) технически допустима."
   ]
  },
  {
   "cell_type": "code",
   "execution_count": 119,
   "metadata": {},
   "outputs": [
    {
     "data": {
      "text/plain": [
       "537434    675\n",
       "538071    652\n",
       "538349    620\n",
       "537638    601\n",
       "537237    597\n",
       "         ... \n",
       "541513      1\n",
       "542783      1\n",
       "543675      1\n",
       "543988      1\n",
       "544612      1\n",
       "Name: purchase_ID, Length: 3875, dtype: int64"
      ]
     },
     "execution_count": 119,
     "metadata": {},
     "output_type": "execute_result"
    }
   ],
   "source": [
    "data['purchase_ID'].value_counts()"
   ]
  },
  {
   "cell_type": "markdown",
   "metadata": {},
   "source": [
    "Проверим наличие пропусков в таблице df:"
   ]
  },
  {
   "cell_type": "code",
   "execution_count": 120,
   "metadata": {},
   "outputs": [
    {
     "data": {
      "text/plain": [
       "item_ID          0\n",
       "price_per_one    0\n",
       "dtype: int64"
      ]
     },
     "execution_count": 120,
     "metadata": {},
     "output_type": "execute_result"
    }
   ],
   "source": [
    "df.isna().sum()"
   ]
  },
  {
   "cell_type": "markdown",
   "metadata": {},
   "source": [
    "**Исследуем соответствие типов:**"
   ]
  },
  {
   "cell_type": "markdown",
   "metadata": {},
   "source": [
    "* purchasedate - необходимо изменить на тип datetime\n",
    "* CustomerID - необходимо изменить на тип object\n",
    "* loyalty_program  - необходимо изменить на тип int "
   ]
  },
  {
   "cell_type": "markdown",
   "metadata": {},
   "source": [
    "**Выполним изменение типов:**"
   ]
  },
  {
   "cell_type": "code",
   "execution_count": 121,
   "metadata": {},
   "outputs": [],
   "source": [
    "data['purchase_date']= pd.to_datetime(data['purchase_date'], format ='%Y-%m-%dT%H:%M:%S')"
   ]
  },
  {
   "cell_type": "code",
   "execution_count": 122,
   "metadata": {},
   "outputs": [],
   "source": [
    "data['customer_ID'] = data['customer_ID'].astype('object')\n",
    "data['loyalty_program'] = data['loyalty_program'].astype('bool')"
   ]
  },
  {
   "cell_type": "code",
   "execution_count": 123,
   "metadata": {},
   "outputs": [
    {
     "name": "stdout",
     "output_type": "stream",
     "text": [
      "<class 'pandas.core.frame.DataFrame'>\n",
      "Int64Index: 103217 entries, 0 to 105334\n",
      "Data columns (total 7 columns):\n",
      " #   Column           Non-Null Count   Dtype         \n",
      "---  ------           --------------   -----         \n",
      " 0   purchase_ID      103217 non-null  object        \n",
      " 1   item_ID          103217 non-null  object        \n",
      " 2   quantity         103217 non-null  int64         \n",
      " 3   purchase_date    103217 non-null  datetime64[ns]\n",
      " 4   customer_ID      103217 non-null  object        \n",
      " 5   shop_ID          103217 non-null  object        \n",
      " 6   loyalty_program  103217 non-null  bool          \n",
      "dtypes: bool(1), datetime64[ns](1), int64(1), object(4)\n",
      "memory usage: 5.6+ MB\n"
     ]
    }
   ],
   "source": [
    "data.info()"
   ]
  },
  {
   "cell_type": "code",
   "execution_count": 124,
   "metadata": {},
   "outputs": [
    {
     "data": {
      "text/html": [
       "<div>\n",
       "<style scoped>\n",
       "    .dataframe tbody tr th:only-of-type {\n",
       "        vertical-align: middle;\n",
       "    }\n",
       "\n",
       "    .dataframe tbody tr th {\n",
       "        vertical-align: top;\n",
       "    }\n",
       "\n",
       "    .dataframe thead th {\n",
       "        text-align: right;\n",
       "    }\n",
       "</style>\n",
       "<table border=\"1\" class=\"dataframe\">\n",
       "  <thead>\n",
       "    <tr style=\"text-align: right;\">\n",
       "      <th></th>\n",
       "      <th>purchase_ID</th>\n",
       "      <th>item_ID</th>\n",
       "      <th>quantity</th>\n",
       "      <th>purchase_date</th>\n",
       "      <th>customer_ID</th>\n",
       "      <th>shop_ID</th>\n",
       "      <th>loyalty_program</th>\n",
       "    </tr>\n",
       "  </thead>\n",
       "  <tbody>\n",
       "    <tr>\n",
       "      <th>0</th>\n",
       "      <td>538280</td>\n",
       "      <td>21873</td>\n",
       "      <td>11</td>\n",
       "      <td>2016-12-10 12:50:00</td>\n",
       "      <td>18427.0</td>\n",
       "      <td>Shop 0</td>\n",
       "      <td>False</td>\n",
       "    </tr>\n",
       "    <tr>\n",
       "      <th>1</th>\n",
       "      <td>538862</td>\n",
       "      <td>22195</td>\n",
       "      <td>0</td>\n",
       "      <td>2016-12-14 14:11:00</td>\n",
       "      <td>22389.0</td>\n",
       "      <td>Shop 0</td>\n",
       "      <td>True</td>\n",
       "    </tr>\n",
       "    <tr>\n",
       "      <th>2</th>\n",
       "      <td>538855</td>\n",
       "      <td>21239</td>\n",
       "      <td>7</td>\n",
       "      <td>2016-12-14 13:50:00</td>\n",
       "      <td>22182.0</td>\n",
       "      <td>Shop 0</td>\n",
       "      <td>True</td>\n",
       "    </tr>\n",
       "    <tr>\n",
       "      <th>3</th>\n",
       "      <td>543543</td>\n",
       "      <td>22271</td>\n",
       "      <td>0</td>\n",
       "      <td>2017-02-09 15:33:00</td>\n",
       "      <td>23522.0</td>\n",
       "      <td>Shop 0</td>\n",
       "      <td>True</td>\n",
       "    </tr>\n",
       "    <tr>\n",
       "      <th>4</th>\n",
       "      <td>543812</td>\n",
       "      <td>79321</td>\n",
       "      <td>0</td>\n",
       "      <td>2017-02-13 14:40:00</td>\n",
       "      <td>23151.0</td>\n",
       "      <td>Shop 0</td>\n",
       "      <td>True</td>\n",
       "    </tr>\n",
       "  </tbody>\n",
       "</table>\n",
       "</div>"
      ],
      "text/plain": [
       "  purchase_ID item_ID  quantity       purchase_date customer_ID shop_ID  \\\n",
       "0      538280   21873        11 2016-12-10 12:50:00     18427.0  Shop 0   \n",
       "1      538862   22195         0 2016-12-14 14:11:00     22389.0  Shop 0   \n",
       "2      538855   21239         7 2016-12-14 13:50:00     22182.0  Shop 0   \n",
       "3      543543   22271         0 2017-02-09 15:33:00     23522.0  Shop 0   \n",
       "4      543812   79321         0 2017-02-13 14:40:00     23151.0  Shop 0   \n",
       "\n",
       "   loyalty_program  \n",
       "0            False  \n",
       "1             True  \n",
       "2             True  \n",
       "3             True  \n",
       "4             True  "
      ]
     },
     "execution_count": 124,
     "metadata": {},
     "output_type": "execute_result"
    }
   ],
   "source": [
    "data.head()"
   ]
  },
  {
   "cell_type": "markdown",
   "metadata": {},
   "source": [
    "В таблице df с типами всё в порядке, замены не требуется."
   ]
  },
  {
   "cell_type": "markdown",
   "metadata": {},
   "source": [
    "**Исследуем наличие дубликатов:**"
   ]
  },
  {
   "cell_type": "markdown",
   "metadata": {},
   "source": [
    "Сначала посчитаем количество явных строк-дубликатов в таблице:"
   ]
  },
  {
   "cell_type": "code",
   "execution_count": 125,
   "metadata": {},
   "outputs": [
    {
     "data": {
      "text/plain": [
       "('Дубликатов в таблице:', 991)"
      ]
     },
     "execution_count": 125,
     "metadata": {},
     "output_type": "execute_result"
    }
   ],
   "source": [
    "'Дубликатов в таблице:', data.duplicated().sum() "
   ]
  },
  {
   "cell_type": "markdown",
   "metadata": {},
   "source": [
    "Удалим строки-дубликаты и заменим индексацию на новую:"
   ]
  },
  {
   "cell_type": "code",
   "execution_count": 126,
   "metadata": {},
   "outputs": [
    {
     "name": "stdout",
     "output_type": "stream",
     "text": [
      "<class 'pandas.core.frame.DataFrame'>\n",
      "RangeIndex: 102226 entries, 0 to 102225\n",
      "Data columns (total 7 columns):\n",
      " #   Column           Non-Null Count   Dtype         \n",
      "---  ------           --------------   -----         \n",
      " 0   purchase_ID      102226 non-null  object        \n",
      " 1   item_ID          102226 non-null  object        \n",
      " 2   quantity         102226 non-null  int64         \n",
      " 3   purchase_date    102226 non-null  datetime64[ns]\n",
      " 4   customer_ID      102226 non-null  object        \n",
      " 5   shop_ID          102226 non-null  object        \n",
      " 6   loyalty_program  102226 non-null  bool          \n",
      "dtypes: bool(1), datetime64[ns](1), int64(1), object(4)\n",
      "memory usage: 4.8+ MB\n"
     ]
    }
   ],
   "source": [
    "data = data.drop_duplicates().reset_index(drop=True) \n",
    "data.info() "
   ]
  },
  {
   "cell_type": "markdown",
   "metadata": {},
   "source": [
    "Теперь проверим на наличие не явных строк-дубликатов:"
   ]
  },
  {
   "cell_type": "markdown",
   "metadata": {},
   "source": [
    "дубликаты появляются в сочетании столбцов data[['purchaseid','item_ID','purchasedate', 'CustomerID']], но если мы добавляем к ним столбец Quantity, то дубликатов нет. Как мы выяснили выше, ситуация с разным количеством товаров является нормальной, проблемы в данных с неявными дубликатами нет."
   ]
  },
  {
   "cell_type": "markdown",
   "metadata": {},
   "source": [
    "Проверим наличие дубликатов в таблице df:"
   ]
  },
  {
   "cell_type": "code",
   "execution_count": 127,
   "metadata": {},
   "outputs": [
    {
     "data": {
      "text/plain": [
       "('Дубликатов в таблице df:', 0)"
      ]
     },
     "execution_count": 127,
     "metadata": {},
     "output_type": "execute_result"
    }
   ],
   "source": [
    "'Дубликатов в таблице df:', df.duplicated().sum() "
   ]
  },
  {
   "cell_type": "markdown",
   "metadata": {},
   "source": [
    "Проверим на неявные дубликаты:"
   ]
  },
  {
   "cell_type": "code",
   "execution_count": 128,
   "metadata": {},
   "outputs": [
    {
     "data": {
      "text/html": [
       "<div>\n",
       "<style scoped>\n",
       "    .dataframe tbody tr th:only-of-type {\n",
       "        vertical-align: middle;\n",
       "    }\n",
       "\n",
       "    .dataframe tbody tr th {\n",
       "        vertical-align: top;\n",
       "    }\n",
       "\n",
       "    .dataframe thead th {\n",
       "        text-align: right;\n",
       "    }\n",
       "</style>\n",
       "<table border=\"1\" class=\"dataframe\">\n",
       "  <thead>\n",
       "    <tr style=\"text-align: right;\">\n",
       "      <th></th>\n",
       "      <th>item_ID</th>\n",
       "      <th>price_per_one</th>\n",
       "    </tr>\n",
       "  </thead>\n",
       "  <tbody>\n",
       "    <tr>\n",
       "      <th>3150</th>\n",
       "      <td>DOT</td>\n",
       "      <td>174</td>\n",
       "    </tr>\n",
       "    <tr>\n",
       "      <th>3151</th>\n",
       "      <td>M</td>\n",
       "      <td>59</td>\n",
       "    </tr>\n",
       "    <tr>\n",
       "      <th>3153</th>\n",
       "      <td>S</td>\n",
       "      <td>29</td>\n",
       "    </tr>\n",
       "    <tr>\n",
       "      <th>3152</th>\n",
       "      <td>POST</td>\n",
       "      <td>15</td>\n",
       "    </tr>\n",
       "    <tr>\n",
       "      <th>3139</th>\n",
       "      <td>D</td>\n",
       "      <td>13</td>\n",
       "    </tr>\n",
       "    <tr>\n",
       "      <th>...</th>\n",
       "      <td>...</td>\n",
       "      <td>...</td>\n",
       "    </tr>\n",
       "    <tr>\n",
       "      <th>2593</th>\n",
       "      <td>85018C</td>\n",
       "      <td>1</td>\n",
       "    </tr>\n",
       "    <tr>\n",
       "      <th>2594</th>\n",
       "      <td>85018D</td>\n",
       "      <td>1</td>\n",
       "    </tr>\n",
       "    <tr>\n",
       "      <th>2596</th>\n",
       "      <td>85019B</td>\n",
       "      <td>1</td>\n",
       "    </tr>\n",
       "    <tr>\n",
       "      <th>2006</th>\n",
       "      <td>47420</td>\n",
       "      <td>1</td>\n",
       "    </tr>\n",
       "    <tr>\n",
       "      <th>3158</th>\n",
       "      <td>m</td>\n",
       "      <td>1</td>\n",
       "    </tr>\n",
       "  </tbody>\n",
       "</table>\n",
       "<p>3159 rows × 2 columns</p>\n",
       "</div>"
      ],
      "text/plain": [
       "     item_ID  price_per_one\n",
       "3150     DOT            174\n",
       "3151       M             59\n",
       "3153       S             29\n",
       "3152    POST             15\n",
       "3139       D             13\n",
       "...      ...            ...\n",
       "2593  85018C              1\n",
       "2594  85018D              1\n",
       "2596  85019B              1\n",
       "2006   47420              1\n",
       "3158       m              1\n",
       "\n",
       "[3159 rows x 2 columns]"
      ]
     },
     "execution_count": 128,
     "metadata": {},
     "output_type": "execute_result"
    }
   ],
   "source": [
    "povtor_1 = df.pivot_table(index=['item_ID'], values='price_per_one', aggfunc='count').reset_index()\n",
    "povtor_1.sort_values(by='price_per_one', ascending = False)"
   ]
  },
  {
   "cell_type": "markdown",
   "metadata": {},
   "source": [
    "Видим, что в таблице со стоимостью товаров ряд товаров содержит несколько различных цен. Посмотрим, на двух продуктах, какие это значения, насколько в рамках одного товара они отличаются друг от друга:"
   ]
  },
  {
   "cell_type": "code",
   "execution_count": 129,
   "metadata": {},
   "outputs": [
    {
     "data": {
      "text/html": [
       "<div>\n",
       "<style scoped>\n",
       "    .dataframe tbody tr th:only-of-type {\n",
       "        vertical-align: middle;\n",
       "    }\n",
       "\n",
       "    .dataframe tbody tr th {\n",
       "        vertical-align: top;\n",
       "    }\n",
       "\n",
       "    .dataframe thead th {\n",
       "        text-align: right;\n",
       "    }\n",
       "</style>\n",
       "<table border=\"1\" class=\"dataframe\">\n",
       "  <thead>\n",
       "    <tr style=\"text-align: right;\">\n",
       "      <th></th>\n",
       "      <th>item_ID</th>\n",
       "      <th>price_per_one</th>\n",
       "    </tr>\n",
       "  </thead>\n",
       "  <tbody>\n",
       "    <tr>\n",
       "      <th>3773</th>\n",
       "      <td>DOT</td>\n",
       "      <td>950.99</td>\n",
       "    </tr>\n",
       "    <tr>\n",
       "      <th>3541</th>\n",
       "      <td>DOT</td>\n",
       "      <td>940.87</td>\n",
       "    </tr>\n",
       "    <tr>\n",
       "      <th>4733</th>\n",
       "      <td>DOT</td>\n",
       "      <td>907.47</td>\n",
       "    </tr>\n",
       "    <tr>\n",
       "      <th>2655</th>\n",
       "      <td>DOT</td>\n",
       "      <td>887.52</td>\n",
       "    </tr>\n",
       "    <tr>\n",
       "      <th>4485</th>\n",
       "      <td>DOT</td>\n",
       "      <td>885.94</td>\n",
       "    </tr>\n",
       "    <tr>\n",
       "      <th>...</th>\n",
       "      <td>...</td>\n",
       "      <td>...</td>\n",
       "    </tr>\n",
       "    <tr>\n",
       "      <th>5724</th>\n",
       "      <td>DOT</td>\n",
       "      <td>50.64</td>\n",
       "    </tr>\n",
       "    <tr>\n",
       "      <th>5723</th>\n",
       "      <td>DOT</td>\n",
       "      <td>50.60</td>\n",
       "    </tr>\n",
       "    <tr>\n",
       "      <th>5726</th>\n",
       "      <td>DOT</td>\n",
       "      <td>29.53</td>\n",
       "    </tr>\n",
       "    <tr>\n",
       "      <th>8778</th>\n",
       "      <td>DOT</td>\n",
       "      <td>3.29</td>\n",
       "    </tr>\n",
       "    <tr>\n",
       "      <th>6132</th>\n",
       "      <td>DOT</td>\n",
       "      <td>2.51</td>\n",
       "    </tr>\n",
       "  </tbody>\n",
       "</table>\n",
       "<p>174 rows × 2 columns</p>\n",
       "</div>"
      ],
      "text/plain": [
       "     item_ID  price_per_one\n",
       "3773     DOT         950.99\n",
       "3541     DOT         940.87\n",
       "4733     DOT         907.47\n",
       "2655     DOT         887.52\n",
       "4485     DOT         885.94\n",
       "...      ...            ...\n",
       "5724     DOT          50.64\n",
       "5723     DOT          50.60\n",
       "5726     DOT          29.53\n",
       "8778     DOT           3.29\n",
       "6132     DOT           2.51\n",
       "\n",
       "[174 rows x 2 columns]"
      ]
     },
     "execution_count": 129,
     "metadata": {},
     "output_type": "execute_result"
    }
   ],
   "source": [
    "df[df['item_ID']=='DOT'].sort_values(by ='price_per_one', ascending= False )"
   ]
  },
  {
   "cell_type": "code",
   "execution_count": 130,
   "metadata": {},
   "outputs": [
    {
     "data": {
      "text/html": [
       "<div>\n",
       "<style scoped>\n",
       "    .dataframe tbody tr th:only-of-type {\n",
       "        vertical-align: middle;\n",
       "    }\n",
       "\n",
       "    .dataframe tbody tr th {\n",
       "        vertical-align: top;\n",
       "    }\n",
       "\n",
       "    .dataframe thead th {\n",
       "        text-align: right;\n",
       "    }\n",
       "</style>\n",
       "<table border=\"1\" class=\"dataframe\">\n",
       "  <thead>\n",
       "    <tr style=\"text-align: right;\">\n",
       "      <th></th>\n",
       "      <th>item_ID</th>\n",
       "      <th>price_per_one</th>\n",
       "    </tr>\n",
       "  </thead>\n",
       "  <tbody>\n",
       "    <tr>\n",
       "      <th>8729</th>\n",
       "      <td>M</td>\n",
       "      <td>1715.85</td>\n",
       "    </tr>\n",
       "    <tr>\n",
       "      <th>9476</th>\n",
       "      <td>M</td>\n",
       "      <td>1435.79</td>\n",
       "    </tr>\n",
       "    <tr>\n",
       "      <th>5777</th>\n",
       "      <td>M</td>\n",
       "      <td>1298.40</td>\n",
       "    </tr>\n",
       "    <tr>\n",
       "      <th>8167</th>\n",
       "      <td>M</td>\n",
       "      <td>1283.80</td>\n",
       "    </tr>\n",
       "    <tr>\n",
       "      <th>5043</th>\n",
       "      <td>M</td>\n",
       "      <td>1130.90</td>\n",
       "    </tr>\n",
       "    <tr>\n",
       "      <th>6243</th>\n",
       "      <td>M</td>\n",
       "      <td>1126.00</td>\n",
       "    </tr>\n",
       "    <tr>\n",
       "      <th>3882</th>\n",
       "      <td>M</td>\n",
       "      <td>924.59</td>\n",
       "    </tr>\n",
       "    <tr>\n",
       "      <th>9478</th>\n",
       "      <td>M</td>\n",
       "      <td>869.55</td>\n",
       "    </tr>\n",
       "    <tr>\n",
       "      <th>9378</th>\n",
       "      <td>M</td>\n",
       "      <td>856.48</td>\n",
       "    </tr>\n",
       "    <tr>\n",
       "      <th>9899</th>\n",
       "      <td>M</td>\n",
       "      <td>764.12</td>\n",
       "    </tr>\n",
       "    <tr>\n",
       "      <th>3900</th>\n",
       "      <td>M</td>\n",
       "      <td>631.31</td>\n",
       "    </tr>\n",
       "    <tr>\n",
       "      <th>8166</th>\n",
       "      <td>M</td>\n",
       "      <td>544.40</td>\n",
       "    </tr>\n",
       "    <tr>\n",
       "      <th>6217</th>\n",
       "      <td>M</td>\n",
       "      <td>458.29</td>\n",
       "    </tr>\n",
       "    <tr>\n",
       "      <th>9704</th>\n",
       "      <td>M</td>\n",
       "      <td>320.69</td>\n",
       "    </tr>\n",
       "    <tr>\n",
       "      <th>5042</th>\n",
       "      <td>M</td>\n",
       "      <td>316.30</td>\n",
       "    </tr>\n",
       "    <tr>\n",
       "      <th>3901</th>\n",
       "      <td>M</td>\n",
       "      <td>313.78</td>\n",
       "    </tr>\n",
       "    <tr>\n",
       "      <th>9413</th>\n",
       "      <td>M</td>\n",
       "      <td>208.16</td>\n",
       "    </tr>\n",
       "    <tr>\n",
       "      <th>9380</th>\n",
       "      <td>M</td>\n",
       "      <td>190.80</td>\n",
       "    </tr>\n",
       "    <tr>\n",
       "      <th>4624</th>\n",
       "      <td>M</td>\n",
       "      <td>133.08</td>\n",
       "    </tr>\n",
       "    <tr>\n",
       "      <th>9641</th>\n",
       "      <td>M</td>\n",
       "      <td>82.50</td>\n",
       "    </tr>\n",
       "    <tr>\n",
       "      <th>9363</th>\n",
       "      <td>M</td>\n",
       "      <td>71.46</td>\n",
       "    </tr>\n",
       "    <tr>\n",
       "      <th>9898</th>\n",
       "      <td>M</td>\n",
       "      <td>48.00</td>\n",
       "    </tr>\n",
       "    <tr>\n",
       "      <th>3634</th>\n",
       "      <td>M</td>\n",
       "      <td>35.00</td>\n",
       "    </tr>\n",
       "    <tr>\n",
       "      <th>9853</th>\n",
       "      <td>M</td>\n",
       "      <td>30.19</td>\n",
       "    </tr>\n",
       "    <tr>\n",
       "      <th>5639</th>\n",
       "      <td>M</td>\n",
       "      <td>22.00</td>\n",
       "    </tr>\n",
       "    <tr>\n",
       "      <th>6255</th>\n",
       "      <td>M</td>\n",
       "      <td>21.95</td>\n",
       "    </tr>\n",
       "    <tr>\n",
       "      <th>5070</th>\n",
       "      <td>M</td>\n",
       "      <td>20.00</td>\n",
       "    </tr>\n",
       "    <tr>\n",
       "      <th>1466</th>\n",
       "      <td>M</td>\n",
       "      <td>18.95</td>\n",
       "    </tr>\n",
       "    <tr>\n",
       "      <th>4538</th>\n",
       "      <td>M</td>\n",
       "      <td>15.00</td>\n",
       "    </tr>\n",
       "    <tr>\n",
       "      <th>6652</th>\n",
       "      <td>M</td>\n",
       "      <td>12.75</td>\n",
       "    </tr>\n",
       "    <tr>\n",
       "      <th>8303</th>\n",
       "      <td>M</td>\n",
       "      <td>10.00</td>\n",
       "    </tr>\n",
       "    <tr>\n",
       "      <th>6404</th>\n",
       "      <td>M</td>\n",
       "      <td>6.70</td>\n",
       "    </tr>\n",
       "    <tr>\n",
       "      <th>3778</th>\n",
       "      <td>M</td>\n",
       "      <td>5.95</td>\n",
       "    </tr>\n",
       "    <tr>\n",
       "      <th>5072</th>\n",
       "      <td>M</td>\n",
       "      <td>5.00</td>\n",
       "    </tr>\n",
       "    <tr>\n",
       "      <th>8739</th>\n",
       "      <td>M</td>\n",
       "      <td>4.65</td>\n",
       "    </tr>\n",
       "    <tr>\n",
       "      <th>9362</th>\n",
       "      <td>M</td>\n",
       "      <td>4.50</td>\n",
       "    </tr>\n",
       "    <tr>\n",
       "      <th>5068</th>\n",
       "      <td>M</td>\n",
       "      <td>4.25</td>\n",
       "    </tr>\n",
       "    <tr>\n",
       "      <th>8748</th>\n",
       "      <td>M</td>\n",
       "      <td>4.00</td>\n",
       "    </tr>\n",
       "    <tr>\n",
       "      <th>9494</th>\n",
       "      <td>M</td>\n",
       "      <td>3.75</td>\n",
       "    </tr>\n",
       "    <tr>\n",
       "      <th>5385</th>\n",
       "      <td>M</td>\n",
       "      <td>3.00</td>\n",
       "    </tr>\n",
       "    <tr>\n",
       "      <th>4251</th>\n",
       "      <td>M</td>\n",
       "      <td>2.95</td>\n",
       "    </tr>\n",
       "    <tr>\n",
       "      <th>2506</th>\n",
       "      <td>M</td>\n",
       "      <td>2.55</td>\n",
       "    </tr>\n",
       "    <tr>\n",
       "      <th>7366</th>\n",
       "      <td>M</td>\n",
       "      <td>2.50</td>\n",
       "    </tr>\n",
       "    <tr>\n",
       "      <th>9411</th>\n",
       "      <td>M</td>\n",
       "      <td>1.95</td>\n",
       "    </tr>\n",
       "    <tr>\n",
       "      <th>6126</th>\n",
       "      <td>M</td>\n",
       "      <td>1.65</td>\n",
       "    </tr>\n",
       "    <tr>\n",
       "      <th>5271</th>\n",
       "      <td>M</td>\n",
       "      <td>1.45</td>\n",
       "    </tr>\n",
       "    <tr>\n",
       "      <th>1462</th>\n",
       "      <td>M</td>\n",
       "      <td>1.25</td>\n",
       "    </tr>\n",
       "    <tr>\n",
       "      <th>3275</th>\n",
       "      <td>M</td>\n",
       "      <td>1.00</td>\n",
       "    </tr>\n",
       "    <tr>\n",
       "      <th>7585</th>\n",
       "      <td>M</td>\n",
       "      <td>0.87</td>\n",
       "    </tr>\n",
       "    <tr>\n",
       "      <th>2777</th>\n",
       "      <td>M</td>\n",
       "      <td>0.85</td>\n",
       "    </tr>\n",
       "    <tr>\n",
       "      <th>3195</th>\n",
       "      <td>M</td>\n",
       "      <td>0.65</td>\n",
       "    </tr>\n",
       "    <tr>\n",
       "      <th>4511</th>\n",
       "      <td>M</td>\n",
       "      <td>0.50</td>\n",
       "    </tr>\n",
       "    <tr>\n",
       "      <th>3071</th>\n",
       "      <td>M</td>\n",
       "      <td>0.42</td>\n",
       "    </tr>\n",
       "    <tr>\n",
       "      <th>9332</th>\n",
       "      <td>M</td>\n",
       "      <td>0.41</td>\n",
       "    </tr>\n",
       "    <tr>\n",
       "      <th>8087</th>\n",
       "      <td>M</td>\n",
       "      <td>0.38</td>\n",
       "    </tr>\n",
       "    <tr>\n",
       "      <th>5238</th>\n",
       "      <td>M</td>\n",
       "      <td>0.32</td>\n",
       "    </tr>\n",
       "    <tr>\n",
       "      <th>5049</th>\n",
       "      <td>M</td>\n",
       "      <td>0.21</td>\n",
       "    </tr>\n",
       "    <tr>\n",
       "      <th>6080</th>\n",
       "      <td>M</td>\n",
       "      <td>0.20</td>\n",
       "    </tr>\n",
       "    <tr>\n",
       "      <th>3620</th>\n",
       "      <td>M</td>\n",
       "      <td>0.19</td>\n",
       "    </tr>\n",
       "  </tbody>\n",
       "</table>\n",
       "</div>"
      ],
      "text/plain": [
       "     item_ID  price_per_one\n",
       "8729       M        1715.85\n",
       "9476       M        1435.79\n",
       "5777       M        1298.40\n",
       "8167       M        1283.80\n",
       "5043       M        1130.90\n",
       "6243       M        1126.00\n",
       "3882       M         924.59\n",
       "9478       M         869.55\n",
       "9378       M         856.48\n",
       "9899       M         764.12\n",
       "3900       M         631.31\n",
       "8166       M         544.40\n",
       "6217       M         458.29\n",
       "9704       M         320.69\n",
       "5042       M         316.30\n",
       "3901       M         313.78\n",
       "9413       M         208.16\n",
       "9380       M         190.80\n",
       "4624       M         133.08\n",
       "9641       M          82.50\n",
       "9363       M          71.46\n",
       "9898       M          48.00\n",
       "3634       M          35.00\n",
       "9853       M          30.19\n",
       "5639       M          22.00\n",
       "6255       M          21.95\n",
       "5070       M          20.00\n",
       "1466       M          18.95\n",
       "4538       M          15.00\n",
       "6652       M          12.75\n",
       "8303       M          10.00\n",
       "6404       M           6.70\n",
       "3778       M           5.95\n",
       "5072       M           5.00\n",
       "8739       M           4.65\n",
       "9362       M           4.50\n",
       "5068       M           4.25\n",
       "8748       M           4.00\n",
       "9494       M           3.75\n",
       "5385       M           3.00\n",
       "4251       M           2.95\n",
       "2506       M           2.55\n",
       "7366       M           2.50\n",
       "9411       M           1.95\n",
       "6126       M           1.65\n",
       "5271       M           1.45\n",
       "1462       M           1.25\n",
       "3275       M           1.00\n",
       "7585       M           0.87\n",
       "2777       M           0.85\n",
       "3195       M           0.65\n",
       "4511       M           0.50\n",
       "3071       M           0.42\n",
       "9332       M           0.41\n",
       "8087       M           0.38\n",
       "5238       M           0.32\n",
       "5049       M           0.21\n",
       "6080       M           0.20\n",
       "3620       M           0.19"
      ]
     },
     "execution_count": 130,
     "metadata": {},
     "output_type": "execute_result"
    }
   ],
   "source": [
    "df[df['item_ID']=='M'].sort_values(by ='price_per_one', ascending= False )"
   ]
  },
  {
   "cell_type": "markdown",
   "metadata": {},
   "source": [
    "Видим, что разброс цен в рамках одного товара может быть очень значительный. Чтобы исключить ситуацию, когда по одному товару в таблице df имеем несколько цен, посчитаем для каждого товара медианное значение цены. "
   ]
  },
  {
   "cell_type": "code",
   "execution_count": 131,
   "metadata": {},
   "outputs": [
    {
     "data": {
      "text/html": [
       "<div>\n",
       "<style scoped>\n",
       "    .dataframe tbody tr th:only-of-type {\n",
       "        vertical-align: middle;\n",
       "    }\n",
       "\n",
       "    .dataframe tbody tr th {\n",
       "        vertical-align: top;\n",
       "    }\n",
       "\n",
       "    .dataframe thead th {\n",
       "        text-align: right;\n",
       "    }\n",
       "</style>\n",
       "<table border=\"1\" class=\"dataframe\">\n",
       "  <thead>\n",
       "    <tr style=\"text-align: right;\">\n",
       "      <th></th>\n",
       "      <th>item_ID</th>\n",
       "      <th>price_per_one</th>\n",
       "    </tr>\n",
       "  </thead>\n",
       "  <tbody>\n",
       "    <tr>\n",
       "      <th>3136</th>\n",
       "      <td>AMAZONFEE</td>\n",
       "      <td>6706.71</td>\n",
       "    </tr>\n",
       "    <tr>\n",
       "      <th>1507</th>\n",
       "      <td>22655</td>\n",
       "      <td>265.50</td>\n",
       "    </tr>\n",
       "    <tr>\n",
       "      <th>3150</th>\n",
       "      <td>DOT</td>\n",
       "      <td>198.19</td>\n",
       "    </tr>\n",
       "    <tr>\n",
       "      <th>1671</th>\n",
       "      <td>22826</td>\n",
       "      <td>175.00</td>\n",
       "    </tr>\n",
       "    <tr>\n",
       "      <th>1672</th>\n",
       "      <td>22827</td>\n",
       "      <td>155.00</td>\n",
       "    </tr>\n",
       "  </tbody>\n",
       "</table>\n",
       "</div>"
      ],
      "text/plain": [
       "        item_ID  price_per_one\n",
       "3136  AMAZONFEE        6706.71\n",
       "1507      22655         265.50\n",
       "3150        DOT         198.19\n",
       "1671      22826         175.00\n",
       "1672      22827         155.00"
      ]
     },
     "execution_count": 131,
     "metadata": {},
     "output_type": "execute_result"
    }
   ],
   "source": [
    "df = df.pivot_table(index=['item_ID'], values='price_per_one', aggfunc='median').reset_index()\n",
    "df.sort_values(by='price_per_one', ascending = False).head()"
   ]
  },
  {
   "cell_type": "markdown",
   "metadata": {},
   "source": [
    "Посчитаем количество товаров, которые имеют нулевую стоимость: "
   ]
  },
  {
   "cell_type": "code",
   "execution_count": 132,
   "metadata": {},
   "outputs": [
    {
     "data": {
      "text/plain": [
       "57"
      ]
     },
     "execution_count": 132,
     "metadata": {},
     "output_type": "execute_result"
    }
   ],
   "source": [
    "len(df[df['price_per_one']==0])"
   ]
  },
  {
   "cell_type": "code",
   "execution_count": 133,
   "metadata": {},
   "outputs": [
    {
     "data": {
      "text/html": [
       "<div>\n",
       "<style scoped>\n",
       "    .dataframe tbody tr th:only-of-type {\n",
       "        vertical-align: middle;\n",
       "    }\n",
       "\n",
       "    .dataframe tbody tr th {\n",
       "        vertical-align: top;\n",
       "    }\n",
       "\n",
       "    .dataframe thead th {\n",
       "        text-align: right;\n",
       "    }\n",
       "</style>\n",
       "<table border=\"1\" class=\"dataframe\">\n",
       "  <thead>\n",
       "    <tr style=\"text-align: right;\">\n",
       "      <th></th>\n",
       "      <th>item_ID</th>\n",
       "      <th>price_per_one</th>\n",
       "    </tr>\n",
       "  </thead>\n",
       "  <tbody>\n",
       "    <tr>\n",
       "      <th>3136</th>\n",
       "      <td>AMAZONFEE</td>\n",
       "      <td>6706.71</td>\n",
       "    </tr>\n",
       "    <tr>\n",
       "      <th>1507</th>\n",
       "      <td>22655</td>\n",
       "      <td>265.50</td>\n",
       "    </tr>\n",
       "    <tr>\n",
       "      <th>3150</th>\n",
       "      <td>DOT</td>\n",
       "      <td>198.19</td>\n",
       "    </tr>\n",
       "    <tr>\n",
       "      <th>1671</th>\n",
       "      <td>22826</td>\n",
       "      <td>175.00</td>\n",
       "    </tr>\n",
       "    <tr>\n",
       "      <th>1672</th>\n",
       "      <td>22827</td>\n",
       "      <td>155.00</td>\n",
       "    </tr>\n",
       "  </tbody>\n",
       "</table>\n",
       "</div>"
      ],
      "text/plain": [
       "        item_ID  price_per_one\n",
       "3136  AMAZONFEE        6706.71\n",
       "1507      22655         265.50\n",
       "3150        DOT         198.19\n",
       "1671      22826         175.00\n",
       "1672      22827         155.00"
      ]
     },
     "execution_count": 133,
     "metadata": {},
     "output_type": "execute_result"
    }
   ],
   "source": [
    "df = df.sort_values(by='price_per_one', ascending=False)\n",
    "df.head()"
   ]
  },
  {
   "cell_type": "code",
   "execution_count": 134,
   "metadata": {},
   "outputs": [
    {
     "data": {
      "text/html": [
       "<div>\n",
       "<style scoped>\n",
       "    .dataframe tbody tr th:only-of-type {\n",
       "        vertical-align: middle;\n",
       "    }\n",
       "\n",
       "    .dataframe tbody tr th {\n",
       "        vertical-align: top;\n",
       "    }\n",
       "\n",
       "    .dataframe thead th {\n",
       "        text-align: right;\n",
       "    }\n",
       "</style>\n",
       "<table border=\"1\" class=\"dataframe\">\n",
       "  <thead>\n",
       "    <tr style=\"text-align: right;\">\n",
       "      <th></th>\n",
       "      <th>purchase_ID</th>\n",
       "      <th>item_ID</th>\n",
       "      <th>quantity</th>\n",
       "      <th>purchase_date</th>\n",
       "      <th>customer_ID</th>\n",
       "      <th>shop_ID</th>\n",
       "      <th>loyalty_program</th>\n",
       "    </tr>\n",
       "  </thead>\n",
       "  <tbody>\n",
       "    <tr>\n",
       "      <th>12285</th>\n",
       "      <td>537632</td>\n",
       "      <td>AMAZONFEE</td>\n",
       "      <td>0</td>\n",
       "      <td>2016-12-07 15:08:00</td>\n",
       "      <td>0.0</td>\n",
       "      <td>Shop 0</td>\n",
       "      <td>False</td>\n",
       "    </tr>\n",
       "  </tbody>\n",
       "</table>\n",
       "</div>"
      ],
      "text/plain": [
       "      purchase_ID    item_ID  quantity       purchase_date customer_ID  \\\n",
       "12285      537632  AMAZONFEE         0 2016-12-07 15:08:00         0.0   \n",
       "\n",
       "      shop_ID  loyalty_program  \n",
       "12285  Shop 0            False  "
      ]
     },
     "execution_count": 134,
     "metadata": {},
     "output_type": "execute_result"
    }
   ],
   "source": [
    "data[data['item_ID']=='AMAZONFEE'] "
   ]
  },
  {
   "cell_type": "code",
   "execution_count": 135,
   "metadata": {},
   "outputs": [
    {
     "name": "stdout",
     "output_type": "stream",
     "text": [
      "Количество товаров с нулевой стоимостью в таблице df: 57\n"
     ]
    }
   ],
   "source": [
    "print('Количество товаров с нулевой стоимостью в таблице df:',len(df[df['price_per_one']==0]))"
   ]
  },
  {
   "cell_type": "markdown",
   "metadata": {},
   "source": [
    "Посмотрим на гистограмме, как распределены цены:"
   ]
  },
  {
   "cell_type": "code",
   "execution_count": 136,
   "metadata": {},
   "outputs": [
    {
     "data": {
      "image/png": "[encoded data removed]",
      "text/plain": [
       "<Figure size 720x504 with 1 Axes>"
      ]
     },
     "metadata": {
      "needs_background": "light"
     },
     "output_type": "display_data"
    }
   ],
   "source": [
    "df.plot(kind ='hist', y='price_per_one', bins=150, range=(12,300), grid=True, figsize=(10,7))\n",
    "plt.xlabel(\"Стоимость товаров\")\n",
    "plt.ylabel(\"Частота\")\n",
    "plt.title('Распределение цен представленных в магазинах товаров')\n",
    "\n",
    "plt.show()"
   ]
  },
  {
   "cell_type": "markdown",
   "metadata": {},
   "source": [
    "**Промежуточные выводы:** на гистограмме видим и отсортированным данным видим, что в магазинах сети продаются товары в ценовом диапазоне 15 - 45 у.ед., товары по более высокой стоимости встречаются крайне редко.\n",
    "    \n",
    "* Есть товар item_ID=='AMAZONFEE', с крайне выходящей за пределы нормальной стомостью (6706.71). Т.к. такой товар был куплен единожды, можем предположить, что такой товар был куплен под заказ и исплючить этот выброс из дальнейших рассчётов, чтобы не искажать показатель среднего чека.\n",
    "\n",
    "* Также уберем из расчётов товары и покупки с нулевой стоимостью."
   ]
  },
  {
   "cell_type": "code",
   "execution_count": 137,
   "metadata": {},
   "outputs": [],
   "source": [
    "df = ( df[\n",
    "          (df['item_ID']!='AMAZONFEE')\n",
    "          &(df['price_per_one']!=0)\n",
    "         ]\n",
    "     )"
   ]
  },
  {
   "cell_type": "markdown",
   "metadata": {},
   "source": [
    "Добавим к таблице data данные из таблицы df:"
   ]
  },
  {
   "cell_type": "code",
   "execution_count": 138,
   "metadata": {},
   "outputs": [
    {
     "data": {
      "text/html": [
       "<div>\n",
       "<style scoped>\n",
       "    .dataframe tbody tr th:only-of-type {\n",
       "        vertical-align: middle;\n",
       "    }\n",
       "\n",
       "    .dataframe tbody tr th {\n",
       "        vertical-align: top;\n",
       "    }\n",
       "\n",
       "    .dataframe thead th {\n",
       "        text-align: right;\n",
       "    }\n",
       "</style>\n",
       "<table border=\"1\" class=\"dataframe\">\n",
       "  <thead>\n",
       "    <tr style=\"text-align: right;\">\n",
       "      <th></th>\n",
       "      <th>purchase_ID</th>\n",
       "      <th>item_ID</th>\n",
       "      <th>quantity</th>\n",
       "      <th>purchase_date</th>\n",
       "      <th>customer_ID</th>\n",
       "      <th>shop_ID</th>\n",
       "      <th>loyalty_program</th>\n",
       "      <th>price_per_one</th>\n",
       "    </tr>\n",
       "  </thead>\n",
       "  <tbody>\n",
       "    <tr>\n",
       "      <th>0</th>\n",
       "      <td>538280</td>\n",
       "      <td>21873</td>\n",
       "      <td>11</td>\n",
       "      <td>2016-12-10 12:50:00</td>\n",
       "      <td>18427.0</td>\n",
       "      <td>Shop 0</td>\n",
       "      <td>False</td>\n",
       "      <td>1.63</td>\n",
       "    </tr>\n",
       "    <tr>\n",
       "      <th>1</th>\n",
       "      <td>541104</td>\n",
       "      <td>21873</td>\n",
       "      <td>0</td>\n",
       "      <td>2017-01-13 14:29:00</td>\n",
       "      <td>0.0</td>\n",
       "      <td>Shop 0</td>\n",
       "      <td>False</td>\n",
       "      <td>1.63</td>\n",
       "    </tr>\n",
       "    <tr>\n",
       "      <th>2</th>\n",
       "      <td>540418</td>\n",
       "      <td>21873</td>\n",
       "      <td>1</td>\n",
       "      <td>2017-01-07 11:04:00</td>\n",
       "      <td>0.0</td>\n",
       "      <td>Shop 0</td>\n",
       "      <td>False</td>\n",
       "      <td>1.63</td>\n",
       "    </tr>\n",
       "    <tr>\n",
       "      <th>3</th>\n",
       "      <td>541516</td>\n",
       "      <td>21873</td>\n",
       "      <td>2</td>\n",
       "      <td>2017-01-18 17:34:00</td>\n",
       "      <td>0.0</td>\n",
       "      <td>Shop 0</td>\n",
       "      <td>False</td>\n",
       "      <td>1.63</td>\n",
       "    </tr>\n",
       "    <tr>\n",
       "      <th>4</th>\n",
       "      <td>541566</td>\n",
       "      <td>21873</td>\n",
       "      <td>35</td>\n",
       "      <td>2017-01-19 11:50:00</td>\n",
       "      <td>23401.0</td>\n",
       "      <td>Shop 0</td>\n",
       "      <td>True</td>\n",
       "      <td>1.63</td>\n",
       "    </tr>\n",
       "    <tr>\n",
       "      <th>...</th>\n",
       "      <td>...</td>\n",
       "      <td>...</td>\n",
       "      <td>...</td>\n",
       "      <td>...</td>\n",
       "      <td>...</td>\n",
       "      <td>...</td>\n",
       "      <td>...</td>\n",
       "      <td>...</td>\n",
       "    </tr>\n",
       "    <tr>\n",
       "      <th>102201</th>\n",
       "      <td>538200</td>\n",
       "      <td>15058A</td>\n",
       "      <td>0</td>\n",
       "      <td>2016-12-10 11:11:00</td>\n",
       "      <td>23591.0</td>\n",
       "      <td>Shop 0</td>\n",
       "      <td>True</td>\n",
       "      <td>7.95</td>\n",
       "    </tr>\n",
       "    <tr>\n",
       "      <th>102202</th>\n",
       "      <td>538852</td>\n",
       "      <td>90058B</td>\n",
       "      <td>35</td>\n",
       "      <td>2016-12-14 13:33:00</td>\n",
       "      <td>23051.0</td>\n",
       "      <td>Shop 0</td>\n",
       "      <td>True</td>\n",
       "      <td>0.38</td>\n",
       "    </tr>\n",
       "    <tr>\n",
       "      <th>102203</th>\n",
       "      <td>539988</td>\n",
       "      <td>46138B</td>\n",
       "      <td>1</td>\n",
       "      <td>2016-12-23 16:06:00</td>\n",
       "      <td>23795.0</td>\n",
       "      <td>Shop 0</td>\n",
       "      <td>True</td>\n",
       "      <td>1.95</td>\n",
       "    </tr>\n",
       "    <tr>\n",
       "      <th>102204</th>\n",
       "      <td>537025</td>\n",
       "      <td>90053</td>\n",
       "      <td>0</td>\n",
       "      <td>2016-12-03 16:21:00</td>\n",
       "      <td>0.0</td>\n",
       "      <td>Shop 0</td>\n",
       "      <td>False</td>\n",
       "      <td>2.55</td>\n",
       "    </tr>\n",
       "    <tr>\n",
       "      <th>102205</th>\n",
       "      <td>542731</td>\n",
       "      <td>17028J</td>\n",
       "      <td>5</td>\n",
       "      <td>2017-01-31 15:27:00</td>\n",
       "      <td>19279.0</td>\n",
       "      <td>Shop 0</td>\n",
       "      <td>False</td>\n",
       "      <td>0.42</td>\n",
       "    </tr>\n",
       "  </tbody>\n",
       "</table>\n",
       "<p>102206 rows × 8 columns</p>\n",
       "</div>"
      ],
      "text/plain": [
       "       purchase_ID item_ID  quantity       purchase_date customer_ID shop_ID  \\\n",
       "0           538280   21873        11 2016-12-10 12:50:00     18427.0  Shop 0   \n",
       "1           541104   21873         0 2017-01-13 14:29:00         0.0  Shop 0   \n",
       "2           540418   21873         1 2017-01-07 11:04:00         0.0  Shop 0   \n",
       "3           541516   21873         2 2017-01-18 17:34:00         0.0  Shop 0   \n",
       "4           541566   21873        35 2017-01-19 11:50:00     23401.0  Shop 0   \n",
       "...            ...     ...       ...                 ...         ...     ...   \n",
       "102201      538200  15058A         0 2016-12-10 11:11:00     23591.0  Shop 0   \n",
       "102202      538852  90058B        35 2016-12-14 13:33:00     23051.0  Shop 0   \n",
       "102203      539988  46138B         1 2016-12-23 16:06:00     23795.0  Shop 0   \n",
       "102204      537025   90053         0 2016-12-03 16:21:00         0.0  Shop 0   \n",
       "102205      542731  17028J         5 2017-01-31 15:27:00     19279.0  Shop 0   \n",
       "\n",
       "        loyalty_program  price_per_one  \n",
       "0                 False           1.63  \n",
       "1                 False           1.63  \n",
       "2                 False           1.63  \n",
       "3                 False           1.63  \n",
       "4                  True           1.63  \n",
       "...                 ...            ...  \n",
       "102201             True           7.95  \n",
       "102202             True           0.38  \n",
       "102203             True           1.95  \n",
       "102204            False           2.55  \n",
       "102205            False           0.42  \n",
       "\n",
       "[102206 rows x 8 columns]"
      ]
     },
     "execution_count": 138,
     "metadata": {},
     "output_type": "execute_result"
    }
   ],
   "source": [
    "data = data.merge(df, on=['item_ID'], how = 'inner')\n",
    "data"
   ]
  },
  {
   "cell_type": "code",
   "execution_count": 139,
   "metadata": {},
   "outputs": [
    {
     "name": "stdout",
     "output_type": "stream",
     "text": [
      "Покупок с нулевой стоимостью в таблице data: 0\n"
     ]
    }
   ],
   "source": [
    "print('Покупок с нулевой стоимостью в таблице data:',(len(data[data['price_per_one']==0])))"
   ]
  },
  {
   "cell_type": "markdown",
   "metadata": {},
   "source": [
    "Проверим, что после обогащения данных, количество строк в исходной таблице не изменилось:"
   ]
  },
  {
   "cell_type": "code",
   "execution_count": 140,
   "metadata": {},
   "outputs": [
    {
     "name": "stdout",
     "output_type": "stream",
     "text": [
      "<class 'pandas.core.frame.DataFrame'>\n",
      "Int64Index: 102206 entries, 0 to 102205\n",
      "Data columns (total 8 columns):\n",
      " #   Column           Non-Null Count   Dtype         \n",
      "---  ------           --------------   -----         \n",
      " 0   purchase_ID      102206 non-null  object        \n",
      " 1   item_ID          102206 non-null  object        \n",
      " 2   quantity         102206 non-null  int64         \n",
      " 3   purchase_date    102206 non-null  datetime64[ns]\n",
      " 4   customer_ID      102206 non-null  object        \n",
      " 5   shop_ID          102206 non-null  object        \n",
      " 6   loyalty_program  102206 non-null  bool          \n",
      " 7   price_per_one    102206 non-null  float64       \n",
      "dtypes: bool(1), datetime64[ns](1), float64(1), int64(1), object(4)\n",
      "memory usage: 6.3+ MB\n"
     ]
    }
   ],
   "source": [
    "data.info()"
   ]
  },
  {
   "cell_type": "markdown",
   "metadata": {},
   "source": [
    "## Исследовательский анализ данных"
   ]
  },
  {
   "cell_type": "markdown",
   "metadata": {},
   "source": [
    "**Посмотрим, за какой период получены данные:**"
   ]
  },
  {
   "cell_type": "code",
   "execution_count": 141,
   "metadata": {},
   "outputs": [
    {
     "name": "stdout",
     "output_type": "stream",
     "text": [
      "Минимальная дата записи: 2016-12-01 08:26:00\n",
      "Максимальная дата записи: 2017-02-28 17:01:00\n"
     ]
    }
   ],
   "source": [
    "print('Минимальная дата записи:', data['purchase_date'].min())\n",
    "print('Максимальная дата записи:', data['purchase_date'].max())"
   ]
  },
  {
   "cell_type": "markdown",
   "metadata": {},
   "source": [
    "Т.е. имеем данные за три месяца: декабрь 2016г, январь и февраль 2017г."
   ]
  },
  {
   "cell_type": "markdown",
   "metadata": {},
   "source": [
    "**Добавим в объединенную таблицу столбец с днем недели, месяцем и годом покупки** "
   ]
  },
  {
   "cell_type": "code",
   "execution_count": 142,
   "metadata": {},
   "outputs": [],
   "source": [
    "data['day_of_week_sale']=data['purchase_date'].dt.weekday"
   ]
  },
  {
   "cell_type": "markdown",
   "metadata": {},
   "source": [
    "Выделим из столбца 'purchase_date' дату покупки:"
   ]
  },
  {
   "cell_type": "code",
   "execution_count": 143,
   "metadata": {},
   "outputs": [],
   "source": [
    "data['day_of_sale']=data['purchase_date'].astype('datetime64[D]')\n",
    "data['day_of_sale'] = pd.to_datetime(data['day_of_sale'], format = '%Y-%m-%d')"
   ]
  },
  {
   "cell_type": "markdown",
   "metadata": {},
   "source": [
    "А также выделим месяц и год покупки, для этого приведём столбец 'purchase_date' к формату первое число - месяц – год используем метод astype('datetime64[M]') и результат добавим в новый столбец 'month_year_sale':"
   ]
  },
  {
   "cell_type": "code",
   "execution_count": 144,
   "metadata": {},
   "outputs": [],
   "source": [
    "data['month_year_sale']=data['purchase_date'].astype('datetime64[M]')"
   ]
  },
  {
   "cell_type": "code",
   "execution_count": 145,
   "metadata": {},
   "outputs": [
    {
     "data": {
      "text/html": [
       "<div>\n",
       "<style scoped>\n",
       "    .dataframe tbody tr th:only-of-type {\n",
       "        vertical-align: middle;\n",
       "    }\n",
       "\n",
       "    .dataframe tbody tr th {\n",
       "        vertical-align: top;\n",
       "    }\n",
       "\n",
       "    .dataframe thead th {\n",
       "        text-align: right;\n",
       "    }\n",
       "</style>\n",
       "<table border=\"1\" class=\"dataframe\">\n",
       "  <thead>\n",
       "    <tr style=\"text-align: right;\">\n",
       "      <th></th>\n",
       "      <th>purchase_ID</th>\n",
       "      <th>item_ID</th>\n",
       "      <th>quantity</th>\n",
       "      <th>purchase_date</th>\n",
       "      <th>customer_ID</th>\n",
       "      <th>shop_ID</th>\n",
       "      <th>loyalty_program</th>\n",
       "      <th>price_per_one</th>\n",
       "      <th>day_of_week_sale</th>\n",
       "      <th>day_of_sale</th>\n",
       "      <th>month_year_sale</th>\n",
       "    </tr>\n",
       "  </thead>\n",
       "  <tbody>\n",
       "    <tr>\n",
       "      <th>0</th>\n",
       "      <td>538280</td>\n",
       "      <td>21873</td>\n",
       "      <td>11</td>\n",
       "      <td>2016-12-10 12:50:00</td>\n",
       "      <td>18427.0</td>\n",
       "      <td>Shop 0</td>\n",
       "      <td>False</td>\n",
       "      <td>1.63</td>\n",
       "      <td>5</td>\n",
       "      <td>2016-12-10</td>\n",
       "      <td>2016-12-01</td>\n",
       "    </tr>\n",
       "    <tr>\n",
       "      <th>1</th>\n",
       "      <td>541104</td>\n",
       "      <td>21873</td>\n",
       "      <td>0</td>\n",
       "      <td>2017-01-13 14:29:00</td>\n",
       "      <td>0.0</td>\n",
       "      <td>Shop 0</td>\n",
       "      <td>False</td>\n",
       "      <td>1.63</td>\n",
       "      <td>4</td>\n",
       "      <td>2017-01-13</td>\n",
       "      <td>2017-01-01</td>\n",
       "    </tr>\n",
       "    <tr>\n",
       "      <th>2</th>\n",
       "      <td>540418</td>\n",
       "      <td>21873</td>\n",
       "      <td>1</td>\n",
       "      <td>2017-01-07 11:04:00</td>\n",
       "      <td>0.0</td>\n",
       "      <td>Shop 0</td>\n",
       "      <td>False</td>\n",
       "      <td>1.63</td>\n",
       "      <td>5</td>\n",
       "      <td>2017-01-07</td>\n",
       "      <td>2017-01-01</td>\n",
       "    </tr>\n",
       "  </tbody>\n",
       "</table>\n",
       "</div>"
      ],
      "text/plain": [
       "  purchase_ID item_ID  quantity       purchase_date customer_ID shop_ID  \\\n",
       "0      538280   21873        11 2016-12-10 12:50:00     18427.0  Shop 0   \n",
       "1      541104   21873         0 2017-01-13 14:29:00         0.0  Shop 0   \n",
       "2      540418   21873         1 2017-01-07 11:04:00         0.0  Shop 0   \n",
       "\n",
       "   loyalty_program  price_per_one  day_of_week_sale day_of_sale  \\\n",
       "0            False           1.63                 5  2016-12-10   \n",
       "1            False           1.63                 4  2017-01-13   \n",
       "2            False           1.63                 5  2017-01-07   \n",
       "\n",
       "  month_year_sale  \n",
       "0      2016-12-01  \n",
       "1      2017-01-01  \n",
       "2      2017-01-01  "
      ]
     },
     "execution_count": 145,
     "metadata": {},
     "output_type": "execute_result"
    }
   ],
   "source": [
    "data.head(3)"
   ]
  },
  {
   "cell_type": "markdown",
   "metadata": {},
   "source": [
    "Для дальнейших расчётов собёрем из таблицы data данные по каждому чеку:"
   ]
  },
  {
   "cell_type": "code",
   "execution_count": 146,
   "metadata": {},
   "outputs": [
    {
     "data": {
      "text/html": [
       "<div>\n",
       "<style scoped>\n",
       "    .dataframe tbody tr th:only-of-type {\n",
       "        vertical-align: middle;\n",
       "    }\n",
       "\n",
       "    .dataframe tbody tr th {\n",
       "        vertical-align: top;\n",
       "    }\n",
       "\n",
       "    .dataframe thead th {\n",
       "        text-align: right;\n",
       "    }\n",
       "</style>\n",
       "<table border=\"1\" class=\"dataframe\">\n",
       "  <thead>\n",
       "    <tr style=\"text-align: right;\">\n",
       "      <th></th>\n",
       "      <th>purchase_ID</th>\n",
       "      <th>customer_ID</th>\n",
       "      <th>shop_ID</th>\n",
       "      <th>loyalty_program</th>\n",
       "      <th>purchase_date</th>\n",
       "      <th>day_of_sale</th>\n",
       "      <th>day_of_week_sale</th>\n",
       "      <th>month_year_sale</th>\n",
       "      <th>purchase_price</th>\n",
       "    </tr>\n",
       "  </thead>\n",
       "  <tbody>\n",
       "    <tr>\n",
       "      <th>0</th>\n",
       "      <td>536365</td>\n",
       "      <td>23529.0</td>\n",
       "      <td>Shop 0</td>\n",
       "      <td>True</td>\n",
       "      <td>2016-12-01 08:26:00</td>\n",
       "      <td>2016-12-01</td>\n",
       "      <td>3</td>\n",
       "      <td>2016-12-01</td>\n",
       "      <td>45.905</td>\n",
       "    </tr>\n",
       "    <tr>\n",
       "      <th>1</th>\n",
       "      <td>536366</td>\n",
       "      <td>23529.0</td>\n",
       "      <td>Shop 0</td>\n",
       "      <td>True</td>\n",
       "      <td>2016-12-01 08:28:00</td>\n",
       "      <td>2016-12-01</td>\n",
       "      <td>3</td>\n",
       "      <td>2016-12-01</td>\n",
       "      <td>3.950</td>\n",
       "    </tr>\n",
       "    <tr>\n",
       "      <th>2</th>\n",
       "      <td>536367</td>\n",
       "      <td>18726.0</td>\n",
       "      <td>Shop 0</td>\n",
       "      <td>False</td>\n",
       "      <td>2016-12-01 08:34:00</td>\n",
       "      <td>2016-12-01</td>\n",
       "      <td>3</td>\n",
       "      <td>2016-12-01</td>\n",
       "      <td>69.455</td>\n",
       "    </tr>\n",
       "    <tr>\n",
       "      <th>3</th>\n",
       "      <td>536368</td>\n",
       "      <td>18726.0</td>\n",
       "      <td>Shop 0</td>\n",
       "      <td>False</td>\n",
       "      <td>2016-12-01 08:34:00</td>\n",
       "      <td>2016-12-01</td>\n",
       "      <td>3</td>\n",
       "      <td>2016-12-01</td>\n",
       "      <td>38.640</td>\n",
       "    </tr>\n",
       "    <tr>\n",
       "      <th>4</th>\n",
       "      <td>536369</td>\n",
       "      <td>18726.0</td>\n",
       "      <td>Shop 0</td>\n",
       "      <td>False</td>\n",
       "      <td>2016-12-01 08:35:00</td>\n",
       "      <td>2016-12-01</td>\n",
       "      <td>3</td>\n",
       "      <td>2016-12-01</td>\n",
       "      <td>6.600</td>\n",
       "    </tr>\n",
       "  </tbody>\n",
       "</table>\n",
       "</div>"
      ],
      "text/plain": [
       "  purchase_ID  customer_ID shop_ID  loyalty_program       purchase_date  \\\n",
       "0      536365      23529.0  Shop 0             True 2016-12-01 08:26:00   \n",
       "1      536366      23529.0  Shop 0             True 2016-12-01 08:28:00   \n",
       "2      536367      18726.0  Shop 0            False 2016-12-01 08:34:00   \n",
       "3      536368      18726.0  Shop 0            False 2016-12-01 08:34:00   \n",
       "4      536369      18726.0  Shop 0            False 2016-12-01 08:35:00   \n",
       "\n",
       "  day_of_sale  day_of_week_sale month_year_sale  purchase_price  \n",
       "0  2016-12-01                 3      2016-12-01          45.905  \n",
       "1  2016-12-01                 3      2016-12-01           3.950  \n",
       "2  2016-12-01                 3      2016-12-01          69.455  \n",
       "3  2016-12-01                 3      2016-12-01          38.640  \n",
       "4  2016-12-01                 3      2016-12-01           6.600  "
      ]
     },
     "execution_count": 146,
     "metadata": {},
     "output_type": "execute_result"
    }
   ],
   "source": [
    "cheki = data.pivot_table(index=['purchase_ID', 'customer_ID', 'shop_ID','loyalty_program','purchase_date','day_of_sale','day_of_week_sale','month_year_sale'], values='price_per_one', aggfunc='sum').reset_index()\n",
    "cheki.sort_values(by='price_per_one', ascending = False)\n",
    "cheki=cheki.rename(columns={'price_per_one':'purchase_price'})\n",
    "cheki.head()"
   ]
  },
  {
   "cell_type": "markdown",
   "metadata": {},
   "source": [
    "Рассчитаем количество покупок за каждый день и построим соответсующий график:"
   ]
  },
  {
   "cell_type": "code",
   "execution_count": 147,
   "metadata": {},
   "outputs": [
    {
     "data": {
      "text/html": [
       "<div>\n",
       "<style scoped>\n",
       "    .dataframe tbody tr th:only-of-type {\n",
       "        vertical-align: middle;\n",
       "    }\n",
       "\n",
       "    .dataframe tbody tr th {\n",
       "        vertical-align: top;\n",
       "    }\n",
       "\n",
       "    .dataframe thead th {\n",
       "        text-align: right;\n",
       "    }\n",
       "</style>\n",
       "<table border=\"1\" class=\"dataframe\">\n",
       "  <thead>\n",
       "    <tr style=\"text-align: right;\">\n",
       "      <th></th>\n",
       "      <th>day_of_sale</th>\n",
       "      <th>cnt_sale</th>\n",
       "    </tr>\n",
       "  </thead>\n",
       "  <tbody>\n",
       "    <tr>\n",
       "      <th>0</th>\n",
       "      <td>2016-12-01</td>\n",
       "      <td>132</td>\n",
       "    </tr>\n",
       "    <tr>\n",
       "      <th>1</th>\n",
       "      <td>2016-12-02</td>\n",
       "      <td>143</td>\n",
       "    </tr>\n",
       "    <tr>\n",
       "      <th>2</th>\n",
       "      <td>2016-12-03</td>\n",
       "      <td>72</td>\n",
       "    </tr>\n",
       "    <tr>\n",
       "      <th>3</th>\n",
       "      <td>2016-12-05</td>\n",
       "      <td>88</td>\n",
       "    </tr>\n",
       "    <tr>\n",
       "      <th>4</th>\n",
       "      <td>2016-12-06</td>\n",
       "      <td>108</td>\n",
       "    </tr>\n",
       "  </tbody>\n",
       "</table>\n",
       "</div>"
      ],
      "text/plain": [
       "  day_of_sale  cnt_sale\n",
       "0  2016-12-01       132\n",
       "1  2016-12-02       143\n",
       "2  2016-12-03        72\n",
       "3  2016-12-05        88\n",
       "4  2016-12-06       108"
      ]
     },
     "execution_count": 147,
     "metadata": {},
     "output_type": "execute_result"
    }
   ],
   "source": [
    "day_of_sale = cheki.pivot_table(index=['day_of_sale'], values='purchase_price', aggfunc='count').reset_index()\n",
    "day_of_sale=day_of_sale.rename(columns={'purchase_price':'cnt_sale'})\n",
    "day_of_sale.head()"
   ]
  },
  {
   "cell_type": "code",
   "execution_count": 148,
   "metadata": {},
   "outputs": [
    {
     "data": {
      "image/png": "[encoded data removed]",
      "text/plain": [
       "<Figure size 720x576 with 1 Axes>"
      ]
     },
     "metadata": {
      "needs_background": "light"
     },
     "output_type": "display_data"
    }
   ],
   "source": [
    "plt.figure(figsize=(10,8))\n",
    "with plt.style.context('seaborn'):\n",
    "    plt.bar(day_of_sale['day_of_sale'], day_of_sale['cnt_sale'])\n",
    "    plt.title('Количество покупок в день за декабрь 2016 - февраль 2017гг..')\n",
    "    plt.ylabel('Количество покупок')\n",
    "    plt.xticks(rotation=90)\n",
    "plt.show()"
   ]
  },
  {
   "cell_type": "markdown",
   "metadata": {},
   "source": [
    "**Промежуточные выводы:** на графике видим, что количество покупок в день в декабрь 2016 до середины месяца было выше, чем январе и феврале 2017г., что могло быть связано со стремлением людей завершить ремонтные и строительные работы в предверии праздников. В конце декабря и начале января видим пробел в продажах. Он может быть связан как с техническими проблемами в записи данных, так и с графиком работы магазинов. \n",
    "В первом случае - необходимо обратить на причины технических проблем для их избежания в дальнейшем. Во втором случае - обратить внимание на график работы в конце и начале года в праздничные дни, т.к. для сети магазинов это может ежегодно быть причиной недополучения значительной прибыли."
   ]
  },
  {
   "cell_type": "markdown",
   "metadata": {},
   "source": [
    "### Средний чек"
   ]
  },
  {
   "cell_type": "markdown",
   "metadata": {},
   "source": [
    "Посчитаем средний чек по всем данным за имеющийся период для покупателей, учавствующих и НЕ учавствующих в программе лояльности:"
   ]
  },
  {
   "cell_type": "code",
   "execution_count": 149,
   "metadata": {},
   "outputs": [
    {
     "data": {
      "text/html": [
       "<div>\n",
       "<style scoped>\n",
       "    .dataframe tbody tr th:only-of-type {\n",
       "        vertical-align: middle;\n",
       "    }\n",
       "\n",
       "    .dataframe tbody tr th {\n",
       "        vertical-align: top;\n",
       "    }\n",
       "\n",
       "    .dataframe thead th {\n",
       "        text-align: right;\n",
       "    }\n",
       "</style>\n",
       "<table border=\"1\" class=\"dataframe\">\n",
       "  <thead>\n",
       "    <tr style=\"text-align: right;\">\n",
       "      <th></th>\n",
       "      <th>loyalty_program</th>\n",
       "      <th>mean_chek</th>\n",
       "    </tr>\n",
       "  </thead>\n",
       "  <tbody>\n",
       "    <tr>\n",
       "      <th>0</th>\n",
       "      <td>False</td>\n",
       "      <td>133.491759</td>\n",
       "    </tr>\n",
       "    <tr>\n",
       "      <th>1</th>\n",
       "      <td>True</td>\n",
       "      <td>87.190739</td>\n",
       "    </tr>\n",
       "  </tbody>\n",
       "</table>\n",
       "</div>"
      ],
      "text/plain": [
       "   loyalty_program   mean_chek\n",
       "0            False  133.491759\n",
       "1             True   87.190739"
      ]
     },
     "execution_count": 149,
     "metadata": {},
     "output_type": "execute_result"
    }
   ],
   "source": [
    "mean_chek = cheki.pivot_table(index=['loyalty_program'], values = 'purchase_price', aggfunc ='mean').reset_index()\n",
    "mean_chek.rename(columns={'purchase_price':'mean_chek'})"
   ]
  },
  {
   "cell_type": "markdown",
   "metadata": {},
   "source": [
    "**Теперь расчитаем показатель среднего чека по каждому месяцу, с разделением на учавствующих и нет в программе лояльности:**\n",
    "\n",
    "**(без учёта стоимости покупки карты для участия в программе лояльности)**"
   ]
  },
  {
   "cell_type": "markdown",
   "metadata": {},
   "source": [
    "Выделим из таблицы cheki, чеки покупателей учавствующих в программе лояльности и не учавствующих:"
   ]
  },
  {
   "cell_type": "code",
   "execution_count": 150,
   "metadata": {},
   "outputs": [],
   "source": [
    "prog_da = cheki[cheki['loyalty_program']==1]"
   ]
  },
  {
   "cell_type": "code",
   "execution_count": 151,
   "metadata": {},
   "outputs": [],
   "source": [
    "prog_net = cheki[cheki['loyalty_program']==0]"
   ]
  },
  {
   "cell_type": "markdown",
   "metadata": {},
   "source": [
    "Расчитаем средние чеки по месяцам для обоих категорий клиентов:"
   ]
  },
  {
   "cell_type": "code",
   "execution_count": 152,
   "metadata": {},
   "outputs": [
    {
     "data": {
      "text/html": [
       "<div>\n",
       "<style scoped>\n",
       "    .dataframe tbody tr th:only-of-type {\n",
       "        vertical-align: middle;\n",
       "    }\n",
       "\n",
       "    .dataframe tbody tr th {\n",
       "        vertical-align: top;\n",
       "    }\n",
       "\n",
       "    .dataframe thead th {\n",
       "        text-align: right;\n",
       "    }\n",
       "</style>\n",
       "<table border=\"1\" class=\"dataframe\">\n",
       "  <thead>\n",
       "    <tr style=\"text-align: right;\">\n",
       "      <th></th>\n",
       "      <th>month_year_sale</th>\n",
       "      <th>loyalty_program</th>\n",
       "      <th>mean_chek_prog_da</th>\n",
       "    </tr>\n",
       "  </thead>\n",
       "  <tbody>\n",
       "    <tr>\n",
       "      <th>0</th>\n",
       "      <td>2016-12-01</td>\n",
       "      <td>True</td>\n",
       "      <td>82.398444</td>\n",
       "    </tr>\n",
       "    <tr>\n",
       "      <th>1</th>\n",
       "      <td>2017-01-01</td>\n",
       "      <td>True</td>\n",
       "      <td>98.819741</td>\n",
       "    </tr>\n",
       "    <tr>\n",
       "      <th>2</th>\n",
       "      <td>2017-02-01</td>\n",
       "      <td>True</td>\n",
       "      <td>84.433881</td>\n",
       "    </tr>\n",
       "  </tbody>\n",
       "</table>\n",
       "</div>"
      ],
      "text/plain": [
       "  month_year_sale  loyalty_program  mean_chek_prog_da\n",
       "0      2016-12-01             True          82.398444\n",
       "1      2017-01-01             True          98.819741\n",
       "2      2017-02-01             True          84.433881"
      ]
     },
     "execution_count": 152,
     "metadata": {},
     "output_type": "execute_result"
    }
   ],
   "source": [
    "mean_month_chek_da = prog_da.pivot_table(index=['month_year_sale', 'loyalty_program'], values='purchase_price', aggfunc='mean').reset_index()\n",
    "mean_month_chek_da = mean_month_chek_da.rename(columns={'purchase_price':'mean_chek_prog_da'})\n",
    "mean_month_chek_da"
   ]
  },
  {
   "cell_type": "code",
   "execution_count": 153,
   "metadata": {},
   "outputs": [
    {
     "data": {
      "text/html": [
       "<div>\n",
       "<style scoped>\n",
       "    .dataframe tbody tr th:only-of-type {\n",
       "        vertical-align: middle;\n",
       "    }\n",
       "\n",
       "    .dataframe tbody tr th {\n",
       "        vertical-align: top;\n",
       "    }\n",
       "\n",
       "    .dataframe thead th {\n",
       "        text-align: right;\n",
       "    }\n",
       "</style>\n",
       "<table border=\"1\" class=\"dataframe\">\n",
       "  <thead>\n",
       "    <tr style=\"text-align: right;\">\n",
       "      <th></th>\n",
       "      <th>month_year_sale</th>\n",
       "      <th>loyalty_program</th>\n",
       "      <th>mean_chek_prog_net</th>\n",
       "    </tr>\n",
       "  </thead>\n",
       "  <tbody>\n",
       "    <tr>\n",
       "      <th>0</th>\n",
       "      <td>2016-12-01</td>\n",
       "      <td>False</td>\n",
       "      <td>130.553687</td>\n",
       "    </tr>\n",
       "    <tr>\n",
       "      <th>1</th>\n",
       "      <td>2017-01-01</td>\n",
       "      <td>False</td>\n",
       "      <td>146.122799</td>\n",
       "    </tr>\n",
       "    <tr>\n",
       "      <th>2</th>\n",
       "      <td>2017-02-01</td>\n",
       "      <td>False</td>\n",
       "      <td>124.289346</td>\n",
       "    </tr>\n",
       "  </tbody>\n",
       "</table>\n",
       "</div>"
      ],
      "text/plain": [
       "  month_year_sale  loyalty_program  mean_chek_prog_net\n",
       "0      2016-12-01            False          130.553687\n",
       "1      2017-01-01            False          146.122799\n",
       "2      2017-02-01            False          124.289346"
      ]
     },
     "execution_count": 153,
     "metadata": {},
     "output_type": "execute_result"
    }
   ],
   "source": [
    "mean_month_chek_net = prog_net.pivot_table(index=['month_year_sale', 'loyalty_program'], values='purchase_price', aggfunc='mean').reset_index()\n",
    "mean_month_chek_net = mean_month_chek_net.rename(columns={'purchase_price':'mean_chek_prog_net', })\n",
    "mean_month_chek_net"
   ]
  },
  {
   "cell_type": "markdown",
   "metadata": {},
   "source": [
    "Объединим полученные таблицы в одну для построения графика:"
   ]
  },
  {
   "cell_type": "code",
   "execution_count": 154,
   "metadata": {},
   "outputs": [
    {
     "data": {
      "text/html": [
       "<div>\n",
       "<style scoped>\n",
       "    .dataframe tbody tr th:only-of-type {\n",
       "        vertical-align: middle;\n",
       "    }\n",
       "\n",
       "    .dataframe tbody tr th {\n",
       "        vertical-align: top;\n",
       "    }\n",
       "\n",
       "    .dataframe thead th {\n",
       "        text-align: right;\n",
       "    }\n",
       "</style>\n",
       "<table border=\"1\" class=\"dataframe\">\n",
       "  <thead>\n",
       "    <tr style=\"text-align: right;\">\n",
       "      <th></th>\n",
       "      <th>month_year_sale</th>\n",
       "      <th>loyalty_program_x</th>\n",
       "      <th>mean_chek_prog_da</th>\n",
       "      <th>loyalty_program_y</th>\n",
       "      <th>mean_chek_prog_net</th>\n",
       "    </tr>\n",
       "  </thead>\n",
       "  <tbody>\n",
       "    <tr>\n",
       "      <th>0</th>\n",
       "      <td>December,2016</td>\n",
       "      <td>True</td>\n",
       "      <td>82.398444</td>\n",
       "      <td>False</td>\n",
       "      <td>130.553687</td>\n",
       "    </tr>\n",
       "    <tr>\n",
       "      <th>1</th>\n",
       "      <td>January,2017</td>\n",
       "      <td>True</td>\n",
       "      <td>98.819741</td>\n",
       "      <td>False</td>\n",
       "      <td>146.122799</td>\n",
       "    </tr>\n",
       "    <tr>\n",
       "      <th>2</th>\n",
       "      <td>February,2017</td>\n",
       "      <td>True</td>\n",
       "      <td>84.433881</td>\n",
       "      <td>False</td>\n",
       "      <td>124.289346</td>\n",
       "    </tr>\n",
       "  </tbody>\n",
       "</table>\n",
       "</div>"
      ],
      "text/plain": [
       "  month_year_sale  loyalty_program_x  mean_chek_prog_da  loyalty_program_y  \\\n",
       "0   December,2016               True          82.398444              False   \n",
       "1    January,2017               True          98.819741              False   \n",
       "2   February,2017               True          84.433881              False   \n",
       "\n",
       "   mean_chek_prog_net  \n",
       "0          130.553687  \n",
       "1          146.122799  \n",
       "2          124.289346  "
      ]
     },
     "execution_count": 154,
     "metadata": {},
     "output_type": "execute_result"
    }
   ],
   "source": [
    "tab = mean_month_chek_da.merge(mean_month_chek_net, on = 'month_year_sale', how = 'left')\n",
    "\n",
    "# сделаем замену значений в столбце 'month_year_sale', чтобы на графике период отображался в более удобном виде:\n",
    "#tab['month_year_sale']= tab['month_year_sale'].replace(['2016-12-01','2017-01-01','2017-02-01'],['Декабрь 2016','Январь 2017','Февраль 2017'])\n",
    "tab['month_year_sale'] = tab['month_year_sale'].dt.strftime('%B,%Y')\n",
    "tab"
   ]
  },
  {
   "cell_type": "markdown",
   "metadata": {},
   "source": [
    "Отобразим полученные расчётные значения на графике:"
   ]
  },
  {
   "cell_type": "code",
   "execution_count": 155,
   "metadata": {},
   "outputs": [
    {
     "data": {
      "image/png": "[encoded data removed]",
      "text/plain": [
       "<Figure size 720x576 with 1 Axes>"
      ]
     },
     "metadata": {
      "needs_background": "light"
     },
     "output_type": "display_data"
    }
   ],
   "source": [
    "month = tab['month_year_sale']\n",
    "\n",
    "# добавляем на график данные по месяцам о размере среднего чека клиентов, учавствующих 'в программе'\n",
    "da = tab[['month_year_sale','mean_chek_prog_da']].rename(columns={'mean_chek_prog_da':'mean_chek'})\n",
    "da['Категория'] = 'по программе лояльности'\n",
    "\n",
    "# добавляем на график данные по месяцам о размере среднего чека клиентов, 'вне программы'\n",
    "net = tab[['month_year_sale','mean_chek_prog_net']].rename(columns={'mean_chek_prog_net':'mean_chek'})\n",
    "net['Категория'] = 'вне программы лояльности'\n",
    "\n",
    "\n",
    "\n",
    "plt.figure(figsize=(10,8))\n",
    "\n",
    "concat=pd.concat([da,net])\n",
    "sns.barplot(x='month_year_sale', y='mean_chek', hue='Категория', data=concat)\n",
    "\n",
    "plt.grid()\n",
    "plt.title('Средний чек по месяцам с разделением по участию в программе лояльности')\n",
    "plt.xlabel('Период')\n",
    "plt.ylabel('Размер среднего чека')\n",
    "plt.xticks #(rotation=90)\n",
    "plt.show()"
   ]
  },
  {
   "cell_type": "markdown",
   "metadata": {},
   "source": [
    "**Промежуточные выводы:** по сделанным расчетам и графику видим, что средний чек покупок, сделанных по программе лояльности за все месяца исследуемого периода существенно меньше, чем средний чек покупок вне программы лояльности."
   ]
  },
  {
   "cell_type": "markdown",
   "metadata": {},
   "source": [
    "#### Дополнительно посмотрим, как выглядит распределение размеров чеков по при использовании программы лояльности и без неё:"
   ]
  },
  {
   "cell_type": "markdown",
   "metadata": {},
   "source": [
    "Построим диаграмму размаха (\"Ящик с усами\") по размерам чеков с использованием программы и без неё:"
   ]
  },
  {
   "cell_type": "code",
   "execution_count": 156,
   "metadata": {},
   "outputs": [
    {
     "data": {
      "text/plain": [
       "(0.0, 500.0)"
      ]
     },
     "execution_count": 156,
     "metadata": {},
     "output_type": "execute_result"
    },
    {
     "data": {
      "image/png": "[encoded data removed]",
      "text/plain": [
       "<Figure size 1080x720 with 1 Axes>"
      ]
     },
     "metadata": {
      "needs_background": "light"
     },
     "output_type": "display_data"
    }
   ],
   "source": [
    "cheki.boxplot(column='purchase_price', by='loyalty_program', figsize=(15,10))\n",
    "\n",
    "plt.ylim([0, 500])"
   ]
  },
  {
   "cell_type": "markdown",
   "metadata": {},
   "source": [
    "По диаграмме размаха (\"Ящик с усами\") видим, что нормальным распределением значений размера чеков для каждой категории (0 и 1) являются следующие значения:\n",
    "* 0- покупки без участия в программе: стоимостью до 250 руб.\n",
    "* 1- покупки с участием в программе:  стоимостью до 240 руб.  \n",
    "\n",
    "Значения, расположенные после, являются выбросами."
   ]
  },
  {
   "cell_type": "markdown",
   "metadata": {},
   "source": [
    "### Среднее количество покупок"
   ]
  },
  {
   "cell_type": "markdown",
   "metadata": {},
   "source": [
    "**Сначала определим соотношение покупок по количеству, сделанных по программе лояльности и вне её:**"
   ]
  },
  {
   "cell_type": "markdown",
   "metadata": {},
   "source": [
    "Рассчитаем и посмотрим на графике, количество и долю покупок сделанных по программе лояльности и вне её:"
   ]
  },
  {
   "cell_type": "code",
   "execution_count": 157,
   "metadata": {},
   "outputs": [
    {
     "data": {
      "text/html": [
       "<div>\n",
       "<style scoped>\n",
       "    .dataframe tbody tr th:only-of-type {\n",
       "        vertical-align: middle;\n",
       "    }\n",
       "\n",
       "    .dataframe tbody tr th {\n",
       "        vertical-align: top;\n",
       "    }\n",
       "\n",
       "    .dataframe thead th {\n",
       "        text-align: right;\n",
       "    }\n",
       "</style>\n",
       "<table border=\"1\" class=\"dataframe\">\n",
       "  <thead>\n",
       "    <tr style=\"text-align: right;\">\n",
       "      <th></th>\n",
       "      <th>purchase_ID</th>\n",
       "      <th>customer_ID</th>\n",
       "      <th>shop_ID</th>\n",
       "      <th>loyalty_program</th>\n",
       "      <th>purchase_date</th>\n",
       "      <th>day_of_sale</th>\n",
       "      <th>day_of_week_sale</th>\n",
       "      <th>month_year_sale</th>\n",
       "      <th>purchase_price</th>\n",
       "    </tr>\n",
       "  </thead>\n",
       "  <tbody>\n",
       "    <tr>\n",
       "      <th>0</th>\n",
       "      <td>536365</td>\n",
       "      <td>23529.0</td>\n",
       "      <td>Shop 0</td>\n",
       "      <td>True</td>\n",
       "      <td>2016-12-01 08:26:00</td>\n",
       "      <td>2016-12-01</td>\n",
       "      <td>3</td>\n",
       "      <td>2016-12-01</td>\n",
       "      <td>45.905</td>\n",
       "    </tr>\n",
       "    <tr>\n",
       "      <th>1</th>\n",
       "      <td>536366</td>\n",
       "      <td>23529.0</td>\n",
       "      <td>Shop 0</td>\n",
       "      <td>True</td>\n",
       "      <td>2016-12-01 08:28:00</td>\n",
       "      <td>2016-12-01</td>\n",
       "      <td>3</td>\n",
       "      <td>2016-12-01</td>\n",
       "      <td>3.950</td>\n",
       "    </tr>\n",
       "    <tr>\n",
       "      <th>2</th>\n",
       "      <td>536367</td>\n",
       "      <td>18726.0</td>\n",
       "      <td>Shop 0</td>\n",
       "      <td>False</td>\n",
       "      <td>2016-12-01 08:34:00</td>\n",
       "      <td>2016-12-01</td>\n",
       "      <td>3</td>\n",
       "      <td>2016-12-01</td>\n",
       "      <td>69.455</td>\n",
       "    </tr>\n",
       "    <tr>\n",
       "      <th>3</th>\n",
       "      <td>536368</td>\n",
       "      <td>18726.0</td>\n",
       "      <td>Shop 0</td>\n",
       "      <td>False</td>\n",
       "      <td>2016-12-01 08:34:00</td>\n",
       "      <td>2016-12-01</td>\n",
       "      <td>3</td>\n",
       "      <td>2016-12-01</td>\n",
       "      <td>38.640</td>\n",
       "    </tr>\n",
       "    <tr>\n",
       "      <th>4</th>\n",
       "      <td>536369</td>\n",
       "      <td>18726.0</td>\n",
       "      <td>Shop 0</td>\n",
       "      <td>False</td>\n",
       "      <td>2016-12-01 08:35:00</td>\n",
       "      <td>2016-12-01</td>\n",
       "      <td>3</td>\n",
       "      <td>2016-12-01</td>\n",
       "      <td>6.600</td>\n",
       "    </tr>\n",
       "  </tbody>\n",
       "</table>\n",
       "</div>"
      ],
      "text/plain": [
       "  purchase_ID  customer_ID shop_ID  loyalty_program       purchase_date  \\\n",
       "0      536365      23529.0  Shop 0             True 2016-12-01 08:26:00   \n",
       "1      536366      23529.0  Shop 0             True 2016-12-01 08:28:00   \n",
       "2      536367      18726.0  Shop 0            False 2016-12-01 08:34:00   \n",
       "3      536368      18726.0  Shop 0            False 2016-12-01 08:34:00   \n",
       "4      536369      18726.0  Shop 0            False 2016-12-01 08:35:00   \n",
       "\n",
       "  day_of_sale  day_of_week_sale month_year_sale  purchase_price  \n",
       "0  2016-12-01                 3      2016-12-01          45.905  \n",
       "1  2016-12-01                 3      2016-12-01           3.950  \n",
       "2  2016-12-01                 3      2016-12-01          69.455  \n",
       "3  2016-12-01                 3      2016-12-01          38.640  \n",
       "4  2016-12-01                 3      2016-12-01           6.600  "
      ]
     },
     "execution_count": 157,
     "metadata": {},
     "output_type": "execute_result"
    }
   ],
   "source": [
    "cheki.head(5)"
   ]
  },
  {
   "cell_type": "code",
   "execution_count": 158,
   "metadata": {},
   "outputs": [
    {
     "name": "stdout",
     "output_type": "stream",
     "text": [
      "Количество покупок вне программы лояльности: 2735\n"
     ]
    }
   ],
   "source": [
    "status_prog_chek_net = len(cheki[cheki['loyalty_program']==False])\n",
    "print('Количество покупок вне программы лояльности:', status_prog_chek_net) "
   ]
  },
  {
   "cell_type": "code",
   "execution_count": 159,
   "metadata": {},
   "outputs": [
    {
     "name": "stdout",
     "output_type": "stream",
     "text": [
      "Количество покупок по программе лояльности: 1136\n"
     ]
    }
   ],
   "source": [
    "status_prog_chek_da = len(cheki[cheki['loyalty_program']==True])\n",
    "print('Количество покупок по программе лояльности:',status_prog_chek_da)"
   ]
  },
  {
   "cell_type": "code",
   "execution_count": 160,
   "metadata": {},
   "outputs": [
    {
     "data": {
      "application/vnd.plotly.v1+json": {
       "config": {
        "plotlyServerURL": "https://plot.ly"
       },
       "data": [
        {
         "labels": [
          "Кол-во покупок по программе",
          "Кол-во покупок вне программы"
         ],
         "type": "pie",
         "values": [
          1136,
          2735
         ]
        }
       ],
       "layout": {
        "template": {
         "data": {
          "bar": [
           {
            "error_x": {
             "color": "#2a3f5f"
            },
            "error_y": {
             "color": "#2a3f5f"
            },
            "marker": {
             "line": {
              "color": "#E5ECF6",
              "width": 0.5
             },
             "pattern": {
              "fillmode": "overlay",
              "size": 10,
              "solidity": 0.2
             }
            },
            "type": "bar"
           }
          ],
          "barpolar": [
           {
            "marker": {
             "line": {
              "color": "#E5ECF6",
              "width": 0.5
             },
             "pattern": {
              "fillmode": "overlay",
              "size": 10,
              "solidity": 0.2
             }
            },
            "type": "barpolar"
           }
          ],
          "carpet": [
           {
            "aaxis": {
             "endlinecolor": "#2a3f5f",
             "gridcolor": "white",
             "linecolor": "white",
             "minorgridcolor": "white",
             "startlinecolor": "#2a3f5f"
            },
            "baxis": {
             "endlinecolor": "#2a3f5f",
             "gridcolor": "white",
             "linecolor": "white",
             "minorgridcolor": "white",
             "startlinecolor": "#2a3f5f"
            },
            "type": "carpet"
           }
          ],
          "choropleth": [
           {
            "colorbar": {
             "outlinewidth": 0,
             "ticks": ""
            },
            "type": "choropleth"
           }
          ],
          "contour": [
           {
            "colorbar": {
             "outlinewidth": 0,
             "ticks": ""
            },
            "colorscale": [
             [
              0,
              "#0d0887"
             ],
             [
              0.1111111111111111,
              "#46039f"
             ],
             [
              0.2222222222222222,
              "#7201a8"
             ],
             [
              0.3333333333333333,
              "#9c179e"
             ],
             [
              0.4444444444444444,
              "#bd3786"
             ],
             [
              0.5555555555555556,
              "#d8576b"
             ],
             [
              0.6666666666666666,
              "#ed7953"
             ],
             [
              0.7777777777777778,
              "#fb9f3a"
             ],
             [
              0.8888888888888888,
              "#fdca26"
             ],
             [
              1,
              "#f0f921"
             ]
            ],
            "type": "contour"
           }
          ],
          "contourcarpet": [
           {
            "colorbar": {
             "outlinewidth": 0,
             "ticks": ""
            },
            "type": "contourcarpet"
           }
          ],
          "heatmap": [
           {
            "colorbar": {
             "outlinewidth": 0,
             "ticks": ""
            },
            "colorscale": [
             [
              0,
              "#0d0887"
             ],
             [
              0.1111111111111111,
              "#46039f"
             ],
             [
              0.2222222222222222,
              "#7201a8"
             ],
             [
              0.3333333333333333,
              "#9c179e"
             ],
             [
              0.4444444444444444,
              "#bd3786"
             ],
             [
              0.5555555555555556,
              "#d8576b"
             ],
             [
              0.6666666666666666,
              "#ed7953"
             ],
             [
              0.7777777777777778,
              "#fb9f3a"
             ],
             [
              0.8888888888888888,
              "#fdca26"
             ],
             [
              1,
              "#f0f921"
             ]
            ],
            "type": "heatmap"
           }
          ],
          "heatmapgl": [
           {
            "colorbar": {
             "outlinewidth": 0,
             "ticks": ""
            },
            "colorscale": [
             [
              0,
              "#0d0887"
             ],
             [
              0.1111111111111111,
              "#46039f"
             ],
             [
              0.2222222222222222,
              "#7201a8"
             ],
             [
              0.3333333333333333,
              "#9c179e"
             ],
             [
              0.4444444444444444,
              "#bd3786"
             ],
             [
              0.5555555555555556,
              "#d8576b"
             ],
             [
              0.6666666666666666,
              "#ed7953"
             ],
             [
              0.7777777777777778,
              "#fb9f3a"
             ],
             [
              0.8888888888888888,
              "#fdca26"
             ],
             [
              1,
              "#f0f921"
             ]
            ],
            "type": "heatmapgl"
           }
          ],
          "histogram": [
           {
            "marker": {
             "pattern": {
              "fillmode": "overlay",
              "size": 10,
              "solidity": 0.2
             }
            },
            "type": "histogram"
           }
          ],
          "histogram2d": [
           {
            "colorbar": {
             "outlinewidth": 0,
             "ticks": ""
            },
            "colorscale": [
             [
              0,
              "#0d0887"
             ],
             [
              0.1111111111111111,
              "#46039f"
             ],
             [
              0.2222222222222222,
              "#7201a8"
             ],
             [
              0.3333333333333333,
              "#9c179e"
             ],
             [
              0.4444444444444444,
              "#bd3786"
             ],
             [
              0.5555555555555556,
              "#d8576b"
             ],
             [
              0.6666666666666666,
              "#ed7953"
             ],
             [
              0.7777777777777778,
              "#fb9f3a"
             ],
             [
              0.8888888888888888,
              "#fdca26"
             ],
             [
              1,
              "#f0f921"
             ]
            ],
            "type": "histogram2d"
           }
          ],
          "histogram2dcontour": [
           {
            "colorbar": {
             "outlinewidth": 0,
             "ticks": ""
            },
            "colorscale": [
             [
              0,
              "#0d0887"
             ],
             [
              0.1111111111111111,
              "#46039f"
             ],
             [
              0.2222222222222222,
              "#7201a8"
             ],
             [
              0.3333333333333333,
              "#9c179e"
             ],
             [
              0.4444444444444444,
              "#bd3786"
             ],
             [
              0.5555555555555556,
              "#d8576b"
             ],
             [
              0.6666666666666666,
              "#ed7953"
             ],
             [
              0.7777777777777778,
              "#fb9f3a"
             ],
             [
              0.8888888888888888,
              "#fdca26"
             ],
             [
              1,
              "#f0f921"
             ]
            ],
            "type": "histogram2dcontour"
           }
          ],
          "mesh3d": [
           {
            "colorbar": {
             "outlinewidth": 0,
             "ticks": ""
            },
            "type": "mesh3d"
           }
          ],
          "parcoords": [
           {
            "line": {
             "colorbar": {
              "outlinewidth": 0,
              "ticks": ""
             }
            },
            "type": "parcoords"
           }
          ],
          "pie": [
           {
            "automargin": true,
            "type": "pie"
           }
          ],
          "scatter": [
           {
            "fillpattern": {
             "fillmode": "overlay",
             "size": 10,
             "solidity": 0.2
            },
            "type": "scatter"
           }
          ],
          "scatter3d": [
           {
            "line": {
             "colorbar": {
              "outlinewidth": 0,
              "ticks": ""
             }
            },
            "marker": {
             "colorbar": {
              "outlinewidth": 0,
              "ticks": ""
             }
            },
            "type": "scatter3d"
           }
          ],
          "scattercarpet": [
           {
            "marker": {
             "colorbar": {
              "outlinewidth": 0,
              "ticks": ""
             }
            },
            "type": "scattercarpet"
           }
          ],
          "scattergeo": [
           {
            "marker": {
             "colorbar": {
              "outlinewidth": 0,
              "ticks": ""
             }
            },
            "type": "scattergeo"
           }
          ],
          "scattergl": [
           {
            "marker": {
             "colorbar": {
              "outlinewidth": 0,
              "ticks": ""
             }
            },
            "type": "scattergl"
           }
          ],
          "scattermapbox": [
           {
            "marker": {
             "colorbar": {
              "outlinewidth": 0,
              "ticks": ""
             }
            },
            "type": "scattermapbox"
           }
          ],
          "scatterpolar": [
           {
            "marker": {
             "colorbar": {
              "outlinewidth": 0,
              "ticks": ""
             }
            },
            "type": "scatterpolar"
           }
          ],
          "scatterpolargl": [
           {
            "marker": {
             "colorbar": {
              "outlinewidth": 0,
              "ticks": ""
             }
            },
            "type": "scatterpolargl"
           }
          ],
          "scatterternary": [
           {
            "marker": {
             "colorbar": {
              "outlinewidth": 0,
              "ticks": ""
             }
            },
            "type": "scatterternary"
           }
          ],
          "surface": [
           {
            "colorbar": {
             "outlinewidth": 0,
             "ticks": ""
            },
            "colorscale": [
             [
              0,
              "#0d0887"
             ],
             [
              0.1111111111111111,
              "#46039f"
             ],
             [
              0.2222222222222222,
              "#7201a8"
             ],
             [
              0.3333333333333333,
              "#9c179e"
             ],
             [
              0.4444444444444444,
              "#bd3786"
             ],
             [
              0.5555555555555556,
              "#d8576b"
             ],
             [
              0.6666666666666666,
              "#ed7953"
             ],
             [
              0.7777777777777778,
              "#fb9f3a"
             ],
             [
              0.8888888888888888,
              "#fdca26"
             ],
             [
              1,
              "#f0f921"
             ]
            ],
            "type": "surface"
           }
          ],
          "table": [
           {
            "cells": {
             "fill": {
              "color": "#EBF0F8"
             },
             "line": {
              "color": "white"
             }
            },
            "header": {
             "fill": {
              "color": "#C8D4E3"
             },
             "line": {
              "color": "white"
             }
            },
            "type": "table"
           }
          ]
         },
         "layout": {
          "annotationdefaults": {
           "arrowcolor": "#2a3f5f",
           "arrowhead": 0,
           "arrowwidth": 1
          },
          "autotypenumbers": "strict",
          "coloraxis": {
           "colorbar": {
            "outlinewidth": 0,
            "ticks": ""
           }
          },
          "colorscale": {
           "diverging": [
            [
             0,
             "#8e0152"
            ],
            [
             0.1,
             "#c51b7d"
            ],
            [
             0.2,
             "#de77ae"
            ],
            [
             0.3,
             "#f1b6da"
            ],
            [
             0.4,
             "#fde0ef"
            ],
            [
             0.5,
             "#f7f7f7"
            ],
            [
             0.6,
             "#e6f5d0"
            ],
            [
             0.7,
             "#b8e186"
            ],
            [
             0.8,
             "#7fbc41"
            ],
            [
             0.9,
             "#4d9221"
            ],
            [
             1,
             "#276419"
            ]
           ],
           "sequential": [
            [
             0,
             "#0d0887"
            ],
            [
             0.1111111111111111,
             "#46039f"
            ],
            [
             0.2222222222222222,
             "#7201a8"
            ],
            [
             0.3333333333333333,
             "#9c179e"
            ],
            [
             0.4444444444444444,
             "#bd3786"
            ],
            [
             0.5555555555555556,
             "#d8576b"
            ],
            [
             0.6666666666666666,
             "#ed7953"
            ],
            [
             0.7777777777777778,
             "#fb9f3a"
            ],
            [
             0.8888888888888888,
             "#fdca26"
            ],
            [
             1,
             "#f0f921"
            ]
           ],
           "sequentialminus": [
            [
             0,
             "#0d0887"
            ],
            [
             0.1111111111111111,
             "#46039f"
            ],
            [
             0.2222222222222222,
             "#7201a8"
            ],
            [
             0.3333333333333333,
             "#9c179e"
            ],
            [
             0.4444444444444444,
             "#bd3786"
            ],
            [
             0.5555555555555556,
             "#d8576b"
            ],
            [
             0.6666666666666666,
             "#ed7953"
            ],
            [
             0.7777777777777778,
             "#fb9f3a"
            ],
            [
             0.8888888888888888,
             "#fdca26"
            ],
            [
             1,
             "#f0f921"
            ]
           ]
          },
          "colorway": [
           "#636efa",
           "#EF553B",
           "#00cc96",
           "#ab63fa",
           "#FFA15A",
           "#19d3f3",
           "#FF6692",
           "#B6E880",
           "#FF97FF",
           "#FECB52"
          ],
          "font": {
           "color": "#2a3f5f"
          },
          "geo": {
           "bgcolor": "white",
           "lakecolor": "white",
           "landcolor": "#E5ECF6",
           "showlakes": true,
           "showland": true,
           "subunitcolor": "white"
          },
          "hoverlabel": {
           "align": "left"
          },
          "hovermode": "closest",
          "mapbox": {
           "style": "light"
          },
          "paper_bgcolor": "white",
          "plot_bgcolor": "#E5ECF6",
          "polar": {
           "angularaxis": {
            "gridcolor": "white",
            "linecolor": "white",
            "ticks": ""
           },
           "bgcolor": "#E5ECF6",
           "radialaxis": {
            "gridcolor": "white",
            "linecolor": "white",
            "ticks": ""
           }
          },
          "scene": {
           "xaxis": {
            "backgroundcolor": "#E5ECF6",
            "gridcolor": "white",
            "gridwidth": 2,
            "linecolor": "white",
            "showbackground": true,
            "ticks": "",
            "zerolinecolor": "white"
           },
           "yaxis": {
            "backgroundcolor": "#E5ECF6",
            "gridcolor": "white",
            "gridwidth": 2,
            "linecolor": "white",
            "showbackground": true,
            "ticks": "",
            "zerolinecolor": "white"
           },
           "zaxis": {
            "backgroundcolor": "#E5ECF6",
            "gridcolor": "white",
            "gridwidth": 2,
            "linecolor": "white",
            "showbackground": true,
            "ticks": "",
            "zerolinecolor": "white"
           }
          },
          "shapedefaults": {
           "line": {
            "color": "#2a3f5f"
           }
          },
          "ternary": {
           "aaxis": {
            "gridcolor": "white",
            "linecolor": "white",
            "ticks": ""
           },
           "baxis": {
            "gridcolor": "white",
            "linecolor": "white",
            "ticks": ""
           },
           "bgcolor": "#E5ECF6",
           "caxis": {
            "gridcolor": "white",
            "linecolor": "white",
            "ticks": ""
           }
          },
          "title": {
           "x": 0.05
          },
          "xaxis": {
           "automargin": true,
           "gridcolor": "white",
           "linecolor": "white",
           "ticks": "",
           "title": {
            "standoff": 15
           },
           "zerolinecolor": "white",
           "zerolinewidth": 2
          },
          "yaxis": {
           "automargin": true,
           "gridcolor": "white",
           "linecolor": "white",
           "ticks": "",
           "title": {
            "standoff": 15
           },
           "zerolinecolor": "white",
           "zerolinewidth": 2
          }
         }
        }
       }
      },
      "text/html": [
       "<div>                            <div id=\"95b9e7fc-8e25-42f8-a5be-d9a7633e5788\" class=\"plotly-graph-div\" style=\"height:525px; width:100%;\"></div>            <script type=\"text/javascript\">                require([\"plotly\"], function(Plotly) {                    window.PLOTLYENV=window.PLOTLYENV || {};                                    if (document.getElementById(\"95b9e7fc-8e25-42f8-a5be-d9a7633e5788\")) {                    Plotly.newPlot(                        \"95b9e7fc-8e25-42f8-a5be-d9a7633e5788\",                        [{\"labels\":[\"\\u041a\\u043e\\u043b-\\u0432\\u043e \\u043f\\u043e\\u043a\\u0443\\u043f\\u043e\\u043a \\u043f\\u043e \\u043f\\u0440\\u043e\\u0433\\u0440\\u0430\\u043c\\u043c\\u0435\",\"\\u041a\\u043e\\u043b-\\u0432\\u043e \\u043f\\u043e\\u043a\\u0443\\u043f\\u043e\\u043a \\u0432\\u043d\\u0435 \\u043f\\u0440\\u043e\\u0433\\u0440\\u0430\\u043c\\u043c\\u044b\"],\"values\":[1136,2735],\"type\":\"pie\"}],                        {\"template\":{\"data\":{\"histogram2dcontour\":[{\"type\":\"histogram2dcontour\",\"colorbar\":{\"outlinewidth\":0,\"ticks\":\"\"},\"colorscale\":[[0.0,\"#0d0887\"],[0.1111111111111111,\"#46039f\"],[0.2222222222222222,\"#7201a8\"],[0.3333333333333333,\"#9c179e\"],[0.4444444444444444,\"#bd3786\"],[0.5555555555555556,\"#d8576b\"],[0.6666666666666666,\"#ed7953\"],[0.7777777777777778,\"#fb9f3a\"],[0.8888888888888888,\"#fdca26\"],[1.0,\"#f0f921\"]]}],\"choropleth\":[{\"type\":\"choropleth\",\"colorbar\":{\"outlinewidth\":0,\"ticks\":\"\"}}],\"histogram2d\":[{\"type\":\"histogram2d\",\"colorbar\":{\"outlinewidth\":0,\"ticks\":\"\"},\"colorscale\":[[0.0,\"#0d0887\"],[0.1111111111111111,\"#46039f\"],[0.2222222222222222,\"#7201a8\"],[0.3333333333333333,\"#9c179e\"],[0.4444444444444444,\"#bd3786\"],[0.5555555555555556,\"#d8576b\"],[0.6666666666666666,\"#ed7953\"],[0.7777777777777778,\"#fb9f3a\"],[0.8888888888888888,\"#fdca26\"],[1.0,\"#f0f921\"]]}],\"heatmap\":[{\"type\":\"heatmap\",\"colorbar\":{\"outlinewidth\":0,\"ticks\":\"\"},\"colorscale\":[[0.0,\"#0d0887\"],[0.1111111111111111,\"#46039f\"],[0.2222222222222222,\"#7201a8\"],[0.3333333333333333,\"#9c179e\"],[0.4444444444444444,\"#bd3786\"],[0.5555555555555556,\"#d8576b\"],[0.6666666666666666,\"#ed7953\"],[0.7777777777777778,\"#fb9f3a\"],[0.8888888888888888,\"#fdca26\"],[1.0,\"#f0f921\"]]}],\"heatmapgl\":[{\"type\":\"heatmapgl\",\"colorbar\":{\"outlinewidth\":0,\"ticks\":\"\"},\"colorscale\":[[0.0,\"#0d0887\"],[0.1111111111111111,\"#46039f\"],[0.2222222222222222,\"#7201a8\"],[0.3333333333333333,\"#9c179e\"],[0.4444444444444444,\"#bd3786\"],[0.5555555555555556,\"#d8576b\"],[0.6666666666666666,\"#ed7953\"],[0.7777777777777778,\"#fb9f3a\"],[0.8888888888888888,\"#fdca26\"],[1.0,\"#f0f921\"]]}],\"contourcarpet\":[{\"type\":\"contourcarpet\",\"colorbar\":{\"outlinewidth\":0,\"ticks\":\"\"}}],\"contour\":[{\"type\":\"contour\",\"colorbar\":{\"outlinewidth\":0,\"ticks\":\"\"},\"colorscale\":[[0.0,\"#0d0887\"],[0.1111111111111111,\"#46039f\"],[0.2222222222222222,\"#7201a8\"],[0.3333333333333333,\"#9c179e\"],[0.4444444444444444,\"#bd3786\"],[0.5555555555555556,\"#d8576b\"],[0.6666666666666666,\"#ed7953\"],[0.7777777777777778,\"#fb9f3a\"],[0.8888888888888888,\"#fdca26\"],[1.0,\"#f0f921\"]]}],\"surface\":[{\"type\":\"surface\",\"colorbar\":{\"outlinewidth\":0,\"ticks\":\"\"},\"colorscale\":[[0.0,\"#0d0887\"],[0.1111111111111111,\"#46039f\"],[0.2222222222222222,\"#7201a8\"],[0.3333333333333333,\"#9c179e\"],[0.4444444444444444,\"#bd3786\"],[0.5555555555555556,\"#d8576b\"],[0.6666666666666666,\"#ed7953\"],[0.7777777777777778,\"#fb9f3a\"],[0.8888888888888888,\"#fdca26\"],[1.0,\"#f0f921\"]]}],\"mesh3d\":[{\"type\":\"mesh3d\",\"colorbar\":{\"outlinewidth\":0,\"ticks\":\"\"}}],\"scatter\":[{\"fillpattern\":{\"fillmode\":\"overlay\",\"size\":10,\"solidity\":0.2},\"type\":\"scatter\"}],\"parcoords\":[{\"type\":\"parcoords\",\"line\":{\"colorbar\":{\"outlinewidth\":0,\"ticks\":\"\"}}}],\"scatterpolargl\":[{\"type\":\"scatterpolargl\",\"marker\":{\"colorbar\":{\"outlinewidth\":0,\"ticks\":\"\"}}}],\"bar\":[{\"error_x\":{\"color\":\"#2a3f5f\"},\"error_y\":{\"color\":\"#2a3f5f\"},\"marker\":{\"line\":{\"color\":\"#E5ECF6\",\"width\":0.5},\"pattern\":{\"fillmode\":\"overlay\",\"size\":10,\"solidity\":0.2}},\"type\":\"bar\"}],\"scattergeo\":[{\"type\":\"scattergeo\",\"marker\":{\"colorbar\":{\"outlinewidth\":0,\"ticks\":\"\"}}}],\"scatterpolar\":[{\"type\":\"scatterpolar\",\"marker\":{\"colorbar\":{\"outlinewidth\":0,\"ticks\":\"\"}}}],\"histogram\":[{\"marker\":{\"pattern\":{\"fillmode\":\"overlay\",\"size\":10,\"solidity\":0.2}},\"type\":\"histogram\"}],\"scattergl\":[{\"type\":\"scattergl\",\"marker\":{\"colorbar\":{\"outlinewidth\":0,\"ticks\":\"\"}}}],\"scatter3d\":[{\"type\":\"scatter3d\",\"line\":{\"colorbar\":{\"outlinewidth\":0,\"ticks\":\"\"}},\"marker\":{\"colorbar\":{\"outlinewidth\":0,\"ticks\":\"\"}}}],\"scattermapbox\":[{\"type\":\"scattermapbox\",\"marker\":{\"colorbar\":{\"outlinewidth\":0,\"ticks\":\"\"}}}],\"scatterternary\":[{\"type\":\"scatterternary\",\"marker\":{\"colorbar\":{\"outlinewidth\":0,\"ticks\":\"\"}}}],\"scattercarpet\":[{\"type\":\"scattercarpet\",\"marker\":{\"colorbar\":{\"outlinewidth\":0,\"ticks\":\"\"}}}],\"carpet\":[{\"aaxis\":{\"endlinecolor\":\"#2a3f5f\",\"gridcolor\":\"white\",\"linecolor\":\"white\",\"minorgridcolor\":\"white\",\"startlinecolor\":\"#2a3f5f\"},\"baxis\":{\"endlinecolor\":\"#2a3f5f\",\"gridcolor\":\"white\",\"linecolor\":\"white\",\"minorgridcolor\":\"white\",\"startlinecolor\":\"#2a3f5f\"},\"type\":\"carpet\"}],\"table\":[{\"cells\":{\"fill\":{\"color\":\"#EBF0F8\"},\"line\":{\"color\":\"white\"}},\"header\":{\"fill\":{\"color\":\"#C8D4E3\"},\"line\":{\"color\":\"white\"}},\"type\":\"table\"}],\"barpolar\":[{\"marker\":{\"line\":{\"color\":\"#E5ECF6\",\"width\":0.5},\"pattern\":{\"fillmode\":\"overlay\",\"size\":10,\"solidity\":0.2}},\"type\":\"barpolar\"}],\"pie\":[{\"automargin\":true,\"type\":\"pie\"}]},\"layout\":{\"autotypenumbers\":\"strict\",\"colorway\":[\"#636efa\",\"#EF553B\",\"#00cc96\",\"#ab63fa\",\"#FFA15A\",\"#19d3f3\",\"#FF6692\",\"#B6E880\",\"#FF97FF\",\"#FECB52\"],\"font\":{\"color\":\"#2a3f5f\"},\"hovermode\":\"closest\",\"hoverlabel\":{\"align\":\"left\"},\"paper_bgcolor\":\"white\",\"plot_bgcolor\":\"#E5ECF6\",\"polar\":{\"bgcolor\":\"#E5ECF6\",\"angularaxis\":{\"gridcolor\":\"white\",\"linecolor\":\"white\",\"ticks\":\"\"},\"radialaxis\":{\"gridcolor\":\"white\",\"linecolor\":\"white\",\"ticks\":\"\"}},\"ternary\":{\"bgcolor\":\"#E5ECF6\",\"aaxis\":{\"gridcolor\":\"white\",\"linecolor\":\"white\",\"ticks\":\"\"},\"baxis\":{\"gridcolor\":\"white\",\"linecolor\":\"white\",\"ticks\":\"\"},\"caxis\":{\"gridcolor\":\"white\",\"linecolor\":\"white\",\"ticks\":\"\"}},\"coloraxis\":{\"colorbar\":{\"outlinewidth\":0,\"ticks\":\"\"}},\"colorscale\":{\"sequential\":[[0.0,\"#0d0887\"],[0.1111111111111111,\"#46039f\"],[0.2222222222222222,\"#7201a8\"],[0.3333333333333333,\"#9c179e\"],[0.4444444444444444,\"#bd3786\"],[0.5555555555555556,\"#d8576b\"],[0.6666666666666666,\"#ed7953\"],[0.7777777777777778,\"#fb9f3a\"],[0.8888888888888888,\"#fdca26\"],[1.0,\"#f0f921\"]],\"sequentialminus\":[[0.0,\"#0d0887\"],[0.1111111111111111,\"#46039f\"],[0.2222222222222222,\"#7201a8\"],[0.3333333333333333,\"#9c179e\"],[0.4444444444444444,\"#bd3786\"],[0.5555555555555556,\"#d8576b\"],[0.6666666666666666,\"#ed7953\"],[0.7777777777777778,\"#fb9f3a\"],[0.8888888888888888,\"#fdca26\"],[1.0,\"#f0f921\"]],\"diverging\":[[0,\"#8e0152\"],[0.1,\"#c51b7d\"],[0.2,\"#de77ae\"],[0.3,\"#f1b6da\"],[0.4,\"#fde0ef\"],[0.5,\"#f7f7f7\"],[0.6,\"#e6f5d0\"],[0.7,\"#b8e186\"],[0.8,\"#7fbc41\"],[0.9,\"#4d9221\"],[1,\"#276419\"]]},\"xaxis\":{\"gridcolor\":\"white\",\"linecolor\":\"white\",\"ticks\":\"\",\"title\":{\"standoff\":15},\"zerolinecolor\":\"white\",\"automargin\":true,\"zerolinewidth\":2},\"yaxis\":{\"gridcolor\":\"white\",\"linecolor\":\"white\",\"ticks\":\"\",\"title\":{\"standoff\":15},\"zerolinecolor\":\"white\",\"automargin\":true,\"zerolinewidth\":2},\"scene\":{\"xaxis\":{\"backgroundcolor\":\"#E5ECF6\",\"gridcolor\":\"white\",\"linecolor\":\"white\",\"showbackground\":true,\"ticks\":\"\",\"zerolinecolor\":\"white\",\"gridwidth\":2},\"yaxis\":{\"backgroundcolor\":\"#E5ECF6\",\"gridcolor\":\"white\",\"linecolor\":\"white\",\"showbackground\":true,\"ticks\":\"\",\"zerolinecolor\":\"white\",\"gridwidth\":2},\"zaxis\":{\"backgroundcolor\":\"#E5ECF6\",\"gridcolor\":\"white\",\"linecolor\":\"white\",\"showbackground\":true,\"ticks\":\"\",\"zerolinecolor\":\"white\",\"gridwidth\":2}},\"shapedefaults\":{\"line\":{\"color\":\"#2a3f5f\"}},\"annotationdefaults\":{\"arrowcolor\":\"#2a3f5f\",\"arrowhead\":0,\"arrowwidth\":1},\"geo\":{\"bgcolor\":\"white\",\"landcolor\":\"#E5ECF6\",\"subunitcolor\":\"white\",\"showland\":true,\"showlakes\":true,\"lakecolor\":\"white\"},\"title\":{\"x\":0.05},\"mapbox\":{\"style\":\"light\"}}}},                        {\"responsive\": true}                    ).then(function(){\n",
       "                            \n",
       "var gd = document.getElementById('95b9e7fc-8e25-42f8-a5be-d9a7633e5788');\n",
       "var x = new MutationObserver(function (mutations, observer) {{\n",
       "        var display = window.getComputedStyle(gd).display;\n",
       "        if (!display || display === 'none') {{\n",
       "            console.log([gd, 'removed!']);\n",
       "            Plotly.purge(gd);\n",
       "            observer.disconnect();\n",
       "        }}\n",
       "}});\n",
       "\n",
       "// Listen for the removal of the full notebook cells\n",
       "var notebookContainer = gd.closest('#notebook-container');\n",
       "if (notebookContainer) {{\n",
       "    x.observe(notebookContainer, {childList: true});\n",
       "}}\n",
       "\n",
       "// Listen for the clearing of the current output cell\n",
       "var outputEl = gd.closest('.output');\n",
       "if (outputEl) {{\n",
       "    x.observe(outputEl, {childList: true});\n",
       "}}\n",
       "\n",
       "                        })                };                });            </script>        </div>"
      ]
     },
     "metadata": {},
     "output_type": "display_data"
    }
   ],
   "source": [
    "name_rest = ['Кол-во покупок по программе', 'Кол-во покупок вне программы']\n",
    "values = [status_prog_chek_da, status_prog_chek_net]\n",
    "\n",
    "fig = go.Figure(data=[go.Pie(labels=name_rest, values=values)])\n",
    "fig.show() "
   ]
  },
  {
   "cell_type": "markdown",
   "metadata": {},
   "source": [
    "<div class=\"alert alert-danger\">\n",
    "    \n",
    "**Комментарий ревьюера**\n",
    "\n",
    "**#ошибка**\n",
    "\n",
    "Для построения графика используй данные из таблицы. Вводить числа вручную - плохой стиль (хардкод). При любом изменении в данных (в предобработке, например) тебе придется менять все руками\n",
    "</div>"
   ]
  },
  {
   "cell_type": "markdown",
   "metadata": {},
   "source": [
    "**Промежуточные вывыоды.** На графике видим:\n",
    "* что 70,8%  покупок за исследуемый период сделаны вне программы лояльности,\n",
    "* 29,2% покупок сделано по программе лояльности."
   ]
  },
  {
   "cell_type": "markdown",
   "metadata": {},
   "source": [
    "**Посчитаем количество покупок по месяцам:**"
   ]
  },
  {
   "cell_type": "code",
   "execution_count": 161,
   "metadata": {},
   "outputs": [
    {
     "data": {
      "text/html": [
       "<div>\n",
       "<style scoped>\n",
       "    .dataframe tbody tr th:only-of-type {\n",
       "        vertical-align: middle;\n",
       "    }\n",
       "\n",
       "    .dataframe tbody tr th {\n",
       "        vertical-align: top;\n",
       "    }\n",
       "\n",
       "    .dataframe thead th {\n",
       "        text-align: right;\n",
       "    }\n",
       "</style>\n",
       "<table border=\"1\" class=\"dataframe\">\n",
       "  <thead>\n",
       "    <tr style=\"text-align: right;\">\n",
       "      <th></th>\n",
       "      <th>month_year_sale</th>\n",
       "      <th>loyalty_program</th>\n",
       "      <th>number_chek_prog_da</th>\n",
       "    </tr>\n",
       "  </thead>\n",
       "  <tbody>\n",
       "    <tr>\n",
       "      <th>0</th>\n",
       "      <td>2016-12-01</td>\n",
       "      <td>True</td>\n",
       "      <td>511</td>\n",
       "    </tr>\n",
       "    <tr>\n",
       "      <th>1</th>\n",
       "      <td>2017-01-01</td>\n",
       "      <td>True</td>\n",
       "      <td>290</td>\n",
       "    </tr>\n",
       "    <tr>\n",
       "      <th>2</th>\n",
       "      <td>2017-02-01</td>\n",
       "      <td>True</td>\n",
       "      <td>335</td>\n",
       "    </tr>\n",
       "  </tbody>\n",
       "</table>\n",
       "</div>"
      ],
      "text/plain": [
       "  month_year_sale  loyalty_program  number_chek_prog_da\n",
       "0      2016-12-01             True                  511\n",
       "1      2017-01-01             True                  290\n",
       "2      2017-02-01             True                  335"
      ]
     },
     "execution_count": 161,
     "metadata": {},
     "output_type": "execute_result"
    }
   ],
   "source": [
    "cnt_month_chek_da = prog_da.pivot_table(index=['month_year_sale', 'loyalty_program'], values='purchase_price', aggfunc='count').reset_index()\n",
    "cnt_month_chek_da = cnt_month_chek_da.rename(columns={'purchase_price':'number_chek_prog_da'})\n",
    "cnt_month_chek_da"
   ]
  },
  {
   "cell_type": "code",
   "execution_count": 162,
   "metadata": {},
   "outputs": [
    {
     "data": {
      "text/html": [
       "<div>\n",
       "<style scoped>\n",
       "    .dataframe tbody tr th:only-of-type {\n",
       "        vertical-align: middle;\n",
       "    }\n",
       "\n",
       "    .dataframe tbody tr th {\n",
       "        vertical-align: top;\n",
       "    }\n",
       "\n",
       "    .dataframe thead th {\n",
       "        text-align: right;\n",
       "    }\n",
       "</style>\n",
       "<table border=\"1\" class=\"dataframe\">\n",
       "  <thead>\n",
       "    <tr style=\"text-align: right;\">\n",
       "      <th></th>\n",
       "      <th>month_year_sale</th>\n",
       "      <th>loyalty_program</th>\n",
       "      <th>number_chek_prog_net</th>\n",
       "    </tr>\n",
       "  </thead>\n",
       "  <tbody>\n",
       "    <tr>\n",
       "      <th>0</th>\n",
       "      <td>2016-12-01</td>\n",
       "      <td>False</td>\n",
       "      <td>1104</td>\n",
       "    </tr>\n",
       "    <tr>\n",
       "      <th>1</th>\n",
       "      <td>2017-01-01</td>\n",
       "      <td>False</td>\n",
       "      <td>836</td>\n",
       "    </tr>\n",
       "    <tr>\n",
       "      <th>2</th>\n",
       "      <td>2017-02-01</td>\n",
       "      <td>False</td>\n",
       "      <td>795</td>\n",
       "    </tr>\n",
       "  </tbody>\n",
       "</table>\n",
       "</div>"
      ],
      "text/plain": [
       "  month_year_sale  loyalty_program  number_chek_prog_net\n",
       "0      2016-12-01            False                  1104\n",
       "1      2017-01-01            False                   836\n",
       "2      2017-02-01            False                   795"
      ]
     },
     "execution_count": 162,
     "metadata": {},
     "output_type": "execute_result"
    }
   ],
   "source": [
    "cnt_month_chek_net = prog_net.pivot_table(index=['month_year_sale', 'loyalty_program'], values='purchase_price', aggfunc='count').reset_index()\n",
    "cnt_month_chek_net= cnt_month_chek_net.rename(columns={'purchase_price':'number_chek_prog_net'})\n",
    "cnt_month_chek_net"
   ]
  },
  {
   "cell_type": "markdown",
   "metadata": {},
   "source": [
    "Объединим полученные таблицы в одну для построения графика:"
   ]
  },
  {
   "cell_type": "code",
   "execution_count": 163,
   "metadata": {},
   "outputs": [],
   "source": [
    "union_tab = cnt_month_chek_da.merge(cnt_month_chek_net, on = 'month_year_sale', how = 'left')\n",
    "# сделаем замену значений в столбце 'month_year_sale', чтобы на графике период отображался в более удобном виде:\n",
    "#union_tab ['month_year_sale']= union_tab ['month_year_sale'].replace(['2016-12-01','2017-01-01','2017-02-01'],['Декабрь 2016','Январь 2017','Февраль 2017'])\n",
    "union_tab['month_year_sale'] = union_tab['month_year_sale'].dt.strftime('%B,%Y')"
   ]
  },
  {
   "cell_type": "code",
   "execution_count": 164,
   "metadata": {},
   "outputs": [
    {
     "data": {
      "text/html": [
       "<div>\n",
       "<style scoped>\n",
       "    .dataframe tbody tr th:only-of-type {\n",
       "        vertical-align: middle;\n",
       "    }\n",
       "\n",
       "    .dataframe tbody tr th {\n",
       "        vertical-align: top;\n",
       "    }\n",
       "\n",
       "    .dataframe thead th {\n",
       "        text-align: right;\n",
       "    }\n",
       "</style>\n",
       "<table border=\"1\" class=\"dataframe\">\n",
       "  <thead>\n",
       "    <tr style=\"text-align: right;\">\n",
       "      <th></th>\n",
       "      <th>month_year_sale</th>\n",
       "      <th>loyalty_program_x</th>\n",
       "      <th>number_chek_prog_da</th>\n",
       "      <th>loyalty_program_y</th>\n",
       "      <th>number_chek_prog_net</th>\n",
       "    </tr>\n",
       "  </thead>\n",
       "  <tbody>\n",
       "    <tr>\n",
       "      <th>0</th>\n",
       "      <td>December,2016</td>\n",
       "      <td>True</td>\n",
       "      <td>511</td>\n",
       "      <td>False</td>\n",
       "      <td>1104</td>\n",
       "    </tr>\n",
       "    <tr>\n",
       "      <th>1</th>\n",
       "      <td>January,2017</td>\n",
       "      <td>True</td>\n",
       "      <td>290</td>\n",
       "      <td>False</td>\n",
       "      <td>836</td>\n",
       "    </tr>\n",
       "    <tr>\n",
       "      <th>2</th>\n",
       "      <td>February,2017</td>\n",
       "      <td>True</td>\n",
       "      <td>335</td>\n",
       "      <td>False</td>\n",
       "      <td>795</td>\n",
       "    </tr>\n",
       "  </tbody>\n",
       "</table>\n",
       "</div>"
      ],
      "text/plain": [
       "  month_year_sale  loyalty_program_x  number_chek_prog_da  loyalty_program_y  \\\n",
       "0   December,2016               True                  511              False   \n",
       "1    January,2017               True                  290              False   \n",
       "2   February,2017               True                  335              False   \n",
       "\n",
       "   number_chek_prog_net  \n",
       "0                  1104  \n",
       "1                   836  \n",
       "2                   795  "
      ]
     },
     "execution_count": 164,
     "metadata": {},
     "output_type": "execute_result"
    }
   ],
   "source": [
    "union_tab"
   ]
  },
  {
   "cell_type": "markdown",
   "metadata": {},
   "source": [
    "Отобразим полученные расчётные значения на графике:"
   ]
  },
  {
   "cell_type": "code",
   "execution_count": 165,
   "metadata": {
    "scrolled": true
   },
   "outputs": [
    {
     "data": {
      "image/png": "[encoded data removed]",
      "text/plain": [
       "<Figure size 720x576 with 1 Axes>"
      ]
     },
     "metadata": {
      "needs_background": "light"
     },
     "output_type": "display_data"
    }
   ],
   "source": [
    "month = union_tab['month_year_sale']\n",
    "\n",
    "# добавляем на график данные по месяцам о размере среднего чека клиентов, учавствующих 'в программе'\n",
    "da = union_tab[['month_year_sale','number_chek_prog_da']].rename(columns={'number_chek_prog_da':'number_chek'})\n",
    "da['Категория'] = 'по программе лояльности'\n",
    "\n",
    "# добавляем на график данные по месяцам о размере среднего чека клиентов, 'вне программы'\n",
    "net = union_tab[['month_year_sale','number_chek_prog_net']].rename(columns={'number_chek_prog_net':'number_chek'})\n",
    "net['Категория'] = 'вне программы лояльности'\n",
    "\n",
    "\n",
    "\n",
    "plt.figure(figsize=(10,8))\n",
    "\n",
    "concat=pd.concat([da,net])\n",
    "sns.barplot(x='month_year_sale', y='number_chek', hue='Категория', data=concat)\n",
    "\n",
    "plt.grid()\n",
    "plt.title('Количество покупок по месяцам с разделением по участию в программе лояльности')\n",
    "plt.xlabel('Период')\n",
    "plt.ylabel('Количество покупок')\n",
    "plt.xticks #(rotation=90)\n",
    "plt.show()"
   ]
  },
  {
   "cell_type": "markdown",
   "metadata": {},
   "source": [
    "**Промежуточные выводы:** на графике видим, что количество покупок по программе лояльности по всем рассматриевым месяцам значительно меньше кол-ва покупок вне программы лояльности."
   ]
  },
  {
   "cell_type": "markdown",
   "metadata": {},
   "source": [
    "Теперь рассчитаем среднее количество покупок на одного покупателя по месяцам, также с учётом участия в программе лояльности.\n",
    "\n",
    "Для расчёта используем таблицу ранее созданную cheki, разделённую на две части - данные о покупка по программе лояльности (таблица prog_da) и вне программы (таблица prog_net)."
   ]
  },
  {
   "cell_type": "markdown",
   "metadata": {},
   "source": [
    "По программе лояльности посчитаем количество покупок у каждого покупателя в каждом расчётном месяце:"
   ]
  },
  {
   "cell_type": "code",
   "execution_count": 166,
   "metadata": {},
   "outputs": [
    {
     "data": {
      "text/html": [
       "<div>\n",
       "<style scoped>\n",
       "    .dataframe tbody tr th:only-of-type {\n",
       "        vertical-align: middle;\n",
       "    }\n",
       "\n",
       "    .dataframe tbody tr th {\n",
       "        vertical-align: top;\n",
       "    }\n",
       "\n",
       "    .dataframe thead th {\n",
       "        text-align: right;\n",
       "    }\n",
       "</style>\n",
       "<table border=\"1\" class=\"dataframe\">\n",
       "  <thead>\n",
       "    <tr style=\"text-align: right;\">\n",
       "      <th></th>\n",
       "      <th>month_year_sale</th>\n",
       "      <th>customer_ID</th>\n",
       "      <th>number</th>\n",
       "    </tr>\n",
       "  </thead>\n",
       "  <tbody>\n",
       "    <tr>\n",
       "      <th>0</th>\n",
       "      <td>2016-12-01</td>\n",
       "      <td>22006.0</td>\n",
       "      <td>1</td>\n",
       "    </tr>\n",
       "    <tr>\n",
       "      <th>1</th>\n",
       "      <td>2016-12-01</td>\n",
       "      <td>22032.0</td>\n",
       "      <td>4</td>\n",
       "    </tr>\n",
       "    <tr>\n",
       "      <th>2</th>\n",
       "      <td>2016-12-01</td>\n",
       "      <td>22044.0</td>\n",
       "      <td>2</td>\n",
       "    </tr>\n",
       "    <tr>\n",
       "      <th>3</th>\n",
       "      <td>2016-12-01</td>\n",
       "      <td>22046.0</td>\n",
       "      <td>1</td>\n",
       "    </tr>\n",
       "    <tr>\n",
       "      <th>4</th>\n",
       "      <td>2016-12-01</td>\n",
       "      <td>22064.0</td>\n",
       "      <td>1</td>\n",
       "    </tr>\n",
       "    <tr>\n",
       "      <th>...</th>\n",
       "      <td>...</td>\n",
       "      <td>...</td>\n",
       "      <td>...</td>\n",
       "    </tr>\n",
       "    <tr>\n",
       "      <th>807</th>\n",
       "      <td>2017-02-01</td>\n",
       "      <td>23909.0</td>\n",
       "      <td>1</td>\n",
       "    </tr>\n",
       "    <tr>\n",
       "      <th>808</th>\n",
       "      <td>2017-02-01</td>\n",
       "      <td>23910.0</td>\n",
       "      <td>1</td>\n",
       "    </tr>\n",
       "    <tr>\n",
       "      <th>809</th>\n",
       "      <td>2017-02-01</td>\n",
       "      <td>23929.0</td>\n",
       "      <td>1</td>\n",
       "    </tr>\n",
       "    <tr>\n",
       "      <th>810</th>\n",
       "      <td>2017-02-01</td>\n",
       "      <td>23936.0</td>\n",
       "      <td>2</td>\n",
       "    </tr>\n",
       "    <tr>\n",
       "      <th>811</th>\n",
       "      <td>2017-02-01</td>\n",
       "      <td>23962.0</td>\n",
       "      <td>1</td>\n",
       "    </tr>\n",
       "  </tbody>\n",
       "</table>\n",
       "<p>812 rows × 3 columns</p>\n",
       "</div>"
      ],
      "text/plain": [
       "    month_year_sale  customer_ID  number\n",
       "0        2016-12-01      22006.0       1\n",
       "1        2016-12-01      22032.0       4\n",
       "2        2016-12-01      22044.0       2\n",
       "3        2016-12-01      22046.0       1\n",
       "4        2016-12-01      22064.0       1\n",
       "..              ...          ...     ...\n",
       "807      2017-02-01      23909.0       1\n",
       "808      2017-02-01      23910.0       1\n",
       "809      2017-02-01      23929.0       1\n",
       "810      2017-02-01      23936.0       2\n",
       "811      2017-02-01      23962.0       1\n",
       "\n",
       "[812 rows x 3 columns]"
      ]
     },
     "execution_count": 166,
     "metadata": {},
     "output_type": "execute_result"
    }
   ],
   "source": [
    "number_sale_da = prog_da.pivot_table(index=['month_year_sale', 'customer_ID'], values='purchase_price', aggfunc='count').reset_index()\n",
    "number_sale_da = number_sale_da.rename(columns={'purchase_price':'number'})\n",
    "number_sale_da"
   ]
  },
  {
   "cell_type": "markdown",
   "metadata": {},
   "source": [
    "Здесь необходимо всмомнить, что в столбце 'customer_ID' у нас есть пропуски, которые мы заменили на нулевые значения. В данном случае их учёт может исказить результаты расчётов среднего количества покупок на одного покупателя, поэтому отфильруем таких \"покупателей\" на данном шаге: "
   ]
  },
  {
   "cell_type": "code",
   "execution_count": 167,
   "metadata": {},
   "outputs": [],
   "source": [
    "number_sale_da = number_sale_da[number_sale_da['customer_ID']!=0]"
   ]
  },
  {
   "cell_type": "markdown",
   "metadata": {},
   "source": [
    "Теперь посчитаем **среднее количество покупок у покупателей, учавствующих в программе лояльности**: "
   ]
  },
  {
   "cell_type": "code",
   "execution_count": 168,
   "metadata": {},
   "outputs": [
    {
     "data": {
      "text/html": [
       "<div>\n",
       "<style scoped>\n",
       "    .dataframe tbody tr th:only-of-type {\n",
       "        vertical-align: middle;\n",
       "    }\n",
       "\n",
       "    .dataframe tbody tr th {\n",
       "        vertical-align: top;\n",
       "    }\n",
       "\n",
       "    .dataframe thead th {\n",
       "        text-align: right;\n",
       "    }\n",
       "</style>\n",
       "<table border=\"1\" class=\"dataframe\">\n",
       "  <thead>\n",
       "    <tr style=\"text-align: right;\">\n",
       "      <th></th>\n",
       "      <th>month_year_sale</th>\n",
       "      <th>mean_number_da</th>\n",
       "    </tr>\n",
       "  </thead>\n",
       "  <tbody>\n",
       "    <tr>\n",
       "      <th>0</th>\n",
       "      <td>2016-12-01</td>\n",
       "      <td>1.59</td>\n",
       "    </tr>\n",
       "    <tr>\n",
       "      <th>1</th>\n",
       "      <td>2017-01-01</td>\n",
       "      <td>1.26</td>\n",
       "    </tr>\n",
       "    <tr>\n",
       "      <th>2</th>\n",
       "      <td>2017-02-01</td>\n",
       "      <td>1.29</td>\n",
       "    </tr>\n",
       "  </tbody>\n",
       "</table>\n",
       "</div>"
      ],
      "text/plain": [
       "  month_year_sale  mean_number_da\n",
       "0      2016-12-01            1.59\n",
       "1      2017-01-01            1.26\n",
       "2      2017-02-01            1.29"
      ]
     },
     "execution_count": 168,
     "metadata": {},
     "output_type": "execute_result"
    }
   ],
   "source": [
    "mean_number_sale_da = number_sale_da.pivot_table(index=['month_year_sale'], values='number', aggfunc='mean').reset_index()\n",
    "mean_number_sale_da = mean_number_sale_da.rename(columns={'number':'mean_number_da'})\n",
    "mean_number_sale_da['mean_number_da']= round(mean_number_sale_da['mean_number_da'],2)\n",
    "mean_number_sale_da"
   ]
  },
  {
   "cell_type": "markdown",
   "metadata": {},
   "source": [
    "Аналогично посчитаем количество покупок у каждого покупателя вне программе лояльности в каждом расчётном месяце:"
   ]
  },
  {
   "cell_type": "code",
   "execution_count": 169,
   "metadata": {},
   "outputs": [
    {
     "data": {
      "text/html": [
       "<div>\n",
       "<style scoped>\n",
       "    .dataframe tbody tr th:only-of-type {\n",
       "        vertical-align: middle;\n",
       "    }\n",
       "\n",
       "    .dataframe tbody tr th {\n",
       "        vertical-align: top;\n",
       "    }\n",
       "\n",
       "    .dataframe thead th {\n",
       "        text-align: right;\n",
       "    }\n",
       "</style>\n",
       "<table border=\"1\" class=\"dataframe\">\n",
       "  <thead>\n",
       "    <tr style=\"text-align: right;\">\n",
       "      <th></th>\n",
       "      <th>month_year_sale</th>\n",
       "      <th>customer_ID</th>\n",
       "      <th>number</th>\n",
       "    </tr>\n",
       "  </thead>\n",
       "  <tbody>\n",
       "    <tr>\n",
       "      <th>0</th>\n",
       "      <td>2016-12-01</td>\n",
       "      <td>0.0</td>\n",
       "      <td>214</td>\n",
       "    </tr>\n",
       "    <tr>\n",
       "      <th>1</th>\n",
       "      <td>2016-12-01</td>\n",
       "      <td>18026.0</td>\n",
       "      <td>1</td>\n",
       "    </tr>\n",
       "    <tr>\n",
       "      <th>2</th>\n",
       "      <td>2016-12-01</td>\n",
       "      <td>18027.0</td>\n",
       "      <td>1</td>\n",
       "    </tr>\n",
       "    <tr>\n",
       "      <th>3</th>\n",
       "      <td>2016-12-01</td>\n",
       "      <td>18049.0</td>\n",
       "      <td>2</td>\n",
       "    </tr>\n",
       "    <tr>\n",
       "      <th>4</th>\n",
       "      <td>2016-12-01</td>\n",
       "      <td>18056.0</td>\n",
       "      <td>1</td>\n",
       "    </tr>\n",
       "    <tr>\n",
       "      <th>...</th>\n",
       "      <td>...</td>\n",
       "      <td>...</td>\n",
       "      <td>...</td>\n",
       "    </tr>\n",
       "    <tr>\n",
       "      <th>1570</th>\n",
       "      <td>2017-02-01</td>\n",
       "      <td>21934.0</td>\n",
       "      <td>1</td>\n",
       "    </tr>\n",
       "    <tr>\n",
       "      <th>1571</th>\n",
       "      <td>2017-02-01</td>\n",
       "      <td>21944.0</td>\n",
       "      <td>2</td>\n",
       "    </tr>\n",
       "    <tr>\n",
       "      <th>1572</th>\n",
       "      <td>2017-02-01</td>\n",
       "      <td>21985.0</td>\n",
       "      <td>3</td>\n",
       "    </tr>\n",
       "    <tr>\n",
       "      <th>1573</th>\n",
       "      <td>2017-02-01</td>\n",
       "      <td>21996.0</td>\n",
       "      <td>1</td>\n",
       "    </tr>\n",
       "    <tr>\n",
       "      <th>1574</th>\n",
       "      <td>2017-02-01</td>\n",
       "      <td>22000.0</td>\n",
       "      <td>2</td>\n",
       "    </tr>\n",
       "  </tbody>\n",
       "</table>\n",
       "<p>1575 rows × 3 columns</p>\n",
       "</div>"
      ],
      "text/plain": [
       "     month_year_sale  customer_ID  number\n",
       "0         2016-12-01          0.0     214\n",
       "1         2016-12-01      18026.0       1\n",
       "2         2016-12-01      18027.0       1\n",
       "3         2016-12-01      18049.0       2\n",
       "4         2016-12-01      18056.0       1\n",
       "...              ...          ...     ...\n",
       "1570      2017-02-01      21934.0       1\n",
       "1571      2017-02-01      21944.0       2\n",
       "1572      2017-02-01      21985.0       3\n",
       "1573      2017-02-01      21996.0       1\n",
       "1574      2017-02-01      22000.0       2\n",
       "\n",
       "[1575 rows x 3 columns]"
      ]
     },
     "execution_count": 169,
     "metadata": {},
     "output_type": "execute_result"
    }
   ],
   "source": [
    "number_sale_net = prog_net.pivot_table(index=['month_year_sale', 'customer_ID'], values='purchase_price', aggfunc='count').reset_index()\n",
    "number_sale_net = number_sale_net.rename(columns={'purchase_price':'number'})\n",
    "number_sale_net"
   ]
  },
  {
   "cell_type": "markdown",
   "metadata": {},
   "source": [
    "Здесь также отфильтруем из расчёта покупателей, у которых не был записан идентификатор:"
   ]
  },
  {
   "cell_type": "code",
   "execution_count": 170,
   "metadata": {},
   "outputs": [],
   "source": [
    "number_sale_net = number_sale_net[number_sale_net['customer_ID']!=0]"
   ]
  },
  {
   "cell_type": "markdown",
   "metadata": {},
   "source": [
    "Теперь посчитаем **среднее количество покупок у покупателей, НЕ учавствующих в программе лояльности**:"
   ]
  },
  {
   "cell_type": "code",
   "execution_count": 171,
   "metadata": {},
   "outputs": [
    {
     "data": {
      "text/html": [
       "<div>\n",
       "<style scoped>\n",
       "    .dataframe tbody tr th:only-of-type {\n",
       "        vertical-align: middle;\n",
       "    }\n",
       "\n",
       "    .dataframe tbody tr th {\n",
       "        vertical-align: top;\n",
       "    }\n",
       "\n",
       "    .dataframe thead th {\n",
       "        text-align: right;\n",
       "    }\n",
       "</style>\n",
       "<table border=\"1\" class=\"dataframe\">\n",
       "  <thead>\n",
       "    <tr style=\"text-align: right;\">\n",
       "      <th></th>\n",
       "      <th>month_year_sale</th>\n",
       "      <th>mean_number_net</th>\n",
       "    </tr>\n",
       "  </thead>\n",
       "  <tbody>\n",
       "    <tr>\n",
       "      <th>0</th>\n",
       "      <td>2016-12-01</td>\n",
       "      <td>1.58</td>\n",
       "    </tr>\n",
       "    <tr>\n",
       "      <th>1</th>\n",
       "      <td>2017-01-01</td>\n",
       "      <td>1.38</td>\n",
       "    </tr>\n",
       "    <tr>\n",
       "      <th>2</th>\n",
       "      <td>2017-02-01</td>\n",
       "      <td>1.34</td>\n",
       "    </tr>\n",
       "  </tbody>\n",
       "</table>\n",
       "</div>"
      ],
      "text/plain": [
       "  month_year_sale  mean_number_net\n",
       "0      2016-12-01             1.58\n",
       "1      2017-01-01             1.38\n",
       "2      2017-02-01             1.34"
      ]
     },
     "execution_count": 171,
     "metadata": {},
     "output_type": "execute_result"
    }
   ],
   "source": [
    "mean_number_sale_net = number_sale_net.pivot_table(index=['month_year_sale'], values='number', aggfunc='mean').reset_index()\n",
    "mean_number_sale_net = mean_number_sale_net.rename(columns={'number':'mean_number_net'})\n",
    "mean_number_sale_net['mean_number_net']= round(mean_number_sale_net['mean_number_net'],2)\n",
    "mean_number_sale_net"
   ]
  },
  {
   "cell_type": "markdown",
   "metadata": {},
   "source": [
    "Объединим полученные таблицы в одну для построения графика:"
   ]
  },
  {
   "cell_type": "code",
   "execution_count": 172,
   "metadata": {},
   "outputs": [
    {
     "data": {
      "text/html": [
       "<div>\n",
       "<style scoped>\n",
       "    .dataframe tbody tr th:only-of-type {\n",
       "        vertical-align: middle;\n",
       "    }\n",
       "\n",
       "    .dataframe tbody tr th {\n",
       "        vertical-align: top;\n",
       "    }\n",
       "\n",
       "    .dataframe thead th {\n",
       "        text-align: right;\n",
       "    }\n",
       "</style>\n",
       "<table border=\"1\" class=\"dataframe\">\n",
       "  <thead>\n",
       "    <tr style=\"text-align: right;\">\n",
       "      <th></th>\n",
       "      <th>month_year_sale</th>\n",
       "      <th>mean_number_da</th>\n",
       "      <th>mean_number_net</th>\n",
       "    </tr>\n",
       "  </thead>\n",
       "  <tbody>\n",
       "    <tr>\n",
       "      <th>0</th>\n",
       "      <td>December,2016</td>\n",
       "      <td>1.59</td>\n",
       "      <td>1.58</td>\n",
       "    </tr>\n",
       "    <tr>\n",
       "      <th>1</th>\n",
       "      <td>January,2017</td>\n",
       "      <td>1.26</td>\n",
       "      <td>1.38</td>\n",
       "    </tr>\n",
       "    <tr>\n",
       "      <th>2</th>\n",
       "      <td>February,2017</td>\n",
       "      <td>1.29</td>\n",
       "      <td>1.34</td>\n",
       "    </tr>\n",
       "  </tbody>\n",
       "</table>\n",
       "</div>"
      ],
      "text/plain": [
       "  month_year_sale  mean_number_da  mean_number_net\n",
       "0   December,2016            1.59             1.58\n",
       "1    January,2017            1.26             1.38\n",
       "2   February,2017            1.29             1.34"
      ]
     },
     "execution_count": 172,
     "metadata": {},
     "output_type": "execute_result"
    }
   ],
   "source": [
    "res_tab = mean_number_sale_da.merge(mean_number_sale_net, on = 'month_year_sale', how = 'left')\n",
    "\n",
    "# сделаем замену значений в столбце 'month_year_sale', чтобы на графике период отображался в более удобном виде:\n",
    "#res_tab['month_year_sale']= res_tab['month_year_sale'].replace(['2016-12-01','2017-01-01','2017-02-01'],['Декабрь 2016','Январь 2017','Февраль 2017'])\n",
    "res_tab['month_year_sale'] = res_tab['month_year_sale'].dt.strftime('%B,%Y')\n",
    "res_tab"
   ]
  },
  {
   "cell_type": "markdown",
   "metadata": {},
   "source": [
    "Посмотрим наглядно полученный результат расчетов:"
   ]
  },
  {
   "cell_type": "code",
   "execution_count": 173,
   "metadata": {},
   "outputs": [
    {
     "data": {
      "image/png": "[encoded data removed]",
      "text/plain": [
       "<Figure size 720x576 with 1 Axes>"
      ]
     },
     "metadata": {
      "needs_background": "light"
     },
     "output_type": "display_data"
    }
   ],
   "source": [
    "month = res_tab['month_year_sale']\n",
    "\n",
    "# добавляем на график данные по месяцам о размере среднего чека клиентов, учавствующих 'в программе'\n",
    "da = res_tab[['month_year_sale','mean_number_da']].rename(columns={'mean_number_da':'number_sale'})\n",
    "da['Категория'] = 'по программе лояльности'\n",
    "\n",
    "# добавляем на график данные по месяцам о размере среднего чека клиентов, 'вне программы'\n",
    "net = res_tab[['month_year_sale','mean_number_net']].rename(columns={'mean_number_net':'number_sale'})\n",
    "net['Категория'] = 'вне программы лояльности'\n",
    "\n",
    "\n",
    "\n",
    "plt.figure(figsize=(10,8))\n",
    "\n",
    "concat=pd.concat([da,net])\n",
    "sns.barplot(x='month_year_sale', y='number_sale', hue='Категория', data=concat)\n",
    "\n",
    "plt.grid()\n",
    "plt.title('Среднее количество покупок на покупателя по месяцам с разделением по участию в программе лояльности')\n",
    "plt.xlabel('Период')\n",
    "plt.ylabel('Среднее количество покупок на одного покупателя')\n",
    "plt.xticks #(rotation=90)\n",
    "plt.show()"
   ]
  },
  {
   "cell_type": "markdown",
   "metadata": {},
   "source": [
    "**Промежуточные выводы:** из расчетов и графика видим, что по показателю \"Среднее количество покупок на одного покупателя\" у покупателей вне программы лояльности этот показатель чуть выше, чем у покупателей учавствующих в программе."
   ]
  },
  {
   "cell_type": "markdown",
   "metadata": {},
   "source": [
    "**Сделаем расчёт общей выручки от пользователя**"
   ]
  },
  {
   "cell_type": "code",
   "execution_count": 174,
   "metadata": {},
   "outputs": [
    {
     "data": {
      "text/html": [
       "<div>\n",
       "<style scoped>\n",
       "    .dataframe tbody tr th:only-of-type {\n",
       "        vertical-align: middle;\n",
       "    }\n",
       "\n",
       "    .dataframe tbody tr th {\n",
       "        vertical-align: top;\n",
       "    }\n",
       "\n",
       "    .dataframe thead th {\n",
       "        text-align: right;\n",
       "    }\n",
       "</style>\n",
       "<table border=\"1\" class=\"dataframe\">\n",
       "  <thead>\n",
       "    <tr style=\"text-align: right;\">\n",
       "      <th></th>\n",
       "      <th>purchase_ID</th>\n",
       "      <th>item_ID</th>\n",
       "      <th>quantity</th>\n",
       "      <th>purchase_date</th>\n",
       "      <th>customer_ID</th>\n",
       "      <th>shop_ID</th>\n",
       "      <th>loyalty_program</th>\n",
       "      <th>price_per_one</th>\n",
       "      <th>day_of_week_sale</th>\n",
       "      <th>day_of_sale</th>\n",
       "      <th>month_year_sale</th>\n",
       "    </tr>\n",
       "  </thead>\n",
       "  <tbody>\n",
       "    <tr>\n",
       "      <th>0</th>\n",
       "      <td>538280</td>\n",
       "      <td>21873</td>\n",
       "      <td>11</td>\n",
       "      <td>2016-12-10 12:50:00</td>\n",
       "      <td>18427.0</td>\n",
       "      <td>Shop 0</td>\n",
       "      <td>False</td>\n",
       "      <td>1.63</td>\n",
       "      <td>5</td>\n",
       "      <td>2016-12-10</td>\n",
       "      <td>2016-12-01</td>\n",
       "    </tr>\n",
       "    <tr>\n",
       "      <th>1</th>\n",
       "      <td>541104</td>\n",
       "      <td>21873</td>\n",
       "      <td>0</td>\n",
       "      <td>2017-01-13 14:29:00</td>\n",
       "      <td>0.0</td>\n",
       "      <td>Shop 0</td>\n",
       "      <td>False</td>\n",
       "      <td>1.63</td>\n",
       "      <td>4</td>\n",
       "      <td>2017-01-13</td>\n",
       "      <td>2017-01-01</td>\n",
       "    </tr>\n",
       "    <tr>\n",
       "      <th>2</th>\n",
       "      <td>540418</td>\n",
       "      <td>21873</td>\n",
       "      <td>1</td>\n",
       "      <td>2017-01-07 11:04:00</td>\n",
       "      <td>0.0</td>\n",
       "      <td>Shop 0</td>\n",
       "      <td>False</td>\n",
       "      <td>1.63</td>\n",
       "      <td>5</td>\n",
       "      <td>2017-01-07</td>\n",
       "      <td>2017-01-01</td>\n",
       "    </tr>\n",
       "  </tbody>\n",
       "</table>\n",
       "</div>"
      ],
      "text/plain": [
       "  purchase_ID item_ID  quantity       purchase_date customer_ID shop_ID  \\\n",
       "0      538280   21873        11 2016-12-10 12:50:00     18427.0  Shop 0   \n",
       "1      541104   21873         0 2017-01-13 14:29:00         0.0  Shop 0   \n",
       "2      540418   21873         1 2017-01-07 11:04:00         0.0  Shop 0   \n",
       "\n",
       "   loyalty_program  price_per_one  day_of_week_sale day_of_sale  \\\n",
       "0            False           1.63                 5  2016-12-10   \n",
       "1            False           1.63                 4  2017-01-13   \n",
       "2            False           1.63                 5  2017-01-07   \n",
       "\n",
       "  month_year_sale  \n",
       "0      2016-12-01  \n",
       "1      2017-01-01  \n",
       "2      2017-01-01  "
      ]
     },
     "execution_count": 174,
     "metadata": {},
     "output_type": "execute_result"
    }
   ],
   "source": [
    "data.head(3)"
   ]
  },
  {
   "cell_type": "markdown",
   "metadata": {},
   "source": [
    "**Составим профили пользователей:**\n",
    "* ID клиента, \n",
    "* ID магазина, \n",
    "* участие в программе лояльности, \n",
    "* дата и время первой покупки, \n",
    "* дата первой покупки, \n",
    "* месяц первой покупки "
   ]
  },
  {
   "cell_type": "markdown",
   "metadata": {},
   "source": [
    "Предварительно отфильтруем строки, где customer_ID=0"
   ]
  },
  {
   "cell_type": "code",
   "execution_count": 175,
   "metadata": {},
   "outputs": [
    {
     "data": {
      "text/html": [
       "<div>\n",
       "<style scoped>\n",
       "    .dataframe tbody tr th:only-of-type {\n",
       "        vertical-align: middle;\n",
       "    }\n",
       "\n",
       "    .dataframe tbody tr th {\n",
       "        vertical-align: top;\n",
       "    }\n",
       "\n",
       "    .dataframe thead th {\n",
       "        text-align: right;\n",
       "    }\n",
       "</style>\n",
       "<table border=\"1\" class=\"dataframe\">\n",
       "  <thead>\n",
       "    <tr style=\"text-align: right;\">\n",
       "      <th></th>\n",
       "      <th>purchase_ID</th>\n",
       "      <th>item_ID</th>\n",
       "      <th>quantity</th>\n",
       "      <th>purchase_date</th>\n",
       "      <th>customer_ID</th>\n",
       "      <th>shop_ID</th>\n",
       "      <th>loyalty_program</th>\n",
       "      <th>price_per_one</th>\n",
       "      <th>day_of_week_sale</th>\n",
       "      <th>day_of_sale</th>\n",
       "      <th>month_year_sale</th>\n",
       "    </tr>\n",
       "  </thead>\n",
       "  <tbody>\n",
       "    <tr>\n",
       "      <th>0</th>\n",
       "      <td>538280</td>\n",
       "      <td>21873</td>\n",
       "      <td>11</td>\n",
       "      <td>2016-12-10 12:50:00</td>\n",
       "      <td>18427.0</td>\n",
       "      <td>Shop 0</td>\n",
       "      <td>False</td>\n",
       "      <td>1.63</td>\n",
       "      <td>5</td>\n",
       "      <td>2016-12-10</td>\n",
       "      <td>2016-12-01</td>\n",
       "    </tr>\n",
       "  </tbody>\n",
       "</table>\n",
       "</div>"
      ],
      "text/plain": [
       "  purchase_ID item_ID  quantity       purchase_date customer_ID shop_ID  \\\n",
       "0      538280   21873        11 2016-12-10 12:50:00     18427.0  Shop 0   \n",
       "\n",
       "   loyalty_program  price_per_one  day_of_week_sale day_of_sale  \\\n",
       "0            False           1.63                 5  2016-12-10   \n",
       "\n",
       "  month_year_sale  \n",
       "0      2016-12-01  "
      ]
     },
     "execution_count": 175,
     "metadata": {},
     "output_type": "execute_result"
    }
   ],
   "source": [
    "data_cl = data[data['customer_ID']!=0]\n",
    "data_cl.head(1)"
   ]
  },
  {
   "cell_type": "markdown",
   "metadata": {},
   "source": [
    "Для создания пользовательских профилей напишем функцию `get_profiles()`. В ней сгруппируем значения датафрейма по пользовательскому ID и применим функцию `first()`:"
   ]
  },
  {
   "cell_type": "code",
   "execution_count": 176,
   "metadata": {},
   "outputs": [],
   "source": [
    "def get_profiles(data_cl):\n",
    "\n",
    "    # сортируем данные по ID пользователя и дате покупок\n",
    "    # группируем по ID и находим первые значения purchase_date и shop_ID\n",
    "    # столбец с датой и временем первой покупки назовём first_sale\n",
    "    profiles = (\n",
    "        data_cl.sort_values(by=['customer_ID', 'purchase_date'])\n",
    "        .groupby('customer_ID')\n",
    "        .agg({'purchase_date': 'first', 'shop_ID': 'first', 'loyalty_program':'first'})\n",
    "        .rename(columns={'purchase_date': 'first_sale'})\n",
    "        .reset_index()  # возвращаем customer_ID из индекса\n",
    "    )\n",
    "    \n",
    "    # добавляем признак участия клиента в программе лояльности\n",
    "    #profiles['loyalty_program'] = profiles['customer_ID'].isin(data_cl['customer_ID'].unique())\n",
    "\n",
    "    # определяем дату первой покупки \n",
    "    profiles['dt'] = profiles['first_sale'].dt.date\n",
    "    # и первый день месяца, в который эта покупка произошла\n",
    "    profiles['month'] = profiles['first_sale'].astype('datetime64[M]')\n",
    "    profiles['day_of_month'] = profiles['first_sale'].dt.day\n",
    "    \n",
    "\n",
    "    return profiles"
   ]
  },
  {
   "cell_type": "markdown",
   "metadata": {},
   "source": [
    "Вызовем функцию get_profiles(), чтобы составить профили пользователей из датафрейма data_cl:"
   ]
  },
  {
   "cell_type": "code",
   "execution_count": 177,
   "metadata": {},
   "outputs": [
    {
     "data": {
      "text/html": [
       "<div>\n",
       "<style scoped>\n",
       "    .dataframe tbody tr th:only-of-type {\n",
       "        vertical-align: middle;\n",
       "    }\n",
       "\n",
       "    .dataframe tbody tr th {\n",
       "        vertical-align: top;\n",
       "    }\n",
       "\n",
       "    .dataframe thead th {\n",
       "        text-align: right;\n",
       "    }\n",
       "</style>\n",
       "<table border=\"1\" class=\"dataframe\">\n",
       "  <thead>\n",
       "    <tr style=\"text-align: right;\">\n",
       "      <th></th>\n",
       "      <th>customer_ID</th>\n",
       "      <th>first_sale</th>\n",
       "      <th>shop_ID</th>\n",
       "      <th>loyalty_program</th>\n",
       "      <th>dt</th>\n",
       "      <th>month</th>\n",
       "      <th>day_of_month</th>\n",
       "    </tr>\n",
       "  </thead>\n",
       "  <tbody>\n",
       "    <tr>\n",
       "      <th>0</th>\n",
       "      <td>18025.0</td>\n",
       "      <td>2017-01-18 10:01:00</td>\n",
       "      <td>Shop 0</td>\n",
       "      <td>False</td>\n",
       "      <td>2017-01-18</td>\n",
       "      <td>2017-01-01</td>\n",
       "      <td>18</td>\n",
       "    </tr>\n",
       "    <tr>\n",
       "      <th>1</th>\n",
       "      <td>18026.0</td>\n",
       "      <td>2016-12-07 14:57:00</td>\n",
       "      <td>Shop 15</td>\n",
       "      <td>False</td>\n",
       "      <td>2016-12-07</td>\n",
       "      <td>2016-12-01</td>\n",
       "      <td>7</td>\n",
       "    </tr>\n",
       "    <tr>\n",
       "      <th>2</th>\n",
       "      <td>18027.0</td>\n",
       "      <td>2016-12-16 19:09:00</td>\n",
       "      <td>Shop 22</td>\n",
       "      <td>False</td>\n",
       "      <td>2016-12-16</td>\n",
       "      <td>2016-12-01</td>\n",
       "      <td>16</td>\n",
       "    </tr>\n",
       "  </tbody>\n",
       "</table>\n",
       "</div>"
      ],
      "text/plain": [
       "   customer_ID          first_sale  shop_ID  loyalty_program          dt  \\\n",
       "0      18025.0 2017-01-18 10:01:00   Shop 0            False  2017-01-18   \n",
       "1      18026.0 2016-12-07 14:57:00  Shop 15            False  2016-12-07   \n",
       "2      18027.0 2016-12-16 19:09:00  Shop 22            False  2016-12-16   \n",
       "\n",
       "       month  day_of_month  \n",
       "0 2017-01-01            18  \n",
       "1 2016-12-01             7  \n",
       "2 2016-12-01            16  "
      ]
     },
     "execution_count": 177,
     "metadata": {},
     "output_type": "execute_result"
    }
   ],
   "source": [
    "profiles = get_profiles(data_cl)\n",
    "profiles.head(3)"
   ]
  },
  {
   "cell_type": "markdown",
   "metadata": {},
   "source": [
    "Имея готовые профили пользователей, легко узнать количество привлечённых каждым магазином за исследуемый период и результат посмотрим на графике:"
   ]
  },
  {
   "cell_type": "code",
   "execution_count": 178,
   "metadata": {},
   "outputs": [],
   "source": [
    "shop= profiles.groupby('shop_ID').agg({'customer_ID':'nunique'}).reset_index()"
   ]
  },
  {
   "cell_type": "code",
   "execution_count": 179,
   "metadata": {},
   "outputs": [
    {
     "data": {
      "image/png": "[encoded data removed]",
      "text/plain": [
       "<Figure size 720x576 with 1 Axes>"
      ]
     },
     "metadata": {
      "needs_background": "light"
     },
     "output_type": "display_data"
    }
   ],
   "source": [
    "plt.figure(figsize=(10,8))\n",
    "with plt.style.context('seaborn'):\n",
    "    plt.bar(shop['shop_ID'], shop['customer_ID'])\n",
    "    plt.title('Количество новых клиентов, привлечённых магазинами ')\n",
    "    plt.ylabel('Количество клиентов')\n",
    "    plt.xticks(rotation=90)\n",
    "plt.show()"
   ]
  },
  {
   "cell_type": "markdown",
   "metadata": {},
   "source": [
    "**Промежуточные выводы:** по графику видим, что абсолюным лидером по привлечению клиентов ялвяется магазин с идентификатором  Shop 0. "
   ]
  },
  {
   "cell_type": "markdown",
   "metadata": {},
   "source": [
    "А также можем посмотреть динамику привлечения покупателей за исследуемый период:"
   ]
  },
  {
   "cell_type": "code",
   "execution_count": 180,
   "metadata": {},
   "outputs": [
    {
     "data": {
      "image/png": "[encoded data removed]",
      "text/plain": [
       "<Figure size 1080x576 with 1 Axes>"
      ]
     },
     "metadata": {
      "needs_background": "light"
     },
     "output_type": "display_data"
    }
   ],
   "source": [
    "profiles.pivot_table(\n",
    "    index='dt',  # даты первых посещений\n",
    "    columns='shop_ID',  # источники переходов\n",
    "    values='customer_ID',  # ID пользователей\n",
    "    aggfunc='nunique'  # подсчёт уникальных значений\n",
    ").plot(figsize=(15, 8), grid=True)\n",
    "\n",
    "plt.show()"
   ]
  },
  {
   "cell_type": "markdown",
   "metadata": {},
   "source": [
    "**Промежуточные выводы:** по графику видим, что у магазина с идентификатором Shop 0 на протяжении всего времени отличается регулярностью привлечения новых покупателей. Особенно успешным по параметру привлечения является для магазина первая половина декабря 2016г."
   ]
  },
  {
   "cell_type": "markdown",
   "metadata": {},
   "source": [
    "Разделим всех покупателей на три когорты по событию: совершившение первой покупку в декабре 2016, январе 2017 и феврале 2017.\n",
    "Дополнительный признак: участие в программе лояльности.\n",
    "\n",
    "При этом участниками когорты будем считать тех клиентов, которые зарегистрировались с 1 по 7 число каждого месяца.\n",
    "\n",
    "Таким образом каждый из клиентов после регистрации в начале месяца будет иметь период на покупки как минимум 21 день (т.к. в феврале 28 дней)."
   ]
  },
  {
   "cell_type": "code",
   "execution_count": 181,
   "metadata": {},
   "outputs": [
    {
     "data": {
      "text/html": [
       "<div>\n",
       "<style scoped>\n",
       "    .dataframe tbody tr th:only-of-type {\n",
       "        vertical-align: middle;\n",
       "    }\n",
       "\n",
       "    .dataframe tbody tr th {\n",
       "        vertical-align: top;\n",
       "    }\n",
       "\n",
       "    .dataframe thead th {\n",
       "        text-align: right;\n",
       "    }\n",
       "</style>\n",
       "<table border=\"1\" class=\"dataframe\">\n",
       "  <thead>\n",
       "    <tr style=\"text-align: right;\">\n",
       "      <th></th>\n",
       "      <th>customer_ID</th>\n",
       "      <th>first_sale</th>\n",
       "      <th>shop_ID</th>\n",
       "      <th>loyalty_program</th>\n",
       "      <th>dt</th>\n",
       "      <th>month</th>\n",
       "      <th>day_of_month</th>\n",
       "    </tr>\n",
       "  </thead>\n",
       "  <tbody>\n",
       "    <tr>\n",
       "      <th>1</th>\n",
       "      <td>18026.0</td>\n",
       "      <td>2016-12-07 14:57:00</td>\n",
       "      <td>Shop 15</td>\n",
       "      <td>False</td>\n",
       "      <td>2016-12-07</td>\n",
       "      <td>2016-12-01</td>\n",
       "      <td>7</td>\n",
       "    </tr>\n",
       "    <tr>\n",
       "      <th>3</th>\n",
       "      <td>18029.0</td>\n",
       "      <td>2017-02-02 16:01:00</td>\n",
       "      <td>Shop 5</td>\n",
       "      <td>False</td>\n",
       "      <td>2017-02-02</td>\n",
       "      <td>2017-02-01</td>\n",
       "      <td>2</td>\n",
       "    </tr>\n",
       "    <tr>\n",
       "      <th>12</th>\n",
       "      <td>18052.0</td>\n",
       "      <td>2017-02-01 13:10:00</td>\n",
       "      <td>Shop 20</td>\n",
       "      <td>False</td>\n",
       "      <td>2017-02-01</td>\n",
       "      <td>2017-02-01</td>\n",
       "      <td>1</td>\n",
       "    </tr>\n",
       "    <tr>\n",
       "      <th>18</th>\n",
       "      <td>18074.0</td>\n",
       "      <td>2016-12-03 16:35:00</td>\n",
       "      <td>Shop 12</td>\n",
       "      <td>False</td>\n",
       "      <td>2016-12-03</td>\n",
       "      <td>2016-12-01</td>\n",
       "      <td>3</td>\n",
       "    </tr>\n",
       "    <tr>\n",
       "      <th>21</th>\n",
       "      <td>18089.0</td>\n",
       "      <td>2017-02-04 10:38:00</td>\n",
       "      <td>Shop 7</td>\n",
       "      <td>False</td>\n",
       "      <td>2017-02-04</td>\n",
       "      <td>2017-02-01</td>\n",
       "      <td>4</td>\n",
       "    </tr>\n",
       "    <tr>\n",
       "      <th>...</th>\n",
       "      <td>...</td>\n",
       "      <td>...</td>\n",
       "      <td>...</td>\n",
       "      <td>...</td>\n",
       "      <td>...</td>\n",
       "      <td>...</td>\n",
       "      <td>...</td>\n",
       "    </tr>\n",
       "    <tr>\n",
       "      <th>1669</th>\n",
       "      <td>23905.0</td>\n",
       "      <td>2017-01-06 09:00:00</td>\n",
       "      <td>Shop 0</td>\n",
       "      <td>True</td>\n",
       "      <td>2017-01-06</td>\n",
       "      <td>2017-01-01</td>\n",
       "      <td>6</td>\n",
       "    </tr>\n",
       "    <tr>\n",
       "      <th>1670</th>\n",
       "      <td>23908.0</td>\n",
       "      <td>2016-12-01 16:25:00</td>\n",
       "      <td>Shop 0</td>\n",
       "      <td>True</td>\n",
       "      <td>2016-12-01</td>\n",
       "      <td>2016-12-01</td>\n",
       "      <td>1</td>\n",
       "    </tr>\n",
       "    <tr>\n",
       "      <th>1674</th>\n",
       "      <td>23918.0</td>\n",
       "      <td>2016-12-02 17:48:00</td>\n",
       "      <td>Shop 0</td>\n",
       "      <td>True</td>\n",
       "      <td>2016-12-02</td>\n",
       "      <td>2016-12-01</td>\n",
       "      <td>2</td>\n",
       "    </tr>\n",
       "    <tr>\n",
       "      <th>1676</th>\n",
       "      <td>23929.0</td>\n",
       "      <td>2017-02-02 13:16:00</td>\n",
       "      <td>Shop 0</td>\n",
       "      <td>True</td>\n",
       "      <td>2017-02-02</td>\n",
       "      <td>2017-02-01</td>\n",
       "      <td>2</td>\n",
       "    </tr>\n",
       "    <tr>\n",
       "      <th>1681</th>\n",
       "      <td>23962.0</td>\n",
       "      <td>2017-01-06 14:14:00</td>\n",
       "      <td>Shop 0</td>\n",
       "      <td>True</td>\n",
       "      <td>2017-01-06</td>\n",
       "      <td>2017-01-01</td>\n",
       "      <td>6</td>\n",
       "    </tr>\n",
       "  </tbody>\n",
       "</table>\n",
       "<p>602 rows × 7 columns</p>\n",
       "</div>"
      ],
      "text/plain": [
       "      customer_ID          first_sale  shop_ID  loyalty_program          dt  \\\n",
       "1         18026.0 2016-12-07 14:57:00  Shop 15            False  2016-12-07   \n",
       "3         18029.0 2017-02-02 16:01:00   Shop 5            False  2017-02-02   \n",
       "12        18052.0 2017-02-01 13:10:00  Shop 20            False  2017-02-01   \n",
       "18        18074.0 2016-12-03 16:35:00  Shop 12            False  2016-12-03   \n",
       "21        18089.0 2017-02-04 10:38:00   Shop 7            False  2017-02-04   \n",
       "...           ...                 ...      ...              ...         ...   \n",
       "1669      23905.0 2017-01-06 09:00:00   Shop 0             True  2017-01-06   \n",
       "1670      23908.0 2016-12-01 16:25:00   Shop 0             True  2016-12-01   \n",
       "1674      23918.0 2016-12-02 17:48:00   Shop 0             True  2016-12-02   \n",
       "1676      23929.0 2017-02-02 13:16:00   Shop 0             True  2017-02-02   \n",
       "1681      23962.0 2017-01-06 14:14:00   Shop 0             True  2017-01-06   \n",
       "\n",
       "          month  day_of_month  \n",
       "1    2016-12-01             7  \n",
       "3    2017-02-01             2  \n",
       "12   2017-02-01             1  \n",
       "18   2016-12-01             3  \n",
       "21   2017-02-01             4  \n",
       "...         ...           ...  \n",
       "1669 2017-01-01             6  \n",
       "1670 2016-12-01             1  \n",
       "1674 2016-12-01             2  \n",
       "1676 2017-02-01             2  \n",
       "1681 2017-01-01             6  \n",
       "\n",
       "[602 rows x 7 columns]"
      ]
     },
     "execution_count": 181,
     "metadata": {},
     "output_type": "execute_result"
    }
   ],
   "source": [
    "profiles_gorizont= (profiles[\n",
    "                             (profiles['day_of_month']>=1)\n",
    "                            &(profiles['day_of_month']<=7)\n",
    "                            ]\n",
    "                   )\n",
    "profiles_gorizont #.head(3)"
   ]
  },
  {
   "cell_type": "markdown",
   "metadata": {},
   "source": [
    "Подготовим данные о покупках помесячно:"
   ]
  },
  {
   "cell_type": "code",
   "execution_count": 182,
   "metadata": {},
   "outputs": [
    {
     "data": {
      "text/html": [
       "<div>\n",
       "<style scoped>\n",
       "    .dataframe tbody tr th:only-of-type {\n",
       "        vertical-align: middle;\n",
       "    }\n",
       "\n",
       "    .dataframe tbody tr th {\n",
       "        vertical-align: top;\n",
       "    }\n",
       "\n",
       "    .dataframe thead th {\n",
       "        text-align: right;\n",
       "    }\n",
       "</style>\n",
       "<table border=\"1\" class=\"dataframe\">\n",
       "  <thead>\n",
       "    <tr style=\"text-align: right;\">\n",
       "      <th></th>\n",
       "      <th>purchase_ID</th>\n",
       "      <th>item_ID</th>\n",
       "      <th>quantity</th>\n",
       "      <th>purchase_date</th>\n",
       "      <th>customer_ID</th>\n",
       "      <th>shop_ID</th>\n",
       "      <th>loyalty_program</th>\n",
       "      <th>price_per_one</th>\n",
       "      <th>day_of_week_sale</th>\n",
       "      <th>day_of_sale</th>\n",
       "      <th>month_year_sale</th>\n",
       "    </tr>\n",
       "  </thead>\n",
       "  <tbody>\n",
       "    <tr>\n",
       "      <th>0</th>\n",
       "      <td>538280</td>\n",
       "      <td>21873</td>\n",
       "      <td>11</td>\n",
       "      <td>2016-12-10 12:50:00</td>\n",
       "      <td>18427.0</td>\n",
       "      <td>Shop 0</td>\n",
       "      <td>False</td>\n",
       "      <td>1.63</td>\n",
       "      <td>5</td>\n",
       "      <td>2016-12-10</td>\n",
       "      <td>2016-12-01</td>\n",
       "    </tr>\n",
       "  </tbody>\n",
       "</table>\n",
       "</div>"
      ],
      "text/plain": [
       "  purchase_ID item_ID  quantity       purchase_date customer_ID shop_ID  \\\n",
       "0      538280   21873        11 2016-12-10 12:50:00     18427.0  Shop 0   \n",
       "\n",
       "   loyalty_program  price_per_one  day_of_week_sale day_of_sale  \\\n",
       "0            False           1.63                 5  2016-12-10   \n",
       "\n",
       "  month_year_sale  \n",
       "0      2016-12-01  "
      ]
     },
     "execution_count": 182,
     "metadata": {},
     "output_type": "execute_result"
    }
   ],
   "source": [
    "data_cl.head(1)"
   ]
  },
  {
   "cell_type": "code",
   "execution_count": 183,
   "metadata": {},
   "outputs": [
    {
     "data": {
      "text/html": [
       "<div>\n",
       "<style scoped>\n",
       "    .dataframe tbody tr th:only-of-type {\n",
       "        vertical-align: middle;\n",
       "    }\n",
       "\n",
       "    .dataframe tbody tr th {\n",
       "        vertical-align: top;\n",
       "    }\n",
       "\n",
       "    .dataframe thead th {\n",
       "        text-align: right;\n",
       "    }\n",
       "</style>\n",
       "<table border=\"1\" class=\"dataframe\">\n",
       "  <thead>\n",
       "    <tr style=\"text-align: right;\">\n",
       "      <th></th>\n",
       "      <th>customer_ID</th>\n",
       "      <th>month_year_sale</th>\n",
       "      <th>sum_month_sale</th>\n",
       "    </tr>\n",
       "  </thead>\n",
       "  <tbody>\n",
       "    <tr>\n",
       "      <th>0</th>\n",
       "      <td>18025.0</td>\n",
       "      <td>2017-01-01</td>\n",
       "      <td>1.0</td>\n",
       "    </tr>\n",
       "    <tr>\n",
       "      <th>1</th>\n",
       "      <td>18026.0</td>\n",
       "      <td>2016-12-01</td>\n",
       "      <td>138.1</td>\n",
       "    </tr>\n",
       "    <tr>\n",
       "      <th>2</th>\n",
       "      <td>18026.0</td>\n",
       "      <td>2017-01-01</td>\n",
       "      <td>115.7</td>\n",
       "    </tr>\n",
       "    <tr>\n",
       "      <th>3</th>\n",
       "      <td>18027.0</td>\n",
       "      <td>2016-12-01</td>\n",
       "      <td>33.8</td>\n",
       "    </tr>\n",
       "    <tr>\n",
       "      <th>4</th>\n",
       "      <td>18027.0</td>\n",
       "      <td>2017-01-01</td>\n",
       "      <td>17.3</td>\n",
       "    </tr>\n",
       "  </tbody>\n",
       "</table>\n",
       "</div>"
      ],
      "text/plain": [
       "   customer_ID month_year_sale  sum_month_sale\n",
       "0      18025.0      2017-01-01             1.0\n",
       "1      18026.0      2016-12-01           138.1\n",
       "2      18026.0      2017-01-01           115.7\n",
       "3      18027.0      2016-12-01            33.8\n",
       "4      18027.0      2017-01-01            17.3"
      ]
     },
     "execution_count": 183,
     "metadata": {},
     "output_type": "execute_result"
    }
   ],
   "source": [
    "sum_sale = data_cl.pivot_table(index=['customer_ID', 'month_year_sale'], values='price_per_one', aggfunc='sum').reset_index()\n",
    "sum_sale = sum_sale.rename(columns={'price_per_one':'sum_month_sale'})\n",
    "sum_sale['sum_month_sale']= round(sum_sale['sum_month_sale'],1)\n",
    "sum_sale.head()"
   ]
  },
  {
   "cell_type": "markdown",
   "metadata": {},
   "source": [
    "Выделим из таблицы sum_sale для каждого пользователя сумму покупок за первый месяц его обслуживания в магазине за исследуемый период: "
   ]
  },
  {
   "cell_type": "code",
   "execution_count": 184,
   "metadata": {},
   "outputs": [
    {
     "data": {
      "text/html": [
       "<div>\n",
       "<style scoped>\n",
       "    .dataframe tbody tr th:only-of-type {\n",
       "        vertical-align: middle;\n",
       "    }\n",
       "\n",
       "    .dataframe tbody tr th {\n",
       "        vertical-align: top;\n",
       "    }\n",
       "\n",
       "    .dataframe thead th {\n",
       "        text-align: right;\n",
       "    }\n",
       "</style>\n",
       "<table border=\"1\" class=\"dataframe\">\n",
       "  <thead>\n",
       "    <tr style=\"text-align: right;\">\n",
       "      <th></th>\n",
       "      <th>customer_ID</th>\n",
       "      <th>month_year_sale</th>\n",
       "      <th>sum_first_month_sale</th>\n",
       "    </tr>\n",
       "  </thead>\n",
       "  <tbody>\n",
       "    <tr>\n",
       "      <th>0</th>\n",
       "      <td>18025.0</td>\n",
       "      <td>2017-01-01</td>\n",
       "      <td>1.0</td>\n",
       "    </tr>\n",
       "    <tr>\n",
       "      <th>1</th>\n",
       "      <td>18026.0</td>\n",
       "      <td>2016-12-01</td>\n",
       "      <td>138.1</td>\n",
       "    </tr>\n",
       "    <tr>\n",
       "      <th>2</th>\n",
       "      <td>18027.0</td>\n",
       "      <td>2016-12-01</td>\n",
       "      <td>33.8</td>\n",
       "    </tr>\n",
       "    <tr>\n",
       "      <th>3</th>\n",
       "      <td>18029.0</td>\n",
       "      <td>2017-02-01</td>\n",
       "      <td>48.6</td>\n",
       "    </tr>\n",
       "    <tr>\n",
       "      <th>4</th>\n",
       "      <td>18031.0</td>\n",
       "      <td>2017-02-01</td>\n",
       "      <td>93.1</td>\n",
       "    </tr>\n",
       "  </tbody>\n",
       "</table>\n",
       "</div>"
      ],
      "text/plain": [
       "   customer_ID month_year_sale  sum_first_month_sale\n",
       "0      18025.0      2017-01-01                   1.0\n",
       "1      18026.0      2016-12-01                 138.1\n",
       "2      18027.0      2016-12-01                  33.8\n",
       "3      18029.0      2017-02-01                  48.6\n",
       "4      18031.0      2017-02-01                  93.1"
      ]
     },
     "execution_count": 184,
     "metadata": {},
     "output_type": "execute_result"
    }
   ],
   "source": [
    "sum_sale_first = sum_sale.sort_values(by=['customer_ID', 'month_year_sale']).groupby('customer_ID').agg({'month_year_sale': 'first', 'sum_month_sale': 'first'})\n",
    "sum_sale_first= sum_sale_first.rename(columns={'sum_month_sale': 'sum_first_month_sale'}).reset_index() \n",
    "sum_sale_first.head()"
   ]
  },
  {
   "cell_type": "markdown",
   "metadata": {},
   "source": [
    "Добавим к таблице profiles_gorizont данные о покупках: "
   ]
  },
  {
   "cell_type": "code",
   "execution_count": 185,
   "metadata": {},
   "outputs": [
    {
     "data": {
      "text/html": [
       "<div>\n",
       "<style scoped>\n",
       "    .dataframe tbody tr th:only-of-type {\n",
       "        vertical-align: middle;\n",
       "    }\n",
       "\n",
       "    .dataframe tbody tr th {\n",
       "        vertical-align: top;\n",
       "    }\n",
       "\n",
       "    .dataframe thead th {\n",
       "        text-align: right;\n",
       "    }\n",
       "</style>\n",
       "<table border=\"1\" class=\"dataframe\">\n",
       "  <thead>\n",
       "    <tr style=\"text-align: right;\">\n",
       "      <th></th>\n",
       "      <th>customer_ID</th>\n",
       "      <th>first_sale</th>\n",
       "      <th>shop_ID</th>\n",
       "      <th>loyalty_program</th>\n",
       "      <th>dt</th>\n",
       "      <th>month</th>\n",
       "      <th>day_of_month</th>\n",
       "      <th>month_year_sale</th>\n",
       "      <th>sum_first_month_sale</th>\n",
       "    </tr>\n",
       "  </thead>\n",
       "  <tbody>\n",
       "    <tr>\n",
       "      <th>0</th>\n",
       "      <td>18026.0</td>\n",
       "      <td>2016-12-07 14:57:00</td>\n",
       "      <td>Shop 15</td>\n",
       "      <td>False</td>\n",
       "      <td>2016-12-07</td>\n",
       "      <td>2016-12-01</td>\n",
       "      <td>7</td>\n",
       "      <td>2016-12-01</td>\n",
       "      <td>138.1</td>\n",
       "    </tr>\n",
       "    <tr>\n",
       "      <th>1</th>\n",
       "      <td>18029.0</td>\n",
       "      <td>2017-02-02 16:01:00</td>\n",
       "      <td>Shop 5</td>\n",
       "      <td>False</td>\n",
       "      <td>2017-02-02</td>\n",
       "      <td>2017-02-01</td>\n",
       "      <td>2</td>\n",
       "      <td>2017-02-01</td>\n",
       "      <td>48.6</td>\n",
       "    </tr>\n",
       "    <tr>\n",
       "      <th>2</th>\n",
       "      <td>18052.0</td>\n",
       "      <td>2017-02-01 13:10:00</td>\n",
       "      <td>Shop 20</td>\n",
       "      <td>False</td>\n",
       "      <td>2017-02-01</td>\n",
       "      <td>2017-02-01</td>\n",
       "      <td>1</td>\n",
       "      <td>2017-02-01</td>\n",
       "      <td>57.8</td>\n",
       "    </tr>\n",
       "    <tr>\n",
       "      <th>3</th>\n",
       "      <td>18074.0</td>\n",
       "      <td>2016-12-03 16:35:00</td>\n",
       "      <td>Shop 12</td>\n",
       "      <td>False</td>\n",
       "      <td>2016-12-03</td>\n",
       "      <td>2016-12-01</td>\n",
       "      <td>3</td>\n",
       "      <td>2016-12-01</td>\n",
       "      <td>130.3</td>\n",
       "    </tr>\n",
       "    <tr>\n",
       "      <th>4</th>\n",
       "      <td>18089.0</td>\n",
       "      <td>2017-02-04 10:38:00</td>\n",
       "      <td>Shop 7</td>\n",
       "      <td>False</td>\n",
       "      <td>2017-02-04</td>\n",
       "      <td>2017-02-01</td>\n",
       "      <td>4</td>\n",
       "      <td>2017-02-01</td>\n",
       "      <td>178.9</td>\n",
       "    </tr>\n",
       "    <tr>\n",
       "      <th>...</th>\n",
       "      <td>...</td>\n",
       "      <td>...</td>\n",
       "      <td>...</td>\n",
       "      <td>...</td>\n",
       "      <td>...</td>\n",
       "      <td>...</td>\n",
       "      <td>...</td>\n",
       "      <td>...</td>\n",
       "      <td>...</td>\n",
       "    </tr>\n",
       "    <tr>\n",
       "      <th>597</th>\n",
       "      <td>23905.0</td>\n",
       "      <td>2017-01-06 09:00:00</td>\n",
       "      <td>Shop 0</td>\n",
       "      <td>True</td>\n",
       "      <td>2017-01-06</td>\n",
       "      <td>2017-01-01</td>\n",
       "      <td>6</td>\n",
       "      <td>2017-01-01</td>\n",
       "      <td>96.0</td>\n",
       "    </tr>\n",
       "    <tr>\n",
       "      <th>598</th>\n",
       "      <td>23908.0</td>\n",
       "      <td>2016-12-01 16:25:00</td>\n",
       "      <td>Shop 0</td>\n",
       "      <td>True</td>\n",
       "      <td>2016-12-01</td>\n",
       "      <td>2016-12-01</td>\n",
       "      <td>1</td>\n",
       "      <td>2016-12-01</td>\n",
       "      <td>103.3</td>\n",
       "    </tr>\n",
       "    <tr>\n",
       "      <th>599</th>\n",
       "      <td>23918.0</td>\n",
       "      <td>2016-12-02 17:48:00</td>\n",
       "      <td>Shop 0</td>\n",
       "      <td>True</td>\n",
       "      <td>2016-12-02</td>\n",
       "      <td>2016-12-01</td>\n",
       "      <td>2</td>\n",
       "      <td>2016-12-01</td>\n",
       "      <td>135.5</td>\n",
       "    </tr>\n",
       "    <tr>\n",
       "      <th>600</th>\n",
       "      <td>23929.0</td>\n",
       "      <td>2017-02-02 13:16:00</td>\n",
       "      <td>Shop 0</td>\n",
       "      <td>True</td>\n",
       "      <td>2017-02-02</td>\n",
       "      <td>2017-02-01</td>\n",
       "      <td>2</td>\n",
       "      <td>2017-02-01</td>\n",
       "      <td>108.3</td>\n",
       "    </tr>\n",
       "    <tr>\n",
       "      <th>601</th>\n",
       "      <td>23962.0</td>\n",
       "      <td>2017-01-06 14:14:00</td>\n",
       "      <td>Shop 0</td>\n",
       "      <td>True</td>\n",
       "      <td>2017-01-06</td>\n",
       "      <td>2017-01-01</td>\n",
       "      <td>6</td>\n",
       "      <td>2017-01-01</td>\n",
       "      <td>306.6</td>\n",
       "    </tr>\n",
       "  </tbody>\n",
       "</table>\n",
       "<p>602 rows × 9 columns</p>\n",
       "</div>"
      ],
      "text/plain": [
       "     customer_ID          first_sale  shop_ID  loyalty_program          dt  \\\n",
       "0        18026.0 2016-12-07 14:57:00  Shop 15            False  2016-12-07   \n",
       "1        18029.0 2017-02-02 16:01:00   Shop 5            False  2017-02-02   \n",
       "2        18052.0 2017-02-01 13:10:00  Shop 20            False  2017-02-01   \n",
       "3        18074.0 2016-12-03 16:35:00  Shop 12            False  2016-12-03   \n",
       "4        18089.0 2017-02-04 10:38:00   Shop 7            False  2017-02-04   \n",
       "..           ...                 ...      ...              ...         ...   \n",
       "597      23905.0 2017-01-06 09:00:00   Shop 0             True  2017-01-06   \n",
       "598      23908.0 2016-12-01 16:25:00   Shop 0             True  2016-12-01   \n",
       "599      23918.0 2016-12-02 17:48:00   Shop 0             True  2016-12-02   \n",
       "600      23929.0 2017-02-02 13:16:00   Shop 0             True  2017-02-02   \n",
       "601      23962.0 2017-01-06 14:14:00   Shop 0             True  2017-01-06   \n",
       "\n",
       "         month  day_of_month month_year_sale  sum_first_month_sale  \n",
       "0   2016-12-01             7      2016-12-01                 138.1  \n",
       "1   2017-02-01             2      2017-02-01                  48.6  \n",
       "2   2017-02-01             1      2017-02-01                  57.8  \n",
       "3   2016-12-01             3      2016-12-01                 130.3  \n",
       "4   2017-02-01             4      2017-02-01                 178.9  \n",
       "..         ...           ...             ...                   ...  \n",
       "597 2017-01-01             6      2017-01-01                  96.0  \n",
       "598 2016-12-01             1      2016-12-01                 103.3  \n",
       "599 2016-12-01             2      2016-12-01                 135.5  \n",
       "600 2017-02-01             2      2017-02-01                 108.3  \n",
       "601 2017-01-01             6      2017-01-01                 306.6  \n",
       "\n",
       "[602 rows x 9 columns]"
      ]
     },
     "execution_count": 185,
     "metadata": {},
     "output_type": "execute_result"
    }
   ],
   "source": [
    "profiles_gorizont_sale = profiles_gorizont.merge(sum_sale_first, on ='customer_ID', how = 'left')\n",
    "profiles_gorizont_sale"
   ]
  },
  {
   "cell_type": "markdown",
   "metadata": {},
   "source": [
    "Теперь рассчитаем:\n",
    "\n",
    "* размер когорт (декабрьская, январская и февральская с разделением по признаку участия в программе лояльности)\n",
    "* сумму покупок, сделанных в каждой кагорте"
   ]
  },
  {
   "cell_type": "code",
   "execution_count": 186,
   "metadata": {},
   "outputs": [
    {
     "data": {
      "text/html": [
       "<div>\n",
       "<style scoped>\n",
       "    .dataframe tbody tr th:only-of-type {\n",
       "        vertical-align: middle;\n",
       "    }\n",
       "\n",
       "    .dataframe tbody tr th {\n",
       "        vertical-align: top;\n",
       "    }\n",
       "\n",
       "    .dataframe thead th {\n",
       "        text-align: right;\n",
       "    }\n",
       "</style>\n",
       "<table border=\"1\" class=\"dataframe\">\n",
       "  <thead>\n",
       "    <tr style=\"text-align: right;\">\n",
       "      <th></th>\n",
       "      <th>month</th>\n",
       "      <th>loyalty_program</th>\n",
       "      <th>cohor_size</th>\n",
       "      <th>sum_cohor_sale</th>\n",
       "    </tr>\n",
       "  </thead>\n",
       "  <tbody>\n",
       "    <tr>\n",
       "      <th>0</th>\n",
       "      <td>2016-12-01</td>\n",
       "      <td>False</td>\n",
       "      <td>268</td>\n",
       "      <td>42479.0</td>\n",
       "    </tr>\n",
       "    <tr>\n",
       "      <th>1</th>\n",
       "      <td>2016-12-01</td>\n",
       "      <td>True</td>\n",
       "      <td>155</td>\n",
       "      <td>22993.3</td>\n",
       "    </tr>\n",
       "    <tr>\n",
       "      <th>2</th>\n",
       "      <td>2017-01-01</td>\n",
       "      <td>False</td>\n",
       "      <td>48</td>\n",
       "      <td>6475.9</td>\n",
       "    </tr>\n",
       "    <tr>\n",
       "      <th>3</th>\n",
       "      <td>2017-01-01</td>\n",
       "      <td>True</td>\n",
       "      <td>20</td>\n",
       "      <td>2605.4</td>\n",
       "    </tr>\n",
       "    <tr>\n",
       "      <th>4</th>\n",
       "      <td>2017-02-01</td>\n",
       "      <td>False</td>\n",
       "      <td>76</td>\n",
       "      <td>7854.0</td>\n",
       "    </tr>\n",
       "    <tr>\n",
       "      <th>5</th>\n",
       "      <td>2017-02-01</td>\n",
       "      <td>True</td>\n",
       "      <td>35</td>\n",
       "      <td>3388.5</td>\n",
       "    </tr>\n",
       "  </tbody>\n",
       "</table>\n",
       "</div>"
      ],
      "text/plain": [
       "       month  loyalty_program  cohor_size  sum_cohor_sale\n",
       "0 2016-12-01            False         268         42479.0\n",
       "1 2016-12-01             True         155         22993.3\n",
       "2 2017-01-01            False          48          6475.9\n",
       "3 2017-01-01             True          20          2605.4\n",
       "4 2017-02-01            False          76          7854.0\n",
       "5 2017-02-01             True          35          3388.5"
      ]
     },
     "execution_count": 186,
     "metadata": {},
     "output_type": "execute_result"
    }
   ],
   "source": [
    "itog_tab = profiles_gorizont_sale.groupby(['month','loyalty_program']).agg({'customer_ID':'count', 'sum_first_month_sale':'sum' }).reset_index()\n",
    "itog_tab =itog_tab.rename(columns={'customer_ID':'cohor_size', 'sum_first_month_sale':'sum_cohor_sale'})\n",
    "itog_tab"
   ]
  },
  {
   "cell_type": "markdown",
   "metadata": {},
   "source": [
    "Учтём тот факт, что для участия в программе лояльности клиентам необходимо оплатить 200 руб/мес:"
   ]
  },
  {
   "cell_type": "code",
   "execution_count": 187,
   "metadata": {},
   "outputs": [],
   "source": [
    "def alert_program_category(loyalty_program): \n",
    "    if loyalty_program == True:\n",
    "        return 200\n",
    "    return 0\n",
    "#print(alert_program_category(True)) #выполним проверку работы функции"
   ]
  },
  {
   "cell_type": "markdown",
   "metadata": {},
   "source": [
    "Теперь создадим доп. столбец, отражающий стоимость участия в программе и добавим итоговый столбец с суммарной суммой покупок с учётом дохода от продаж карт участия в программе лояльности:"
   ]
  },
  {
   "cell_type": "code",
   "execution_count": 188,
   "metadata": {},
   "outputs": [
    {
     "data": {
      "text/html": [
       "<div>\n",
       "<style scoped>\n",
       "    .dataframe tbody tr th:only-of-type {\n",
       "        vertical-align: middle;\n",
       "    }\n",
       "\n",
       "    .dataframe tbody tr th {\n",
       "        vertical-align: top;\n",
       "    }\n",
       "\n",
       "    .dataframe thead th {\n",
       "        text-align: right;\n",
       "    }\n",
       "</style>\n",
       "<table border=\"1\" class=\"dataframe\">\n",
       "  <thead>\n",
       "    <tr style=\"text-align: right;\">\n",
       "      <th></th>\n",
       "      <th>month</th>\n",
       "      <th>loyalty_program</th>\n",
       "      <th>cohor_size</th>\n",
       "      <th>sum_cohor_sale</th>\n",
       "      <th>pay_program</th>\n",
       "      <th>total_cohor_sale</th>\n",
       "    </tr>\n",
       "  </thead>\n",
       "  <tbody>\n",
       "    <tr>\n",
       "      <th>0</th>\n",
       "      <td>2016-12-01</td>\n",
       "      <td>False</td>\n",
       "      <td>268</td>\n",
       "      <td>42479.0</td>\n",
       "      <td>0</td>\n",
       "      <td>42479.0</td>\n",
       "    </tr>\n",
       "    <tr>\n",
       "      <th>1</th>\n",
       "      <td>2016-12-01</td>\n",
       "      <td>True</td>\n",
       "      <td>155</td>\n",
       "      <td>22993.3</td>\n",
       "      <td>31000</td>\n",
       "      <td>53993.3</td>\n",
       "    </tr>\n",
       "    <tr>\n",
       "      <th>2</th>\n",
       "      <td>2017-01-01</td>\n",
       "      <td>False</td>\n",
       "      <td>48</td>\n",
       "      <td>6475.9</td>\n",
       "      <td>0</td>\n",
       "      <td>6475.9</td>\n",
       "    </tr>\n",
       "    <tr>\n",
       "      <th>3</th>\n",
       "      <td>2017-01-01</td>\n",
       "      <td>True</td>\n",
       "      <td>20</td>\n",
       "      <td>2605.4</td>\n",
       "      <td>4000</td>\n",
       "      <td>6605.4</td>\n",
       "    </tr>\n",
       "    <tr>\n",
       "      <th>4</th>\n",
       "      <td>2017-02-01</td>\n",
       "      <td>False</td>\n",
       "      <td>76</td>\n",
       "      <td>7854.0</td>\n",
       "      <td>0</td>\n",
       "      <td>7854.0</td>\n",
       "    </tr>\n",
       "    <tr>\n",
       "      <th>5</th>\n",
       "      <td>2017-02-01</td>\n",
       "      <td>True</td>\n",
       "      <td>35</td>\n",
       "      <td>3388.5</td>\n",
       "      <td>7000</td>\n",
       "      <td>10388.5</td>\n",
       "    </tr>\n",
       "  </tbody>\n",
       "</table>\n",
       "</div>"
      ],
      "text/plain": [
       "       month  loyalty_program  cohor_size  sum_cohor_sale  pay_program  \\\n",
       "0 2016-12-01            False         268         42479.0            0   \n",
       "1 2016-12-01             True         155         22993.3        31000   \n",
       "2 2017-01-01            False          48          6475.9            0   \n",
       "3 2017-01-01             True          20          2605.4         4000   \n",
       "4 2017-02-01            False          76          7854.0            0   \n",
       "5 2017-02-01             True          35          3388.5         7000   \n",
       "\n",
       "   total_cohor_sale  \n",
       "0           42479.0  \n",
       "1           53993.3  \n",
       "2            6475.9  \n",
       "3            6605.4  \n",
       "4            7854.0  \n",
       "5           10388.5  "
      ]
     },
     "execution_count": 188,
     "metadata": {},
     "output_type": "execute_result"
    }
   ],
   "source": [
    "itog_tab['pay_program']=itog_tab['loyalty_program'].apply(alert_program_category)*itog_tab['cohor_size']\n",
    "itog_tab['total_cohor_sale'] = itog_tab['sum_cohor_sale']+ itog_tab['pay_program']\n",
    "itog_tab"
   ]
  },
  {
   "cell_type": "markdown",
   "metadata": {},
   "source": [
    "Сделаем итоговый расчёт средней выручки от пользователя, начавших обслуживание в магазине с 1 по 7 число каждого месяца включительно у учётом участия в программе лояльности: "
   ]
  },
  {
   "cell_type": "code",
   "execution_count": 189,
   "metadata": {},
   "outputs": [
    {
     "data": {
      "text/html": [
       "<div>\n",
       "<style scoped>\n",
       "    .dataframe tbody tr th:only-of-type {\n",
       "        vertical-align: middle;\n",
       "    }\n",
       "\n",
       "    .dataframe tbody tr th {\n",
       "        vertical-align: top;\n",
       "    }\n",
       "\n",
       "    .dataframe thead th {\n",
       "        text-align: right;\n",
       "    }\n",
       "</style>\n",
       "<table border=\"1\" class=\"dataframe\">\n",
       "  <thead>\n",
       "    <tr style=\"text-align: right;\">\n",
       "      <th></th>\n",
       "      <th>month</th>\n",
       "      <th>loyalty_program</th>\n",
       "      <th>cohor_size</th>\n",
       "      <th>sum_cohor_sale</th>\n",
       "      <th>pay_program</th>\n",
       "      <th>total_cohor_sale</th>\n",
       "      <th>ltv</th>\n",
       "    </tr>\n",
       "  </thead>\n",
       "  <tbody>\n",
       "    <tr>\n",
       "      <th>0</th>\n",
       "      <td>December,2016</td>\n",
       "      <td>False</td>\n",
       "      <td>268</td>\n",
       "      <td>42479.0</td>\n",
       "      <td>0</td>\n",
       "      <td>42479.0</td>\n",
       "      <td>158.5</td>\n",
       "    </tr>\n",
       "    <tr>\n",
       "      <th>1</th>\n",
       "      <td>December,2016</td>\n",
       "      <td>True</td>\n",
       "      <td>155</td>\n",
       "      <td>22993.3</td>\n",
       "      <td>31000</td>\n",
       "      <td>53993.3</td>\n",
       "      <td>348.3</td>\n",
       "    </tr>\n",
       "    <tr>\n",
       "      <th>2</th>\n",
       "      <td>January,2017</td>\n",
       "      <td>False</td>\n",
       "      <td>48</td>\n",
       "      <td>6475.9</td>\n",
       "      <td>0</td>\n",
       "      <td>6475.9</td>\n",
       "      <td>134.9</td>\n",
       "    </tr>\n",
       "    <tr>\n",
       "      <th>3</th>\n",
       "      <td>January,2017</td>\n",
       "      <td>True</td>\n",
       "      <td>20</td>\n",
       "      <td>2605.4</td>\n",
       "      <td>4000</td>\n",
       "      <td>6605.4</td>\n",
       "      <td>330.3</td>\n",
       "    </tr>\n",
       "    <tr>\n",
       "      <th>4</th>\n",
       "      <td>February,2017</td>\n",
       "      <td>False</td>\n",
       "      <td>76</td>\n",
       "      <td>7854.0</td>\n",
       "      <td>0</td>\n",
       "      <td>7854.0</td>\n",
       "      <td>103.3</td>\n",
       "    </tr>\n",
       "    <tr>\n",
       "      <th>5</th>\n",
       "      <td>February,2017</td>\n",
       "      <td>True</td>\n",
       "      <td>35</td>\n",
       "      <td>3388.5</td>\n",
       "      <td>7000</td>\n",
       "      <td>10388.5</td>\n",
       "      <td>296.8</td>\n",
       "    </tr>\n",
       "  </tbody>\n",
       "</table>\n",
       "</div>"
      ],
      "text/plain": [
       "           month  loyalty_program  cohor_size  sum_cohor_sale  pay_program  \\\n",
       "0  December,2016            False         268         42479.0            0   \n",
       "1  December,2016             True         155         22993.3        31000   \n",
       "2   January,2017            False          48          6475.9            0   \n",
       "3   January,2017             True          20          2605.4         4000   \n",
       "4  February,2017            False          76          7854.0            0   \n",
       "5  February,2017             True          35          3388.5         7000   \n",
       "\n",
       "   total_cohor_sale    ltv  \n",
       "0           42479.0  158.5  \n",
       "1           53993.3  348.3  \n",
       "2            6475.9  134.9  \n",
       "3            6605.4  330.3  \n",
       "4            7854.0  103.3  \n",
       "5           10388.5  296.8  "
      ]
     },
     "execution_count": 189,
     "metadata": {},
     "output_type": "execute_result"
    }
   ],
   "source": [
    "itog_tab['ltv'] = round(itog_tab['total_cohor_sale']/itog_tab['cohor_size'],1) \n",
    "itog_tab['month'] = itog_tab['month'].dt.strftime('%B,%Y')\n",
    "itog_tab"
   ]
  },
  {
   "cell_type": "markdown",
   "metadata": {},
   "source": [
    "Отобразим результаты расчётов на графике:"
   ]
  },
  {
   "cell_type": "code",
   "execution_count": 190,
   "metadata": {},
   "outputs": [],
   "source": [
    "itog_tab_da = itog_tab[itog_tab['loyalty_program']==True]\n",
    "itog_tab_net = itog_tab[itog_tab['loyalty_program']==False]"
   ]
  },
  {
   "cell_type": "code",
   "execution_count": 191,
   "metadata": {},
   "outputs": [
    {
     "data": {
      "image/png": "[encoded data removed]",
      "text/plain": [
       "<Figure size 720x576 with 1 Axes>"
      ]
     },
     "metadata": {
      "needs_background": "light"
     },
     "output_type": "display_data"
    }
   ],
   "source": [
    "month = itog_tab_da['month']\n",
    "\n",
    "# добавляем на график данные по месяцам о размере среднего чека клиентов, учавствующих 'в программе'\n",
    "da = itog_tab_da[['month','ltv']]#.rename(columns={'mean_number_da':'number_sale'})\n",
    "da['Категория'] = 'по программе лояльности'\n",
    "\n",
    "# добавляем на график данные по месяцам о размере среднего чека клиентов, 'вне программы'\n",
    "net = itog_tab_net[['month','ltv']] #.rename(columns={'mean_number_net':'number_sale'})\n",
    "net['Категория'] = 'вне программы лояльности'\n",
    "\n",
    "\n",
    "\n",
    "plt.figure(figsize=(10,8))\n",
    "\n",
    "concat=pd.concat([da,net])\n",
    "sns.barplot(x='month', y='ltv', hue='Категория', data=concat)\n",
    "\n",
    "plt.grid()\n",
    "plt.title('Ср. выручка с клиента за первый месяц,начавших покупки в магазине с 1 по 7 число месяца')\n",
    "plt.xlabel('Период')\n",
    "plt.ylabel('Ср.выручка от одного клиента за первый месяц обслуживания в магазине')\n",
    "plt.xticks #(rotation=90)\n",
    "plt.show()\n",
    "\n",
    "import warnings   \n",
    "warnings.simplefilter('ignore')"
   ]
  },
  {
   "cell_type": "markdown",
   "metadata": {},
   "source": [
    "**Промежуточные выводы:** по показателю ср. выручки на клиента видим, что участники программы лояльности за каждый месяц работы программы принесли магазину доход более чем в 2 раза выше, чем обычные клиенты."
   ]
  },
  {
   "cell_type": "markdown",
   "metadata": {},
   "source": [
    "## Cтатистический анализ с формулировкой гипотез"
   ]
  },
  {
   "cell_type": "markdown",
   "metadata": {},
   "source": [
    "**Сформулируем и проверим первую гипотезу:**"
   ]
  },
  {
   "cell_type": "markdown",
   "metadata": {},
   "source": [
    "**Н0**: НЕТ РАЗЛИЧИЙ в размере среднего чека между клиентами участвующими в программе лояльности и не участвующими в ней (т.е. размер среднего чека участников программы лояльности РАВЕН размеру среднего чека у покупателей, не участвующих в программе лояльности).\n",
    "    \n",
    "**Н1**: ЕСТЬ РАЗЛИЧИЯ в размере среднего чека у участников программы лояльности и у остальных покупателей."
   ]
  },
  {
   "cell_type": "markdown",
   "metadata": {},
   "source": [
    "Для расчёта статистической значимости различий в среднем чеке между , передадим критерию mannwhitneyu() данные о стоимости покупок, а также найдём относительные различия в среднем чеке между группами клентов, участвующих в программе лояльности и остальных покупателей:"
   ]
  },
  {
   "cell_type": "code",
   "execution_count": 192,
   "metadata": {},
   "outputs": [
    {
     "name": "stdout",
     "output_type": "stream",
     "text": [
      "p-value= 0.98627\n",
      "0.531\n"
     ]
    }
   ],
   "source": [
    "print('p-value=','{0:.5f}'.format(stats.mannwhitneyu(cheki[cheki['loyalty_program']== 1]['purchase_price'], cheki[cheki['loyalty_program']==0]['purchase_price'])[1]))\n",
    "\n",
    "print('{0:.3f}'.format(cheki[cheki['loyalty_program']== 0]['purchase_price'].mean()/cheki[cheki['loyalty_program']== 1]['purchase_price'].mean()-1)) "
   ]
  },
  {
   "cell_type": "markdown",
   "metadata": {},
   "source": [
    "**Выводы к расчётам:**\n",
    "\n",
    "p-value = 0.00019 меньше 0.05, значит нулевую гипотезу о том статистически значимых различий в среднем чеке покупок между группами нет - отвергаем. \n",
    "\n",
    "Второе число 0,659 - говорит о том, средний чек у клиентов, не участвующих в программе лояльности выше среднего чека клиентов, участвующих в программе на 65,9%.\n",
    "    "
   ]
  },
  {
   "cell_type": "markdown",
   "metadata": {},
   "source": [
    "**Сформулируем и проверим вторую гипотезу:**"
   ]
  },
  {
   "cell_type": "markdown",
   "metadata": {},
   "source": [
    "**Н0**: НЕТ РАЗЛИЧИЙ среднем количестве покупок на одного покупателя между клиентами участвующими в программе лояльности и не участвующими в ней (т.е. среднее количество покупок на одного покупателя у участников программы лояльности РАВНО количеству покупок на одного покупателя у клиентов, не участвующих в программе лояльности).\n",
    "    \n",
    "**Н1**: ЕСТЬ РАЗЛИЧИЯ в среднем количестве покупок на одного покупателя у участников программы лояльности и у остальных покупателей."
   ]
  },
  {
   "cell_type": "markdown",
   "metadata": {},
   "source": [
    "Для проверки гипотезы используем результаты ранее сделанных расчётов:"
   ]
  },
  {
   "cell_type": "markdown",
   "metadata": {},
   "source": [
    "**Среднее количество покупок у покупателей, учавствующих в программе лояльности**: "
   ]
  },
  {
   "cell_type": "code",
   "execution_count": 193,
   "metadata": {},
   "outputs": [
    {
     "data": {
      "text/html": [
       "<div>\n",
       "<style scoped>\n",
       "    .dataframe tbody tr th:only-of-type {\n",
       "        vertical-align: middle;\n",
       "    }\n",
       "\n",
       "    .dataframe tbody tr th {\n",
       "        vertical-align: top;\n",
       "    }\n",
       "\n",
       "    .dataframe thead th {\n",
       "        text-align: right;\n",
       "    }\n",
       "</style>\n",
       "<table border=\"1\" class=\"dataframe\">\n",
       "  <thead>\n",
       "    <tr style=\"text-align: right;\">\n",
       "      <th></th>\n",
       "      <th>month_year_sale</th>\n",
       "      <th>mean_number_da</th>\n",
       "    </tr>\n",
       "  </thead>\n",
       "  <tbody>\n",
       "    <tr>\n",
       "      <th>0</th>\n",
       "      <td>2016-12-01</td>\n",
       "      <td>1.59</td>\n",
       "    </tr>\n",
       "    <tr>\n",
       "      <th>1</th>\n",
       "      <td>2017-01-01</td>\n",
       "      <td>1.26</td>\n",
       "    </tr>\n",
       "    <tr>\n",
       "      <th>2</th>\n",
       "      <td>2017-02-01</td>\n",
       "      <td>1.29</td>\n",
       "    </tr>\n",
       "  </tbody>\n",
       "</table>\n",
       "</div>"
      ],
      "text/plain": [
       "  month_year_sale  mean_number_da\n",
       "0      2016-12-01            1.59\n",
       "1      2017-01-01            1.26\n",
       "2      2017-02-01            1.29"
      ]
     },
     "execution_count": 193,
     "metadata": {},
     "output_type": "execute_result"
    }
   ],
   "source": [
    "mean_number_sale_da"
   ]
  },
  {
   "cell_type": "markdown",
   "metadata": {},
   "source": [
    "**Среднее количество покупок у покупателей, НЕ учавствующих в программе лояльности**:"
   ]
  },
  {
   "cell_type": "code",
   "execution_count": 194,
   "metadata": {},
   "outputs": [
    {
     "data": {
      "text/html": [
       "<div>\n",
       "<style scoped>\n",
       "    .dataframe tbody tr th:only-of-type {\n",
       "        vertical-align: middle;\n",
       "    }\n",
       "\n",
       "    .dataframe tbody tr th {\n",
       "        vertical-align: top;\n",
       "    }\n",
       "\n",
       "    .dataframe thead th {\n",
       "        text-align: right;\n",
       "    }\n",
       "</style>\n",
       "<table border=\"1\" class=\"dataframe\">\n",
       "  <thead>\n",
       "    <tr style=\"text-align: right;\">\n",
       "      <th></th>\n",
       "      <th>month_year_sale</th>\n",
       "      <th>mean_number_net</th>\n",
       "    </tr>\n",
       "  </thead>\n",
       "  <tbody>\n",
       "    <tr>\n",
       "      <th>0</th>\n",
       "      <td>2016-12-01</td>\n",
       "      <td>1.58</td>\n",
       "    </tr>\n",
       "    <tr>\n",
       "      <th>1</th>\n",
       "      <td>2017-01-01</td>\n",
       "      <td>1.38</td>\n",
       "    </tr>\n",
       "    <tr>\n",
       "      <th>2</th>\n",
       "      <td>2017-02-01</td>\n",
       "      <td>1.34</td>\n",
       "    </tr>\n",
       "  </tbody>\n",
       "</table>\n",
       "</div>"
      ],
      "text/plain": [
       "  month_year_sale  mean_number_net\n",
       "0      2016-12-01             1.58\n",
       "1      2017-01-01             1.38\n",
       "2      2017-02-01             1.34"
      ]
     },
     "execution_count": 194,
     "metadata": {},
     "output_type": "execute_result"
    }
   ],
   "source": [
    "mean_number_sale_net"
   ]
  },
  {
   "cell_type": "code",
   "execution_count": 195,
   "metadata": {},
   "outputs": [
    {
     "name": "stdout",
     "output_type": "stream",
     "text": [
      "p-value= 0.700\n",
      "0.039\n"
     ]
    }
   ],
   "source": [
    "print('p-value=','{0:.3f}'.format(stats.mannwhitneyu(mean_number_sale_da['mean_number_da'], mean_number_sale_net['mean_number_net'])[1]))\n",
    "\n",
    "print('{0:.3f}'.format(mean_number_sale_net['mean_number_net'].mean()/mean_number_sale_da['mean_number_da'].mean()-1)) "
   ]
  },
  {
   "cell_type": "markdown",
   "metadata": {},
   "source": [
    "**Выводы к расчётам:**\n",
    "    \n",
    "p-value = 0,400 больше 0.05, значит НЕ ОТВЕРГАЕМ нулевую гипотезу о том, что нет статистически значимых различий среднем количестве покупок на одного покупателя между клиентами участвующими в программе лояльности и не участвующими в ней.\n",
    "\n",
    "Второе число 0,071 - говорит о том, что среднее количество покупок у клиентов, не участвующих в программе лояльности на 7,1% выше, чем у клиентов участвующих в программе лояльности, но это превышение в данном случае не является статистически значимым. "
   ]
  },
  {
   "cell_type": "markdown",
   "metadata": {},
   "source": [
    "## Дашборд"
   ]
  },
  {
   "cell_type": "markdown",
   "metadata": {},
   "source": [
    "Сделаем выгрузку данных для дашборда: "
   ]
  },
  {
   "cell_type": "code",
   "execution_count": 196,
   "metadata": {},
   "outputs": [],
   "source": [
    "cheki.to_csv('Vigruzka.csv')"
   ]
  },
  {
   "cell_type": "markdown",
   "metadata": {},
   "source": [
    "**Ссылка на дашборд:** \n",
    "https://public.tableau.com/app/profile/karin.vink/viz/Final_project_16721149442770/Dashboard1?publish=yes"
   ]
  },
  {
   "cell_type": "markdown",
   "metadata": {},
   "source": [
    "## Выводы и рекомендации"
   ]
  },
  {
   "cell_type": "markdown",
   "metadata": {},
   "source": [
    "**По сделанным расчетам и графикам графикам видим:**\n",
    "\n",
    "1) По показателю «Средний чек» клиенты программы лояльности уступают обычным покупателям в 1,5 раза.\n",
    "\n",
    "2) «Количество покупок всего» показывает нам, что уже почти 30% покупок сделано с  использованием программы, при том, что программа находится в тестовом режиме.\n",
    "\n",
    "3) Показатель количества покупок на одного клиента примерно одинаков для обоих групп клиентов, что положительно характеризует практику использования программы и возможности её дальнейшего использования, с учётом того, что в декабре 2016 у клиентов-участников этот показатель был выше.\n",
    "\n",
    "4) Значимым аргументом в пользу дальнейшего применения программы является тот факт, что по показателю средней выручки с одного нового клиента за первый месяц покупок в магазине, клиенты – участники за каждый месяц работы программы принесли магазину доход более чем в 2 раза выше, чем обычные клиенты. \n"
   ]
  },
  {
   "cell_type": "markdown",
   "metadata": {},
   "source": [
    "**По графику дашборда видим:**\n",
    "\n",
    "Количество покупок в день в декабрь 2016 до середины месяца было выше, чем январе и феврале 2017г., что могло быть связано со стремлением людей завершить ремонтные и строительные работы в преддверии праздников. С 29 декабря 2016 г. по 3 января 2017г видим пробел в продажах. Он может быть связан как с техническими проблемами в записи данных, так и с графиком работы магазинов. \n",
    "\n",
    "В первом случае - необходимо обратить на причины технических проблем для их избежания в дальнейшем. \n",
    "\n",
    "Во втором случае - обратить внимание на график работы в конце и начале года в праздничные дни, т.к. для сети магазинов это может ежегодно быть причиной недополучения значительной прибыли."
   ]
  },
  {
   "cell_type": "markdown",
   "metadata": {},
   "source": [
    "**Рекомендации по использованию программы:**"
   ]
  },
  {
   "cell_type": "markdown",
   "metadata": {},
   "source": [
    "По сделанным расчётам есть все основания полагать, что у программы лояльности положительная динамика использования и есть возможности для её расширения и увеличения основных показателей (среднего чека, количества покупок и средней выручки на одного клиента).\n",
    "\n",
    "1) Для возможной модернизации и развития программы желательно провести дополнительный опрос, что можно улучшить в программе у клиентов её использующих и что останавливает от участия тех клиентов , кто программой ещё не пользовался.\n",
    "\n",
    "2) Особое внимание необходимо обратить на показатель среднего чека с целью его увеличения, например, включить в программу более дорогостоящие товарные позиции, а также бонусы за покупку нескольких товаров за раз.\n"
   ]
  },
  {
   "cell_type": "markdown",
   "metadata": {},
   "source": [
    "**Рекомендации для коммерческого отдела:**\n",
    "\n",
    "1) Необходимо масштабировать опыт работы магазина “Shop 0”, как лидера по привлечению новых клиентов, для использования его успешной практики во всей сети.\n",
    "\n",
    "2) Необходимо обратить внимание на режим работы магазинов последние дни перед новым годом и первые дни нового года, что поможет увеличить доход сети магазинов в аналогичный период следующего года."
   ]
  },
  {
   "cell_type": "markdown",
   "metadata": {},
   "source": [
    "## Презентация "
   ]
  },
  {
   "cell_type": "markdown",
   "metadata": {},
   "source": [
    "В презентации представлены результаты исследования, описание функционала дашборда, а также выводы ко всему исследованию и рекомендации для менеджера проекта программы лояльности и коллег из коммерческого департамента:"
   ]
  },
  {
   "cell_type": "markdown",
   "metadata": {},
   "source": [
    "**Ссылка на презентацию:** https://cloud.mail.ru/public/oPgC/oQA5eq8mc"
   ]
  }
 ],
 "metadata": {
  "ExecuteTimeLog": [
   {
    "duration": 448,
    "start_time": "2022-12-23T11:20:22.155Z"
   },
   {
    "duration": 3,
    "start_time": "2022-12-23T11:20:24.008Z"
   },
   {
    "duration": 120,
    "start_time": "2022-12-27T11:06:13.466Z"
   },
   {
    "duration": 43,
    "start_time": "2022-12-28T02:19:38.414Z"
   },
   {
    "duration": 1266,
    "start_time": "2022-12-28T02:19:43.241Z"
   },
   {
    "duration": 174,
    "start_time": "2022-12-28T02:19:44.509Z"
   },
   {
    "duration": 17,
    "start_time": "2022-12-28T02:19:44.685Z"
   },
   {
    "duration": 37,
    "start_time": "2022-12-28T02:19:44.704Z"
   },
   {
    "duration": 124,
    "start_time": "2022-12-28T02:19:44.747Z"
   },
   {
    "duration": 0,
    "start_time": "2022-12-28T02:19:44.874Z"
   },
   {
    "duration": 0,
    "start_time": "2022-12-28T02:19:44.875Z"
   },
   {
    "duration": 0,
    "start_time": "2022-12-28T02:19:44.876Z"
   },
   {
    "duration": 0,
    "start_time": "2022-12-28T02:19:44.878Z"
   },
   {
    "duration": 0,
    "start_time": "2022-12-28T02:19:44.879Z"
   },
   {
    "duration": 0,
    "start_time": "2022-12-28T02:19:44.880Z"
   },
   {
    "duration": 0,
    "start_time": "2022-12-28T02:19:44.880Z"
   },
   {
    "duration": 0,
    "start_time": "2022-12-28T02:19:44.881Z"
   },
   {
    "duration": 0,
    "start_time": "2022-12-28T02:19:44.882Z"
   },
   {
    "duration": 0,
    "start_time": "2022-12-28T02:19:44.883Z"
   },
   {
    "duration": 0,
    "start_time": "2022-12-28T02:19:44.884Z"
   },
   {
    "duration": 0,
    "start_time": "2022-12-28T02:19:44.885Z"
   },
   {
    "duration": 0,
    "start_time": "2022-12-28T02:19:44.886Z"
   },
   {
    "duration": 0,
    "start_time": "2022-12-28T02:19:44.887Z"
   },
   {
    "duration": 0,
    "start_time": "2022-12-28T02:19:44.888Z"
   },
   {
    "duration": 0,
    "start_time": "2022-12-28T02:19:44.888Z"
   },
   {
    "duration": 0,
    "start_time": "2022-12-28T02:19:44.889Z"
   },
   {
    "duration": 0,
    "start_time": "2022-12-28T02:19:44.889Z"
   },
   {
    "duration": 0,
    "start_time": "2022-12-28T02:19:44.890Z"
   },
   {
    "duration": 0,
    "start_time": "2022-12-28T02:19:44.890Z"
   },
   {
    "duration": 0,
    "start_time": "2022-12-28T02:19:44.891Z"
   },
   {
    "duration": 0,
    "start_time": "2022-12-28T02:19:44.891Z"
   },
   {
    "duration": 0,
    "start_time": "2022-12-28T02:19:44.913Z"
   },
   {
    "duration": 0,
    "start_time": "2022-12-28T02:19:44.914Z"
   },
   {
    "duration": 0,
    "start_time": "2022-12-28T02:19:44.915Z"
   },
   {
    "duration": 0,
    "start_time": "2022-12-28T02:19:44.916Z"
   },
   {
    "duration": 0,
    "start_time": "2022-12-28T02:19:44.917Z"
   },
   {
    "duration": 0,
    "start_time": "2022-12-28T02:19:44.918Z"
   },
   {
    "duration": 0,
    "start_time": "2022-12-28T02:19:44.920Z"
   },
   {
    "duration": 0,
    "start_time": "2022-12-28T02:19:44.922Z"
   },
   {
    "duration": 0,
    "start_time": "2022-12-28T02:19:44.923Z"
   },
   {
    "duration": 0,
    "start_time": "2022-12-28T02:19:44.924Z"
   },
   {
    "duration": 0,
    "start_time": "2022-12-28T02:19:44.927Z"
   },
   {
    "duration": 0,
    "start_time": "2022-12-28T02:19:44.927Z"
   },
   {
    "duration": 0,
    "start_time": "2022-12-28T02:19:44.929Z"
   },
   {
    "duration": 0,
    "start_time": "2022-12-28T02:19:44.930Z"
   },
   {
    "duration": 1,
    "start_time": "2022-12-28T02:19:44.930Z"
   },
   {
    "duration": 0,
    "start_time": "2022-12-28T02:19:44.931Z"
   },
   {
    "duration": 0,
    "start_time": "2022-12-28T02:19:44.932Z"
   },
   {
    "duration": 0,
    "start_time": "2022-12-28T02:19:44.933Z"
   },
   {
    "duration": 0,
    "start_time": "2022-12-28T02:19:44.934Z"
   },
   {
    "duration": 0,
    "start_time": "2022-12-28T02:19:44.935Z"
   },
   {
    "duration": 0,
    "start_time": "2022-12-28T02:19:44.936Z"
   },
   {
    "duration": 0,
    "start_time": "2022-12-28T02:19:44.937Z"
   },
   {
    "duration": 0,
    "start_time": "2022-12-28T02:19:44.938Z"
   },
   {
    "duration": 0,
    "start_time": "2022-12-28T02:19:44.939Z"
   },
   {
    "duration": 0,
    "start_time": "2022-12-28T02:19:44.941Z"
   },
   {
    "duration": 0,
    "start_time": "2022-12-28T02:19:44.942Z"
   },
   {
    "duration": 0,
    "start_time": "2022-12-28T02:19:44.943Z"
   },
   {
    "duration": 0,
    "start_time": "2022-12-28T02:19:44.944Z"
   },
   {
    "duration": 0,
    "start_time": "2022-12-28T02:19:44.945Z"
   },
   {
    "duration": 0,
    "start_time": "2022-12-28T02:19:44.946Z"
   },
   {
    "duration": 0,
    "start_time": "2022-12-28T02:19:44.947Z"
   },
   {
    "duration": 1,
    "start_time": "2022-12-28T02:19:44.948Z"
   },
   {
    "duration": 0,
    "start_time": "2022-12-28T02:19:44.950Z"
   },
   {
    "duration": 0,
    "start_time": "2022-12-28T02:19:45.013Z"
   },
   {
    "duration": 0,
    "start_time": "2022-12-28T02:19:45.015Z"
   },
   {
    "duration": 1,
    "start_time": "2022-12-28T02:19:45.016Z"
   },
   {
    "duration": 0,
    "start_time": "2022-12-28T02:19:45.018Z"
   },
   {
    "duration": 0,
    "start_time": "2022-12-28T02:19:45.019Z"
   },
   {
    "duration": 0,
    "start_time": "2022-12-28T02:19:45.020Z"
   },
   {
    "duration": 107,
    "start_time": "2022-12-28T02:20:18.599Z"
   },
   {
    "duration": 98,
    "start_time": "2022-12-28T02:22:17.248Z"
   },
   {
    "duration": 10,
    "start_time": "2022-12-28T02:23:39.648Z"
   },
   {
    "duration": 11,
    "start_time": "2022-12-28T02:24:09.601Z"
   },
   {
    "duration": 9,
    "start_time": "2022-12-28T02:24:25.144Z"
   },
   {
    "duration": 27,
    "start_time": "2022-12-28T02:24:39.105Z"
   },
   {
    "duration": 29,
    "start_time": "2022-12-28T02:24:51.947Z"
   },
   {
    "duration": 3,
    "start_time": "2022-12-28T02:25:35.370Z"
   },
   {
    "duration": 12,
    "start_time": "2022-12-28T02:25:42.598Z"
   },
   {
    "duration": 39,
    "start_time": "2022-12-28T02:26:30.714Z"
   },
   {
    "duration": 43,
    "start_time": "2022-12-28T02:26:36.290Z"
   },
   {
    "duration": 16,
    "start_time": "2022-12-28T02:26:52.611Z"
   },
   {
    "duration": 29,
    "start_time": "2022-12-28T02:27:37.779Z"
   },
   {
    "duration": 7,
    "start_time": "2022-12-28T02:27:40.587Z"
   },
   {
    "duration": 13,
    "start_time": "2022-12-28T02:28:02.820Z"
   },
   {
    "duration": 81,
    "start_time": "2022-12-28T02:29:04.078Z"
   },
   {
    "duration": 4,
    "start_time": "2022-12-28T02:32:44.760Z"
   },
   {
    "duration": 1145,
    "start_time": "2022-12-28T02:33:15.857Z"
   },
   {
    "duration": 40,
    "start_time": "2022-12-28T02:33:29.866Z"
   },
   {
    "duration": 18,
    "start_time": "2022-12-28T02:33:42.908Z"
   },
   {
    "duration": 1131,
    "start_time": "2022-12-28T02:33:58.107Z"
   },
   {
    "duration": 109,
    "start_time": "2022-12-28T02:33:59.241Z"
   },
   {
    "duration": 14,
    "start_time": "2022-12-28T02:33:59.352Z"
   },
   {
    "duration": 28,
    "start_time": "2022-12-28T02:33:59.367Z"
   },
   {
    "duration": 34,
    "start_time": "2022-12-28T02:33:59.397Z"
   },
   {
    "duration": 18,
    "start_time": "2022-12-28T02:33:59.433Z"
   },
   {
    "duration": 23,
    "start_time": "2022-12-28T02:33:59.453Z"
   },
   {
    "duration": 8,
    "start_time": "2022-12-28T02:33:59.478Z"
   },
   {
    "duration": 15,
    "start_time": "2022-12-28T02:33:59.487Z"
   },
   {
    "duration": 3,
    "start_time": "2022-12-28T02:33:59.506Z"
   },
   {
    "duration": 0,
    "start_time": "2022-12-28T02:33:59.513Z"
   },
   {
    "duration": 0,
    "start_time": "2022-12-28T02:33:59.514Z"
   },
   {
    "duration": 0,
    "start_time": "2022-12-28T02:33:59.515Z"
   },
   {
    "duration": 0,
    "start_time": "2022-12-28T02:33:59.516Z"
   },
   {
    "duration": 0,
    "start_time": "2022-12-28T02:33:59.518Z"
   },
   {
    "duration": 0,
    "start_time": "2022-12-28T02:33:59.519Z"
   },
   {
    "duration": 0,
    "start_time": "2022-12-28T02:33:59.520Z"
   },
   {
    "duration": 0,
    "start_time": "2022-12-28T02:33:59.522Z"
   },
   {
    "duration": 0,
    "start_time": "2022-12-28T02:33:59.523Z"
   },
   {
    "duration": 0,
    "start_time": "2022-12-28T02:33:59.524Z"
   },
   {
    "duration": 0,
    "start_time": "2022-12-28T02:33:59.525Z"
   },
   {
    "duration": 0,
    "start_time": "2022-12-28T02:33:59.526Z"
   },
   {
    "duration": 0,
    "start_time": "2022-12-28T02:33:59.527Z"
   },
   {
    "duration": 0,
    "start_time": "2022-12-28T02:33:59.528Z"
   },
   {
    "duration": 0,
    "start_time": "2022-12-28T02:33:59.529Z"
   },
   {
    "duration": 0,
    "start_time": "2022-12-28T02:33:59.530Z"
   },
   {
    "duration": 0,
    "start_time": "2022-12-28T02:33:59.532Z"
   },
   {
    "duration": 0,
    "start_time": "2022-12-28T02:33:59.533Z"
   },
   {
    "duration": 1,
    "start_time": "2022-12-28T02:33:59.534Z"
   },
   {
    "duration": 0,
    "start_time": "2022-12-28T02:33:59.536Z"
   },
   {
    "duration": 0,
    "start_time": "2022-12-28T02:33:59.537Z"
   },
   {
    "duration": 0,
    "start_time": "2022-12-28T02:33:59.538Z"
   },
   {
    "duration": 0,
    "start_time": "2022-12-28T02:33:59.539Z"
   },
   {
    "duration": 0,
    "start_time": "2022-12-28T02:33:59.540Z"
   },
   {
    "duration": 0,
    "start_time": "2022-12-28T02:33:59.541Z"
   },
   {
    "duration": 0,
    "start_time": "2022-12-28T02:33:59.542Z"
   },
   {
    "duration": 0,
    "start_time": "2022-12-28T02:33:59.543Z"
   },
   {
    "duration": 0,
    "start_time": "2022-12-28T02:33:59.543Z"
   },
   {
    "duration": 0,
    "start_time": "2022-12-28T02:33:59.544Z"
   },
   {
    "duration": 0,
    "start_time": "2022-12-28T02:33:59.545Z"
   },
   {
    "duration": 0,
    "start_time": "2022-12-28T02:33:59.546Z"
   },
   {
    "duration": 0,
    "start_time": "2022-12-28T02:33:59.547Z"
   },
   {
    "duration": 0,
    "start_time": "2022-12-28T02:33:59.548Z"
   },
   {
    "duration": 0,
    "start_time": "2022-12-28T02:33:59.549Z"
   },
   {
    "duration": 0,
    "start_time": "2022-12-28T02:33:59.550Z"
   },
   {
    "duration": 0,
    "start_time": "2022-12-28T02:33:59.551Z"
   },
   {
    "duration": 0,
    "start_time": "2022-12-28T02:33:59.551Z"
   },
   {
    "duration": 0,
    "start_time": "2022-12-28T02:33:59.552Z"
   },
   {
    "duration": 1,
    "start_time": "2022-12-28T02:33:59.613Z"
   },
   {
    "duration": 0,
    "start_time": "2022-12-28T02:33:59.614Z"
   },
   {
    "duration": 0,
    "start_time": "2022-12-28T02:33:59.615Z"
   },
   {
    "duration": 0,
    "start_time": "2022-12-28T02:33:59.616Z"
   },
   {
    "duration": 0,
    "start_time": "2022-12-28T02:33:59.617Z"
   },
   {
    "duration": 0,
    "start_time": "2022-12-28T02:33:59.619Z"
   },
   {
    "duration": 0,
    "start_time": "2022-12-28T02:33:59.619Z"
   },
   {
    "duration": 0,
    "start_time": "2022-12-28T02:33:59.620Z"
   },
   {
    "duration": 0,
    "start_time": "2022-12-28T02:33:59.621Z"
   },
   {
    "duration": 0,
    "start_time": "2022-12-28T02:33:59.622Z"
   },
   {
    "duration": 0,
    "start_time": "2022-12-28T02:33:59.623Z"
   },
   {
    "duration": 0,
    "start_time": "2022-12-28T02:33:59.624Z"
   },
   {
    "duration": 0,
    "start_time": "2022-12-28T02:33:59.626Z"
   },
   {
    "duration": 0,
    "start_time": "2022-12-28T02:33:59.627Z"
   },
   {
    "duration": 0,
    "start_time": "2022-12-28T02:33:59.627Z"
   },
   {
    "duration": 0,
    "start_time": "2022-12-28T02:33:59.628Z"
   },
   {
    "duration": 0,
    "start_time": "2022-12-28T02:33:59.630Z"
   },
   {
    "duration": 0,
    "start_time": "2022-12-28T02:33:59.631Z"
   },
   {
    "duration": 0,
    "start_time": "2022-12-28T02:33:59.632Z"
   },
   {
    "duration": 0,
    "start_time": "2022-12-28T02:33:59.633Z"
   },
   {
    "duration": 3,
    "start_time": "2022-12-28T02:34:24.385Z"
   },
   {
    "duration": 1094,
    "start_time": "2022-12-28T02:34:40.349Z"
   },
   {
    "duration": 109,
    "start_time": "2022-12-28T02:34:42.825Z"
   },
   {
    "duration": 14,
    "start_time": "2022-12-28T02:34:46.219Z"
   },
   {
    "duration": 11,
    "start_time": "2022-12-28T02:34:50.282Z"
   },
   {
    "duration": 37,
    "start_time": "2022-12-28T02:34:52.274Z"
   },
   {
    "duration": 28,
    "start_time": "2022-12-28T02:34:56.021Z"
   },
   {
    "duration": 7,
    "start_time": "2022-12-28T02:34:59.217Z"
   },
   {
    "duration": 3,
    "start_time": "2022-12-28T02:35:01.699Z"
   },
   {
    "duration": 10,
    "start_time": "2022-12-28T02:35:06.217Z"
   },
   {
    "duration": 3,
    "start_time": "2022-12-28T02:35:36.756Z"
   },
   {
    "duration": 9,
    "start_time": "2022-12-28T02:35:43.019Z"
   },
   {
    "duration": 20,
    "start_time": "2022-12-28T02:36:04.706Z"
   },
   {
    "duration": 19,
    "start_time": "2022-12-28T02:36:13.659Z"
   },
   {
    "duration": 20,
    "start_time": "2022-12-28T02:36:29.404Z"
   },
   {
    "duration": 23,
    "start_time": "2022-12-28T02:36:51.388Z"
   },
   {
    "duration": 8,
    "start_time": "2022-12-28T02:37:25.419Z"
   },
   {
    "duration": 19,
    "start_time": "2022-12-28T02:37:53.500Z"
   },
   {
    "duration": 6,
    "start_time": "2022-12-28T02:38:03.204Z"
   },
   {
    "duration": 2,
    "start_time": "2022-12-28T02:40:05.156Z"
   },
   {
    "duration": 6,
    "start_time": "2022-12-28T02:57:41.581Z"
   },
   {
    "duration": 7,
    "start_time": "2022-12-28T02:57:49.319Z"
   },
   {
    "duration": 98,
    "start_time": "2022-12-28T02:58:50.472Z"
   },
   {
    "duration": 71,
    "start_time": "2022-12-28T02:58:56.033Z"
   },
   {
    "duration": 14,
    "start_time": "2022-12-28T02:59:04.552Z"
   },
   {
    "duration": 5,
    "start_time": "2022-12-28T03:00:24.969Z"
   },
   {
    "duration": 14,
    "start_time": "2022-12-28T03:00:30.225Z"
   },
   {
    "duration": 10,
    "start_time": "2022-12-28T03:00:42.258Z"
   },
   {
    "duration": 98,
    "start_time": "2022-12-28T03:00:54.488Z"
   },
   {
    "duration": 72,
    "start_time": "2022-12-28T03:01:04.290Z"
   },
   {
    "duration": 13,
    "start_time": "2022-12-28T03:01:10.285Z"
   },
   {
    "duration": 11,
    "start_time": "2022-12-28T03:01:15.906Z"
   },
   {
    "duration": 12,
    "start_time": "2022-12-28T03:01:39.404Z"
   },
   {
    "duration": 8,
    "start_time": "2022-12-28T03:06:26.006Z"
   },
   {
    "duration": 9,
    "start_time": "2022-12-28T03:06:38.830Z"
   },
   {
    "duration": 13,
    "start_time": "2022-12-28T03:06:44.293Z"
   },
   {
    "duration": 13,
    "start_time": "2022-12-28T03:08:08.662Z"
   },
   {
    "duration": 16,
    "start_time": "2022-12-28T03:08:55.519Z"
   },
   {
    "duration": 13,
    "start_time": "2022-12-28T03:09:25.388Z"
   },
   {
    "duration": 13,
    "start_time": "2022-12-28T03:09:59.656Z"
   },
   {
    "duration": 4,
    "start_time": "2022-12-28T03:10:14.688Z"
   },
   {
    "duration": 15,
    "start_time": "2022-12-28T03:30:26.737Z"
   },
   {
    "duration": 12,
    "start_time": "2022-12-28T03:32:25.020Z"
   },
   {
    "duration": 16,
    "start_time": "2022-12-28T03:33:09.148Z"
   },
   {
    "duration": 7,
    "start_time": "2022-12-28T03:44:38.089Z"
   },
   {
    "duration": 12,
    "start_time": "2022-12-28T03:44:48.469Z"
   },
   {
    "duration": 18,
    "start_time": "2022-12-28T03:45:00.309Z"
   },
   {
    "duration": 20,
    "start_time": "2022-12-28T03:45:14.067Z"
   },
   {
    "duration": 19,
    "start_time": "2022-12-28T03:45:30.004Z"
   },
   {
    "duration": 6,
    "start_time": "2022-12-28T03:57:04.999Z"
   },
   {
    "duration": 6,
    "start_time": "2022-12-28T03:57:09.593Z"
   },
   {
    "duration": 6,
    "start_time": "2022-12-28T03:57:37.025Z"
   },
   {
    "duration": 81,
    "start_time": "2022-12-28T03:58:30.945Z"
   },
   {
    "duration": 80,
    "start_time": "2022-12-28T03:58:39.056Z"
   },
   {
    "duration": 4,
    "start_time": "2022-12-28T03:58:46.263Z"
   },
   {
    "duration": 5,
    "start_time": "2022-12-28T03:58:48.800Z"
   },
   {
    "duration": 9,
    "start_time": "2022-12-28T04:01:47.370Z"
   },
   {
    "duration": 7,
    "start_time": "2022-12-28T04:01:52.301Z"
   },
   {
    "duration": 11,
    "start_time": "2022-12-28T04:02:27.410Z"
   },
   {
    "duration": 29,
    "start_time": "2022-12-28T04:02:33.234Z"
   },
   {
    "duration": 29,
    "start_time": "2022-12-28T04:05:18.829Z"
   },
   {
    "duration": 1341,
    "start_time": "2022-12-28T04:17:43.903Z"
   },
   {
    "duration": 1229,
    "start_time": "2022-12-28T04:17:49.598Z"
   },
   {
    "duration": 25,
    "start_time": "2022-12-28T04:18:19.026Z"
   },
   {
    "duration": 14,
    "start_time": "2022-12-28T04:18:48.202Z"
   },
   {
    "duration": 8,
    "start_time": "2022-12-28T04:18:50.048Z"
   },
   {
    "duration": 23,
    "start_time": "2022-12-28T04:18:53.528Z"
   },
   {
    "duration": 11,
    "start_time": "2022-12-28T04:18:59.646Z"
   },
   {
    "duration": 88,
    "start_time": "2022-12-28T04:21:06.768Z"
   },
   {
    "duration": 23,
    "start_time": "2022-12-28T04:21:24.001Z"
   },
   {
    "duration": 44,
    "start_time": "2022-12-28T04:21:26.451Z"
   },
   {
    "duration": 94,
    "start_time": "2022-12-28T04:21:29.145Z"
   },
   {
    "duration": 6,
    "start_time": "2022-12-28T04:21:42.536Z"
   },
   {
    "duration": 14,
    "start_time": "2022-12-28T04:21:45.865Z"
   },
   {
    "duration": 15,
    "start_time": "2022-12-28T04:21:58.170Z"
   },
   {
    "duration": 16,
    "start_time": "2022-12-28T04:22:19.938Z"
   },
   {
    "duration": 12,
    "start_time": "2022-12-28T04:22:41.273Z"
   },
   {
    "duration": 13,
    "start_time": "2022-12-28T04:22:44.436Z"
   },
   {
    "duration": 18,
    "start_time": "2022-12-28T04:23:05.594Z"
   },
   {
    "duration": 5,
    "start_time": "2022-12-28T04:23:13.850Z"
   },
   {
    "duration": 342,
    "start_time": "2022-12-28T05:24:48.965Z"
   },
   {
    "duration": 284,
    "start_time": "2022-12-28T05:25:03.566Z"
   },
   {
    "duration": 18,
    "start_time": "2022-12-28T05:25:39.455Z"
   },
   {
    "duration": 19,
    "start_time": "2022-12-28T05:25:58.686Z"
   },
   {
    "duration": 279,
    "start_time": "2022-12-28T05:26:19.606Z"
   },
   {
    "duration": 152,
    "start_time": "2022-12-28T05:26:32.150Z"
   },
   {
    "duration": 226,
    "start_time": "2022-12-28T05:26:41.551Z"
   },
   {
    "duration": 138,
    "start_time": "2022-12-28T05:27:57.650Z"
   },
   {
    "duration": 1161,
    "start_time": "2022-12-28T05:29:39.297Z"
   },
   {
    "duration": 181,
    "start_time": "2022-12-28T05:34:04.624Z"
   },
   {
    "duration": 5,
    "start_time": "2022-12-28T05:37:37.958Z"
   },
   {
    "duration": 34,
    "start_time": "2022-12-28T05:37:40.167Z"
   },
   {
    "duration": 38,
    "start_time": "2022-12-28T05:37:42.199Z"
   },
   {
    "duration": 168,
    "start_time": "2022-12-28T05:37:58.735Z"
   },
   {
    "duration": 378,
    "start_time": "2022-12-28T05:38:09.247Z"
   },
   {
    "duration": 176,
    "start_time": "2022-12-28T05:38:57.023Z"
   },
   {
    "duration": 3,
    "start_time": "2022-12-28T05:40:21.705Z"
   },
   {
    "duration": 146,
    "start_time": "2022-12-28T05:40:23.928Z"
   },
   {
    "duration": 148,
    "start_time": "2022-12-28T05:44:00.980Z"
   },
   {
    "duration": 163,
    "start_time": "2022-12-28T05:44:22.899Z"
   },
   {
    "duration": 166,
    "start_time": "2022-12-28T05:44:42.786Z"
   },
   {
    "duration": 25,
    "start_time": "2022-12-28T05:45:27.739Z"
   },
   {
    "duration": 29,
    "start_time": "2022-12-28T05:45:29.622Z"
   },
   {
    "duration": 242,
    "start_time": "2022-12-28T05:45:32.244Z"
   },
   {
    "duration": 8,
    "start_time": "2022-12-28T05:49:59.764Z"
   },
   {
    "duration": 10,
    "start_time": "2022-12-28T05:50:03.627Z"
   },
   {
    "duration": 0,
    "start_time": "2022-12-28T05:51:45.234Z"
   },
   {
    "duration": 1205,
    "start_time": "2022-12-28T05:53:04.483Z"
   },
   {
    "duration": 37,
    "start_time": "2022-12-28T05:53:20.746Z"
   },
   {
    "duration": 1207,
    "start_time": "2022-12-28T05:53:39.112Z"
   },
   {
    "duration": 134,
    "start_time": "2022-12-28T05:53:40.325Z"
   },
   {
    "duration": 25,
    "start_time": "2022-12-28T05:53:40.461Z"
   },
   {
    "duration": 10,
    "start_time": "2022-12-28T05:53:40.489Z"
   },
   {
    "duration": 65,
    "start_time": "2022-12-28T05:53:40.501Z"
   },
   {
    "duration": 19,
    "start_time": "2022-12-28T05:53:40.567Z"
   },
   {
    "duration": 44,
    "start_time": "2022-12-28T05:53:40.588Z"
   },
   {
    "duration": 7,
    "start_time": "2022-12-28T05:53:40.634Z"
   },
   {
    "duration": 14,
    "start_time": "2022-12-28T05:53:40.643Z"
   },
   {
    "duration": 8,
    "start_time": "2022-12-28T05:53:40.661Z"
   },
   {
    "duration": 13,
    "start_time": "2022-12-28T05:53:40.671Z"
   },
   {
    "duration": 42,
    "start_time": "2022-12-28T05:53:40.686Z"
   },
   {
    "duration": 33,
    "start_time": "2022-12-28T05:53:40.730Z"
   },
   {
    "duration": 40,
    "start_time": "2022-12-28T05:53:40.765Z"
   },
   {
    "duration": 11,
    "start_time": "2022-12-28T05:53:40.818Z"
   },
   {
    "duration": 8,
    "start_time": "2022-12-28T05:53:40.830Z"
   },
   {
    "duration": 12,
    "start_time": "2022-12-28T05:53:40.840Z"
   },
   {
    "duration": 3,
    "start_time": "2022-12-28T05:53:40.854Z"
   },
   {
    "duration": 181,
    "start_time": "2022-12-28T05:53:40.859Z"
   },
   {
    "duration": 0,
    "start_time": "2022-12-28T05:53:41.043Z"
   },
   {
    "duration": 0,
    "start_time": "2022-12-28T05:53:41.044Z"
   },
   {
    "duration": 0,
    "start_time": "2022-12-28T05:53:41.045Z"
   },
   {
    "duration": 0,
    "start_time": "2022-12-28T05:53:41.046Z"
   },
   {
    "duration": 0,
    "start_time": "2022-12-28T05:53:41.047Z"
   },
   {
    "duration": 0,
    "start_time": "2022-12-28T05:53:41.048Z"
   },
   {
    "duration": 0,
    "start_time": "2022-12-28T05:53:41.048Z"
   },
   {
    "duration": 0,
    "start_time": "2022-12-28T05:53:41.049Z"
   },
   {
    "duration": 0,
    "start_time": "2022-12-28T05:53:41.050Z"
   },
   {
    "duration": 0,
    "start_time": "2022-12-28T05:53:41.050Z"
   },
   {
    "duration": 0,
    "start_time": "2022-12-28T05:53:41.052Z"
   },
   {
    "duration": 0,
    "start_time": "2022-12-28T05:53:41.053Z"
   },
   {
    "duration": 0,
    "start_time": "2022-12-28T05:53:41.054Z"
   },
   {
    "duration": 0,
    "start_time": "2022-12-28T05:53:41.054Z"
   },
   {
    "duration": 0,
    "start_time": "2022-12-28T05:53:41.056Z"
   },
   {
    "duration": 0,
    "start_time": "2022-12-28T05:53:41.057Z"
   },
   {
    "duration": 0,
    "start_time": "2022-12-28T05:53:41.057Z"
   },
   {
    "duration": 0,
    "start_time": "2022-12-28T05:53:41.059Z"
   },
   {
    "duration": 0,
    "start_time": "2022-12-28T05:53:41.060Z"
   },
   {
    "duration": 0,
    "start_time": "2022-12-28T05:53:41.060Z"
   },
   {
    "duration": 0,
    "start_time": "2022-12-28T05:53:41.061Z"
   },
   {
    "duration": 0,
    "start_time": "2022-12-28T05:53:41.062Z"
   },
   {
    "duration": 0,
    "start_time": "2022-12-28T05:53:41.063Z"
   },
   {
    "duration": 0,
    "start_time": "2022-12-28T05:53:41.064Z"
   },
   {
    "duration": 0,
    "start_time": "2022-12-28T05:53:41.065Z"
   },
   {
    "duration": 0,
    "start_time": "2022-12-28T05:53:41.067Z"
   },
   {
    "duration": 0,
    "start_time": "2022-12-28T05:53:41.067Z"
   },
   {
    "duration": 0,
    "start_time": "2022-12-28T05:53:41.068Z"
   },
   {
    "duration": 0,
    "start_time": "2022-12-28T05:53:41.114Z"
   },
   {
    "duration": 0,
    "start_time": "2022-12-28T05:53:41.116Z"
   },
   {
    "duration": 0,
    "start_time": "2022-12-28T05:53:41.117Z"
   },
   {
    "duration": 0,
    "start_time": "2022-12-28T05:53:41.118Z"
   },
   {
    "duration": 0,
    "start_time": "2022-12-28T05:53:41.119Z"
   },
   {
    "duration": 0,
    "start_time": "2022-12-28T05:53:41.120Z"
   },
   {
    "duration": 0,
    "start_time": "2022-12-28T05:53:41.123Z"
   },
   {
    "duration": 0,
    "start_time": "2022-12-28T05:53:41.124Z"
   },
   {
    "duration": 0,
    "start_time": "2022-12-28T05:53:41.125Z"
   },
   {
    "duration": 0,
    "start_time": "2022-12-28T05:53:41.126Z"
   },
   {
    "duration": 0,
    "start_time": "2022-12-28T05:53:41.127Z"
   },
   {
    "duration": 0,
    "start_time": "2022-12-28T05:53:41.131Z"
   },
   {
    "duration": 0,
    "start_time": "2022-12-28T05:53:41.132Z"
   },
   {
    "duration": 0,
    "start_time": "2022-12-28T05:53:41.133Z"
   },
   {
    "duration": 0,
    "start_time": "2022-12-28T05:53:41.134Z"
   },
   {
    "duration": 0,
    "start_time": "2022-12-28T05:53:41.134Z"
   },
   {
    "duration": 0,
    "start_time": "2022-12-28T05:53:41.136Z"
   },
   {
    "duration": 0,
    "start_time": "2022-12-28T05:53:41.137Z"
   },
   {
    "duration": 0,
    "start_time": "2022-12-28T05:53:41.138Z"
   },
   {
    "duration": 0,
    "start_time": "2022-12-28T05:53:41.140Z"
   },
   {
    "duration": 0,
    "start_time": "2022-12-28T05:53:41.141Z"
   },
   {
    "duration": 0,
    "start_time": "2022-12-28T05:53:41.142Z"
   },
   {
    "duration": 0,
    "start_time": "2022-12-28T05:53:41.144Z"
   },
   {
    "duration": 0,
    "start_time": "2022-12-28T05:53:41.145Z"
   },
   {
    "duration": 0,
    "start_time": "2022-12-28T05:53:41.146Z"
   },
   {
    "duration": 0,
    "start_time": "2022-12-28T05:53:41.147Z"
   },
   {
    "duration": 0,
    "start_time": "2022-12-28T05:53:41.148Z"
   },
   {
    "duration": 0,
    "start_time": "2022-12-28T05:53:41.149Z"
   },
   {
    "duration": 0,
    "start_time": "2022-12-28T05:53:41.149Z"
   },
   {
    "duration": 0,
    "start_time": "2022-12-28T05:53:41.150Z"
   },
   {
    "duration": 0,
    "start_time": "2022-12-28T05:53:41.152Z"
   },
   {
    "duration": 3,
    "start_time": "2022-12-28T05:53:58.754Z"
   },
   {
    "duration": 108,
    "start_time": "2022-12-28T05:53:59.834Z"
   },
   {
    "duration": 1809,
    "start_time": "2022-12-28T05:54:49.957Z"
   },
   {
    "duration": 1080,
    "start_time": "2022-12-28T05:55:36.867Z"
   },
   {
    "duration": 120,
    "start_time": "2022-12-28T05:55:39.483Z"
   },
   {
    "duration": 15,
    "start_time": "2022-12-28T05:55:42.555Z"
   },
   {
    "duration": 12,
    "start_time": "2022-12-28T05:55:44.859Z"
   },
   {
    "duration": 39,
    "start_time": "2022-12-28T05:55:46.060Z"
   },
   {
    "duration": 32,
    "start_time": "2022-12-28T05:55:48.499Z"
   },
   {
    "duration": 10,
    "start_time": "2022-12-28T05:55:50.083Z"
   },
   {
    "duration": 3,
    "start_time": "2022-12-28T05:55:52.253Z"
   },
   {
    "duration": 11,
    "start_time": "2022-12-28T05:55:55.795Z"
   },
   {
    "duration": 9,
    "start_time": "2022-12-28T05:56:04.468Z"
   },
   {
    "duration": 184,
    "start_time": "2022-12-28T05:56:51.687Z"
   },
   {
    "duration": 11,
    "start_time": "2022-12-28T05:57:03.394Z"
   },
   {
    "duration": 23,
    "start_time": "2022-12-28T05:57:05.515Z"
   },
   {
    "duration": 22,
    "start_time": "2022-12-28T05:57:13.826Z"
   },
   {
    "duration": 30,
    "start_time": "2022-12-28T05:57:15.900Z"
   },
   {
    "duration": 8,
    "start_time": "2022-12-28T05:57:20.589Z"
   },
   {
    "duration": 6,
    "start_time": "2022-12-28T05:57:23.130Z"
   },
   {
    "duration": 13,
    "start_time": "2022-12-28T05:57:25.348Z"
   },
   {
    "duration": 16,
    "start_time": "2022-12-28T05:57:29.278Z"
   },
   {
    "duration": 7,
    "start_time": "2022-12-28T05:57:33.580Z"
   },
   {
    "duration": 31,
    "start_time": "2022-12-28T05:57:35.626Z"
   },
   {
    "duration": 15,
    "start_time": "2022-12-28T05:57:38.860Z"
   },
   {
    "duration": 9,
    "start_time": "2022-12-28T05:57:44.614Z"
   },
   {
    "duration": 33,
    "start_time": "2022-12-28T05:57:49.998Z"
   },
   {
    "duration": 10,
    "start_time": "2022-12-28T05:57:52.201Z"
   },
   {
    "duration": 29,
    "start_time": "2022-12-28T05:57:55.302Z"
   },
   {
    "duration": 10,
    "start_time": "2022-12-28T05:57:57.557Z"
   },
   {
    "duration": 52,
    "start_time": "2022-12-28T05:58:01.877Z"
   },
   {
    "duration": 89,
    "start_time": "2022-12-28T05:58:03.798Z"
   },
   {
    "duration": 7,
    "start_time": "2022-12-28T05:58:06.901Z"
   },
   {
    "duration": 21,
    "start_time": "2022-12-28T05:58:11.013Z"
   },
   {
    "duration": 16,
    "start_time": "2022-12-28T05:58:22.826Z"
   },
   {
    "duration": 14,
    "start_time": "2022-12-28T05:58:28.502Z"
   },
   {
    "duration": 15,
    "start_time": "2022-12-28T05:58:31.470Z"
   },
   {
    "duration": 19,
    "start_time": "2022-12-28T05:58:37.141Z"
   },
   {
    "duration": 5,
    "start_time": "2022-12-28T05:58:41.028Z"
   },
   {
    "duration": 7,
    "start_time": "2022-12-28T05:58:47.158Z"
   },
   {
    "duration": 165,
    "start_time": "2022-12-28T05:58:49.238Z"
   },
   {
    "duration": 1362,
    "start_time": "2022-12-28T06:00:11.832Z"
   },
   {
    "duration": 6,
    "start_time": "2022-12-28T06:00:28.817Z"
   },
   {
    "duration": 38,
    "start_time": "2022-12-28T06:00:31.407Z"
   },
   {
    "duration": 24,
    "start_time": "2022-12-28T06:00:34.743Z"
   },
   {
    "duration": 172,
    "start_time": "2022-12-28T06:00:38.495Z"
   },
   {
    "duration": 9,
    "start_time": "2022-12-28T06:09:51.072Z"
   },
   {
    "duration": 21,
    "start_time": "2022-12-28T06:09:59.241Z"
   },
   {
    "duration": 1237,
    "start_time": "2022-12-28T06:10:19.697Z"
   },
   {
    "duration": 120,
    "start_time": "2022-12-28T06:10:21.520Z"
   },
   {
    "duration": 19,
    "start_time": "2022-12-28T06:10:23.968Z"
   },
   {
    "duration": 9,
    "start_time": "2022-12-28T06:10:25.912Z"
   },
   {
    "duration": 27,
    "start_time": "2022-12-28T06:10:27.199Z"
   },
   {
    "duration": 30,
    "start_time": "2022-12-28T06:10:29.384Z"
   },
   {
    "duration": 8,
    "start_time": "2022-12-28T06:10:31.625Z"
   },
   {
    "duration": 4,
    "start_time": "2022-12-28T06:10:33.808Z"
   },
   {
    "duration": 10,
    "start_time": "2022-12-28T06:10:35.440Z"
   },
   {
    "duration": 10,
    "start_time": "2022-12-28T06:10:37.597Z"
   },
   {
    "duration": 18,
    "start_time": "2022-12-28T06:10:39.376Z"
   },
   {
    "duration": 20,
    "start_time": "2022-12-28T06:10:41.672Z"
   },
   {
    "duration": 40,
    "start_time": "2022-12-28T06:10:44.456Z"
   },
   {
    "duration": 7,
    "start_time": "2022-12-28T06:10:48.300Z"
   },
   {
    "duration": 7,
    "start_time": "2022-12-28T06:10:51.498Z"
   },
   {
    "duration": 12,
    "start_time": "2022-12-28T06:10:53.281Z"
   },
   {
    "duration": 16,
    "start_time": "2022-12-28T06:10:58.480Z"
   },
   {
    "duration": 6,
    "start_time": "2022-12-28T06:11:01.808Z"
   },
   {
    "duration": 29,
    "start_time": "2022-12-28T06:12:23.787Z"
   },
   {
    "duration": 14,
    "start_time": "2022-12-28T06:12:26.100Z"
   },
   {
    "duration": 9,
    "start_time": "2022-12-28T06:12:28.299Z"
   },
   {
    "duration": 19,
    "start_time": "2022-12-28T06:12:29.882Z"
   },
   {
    "duration": 10,
    "start_time": "2022-12-28T06:12:31.504Z"
   },
   {
    "duration": 22,
    "start_time": "2022-12-28T06:12:33.314Z"
   },
   {
    "duration": 10,
    "start_time": "2022-12-28T06:12:35.300Z"
   },
   {
    "duration": 44,
    "start_time": "2022-12-28T06:12:38.418Z"
   },
   {
    "duration": 85,
    "start_time": "2022-12-28T06:12:40.706Z"
   },
   {
    "duration": 7,
    "start_time": "2022-12-28T06:12:43.681Z"
   },
   {
    "duration": 16,
    "start_time": "2022-12-28T06:12:46.554Z"
   },
   {
    "duration": 12,
    "start_time": "2022-12-28T06:12:55.163Z"
   },
   {
    "duration": 13,
    "start_time": "2022-12-28T06:12:57.506Z"
   },
   {
    "duration": 18,
    "start_time": "2022-12-28T06:13:03.003Z"
   },
   {
    "duration": 16,
    "start_time": "2022-12-28T06:13:18.739Z"
   },
   {
    "duration": 177,
    "start_time": "2022-12-28T06:13:35.627Z"
   },
   {
    "duration": 5,
    "start_time": "2022-12-28T06:13:42.979Z"
   },
   {
    "duration": 7,
    "start_time": "2022-12-28T06:14:22.220Z"
   },
   {
    "duration": 181,
    "start_time": "2022-12-28T06:14:33.910Z"
   },
   {
    "duration": 5,
    "start_time": "2022-12-28T06:14:39.076Z"
   },
   {
    "duration": 28,
    "start_time": "2022-12-28T06:14:41.948Z"
   },
   {
    "duration": 26,
    "start_time": "2022-12-28T06:14:49.364Z"
   },
   {
    "duration": 171,
    "start_time": "2022-12-28T06:14:52.428Z"
   },
   {
    "duration": 14,
    "start_time": "2022-12-28T06:16:04.284Z"
   },
   {
    "duration": 20,
    "start_time": "2022-12-28T06:16:06.077Z"
   },
   {
    "duration": 12,
    "start_time": "2022-12-28T06:16:08.669Z"
   },
   {
    "duration": 16,
    "start_time": "2022-12-28T06:16:10.349Z"
   },
   {
    "duration": 109,
    "start_time": "2022-12-28T06:17:39.511Z"
   },
   {
    "duration": 71,
    "start_time": "2022-12-28T06:18:19.434Z"
   },
   {
    "duration": 81,
    "start_time": "2022-12-28T06:18:55.896Z"
   },
   {
    "duration": 75,
    "start_time": "2022-12-28T06:20:54.882Z"
   },
   {
    "duration": 15,
    "start_time": "2022-12-28T06:23:01.619Z"
   },
   {
    "duration": 15,
    "start_time": "2022-12-28T06:23:12.060Z"
   },
   {
    "duration": 14,
    "start_time": "2022-12-28T06:23:20.407Z"
   },
   {
    "duration": 424,
    "start_time": "2022-12-28T06:27:22.168Z"
   },
   {
    "duration": 243,
    "start_time": "2022-12-28T06:28:32.626Z"
   },
   {
    "duration": 310,
    "start_time": "2022-12-28T06:29:17.633Z"
   },
   {
    "duration": 15,
    "start_time": "2022-12-28T06:35:47.646Z"
   },
   {
    "duration": 5,
    "start_time": "2022-12-28T06:35:50.486Z"
   },
   {
    "duration": 5,
    "start_time": "2022-12-28T06:35:52.006Z"
   },
   {
    "duration": 17,
    "start_time": "2022-12-28T06:35:53.630Z"
   },
   {
    "duration": 16,
    "start_time": "2022-12-28T06:35:55.781Z"
   },
   {
    "duration": 28,
    "start_time": "2022-12-28T06:35:58.950Z"
   },
   {
    "duration": 209,
    "start_time": "2022-12-28T06:36:01.382Z"
   },
   {
    "duration": 230,
    "start_time": "2022-12-28T06:36:30.529Z"
   },
   {
    "duration": 12,
    "start_time": "2022-12-28T06:38:24.760Z"
   },
   {
    "duration": 10,
    "start_time": "2022-12-28T06:38:26.671Z"
   },
   {
    "duration": 86,
    "start_time": "2022-12-28T06:39:24.368Z"
   },
   {
    "duration": 6,
    "start_time": "2022-12-28T06:43:14.339Z"
   },
   {
    "duration": 6,
    "start_time": "2022-12-28T06:43:43.779Z"
   },
   {
    "duration": 5,
    "start_time": "2022-12-28T06:44:13.684Z"
   },
   {
    "duration": 6,
    "start_time": "2022-12-28T06:44:30.739Z"
   },
   {
    "duration": 5,
    "start_time": "2022-12-28T06:45:16.205Z"
   },
   {
    "duration": 84,
    "start_time": "2022-12-28T06:46:56.198Z"
   },
   {
    "duration": 6,
    "start_time": "2022-12-28T06:47:05.910Z"
   },
   {
    "duration": 165,
    "start_time": "2022-12-28T06:47:23.558Z"
   },
   {
    "duration": 16,
    "start_time": "2022-12-28T06:49:14.495Z"
   },
   {
    "duration": 15,
    "start_time": "2022-12-28T06:49:16.494Z"
   },
   {
    "duration": 12,
    "start_time": "2022-12-28T06:49:18.494Z"
   },
   {
    "duration": 189,
    "start_time": "2022-12-28T06:49:20.502Z"
   },
   {
    "duration": 22,
    "start_time": "2022-12-28T06:50:01.463Z"
   },
   {
    "duration": 19,
    "start_time": "2022-12-28T06:50:04.311Z"
   },
   {
    "duration": 21,
    "start_time": "2022-12-28T06:50:11.001Z"
   },
   {
    "duration": 186,
    "start_time": "2022-12-28T06:50:13.983Z"
   },
   {
    "duration": 7,
    "start_time": "2022-12-28T06:50:41.743Z"
   },
   {
    "duration": 13,
    "start_time": "2022-12-28T06:50:55.512Z"
   },
   {
    "duration": 7,
    "start_time": "2022-12-28T06:51:02.264Z"
   },
   {
    "duration": 46,
    "start_time": "2022-12-28T06:52:13.194Z"
   },
   {
    "duration": 16,
    "start_time": "2022-12-28T06:52:49.457Z"
   },
   {
    "duration": 8,
    "start_time": "2022-12-28T06:52:55.626Z"
   },
   {
    "duration": 9,
    "start_time": "2022-12-28T06:53:00.094Z"
   },
   {
    "duration": 7,
    "start_time": "2022-12-28T06:53:09.202Z"
   },
   {
    "duration": 6,
    "start_time": "2022-12-28T06:53:40.997Z"
   },
   {
    "duration": 8,
    "start_time": "2022-12-28T06:53:45.126Z"
   },
   {
    "duration": 20,
    "start_time": "2022-12-28T06:54:43.251Z"
   },
   {
    "duration": 12,
    "start_time": "2022-12-28T06:55:51.180Z"
   },
   {
    "duration": 104,
    "start_time": "2022-12-28T06:55:56.068Z"
   },
   {
    "duration": 8,
    "start_time": "2022-12-28T06:56:04.773Z"
   },
   {
    "duration": 8,
    "start_time": "2022-12-28T06:56:20.360Z"
   },
   {
    "duration": 15,
    "start_time": "2022-12-28T06:56:44.813Z"
   },
   {
    "duration": 15,
    "start_time": "2022-12-28T06:57:25.710Z"
   },
   {
    "duration": 11,
    "start_time": "2022-12-28T06:57:44.477Z"
   },
   {
    "duration": 8,
    "start_time": "2022-12-28T06:57:46.429Z"
   },
   {
    "duration": 4,
    "start_time": "2022-12-28T06:58:01.830Z"
   },
   {
    "duration": 7,
    "start_time": "2022-12-28T06:58:13.662Z"
   },
   {
    "duration": 16,
    "start_time": "2022-12-28T06:58:43.750Z"
   },
   {
    "duration": 6,
    "start_time": "2022-12-28T06:59:21.926Z"
   },
   {
    "duration": 200,
    "start_time": "2022-12-28T06:59:30.647Z"
   },
   {
    "duration": 8,
    "start_time": "2022-12-28T07:01:48.032Z"
   },
   {
    "duration": 9,
    "start_time": "2022-12-28T07:01:50.327Z"
   },
   {
    "duration": 201,
    "start_time": "2022-12-28T07:02:14.505Z"
   },
   {
    "duration": 26,
    "start_time": "2022-12-28T07:03:27.378Z"
   },
   {
    "duration": 4,
    "start_time": "2022-12-28T07:03:36.419Z"
   },
   {
    "duration": 15,
    "start_time": "2022-12-28T07:03:40.791Z"
   },
   {
    "duration": 20,
    "start_time": "2022-12-28T07:03:44.530Z"
   },
   {
    "duration": 5,
    "start_time": "2022-12-28T07:04:01.610Z"
   },
   {
    "duration": 20,
    "start_time": "2022-12-28T07:04:05.106Z"
   },
   {
    "duration": 18,
    "start_time": "2022-12-28T07:04:09.133Z"
   },
   {
    "duration": 209,
    "start_time": "2022-12-28T07:04:35.523Z"
   },
   {
    "duration": 13,
    "start_time": "2022-12-28T07:10:05.093Z"
   },
   {
    "duration": 57,
    "start_time": "2022-12-29T02:20:46.753Z"
   },
   {
    "duration": 1323,
    "start_time": "2022-12-29T02:21:04.176Z"
   },
   {
    "duration": 433,
    "start_time": "2022-12-29T02:21:05.501Z"
   },
   {
    "duration": 19,
    "start_time": "2022-12-29T02:21:05.936Z"
   },
   {
    "duration": 13,
    "start_time": "2022-12-29T02:21:05.958Z"
   },
   {
    "duration": 41,
    "start_time": "2022-12-29T02:21:05.974Z"
   },
   {
    "duration": 73,
    "start_time": "2022-12-29T02:21:06.017Z"
   },
   {
    "duration": 7,
    "start_time": "2022-12-29T02:21:06.092Z"
   },
   {
    "duration": 5,
    "start_time": "2022-12-29T02:21:06.101Z"
   },
   {
    "duration": 15,
    "start_time": "2022-12-29T02:21:06.107Z"
   },
   {
    "duration": 10,
    "start_time": "2022-12-29T02:21:06.124Z"
   },
   {
    "duration": 22,
    "start_time": "2022-12-29T02:21:06.135Z"
   },
   {
    "duration": 23,
    "start_time": "2022-12-29T02:21:06.158Z"
   },
   {
    "duration": 28,
    "start_time": "2022-12-29T02:21:06.183Z"
   },
   {
    "duration": 9,
    "start_time": "2022-12-29T02:21:06.235Z"
   },
   {
    "duration": 9,
    "start_time": "2022-12-29T02:21:06.246Z"
   },
   {
    "duration": 12,
    "start_time": "2022-12-29T02:21:06.257Z"
   },
   {
    "duration": 3,
    "start_time": "2022-12-29T02:21:06.270Z"
   },
   {
    "duration": 19,
    "start_time": "2022-12-29T02:21:06.275Z"
   },
   {
    "duration": 42,
    "start_time": "2022-12-29T02:21:06.295Z"
   },
   {
    "duration": 37,
    "start_time": "2022-12-29T02:21:06.340Z"
   },
   {
    "duration": 15,
    "start_time": "2022-12-29T02:21:06.380Z"
   },
   {
    "duration": 39,
    "start_time": "2022-12-29T02:21:06.398Z"
   },
   {
    "duration": 34,
    "start_time": "2022-12-29T02:21:06.440Z"
   },
   {
    "duration": 15,
    "start_time": "2022-12-29T02:21:06.477Z"
   },
   {
    "duration": 28,
    "start_time": "2022-12-29T02:21:06.494Z"
   },
   {
    "duration": 14,
    "start_time": "2022-12-29T02:21:06.524Z"
   },
   {
    "duration": 57,
    "start_time": "2022-12-29T02:21:06.540Z"
   },
   {
    "duration": 121,
    "start_time": "2022-12-29T02:21:06.601Z"
   },
   {
    "duration": 17,
    "start_time": "2022-12-29T02:21:06.724Z"
   },
   {
    "duration": 41,
    "start_time": "2022-12-29T02:21:06.743Z"
   },
   {
    "duration": 14,
    "start_time": "2022-12-29T02:21:06.786Z"
   },
   {
    "duration": 16,
    "start_time": "2022-12-29T02:21:06.802Z"
   },
   {
    "duration": 30,
    "start_time": "2022-12-29T02:21:06.820Z"
   },
   {
    "duration": 4,
    "start_time": "2022-12-29T02:21:06.852Z"
   },
   {
    "duration": 14,
    "start_time": "2022-12-29T02:21:06.858Z"
   },
   {
    "duration": 5,
    "start_time": "2022-12-29T02:21:06.873Z"
   },
   {
    "duration": 5,
    "start_time": "2022-12-29T02:21:06.880Z"
   },
   {
    "duration": 193,
    "start_time": "2022-12-29T02:21:06.887Z"
   },
   {
    "duration": 5,
    "start_time": "2022-12-29T02:21:07.082Z"
   },
   {
    "duration": 30,
    "start_time": "2022-12-29T02:21:07.088Z"
   },
   {
    "duration": 39,
    "start_time": "2022-12-29T02:21:07.120Z"
   },
   {
    "duration": 177,
    "start_time": "2022-12-29T02:21:07.161Z"
   },
   {
    "duration": 14,
    "start_time": "2022-12-29T02:21:07.340Z"
   },
   {
    "duration": 19,
    "start_time": "2022-12-29T02:21:07.356Z"
   },
   {
    "duration": 12,
    "start_time": "2022-12-29T02:21:07.377Z"
   },
   {
    "duration": 12,
    "start_time": "2022-12-29T02:21:07.391Z"
   },
   {
    "duration": 114,
    "start_time": "2022-12-29T02:21:07.404Z"
   },
   {
    "duration": 27,
    "start_time": "2022-12-29T02:21:07.520Z"
   },
   {
    "duration": 354,
    "start_time": "2022-12-29T02:21:07.549Z"
   },
   {
    "duration": 14,
    "start_time": "2022-12-29T02:21:07.905Z"
   },
   {
    "duration": 17,
    "start_time": "2022-12-29T02:21:07.920Z"
   },
   {
    "duration": 14,
    "start_time": "2022-12-29T02:21:07.939Z"
   },
   {
    "duration": 19,
    "start_time": "2022-12-29T02:21:07.955Z"
   },
   {
    "duration": 28,
    "start_time": "2022-12-29T02:21:07.975Z"
   },
   {
    "duration": 19,
    "start_time": "2022-12-29T02:21:08.005Z"
   },
   {
    "duration": 264,
    "start_time": "2022-12-29T02:21:08.025Z"
   },
   {
    "duration": 167,
    "start_time": "2022-12-29T02:21:08.290Z"
   },
   {
    "duration": 11,
    "start_time": "2022-12-29T02:21:08.459Z"
   },
   {
    "duration": 8,
    "start_time": "2022-12-29T02:21:08.472Z"
   },
   {
    "duration": 6,
    "start_time": "2022-12-29T02:21:08.482Z"
   },
   {
    "duration": 186,
    "start_time": "2022-12-29T02:21:08.490Z"
   },
   {
    "duration": 18,
    "start_time": "2022-12-29T02:21:08.677Z"
   },
   {
    "duration": 40,
    "start_time": "2022-12-29T02:21:08.696Z"
   },
   {
    "duration": 7,
    "start_time": "2022-12-29T02:21:08.738Z"
   },
   {
    "duration": 25,
    "start_time": "2022-12-29T02:21:08.747Z"
   },
   {
    "duration": 275,
    "start_time": "2022-12-29T02:21:08.773Z"
   },
   {
    "duration": 21,
    "start_time": "2022-12-29T02:21:09.049Z"
   },
   {
    "duration": 12,
    "start_time": "2022-12-29T02:21:09.072Z"
   },
   {
    "duration": 35,
    "start_time": "2022-12-29T02:21:09.085Z"
   },
   {
    "duration": 35,
    "start_time": "2022-12-29T02:21:09.121Z"
   },
   {
    "duration": 6,
    "start_time": "2022-12-29T02:21:09.157Z"
   },
   {
    "duration": 24,
    "start_time": "2022-12-29T02:21:09.165Z"
   },
   {
    "duration": 23,
    "start_time": "2022-12-29T02:21:09.190Z"
   },
   {
    "duration": 249,
    "start_time": "2022-12-29T02:21:09.215Z"
   },
   {
    "duration": 14,
    "start_time": "2022-12-29T02:21:09.466Z"
   },
   {
    "duration": 33,
    "start_time": "2022-12-29T02:21:09.482Z"
   },
   {
    "duration": 25,
    "start_time": "2022-12-29T02:21:09.517Z"
   },
   {
    "duration": 35,
    "start_time": "2022-12-29T02:21:09.544Z"
   },
   {
    "duration": 28,
    "start_time": "2022-12-29T02:21:09.581Z"
   },
   {
    "duration": 218,
    "start_time": "2022-12-29T02:21:09.611Z"
   },
   {
    "duration": 12,
    "start_time": "2022-12-29T02:21:35.097Z"
   },
   {
    "duration": 13,
    "start_time": "2022-12-29T02:29:19.167Z"
   },
   {
    "duration": 1353,
    "start_time": "2022-12-29T02:31:50.272Z"
   },
   {
    "duration": 120,
    "start_time": "2022-12-29T02:31:51.627Z"
   },
   {
    "duration": 14,
    "start_time": "2022-12-29T02:31:51.749Z"
   },
   {
    "duration": 16,
    "start_time": "2022-12-29T02:31:51.765Z"
   },
   {
    "duration": 34,
    "start_time": "2022-12-29T02:31:51.783Z"
   },
   {
    "duration": 20,
    "start_time": "2022-12-29T02:31:51.819Z"
   },
   {
    "duration": 7,
    "start_time": "2022-12-29T02:31:51.841Z"
   },
   {
    "duration": 11,
    "start_time": "2022-12-29T02:31:51.850Z"
   },
   {
    "duration": 18,
    "start_time": "2022-12-29T02:31:51.862Z"
   },
   {
    "duration": 15,
    "start_time": "2022-12-29T02:31:51.884Z"
   },
   {
    "duration": 22,
    "start_time": "2022-12-29T02:31:51.901Z"
   },
   {
    "duration": 37,
    "start_time": "2022-12-29T02:31:51.925Z"
   },
   {
    "duration": 28,
    "start_time": "2022-12-29T02:31:51.964Z"
   },
   {
    "duration": 8,
    "start_time": "2022-12-29T02:31:51.994Z"
   },
   {
    "duration": 32,
    "start_time": "2022-12-29T02:31:52.004Z"
   },
   {
    "duration": 12,
    "start_time": "2022-12-29T02:31:52.038Z"
   },
   {
    "duration": 6,
    "start_time": "2022-12-29T02:31:52.052Z"
   },
   {
    "duration": 31,
    "start_time": "2022-12-29T02:31:52.059Z"
   },
   {
    "duration": 5,
    "start_time": "2022-12-29T02:31:52.092Z"
   },
   {
    "duration": 52,
    "start_time": "2022-12-29T02:31:52.098Z"
   },
   {
    "duration": 15,
    "start_time": "2022-12-29T02:31:52.152Z"
   },
   {
    "duration": 20,
    "start_time": "2022-12-29T02:31:52.169Z"
   },
   {
    "duration": 56,
    "start_time": "2022-12-29T02:31:52.190Z"
   },
   {
    "duration": 33,
    "start_time": "2022-12-29T02:31:52.248Z"
   },
   {
    "duration": 37,
    "start_time": "2022-12-29T02:31:52.284Z"
   },
   {
    "duration": 13,
    "start_time": "2022-12-29T02:31:52.323Z"
   },
   {
    "duration": 82,
    "start_time": "2022-12-29T02:31:52.337Z"
   },
   {
    "duration": 129,
    "start_time": "2022-12-29T02:31:52.425Z"
   },
   {
    "duration": 8,
    "start_time": "2022-12-29T02:31:52.556Z"
   },
   {
    "duration": 47,
    "start_time": "2022-12-29T02:31:52.565Z"
   },
   {
    "duration": 16,
    "start_time": "2022-12-29T02:31:52.614Z"
   },
   {
    "duration": 26,
    "start_time": "2022-12-29T02:31:52.632Z"
   },
   {
    "duration": 21,
    "start_time": "2022-12-29T02:31:52.660Z"
   },
   {
    "duration": 5,
    "start_time": "2022-12-29T02:31:52.683Z"
   },
   {
    "duration": 12,
    "start_time": "2022-12-29T02:31:52.689Z"
   },
   {
    "duration": 14,
    "start_time": "2022-12-29T02:31:52.702Z"
   },
   {
    "duration": 8,
    "start_time": "2022-12-29T02:31:52.718Z"
   },
   {
    "duration": 194,
    "start_time": "2022-12-29T02:31:52.728Z"
   },
   {
    "duration": 12,
    "start_time": "2022-12-29T02:31:52.924Z"
   },
   {
    "duration": 46,
    "start_time": "2022-12-29T02:31:52.938Z"
   },
   {
    "duration": 26,
    "start_time": "2022-12-29T02:31:52.986Z"
   },
   {
    "duration": 176,
    "start_time": "2022-12-29T02:31:53.014Z"
   },
   {
    "duration": 14,
    "start_time": "2022-12-29T02:31:53.192Z"
   },
   {
    "duration": 35,
    "start_time": "2022-12-29T02:31:53.208Z"
   },
   {
    "duration": 11,
    "start_time": "2022-12-29T02:31:53.245Z"
   },
   {
    "duration": 23,
    "start_time": "2022-12-29T02:31:53.258Z"
   },
   {
    "duration": 121,
    "start_time": "2022-12-29T02:31:53.282Z"
   },
   {
    "duration": 14,
    "start_time": "2022-12-29T02:31:53.404Z"
   },
   {
    "duration": 363,
    "start_time": "2022-12-29T02:31:53.419Z"
   },
   {
    "duration": 14,
    "start_time": "2022-12-29T02:31:53.784Z"
   },
   {
    "duration": 22,
    "start_time": "2022-12-29T02:31:53.800Z"
   },
   {
    "duration": 28,
    "start_time": "2022-12-29T02:31:53.823Z"
   },
   {
    "duration": 25,
    "start_time": "2022-12-29T02:31:53.853Z"
   },
   {
    "duration": 20,
    "start_time": "2022-12-29T02:31:53.880Z"
   },
   {
    "duration": 18,
    "start_time": "2022-12-29T02:31:53.901Z"
   },
   {
    "duration": 242,
    "start_time": "2022-12-29T02:31:53.921Z"
   },
   {
    "duration": 193,
    "start_time": "2022-12-29T02:31:54.165Z"
   },
   {
    "duration": 14,
    "start_time": "2022-12-29T02:31:54.360Z"
   },
   {
    "duration": 13,
    "start_time": "2022-12-29T02:31:54.376Z"
   },
   {
    "duration": 20,
    "start_time": "2022-12-29T02:31:54.391Z"
   },
   {
    "duration": 272,
    "start_time": "2022-12-29T02:31:54.413Z"
   },
   {
    "duration": 22,
    "start_time": "2022-12-29T02:31:54.687Z"
   },
   {
    "duration": 24,
    "start_time": "2022-12-29T02:31:54.712Z"
   },
   {
    "duration": 8,
    "start_time": "2022-12-29T02:31:54.738Z"
   },
   {
    "duration": 30,
    "start_time": "2022-12-29T02:31:54.748Z"
   },
   {
    "duration": 259,
    "start_time": "2022-12-29T02:31:54.779Z"
   },
   {
    "duration": 20,
    "start_time": "2022-12-29T02:31:55.040Z"
   },
   {
    "duration": 4,
    "start_time": "2022-12-29T02:31:55.062Z"
   },
   {
    "duration": 39,
    "start_time": "2022-12-29T02:31:55.067Z"
   },
   {
    "duration": 36,
    "start_time": "2022-12-29T02:31:55.107Z"
   },
   {
    "duration": 14,
    "start_time": "2022-12-29T02:31:55.145Z"
   },
   {
    "duration": 37,
    "start_time": "2022-12-29T02:31:55.160Z"
   },
   {
    "duration": 24,
    "start_time": "2022-12-29T02:31:55.199Z"
   },
   {
    "duration": 237,
    "start_time": "2022-12-29T02:31:55.225Z"
   },
   {
    "duration": 13,
    "start_time": "2022-12-29T02:31:55.464Z"
   },
   {
    "duration": 51,
    "start_time": "2022-12-29T02:31:55.479Z"
   },
   {
    "duration": 18,
    "start_time": "2022-12-29T02:31:55.532Z"
   },
   {
    "duration": 8,
    "start_time": "2022-12-29T02:31:55.551Z"
   },
   {
    "duration": 11,
    "start_time": "2022-12-29T02:31:55.561Z"
   },
   {
    "duration": 12,
    "start_time": "2022-12-29T02:31:55.573Z"
   },
   {
    "duration": 131,
    "start_time": "2022-12-29T02:31:55.587Z"
   },
   {
    "duration": 31,
    "start_time": "2022-12-29T02:33:00.733Z"
   },
   {
    "duration": 130,
    "start_time": "2022-12-29T02:33:56.734Z"
   },
   {
    "duration": 25,
    "start_time": "2022-12-29T02:34:07.518Z"
   },
   {
    "duration": 25,
    "start_time": "2022-12-29T02:34:12.950Z"
   },
   {
    "duration": 24,
    "start_time": "2022-12-29T02:41:59.866Z"
   },
   {
    "duration": 12,
    "start_time": "2022-12-29T02:48:09.575Z"
   },
   {
    "duration": 5,
    "start_time": "2022-12-29T02:48:12.747Z"
   },
   {
    "duration": 60,
    "start_time": "2022-12-29T02:48:21.532Z"
   },
   {
    "duration": 5,
    "start_time": "2022-12-29T02:49:16.996Z"
   },
   {
    "duration": 60,
    "start_time": "2022-12-29T02:49:19.373Z"
   },
   {
    "duration": 10,
    "start_time": "2022-12-29T02:55:44.756Z"
   },
   {
    "duration": 6,
    "start_time": "2022-12-29T02:59:13.037Z"
   },
   {
    "duration": 10,
    "start_time": "2022-12-29T02:59:27.077Z"
   },
   {
    "duration": 12,
    "start_time": "2022-12-29T02:59:40.525Z"
   },
   {
    "duration": 269,
    "start_time": "2022-12-29T03:00:40.310Z"
   },
   {
    "duration": 270,
    "start_time": "2022-12-29T03:01:55.872Z"
   },
   {
    "duration": 296,
    "start_time": "2022-12-29T03:02:16.247Z"
   },
   {
    "duration": 7,
    "start_time": "2022-12-29T03:04:01.816Z"
   },
   {
    "duration": 560,
    "start_time": "2022-12-29T03:05:54.602Z"
   },
   {
    "duration": 654,
    "start_time": "2022-12-29T03:06:06.115Z"
   },
   {
    "duration": 540,
    "start_time": "2022-12-29T03:06:23.482Z"
   },
   {
    "duration": 4,
    "start_time": "2022-12-29T03:06:42.819Z"
   },
   {
    "duration": 9,
    "start_time": "2022-12-29T05:03:24.209Z"
   },
   {
    "duration": 5,
    "start_time": "2022-12-29T05:04:21.102Z"
   },
   {
    "duration": 53,
    "start_time": "2022-12-29T05:08:41.896Z"
   },
   {
    "duration": 4,
    "start_time": "2022-12-29T05:09:16.770Z"
   },
   {
    "duration": 40,
    "start_time": "2022-12-29T05:09:19.346Z"
   },
   {
    "duration": 4,
    "start_time": "2022-12-29T05:10:37.679Z"
   },
   {
    "duration": 37,
    "start_time": "2022-12-29T05:10:40.481Z"
   },
   {
    "duration": 4,
    "start_time": "2022-12-29T05:10:52.363Z"
   },
   {
    "duration": 68,
    "start_time": "2022-12-29T05:10:54.866Z"
   },
   {
    "duration": 6,
    "start_time": "2022-12-29T05:13:22.013Z"
   },
   {
    "duration": 66,
    "start_time": "2022-12-29T05:13:24.460Z"
   },
   {
    "duration": 4,
    "start_time": "2022-12-29T05:13:45.325Z"
   },
   {
    "duration": 56,
    "start_time": "2022-12-29T05:13:49.550Z"
   },
   {
    "duration": 9,
    "start_time": "2022-12-29T05:42:11.732Z"
   },
   {
    "duration": 79,
    "start_time": "2022-12-29T05:42:14.796Z"
   },
   {
    "duration": 82,
    "start_time": "2022-12-29T05:42:22.430Z"
   },
   {
    "duration": 69,
    "start_time": "2022-12-29T05:42:38.324Z"
   },
   {
    "duration": 74,
    "start_time": "2022-12-29T05:42:50.443Z"
   },
   {
    "duration": 68,
    "start_time": "2022-12-29T05:43:23.870Z"
   },
   {
    "duration": 54,
    "start_time": "2022-12-29T05:43:55.456Z"
   },
   {
    "duration": 5,
    "start_time": "2022-12-29T05:44:47.085Z"
   },
   {
    "duration": 4,
    "start_time": "2022-12-29T05:44:49.605Z"
   },
   {
    "duration": 69,
    "start_time": "2022-12-29T05:44:51.918Z"
   },
   {
    "duration": 58,
    "start_time": "2022-12-29T05:45:04.444Z"
   },
   {
    "duration": 8,
    "start_time": "2022-12-29T05:58:06.913Z"
   },
   {
    "duration": 4,
    "start_time": "2022-12-29T06:13:38.329Z"
   },
   {
    "duration": 65,
    "start_time": "2022-12-29T06:13:40.065Z"
   },
   {
    "duration": 6,
    "start_time": "2022-12-29T06:15:07.378Z"
   },
   {
    "duration": 60,
    "start_time": "2022-12-29T06:15:09.515Z"
   },
   {
    "duration": 5,
    "start_time": "2022-12-29T06:15:22.729Z"
   },
   {
    "duration": 52,
    "start_time": "2022-12-29T06:15:25.361Z"
   },
   {
    "duration": 5,
    "start_time": "2022-12-29T06:17:07.718Z"
   },
   {
    "duration": 70,
    "start_time": "2022-12-29T06:17:08.945Z"
   },
   {
    "duration": 4,
    "start_time": "2022-12-29T06:18:29.380Z"
   },
   {
    "duration": 59,
    "start_time": "2022-12-29T06:18:31.317Z"
   },
   {
    "duration": 6,
    "start_time": "2022-12-29T06:18:50.348Z"
   },
   {
    "duration": 73,
    "start_time": "2022-12-29T06:18:52.989Z"
   },
   {
    "duration": 17,
    "start_time": "2022-12-29T06:30:26.973Z"
   },
   {
    "duration": 6,
    "start_time": "2022-12-29T06:35:14.312Z"
   },
   {
    "duration": 20,
    "start_time": "2022-12-29T06:35:20.777Z"
   },
   {
    "duration": 18,
    "start_time": "2022-12-29T06:36:11.681Z"
   },
   {
    "duration": 53,
    "start_time": "2022-12-29T06:36:25.906Z"
   },
   {
    "duration": 13,
    "start_time": "2022-12-29T06:43:48.160Z"
   },
   {
    "duration": 33,
    "start_time": "2022-12-29T06:46:59.779Z"
   },
   {
    "duration": 40,
    "start_time": "2022-12-29T06:48:41.924Z"
   },
   {
    "duration": 58,
    "start_time": "2022-12-29T06:49:22.197Z"
   },
   {
    "duration": 34,
    "start_time": "2022-12-29T06:49:30.557Z"
   },
   {
    "duration": 58,
    "start_time": "2022-12-29T06:57:39.109Z"
   },
   {
    "duration": 62,
    "start_time": "2022-12-29T06:58:01.909Z"
   },
   {
    "duration": 12,
    "start_time": "2022-12-29T07:17:15.267Z"
   },
   {
    "duration": 10,
    "start_time": "2022-12-29T07:18:01.433Z"
   },
   {
    "duration": 41,
    "start_time": "2022-12-29T07:18:12.546Z"
   },
   {
    "duration": 43,
    "start_time": "2022-12-29T07:25:28.039Z"
   },
   {
    "duration": 43,
    "start_time": "2022-12-29T07:25:41.029Z"
   },
   {
    "duration": 46,
    "start_time": "2022-12-29T07:28:47.648Z"
   },
   {
    "duration": 20,
    "start_time": "2022-12-29T07:30:13.867Z"
   },
   {
    "duration": 15,
    "start_time": "2022-12-29T07:30:29.818Z"
   },
   {
    "duration": 39,
    "start_time": "2022-12-29T07:31:48.700Z"
   },
   {
    "duration": 18,
    "start_time": "2022-12-29T07:32:11.227Z"
   },
   {
    "duration": 19,
    "start_time": "2022-12-29T07:32:44.315Z"
   },
   {
    "duration": 18,
    "start_time": "2022-12-29T07:32:53.051Z"
   },
   {
    "duration": 16,
    "start_time": "2022-12-29T07:42:02.691Z"
   },
   {
    "duration": 26,
    "start_time": "2022-12-29T07:42:05.283Z"
   },
   {
    "duration": 16,
    "start_time": "2022-12-29T07:42:32.170Z"
   },
   {
    "duration": 16,
    "start_time": "2022-12-29T07:43:01.163Z"
   },
   {
    "duration": 18,
    "start_time": "2022-12-29T07:43:49.116Z"
   },
   {
    "duration": 16,
    "start_time": "2022-12-29T09:06:03.509Z"
   },
   {
    "duration": 15,
    "start_time": "2022-12-29T09:06:12.674Z"
   },
   {
    "duration": 17,
    "start_time": "2022-12-29T09:06:46.202Z"
   },
   {
    "duration": 18,
    "start_time": "2022-12-29T09:07:19.443Z"
   },
   {
    "duration": 4,
    "start_time": "2022-12-29T09:11:23.460Z"
   },
   {
    "duration": 9,
    "start_time": "2022-12-29T09:11:29.269Z"
   },
   {
    "duration": 10,
    "start_time": "2022-12-29T09:11:47.867Z"
   },
   {
    "duration": 11,
    "start_time": "2022-12-29T09:11:52.752Z"
   },
   {
    "duration": 45,
    "start_time": "2022-12-29T09:26:43.489Z"
   },
   {
    "duration": 4,
    "start_time": "2022-12-29T09:26:51.664Z"
   },
   {
    "duration": 3,
    "start_time": "2022-12-29T09:26:58.136Z"
   },
   {
    "duration": 11,
    "start_time": "2022-12-29T09:30:18.606Z"
   },
   {
    "duration": 12,
    "start_time": "2022-12-29T09:31:59.413Z"
   },
   {
    "duration": 1319,
    "start_time": "2022-12-29T09:33:41.453Z"
   },
   {
    "duration": 122,
    "start_time": "2022-12-29T09:33:42.774Z"
   },
   {
    "duration": 15,
    "start_time": "2022-12-29T09:33:42.898Z"
   },
   {
    "duration": 25,
    "start_time": "2022-12-29T09:33:42.915Z"
   },
   {
    "duration": 29,
    "start_time": "2022-12-29T09:33:42.941Z"
   },
   {
    "duration": 19,
    "start_time": "2022-12-29T09:33:42.971Z"
   },
   {
    "duration": 9,
    "start_time": "2022-12-29T09:33:42.992Z"
   },
   {
    "duration": 6,
    "start_time": "2022-12-29T09:33:43.003Z"
   },
   {
    "duration": 11,
    "start_time": "2022-12-29T09:33:43.011Z"
   },
   {
    "duration": 10,
    "start_time": "2022-12-29T09:33:43.036Z"
   },
   {
    "duration": 27,
    "start_time": "2022-12-29T09:33:43.048Z"
   },
   {
    "duration": 24,
    "start_time": "2022-12-29T09:33:43.076Z"
   },
   {
    "duration": 51,
    "start_time": "2022-12-29T09:33:43.102Z"
   },
   {
    "duration": 8,
    "start_time": "2022-12-29T09:33:43.155Z"
   },
   {
    "duration": 13,
    "start_time": "2022-12-29T09:33:43.165Z"
   },
   {
    "duration": 22,
    "start_time": "2022-12-29T09:33:43.180Z"
   },
   {
    "duration": 3,
    "start_time": "2022-12-29T09:33:43.204Z"
   },
   {
    "duration": 28,
    "start_time": "2022-12-29T09:33:43.209Z"
   },
   {
    "duration": 5,
    "start_time": "2022-12-29T09:33:43.239Z"
   },
   {
    "duration": 37,
    "start_time": "2022-12-29T09:33:43.245Z"
   },
   {
    "duration": 14,
    "start_time": "2022-12-29T09:33:43.284Z"
   },
   {
    "duration": 9,
    "start_time": "2022-12-29T09:33:43.300Z"
   },
   {
    "duration": 40,
    "start_time": "2022-12-29T09:33:43.310Z"
   },
   {
    "duration": 22,
    "start_time": "2022-12-29T09:33:43.351Z"
   },
   {
    "duration": 28,
    "start_time": "2022-12-29T09:33:43.375Z"
   },
   {
    "duration": 11,
    "start_time": "2022-12-29T09:33:43.405Z"
   },
   {
    "duration": 61,
    "start_time": "2022-12-29T09:33:43.418Z"
   },
   {
    "duration": 110,
    "start_time": "2022-12-29T09:33:43.485Z"
   },
   {
    "duration": 7,
    "start_time": "2022-12-29T09:33:43.597Z"
   },
   {
    "duration": 32,
    "start_time": "2022-12-29T09:33:43.606Z"
   },
   {
    "duration": 13,
    "start_time": "2022-12-29T09:33:43.640Z"
   },
   {
    "duration": 32,
    "start_time": "2022-12-29T09:33:43.655Z"
   },
   {
    "duration": 19,
    "start_time": "2022-12-29T09:33:43.689Z"
   },
   {
    "duration": 4,
    "start_time": "2022-12-29T09:33:43.710Z"
   },
   {
    "duration": 27,
    "start_time": "2022-12-29T09:33:43.716Z"
   },
   {
    "duration": 13,
    "start_time": "2022-12-29T09:33:43.745Z"
   },
   {
    "duration": 11,
    "start_time": "2022-12-29T09:33:43.759Z"
   },
   {
    "duration": 179,
    "start_time": "2022-12-29T09:33:43.772Z"
   },
   {
    "duration": 6,
    "start_time": "2022-12-29T09:33:43.953Z"
   },
   {
    "duration": 33,
    "start_time": "2022-12-29T09:33:43.961Z"
   },
   {
    "duration": 51,
    "start_time": "2022-12-29T09:33:43.996Z"
   },
   {
    "duration": 186,
    "start_time": "2022-12-29T09:33:44.049Z"
   },
   {
    "duration": 13,
    "start_time": "2022-12-29T09:33:44.237Z"
   },
   {
    "duration": 20,
    "start_time": "2022-12-29T09:33:44.252Z"
   },
   {
    "duration": 12,
    "start_time": "2022-12-29T09:33:44.274Z"
   },
   {
    "duration": 27,
    "start_time": "2022-12-29T09:33:44.287Z"
   },
   {
    "duration": 105,
    "start_time": "2022-12-29T09:33:44.316Z"
   },
   {
    "duration": 22,
    "start_time": "2022-12-29T09:33:44.423Z"
   },
   {
    "duration": 340,
    "start_time": "2022-12-29T09:33:44.446Z"
   },
   {
    "duration": 14,
    "start_time": "2022-12-29T09:33:44.788Z"
   },
   {
    "duration": 4,
    "start_time": "2022-12-29T09:33:44.804Z"
   },
   {
    "duration": 26,
    "start_time": "2022-12-29T09:33:44.809Z"
   },
   {
    "duration": 18,
    "start_time": "2022-12-29T09:33:44.837Z"
   },
   {
    "duration": 17,
    "start_time": "2022-12-29T09:33:44.857Z"
   },
   {
    "duration": 13,
    "start_time": "2022-12-29T09:33:44.876Z"
   },
   {
    "duration": 235,
    "start_time": "2022-12-29T09:33:44.891Z"
   },
   {
    "duration": 170,
    "start_time": "2022-12-29T09:33:45.127Z"
   },
   {
    "duration": 13,
    "start_time": "2022-12-29T09:33:45.299Z"
   },
   {
    "duration": 23,
    "start_time": "2022-12-29T09:33:45.314Z"
   },
   {
    "duration": 8,
    "start_time": "2022-12-29T09:33:45.339Z"
   },
   {
    "duration": 213,
    "start_time": "2022-12-29T09:33:45.349Z"
   },
   {
    "duration": 20,
    "start_time": "2022-12-29T09:33:45.564Z"
   },
   {
    "duration": 55,
    "start_time": "2022-12-29T09:33:45.587Z"
   },
   {
    "duration": 7,
    "start_time": "2022-12-29T09:33:45.644Z"
   },
   {
    "duration": 20,
    "start_time": "2022-12-29T09:33:45.653Z"
   },
   {
    "duration": 257,
    "start_time": "2022-12-29T09:33:45.674Z"
   },
   {
    "duration": 19,
    "start_time": "2022-12-29T09:33:45.934Z"
   },
   {
    "duration": 5,
    "start_time": "2022-12-29T09:33:45.955Z"
   },
   {
    "duration": 26,
    "start_time": "2022-12-29T09:33:45.961Z"
   },
   {
    "duration": 26,
    "start_time": "2022-12-29T09:33:45.989Z"
   },
   {
    "duration": 18,
    "start_time": "2022-12-29T09:33:46.017Z"
   },
   {
    "duration": 18,
    "start_time": "2022-12-29T09:33:46.037Z"
   },
   {
    "duration": 13,
    "start_time": "2022-12-29T09:33:46.057Z"
   },
   {
    "duration": 243,
    "start_time": "2022-12-29T09:33:46.071Z"
   },
   {
    "duration": 12,
    "start_time": "2022-12-29T09:33:46.316Z"
   },
   {
    "duration": 25,
    "start_time": "2022-12-29T09:33:46.336Z"
   },
   {
    "duration": 4,
    "start_time": "2022-12-29T09:33:46.363Z"
   },
   {
    "duration": 68,
    "start_time": "2022-12-29T09:33:46.369Z"
   },
   {
    "duration": 6,
    "start_time": "2022-12-29T09:33:46.439Z"
   },
   {
    "duration": 322,
    "start_time": "2022-12-29T09:33:46.447Z"
   },
   {
    "duration": 609,
    "start_time": "2022-12-29T09:33:46.771Z"
   },
   {
    "duration": 22,
    "start_time": "2022-12-29T09:33:47.385Z"
   },
   {
    "duration": 31,
    "start_time": "2022-12-29T09:33:47.409Z"
   },
   {
    "duration": 47,
    "start_time": "2022-12-29T09:33:47.442Z"
   },
   {
    "duration": 16,
    "start_time": "2022-12-29T09:33:47.491Z"
   },
   {
    "duration": 36,
    "start_time": "2022-12-29T09:33:47.508Z"
   },
   {
    "duration": 15,
    "start_time": "2022-12-29T09:33:47.546Z"
   },
   {
    "duration": 8,
    "start_time": "2022-12-29T09:33:47.563Z"
   },
   {
    "duration": 15,
    "start_time": "2022-12-29T09:33:47.573Z"
   },
   {
    "duration": 16,
    "start_time": "2022-12-29T09:33:47.590Z"
   },
   {
    "duration": 8,
    "start_time": "2022-12-29T09:33:47.607Z"
   },
   {
    "duration": 28,
    "start_time": "2022-12-29T09:33:47.617Z"
   },
   {
    "duration": 7,
    "start_time": "2022-12-29T09:33:47.646Z"
   },
   {
    "duration": 21,
    "start_time": "2022-12-29T09:33:47.655Z"
   },
   {
    "duration": 17,
    "start_time": "2022-12-29T09:33:47.678Z"
   },
   {
    "duration": 113,
    "start_time": "2022-12-29T09:33:47.696Z"
   },
   {
    "duration": 14,
    "start_time": "2022-12-29T09:40:10.165Z"
   },
   {
    "duration": 14,
    "start_time": "2022-12-29T09:40:41.628Z"
   },
   {
    "duration": 2,
    "start_time": "2022-12-29T09:40:46.443Z"
   },
   {
    "duration": 16,
    "start_time": "2022-12-29T09:40:48.483Z"
   },
   {
    "duration": 47,
    "start_time": "2022-12-29T09:41:00.559Z"
   },
   {
    "duration": 1232,
    "start_time": "2022-12-29T09:41:11.296Z"
   },
   {
    "duration": 159,
    "start_time": "2022-12-29T09:41:12.531Z"
   },
   {
    "duration": 19,
    "start_time": "2022-12-29T09:41:12.693Z"
   },
   {
    "duration": 37,
    "start_time": "2022-12-29T09:41:12.715Z"
   },
   {
    "duration": 54,
    "start_time": "2022-12-29T09:41:12.754Z"
   },
   {
    "duration": 20,
    "start_time": "2022-12-29T09:41:12.810Z"
   },
   {
    "duration": 18,
    "start_time": "2022-12-29T09:41:12.832Z"
   },
   {
    "duration": 14,
    "start_time": "2022-12-29T09:41:12.852Z"
   },
   {
    "duration": 28,
    "start_time": "2022-12-29T09:41:12.867Z"
   },
   {
    "duration": 16,
    "start_time": "2022-12-29T09:41:12.898Z"
   },
   {
    "duration": 23,
    "start_time": "2022-12-29T09:41:12.916Z"
   },
   {
    "duration": 25,
    "start_time": "2022-12-29T09:41:12.940Z"
   },
   {
    "duration": 28,
    "start_time": "2022-12-29T09:41:12.966Z"
   },
   {
    "duration": 8,
    "start_time": "2022-12-29T09:41:12.995Z"
   },
   {
    "duration": 31,
    "start_time": "2022-12-29T09:41:13.005Z"
   },
   {
    "duration": 12,
    "start_time": "2022-12-29T09:41:13.038Z"
   },
   {
    "duration": 9,
    "start_time": "2022-12-29T09:41:13.051Z"
   },
   {
    "duration": 37,
    "start_time": "2022-12-29T09:41:13.062Z"
   },
   {
    "duration": 12,
    "start_time": "2022-12-29T09:41:13.101Z"
   },
   {
    "duration": 49,
    "start_time": "2022-12-29T09:41:13.115Z"
   },
   {
    "duration": 16,
    "start_time": "2022-12-29T09:41:13.165Z"
   },
   {
    "duration": 15,
    "start_time": "2022-12-29T09:41:13.182Z"
   },
   {
    "duration": 43,
    "start_time": "2022-12-29T09:41:13.199Z"
   },
   {
    "duration": 26,
    "start_time": "2022-12-29T09:41:13.243Z"
   },
   {
    "duration": 40,
    "start_time": "2022-12-29T09:41:13.271Z"
   },
   {
    "duration": 10,
    "start_time": "2022-12-29T09:41:13.313Z"
   },
   {
    "duration": 59,
    "start_time": "2022-12-29T09:41:13.326Z"
   },
   {
    "duration": 95,
    "start_time": "2022-12-29T09:41:13.390Z"
   },
   {
    "duration": 6,
    "start_time": "2022-12-29T09:41:13.487Z"
   },
   {
    "duration": 28,
    "start_time": "2022-12-29T09:41:13.494Z"
   },
   {
    "duration": 18,
    "start_time": "2022-12-29T09:41:13.524Z"
   },
   {
    "duration": 12,
    "start_time": "2022-12-29T09:41:13.544Z"
   },
   {
    "duration": 31,
    "start_time": "2022-12-29T09:41:13.558Z"
   },
   {
    "duration": 18,
    "start_time": "2022-12-29T09:41:13.591Z"
   },
   {
    "duration": 11,
    "start_time": "2022-12-29T09:41:13.611Z"
   },
   {
    "duration": 26,
    "start_time": "2022-12-29T09:41:13.623Z"
   },
   {
    "duration": 12,
    "start_time": "2022-12-29T09:41:13.651Z"
   },
   {
    "duration": 183,
    "start_time": "2022-12-29T09:41:13.664Z"
   },
   {
    "duration": 6,
    "start_time": "2022-12-29T09:41:13.849Z"
   },
   {
    "duration": 33,
    "start_time": "2022-12-29T09:41:13.856Z"
   },
   {
    "duration": 45,
    "start_time": "2022-12-29T09:41:13.891Z"
   },
   {
    "duration": 184,
    "start_time": "2022-12-29T09:41:13.938Z"
   },
   {
    "duration": 21,
    "start_time": "2022-12-29T09:41:14.124Z"
   },
   {
    "duration": 20,
    "start_time": "2022-12-29T09:41:14.146Z"
   },
   {
    "duration": 12,
    "start_time": "2022-12-29T09:41:14.168Z"
   },
   {
    "duration": 18,
    "start_time": "2022-12-29T09:41:14.181Z"
   },
   {
    "duration": 109,
    "start_time": "2022-12-29T09:41:14.200Z"
   },
   {
    "duration": 13,
    "start_time": "2022-12-29T09:41:14.311Z"
   },
   {
    "duration": 347,
    "start_time": "2022-12-29T09:41:14.336Z"
   },
   {
    "duration": 14,
    "start_time": "2022-12-29T09:41:14.684Z"
   },
   {
    "duration": 15,
    "start_time": "2022-12-29T09:41:14.700Z"
   },
   {
    "duration": 15,
    "start_time": "2022-12-29T09:41:14.717Z"
   },
   {
    "duration": 36,
    "start_time": "2022-12-29T09:41:14.734Z"
   },
   {
    "duration": 16,
    "start_time": "2022-12-29T09:41:14.771Z"
   },
   {
    "duration": 15,
    "start_time": "2022-12-29T09:41:14.789Z"
   },
   {
    "duration": 241,
    "start_time": "2022-12-29T09:41:14.805Z"
   },
   {
    "duration": 196,
    "start_time": "2022-12-29T09:41:15.047Z"
   },
   {
    "duration": 13,
    "start_time": "2022-12-29T09:41:15.245Z"
   },
   {
    "duration": 25,
    "start_time": "2022-12-29T09:41:15.260Z"
   },
   {
    "duration": 36,
    "start_time": "2022-12-29T09:41:15.287Z"
   },
   {
    "duration": 287,
    "start_time": "2022-12-29T09:41:15.325Z"
   },
   {
    "duration": 34,
    "start_time": "2022-12-29T09:41:15.613Z"
   },
   {
    "duration": 30,
    "start_time": "2022-12-29T09:41:15.649Z"
   },
   {
    "duration": 60,
    "start_time": "2022-12-29T09:41:15.681Z"
   },
   {
    "duration": 23,
    "start_time": "2022-12-29T09:41:15.743Z"
   },
   {
    "duration": 226,
    "start_time": "2022-12-29T09:41:15.767Z"
   },
   {
    "duration": 61,
    "start_time": "2022-12-29T09:41:15.995Z"
   },
   {
    "duration": 4,
    "start_time": "2022-12-29T09:41:16.058Z"
   },
   {
    "duration": 30,
    "start_time": "2022-12-29T09:41:16.064Z"
   },
   {
    "duration": 32,
    "start_time": "2022-12-29T09:41:16.096Z"
   },
   {
    "duration": 8,
    "start_time": "2022-12-29T09:41:16.130Z"
   },
   {
    "duration": 20,
    "start_time": "2022-12-29T09:41:16.139Z"
   },
   {
    "duration": 13,
    "start_time": "2022-12-29T09:41:16.160Z"
   },
   {
    "duration": 253,
    "start_time": "2022-12-29T09:41:16.174Z"
   },
   {
    "duration": 18,
    "start_time": "2022-12-29T09:41:16.429Z"
   },
   {
    "duration": 48,
    "start_time": "2022-12-29T09:41:16.449Z"
   },
   {
    "duration": 5,
    "start_time": "2022-12-29T09:41:16.498Z"
   },
   {
    "duration": 90,
    "start_time": "2022-12-29T09:41:16.505Z"
   },
   {
    "duration": 6,
    "start_time": "2022-12-29T09:41:16.597Z"
   },
   {
    "duration": 347,
    "start_time": "2022-12-29T09:41:16.605Z"
   },
   {
    "duration": 584,
    "start_time": "2022-12-29T09:41:16.954Z"
   },
   {
    "duration": 20,
    "start_time": "2022-12-29T09:41:17.543Z"
   },
   {
    "duration": 33,
    "start_time": "2022-12-29T09:41:17.565Z"
   },
   {
    "duration": 53,
    "start_time": "2022-12-29T09:41:17.599Z"
   },
   {
    "duration": 15,
    "start_time": "2022-12-29T09:41:17.654Z"
   },
   {
    "duration": 39,
    "start_time": "2022-12-29T09:41:17.670Z"
   },
   {
    "duration": 26,
    "start_time": "2022-12-29T09:41:17.711Z"
   },
   {
    "duration": 16,
    "start_time": "2022-12-29T09:41:17.739Z"
   },
   {
    "duration": 34,
    "start_time": "2022-12-29T09:41:17.757Z"
   },
   {
    "duration": 19,
    "start_time": "2022-12-29T09:41:17.793Z"
   },
   {
    "duration": 26,
    "start_time": "2022-12-29T09:41:17.814Z"
   },
   {
    "duration": 23,
    "start_time": "2022-12-29T09:41:17.842Z"
   },
   {
    "duration": 13,
    "start_time": "2022-12-29T09:41:17.867Z"
   },
   {
    "duration": 26,
    "start_time": "2022-12-29T09:41:17.882Z"
   },
   {
    "duration": 17,
    "start_time": "2022-12-29T09:41:17.909Z"
   },
   {
    "duration": 102,
    "start_time": "2022-12-29T09:41:17.928Z"
   },
   {
    "duration": 13,
    "start_time": "2022-12-29T09:42:28.412Z"
   },
   {
    "duration": 14,
    "start_time": "2022-12-29T09:52:17.008Z"
   },
   {
    "duration": 12,
    "start_time": "2022-12-29T09:52:24.031Z"
   },
   {
    "duration": 15,
    "start_time": "2022-12-29T09:52:52.577Z"
   },
   {
    "duration": 256,
    "start_time": "2022-12-29T09:55:06.786Z"
   },
   {
    "duration": 256,
    "start_time": "2022-12-29T09:55:19.987Z"
   },
   {
    "duration": 242,
    "start_time": "2022-12-29T09:55:49.787Z"
   },
   {
    "duration": 368,
    "start_time": "2022-12-29T09:55:56.387Z"
   },
   {
    "duration": 240,
    "start_time": "2022-12-29T09:56:05.051Z"
   },
   {
    "duration": 242,
    "start_time": "2022-12-29T10:00:34.749Z"
   },
   {
    "duration": 229,
    "start_time": "2022-12-29T10:00:58.840Z"
   },
   {
    "duration": 230,
    "start_time": "2022-12-29T10:01:31.423Z"
   },
   {
    "duration": 4,
    "start_time": "2022-12-29T10:02:24.550Z"
   },
   {
    "duration": 6,
    "start_time": "2022-12-29T10:02:32.639Z"
   },
   {
    "duration": 14,
    "start_time": "2022-12-29T10:04:57.089Z"
   },
   {
    "duration": 15,
    "start_time": "2022-12-29T10:08:08.799Z"
   },
   {
    "duration": 6,
    "start_time": "2022-12-29T10:08:24.940Z"
   },
   {
    "duration": 242,
    "start_time": "2022-12-29T10:08:26.573Z"
   },
   {
    "duration": 14,
    "start_time": "2022-12-29T10:08:52.508Z"
   },
   {
    "duration": 3,
    "start_time": "2022-12-29T10:09:16.773Z"
   },
   {
    "duration": 12,
    "start_time": "2022-12-29T10:09:18.487Z"
   },
   {
    "duration": 5,
    "start_time": "2022-12-29T10:09:38.325Z"
   },
   {
    "duration": 11,
    "start_time": "2022-12-29T10:09:45.870Z"
   },
   {
    "duration": 117,
    "start_time": "2022-12-29T10:20:16.589Z"
   },
   {
    "duration": 4,
    "start_time": "2022-12-29T10:21:29.781Z"
   },
   {
    "duration": 4,
    "start_time": "2022-12-29T10:21:34.174Z"
   },
   {
    "duration": 13,
    "start_time": "2022-12-29T10:22:45.247Z"
   },
   {
    "duration": 1174,
    "start_time": "2022-12-29T10:24:27.849Z"
   },
   {
    "duration": 123,
    "start_time": "2022-12-29T10:24:29.025Z"
   },
   {
    "duration": 14,
    "start_time": "2022-12-29T10:24:29.150Z"
   },
   {
    "duration": 20,
    "start_time": "2022-12-29T10:24:29.166Z"
   },
   {
    "duration": 34,
    "start_time": "2022-12-29T10:24:29.188Z"
   },
   {
    "duration": 18,
    "start_time": "2022-12-29T10:24:29.224Z"
   },
   {
    "duration": 10,
    "start_time": "2022-12-29T10:24:29.244Z"
   },
   {
    "duration": 21,
    "start_time": "2022-12-29T10:24:29.256Z"
   },
   {
    "duration": 51,
    "start_time": "2022-12-29T10:24:29.279Z"
   },
   {
    "duration": 17,
    "start_time": "2022-12-29T10:24:29.332Z"
   },
   {
    "duration": 56,
    "start_time": "2022-12-29T10:24:29.351Z"
   },
   {
    "duration": 31,
    "start_time": "2022-12-29T10:24:29.408Z"
   },
   {
    "duration": 38,
    "start_time": "2022-12-29T10:24:29.441Z"
   },
   {
    "duration": 8,
    "start_time": "2022-12-29T10:24:29.481Z"
   },
   {
    "duration": 10,
    "start_time": "2022-12-29T10:24:29.490Z"
   },
   {
    "duration": 25,
    "start_time": "2022-12-29T10:24:29.502Z"
   },
   {
    "duration": 12,
    "start_time": "2022-12-29T10:24:29.529Z"
   },
   {
    "duration": 32,
    "start_time": "2022-12-29T10:24:29.542Z"
   },
   {
    "duration": 7,
    "start_time": "2022-12-29T10:24:29.576Z"
   },
   {
    "duration": 60,
    "start_time": "2022-12-29T10:24:29.584Z"
   },
   {
    "duration": 15,
    "start_time": "2022-12-29T10:24:29.646Z"
   },
   {
    "duration": 21,
    "start_time": "2022-12-29T10:24:29.663Z"
   },
   {
    "duration": 31,
    "start_time": "2022-12-29T10:24:29.685Z"
   },
   {
    "duration": 15,
    "start_time": "2022-12-29T10:24:29.718Z"
   },
   {
    "duration": 38,
    "start_time": "2022-12-29T10:24:29.734Z"
   },
   {
    "duration": 10,
    "start_time": "2022-12-29T10:24:29.774Z"
   },
   {
    "duration": 65,
    "start_time": "2022-12-29T10:24:29.786Z"
   },
   {
    "duration": 107,
    "start_time": "2022-12-29T10:24:29.856Z"
   },
   {
    "duration": 7,
    "start_time": "2022-12-29T10:24:29.964Z"
   },
   {
    "duration": 32,
    "start_time": "2022-12-29T10:24:29.973Z"
   },
   {
    "duration": 19,
    "start_time": "2022-12-29T10:24:30.007Z"
   },
   {
    "duration": 41,
    "start_time": "2022-12-29T10:24:30.027Z"
   },
   {
    "duration": 41,
    "start_time": "2022-12-29T10:24:30.070Z"
   },
   {
    "duration": 22,
    "start_time": "2022-12-29T10:24:30.113Z"
   },
   {
    "duration": 16,
    "start_time": "2022-12-29T10:24:30.137Z"
   },
   {
    "duration": 45,
    "start_time": "2022-12-29T10:24:30.155Z"
   },
   {
    "duration": 35,
    "start_time": "2022-12-29T10:24:30.202Z"
   },
   {
    "duration": 222,
    "start_time": "2022-12-29T10:24:30.239Z"
   },
   {
    "duration": 5,
    "start_time": "2022-12-29T10:24:30.462Z"
   },
   {
    "duration": 50,
    "start_time": "2022-12-29T10:24:30.469Z"
   },
   {
    "duration": 42,
    "start_time": "2022-12-29T10:24:30.521Z"
   },
   {
    "duration": 175,
    "start_time": "2022-12-29T10:24:30.565Z"
   },
   {
    "duration": 14,
    "start_time": "2022-12-29T10:24:30.742Z"
   },
   {
    "duration": 37,
    "start_time": "2022-12-29T10:24:30.758Z"
   },
   {
    "duration": 36,
    "start_time": "2022-12-29T10:24:30.796Z"
   },
   {
    "duration": 23,
    "start_time": "2022-12-29T10:24:30.834Z"
   },
   {
    "duration": 128,
    "start_time": "2022-12-29T10:24:30.858Z"
   },
   {
    "duration": 14,
    "start_time": "2022-12-29T10:24:30.988Z"
   },
   {
    "duration": 363,
    "start_time": "2022-12-29T10:24:31.003Z"
   },
   {
    "duration": 15,
    "start_time": "2022-12-29T10:24:31.368Z"
   },
   {
    "duration": 13,
    "start_time": "2022-12-29T10:24:31.385Z"
   },
   {
    "duration": 58,
    "start_time": "2022-12-29T10:24:31.399Z"
   },
   {
    "duration": 42,
    "start_time": "2022-12-29T10:24:31.459Z"
   },
   {
    "duration": 27,
    "start_time": "2022-12-29T10:24:31.503Z"
   },
   {
    "duration": 52,
    "start_time": "2022-12-29T10:24:31.532Z"
   },
   {
    "duration": 238,
    "start_time": "2022-12-29T10:24:31.586Z"
   },
   {
    "duration": 197,
    "start_time": "2022-12-29T10:24:31.825Z"
   },
   {
    "duration": 17,
    "start_time": "2022-12-29T10:24:32.024Z"
   },
   {
    "duration": 18,
    "start_time": "2022-12-29T10:24:32.043Z"
   },
   {
    "duration": 39,
    "start_time": "2022-12-29T10:24:32.063Z"
   },
   {
    "duration": 235,
    "start_time": "2022-12-29T10:24:32.104Z"
   },
   {
    "duration": 24,
    "start_time": "2022-12-29T10:24:32.341Z"
   },
   {
    "duration": 70,
    "start_time": "2022-12-29T10:24:32.367Z"
   },
   {
    "duration": 19,
    "start_time": "2022-12-29T10:24:32.439Z"
   },
   {
    "duration": 32,
    "start_time": "2022-12-29T10:24:32.460Z"
   },
   {
    "duration": 298,
    "start_time": "2022-12-29T10:24:32.495Z"
   },
   {
    "duration": 20,
    "start_time": "2022-12-29T10:24:32.795Z"
   },
   {
    "duration": 55,
    "start_time": "2022-12-29T10:24:32.817Z"
   },
   {
    "duration": 34,
    "start_time": "2022-12-29T10:24:32.874Z"
   },
   {
    "duration": 26,
    "start_time": "2022-12-29T10:24:32.910Z"
   },
   {
    "duration": 8,
    "start_time": "2022-12-29T10:24:32.938Z"
   },
   {
    "duration": 29,
    "start_time": "2022-12-29T10:24:32.948Z"
   },
   {
    "duration": 17,
    "start_time": "2022-12-29T10:24:32.979Z"
   },
   {
    "duration": 237,
    "start_time": "2022-12-29T10:24:32.998Z"
   },
   {
    "duration": 13,
    "start_time": "2022-12-29T10:24:33.237Z"
   },
   {
    "duration": 46,
    "start_time": "2022-12-29T10:24:33.252Z"
   },
   {
    "duration": 16,
    "start_time": "2022-12-29T10:24:33.300Z"
   },
   {
    "duration": 122,
    "start_time": "2022-12-29T10:24:33.318Z"
   },
   {
    "duration": 6,
    "start_time": "2022-12-29T10:24:33.441Z"
   },
   {
    "duration": 304,
    "start_time": "2022-12-29T10:24:33.449Z"
   },
   {
    "duration": 594,
    "start_time": "2022-12-29T10:24:33.754Z"
   },
   {
    "duration": 20,
    "start_time": "2022-12-29T10:24:34.354Z"
   },
   {
    "duration": 12,
    "start_time": "2022-12-29T10:24:34.376Z"
   },
   {
    "duration": 60,
    "start_time": "2022-12-29T10:24:34.389Z"
   },
   {
    "duration": 16,
    "start_time": "2022-12-29T10:24:34.451Z"
   },
   {
    "duration": 40,
    "start_time": "2022-12-29T10:24:34.468Z"
   },
   {
    "duration": 25,
    "start_time": "2022-12-29T10:24:34.510Z"
   },
   {
    "duration": 13,
    "start_time": "2022-12-29T10:24:34.537Z"
   },
   {
    "duration": 24,
    "start_time": "2022-12-29T10:24:34.551Z"
   },
   {
    "duration": 23,
    "start_time": "2022-12-29T10:24:34.576Z"
   },
   {
    "duration": 18,
    "start_time": "2022-12-29T10:24:34.601Z"
   },
   {
    "duration": 39,
    "start_time": "2022-12-29T10:24:34.621Z"
   },
   {
    "duration": 23,
    "start_time": "2022-12-29T10:24:34.662Z"
   },
   {
    "duration": 23,
    "start_time": "2022-12-29T10:24:34.688Z"
   },
   {
    "duration": 240,
    "start_time": "2022-12-29T10:24:34.714Z"
   },
   {
    "duration": 8,
    "start_time": "2022-12-29T10:24:34.955Z"
   },
   {
    "duration": 52,
    "start_time": "2022-12-29T10:24:34.965Z"
   },
   {
    "duration": 8,
    "start_time": "2022-12-29T10:24:35.019Z"
   },
   {
    "duration": 12,
    "start_time": "2022-12-29T10:24:35.028Z"
   },
   {
    "duration": 15,
    "start_time": "2022-12-29T10:24:35.042Z"
   },
   {
    "duration": 106,
    "start_time": "2022-12-29T10:24:35.059Z"
   },
   {
    "duration": 3,
    "start_time": "2022-12-29T10:25:17.054Z"
   },
   {
    "duration": 13,
    "start_time": "2022-12-29T10:25:18.269Z"
   },
   {
    "duration": 1118,
    "start_time": "2022-12-29T10:27:17.883Z"
   },
   {
    "duration": 122,
    "start_time": "2022-12-29T10:27:19.004Z"
   },
   {
    "duration": 17,
    "start_time": "2022-12-29T10:27:19.128Z"
   },
   {
    "duration": 10,
    "start_time": "2022-12-29T10:27:19.147Z"
   },
   {
    "duration": 34,
    "start_time": "2022-12-29T10:27:19.159Z"
   },
   {
    "duration": 19,
    "start_time": "2022-12-29T10:27:19.195Z"
   },
   {
    "duration": 21,
    "start_time": "2022-12-29T10:27:19.216Z"
   },
   {
    "duration": 14,
    "start_time": "2022-12-29T10:27:19.239Z"
   },
   {
    "duration": 21,
    "start_time": "2022-12-29T10:27:19.255Z"
   },
   {
    "duration": 11,
    "start_time": "2022-12-29T10:27:19.279Z"
   },
   {
    "duration": 26,
    "start_time": "2022-12-29T10:27:19.292Z"
   },
   {
    "duration": 37,
    "start_time": "2022-12-29T10:27:19.320Z"
   },
   {
    "duration": 28,
    "start_time": "2022-12-29T10:27:19.359Z"
   },
   {
    "duration": 8,
    "start_time": "2022-12-29T10:27:19.389Z"
   },
   {
    "duration": 9,
    "start_time": "2022-12-29T10:27:19.398Z"
   },
   {
    "duration": 38,
    "start_time": "2022-12-29T10:27:19.408Z"
   },
   {
    "duration": 2,
    "start_time": "2022-12-29T10:27:19.448Z"
   },
   {
    "duration": 29,
    "start_time": "2022-12-29T10:27:19.452Z"
   },
   {
    "duration": 6,
    "start_time": "2022-12-29T10:27:19.484Z"
   },
   {
    "duration": 56,
    "start_time": "2022-12-29T10:27:19.492Z"
   },
   {
    "duration": 16,
    "start_time": "2022-12-29T10:27:19.550Z"
   },
   {
    "duration": 10,
    "start_time": "2022-12-29T10:27:19.568Z"
   },
   {
    "duration": 25,
    "start_time": "2022-12-29T10:27:19.579Z"
   },
   {
    "duration": 11,
    "start_time": "2022-12-29T10:27:19.605Z"
   },
   {
    "duration": 37,
    "start_time": "2022-12-29T10:27:19.617Z"
   },
   {
    "duration": 10,
    "start_time": "2022-12-29T10:27:19.656Z"
   },
   {
    "duration": 74,
    "start_time": "2022-12-29T10:27:19.668Z"
   },
   {
    "duration": 105,
    "start_time": "2022-12-29T10:27:19.747Z"
   },
   {
    "duration": 5,
    "start_time": "2022-12-29T10:27:19.854Z"
   },
   {
    "duration": 26,
    "start_time": "2022-12-29T10:27:19.861Z"
   },
   {
    "duration": 12,
    "start_time": "2022-12-29T10:27:19.889Z"
   },
   {
    "duration": 36,
    "start_time": "2022-12-29T10:27:19.903Z"
   },
   {
    "duration": 26,
    "start_time": "2022-12-29T10:27:19.941Z"
   },
   {
    "duration": 14,
    "start_time": "2022-12-29T10:27:19.968Z"
   },
   {
    "duration": 39,
    "start_time": "2022-12-29T10:27:19.984Z"
   },
   {
    "duration": 18,
    "start_time": "2022-12-29T10:27:20.026Z"
   },
   {
    "duration": 17,
    "start_time": "2022-12-29T10:27:20.046Z"
   },
   {
    "duration": 190,
    "start_time": "2022-12-29T10:27:20.064Z"
   },
   {
    "duration": 5,
    "start_time": "2022-12-29T10:27:20.256Z"
   },
   {
    "duration": 53,
    "start_time": "2022-12-29T10:27:20.262Z"
   },
   {
    "duration": 28,
    "start_time": "2022-12-29T10:27:20.316Z"
   },
   {
    "duration": 175,
    "start_time": "2022-12-29T10:27:20.345Z"
   },
   {
    "duration": 17,
    "start_time": "2022-12-29T10:27:20.522Z"
   },
   {
    "duration": 31,
    "start_time": "2022-12-29T10:27:20.541Z"
   },
   {
    "duration": 16,
    "start_time": "2022-12-29T10:27:20.574Z"
   },
   {
    "duration": 29,
    "start_time": "2022-12-29T10:27:20.591Z"
   },
   {
    "duration": 99,
    "start_time": "2022-12-29T10:27:20.622Z"
   },
   {
    "duration": 18,
    "start_time": "2022-12-29T10:27:20.723Z"
   },
   {
    "duration": 375,
    "start_time": "2022-12-29T10:27:20.743Z"
   },
   {
    "duration": 23,
    "start_time": "2022-12-29T10:27:21.120Z"
   },
   {
    "duration": 18,
    "start_time": "2022-12-29T10:27:21.144Z"
   },
   {
    "duration": 29,
    "start_time": "2022-12-29T10:27:21.164Z"
   },
   {
    "duration": 40,
    "start_time": "2022-12-29T10:27:21.194Z"
   },
   {
    "duration": 17,
    "start_time": "2022-12-29T10:27:21.236Z"
   },
   {
    "duration": 25,
    "start_time": "2022-12-29T10:27:21.255Z"
   },
   {
    "duration": 244,
    "start_time": "2022-12-29T10:27:21.282Z"
   },
   {
    "duration": 192,
    "start_time": "2022-12-29T10:27:21.528Z"
   },
   {
    "duration": 15,
    "start_time": "2022-12-29T10:27:21.722Z"
   },
   {
    "duration": 54,
    "start_time": "2022-12-29T10:27:21.738Z"
   },
   {
    "duration": 23,
    "start_time": "2022-12-29T10:27:21.794Z"
   },
   {
    "duration": 262,
    "start_time": "2022-12-29T10:27:21.819Z"
   },
   {
    "duration": 53,
    "start_time": "2022-12-29T10:27:22.083Z"
   },
   {
    "duration": 16,
    "start_time": "2022-12-29T10:27:22.138Z"
   },
   {
    "duration": 17,
    "start_time": "2022-12-29T10:27:22.155Z"
   },
   {
    "duration": 65,
    "start_time": "2022-12-29T10:27:22.174Z"
   },
   {
    "duration": 255,
    "start_time": "2022-12-29T10:27:22.240Z"
   },
   {
    "duration": 39,
    "start_time": "2022-12-29T10:27:22.497Z"
   },
   {
    "duration": 8,
    "start_time": "2022-12-29T10:27:22.539Z"
   },
   {
    "duration": 61,
    "start_time": "2022-12-29T10:27:22.549Z"
   },
   {
    "duration": 90,
    "start_time": "2022-12-29T10:27:22.612Z"
   },
   {
    "duration": 23,
    "start_time": "2022-12-29T10:27:22.703Z"
   },
   {
    "duration": 34,
    "start_time": "2022-12-29T10:27:22.728Z"
   },
   {
    "duration": 33,
    "start_time": "2022-12-29T10:27:22.764Z"
   },
   {
    "duration": 241,
    "start_time": "2022-12-29T10:27:22.798Z"
   },
   {
    "duration": 13,
    "start_time": "2022-12-29T10:27:23.041Z"
   },
   {
    "duration": 26,
    "start_time": "2022-12-29T10:27:23.056Z"
   },
   {
    "duration": 6,
    "start_time": "2022-12-29T10:27:23.083Z"
   },
   {
    "duration": 108,
    "start_time": "2022-12-29T10:27:23.090Z"
   },
   {
    "duration": 6,
    "start_time": "2022-12-29T10:27:23.199Z"
   },
   {
    "duration": 283,
    "start_time": "2022-12-29T10:27:23.207Z"
   },
   {
    "duration": 578,
    "start_time": "2022-12-29T10:27:23.492Z"
   },
   {
    "duration": 19,
    "start_time": "2022-12-29T10:27:24.076Z"
   },
   {
    "duration": 29,
    "start_time": "2022-12-29T10:27:24.097Z"
   },
   {
    "duration": 59,
    "start_time": "2022-12-29T10:27:24.127Z"
   },
   {
    "duration": 15,
    "start_time": "2022-12-29T10:27:24.188Z"
   },
   {
    "duration": 67,
    "start_time": "2022-12-29T10:27:24.205Z"
   },
   {
    "duration": 16,
    "start_time": "2022-12-29T10:27:24.274Z"
   },
   {
    "duration": 12,
    "start_time": "2022-12-29T10:27:24.292Z"
   },
   {
    "duration": 33,
    "start_time": "2022-12-29T10:27:24.306Z"
   },
   {
    "duration": 44,
    "start_time": "2022-12-29T10:27:24.341Z"
   },
   {
    "duration": 30,
    "start_time": "2022-12-29T10:27:24.387Z"
   },
   {
    "duration": 28,
    "start_time": "2022-12-29T10:27:24.419Z"
   },
   {
    "duration": 15,
    "start_time": "2022-12-29T10:27:24.449Z"
   },
   {
    "duration": 228,
    "start_time": "2022-12-29T10:27:24.466Z"
   },
   {
    "duration": 8,
    "start_time": "2022-12-29T10:27:24.696Z"
   },
   {
    "duration": 37,
    "start_time": "2022-12-29T10:27:24.706Z"
   },
   {
    "duration": 16,
    "start_time": "2022-12-29T10:27:24.745Z"
   },
   {
    "duration": 31,
    "start_time": "2022-12-29T10:27:24.763Z"
   },
   {
    "duration": 26,
    "start_time": "2022-12-29T10:27:24.796Z"
   },
   {
    "duration": 124,
    "start_time": "2022-12-29T10:27:24.824Z"
   },
   {
    "duration": 212,
    "start_time": "2022-12-29T10:27:44.883Z"
   },
   {
    "duration": 14,
    "start_time": "2022-12-29T10:29:00.717Z"
   },
   {
    "duration": 14,
    "start_time": "2022-12-29T10:29:18.875Z"
   },
   {
    "duration": 14,
    "start_time": "2022-12-29T10:29:24.524Z"
   },
   {
    "duration": 4,
    "start_time": "2022-12-29T10:29:56.417Z"
   },
   {
    "duration": 17,
    "start_time": "2022-12-29T10:29:58.412Z"
   },
   {
    "duration": 13,
    "start_time": "2022-12-29T10:31:16.175Z"
   },
   {
    "duration": 3,
    "start_time": "2022-12-29T10:31:21.125Z"
   },
   {
    "duration": 13,
    "start_time": "2022-12-29T10:31:25.741Z"
   },
   {
    "duration": 1190,
    "start_time": "2022-12-29T10:31:40.934Z"
   },
   {
    "duration": 119,
    "start_time": "2022-12-29T10:31:42.126Z"
   },
   {
    "duration": 15,
    "start_time": "2022-12-29T10:31:42.247Z"
   },
   {
    "duration": 15,
    "start_time": "2022-12-29T10:31:42.264Z"
   },
   {
    "duration": 30,
    "start_time": "2022-12-29T10:31:42.281Z"
   },
   {
    "duration": 22,
    "start_time": "2022-12-29T10:31:42.314Z"
   },
   {
    "duration": 8,
    "start_time": "2022-12-29T10:31:42.337Z"
   },
   {
    "duration": 13,
    "start_time": "2022-12-29T10:31:42.347Z"
   },
   {
    "duration": 14,
    "start_time": "2022-12-29T10:31:42.361Z"
   },
   {
    "duration": 17,
    "start_time": "2022-12-29T10:31:42.379Z"
   },
   {
    "duration": 48,
    "start_time": "2022-12-29T10:31:42.398Z"
   },
   {
    "duration": 48,
    "start_time": "2022-12-29T10:31:42.449Z"
   },
   {
    "duration": 38,
    "start_time": "2022-12-29T10:31:42.500Z"
   },
   {
    "duration": 9,
    "start_time": "2022-12-29T10:31:42.540Z"
   },
   {
    "duration": 11,
    "start_time": "2022-12-29T10:31:42.552Z"
   },
   {
    "duration": 18,
    "start_time": "2022-12-29T10:31:42.565Z"
   },
   {
    "duration": 9,
    "start_time": "2022-12-29T10:31:42.585Z"
   },
   {
    "duration": 44,
    "start_time": "2022-12-29T10:31:42.596Z"
   },
   {
    "duration": 8,
    "start_time": "2022-12-29T10:31:42.641Z"
   },
   {
    "duration": 62,
    "start_time": "2022-12-29T10:31:42.651Z"
   },
   {
    "duration": 22,
    "start_time": "2022-12-29T10:31:42.714Z"
   },
   {
    "duration": 23,
    "start_time": "2022-12-29T10:31:42.738Z"
   },
   {
    "duration": 25,
    "start_time": "2022-12-29T10:31:42.763Z"
   },
   {
    "duration": 14,
    "start_time": "2022-12-29T10:31:42.789Z"
   },
   {
    "duration": 43,
    "start_time": "2022-12-29T10:31:42.805Z"
   },
   {
    "duration": 11,
    "start_time": "2022-12-29T10:31:42.851Z"
   },
   {
    "duration": 54,
    "start_time": "2022-12-29T10:31:42.864Z"
   },
   {
    "duration": 107,
    "start_time": "2022-12-29T10:31:42.939Z"
   },
   {
    "duration": 7,
    "start_time": "2022-12-29T10:31:43.048Z"
   },
   {
    "duration": 22,
    "start_time": "2022-12-29T10:31:43.057Z"
   },
   {
    "duration": 13,
    "start_time": "2022-12-29T10:31:43.081Z"
   },
   {
    "duration": 50,
    "start_time": "2022-12-29T10:31:43.096Z"
   },
   {
    "duration": 19,
    "start_time": "2022-12-29T10:31:43.148Z"
   },
   {
    "duration": 6,
    "start_time": "2022-12-29T10:31:43.169Z"
   },
   {
    "duration": 5,
    "start_time": "2022-12-29T10:31:43.177Z"
   },
   {
    "duration": 9,
    "start_time": "2022-12-29T10:31:43.184Z"
   },
   {
    "duration": 6,
    "start_time": "2022-12-29T10:31:43.195Z"
   },
   {
    "duration": 211,
    "start_time": "2022-12-29T10:31:43.202Z"
   },
   {
    "duration": 5,
    "start_time": "2022-12-29T10:31:43.415Z"
   },
   {
    "duration": 31,
    "start_time": "2022-12-29T10:31:43.436Z"
   },
   {
    "duration": 27,
    "start_time": "2022-12-29T10:31:43.469Z"
   },
   {
    "duration": 202,
    "start_time": "2022-12-29T10:31:43.498Z"
   },
   {
    "duration": 15,
    "start_time": "2022-12-29T10:31:43.702Z"
   },
   {
    "duration": 33,
    "start_time": "2022-12-29T10:31:43.718Z"
   },
   {
    "duration": 12,
    "start_time": "2022-12-29T10:31:43.753Z"
   },
   {
    "duration": 12,
    "start_time": "2022-12-29T10:31:43.766Z"
   },
   {
    "duration": 105,
    "start_time": "2022-12-29T10:31:43.780Z"
   },
   {
    "duration": 14,
    "start_time": "2022-12-29T10:31:43.887Z"
   },
   {
    "duration": 378,
    "start_time": "2022-12-29T10:31:43.903Z"
   },
   {
    "duration": 15,
    "start_time": "2022-12-29T10:31:44.282Z"
   },
   {
    "duration": 7,
    "start_time": "2022-12-29T10:31:44.299Z"
   },
   {
    "duration": 13,
    "start_time": "2022-12-29T10:31:44.308Z"
   },
   {
    "duration": 28,
    "start_time": "2022-12-29T10:31:44.323Z"
   },
   {
    "duration": 17,
    "start_time": "2022-12-29T10:31:44.353Z"
   },
   {
    "duration": 13,
    "start_time": "2022-12-29T10:31:44.371Z"
   },
   {
    "duration": 246,
    "start_time": "2022-12-29T10:31:44.386Z"
   },
   {
    "duration": 190,
    "start_time": "2022-12-29T10:31:44.633Z"
   },
   {
    "duration": 16,
    "start_time": "2022-12-29T10:31:44.825Z"
   },
   {
    "duration": 25,
    "start_time": "2022-12-29T10:31:44.843Z"
   },
   {
    "duration": 15,
    "start_time": "2022-12-29T10:31:44.870Z"
   },
   {
    "duration": 226,
    "start_time": "2022-12-29T10:31:44.887Z"
   },
   {
    "duration": 27,
    "start_time": "2022-12-29T10:31:45.115Z"
   },
   {
    "duration": 17,
    "start_time": "2022-12-29T10:31:45.144Z"
   },
   {
    "duration": 12,
    "start_time": "2022-12-29T10:31:45.163Z"
   },
   {
    "duration": 63,
    "start_time": "2022-12-29T10:31:45.177Z"
   },
   {
    "duration": 244,
    "start_time": "2022-12-29T10:31:45.242Z"
   },
   {
    "duration": 22,
    "start_time": "2022-12-29T10:31:45.487Z"
   },
   {
    "duration": 24,
    "start_time": "2022-12-29T10:31:45.511Z"
   },
   {
    "duration": 29,
    "start_time": "2022-12-29T10:31:45.537Z"
   },
   {
    "duration": 30,
    "start_time": "2022-12-29T10:31:45.569Z"
   },
   {
    "duration": 11,
    "start_time": "2022-12-29T10:31:45.601Z"
   },
   {
    "duration": 38,
    "start_time": "2022-12-29T10:31:45.614Z"
   },
   {
    "duration": 26,
    "start_time": "2022-12-29T10:31:45.655Z"
   },
   {
    "duration": 243,
    "start_time": "2022-12-29T10:31:45.683Z"
   },
   {
    "duration": 19,
    "start_time": "2022-12-29T10:31:45.928Z"
   },
   {
    "duration": 32,
    "start_time": "2022-12-29T10:31:45.949Z"
   },
   {
    "duration": 5,
    "start_time": "2022-12-29T10:31:45.983Z"
   },
   {
    "duration": 85,
    "start_time": "2022-12-29T10:31:45.990Z"
   },
   {
    "duration": 8,
    "start_time": "2022-12-29T10:31:46.078Z"
   },
   {
    "duration": 320,
    "start_time": "2022-12-29T10:31:46.087Z"
   },
   {
    "duration": 646,
    "start_time": "2022-12-29T10:31:46.409Z"
   },
   {
    "duration": 20,
    "start_time": "2022-12-29T10:31:47.060Z"
   },
   {
    "duration": 12,
    "start_time": "2022-12-29T10:31:47.082Z"
   },
   {
    "duration": 62,
    "start_time": "2022-12-29T10:31:47.096Z"
   },
   {
    "duration": 17,
    "start_time": "2022-12-29T10:31:47.160Z"
   },
   {
    "duration": 26,
    "start_time": "2022-12-29T10:31:47.179Z"
   },
   {
    "duration": 40,
    "start_time": "2022-12-29T10:31:47.206Z"
   },
   {
    "duration": 3,
    "start_time": "2022-12-29T10:31:47.248Z"
   },
   {
    "duration": 19,
    "start_time": "2022-12-29T10:31:47.252Z"
   },
   {
    "duration": 23,
    "start_time": "2022-12-29T10:31:47.273Z"
   },
   {
    "duration": 11,
    "start_time": "2022-12-29T10:31:47.298Z"
   },
   {
    "duration": 19,
    "start_time": "2022-12-29T10:31:47.311Z"
   },
   {
    "duration": 10,
    "start_time": "2022-12-29T10:31:47.335Z"
   },
   {
    "duration": 227,
    "start_time": "2022-12-29T10:31:47.346Z"
   },
   {
    "duration": 7,
    "start_time": "2022-12-29T10:31:47.575Z"
   },
   {
    "duration": 41,
    "start_time": "2022-12-29T10:31:47.583Z"
   },
   {
    "duration": 9,
    "start_time": "2022-12-29T10:31:47.625Z"
   },
   {
    "duration": 16,
    "start_time": "2022-12-29T10:31:47.635Z"
   },
   {
    "duration": 14,
    "start_time": "2022-12-29T10:31:47.652Z"
   },
   {
    "duration": 112,
    "start_time": "2022-12-29T10:31:47.667Z"
   },
   {
    "duration": 3,
    "start_time": "2022-12-29T10:32:52.755Z"
   },
   {
    "duration": 12,
    "start_time": "2022-12-29T10:32:55.162Z"
   },
   {
    "duration": 4,
    "start_time": "2022-12-29T10:33:28.514Z"
   },
   {
    "duration": 14,
    "start_time": "2022-12-29T10:33:30.290Z"
   },
   {
    "duration": 15,
    "start_time": "2022-12-29T10:33:46.021Z"
   },
   {
    "duration": 12,
    "start_time": "2022-12-29T10:36:53.037Z"
   },
   {
    "duration": 51,
    "start_time": "2022-12-29T10:37:04.108Z"
   },
   {
    "duration": 3,
    "start_time": "2022-12-29T10:37:09.254Z"
   },
   {
    "duration": 16,
    "start_time": "2022-12-29T10:37:11.813Z"
   },
   {
    "duration": 1211,
    "start_time": "2022-12-29T10:37:43.398Z"
   },
   {
    "duration": 118,
    "start_time": "2022-12-29T10:37:44.611Z"
   },
   {
    "duration": 16,
    "start_time": "2022-12-29T10:37:44.731Z"
   },
   {
    "duration": 15,
    "start_time": "2022-12-29T10:37:44.750Z"
   },
   {
    "duration": 30,
    "start_time": "2022-12-29T10:37:44.766Z"
   },
   {
    "duration": 19,
    "start_time": "2022-12-29T10:37:44.798Z"
   },
   {
    "duration": 21,
    "start_time": "2022-12-29T10:37:44.819Z"
   },
   {
    "duration": 13,
    "start_time": "2022-12-29T10:37:44.842Z"
   },
   {
    "duration": 22,
    "start_time": "2022-12-29T10:37:44.857Z"
   },
   {
    "duration": 15,
    "start_time": "2022-12-29T10:37:44.882Z"
   },
   {
    "duration": 32,
    "start_time": "2022-12-29T10:37:44.898Z"
   },
   {
    "duration": 30,
    "start_time": "2022-12-29T10:37:44.931Z"
   },
   {
    "duration": 33,
    "start_time": "2022-12-29T10:37:44.963Z"
   },
   {
    "duration": 25,
    "start_time": "2022-12-29T10:37:44.998Z"
   },
   {
    "duration": 20,
    "start_time": "2022-12-29T10:37:45.025Z"
   },
   {
    "duration": 21,
    "start_time": "2022-12-29T10:37:45.047Z"
   },
   {
    "duration": 3,
    "start_time": "2022-12-29T10:37:45.070Z"
   },
   {
    "duration": 23,
    "start_time": "2022-12-29T10:37:45.075Z"
   },
   {
    "duration": 15,
    "start_time": "2022-12-29T10:37:45.100Z"
   },
   {
    "duration": 48,
    "start_time": "2022-12-29T10:37:45.117Z"
   },
   {
    "duration": 16,
    "start_time": "2022-12-29T10:37:45.167Z"
   },
   {
    "duration": 23,
    "start_time": "2022-12-29T10:37:45.185Z"
   },
   {
    "duration": 26,
    "start_time": "2022-12-29T10:37:45.210Z"
   },
   {
    "duration": 20,
    "start_time": "2022-12-29T10:37:45.238Z"
   },
   {
    "duration": 34,
    "start_time": "2022-12-29T10:37:45.260Z"
   },
   {
    "duration": 11,
    "start_time": "2022-12-29T10:37:45.296Z"
   },
   {
    "duration": 73,
    "start_time": "2022-12-29T10:37:45.309Z"
   },
   {
    "duration": 103,
    "start_time": "2022-12-29T10:37:45.388Z"
   },
   {
    "duration": 6,
    "start_time": "2022-12-29T10:37:45.493Z"
   },
   {
    "duration": 34,
    "start_time": "2022-12-29T10:37:45.501Z"
   },
   {
    "duration": 13,
    "start_time": "2022-12-29T10:37:45.537Z"
   },
   {
    "duration": 23,
    "start_time": "2022-12-29T10:37:45.551Z"
   },
   {
    "duration": 31,
    "start_time": "2022-12-29T10:37:45.575Z"
   },
   {
    "duration": 5,
    "start_time": "2022-12-29T10:37:45.608Z"
   },
   {
    "duration": 32,
    "start_time": "2022-12-29T10:37:45.614Z"
   },
   {
    "duration": 8,
    "start_time": "2022-12-29T10:37:45.648Z"
   },
   {
    "duration": 7,
    "start_time": "2022-12-29T10:37:45.658Z"
   },
   {
    "duration": 194,
    "start_time": "2022-12-29T10:37:45.667Z"
   },
   {
    "duration": 5,
    "start_time": "2022-12-29T10:37:45.863Z"
   },
   {
    "duration": 49,
    "start_time": "2022-12-29T10:37:45.870Z"
   },
   {
    "duration": 27,
    "start_time": "2022-12-29T10:37:45.921Z"
   },
   {
    "duration": 197,
    "start_time": "2022-12-29T10:37:45.950Z"
   },
   {
    "duration": 16,
    "start_time": "2022-12-29T10:37:46.149Z"
   },
   {
    "duration": 22,
    "start_time": "2022-12-29T10:37:46.167Z"
   },
   {
    "duration": 12,
    "start_time": "2022-12-29T10:37:46.191Z"
   },
   {
    "duration": 38,
    "start_time": "2022-12-29T10:37:46.205Z"
   },
   {
    "duration": 104,
    "start_time": "2022-12-29T10:37:46.245Z"
   },
   {
    "duration": 14,
    "start_time": "2022-12-29T10:37:46.351Z"
   },
   {
    "duration": 395,
    "start_time": "2022-12-29T10:37:46.367Z"
   },
   {
    "duration": 16,
    "start_time": "2022-12-29T10:37:46.764Z"
   },
   {
    "duration": 20,
    "start_time": "2022-12-29T10:37:46.782Z"
   },
   {
    "duration": 14,
    "start_time": "2022-12-29T10:37:46.803Z"
   },
   {
    "duration": 34,
    "start_time": "2022-12-29T10:37:46.819Z"
   },
   {
    "duration": 21,
    "start_time": "2022-12-29T10:37:46.855Z"
   },
   {
    "duration": 23,
    "start_time": "2022-12-29T10:37:46.878Z"
   },
   {
    "duration": 224,
    "start_time": "2022-12-29T10:37:46.903Z"
   },
   {
    "duration": 189,
    "start_time": "2022-12-29T10:37:47.136Z"
   },
   {
    "duration": 17,
    "start_time": "2022-12-29T10:37:47.327Z"
   },
   {
    "duration": 16,
    "start_time": "2022-12-29T10:37:47.345Z"
   },
   {
    "duration": 29,
    "start_time": "2022-12-29T10:37:47.363Z"
   },
   {
    "duration": 220,
    "start_time": "2022-12-29T10:37:47.393Z"
   },
   {
    "duration": 30,
    "start_time": "2022-12-29T10:37:47.614Z"
   },
   {
    "duration": 14,
    "start_time": "2022-12-29T10:37:47.646Z"
   },
   {
    "duration": 8,
    "start_time": "2022-12-29T10:37:47.662Z"
   },
   {
    "duration": 70,
    "start_time": "2022-12-29T10:37:47.671Z"
   },
   {
    "duration": 237,
    "start_time": "2022-12-29T10:37:47.743Z"
   },
   {
    "duration": 22,
    "start_time": "2022-12-29T10:37:47.982Z"
   },
   {
    "duration": 8,
    "start_time": "2022-12-29T10:37:48.006Z"
   },
   {
    "duration": 33,
    "start_time": "2022-12-29T10:37:48.016Z"
   },
   {
    "duration": 31,
    "start_time": "2022-12-29T10:37:48.050Z"
   },
   {
    "duration": 11,
    "start_time": "2022-12-29T10:37:48.082Z"
   },
   {
    "duration": 32,
    "start_time": "2022-12-29T10:37:48.095Z"
   },
   {
    "duration": 29,
    "start_time": "2022-12-29T10:37:48.129Z"
   },
   {
    "duration": 257,
    "start_time": "2022-12-29T10:37:48.160Z"
   },
   {
    "duration": 18,
    "start_time": "2022-12-29T10:37:48.419Z"
   },
   {
    "duration": 33,
    "start_time": "2022-12-29T10:37:48.439Z"
   },
   {
    "duration": 5,
    "start_time": "2022-12-29T10:37:48.473Z"
   },
   {
    "duration": 71,
    "start_time": "2022-12-29T10:37:48.479Z"
   },
   {
    "duration": 6,
    "start_time": "2022-12-29T10:37:48.552Z"
   },
   {
    "duration": 342,
    "start_time": "2022-12-29T10:37:48.560Z"
   },
   {
    "duration": 654,
    "start_time": "2022-12-29T10:37:48.905Z"
   },
   {
    "duration": 20,
    "start_time": "2022-12-29T10:37:49.565Z"
   },
   {
    "duration": 12,
    "start_time": "2022-12-29T10:37:49.587Z"
   },
   {
    "duration": 59,
    "start_time": "2022-12-29T10:37:49.601Z"
   },
   {
    "duration": 16,
    "start_time": "2022-12-29T10:37:49.662Z"
   },
   {
    "duration": 27,
    "start_time": "2022-12-29T10:37:49.679Z"
   },
   {
    "duration": 38,
    "start_time": "2022-12-29T10:37:49.707Z"
   },
   {
    "duration": 18,
    "start_time": "2022-12-29T10:37:49.747Z"
   },
   {
    "duration": 38,
    "start_time": "2022-12-29T10:37:49.767Z"
   },
   {
    "duration": 35,
    "start_time": "2022-12-29T10:37:49.806Z"
   },
   {
    "duration": 21,
    "start_time": "2022-12-29T10:37:49.843Z"
   },
   {
    "duration": 244,
    "start_time": "2022-12-29T10:37:49.865Z"
   },
   {
    "duration": 9,
    "start_time": "2022-12-29T10:37:50.112Z"
   },
   {
    "duration": 59,
    "start_time": "2022-12-29T10:37:50.136Z"
   },
   {
    "duration": 16,
    "start_time": "2022-12-29T10:37:50.197Z"
   },
   {
    "duration": 26,
    "start_time": "2022-12-29T10:37:50.214Z"
   },
   {
    "duration": 17,
    "start_time": "2022-12-29T10:37:50.241Z"
   },
   {
    "duration": 126,
    "start_time": "2022-12-29T10:37:50.260Z"
   },
   {
    "duration": 241,
    "start_time": "2022-12-29T10:38:06.680Z"
   },
   {
    "duration": 3,
    "start_time": "2022-12-29T10:39:49.192Z"
   },
   {
    "duration": 220,
    "start_time": "2022-12-29T10:39:50.641Z"
   },
   {
    "duration": 309,
    "start_time": "2022-12-29T10:40:04.282Z"
   },
   {
    "duration": 217,
    "start_time": "2022-12-29T10:40:57.554Z"
   },
   {
    "duration": 120,
    "start_time": "2022-12-29T10:47:38.374Z"
   },
   {
    "duration": 13,
    "start_time": "2022-12-29T10:50:00.673Z"
   },
   {
    "duration": 11,
    "start_time": "2022-12-29T10:50:13.825Z"
   },
   {
    "duration": 4,
    "start_time": "2022-12-29T10:51:35.234Z"
   },
   {
    "duration": 12,
    "start_time": "2022-12-29T10:51:40.953Z"
   },
   {
    "duration": 14,
    "start_time": "2022-12-29T10:52:07.642Z"
   },
   {
    "duration": 22,
    "start_time": "2022-12-29T10:52:21.443Z"
   },
   {
    "duration": 18,
    "start_time": "2022-12-29T10:52:39.251Z"
   },
   {
    "duration": 13,
    "start_time": "2022-12-29T10:52:53.306Z"
   },
   {
    "duration": 26,
    "start_time": "2022-12-29T10:53:16.730Z"
   },
   {
    "duration": 1215,
    "start_time": "2022-12-29T10:53:44.372Z"
   },
   {
    "duration": 126,
    "start_time": "2022-12-29T10:53:45.589Z"
   },
   {
    "duration": 14,
    "start_time": "2022-12-29T10:53:45.717Z"
   },
   {
    "duration": 16,
    "start_time": "2022-12-29T10:53:45.736Z"
   },
   {
    "duration": 38,
    "start_time": "2022-12-29T10:53:45.754Z"
   },
   {
    "duration": 19,
    "start_time": "2022-12-29T10:53:45.793Z"
   },
   {
    "duration": 7,
    "start_time": "2022-12-29T10:53:45.813Z"
   },
   {
    "duration": 22,
    "start_time": "2022-12-29T10:53:45.821Z"
   },
   {
    "duration": 22,
    "start_time": "2022-12-29T10:53:45.845Z"
   },
   {
    "duration": 10,
    "start_time": "2022-12-29T10:53:45.869Z"
   },
   {
    "duration": 35,
    "start_time": "2022-12-29T10:53:45.881Z"
   },
   {
    "duration": 29,
    "start_time": "2022-12-29T10:53:45.918Z"
   },
   {
    "duration": 56,
    "start_time": "2022-12-29T10:53:45.949Z"
   },
   {
    "duration": 8,
    "start_time": "2022-12-29T10:53:46.008Z"
   },
   {
    "duration": 20,
    "start_time": "2022-12-29T10:53:46.018Z"
   },
   {
    "duration": 17,
    "start_time": "2022-12-29T10:53:46.040Z"
   },
   {
    "duration": 7,
    "start_time": "2022-12-29T10:53:46.059Z"
   },
   {
    "duration": 31,
    "start_time": "2022-12-29T10:53:46.068Z"
   },
   {
    "duration": 6,
    "start_time": "2022-12-29T10:53:46.100Z"
   },
   {
    "duration": 47,
    "start_time": "2022-12-29T10:53:46.107Z"
   },
   {
    "duration": 16,
    "start_time": "2022-12-29T10:53:46.155Z"
   },
   {
    "duration": 16,
    "start_time": "2022-12-29T10:53:46.172Z"
   },
   {
    "duration": 39,
    "start_time": "2022-12-29T10:53:46.190Z"
   },
   {
    "duration": 17,
    "start_time": "2022-12-29T10:53:46.230Z"
   },
   {
    "duration": 42,
    "start_time": "2022-12-29T10:53:46.249Z"
   },
   {
    "duration": 10,
    "start_time": "2022-12-29T10:53:46.293Z"
   },
   {
    "duration": 67,
    "start_time": "2022-12-29T10:53:46.305Z"
   },
   {
    "duration": 106,
    "start_time": "2022-12-29T10:53:46.376Z"
   },
   {
    "duration": 6,
    "start_time": "2022-12-29T10:53:46.483Z"
   },
   {
    "duration": 30,
    "start_time": "2022-12-29T10:53:46.491Z"
   },
   {
    "duration": 20,
    "start_time": "2022-12-29T10:53:46.524Z"
   },
   {
    "duration": 56,
    "start_time": "2022-12-29T10:53:46.546Z"
   },
   {
    "duration": 29,
    "start_time": "2022-12-29T10:53:46.604Z"
   },
   {
    "duration": 5,
    "start_time": "2022-12-29T10:53:46.635Z"
   },
   {
    "duration": 19,
    "start_time": "2022-12-29T10:53:46.641Z"
   },
   {
    "duration": 13,
    "start_time": "2022-12-29T10:53:46.662Z"
   },
   {
    "duration": 19,
    "start_time": "2022-12-29T10:53:46.677Z"
   },
   {
    "duration": 220,
    "start_time": "2022-12-29T10:53:46.697Z"
   },
   {
    "duration": 6,
    "start_time": "2022-12-29T10:53:46.918Z"
   },
   {
    "duration": 37,
    "start_time": "2022-12-29T10:53:46.935Z"
   },
   {
    "duration": 61,
    "start_time": "2022-12-29T10:53:46.975Z"
   },
   {
    "duration": 188,
    "start_time": "2022-12-29T10:53:47.039Z"
   },
   {
    "duration": 17,
    "start_time": "2022-12-29T10:53:47.229Z"
   },
   {
    "duration": 22,
    "start_time": "2022-12-29T10:53:47.248Z"
   },
   {
    "duration": 13,
    "start_time": "2022-12-29T10:53:47.272Z"
   },
   {
    "duration": 15,
    "start_time": "2022-12-29T10:53:47.286Z"
   },
   {
    "duration": 124,
    "start_time": "2022-12-29T10:53:47.302Z"
   },
   {
    "duration": 14,
    "start_time": "2022-12-29T10:53:47.435Z"
   },
   {
    "duration": 424,
    "start_time": "2022-12-29T10:53:47.451Z"
   },
   {
    "duration": 18,
    "start_time": "2022-12-29T10:53:47.877Z"
   },
   {
    "duration": 32,
    "start_time": "2022-12-29T10:53:47.897Z"
   },
   {
    "duration": 24,
    "start_time": "2022-12-29T10:53:47.931Z"
   },
   {
    "duration": 49,
    "start_time": "2022-12-29T10:53:47.957Z"
   },
   {
    "duration": 71,
    "start_time": "2022-12-29T10:53:48.008Z"
   },
   {
    "duration": 40,
    "start_time": "2022-12-29T10:53:48.081Z"
   },
   {
    "duration": 269,
    "start_time": "2022-12-29T10:53:48.123Z"
   },
   {
    "duration": 196,
    "start_time": "2022-12-29T10:53:48.394Z"
   },
   {
    "duration": 14,
    "start_time": "2022-12-29T10:53:48.592Z"
   },
   {
    "duration": 13,
    "start_time": "2022-12-29T10:53:48.608Z"
   },
   {
    "duration": 41,
    "start_time": "2022-12-29T10:53:48.623Z"
   },
   {
    "duration": 228,
    "start_time": "2022-12-29T10:53:48.666Z"
   },
   {
    "duration": 44,
    "start_time": "2022-12-29T10:53:48.896Z"
   },
   {
    "duration": 17,
    "start_time": "2022-12-29T10:53:48.942Z"
   },
   {
    "duration": 80,
    "start_time": "2022-12-29T10:53:48.961Z"
   },
   {
    "duration": 34,
    "start_time": "2022-12-29T10:53:49.044Z"
   },
   {
    "duration": 267,
    "start_time": "2022-12-29T10:53:49.080Z"
   },
   {
    "duration": 22,
    "start_time": "2022-12-29T10:53:49.349Z"
   },
   {
    "duration": 14,
    "start_time": "2022-12-29T10:53:49.373Z"
   },
   {
    "duration": 35,
    "start_time": "2022-12-29T10:53:49.389Z"
   },
   {
    "duration": 31,
    "start_time": "2022-12-29T10:53:49.426Z"
   },
   {
    "duration": 6,
    "start_time": "2022-12-29T10:53:49.459Z"
   },
   {
    "duration": 33,
    "start_time": "2022-12-29T10:53:49.467Z"
   },
   {
    "duration": 22,
    "start_time": "2022-12-29T10:53:49.502Z"
   },
   {
    "duration": 255,
    "start_time": "2022-12-29T10:53:49.536Z"
   },
   {
    "duration": 14,
    "start_time": "2022-12-29T10:53:49.793Z"
   },
   {
    "duration": 42,
    "start_time": "2022-12-29T10:53:49.809Z"
   },
   {
    "duration": 6,
    "start_time": "2022-12-29T10:53:49.853Z"
   },
   {
    "duration": 87,
    "start_time": "2022-12-29T10:53:49.862Z"
   },
   {
    "duration": 8,
    "start_time": "2022-12-29T10:53:49.951Z"
   },
   {
    "duration": 360,
    "start_time": "2022-12-29T10:53:49.961Z"
   },
   {
    "duration": 621,
    "start_time": "2022-12-29T10:53:50.324Z"
   },
   {
    "duration": 30,
    "start_time": "2022-12-29T10:53:50.954Z"
   },
   {
    "duration": 29,
    "start_time": "2022-12-29T10:53:50.986Z"
   },
   {
    "duration": 62,
    "start_time": "2022-12-29T10:53:51.017Z"
   },
   {
    "duration": 17,
    "start_time": "2022-12-29T10:53:51.081Z"
   },
   {
    "duration": 64,
    "start_time": "2022-12-29T10:53:51.101Z"
   },
   {
    "duration": 17,
    "start_time": "2022-12-29T10:53:51.167Z"
   },
   {
    "duration": 15,
    "start_time": "2022-12-29T10:53:51.186Z"
   },
   {
    "duration": 36,
    "start_time": "2022-12-29T10:53:51.203Z"
   },
   {
    "duration": 16,
    "start_time": "2022-12-29T10:53:51.241Z"
   },
   {
    "duration": 18,
    "start_time": "2022-12-29T10:53:51.259Z"
   },
   {
    "duration": 238,
    "start_time": "2022-12-29T10:53:51.279Z"
   },
   {
    "duration": 19,
    "start_time": "2022-12-29T10:53:51.519Z"
   },
   {
    "duration": 39,
    "start_time": "2022-12-29T10:53:51.539Z"
   },
   {
    "duration": 26,
    "start_time": "2022-12-29T10:53:51.580Z"
   },
   {
    "duration": 33,
    "start_time": "2022-12-29T10:53:51.608Z"
   },
   {
    "duration": 42,
    "start_time": "2022-12-29T10:53:51.642Z"
   },
   {
    "duration": 141,
    "start_time": "2022-12-29T10:53:51.686Z"
   },
   {
    "duration": 238,
    "start_time": "2022-12-29T10:54:05.946Z"
   },
   {
    "duration": 126,
    "start_time": "2022-12-29T10:54:31.497Z"
   },
   {
    "duration": 14,
    "start_time": "2022-12-29T10:54:35.482Z"
   },
   {
    "duration": 1265,
    "start_time": "2022-12-29T10:54:47.648Z"
   },
   {
    "duration": 129,
    "start_time": "2022-12-29T10:54:48.915Z"
   },
   {
    "duration": 23,
    "start_time": "2022-12-29T10:54:49.045Z"
   },
   {
    "duration": 14,
    "start_time": "2022-12-29T10:54:49.071Z"
   },
   {
    "duration": 67,
    "start_time": "2022-12-29T10:54:49.087Z"
   },
   {
    "duration": 23,
    "start_time": "2022-12-29T10:54:49.156Z"
   },
   {
    "duration": 9,
    "start_time": "2022-12-29T10:54:49.181Z"
   },
   {
    "duration": 24,
    "start_time": "2022-12-29T10:54:49.192Z"
   },
   {
    "duration": 21,
    "start_time": "2022-12-29T10:54:49.218Z"
   },
   {
    "duration": 21,
    "start_time": "2022-12-29T10:54:49.242Z"
   },
   {
    "duration": 33,
    "start_time": "2022-12-29T10:54:49.265Z"
   },
   {
    "duration": 38,
    "start_time": "2022-12-29T10:54:49.301Z"
   },
   {
    "duration": 34,
    "start_time": "2022-12-29T10:54:49.341Z"
   },
   {
    "duration": 11,
    "start_time": "2022-12-29T10:54:49.377Z"
   },
   {
    "duration": 18,
    "start_time": "2022-12-29T10:54:49.389Z"
   },
   {
    "duration": 21,
    "start_time": "2022-12-29T10:54:49.409Z"
   },
   {
    "duration": 10,
    "start_time": "2022-12-29T10:54:49.436Z"
   },
   {
    "duration": 52,
    "start_time": "2022-12-29T10:54:49.448Z"
   },
   {
    "duration": 15,
    "start_time": "2022-12-29T10:54:49.501Z"
   },
   {
    "duration": 54,
    "start_time": "2022-12-29T10:54:49.517Z"
   },
   {
    "duration": 16,
    "start_time": "2022-12-29T10:54:49.573Z"
   },
   {
    "duration": 30,
    "start_time": "2022-12-29T10:54:49.591Z"
   },
   {
    "duration": 26,
    "start_time": "2022-12-29T10:54:49.623Z"
   },
   {
    "duration": 15,
    "start_time": "2022-12-29T10:54:49.651Z"
   },
   {
    "duration": 44,
    "start_time": "2022-12-29T10:54:49.668Z"
   },
   {
    "duration": 13,
    "start_time": "2022-12-29T10:54:49.714Z"
   },
   {
    "duration": 66,
    "start_time": "2022-12-29T10:54:49.729Z"
   },
   {
    "duration": 113,
    "start_time": "2022-12-29T10:54:49.799Z"
   },
   {
    "duration": 7,
    "start_time": "2022-12-29T10:54:49.914Z"
   },
   {
    "duration": 26,
    "start_time": "2022-12-29T10:54:49.923Z"
   },
   {
    "duration": 14,
    "start_time": "2022-12-29T10:54:49.951Z"
   },
   {
    "duration": 16,
    "start_time": "2022-12-29T10:54:49.967Z"
   },
   {
    "duration": 39,
    "start_time": "2022-12-29T10:54:49.985Z"
   },
   {
    "duration": 11,
    "start_time": "2022-12-29T10:54:50.026Z"
   },
   {
    "duration": 18,
    "start_time": "2022-12-29T10:54:50.039Z"
   },
   {
    "duration": 18,
    "start_time": "2022-12-29T10:54:50.059Z"
   },
   {
    "duration": 8,
    "start_time": "2022-12-29T10:54:50.079Z"
   },
   {
    "duration": 199,
    "start_time": "2022-12-29T10:54:50.089Z"
   },
   {
    "duration": 6,
    "start_time": "2022-12-29T10:54:50.290Z"
   },
   {
    "duration": 48,
    "start_time": "2022-12-29T10:54:50.298Z"
   },
   {
    "duration": 29,
    "start_time": "2022-12-29T10:54:50.348Z"
   },
   {
    "duration": 197,
    "start_time": "2022-12-29T10:54:50.379Z"
   },
   {
    "duration": 15,
    "start_time": "2022-12-29T10:54:50.578Z"
   },
   {
    "duration": 23,
    "start_time": "2022-12-29T10:54:50.595Z"
   },
   {
    "duration": 24,
    "start_time": "2022-12-29T10:54:50.620Z"
   },
   {
    "duration": 15,
    "start_time": "2022-12-29T10:54:50.645Z"
   },
   {
    "duration": 110,
    "start_time": "2022-12-29T10:54:50.662Z"
   },
   {
    "duration": 14,
    "start_time": "2022-12-29T10:54:50.774Z"
   },
   {
    "duration": 379,
    "start_time": "2022-12-29T10:54:50.790Z"
   },
   {
    "duration": 16,
    "start_time": "2022-12-29T10:54:51.171Z"
   },
   {
    "duration": 10,
    "start_time": "2022-12-29T10:54:51.188Z"
   },
   {
    "duration": 19,
    "start_time": "2022-12-29T10:54:51.200Z"
   },
   {
    "duration": 26,
    "start_time": "2022-12-29T10:54:51.221Z"
   },
   {
    "duration": 18,
    "start_time": "2022-12-29T10:54:51.249Z"
   },
   {
    "duration": 24,
    "start_time": "2022-12-29T10:54:51.269Z"
   },
   {
    "duration": 232,
    "start_time": "2022-12-29T10:54:51.295Z"
   },
   {
    "duration": 189,
    "start_time": "2022-12-29T10:54:51.535Z"
   },
   {
    "duration": 20,
    "start_time": "2022-12-29T10:54:51.726Z"
   },
   {
    "duration": 7,
    "start_time": "2022-12-29T10:54:51.748Z"
   },
   {
    "duration": 19,
    "start_time": "2022-12-29T10:54:51.757Z"
   },
   {
    "duration": 261,
    "start_time": "2022-12-29T10:54:51.777Z"
   },
   {
    "duration": 22,
    "start_time": "2022-12-29T10:54:52.040Z"
   },
   {
    "duration": 87,
    "start_time": "2022-12-29T10:54:52.064Z"
   },
   {
    "duration": 8,
    "start_time": "2022-12-29T10:54:52.153Z"
   },
   {
    "duration": 27,
    "start_time": "2022-12-29T10:54:52.164Z"
   },
   {
    "duration": 272,
    "start_time": "2022-12-29T10:54:52.193Z"
   },
   {
    "duration": 27,
    "start_time": "2022-12-29T10:54:52.468Z"
   },
   {
    "duration": 6,
    "start_time": "2022-12-29T10:54:52.498Z"
   },
   {
    "duration": 53,
    "start_time": "2022-12-29T10:54:52.506Z"
   },
   {
    "duration": 63,
    "start_time": "2022-12-29T10:54:52.561Z"
   },
   {
    "duration": 10,
    "start_time": "2022-12-29T10:54:52.626Z"
   },
   {
    "duration": 32,
    "start_time": "2022-12-29T10:54:52.638Z"
   },
   {
    "duration": 24,
    "start_time": "2022-12-29T10:54:52.671Z"
   },
   {
    "duration": 241,
    "start_time": "2022-12-29T10:54:52.696Z"
   },
   {
    "duration": 15,
    "start_time": "2022-12-29T10:54:52.938Z"
   },
   {
    "duration": 44,
    "start_time": "2022-12-29T10:54:52.955Z"
   },
   {
    "duration": 9,
    "start_time": "2022-12-29T10:54:53.001Z"
   },
   {
    "duration": 84,
    "start_time": "2022-12-29T10:54:53.011Z"
   },
   {
    "duration": 6,
    "start_time": "2022-12-29T10:54:53.097Z"
   },
   {
    "duration": 338,
    "start_time": "2022-12-29T10:54:53.105Z"
   },
   {
    "duration": 604,
    "start_time": "2022-12-29T10:54:53.445Z"
   },
   {
    "duration": 25,
    "start_time": "2022-12-29T10:54:54.057Z"
   },
   {
    "duration": 29,
    "start_time": "2022-12-29T10:54:54.084Z"
   },
   {
    "duration": 49,
    "start_time": "2022-12-29T10:54:54.115Z"
   },
   {
    "duration": 16,
    "start_time": "2022-12-29T10:54:54.166Z"
   },
   {
    "duration": 25,
    "start_time": "2022-12-29T10:54:54.184Z"
   },
   {
    "duration": 39,
    "start_time": "2022-12-29T10:54:54.211Z"
   },
   {
    "duration": 3,
    "start_time": "2022-12-29T10:54:54.252Z"
   },
   {
    "duration": 27,
    "start_time": "2022-12-29T10:54:54.256Z"
   },
   {
    "duration": 28,
    "start_time": "2022-12-29T10:54:54.285Z"
   },
   {
    "duration": 33,
    "start_time": "2022-12-29T10:54:54.315Z"
   },
   {
    "duration": 233,
    "start_time": "2022-12-29T10:54:54.350Z"
   },
   {
    "duration": 13,
    "start_time": "2022-12-29T10:54:54.586Z"
   },
   {
    "duration": 40,
    "start_time": "2022-12-29T10:54:54.601Z"
   },
   {
    "duration": 9,
    "start_time": "2022-12-29T10:54:54.644Z"
   },
   {
    "duration": 29,
    "start_time": "2022-12-29T10:54:54.655Z"
   },
   {
    "duration": 16,
    "start_time": "2022-12-29T10:54:54.686Z"
   },
   {
    "duration": 145,
    "start_time": "2022-12-29T10:54:54.704Z"
   },
   {
    "duration": 223,
    "start_time": "2022-12-29T10:55:08.359Z"
   },
   {
    "duration": 17,
    "start_time": "2022-12-29T10:56:52.145Z"
   },
   {
    "duration": 237,
    "start_time": "2022-12-29T10:56:57.198Z"
   },
   {
    "duration": 18,
    "start_time": "2022-12-29T10:57:05.138Z"
   },
   {
    "duration": 9,
    "start_time": "2022-12-29T10:57:40.081Z"
   },
   {
    "duration": 8,
    "start_time": "2022-12-29T10:57:42.264Z"
   },
   {
    "duration": 275,
    "start_time": "2022-12-29T10:57:45.316Z"
   },
   {
    "duration": 14,
    "start_time": "2022-12-29T10:59:44.501Z"
   },
   {
    "duration": 224,
    "start_time": "2022-12-29T10:59:47.346Z"
   },
   {
    "duration": 280,
    "start_time": "2022-12-29T11:03:42.934Z"
   },
   {
    "duration": 23,
    "start_time": "2022-12-29T11:13:42.599Z"
   },
   {
    "duration": 298,
    "start_time": "2022-12-29T12:21:02.017Z"
   },
   {
    "duration": 278,
    "start_time": "2022-12-29T12:21:31.993Z"
   },
   {
    "duration": 13,
    "start_time": "2022-12-29T13:30:47.247Z"
   },
   {
    "duration": 12,
    "start_time": "2022-12-29T13:30:52.551Z"
   },
   {
    "duration": 44,
    "start_time": "2022-12-30T02:18:21.865Z"
   },
   {
    "duration": 1394,
    "start_time": "2022-12-30T02:18:39.964Z"
   },
   {
    "duration": 450,
    "start_time": "2022-12-30T02:18:41.360Z"
   },
   {
    "duration": 15,
    "start_time": "2022-12-30T02:18:41.812Z"
   },
   {
    "duration": 10,
    "start_time": "2022-12-30T02:18:41.829Z"
   },
   {
    "duration": 26,
    "start_time": "2022-12-30T02:18:41.841Z"
   },
   {
    "duration": 53,
    "start_time": "2022-12-30T02:18:41.869Z"
   },
   {
    "duration": 6,
    "start_time": "2022-12-30T02:18:41.924Z"
   },
   {
    "duration": 14,
    "start_time": "2022-12-30T02:18:41.932Z"
   },
   {
    "duration": 14,
    "start_time": "2022-12-30T02:18:41.948Z"
   },
   {
    "duration": 11,
    "start_time": "2022-12-30T02:18:41.965Z"
   },
   {
    "duration": 23,
    "start_time": "2022-12-30T02:18:41.978Z"
   },
   {
    "duration": 26,
    "start_time": "2022-12-30T02:18:42.004Z"
   },
   {
    "duration": 23,
    "start_time": "2022-12-30T02:18:42.032Z"
   },
   {
    "duration": 8,
    "start_time": "2022-12-30T02:18:42.057Z"
   },
   {
    "duration": 7,
    "start_time": "2022-12-30T02:18:42.067Z"
   },
   {
    "duration": 40,
    "start_time": "2022-12-30T02:18:42.076Z"
   },
   {
    "duration": 3,
    "start_time": "2022-12-30T02:18:42.117Z"
   },
   {
    "duration": 20,
    "start_time": "2022-12-30T02:18:42.121Z"
   },
   {
    "duration": 7,
    "start_time": "2022-12-30T02:18:42.143Z"
   },
   {
    "duration": 72,
    "start_time": "2022-12-30T02:18:42.152Z"
   },
   {
    "duration": 18,
    "start_time": "2022-12-30T02:18:42.227Z"
   },
   {
    "duration": 13,
    "start_time": "2022-12-30T02:18:42.247Z"
   },
   {
    "duration": 25,
    "start_time": "2022-12-30T02:18:42.261Z"
   },
   {
    "duration": 11,
    "start_time": "2022-12-30T02:18:42.288Z"
   },
   {
    "duration": 25,
    "start_time": "2022-12-30T02:18:42.312Z"
   },
   {
    "duration": 10,
    "start_time": "2022-12-30T02:18:42.339Z"
   },
   {
    "duration": 66,
    "start_time": "2022-12-30T02:18:42.350Z"
   },
   {
    "duration": 97,
    "start_time": "2022-12-30T02:18:42.421Z"
   },
   {
    "duration": 6,
    "start_time": "2022-12-30T02:18:42.520Z"
   },
   {
    "duration": 17,
    "start_time": "2022-12-30T02:18:42.528Z"
   },
   {
    "duration": 12,
    "start_time": "2022-12-30T02:18:42.546Z"
   },
   {
    "duration": 13,
    "start_time": "2022-12-30T02:18:42.560Z"
   },
   {
    "duration": 51,
    "start_time": "2022-12-30T02:18:42.576Z"
   },
   {
    "duration": 5,
    "start_time": "2022-12-30T02:18:42.629Z"
   },
   {
    "duration": 13,
    "start_time": "2022-12-30T02:18:42.636Z"
   },
   {
    "duration": 4,
    "start_time": "2022-12-30T02:18:42.651Z"
   },
   {
    "duration": 6,
    "start_time": "2022-12-30T02:18:42.657Z"
   },
   {
    "duration": 249,
    "start_time": "2022-12-30T02:18:42.665Z"
   },
   {
    "duration": 5,
    "start_time": "2022-12-30T02:18:42.916Z"
   },
   {
    "duration": 34,
    "start_time": "2022-12-30T02:18:42.923Z"
   },
   {
    "duration": 24,
    "start_time": "2022-12-30T02:18:42.958Z"
   },
   {
    "duration": 183,
    "start_time": "2022-12-30T02:18:42.983Z"
   },
   {
    "duration": 18,
    "start_time": "2022-12-30T02:18:43.167Z"
   },
   {
    "duration": 34,
    "start_time": "2022-12-30T02:18:43.188Z"
   },
   {
    "duration": 12,
    "start_time": "2022-12-30T02:18:43.224Z"
   },
   {
    "duration": 14,
    "start_time": "2022-12-30T02:18:43.237Z"
   },
   {
    "duration": 107,
    "start_time": "2022-12-30T02:18:43.253Z"
   },
   {
    "duration": 13,
    "start_time": "2022-12-30T02:18:43.362Z"
   },
   {
    "duration": 333,
    "start_time": "2022-12-30T02:18:43.377Z"
   },
   {
    "duration": 14,
    "start_time": "2022-12-30T02:18:43.712Z"
   },
   {
    "duration": 9,
    "start_time": "2022-12-30T02:18:43.728Z"
   },
   {
    "duration": 9,
    "start_time": "2022-12-30T02:18:43.739Z"
   },
   {
    "duration": 18,
    "start_time": "2022-12-30T02:18:43.750Z"
   },
   {
    "duration": 15,
    "start_time": "2022-12-30T02:18:43.770Z"
   },
   {
    "duration": 36,
    "start_time": "2022-12-30T02:18:43.787Z"
   },
   {
    "duration": 200,
    "start_time": "2022-12-30T02:18:43.824Z"
   },
   {
    "duration": 258,
    "start_time": "2022-12-30T02:18:44.025Z"
   },
   {
    "duration": 12,
    "start_time": "2022-12-30T02:18:44.285Z"
   },
   {
    "duration": 20,
    "start_time": "2022-12-30T02:18:44.299Z"
   },
   {
    "duration": 12,
    "start_time": "2022-12-30T02:18:44.321Z"
   },
   {
    "duration": 157,
    "start_time": "2022-12-30T02:18:44.335Z"
   },
   {
    "duration": 19,
    "start_time": "2022-12-30T02:18:44.494Z"
   },
   {
    "duration": 19,
    "start_time": "2022-12-30T02:18:44.515Z"
   },
   {
    "duration": 7,
    "start_time": "2022-12-30T02:18:44.536Z"
   },
   {
    "duration": 13,
    "start_time": "2022-12-30T02:18:44.545Z"
   },
   {
    "duration": 226,
    "start_time": "2022-12-30T02:18:44.612Z"
   },
   {
    "duration": 21,
    "start_time": "2022-12-30T02:18:44.840Z"
   },
   {
    "duration": 6,
    "start_time": "2022-12-30T02:18:44.862Z"
   },
   {
    "duration": 43,
    "start_time": "2022-12-30T02:18:44.870Z"
   },
   {
    "duration": 27,
    "start_time": "2022-12-30T02:18:44.915Z"
   },
   {
    "duration": 5,
    "start_time": "2022-12-30T02:18:44.944Z"
   },
   {
    "duration": 20,
    "start_time": "2022-12-30T02:18:44.950Z"
   },
   {
    "duration": 15,
    "start_time": "2022-12-30T02:18:44.974Z"
   },
   {
    "duration": 231,
    "start_time": "2022-12-30T02:18:44.991Z"
   },
   {
    "duration": 16,
    "start_time": "2022-12-30T02:18:45.223Z"
   },
   {
    "duration": 25,
    "start_time": "2022-12-30T02:18:45.241Z"
   },
   {
    "duration": 4,
    "start_time": "2022-12-30T02:18:45.268Z"
   },
   {
    "duration": 88,
    "start_time": "2022-12-30T02:18:45.274Z"
   },
   {
    "duration": 8,
    "start_time": "2022-12-30T02:18:45.364Z"
   },
   {
    "duration": 312,
    "start_time": "2022-12-30T02:18:45.374Z"
   },
   {
    "duration": 538,
    "start_time": "2022-12-30T02:18:45.688Z"
   },
   {
    "duration": 19,
    "start_time": "2022-12-30T02:18:46.231Z"
   },
   {
    "duration": 18,
    "start_time": "2022-12-30T02:18:46.251Z"
   },
   {
    "duration": 57,
    "start_time": "2022-12-30T02:18:46.271Z"
   },
   {
    "duration": 22,
    "start_time": "2022-12-30T02:18:46.331Z"
   },
   {
    "duration": 30,
    "start_time": "2022-12-30T02:18:46.354Z"
   },
   {
    "duration": 43,
    "start_time": "2022-12-30T02:18:46.387Z"
   },
   {
    "duration": 15,
    "start_time": "2022-12-30T02:18:46.431Z"
   },
   {
    "duration": 24,
    "start_time": "2022-12-30T02:18:46.447Z"
   },
   {
    "duration": 16,
    "start_time": "2022-12-30T02:18:46.472Z"
   },
   {
    "duration": 14,
    "start_time": "2022-12-30T02:18:46.490Z"
   },
   {
    "duration": 214,
    "start_time": "2022-12-30T02:18:46.506Z"
   },
   {
    "duration": 14,
    "start_time": "2022-12-30T02:18:46.721Z"
   },
   {
    "duration": 8,
    "start_time": "2022-12-30T02:18:46.736Z"
   },
   {
    "duration": 10,
    "start_time": "2022-12-30T02:18:46.745Z"
   },
   {
    "duration": 11,
    "start_time": "2022-12-30T02:18:46.757Z"
   },
   {
    "duration": 110,
    "start_time": "2022-12-30T02:18:46.770Z"
   },
   {
    "duration": 5,
    "start_time": "2022-12-30T02:19:02.661Z"
   },
   {
    "duration": 142,
    "start_time": "2022-12-30T02:19:02.668Z"
   },
   {
    "duration": 11,
    "start_time": "2022-12-30T02:19:02.812Z"
   },
   {
    "duration": 11,
    "start_time": "2022-12-30T02:19:02.824Z"
   },
   {
    "duration": 24,
    "start_time": "2022-12-30T02:19:02.838Z"
   },
   {
    "duration": 18,
    "start_time": "2022-12-30T02:19:02.864Z"
   },
   {
    "duration": 7,
    "start_time": "2022-12-30T02:19:02.884Z"
   },
   {
    "duration": 7,
    "start_time": "2022-12-30T02:19:02.913Z"
   },
   {
    "duration": 12,
    "start_time": "2022-12-30T02:19:02.922Z"
   },
   {
    "duration": 9,
    "start_time": "2022-12-30T02:19:02.936Z"
   },
   {
    "duration": 126,
    "start_time": "2022-12-30T02:19:02.948Z"
   },
   {
    "duration": 40,
    "start_time": "2022-12-30T02:19:03.075Z"
   },
   {
    "duration": 25,
    "start_time": "2022-12-30T02:19:03.116Z"
   },
   {
    "duration": 9,
    "start_time": "2022-12-30T02:19:03.143Z"
   },
   {
    "duration": 6,
    "start_time": "2022-12-30T02:19:03.154Z"
   },
   {
    "duration": 19,
    "start_time": "2022-12-30T02:19:03.162Z"
   },
   {
    "duration": 3,
    "start_time": "2022-12-30T02:19:03.212Z"
   },
   {
    "duration": 20,
    "start_time": "2022-12-30T02:19:03.216Z"
   },
   {
    "duration": 5,
    "start_time": "2022-12-30T02:19:03.237Z"
   },
   {
    "duration": 32,
    "start_time": "2022-12-30T02:19:03.244Z"
   },
   {
    "duration": 44,
    "start_time": "2022-12-30T02:19:03.278Z"
   },
   {
    "duration": 6,
    "start_time": "2022-12-30T02:19:03.324Z"
   },
   {
    "duration": 25,
    "start_time": "2022-12-30T02:19:03.331Z"
   },
   {
    "duration": 9,
    "start_time": "2022-12-30T02:19:03.357Z"
   },
   {
    "duration": 57,
    "start_time": "2022-12-30T02:19:03.368Z"
   },
   {
    "duration": 10,
    "start_time": "2022-12-30T02:19:03.426Z"
   },
   {
    "duration": 42,
    "start_time": "2022-12-30T02:19:03.438Z"
   },
   {
    "duration": 93,
    "start_time": "2022-12-30T02:19:03.482Z"
   },
   {
    "duration": 5,
    "start_time": "2022-12-30T02:19:03.579Z"
   },
   {
    "duration": 36,
    "start_time": "2022-12-30T02:19:03.586Z"
   },
   {
    "duration": 11,
    "start_time": "2022-12-30T02:19:03.624Z"
   },
   {
    "duration": 19,
    "start_time": "2022-12-30T02:19:03.637Z"
   },
   {
    "duration": 15,
    "start_time": "2022-12-30T02:19:03.657Z"
   },
   {
    "duration": 6,
    "start_time": "2022-12-30T02:19:03.674Z"
   },
   {
    "duration": 37,
    "start_time": "2022-12-30T02:19:03.682Z"
   },
   {
    "duration": 6,
    "start_time": "2022-12-30T02:19:03.721Z"
   },
   {
    "duration": 7,
    "start_time": "2022-12-30T02:19:03.728Z"
   },
   {
    "duration": 223,
    "start_time": "2022-12-30T02:19:03.736Z"
   },
   {
    "duration": 5,
    "start_time": "2022-12-30T02:19:03.961Z"
   },
   {
    "duration": 31,
    "start_time": "2022-12-30T02:19:03.968Z"
   },
   {
    "duration": 25,
    "start_time": "2022-12-30T02:19:04.011Z"
   },
   {
    "duration": 182,
    "start_time": "2022-12-30T02:19:04.037Z"
   },
   {
    "duration": 14,
    "start_time": "2022-12-30T02:19:04.221Z"
   },
   {
    "duration": 19,
    "start_time": "2022-12-30T02:19:04.236Z"
   },
   {
    "duration": 12,
    "start_time": "2022-12-30T02:19:04.257Z"
   },
   {
    "duration": 44,
    "start_time": "2022-12-30T02:19:04.271Z"
   },
   {
    "duration": 97,
    "start_time": "2022-12-30T02:19:04.316Z"
   },
   {
    "duration": 14,
    "start_time": "2022-12-30T02:19:04.416Z"
   },
   {
    "duration": 262,
    "start_time": "2022-12-30T02:19:04.432Z"
   },
   {
    "duration": 24,
    "start_time": "2022-12-30T02:19:04.696Z"
   },
   {
    "duration": 16,
    "start_time": "2022-12-30T02:19:04.722Z"
   },
   {
    "duration": 7,
    "start_time": "2022-12-30T02:19:04.740Z"
   },
   {
    "duration": 18,
    "start_time": "2022-12-30T02:19:04.749Z"
   },
   {
    "duration": 16,
    "start_time": "2022-12-30T02:19:04.769Z"
   },
   {
    "duration": 27,
    "start_time": "2022-12-30T02:19:04.787Z"
   },
   {
    "duration": 210,
    "start_time": "2022-12-30T02:19:04.816Z"
   },
   {
    "duration": 178,
    "start_time": "2022-12-30T02:19:05.028Z"
   },
   {
    "duration": 12,
    "start_time": "2022-12-30T02:19:05.211Z"
   },
   {
    "duration": 8,
    "start_time": "2022-12-30T02:19:05.225Z"
   },
   {
    "duration": 6,
    "start_time": "2022-12-30T02:19:05.235Z"
   },
   {
    "duration": 13,
    "start_time": "2022-12-30T02:19:05.243Z"
   },
   {
    "duration": 15,
    "start_time": "2022-12-30T02:19:05.258Z"
   },
   {
    "duration": 46,
    "start_time": "2022-12-30T02:19:05.275Z"
   },
   {
    "duration": 7,
    "start_time": "2022-12-30T02:19:05.323Z"
   },
   {
    "duration": 14,
    "start_time": "2022-12-30T02:19:05.332Z"
   },
   {
    "duration": 201,
    "start_time": "2022-12-30T02:19:05.348Z"
   },
   {
    "duration": 21,
    "start_time": "2022-12-30T02:19:05.551Z"
   },
   {
    "duration": 4,
    "start_time": "2022-12-30T02:19:05.573Z"
   },
   {
    "duration": 34,
    "start_time": "2022-12-30T02:19:05.579Z"
   },
   {
    "duration": 18,
    "start_time": "2022-12-30T02:19:05.615Z"
   },
   {
    "duration": 4,
    "start_time": "2022-12-30T02:19:05.635Z"
   },
   {
    "duration": 19,
    "start_time": "2022-12-30T02:19:05.640Z"
   },
   {
    "duration": 19,
    "start_time": "2022-12-30T02:19:05.660Z"
   },
   {
    "duration": 240,
    "start_time": "2022-12-30T02:19:05.681Z"
   },
   {
    "duration": 13,
    "start_time": "2022-12-30T02:19:05.922Z"
   },
   {
    "duration": 25,
    "start_time": "2022-12-30T02:19:05.937Z"
   },
   {
    "duration": 16,
    "start_time": "2022-12-30T02:19:05.964Z"
   },
   {
    "duration": 72,
    "start_time": "2022-12-30T02:19:05.981Z"
   },
   {
    "duration": 6,
    "start_time": "2022-12-30T02:19:06.054Z"
   },
   {
    "duration": 310,
    "start_time": "2022-12-30T02:19:06.062Z"
   },
   {
    "duration": 628,
    "start_time": "2022-12-30T02:19:06.374Z"
   },
   {
    "duration": 22,
    "start_time": "2022-12-30T02:19:07.004Z"
   },
   {
    "duration": 13,
    "start_time": "2022-12-30T02:19:07.031Z"
   },
   {
    "duration": 46,
    "start_time": "2022-12-30T02:19:07.046Z"
   },
   {
    "duration": 22,
    "start_time": "2022-12-30T02:19:07.113Z"
   },
   {
    "duration": 25,
    "start_time": "2022-12-30T02:19:07.137Z"
   },
   {
    "duration": 15,
    "start_time": "2022-12-30T02:19:07.163Z"
   },
   {
    "duration": 32,
    "start_time": "2022-12-30T02:19:07.180Z"
   },
   {
    "duration": 18,
    "start_time": "2022-12-30T02:19:07.214Z"
   },
   {
    "duration": 21,
    "start_time": "2022-12-30T02:19:07.234Z"
   },
   {
    "duration": 33,
    "start_time": "2022-12-30T02:19:07.257Z"
   },
   {
    "duration": 207,
    "start_time": "2022-12-30T02:19:07.292Z"
   },
   {
    "duration": 19,
    "start_time": "2022-12-30T02:19:07.500Z"
   },
   {
    "duration": 7,
    "start_time": "2022-12-30T02:19:07.521Z"
   },
   {
    "duration": 10,
    "start_time": "2022-12-30T02:19:07.529Z"
   },
   {
    "duration": 9,
    "start_time": "2022-12-30T02:19:07.541Z"
   },
   {
    "duration": 121,
    "start_time": "2022-12-30T02:19:07.552Z"
   },
   {
    "duration": 11,
    "start_time": "2022-12-30T02:23:17.370Z"
   },
   {
    "duration": 244,
    "start_time": "2022-12-30T02:23:31.811Z"
   },
   {
    "duration": 56492,
    "start_time": "2022-12-30T02:23:53.140Z"
   },
   {
    "duration": 58074,
    "start_time": "2022-12-30T02:24:59.740Z"
   },
   {
    "duration": 7,
    "start_time": "2022-12-30T02:37:58.302Z"
   },
   {
    "duration": 16,
    "start_time": "2022-12-30T02:38:21.016Z"
   },
   {
    "duration": 298,
    "start_time": "2022-12-30T02:38:34.511Z"
   },
   {
    "duration": 275,
    "start_time": "2022-12-30T02:39:32.960Z"
   },
   {
    "duration": 286,
    "start_time": "2022-12-30T02:40:00.657Z"
   },
   {
    "duration": 289,
    "start_time": "2022-12-30T02:40:59.593Z"
   },
   {
    "duration": 289,
    "start_time": "2022-12-30T02:41:43.577Z"
   },
   {
    "duration": 299,
    "start_time": "2022-12-30T02:42:03.210Z"
   },
   {
    "duration": 286,
    "start_time": "2022-12-30T02:42:32.234Z"
   },
   {
    "duration": 284,
    "start_time": "2022-12-30T02:42:38.721Z"
   },
   {
    "duration": 275,
    "start_time": "2022-12-30T02:42:47.298Z"
   },
   {
    "duration": 326,
    "start_time": "2022-12-30T02:42:56.073Z"
   },
   {
    "duration": 299,
    "start_time": "2022-12-30T02:44:57.852Z"
   },
   {
    "duration": 288,
    "start_time": "2022-12-30T02:49:15.888Z"
   },
   {
    "duration": 304,
    "start_time": "2022-12-30T02:49:34.687Z"
   },
   {
    "duration": 283,
    "start_time": "2022-12-30T02:49:43.295Z"
   },
   {
    "duration": 9,
    "start_time": "2022-12-30T02:50:07.487Z"
   },
   {
    "duration": 12,
    "start_time": "2022-12-30T02:50:28.880Z"
   },
   {
    "duration": 15,
    "start_time": "2022-12-30T02:50:49.320Z"
   },
   {
    "duration": 54,
    "start_time": "2022-12-30T02:51:26.105Z"
   },
   {
    "duration": 11,
    "start_time": "2022-12-30T02:51:57.601Z"
   },
   {
    "duration": 10,
    "start_time": "2022-12-30T02:52:03.154Z"
   },
   {
    "duration": 12,
    "start_time": "2022-12-30T02:52:09.161Z"
   },
   {
    "duration": 12,
    "start_time": "2022-12-30T02:52:29.611Z"
   },
   {
    "duration": 12,
    "start_time": "2022-12-30T02:55:08.684Z"
   },
   {
    "duration": 12,
    "start_time": "2022-12-30T02:56:04.381Z"
   },
   {
    "duration": 9,
    "start_time": "2022-12-30T02:56:13.540Z"
   },
   {
    "duration": 10,
    "start_time": "2022-12-30T02:56:23.333Z"
   },
   {
    "duration": 10,
    "start_time": "2022-12-30T02:56:51.829Z"
   },
   {
    "duration": 14,
    "start_time": "2022-12-30T02:57:14.192Z"
   },
   {
    "duration": 51,
    "start_time": "2022-12-30T02:57:46.055Z"
   },
   {
    "duration": 5,
    "start_time": "2022-12-30T02:57:51.646Z"
   },
   {
    "duration": 25,
    "start_time": "2022-12-30T03:01:00.042Z"
   },
   {
    "duration": 9,
    "start_time": "2022-12-30T03:02:11.575Z"
   },
   {
    "duration": 9,
    "start_time": "2022-12-30T03:02:38.184Z"
   },
   {
    "duration": 5,
    "start_time": "2022-12-30T03:02:39.688Z"
   },
   {
    "duration": 421,
    "start_time": "2022-12-30T03:04:14.987Z"
   },
   {
    "duration": 371,
    "start_time": "2022-12-30T03:04:24.171Z"
   },
   {
    "duration": 17,
    "start_time": "2022-12-30T03:07:10.005Z"
   },
   {
    "duration": 16,
    "start_time": "2022-12-30T03:07:54.349Z"
   },
   {
    "duration": 429,
    "start_time": "2022-12-30T03:14:36.074Z"
   },
   {
    "duration": 412,
    "start_time": "2022-12-30T03:14:52.291Z"
   },
   {
    "duration": 368,
    "start_time": "2022-12-30T03:14:58.385Z"
   },
   {
    "duration": 5,
    "start_time": "2022-12-30T03:16:14.388Z"
   },
   {
    "duration": 28,
    "start_time": "2022-12-30T03:16:19.666Z"
   },
   {
    "duration": 6,
    "start_time": "2022-12-30T03:20:24.823Z"
   },
   {
    "duration": 5,
    "start_time": "2022-12-30T03:21:02.975Z"
   },
   {
    "duration": 60,
    "start_time": "2022-12-30T03:21:45.607Z"
   },
   {
    "duration": 5,
    "start_time": "2022-12-30T03:21:55.271Z"
   },
   {
    "duration": 4,
    "start_time": "2022-12-30T03:21:59.295Z"
   },
   {
    "duration": 4,
    "start_time": "2022-12-30T03:27:43.189Z"
   },
   {
    "duration": 11,
    "start_time": "2022-12-30T03:27:53.171Z"
   },
   {
    "duration": 10,
    "start_time": "2022-12-30T03:28:05.324Z"
   },
   {
    "duration": 8,
    "start_time": "2022-12-30T03:28:11.299Z"
   },
   {
    "duration": 6,
    "start_time": "2022-12-30T03:29:05.939Z"
   },
   {
    "duration": 300,
    "start_time": "2022-12-30T03:29:05.947Z"
   },
   {
    "duration": 10,
    "start_time": "2022-12-30T03:29:06.249Z"
   },
   {
    "duration": 7,
    "start_time": "2022-12-30T03:29:06.261Z"
   },
   {
    "duration": 43,
    "start_time": "2022-12-30T03:29:06.270Z"
   },
   {
    "duration": 19,
    "start_time": "2022-12-30T03:29:06.316Z"
   },
   {
    "duration": 10,
    "start_time": "2022-12-30T03:29:06.337Z"
   },
   {
    "duration": 25,
    "start_time": "2022-12-30T03:29:06.349Z"
   },
   {
    "duration": 22,
    "start_time": "2022-12-30T03:29:06.376Z"
   },
   {
    "duration": 28,
    "start_time": "2022-12-30T03:29:06.400Z"
   },
   {
    "duration": 27,
    "start_time": "2022-12-30T03:29:06.431Z"
   },
   {
    "duration": 17,
    "start_time": "2022-12-30T03:29:06.459Z"
   },
   {
    "duration": 22,
    "start_time": "2022-12-30T03:29:06.478Z"
   },
   {
    "duration": 15,
    "start_time": "2022-12-30T03:29:06.502Z"
   },
   {
    "duration": 6,
    "start_time": "2022-12-30T03:29:06.518Z"
   },
   {
    "duration": 11,
    "start_time": "2022-12-30T03:29:06.526Z"
   },
   {
    "duration": 2,
    "start_time": "2022-12-30T03:29:06.538Z"
   },
   {
    "duration": 15,
    "start_time": "2022-12-30T03:29:06.542Z"
   },
   {
    "duration": 5,
    "start_time": "2022-12-30T03:29:06.559Z"
   },
   {
    "duration": 71,
    "start_time": "2022-12-30T03:29:06.566Z"
   },
   {
    "duration": 13,
    "start_time": "2022-12-30T03:29:06.639Z"
   },
   {
    "duration": 13,
    "start_time": "2022-12-30T03:29:06.654Z"
   },
   {
    "duration": 21,
    "start_time": "2022-12-30T03:29:06.669Z"
   },
   {
    "duration": 26,
    "start_time": "2022-12-30T03:29:06.691Z"
   },
   {
    "duration": 26,
    "start_time": "2022-12-30T03:29:06.718Z"
   },
   {
    "duration": 9,
    "start_time": "2022-12-30T03:29:06.746Z"
   },
   {
    "duration": 58,
    "start_time": "2022-12-30T03:29:06.756Z"
   },
   {
    "duration": 79,
    "start_time": "2022-12-30T03:29:06.815Z"
   },
   {
    "duration": 17,
    "start_time": "2022-12-30T03:29:06.898Z"
   },
   {
    "duration": 25,
    "start_time": "2022-12-30T03:29:06.916Z"
   },
   {
    "duration": 10,
    "start_time": "2022-12-30T03:29:06.942Z"
   },
   {
    "duration": 17,
    "start_time": "2022-12-30T03:29:06.954Z"
   },
   {
    "duration": 24,
    "start_time": "2022-12-30T03:29:06.972Z"
   },
   {
    "duration": 4,
    "start_time": "2022-12-30T03:29:06.997Z"
   },
   {
    "duration": 13,
    "start_time": "2022-12-30T03:29:07.003Z"
   },
   {
    "duration": 11,
    "start_time": "2022-12-30T03:29:07.017Z"
   },
   {
    "duration": 10,
    "start_time": "2022-12-30T03:29:07.030Z"
   },
   {
    "duration": 13,
    "start_time": "2022-12-30T03:29:07.041Z"
   },
   {
    "duration": 20,
    "start_time": "2022-12-30T03:29:07.055Z"
   },
   {
    "duration": 16,
    "start_time": "2022-12-30T03:29:07.078Z"
   },
   {
    "duration": 757,
    "start_time": "2022-12-30T03:29:07.096Z"
   },
   {
    "duration": 0,
    "start_time": "2022-12-30T03:29:07.855Z"
   },
   {
    "duration": 0,
    "start_time": "2022-12-30T03:29:07.856Z"
   },
   {
    "duration": 0,
    "start_time": "2022-12-30T03:29:07.857Z"
   },
   {
    "duration": 0,
    "start_time": "2022-12-30T03:29:07.858Z"
   },
   {
    "duration": 0,
    "start_time": "2022-12-30T03:29:07.858Z"
   },
   {
    "duration": 0,
    "start_time": "2022-12-30T03:29:07.859Z"
   },
   {
    "duration": 0,
    "start_time": "2022-12-30T03:29:07.860Z"
   },
   {
    "duration": 0,
    "start_time": "2022-12-30T03:29:07.861Z"
   },
   {
    "duration": 0,
    "start_time": "2022-12-30T03:29:07.862Z"
   },
   {
    "duration": 0,
    "start_time": "2022-12-30T03:29:07.865Z"
   },
   {
    "duration": 0,
    "start_time": "2022-12-30T03:29:07.866Z"
   },
   {
    "duration": 0,
    "start_time": "2022-12-30T03:29:07.867Z"
   },
   {
    "duration": 0,
    "start_time": "2022-12-30T03:29:07.868Z"
   },
   {
    "duration": 0,
    "start_time": "2022-12-30T03:29:07.869Z"
   },
   {
    "duration": 0,
    "start_time": "2022-12-30T03:29:07.870Z"
   },
   {
    "duration": 0,
    "start_time": "2022-12-30T03:29:07.871Z"
   },
   {
    "duration": 0,
    "start_time": "2022-12-30T03:29:07.872Z"
   },
   {
    "duration": 0,
    "start_time": "2022-12-30T03:29:07.872Z"
   },
   {
    "duration": 0,
    "start_time": "2022-12-30T03:29:07.873Z"
   },
   {
    "duration": 0,
    "start_time": "2022-12-30T03:29:07.874Z"
   },
   {
    "duration": 0,
    "start_time": "2022-12-30T03:29:07.875Z"
   },
   {
    "duration": 0,
    "start_time": "2022-12-30T03:29:07.876Z"
   },
   {
    "duration": 0,
    "start_time": "2022-12-30T03:29:07.877Z"
   },
   {
    "duration": 0,
    "start_time": "2022-12-30T03:29:07.878Z"
   },
   {
    "duration": 0,
    "start_time": "2022-12-30T03:29:07.879Z"
   },
   {
    "duration": 0,
    "start_time": "2022-12-30T03:29:07.880Z"
   },
   {
    "duration": 0,
    "start_time": "2022-12-30T03:29:07.881Z"
   },
   {
    "duration": 0,
    "start_time": "2022-12-30T03:29:07.881Z"
   },
   {
    "duration": 0,
    "start_time": "2022-12-30T03:29:07.882Z"
   },
   {
    "duration": 0,
    "start_time": "2022-12-30T03:29:07.883Z"
   },
   {
    "duration": 0,
    "start_time": "2022-12-30T03:29:07.884Z"
   },
   {
    "duration": 0,
    "start_time": "2022-12-30T03:29:07.885Z"
   },
   {
    "duration": 0,
    "start_time": "2022-12-30T03:29:07.886Z"
   },
   {
    "duration": 0,
    "start_time": "2022-12-30T03:29:07.887Z"
   },
   {
    "duration": 0,
    "start_time": "2022-12-30T03:29:07.888Z"
   },
   {
    "duration": 0,
    "start_time": "2022-12-30T03:29:07.889Z"
   },
   {
    "duration": 0,
    "start_time": "2022-12-30T03:29:07.890Z"
   },
   {
    "duration": 0,
    "start_time": "2022-12-30T03:29:07.891Z"
   },
   {
    "duration": 0,
    "start_time": "2022-12-30T03:29:07.892Z"
   },
   {
    "duration": 0,
    "start_time": "2022-12-30T03:29:07.893Z"
   },
   {
    "duration": 0,
    "start_time": "2022-12-30T03:29:07.894Z"
   },
   {
    "duration": 0,
    "start_time": "2022-12-30T03:29:07.895Z"
   },
   {
    "duration": 0,
    "start_time": "2022-12-30T03:29:07.912Z"
   },
   {
    "duration": 0,
    "start_time": "2022-12-30T03:29:07.913Z"
   },
   {
    "duration": 0,
    "start_time": "2022-12-30T03:29:07.914Z"
   },
   {
    "duration": 0,
    "start_time": "2022-12-30T03:29:07.915Z"
   },
   {
    "duration": 0,
    "start_time": "2022-12-30T03:29:07.916Z"
   },
   {
    "duration": 0,
    "start_time": "2022-12-30T03:29:07.917Z"
   },
   {
    "duration": 0,
    "start_time": "2022-12-30T03:29:07.918Z"
   },
   {
    "duration": 0,
    "start_time": "2022-12-30T03:29:07.919Z"
   },
   {
    "duration": 0,
    "start_time": "2022-12-30T03:29:07.920Z"
   },
   {
    "duration": 0,
    "start_time": "2022-12-30T03:29:07.921Z"
   },
   {
    "duration": 0,
    "start_time": "2022-12-30T03:29:07.922Z"
   },
   {
    "duration": 0,
    "start_time": "2022-12-30T03:29:07.923Z"
   },
   {
    "duration": 0,
    "start_time": "2022-12-30T03:29:07.923Z"
   },
   {
    "duration": 0,
    "start_time": "2022-12-30T03:29:07.924Z"
   },
   {
    "duration": 0,
    "start_time": "2022-12-30T03:29:07.925Z"
   },
   {
    "duration": 0,
    "start_time": "2022-12-30T03:29:07.926Z"
   },
   {
    "duration": 0,
    "start_time": "2022-12-30T03:29:07.927Z"
   },
   {
    "duration": 0,
    "start_time": "2022-12-30T03:29:07.928Z"
   },
   {
    "duration": 0,
    "start_time": "2022-12-30T03:29:07.928Z"
   },
   {
    "duration": 0,
    "start_time": "2022-12-30T03:29:07.929Z"
   },
   {
    "duration": 3,
    "start_time": "2022-12-30T03:30:26.550Z"
   },
   {
    "duration": 1272,
    "start_time": "2022-12-30T03:30:32.613Z"
   },
   {
    "duration": 5,
    "start_time": "2022-12-30T03:30:37.773Z"
   },
   {
    "duration": 10,
    "start_time": "2022-12-30T03:30:39.837Z"
   },
   {
    "duration": 27,
    "start_time": "2022-12-30T03:31:30.142Z"
   },
   {
    "duration": 10,
    "start_time": "2022-12-30T03:31:47.886Z"
   },
   {
    "duration": 46,
    "start_time": "2022-12-30T03:32:16.804Z"
   },
   {
    "duration": 20,
    "start_time": "2022-12-30T03:34:00.592Z"
   },
   {
    "duration": 46,
    "start_time": "2022-12-30T03:34:26.881Z"
   },
   {
    "duration": 24,
    "start_time": "2022-12-30T03:34:44.615Z"
   },
   {
    "duration": 1140,
    "start_time": "2022-12-30T03:36:16.703Z"
   },
   {
    "duration": 108,
    "start_time": "2022-12-30T03:36:17.845Z"
   },
   {
    "duration": 14,
    "start_time": "2022-12-30T03:36:17.955Z"
   },
   {
    "duration": 87,
    "start_time": "2022-12-30T03:36:17.970Z"
   },
   {
    "duration": 23,
    "start_time": "2022-12-30T03:36:18.059Z"
   },
   {
    "duration": 18,
    "start_time": "2022-12-30T03:36:18.084Z"
   },
   {
    "duration": 7,
    "start_time": "2022-12-30T03:36:18.103Z"
   },
   {
    "duration": 4,
    "start_time": "2022-12-30T03:36:18.112Z"
   },
   {
    "duration": 18,
    "start_time": "2022-12-30T03:36:18.118Z"
   },
   {
    "duration": 12,
    "start_time": "2022-12-30T03:36:18.139Z"
   },
   {
    "duration": 32,
    "start_time": "2022-12-30T03:36:18.152Z"
   },
   {
    "duration": 40,
    "start_time": "2022-12-30T03:36:18.186Z"
   },
   {
    "duration": 24,
    "start_time": "2022-12-30T03:36:18.227Z"
   },
   {
    "duration": 6,
    "start_time": "2022-12-30T03:36:18.253Z"
   },
   {
    "duration": 5,
    "start_time": "2022-12-30T03:36:18.261Z"
   },
   {
    "duration": 14,
    "start_time": "2022-12-30T03:36:18.268Z"
   },
   {
    "duration": 29,
    "start_time": "2022-12-30T03:36:18.283Z"
   },
   {
    "duration": 18,
    "start_time": "2022-12-30T03:36:18.313Z"
   },
   {
    "duration": 6,
    "start_time": "2022-12-30T03:36:18.333Z"
   },
   {
    "duration": 37,
    "start_time": "2022-12-30T03:36:18.340Z"
   },
   {
    "duration": 36,
    "start_time": "2022-12-30T03:36:18.379Z"
   },
   {
    "duration": 8,
    "start_time": "2022-12-30T03:36:18.417Z"
   },
   {
    "duration": 24,
    "start_time": "2022-12-30T03:36:18.427Z"
   },
   {
    "duration": 11,
    "start_time": "2022-12-30T03:36:18.453Z"
   },
   {
    "duration": 24,
    "start_time": "2022-12-30T03:36:18.465Z"
   },
   {
    "duration": 29,
    "start_time": "2022-12-30T03:36:18.491Z"
   },
   {
    "duration": 54,
    "start_time": "2022-12-30T03:36:18.522Z"
   },
   {
    "duration": 109,
    "start_time": "2022-12-30T03:36:18.582Z"
   },
   {
    "duration": 5,
    "start_time": "2022-12-30T03:36:18.693Z"
   },
   {
    "duration": 27,
    "start_time": "2022-12-30T03:36:18.699Z"
   },
   {
    "duration": 11,
    "start_time": "2022-12-30T03:36:18.728Z"
   },
   {
    "duration": 16,
    "start_time": "2022-12-30T03:36:18.741Z"
   },
   {
    "duration": 18,
    "start_time": "2022-12-30T03:36:18.758Z"
   },
   {
    "duration": 34,
    "start_time": "2022-12-30T03:36:18.778Z"
   },
   {
    "duration": 3,
    "start_time": "2022-12-30T03:36:18.814Z"
   },
   {
    "duration": 10,
    "start_time": "2022-12-30T03:36:18.819Z"
   },
   {
    "duration": 5,
    "start_time": "2022-12-30T03:36:18.830Z"
   },
   {
    "duration": 12,
    "start_time": "2022-12-30T03:36:18.837Z"
   },
   {
    "duration": 16,
    "start_time": "2022-12-30T03:36:18.851Z"
   },
   {
    "duration": 9,
    "start_time": "2022-12-30T03:36:18.868Z"
   },
   {
    "duration": 497,
    "start_time": "2022-12-30T03:36:18.879Z"
   },
   {
    "duration": 5,
    "start_time": "2022-12-30T03:36:19.377Z"
   },
   {
    "duration": 57,
    "start_time": "2022-12-30T03:36:19.384Z"
   },
   {
    "duration": 25,
    "start_time": "2022-12-30T03:36:19.442Z"
   },
   {
    "duration": 15,
    "start_time": "2022-12-30T03:36:19.469Z"
   },
   {
    "duration": 4,
    "start_time": "2022-12-30T03:36:19.486Z"
   },
   {
    "duration": 29,
    "start_time": "2022-12-30T03:36:19.512Z"
   },
   {
    "duration": 26,
    "start_time": "2022-12-30T03:36:19.542Z"
   },
   {
    "duration": 848,
    "start_time": "2022-12-30T03:36:19.570Z"
   },
   {
    "duration": 0,
    "start_time": "2022-12-30T03:36:20.421Z"
   },
   {
    "duration": 0,
    "start_time": "2022-12-30T03:36:20.422Z"
   },
   {
    "duration": 0,
    "start_time": "2022-12-30T03:36:20.423Z"
   },
   {
    "duration": 0,
    "start_time": "2022-12-30T03:36:20.424Z"
   },
   {
    "duration": 0,
    "start_time": "2022-12-30T03:36:20.425Z"
   },
   {
    "duration": 0,
    "start_time": "2022-12-30T03:36:20.426Z"
   },
   {
    "duration": 0,
    "start_time": "2022-12-30T03:36:20.427Z"
   },
   {
    "duration": 0,
    "start_time": "2022-12-30T03:36:20.428Z"
   },
   {
    "duration": 0,
    "start_time": "2022-12-30T03:36:20.429Z"
   },
   {
    "duration": 0,
    "start_time": "2022-12-30T03:36:20.429Z"
   },
   {
    "duration": 0,
    "start_time": "2022-12-30T03:36:20.431Z"
   },
   {
    "duration": 0,
    "start_time": "2022-12-30T03:36:20.432Z"
   },
   {
    "duration": 0,
    "start_time": "2022-12-30T03:36:20.433Z"
   },
   {
    "duration": 0,
    "start_time": "2022-12-30T03:36:20.434Z"
   },
   {
    "duration": 0,
    "start_time": "2022-12-30T03:36:20.435Z"
   },
   {
    "duration": 0,
    "start_time": "2022-12-30T03:36:20.436Z"
   },
   {
    "duration": 0,
    "start_time": "2022-12-30T03:36:20.438Z"
   },
   {
    "duration": 0,
    "start_time": "2022-12-30T03:36:20.439Z"
   },
   {
    "duration": 0,
    "start_time": "2022-12-30T03:36:20.440Z"
   },
   {
    "duration": 0,
    "start_time": "2022-12-30T03:36:20.441Z"
   },
   {
    "duration": 0,
    "start_time": "2022-12-30T03:36:20.442Z"
   },
   {
    "duration": 0,
    "start_time": "2022-12-30T03:36:20.443Z"
   },
   {
    "duration": 0,
    "start_time": "2022-12-30T03:36:20.444Z"
   },
   {
    "duration": 0,
    "start_time": "2022-12-30T03:36:20.445Z"
   },
   {
    "duration": 0,
    "start_time": "2022-12-30T03:36:20.446Z"
   },
   {
    "duration": 0,
    "start_time": "2022-12-30T03:36:20.447Z"
   },
   {
    "duration": 0,
    "start_time": "2022-12-30T03:36:20.448Z"
   },
   {
    "duration": 0,
    "start_time": "2022-12-30T03:36:20.449Z"
   },
   {
    "duration": 0,
    "start_time": "2022-12-30T03:36:20.450Z"
   },
   {
    "duration": 0,
    "start_time": "2022-12-30T03:36:20.451Z"
   },
   {
    "duration": 0,
    "start_time": "2022-12-30T03:36:20.452Z"
   },
   {
    "duration": 0,
    "start_time": "2022-12-30T03:36:20.453Z"
   },
   {
    "duration": 0,
    "start_time": "2022-12-30T03:36:20.454Z"
   },
   {
    "duration": 0,
    "start_time": "2022-12-30T03:36:20.455Z"
   },
   {
    "duration": 0,
    "start_time": "2022-12-30T03:36:20.456Z"
   },
   {
    "duration": 0,
    "start_time": "2022-12-30T03:36:20.457Z"
   },
   {
    "duration": 0,
    "start_time": "2022-12-30T03:36:20.515Z"
   },
   {
    "duration": 0,
    "start_time": "2022-12-30T03:36:20.517Z"
   },
   {
    "duration": 0,
    "start_time": "2022-12-30T03:36:20.518Z"
   },
   {
    "duration": 0,
    "start_time": "2022-12-30T03:36:20.520Z"
   },
   {
    "duration": 0,
    "start_time": "2022-12-30T03:36:20.521Z"
   },
   {
    "duration": 0,
    "start_time": "2022-12-30T03:36:20.521Z"
   },
   {
    "duration": 0,
    "start_time": "2022-12-30T03:36:20.522Z"
   },
   {
    "duration": 0,
    "start_time": "2022-12-30T03:36:20.523Z"
   },
   {
    "duration": 0,
    "start_time": "2022-12-30T03:36:20.524Z"
   },
   {
    "duration": 0,
    "start_time": "2022-12-30T03:36:20.524Z"
   },
   {
    "duration": 0,
    "start_time": "2022-12-30T03:36:20.525Z"
   },
   {
    "duration": 0,
    "start_time": "2022-12-30T03:36:20.527Z"
   },
   {
    "duration": 0,
    "start_time": "2022-12-30T03:36:20.528Z"
   },
   {
    "duration": 0,
    "start_time": "2022-12-30T03:36:20.529Z"
   },
   {
    "duration": 0,
    "start_time": "2022-12-30T03:36:20.530Z"
   },
   {
    "duration": 0,
    "start_time": "2022-12-30T03:36:20.531Z"
   },
   {
    "duration": 0,
    "start_time": "2022-12-30T03:36:20.532Z"
   },
   {
    "duration": 0,
    "start_time": "2022-12-30T03:36:20.533Z"
   },
   {
    "duration": 0,
    "start_time": "2022-12-30T03:36:20.534Z"
   },
   {
    "duration": 10,
    "start_time": "2022-12-30T03:37:58.583Z"
   },
   {
    "duration": 8,
    "start_time": "2022-12-30T03:38:12.707Z"
   },
   {
    "duration": 1056,
    "start_time": "2022-12-30T03:38:21.473Z"
   },
   {
    "duration": 107,
    "start_time": "2022-12-30T03:38:22.531Z"
   },
   {
    "duration": 14,
    "start_time": "2022-12-30T03:38:22.639Z"
   },
   {
    "duration": 9,
    "start_time": "2022-12-30T03:38:22.656Z"
   },
   {
    "duration": 24,
    "start_time": "2022-12-30T03:38:22.666Z"
   },
   {
    "duration": 27,
    "start_time": "2022-12-30T03:38:22.691Z"
   },
   {
    "duration": 9,
    "start_time": "2022-12-30T03:38:22.719Z"
   },
   {
    "duration": 4,
    "start_time": "2022-12-30T03:38:22.730Z"
   },
   {
    "duration": 10,
    "start_time": "2022-12-30T03:38:22.736Z"
   },
   {
    "duration": 9,
    "start_time": "2022-12-30T03:38:22.749Z"
   },
   {
    "duration": 18,
    "start_time": "2022-12-30T03:38:22.760Z"
   },
   {
    "duration": 51,
    "start_time": "2022-12-30T03:38:22.780Z"
   },
   {
    "duration": 25,
    "start_time": "2022-12-30T03:38:22.832Z"
   },
   {
    "duration": 8,
    "start_time": "2022-12-30T03:38:22.858Z"
   },
   {
    "duration": 6,
    "start_time": "2022-12-30T03:38:22.868Z"
   },
   {
    "duration": 44,
    "start_time": "2022-12-30T03:38:22.876Z"
   },
   {
    "duration": 5,
    "start_time": "2022-12-30T03:38:22.922Z"
   },
   {
    "duration": 16,
    "start_time": "2022-12-30T03:38:22.928Z"
   },
   {
    "duration": 5,
    "start_time": "2022-12-30T03:38:22.946Z"
   },
   {
    "duration": 29,
    "start_time": "2022-12-30T03:38:22.953Z"
   },
   {
    "duration": 39,
    "start_time": "2022-12-30T03:38:22.984Z"
   },
   {
    "duration": 7,
    "start_time": "2022-12-30T03:38:23.025Z"
   },
   {
    "duration": 18,
    "start_time": "2022-12-30T03:38:23.034Z"
   },
   {
    "duration": 9,
    "start_time": "2022-12-30T03:38:23.054Z"
   },
   {
    "duration": 49,
    "start_time": "2022-12-30T03:38:23.064Z"
   },
   {
    "duration": 9,
    "start_time": "2022-12-30T03:38:23.115Z"
   },
   {
    "duration": 46,
    "start_time": "2022-12-30T03:38:23.126Z"
   },
   {
    "duration": 100,
    "start_time": "2022-12-30T03:38:23.176Z"
   },
   {
    "duration": 5,
    "start_time": "2022-12-30T03:38:23.278Z"
   },
   {
    "duration": 15,
    "start_time": "2022-12-30T03:38:23.285Z"
   },
   {
    "duration": 11,
    "start_time": "2022-12-30T03:38:23.312Z"
   },
   {
    "duration": 12,
    "start_time": "2022-12-30T03:38:23.325Z"
   },
   {
    "duration": 18,
    "start_time": "2022-12-30T03:38:23.338Z"
   },
   {
    "duration": 4,
    "start_time": "2022-12-30T03:38:23.357Z"
   },
   {
    "duration": 6,
    "start_time": "2022-12-30T03:38:23.362Z"
   },
   {
    "duration": 5,
    "start_time": "2022-12-30T03:38:23.369Z"
   },
   {
    "duration": 9,
    "start_time": "2022-12-30T03:38:23.376Z"
   },
   {
    "duration": 29,
    "start_time": "2022-12-30T03:38:23.387Z"
   },
   {
    "duration": 13,
    "start_time": "2022-12-30T03:38:23.418Z"
   },
   {
    "duration": 13,
    "start_time": "2022-12-30T03:38:23.432Z"
   },
   {
    "duration": 387,
    "start_time": "2022-12-30T03:38:23.446Z"
   },
   {
    "duration": 4,
    "start_time": "2022-12-30T03:38:23.835Z"
   },
   {
    "duration": 51,
    "start_time": "2022-12-30T03:38:23.840Z"
   },
   {
    "duration": 36,
    "start_time": "2022-12-30T03:38:23.893Z"
   },
   {
    "duration": 14,
    "start_time": "2022-12-30T03:38:23.931Z"
   },
   {
    "duration": 4,
    "start_time": "2022-12-30T03:38:23.947Z"
   },
   {
    "duration": 35,
    "start_time": "2022-12-30T03:38:23.952Z"
   },
   {
    "duration": 46,
    "start_time": "2022-12-30T03:38:23.988Z"
   },
   {
    "duration": 813,
    "start_time": "2022-12-30T03:38:24.035Z"
   },
   {
    "duration": 0,
    "start_time": "2022-12-30T03:38:24.850Z"
   },
   {
    "duration": 0,
    "start_time": "2022-12-30T03:38:24.852Z"
   },
   {
    "duration": 0,
    "start_time": "2022-12-30T03:38:24.853Z"
   },
   {
    "duration": 0,
    "start_time": "2022-12-30T03:38:24.855Z"
   },
   {
    "duration": 0,
    "start_time": "2022-12-30T03:38:24.856Z"
   },
   {
    "duration": 0,
    "start_time": "2022-12-30T03:38:24.857Z"
   },
   {
    "duration": 0,
    "start_time": "2022-12-30T03:38:24.858Z"
   },
   {
    "duration": 0,
    "start_time": "2022-12-30T03:38:24.859Z"
   },
   {
    "duration": 0,
    "start_time": "2022-12-30T03:38:24.860Z"
   },
   {
    "duration": 0,
    "start_time": "2022-12-30T03:38:24.861Z"
   },
   {
    "duration": 1,
    "start_time": "2022-12-30T03:38:24.861Z"
   },
   {
    "duration": 0,
    "start_time": "2022-12-30T03:38:24.862Z"
   },
   {
    "duration": 0,
    "start_time": "2022-12-30T03:38:24.863Z"
   },
   {
    "duration": 0,
    "start_time": "2022-12-30T03:38:24.864Z"
   },
   {
    "duration": 0,
    "start_time": "2022-12-30T03:38:24.865Z"
   },
   {
    "duration": 0,
    "start_time": "2022-12-30T03:38:24.867Z"
   },
   {
    "duration": 0,
    "start_time": "2022-12-30T03:38:24.869Z"
   },
   {
    "duration": 0,
    "start_time": "2022-12-30T03:38:24.870Z"
   },
   {
    "duration": 0,
    "start_time": "2022-12-30T03:38:24.872Z"
   },
   {
    "duration": 0,
    "start_time": "2022-12-30T03:38:24.873Z"
   },
   {
    "duration": 0,
    "start_time": "2022-12-30T03:38:24.874Z"
   },
   {
    "duration": 0,
    "start_time": "2022-12-30T03:38:24.876Z"
   },
   {
    "duration": 0,
    "start_time": "2022-12-30T03:38:24.877Z"
   },
   {
    "duration": 0,
    "start_time": "2022-12-30T03:38:24.878Z"
   },
   {
    "duration": 0,
    "start_time": "2022-12-30T03:38:24.880Z"
   },
   {
    "duration": 0,
    "start_time": "2022-12-30T03:38:24.881Z"
   },
   {
    "duration": 0,
    "start_time": "2022-12-30T03:38:24.882Z"
   },
   {
    "duration": 0,
    "start_time": "2022-12-30T03:38:24.883Z"
   },
   {
    "duration": 0,
    "start_time": "2022-12-30T03:38:24.884Z"
   },
   {
    "duration": 0,
    "start_time": "2022-12-30T03:38:24.885Z"
   },
   {
    "duration": 0,
    "start_time": "2022-12-30T03:38:24.886Z"
   },
   {
    "duration": 0,
    "start_time": "2022-12-30T03:38:24.887Z"
   },
   {
    "duration": 0,
    "start_time": "2022-12-30T03:38:24.912Z"
   },
   {
    "duration": 0,
    "start_time": "2022-12-30T03:38:24.913Z"
   },
   {
    "duration": 0,
    "start_time": "2022-12-30T03:38:24.915Z"
   },
   {
    "duration": 0,
    "start_time": "2022-12-30T03:38:24.916Z"
   },
   {
    "duration": 0,
    "start_time": "2022-12-30T03:38:24.917Z"
   },
   {
    "duration": 0,
    "start_time": "2022-12-30T03:38:24.918Z"
   },
   {
    "duration": 0,
    "start_time": "2022-12-30T03:38:24.919Z"
   },
   {
    "duration": 0,
    "start_time": "2022-12-30T03:38:24.920Z"
   },
   {
    "duration": 0,
    "start_time": "2022-12-30T03:38:24.921Z"
   },
   {
    "duration": 0,
    "start_time": "2022-12-30T03:38:24.922Z"
   },
   {
    "duration": 0,
    "start_time": "2022-12-30T03:38:24.923Z"
   },
   {
    "duration": 0,
    "start_time": "2022-12-30T03:38:24.924Z"
   },
   {
    "duration": 0,
    "start_time": "2022-12-30T03:38:24.925Z"
   },
   {
    "duration": 0,
    "start_time": "2022-12-30T03:38:24.926Z"
   },
   {
    "duration": 0,
    "start_time": "2022-12-30T03:38:24.927Z"
   },
   {
    "duration": 0,
    "start_time": "2022-12-30T03:38:24.927Z"
   },
   {
    "duration": 0,
    "start_time": "2022-12-30T03:38:24.929Z"
   },
   {
    "duration": 0,
    "start_time": "2022-12-30T03:38:24.930Z"
   },
   {
    "duration": 0,
    "start_time": "2022-12-30T03:38:24.931Z"
   },
   {
    "duration": 0,
    "start_time": "2022-12-30T03:38:24.932Z"
   },
   {
    "duration": 0,
    "start_time": "2022-12-30T03:38:24.933Z"
   },
   {
    "duration": 0,
    "start_time": "2022-12-30T03:38:24.934Z"
   },
   {
    "duration": 0,
    "start_time": "2022-12-30T03:38:24.935Z"
   },
   {
    "duration": 31,
    "start_time": "2022-12-30T03:40:30.409Z"
   },
   {
    "duration": 715,
    "start_time": "2022-12-30T03:40:41.256Z"
   },
   {
    "duration": 14,
    "start_time": "2022-12-30T03:41:26.960Z"
   },
   {
    "duration": 21,
    "start_time": "2022-12-30T03:41:28.256Z"
   },
   {
    "duration": 12,
    "start_time": "2022-12-30T03:41:29.656Z"
   },
   {
    "duration": 13,
    "start_time": "2022-12-30T03:41:30.847Z"
   },
   {
    "duration": 11,
    "start_time": "2022-12-30T03:41:33.944Z"
   },
   {
    "duration": 1108,
    "start_time": "2022-12-30T03:41:53.121Z"
   },
   {
    "duration": 107,
    "start_time": "2022-12-30T03:41:54.356Z"
   },
   {
    "duration": 14,
    "start_time": "2022-12-30T03:41:57.588Z"
   },
   {
    "duration": 10,
    "start_time": "2022-12-30T03:41:59.643Z"
   },
   {
    "duration": 26,
    "start_time": "2022-12-30T03:42:00.555Z"
   },
   {
    "duration": 29,
    "start_time": "2022-12-30T03:42:02.667Z"
   },
   {
    "duration": 7,
    "start_time": "2022-12-30T03:42:04.316Z"
   },
   {
    "duration": 3,
    "start_time": "2022-12-30T03:42:05.924Z"
   },
   {
    "duration": 10,
    "start_time": "2022-12-30T03:42:07.084Z"
   },
   {
    "duration": 10,
    "start_time": "2022-12-30T03:42:08.717Z"
   },
   {
    "duration": 19,
    "start_time": "2022-12-30T03:42:14.677Z"
   },
   {
    "duration": 20,
    "start_time": "2022-12-30T03:42:16.676Z"
   },
   {
    "duration": 23,
    "start_time": "2022-12-30T03:42:18.635Z"
   },
   {
    "duration": 8,
    "start_time": "2022-12-30T03:42:21.236Z"
   },
   {
    "duration": 6,
    "start_time": "2022-12-30T03:42:24.092Z"
   },
   {
    "duration": 11,
    "start_time": "2022-12-30T03:42:25.172Z"
   },
   {
    "duration": 15,
    "start_time": "2022-12-30T03:42:28.493Z"
   },
   {
    "duration": 6,
    "start_time": "2022-12-30T03:42:30.892Z"
   },
   {
    "duration": 29,
    "start_time": "2022-12-30T03:42:32.717Z"
   },
   {
    "duration": 13,
    "start_time": "2022-12-30T03:42:34.692Z"
   },
   {
    "duration": 7,
    "start_time": "2022-12-30T03:42:36.499Z"
   },
   {
    "duration": 19,
    "start_time": "2022-12-30T03:42:38.621Z"
   },
   {
    "duration": 10,
    "start_time": "2022-12-30T03:42:39.860Z"
   },
   {
    "duration": 22,
    "start_time": "2022-12-30T03:42:41.756Z"
   },
   {
    "duration": 10,
    "start_time": "2022-12-30T03:42:43.876Z"
   },
   {
    "duration": 46,
    "start_time": "2022-12-30T03:42:48.292Z"
   },
   {
    "duration": 86,
    "start_time": "2022-12-30T03:42:49.868Z"
   },
   {
    "duration": 6,
    "start_time": "2022-12-30T03:42:51.996Z"
   },
   {
    "duration": 16,
    "start_time": "2022-12-30T03:43:01.365Z"
   },
   {
    "duration": 16,
    "start_time": "2022-12-30T03:43:08.045Z"
   },
   {
    "duration": 13,
    "start_time": "2022-12-30T03:43:10.117Z"
   },
   {
    "duration": 15,
    "start_time": "2022-12-30T03:43:14.060Z"
   },
   {
    "duration": 6,
    "start_time": "2022-12-30T03:43:15.828Z"
   },
   {
    "duration": 9,
    "start_time": "2022-12-30T03:43:22.260Z"
   },
   {
    "duration": 13,
    "start_time": "2022-12-30T03:43:23.997Z"
   },
   {
    "duration": 5,
    "start_time": "2022-12-30T03:43:25.828Z"
   },
   {
    "duration": 355,
    "start_time": "2022-12-30T03:43:28.734Z"
   },
   {
    "duration": 5,
    "start_time": "2022-12-30T03:43:32.981Z"
   },
   {
    "duration": 48,
    "start_time": "2022-12-30T03:43:34.718Z"
   },
   {
    "duration": 33,
    "start_time": "2022-12-30T03:44:08.814Z"
   },
   {
    "duration": 782,
    "start_time": "2022-12-30T03:44:12.758Z"
   },
   {
    "duration": 1082,
    "start_time": "2022-12-30T03:44:38.142Z"
   },
   {
    "duration": 116,
    "start_time": "2022-12-30T03:44:39.226Z"
   },
   {
    "duration": 13,
    "start_time": "2022-12-30T03:44:39.344Z"
   },
   {
    "duration": 9,
    "start_time": "2022-12-30T03:44:39.358Z"
   },
   {
    "duration": 22,
    "start_time": "2022-12-30T03:44:39.368Z"
   },
   {
    "duration": 23,
    "start_time": "2022-12-30T03:44:39.391Z"
   },
   {
    "duration": 7,
    "start_time": "2022-12-30T03:44:39.415Z"
   },
   {
    "duration": 4,
    "start_time": "2022-12-30T03:44:39.423Z"
   },
   {
    "duration": 11,
    "start_time": "2022-12-30T03:44:39.429Z"
   },
   {
    "duration": 9,
    "start_time": "2022-12-30T03:44:39.443Z"
   },
   {
    "duration": 16,
    "start_time": "2022-12-30T03:44:39.453Z"
   },
   {
    "duration": 53,
    "start_time": "2022-12-30T03:44:39.471Z"
   },
   {
    "duration": 23,
    "start_time": "2022-12-30T03:44:39.526Z"
   },
   {
    "duration": 8,
    "start_time": "2022-12-30T03:44:39.550Z"
   },
   {
    "duration": 5,
    "start_time": "2022-12-30T03:44:39.560Z"
   },
   {
    "duration": 13,
    "start_time": "2022-12-30T03:44:39.567Z"
   },
   {
    "duration": 3,
    "start_time": "2022-12-30T03:44:39.581Z"
   },
   {
    "duration": 15,
    "start_time": "2022-12-30T03:44:39.612Z"
   },
   {
    "duration": 5,
    "start_time": "2022-12-30T03:44:39.629Z"
   },
   {
    "duration": 29,
    "start_time": "2022-12-30T03:44:39.636Z"
   },
   {
    "duration": 46,
    "start_time": "2022-12-30T03:44:39.667Z"
   },
   {
    "duration": 6,
    "start_time": "2022-12-30T03:44:39.715Z"
   },
   {
    "duration": 21,
    "start_time": "2022-12-30T03:44:39.723Z"
   },
   {
    "duration": 10,
    "start_time": "2022-12-30T03:44:39.745Z"
   },
   {
    "duration": 21,
    "start_time": "2022-12-30T03:44:39.757Z"
   },
   {
    "duration": 33,
    "start_time": "2022-12-30T03:44:39.779Z"
   },
   {
    "duration": 43,
    "start_time": "2022-12-30T03:44:39.814Z"
   },
   {
    "duration": 95,
    "start_time": "2022-12-30T03:44:39.861Z"
   },
   {
    "duration": 6,
    "start_time": "2022-12-30T03:44:39.957Z"
   },
   {
    "duration": 17,
    "start_time": "2022-12-30T03:44:39.964Z"
   },
   {
    "duration": 31,
    "start_time": "2022-12-30T03:44:39.982Z"
   },
   {
    "duration": 17,
    "start_time": "2022-12-30T03:44:40.015Z"
   },
   {
    "duration": 16,
    "start_time": "2022-12-30T03:44:40.035Z"
   },
   {
    "duration": 5,
    "start_time": "2022-12-30T03:44:40.053Z"
   },
   {
    "duration": 8,
    "start_time": "2022-12-30T03:44:40.060Z"
   },
   {
    "duration": 6,
    "start_time": "2022-12-30T03:44:40.070Z"
   },
   {
    "duration": 13,
    "start_time": "2022-12-30T03:44:40.077Z"
   },
   {
    "duration": 25,
    "start_time": "2022-12-30T03:44:40.091Z"
   },
   {
    "duration": 13,
    "start_time": "2022-12-30T03:44:40.118Z"
   },
   {
    "duration": 7,
    "start_time": "2022-12-30T03:44:40.132Z"
   },
   {
    "duration": 388,
    "start_time": "2022-12-30T03:44:40.141Z"
   },
   {
    "duration": 5,
    "start_time": "2022-12-30T03:44:40.530Z"
   },
   {
    "duration": 55,
    "start_time": "2022-12-30T03:44:40.536Z"
   },
   {
    "duration": 24,
    "start_time": "2022-12-30T03:44:40.592Z"
   },
   {
    "duration": 26,
    "start_time": "2022-12-30T03:44:40.618Z"
   },
   {
    "duration": 5,
    "start_time": "2022-12-30T03:44:40.646Z"
   },
   {
    "duration": 20,
    "start_time": "2022-12-30T03:44:40.652Z"
   },
   {
    "duration": 18,
    "start_time": "2022-12-30T03:44:40.673Z"
   },
   {
    "duration": 28,
    "start_time": "2022-12-30T03:44:40.692Z"
   },
   {
    "duration": 12,
    "start_time": "2022-12-30T03:44:40.721Z"
   },
   {
    "duration": 94,
    "start_time": "2022-12-30T03:44:40.735Z"
   },
   {
    "duration": 12,
    "start_time": "2022-12-30T03:44:40.831Z"
   },
   {
    "duration": 321,
    "start_time": "2022-12-30T03:44:40.845Z"
   },
   {
    "duration": 14,
    "start_time": "2022-12-30T03:44:41.167Z"
   },
   {
    "duration": 4,
    "start_time": "2022-12-30T03:44:41.183Z"
   },
   {
    "duration": 7,
    "start_time": "2022-12-30T03:44:41.188Z"
   },
   {
    "duration": 29,
    "start_time": "2022-12-30T03:44:41.196Z"
   },
   {
    "duration": 13,
    "start_time": "2022-12-30T03:44:41.226Z"
   },
   {
    "duration": 11,
    "start_time": "2022-12-30T03:44:41.241Z"
   },
   {
    "duration": 203,
    "start_time": "2022-12-30T03:44:41.254Z"
   },
   {
    "duration": 235,
    "start_time": "2022-12-30T03:44:41.458Z"
   },
   {
    "duration": 18,
    "start_time": "2022-12-30T03:44:41.695Z"
   },
   {
    "duration": 5,
    "start_time": "2022-12-30T03:44:41.715Z"
   },
   {
    "duration": 8,
    "start_time": "2022-12-30T03:44:41.721Z"
   },
   {
    "duration": 154,
    "start_time": "2022-12-30T03:44:41.730Z"
   },
   {
    "duration": 17,
    "start_time": "2022-12-30T03:44:41.885Z"
   },
   {
    "duration": 21,
    "start_time": "2022-12-30T03:44:41.903Z"
   },
   {
    "duration": 8,
    "start_time": "2022-12-30T03:44:41.925Z"
   },
   {
    "duration": 9,
    "start_time": "2022-12-30T03:44:41.934Z"
   },
   {
    "duration": 246,
    "start_time": "2022-12-30T03:44:41.945Z"
   },
   {
    "duration": 33,
    "start_time": "2022-12-30T03:44:42.193Z"
   },
   {
    "duration": 4,
    "start_time": "2022-12-30T03:44:42.227Z"
   },
   {
    "duration": 16,
    "start_time": "2022-12-30T03:44:42.232Z"
   },
   {
    "duration": 16,
    "start_time": "2022-12-30T03:44:42.250Z"
   },
   {
    "duration": 3,
    "start_time": "2022-12-30T03:44:42.267Z"
   },
   {
    "duration": 16,
    "start_time": "2022-12-30T03:44:42.271Z"
   },
   {
    "duration": 33,
    "start_time": "2022-12-30T03:44:42.288Z"
   },
   {
    "duration": 211,
    "start_time": "2022-12-30T03:44:42.323Z"
   },
   {
    "duration": 11,
    "start_time": "2022-12-30T03:44:42.536Z"
   },
   {
    "duration": 29,
    "start_time": "2022-12-30T03:44:42.549Z"
   },
   {
    "duration": 3,
    "start_time": "2022-12-30T03:44:42.580Z"
   },
   {
    "duration": 74,
    "start_time": "2022-12-30T03:44:42.588Z"
   },
   {
    "duration": 6,
    "start_time": "2022-12-30T03:44:42.663Z"
   },
   {
    "duration": 266,
    "start_time": "2022-12-30T03:44:42.670Z"
   },
   {
    "duration": 501,
    "start_time": "2022-12-30T03:44:42.937Z"
   },
   {
    "duration": 18,
    "start_time": "2022-12-30T03:44:43.439Z"
   },
   {
    "duration": 10,
    "start_time": "2022-12-30T03:44:43.459Z"
   },
   {
    "duration": 52,
    "start_time": "2022-12-30T03:44:43.471Z"
   },
   {
    "duration": 13,
    "start_time": "2022-12-30T03:44:43.524Z"
   },
   {
    "duration": 22,
    "start_time": "2022-12-30T03:44:43.539Z"
   },
   {
    "duration": 13,
    "start_time": "2022-12-30T03:44:43.562Z"
   },
   {
    "duration": 3,
    "start_time": "2022-12-30T03:44:43.576Z"
   },
   {
    "duration": 37,
    "start_time": "2022-12-30T03:44:43.580Z"
   },
   {
    "duration": 12,
    "start_time": "2022-12-30T03:44:43.619Z"
   },
   {
    "duration": 8,
    "start_time": "2022-12-30T03:44:43.633Z"
   },
   {
    "duration": 201,
    "start_time": "2022-12-30T03:44:43.643Z"
   },
   {
    "duration": 13,
    "start_time": "2022-12-30T03:44:43.845Z"
   },
   {
    "duration": 7,
    "start_time": "2022-12-30T03:44:43.860Z"
   },
   {
    "duration": 8,
    "start_time": "2022-12-30T03:44:43.868Z"
   },
   {
    "duration": 7,
    "start_time": "2022-12-30T03:44:43.877Z"
   },
   {
    "duration": 92,
    "start_time": "2022-12-30T03:44:43.913Z"
   },
   {
    "duration": 239,
    "start_time": "2022-12-30T03:54:17.590Z"
   }
  ],
  "kernelspec": {
   "display_name": "Python 3 (ipykernel)",
   "language": "python",
   "name": "python3"
  },
  "language_info": {
   "codemirror_mode": {
    "name": "ipython",
    "version": 3
   },
   "file_extension": ".py",
   "mimetype": "text/x-python",
   "name": "python",
   "nbconvert_exporter": "python",
   "pygments_lexer": "ipython3",
   "version": "3.9.7"
  },
  "toc": {
   "base_numbering": 1,
   "nav_menu": {},
   "number_sections": true,
   "sideBar": true,
   "skip_h1_title": true,
   "title_cell": "Table of Contents",
   "title_sidebar": "Contents",
   "toc_cell": false,
   "toc_position": {},
   "toc_section_display": true,
   "toc_window_display": false
  }
 },
 "nbformat": 4,
 "nbformat_minor": 2
}
