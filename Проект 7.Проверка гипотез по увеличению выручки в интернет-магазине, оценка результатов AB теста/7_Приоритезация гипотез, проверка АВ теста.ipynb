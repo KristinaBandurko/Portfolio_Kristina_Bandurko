{
 "cells": [
  {
   "cell_type": "markdown",
   "metadata": {},
   "source": [
    "## Проект \"Проверка гипотез по увеличению выручки в интернет-магазине, оценка результатов A/B теста\""
   ]
  },
  {
   "cell_type": "markdown",
   "metadata": {},
   "source": [
    "**Заказчик:** отдел маркетинга крупного интернет-магазина.\n",
    "\n",
    "**Входные данные:** список гипотез для увеличения выручки и данные, полученные в результате проведения А/В теста.\n",
    "\n",
    "**Цель исследования:** отобрать и проверить рабочие гипотезы для увелчения выручки посредством приоритизации гипотез, проанализировать результаты A/B-теста."
   ]
  },
  {
   "cell_type": "markdown",
   "metadata": {},
   "source": [
    "# Часть 1. Приоритизация гипотез."
   ]
  },
  {
   "cell_type": "markdown",
   "metadata": {},
   "source": [
    "##  Загрузка данных для приоритезации гипотез"
   ]
  },
  {
   "cell_type": "code",
   "execution_count": 1,
   "metadata": {},
   "outputs": [],
   "source": [
    "import pandas as pd\n",
    "import datetime as dt\n",
    "import numpy as np\n",
    "import matplotlib.pyplot as plt\n",
    "import scipy.stats as stats"
   ]
  },
  {
   "cell_type": "code",
   "execution_count": 2,
   "metadata": {},
   "outputs": [
    {
     "data": {
      "text/html": [
       "<div>\n",
       "<style scoped>\n",
       "    .dataframe tbody tr th:only-of-type {\n",
       "        vertical-align: middle;\n",
       "    }\n",
       "\n",
       "    .dataframe tbody tr th {\n",
       "        vertical-align: top;\n",
       "    }\n",
       "\n",
       "    .dataframe thead th {\n",
       "        text-align: right;\n",
       "    }\n",
       "</style>\n",
       "<table border=\"1\" class=\"dataframe\">\n",
       "  <thead>\n",
       "    <tr style=\"text-align: right;\">\n",
       "      <th></th>\n",
       "      <th>Hypothesis</th>\n",
       "      <th>Reach</th>\n",
       "      <th>Impact</th>\n",
       "      <th>Confidence</th>\n",
       "      <th>Efforts</th>\n",
       "    </tr>\n",
       "  </thead>\n",
       "  <tbody>\n",
       "    <tr>\n",
       "      <th>0</th>\n",
       "      <td>Добавить два новых канала привлечения трафика, что позволит привлекать на 30% больше пользователей</td>\n",
       "      <td>3</td>\n",
       "      <td>10</td>\n",
       "      <td>8</td>\n",
       "      <td>6</td>\n",
       "    </tr>\n",
       "    <tr>\n",
       "      <th>1</th>\n",
       "      <td>Запустить собственную службу доставки, что сократит срок доставки заказов</td>\n",
       "      <td>2</td>\n",
       "      <td>5</td>\n",
       "      <td>4</td>\n",
       "      <td>10</td>\n",
       "    </tr>\n",
       "    <tr>\n",
       "      <th>2</th>\n",
       "      <td>Добавить блоки рекомендаций товаров на сайт интернет магазина, чтобы повысить конверсию и средний чек заказа</td>\n",
       "      <td>8</td>\n",
       "      <td>3</td>\n",
       "      <td>7</td>\n",
       "      <td>3</td>\n",
       "    </tr>\n",
       "    <tr>\n",
       "      <th>3</th>\n",
       "      <td>Изменить структура категорий, что увеличит конверсию, т.к. пользователи быстрее найдут нужный товар</td>\n",
       "      <td>8</td>\n",
       "      <td>3</td>\n",
       "      <td>3</td>\n",
       "      <td>8</td>\n",
       "    </tr>\n",
       "    <tr>\n",
       "      <th>4</th>\n",
       "      <td>Изменить цвет фона главной страницы, чтобы увеличить вовлеченность пользователей</td>\n",
       "      <td>3</td>\n",
       "      <td>1</td>\n",
       "      <td>1</td>\n",
       "      <td>1</td>\n",
       "    </tr>\n",
       "    <tr>\n",
       "      <th>5</th>\n",
       "      <td>Добавить страницу отзывов клиентов о магазине, что позволит увеличить количество заказов</td>\n",
       "      <td>3</td>\n",
       "      <td>2</td>\n",
       "      <td>2</td>\n",
       "      <td>3</td>\n",
       "    </tr>\n",
       "    <tr>\n",
       "      <th>6</th>\n",
       "      <td>Показать на главной странице баннеры с актуальными акциями и распродажами, чтобы увеличить конверсию</td>\n",
       "      <td>5</td>\n",
       "      <td>3</td>\n",
       "      <td>8</td>\n",
       "      <td>3</td>\n",
       "    </tr>\n",
       "    <tr>\n",
       "      <th>7</th>\n",
       "      <td>Добавить форму подписки на все основные страницы, чтобы собрать базу клиентов для email-рассылок</td>\n",
       "      <td>10</td>\n",
       "      <td>7</td>\n",
       "      <td>8</td>\n",
       "      <td>5</td>\n",
       "    </tr>\n",
       "    <tr>\n",
       "      <th>8</th>\n",
       "      <td>Запустить акцию, дающую скидку на товар в день рождения</td>\n",
       "      <td>1</td>\n",
       "      <td>9</td>\n",
       "      <td>9</td>\n",
       "      <td>5</td>\n",
       "    </tr>\n",
       "  </tbody>\n",
       "</table>\n",
       "</div>"
      ],
      "text/plain": [
       "                                                                                                     Hypothesis  \\\n",
       "0            Добавить два новых канала привлечения трафика, что позволит привлекать на 30% больше пользователей   \n",
       "1                                     Запустить собственную службу доставки, что сократит срок доставки заказов   \n",
       "2  Добавить блоки рекомендаций товаров на сайт интернет магазина, чтобы повысить конверсию и средний чек заказа   \n",
       "3           Изменить структура категорий, что увеличит конверсию, т.к. пользователи быстрее найдут нужный товар   \n",
       "4                              Изменить цвет фона главной страницы, чтобы увеличить вовлеченность пользователей   \n",
       "5                      Добавить страницу отзывов клиентов о магазине, что позволит увеличить количество заказов   \n",
       "6          Показать на главной странице баннеры с актуальными акциями и распродажами, чтобы увеличить конверсию   \n",
       "7              Добавить форму подписки на все основные страницы, чтобы собрать базу клиентов для email-рассылок   \n",
       "8                                                       Запустить акцию, дающую скидку на товар в день рождения   \n",
       "\n",
       "   Reach  Impact  Confidence  Efforts  \n",
       "0      3      10           8        6  \n",
       "1      2       5           4       10  \n",
       "2      8       3           7        3  \n",
       "3      8       3           3        8  \n",
       "4      3       1           1        1  \n",
       "5      3       2           2        3  \n",
       "6      5       3           8        3  \n",
       "7     10       7           8        5  \n",
       "8      1       9           9        5  "
      ]
     },
     "metadata": {},
     "output_type": "display_data"
    }
   ],
   "source": [
    "hypothes= pd.read_csv('/datasets/hypothesis.csv')\n",
    "\n",
    "pd.options.display.max_colwidth = 400\n",
    "\n",
    "display(hypothes)"
   ]
  },
  {
   "cell_type": "markdown",
   "metadata": {},
   "source": [
    "### Методы преоритезации гипотез ICE и  RICE"
   ]
  },
  {
   "cell_type": "markdown",
   "metadata": {},
   "source": [
    "Метод ICE (от англ. impact, confidence, effort / ease «влияние, уверенность, усилия / простота»), расчитывается двумя способами:\n",
    "\n",
    "1)  ICE = Impact * Confidence * Ease\n",
    "2)  ICE = Impact * Confidence/Efforts\n",
    "\n",
    "Метод RICE расчитывается как: \n",
    "\n",
    "RICE = Reach * Impact * Confidence/Efforts, где параметры\n",
    "\n",
    "* Reach — скольких пользователей затронет изменение, которое вы хотите внести;\n",
    "* Impact — насколько сильно изменение повлияет на пользователей, их опыт и удовлетворение от продукта;\n",
    "* Confidence — насколько вы уверены, что это изменение повлияет на пользователей именно так;\n",
    "* Efforts — сколько стоит протестировать эту гипотезу.\n",
    "\n",
    "В загруженной выше таблице с данными видим оценки каждой гипотезы по перечисленным параметрам."
   ]
  },
  {
   "cell_type": "markdown",
   "metadata": {},
   "source": [
    "### Приоритезация гипотез. Фреймворк ICE."
   ]
  },
  {
   "cell_type": "code",
   "execution_count": 3,
   "metadata": {},
   "outputs": [
    {
     "data": {
      "text/html": [
       "<div>\n",
       "<style scoped>\n",
       "    .dataframe tbody tr th:only-of-type {\n",
       "        vertical-align: middle;\n",
       "    }\n",
       "\n",
       "    .dataframe tbody tr th {\n",
       "        vertical-align: top;\n",
       "    }\n",
       "\n",
       "    .dataframe thead th {\n",
       "        text-align: right;\n",
       "    }\n",
       "</style>\n",
       "<table border=\"1\" class=\"dataframe\">\n",
       "  <thead>\n",
       "    <tr style=\"text-align: right;\">\n",
       "      <th></th>\n",
       "      <th>Hypothesis</th>\n",
       "      <th>ICE</th>\n",
       "    </tr>\n",
       "  </thead>\n",
       "  <tbody>\n",
       "    <tr>\n",
       "      <th>8</th>\n",
       "      <td>Запустить акцию, дающую скидку на товар в день рождения</td>\n",
       "      <td>16.20</td>\n",
       "    </tr>\n",
       "    <tr>\n",
       "      <th>0</th>\n",
       "      <td>Добавить два новых канала привлечения трафика, что позволит привлекать на 30% больше пользователей</td>\n",
       "      <td>13.33</td>\n",
       "    </tr>\n",
       "    <tr>\n",
       "      <th>7</th>\n",
       "      <td>Добавить форму подписки на все основные страницы, чтобы собрать базу клиентов для email-рассылок</td>\n",
       "      <td>11.20</td>\n",
       "    </tr>\n",
       "    <tr>\n",
       "      <th>6</th>\n",
       "      <td>Показать на главной странице баннеры с актуальными акциями и распродажами, чтобы увеличить конверсию</td>\n",
       "      <td>8.00</td>\n",
       "    </tr>\n",
       "    <tr>\n",
       "      <th>2</th>\n",
       "      <td>Добавить блоки рекомендаций товаров на сайт интернет магазина, чтобы повысить конверсию и средний чек заказа</td>\n",
       "      <td>7.00</td>\n",
       "    </tr>\n",
       "    <tr>\n",
       "      <th>1</th>\n",
       "      <td>Запустить собственную службу доставки, что сократит срок доставки заказов</td>\n",
       "      <td>2.00</td>\n",
       "    </tr>\n",
       "    <tr>\n",
       "      <th>5</th>\n",
       "      <td>Добавить страницу отзывов клиентов о магазине, что позволит увеличить количество заказов</td>\n",
       "      <td>1.33</td>\n",
       "    </tr>\n",
       "    <tr>\n",
       "      <th>3</th>\n",
       "      <td>Изменить структура категорий, что увеличит конверсию, т.к. пользователи быстрее найдут нужный товар</td>\n",
       "      <td>1.12</td>\n",
       "    </tr>\n",
       "    <tr>\n",
       "      <th>4</th>\n",
       "      <td>Изменить цвет фона главной страницы, чтобы увеличить вовлеченность пользователей</td>\n",
       "      <td>1.00</td>\n",
       "    </tr>\n",
       "  </tbody>\n",
       "</table>\n",
       "</div>"
      ],
      "text/plain": [
       "                                                                                                     Hypothesis  \\\n",
       "8                                                       Запустить акцию, дающую скидку на товар в день рождения   \n",
       "0            Добавить два новых канала привлечения трафика, что позволит привлекать на 30% больше пользователей   \n",
       "7              Добавить форму подписки на все основные страницы, чтобы собрать базу клиентов для email-рассылок   \n",
       "6          Показать на главной странице баннеры с актуальными акциями и распродажами, чтобы увеличить конверсию   \n",
       "2  Добавить блоки рекомендаций товаров на сайт интернет магазина, чтобы повысить конверсию и средний чек заказа   \n",
       "1                                     Запустить собственную службу доставки, что сократит срок доставки заказов   \n",
       "5                      Добавить страницу отзывов клиентов о магазине, что позволит увеличить количество заказов   \n",
       "3           Изменить структура категорий, что увеличит конверсию, т.к. пользователи быстрее найдут нужный товар   \n",
       "4                              Изменить цвет фона главной страницы, чтобы увеличить вовлеченность пользователей   \n",
       "\n",
       "     ICE  \n",
       "8  16.20  \n",
       "0  13.33  \n",
       "7  11.20  \n",
       "6   8.00  \n",
       "2   7.00  \n",
       "1   2.00  \n",
       "5   1.33  \n",
       "3   1.12  \n",
       "4   1.00  "
      ]
     },
     "metadata": {},
     "output_type": "display_data"
    }
   ],
   "source": [
    "hypothes['ICE']=round((hypothes['Impact']*hypothes['Confidence'])/hypothes['Efforts'], 2)\n",
    "\n",
    "#print(hypothes[['Hypothesis','ICE']].sort_values(by='ICE', ascending=False))\n",
    "\n",
    "display(hypothes[['Hypothesis','ICE']].sort_values(by='ICE', ascending=False))"
   ]
  },
  {
   "cell_type": "markdown",
   "metadata": {},
   "source": [
    "Наиболее перспективные гипотезы, оценённые методом ICE: 9, 1 и 8."
   ]
  },
  {
   "cell_type": "markdown",
   "metadata": {},
   "source": [
    "### Приоритезация гипотез. Фреймворк RICE."
   ]
  },
  {
   "cell_type": "code",
   "execution_count": 4,
   "metadata": {},
   "outputs": [
    {
     "data": {
      "text/html": [
       "<div>\n",
       "<style scoped>\n",
       "    .dataframe tbody tr th:only-of-type {\n",
       "        vertical-align: middle;\n",
       "    }\n",
       "\n",
       "    .dataframe tbody tr th {\n",
       "        vertical-align: top;\n",
       "    }\n",
       "\n",
       "    .dataframe thead th {\n",
       "        text-align: right;\n",
       "    }\n",
       "</style>\n",
       "<table border=\"1\" class=\"dataframe\">\n",
       "  <thead>\n",
       "    <tr style=\"text-align: right;\">\n",
       "      <th></th>\n",
       "      <th>Hypothesis</th>\n",
       "      <th>RICE</th>\n",
       "    </tr>\n",
       "  </thead>\n",
       "  <tbody>\n",
       "    <tr>\n",
       "      <th>7</th>\n",
       "      <td>Добавить форму подписки на все основные страницы, чтобы собрать базу клиентов для email-рассылок</td>\n",
       "      <td>112.0</td>\n",
       "    </tr>\n",
       "    <tr>\n",
       "      <th>2</th>\n",
       "      <td>Добавить блоки рекомендаций товаров на сайт интернет магазина, чтобы повысить конверсию и средний чек заказа</td>\n",
       "      <td>56.0</td>\n",
       "    </tr>\n",
       "    <tr>\n",
       "      <th>0</th>\n",
       "      <td>Добавить два новых канала привлечения трафика, что позволит привлекать на 30% больше пользователей</td>\n",
       "      <td>40.0</td>\n",
       "    </tr>\n",
       "    <tr>\n",
       "      <th>6</th>\n",
       "      <td>Показать на главной странице баннеры с актуальными акциями и распродажами, чтобы увеличить конверсию</td>\n",
       "      <td>40.0</td>\n",
       "    </tr>\n",
       "    <tr>\n",
       "      <th>8</th>\n",
       "      <td>Запустить акцию, дающую скидку на товар в день рождения</td>\n",
       "      <td>16.2</td>\n",
       "    </tr>\n",
       "    <tr>\n",
       "      <th>3</th>\n",
       "      <td>Изменить структура категорий, что увеличит конверсию, т.к. пользователи быстрее найдут нужный товар</td>\n",
       "      <td>9.0</td>\n",
       "    </tr>\n",
       "    <tr>\n",
       "      <th>1</th>\n",
       "      <td>Запустить собственную службу доставки, что сократит срок доставки заказов</td>\n",
       "      <td>4.0</td>\n",
       "    </tr>\n",
       "    <tr>\n",
       "      <th>5</th>\n",
       "      <td>Добавить страницу отзывов клиентов о магазине, что позволит увеличить количество заказов</td>\n",
       "      <td>4.0</td>\n",
       "    </tr>\n",
       "    <tr>\n",
       "      <th>4</th>\n",
       "      <td>Изменить цвет фона главной страницы, чтобы увеличить вовлеченность пользователей</td>\n",
       "      <td>3.0</td>\n",
       "    </tr>\n",
       "  </tbody>\n",
       "</table>\n",
       "</div>"
      ],
      "text/plain": [
       "                                                                                                     Hypothesis  \\\n",
       "7              Добавить форму подписки на все основные страницы, чтобы собрать базу клиентов для email-рассылок   \n",
       "2  Добавить блоки рекомендаций товаров на сайт интернет магазина, чтобы повысить конверсию и средний чек заказа   \n",
       "0            Добавить два новых канала привлечения трафика, что позволит привлекать на 30% больше пользователей   \n",
       "6          Показать на главной странице баннеры с актуальными акциями и распродажами, чтобы увеличить конверсию   \n",
       "8                                                       Запустить акцию, дающую скидку на товар в день рождения   \n",
       "3           Изменить структура категорий, что увеличит конверсию, т.к. пользователи быстрее найдут нужный товар   \n",
       "1                                     Запустить собственную службу доставки, что сократит срок доставки заказов   \n",
       "5                      Добавить страницу отзывов клиентов о магазине, что позволит увеличить количество заказов   \n",
       "4                              Изменить цвет фона главной страницы, чтобы увеличить вовлеченность пользователей   \n",
       "\n",
       "    RICE  \n",
       "7  112.0  \n",
       "2   56.0  \n",
       "0   40.0  \n",
       "6   40.0  \n",
       "8   16.2  \n",
       "3    9.0  \n",
       "1    4.0  \n",
       "5    4.0  \n",
       "4    3.0  "
      ]
     },
     "metadata": {},
     "output_type": "display_data"
    }
   ],
   "source": [
    "hypothes['RICE'] = (hypothes['Reach']*hypothes['Impact']*hypothes['Confidence'])/hypothes['Efforts']\n",
    "\n",
    "display(hypothes[['Hypothesis','RICE']].sort_values(by='RICE', ascending=False))"
   ]
  },
  {
   "cell_type": "markdown",
   "metadata": {},
   "source": [
    "Наиболее перспективные гипотезы, оценённые методом RICE: 8, 3, 1 и 7, ну и с натяжкой можно добавить 9 гипотезу."
   ]
  },
  {
   "cell_type": "markdown",
   "metadata": {},
   "source": [
    "### Различия в приоритезации гипотез фреймворками ICE и RICE."
   ]
  },
  {
   "cell_type": "markdown",
   "metadata": {},
   "source": [
    "Определения параметров: \n",
    "\n",
    "**Reach** — скольких пользователей затронет изменение, которое вы хотите внести;\n",
    "\n",
    "**Impact** — насколько сильно изменение повлияет на пользователей, их опыт и удовлетворение от продукта;\n",
    "\n",
    "**Confidence** — насколько вы уверены, что это изменение повлияет на пользователей именно так;\n",
    "\n",
    "**Efforts** — сколько стоит протестировать эту гипотезу."
   ]
  },
  {
   "cell_type": "markdown",
   "metadata": {},
   "source": [
    "При оценке гипотез методами ICE и RICE, получились следующие результаты:\n",
    "ICE: 9, 1, 8\n",
    "RICE: 8, 3, 1, 7\n",
    "\n",
    "При обоих методах высокий приоритет получили гипотезы №1 и №8 имеют высокие оценки по параметрам: Impact, Confidence, Reach.\n",
    "\n",
    "Причины различий:\n",
    "гипотеза №9 имеет высокие оценки по параметрам Impact и Confidence, но самый низкий из всех гипотез параметр Reach=1, что опустило гипотезу №9 с первого места при оценке методом ICE на 5-место по приоритету при оценке методом RICE.\n",
    "\n",
    "Гипотезы №3 и №7, которые не попали в ТОР-3 по методу ICE, из-за низкой оценки по параметру Impact=3, но благодаря высоким оценкам по параметру Reach - у гипотезы №3 Reach = 8, №7 Reach= 5, эти гипотезы попали в ТОР-4 при оценке методом RICE."
   ]
  },
  {
   "cell_type": "markdown",
   "metadata": {},
   "source": [
    "# Часть 2. Анализ A/B-теста"
   ]
  },
  {
   "cell_type": "markdown",
   "metadata": {},
   "source": [
    "## Загрузка данных для анализа результатов A/B-теста"
   ]
  },
  {
   "cell_type": "code",
   "execution_count": 5,
   "metadata": {},
   "outputs": [
    {
     "data": {
      "text/html": [
       "<div>\n",
       "<style scoped>\n",
       "    .dataframe tbody tr th:only-of-type {\n",
       "        vertical-align: middle;\n",
       "    }\n",
       "\n",
       "    .dataframe tbody tr th {\n",
       "        vertical-align: top;\n",
       "    }\n",
       "\n",
       "    .dataframe thead th {\n",
       "        text-align: right;\n",
       "    }\n",
       "</style>\n",
       "<table border=\"1\" class=\"dataframe\">\n",
       "  <thead>\n",
       "    <tr style=\"text-align: right;\">\n",
       "      <th></th>\n",
       "      <th>transactionId</th>\n",
       "      <th>visitorId</th>\n",
       "      <th>date</th>\n",
       "      <th>revenue</th>\n",
       "      <th>group</th>\n",
       "    </tr>\n",
       "  </thead>\n",
       "  <tbody>\n",
       "    <tr>\n",
       "      <th>0</th>\n",
       "      <td>3667963787</td>\n",
       "      <td>3312258926</td>\n",
       "      <td>2019-08-15</td>\n",
       "      <td>1650</td>\n",
       "      <td>B</td>\n",
       "    </tr>\n",
       "    <tr>\n",
       "      <th>1</th>\n",
       "      <td>2804400009</td>\n",
       "      <td>3642806036</td>\n",
       "      <td>2019-08-15</td>\n",
       "      <td>730</td>\n",
       "      <td>B</td>\n",
       "    </tr>\n",
       "    <tr>\n",
       "      <th>2</th>\n",
       "      <td>2961555356</td>\n",
       "      <td>4069496402</td>\n",
       "      <td>2019-08-15</td>\n",
       "      <td>400</td>\n",
       "      <td>A</td>\n",
       "    </tr>\n",
       "    <tr>\n",
       "      <th>3</th>\n",
       "      <td>3797467345</td>\n",
       "      <td>1196621759</td>\n",
       "      <td>2019-08-15</td>\n",
       "      <td>9759</td>\n",
       "      <td>B</td>\n",
       "    </tr>\n",
       "    <tr>\n",
       "      <th>4</th>\n",
       "      <td>2282983706</td>\n",
       "      <td>2322279887</td>\n",
       "      <td>2019-08-15</td>\n",
       "      <td>2308</td>\n",
       "      <td>B</td>\n",
       "    </tr>\n",
       "  </tbody>\n",
       "</table>\n",
       "</div>"
      ],
      "text/plain": [
       "   transactionId   visitorId       date  revenue group\n",
       "0     3667963787  3312258926 2019-08-15     1650     B\n",
       "1     2804400009  3642806036 2019-08-15      730     B\n",
       "2     2961555356  4069496402 2019-08-15      400     A\n",
       "3     3797467345  1196621759 2019-08-15     9759     B\n",
       "4     2282983706  2322279887 2019-08-15     2308     B"
      ]
     },
     "execution_count": 5,
     "metadata": {},
     "output_type": "execute_result"
    }
   ],
   "source": [
    "orders= pd.read_csv('/datasets/orders.csv')\n",
    "orders['date'] = orders['date'].map(lambda x: dt.datetime.strptime(x, '%Y-%m-%d'))\n",
    "orders.head(5)"
   ]
  },
  {
   "cell_type": "code",
   "execution_count": 6,
   "metadata": {},
   "outputs": [
    {
     "name": "stdout",
     "output_type": "stream",
     "text": [
      "<class 'pandas.core.frame.DataFrame'>\n",
      "RangeIndex: 1197 entries, 0 to 1196\n",
      "Data columns (total 5 columns):\n",
      " #   Column         Non-Null Count  Dtype         \n",
      "---  ------         --------------  -----         \n",
      " 0   transactionId  1197 non-null   int64         \n",
      " 1   visitorId      1197 non-null   int64         \n",
      " 2   date           1197 non-null   datetime64[ns]\n",
      " 3   revenue        1197 non-null   int64         \n",
      " 4   group          1197 non-null   object        \n",
      "dtypes: datetime64[ns](1), int64(3), object(1)\n",
      "memory usage: 46.9+ KB\n"
     ]
    }
   ],
   "source": [
    "orders.info()"
   ]
  },
  {
   "cell_type": "code",
   "execution_count": 7,
   "metadata": {},
   "outputs": [
    {
     "data": {
      "text/html": [
       "<div>\n",
       "<style scoped>\n",
       "    .dataframe tbody tr th:only-of-type {\n",
       "        vertical-align: middle;\n",
       "    }\n",
       "\n",
       "    .dataframe tbody tr th {\n",
       "        vertical-align: top;\n",
       "    }\n",
       "\n",
       "    .dataframe thead th {\n",
       "        text-align: right;\n",
       "    }\n",
       "</style>\n",
       "<table border=\"1\" class=\"dataframe\">\n",
       "  <thead>\n",
       "    <tr style=\"text-align: right;\">\n",
       "      <th></th>\n",
       "      <th>date</th>\n",
       "      <th>group</th>\n",
       "      <th>visitors</th>\n",
       "    </tr>\n",
       "  </thead>\n",
       "  <tbody>\n",
       "    <tr>\n",
       "      <th>0</th>\n",
       "      <td>2019-08-01</td>\n",
       "      <td>A</td>\n",
       "      <td>719</td>\n",
       "    </tr>\n",
       "    <tr>\n",
       "      <th>1</th>\n",
       "      <td>2019-08-02</td>\n",
       "      <td>A</td>\n",
       "      <td>619</td>\n",
       "    </tr>\n",
       "    <tr>\n",
       "      <th>2</th>\n",
       "      <td>2019-08-03</td>\n",
       "      <td>A</td>\n",
       "      <td>507</td>\n",
       "    </tr>\n",
       "    <tr>\n",
       "      <th>3</th>\n",
       "      <td>2019-08-04</td>\n",
       "      <td>A</td>\n",
       "      <td>717</td>\n",
       "    </tr>\n",
       "    <tr>\n",
       "      <th>4</th>\n",
       "      <td>2019-08-05</td>\n",
       "      <td>A</td>\n",
       "      <td>756</td>\n",
       "    </tr>\n",
       "  </tbody>\n",
       "</table>\n",
       "</div>"
      ],
      "text/plain": [
       "        date group  visitors\n",
       "0 2019-08-01     A       719\n",
       "1 2019-08-02     A       619\n",
       "2 2019-08-03     A       507\n",
       "3 2019-08-04     A       717\n",
       "4 2019-08-05     A       756"
      ]
     },
     "execution_count": 7,
     "metadata": {},
     "output_type": "execute_result"
    }
   ],
   "source": [
    "visitors= pd.read_csv('/datasets/visitors.csv')\n",
    "visitors['date'] = visitors['date'].map(lambda x: dt.datetime.strptime(x,'%Y-%m-%d'))\n",
    "visitors.head(5)"
   ]
  },
  {
   "cell_type": "code",
   "execution_count": 8,
   "metadata": {},
   "outputs": [
    {
     "name": "stdout",
     "output_type": "stream",
     "text": [
      "<class 'pandas.core.frame.DataFrame'>\n",
      "RangeIndex: 62 entries, 0 to 61\n",
      "Data columns (total 3 columns):\n",
      " #   Column    Non-Null Count  Dtype         \n",
      "---  ------    --------------  -----         \n",
      " 0   date      62 non-null     datetime64[ns]\n",
      " 1   group     62 non-null     object        \n",
      " 2   visitors  62 non-null     int64         \n",
      "dtypes: datetime64[ns](1), int64(1), object(1)\n",
      "memory usage: 1.6+ KB\n"
     ]
    }
   ],
   "source": [
    "visitors.info()"
   ]
  },
  {
   "cell_type": "markdown",
   "metadata": {},
   "source": [
    "## Предобработка данных"
   ]
  },
  {
   "cell_type": "code",
   "execution_count": 9,
   "metadata": {},
   "outputs": [
    {
     "data": {
      "text/plain": [
       "0"
      ]
     },
     "execution_count": 9,
     "metadata": {},
     "output_type": "execute_result"
    }
   ],
   "source": [
    "# проверим наличие дубликатов в таблице orders\n",
    "orders.duplicated().sum()"
   ]
  },
  {
   "cell_type": "code",
   "execution_count": 10,
   "metadata": {},
   "outputs": [
    {
     "data": {
      "text/plain": [
       "0"
      ]
     },
     "execution_count": 10,
     "metadata": {},
     "output_type": "execute_result"
    }
   ],
   "source": [
    "# проверим наличие дубликатов в таблице visitors\n",
    "visitors.duplicated().sum()"
   ]
  },
  {
   "cell_type": "code",
   "execution_count": 11,
   "metadata": {},
   "outputs": [
    {
     "name": "stdout",
     "output_type": "stream",
     "text": [
      "Количество пропусков в столбцах таблицы orders:\n",
      "\n",
      "transactionId 0\n",
      "visitorId 0\n",
      "date 0\n",
      "revenue 0\n",
      "group 0\n"
     ]
    }
   ],
   "source": [
    "#Проверим таблицы на наличие пропусков в столбцах полученных таблиц:\n",
    "\n",
    "print('Количество пропусков в столбцах таблицы orders:')\n",
    "print()\n",
    "for col in orders:\n",
    "    a = len(orders[orders[col].isna()]) #находим кол-во пропусков в каждом слолбце\n",
    "    print('{}'.format(col), a)"
   ]
  },
  {
   "cell_type": "code",
   "execution_count": 12,
   "metadata": {},
   "outputs": [
    {
     "name": "stdout",
     "output_type": "stream",
     "text": [
      "Количество пропусков в столбцах таблицы visitors:\n",
      "\n",
      "date 0\n",
      "group 0\n",
      "visitors 0\n"
     ]
    }
   ],
   "source": [
    "print('Количество пропусков в столбцах таблицы visitors:')\n",
    "print()\n",
    "for col in visitors:\n",
    "    a = len(visitors[visitors[col].isna()]) #находим кол-во пропусков в каждом слолбце\n",
    "    print('{}'.format(col), a)"
   ]
  },
  {
   "cell_type": "code",
   "execution_count": 14,
   "metadata": {},
   "outputs": [
    {
     "name": "stdout",
     "output_type": "stream",
     "text": [
      "<class 'pandas.core.frame.DataFrame'>\n",
      "RangeIndex: 1197 entries, 0 to 1196\n",
      "Data columns (total 5 columns):\n",
      " #   Column         Non-Null Count  Dtype         \n",
      "---  ------         --------------  -----         \n",
      " 0   transactionId  1197 non-null   int64         \n",
      " 1   visitorId      1197 non-null   int64         \n",
      " 2   date           1197 non-null   datetime64[ns]\n",
      " 3   revenue        1197 non-null   int64         \n",
      " 4   group          1197 non-null   object        \n",
      "dtypes: datetime64[ns](1), int64(3), object(1)\n",
      "memory usage: 46.9+ KB\n"
     ]
    }
   ],
   "source": [
    "#проверим полученный результат замены типа данных \n",
    "orders.info()"
   ]
  },
  {
   "cell_type": "code",
   "execution_count": 15,
   "metadata": {},
   "outputs": [
    {
     "name": "stdout",
     "output_type": "stream",
     "text": [
      "<class 'pandas.core.frame.DataFrame'>\n",
      "RangeIndex: 62 entries, 0 to 61\n",
      "Data columns (total 3 columns):\n",
      " #   Column    Non-Null Count  Dtype         \n",
      "---  ------    --------------  -----         \n",
      " 0   date      62 non-null     datetime64[ns]\n",
      " 1   group     62 non-null     object        \n",
      " 2   visitors  62 non-null     int64         \n",
      "dtypes: datetime64[ns](1), int64(1), object(1)\n",
      "memory usage: 1.6+ KB\n"
     ]
    }
   ],
   "source": [
    "#проверим полученный результат замены типа данных \n",
    "visitors.info() "
   ]
  },
  {
   "cell_type": "markdown",
   "metadata": {},
   "source": [
    "Проверим, есть ли пользователи попавшие в обе группы, для этого создадим массив уникальных пар значений пользователей и групп теста:"
   ]
  },
  {
   "cell_type": "code",
   "execution_count": 16,
   "metadata": {},
   "outputs": [],
   "source": [
    "visitor_group =  orders[['visitorId', 'group']].drop_duplicates()"
   ]
  },
  {
   "cell_type": "markdown",
   "metadata": {},
   "source": [
    "Теперь полученный массив проверим на дубликаты идентификторов пользователей: "
   ]
  },
  {
   "cell_type": "code",
   "execution_count": 17,
   "metadata": {},
   "outputs": [
    {
     "data": {
      "text/plain": [
       "58"
      ]
     },
     "execution_count": 17,
     "metadata": {},
     "output_type": "execute_result"
    }
   ],
   "source": [
    "visitor_group['visitorId'].duplicated().sum()"
   ]
  },
  {
   "cell_type": "code",
   "execution_count": 18,
   "metadata": {},
   "outputs": [
    {
     "data": {
      "text/plain": [
       "1031"
      ]
     },
     "execution_count": 18,
     "metadata": {},
     "output_type": "execute_result"
    }
   ],
   "source": [
    "#посчитаем количество уникальных пользователей \n",
    "visitor_group['visitorId'].nunique()"
   ]
  },
  {
   "cell_type": "code",
   "execution_count": 19,
   "metadata": {},
   "outputs": [
    {
     "data": {
      "text/plain": [
       "'% пересечений пользователей в группах А и В:'"
      ]
     },
     "metadata": {},
     "output_type": "display_data"
    },
    {
     "data": {
      "text/plain": [
       "5.6"
      ]
     },
     "metadata": {},
     "output_type": "display_data"
    }
   ],
   "source": [
    "#найдём, какой % дубликатов, а значит пересечений пользователей в группах А и В:\n",
    "dup= visitor_group['visitorId'].duplicated().sum()/visitor_group['visitorId'].nunique()*100\n",
    "display('% пересечений пользователей в группах А и В:', round(dup,1))"
   ]
  },
  {
   "cell_type": "markdown",
   "metadata": {},
   "source": [
    "Для дальнейшей оценки результатов теста, удалим данные о пользователях, которые попали в обе группы. Для этого получим список пользователей, которые входят в обе группы:"
   ]
  },
  {
   "cell_type": "code",
   "execution_count": 20,
   "metadata": {},
   "outputs": [
    {
     "data": {
      "text/html": [
       "<div>\n",
       "<style scoped>\n",
       "    .dataframe tbody tr th:only-of-type {\n",
       "        vertical-align: middle;\n",
       "    }\n",
       "\n",
       "    .dataframe tbody tr th {\n",
       "        vertical-align: top;\n",
       "    }\n",
       "\n",
       "    .dataframe thead th {\n",
       "        text-align: right;\n",
       "    }\n",
       "</style>\n",
       "<table border=\"1\" class=\"dataframe\">\n",
       "  <thead>\n",
       "    <tr style=\"text-align: right;\">\n",
       "      <th></th>\n",
       "      <th>index</th>\n",
       "      <th>visitorId</th>\n",
       "      <th>group</th>\n",
       "    </tr>\n",
       "  </thead>\n",
       "  <tbody>\n",
       "    <tr>\n",
       "      <th>0</th>\n",
       "      <td>2</td>\n",
       "      <td>8300375</td>\n",
       "      <td>2</td>\n",
       "    </tr>\n",
       "    <tr>\n",
       "      <th>1</th>\n",
       "      <td>44</td>\n",
       "      <td>199603092</td>\n",
       "      <td>2</td>\n",
       "    </tr>\n",
       "    <tr>\n",
       "      <th>2</th>\n",
       "      <td>51</td>\n",
       "      <td>232979603</td>\n",
       "      <td>2</td>\n",
       "    </tr>\n",
       "    <tr>\n",
       "      <th>3</th>\n",
       "      <td>55</td>\n",
       "      <td>237748145</td>\n",
       "      <td>2</td>\n",
       "    </tr>\n",
       "    <tr>\n",
       "      <th>4</th>\n",
       "      <td>66</td>\n",
       "      <td>276558944</td>\n",
       "      <td>2</td>\n",
       "    </tr>\n",
       "  </tbody>\n",
       "</table>\n",
       "</div>"
      ],
      "text/plain": [
       "   index  visitorId  group\n",
       "0      2    8300375      2\n",
       "1     44  199603092      2\n",
       "2     51  232979603      2\n",
       "3     55  237748145      2\n",
       "4     66  276558944      2"
      ]
     },
     "execution_count": 20,
     "metadata": {},
     "output_type": "execute_result"
    }
   ],
   "source": [
    "un_visitors = orders.groupby('visitorId', as_index=False)['group'].agg({'group' : 'nunique'})\n",
    "user_2_group = un_visitors[un_visitors['group']==2].reset_index()\n",
    "user_2_group.head()"
   ]
  },
  {
   "cell_type": "code",
   "execution_count": 21,
   "metadata": {},
   "outputs": [
    {
     "data": {
      "text/plain": [
       "58"
      ]
     },
     "execution_count": 21,
     "metadata": {},
     "output_type": "execute_result"
    }
   ],
   "source": [
    "# сделаем проверку, проверка подтверждает, что это те самые дубликаты \n",
    "len(user_2_group)"
   ]
  },
  {
   "cell_type": "code",
   "execution_count": 22,
   "metadata": {},
   "outputs": [
    {
     "data": {
      "text/html": [
       "<div>\n",
       "<style scoped>\n",
       "    .dataframe tbody tr th:only-of-type {\n",
       "        vertical-align: middle;\n",
       "    }\n",
       "\n",
       "    .dataframe tbody tr th {\n",
       "        vertical-align: top;\n",
       "    }\n",
       "\n",
       "    .dataframe thead th {\n",
       "        text-align: right;\n",
       "    }\n",
       "</style>\n",
       "<table border=\"1\" class=\"dataframe\">\n",
       "  <thead>\n",
       "    <tr style=\"text-align: right;\">\n",
       "      <th></th>\n",
       "      <th>index</th>\n",
       "      <th>visitorId</th>\n",
       "      <th>group</th>\n",
       "    </tr>\n",
       "  </thead>\n",
       "  <tbody>\n",
       "    <tr>\n",
       "      <th>0</th>\n",
       "      <td>0</td>\n",
       "      <td>5114589</td>\n",
       "      <td>1</td>\n",
       "    </tr>\n",
       "    <tr>\n",
       "      <th>1</th>\n",
       "      <td>1</td>\n",
       "      <td>6958315</td>\n",
       "      <td>1</td>\n",
       "    </tr>\n",
       "    <tr>\n",
       "      <th>2</th>\n",
       "      <td>3</td>\n",
       "      <td>11685486</td>\n",
       "      <td>1</td>\n",
       "    </tr>\n",
       "    <tr>\n",
       "      <th>3</th>\n",
       "      <td>4</td>\n",
       "      <td>39475350</td>\n",
       "      <td>1</td>\n",
       "    </tr>\n",
       "    <tr>\n",
       "      <th>4</th>\n",
       "      <td>5</td>\n",
       "      <td>47206413</td>\n",
       "      <td>1</td>\n",
       "    </tr>\n",
       "  </tbody>\n",
       "</table>\n",
       "</div>"
      ],
      "text/plain": [
       "   index  visitorId  group\n",
       "0      0    5114589      1\n",
       "1      1    6958315      1\n",
       "2      3   11685486      1\n",
       "3      4   39475350      1\n",
       "4      5   47206413      1"
      ]
     },
     "execution_count": 22,
     "metadata": {},
     "output_type": "execute_result"
    }
   ],
   "source": [
    "user_1_group = un_visitors[un_visitors['group']==1].reset_index()\n",
    "user_1_group.head()"
   ]
  },
  {
   "cell_type": "code",
   "execution_count": 23,
   "metadata": {},
   "outputs": [
    {
     "data": {
      "text/html": [
       "<div>\n",
       "<style scoped>\n",
       "    .dataframe tbody tr th:only-of-type {\n",
       "        vertical-align: middle;\n",
       "    }\n",
       "\n",
       "    .dataframe tbody tr th {\n",
       "        vertical-align: top;\n",
       "    }\n",
       "\n",
       "    .dataframe thead th {\n",
       "        text-align: right;\n",
       "    }\n",
       "</style>\n",
       "<table border=\"1\" class=\"dataframe\">\n",
       "  <thead>\n",
       "    <tr style=\"text-align: right;\">\n",
       "      <th></th>\n",
       "      <th>visitorId</th>\n",
       "    </tr>\n",
       "  </thead>\n",
       "  <tbody>\n",
       "    <tr>\n",
       "      <th>0</th>\n",
       "      <td>5114589</td>\n",
       "    </tr>\n",
       "    <tr>\n",
       "      <th>1</th>\n",
       "      <td>6958315</td>\n",
       "    </tr>\n",
       "    <tr>\n",
       "      <th>2</th>\n",
       "      <td>11685486</td>\n",
       "    </tr>\n",
       "  </tbody>\n",
       "</table>\n",
       "</div>"
      ],
      "text/plain": [
       "   visitorId\n",
       "0    5114589\n",
       "1    6958315\n",
       "2   11685486"
      ]
     },
     "execution_count": 23,
     "metadata": {},
     "output_type": "execute_result"
    }
   ],
   "source": [
    "user_1_group = user_1_group.drop(columns = ['index','group'])\n",
    "user_1_group.head(3)"
   ]
  },
  {
   "cell_type": "markdown",
   "metadata": {},
   "source": [
    "Теперь очистим таблицу orders от записей о пользователях, которые попали в обе группы:"
   ]
  },
  {
   "cell_type": "markdown",
   "metadata": {},
   "source": [
    " 1-й способ: не работает: "
   ]
  },
  {
   "cell_type": "code",
   "execution_count": 24,
   "metadata": {},
   "outputs": [],
   "source": [
    "#cl_orders=orders[np.logical_not(orders['visitorId'].isin(user_2_group))]     \n",
    "#cl_orders.head(3)"
   ]
  },
  {
   "cell_type": "code",
   "execution_count": 25,
   "metadata": {},
   "outputs": [],
   "source": [
    "#un_visitors_1 = cl_orders.groupby('visitorId', as_index=False)['group'].agg({'group' : 'nunique'})\n",
    "#user_2_group_1 = un_visitors_1[un_visitors_1['group']==2].reset_index()\n",
    "#user_2_group_1.head(3)"
   ]
  },
  {
   "cell_type": "markdown",
   "metadata": {},
   "source": [
    "2-й способ:работает:"
   ]
  },
  {
   "cell_type": "code",
   "execution_count": 26,
   "metadata": {},
   "outputs": [
    {
     "data": {
      "text/html": [
       "<div>\n",
       "<style scoped>\n",
       "    .dataframe tbody tr th:only-of-type {\n",
       "        vertical-align: middle;\n",
       "    }\n",
       "\n",
       "    .dataframe tbody tr th {\n",
       "        vertical-align: top;\n",
       "    }\n",
       "\n",
       "    .dataframe thead th {\n",
       "        text-align: right;\n",
       "    }\n",
       "</style>\n",
       "<table border=\"1\" class=\"dataframe\">\n",
       "  <thead>\n",
       "    <tr style=\"text-align: right;\">\n",
       "      <th></th>\n",
       "      <th>transactionId</th>\n",
       "      <th>visitorId</th>\n",
       "      <th>date</th>\n",
       "      <th>revenue</th>\n",
       "      <th>group</th>\n",
       "    </tr>\n",
       "  </thead>\n",
       "  <tbody>\n",
       "    <tr>\n",
       "      <th>0</th>\n",
       "      <td>900025958</td>\n",
       "      <td>5114589</td>\n",
       "      <td>2019-08-16</td>\n",
       "      <td>570</td>\n",
       "      <td>B</td>\n",
       "    </tr>\n",
       "    <tr>\n",
       "      <th>1</th>\n",
       "      <td>1887336629</td>\n",
       "      <td>6958315</td>\n",
       "      <td>2019-08-04</td>\n",
       "      <td>1490</td>\n",
       "      <td>B</td>\n",
       "    </tr>\n",
       "    <tr>\n",
       "      <th>2</th>\n",
       "      <td>797272237</td>\n",
       "      <td>11685486</td>\n",
       "      <td>2019-08-23</td>\n",
       "      <td>6201</td>\n",
       "      <td>A</td>\n",
       "    </tr>\n",
       "  </tbody>\n",
       "</table>\n",
       "</div>"
      ],
      "text/plain": [
       "   transactionId  visitorId       date  revenue group\n",
       "0      900025958    5114589 2019-08-16      570     B\n",
       "1     1887336629    6958315 2019-08-04     1490     B\n",
       "2      797272237   11685486 2019-08-23     6201     A"
      ]
     },
     "execution_count": 26,
     "metadata": {},
     "output_type": "execute_result"
    }
   ],
   "source": [
    "orders = orders.merge(user_1_group, how='right', on=['visitorId'])\n",
    "orders.head(3)"
   ]
  },
  {
   "cell_type": "markdown",
   "metadata": {},
   "source": [
    "Сделаем проверку, что теперь таблица не содержит данных о пользователях, которые попали в обе группы:"
   ]
  },
  {
   "cell_type": "code",
   "execution_count": 27,
   "metadata": {},
   "outputs": [
    {
     "data": {
      "text/html": [
       "<div>\n",
       "<style scoped>\n",
       "    .dataframe tbody tr th:only-of-type {\n",
       "        vertical-align: middle;\n",
       "    }\n",
       "\n",
       "    .dataframe tbody tr th {\n",
       "        vertical-align: top;\n",
       "    }\n",
       "\n",
       "    .dataframe thead th {\n",
       "        text-align: right;\n",
       "    }\n",
       "</style>\n",
       "<table border=\"1\" class=\"dataframe\">\n",
       "  <thead>\n",
       "    <tr style=\"text-align: right;\">\n",
       "      <th></th>\n",
       "      <th>index</th>\n",
       "      <th>visitorId</th>\n",
       "      <th>group</th>\n",
       "    </tr>\n",
       "  </thead>\n",
       "  <tbody>\n",
       "  </tbody>\n",
       "</table>\n",
       "</div>"
      ],
      "text/plain": [
       "Empty DataFrame\n",
       "Columns: [index, visitorId, group]\n",
       "Index: []"
      ]
     },
     "execution_count": 27,
     "metadata": {},
     "output_type": "execute_result"
    }
   ],
   "source": [
    "un_visitors = orders.groupby('visitorId', as_index=False)['group'].agg({'group' : 'nunique'})\n",
    "user_2_group = un_visitors[un_visitors['group']==2].reset_index()\n",
    "user_2_group.head(3)"
   ]
  },
  {
   "cell_type": "markdown",
   "metadata": {},
   "source": [
    "## График кумулятивной выручки по группам"
   ]
  },
  {
   "cell_type": "markdown",
   "metadata": {},
   "source": [
    "Чтобы построить график, соберём кумулятивные данные. Для этого создадим таблицу СumulativeData со следующими столбцами:\n",
    "* date — дата;\n",
    "* group — группа A/B-теста (A или B);\n",
    "* orders — кумулятивное количество заказов на указанную дату в указанной группе;\n",
    "* buyers — кумулятивное количество пользователей, совершивших хотя бы один заказ, на указанную дату в указанной группе;\n",
    "* revenue — кумулятивная выручка на указанную дату в указанной группе (средний чек);\n",
    "* visitors — кумулятивное количество посетителей интернет-магазина на указанную дату в определённой группе."
   ]
  },
  {
   "cell_type": "markdown",
   "metadata": {},
   "source": [
    "Сначала создадим массив уникальных пар значений дат и групп теста:"
   ]
  },
  {
   "cell_type": "code",
   "execution_count": 28,
   "metadata": {},
   "outputs": [],
   "source": [
    "datesGroups = orders[['date', 'group']].drop_duplicates()"
   ]
  },
  {
   "cell_type": "markdown",
   "metadata": {},
   "source": [
    "Соберём агрегированные кумулятивные по дням данные о заказах:\n"
   ]
  },
  {
   "cell_type": "markdown",
   "metadata": {},
   "source": [
    "Шаг1. Получим строки таблицы orders, дата которых меньше или равна дате элемента из datesGroups и группа теста равна группе из datesGroups:"
   ]
  },
  {
   "cell_type": "code",
   "execution_count": 29,
   "metadata": {},
   "outputs": [
    {
     "data": {
      "text/html": [
       "<div>\n",
       "<style scoped>\n",
       "    .dataframe tbody tr th:only-of-type {\n",
       "        vertical-align: middle;\n",
       "    }\n",
       "\n",
       "    .dataframe tbody tr th {\n",
       "        vertical-align: top;\n",
       "    }\n",
       "\n",
       "    .dataframe thead th {\n",
       "        text-align: right;\n",
       "    }\n",
       "</style>\n",
       "<table border=\"1\" class=\"dataframe\">\n",
       "  <thead>\n",
       "    <tr style=\"text-align: right;\">\n",
       "      <th></th>\n",
       "      <th>transactionId</th>\n",
       "      <th>visitorId</th>\n",
       "      <th>date</th>\n",
       "      <th>revenue</th>\n",
       "      <th>group</th>\n",
       "    </tr>\n",
       "  </thead>\n",
       "  <tbody>\n",
       "    <tr>\n",
       "      <th>0</th>\n",
       "      <td>900025958</td>\n",
       "      <td>5114589</td>\n",
       "      <td>2019-08-16</td>\n",
       "      <td>570</td>\n",
       "      <td>B</td>\n",
       "    </tr>\n",
       "    <tr>\n",
       "      <th>1</th>\n",
       "      <td>1887336629</td>\n",
       "      <td>6958315</td>\n",
       "      <td>2019-08-04</td>\n",
       "      <td>1490</td>\n",
       "      <td>B</td>\n",
       "    </tr>\n",
       "    <tr>\n",
       "      <th>2</th>\n",
       "      <td>797272237</td>\n",
       "      <td>11685486</td>\n",
       "      <td>2019-08-23</td>\n",
       "      <td>6201</td>\n",
       "      <td>A</td>\n",
       "    </tr>\n",
       "    <tr>\n",
       "      <th>3</th>\n",
       "      <td>437876380</td>\n",
       "      <td>39475350</td>\n",
       "      <td>2019-08-08</td>\n",
       "      <td>3990</td>\n",
       "      <td>B</td>\n",
       "    </tr>\n",
       "    <tr>\n",
       "      <th>4</th>\n",
       "      <td>3778001764</td>\n",
       "      <td>47206413</td>\n",
       "      <td>2019-08-10</td>\n",
       "      <td>730</td>\n",
       "      <td>B</td>\n",
       "    </tr>\n",
       "    <tr>\n",
       "      <th>...</th>\n",
       "      <td>...</td>\n",
       "      <td>...</td>\n",
       "      <td>...</td>\n",
       "      <td>...</td>\n",
       "      <td>...</td>\n",
       "    </tr>\n",
       "    <tr>\n",
       "      <th>1011</th>\n",
       "      <td>1266191879</td>\n",
       "      <td>4259830713</td>\n",
       "      <td>2019-08-11</td>\n",
       "      <td>3190</td>\n",
       "      <td>A</td>\n",
       "    </tr>\n",
       "    <tr>\n",
       "      <th>1012</th>\n",
       "      <td>51443164</td>\n",
       "      <td>4278982564</td>\n",
       "      <td>2019-08-05</td>\n",
       "      <td>24744</td>\n",
       "      <td>A</td>\n",
       "    </tr>\n",
       "    <tr>\n",
       "      <th>1013</th>\n",
       "      <td>2724331495</td>\n",
       "      <td>4279090005</td>\n",
       "      <td>2019-08-04</td>\n",
       "      <td>6716</td>\n",
       "      <td>B</td>\n",
       "    </tr>\n",
       "    <tr>\n",
       "      <th>1014</th>\n",
       "      <td>3796325351</td>\n",
       "      <td>4281247801</td>\n",
       "      <td>2019-08-25</td>\n",
       "      <td>2640</td>\n",
       "      <td>B</td>\n",
       "    </tr>\n",
       "    <tr>\n",
       "      <th>1015</th>\n",
       "      <td>836739159</td>\n",
       "      <td>4283872382</td>\n",
       "      <td>2019-08-22</td>\n",
       "      <td>3806</td>\n",
       "      <td>B</td>\n",
       "    </tr>\n",
       "  </tbody>\n",
       "</table>\n",
       "<p>1016 rows × 5 columns</p>\n",
       "</div>"
      ],
      "text/plain": [
       "      transactionId   visitorId       date  revenue group\n",
       "0         900025958     5114589 2019-08-16      570     B\n",
       "1        1887336629     6958315 2019-08-04     1490     B\n",
       "2         797272237    11685486 2019-08-23     6201     A\n",
       "3         437876380    39475350 2019-08-08     3990     B\n",
       "4        3778001764    47206413 2019-08-10      730     B\n",
       "...             ...         ...        ...      ...   ...\n",
       "1011     1266191879  4259830713 2019-08-11     3190     A\n",
       "1012       51443164  4278982564 2019-08-05    24744     A\n",
       "1013     2724331495  4279090005 2019-08-04     6716     B\n",
       "1014     3796325351  4281247801 2019-08-25     2640     B\n",
       "1015      836739159  4283872382 2019-08-22     3806     B\n",
       "\n",
       "[1016 rows x 5 columns]"
      ]
     },
     "execution_count": 29,
     "metadata": {},
     "output_type": "execute_result"
    }
   ],
   "source": [
    "orders[np.logical_and(orders['date'] <= orders['date'], orders['group'] == orders['group'])]"
   ]
  },
  {
   "cell_type": "code",
   "execution_count": 30,
   "metadata": {},
   "outputs": [
    {
     "data": {
      "text/html": [
       "<div>\n",
       "<style scoped>\n",
       "    .dataframe tbody tr th:only-of-type {\n",
       "        vertical-align: middle;\n",
       "    }\n",
       "\n",
       "    .dataframe tbody tr th {\n",
       "        vertical-align: top;\n",
       "    }\n",
       "\n",
       "    .dataframe thead th {\n",
       "        text-align: right;\n",
       "    }\n",
       "</style>\n",
       "<table border=\"1\" class=\"dataframe\">\n",
       "  <thead>\n",
       "    <tr style=\"text-align: right;\">\n",
       "      <th></th>\n",
       "      <th>date</th>\n",
       "      <th>group</th>\n",
       "      <th>transactionId</th>\n",
       "      <th>visitorId</th>\n",
       "      <th>revenue</th>\n",
       "    </tr>\n",
       "  </thead>\n",
       "  <tbody>\n",
       "    <tr>\n",
       "      <th>90</th>\n",
       "      <td>2019-08-01</td>\n",
       "      <td>A</td>\n",
       "      <td>23</td>\n",
       "      <td>19</td>\n",
       "      <td>142779</td>\n",
       "    </tr>\n",
       "    <tr>\n",
       "      <th>23</th>\n",
       "      <td>2019-08-01</td>\n",
       "      <td>B</td>\n",
       "      <td>17</td>\n",
       "      <td>17</td>\n",
       "      <td>59758</td>\n",
       "    </tr>\n",
       "    <tr>\n",
       "      <th>38</th>\n",
       "      <td>2019-08-02</td>\n",
       "      <td>A</td>\n",
       "      <td>42</td>\n",
       "      <td>36</td>\n",
       "      <td>234381</td>\n",
       "    </tr>\n",
       "    <tr>\n",
       "      <th>121</th>\n",
       "      <td>2019-08-02</td>\n",
       "      <td>B</td>\n",
       "      <td>40</td>\n",
       "      <td>39</td>\n",
       "      <td>221801</td>\n",
       "    </tr>\n",
       "    <tr>\n",
       "      <th>21</th>\n",
       "      <td>2019-08-03</td>\n",
       "      <td>A</td>\n",
       "      <td>66</td>\n",
       "      <td>60</td>\n",
       "      <td>346854</td>\n",
       "    </tr>\n",
       "  </tbody>\n",
       "</table>\n",
       "</div>"
      ],
      "text/plain": [
       "          date group  transactionId  visitorId  revenue\n",
       "90  2019-08-01     A             23         19   142779\n",
       "23  2019-08-01     B             17         17    59758\n",
       "38  2019-08-02     A             42         36   234381\n",
       "121 2019-08-02     B             40         39   221801\n",
       "21  2019-08-03     A             66         60   346854"
      ]
     },
     "execution_count": 30,
     "metadata": {},
     "output_type": "execute_result"
    }
   ],
   "source": [
    "ordersAggregated = datesGroups.apply(lambda x: orders[np.logical_and(orders['date'] <= x['date'], orders['group'] == x['group'])]\\\n",
    ".agg({'date' : 'max', 'group' : 'max', 'transactionId' : 'nunique', 'visitorId' : 'nunique', 'revenue' : 'sum'}), axis=1).sort_values(by=['date','group'])\n",
    "\n",
    "ordersAggregated.head(5)"
   ]
  },
  {
   "cell_type": "markdown",
   "metadata": {},
   "source": [
    "Получим агрегированные кумулятивные по дням данные о посетителях интернет-магазина:"
   ]
  },
  {
   "cell_type": "code",
   "execution_count": 31,
   "metadata": {},
   "outputs": [
    {
     "data": {
      "text/html": [
       "<div>\n",
       "<style scoped>\n",
       "    .dataframe tbody tr th:only-of-type {\n",
       "        vertical-align: middle;\n",
       "    }\n",
       "\n",
       "    .dataframe tbody tr th {\n",
       "        vertical-align: top;\n",
       "    }\n",
       "\n",
       "    .dataframe thead th {\n",
       "        text-align: right;\n",
       "    }\n",
       "</style>\n",
       "<table border=\"1\" class=\"dataframe\">\n",
       "  <thead>\n",
       "    <tr style=\"text-align: right;\">\n",
       "      <th></th>\n",
       "      <th>date</th>\n",
       "      <th>group</th>\n",
       "      <th>visitors</th>\n",
       "    </tr>\n",
       "  </thead>\n",
       "  <tbody>\n",
       "    <tr>\n",
       "      <th>90</th>\n",
       "      <td>2019-08-01</td>\n",
       "      <td>A</td>\n",
       "      <td>719</td>\n",
       "    </tr>\n",
       "    <tr>\n",
       "      <th>23</th>\n",
       "      <td>2019-08-01</td>\n",
       "      <td>B</td>\n",
       "      <td>713</td>\n",
       "    </tr>\n",
       "    <tr>\n",
       "      <th>38</th>\n",
       "      <td>2019-08-02</td>\n",
       "      <td>A</td>\n",
       "      <td>1338</td>\n",
       "    </tr>\n",
       "    <tr>\n",
       "      <th>121</th>\n",
       "      <td>2019-08-02</td>\n",
       "      <td>B</td>\n",
       "      <td>1294</td>\n",
       "    </tr>\n",
       "    <tr>\n",
       "      <th>21</th>\n",
       "      <td>2019-08-03</td>\n",
       "      <td>A</td>\n",
       "      <td>1845</td>\n",
       "    </tr>\n",
       "    <tr>\n",
       "      <th>...</th>\n",
       "      <td>...</td>\n",
       "      <td>...</td>\n",
       "      <td>...</td>\n",
       "    </tr>\n",
       "    <tr>\n",
       "      <th>20</th>\n",
       "      <td>2019-08-29</td>\n",
       "      <td>B</td>\n",
       "      <td>17708</td>\n",
       "    </tr>\n",
       "    <tr>\n",
       "      <th>152</th>\n",
       "      <td>2019-08-30</td>\n",
       "      <td>A</td>\n",
       "      <td>18037</td>\n",
       "    </tr>\n",
       "    <tr>\n",
       "      <th>45</th>\n",
       "      <td>2019-08-30</td>\n",
       "      <td>B</td>\n",
       "      <td>18198</td>\n",
       "    </tr>\n",
       "    <tr>\n",
       "      <th>129</th>\n",
       "      <td>2019-08-31</td>\n",
       "      <td>A</td>\n",
       "      <td>18736</td>\n",
       "    </tr>\n",
       "    <tr>\n",
       "      <th>103</th>\n",
       "      <td>2019-08-31</td>\n",
       "      <td>B</td>\n",
       "      <td>18916</td>\n",
       "    </tr>\n",
       "  </tbody>\n",
       "</table>\n",
       "<p>62 rows × 3 columns</p>\n",
       "</div>"
      ],
      "text/plain": [
       "          date group  visitors\n",
       "90  2019-08-01     A       719\n",
       "23  2019-08-01     B       713\n",
       "38  2019-08-02     A      1338\n",
       "121 2019-08-02     B      1294\n",
       "21  2019-08-03     A      1845\n",
       "..         ...   ...       ...\n",
       "20  2019-08-29     B     17708\n",
       "152 2019-08-30     A     18037\n",
       "45  2019-08-30     B     18198\n",
       "129 2019-08-31     A     18736\n",
       "103 2019-08-31     B     18916\n",
       "\n",
       "[62 rows x 3 columns]"
      ]
     },
     "execution_count": 31,
     "metadata": {},
     "output_type": "execute_result"
    }
   ],
   "source": [
    "visitorsAggregated = datesGroups.apply(lambda x: visitors[np.logical_and(visitors['date'] <= x['date'], visitors['group'] == x['group'])].agg({'date' : 'max', 'group' : 'max', 'visitors' : 'sum'}), axis=1).sort_values(by=['date','group'])\n",
    "visitorsAggregated"
   ]
  },
  {
   "cell_type": "markdown",
   "metadata": {},
   "source": [
    "Объединим таблицы ordersAggregated и visitorsAggregated и переименуем столбцы:"
   ]
  },
  {
   "cell_type": "code",
   "execution_count": 32,
   "metadata": {},
   "outputs": [
    {
     "data": {
      "text/html": [
       "<div>\n",
       "<style scoped>\n",
       "    .dataframe tbody tr th:only-of-type {\n",
       "        vertical-align: middle;\n",
       "    }\n",
       "\n",
       "    .dataframe tbody tr th {\n",
       "        vertical-align: top;\n",
       "    }\n",
       "\n",
       "    .dataframe thead th {\n",
       "        text-align: right;\n",
       "    }\n",
       "</style>\n",
       "<table border=\"1\" class=\"dataframe\">\n",
       "  <thead>\n",
       "    <tr style=\"text-align: right;\">\n",
       "      <th></th>\n",
       "      <th>date</th>\n",
       "      <th>group</th>\n",
       "      <th>orders</th>\n",
       "      <th>buyers</th>\n",
       "      <th>revenue</th>\n",
       "      <th>visitors</th>\n",
       "    </tr>\n",
       "  </thead>\n",
       "  <tbody>\n",
       "    <tr>\n",
       "      <th>0</th>\n",
       "      <td>2019-08-01</td>\n",
       "      <td>A</td>\n",
       "      <td>23</td>\n",
       "      <td>19</td>\n",
       "      <td>142779</td>\n",
       "      <td>719</td>\n",
       "    </tr>\n",
       "    <tr>\n",
       "      <th>1</th>\n",
       "      <td>2019-08-01</td>\n",
       "      <td>B</td>\n",
       "      <td>17</td>\n",
       "      <td>17</td>\n",
       "      <td>59758</td>\n",
       "      <td>713</td>\n",
       "    </tr>\n",
       "    <tr>\n",
       "      <th>2</th>\n",
       "      <td>2019-08-02</td>\n",
       "      <td>A</td>\n",
       "      <td>42</td>\n",
       "      <td>36</td>\n",
       "      <td>234381</td>\n",
       "      <td>1338</td>\n",
       "    </tr>\n",
       "    <tr>\n",
       "      <th>3</th>\n",
       "      <td>2019-08-02</td>\n",
       "      <td>B</td>\n",
       "      <td>40</td>\n",
       "      <td>39</td>\n",
       "      <td>221801</td>\n",
       "      <td>1294</td>\n",
       "    </tr>\n",
       "    <tr>\n",
       "      <th>4</th>\n",
       "      <td>2019-08-03</td>\n",
       "      <td>A</td>\n",
       "      <td>66</td>\n",
       "      <td>60</td>\n",
       "      <td>346854</td>\n",
       "      <td>1845</td>\n",
       "    </tr>\n",
       "  </tbody>\n",
       "</table>\n",
       "</div>"
      ],
      "text/plain": [
       "        date group  orders  buyers  revenue  visitors\n",
       "0 2019-08-01     A      23      19   142779       719\n",
       "1 2019-08-01     B      17      17    59758       713\n",
       "2 2019-08-02     A      42      36   234381      1338\n",
       "3 2019-08-02     B      40      39   221801      1294\n",
       "4 2019-08-03     A      66      60   346854      1845"
      ]
     },
     "execution_count": 32,
     "metadata": {},
     "output_type": "execute_result"
    }
   ],
   "source": [
    "cumulativeData = ordersAggregated.merge(visitorsAggregated, left_on=['date', 'group'], right_on=['date', 'group'])\n",
    "cumulativeData.columns = ['date', 'group', 'orders', 'buyers', 'revenue', 'visitors']\n",
    "cumulativeData.head(5)"
   ]
  },
  {
   "cell_type": "markdown",
   "metadata": {},
   "source": [
    "Теперь можем построить графики кумулятивной выручки по дням и группам A/B-тестирования:"
   ]
  },
  {
   "cell_type": "markdown",
   "metadata": {},
   "source": [
    "Выделим из полученной таблицы датафрейм с кумулятивным количеством заказов и кумулятивной выручкой по дням в группе А:"
   ]
  },
  {
   "cell_type": "code",
   "execution_count": 33,
   "metadata": {},
   "outputs": [
    {
     "data": {
      "text/html": [
       "<div>\n",
       "<style scoped>\n",
       "    .dataframe tbody tr th:only-of-type {\n",
       "        vertical-align: middle;\n",
       "    }\n",
       "\n",
       "    .dataframe tbody tr th {\n",
       "        vertical-align: top;\n",
       "    }\n",
       "\n",
       "    .dataframe thead th {\n",
       "        text-align: right;\n",
       "    }\n",
       "</style>\n",
       "<table border=\"1\" class=\"dataframe\">\n",
       "  <thead>\n",
       "    <tr style=\"text-align: right;\">\n",
       "      <th></th>\n",
       "      <th>date</th>\n",
       "      <th>revenue</th>\n",
       "      <th>orders</th>\n",
       "    </tr>\n",
       "  </thead>\n",
       "  <tbody>\n",
       "    <tr>\n",
       "      <th>0</th>\n",
       "      <td>2019-08-01</td>\n",
       "      <td>142779</td>\n",
       "      <td>23</td>\n",
       "    </tr>\n",
       "    <tr>\n",
       "      <th>2</th>\n",
       "      <td>2019-08-02</td>\n",
       "      <td>234381</td>\n",
       "      <td>42</td>\n",
       "    </tr>\n",
       "    <tr>\n",
       "      <th>4</th>\n",
       "      <td>2019-08-03</td>\n",
       "      <td>346854</td>\n",
       "      <td>66</td>\n",
       "    </tr>\n",
       "  </tbody>\n",
       "</table>\n",
       "</div>"
      ],
      "text/plain": [
       "        date  revenue  orders\n",
       "0 2019-08-01   142779      23\n",
       "2 2019-08-02   234381      42\n",
       "4 2019-08-03   346854      66"
      ]
     },
     "execution_count": 33,
     "metadata": {},
     "output_type": "execute_result"
    }
   ],
   "source": [
    "cumulativeRevenueA = cumulativeData[cumulativeData['group']=='A'][['date','revenue', 'orders']]\n",
    "cumulativeRevenueA.head(3)"
   ]
  },
  {
   "cell_type": "markdown",
   "metadata": {},
   "source": [
    "Аналогично выделим датафрейм с кумулятивным количеством заказов и кумулятивной выручкой по дням в группе B:"
   ]
  },
  {
   "cell_type": "code",
   "execution_count": 34,
   "metadata": {},
   "outputs": [
    {
     "data": {
      "text/html": [
       "<div>\n",
       "<style scoped>\n",
       "    .dataframe tbody tr th:only-of-type {\n",
       "        vertical-align: middle;\n",
       "    }\n",
       "\n",
       "    .dataframe tbody tr th {\n",
       "        vertical-align: top;\n",
       "    }\n",
       "\n",
       "    .dataframe thead th {\n",
       "        text-align: right;\n",
       "    }\n",
       "</style>\n",
       "<table border=\"1\" class=\"dataframe\">\n",
       "  <thead>\n",
       "    <tr style=\"text-align: right;\">\n",
       "      <th></th>\n",
       "      <th>date</th>\n",
       "      <th>revenue</th>\n",
       "      <th>orders</th>\n",
       "    </tr>\n",
       "  </thead>\n",
       "  <tbody>\n",
       "    <tr>\n",
       "      <th>1</th>\n",
       "      <td>2019-08-01</td>\n",
       "      <td>59758</td>\n",
       "      <td>17</td>\n",
       "    </tr>\n",
       "    <tr>\n",
       "      <th>3</th>\n",
       "      <td>2019-08-02</td>\n",
       "      <td>221801</td>\n",
       "      <td>40</td>\n",
       "    </tr>\n",
       "    <tr>\n",
       "      <th>5</th>\n",
       "      <td>2019-08-03</td>\n",
       "      <td>288850</td>\n",
       "      <td>54</td>\n",
       "    </tr>\n",
       "  </tbody>\n",
       "</table>\n",
       "</div>"
      ],
      "text/plain": [
       "        date  revenue  orders\n",
       "1 2019-08-01    59758      17\n",
       "3 2019-08-02   221801      40\n",
       "5 2019-08-03   288850      54"
      ]
     },
     "execution_count": 34,
     "metadata": {},
     "output_type": "execute_result"
    }
   ],
   "source": [
    "cumulativeRevenueB = cumulativeData[cumulativeData['group']=='B'][['date','revenue', 'orders']]\n",
    "cumulativeRevenueB.head(3)"
   ]
  },
  {
   "cell_type": "markdown",
   "metadata": {},
   "source": [
    "График выручки групп А и В:"
   ]
  },
  {
   "cell_type": "code",
   "execution_count": 35,
   "metadata": {},
   "outputs": [
    {
     "data": {
      "image/png": "[encoded data removed]",
      "text/plain": [
       "<Figure size 720x360 with 1 Axes>"
      ]
     },
     "metadata": {
      "needs_background": "light"
     },
     "output_type": "display_data"
    }
   ],
   "source": [
    "plt.figure(figsize=(10, 5))\n",
    "plt.plot(cumulativeRevenueA['date'], cumulativeRevenueA['revenue'], label='A')\n",
    "plt.plot(cumulativeRevenueB['date'], cumulativeRevenueB['revenue'], label='B')\n",
    "\n",
    "plt.xlabel('Дата теста')\n",
    "plt.ylabel('Выручка')\n",
    "plt.title('Кумулятивная выручка по дням и группам A/B-тестирования')\n",
    "plt.legend() \n",
    "\n",
    "plt.show()"
   ]
  },
  {
   "cell_type": "markdown",
   "metadata": {},
   "source": [
    "**Выводы к графику:** видим, что на протяжении всего теста кумулятивная выручка растёт, причём группа B в первой половине периода теста шла почти в ровень с группой А, а после 17 августа опережает группу А. 17 августа группе В выручка резко растет, что может говорить о резком увеличении числа заказов, либо об очень дорогих заказов в выборке."
   ]
  },
  {
   "cell_type": "markdown",
   "metadata": {},
   "source": [
    "## График кумулятивного среднего чека по группам"
   ]
  },
  {
   "cell_type": "markdown",
   "metadata": {},
   "source": [
    "Для построения графиков среднего чека по группам — разделим кумулятивную выручку на кумулятивное число заказов:"
   ]
  },
  {
   "cell_type": "code",
   "execution_count": 36,
   "metadata": {},
   "outputs": [
    {
     "data": {
      "image/png": "[encoded data removed]",
      "text/plain": [
       "<Figure size 720x360 with 1 Axes>"
      ]
     },
     "metadata": {
      "needs_background": "light"
     },
     "output_type": "display_data"
    }
   ],
   "source": [
    "plt.figure(figsize=(10, 5))\n",
    "plt.plot(cumulativeRevenueA['date'], cumulativeRevenueA['revenue']/cumulativeRevenueA['orders'], label='A')\n",
    "plt.plot(cumulativeRevenueB['date'], cumulativeRevenueB['revenue']/cumulativeRevenueB['orders'], label='B')\n",
    "\n",
    "plt.xlabel('Дата теста')\n",
    "plt.ylabel('Средний чек')\n",
    "plt.title('Кумулятивный средний чек по дням и группам A/B-тестирования')\n",
    "plt.legend() \n",
    "\n",
    "plt.show()"
   ]
  },
  {
   "cell_type": "markdown",
   "metadata": {},
   "source": [
    "**Выводы к графику:** видим, что для группы А были резкие всплески и падения по величине среднего чек и только с 14 авугуста стал устанавливаться на его реальном уровне. На графике группы В с 18 по 20 августа очень резкий всплеск по размеру среднего чека, который соответсвует всплеску на предыдущем графике выручки, что может поддтверждать предположение о крупных заказах в этот период в группе. После этого всплеска средний чек стал стабильно снижаться, приходя к своему среднему значению. Но, возможно за выбранный период, ещё не пришёл к своему реальному среднему значению.\n",
    " "
   ]
  },
  {
   "cell_type": "markdown",
   "metadata": {},
   "source": [
    "## График относительного изменения кумулятивного среднего чека группы B к группе А"
   ]
  },
  {
   "cell_type": "markdown",
   "metadata": {},
   "source": [
    "Сначала соберём данные кумулятивной выручки по каждой группе в одну таблицу:"
   ]
  },
  {
   "cell_type": "code",
   "execution_count": 37,
   "metadata": {},
   "outputs": [],
   "source": [
    "mergedCumulativeRevenue = cumulativeRevenueA.merge(cumulativeRevenueB, left_on='date', right_on='date', how='left', suffixes=['A', 'B'])"
   ]
  },
  {
   "cell_type": "markdown",
   "metadata": {},
   "source": [
    "Теперь, построим график отношения средних чеков"
   ]
  },
  {
   "cell_type": "code",
   "execution_count": 38,
   "metadata": {},
   "outputs": [
    {
     "data": {
      "image/png": "[encoded data removed]",
      "text/plain": [
       "<Figure size 720x360 with 1 Axes>"
      ]
     },
     "metadata": {
      "needs_background": "light"
     },
     "output_type": "display_data"
    }
   ],
   "source": [
    "plt.figure(figsize=(10, 5))\n",
    "plt.plot(mergedCumulativeRevenue['date'], (mergedCumulativeRevenue['revenueB']/mergedCumulativeRevenue['ordersB'])/(mergedCumulativeRevenue['revenueA']/mergedCumulativeRevenue['ordersA'])-1)\n",
    "\n",
    "plt.axhline(y=0, color='Green', linestyle='-') # добавляем ось X\n",
    "plt.xlabel('Дата теста')\n",
    "plt.ylabel('Отношение кум.ср.чека гр.В к гр.А')\n",
    "plt.title('Относительный прирост кумулятивного среднего чека группы B к группе А')\n",
    "\n",
    "plt.show()"
   ]
  },
  {
   "cell_type": "markdown",
   "metadata": {},
   "source": [
    "**Выводы к графику:** резкие скачки на графике говорят нам о крупных заказах и выбросах в группе В."
   ]
  },
  {
   "cell_type": "markdown",
   "metadata": {},
   "source": [
    "## График кумулятивной конверсии по группам"
   ]
  },
  {
   "cell_type": "markdown",
   "metadata": {},
   "source": [
    "Для построения графика сделаем рассчёт кумулятивной конверси:"
   ]
  },
  {
   "cell_type": "code",
   "execution_count": 39,
   "metadata": {},
   "outputs": [],
   "source": [
    "cumulativeData['conversion'] = cumulativeData['orders']/cumulativeData['visitors']"
   ]
  },
  {
   "cell_type": "markdown",
   "metadata": {},
   "source": [
    "И выделим из таблицы cumulativeData данные по кумулятивной конверсии по каждой группе:"
   ]
  },
  {
   "cell_type": "code",
   "execution_count": 40,
   "metadata": {},
   "outputs": [],
   "source": [
    "cumulativeDataA = cumulativeData[cumulativeData['group']=='A']\n",
    "cumulativeDataB = cumulativeData[cumulativeData['group']=='B']"
   ]
  },
  {
   "cell_type": "markdown",
   "metadata": {},
   "source": [
    "И теперь строим графики:"
   ]
  },
  {
   "cell_type": "code",
   "execution_count": 41,
   "metadata": {},
   "outputs": [
    {
     "data": {
      "image/png": "[encoded data removed]",
      "text/plain": [
       "<Figure size 720x432 with 1 Axes>"
      ]
     },
     "metadata": {
      "needs_background": "light"
     },
     "output_type": "display_data"
    }
   ],
   "source": [
    "plt.figure(figsize=(10, 6))\n",
    "plt.plot(cumulativeDataA['date'], cumulativeDataA['conversion'], label='A')\n",
    "plt.plot(cumulativeDataB['date'], cumulativeDataB['conversion'], label='B')\n",
    "\n",
    "plt.legend()\n",
    "\n",
    "plt.xlabel('Дата теста')\n",
    "plt.ylabel('Кумулятивная конверсия')\n",
    "plt.title('Кумулятивная конверсия по группам')\n",
    "\n",
    "plt.show()"
   ]
  },
  {
   "cell_type": "markdown",
   "metadata": {},
   "source": [
    "**Выводы к графику**: по графику видим, что после колебаний (с начала теста до 6 августа) графики стали практически симментричными, при том, что конверсия группы В после проседания пошла в рост и колебалась на уровне 3,5% (с некоторыми выбрасами 9 и 17 августа), а конверсия группы А после резкого роста сильно провалилась и колебалась на уровне 3%"
   ]
  },
  {
   "cell_type": "markdown",
   "metadata": {},
   "source": [
    "## График относительного изменения кумулятивной конверсии группы B к группе А"
   ]
  },
  {
   "cell_type": "code",
   "execution_count": 42,
   "metadata": {},
   "outputs": [
    {
     "data": {
      "image/png": "[encoded data removed]",
      "text/plain": [
       "<Figure size 720x432 with 1 Axes>"
      ]
     },
     "metadata": {
      "needs_background": "light"
     },
     "output_type": "display_data"
    }
   ],
   "source": [
    "plt.figure(figsize=(10, 6))\n",
    "mergedCumulativeConversions = cumulativeDataA[['date','conversion']].merge(cumulativeDataB[['date','conversion']], left_on='date', right_on='date', how='left', suffixes=['A', 'B'])\n",
    "\n",
    "\n",
    "plt.plot(mergedCumulativeConversions['date'], mergedCumulativeConversions['conversionB']/mergedCumulativeConversions['conversionA']-1)\n",
    "plt.axhline(y=0, color='green', linestyle='--')\n",
    "\n",
    "\n",
    "plt.xlabel('Дата теста')\n",
    "plt.ylabel('Отношение кум. конверсии гр.В к гр.А')\n",
    "plt.title('Относительный прирост конверсии группы B относительно группы A')\n",
    "\n",
    "plt.show()"
   ]
  },
  {
   "cell_type": "markdown",
   "metadata": {},
   "source": [
    "**Вывод к графику**: в начале теста были колебания - группа В то выигрывала, то проигрывала группе А по кумулятивной конверсии, но после 6 августа группа В резко вырвалась вперёд и уже не проигрывала группе А, хотя 17-18 августа преимущество группы В по кумулятивной конверсии перед группой А ступенчато снижалось и только с 29 августа опять начало рост, что говорит о том, что отношение конверсии ещё не установилось, и делать выводы по тесту преждевременно."
   ]
  },
  {
   "cell_type": "markdown",
   "metadata": {},
   "source": [
    "## График количества заказов по пользователям"
   ]
  },
  {
   "cell_type": "markdown",
   "metadata": {},
   "source": [
    "Пользователи, совершившие много заказов, влияют на числитель формулы конверсии.Поэтому подсчитаем количество заказов по пользователям и посмотрим на результат:"
   ]
  },
  {
   "cell_type": "code",
   "execution_count": 43,
   "metadata": {},
   "outputs": [
    {
     "data": {
      "text/html": [
       "<div>\n",
       "<style scoped>\n",
       "    .dataframe tbody tr th:only-of-type {\n",
       "        vertical-align: middle;\n",
       "    }\n",
       "\n",
       "    .dataframe tbody tr th {\n",
       "        vertical-align: top;\n",
       "    }\n",
       "\n",
       "    .dataframe thead th {\n",
       "        text-align: right;\n",
       "    }\n",
       "</style>\n",
       "<table border=\"1\" class=\"dataframe\">\n",
       "  <thead>\n",
       "    <tr style=\"text-align: right;\">\n",
       "      <th></th>\n",
       "      <th>visitorId</th>\n",
       "      <th>orders</th>\n",
       "    </tr>\n",
       "  </thead>\n",
       "  <tbody>\n",
       "    <tr>\n",
       "      <th>908</th>\n",
       "      <td>3967698036</td>\n",
       "      <td>3</td>\n",
       "    </tr>\n",
       "    <tr>\n",
       "      <th>55</th>\n",
       "      <td>249864742</td>\n",
       "      <td>3</td>\n",
       "    </tr>\n",
       "    <tr>\n",
       "      <th>478</th>\n",
       "      <td>2108163459</td>\n",
       "      <td>3</td>\n",
       "    </tr>\n",
       "    <tr>\n",
       "      <th>687</th>\n",
       "      <td>2988190573</td>\n",
       "      <td>3</td>\n",
       "    </tr>\n",
       "    <tr>\n",
       "      <th>890</th>\n",
       "      <td>3908431265</td>\n",
       "      <td>3</td>\n",
       "    </tr>\n",
       "    <tr>\n",
       "      <th>138</th>\n",
       "      <td>611059232</td>\n",
       "      <td>3</td>\n",
       "    </tr>\n",
       "    <tr>\n",
       "      <th>632</th>\n",
       "      <td>2742574263</td>\n",
       "      <td>3</td>\n",
       "    </tr>\n",
       "    <tr>\n",
       "      <th>157</th>\n",
       "      <td>678354126</td>\n",
       "      <td>2</td>\n",
       "    </tr>\n",
       "    <tr>\n",
       "      <th>323</th>\n",
       "      <td>1404560065</td>\n",
       "      <td>2</td>\n",
       "    </tr>\n",
       "    <tr>\n",
       "      <th>452</th>\n",
       "      <td>1985475298</td>\n",
       "      <td>2</td>\n",
       "    </tr>\n",
       "    <tr>\n",
       "      <th>118</th>\n",
       "      <td>522292794</td>\n",
       "      <td>2</td>\n",
       "    </tr>\n",
       "    <tr>\n",
       "      <th>628</th>\n",
       "      <td>2733145037</td>\n",
       "      <td>2</td>\n",
       "    </tr>\n",
       "    <tr>\n",
       "      <th>634</th>\n",
       "      <td>2744017357</td>\n",
       "      <td>2</td>\n",
       "    </tr>\n",
       "    <tr>\n",
       "      <th>407</th>\n",
       "      <td>1772171838</td>\n",
       "      <td>2</td>\n",
       "    </tr>\n",
       "    <tr>\n",
       "      <th>548</th>\n",
       "      <td>2397843657</td>\n",
       "      <td>2</td>\n",
       "    </tr>\n",
       "  </tbody>\n",
       "</table>\n",
       "</div>"
      ],
      "text/plain": [
       "      visitorId  orders\n",
       "908  3967698036       3\n",
       "55    249864742       3\n",
       "478  2108163459       3\n",
       "687  2988190573       3\n",
       "890  3908431265       3\n",
       "138   611059232       3\n",
       "632  2742574263       3\n",
       "157   678354126       2\n",
       "323  1404560065       2\n",
       "452  1985475298       2\n",
       "118   522292794       2\n",
       "628  2733145037       2\n",
       "634  2744017357       2\n",
       "407  1772171838       2\n",
       "548  2397843657       2"
      ]
     },
     "execution_count": 43,
     "metadata": {},
     "output_type": "execute_result"
    }
   ],
   "source": [
    "ordersByUsers = (orders.groupby('visitorId', as_index=False).agg({'transactionId': 'nunique'}))\n",
    "\n",
    "ordersByUsers.columns = ['visitorId', 'orders']\n",
    "\n",
    "ordersByUsers.sort_values(by='orders', ascending=False).head(15)"
   ]
  },
  {
   "cell_type": "markdown",
   "metadata": {},
   "source": [
    "Из расчетов видим, что есть пользователи, у которых есть 3, 2 и 1 заказы."
   ]
  },
  {
   "cell_type": "markdown",
   "metadata": {},
   "source": [
    "Теперь построим точечную диаграмму числа заказов на одного пользователя, чтобы увидеть общую картину:"
   ]
  },
  {
   "cell_type": "code",
   "execution_count": 44,
   "metadata": {},
   "outputs": [
    {
     "data": {
      "image/png": "[encoded data removed]",
      "text/plain": [
       "<Figure size 720x432 with 1 Axes>"
      ]
     },
     "metadata": {
      "needs_background": "light"
     },
     "output_type": "display_data"
    }
   ],
   "source": [
    "x_values = pd.Series(range(0,len(ordersByUsers)))\n",
    "\n",
    "plt.figure(figsize=(10, 6))\n",
    "\n",
    "plt.scatter(x_values, ordersByUsers['orders']) \n",
    "\n",
    "plt.xlabel('Кол-во пользователей') \n",
    "plt.ylabel('Число заказов')\n",
    "plt.title('Число заказов на одного пользователя')\n",
    "\n",
    "plt.show()"
   ]
  },
  {
   "cell_type": "markdown",
   "metadata": {},
   "source": [
    "**Вывод к графику:** из графика видим, что основная часть пользователей сделали по 1 заказу, при этом достаточно много пользователей, кто сделал 2-3 заказа. Но из графика мы не можем понять, какую точную долю занимают такие пользователи, чтобы понять является это аномалией или нет."
   ]
  },
  {
   "cell_type": "markdown",
   "metadata": {},
   "source": [
    "##  95-й и 99-й перцентили количества заказов на пользователя"
   ]
  },
  {
   "cell_type": "markdown",
   "metadata": {},
   "source": [
    "Посчитаем 95 и 99 перцентили количества заказов на одного пользователя:"
   ]
  },
  {
   "cell_type": "code",
   "execution_count": 45,
   "metadata": {},
   "outputs": [
    {
     "data": {
      "text/plain": [
       "array([1., 2.])"
      ]
     },
     "execution_count": 45,
     "metadata": {},
     "output_type": "execute_result"
    }
   ],
   "source": [
    "np.percentile(ordersByUsers['orders'], [95, 99])"
   ]
  },
  {
   "cell_type": "markdown",
   "metadata": {},
   "source": [
    "**Выводы к расчтёту:**\n",
    "результат расчётов говорит нам о том, что не более 5% пользователей сделали более 1-го заказа и не более 1% пользователей сделали более 2-х заказов. В связи с этим будем считать 1 заказ на одного пользователя за верхней границей числа заказов. Пользователей с большим кол-вом заказов отнесём к аномальным.\n"
   ]
  },
  {
   "cell_type": "markdown",
   "metadata": {},
   "source": [
    "## График стоимостей заказов"
   ]
  },
  {
   "cell_type": "markdown",
   "metadata": {},
   "source": [
    "Построим точечный график стоимостей заказов:"
   ]
  },
  {
   "cell_type": "code",
   "execution_count": 46,
   "metadata": {},
   "outputs": [
    {
     "data": {
      "image/png": "[encoded data removed]",
      "text/plain": [
       "<Figure size 720x432 with 1 Axes>"
      ]
     },
     "metadata": {
      "needs_background": "light"
     },
     "output_type": "display_data"
    }
   ],
   "source": [
    "plt.figure(figsize=(10, 6))\n",
    "x_values = pd.Series(range(0,len(orders['revenue'])))\n",
    "plt.scatter(x_values, orders['revenue']) \n",
    "\n",
    "\n",
    "plt.xlabel('Количество заказов') \n",
    "plt.ylabel('Стоимость заказа, тыс. руб')\n",
    "plt.title('Стоимость заказов')\n",
    "\n",
    "plt.show()"
   ]
  },
  {
   "cell_type": "markdown",
   "metadata": {},
   "source": [
    "**Выводы к графику:** из графика видим, что подавляющая часть заказов по стоимости находится в зоне 50-100 тыс. руб и очень малая часть заказов выбивается за эту границу. "
   ]
  },
  {
   "cell_type": "markdown",
   "metadata": {},
   "source": [
    "## 95-й и 99-й перцентили стоимости заказов"
   ]
  },
  {
   "cell_type": "markdown",
   "metadata": {},
   "source": [
    "Посчитаем 95-й и 99-й перцентили стоимости заказов:"
   ]
  },
  {
   "cell_type": "code",
   "execution_count": 47,
   "metadata": {},
   "outputs": [
    {
     "data": {
      "text/plain": [
       "array([26785., 53904.])"
      ]
     },
     "execution_count": 47,
     "metadata": {},
     "output_type": "execute_result"
    }
   ],
   "source": [
    "np.percentile(orders['revenue'], [95, 99])"
   ]
  },
  {
   "cell_type": "markdown",
   "metadata": {},
   "source": [
    "Из рассчета видим, что не более 5% заказов превышают сумму в 26 785 руб. и не более 1% превышают сумму заказа в 53 904 руб. Из чего можем определить, что  26 785 руб. является верхней границей стоимости заказов. Заказы с большей стоимостью отнесём к аномальным."
   ]
  },
  {
   "cell_type": "markdown",
   "metadata": {},
   "source": [
    "## Cтатистическая значимость различий в конверсии между группами по «сырым» данным. "
   ]
  },
  {
   "cell_type": "markdown",
   "metadata": {},
   "source": [
    "Сформулируем гипотезы:\n",
    "\n",
    "Н0: распределение значений дневной конверсии в группе А за календарный месяц РАВНО распределению значений дневной конверсии в группе В за календарный месяц;\n",
    "\n",
    "Н1: распределение значений дневной конверсии в группе А за календарный месяц НЕ РАВНО  распределению значений дневной конверсии в группе В за календарный месяц"
   ]
  },
  {
   "cell_type": "markdown",
   "metadata": {},
   "source": [
    "Подготовим данные:"
   ]
  },
  {
   "cell_type": "code",
   "execution_count": 48,
   "metadata": {},
   "outputs": [],
   "source": [
    "# найдём количество пользователей в выбранную дату в группе A:\n",
    "\n",
    "visitorsADaily = visitors[visitors['group'] == 'A'][['date', 'visitors']]\n",
    "visitorsADaily.columns = ['date', 'visitorsPerDateA'] #visitorsPerDateA — количество пользователей в выбранную дату в группе A;\n",
    "\n",
    "# найдём кумулятивное количество пользователей в группе А до выбранной даты включительно:\n",
    "visitorsACummulative = visitorsADaily.apply(\n",
    "    lambda x: visitorsADaily[visitorsADaily['date'] <= x['date']].agg(\n",
    "        {'date': 'max', 'visitorsPerDateA': 'sum'}\n",
    "    ),\n",
    "    axis=1,\n",
    ")\n",
    "visitorsACummulative.columns = ['date', 'visitorsCummulativeA'] #visitorsCummulativeA — количество пользователей до выбранной даты включительно в группе A;\n",
    "\n",
    "# аналогично найдём количество пользователей в выбранную дату в группе В:\n",
    "visitorsBDaily = visitors[visitors['group'] == 'B'][['date', 'visitors']]\n",
    "visitorsBDaily.columns = ['date', 'visitorsPerDateB']\n",
    "\n",
    "# аналогично найдём кумулятивное количество пользователей в группе В до выбранной даты включительно:\n",
    "visitorsBCummulative = visitorsBDaily.apply(\n",
    "    lambda x: visitorsBDaily[visitorsBDaily['date'] <= x['date']].agg(\n",
    "        {'date': 'max', 'visitorsPerDateB': 'sum'}\n",
    "    ),\n",
    "    axis=1,\n",
    ")\n",
    "visitorsBCummulative.columns = ['date', 'visitorsCummulativeB']\n",
    "\n",
    "# найдём количество заказов и суммарную выручку в выбранную дату в группе А:\n",
    "ordersADaily = (\n",
    "    orders[orders['group'] == 'A'][['date', 'transactionId', 'visitorId', 'revenue']]\n",
    "    .groupby('date', as_index=False)\n",
    "    .agg({'visitorId': pd.Series.nunique, 'revenue': 'sum'})\n",
    ")\n",
    "ordersADaily.columns = ['date', 'ordersPerDateA', 'revenuePerDateA']\n",
    "\n",
    "# найдём куммулятивное количество заказов и кумулятивную выручку до выбранной даты включительно в группе A;\n",
    "ordersACummulative = ordersADaily.apply(\n",
    "    lambda x: ordersADaily[ordersADaily['date'] <= x['date']].agg(\n",
    "        {'date': 'max', 'ordersPerDateA': 'sum', 'revenuePerDateA': 'sum'}\n",
    "    ),\n",
    "    axis=1,\n",
    ").sort_values(by=['date'])\n",
    "ordersACummulative.columns = [\n",
    "    'date',\n",
    "    'ordersCummulativeA',\n",
    "    'revenueCummulativeA',\n",
    "]\n",
    "\n",
    "# найдём количество заказов и суммарную выручку в выбранную дату в группе В:\n",
    "ordersBDaily = (\n",
    "    orders[orders['group'] == 'B'][['date', 'transactionId', 'visitorId', 'revenue']]\n",
    "    .groupby('date', as_index=False)\n",
    "    .agg({'transactionId': pd.Series.nunique, 'revenue': 'sum'})\n",
    ")\n",
    "ordersBDaily.columns = ['date', 'ordersPerDateB', 'revenuePerDateB']\n",
    "\n",
    "# найдём куммулятивное количество заказов и кумулятивную выручку до выбранной даты включительно в группе A;\n",
    "ordersBCummulative = ordersBDaily.apply(\n",
    "    lambda x: ordersBDaily[ordersBDaily['date'] <= x['date']].agg(\n",
    "        {'date': 'max', 'ordersPerDateB': 'sum', 'revenuePerDateB': 'sum'}\n",
    "    ),\n",
    "    axis=1,\n",
    ").sort_values(by=['date'])\n",
    "ordersBCummulative.columns = [\n",
    "    'date',\n",
    "    'ordersCummulativeB',\n",
    "    'revenueCummulativeB',\n",
    "]\n",
    "\n",
    "data = (\n",
    "    ordersADaily.merge(\n",
    "        ordersBDaily, left_on='date', right_on='date', how='left'\n",
    "    )\n",
    "    .merge(ordersACummulative, left_on='date', right_on='date', how='left')\n",
    "    .merge(ordersBCummulative, left_on='date', right_on='date', how='left')\n",
    "    .merge(visitorsADaily, left_on='date', right_on='date', how='left')\n",
    "    .merge(visitorsBDaily, left_on='date', right_on='date', how='left')\n",
    "    .merge(visitorsACummulative, left_on='date', right_on='date', how='left')\n",
    "    .merge(visitorsBCummulative, left_on='date', right_on='date', how='left')\n",
    ")"
   ]
  },
  {
   "cell_type": "code",
   "execution_count": 49,
   "metadata": {},
   "outputs": [
    {
     "data": {
      "text/html": [
       "<div>\n",
       "<style scoped>\n",
       "    .dataframe tbody tr th:only-of-type {\n",
       "        vertical-align: middle;\n",
       "    }\n",
       "\n",
       "    .dataframe tbody tr th {\n",
       "        vertical-align: top;\n",
       "    }\n",
       "\n",
       "    .dataframe thead th {\n",
       "        text-align: right;\n",
       "    }\n",
       "</style>\n",
       "<table border=\"1\" class=\"dataframe\">\n",
       "  <thead>\n",
       "    <tr style=\"text-align: right;\">\n",
       "      <th></th>\n",
       "      <th>date</th>\n",
       "      <th>ordersPerDateA</th>\n",
       "      <th>revenuePerDateA</th>\n",
       "      <th>ordersPerDateB</th>\n",
       "      <th>revenuePerDateB</th>\n",
       "      <th>ordersCummulativeA</th>\n",
       "      <th>revenueCummulativeA</th>\n",
       "      <th>ordersCummulativeB</th>\n",
       "      <th>revenueCummulativeB</th>\n",
       "      <th>visitorsPerDateA</th>\n",
       "      <th>visitorsPerDateB</th>\n",
       "      <th>visitorsCummulativeA</th>\n",
       "      <th>visitorsCummulativeB</th>\n",
       "    </tr>\n",
       "  </thead>\n",
       "  <tbody>\n",
       "    <tr>\n",
       "      <th>0</th>\n",
       "      <td>2019-08-01</td>\n",
       "      <td>19</td>\n",
       "      <td>142779</td>\n",
       "      <td>17</td>\n",
       "      <td>59758</td>\n",
       "      <td>19</td>\n",
       "      <td>142779</td>\n",
       "      <td>17</td>\n",
       "      <td>59758</td>\n",
       "      <td>719</td>\n",
       "      <td>713</td>\n",
       "      <td>719</td>\n",
       "      <td>713</td>\n",
       "    </tr>\n",
       "    <tr>\n",
       "      <th>1</th>\n",
       "      <td>2019-08-02</td>\n",
       "      <td>18</td>\n",
       "      <td>91602</td>\n",
       "      <td>23</td>\n",
       "      <td>162043</td>\n",
       "      <td>37</td>\n",
       "      <td>234381</td>\n",
       "      <td>40</td>\n",
       "      <td>221801</td>\n",
       "      <td>619</td>\n",
       "      <td>581</td>\n",
       "      <td>1338</td>\n",
       "      <td>1294</td>\n",
       "    </tr>\n",
       "    <tr>\n",
       "      <th>2</th>\n",
       "      <td>2019-08-03</td>\n",
       "      <td>24</td>\n",
       "      <td>112473</td>\n",
       "      <td>14</td>\n",
       "      <td>67049</td>\n",
       "      <td>61</td>\n",
       "      <td>346854</td>\n",
       "      <td>54</td>\n",
       "      <td>288850</td>\n",
       "      <td>507</td>\n",
       "      <td>509</td>\n",
       "      <td>1845</td>\n",
       "      <td>1803</td>\n",
       "    </tr>\n",
       "  </tbody>\n",
       "</table>\n",
       "</div>"
      ],
      "text/plain": [
       "        date  ordersPerDateA  revenuePerDateA  ordersPerDateB  \\\n",
       "0 2019-08-01              19           142779              17   \n",
       "1 2019-08-02              18            91602              23   \n",
       "2 2019-08-03              24           112473              14   \n",
       "\n",
       "   revenuePerDateB  ordersCummulativeA  revenueCummulativeA  \\\n",
       "0            59758                  19               142779   \n",
       "1           162043                  37               234381   \n",
       "2            67049                  61               346854   \n",
       "\n",
       "   ordersCummulativeB  revenueCummulativeB  visitorsPerDateA  \\\n",
       "0                  17                59758               719   \n",
       "1                  40               221801               619   \n",
       "2                  54               288850               507   \n",
       "\n",
       "   visitorsPerDateB  visitorsCummulativeA  visitorsCummulativeB  \n",
       "0               713                   719                   713  \n",
       "1               581                  1338                  1294  \n",
       "2               509                  1845                  1803  "
      ]
     },
     "execution_count": 49,
     "metadata": {},
     "output_type": "execute_result"
    }
   ],
   "source": [
    "data.head(3)"
   ]
  },
  {
   "cell_type": "markdown",
   "metadata": {},
   "source": [
    "Для расчёта статистической значимости различия в конверсии между группами создадим переменные ordersByUsersA и ordersByUsersB. В них для пользователей, которые заказывали хотя бы 1 раз, укажем число совершённых заказов."
   ]
  },
  {
   "cell_type": "code",
   "execution_count": 50,
   "metadata": {},
   "outputs": [],
   "source": [
    "ordersByUsersA = (\n",
    "    orders[orders['group'] == 'A']\n",
    "    .groupby('visitorId', as_index=False)\n",
    "    .agg({'transactionId': pd.Series.nunique})\n",
    ")\n",
    "ordersByUsersA.columns = ['visitorId', 'orders']\n",
    "\n",
    "ordersByUsersB = (\n",
    "    orders[orders['group'] == 'B']\n",
    "    .groupby('visitorId', as_index=False)\n",
    "    .agg({'transactionId': pd.Series.nunique})\n",
    ")\n",
    "ordersByUsersB.columns = ['visitorId', 'orders'] "
   ]
  },
  {
   "cell_type": "markdown",
   "metadata": {},
   "source": [
    "Объявим переменные sampleA и sampleB, в которых пользователям из разных групп будет соответствовать количество заказов. Тем, кто ничего не заказал, будут соответствовать нули. Это нужно, чтобы подготовить выборки к проверке критерием Манна-Уитни"
   ]
  },
  {
   "cell_type": "code",
   "execution_count": 51,
   "metadata": {},
   "outputs": [],
   "source": [
    "sampleA = pd.concat([ordersByUsersA['orders'],pd.Series(0, index=np.arange(data['visitorsPerDateA'].sum() - len(ordersByUsersA['orders'])), name='orders')],axis=0)\n",
    "\n",
    "sampleB = pd.concat([ordersByUsersB['orders'],pd.Series(0, index=np.arange(data['visitorsPerDateB'].sum() - len(ordersByUsersB['orders'])), name='orders')],axis=0) "
   ]
  },
  {
   "cell_type": "code",
   "execution_count": 52,
   "metadata": {},
   "outputs": [
    {
     "name": "stdout",
     "output_type": "stream",
     "text": [
      "p-value= 0.011\n",
      "0.160\n"
     ]
    }
   ],
   "source": [
    "print('p-value=',\"{0:.3f}\".format(stats.mannwhitneyu(sampleA, sampleB)[1]))\n",
    "\n",
    "print(\"{0:.3f}\".format(sampleB.mean() / sampleA.mean() - 1))"
   ]
  },
  {
   "cell_type": "markdown",
   "metadata": {},
   "source": [
    "**Вывод к расчётам:** 0,011 меньше 0,05. Значит, нулевую гипотезу о том, что статистически значимых различий в среднем числе заказов между группами нет, отвергаем. Относительный проигрыш группы А равен 16%."
   ]
  },
  {
   "cell_type": "markdown",
   "metadata": {},
   "source": [
    "## Cтатистическая значимость различий в среднем чеке заказа между группами по «сырым» данным"
   ]
  },
  {
   "cell_type": "markdown",
   "metadata": {},
   "source": [
    "Посчитаем статистическую значимость различий в среднем чеке заказа между группами по «сырым» данным — без удаления аномальных пользователей."
   ]
  },
  {
   "cell_type": "code",
   "execution_count": 53,
   "metadata": {},
   "outputs": [
    {
     "data": {
      "text/html": [
       "<div>\n",
       "<style scoped>\n",
       "    .dataframe tbody tr th:only-of-type {\n",
       "        vertical-align: middle;\n",
       "    }\n",
       "\n",
       "    .dataframe tbody tr th {\n",
       "        vertical-align: top;\n",
       "    }\n",
       "\n",
       "    .dataframe thead th {\n",
       "        text-align: right;\n",
       "    }\n",
       "</style>\n",
       "<table border=\"1\" class=\"dataframe\">\n",
       "  <thead>\n",
       "    <tr style=\"text-align: right;\">\n",
       "      <th></th>\n",
       "      <th>date</th>\n",
       "      <th>ordersPerDateA</th>\n",
       "      <th>revenuePerDateA</th>\n",
       "      <th>ordersPerDateB</th>\n",
       "      <th>revenuePerDateB</th>\n",
       "      <th>ordersCummulativeA</th>\n",
       "      <th>revenueCummulativeA</th>\n",
       "      <th>ordersCummulativeB</th>\n",
       "      <th>revenueCummulativeB</th>\n",
       "      <th>visitorsPerDateA</th>\n",
       "      <th>visitorsPerDateB</th>\n",
       "      <th>visitorsCummulativeA</th>\n",
       "      <th>visitorsCummulativeB</th>\n",
       "    </tr>\n",
       "  </thead>\n",
       "  <tbody>\n",
       "    <tr>\n",
       "      <th>0</th>\n",
       "      <td>2019-08-01</td>\n",
       "      <td>19</td>\n",
       "      <td>142779</td>\n",
       "      <td>17</td>\n",
       "      <td>59758</td>\n",
       "      <td>19</td>\n",
       "      <td>142779</td>\n",
       "      <td>17</td>\n",
       "      <td>59758</td>\n",
       "      <td>719</td>\n",
       "      <td>713</td>\n",
       "      <td>719</td>\n",
       "      <td>713</td>\n",
       "    </tr>\n",
       "    <tr>\n",
       "      <th>1</th>\n",
       "      <td>2019-08-02</td>\n",
       "      <td>18</td>\n",
       "      <td>91602</td>\n",
       "      <td>23</td>\n",
       "      <td>162043</td>\n",
       "      <td>37</td>\n",
       "      <td>234381</td>\n",
       "      <td>40</td>\n",
       "      <td>221801</td>\n",
       "      <td>619</td>\n",
       "      <td>581</td>\n",
       "      <td>1338</td>\n",
       "      <td>1294</td>\n",
       "    </tr>\n",
       "    <tr>\n",
       "      <th>2</th>\n",
       "      <td>2019-08-03</td>\n",
       "      <td>24</td>\n",
       "      <td>112473</td>\n",
       "      <td>14</td>\n",
       "      <td>67049</td>\n",
       "      <td>61</td>\n",
       "      <td>346854</td>\n",
       "      <td>54</td>\n",
       "      <td>288850</td>\n",
       "      <td>507</td>\n",
       "      <td>509</td>\n",
       "      <td>1845</td>\n",
       "      <td>1803</td>\n",
       "    </tr>\n",
       "  </tbody>\n",
       "</table>\n",
       "</div>"
      ],
      "text/plain": [
       "        date  ordersPerDateA  revenuePerDateA  ordersPerDateB  \\\n",
       "0 2019-08-01              19           142779              17   \n",
       "1 2019-08-02              18            91602              23   \n",
       "2 2019-08-03              24           112473              14   \n",
       "\n",
       "   revenuePerDateB  ordersCummulativeA  revenueCummulativeA  \\\n",
       "0            59758                  19               142779   \n",
       "1           162043                  37               234381   \n",
       "2            67049                  61               346854   \n",
       "\n",
       "   ordersCummulativeB  revenueCummulativeB  visitorsPerDateA  \\\n",
       "0                  17                59758               719   \n",
       "1                  40               221801               619   \n",
       "2                  54               288850               507   \n",
       "\n",
       "   visitorsPerDateB  visitorsCummulativeA  visitorsCummulativeB  \n",
       "0               713                   719                   713  \n",
       "1               581                  1338                  1294  \n",
       "2               509                  1845                  1803  "
      ]
     },
     "execution_count": 53,
     "metadata": {},
     "output_type": "execute_result"
    }
   ],
   "source": [
    "data.head(3)"
   ]
  },
  {
   "cell_type": "markdown",
   "metadata": {},
   "source": [
    "**Сформулируем гипотезы:**\n",
    "\n",
    "* H0 - Нет различий в среднем чеке между группами А и В\n",
    "\n",
    "* H1 - Есть различия в среднем чеке между группами А и В\n"
   ]
  },
  {
   "cell_type": "markdown",
   "metadata": {},
   "source": [
    "Для расчёта статистической значимости различий в среднем чеке, передадим критерию mannwhitneyu() данные о выручке с заказов, а также найдём относительные различия в среднем чеке между группами:\n"
   ]
  },
  {
   "cell_type": "code",
   "execution_count": 54,
   "metadata": {},
   "outputs": [
    {
     "name": "stdout",
     "output_type": "stream",
     "text": [
      "p-value= 0.829\n",
      "0.287\n"
     ]
    }
   ],
   "source": [
    "print('p-value=','{0:.3f}'.format(stats.mannwhitneyu(orders[orders['group']=='A']['revenue'], orders[orders['group']=='B']['revenue'])[1]))\n",
    "print('{0:.3f}'.format(orders[orders['group']=='B']['revenue'].mean()/orders[orders['group']=='A']['revenue'].mean()-1)) "
   ]
  },
  {
   "cell_type": "markdown",
   "metadata": {},
   "source": [
    "**Выводы к расчётам:**\n",
    "\n",
    "p-value = 0,829 больше 0.05, значит нулевую гипотезу о том статистически значимых различий в среднем числе заказов между группами нет, не отвергаем. \n",
    "\n",
    "Второе число 0,287 - говорит о том, средний чек группы B выше среднего чека группы А на 28,7%.\n",
    "    "
   ]
  },
  {
   "cell_type": "markdown",
   "metadata": {},
   "source": [
    "## \"Аномальные\" пользователи"
   ]
  },
  {
   "cell_type": "markdown",
   "metadata": {},
   "source": [
    "Примем за аномальных пользователей тех, кто совершил более 1-го заказа или совершил заказ дороже 26 785 рублей."
   ]
  },
  {
   "cell_type": "code",
   "execution_count": 55,
   "metadata": {},
   "outputs": [
    {
     "data": {
      "text/plain": [
       "86"
      ]
     },
     "execution_count": 55,
     "metadata": {},
     "output_type": "execute_result"
    }
   ],
   "source": [
    "# сделаем срезы пользователей по обоим групам с числом заказов больше 2-х\n",
    "usersWithManyOrders = pd.concat(\n",
    "    [\n",
    "        ordersByUsersA[ordersByUsersA['orders'] > 1]['visitorId'],\n",
    "        ordersByUsersB[ordersByUsersB['orders'] > 1]['visitorId'],\n",
    "    ],\n",
    "    axis=0,\n",
    ")\n",
    "\n",
    "# сделаем срезы пользователей по обоим групам, совершивших заказы дороже 28 000 руб.\n",
    "usersWithExpensiveOrders = orders[orders['revenue'] > 26785]['visitorId']\n",
    "abnormalUsers = (\n",
    "    pd.concat([usersWithManyOrders, usersWithExpensiveOrders], axis=0)\n",
    "    .drop_duplicates()\n",
    "    .sort_values()\n",
    ")\n",
    "#print(abnormalUsers.head(5))\n",
    "\n",
    "# узнаем, сколько всего аномальных пользователей атрибутом shape\n",
    "abnormalUsers.shape[0]"
   ]
  },
  {
   "cell_type": "markdown",
   "metadata": {},
   "source": [
    "**Выводы к расчётам:**\n",
    "таким образом, имеем 86 \"аномальных пользователей\", у которых более 1-го заказа или заказ стоил дороже 26 785 рублей."
   ]
  },
  {
   "cell_type": "markdown",
   "metadata": {},
   "source": [
    "## Cтатистическая значимость различий в конверсии между группами по «очищенным» данным"
   ]
  },
  {
   "cell_type": "markdown",
   "metadata": {},
   "source": [
    "Проверим гипотезы:\n",
    "\n",
    "**Сформулируем гипотезы:**\n",
    "\n",
    "* H0 - Нет различий в конверсии между группами А и В по очищенным данным\n",
    "\n",
    "* H1 - Есть различия в конверсии между группами А и В по очищенным данным."
   ]
  },
  {
   "cell_type": "markdown",
   "metadata": {},
   "source": [
    "Для расчёта статистической значимости различий в конверсии между группами теста по очищенным данным,подготовим выборки количества заказов по пользователям по группам теста:"
   ]
  },
  {
   "cell_type": "code",
   "execution_count": 56,
   "metadata": {},
   "outputs": [],
   "source": [
    "sampleAFiltered = pd.concat(\n",
    "    [\n",
    "        ordersByUsersA[\n",
    "            np.logical_not(ordersByUsersA['visitorId'].isin(abnormalUsers))\n",
    "        ]['orders'],\n",
    "        pd.Series(\n",
    "            0,\n",
    "            index=np.arange(\n",
    "                data['visitorsPerDateA'].sum() - len(ordersByUsersA['orders'])\n",
    "            ),\n",
    "            name='orders',\n",
    "        ),\n",
    "    ],\n",
    "    axis=0,\n",
    ")\n",
    "\n",
    "sampleBFiltered = pd.concat(\n",
    "    [\n",
    "        ordersByUsersB[\n",
    "            np.logical_not(ordersByUsersB['visitorId'].isin(abnormalUsers))\n",
    "        ]['orders'],\n",
    "        pd.Series(\n",
    "            0,\n",
    "            index=np.arange(\n",
    "                data['visitorsPerDateB'].sum() - len(ordersByUsersB['orders'])\n",
    "            ),\n",
    "            name='orders',\n",
    "        ),\n",
    "    ],\n",
    "    axis=0,\n",
    ") "
   ]
  },
  {
   "cell_type": "markdown",
   "metadata": {},
   "source": [
    "Применим статистический критерий Манна-Уитни к полученным выборкам:"
   ]
  },
  {
   "cell_type": "code",
   "execution_count": 57,
   "metadata": {},
   "outputs": [
    {
     "name": "stdout",
     "output_type": "stream",
     "text": [
      "p-value= 0.016\n",
      "0.174\n"
     ]
    }
   ],
   "source": [
    "print('p-value=','{0:.3f}'.format(stats.mannwhitneyu(sampleAFiltered, sampleBFiltered)[1]))\n",
    "print('{0:.3f}'.format(sampleBFiltered.mean()/sampleAFiltered.mean()-1))"
   ]
  },
  {
   "cell_type": "markdown",
   "metadata": {},
   "source": [
    "**Вывод к расчётам**: 0,016 меньше 0,05. Значит, нулевую гипотезу о том, что статистически значимых различий в среднем числе заказов между группами нет, и по очищенным данным отвергаем. Относительный проигрыш группы А равен 17,4 %."
   ]
  },
  {
   "cell_type": "markdown",
   "metadata": {},
   "source": [
    "##  Cтатистическая значимость различий в среднем чеке заказа между группами по «очищенным»  данным"
   ]
  },
  {
   "cell_type": "markdown",
   "metadata": {},
   "source": [
    "Проверим, как повлияет удаление \"аномальных\" пользователей на результаты теста:"
   ]
  },
  {
   "cell_type": "code",
   "execution_count": 58,
   "metadata": {},
   "outputs": [
    {
     "name": "stdout",
     "output_type": "stream",
     "text": [
      "p-value=0.727\n",
      "Отношение ср.чека в гр. В к гр. А:-0.034\n"
     ]
    }
   ],
   "source": [
    "print('p-value='\n",
    "    '{0:.3f}'.format(\n",
    "        stats.mannwhitneyu(\n",
    "            orders[\n",
    "                np.logical_and(\n",
    "                    orders['group'] == 'A',\n",
    "                    np.logical_not(orders['visitorId'].isin(abnormalUsers)),\n",
    "                )\n",
    "            ]['revenue'],\n",
    "            orders[\n",
    "                np.logical_and(\n",
    "                    orders['group'] == 'B',\n",
    "                    np.logical_not(orders['visitorId'].isin(abnormalUsers)),\n",
    "                )\n",
    "            ]['revenue'],\n",
    "        )[1]\n",
    "    )\n",
    ")\n",
    "\n",
    "print(\"Отношение ср.чека в гр. В к гр. А:\"\n",
    "    \"{0:.3f}\".format(\n",
    "        orders[\n",
    "            np.logical_and(\n",
    "                orders['group'] == 'B',\n",
    "                np.logical_not(orders['visitorId'].isin(abnormalUsers)),\n",
    "            )\n",
    "        ]['revenue'].mean()\n",
    "        / orders[\n",
    "            np.logical_and(\n",
    "                orders['group'] == 'A',\n",
    "                np.logical_not(orders['visitorId'].isin(abnormalUsers)),\n",
    "            )\n",
    "        ]['revenue'].mean()\n",
    "        - 1\n",
    "    )\n",
    ") "
   ]
  },
  {
   "cell_type": "markdown",
   "metadata": {},
   "source": [
    "**Выводы к расчётам:**\n",
    "по очищенным данным p-value = 0.727 - больше 0.05, значит нулевую гипотезу о том статистически значимых различий в среднем числе заказов между группами нет, не отвергаем.\n",
    "\n",
    "При этом проигрыш группы А относительно группы В сократился с 28,7% до 3,4%, что говорит о сильном влиянии аномалий на результаты А/В теста."
   ]
  },
  {
   "cell_type": "markdown",
   "metadata": {},
   "source": [
    "## Выводы к тесту "
   ]
  },
  {
   "cell_type": "markdown",
   "metadata": {},
   "source": [
    "В результате исследования получены следующие результаты:"
   ]
  },
  {
   "cell_type": "markdown",
   "metadata": {},
   "source": [
    "**Конверсия**: \n",
    "по \"сырым\" данным конверсия группы В конверсии группы А на 16%, по \"очищенным\" выше на 17,4%, что в обоих случаях являестя статистически значимой разницой в конверсии групп А и В.\n",
    "\n",
    "**Средний чек заказа:**\n",
    "по \"сырым\" данным средний чек группы В выше, чем в группе А на 28,7%, что но различие не является статистически значимым между группами А и В.\n",
    "\n",
    "по \"очищенным\" данным средний чек группы В выше, чем в группе А только на 3,4%, что также не является статистически значимым различием."
   ]
  },
  {
   "cell_type": "markdown",
   "metadata": {},
   "source": [
    "График различия конверсии говорит о том, что результаты группы В выше результатов группы А и нет предпосылок для улучшения по конверсии у группы А."
   ]
  },
  {
   "cell_type": "code",
   "execution_count": 59,
   "metadata": {},
   "outputs": [
    {
     "data": {
      "image/png": "[encoded data removed]",
      "text/plain": [
       "<Figure size 720x432 with 1 Axes>"
      ]
     },
     "metadata": {
      "needs_background": "light"
     },
     "output_type": "display_data"
    }
   ],
   "source": [
    "plt.figure(figsize=(10, 6))\n",
    "mergedCumulativeConversions = cumulativeDataA[['date','conversion']].merge(cumulativeDataB[['date','conversion']], left_on='date', right_on='date', how='left', suffixes=['A', 'B'])\n",
    "\n",
    "\n",
    "plt.plot(mergedCumulativeConversions['date'], mergedCumulativeConversions['conversionB']/mergedCumulativeConversions['conversionA']-1)\n",
    "plt.axhline(y=0, color='green', linestyle='--')\n",
    "\n",
    "\n",
    "plt.xlabel('Дата теста')\n",
    "plt.ylabel('Отношение кум. конверсии гр.В к гр.А')\n",
    "plt.title('Относительный прирост конверсии группы B относительно группы A')\n",
    "\n",
    "plt.show()"
   ]
  },
  {
   "cell_type": "markdown",
   "metadata": {},
   "source": [
    "График различия среднего чека говорит о том, что результаты группы B ещё не пришли к своему среднему значению и после резкого скачка, вызванного аномальными по сотоимости заказами только стали \"выравниваться\"."
   ]
  },
  {
   "cell_type": "code",
   "execution_count": 60,
   "metadata": {},
   "outputs": [
    {
     "data": {
      "image/png": "[encoded data removed]",
      "text/plain": [
       "<Figure size 720x360 with 1 Axes>"
      ]
     },
     "metadata": {
      "needs_background": "light"
     },
     "output_type": "display_data"
    }
   ],
   "source": [
    "plt.figure(figsize=(10, 5))\n",
    "plt.plot(mergedCumulativeRevenue['date'], (mergedCumulativeRevenue['revenueB']/mergedCumulativeRevenue['ordersB'])/(mergedCumulativeRevenue['revenueA']/mergedCumulativeRevenue['ordersA'])-1)\n",
    "\n",
    "plt.axhline(y=0, color='Green', linestyle='-') # добавляем ось X\n",
    "plt.xlabel('Дата теста')\n",
    "plt.ylabel('Отношение кум.ср.чека гр.В к гр.А')\n",
    "plt.title('Относительный прирост кумулятивного среднего чека группы B к группе А')\n",
    "\n",
    "plt.show()"
   ]
  },
  {
   "cell_type": "markdown",
   "metadata": {},
   "source": [
    "**Для принятия решения по результатам теста имеем следующие факты:**\n",
    "\n",
    "1) по величине среднего чека между группами статистически значимых различий нет, хотя процентном отношении средний чек группы В выше; \n",
    "\n",
    "2) конверсия между группами различается в пользу группы В, что в итоге даст больше прибыли, чем от группы А даже при отсутсвующей стат. значимой разнице в среднем чеке.\n",
    "\n",
    "Поэтому тест можем остановить, признав выигрыш группы В."
   ]
  }
 ],
 "metadata": {
  "ExecuteTimeLog": [
   {
    "duration": 423,
    "start_time": "2022-08-22T11:08:33.699Z"
   },
   {
    "duration": 75,
    "start_time": "2022-08-22T11:10:59.010Z"
   },
   {
    "duration": 44,
    "start_time": "2022-08-22T11:11:17.759Z"
   },
   {
    "duration": 14,
    "start_time": "2022-08-22T11:22:38.706Z"
   },
   {
    "duration": 8,
    "start_time": "2022-08-22T11:23:00.858Z"
   },
   {
    "duration": 1414,
    "start_time": "2022-08-22T11:29:05.554Z"
   },
   {
    "duration": 13,
    "start_time": "2022-08-22T11:29:44.214Z"
   },
   {
    "duration": 50,
    "start_time": "2022-08-24T11:22:09.821Z"
   },
   {
    "duration": 7,
    "start_time": "2022-08-24T11:22:19.595Z"
   },
   {
    "duration": 389,
    "start_time": "2022-08-24T11:22:24.134Z"
   },
   {
    "duration": 86,
    "start_time": "2022-08-24T11:22:24.525Z"
   },
   {
    "duration": 11,
    "start_time": "2022-08-24T11:22:24.613Z"
   },
   {
    "duration": 10,
    "start_time": "2022-08-24T11:22:24.626Z"
   },
   {
    "duration": 77,
    "start_time": "2022-08-24T11:22:24.638Z"
   },
   {
    "duration": 91,
    "start_time": "2022-08-24T11:22:34.353Z"
   },
   {
    "duration": 14,
    "start_time": "2022-08-24T11:23:01.336Z"
   },
   {
    "duration": 77,
    "start_time": "2022-08-24T11:23:49.921Z"
   },
   {
    "duration": 10,
    "start_time": "2022-08-24T11:24:09.873Z"
   },
   {
    "duration": 56,
    "start_time": "2022-08-24T11:27:01.701Z"
   },
   {
    "duration": 44,
    "start_time": "2022-08-25T10:35:54.881Z"
   },
   {
    "duration": 374,
    "start_time": "2022-08-25T10:35:57.200Z"
   },
   {
    "duration": 70,
    "start_time": "2022-08-25T10:35:57.576Z"
   },
   {
    "duration": 9,
    "start_time": "2022-08-25T10:35:57.647Z"
   },
   {
    "duration": 8,
    "start_time": "2022-08-25T10:35:57.657Z"
   },
   {
    "duration": 83,
    "start_time": "2022-08-25T10:35:57.666Z"
   },
   {
    "duration": 10,
    "start_time": "2022-08-25T10:35:57.750Z"
   },
   {
    "duration": 59,
    "start_time": "2022-08-25T10:35:57.762Z"
   },
   {
    "duration": 9,
    "start_time": "2022-08-25T10:35:57.823Z"
   },
   {
    "duration": 9,
    "start_time": "2022-08-25T10:35:57.833Z"
   },
   {
    "duration": 4,
    "start_time": "2022-08-25T10:36:52.162Z"
   },
   {
    "duration": 5,
    "start_time": "2022-08-25T10:36:54.450Z"
   },
   {
    "duration": 7,
    "start_time": "2022-08-25T10:58:12.786Z"
   },
   {
    "duration": 6,
    "start_time": "2022-08-25T10:58:26.453Z"
   },
   {
    "duration": 52,
    "start_time": "2022-08-25T10:58:42.788Z"
   },
   {
    "duration": 6,
    "start_time": "2022-08-25T10:58:47.693Z"
   },
   {
    "duration": 14,
    "start_time": "2022-08-25T10:59:00.605Z"
   },
   {
    "duration": 10,
    "start_time": "2022-08-25T10:59:11.630Z"
   },
   {
    "duration": 8,
    "start_time": "2022-08-25T11:14:57.872Z"
   },
   {
    "duration": 2,
    "start_time": "2022-08-25T11:23:03.964Z"
   },
   {
    "duration": 6,
    "start_time": "2022-08-25T11:31:56.891Z"
   },
   {
    "duration": 63,
    "start_time": "2022-08-26T11:22:00.578Z"
   },
   {
    "duration": 358,
    "start_time": "2022-08-26T11:22:05.526Z"
   },
   {
    "duration": 83,
    "start_time": "2022-08-26T11:22:05.886Z"
   },
   {
    "duration": 10,
    "start_time": "2022-08-26T11:22:05.971Z"
   },
   {
    "duration": 8,
    "start_time": "2022-08-26T11:22:05.983Z"
   },
   {
    "duration": 83,
    "start_time": "2022-08-26T11:22:05.992Z"
   },
   {
    "duration": 11,
    "start_time": "2022-08-26T11:22:06.077Z"
   },
   {
    "duration": 71,
    "start_time": "2022-08-26T11:22:06.090Z"
   },
   {
    "duration": 11,
    "start_time": "2022-08-26T11:22:06.162Z"
   },
   {
    "duration": 15,
    "start_time": "2022-08-26T11:22:06.175Z"
   },
   {
    "duration": 4,
    "start_time": "2022-08-26T11:22:06.194Z"
   },
   {
    "duration": 9,
    "start_time": "2022-08-26T11:22:06.200Z"
   },
   {
    "duration": 7,
    "start_time": "2022-08-26T11:22:06.211Z"
   },
   {
    "duration": 8,
    "start_time": "2022-08-26T11:22:06.220Z"
   },
   {
    "duration": 39,
    "start_time": "2022-08-26T11:22:06.230Z"
   },
   {
    "duration": 16,
    "start_time": "2022-08-26T11:22:06.271Z"
   },
   {
    "duration": 11,
    "start_time": "2022-08-26T11:22:06.289Z"
   },
   {
    "duration": 32,
    "start_time": "2022-08-26T11:22:06.302Z"
   },
   {
    "duration": 7,
    "start_time": "2022-08-26T11:26:28.707Z"
   },
   {
    "duration": 7,
    "start_time": "2022-08-26T11:33:23.667Z"
   },
   {
    "duration": 12,
    "start_time": "2022-08-26T11:33:26.301Z"
   },
   {
    "duration": 7,
    "start_time": "2022-08-26T11:34:10.931Z"
   },
   {
    "duration": 12,
    "start_time": "2022-08-26T11:34:13.085Z"
   },
   {
    "duration": 11,
    "start_time": "2022-08-26T11:38:58.999Z"
   },
   {
    "duration": 16,
    "start_time": "2022-08-26T11:39:59.784Z"
   },
   {
    "duration": 23,
    "start_time": "2022-08-26T11:44:41.641Z"
   },
   {
    "duration": 194,
    "start_time": "2022-08-26T11:48:29.382Z"
   },
   {
    "duration": 211,
    "start_time": "2022-08-26T11:59:04.112Z"
   },
   {
    "duration": 11,
    "start_time": "2022-08-26T11:59:36.716Z"
   },
   {
    "duration": 17,
    "start_time": "2022-08-26T12:00:57.739Z"
   },
   {
    "duration": 11,
    "start_time": "2022-08-26T12:01:15.849Z"
   },
   {
    "duration": 382,
    "start_time": "2022-08-26T12:04:54.985Z"
   },
   {
    "duration": 386,
    "start_time": "2022-08-26T12:05:45.568Z"
   },
   {
    "duration": 3,
    "start_time": "2022-08-26T12:06:00.152Z"
   },
   {
    "duration": 250,
    "start_time": "2022-08-26T12:06:00.157Z"
   },
   {
    "duration": 11,
    "start_time": "2022-08-26T12:06:00.409Z"
   },
   {
    "duration": 18,
    "start_time": "2022-08-26T12:06:00.422Z"
   },
   {
    "duration": 95,
    "start_time": "2022-08-26T12:06:00.442Z"
   },
   {
    "duration": 13,
    "start_time": "2022-08-26T12:06:00.539Z"
   },
   {
    "duration": 391,
    "start_time": "2022-08-26T12:06:00.554Z"
   },
   {
    "duration": 0,
    "start_time": "2022-08-26T12:06:00.948Z"
   },
   {
    "duration": 0,
    "start_time": "2022-08-26T12:06:00.949Z"
   },
   {
    "duration": 0,
    "start_time": "2022-08-26T12:06:00.951Z"
   },
   {
    "duration": 0,
    "start_time": "2022-08-26T12:06:00.953Z"
   },
   {
    "duration": 0,
    "start_time": "2022-08-26T12:06:00.955Z"
   },
   {
    "duration": 0,
    "start_time": "2022-08-26T12:06:00.956Z"
   },
   {
    "duration": 0,
    "start_time": "2022-08-26T12:06:00.958Z"
   },
   {
    "duration": 0,
    "start_time": "2022-08-26T12:06:00.960Z"
   },
   {
    "duration": 0,
    "start_time": "2022-08-26T12:06:00.962Z"
   },
   {
    "duration": 0,
    "start_time": "2022-08-26T12:06:00.964Z"
   },
   {
    "duration": 0,
    "start_time": "2022-08-26T12:06:00.965Z"
   },
   {
    "duration": 443,
    "start_time": "2022-08-26T12:07:53.397Z"
   },
   {
    "duration": 533,
    "start_time": "2022-08-26T12:09:23.516Z"
   },
   {
    "duration": 45,
    "start_time": "2022-08-26T12:12:05.255Z"
   },
   {
    "duration": 75,
    "start_time": "2022-08-26T12:15:10.031Z"
   },
   {
    "duration": 79,
    "start_time": "2022-08-26T12:15:36.059Z"
   },
   {
    "duration": 58,
    "start_time": "2022-08-26T12:15:55.679Z"
   },
   {
    "duration": 66,
    "start_time": "2022-08-26T12:16:58.188Z"
   },
   {
    "duration": 13,
    "start_time": "2022-08-26T12:17:13.983Z"
   },
   {
    "duration": 195,
    "start_time": "2022-08-26T12:17:21.925Z"
   },
   {
    "duration": 10,
    "start_time": "2022-08-26T12:19:10.135Z"
   },
   {
    "duration": 8,
    "start_time": "2022-08-26T12:23:10.947Z"
   },
   {
    "duration": 12,
    "start_time": "2022-08-26T12:23:21.122Z"
   },
   {
    "duration": 20,
    "start_time": "2022-08-26T12:23:31.547Z"
   },
   {
    "duration": 420,
    "start_time": "2022-08-28T02:16:24.701Z"
   },
   {
    "duration": 73,
    "start_time": "2022-08-28T02:16:25.123Z"
   },
   {
    "duration": 12,
    "start_time": "2022-08-28T02:16:25.197Z"
   },
   {
    "duration": 9,
    "start_time": "2022-08-28T02:16:25.211Z"
   },
   {
    "duration": 106,
    "start_time": "2022-08-28T02:16:25.222Z"
   },
   {
    "duration": 10,
    "start_time": "2022-08-28T02:16:25.329Z"
   },
   {
    "duration": 63,
    "start_time": "2022-08-28T02:16:25.340Z"
   },
   {
    "duration": 11,
    "start_time": "2022-08-28T02:16:25.405Z"
   },
   {
    "duration": 8,
    "start_time": "2022-08-28T02:16:25.417Z"
   },
   {
    "duration": 6,
    "start_time": "2022-08-28T02:16:25.428Z"
   },
   {
    "duration": 8,
    "start_time": "2022-08-28T02:16:25.436Z"
   },
   {
    "duration": 9,
    "start_time": "2022-08-28T02:16:25.446Z"
   },
   {
    "duration": 30,
    "start_time": "2022-08-28T02:16:25.457Z"
   },
   {
    "duration": 18,
    "start_time": "2022-08-28T02:16:25.489Z"
   },
   {
    "duration": 18,
    "start_time": "2022-08-28T02:16:25.509Z"
   },
   {
    "duration": 9,
    "start_time": "2022-08-28T02:16:25.530Z"
   },
   {
    "duration": 18,
    "start_time": "2022-08-28T02:16:25.541Z"
   },
   {
    "duration": 192,
    "start_time": "2022-08-28T02:16:25.561Z"
   },
   {
    "duration": 68,
    "start_time": "2022-08-28T02:16:40.371Z"
   },
   {
    "duration": 15,
    "start_time": "2022-08-28T02:16:54.839Z"
   },
   {
    "duration": 162,
    "start_time": "2022-08-28T02:16:58.592Z"
   },
   {
    "duration": 131,
    "start_time": "2022-08-28T02:19:30.212Z"
   },
   {
    "duration": 138,
    "start_time": "2022-08-28T02:19:33.956Z"
   },
   {
    "duration": 122,
    "start_time": "2022-08-28T02:19:59.652Z"
   },
   {
    "duration": 47,
    "start_time": "2022-08-28T02:20:51.573Z"
   },
   {
    "duration": 6,
    "start_time": "2022-08-28T02:21:51.879Z"
   },
   {
    "duration": 18,
    "start_time": "2022-08-28T02:21:59.102Z"
   },
   {
    "duration": 13,
    "start_time": "2022-08-28T02:22:38.350Z"
   },
   {
    "duration": 385,
    "start_time": "2022-08-28T02:23:50.432Z"
   },
   {
    "duration": 6,
    "start_time": "2022-08-28T02:25:19.507Z"
   },
   {
    "duration": 14,
    "start_time": "2022-08-28T02:25:34.427Z"
   },
   {
    "duration": 9,
    "start_time": "2022-08-28T02:25:38.127Z"
   },
   {
    "duration": 63,
    "start_time": "2022-08-28T02:26:05.059Z"
   },
   {
    "duration": 12,
    "start_time": "2022-08-28T02:26:32.116Z"
   },
   {
    "duration": 223,
    "start_time": "2022-08-28T02:39:25.651Z"
   },
   {
    "duration": 154,
    "start_time": "2022-08-28T02:40:43.115Z"
   },
   {
    "duration": 225,
    "start_time": "2022-08-28T02:48:49.706Z"
   },
   {
    "duration": 175,
    "start_time": "2022-08-28T03:03:37.187Z"
   },
   {
    "duration": 193,
    "start_time": "2022-08-28T03:11:54.603Z"
   },
   {
    "duration": 262,
    "start_time": "2022-08-28T03:12:26.284Z"
   },
   {
    "duration": 212,
    "start_time": "2022-08-28T03:12:34.868Z"
   },
   {
    "duration": 202,
    "start_time": "2022-08-28T03:13:27.749Z"
   },
   {
    "duration": 231,
    "start_time": "2022-08-28T03:14:06.182Z"
   },
   {
    "duration": 214,
    "start_time": "2022-08-28T03:14:17.958Z"
   },
   {
    "duration": 214,
    "start_time": "2022-08-28T03:14:30.647Z"
   },
   {
    "duration": 202,
    "start_time": "2022-08-28T03:14:43.887Z"
   },
   {
    "duration": 190,
    "start_time": "2022-08-28T03:14:49.391Z"
   },
   {
    "duration": 289,
    "start_time": "2022-08-28T03:15:00.951Z"
   },
   {
    "duration": 43,
    "start_time": "2022-08-28T04:41:56.875Z"
   },
   {
    "duration": 729,
    "start_time": "2022-08-28T04:42:01.312Z"
   },
   {
    "duration": 74,
    "start_time": "2022-08-28T04:42:02.043Z"
   },
   {
    "duration": 10,
    "start_time": "2022-08-28T04:42:02.118Z"
   },
   {
    "duration": 23,
    "start_time": "2022-08-28T04:42:02.130Z"
   },
   {
    "duration": 102,
    "start_time": "2022-08-28T04:42:02.155Z"
   },
   {
    "duration": 11,
    "start_time": "2022-08-28T04:42:02.259Z"
   },
   {
    "duration": 71,
    "start_time": "2022-08-28T04:42:02.271Z"
   },
   {
    "duration": 11,
    "start_time": "2022-08-28T04:42:02.344Z"
   },
   {
    "duration": 12,
    "start_time": "2022-08-28T04:42:02.357Z"
   },
   {
    "duration": 9,
    "start_time": "2022-08-28T04:42:02.372Z"
   },
   {
    "duration": 11,
    "start_time": "2022-08-28T04:42:02.383Z"
   },
   {
    "duration": 8,
    "start_time": "2022-08-28T04:42:02.396Z"
   },
   {
    "duration": 6,
    "start_time": "2022-08-28T04:42:02.406Z"
   },
   {
    "duration": 19,
    "start_time": "2022-08-28T04:42:02.414Z"
   },
   {
    "duration": 13,
    "start_time": "2022-08-28T04:42:02.484Z"
   },
   {
    "duration": 5,
    "start_time": "2022-08-28T04:42:02.500Z"
   },
   {
    "duration": 21,
    "start_time": "2022-08-28T04:42:02.507Z"
   },
   {
    "duration": 201,
    "start_time": "2022-08-28T04:42:02.530Z"
   },
   {
    "duration": 146,
    "start_time": "2022-08-28T04:42:02.733Z"
   },
   {
    "duration": 17,
    "start_time": "2022-08-28T04:42:02.881Z"
   },
   {
    "duration": 11,
    "start_time": "2022-08-28T04:42:02.900Z"
   },
   {
    "duration": 10,
    "start_time": "2022-08-28T04:42:02.913Z"
   },
   {
    "duration": 292,
    "start_time": "2022-08-28T04:42:02.925Z"
   },
   {
    "duration": 199,
    "start_time": "2022-08-28T04:42:03.219Z"
   },
   {
    "duration": 6,
    "start_time": "2022-08-28T04:42:03.419Z"
   },
   {
    "duration": 273,
    "start_time": "2022-08-28T04:42:03.426Z"
   },
   {
    "duration": 314,
    "start_time": "2022-08-28T04:43:32.447Z"
   },
   {
    "duration": 272,
    "start_time": "2022-08-28T04:44:16.141Z"
   },
   {
    "duration": 262,
    "start_time": "2022-08-28T04:44:24.808Z"
   },
   {
    "duration": 255,
    "start_time": "2022-08-28T04:44:53.016Z"
   },
   {
    "duration": 262,
    "start_time": "2022-08-28T04:45:04.528Z"
   },
   {
    "duration": 275,
    "start_time": "2022-08-28T04:45:09.057Z"
   },
   {
    "duration": 290,
    "start_time": "2022-08-28T04:46:13.554Z"
   },
   {
    "duration": 282,
    "start_time": "2022-08-28T04:47:37.634Z"
   },
   {
    "duration": 294,
    "start_time": "2022-08-28T04:49:37.700Z"
   },
   {
    "duration": 320,
    "start_time": "2022-08-28T04:49:44.883Z"
   },
   {
    "duration": 263,
    "start_time": "2022-08-28T04:51:03.125Z"
   },
   {
    "duration": 4,
    "start_time": "2022-08-28T04:56:15.768Z"
   },
   {
    "duration": 4,
    "start_time": "2022-08-28T04:57:20.410Z"
   },
   {
    "duration": 49,
    "start_time": "2022-08-28T04:57:42.985Z"
   },
   {
    "duration": 263,
    "start_time": "2022-08-28T04:58:06.650Z"
   },
   {
    "duration": 190,
    "start_time": "2022-08-28T04:59:57.133Z"
   },
   {
    "duration": 181,
    "start_time": "2022-08-28T05:03:06.800Z"
   },
   {
    "duration": 232,
    "start_time": "2022-08-28T05:03:24.376Z"
   },
   {
    "duration": 186,
    "start_time": "2022-08-28T05:03:39.904Z"
   },
   {
    "duration": 200,
    "start_time": "2022-08-28T05:03:51.208Z"
   },
   {
    "duration": 200,
    "start_time": "2022-08-28T05:03:59.232Z"
   },
   {
    "duration": 183,
    "start_time": "2022-08-28T05:04:03.560Z"
   },
   {
    "duration": 181,
    "start_time": "2022-08-28T05:04:11.792Z"
   },
   {
    "duration": 221,
    "start_time": "2022-08-28T05:05:42.034Z"
   },
   {
    "duration": 301,
    "start_time": "2022-08-28T05:48:58.914Z"
   },
   {
    "duration": 375,
    "start_time": "2022-08-28T05:49:12.236Z"
   },
   {
    "duration": 172,
    "start_time": "2022-08-28T05:50:41.643Z"
   },
   {
    "duration": 166,
    "start_time": "2022-08-28T05:51:32.350Z"
   },
   {
    "duration": 239,
    "start_time": "2022-08-28T05:52:13.022Z"
   },
   {
    "duration": 319,
    "start_time": "2022-08-28T05:54:03.189Z"
   },
   {
    "duration": 317,
    "start_time": "2022-08-28T05:54:10.845Z"
   },
   {
    "duration": 9,
    "start_time": "2022-08-28T06:08:15.288Z"
   },
   {
    "duration": 8,
    "start_time": "2022-08-28T06:13:26.804Z"
   },
   {
    "duration": 13,
    "start_time": "2022-08-28T06:14:04.708Z"
   },
   {
    "duration": 15,
    "start_time": "2022-08-28T06:15:09.530Z"
   },
   {
    "duration": 14,
    "start_time": "2022-08-28T06:15:17.178Z"
   },
   {
    "duration": 12,
    "start_time": "2022-08-28T06:15:37.445Z"
   },
   {
    "duration": 108,
    "start_time": "2022-08-28T06:18:57.154Z"
   },
   {
    "duration": 119,
    "start_time": "2022-08-28T06:19:18.152Z"
   },
   {
    "duration": 144,
    "start_time": "2022-08-28T06:20:56.353Z"
   },
   {
    "duration": 5,
    "start_time": "2022-08-28T06:46:45.043Z"
   },
   {
    "duration": 12,
    "start_time": "2022-08-28T06:59:34.447Z"
   },
   {
    "duration": 128,
    "start_time": "2022-08-28T06:59:55.167Z"
   },
   {
    "duration": 146,
    "start_time": "2022-08-28T07:02:21.257Z"
   },
   {
    "duration": 146,
    "start_time": "2022-08-28T07:02:50.321Z"
   },
   {
    "duration": 142,
    "start_time": "2022-08-28T07:04:41.923Z"
   },
   {
    "duration": 144,
    "start_time": "2022-08-28T07:04:52.139Z"
   },
   {
    "duration": 134,
    "start_time": "2022-08-28T07:17:45.429Z"
   },
   {
    "duration": 232,
    "start_time": "2022-08-28T07:17:53.931Z"
   },
   {
    "duration": 9,
    "start_time": "2022-08-28T07:43:42.827Z"
   },
   {
    "duration": 7,
    "start_time": "2022-08-28T08:16:59.476Z"
   },
   {
    "duration": 14,
    "start_time": "2022-08-28T08:17:01.132Z"
   },
   {
    "duration": 8,
    "start_time": "2022-08-28T08:17:08.488Z"
   },
   {
    "duration": 8,
    "start_time": "2022-08-28T08:17:12.061Z"
   },
   {
    "duration": 7,
    "start_time": "2022-08-28T08:17:14.349Z"
   },
   {
    "duration": 102,
    "start_time": "2022-08-28T08:21:19.464Z"
   },
   {
    "duration": 98,
    "start_time": "2022-08-28T08:22:11.209Z"
   },
   {
    "duration": 106,
    "start_time": "2022-08-28T08:22:50.498Z"
   },
   {
    "duration": 155,
    "start_time": "2022-08-28T08:40:01.668Z"
   },
   {
    "duration": 224,
    "start_time": "2022-08-28T08:40:32.627Z"
   },
   {
    "duration": 10,
    "start_time": "2022-08-28T08:40:50.250Z"
   },
   {
    "duration": 147,
    "start_time": "2022-08-28T08:43:53.540Z"
   },
   {
    "duration": 8,
    "start_time": "2022-08-28T08:48:26.901Z"
   },
   {
    "duration": 10,
    "start_time": "2022-08-28T09:05:52.715Z"
   },
   {
    "duration": 9,
    "start_time": "2022-08-28T09:06:01.870Z"
   },
   {
    "duration": 8,
    "start_time": "2022-08-28T09:08:12.619Z"
   },
   {
    "duration": 416,
    "start_time": "2022-08-28T09:08:48.748Z"
   },
   {
    "duration": 31,
    "start_time": "2022-08-28T09:08:55.595Z"
   },
   {
    "duration": 95,
    "start_time": "2022-08-28T09:23:34.913Z"
   },
   {
    "duration": 1421,
    "start_time": "2022-08-28T09:27:13.511Z"
   },
   {
    "duration": 3,
    "start_time": "2022-08-28T09:27:31.201Z"
   },
   {
    "duration": 39,
    "start_time": "2022-08-28T09:27:31.206Z"
   },
   {
    "duration": 8,
    "start_time": "2022-08-28T09:27:31.247Z"
   },
   {
    "duration": 11,
    "start_time": "2022-08-28T09:27:31.257Z"
   },
   {
    "duration": 52,
    "start_time": "2022-08-28T09:27:31.269Z"
   },
   {
    "duration": 10,
    "start_time": "2022-08-28T09:27:31.323Z"
   },
   {
    "duration": 23,
    "start_time": "2022-08-28T09:27:31.335Z"
   },
   {
    "duration": 10,
    "start_time": "2022-08-28T09:27:31.359Z"
   },
   {
    "duration": 12,
    "start_time": "2022-08-28T09:27:31.370Z"
   },
   {
    "duration": 5,
    "start_time": "2022-08-28T09:27:31.383Z"
   },
   {
    "duration": 10,
    "start_time": "2022-08-28T09:27:31.390Z"
   },
   {
    "duration": 10,
    "start_time": "2022-08-28T09:27:31.401Z"
   },
   {
    "duration": 2,
    "start_time": "2022-08-28T09:27:31.413Z"
   },
   {
    "duration": 14,
    "start_time": "2022-08-28T09:27:31.416Z"
   },
   {
    "duration": 12,
    "start_time": "2022-08-28T09:27:31.431Z"
   },
   {
    "duration": 8,
    "start_time": "2022-08-28T09:27:31.444Z"
   },
   {
    "duration": 32,
    "start_time": "2022-08-28T09:27:31.454Z"
   },
   {
    "duration": 170,
    "start_time": "2022-08-28T09:27:31.487Z"
   },
   {
    "duration": 127,
    "start_time": "2022-08-28T09:27:31.658Z"
   },
   {
    "duration": 11,
    "start_time": "2022-08-28T09:27:31.787Z"
   },
   {
    "duration": 12,
    "start_time": "2022-08-28T09:27:31.799Z"
   },
   {
    "duration": 8,
    "start_time": "2022-08-28T09:27:31.813Z"
   },
   {
    "duration": 213,
    "start_time": "2022-08-28T09:27:31.822Z"
   },
   {
    "duration": 229,
    "start_time": "2022-08-28T09:27:32.038Z"
   },
   {
    "duration": 5,
    "start_time": "2022-08-28T09:27:32.269Z"
   },
   {
    "duration": 312,
    "start_time": "2022-08-28T09:27:32.285Z"
   },
   {
    "duration": 4,
    "start_time": "2022-08-28T09:27:32.600Z"
   },
   {
    "duration": 12,
    "start_time": "2022-08-28T09:27:32.605Z"
   },
   {
    "duration": 225,
    "start_time": "2022-08-28T09:27:32.621Z"
   },
   {
    "duration": 360,
    "start_time": "2022-08-28T09:27:32.849Z"
   },
   {
    "duration": 8,
    "start_time": "2022-08-28T09:27:33.211Z"
   },
   {
    "duration": 13,
    "start_time": "2022-08-28T09:27:33.220Z"
   },
   {
    "duration": 171,
    "start_time": "2022-08-28T09:27:33.234Z"
   },
   {
    "duration": 5,
    "start_time": "2022-08-28T09:27:33.407Z"
   },
   {
    "duration": 54,
    "start_time": "2022-08-28T09:27:33.414Z"
   },
   {
    "duration": 0,
    "start_time": "2022-08-28T09:27:33.470Z"
   },
   {
    "duration": 0,
    "start_time": "2022-08-28T09:27:33.471Z"
   },
   {
    "duration": 0,
    "start_time": "2022-08-28T09:27:33.472Z"
   },
   {
    "duration": 0,
    "start_time": "2022-08-28T09:27:33.473Z"
   },
   {
    "duration": 0,
    "start_time": "2022-08-28T09:27:33.474Z"
   },
   {
    "duration": 0,
    "start_time": "2022-08-28T09:27:33.475Z"
   },
   {
    "duration": 0,
    "start_time": "2022-08-28T09:27:33.476Z"
   },
   {
    "duration": 0,
    "start_time": "2022-08-28T09:27:33.477Z"
   },
   {
    "duration": 0,
    "start_time": "2022-08-28T09:27:33.478Z"
   },
   {
    "duration": 0,
    "start_time": "2022-08-28T09:27:33.479Z"
   },
   {
    "duration": 997,
    "start_time": "2022-08-28T09:27:40.313Z"
   },
   {
    "duration": 149,
    "start_time": "2022-08-28T09:28:39.946Z"
   },
   {
    "duration": 10,
    "start_time": "2022-08-28T09:28:43.028Z"
   },
   {
    "duration": 9,
    "start_time": "2022-08-28T09:28:54.892Z"
   },
   {
    "duration": 14,
    "start_time": "2022-08-28T09:29:31.774Z"
   },
   {
    "duration": 9,
    "start_time": "2022-08-28T09:29:44.365Z"
   },
   {
    "duration": 893,
    "start_time": "2022-08-28T09:32:11.702Z"
   },
   {
    "duration": 16,
    "start_time": "2022-08-28T09:32:45.348Z"
   },
   {
    "duration": 15,
    "start_time": "2022-08-28T09:33:02.391Z"
   },
   {
    "duration": 10,
    "start_time": "2022-08-28T10:13:04.789Z"
   },
   {
    "duration": 3,
    "start_time": "2022-08-28T10:16:07.392Z"
   },
   {
    "duration": 12,
    "start_time": "2022-08-28T10:46:05.188Z"
   },
   {
    "duration": 18,
    "start_time": "2022-08-28T10:47:58.716Z"
   },
   {
    "duration": 20,
    "start_time": "2022-08-28T10:48:57.976Z"
   },
   {
    "duration": 28,
    "start_time": "2022-08-28T10:56:21.669Z"
   },
   {
    "duration": 5,
    "start_time": "2022-08-28T11:00:03.746Z"
   },
   {
    "duration": 10,
    "start_time": "2022-08-28T11:00:16.075Z"
   },
   {
    "duration": 4,
    "start_time": "2022-08-28T11:00:21.267Z"
   },
   {
    "duration": 6,
    "start_time": "2022-08-28T11:00:25.627Z"
   },
   {
    "duration": 5,
    "start_time": "2022-08-28T11:01:45.148Z"
   },
   {
    "duration": 11,
    "start_time": "2022-08-28T11:04:37.528Z"
   },
   {
    "duration": 9,
    "start_time": "2022-08-28T11:04:50.159Z"
   },
   {
    "duration": 10,
    "start_time": "2022-08-28T11:12:32.775Z"
   },
   {
    "duration": 5,
    "start_time": "2022-08-28T11:14:41.133Z"
   },
   {
    "duration": 12,
    "start_time": "2022-08-28T11:14:42.922Z"
   },
   {
    "duration": 15,
    "start_time": "2022-08-28T11:14:53.103Z"
   },
   {
    "duration": 9,
    "start_time": "2022-08-28T11:16:39.278Z"
   },
   {
    "duration": 56,
    "start_time": "2022-08-28T11:17:09.680Z"
   },
   {
    "duration": 9,
    "start_time": "2022-08-28T11:17:43.551Z"
   },
   {
    "duration": 9,
    "start_time": "2022-08-28T11:18:00.032Z"
   },
   {
    "duration": 9,
    "start_time": "2022-08-28T11:18:16.864Z"
   },
   {
    "duration": 8,
    "start_time": "2022-08-28T11:18:22.241Z"
   },
   {
    "duration": 15,
    "start_time": "2022-08-28T11:19:42.298Z"
   },
   {
    "duration": 10,
    "start_time": "2022-08-28T11:19:58.657Z"
   },
   {
    "duration": 9,
    "start_time": "2022-08-28T11:23:00.459Z"
   },
   {
    "duration": 62,
    "start_time": "2022-08-28T11:23:19.036Z"
   },
   {
    "duration": 8,
    "start_time": "2022-08-28T11:23:33.027Z"
   },
   {
    "duration": 9,
    "start_time": "2022-08-28T11:23:51.643Z"
   },
   {
    "duration": 4,
    "start_time": "2022-08-28T11:24:09.477Z"
   },
   {
    "duration": 9,
    "start_time": "2022-08-28T11:24:20.156Z"
   },
   {
    "duration": 6,
    "start_time": "2022-08-28T11:24:45.989Z"
   },
   {
    "duration": 8,
    "start_time": "2022-08-28T11:24:49.630Z"
   },
   {
    "duration": 4,
    "start_time": "2022-08-28T11:24:59.798Z"
   },
   {
    "duration": 5,
    "start_time": "2022-08-28T11:25:22.828Z"
   },
   {
    "duration": 5,
    "start_time": "2022-08-28T11:25:52.375Z"
   },
   {
    "duration": 5,
    "start_time": "2022-08-28T11:26:13.029Z"
   },
   {
    "duration": 5,
    "start_time": "2022-08-28T11:28:18.234Z"
   },
   {
    "duration": 6,
    "start_time": "2022-08-28T11:28:24.904Z"
   },
   {
    "duration": 5,
    "start_time": "2022-08-28T11:28:30.029Z"
   },
   {
    "duration": 5,
    "start_time": "2022-08-28T11:28:32.648Z"
   },
   {
    "duration": 4,
    "start_time": "2022-08-28T11:29:33.330Z"
   },
   {
    "duration": 49,
    "start_time": "2022-08-28T11:29:39.586Z"
   },
   {
    "duration": 6,
    "start_time": "2022-08-28T11:29:46.306Z"
   },
   {
    "duration": 5,
    "start_time": "2022-08-28T11:38:57.834Z"
   },
   {
    "duration": 984,
    "start_time": "2022-08-29T11:23:08.536Z"
   },
   {
    "duration": 49,
    "start_time": "2022-08-29T11:23:09.522Z"
   },
   {
    "duration": 9,
    "start_time": "2022-08-29T11:23:09.572Z"
   },
   {
    "duration": 9,
    "start_time": "2022-08-29T11:23:09.584Z"
   },
   {
    "duration": 65,
    "start_time": "2022-08-29T11:23:09.594Z"
   },
   {
    "duration": 14,
    "start_time": "2022-08-29T11:23:09.660Z"
   },
   {
    "duration": 31,
    "start_time": "2022-08-29T11:23:09.676Z"
   },
   {
    "duration": 10,
    "start_time": "2022-08-29T11:23:09.709Z"
   },
   {
    "duration": 6,
    "start_time": "2022-08-29T11:23:09.721Z"
   },
   {
    "duration": 4,
    "start_time": "2022-08-29T11:23:09.730Z"
   },
   {
    "duration": 7,
    "start_time": "2022-08-29T11:23:09.736Z"
   },
   {
    "duration": 9,
    "start_time": "2022-08-29T11:23:09.745Z"
   },
   {
    "duration": 5,
    "start_time": "2022-08-29T11:23:09.755Z"
   },
   {
    "duration": 27,
    "start_time": "2022-08-29T11:23:09.761Z"
   },
   {
    "duration": 11,
    "start_time": "2022-08-29T11:23:09.790Z"
   },
   {
    "duration": 6,
    "start_time": "2022-08-29T11:23:09.803Z"
   },
   {
    "duration": 12,
    "start_time": "2022-08-29T11:23:09.810Z"
   },
   {
    "duration": 183,
    "start_time": "2022-08-29T11:23:09.824Z"
   },
   {
    "duration": 141,
    "start_time": "2022-08-29T11:23:10.008Z"
   },
   {
    "duration": 11,
    "start_time": "2022-08-29T11:23:10.151Z"
   },
   {
    "duration": 22,
    "start_time": "2022-08-29T11:23:10.163Z"
   },
   {
    "duration": 12,
    "start_time": "2022-08-29T11:23:10.187Z"
   },
   {
    "duration": 284,
    "start_time": "2022-08-29T11:23:10.200Z"
   },
   {
    "duration": 187,
    "start_time": "2022-08-29T11:23:10.486Z"
   },
   {
    "duration": 13,
    "start_time": "2022-08-29T11:23:10.674Z"
   },
   {
    "duration": 298,
    "start_time": "2022-08-29T11:23:10.689Z"
   },
   {
    "duration": 5,
    "start_time": "2022-08-29T11:23:10.988Z"
   },
   {
    "duration": 6,
    "start_time": "2022-08-29T11:23:10.998Z"
   },
   {
    "duration": 214,
    "start_time": "2022-08-29T11:23:11.006Z"
   },
   {
    "duration": 281,
    "start_time": "2022-08-29T11:23:11.222Z"
   },
   {
    "duration": 8,
    "start_time": "2022-08-29T11:23:11.504Z"
   },
   {
    "duration": 24,
    "start_time": "2022-08-29T11:23:11.513Z"
   },
   {
    "duration": 139,
    "start_time": "2022-08-29T11:23:11.538Z"
   },
   {
    "duration": 8,
    "start_time": "2022-08-29T11:23:11.679Z"
   },
   {
    "duration": 185,
    "start_time": "2022-08-29T11:23:11.689Z"
   },
   {
    "duration": 0,
    "start_time": "2022-08-29T11:23:11.876Z"
   },
   {
    "duration": 0,
    "start_time": "2022-08-29T11:23:11.877Z"
   },
   {
    "duration": 0,
    "start_time": "2022-08-29T11:23:11.878Z"
   },
   {
    "duration": 0,
    "start_time": "2022-08-29T11:23:11.880Z"
   },
   {
    "duration": 0,
    "start_time": "2022-08-29T11:23:11.881Z"
   },
   {
    "duration": 0,
    "start_time": "2022-08-29T11:23:11.882Z"
   },
   {
    "duration": 0,
    "start_time": "2022-08-29T11:23:11.883Z"
   },
   {
    "duration": 0,
    "start_time": "2022-08-29T11:23:11.884Z"
   },
   {
    "duration": 0,
    "start_time": "2022-08-29T11:23:11.885Z"
   },
   {
    "duration": 0,
    "start_time": "2022-08-29T11:23:11.887Z"
   },
   {
    "duration": 0,
    "start_time": "2022-08-29T11:23:11.888Z"
   },
   {
    "duration": 0,
    "start_time": "2022-08-29T11:23:11.889Z"
   },
   {
    "duration": 0,
    "start_time": "2022-08-29T11:23:11.891Z"
   },
   {
    "duration": 0,
    "start_time": "2022-08-29T11:23:11.892Z"
   },
   {
    "duration": 0,
    "start_time": "2022-08-29T11:23:11.894Z"
   },
   {
    "duration": 0,
    "start_time": "2022-08-29T11:23:11.895Z"
   },
   {
    "duration": 0,
    "start_time": "2022-08-29T11:23:11.897Z"
   },
   {
    "duration": 154,
    "start_time": "2022-08-29T11:23:25.088Z"
   },
   {
    "duration": 86,
    "start_time": "2022-08-29T11:23:39.544Z"
   },
   {
    "duration": 207,
    "start_time": "2022-08-29T11:23:42.337Z"
   },
   {
    "duration": 10,
    "start_time": "2022-08-29T11:23:44.553Z"
   },
   {
    "duration": 10,
    "start_time": "2022-08-29T11:23:53.471Z"
   },
   {
    "duration": 140,
    "start_time": "2022-08-29T11:24:01.600Z"
   },
   {
    "duration": 126,
    "start_time": "2022-08-29T11:24:05.362Z"
   },
   {
    "duration": 7,
    "start_time": "2022-08-29T11:24:08.348Z"
   },
   {
    "duration": 21,
    "start_time": "2022-08-29T11:24:10.060Z"
   },
   {
    "duration": 10,
    "start_time": "2022-08-29T11:24:11.677Z"
   },
   {
    "duration": 12,
    "start_time": "2022-08-29T11:24:12.581Z"
   },
   {
    "duration": 5,
    "start_time": "2022-08-29T11:24:13.301Z"
   },
   {
    "duration": 10,
    "start_time": "2022-08-29T11:24:13.677Z"
   },
   {
    "duration": 20,
    "start_time": "2022-08-29T11:24:13.877Z"
   },
   {
    "duration": 6,
    "start_time": "2022-08-29T11:24:14.101Z"
   },
   {
    "duration": 12,
    "start_time": "2022-08-29T11:24:14.725Z"
   },
   {
    "duration": 13,
    "start_time": "2022-08-29T11:24:15.919Z"
   },
   {
    "duration": 14,
    "start_time": "2022-08-29T11:24:16.437Z"
   },
   {
    "duration": 15,
    "start_time": "2022-08-29T11:24:17.189Z"
   },
   {
    "duration": 15,
    "start_time": "2022-08-29T11:24:17.749Z"
   },
   {
    "duration": 14,
    "start_time": "2022-08-29T11:24:18.357Z"
   },
   {
    "duration": 14,
    "start_time": "2022-08-29T11:24:18.942Z"
   },
   {
    "duration": 13,
    "start_time": "2022-08-29T11:24:19.733Z"
   },
   {
    "duration": 5,
    "start_time": "2022-08-29T11:24:32.769Z"
   },
   {
    "duration": 13,
    "start_time": "2022-08-29T11:24:41.456Z"
   },
   {
    "duration": 10,
    "start_time": "2022-08-29T11:25:04.849Z"
   },
   {
    "duration": 10,
    "start_time": "2022-08-29T11:25:09.657Z"
   },
   {
    "duration": 195,
    "start_time": "2022-08-29T11:26:30.845Z"
   },
   {
    "duration": 212,
    "start_time": "2022-08-29T11:27:53.941Z"
   },
   {
    "duration": 215,
    "start_time": "2022-08-29T11:28:09.302Z"
   },
   {
    "duration": 213,
    "start_time": "2022-08-29T11:28:53.494Z"
   },
   {
    "duration": 8,
    "start_time": "2022-08-29T11:32:29.815Z"
   },
   {
    "duration": 69,
    "start_time": "2022-08-29T11:37:08.258Z"
   },
   {
    "duration": 173,
    "start_time": "2022-08-29T11:54:27.216Z"
   },
   {
    "duration": 370,
    "start_time": "2022-08-29T11:56:20.523Z"
   },
   {
    "duration": 276,
    "start_time": "2022-08-29T12:05:23.317Z"
   },
   {
    "duration": 151,
    "start_time": "2022-08-29T12:21:04.762Z"
   },
   {
    "duration": 6,
    "start_time": "2022-08-29T12:21:32.970Z"
   },
   {
    "duration": 1042,
    "start_time": "2022-08-29T13:03:53.691Z"
   },
   {
    "duration": 36,
    "start_time": "2022-08-29T13:03:54.735Z"
   },
   {
    "duration": 9,
    "start_time": "2022-08-29T13:03:54.773Z"
   },
   {
    "duration": 11,
    "start_time": "2022-08-29T13:03:54.784Z"
   },
   {
    "duration": 56,
    "start_time": "2022-08-29T13:03:54.798Z"
   },
   {
    "duration": 9,
    "start_time": "2022-08-29T13:03:54.856Z"
   },
   {
    "duration": 23,
    "start_time": "2022-08-29T13:03:54.867Z"
   },
   {
    "duration": 8,
    "start_time": "2022-08-29T13:03:54.892Z"
   },
   {
    "duration": 11,
    "start_time": "2022-08-29T13:03:54.901Z"
   },
   {
    "duration": 6,
    "start_time": "2022-08-29T13:03:54.914Z"
   },
   {
    "duration": 15,
    "start_time": "2022-08-29T13:03:54.922Z"
   },
   {
    "duration": 9,
    "start_time": "2022-08-29T13:03:54.938Z"
   },
   {
    "duration": 3,
    "start_time": "2022-08-29T13:03:54.948Z"
   },
   {
    "duration": 18,
    "start_time": "2022-08-29T13:03:54.952Z"
   },
   {
    "duration": 18,
    "start_time": "2022-08-29T13:03:54.972Z"
   },
   {
    "duration": 11,
    "start_time": "2022-08-29T13:03:54.991Z"
   },
   {
    "duration": 15,
    "start_time": "2022-08-29T13:03:55.003Z"
   },
   {
    "duration": 162,
    "start_time": "2022-08-29T13:03:55.020Z"
   },
   {
    "duration": 124,
    "start_time": "2022-08-29T13:03:55.184Z"
   },
   {
    "duration": 11,
    "start_time": "2022-08-29T13:03:55.310Z"
   },
   {
    "duration": 13,
    "start_time": "2022-08-29T13:03:55.322Z"
   },
   {
    "duration": 8,
    "start_time": "2022-08-29T13:03:55.336Z"
   },
   {
    "duration": 293,
    "start_time": "2022-08-29T13:03:55.346Z"
   },
   {
    "duration": 187,
    "start_time": "2022-08-29T13:03:55.641Z"
   },
   {
    "duration": 5,
    "start_time": "2022-08-29T13:03:55.830Z"
   },
   {
    "duration": 280,
    "start_time": "2022-08-29T13:03:55.837Z"
   },
   {
    "duration": 3,
    "start_time": "2022-08-29T13:03:56.118Z"
   },
   {
    "duration": 5,
    "start_time": "2022-08-29T13:03:56.124Z"
   },
   {
    "duration": 215,
    "start_time": "2022-08-29T13:03:56.130Z"
   },
   {
    "duration": 291,
    "start_time": "2022-08-29T13:03:56.347Z"
   },
   {
    "duration": 10,
    "start_time": "2022-08-29T13:03:56.639Z"
   },
   {
    "duration": 15,
    "start_time": "2022-08-29T13:03:56.651Z"
   },
   {
    "duration": 151,
    "start_time": "2022-08-29T13:03:56.668Z"
   },
   {
    "duration": 5,
    "start_time": "2022-08-29T13:03:56.821Z"
   },
   {
    "duration": 168,
    "start_time": "2022-08-29T13:03:56.828Z"
   },
   {
    "duration": 5,
    "start_time": "2022-08-29T13:03:56.997Z"
   },
   {
    "duration": 203,
    "start_time": "2022-08-29T13:03:57.011Z"
   },
   {
    "duration": 10,
    "start_time": "2022-08-29T13:03:57.216Z"
   },
   {
    "duration": 155,
    "start_time": "2022-08-29T13:03:57.228Z"
   },
   {
    "duration": 5,
    "start_time": "2022-08-29T13:03:57.385Z"
   },
   {
    "duration": 36,
    "start_time": "2022-08-29T13:03:57.392Z"
   },
   {
    "duration": 9,
    "start_time": "2022-08-29T13:03:57.430Z"
   },
   {
    "duration": 20,
    "start_time": "2022-08-29T13:03:57.441Z"
   },
   {
    "duration": 10,
    "start_time": "2022-08-29T13:03:57.463Z"
   },
   {
    "duration": 14,
    "start_time": "2022-08-29T13:03:57.475Z"
   },
   {
    "duration": 35,
    "start_time": "2022-08-29T13:03:57.490Z"
   },
   {
    "duration": 5,
    "start_time": "2022-08-29T13:03:57.526Z"
   },
   {
    "duration": 10,
    "start_time": "2022-08-29T13:03:57.532Z"
   },
   {
    "duration": 226,
    "start_time": "2022-08-29T13:03:57.544Z"
   },
   {
    "duration": 6,
    "start_time": "2022-08-29T13:03:57.771Z"
   },
   {
    "duration": 306,
    "start_time": "2022-08-29T13:03:57.778Z"
   },
   {
    "duration": 347,
    "start_time": "2022-08-29T13:03:58.086Z"
   },
   {
    "duration": 6,
    "start_time": "2022-08-29T13:14:59.844Z"
   },
   {
    "duration": 102,
    "start_time": "2022-08-30T10:40:06.425Z"
   },
   {
    "duration": 1489,
    "start_time": "2022-08-30T10:42:54.870Z"
   },
   {
    "duration": 81,
    "start_time": "2022-08-30T10:42:56.433Z"
   },
   {
    "duration": 48,
    "start_time": "2022-08-30T10:44:16.082Z"
   },
   {
    "duration": 23,
    "start_time": "2022-08-30T10:46:12.925Z"
   },
   {
    "duration": 8,
    "start_time": "2022-08-30T10:47:50.029Z"
   },
   {
    "duration": 11,
    "start_time": "2022-08-30T10:48:05.581Z"
   },
   {
    "duration": 35,
    "start_time": "2022-08-30T10:49:38.579Z"
   },
   {
    "duration": 83,
    "start_time": "2022-08-30T11:05:10.766Z"
   },
   {
    "duration": 12,
    "start_time": "2022-08-30T11:06:10.142Z"
   },
   {
    "duration": 106,
    "start_time": "2022-08-30T11:12:05.632Z"
   },
   {
    "duration": 3,
    "start_time": "2022-08-30T11:12:12.869Z"
   },
   {
    "duration": 39,
    "start_time": "2022-08-30T11:12:12.874Z"
   },
   {
    "duration": 12,
    "start_time": "2022-08-30T11:12:12.915Z"
   },
   {
    "duration": 12,
    "start_time": "2022-08-30T11:12:12.929Z"
   },
   {
    "duration": 102,
    "start_time": "2022-08-30T11:12:12.945Z"
   },
   {
    "duration": 11,
    "start_time": "2022-08-30T11:12:13.049Z"
   },
   {
    "duration": 64,
    "start_time": "2022-08-30T11:12:13.062Z"
   },
   {
    "duration": 12,
    "start_time": "2022-08-30T11:12:13.128Z"
   },
   {
    "duration": 10,
    "start_time": "2022-08-30T11:12:13.142Z"
   },
   {
    "duration": 8,
    "start_time": "2022-08-30T11:12:13.154Z"
   },
   {
    "duration": 25,
    "start_time": "2022-08-30T11:12:13.164Z"
   },
   {
    "duration": 8,
    "start_time": "2022-08-30T11:12:13.190Z"
   },
   {
    "duration": 3,
    "start_time": "2022-08-30T11:12:13.202Z"
   },
   {
    "duration": 13,
    "start_time": "2022-08-30T11:12:13.206Z"
   },
   {
    "duration": 14,
    "start_time": "2022-08-30T11:12:13.221Z"
   },
   {
    "duration": 12,
    "start_time": "2022-08-30T11:12:13.237Z"
   },
   {
    "duration": 6,
    "start_time": "2022-08-30T11:12:13.251Z"
   },
   {
    "duration": 6,
    "start_time": "2022-08-30T11:12:13.259Z"
   },
   {
    "duration": 37,
    "start_time": "2022-08-30T11:12:13.267Z"
   },
   {
    "duration": 194,
    "start_time": "2022-08-30T11:12:13.305Z"
   },
   {
    "duration": 150,
    "start_time": "2022-08-30T11:12:13.500Z"
   },
   {
    "duration": 13,
    "start_time": "2022-08-30T11:12:13.651Z"
   },
   {
    "duration": 13,
    "start_time": "2022-08-30T11:12:13.666Z"
   },
   {
    "duration": 23,
    "start_time": "2022-08-30T11:12:13.681Z"
   },
   {
    "duration": 303,
    "start_time": "2022-08-30T11:12:13.705Z"
   },
   {
    "duration": 213,
    "start_time": "2022-08-30T11:12:14.010Z"
   },
   {
    "duration": 6,
    "start_time": "2022-08-30T11:12:14.225Z"
   },
   {
    "duration": 352,
    "start_time": "2022-08-30T11:12:14.232Z"
   },
   {
    "duration": 4,
    "start_time": "2022-08-30T11:12:14.588Z"
   },
   {
    "duration": 14,
    "start_time": "2022-08-30T11:12:14.593Z"
   },
   {
    "duration": 253,
    "start_time": "2022-08-30T11:12:14.608Z"
   },
   {
    "duration": 358,
    "start_time": "2022-08-30T11:12:14.862Z"
   },
   {
    "duration": 9,
    "start_time": "2022-08-30T11:12:15.221Z"
   },
   {
    "duration": 16,
    "start_time": "2022-08-30T11:12:15.232Z"
   },
   {
    "duration": 166,
    "start_time": "2022-08-30T11:12:15.250Z"
   },
   {
    "duration": 12,
    "start_time": "2022-08-30T11:12:15.418Z"
   },
   {
    "duration": 176,
    "start_time": "2022-08-30T11:12:15.432Z"
   },
   {
    "duration": 5,
    "start_time": "2022-08-30T11:12:15.610Z"
   },
   {
    "duration": 232,
    "start_time": "2022-08-30T11:12:15.617Z"
   },
   {
    "duration": 11,
    "start_time": "2022-08-30T11:12:15.851Z"
   },
   {
    "duration": 164,
    "start_time": "2022-08-30T11:12:15.864Z"
   },
   {
    "duration": 7,
    "start_time": "2022-08-30T11:12:16.030Z"
   },
   {
    "duration": 24,
    "start_time": "2022-08-30T11:12:16.039Z"
   },
   {
    "duration": 10,
    "start_time": "2022-08-30T11:12:16.065Z"
   },
   {
    "duration": 33,
    "start_time": "2022-08-30T11:12:16.077Z"
   },
   {
    "duration": 5,
    "start_time": "2022-08-30T11:12:16.112Z"
   },
   {
    "duration": 14,
    "start_time": "2022-08-30T11:12:16.118Z"
   },
   {
    "duration": 22,
    "start_time": "2022-08-30T11:12:16.133Z"
   },
   {
    "duration": 6,
    "start_time": "2022-08-30T11:12:16.157Z"
   },
   {
    "duration": 38,
    "start_time": "2022-08-30T11:12:16.165Z"
   },
   {
    "duration": 247,
    "start_time": "2022-08-30T11:12:16.205Z"
   },
   {
    "duration": 6,
    "start_time": "2022-08-30T11:12:16.454Z"
   },
   {
    "duration": 383,
    "start_time": "2022-08-30T11:12:16.462Z"
   },
   {
    "duration": 295,
    "start_time": "2022-08-30T11:12:16.846Z"
   },
   {
    "duration": 9,
    "start_time": "2022-08-30T11:12:28.631Z"
   },
   {
    "duration": 6,
    "start_time": "2022-08-30T11:13:53.982Z"
   },
   {
    "duration": 11,
    "start_time": "2022-08-30T11:14:00.679Z"
   },
   {
    "duration": 5,
    "start_time": "2022-08-30T11:15:13.313Z"
   },
   {
    "duration": 62,
    "start_time": "2022-08-30T11:15:49.409Z"
   },
   {
    "duration": 5,
    "start_time": "2022-08-30T11:17:48.140Z"
   },
   {
    "duration": 4,
    "start_time": "2022-08-30T11:18:00.719Z"
   },
   {
    "duration": 49,
    "start_time": "2022-08-30T21:23:10.715Z"
   },
   {
    "duration": 1247,
    "start_time": "2022-08-30T21:23:18.906Z"
   },
   {
    "duration": 80,
    "start_time": "2022-08-30T21:23:20.154Z"
   },
   {
    "duration": 10,
    "start_time": "2022-08-30T21:23:20.236Z"
   },
   {
    "duration": 10,
    "start_time": "2022-08-30T21:23:20.248Z"
   },
   {
    "duration": 101,
    "start_time": "2022-08-30T21:23:20.260Z"
   },
   {
    "duration": 11,
    "start_time": "2022-08-30T21:23:20.362Z"
   },
   {
    "duration": 70,
    "start_time": "2022-08-30T21:23:20.375Z"
   },
   {
    "duration": 10,
    "start_time": "2022-08-30T21:23:20.447Z"
   },
   {
    "duration": 9,
    "start_time": "2022-08-30T21:23:20.459Z"
   },
   {
    "duration": 5,
    "start_time": "2022-08-30T21:23:20.470Z"
   },
   {
    "duration": 20,
    "start_time": "2022-08-30T21:23:20.476Z"
   },
   {
    "duration": 10,
    "start_time": "2022-08-30T21:23:20.502Z"
   },
   {
    "duration": 8,
    "start_time": "2022-08-30T21:23:20.514Z"
   },
   {
    "duration": 20,
    "start_time": "2022-08-30T21:23:20.523Z"
   },
   {
    "duration": 16,
    "start_time": "2022-08-30T21:23:20.544Z"
   },
   {
    "duration": 14,
    "start_time": "2022-08-30T21:23:20.562Z"
   },
   {
    "duration": 7,
    "start_time": "2022-08-30T21:23:20.578Z"
   },
   {
    "duration": 26,
    "start_time": "2022-08-30T21:23:20.586Z"
   },
   {
    "duration": 12,
    "start_time": "2022-08-30T21:23:20.614Z"
   },
   {
    "duration": 8,
    "start_time": "2022-08-30T21:23:20.627Z"
   },
   {
    "duration": 14,
    "start_time": "2022-08-30T21:23:20.636Z"
   },
   {
    "duration": 166,
    "start_time": "2022-08-30T21:23:20.651Z"
   },
   {
    "duration": 140,
    "start_time": "2022-08-30T21:23:20.819Z"
   },
   {
    "duration": 15,
    "start_time": "2022-08-30T21:23:20.960Z"
   },
   {
    "duration": 27,
    "start_time": "2022-08-30T21:23:20.976Z"
   },
   {
    "duration": 12,
    "start_time": "2022-08-30T21:23:21.004Z"
   },
   {
    "duration": 287,
    "start_time": "2022-08-30T21:23:21.017Z"
   },
   {
    "duration": 221,
    "start_time": "2022-08-30T21:23:21.308Z"
   },
   {
    "duration": 6,
    "start_time": "2022-08-30T21:23:21.531Z"
   },
   {
    "duration": 394,
    "start_time": "2022-08-30T21:23:21.538Z"
   },
   {
    "duration": 4,
    "start_time": "2022-08-30T21:23:21.934Z"
   },
   {
    "duration": 35,
    "start_time": "2022-08-30T21:23:21.941Z"
   },
   {
    "duration": 235,
    "start_time": "2022-08-30T21:23:21.978Z"
   },
   {
    "duration": 305,
    "start_time": "2022-08-30T21:23:22.215Z"
   },
   {
    "duration": 8,
    "start_time": "2022-08-30T21:23:22.522Z"
   },
   {
    "duration": 26,
    "start_time": "2022-08-30T21:23:22.532Z"
   },
   {
    "duration": 166,
    "start_time": "2022-08-30T21:23:22.560Z"
   },
   {
    "duration": 5,
    "start_time": "2022-08-30T21:23:22.727Z"
   },
   {
    "duration": 179,
    "start_time": "2022-08-30T21:23:22.734Z"
   },
   {
    "duration": 5,
    "start_time": "2022-08-30T21:23:22.914Z"
   },
   {
    "duration": 238,
    "start_time": "2022-08-30T21:23:22.920Z"
   },
   {
    "duration": 10,
    "start_time": "2022-08-30T21:23:23.160Z"
   },
   {
    "duration": 153,
    "start_time": "2022-08-30T21:23:23.172Z"
   },
   {
    "duration": 6,
    "start_time": "2022-08-30T21:23:23.326Z"
   },
   {
    "duration": 24,
    "start_time": "2022-08-30T21:23:23.334Z"
   },
   {
    "duration": 9,
    "start_time": "2022-08-30T21:23:23.359Z"
   },
   {
    "duration": 31,
    "start_time": "2022-08-30T21:23:23.370Z"
   },
   {
    "duration": 14,
    "start_time": "2022-08-30T21:23:23.405Z"
   },
   {
    "duration": 22,
    "start_time": "2022-08-30T21:23:23.421Z"
   },
   {
    "duration": 22,
    "start_time": "2022-08-30T21:23:23.445Z"
   },
   {
    "duration": 5,
    "start_time": "2022-08-30T21:23:23.469Z"
   },
   {
    "duration": 24,
    "start_time": "2022-08-30T21:23:23.489Z"
   },
   {
    "duration": 229,
    "start_time": "2022-08-30T21:23:23.515Z"
   },
   {
    "duration": 5,
    "start_time": "2022-08-30T21:23:23.745Z"
   },
   {
    "duration": 386,
    "start_time": "2022-08-30T21:23:23.752Z"
   },
   {
    "duration": 300,
    "start_time": "2022-08-30T21:23:24.141Z"
   },
   {
    "duration": 5,
    "start_time": "2022-08-30T21:24:45.444Z"
   },
   {
    "duration": 4,
    "start_time": "2022-08-30T21:25:15.140Z"
   },
   {
    "duration": 6,
    "start_time": "2022-08-30T21:25:25.564Z"
   },
   {
    "duration": 6,
    "start_time": "2022-08-30T21:25:29.899Z"
   },
   {
    "duration": 5,
    "start_time": "2022-08-30T21:27:20.166Z"
   },
   {
    "duration": 65,
    "start_time": "2022-08-30T21:28:12.878Z"
   },
   {
    "duration": 19,
    "start_time": "2022-08-30T21:28:53.880Z"
   },
   {
    "duration": 7,
    "start_time": "2022-08-30T21:29:17.615Z"
   },
   {
    "duration": 6,
    "start_time": "2022-08-30T21:29:30.831Z"
   },
   {
    "duration": 6,
    "start_time": "2022-08-30T21:33:12.553Z"
   },
   {
    "duration": 4,
    "start_time": "2022-08-30T21:33:30.329Z"
   },
   {
    "duration": 5,
    "start_time": "2022-08-30T21:33:39.977Z"
   },
   {
    "duration": 110,
    "start_time": "2022-08-30T21:42:36.534Z"
   },
   {
    "duration": 49,
    "start_time": "2022-08-31T11:17:25.944Z"
   },
   {
    "duration": 1430,
    "start_time": "2022-08-31T11:17:29.532Z"
   },
   {
    "duration": 71,
    "start_time": "2022-08-31T11:17:30.964Z"
   },
   {
    "duration": 12,
    "start_time": "2022-08-31T11:17:31.037Z"
   },
   {
    "duration": 42,
    "start_time": "2022-08-31T11:17:31.051Z"
   },
   {
    "duration": 114,
    "start_time": "2022-08-31T11:17:31.094Z"
   },
   {
    "duration": 14,
    "start_time": "2022-08-31T11:17:31.209Z"
   },
   {
    "duration": 88,
    "start_time": "2022-08-31T11:17:31.224Z"
   },
   {
    "duration": 12,
    "start_time": "2022-08-31T11:17:31.314Z"
   },
   {
    "duration": 10,
    "start_time": "2022-08-31T11:17:31.328Z"
   },
   {
    "duration": 8,
    "start_time": "2022-08-31T11:17:31.342Z"
   },
   {
    "duration": 10,
    "start_time": "2022-08-31T11:17:31.352Z"
   },
   {
    "duration": 9,
    "start_time": "2022-08-31T11:17:31.364Z"
   },
   {
    "duration": 3,
    "start_time": "2022-08-31T11:17:31.402Z"
   },
   {
    "duration": 19,
    "start_time": "2022-08-31T11:17:31.407Z"
   },
   {
    "duration": 14,
    "start_time": "2022-08-31T11:17:31.427Z"
   },
   {
    "duration": 14,
    "start_time": "2022-08-31T11:17:31.442Z"
   },
   {
    "duration": 9,
    "start_time": "2022-08-31T11:17:31.457Z"
   },
   {
    "duration": 9,
    "start_time": "2022-08-31T11:17:31.467Z"
   },
   {
    "duration": 12,
    "start_time": "2022-08-31T11:17:31.478Z"
   },
   {
    "duration": 15,
    "start_time": "2022-08-31T11:17:31.491Z"
   },
   {
    "duration": 73,
    "start_time": "2022-08-31T11:17:31.508Z"
   },
   {
    "duration": 0,
    "start_time": "2022-08-31T11:17:31.583Z"
   },
   {
    "duration": 0,
    "start_time": "2022-08-31T11:17:31.603Z"
   },
   {
    "duration": 0,
    "start_time": "2022-08-31T11:17:31.605Z"
   },
   {
    "duration": 0,
    "start_time": "2022-08-31T11:17:31.606Z"
   },
   {
    "duration": 0,
    "start_time": "2022-08-31T11:17:31.607Z"
   },
   {
    "duration": 0,
    "start_time": "2022-08-31T11:17:31.608Z"
   },
   {
    "duration": 0,
    "start_time": "2022-08-31T11:17:31.609Z"
   },
   {
    "duration": 0,
    "start_time": "2022-08-31T11:17:31.610Z"
   },
   {
    "duration": 0,
    "start_time": "2022-08-31T11:17:31.612Z"
   },
   {
    "duration": 0,
    "start_time": "2022-08-31T11:17:31.613Z"
   },
   {
    "duration": 0,
    "start_time": "2022-08-31T11:17:31.614Z"
   },
   {
    "duration": 0,
    "start_time": "2022-08-31T11:17:31.616Z"
   },
   {
    "duration": 0,
    "start_time": "2022-08-31T11:17:31.617Z"
   },
   {
    "duration": 0,
    "start_time": "2022-08-31T11:17:31.618Z"
   },
   {
    "duration": 0,
    "start_time": "2022-08-31T11:17:31.619Z"
   },
   {
    "duration": 0,
    "start_time": "2022-08-31T11:17:31.620Z"
   },
   {
    "duration": 0,
    "start_time": "2022-08-31T11:17:31.622Z"
   },
   {
    "duration": 0,
    "start_time": "2022-08-31T11:17:31.623Z"
   },
   {
    "duration": 0,
    "start_time": "2022-08-31T11:17:31.624Z"
   },
   {
    "duration": 0,
    "start_time": "2022-08-31T11:17:31.625Z"
   },
   {
    "duration": 0,
    "start_time": "2022-08-31T11:17:31.626Z"
   },
   {
    "duration": 0,
    "start_time": "2022-08-31T11:17:31.628Z"
   },
   {
    "duration": 0,
    "start_time": "2022-08-31T11:17:31.629Z"
   },
   {
    "duration": 0,
    "start_time": "2022-08-31T11:17:31.630Z"
   },
   {
    "duration": 0,
    "start_time": "2022-08-31T11:17:31.631Z"
   },
   {
    "duration": 0,
    "start_time": "2022-08-31T11:17:31.632Z"
   },
   {
    "duration": 0,
    "start_time": "2022-08-31T11:17:31.634Z"
   },
   {
    "duration": 0,
    "start_time": "2022-08-31T11:17:31.635Z"
   },
   {
    "duration": 0,
    "start_time": "2022-08-31T11:17:31.636Z"
   },
   {
    "duration": 0,
    "start_time": "2022-08-31T11:17:31.637Z"
   },
   {
    "duration": 0,
    "start_time": "2022-08-31T11:17:31.639Z"
   },
   {
    "duration": 0,
    "start_time": "2022-08-31T11:17:31.640Z"
   },
   {
    "duration": 0,
    "start_time": "2022-08-31T11:17:31.641Z"
   },
   {
    "duration": 0,
    "start_time": "2022-08-31T11:17:31.643Z"
   },
   {
    "duration": 0,
    "start_time": "2022-08-31T11:17:31.703Z"
   },
   {
    "duration": 0,
    "start_time": "2022-08-31T11:17:31.704Z"
   },
   {
    "duration": 0,
    "start_time": "2022-08-31T11:17:31.706Z"
   },
   {
    "duration": 0,
    "start_time": "2022-08-31T11:17:31.707Z"
   },
   {
    "duration": 6,
    "start_time": "2022-08-31T11:17:58.712Z"
   },
   {
    "duration": 14,
    "start_time": "2022-08-31T11:18:17.967Z"
   },
   {
    "duration": 8,
    "start_time": "2022-08-31T11:20:40.507Z"
   },
   {
    "duration": 190,
    "start_time": "2022-08-31T11:20:53.058Z"
   },
   {
    "duration": 8,
    "start_time": "2022-08-31T11:21:39.906Z"
   },
   {
    "duration": 5,
    "start_time": "2022-08-31T11:21:44.651Z"
   },
   {
    "duration": 13,
    "start_time": "2022-08-31T11:23:06.899Z"
   },
   {
    "duration": 13,
    "start_time": "2022-08-31T11:29:11.320Z"
   },
   {
    "duration": 2,
    "start_time": "2022-08-31T11:29:41.032Z"
   },
   {
    "duration": 3,
    "start_time": "2022-08-31T11:29:42.648Z"
   },
   {
    "duration": 10,
    "start_time": "2022-08-31T11:32:50.075Z"
   },
   {
    "duration": 12,
    "start_time": "2022-08-31T11:33:41.427Z"
   },
   {
    "duration": 13,
    "start_time": "2022-08-31T11:34:36.838Z"
   },
   {
    "duration": 9,
    "start_time": "2022-08-31T11:34:51.086Z"
   },
   {
    "duration": 12,
    "start_time": "2022-08-31T11:35:04.149Z"
   },
   {
    "duration": 11,
    "start_time": "2022-08-31T11:35:16.077Z"
   },
   {
    "duration": 13,
    "start_time": "2022-08-31T11:35:26.396Z"
   },
   {
    "duration": 15,
    "start_time": "2022-08-31T11:35:37.069Z"
   },
   {
    "duration": 10,
    "start_time": "2022-08-31T11:35:52.246Z"
   },
   {
    "duration": 14,
    "start_time": "2022-08-31T11:36:03.494Z"
   },
   {
    "duration": 14,
    "start_time": "2022-08-31T11:36:45.342Z"
   },
   {
    "duration": 11,
    "start_time": "2022-08-31T11:37:16.480Z"
   },
   {
    "duration": 5,
    "start_time": "2022-08-31T11:37:48.879Z"
   },
   {
    "duration": 4,
    "start_time": "2022-08-31T11:43:41.454Z"
   },
   {
    "duration": 8,
    "start_time": "2022-08-31T11:44:12.306Z"
   },
   {
    "duration": 8,
    "start_time": "2022-08-31T11:44:16.546Z"
   },
   {
    "duration": 13,
    "start_time": "2022-08-31T11:46:07.244Z"
   },
   {
    "duration": 70,
    "start_time": "2022-08-31T11:48:30.926Z"
   },
   {
    "duration": 17,
    "start_time": "2022-08-31T11:48:40.157Z"
   },
   {
    "duration": 4,
    "start_time": "2022-08-31T11:49:30.616Z"
   },
   {
    "duration": 10,
    "start_time": "2022-08-31T11:49:48.535Z"
   },
   {
    "duration": 11,
    "start_time": "2022-08-31T11:53:18.657Z"
   },
   {
    "duration": 12,
    "start_time": "2022-08-31T11:53:53.345Z"
   },
   {
    "duration": 10,
    "start_time": "2022-08-31T11:54:35.043Z"
   },
   {
    "duration": 12,
    "start_time": "2022-08-31T11:54:37.946Z"
   },
   {
    "duration": 13,
    "start_time": "2022-08-31T11:56:13.564Z"
   },
   {
    "duration": 11,
    "start_time": "2022-08-31T11:56:18.043Z"
   },
   {
    "duration": 10,
    "start_time": "2022-08-31T11:58:37.213Z"
   },
   {
    "duration": 4,
    "start_time": "2022-08-31T11:58:52.941Z"
   },
   {
    "duration": 9,
    "start_time": "2022-08-31T11:58:54.917Z"
   },
   {
    "duration": 10,
    "start_time": "2022-08-31T11:59:10.950Z"
   },
   {
    "duration": 11,
    "start_time": "2022-08-31T11:59:14.894Z"
   },
   {
    "duration": 11,
    "start_time": "2022-08-31T12:00:11.478Z"
   },
   {
    "duration": 12,
    "start_time": "2022-08-31T12:00:17.957Z"
   },
   {
    "duration": 3,
    "start_time": "2022-08-31T12:01:59.552Z"
   },
   {
    "duration": 2,
    "start_time": "2022-08-31T12:02:15.593Z"
   },
   {
    "duration": 7,
    "start_time": "2022-08-31T12:07:24.679Z"
   },
   {
    "duration": 19,
    "start_time": "2022-08-31T12:07:30.347Z"
   },
   {
    "duration": 14,
    "start_time": "2022-08-31T12:07:54.734Z"
   },
   {
    "duration": 12,
    "start_time": "2022-08-31T12:08:11.829Z"
   },
   {
    "duration": 1245,
    "start_time": "2022-08-31T12:08:41.590Z"
   },
   {
    "duration": 12,
    "start_time": "2022-08-31T12:08:56.927Z"
   },
   {
    "duration": 13,
    "start_time": "2022-08-31T12:09:24.041Z"
   },
   {
    "duration": 11,
    "start_time": "2022-08-31T12:09:28.278Z"
   },
   {
    "duration": 18,
    "start_time": "2022-08-31T12:09:39.868Z"
   },
   {
    "duration": 14,
    "start_time": "2022-08-31T12:09:53.823Z"
   },
   {
    "duration": 14,
    "start_time": "2022-08-31T12:11:26.871Z"
   },
   {
    "duration": 13,
    "start_time": "2022-08-31T12:11:30.064Z"
   },
   {
    "duration": 13,
    "start_time": "2022-08-31T12:13:00.609Z"
   },
   {
    "duration": 10,
    "start_time": "2022-08-31T12:13:05.002Z"
   },
   {
    "duration": 6,
    "start_time": "2022-08-31T12:14:48.521Z"
   },
   {
    "duration": 7,
    "start_time": "2022-08-31T12:16:14.492Z"
   },
   {
    "duration": 14,
    "start_time": "2022-08-31T12:16:16.307Z"
   },
   {
    "duration": 12,
    "start_time": "2022-08-31T12:16:34.819Z"
   },
   {
    "duration": 13,
    "start_time": "2022-08-31T12:16:40.396Z"
   },
   {
    "duration": 44,
    "start_time": "2022-09-01T10:28:55.376Z"
   },
   {
    "duration": 1187,
    "start_time": "2022-09-01T10:28:59.845Z"
   },
   {
    "duration": 76,
    "start_time": "2022-09-01T10:29:01.034Z"
   },
   {
    "duration": 10,
    "start_time": "2022-09-01T10:29:01.112Z"
   },
   {
    "duration": 15,
    "start_time": "2022-09-01T10:29:01.124Z"
   },
   {
    "duration": 99,
    "start_time": "2022-09-01T10:29:01.140Z"
   },
   {
    "duration": 10,
    "start_time": "2022-09-01T10:29:01.241Z"
   },
   {
    "duration": 65,
    "start_time": "2022-09-01T10:29:01.253Z"
   },
   {
    "duration": 9,
    "start_time": "2022-09-01T10:29:01.320Z"
   },
   {
    "duration": 19,
    "start_time": "2022-09-01T10:29:01.331Z"
   },
   {
    "duration": 5,
    "start_time": "2022-09-01T10:29:01.353Z"
   },
   {
    "duration": 19,
    "start_time": "2022-09-01T10:29:01.360Z"
   },
   {
    "duration": 7,
    "start_time": "2022-09-01T10:29:01.380Z"
   },
   {
    "duration": 8,
    "start_time": "2022-09-01T10:29:01.388Z"
   },
   {
    "duration": 15,
    "start_time": "2022-09-01T10:29:01.398Z"
   },
   {
    "duration": 17,
    "start_time": "2022-09-01T10:29:01.415Z"
   },
   {
    "duration": 31,
    "start_time": "2022-09-01T10:29:01.433Z"
   },
   {
    "duration": 9,
    "start_time": "2022-09-01T10:29:01.465Z"
   },
   {
    "duration": 16,
    "start_time": "2022-09-01T10:29:01.475Z"
   },
   {
    "duration": 12,
    "start_time": "2022-09-01T10:29:01.492Z"
   },
   {
    "duration": 12,
    "start_time": "2022-09-01T10:29:01.506Z"
   },
   {
    "duration": 3,
    "start_time": "2022-09-01T10:29:01.520Z"
   },
   {
    "duration": 14,
    "start_time": "2022-09-01T10:29:01.524Z"
   },
   {
    "duration": 24,
    "start_time": "2022-09-01T10:29:01.539Z"
   },
   {
    "duration": 25,
    "start_time": "2022-09-01T10:29:01.564Z"
   },
   {
    "duration": 26,
    "start_time": "2022-09-01T10:29:01.591Z"
   },
   {
    "duration": 54,
    "start_time": "2022-09-01T10:29:01.619Z"
   },
   {
    "duration": 0,
    "start_time": "2022-09-01T10:29:01.675Z"
   },
   {
    "duration": 0,
    "start_time": "2022-09-01T10:29:01.677Z"
   },
   {
    "duration": 0,
    "start_time": "2022-09-01T10:29:01.678Z"
   },
   {
    "duration": 0,
    "start_time": "2022-09-01T10:29:01.679Z"
   },
   {
    "duration": 0,
    "start_time": "2022-09-01T10:29:01.680Z"
   },
   {
    "duration": 0,
    "start_time": "2022-09-01T10:29:01.681Z"
   },
   {
    "duration": 0,
    "start_time": "2022-09-01T10:29:01.682Z"
   },
   {
    "duration": 0,
    "start_time": "2022-09-01T10:29:01.682Z"
   },
   {
    "duration": 1,
    "start_time": "2022-09-01T10:29:01.683Z"
   },
   {
    "duration": 0,
    "start_time": "2022-09-01T10:29:01.684Z"
   },
   {
    "duration": 0,
    "start_time": "2022-09-01T10:29:01.685Z"
   },
   {
    "duration": 0,
    "start_time": "2022-09-01T10:29:01.687Z"
   },
   {
    "duration": 0,
    "start_time": "2022-09-01T10:29:01.688Z"
   },
   {
    "duration": 0,
    "start_time": "2022-09-01T10:29:01.706Z"
   },
   {
    "duration": 0,
    "start_time": "2022-09-01T10:29:01.707Z"
   },
   {
    "duration": 0,
    "start_time": "2022-09-01T10:29:01.708Z"
   },
   {
    "duration": 0,
    "start_time": "2022-09-01T10:29:01.709Z"
   },
   {
    "duration": 0,
    "start_time": "2022-09-01T10:29:01.710Z"
   },
   {
    "duration": 0,
    "start_time": "2022-09-01T10:29:01.711Z"
   },
   {
    "duration": 0,
    "start_time": "2022-09-01T10:29:01.712Z"
   },
   {
    "duration": 0,
    "start_time": "2022-09-01T10:29:01.713Z"
   },
   {
    "duration": 0,
    "start_time": "2022-09-01T10:29:01.714Z"
   },
   {
    "duration": 0,
    "start_time": "2022-09-01T10:29:01.714Z"
   },
   {
    "duration": 0,
    "start_time": "2022-09-01T10:29:01.716Z"
   },
   {
    "duration": 0,
    "start_time": "2022-09-01T10:29:01.718Z"
   },
   {
    "duration": 0,
    "start_time": "2022-09-01T10:29:01.719Z"
   },
   {
    "duration": 0,
    "start_time": "2022-09-01T10:29:01.720Z"
   },
   {
    "duration": 0,
    "start_time": "2022-09-01T10:29:01.721Z"
   },
   {
    "duration": 0,
    "start_time": "2022-09-01T10:29:01.722Z"
   },
   {
    "duration": 0,
    "start_time": "2022-09-01T10:29:01.723Z"
   },
   {
    "duration": 0,
    "start_time": "2022-09-01T10:29:01.724Z"
   },
   {
    "duration": 0,
    "start_time": "2022-09-01T10:29:01.724Z"
   },
   {
    "duration": 0,
    "start_time": "2022-09-01T10:29:01.726Z"
   },
   {
    "duration": 0,
    "start_time": "2022-09-01T10:29:01.727Z"
   },
   {
    "duration": 0,
    "start_time": "2022-09-01T10:29:01.727Z"
   },
   {
    "duration": 0,
    "start_time": "2022-09-01T10:29:01.728Z"
   },
   {
    "duration": 0,
    "start_time": "2022-09-01T10:29:01.729Z"
   },
   {
    "duration": 6,
    "start_time": "2022-09-01T10:30:39.682Z"
   },
   {
    "duration": 5,
    "start_time": "2022-09-01T10:30:41.020Z"
   },
   {
    "duration": 11,
    "start_time": "2022-09-01T10:31:16.796Z"
   },
   {
    "duration": 12,
    "start_time": "2022-09-01T10:32:26.652Z"
   },
   {
    "duration": 16,
    "start_time": "2022-09-01T10:32:52.037Z"
   },
   {
    "duration": 21,
    "start_time": "2022-09-01T10:37:18.440Z"
   },
   {
    "duration": 17,
    "start_time": "2022-09-01T10:37:26.157Z"
   },
   {
    "duration": 8,
    "start_time": "2022-09-01T10:37:44.953Z"
   },
   {
    "duration": 14,
    "start_time": "2022-09-01T10:37:47.929Z"
   },
   {
    "duration": 2,
    "start_time": "2022-09-01T10:38:45.528Z"
   },
   {
    "duration": 35,
    "start_time": "2022-09-01T10:38:45.532Z"
   },
   {
    "duration": 10,
    "start_time": "2022-09-01T10:38:45.568Z"
   },
   {
    "duration": 16,
    "start_time": "2022-09-01T10:38:45.579Z"
   },
   {
    "duration": 52,
    "start_time": "2022-09-01T10:38:45.597Z"
   },
   {
    "duration": 10,
    "start_time": "2022-09-01T10:38:45.650Z"
   },
   {
    "duration": 22,
    "start_time": "2022-09-01T10:38:45.661Z"
   },
   {
    "duration": 8,
    "start_time": "2022-09-01T10:38:45.685Z"
   },
   {
    "duration": 8,
    "start_time": "2022-09-01T10:38:45.694Z"
   },
   {
    "duration": 4,
    "start_time": "2022-09-01T10:38:45.704Z"
   },
   {
    "duration": 9,
    "start_time": "2022-09-01T10:38:45.709Z"
   },
   {
    "duration": 11,
    "start_time": "2022-09-01T10:38:45.719Z"
   },
   {
    "duration": 4,
    "start_time": "2022-09-01T10:38:45.731Z"
   },
   {
    "duration": 11,
    "start_time": "2022-09-01T10:38:45.736Z"
   },
   {
    "duration": 10,
    "start_time": "2022-09-01T10:38:45.748Z"
   },
   {
    "duration": 6,
    "start_time": "2022-09-01T10:38:45.759Z"
   },
   {
    "duration": 6,
    "start_time": "2022-09-01T10:38:45.767Z"
   },
   {
    "duration": 5,
    "start_time": "2022-09-01T10:38:45.774Z"
   },
   {
    "duration": 28,
    "start_time": "2022-09-01T10:38:45.780Z"
   },
   {
    "duration": 9,
    "start_time": "2022-09-01T10:38:45.809Z"
   },
   {
    "duration": 3,
    "start_time": "2022-09-01T10:38:45.819Z"
   },
   {
    "duration": 12,
    "start_time": "2022-09-01T10:38:45.824Z"
   },
   {
    "duration": 4,
    "start_time": "2022-09-01T10:38:45.837Z"
   },
   {
    "duration": 5,
    "start_time": "2022-09-01T10:38:45.842Z"
   },
   {
    "duration": 12,
    "start_time": "2022-09-01T10:38:45.850Z"
   },
   {
    "duration": 12,
    "start_time": "2022-09-01T10:38:45.864Z"
   },
   {
    "duration": 0,
    "start_time": "2022-09-01T10:38:45.906Z"
   },
   {
    "duration": 0,
    "start_time": "2022-09-01T10:38:45.907Z"
   },
   {
    "duration": 0,
    "start_time": "2022-09-01T10:38:45.909Z"
   },
   {
    "duration": 0,
    "start_time": "2022-09-01T10:38:45.910Z"
   },
   {
    "duration": 0,
    "start_time": "2022-09-01T10:38:45.912Z"
   },
   {
    "duration": 0,
    "start_time": "2022-09-01T10:38:45.913Z"
   },
   {
    "duration": 0,
    "start_time": "2022-09-01T10:38:45.915Z"
   },
   {
    "duration": 0,
    "start_time": "2022-09-01T10:38:45.916Z"
   },
   {
    "duration": 0,
    "start_time": "2022-09-01T10:38:45.917Z"
   },
   {
    "duration": 0,
    "start_time": "2022-09-01T10:38:45.918Z"
   },
   {
    "duration": 0,
    "start_time": "2022-09-01T10:38:45.920Z"
   },
   {
    "duration": 0,
    "start_time": "2022-09-01T10:38:45.921Z"
   },
   {
    "duration": 0,
    "start_time": "2022-09-01T10:38:45.922Z"
   },
   {
    "duration": 0,
    "start_time": "2022-09-01T10:38:45.924Z"
   },
   {
    "duration": 0,
    "start_time": "2022-09-01T10:38:45.925Z"
   },
   {
    "duration": 11,
    "start_time": "2022-09-01T10:38:45.928Z"
   },
   {
    "duration": 72,
    "start_time": "2022-09-01T10:38:45.941Z"
   },
   {
    "duration": 213,
    "start_time": "2022-09-01T10:38:46.015Z"
   },
   {
    "duration": 5,
    "start_time": "2022-09-01T10:38:46.232Z"
   },
   {
    "duration": 165,
    "start_time": "2022-09-01T10:38:46.239Z"
   },
   {
    "duration": 5,
    "start_time": "2022-09-01T10:38:46.405Z"
   },
   {
    "duration": 1627,
    "start_time": "2022-09-01T10:38:46.412Z"
   },
   {
    "duration": 0,
    "start_time": "2022-09-01T10:38:48.040Z"
   },
   {
    "duration": 0,
    "start_time": "2022-09-01T10:38:48.042Z"
   },
   {
    "duration": 0,
    "start_time": "2022-09-01T10:38:48.043Z"
   },
   {
    "duration": 0,
    "start_time": "2022-09-01T10:38:48.043Z"
   },
   {
    "duration": 0,
    "start_time": "2022-09-01T10:38:48.044Z"
   },
   {
    "duration": 0,
    "start_time": "2022-09-01T10:38:48.045Z"
   },
   {
    "duration": 0,
    "start_time": "2022-09-01T10:38:48.046Z"
   },
   {
    "duration": 0,
    "start_time": "2022-09-01T10:38:48.048Z"
   },
   {
    "duration": 0,
    "start_time": "2022-09-01T10:38:48.049Z"
   },
   {
    "duration": 0,
    "start_time": "2022-09-01T10:38:48.050Z"
   },
   {
    "duration": 0,
    "start_time": "2022-09-01T10:38:48.051Z"
   },
   {
    "duration": 0,
    "start_time": "2022-09-01T10:38:48.052Z"
   },
   {
    "duration": 0,
    "start_time": "2022-09-01T10:38:48.053Z"
   },
   {
    "duration": 0,
    "start_time": "2022-09-01T10:38:48.054Z"
   },
   {
    "duration": 0,
    "start_time": "2022-09-01T10:38:48.055Z"
   },
   {
    "duration": 91,
    "start_time": "2022-09-01T10:39:16.106Z"
   },
   {
    "duration": 16,
    "start_time": "2022-09-01T10:39:21.513Z"
   },
   {
    "duration": 14,
    "start_time": "2022-09-01T10:39:33.674Z"
   },
   {
    "duration": 3,
    "start_time": "2022-09-01T10:39:41.221Z"
   },
   {
    "duration": 31,
    "start_time": "2022-09-01T10:39:41.228Z"
   },
   {
    "duration": 11,
    "start_time": "2022-09-01T10:39:41.261Z"
   },
   {
    "duration": 13,
    "start_time": "2022-09-01T10:39:41.274Z"
   },
   {
    "duration": 56,
    "start_time": "2022-09-01T10:39:41.289Z"
   },
   {
    "duration": 10,
    "start_time": "2022-09-01T10:39:41.347Z"
   },
   {
    "duration": 24,
    "start_time": "2022-09-01T10:39:41.358Z"
   },
   {
    "duration": 9,
    "start_time": "2022-09-01T10:39:41.383Z"
   },
   {
    "duration": 8,
    "start_time": "2022-09-01T10:39:41.394Z"
   },
   {
    "duration": 7,
    "start_time": "2022-09-01T10:39:41.403Z"
   },
   {
    "duration": 8,
    "start_time": "2022-09-01T10:39:41.412Z"
   },
   {
    "duration": 6,
    "start_time": "2022-09-01T10:39:41.422Z"
   },
   {
    "duration": 4,
    "start_time": "2022-09-01T10:39:41.430Z"
   },
   {
    "duration": 12,
    "start_time": "2022-09-01T10:39:41.435Z"
   },
   {
    "duration": 13,
    "start_time": "2022-09-01T10:39:41.448Z"
   },
   {
    "duration": 6,
    "start_time": "2022-09-01T10:39:41.462Z"
   },
   {
    "duration": 6,
    "start_time": "2022-09-01T10:39:41.470Z"
   },
   {
    "duration": 4,
    "start_time": "2022-09-01T10:39:41.507Z"
   },
   {
    "duration": 9,
    "start_time": "2022-09-01T10:39:41.512Z"
   },
   {
    "duration": 11,
    "start_time": "2022-09-01T10:39:41.522Z"
   },
   {
    "duration": 3,
    "start_time": "2022-09-01T10:39:41.535Z"
   },
   {
    "duration": 20,
    "start_time": "2022-09-01T10:39:41.539Z"
   },
   {
    "duration": 10,
    "start_time": "2022-09-01T10:39:41.560Z"
   },
   {
    "duration": 8,
    "start_time": "2022-09-01T10:39:41.572Z"
   },
   {
    "duration": 32,
    "start_time": "2022-09-01T10:39:41.581Z"
   },
   {
    "duration": 10,
    "start_time": "2022-09-01T10:39:41.615Z"
   },
   {
    "duration": 0,
    "start_time": "2022-09-01T10:39:41.627Z"
   },
   {
    "duration": 0,
    "start_time": "2022-09-01T10:39:41.628Z"
   },
   {
    "duration": 0,
    "start_time": "2022-09-01T10:39:41.629Z"
   },
   {
    "duration": 0,
    "start_time": "2022-09-01T10:39:41.630Z"
   },
   {
    "duration": 0,
    "start_time": "2022-09-01T10:39:41.631Z"
   },
   {
    "duration": 0,
    "start_time": "2022-09-01T10:39:41.632Z"
   },
   {
    "duration": 0,
    "start_time": "2022-09-01T10:39:41.633Z"
   },
   {
    "duration": 0,
    "start_time": "2022-09-01T10:39:41.634Z"
   },
   {
    "duration": 0,
    "start_time": "2022-09-01T10:39:41.635Z"
   },
   {
    "duration": 0,
    "start_time": "2022-09-01T10:39:41.636Z"
   },
   {
    "duration": 0,
    "start_time": "2022-09-01T10:39:41.637Z"
   },
   {
    "duration": 0,
    "start_time": "2022-09-01T10:39:41.638Z"
   },
   {
    "duration": 0,
    "start_time": "2022-09-01T10:39:41.639Z"
   },
   {
    "duration": 0,
    "start_time": "2022-09-01T10:39:41.640Z"
   },
   {
    "duration": 0,
    "start_time": "2022-09-01T10:39:41.641Z"
   },
   {
    "duration": 0,
    "start_time": "2022-09-01T10:39:41.642Z"
   },
   {
    "duration": 0,
    "start_time": "2022-09-01T10:39:41.643Z"
   },
   {
    "duration": 0,
    "start_time": "2022-09-01T10:39:41.644Z"
   },
   {
    "duration": 0,
    "start_time": "2022-09-01T10:39:41.645Z"
   },
   {
    "duration": 0,
    "start_time": "2022-09-01T10:39:41.646Z"
   },
   {
    "duration": 0,
    "start_time": "2022-09-01T10:39:41.648Z"
   },
   {
    "duration": 0,
    "start_time": "2022-09-01T10:39:41.649Z"
   },
   {
    "duration": 0,
    "start_time": "2022-09-01T10:39:41.649Z"
   },
   {
    "duration": 0,
    "start_time": "2022-09-01T10:39:41.650Z"
   },
   {
    "duration": 0,
    "start_time": "2022-09-01T10:39:41.651Z"
   },
   {
    "duration": 0,
    "start_time": "2022-09-01T10:39:41.652Z"
   },
   {
    "duration": 0,
    "start_time": "2022-09-01T10:39:41.653Z"
   },
   {
    "duration": 0,
    "start_time": "2022-09-01T10:39:41.706Z"
   },
   {
    "duration": 0,
    "start_time": "2022-09-01T10:39:41.708Z"
   },
   {
    "duration": 0,
    "start_time": "2022-09-01T10:39:41.709Z"
   },
   {
    "duration": 0,
    "start_time": "2022-09-01T10:39:41.710Z"
   },
   {
    "duration": 0,
    "start_time": "2022-09-01T10:39:41.711Z"
   },
   {
    "duration": 0,
    "start_time": "2022-09-01T10:39:41.712Z"
   },
   {
    "duration": 0,
    "start_time": "2022-09-01T10:39:41.713Z"
   },
   {
    "duration": 10,
    "start_time": "2022-09-01T10:39:41.716Z"
   },
   {
    "duration": 0,
    "start_time": "2022-09-01T10:39:41.727Z"
   },
   {
    "duration": 0,
    "start_time": "2022-09-01T10:39:41.728Z"
   },
   {
    "duration": 13,
    "start_time": "2022-09-01T10:42:24.838Z"
   },
   {
    "duration": 3,
    "start_time": "2022-09-01T10:42:31.550Z"
   },
   {
    "duration": 45,
    "start_time": "2022-09-01T10:42:31.556Z"
   },
   {
    "duration": 20,
    "start_time": "2022-09-01T10:42:31.603Z"
   },
   {
    "duration": 23,
    "start_time": "2022-09-01T10:42:31.624Z"
   },
   {
    "duration": 67,
    "start_time": "2022-09-01T10:42:31.649Z"
   },
   {
    "duration": 9,
    "start_time": "2022-09-01T10:42:31.717Z"
   },
   {
    "duration": 34,
    "start_time": "2022-09-01T10:42:31.728Z"
   },
   {
    "duration": 8,
    "start_time": "2022-09-01T10:42:31.764Z"
   },
   {
    "duration": 24,
    "start_time": "2022-09-01T10:42:31.773Z"
   },
   {
    "duration": 36,
    "start_time": "2022-09-01T10:42:31.798Z"
   },
   {
    "duration": 22,
    "start_time": "2022-09-01T10:42:31.836Z"
   },
   {
    "duration": 18,
    "start_time": "2022-09-01T10:42:31.859Z"
   },
   {
    "duration": 18,
    "start_time": "2022-09-01T10:42:31.878Z"
   },
   {
    "duration": 20,
    "start_time": "2022-09-01T10:42:31.898Z"
   },
   {
    "duration": 40,
    "start_time": "2022-09-01T10:42:31.920Z"
   },
   {
    "duration": 10,
    "start_time": "2022-09-01T10:42:31.962Z"
   },
   {
    "duration": 13,
    "start_time": "2022-09-01T10:42:31.973Z"
   },
   {
    "duration": 9,
    "start_time": "2022-09-01T10:42:31.987Z"
   },
   {
    "duration": 9,
    "start_time": "2022-09-01T10:42:31.998Z"
   },
   {
    "duration": 20,
    "start_time": "2022-09-01T10:42:32.008Z"
   },
   {
    "duration": 4,
    "start_time": "2022-09-01T10:42:32.029Z"
   },
   {
    "duration": 23,
    "start_time": "2022-09-01T10:42:32.035Z"
   },
   {
    "duration": 14,
    "start_time": "2022-09-01T10:42:32.060Z"
   },
   {
    "duration": 12,
    "start_time": "2022-09-01T10:42:32.075Z"
   },
   {
    "duration": 29,
    "start_time": "2022-09-01T10:42:32.088Z"
   },
   {
    "duration": 15,
    "start_time": "2022-09-01T10:42:32.118Z"
   },
   {
    "duration": 0,
    "start_time": "2022-09-01T10:42:32.135Z"
   },
   {
    "duration": 0,
    "start_time": "2022-09-01T10:42:32.137Z"
   },
   {
    "duration": 0,
    "start_time": "2022-09-01T10:42:32.137Z"
   },
   {
    "duration": 0,
    "start_time": "2022-09-01T10:42:32.138Z"
   },
   {
    "duration": 0,
    "start_time": "2022-09-01T10:42:32.140Z"
   },
   {
    "duration": 0,
    "start_time": "2022-09-01T10:42:32.141Z"
   },
   {
    "duration": 0,
    "start_time": "2022-09-01T10:42:32.141Z"
   },
   {
    "duration": 0,
    "start_time": "2022-09-01T10:42:32.142Z"
   },
   {
    "duration": 0,
    "start_time": "2022-09-01T10:42:32.143Z"
   },
   {
    "duration": 0,
    "start_time": "2022-09-01T10:42:32.144Z"
   },
   {
    "duration": 0,
    "start_time": "2022-09-01T10:42:32.145Z"
   },
   {
    "duration": 0,
    "start_time": "2022-09-01T10:42:32.146Z"
   },
   {
    "duration": 0,
    "start_time": "2022-09-01T10:42:32.147Z"
   },
   {
    "duration": 0,
    "start_time": "2022-09-01T10:42:32.148Z"
   },
   {
    "duration": 0,
    "start_time": "2022-09-01T10:42:32.149Z"
   },
   {
    "duration": 0,
    "start_time": "2022-09-01T10:42:32.150Z"
   },
   {
    "duration": 0,
    "start_time": "2022-09-01T10:42:32.151Z"
   },
   {
    "duration": 0,
    "start_time": "2022-09-01T10:42:32.152Z"
   },
   {
    "duration": 0,
    "start_time": "2022-09-01T10:42:32.153Z"
   },
   {
    "duration": 0,
    "start_time": "2022-09-01T10:42:32.154Z"
   },
   {
    "duration": 0,
    "start_time": "2022-09-01T10:42:32.155Z"
   },
   {
    "duration": 0,
    "start_time": "2022-09-01T10:42:32.156Z"
   },
   {
    "duration": 0,
    "start_time": "2022-09-01T10:42:32.157Z"
   },
   {
    "duration": 0,
    "start_time": "2022-09-01T10:42:32.157Z"
   },
   {
    "duration": 0,
    "start_time": "2022-09-01T10:42:32.158Z"
   },
   {
    "duration": 0,
    "start_time": "2022-09-01T10:42:32.159Z"
   },
   {
    "duration": 0,
    "start_time": "2022-09-01T10:42:32.160Z"
   },
   {
    "duration": 0,
    "start_time": "2022-09-01T10:42:32.161Z"
   },
   {
    "duration": 0,
    "start_time": "2022-09-01T10:42:32.162Z"
   },
   {
    "duration": 0,
    "start_time": "2022-09-01T10:42:32.163Z"
   },
   {
    "duration": 0,
    "start_time": "2022-09-01T10:42:32.164Z"
   },
   {
    "duration": 0,
    "start_time": "2022-09-01T10:42:32.164Z"
   },
   {
    "duration": 0,
    "start_time": "2022-09-01T10:42:32.165Z"
   },
   {
    "duration": 0,
    "start_time": "2022-09-01T10:42:32.166Z"
   },
   {
    "duration": 0,
    "start_time": "2022-09-01T10:42:32.206Z"
   },
   {
    "duration": 0,
    "start_time": "2022-09-01T10:42:32.207Z"
   },
   {
    "duration": 0,
    "start_time": "2022-09-01T10:42:32.208Z"
   },
   {
    "duration": 13,
    "start_time": "2022-09-01T10:42:52.478Z"
   },
   {
    "duration": 10,
    "start_time": "2022-09-01T10:43:25.742Z"
   },
   {
    "duration": 15,
    "start_time": "2022-09-01T10:43:46.349Z"
   },
   {
    "duration": 3,
    "start_time": "2022-09-01T10:44:00.079Z"
   },
   {
    "duration": 14,
    "start_time": "2022-09-01T10:44:18.177Z"
   },
   {
    "duration": 86,
    "start_time": "2022-09-01T10:44:25.638Z"
   },
   {
    "duration": 16,
    "start_time": "2022-09-01T10:44:27.822Z"
   },
   {
    "duration": 19,
    "start_time": "2022-09-01T10:44:36.166Z"
   },
   {
    "duration": 3,
    "start_time": "2022-09-01T10:45:16.854Z"
   },
   {
    "duration": 11,
    "start_time": "2022-09-01T10:45:25.767Z"
   },
   {
    "duration": 12,
    "start_time": "2022-09-01T10:45:42.792Z"
   },
   {
    "duration": 11,
    "start_time": "2022-09-01T10:47:10.878Z"
   },
   {
    "duration": 11,
    "start_time": "2022-09-01T10:47:39.581Z"
   },
   {
    "duration": 14,
    "start_time": "2022-09-01T10:49:01.410Z"
   },
   {
    "duration": 15,
    "start_time": "2022-09-01T10:49:02.878Z"
   },
   {
    "duration": 3,
    "start_time": "2022-09-01T10:49:08.827Z"
   },
   {
    "duration": 31,
    "start_time": "2022-09-01T10:49:08.833Z"
   },
   {
    "duration": 10,
    "start_time": "2022-09-01T10:49:08.865Z"
   },
   {
    "duration": 12,
    "start_time": "2022-09-01T10:49:08.876Z"
   },
   {
    "duration": 49,
    "start_time": "2022-09-01T10:49:08.889Z"
   },
   {
    "duration": 9,
    "start_time": "2022-09-01T10:49:08.940Z"
   },
   {
    "duration": 22,
    "start_time": "2022-09-01T10:49:08.951Z"
   },
   {
    "duration": 9,
    "start_time": "2022-09-01T10:49:08.975Z"
   },
   {
    "duration": 5,
    "start_time": "2022-09-01T10:49:08.986Z"
   },
   {
    "duration": 5,
    "start_time": "2022-09-01T10:49:08.993Z"
   },
   {
    "duration": 8,
    "start_time": "2022-09-01T10:49:08.999Z"
   },
   {
    "duration": 7,
    "start_time": "2022-09-01T10:49:09.008Z"
   },
   {
    "duration": 9,
    "start_time": "2022-09-01T10:49:09.016Z"
   },
   {
    "duration": 11,
    "start_time": "2022-09-01T10:49:09.026Z"
   },
   {
    "duration": 8,
    "start_time": "2022-09-01T10:49:09.039Z"
   },
   {
    "duration": 8,
    "start_time": "2022-09-01T10:49:09.048Z"
   },
   {
    "duration": 6,
    "start_time": "2022-09-01T10:49:09.057Z"
   },
   {
    "duration": 9,
    "start_time": "2022-09-01T10:49:09.064Z"
   },
   {
    "duration": 33,
    "start_time": "2022-09-01T10:49:09.074Z"
   },
   {
    "duration": 9,
    "start_time": "2022-09-01T10:49:09.109Z"
   },
   {
    "duration": 3,
    "start_time": "2022-09-01T10:49:09.120Z"
   },
   {
    "duration": 13,
    "start_time": "2022-09-01T10:49:09.124Z"
   },
   {
    "duration": 10,
    "start_time": "2022-09-01T10:49:09.139Z"
   },
   {
    "duration": 4,
    "start_time": "2022-09-01T10:49:09.150Z"
   },
   {
    "duration": 5,
    "start_time": "2022-09-01T10:49:09.155Z"
   },
   {
    "duration": 17,
    "start_time": "2022-09-01T10:49:09.161Z"
   },
   {
    "duration": 34,
    "start_time": "2022-09-01T10:49:09.179Z"
   },
   {
    "duration": 11,
    "start_time": "2022-09-01T10:49:09.214Z"
   },
   {
    "duration": 0,
    "start_time": "2022-09-01T10:49:09.227Z"
   },
   {
    "duration": 0,
    "start_time": "2022-09-01T10:49:09.228Z"
   },
   {
    "duration": 0,
    "start_time": "2022-09-01T10:49:09.229Z"
   },
   {
    "duration": 0,
    "start_time": "2022-09-01T10:49:09.230Z"
   },
   {
    "duration": 0,
    "start_time": "2022-09-01T10:49:09.231Z"
   },
   {
    "duration": 0,
    "start_time": "2022-09-01T10:49:09.232Z"
   },
   {
    "duration": 0,
    "start_time": "2022-09-01T10:49:09.233Z"
   },
   {
    "duration": 0,
    "start_time": "2022-09-01T10:49:09.234Z"
   },
   {
    "duration": 0,
    "start_time": "2022-09-01T10:49:09.235Z"
   },
   {
    "duration": 0,
    "start_time": "2022-09-01T10:49:09.236Z"
   },
   {
    "duration": 0,
    "start_time": "2022-09-01T10:49:09.236Z"
   },
   {
    "duration": 0,
    "start_time": "2022-09-01T10:49:09.237Z"
   },
   {
    "duration": 0,
    "start_time": "2022-09-01T10:49:09.238Z"
   },
   {
    "duration": 0,
    "start_time": "2022-09-01T10:49:09.239Z"
   },
   {
    "duration": 0,
    "start_time": "2022-09-01T10:49:09.240Z"
   },
   {
    "duration": 0,
    "start_time": "2022-09-01T10:49:09.241Z"
   },
   {
    "duration": 0,
    "start_time": "2022-09-01T10:49:09.242Z"
   },
   {
    "duration": 0,
    "start_time": "2022-09-01T10:49:09.243Z"
   },
   {
    "duration": 0,
    "start_time": "2022-09-01T10:49:09.244Z"
   },
   {
    "duration": 0,
    "start_time": "2022-09-01T10:49:09.245Z"
   },
   {
    "duration": 0,
    "start_time": "2022-09-01T10:49:09.246Z"
   },
   {
    "duration": 0,
    "start_time": "2022-09-01T10:49:09.247Z"
   },
   {
    "duration": 0,
    "start_time": "2022-09-01T10:49:09.248Z"
   },
   {
    "duration": 0,
    "start_time": "2022-09-01T10:49:09.249Z"
   },
   {
    "duration": 0,
    "start_time": "2022-09-01T10:49:09.250Z"
   },
   {
    "duration": 0,
    "start_time": "2022-09-01T10:49:09.250Z"
   },
   {
    "duration": 0,
    "start_time": "2022-09-01T10:49:09.251Z"
   },
   {
    "duration": 0,
    "start_time": "2022-09-01T10:49:09.252Z"
   },
   {
    "duration": 0,
    "start_time": "2022-09-01T10:49:09.253Z"
   },
   {
    "duration": 0,
    "start_time": "2022-09-01T10:49:09.254Z"
   },
   {
    "duration": 0,
    "start_time": "2022-09-01T10:49:09.305Z"
   },
   {
    "duration": 0,
    "start_time": "2022-09-01T10:49:09.306Z"
   },
   {
    "duration": 124,
    "start_time": "2022-09-01T10:49:09.310Z"
   },
   {
    "duration": 0,
    "start_time": "2022-09-01T10:49:09.436Z"
   },
   {
    "duration": 1,
    "start_time": "2022-09-01T10:49:09.436Z"
   },
   {
    "duration": 0,
    "start_time": "2022-09-01T10:49:09.437Z"
   },
   {
    "duration": 73,
    "start_time": "2022-09-01T10:49:51.804Z"
   },
   {
    "duration": 12,
    "start_time": "2022-09-01T10:50:07.259Z"
   },
   {
    "duration": 3,
    "start_time": "2022-09-01T10:50:21.830Z"
   },
   {
    "duration": 41,
    "start_time": "2022-09-01T10:50:21.834Z"
   },
   {
    "duration": 9,
    "start_time": "2022-09-01T10:50:21.877Z"
   },
   {
    "duration": 11,
    "start_time": "2022-09-01T10:50:21.887Z"
   },
   {
    "duration": 53,
    "start_time": "2022-09-01T10:50:21.900Z"
   },
   {
    "duration": 10,
    "start_time": "2022-09-01T10:50:21.954Z"
   },
   {
    "duration": 23,
    "start_time": "2022-09-01T10:50:21.966Z"
   },
   {
    "duration": 9,
    "start_time": "2022-09-01T10:50:21.990Z"
   },
   {
    "duration": 8,
    "start_time": "2022-09-01T10:50:22.000Z"
   },
   {
    "duration": 8,
    "start_time": "2022-09-01T10:50:22.009Z"
   },
   {
    "duration": 8,
    "start_time": "2022-09-01T10:50:22.019Z"
   },
   {
    "duration": 10,
    "start_time": "2022-09-01T10:50:22.028Z"
   },
   {
    "duration": 5,
    "start_time": "2022-09-01T10:50:22.039Z"
   },
   {
    "duration": 12,
    "start_time": "2022-09-01T10:50:22.046Z"
   },
   {
    "duration": 10,
    "start_time": "2022-09-01T10:50:22.060Z"
   },
   {
    "duration": 7,
    "start_time": "2022-09-01T10:50:22.071Z"
   },
   {
    "duration": 4,
    "start_time": "2022-09-01T10:50:22.106Z"
   },
   {
    "duration": 10,
    "start_time": "2022-09-01T10:50:22.111Z"
   },
   {
    "duration": 7,
    "start_time": "2022-09-01T10:50:22.122Z"
   },
   {
    "duration": 9,
    "start_time": "2022-09-01T10:50:22.131Z"
   },
   {
    "duration": 3,
    "start_time": "2022-09-01T10:50:22.142Z"
   },
   {
    "duration": 11,
    "start_time": "2022-09-01T10:50:22.146Z"
   },
   {
    "duration": 8,
    "start_time": "2022-09-01T10:50:22.158Z"
   },
   {
    "duration": 38,
    "start_time": "2022-09-01T10:50:22.168Z"
   },
   {
    "duration": 3,
    "start_time": "2022-09-01T10:50:22.208Z"
   },
   {
    "duration": 16,
    "start_time": "2022-09-01T10:50:22.212Z"
   },
   {
    "duration": 11,
    "start_time": "2022-09-01T10:50:22.229Z"
   },
   {
    "duration": 0,
    "start_time": "2022-09-01T10:50:22.243Z"
   },
   {
    "duration": 0,
    "start_time": "2022-09-01T10:50:22.244Z"
   },
   {
    "duration": 0,
    "start_time": "2022-09-01T10:50:22.245Z"
   },
   {
    "duration": 0,
    "start_time": "2022-09-01T10:50:22.246Z"
   },
   {
    "duration": 0,
    "start_time": "2022-09-01T10:50:22.247Z"
   },
   {
    "duration": 0,
    "start_time": "2022-09-01T10:50:22.249Z"
   },
   {
    "duration": 0,
    "start_time": "2022-09-01T10:50:22.249Z"
   },
   {
    "duration": 0,
    "start_time": "2022-09-01T10:50:22.251Z"
   },
   {
    "duration": 0,
    "start_time": "2022-09-01T10:50:22.252Z"
   },
   {
    "duration": 0,
    "start_time": "2022-09-01T10:50:22.253Z"
   },
   {
    "duration": 0,
    "start_time": "2022-09-01T10:50:22.254Z"
   },
   {
    "duration": 0,
    "start_time": "2022-09-01T10:50:22.255Z"
   },
   {
    "duration": 0,
    "start_time": "2022-09-01T10:50:22.256Z"
   },
   {
    "duration": 0,
    "start_time": "2022-09-01T10:50:22.257Z"
   },
   {
    "duration": 0,
    "start_time": "2022-09-01T10:50:22.258Z"
   },
   {
    "duration": 0,
    "start_time": "2022-09-01T10:50:22.305Z"
   },
   {
    "duration": 0,
    "start_time": "2022-09-01T10:50:22.308Z"
   },
   {
    "duration": 0,
    "start_time": "2022-09-01T10:50:22.309Z"
   },
   {
    "duration": 0,
    "start_time": "2022-09-01T10:50:22.310Z"
   },
   {
    "duration": 0,
    "start_time": "2022-09-01T10:50:22.311Z"
   },
   {
    "duration": 0,
    "start_time": "2022-09-01T10:50:22.313Z"
   },
   {
    "duration": 0,
    "start_time": "2022-09-01T10:50:22.314Z"
   },
   {
    "duration": 0,
    "start_time": "2022-09-01T10:50:22.315Z"
   },
   {
    "duration": 0,
    "start_time": "2022-09-01T10:50:22.316Z"
   },
   {
    "duration": 0,
    "start_time": "2022-09-01T10:50:22.317Z"
   },
   {
    "duration": 0,
    "start_time": "2022-09-01T10:50:22.319Z"
   },
   {
    "duration": 0,
    "start_time": "2022-09-01T10:50:22.320Z"
   },
   {
    "duration": 0,
    "start_time": "2022-09-01T10:50:22.321Z"
   },
   {
    "duration": 0,
    "start_time": "2022-09-01T10:50:22.322Z"
   },
   {
    "duration": 0,
    "start_time": "2022-09-01T10:50:22.323Z"
   },
   {
    "duration": 0,
    "start_time": "2022-09-01T10:50:22.325Z"
   },
   {
    "duration": 0,
    "start_time": "2022-09-01T10:50:22.326Z"
   },
   {
    "duration": 0,
    "start_time": "2022-09-01T10:50:22.328Z"
   },
   {
    "duration": 0,
    "start_time": "2022-09-01T10:50:22.329Z"
   },
   {
    "duration": 0,
    "start_time": "2022-09-01T10:50:22.330Z"
   },
   {
    "duration": 0,
    "start_time": "2022-09-01T10:50:22.332Z"
   },
   {
    "duration": 0,
    "start_time": "2022-09-01T10:50:22.333Z"
   },
   {
    "duration": 14,
    "start_time": "2022-09-01T10:50:42.883Z"
   },
   {
    "duration": 8,
    "start_time": "2022-09-01T10:50:52.155Z"
   },
   {
    "duration": 8,
    "start_time": "2022-09-01T10:50:58.678Z"
   },
   {
    "duration": 12,
    "start_time": "2022-09-01T10:51:04.180Z"
   },
   {
    "duration": 12,
    "start_time": "2022-09-01T10:51:06.588Z"
   },
   {
    "duration": 11,
    "start_time": "2022-09-01T10:51:08.678Z"
   },
   {
    "duration": 4,
    "start_time": "2022-09-01T10:51:16.117Z"
   },
   {
    "duration": 36,
    "start_time": "2022-09-01T10:51:16.124Z"
   },
   {
    "duration": 11,
    "start_time": "2022-09-01T10:51:16.162Z"
   },
   {
    "duration": 32,
    "start_time": "2022-09-01T10:51:16.174Z"
   },
   {
    "duration": 58,
    "start_time": "2022-09-01T10:51:16.208Z"
   },
   {
    "duration": 9,
    "start_time": "2022-09-01T10:51:16.267Z"
   },
   {
    "duration": 21,
    "start_time": "2022-09-01T10:51:16.278Z"
   },
   {
    "duration": 9,
    "start_time": "2022-09-01T10:51:16.301Z"
   },
   {
    "duration": 6,
    "start_time": "2022-09-01T10:51:16.311Z"
   },
   {
    "duration": 8,
    "start_time": "2022-09-01T10:51:16.318Z"
   },
   {
    "duration": 21,
    "start_time": "2022-09-01T10:51:16.328Z"
   },
   {
    "duration": 6,
    "start_time": "2022-09-01T10:51:16.350Z"
   },
   {
    "duration": 6,
    "start_time": "2022-09-01T10:51:16.358Z"
   },
   {
    "duration": 11,
    "start_time": "2022-09-01T10:51:16.366Z"
   },
   {
    "duration": 10,
    "start_time": "2022-09-01T10:51:16.378Z"
   },
   {
    "duration": 5,
    "start_time": "2022-09-01T10:51:16.406Z"
   },
   {
    "duration": 8,
    "start_time": "2022-09-01T10:51:16.412Z"
   },
   {
    "duration": 6,
    "start_time": "2022-09-01T10:51:16.421Z"
   },
   {
    "duration": 8,
    "start_time": "2022-09-01T10:51:16.428Z"
   },
   {
    "duration": 11,
    "start_time": "2022-09-01T10:51:16.437Z"
   },
   {
    "duration": 3,
    "start_time": "2022-09-01T10:51:16.449Z"
   },
   {
    "duration": 8,
    "start_time": "2022-09-01T10:51:16.454Z"
   },
   {
    "duration": 9,
    "start_time": "2022-09-01T10:51:16.463Z"
   },
   {
    "duration": 32,
    "start_time": "2022-09-01T10:51:16.473Z"
   },
   {
    "duration": 2,
    "start_time": "2022-09-01T10:51:16.507Z"
   },
   {
    "duration": 13,
    "start_time": "2022-09-01T10:51:16.510Z"
   },
   {
    "duration": 11,
    "start_time": "2022-09-01T10:51:16.525Z"
   },
   {
    "duration": 0,
    "start_time": "2022-09-01T10:51:16.538Z"
   },
   {
    "duration": 0,
    "start_time": "2022-09-01T10:51:16.539Z"
   },
   {
    "duration": 0,
    "start_time": "2022-09-01T10:51:16.540Z"
   },
   {
    "duration": 0,
    "start_time": "2022-09-01T10:51:16.541Z"
   },
   {
    "duration": 0,
    "start_time": "2022-09-01T10:51:16.543Z"
   },
   {
    "duration": 0,
    "start_time": "2022-09-01T10:51:16.544Z"
   },
   {
    "duration": 0,
    "start_time": "2022-09-01T10:51:16.545Z"
   },
   {
    "duration": 0,
    "start_time": "2022-09-01T10:51:16.546Z"
   },
   {
    "duration": 0,
    "start_time": "2022-09-01T10:51:16.547Z"
   },
   {
    "duration": 0,
    "start_time": "2022-09-01T10:51:16.549Z"
   },
   {
    "duration": 0,
    "start_time": "2022-09-01T10:51:16.550Z"
   },
   {
    "duration": 0,
    "start_time": "2022-09-01T10:51:16.551Z"
   },
   {
    "duration": 0,
    "start_time": "2022-09-01T10:51:16.552Z"
   },
   {
    "duration": 0,
    "start_time": "2022-09-01T10:51:16.553Z"
   },
   {
    "duration": 0,
    "start_time": "2022-09-01T10:51:16.554Z"
   },
   {
    "duration": 0,
    "start_time": "2022-09-01T10:51:16.555Z"
   },
   {
    "duration": 0,
    "start_time": "2022-09-01T10:51:16.556Z"
   },
   {
    "duration": 0,
    "start_time": "2022-09-01T10:51:16.606Z"
   },
   {
    "duration": 0,
    "start_time": "2022-09-01T10:51:16.607Z"
   },
   {
    "duration": 0,
    "start_time": "2022-09-01T10:51:16.608Z"
   },
   {
    "duration": 0,
    "start_time": "2022-09-01T10:51:16.609Z"
   },
   {
    "duration": 0,
    "start_time": "2022-09-01T10:51:16.610Z"
   },
   {
    "duration": 0,
    "start_time": "2022-09-01T10:51:16.611Z"
   },
   {
    "duration": 0,
    "start_time": "2022-09-01T10:51:16.612Z"
   },
   {
    "duration": 0,
    "start_time": "2022-09-01T10:51:16.613Z"
   },
   {
    "duration": 0,
    "start_time": "2022-09-01T10:51:16.614Z"
   },
   {
    "duration": 1,
    "start_time": "2022-09-01T10:51:16.615Z"
   },
   {
    "duration": 0,
    "start_time": "2022-09-01T10:51:16.617Z"
   },
   {
    "duration": 0,
    "start_time": "2022-09-01T10:51:16.617Z"
   },
   {
    "duration": 0,
    "start_time": "2022-09-01T10:51:16.619Z"
   },
   {
    "duration": 0,
    "start_time": "2022-09-01T10:51:16.619Z"
   },
   {
    "duration": 0,
    "start_time": "2022-09-01T10:51:16.621Z"
   },
   {
    "duration": 0,
    "start_time": "2022-09-01T10:51:16.622Z"
   },
   {
    "duration": 0,
    "start_time": "2022-09-01T10:51:16.623Z"
   },
   {
    "duration": 0,
    "start_time": "2022-09-01T10:51:16.624Z"
   },
   {
    "duration": 0,
    "start_time": "2022-09-01T10:51:16.625Z"
   },
   {
    "duration": 0,
    "start_time": "2022-09-01T10:51:16.626Z"
   },
   {
    "duration": 11,
    "start_time": "2022-09-01T10:51:45.079Z"
   },
   {
    "duration": 9,
    "start_time": "2022-09-01T10:52:03.181Z"
   },
   {
    "duration": 5,
    "start_time": "2022-09-01T10:52:11.381Z"
   },
   {
    "duration": 13,
    "start_time": "2022-09-01T10:52:15.524Z"
   },
   {
    "duration": 150,
    "start_time": "2022-09-01T10:52:21.397Z"
   },
   {
    "duration": 112,
    "start_time": "2022-09-01T10:52:29.133Z"
   },
   {
    "duration": 11,
    "start_time": "2022-09-01T10:52:32.781Z"
   },
   {
    "duration": 11,
    "start_time": "2022-09-01T10:52:36.108Z"
   },
   {
    "duration": 9,
    "start_time": "2022-09-01T10:52:38.164Z"
   },
   {
    "duration": 275,
    "start_time": "2022-09-01T10:52:40.612Z"
   },
   {
    "duration": 180,
    "start_time": "2022-09-01T10:52:53.685Z"
   },
   {
    "duration": 180,
    "start_time": "2022-09-01T11:05:45.208Z"
   },
   {
    "duration": 7,
    "start_time": "2022-09-01T11:06:31.016Z"
   },
   {
    "duration": 338,
    "start_time": "2022-09-01T11:06:44.278Z"
   },
   {
    "duration": 4,
    "start_time": "2022-09-01T11:08:04.993Z"
   },
   {
    "duration": 4,
    "start_time": "2022-09-01T11:08:07.280Z"
   },
   {
    "duration": 251,
    "start_time": "2022-09-01T11:08:19.424Z"
   },
   {
    "duration": 316,
    "start_time": "2022-09-01T11:08:43.618Z"
   },
   {
    "duration": 8,
    "start_time": "2022-09-01T11:08:54.977Z"
   },
   {
    "duration": 11,
    "start_time": "2022-09-01T11:08:58.585Z"
   },
   {
    "duration": 11,
    "start_time": "2022-09-01T11:09:32.234Z"
   },
   {
    "duration": 147,
    "start_time": "2022-09-01T11:17:39.169Z"
   },
   {
    "duration": 5,
    "start_time": "2022-09-01T11:18:10.256Z"
   },
   {
    "duration": 144,
    "start_time": "2022-09-01T11:20:10.505Z"
   },
   {
    "duration": 126,
    "start_time": "2022-09-01T11:20:23.738Z"
   },
   {
    "duration": 5,
    "start_time": "2022-09-01T11:20:35.265Z"
   },
   {
    "duration": 267,
    "start_time": "2022-09-01T11:24:06.541Z"
   },
   {
    "duration": 267,
    "start_time": "2022-09-01T11:25:53.376Z"
   },
   {
    "duration": 82,
    "start_time": "2022-09-02T10:52:46.243Z"
   },
   {
    "duration": 42,
    "start_time": "2022-09-02T10:57:23.231Z"
   },
   {
    "duration": 6,
    "start_time": "2022-09-02T10:57:24.848Z"
   },
   {
    "duration": 5,
    "start_time": "2022-09-02T10:57:27.711Z"
   },
   {
    "duration": 1214,
    "start_time": "2022-09-02T10:57:33.749Z"
   },
   {
    "duration": 73,
    "start_time": "2022-09-02T10:57:34.964Z"
   },
   {
    "duration": 12,
    "start_time": "2022-09-02T10:57:35.039Z"
   },
   {
    "duration": 29,
    "start_time": "2022-09-02T10:57:35.053Z"
   },
   {
    "duration": 109,
    "start_time": "2022-09-02T10:57:35.084Z"
   },
   {
    "duration": 10,
    "start_time": "2022-09-02T10:57:35.194Z"
   },
   {
    "duration": 77,
    "start_time": "2022-09-02T10:57:35.205Z"
   },
   {
    "duration": 9,
    "start_time": "2022-09-02T10:57:35.283Z"
   },
   {
    "duration": 28,
    "start_time": "2022-09-02T10:57:35.294Z"
   },
   {
    "duration": 17,
    "start_time": "2022-09-02T10:57:35.325Z"
   },
   {
    "duration": 10,
    "start_time": "2022-09-02T10:57:35.344Z"
   },
   {
    "duration": 27,
    "start_time": "2022-09-02T10:57:35.355Z"
   },
   {
    "duration": 20,
    "start_time": "2022-09-02T10:57:35.384Z"
   },
   {
    "duration": 27,
    "start_time": "2022-09-02T10:57:35.406Z"
   },
   {
    "duration": 19,
    "start_time": "2022-09-02T10:57:35.435Z"
   },
   {
    "duration": 24,
    "start_time": "2022-09-02T10:57:35.455Z"
   },
   {
    "duration": 32,
    "start_time": "2022-09-02T10:57:35.480Z"
   },
   {
    "duration": 15,
    "start_time": "2022-09-02T10:57:35.513Z"
   },
   {
    "duration": 29,
    "start_time": "2022-09-02T10:57:35.530Z"
   },
   {
    "duration": 15,
    "start_time": "2022-09-02T10:57:35.560Z"
   },
   {
    "duration": 20,
    "start_time": "2022-09-02T10:57:35.577Z"
   },
   {
    "duration": 45,
    "start_time": "2022-09-02T10:57:35.599Z"
   },
   {
    "duration": 23,
    "start_time": "2022-09-02T10:57:35.645Z"
   },
   {
    "duration": 31,
    "start_time": "2022-09-02T10:57:35.670Z"
   },
   {
    "duration": 23,
    "start_time": "2022-09-02T10:57:35.703Z"
   },
   {
    "duration": 40,
    "start_time": "2022-09-02T10:57:35.727Z"
   },
   {
    "duration": 17,
    "start_time": "2022-09-02T10:57:35.769Z"
   },
   {
    "duration": 19,
    "start_time": "2022-09-02T10:57:35.789Z"
   },
   {
    "duration": 48,
    "start_time": "2022-09-02T10:57:35.810Z"
   },
   {
    "duration": 181,
    "start_time": "2022-09-02T10:57:35.860Z"
   },
   {
    "duration": 138,
    "start_time": "2022-09-02T10:57:36.042Z"
   },
   {
    "duration": 11,
    "start_time": "2022-09-02T10:57:36.182Z"
   },
   {
    "duration": 30,
    "start_time": "2022-09-02T10:57:36.194Z"
   },
   {
    "duration": 38,
    "start_time": "2022-09-02T10:57:36.226Z"
   },
   {
    "duration": 272,
    "start_time": "2022-09-02T10:57:36.265Z"
   },
   {
    "duration": 194,
    "start_time": "2022-09-02T10:57:36.538Z"
   },
   {
    "duration": 7,
    "start_time": "2022-09-02T10:57:36.734Z"
   },
   {
    "duration": 324,
    "start_time": "2022-09-02T10:57:36.743Z"
   },
   {
    "duration": 5,
    "start_time": "2022-09-02T10:57:37.069Z"
   },
   {
    "duration": 9,
    "start_time": "2022-09-02T10:57:37.076Z"
   },
   {
    "duration": 247,
    "start_time": "2022-09-02T10:57:37.087Z"
   },
   {
    "duration": 292,
    "start_time": "2022-09-02T10:57:37.336Z"
   },
   {
    "duration": 11,
    "start_time": "2022-09-02T10:57:37.629Z"
   },
   {
    "duration": 160,
    "start_time": "2022-09-02T10:57:37.641Z"
   },
   {
    "duration": 9,
    "start_time": "2022-09-02T10:57:37.803Z"
   },
   {
    "duration": 147,
    "start_time": "2022-09-02T10:57:37.814Z"
   },
   {
    "duration": 6,
    "start_time": "2022-09-02T10:57:37.963Z"
   },
   {
    "duration": 78,
    "start_time": "2022-09-02T10:57:37.971Z"
   },
   {
    "duration": 0,
    "start_time": "2022-09-02T10:57:38.051Z"
   },
   {
    "duration": 0,
    "start_time": "2022-09-02T10:57:38.052Z"
   },
   {
    "duration": 0,
    "start_time": "2022-09-02T10:57:38.054Z"
   },
   {
    "duration": 0,
    "start_time": "2022-09-02T10:57:38.055Z"
   },
   {
    "duration": 0,
    "start_time": "2022-09-02T10:57:38.057Z"
   },
   {
    "duration": 0,
    "start_time": "2022-09-02T10:57:38.058Z"
   },
   {
    "duration": 0,
    "start_time": "2022-09-02T10:57:38.059Z"
   },
   {
    "duration": 0,
    "start_time": "2022-09-02T10:57:38.061Z"
   },
   {
    "duration": 0,
    "start_time": "2022-09-02T10:57:38.062Z"
   },
   {
    "duration": 0,
    "start_time": "2022-09-02T10:57:38.064Z"
   },
   {
    "duration": 0,
    "start_time": "2022-09-02T10:57:38.065Z"
   },
   {
    "duration": 0,
    "start_time": "2022-09-02T10:57:38.066Z"
   },
   {
    "duration": 0,
    "start_time": "2022-09-02T10:57:38.068Z"
   },
   {
    "duration": 0,
    "start_time": "2022-09-02T10:57:38.070Z"
   },
   {
    "duration": 0,
    "start_time": "2022-09-02T10:57:38.071Z"
   },
   {
    "duration": 0,
    "start_time": "2022-09-02T10:57:38.109Z"
   },
   {
    "duration": 1,
    "start_time": "2022-09-02T10:57:38.110Z"
   },
   {
    "duration": 8,
    "start_time": "2022-09-02T10:57:44.072Z"
   },
   {
    "duration": 9,
    "start_time": "2022-09-02T10:59:34.945Z"
   },
   {
    "duration": 3,
    "start_time": "2022-09-02T10:59:42.767Z"
   },
   {
    "duration": 40,
    "start_time": "2022-09-02T10:59:42.774Z"
   },
   {
    "duration": 9,
    "start_time": "2022-09-02T10:59:42.816Z"
   },
   {
    "duration": 27,
    "start_time": "2022-09-02T10:59:42.827Z"
   },
   {
    "duration": 69,
    "start_time": "2022-09-02T10:59:42.857Z"
   },
   {
    "duration": 11,
    "start_time": "2022-09-02T10:59:42.928Z"
   },
   {
    "duration": 26,
    "start_time": "2022-09-02T10:59:42.941Z"
   },
   {
    "duration": 10,
    "start_time": "2022-09-02T10:59:42.969Z"
   },
   {
    "duration": 7,
    "start_time": "2022-09-02T10:59:42.981Z"
   },
   {
    "duration": 5,
    "start_time": "2022-09-02T10:59:43.009Z"
   },
   {
    "duration": 98,
    "start_time": "2022-09-02T10:59:43.016Z"
   },
   {
    "duration": 12,
    "start_time": "2022-09-02T10:59:43.115Z"
   },
   {
    "duration": 5,
    "start_time": "2022-09-02T10:59:43.128Z"
   },
   {
    "duration": 13,
    "start_time": "2022-09-02T10:59:43.135Z"
   },
   {
    "duration": 13,
    "start_time": "2022-09-02T10:59:43.150Z"
   },
   {
    "duration": 44,
    "start_time": "2022-09-02T10:59:43.165Z"
   },
   {
    "duration": 5,
    "start_time": "2022-09-02T10:59:43.211Z"
   },
   {
    "duration": 7,
    "start_time": "2022-09-02T10:59:43.218Z"
   },
   {
    "duration": 8,
    "start_time": "2022-09-02T10:59:43.226Z"
   },
   {
    "duration": 13,
    "start_time": "2022-09-02T10:59:43.236Z"
   },
   {
    "duration": 3,
    "start_time": "2022-09-02T10:59:43.251Z"
   },
   {
    "duration": 14,
    "start_time": "2022-09-02T10:59:43.256Z"
   },
   {
    "duration": 7,
    "start_time": "2022-09-02T10:59:43.310Z"
   },
   {
    "duration": 6,
    "start_time": "2022-09-02T10:59:43.319Z"
   },
   {
    "duration": 6,
    "start_time": "2022-09-02T10:59:43.326Z"
   },
   {
    "duration": 20,
    "start_time": "2022-09-02T10:59:43.333Z"
   },
   {
    "duration": 9,
    "start_time": "2022-09-02T10:59:43.355Z"
   },
   {
    "duration": 10,
    "start_time": "2022-09-02T10:59:43.366Z"
   },
   {
    "duration": 13,
    "start_time": "2022-09-02T10:59:43.409Z"
   },
   {
    "duration": 165,
    "start_time": "2022-09-02T10:59:43.423Z"
   },
   {
    "duration": 141,
    "start_time": "2022-09-02T10:59:43.590Z"
   },
   {
    "duration": 11,
    "start_time": "2022-09-02T10:59:43.733Z"
   },
   {
    "duration": 11,
    "start_time": "2022-09-02T10:59:43.745Z"
   },
   {
    "duration": 10,
    "start_time": "2022-09-02T10:59:43.758Z"
   },
   {
    "duration": 216,
    "start_time": "2022-09-02T10:59:43.769Z"
   },
   {
    "duration": 190,
    "start_time": "2022-09-02T10:59:43.987Z"
   },
   {
    "duration": 5,
    "start_time": "2022-09-02T10:59:44.179Z"
   },
   {
    "duration": 300,
    "start_time": "2022-09-02T10:59:44.186Z"
   },
   {
    "duration": 5,
    "start_time": "2022-09-02T10:59:44.488Z"
   },
   {
    "duration": 20,
    "start_time": "2022-09-02T10:59:44.495Z"
   },
   {
    "duration": 216,
    "start_time": "2022-09-02T10:59:44.517Z"
   },
   {
    "duration": 292,
    "start_time": "2022-09-02T10:59:44.735Z"
   },
   {
    "duration": 12,
    "start_time": "2022-09-02T10:59:45.028Z"
   },
   {
    "duration": 167,
    "start_time": "2022-09-02T10:59:45.042Z"
   },
   {
    "duration": 6,
    "start_time": "2022-09-02T10:59:45.210Z"
   },
   {
    "duration": 159,
    "start_time": "2022-09-02T10:59:45.217Z"
   },
   {
    "duration": 4,
    "start_time": "2022-09-02T10:59:45.378Z"
   },
   {
    "duration": 26,
    "start_time": "2022-09-02T10:59:45.384Z"
   },
   {
    "duration": 0,
    "start_time": "2022-09-02T10:59:45.411Z"
   },
   {
    "duration": 0,
    "start_time": "2022-09-02T10:59:45.413Z"
   },
   {
    "duration": 0,
    "start_time": "2022-09-02T10:59:45.414Z"
   },
   {
    "duration": 0,
    "start_time": "2022-09-02T10:59:45.416Z"
   },
   {
    "duration": 0,
    "start_time": "2022-09-02T10:59:45.417Z"
   },
   {
    "duration": 0,
    "start_time": "2022-09-02T10:59:45.418Z"
   },
   {
    "duration": 0,
    "start_time": "2022-09-02T10:59:45.420Z"
   },
   {
    "duration": 0,
    "start_time": "2022-09-02T10:59:45.421Z"
   },
   {
    "duration": 0,
    "start_time": "2022-09-02T10:59:45.422Z"
   },
   {
    "duration": 0,
    "start_time": "2022-09-02T10:59:45.424Z"
   },
   {
    "duration": 0,
    "start_time": "2022-09-02T10:59:45.426Z"
   },
   {
    "duration": 0,
    "start_time": "2022-09-02T10:59:45.427Z"
   },
   {
    "duration": 0,
    "start_time": "2022-09-02T10:59:45.428Z"
   },
   {
    "duration": 0,
    "start_time": "2022-09-02T10:59:45.429Z"
   },
   {
    "duration": 0,
    "start_time": "2022-09-02T10:59:45.430Z"
   },
   {
    "duration": 0,
    "start_time": "2022-09-02T10:59:45.431Z"
   },
   {
    "duration": 0,
    "start_time": "2022-09-02T10:59:45.432Z"
   },
   {
    "duration": 0,
    "start_time": "2022-09-02T10:59:45.433Z"
   },
   {
    "duration": 0,
    "start_time": "2022-09-02T10:59:45.434Z"
   },
   {
    "duration": 180,
    "start_time": "2022-09-02T11:00:07.572Z"
   },
   {
    "duration": 8,
    "start_time": "2022-09-02T11:00:21.075Z"
   },
   {
    "duration": 383,
    "start_time": "2022-09-02T11:00:33.163Z"
   },
   {
    "duration": 331,
    "start_time": "2022-09-02T11:00:42.219Z"
   },
   {
    "duration": 9,
    "start_time": "2022-09-02T11:16:16.351Z"
   },
   {
    "duration": 71,
    "start_time": "2022-09-02T11:17:48.268Z"
   },
   {
    "duration": 49,
    "start_time": "2022-09-02T11:26:03.763Z"
   },
   {
    "duration": 1177,
    "start_time": "2022-09-03T01:49:29.120Z"
   },
   {
    "duration": 69,
    "start_time": "2022-09-03T01:49:30.299Z"
   },
   {
    "duration": 10,
    "start_time": "2022-09-03T01:49:30.369Z"
   },
   {
    "duration": 10,
    "start_time": "2022-09-03T01:49:30.381Z"
   },
   {
    "duration": 99,
    "start_time": "2022-09-03T01:49:30.392Z"
   },
   {
    "duration": 11,
    "start_time": "2022-09-03T01:49:30.492Z"
   },
   {
    "duration": 64,
    "start_time": "2022-09-03T01:49:30.504Z"
   },
   {
    "duration": 9,
    "start_time": "2022-09-03T01:49:30.570Z"
   },
   {
    "duration": 20,
    "start_time": "2022-09-03T01:49:30.581Z"
   },
   {
    "duration": 16,
    "start_time": "2022-09-03T01:49:30.603Z"
   },
   {
    "duration": 24,
    "start_time": "2022-09-03T01:49:30.620Z"
   },
   {
    "duration": 25,
    "start_time": "2022-09-03T01:49:30.645Z"
   },
   {
    "duration": 16,
    "start_time": "2022-09-03T01:49:30.672Z"
   },
   {
    "duration": 29,
    "start_time": "2022-09-03T01:49:30.689Z"
   },
   {
    "duration": 29,
    "start_time": "2022-09-03T01:49:30.719Z"
   },
   {
    "duration": 22,
    "start_time": "2022-09-03T01:49:30.750Z"
   },
   {
    "duration": 26,
    "start_time": "2022-09-03T01:49:30.773Z"
   },
   {
    "duration": 24,
    "start_time": "2022-09-03T01:49:30.801Z"
   },
   {
    "duration": 12,
    "start_time": "2022-09-03T01:49:30.827Z"
   },
   {
    "duration": 19,
    "start_time": "2022-09-03T01:49:30.841Z"
   },
   {
    "duration": 17,
    "start_time": "2022-09-03T01:49:30.861Z"
   },
   {
    "duration": 23,
    "start_time": "2022-09-03T01:49:30.880Z"
   },
   {
    "duration": 24,
    "start_time": "2022-09-03T01:49:30.904Z"
   },
   {
    "duration": 41,
    "start_time": "2022-09-03T01:49:30.930Z"
   },
   {
    "duration": 18,
    "start_time": "2022-09-03T01:49:30.973Z"
   },
   {
    "duration": 22,
    "start_time": "2022-09-03T01:49:30.992Z"
   },
   {
    "duration": 9,
    "start_time": "2022-09-03T01:49:31.015Z"
   },
   {
    "duration": 13,
    "start_time": "2022-09-03T01:49:31.027Z"
   },
   {
    "duration": 20,
    "start_time": "2022-09-03T01:49:31.042Z"
   },
   {
    "duration": 147,
    "start_time": "2022-09-03T01:49:31.064Z"
   },
   {
    "duration": 125,
    "start_time": "2022-09-03T01:49:31.213Z"
   },
   {
    "duration": 10,
    "start_time": "2022-09-03T01:49:31.340Z"
   },
   {
    "duration": 8,
    "start_time": "2022-09-03T01:49:31.352Z"
   },
   {
    "duration": 8,
    "start_time": "2022-09-03T01:49:31.362Z"
   },
   {
    "duration": 252,
    "start_time": "2022-09-03T01:49:31.372Z"
   },
   {
    "duration": 190,
    "start_time": "2022-09-03T01:49:31.625Z"
   },
   {
    "duration": 6,
    "start_time": "2022-09-03T01:49:31.816Z"
   },
   {
    "duration": 335,
    "start_time": "2022-09-03T01:49:31.823Z"
   },
   {
    "duration": 3,
    "start_time": "2022-09-03T01:49:32.159Z"
   },
   {
    "duration": 6,
    "start_time": "2022-09-03T01:49:32.164Z"
   },
   {
    "duration": 186,
    "start_time": "2022-09-03T01:49:32.172Z"
   },
   {
    "duration": 278,
    "start_time": "2022-09-03T01:49:32.360Z"
   },
   {
    "duration": 11,
    "start_time": "2022-09-03T01:49:32.640Z"
   },
   {
    "duration": 151,
    "start_time": "2022-09-03T01:49:32.652Z"
   },
   {
    "duration": 4,
    "start_time": "2022-09-03T01:49:32.804Z"
   },
   {
    "duration": 142,
    "start_time": "2022-09-03T01:49:32.810Z"
   },
   {
    "duration": 4,
    "start_time": "2022-09-03T01:49:32.953Z"
   },
   {
    "duration": 100,
    "start_time": "2022-09-03T01:49:32.959Z"
   },
   {
    "duration": 0,
    "start_time": "2022-09-03T01:49:33.060Z"
   },
   {
    "duration": 0,
    "start_time": "2022-09-03T01:49:33.061Z"
   },
   {
    "duration": 0,
    "start_time": "2022-09-03T01:49:33.062Z"
   },
   {
    "duration": 0,
    "start_time": "2022-09-03T01:49:33.063Z"
   },
   {
    "duration": 0,
    "start_time": "2022-09-03T01:49:33.064Z"
   },
   {
    "duration": 0,
    "start_time": "2022-09-03T01:49:33.065Z"
   },
   {
    "duration": 0,
    "start_time": "2022-09-03T01:49:33.066Z"
   },
   {
    "duration": 0,
    "start_time": "2022-09-03T01:49:33.067Z"
   },
   {
    "duration": 0,
    "start_time": "2022-09-03T01:49:33.068Z"
   },
   {
    "duration": 0,
    "start_time": "2022-09-03T01:49:33.069Z"
   },
   {
    "duration": 0,
    "start_time": "2022-09-03T01:49:33.070Z"
   },
   {
    "duration": 0,
    "start_time": "2022-09-03T01:49:33.071Z"
   },
   {
    "duration": 0,
    "start_time": "2022-09-03T01:49:33.071Z"
   },
   {
    "duration": 0,
    "start_time": "2022-09-03T01:49:33.072Z"
   },
   {
    "duration": 0,
    "start_time": "2022-09-03T01:49:33.073Z"
   },
   {
    "duration": 7,
    "start_time": "2022-09-03T01:54:42.370Z"
   },
   {
    "duration": 3,
    "start_time": "2022-09-03T01:54:45.268Z"
   },
   {
    "duration": 35,
    "start_time": "2022-09-03T01:54:45.273Z"
   },
   {
    "duration": 10,
    "start_time": "2022-09-03T01:54:45.310Z"
   },
   {
    "duration": 13,
    "start_time": "2022-09-03T01:54:45.321Z"
   },
   {
    "duration": 53,
    "start_time": "2022-09-03T01:54:45.336Z"
   },
   {
    "duration": 10,
    "start_time": "2022-09-03T01:54:45.390Z"
   },
   {
    "duration": 25,
    "start_time": "2022-09-03T01:54:45.402Z"
   },
   {
    "duration": 9,
    "start_time": "2022-09-03T01:54:45.428Z"
   },
   {
    "duration": 8,
    "start_time": "2022-09-03T01:54:45.439Z"
   },
   {
    "duration": 7,
    "start_time": "2022-09-03T01:54:45.448Z"
   },
   {
    "duration": 8,
    "start_time": "2022-09-03T01:54:45.457Z"
   },
   {
    "duration": 7,
    "start_time": "2022-09-03T01:54:45.467Z"
   },
   {
    "duration": 4,
    "start_time": "2022-09-03T01:54:45.476Z"
   },
   {
    "duration": 11,
    "start_time": "2022-09-03T01:54:45.482Z"
   },
   {
    "duration": 16,
    "start_time": "2022-09-03T01:54:45.494Z"
   },
   {
    "duration": 31,
    "start_time": "2022-09-03T01:54:45.511Z"
   },
   {
    "duration": 7,
    "start_time": "2022-09-03T01:54:45.544Z"
   },
   {
    "duration": 7,
    "start_time": "2022-09-03T01:54:45.553Z"
   },
   {
    "duration": 11,
    "start_time": "2022-09-03T01:54:45.561Z"
   },
   {
    "duration": 14,
    "start_time": "2022-09-03T01:54:45.573Z"
   },
   {
    "duration": 3,
    "start_time": "2022-09-03T01:54:45.589Z"
   },
   {
    "duration": 10,
    "start_time": "2022-09-03T01:54:45.594Z"
   },
   {
    "duration": 38,
    "start_time": "2022-09-03T01:54:45.606Z"
   },
   {
    "duration": 7,
    "start_time": "2022-09-03T01:54:45.646Z"
   },
   {
    "duration": 6,
    "start_time": "2022-09-03T01:54:45.654Z"
   },
   {
    "duration": 15,
    "start_time": "2022-09-03T01:54:45.661Z"
   },
   {
    "duration": 10,
    "start_time": "2022-09-03T01:54:45.677Z"
   },
   {
    "duration": 14,
    "start_time": "2022-09-03T01:54:45.689Z"
   },
   {
    "duration": 15,
    "start_time": "2022-09-03T01:54:45.707Z"
   },
   {
    "duration": 155,
    "start_time": "2022-09-03T01:54:45.739Z"
   },
   {
    "duration": 144,
    "start_time": "2022-09-03T01:54:45.896Z"
   },
   {
    "duration": 13,
    "start_time": "2022-09-03T01:54:46.041Z"
   },
   {
    "duration": 13,
    "start_time": "2022-09-03T01:54:46.055Z"
   },
   {
    "duration": 9,
    "start_time": "2022-09-03T01:54:46.070Z"
   },
   {
    "duration": 270,
    "start_time": "2022-09-03T01:54:46.081Z"
   },
   {
    "duration": 187,
    "start_time": "2022-09-03T01:54:46.353Z"
   },
   {
    "duration": 6,
    "start_time": "2022-09-03T01:54:46.542Z"
   },
   {
    "duration": 292,
    "start_time": "2022-09-03T01:54:46.550Z"
   },
   {
    "duration": 4,
    "start_time": "2022-09-03T01:54:46.843Z"
   },
   {
    "duration": 9,
    "start_time": "2022-09-03T01:54:46.848Z"
   },
   {
    "duration": 190,
    "start_time": "2022-09-03T01:54:46.858Z"
   },
   {
    "duration": 282,
    "start_time": "2022-09-03T01:54:47.050Z"
   },
   {
    "duration": 12,
    "start_time": "2022-09-03T01:54:47.339Z"
   },
   {
    "duration": 167,
    "start_time": "2022-09-03T01:54:47.352Z"
   },
   {
    "duration": 16,
    "start_time": "2022-09-03T01:54:47.521Z"
   },
   {
    "duration": 139,
    "start_time": "2022-09-03T01:54:47.539Z"
   },
   {
    "duration": 5,
    "start_time": "2022-09-03T01:54:47.680Z"
   },
   {
    "duration": 13,
    "start_time": "2022-09-03T01:54:47.687Z"
   },
   {
    "duration": 0,
    "start_time": "2022-09-03T01:54:47.702Z"
   },
   {
    "duration": 0,
    "start_time": "2022-09-03T01:54:47.704Z"
   },
   {
    "duration": 0,
    "start_time": "2022-09-03T01:54:47.705Z"
   },
   {
    "duration": 0,
    "start_time": "2022-09-03T01:54:47.706Z"
   },
   {
    "duration": 0,
    "start_time": "2022-09-03T01:54:47.708Z"
   },
   {
    "duration": 0,
    "start_time": "2022-09-03T01:54:47.709Z"
   },
   {
    "duration": 0,
    "start_time": "2022-09-03T01:54:47.710Z"
   },
   {
    "duration": 0,
    "start_time": "2022-09-03T01:54:47.738Z"
   },
   {
    "duration": 0,
    "start_time": "2022-09-03T01:54:47.740Z"
   },
   {
    "duration": 0,
    "start_time": "2022-09-03T01:54:47.741Z"
   },
   {
    "duration": 0,
    "start_time": "2022-09-03T01:54:47.742Z"
   },
   {
    "duration": 0,
    "start_time": "2022-09-03T01:54:47.743Z"
   },
   {
    "duration": 0,
    "start_time": "2022-09-03T01:54:47.745Z"
   },
   {
    "duration": 0,
    "start_time": "2022-09-03T01:54:47.746Z"
   },
   {
    "duration": 0,
    "start_time": "2022-09-03T01:54:47.747Z"
   },
   {
    "duration": 5,
    "start_time": "2022-09-03T01:55:09.361Z"
   },
   {
    "duration": 8,
    "start_time": "2022-09-03T01:55:13.209Z"
   },
   {
    "duration": 185,
    "start_time": "2022-09-03T01:55:57.482Z"
   },
   {
    "duration": 9,
    "start_time": "2022-09-03T01:56:01.890Z"
   },
   {
    "duration": 147,
    "start_time": "2022-09-03T01:56:04.505Z"
   },
   {
    "duration": 7,
    "start_time": "2022-09-03T01:56:06.862Z"
   },
   {
    "duration": 26,
    "start_time": "2022-09-03T01:56:09.017Z"
   },
   {
    "duration": 21,
    "start_time": "2022-09-03T01:56:46.250Z"
   },
   {
    "duration": 22,
    "start_time": "2022-09-03T01:56:53.642Z"
   },
   {
    "duration": 22,
    "start_time": "2022-09-03T01:58:04.453Z"
   },
   {
    "duration": 21,
    "start_time": "2022-09-03T01:58:09.357Z"
   },
   {
    "duration": 9,
    "start_time": "2022-09-03T02:06:14.139Z"
   },
   {
    "duration": 259,
    "start_time": "2022-09-03T02:06:22.515Z"
   },
   {
    "duration": 9,
    "start_time": "2022-09-03T02:06:37.603Z"
   },
   {
    "duration": 10,
    "start_time": "2022-09-03T02:06:51.274Z"
   },
   {
    "duration": 8,
    "start_time": "2022-09-03T02:07:04.476Z"
   },
   {
    "duration": 201,
    "start_time": "2022-09-03T02:14:18.237Z"
   },
   {
    "duration": 5,
    "start_time": "2022-09-03T02:14:21.136Z"
   },
   {
    "duration": 11,
    "start_time": "2022-09-03T02:14:29.112Z"
   },
   {
    "duration": 212,
    "start_time": "2022-09-03T02:21:41.863Z"
   },
   {
    "duration": 5,
    "start_time": "2022-09-03T02:22:22.493Z"
   },
   {
    "duration": 10,
    "start_time": "2022-09-03T02:22:24.152Z"
   },
   {
    "duration": 21,
    "start_time": "2022-09-03T02:22:30.310Z"
   },
   {
    "duration": 21,
    "start_time": "2022-09-03T02:22:49.302Z"
   },
   {
    "duration": 6,
    "start_time": "2022-09-03T02:22:51.175Z"
   },
   {
    "duration": 11,
    "start_time": "2022-09-03T02:29:37.581Z"
   },
   {
    "duration": 18,
    "start_time": "2022-09-03T02:33:38.855Z"
   },
   {
    "duration": 21,
    "start_time": "2022-09-03T02:34:30.305Z"
   },
   {
    "duration": 14,
    "start_time": "2022-09-03T02:34:51.865Z"
   },
   {
    "duration": 13,
    "start_time": "2022-09-03T02:35:21.081Z"
   },
   {
    "duration": 9,
    "start_time": "2022-09-03T02:49:39.708Z"
   },
   {
    "duration": 8,
    "start_time": "2022-09-03T02:51:11.469Z"
   },
   {
    "duration": 14,
    "start_time": "2022-09-03T02:55:03.368Z"
   },
   {
    "duration": 15,
    "start_time": "2022-09-03T02:55:18.505Z"
   },
   {
    "duration": 12,
    "start_time": "2022-09-03T02:55:47.763Z"
   },
   {
    "duration": 110,
    "start_time": "2022-09-03T02:56:10.051Z"
   },
   {
    "duration": 709,
    "start_time": "2022-09-03T02:56:48.721Z"
   },
   {
    "duration": 130,
    "start_time": "2022-09-03T02:57:21.971Z"
   },
   {
    "duration": 1491,
    "start_time": "2022-09-03T02:57:23.676Z"
   },
   {
    "duration": 683,
    "start_time": "2022-09-03T02:57:42.156Z"
   },
   {
    "duration": 103,
    "start_time": "2022-09-03T02:58:50.780Z"
   },
   {
    "duration": 6,
    "start_time": "2022-09-03T02:58:52.076Z"
   },
   {
    "duration": 13,
    "start_time": "2022-09-03T02:59:45.589Z"
   },
   {
    "duration": 21,
    "start_time": "2022-09-03T03:00:16.621Z"
   },
   {
    "duration": 20,
    "start_time": "2022-09-03T03:04:23.417Z"
   },
   {
    "duration": 116,
    "start_time": "2022-09-03T03:07:45.834Z"
   },
   {
    "duration": 100,
    "start_time": "2022-09-03T03:08:16.708Z"
   },
   {
    "duration": 5,
    "start_time": "2022-09-03T03:08:19.083Z"
   },
   {
    "duration": 21,
    "start_time": "2022-09-03T03:08:20.708Z"
   },
   {
    "duration": 210,
    "start_time": "2022-09-03T03:12:34.601Z"
   },
   {
    "duration": 9,
    "start_time": "2022-09-03T03:12:51.086Z"
   },
   {
    "duration": 9,
    "start_time": "2022-09-03T03:12:56.416Z"
   },
   {
    "duration": 120,
    "start_time": "2022-09-03T03:12:59.725Z"
   },
   {
    "duration": 5,
    "start_time": "2022-09-03T03:13:02.719Z"
   },
   {
    "duration": 22,
    "start_time": "2022-09-03T03:13:04.399Z"
   },
   {
    "duration": 107,
    "start_time": "2022-09-03T03:13:31.239Z"
   },
   {
    "duration": 11,
    "start_time": "2022-09-03T03:13:46.912Z"
   },
   {
    "duration": 21,
    "start_time": "2022-09-03T03:17:06.449Z"
   },
   {
    "duration": 11,
    "start_time": "2022-09-03T03:18:13.298Z"
   },
   {
    "duration": 10,
    "start_time": "2022-09-03T03:18:32.595Z"
   },
   {
    "duration": 8,
    "start_time": "2022-09-03T03:34:09.870Z"
   },
   {
    "duration": 52,
    "start_time": "2022-09-03T03:34:19.577Z"
   },
   {
    "duration": 22,
    "start_time": "2022-09-03T03:34:33.928Z"
   },
   {
    "duration": 21,
    "start_time": "2022-09-03T03:41:24.974Z"
   },
   {
    "duration": 14,
    "start_time": "2022-09-03T03:41:55.326Z"
   },
   {
    "duration": 237,
    "start_time": "2022-09-03T03:55:18.177Z"
   },
   {
    "duration": 232,
    "start_time": "2022-09-03T03:55:28.480Z"
   },
   {
    "duration": 285,
    "start_time": "2022-09-03T04:00:22.118Z"
   },
   {
    "duration": 293,
    "start_time": "2022-09-03T04:09:06.547Z"
   },
   {
    "duration": 1154,
    "start_time": "2022-09-03T11:46:40.736Z"
   },
   {
    "duration": 98,
    "start_time": "2022-09-03T11:46:41.893Z"
   },
   {
    "duration": 18,
    "start_time": "2022-09-03T11:46:41.994Z"
   },
   {
    "duration": 22,
    "start_time": "2022-09-03T11:46:42.015Z"
   },
   {
    "duration": 106,
    "start_time": "2022-09-03T11:46:42.040Z"
   },
   {
    "duration": 12,
    "start_time": "2022-09-03T11:46:42.148Z"
   },
   {
    "duration": 73,
    "start_time": "2022-09-03T11:46:42.162Z"
   },
   {
    "duration": 11,
    "start_time": "2022-09-03T11:46:42.236Z"
   },
   {
    "duration": 9,
    "start_time": "2022-09-03T11:46:42.248Z"
   },
   {
    "duration": 5,
    "start_time": "2022-09-03T11:46:42.260Z"
   },
   {
    "duration": 10,
    "start_time": "2022-09-03T11:46:42.266Z"
   },
   {
    "duration": 8,
    "start_time": "2022-09-03T11:46:42.278Z"
   },
   {
    "duration": 9,
    "start_time": "2022-09-03T11:46:42.287Z"
   },
   {
    "duration": 12,
    "start_time": "2022-09-03T11:46:42.297Z"
   },
   {
    "duration": 11,
    "start_time": "2022-09-03T11:46:42.311Z"
   },
   {
    "duration": 8,
    "start_time": "2022-09-03T11:46:42.324Z"
   },
   {
    "duration": 21,
    "start_time": "2022-09-03T11:46:42.333Z"
   },
   {
    "duration": 9,
    "start_time": "2022-09-03T11:46:42.356Z"
   },
   {
    "duration": 30,
    "start_time": "2022-09-03T11:46:42.366Z"
   },
   {
    "duration": 13,
    "start_time": "2022-09-03T11:46:42.397Z"
   },
   {
    "duration": 4,
    "start_time": "2022-09-03T11:46:42.412Z"
   },
   {
    "duration": 13,
    "start_time": "2022-09-03T11:46:42.418Z"
   },
   {
    "duration": 8,
    "start_time": "2022-09-03T11:46:42.433Z"
   },
   {
    "duration": 3,
    "start_time": "2022-09-03T11:46:42.443Z"
   },
   {
    "duration": 45,
    "start_time": "2022-09-03T11:46:42.447Z"
   },
   {
    "duration": 14,
    "start_time": "2022-09-03T11:46:42.494Z"
   },
   {
    "duration": 11,
    "start_time": "2022-09-03T11:46:42.510Z"
   },
   {
    "duration": 7,
    "start_time": "2022-09-03T11:46:42.526Z"
   },
   {
    "duration": 21,
    "start_time": "2022-09-03T11:46:42.534Z"
   },
   {
    "duration": 170,
    "start_time": "2022-09-03T11:46:42.592Z"
   },
   {
    "duration": 136,
    "start_time": "2022-09-03T11:46:42.764Z"
   },
   {
    "duration": 14,
    "start_time": "2022-09-03T11:46:42.902Z"
   },
   {
    "duration": 36,
    "start_time": "2022-09-03T11:46:42.917Z"
   },
   {
    "duration": 13,
    "start_time": "2022-09-03T11:46:42.954Z"
   },
   {
    "duration": 282,
    "start_time": "2022-09-03T11:46:42.969Z"
   },
   {
    "duration": 220,
    "start_time": "2022-09-03T11:46:43.252Z"
   },
   {
    "duration": 6,
    "start_time": "2022-09-03T11:46:43.474Z"
   },
   {
    "duration": 338,
    "start_time": "2022-09-03T11:46:43.482Z"
   },
   {
    "duration": 4,
    "start_time": "2022-09-03T11:46:43.822Z"
   },
   {
    "duration": 30,
    "start_time": "2022-09-03T11:46:43.828Z"
   },
   {
    "duration": 233,
    "start_time": "2022-09-03T11:46:43.860Z"
   },
   {
    "duration": 323,
    "start_time": "2022-09-03T11:46:44.094Z"
   },
   {
    "duration": 14,
    "start_time": "2022-09-03T11:46:44.418Z"
   },
   {
    "duration": 196,
    "start_time": "2022-09-03T11:46:44.434Z"
   },
   {
    "duration": 7,
    "start_time": "2022-09-03T11:46:44.633Z"
   },
   {
    "duration": 178,
    "start_time": "2022-09-03T11:46:44.642Z"
   },
   {
    "duration": 6,
    "start_time": "2022-09-03T11:46:44.822Z"
   },
   {
    "duration": 284,
    "start_time": "2022-09-03T11:46:44.830Z"
   },
   {
    "duration": 11,
    "start_time": "2022-09-03T11:46:45.116Z"
   },
   {
    "duration": 140,
    "start_time": "2022-09-03T11:46:45.130Z"
   },
   {
    "duration": 8,
    "start_time": "2022-09-03T11:46:45.272Z"
   },
   {
    "duration": 27,
    "start_time": "2022-09-03T11:46:45.291Z"
   },
   {
    "duration": 11,
    "start_time": "2022-09-03T11:46:45.320Z"
   },
   {
    "duration": 16,
    "start_time": "2022-09-03T11:46:45.333Z"
   },
   {
    "duration": 14,
    "start_time": "2022-09-03T11:46:45.351Z"
   },
   {
    "duration": 31,
    "start_time": "2022-09-03T11:46:45.367Z"
   },
   {
    "duration": 29,
    "start_time": "2022-09-03T11:46:45.400Z"
   },
   {
    "duration": 15,
    "start_time": "2022-09-03T11:46:45.431Z"
   },
   {
    "duration": 360,
    "start_time": "2022-09-03T11:46:45.447Z"
   },
   {
    "duration": 398,
    "start_time": "2022-09-03T11:46:45.810Z"
   },
   {
    "duration": 1041,
    "start_time": "2022-09-04T12:53:07.767Z"
   },
   {
    "duration": 73,
    "start_time": "2022-09-04T12:53:08.810Z"
   },
   {
    "duration": 11,
    "start_time": "2022-09-04T12:53:08.885Z"
   },
   {
    "duration": 11,
    "start_time": "2022-09-04T12:53:08.898Z"
   },
   {
    "duration": 101,
    "start_time": "2022-09-04T12:53:08.911Z"
   },
   {
    "duration": 11,
    "start_time": "2022-09-04T12:53:09.014Z"
   },
   {
    "duration": 64,
    "start_time": "2022-09-04T12:53:09.027Z"
   },
   {
    "duration": 11,
    "start_time": "2022-09-04T12:53:09.092Z"
   },
   {
    "duration": 10,
    "start_time": "2022-09-04T12:53:09.105Z"
   },
   {
    "duration": 5,
    "start_time": "2022-09-04T12:53:09.118Z"
   },
   {
    "duration": 9,
    "start_time": "2022-09-04T12:53:09.125Z"
   },
   {
    "duration": 8,
    "start_time": "2022-09-04T12:53:09.136Z"
   },
   {
    "duration": 3,
    "start_time": "2022-09-04T12:53:09.146Z"
   },
   {
    "duration": 11,
    "start_time": "2022-09-04T12:53:09.158Z"
   },
   {
    "duration": 11,
    "start_time": "2022-09-04T12:53:09.171Z"
   },
   {
    "duration": 7,
    "start_time": "2022-09-04T12:53:09.184Z"
   },
   {
    "duration": 5,
    "start_time": "2022-09-04T12:53:09.193Z"
   },
   {
    "duration": 6,
    "start_time": "2022-09-04T12:53:09.200Z"
   },
   {
    "duration": 7,
    "start_time": "2022-09-04T12:53:09.208Z"
   },
   {
    "duration": 51,
    "start_time": "2022-09-04T12:53:09.217Z"
   },
   {
    "duration": 4,
    "start_time": "2022-09-04T12:53:09.270Z"
   },
   {
    "duration": 12,
    "start_time": "2022-09-04T12:53:09.275Z"
   },
   {
    "duration": 10,
    "start_time": "2022-09-04T12:53:09.288Z"
   },
   {
    "duration": 4,
    "start_time": "2022-09-04T12:53:09.300Z"
   },
   {
    "duration": 4,
    "start_time": "2022-09-04T12:53:09.306Z"
   },
   {
    "duration": 17,
    "start_time": "2022-09-04T12:53:09.311Z"
   },
   {
    "duration": 32,
    "start_time": "2022-09-04T12:53:09.329Z"
   },
   {
    "duration": 5,
    "start_time": "2022-09-04T12:53:09.365Z"
   },
   {
    "duration": 20,
    "start_time": "2022-09-04T12:53:09.372Z"
   },
   {
    "duration": 186,
    "start_time": "2022-09-04T12:53:09.394Z"
   },
   {
    "duration": 133,
    "start_time": "2022-09-04T12:53:09.582Z"
   },
   {
    "duration": 13,
    "start_time": "2022-09-04T12:53:09.716Z"
   },
   {
    "duration": 13,
    "start_time": "2022-09-04T12:53:09.730Z"
   },
   {
    "duration": 12,
    "start_time": "2022-09-04T12:53:09.758Z"
   },
   {
    "duration": 288,
    "start_time": "2022-09-04T12:53:09.772Z"
   },
   {
    "duration": 223,
    "start_time": "2022-09-04T12:53:10.062Z"
   },
   {
    "duration": 7,
    "start_time": "2022-09-04T12:53:10.287Z"
   },
   {
    "duration": 294,
    "start_time": "2022-09-04T12:53:10.296Z"
   },
   {
    "duration": 4,
    "start_time": "2022-09-04T12:53:10.592Z"
   },
   {
    "duration": 6,
    "start_time": "2022-09-04T12:53:10.598Z"
   },
   {
    "duration": 222,
    "start_time": "2022-09-04T12:53:10.606Z"
   },
   {
    "duration": 322,
    "start_time": "2022-09-04T12:53:10.829Z"
   },
   {
    "duration": 13,
    "start_time": "2022-09-04T12:53:11.156Z"
   },
   {
    "duration": 174,
    "start_time": "2022-09-04T12:53:11.171Z"
   },
   {
    "duration": 13,
    "start_time": "2022-09-04T12:53:11.347Z"
   },
   {
    "duration": 167,
    "start_time": "2022-09-04T12:53:11.363Z"
   },
   {
    "duration": 6,
    "start_time": "2022-09-04T12:53:11.532Z"
   },
   {
    "duration": 222,
    "start_time": "2022-09-04T12:53:11.557Z"
   },
   {
    "duration": 11,
    "start_time": "2022-09-04T12:53:11.781Z"
   },
   {
    "duration": 150,
    "start_time": "2022-09-04T12:53:11.794Z"
   },
   {
    "duration": 16,
    "start_time": "2022-09-04T12:53:11.945Z"
   },
   {
    "duration": 24,
    "start_time": "2022-09-04T12:53:11.963Z"
   },
   {
    "duration": 11,
    "start_time": "2022-09-04T12:53:11.989Z"
   },
   {
    "duration": 12,
    "start_time": "2022-09-04T12:53:12.002Z"
   },
   {
    "duration": 10,
    "start_time": "2022-09-04T12:53:12.016Z"
   },
   {
    "duration": 35,
    "start_time": "2022-09-04T12:53:12.028Z"
   },
   {
    "duration": 22,
    "start_time": "2022-09-04T12:53:12.064Z"
   },
   {
    "duration": 14,
    "start_time": "2022-09-04T12:53:12.088Z"
   },
   {
    "duration": 359,
    "start_time": "2022-09-04T12:53:12.104Z"
   },
   {
    "duration": 399,
    "start_time": "2022-09-04T12:53:12.465Z"
   }
  ],
  "kernelspec": {
   "display_name": "Python 3 (ipykernel)",
   "language": "python",
   "name": "python3"
  },
  "language_info": {
   "codemirror_mode": {
    "name": "ipython",
    "version": 3
   },
   "file_extension": ".py",
   "mimetype": "text/x-python",
   "name": "python",
   "nbconvert_exporter": "python",
   "pygments_lexer": "ipython3",
   "version": "3.9.7"
  },
  "toc": {
   "base_numbering": 1,
   "nav_menu": {},
   "number_sections": true,
   "sideBar": true,
   "skip_h1_title": true,
   "title_cell": "Table of Contents",
   "title_sidebar": "Contents",
   "toc_cell": false,
   "toc_position": {
    "height": "422px",
    "left": "25px",
    "top": "149.125px",
    "width": "165px"
   },
   "toc_section_display": true,
   "toc_window_display": true
  }
 },
 "nbformat": 4,
 "nbformat_minor": 2
}
