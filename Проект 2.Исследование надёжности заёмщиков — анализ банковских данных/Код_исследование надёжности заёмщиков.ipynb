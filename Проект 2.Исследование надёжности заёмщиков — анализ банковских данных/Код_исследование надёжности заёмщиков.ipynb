{
 "cells": [
  {
   "cell_type": "markdown",
   "id": "7c8052ed",
   "metadata": {},
   "source": [
    "# Исследование надежности заемщиков."
   ]
  },
  {
   "cell_type": "markdown",
   "id": "4650b969",
   "metadata": {},
   "source": [
    "### Описание проекта"
   ]
  },
  {
   "cell_type": "markdown",
   "id": "d4e0ef2d",
   "metadata": {},
   "source": [
    "**Заказчик:** кредитный отдел банка.\n",
    "\n",
    "**Входные данные от банка:** статистика о платёжеспособности клиентов.\n",
    "\n",
    "**Цель исследования:** необходимо разобраться, влияет ли семейное положение и количество детей клиента на факт погашения кредита в срок. Результаты исследования будут учтены при построении модели кредитного скоринга — специальной системы, которая оценивает способность потенциального заёмщика вернуть кредит банку."
   ]
  },
  {
   "cell_type": "markdown",
   "id": "323e4260",
   "metadata": {},
   "source": [
    "### Шаг 1. Обзор данных"
   ]
  },
  {
   "cell_type": "markdown",
   "id": "e2bee870",
   "metadata": {},
   "source": [
    "Для работы с данными и их обзора импортируем библиотеку pandas, прочитаем данные с помощью функции read_csv() и выведем первые 10 строк таблицы методом head()."
   ]
  },
  {
   "cell_type": "code",
   "execution_count": 2,
   "id": "5b754ff3",
   "metadata": {},
   "outputs": [
    {
     "data": {
      "text/html": [
       "<div>\n",
       "<style scoped>\n",
       "    .dataframe tbody tr th:only-of-type {\n",
       "        vertical-align: middle;\n",
       "    }\n",
       "\n",
       "    .dataframe tbody tr th {\n",
       "        vertical-align: top;\n",
       "    }\n",
       "\n",
       "    .dataframe thead th {\n",
       "        text-align: right;\n",
       "    }\n",
       "</style>\n",
       "<table border=\"1\" class=\"dataframe\">\n",
       "  <thead>\n",
       "    <tr style=\"text-align: right;\">\n",
       "      <th></th>\n",
       "      <th>children</th>\n",
       "      <th>days_employed</th>\n",
       "      <th>dob_years</th>\n",
       "      <th>education</th>\n",
       "      <th>education_id</th>\n",
       "      <th>family_status</th>\n",
       "      <th>family_status_id</th>\n",
       "      <th>gender</th>\n",
       "      <th>income_type</th>\n",
       "      <th>debt</th>\n",
       "      <th>total_income</th>\n",
       "      <th>purpose</th>\n",
       "    </tr>\n",
       "  </thead>\n",
       "  <tbody>\n",
       "    <tr>\n",
       "      <th>0</th>\n",
       "      <td>1</td>\n",
       "      <td>-8437.673028</td>\n",
       "      <td>42</td>\n",
       "      <td>высшее</td>\n",
       "      <td>0</td>\n",
       "      <td>женат / замужем</td>\n",
       "      <td>0</td>\n",
       "      <td>F</td>\n",
       "      <td>сотрудник</td>\n",
       "      <td>0</td>\n",
       "      <td>253875.639453</td>\n",
       "      <td>покупка жилья</td>\n",
       "    </tr>\n",
       "    <tr>\n",
       "      <th>1</th>\n",
       "      <td>1</td>\n",
       "      <td>-4024.803754</td>\n",
       "      <td>36</td>\n",
       "      <td>среднее</td>\n",
       "      <td>1</td>\n",
       "      <td>женат / замужем</td>\n",
       "      <td>0</td>\n",
       "      <td>F</td>\n",
       "      <td>сотрудник</td>\n",
       "      <td>0</td>\n",
       "      <td>112080.014102</td>\n",
       "      <td>приобретение автомобиля</td>\n",
       "    </tr>\n",
       "    <tr>\n",
       "      <th>2</th>\n",
       "      <td>0</td>\n",
       "      <td>-5623.422610</td>\n",
       "      <td>33</td>\n",
       "      <td>Среднее</td>\n",
       "      <td>1</td>\n",
       "      <td>женат / замужем</td>\n",
       "      <td>0</td>\n",
       "      <td>M</td>\n",
       "      <td>сотрудник</td>\n",
       "      <td>0</td>\n",
       "      <td>145885.952297</td>\n",
       "      <td>покупка жилья</td>\n",
       "    </tr>\n",
       "    <tr>\n",
       "      <th>3</th>\n",
       "      <td>3</td>\n",
       "      <td>-4124.747207</td>\n",
       "      <td>32</td>\n",
       "      <td>среднее</td>\n",
       "      <td>1</td>\n",
       "      <td>женат / замужем</td>\n",
       "      <td>0</td>\n",
       "      <td>M</td>\n",
       "      <td>сотрудник</td>\n",
       "      <td>0</td>\n",
       "      <td>267628.550329</td>\n",
       "      <td>дополнительное образование</td>\n",
       "    </tr>\n",
       "    <tr>\n",
       "      <th>4</th>\n",
       "      <td>0</td>\n",
       "      <td>340266.072047</td>\n",
       "      <td>53</td>\n",
       "      <td>среднее</td>\n",
       "      <td>1</td>\n",
       "      <td>гражданский брак</td>\n",
       "      <td>1</td>\n",
       "      <td>F</td>\n",
       "      <td>пенсионер</td>\n",
       "      <td>0</td>\n",
       "      <td>158616.077870</td>\n",
       "      <td>сыграть свадьбу</td>\n",
       "    </tr>\n",
       "    <tr>\n",
       "      <th>5</th>\n",
       "      <td>0</td>\n",
       "      <td>-926.185831</td>\n",
       "      <td>27</td>\n",
       "      <td>высшее</td>\n",
       "      <td>0</td>\n",
       "      <td>гражданский брак</td>\n",
       "      <td>1</td>\n",
       "      <td>M</td>\n",
       "      <td>компаньон</td>\n",
       "      <td>0</td>\n",
       "      <td>255763.565419</td>\n",
       "      <td>покупка жилья</td>\n",
       "    </tr>\n",
       "    <tr>\n",
       "      <th>6</th>\n",
       "      <td>0</td>\n",
       "      <td>-2879.202052</td>\n",
       "      <td>43</td>\n",
       "      <td>высшее</td>\n",
       "      <td>0</td>\n",
       "      <td>женат / замужем</td>\n",
       "      <td>0</td>\n",
       "      <td>F</td>\n",
       "      <td>компаньон</td>\n",
       "      <td>0</td>\n",
       "      <td>240525.971920</td>\n",
       "      <td>операции с жильем</td>\n",
       "    </tr>\n",
       "    <tr>\n",
       "      <th>7</th>\n",
       "      <td>0</td>\n",
       "      <td>-152.779569</td>\n",
       "      <td>50</td>\n",
       "      <td>СРЕДНЕЕ</td>\n",
       "      <td>1</td>\n",
       "      <td>женат / замужем</td>\n",
       "      <td>0</td>\n",
       "      <td>M</td>\n",
       "      <td>сотрудник</td>\n",
       "      <td>0</td>\n",
       "      <td>135823.934197</td>\n",
       "      <td>образование</td>\n",
       "    </tr>\n",
       "    <tr>\n",
       "      <th>8</th>\n",
       "      <td>2</td>\n",
       "      <td>-6929.865299</td>\n",
       "      <td>35</td>\n",
       "      <td>ВЫСШЕЕ</td>\n",
       "      <td>0</td>\n",
       "      <td>гражданский брак</td>\n",
       "      <td>1</td>\n",
       "      <td>F</td>\n",
       "      <td>сотрудник</td>\n",
       "      <td>0</td>\n",
       "      <td>95856.832424</td>\n",
       "      <td>на проведение свадьбы</td>\n",
       "    </tr>\n",
       "    <tr>\n",
       "      <th>9</th>\n",
       "      <td>0</td>\n",
       "      <td>-2188.756445</td>\n",
       "      <td>41</td>\n",
       "      <td>среднее</td>\n",
       "      <td>1</td>\n",
       "      <td>женат / замужем</td>\n",
       "      <td>0</td>\n",
       "      <td>M</td>\n",
       "      <td>сотрудник</td>\n",
       "      <td>0</td>\n",
       "      <td>144425.938277</td>\n",
       "      <td>покупка жилья для семьи</td>\n",
       "    </tr>\n",
       "  </tbody>\n",
       "</table>\n",
       "</div>"
      ],
      "text/plain": [
       "   children  days_employed  dob_years education  education_id  \\\n",
       "0         1   -8437.673028         42    высшее             0   \n",
       "1         1   -4024.803754         36   среднее             1   \n",
       "2         0   -5623.422610         33   Среднее             1   \n",
       "3         3   -4124.747207         32   среднее             1   \n",
       "4         0  340266.072047         53   среднее             1   \n",
       "5         0    -926.185831         27    высшее             0   \n",
       "6         0   -2879.202052         43    высшее             0   \n",
       "7         0    -152.779569         50   СРЕДНЕЕ             1   \n",
       "8         2   -6929.865299         35    ВЫСШЕЕ             0   \n",
       "9         0   -2188.756445         41   среднее             1   \n",
       "\n",
       "      family_status  family_status_id gender income_type  debt   total_income  \\\n",
       "0   женат / замужем                 0      F   сотрудник     0  253875.639453   \n",
       "1   женат / замужем                 0      F   сотрудник     0  112080.014102   \n",
       "2   женат / замужем                 0      M   сотрудник     0  145885.952297   \n",
       "3   женат / замужем                 0      M   сотрудник     0  267628.550329   \n",
       "4  гражданский брак                 1      F   пенсионер     0  158616.077870   \n",
       "5  гражданский брак                 1      M   компаньон     0  255763.565419   \n",
       "6   женат / замужем                 0      F   компаньон     0  240525.971920   \n",
       "7   женат / замужем                 0      M   сотрудник     0  135823.934197   \n",
       "8  гражданский брак                 1      F   сотрудник     0   95856.832424   \n",
       "9   женат / замужем                 0      M   сотрудник     0  144425.938277   \n",
       "\n",
       "                      purpose  \n",
       "0               покупка жилья  \n",
       "1     приобретение автомобиля  \n",
       "2               покупка жилья  \n",
       "3  дополнительное образование  \n",
       "4             сыграть свадьбу  \n",
       "5               покупка жилья  \n",
       "6           операции с жильем  \n",
       "7                 образование  \n",
       "8       на проведение свадьбы  \n",
       "9     покупка жилья для семьи  "
      ]
     },
     "execution_count": 2,
     "metadata": {},
     "output_type": "execute_result"
    }
   ],
   "source": [
    "import pandas as pd\n",
    "data = pd.read_csv('data.csv')\n",
    "data.head(10) "
   ]
  },
  {
   "cell_type": "markdown",
   "id": "1c745105",
   "metadata": {},
   "source": [
    "Выведем общую информацию об исходных данных:"
   ]
  },
  {
   "cell_type": "code",
   "execution_count": 3,
   "id": "b0b50b7d",
   "metadata": {},
   "outputs": [
    {
     "name": "stdout",
     "output_type": "stream",
     "text": [
      "<class 'pandas.core.frame.DataFrame'>\n",
      "RangeIndex: 21525 entries, 0 to 21524\n",
      "Data columns (total 12 columns):\n",
      " #   Column            Non-Null Count  Dtype  \n",
      "---  ------            --------------  -----  \n",
      " 0   children          21525 non-null  int64  \n",
      " 1   days_employed     19351 non-null  float64\n",
      " 2   dob_years         21525 non-null  int64  \n",
      " 3   education         21525 non-null  object \n",
      " 4   education_id      21525 non-null  int64  \n",
      " 5   family_status     21525 non-null  object \n",
      " 6   family_status_id  21525 non-null  int64  \n",
      " 7   gender            21525 non-null  object \n",
      " 8   income_type       21525 non-null  object \n",
      " 9   debt              21525 non-null  int64  \n",
      " 10  total_income      19351 non-null  float64\n",
      " 11  purpose           21525 non-null  object \n",
      "dtypes: float64(2), int64(5), object(5)\n",
      "memory usage: 2.0+ MB\n"
     ]
    }
   ],
   "source": [
    "data.info() "
   ]
  },
  {
   "cell_type": "markdown",
   "id": "05a8e38c",
   "metadata": {},
   "source": [
    "### Шаг 2.1 Заполнение пропусков"
   ]
  },
  {
   "cell_type": "markdown",
   "id": "19905825",
   "metadata": {},
   "source": [
    "Пропуски обнаружены в столбцах: days_employed  и total_income:"
   ]
  },
  {
   "cell_type": "code",
   "execution_count": 4,
   "id": "350c8336",
   "metadata": {},
   "outputs": [
    {
     "data": {
      "text/html": [
       "<div>\n",
       "<style scoped>\n",
       "    .dataframe tbody tr th:only-of-type {\n",
       "        vertical-align: middle;\n",
       "    }\n",
       "\n",
       "    .dataframe tbody tr th {\n",
       "        vertical-align: top;\n",
       "    }\n",
       "\n",
       "    .dataframe thead th {\n",
       "        text-align: right;\n",
       "    }\n",
       "</style>\n",
       "<table border=\"1\" class=\"dataframe\">\n",
       "  <thead>\n",
       "    <tr style=\"text-align: right;\">\n",
       "      <th></th>\n",
       "      <th>children</th>\n",
       "      <th>days_employed</th>\n",
       "      <th>dob_years</th>\n",
       "      <th>education</th>\n",
       "      <th>education_id</th>\n",
       "      <th>family_status</th>\n",
       "      <th>family_status_id</th>\n",
       "      <th>gender</th>\n",
       "      <th>income_type</th>\n",
       "      <th>debt</th>\n",
       "      <th>total_income</th>\n",
       "      <th>purpose</th>\n",
       "    </tr>\n",
       "  </thead>\n",
       "  <tbody>\n",
       "    <tr>\n",
       "      <th>12</th>\n",
       "      <td>0</td>\n",
       "      <td>NaN</td>\n",
       "      <td>65</td>\n",
       "      <td>среднее</td>\n",
       "      <td>1</td>\n",
       "      <td>гражданский брак</td>\n",
       "      <td>1</td>\n",
       "      <td>M</td>\n",
       "      <td>пенсионер</td>\n",
       "      <td>0</td>\n",
       "      <td>NaN</td>\n",
       "      <td>сыграть свадьбу</td>\n",
       "    </tr>\n",
       "    <tr>\n",
       "      <th>26</th>\n",
       "      <td>0</td>\n",
       "      <td>NaN</td>\n",
       "      <td>41</td>\n",
       "      <td>среднее</td>\n",
       "      <td>1</td>\n",
       "      <td>женат / замужем</td>\n",
       "      <td>0</td>\n",
       "      <td>M</td>\n",
       "      <td>госслужащий</td>\n",
       "      <td>0</td>\n",
       "      <td>NaN</td>\n",
       "      <td>образование</td>\n",
       "    </tr>\n",
       "    <tr>\n",
       "      <th>29</th>\n",
       "      <td>0</td>\n",
       "      <td>NaN</td>\n",
       "      <td>63</td>\n",
       "      <td>среднее</td>\n",
       "      <td>1</td>\n",
       "      <td>Не женат / не замужем</td>\n",
       "      <td>4</td>\n",
       "      <td>F</td>\n",
       "      <td>пенсионер</td>\n",
       "      <td>0</td>\n",
       "      <td>NaN</td>\n",
       "      <td>строительство жилой недвижимости</td>\n",
       "    </tr>\n",
       "    <tr>\n",
       "      <th>41</th>\n",
       "      <td>0</td>\n",
       "      <td>NaN</td>\n",
       "      <td>50</td>\n",
       "      <td>среднее</td>\n",
       "      <td>1</td>\n",
       "      <td>женат / замужем</td>\n",
       "      <td>0</td>\n",
       "      <td>F</td>\n",
       "      <td>госслужащий</td>\n",
       "      <td>0</td>\n",
       "      <td>NaN</td>\n",
       "      <td>сделка с подержанным автомобилем</td>\n",
       "    </tr>\n",
       "    <tr>\n",
       "      <th>55</th>\n",
       "      <td>0</td>\n",
       "      <td>NaN</td>\n",
       "      <td>54</td>\n",
       "      <td>среднее</td>\n",
       "      <td>1</td>\n",
       "      <td>гражданский брак</td>\n",
       "      <td>1</td>\n",
       "      <td>F</td>\n",
       "      <td>пенсионер</td>\n",
       "      <td>1</td>\n",
       "      <td>NaN</td>\n",
       "      <td>сыграть свадьбу</td>\n",
       "    </tr>\n",
       "  </tbody>\n",
       "</table>\n",
       "</div>"
      ],
      "text/plain": [
       "    children  days_employed  dob_years education  education_id  \\\n",
       "12         0            NaN         65   среднее             1   \n",
       "26         0            NaN         41   среднее             1   \n",
       "29         0            NaN         63   среднее             1   \n",
       "41         0            NaN         50   среднее             1   \n",
       "55         0            NaN         54   среднее             1   \n",
       "\n",
       "            family_status  family_status_id gender  income_type  debt  \\\n",
       "12       гражданский брак                 1      M    пенсионер     0   \n",
       "26        женат / замужем                 0      M  госслужащий     0   \n",
       "29  Не женат / не замужем                 4      F    пенсионер     0   \n",
       "41        женат / замужем                 0      F  госслужащий     0   \n",
       "55       гражданский брак                 1      F    пенсионер     1   \n",
       "\n",
       "    total_income                           purpose  \n",
       "12           NaN                   сыграть свадьбу  \n",
       "26           NaN                       образование  \n",
       "29           NaN  строительство жилой недвижимости  \n",
       "41           NaN  сделка с подержанным автомобилем  \n",
       "55           NaN                   сыграть свадьбу  "
      ]
     },
     "execution_count": 4,
     "metadata": {},
     "output_type": "execute_result"
    }
   ],
   "source": [
    "data[data['days_employed'].isna()].head()"
   ]
  },
  {
   "cell_type": "code",
   "execution_count": 5,
   "id": "a6dc5022",
   "metadata": {},
   "outputs": [
    {
     "data": {
      "text/html": [
       "<div>\n",
       "<style scoped>\n",
       "    .dataframe tbody tr th:only-of-type {\n",
       "        vertical-align: middle;\n",
       "    }\n",
       "\n",
       "    .dataframe tbody tr th {\n",
       "        vertical-align: top;\n",
       "    }\n",
       "\n",
       "    .dataframe thead th {\n",
       "        text-align: right;\n",
       "    }\n",
       "</style>\n",
       "<table border=\"1\" class=\"dataframe\">\n",
       "  <thead>\n",
       "    <tr style=\"text-align: right;\">\n",
       "      <th></th>\n",
       "      <th>children</th>\n",
       "      <th>days_employed</th>\n",
       "      <th>dob_years</th>\n",
       "      <th>education</th>\n",
       "      <th>education_id</th>\n",
       "      <th>family_status</th>\n",
       "      <th>family_status_id</th>\n",
       "      <th>gender</th>\n",
       "      <th>income_type</th>\n",
       "      <th>debt</th>\n",
       "      <th>total_income</th>\n",
       "      <th>purpose</th>\n",
       "    </tr>\n",
       "  </thead>\n",
       "  <tbody>\n",
       "    <tr>\n",
       "      <th>21489</th>\n",
       "      <td>2</td>\n",
       "      <td>NaN</td>\n",
       "      <td>47</td>\n",
       "      <td>Среднее</td>\n",
       "      <td>1</td>\n",
       "      <td>женат / замужем</td>\n",
       "      <td>0</td>\n",
       "      <td>M</td>\n",
       "      <td>компаньон</td>\n",
       "      <td>0</td>\n",
       "      <td>NaN</td>\n",
       "      <td>сделка с автомобилем</td>\n",
       "    </tr>\n",
       "    <tr>\n",
       "      <th>21495</th>\n",
       "      <td>1</td>\n",
       "      <td>NaN</td>\n",
       "      <td>50</td>\n",
       "      <td>среднее</td>\n",
       "      <td>1</td>\n",
       "      <td>гражданский брак</td>\n",
       "      <td>1</td>\n",
       "      <td>F</td>\n",
       "      <td>сотрудник</td>\n",
       "      <td>0</td>\n",
       "      <td>NaN</td>\n",
       "      <td>свадьба</td>\n",
       "    </tr>\n",
       "    <tr>\n",
       "      <th>21497</th>\n",
       "      <td>0</td>\n",
       "      <td>NaN</td>\n",
       "      <td>48</td>\n",
       "      <td>ВЫСШЕЕ</td>\n",
       "      <td>0</td>\n",
       "      <td>женат / замужем</td>\n",
       "      <td>0</td>\n",
       "      <td>F</td>\n",
       "      <td>компаньон</td>\n",
       "      <td>0</td>\n",
       "      <td>NaN</td>\n",
       "      <td>строительство недвижимости</td>\n",
       "    </tr>\n",
       "    <tr>\n",
       "      <th>21502</th>\n",
       "      <td>1</td>\n",
       "      <td>NaN</td>\n",
       "      <td>42</td>\n",
       "      <td>среднее</td>\n",
       "      <td>1</td>\n",
       "      <td>женат / замужем</td>\n",
       "      <td>0</td>\n",
       "      <td>F</td>\n",
       "      <td>сотрудник</td>\n",
       "      <td>0</td>\n",
       "      <td>NaN</td>\n",
       "      <td>строительство жилой недвижимости</td>\n",
       "    </tr>\n",
       "    <tr>\n",
       "      <th>21510</th>\n",
       "      <td>2</td>\n",
       "      <td>NaN</td>\n",
       "      <td>28</td>\n",
       "      <td>среднее</td>\n",
       "      <td>1</td>\n",
       "      <td>женат / замужем</td>\n",
       "      <td>0</td>\n",
       "      <td>F</td>\n",
       "      <td>сотрудник</td>\n",
       "      <td>0</td>\n",
       "      <td>NaN</td>\n",
       "      <td>приобретение автомобиля</td>\n",
       "    </tr>\n",
       "  </tbody>\n",
       "</table>\n",
       "</div>"
      ],
      "text/plain": [
       "       children  days_employed  dob_years education  education_id  \\\n",
       "21489         2            NaN         47   Среднее             1   \n",
       "21495         1            NaN         50   среднее             1   \n",
       "21497         0            NaN         48    ВЫСШЕЕ             0   \n",
       "21502         1            NaN         42   среднее             1   \n",
       "21510         2            NaN         28   среднее             1   \n",
       "\n",
       "          family_status  family_status_id gender income_type  debt  \\\n",
       "21489   женат / замужем                 0      M   компаньон     0   \n",
       "21495  гражданский брак                 1      F   сотрудник     0   \n",
       "21497   женат / замужем                 0      F   компаньон     0   \n",
       "21502   женат / замужем                 0      F   сотрудник     0   \n",
       "21510   женат / замужем                 0      F   сотрудник     0   \n",
       "\n",
       "       total_income                           purpose  \n",
       "21489           NaN              сделка с автомобилем  \n",
       "21495           NaN                           свадьба  \n",
       "21497           NaN        строительство недвижимости  \n",
       "21502           NaN  строительство жилой недвижимости  \n",
       "21510           NaN           приобретение автомобиля  "
      ]
     },
     "execution_count": 5,
     "metadata": {},
     "output_type": "execute_result"
    }
   ],
   "source": [
    "data[data['total_income'].isna()].tail()"
   ]
  },
  {
   "cell_type": "markdown",
   "id": "82cd1f58",
   "metadata": {},
   "source": [
    "В обоих столбцах пропуски имеют тип NaN, которое замещает отсутствующее в ячейке число и принадлежит к типу float, поэтому с ним можно проводить математические операции. \n"
   ]
  },
  {
   "cell_type": "markdown",
   "id": "6b07fa91",
   "metadata": {},
   "source": [
    "Посчитаем кол-во пропусков и какую долю составляют пропущенные значения в каждом из столбцов с пропусками:"
   ]
  },
  {
   "cell_type": "code",
   "execution_count": 6,
   "id": "7ecba6a8",
   "metadata": {},
   "outputs": [
    {
     "name": "stdout",
     "output_type": "stream",
     "text": [
      "Процент пропусков в столбце days_employed составляет: 10.1\n",
      "Процент пропусков в столбце total_income составляет: 10.1\n"
     ]
    }
   ],
   "source": [
    "number_1 = data['days_employed'].isna().sum() \n",
    "number_2 = data['total_income'].isna().sum() \n",
    "number_3 = data['dob_years'].count() #считаем количество значений, в столбце, в котором нет пропусоков\n",
    "\n",
    "part_omission_1 = (number_1/number_3)*100\n",
    "part_omission_2 = number_2/number_3 *100\n",
    "\n",
    "print('Процент пропусков в столбце days_employed составляет:', round(part_omission_1, 2))\n",
    "print('Процент пропусков в столбце total_income составляет:', round(part_omission_2, 2))"
   ]
  },
  {
   "cell_type": "markdown",
   "id": "4c6abf6e",
   "metadata": {},
   "source": [
    "Причинами пропусков в столбцах могут быть: \n",
    "* данные были не указаны клиентами, \n",
    "* пропущены при заполнении сотрудниками,\n",
    "* либо вызываны технической ошибкой при записи данных в таблицу."
   ]
  },
  {
   "cell_type": "markdown",
   "id": "8ed154ef",
   "metadata": {},
   "source": [
    "Значения в столбцах days_employed  и total_income -являются числовыми и относятся к количественным переменным. \n",
    "В связи с чем заполнять пропуски будем характерными значениями, рассчитаными с помощью медианы.\n",
    "\n",
    "Медиана является в данном случае более достоверным методом, т.к. значения в выборке как в столбце days_employed, так и total_income могут сильно колебаться  и рассчитанное среднее значение может сильно сместиться из за анамальных значений и исказить результаты.\n",
    "\n",
    "Рассчитаем медианное значение для столбцов days_employed и total_income:"
   ]
  },
  {
   "cell_type": "code",
   "execution_count": 7,
   "id": "d1c2cd79",
   "metadata": {},
   "outputs": [
    {
     "name": "stdout",
     "output_type": "stream",
     "text": [
      "Медианное значение для столбца days_employed -1203.369528770489\n",
      "Медианное значение для столбца total_income 145017.93753253992\n"
     ]
    }
   ],
   "source": [
    "days_employed_median = data['days_employed'].median() \n",
    "total_income_median = data['total_income'].median() \n",
    "\n",
    "print('Медианное значение для столбца days_employed', days_employed_median)\n",
    "print('Медианное значение для столбца total_income' ,total_income_median)"
   ]
  },
  {
   "cell_type": "markdown",
   "id": "5f4c4263",
   "metadata": {},
   "source": [
    "В результате расчёта по столбцу 'days_employed' (стаж) получили отрицательно медианное значение, что говорит о том, что столбец содержит отрицательные значения, чего в реальности быть не может. Поэтому, заменим отрицательные значения в столбце на модуль числа и пересчитаем медианное значение в столбце 'days_employed':"
   ]
  },
  {
   "cell_type": "code",
   "execution_count": 8,
   "id": "f6ef6f3f",
   "metadata": {},
   "outputs": [
    {
     "name": "stdout",
     "output_type": "stream",
     "text": [
      "2194.2\n"
     ]
    }
   ],
   "source": [
    "data['days_employed'] = abs(data['days_employed']) \n",
    "days_employed_median = data['days_employed'].median() \n",
    "\n",
    "print(round(days_employed_median,1))"
   ]
  },
  {
   "cell_type": "markdown",
   "id": "508e7af7",
   "metadata": {},
   "source": [
    "Заполним пропуски в столбцах найденными медианными значениями и проверим результат- пропусков быть не должно.\n",
    "\n",
    "Первый способ проверки:"
   ]
  },
  {
   "cell_type": "code",
   "execution_count": 9,
   "id": "6e0a7434",
   "metadata": {},
   "outputs": [
    {
     "data": {
      "text/plain": [
       "0"
      ]
     },
     "execution_count": 9,
     "metadata": {},
     "output_type": "execute_result"
    }
   ],
   "source": [
    "data['days_employed'] = data['days_employed'].fillna(value=days_employed_median) \n",
    "data['days_employed'].isna().sum() "
   ]
  },
  {
   "cell_type": "markdown",
   "id": "76e4d8f3",
   "metadata": {},
   "source": [
    "Второй способ убедиться, что пропусков не осталось:"
   ]
  },
  {
   "cell_type": "code",
   "execution_count": 10,
   "id": "0dfccb33",
   "metadata": {},
   "outputs": [
    {
     "name": "stdout",
     "output_type": "stream",
     "text": [
      "<class 'pandas.core.frame.DataFrame'>\n",
      "RangeIndex: 21525 entries, 0 to 21524\n",
      "Data columns (total 12 columns):\n",
      " #   Column            Non-Null Count  Dtype  \n",
      "---  ------            --------------  -----  \n",
      " 0   children          21525 non-null  int64  \n",
      " 1   days_employed     21525 non-null  float64\n",
      " 2   dob_years         21525 non-null  int64  \n",
      " 3   education         21525 non-null  object \n",
      " 4   education_id      21525 non-null  int64  \n",
      " 5   family_status     21525 non-null  object \n",
      " 6   family_status_id  21525 non-null  int64  \n",
      " 7   gender            21525 non-null  object \n",
      " 8   income_type       21525 non-null  object \n",
      " 9   debt              21525 non-null  int64  \n",
      " 10  total_income      21525 non-null  float64\n",
      " 11  purpose           21525 non-null  object \n",
      "dtypes: float64(2), int64(5), object(5)\n",
      "memory usage: 2.0+ MB\n"
     ]
    }
   ],
   "source": [
    "data['total_income'] = data['total_income'].fillna(value=total_income_median)\n",
    "data.info()  "
   ]
  },
  {
   "cell_type": "markdown",
   "id": "0dfd064b",
   "metadata": {},
   "source": [
    "### Шаг 2.2 Проверка данных на аномалии и исправления."
   ]
  },
  {
   "cell_type": "markdown",
   "id": "58c44906",
   "metadata": {},
   "source": [
    "Значения в столбцах days_employed и total_income имеют вещественный тип данных в формате float64, т.е. это числа с плавающей точкой и имеющие отрицательный значения.\n",
    "\n",
    "*Столбец days_employed:*\n",
    "\n",
    "1.Отрицательные значения в столбце days_employed - являются аномалией, т.к. общий трудовой стаж отрицательным быть не может и является ошибкой в данных, возникшей, возможно в результате некорректного переноса/записи данных в таблицу.\n",
    "\n",
    "2.Тажке для этого столбца лишними являются значения после запятой, т.к. столбец показывает стаж в днях и достаточно будет целочисленного значения.\n",
    "\n",
    "3.В описании столбца написано, что стаж указан в днях, но на деле это не соответсвует действительности, например в строке №5 53 летний мужчина судя по данным о стаже (если значение в днях)- проработал 932 года, чего быть не может.\n",
    "\n",
    "*Столбец total_income:*\n",
    "\n",
    "значения после запятой являются избыточными, т.к. столбец показывает ежемесячный доход и достаточно будет целочисленного значения."
   ]
  },
  {
   "cell_type": "markdown",
   "id": "02b0d048",
   "metadata": {},
   "source": [
    "Находим все уникальные значения в столбце gender:"
   ]
  },
  {
   "cell_type": "code",
   "execution_count": 11,
   "id": "80ad83c0",
   "metadata": {},
   "outputs": [
    {
     "data": {
      "text/plain": [
       "array([ 1,  0,  3,  2, -1,  4, 20,  5], dtype=int64)"
      ]
     },
     "execution_count": 11,
     "metadata": {},
     "output_type": "execute_result"
    }
   ],
   "source": [
    "unique_children = data['children'].unique() \n",
    "unique_children"
   ]
  },
  {
   "cell_type": "markdown",
   "id": "e5f84632",
   "metadata": {},
   "source": [
    "Найдём модуль числа в столбце,чтобы столбец с количеством детей перестал содержать отрицательные значения:"
   ]
  },
  {
   "cell_type": "code",
   "execution_count": 12,
   "id": "4a4038e7",
   "metadata": {},
   "outputs": [],
   "source": [
    "data['children'] = abs(data['children']) "
   ]
  },
  {
   "cell_type": "markdown",
   "id": "5e5b9a1e",
   "metadata": {},
   "source": [
    "Посмотрим количество клиентов имеют какое количество детей:"
   ]
  },
  {
   "cell_type": "code",
   "execution_count": 13,
   "id": "8446cff8",
   "metadata": {},
   "outputs": [
    {
     "data": {
      "text/plain": [
       "0     14149\n",
       "1      4865\n",
       "2      2055\n",
       "3       330\n",
       "20       76\n",
       "4        41\n",
       "5         9\n",
       "Name: children, dtype: int64"
      ]
     },
     "execution_count": 13,
     "metadata": {},
     "output_type": "execute_result"
    }
   ],
   "source": [
    "data['children'].value_counts()"
   ]
  },
  {
   "cell_type": "markdown",
   "id": "b0573c1d",
   "metadata": {},
   "source": [
    "Видим аномалию в количестве 20 детей. Можно сделать предположение, что анамалия появилась в результате опечаток , когда имелось ввиду не 20, а 2 ребенка в семье. Заменим значения с \"20\" на \"2\" и выполним проверку:"
   ]
  },
  {
   "cell_type": "code",
   "execution_count": 14,
   "id": "4409e9c3",
   "metadata": {},
   "outputs": [],
   "source": [
    "data.loc[data['children']==20, 'children'] = 2"
   ]
  },
  {
   "cell_type": "code",
   "execution_count": 15,
   "id": "781b7acc",
   "metadata": {},
   "outputs": [
    {
     "data": {
      "text/plain": [
       "0    14149\n",
       "1     4865\n",
       "2     2131\n",
       "3      330\n",
       "4       41\n",
       "5        9\n",
       "Name: children, dtype: int64"
      ]
     },
     "execution_count": 15,
     "metadata": {},
     "output_type": "execute_result"
    }
   ],
   "source": [
    "data['children'].value_counts()"
   ]
  },
  {
   "cell_type": "markdown",
   "id": "522aee04",
   "metadata": {},
   "source": [
    "### Шаг 2.3. Изменение типов данных."
   ]
  },
  {
   "cell_type": "markdown",
   "id": "01cb4db9",
   "metadata": {},
   "source": [
    "Изменим тип данных в столбцах total_income и days_employed с вещественного float64 на целочисленный int64 и проверим, что типы столбцов изменились на int64"
   ]
  },
  {
   "cell_type": "code",
   "execution_count": 16,
   "id": "0cc41bd0",
   "metadata": {},
   "outputs": [
    {
     "name": "stdout",
     "output_type": "stream",
     "text": [
      "<class 'pandas.core.frame.DataFrame'>\n",
      "RangeIndex: 21525 entries, 0 to 21524\n",
      "Data columns (total 12 columns):\n",
      " #   Column            Non-Null Count  Dtype \n",
      "---  ------            --------------  ----- \n",
      " 0   children          21525 non-null  int64 \n",
      " 1   days_employed     21525 non-null  int32 \n",
      " 2   dob_years         21525 non-null  int64 \n",
      " 3   education         21525 non-null  object\n",
      " 4   education_id      21525 non-null  int64 \n",
      " 5   family_status     21525 non-null  object\n",
      " 6   family_status_id  21525 non-null  int64 \n",
      " 7   gender            21525 non-null  object\n",
      " 8   income_type       21525 non-null  object\n",
      " 9   debt              21525 non-null  int64 \n",
      " 10  total_income      21525 non-null  int32 \n",
      " 11  purpose           21525 non-null  object\n",
      "dtypes: int32(2), int64(5), object(5)\n",
      "memory usage: 1.8+ MB\n"
     ]
    }
   ],
   "source": [
    "data['total_income'] = data['total_income'].astype('int')\n",
    "data['days_employed'] = data['days_employed'].astype('int')\n",
    "data.info() "
   ]
  },
  {
   "cell_type": "markdown",
   "id": "2a428cf9",
   "metadata": {},
   "source": [
    "Посмотрим, как теперь выглядит таблица:"
   ]
  },
  {
   "cell_type": "code",
   "execution_count": 17,
   "id": "6718358b",
   "metadata": {},
   "outputs": [
    {
     "data": {
      "text/html": [
       "<div>\n",
       "<style scoped>\n",
       "    .dataframe tbody tr th:only-of-type {\n",
       "        vertical-align: middle;\n",
       "    }\n",
       "\n",
       "    .dataframe tbody tr th {\n",
       "        vertical-align: top;\n",
       "    }\n",
       "\n",
       "    .dataframe thead th {\n",
       "        text-align: right;\n",
       "    }\n",
       "</style>\n",
       "<table border=\"1\" class=\"dataframe\">\n",
       "  <thead>\n",
       "    <tr style=\"text-align: right;\">\n",
       "      <th></th>\n",
       "      <th>children</th>\n",
       "      <th>days_employed</th>\n",
       "      <th>dob_years</th>\n",
       "      <th>education</th>\n",
       "      <th>education_id</th>\n",
       "      <th>family_status</th>\n",
       "      <th>family_status_id</th>\n",
       "      <th>gender</th>\n",
       "      <th>income_type</th>\n",
       "      <th>debt</th>\n",
       "      <th>total_income</th>\n",
       "      <th>purpose</th>\n",
       "    </tr>\n",
       "  </thead>\n",
       "  <tbody>\n",
       "    <tr>\n",
       "      <th>0</th>\n",
       "      <td>1</td>\n",
       "      <td>8437</td>\n",
       "      <td>42</td>\n",
       "      <td>высшее</td>\n",
       "      <td>0</td>\n",
       "      <td>женат / замужем</td>\n",
       "      <td>0</td>\n",
       "      <td>F</td>\n",
       "      <td>сотрудник</td>\n",
       "      <td>0</td>\n",
       "      <td>253875</td>\n",
       "      <td>покупка жилья</td>\n",
       "    </tr>\n",
       "    <tr>\n",
       "      <th>1</th>\n",
       "      <td>1</td>\n",
       "      <td>4024</td>\n",
       "      <td>36</td>\n",
       "      <td>среднее</td>\n",
       "      <td>1</td>\n",
       "      <td>женат / замужем</td>\n",
       "      <td>0</td>\n",
       "      <td>F</td>\n",
       "      <td>сотрудник</td>\n",
       "      <td>0</td>\n",
       "      <td>112080</td>\n",
       "      <td>приобретение автомобиля</td>\n",
       "    </tr>\n",
       "    <tr>\n",
       "      <th>2</th>\n",
       "      <td>0</td>\n",
       "      <td>5623</td>\n",
       "      <td>33</td>\n",
       "      <td>Среднее</td>\n",
       "      <td>1</td>\n",
       "      <td>женат / замужем</td>\n",
       "      <td>0</td>\n",
       "      <td>M</td>\n",
       "      <td>сотрудник</td>\n",
       "      <td>0</td>\n",
       "      <td>145885</td>\n",
       "      <td>покупка жилья</td>\n",
       "    </tr>\n",
       "    <tr>\n",
       "      <th>3</th>\n",
       "      <td>3</td>\n",
       "      <td>4124</td>\n",
       "      <td>32</td>\n",
       "      <td>среднее</td>\n",
       "      <td>1</td>\n",
       "      <td>женат / замужем</td>\n",
       "      <td>0</td>\n",
       "      <td>M</td>\n",
       "      <td>сотрудник</td>\n",
       "      <td>0</td>\n",
       "      <td>267628</td>\n",
       "      <td>дополнительное образование</td>\n",
       "    </tr>\n",
       "    <tr>\n",
       "      <th>4</th>\n",
       "      <td>0</td>\n",
       "      <td>340266</td>\n",
       "      <td>53</td>\n",
       "      <td>среднее</td>\n",
       "      <td>1</td>\n",
       "      <td>гражданский брак</td>\n",
       "      <td>1</td>\n",
       "      <td>F</td>\n",
       "      <td>пенсионер</td>\n",
       "      <td>0</td>\n",
       "      <td>158616</td>\n",
       "      <td>сыграть свадьбу</td>\n",
       "    </tr>\n",
       "  </tbody>\n",
       "</table>\n",
       "</div>"
      ],
      "text/plain": [
       "   children  days_employed  dob_years education  education_id  \\\n",
       "0         1           8437         42    высшее             0   \n",
       "1         1           4024         36   среднее             1   \n",
       "2         0           5623         33   Среднее             1   \n",
       "3         3           4124         32   среднее             1   \n",
       "4         0         340266         53   среднее             1   \n",
       "\n",
       "      family_status  family_status_id gender income_type  debt  total_income  \\\n",
       "0   женат / замужем                 0      F   сотрудник     0        253875   \n",
       "1   женат / замужем                 0      F   сотрудник     0        112080   \n",
       "2   женат / замужем                 0      M   сотрудник     0        145885   \n",
       "3   женат / замужем                 0      M   сотрудник     0        267628   \n",
       "4  гражданский брак                 1      F   пенсионер     0        158616   \n",
       "\n",
       "                      purpose  \n",
       "0               покупка жилья  \n",
       "1     приобретение автомобиля  \n",
       "2               покупка жилья  \n",
       "3  дополнительное образование  \n",
       "4             сыграть свадьбу  "
      ]
     },
     "execution_count": 17,
     "metadata": {},
     "output_type": "execute_result"
    }
   ],
   "source": [
    "data.head() "
   ]
  },
  {
   "cell_type": "markdown",
   "id": "7b78f490",
   "metadata": {},
   "source": [
    "### Шаг 2.4. Удаление дубликатов."
   ]
  },
  {
   "cell_type": "markdown",
   "id": "31aa3105",
   "metadata": {},
   "source": [
    "Посчитаем количество явных строк-дубликатов в таблице:"
   ]
  },
  {
   "cell_type": "code",
   "execution_count": 18,
   "id": "74b41392",
   "metadata": {},
   "outputs": [
    {
     "data": {
      "text/plain": [
       "('Дубликатов в таблице:', 54)"
      ]
     },
     "execution_count": 18,
     "metadata": {},
     "output_type": "execute_result"
    }
   ],
   "source": [
    "'Дубликатов в таблице:', data.duplicated().sum() "
   ]
  },
  {
   "cell_type": "markdown",
   "id": "c6241e14",
   "metadata": {},
   "source": [
    "Удалим строки-дубликаты и заменим индексацию на новую:"
   ]
  },
  {
   "cell_type": "code",
   "execution_count": 19,
   "id": "e961f1c0",
   "metadata": {},
   "outputs": [
    {
     "name": "stdout",
     "output_type": "stream",
     "text": [
      "<class 'pandas.core.frame.DataFrame'>\n",
      "RangeIndex: 21471 entries, 0 to 21470\n",
      "Data columns (total 12 columns):\n",
      " #   Column            Non-Null Count  Dtype \n",
      "---  ------            --------------  ----- \n",
      " 0   children          21471 non-null  int64 \n",
      " 1   days_employed     21471 non-null  int32 \n",
      " 2   dob_years         21471 non-null  int64 \n",
      " 3   education         21471 non-null  object\n",
      " 4   education_id      21471 non-null  int64 \n",
      " 5   family_status     21471 non-null  object\n",
      " 6   family_status_id  21471 non-null  int64 \n",
      " 7   gender            21471 non-null  object\n",
      " 8   income_type       21471 non-null  object\n",
      " 9   debt              21471 non-null  int64 \n",
      " 10  total_income      21471 non-null  int32 \n",
      " 11  purpose           21471 non-null  object\n",
      "dtypes: int32(2), int64(5), object(5)\n",
      "memory usage: 1.8+ MB\n"
     ]
    }
   ],
   "source": [
    "data = data.drop_duplicates().reset_index(drop=True) \n",
    "data.info() "
   ]
  },
  {
   "cell_type": "markdown",
   "id": "0aec1913",
   "metadata": {},
   "source": [
    "Для поиска неявных дубликатов применим метод unique(), чтобы найти все уникальные значения в в столбцах.\n",
    "\n",
    "Найдём все уникальные значения в столбце ducation. "
   ]
  },
  {
   "cell_type": "code",
   "execution_count": 20,
   "id": "28dbb2c7",
   "metadata": {},
   "outputs": [
    {
     "data": {
      "text/plain": [
       "array(['высшее', 'среднее', 'Среднее', 'СРЕДНЕЕ', 'ВЫСШЕЕ',\n",
       "       'неоконченное высшее', 'начальное', 'Высшее',\n",
       "       'НЕОКОНЧЕННОЕ ВЫСШЕЕ', 'Неоконченное высшее', 'НАЧАЛЬНОЕ',\n",
       "       'Начальное', 'Ученая степень', 'УЧЕНАЯ СТЕПЕНЬ', 'ученая степень'],\n",
       "      dtype=object)"
      ]
     },
     "execution_count": 20,
     "metadata": {},
     "output_type": "execute_result"
    }
   ],
   "source": [
    "unique_education = data['education'].unique() \n",
    "unique_education"
   ]
  },
  {
   "cell_type": "markdown",
   "id": "f650b74b",
   "metadata": {},
   "source": [
    "Видим, что неявные дубликаты появились из-за применения разных регистров при написании одних и тех же значений,\n",
    "что могло быть связано с заполением этого столбца в ручную и разными пользователями."
   ]
  },
  {
   "cell_type": "markdown",
   "id": "83604118",
   "metadata": {},
   "source": [
    "Приведём все значения в столбце education к нижнему регистру и проверим полученный результат:"
   ]
  },
  {
   "cell_type": "code",
   "execution_count": 21,
   "id": "9bc07ea3",
   "metadata": {},
   "outputs": [
    {
     "data": {
      "text/plain": [
       "array(['высшее', 'среднее', 'неоконченное высшее', 'начальное',\n",
       "       'ученая степень'], dtype=object)"
      ]
     },
     "execution_count": 21,
     "metadata": {},
     "output_type": "execute_result"
    }
   ],
   "source": [
    "data['education'] = data['education'].str.lower()\n",
    "unique_education = data['education'].unique()\n",
    "unique_education"
   ]
  },
  {
   "cell_type": "markdown",
   "id": "917b94ee",
   "metadata": {},
   "source": [
    "Выполним аналогичные действия для столбца family_status:"
   ]
  },
  {
   "cell_type": "code",
   "execution_count": 22,
   "id": "3107f013",
   "metadata": {},
   "outputs": [
    {
     "data": {
      "text/plain": [
       "array(['женат / замужем', 'гражданский брак', 'вдовец / вдова',\n",
       "       'в разводе', 'Не женат / не замужем'], dtype=object)"
      ]
     },
     "execution_count": 22,
     "metadata": {},
     "output_type": "execute_result"
    }
   ],
   "source": [
    "unique_family_status = data['family_status'].unique() \n",
    "unique_family_status "
   ]
  },
  {
   "cell_type": "code",
   "execution_count": 23,
   "id": "779dd163",
   "metadata": {},
   "outputs": [
    {
     "data": {
      "text/plain": [
       "array(['женат / замужем', 'гражданский брак', 'вдовец / вдова',\n",
       "       'в разводе', 'не женат / не замужем'], dtype=object)"
      ]
     },
     "execution_count": 23,
     "metadata": {},
     "output_type": "execute_result"
    }
   ],
   "source": [
    "data['family_status'] = data['family_status'].str.lower()\n",
    "unique_family_status = data['family_status'].unique()\n",
    "unique_family_status "
   ]
  },
  {
   "cell_type": "markdown",
   "id": "6eb499d3",
   "metadata": {},
   "source": [
    "Найдём все уникальные значения в столбце gender:"
   ]
  },
  {
   "cell_type": "code",
   "execution_count": 24,
   "id": "a37806be",
   "metadata": {},
   "outputs": [
    {
     "data": {
      "text/plain": [
       "array(['F', 'M', 'XNA'], dtype=object)"
      ]
     },
     "execution_count": 24,
     "metadata": {},
     "output_type": "execute_result"
    }
   ],
   "source": [
    "unique_gender = data['gender'].unique() \n",
    "unique_gender\n"
   ]
  },
  {
   "cell_type": "markdown",
   "id": "b7713a5d",
   "metadata": {},
   "source": [
    "Проверим,сколько раз встречается каждое из значений в данных:"
   ]
  },
  {
   "cell_type": "code",
   "execution_count": 25,
   "id": "a24a6e70",
   "metadata": {},
   "outputs": [
    {
     "name": "stdout",
     "output_type": "stream",
     "text": [
      "gender=F 14189\n"
     ]
    }
   ],
   "source": [
    "print('gender=F',len(data[data['gender']=='F']))"
   ]
  },
  {
   "cell_type": "code",
   "execution_count": 26,
   "id": "15f82644",
   "metadata": {},
   "outputs": [
    {
     "name": "stdout",
     "output_type": "stream",
     "text": [
      "gender=M 7281\n"
     ]
    }
   ],
   "source": [
    "print('gender=M',len(data[data['gender']=='M']))"
   ]
  },
  {
   "cell_type": "code",
   "execution_count": 27,
   "id": "b8eee2be",
   "metadata": {},
   "outputs": [
    {
     "name": "stdout",
     "output_type": "stream",
     "text": [
      "gender=XNA 1\n"
     ]
    }
   ],
   "source": [
    "print('gender=XNA',len(data[data['gender']=='XNA']))"
   ]
  },
  {
   "cell_type": "markdown",
   "id": "c3f2553b",
   "metadata": {},
   "source": [
    "Значение 'XNA' встречается в данных 1 раз, вероятно, может быть связано с тем, что данные не были указаны,пропуск был заменен на 'XNA'."
   ]
  },
  {
   "cell_type": "markdown",
   "id": "594ee005",
   "metadata": {},
   "source": [
    "Найдём все уникальные значения в столбце income_type:"
   ]
  },
  {
   "cell_type": "code",
   "execution_count": 28,
   "id": "edf16570",
   "metadata": {},
   "outputs": [
    {
     "data": {
      "text/plain": [
       "array(['сотрудник', 'пенсионер', 'компаньон', 'госслужащий',\n",
       "       'безработный', 'предприниматель', 'студент', 'в декрете'],\n",
       "      dtype=object)"
      ]
     },
     "execution_count": 28,
     "metadata": {},
     "output_type": "execute_result"
    }
   ],
   "source": [
    "unique_income_type = data['income_type'].unique() \n",
    "unique_income_type"
   ]
  },
  {
   "cell_type": "markdown",
   "id": "9094a2d2",
   "metadata": {},
   "source": [
    "Найдём все уникальные значения в столбце dob_years:"
   ]
  },
  {
   "cell_type": "code",
   "execution_count": 29,
   "id": "efb50e1c",
   "metadata": {},
   "outputs": [
    {
     "data": {
      "text/plain": [
       "array([ 0, 19, 20, 21, 22, 23, 24, 25, 26, 27, 28, 29, 30, 31, 32, 33, 34,\n",
       "       35, 36, 37, 38, 39, 40, 41, 42, 43, 44, 45, 46, 47, 48, 49, 50, 51,\n",
       "       52, 53, 54, 55, 56, 57, 58, 59, 60, 61, 62, 63, 64, 65, 66, 67, 68,\n",
       "       69, 70, 71, 72, 73, 74, 75], dtype=int64)"
      ]
     },
     "execution_count": 29,
     "metadata": {},
     "output_type": "execute_result"
    }
   ],
   "source": [
    "unique_dob_years = data['dob_years'].sort_values().unique() \n",
    "unique_dob_years"
   ]
  },
  {
   "cell_type": "markdown",
   "id": "e8bc26ca",
   "metadata": {},
   "source": [
    "Имеем значение возраста заёмщика равное 0, чего быть не должно и, вероятно, является ошибкой в данных.\n",
    "\n",
    "Подсчитаем количество строк, в которых возраст заемщика равен 0:"
   ]
  },
  {
   "cell_type": "code",
   "execution_count": 30,
   "id": "cd7f14ed",
   "metadata": {},
   "outputs": [
    {
     "data": {
      "text/plain": [
       "children            101\n",
       "days_employed       101\n",
       "dob_years           101\n",
       "education           101\n",
       "education_id        101\n",
       "family_status       101\n",
       "family_status_id    101\n",
       "gender              101\n",
       "income_type         101\n",
       "debt                101\n",
       "total_income        101\n",
       "purpose             101\n",
       "dtype: int64"
      ]
     },
     "execution_count": 30,
     "metadata": {},
     "output_type": "execute_result"
    }
   ],
   "source": [
    "data[data['dob_years']==0].count()"
   ]
  },
  {
   "cell_type": "markdown",
   "id": "f73b0642",
   "metadata": {},
   "source": [
    "Заменим нулевые значения в столбце 'dob_years' на медианное значение в столбце:"
   ]
  },
  {
   "cell_type": "code",
   "execution_count": 31,
   "id": "68aeee79",
   "metadata": {},
   "outputs": [
    {
     "data": {
      "text/plain": [
       "42.0"
      ]
     },
     "execution_count": 31,
     "metadata": {},
     "output_type": "execute_result"
    }
   ],
   "source": [
    "data.loc[data['dob_years']==0,'dob_years'] = data['dob_years'].median()\n",
    "data['dob_years'].median()"
   ]
  },
  {
   "cell_type": "markdown",
   "id": "511a9e4c",
   "metadata": {},
   "source": [
    "В столбцах 'gender', 'income_type', 'purpose' приводить значения книжнему регистру не требуется.\n"
   ]
  },
  {
   "cell_type": "markdown",
   "id": "22e79d9b",
   "metadata": {},
   "source": [
    "**Исправление неявных дубликатов в столбцах.**\n",
    " Удалим явные найденные дубликаты методом drop_duplicates(), обновим индексацию и вновь выполним проверку на дубликаты:"
   ]
  },
  {
   "cell_type": "code",
   "execution_count": 32,
   "id": "8af09562",
   "metadata": {},
   "outputs": [],
   "source": [
    "data = data.drop_duplicates().reset_index(drop=True)"
   ]
  },
  {
   "cell_type": "code",
   "execution_count": 33,
   "id": "2f0c1416",
   "metadata": {},
   "outputs": [
    {
     "data": {
      "text/plain": [
       "0"
      ]
     },
     "execution_count": 33,
     "metadata": {},
     "output_type": "execute_result"
    }
   ],
   "source": [
    "data.duplicated().sum()"
   ]
  },
  {
   "cell_type": "markdown",
   "id": "dfad097d",
   "metadata": {},
   "source": [
    "### Шаг 2.5. Формирование дополнительных датафреймов словарей, декомпозиция исходного датафрейма."
   ]
  },
  {
   "cell_type": "markdown",
   "id": "19157a8b",
   "metadata": {},
   "source": [
    "Сформируем два дополнительных датафрейма-словаря из исходного датафрейма, в которых:\n",
    "*\tкаждому уникальному значению из education соответствует уникальное значение education_id — в первом;\n",
    "*\tкаждому уникальному значению из family_status соответствует уникальное значение family_status_id — во втором\n"
   ]
  },
  {
   "cell_type": "code",
   "execution_count": 34,
   "id": "e207a42e",
   "metadata": {},
   "outputs": [
    {
     "data": {
      "text/plain": [
       "21448"
      ]
     },
     "execution_count": 34,
     "metadata": {},
     "output_type": "execute_result"
    }
   ],
   "source": [
    "df_education = data[['education','education_id']]\n",
    "df_education.duplicated().sum()"
   ]
  },
  {
   "cell_type": "markdown",
   "id": "3fd68865",
   "metadata": {},
   "source": [
    "Удалим дубликаты в сформированной таблице-словаре df_education и проверим полученный результат:"
   ]
  },
  {
   "cell_type": "code",
   "execution_count": 35,
   "id": "ad8031a6",
   "metadata": {},
   "outputs": [
    {
     "data": {
      "text/html": [
       "<div>\n",
       "<style scoped>\n",
       "    .dataframe tbody tr th:only-of-type {\n",
       "        vertical-align: middle;\n",
       "    }\n",
       "\n",
       "    .dataframe tbody tr th {\n",
       "        vertical-align: top;\n",
       "    }\n",
       "\n",
       "    .dataframe thead th {\n",
       "        text-align: right;\n",
       "    }\n",
       "</style>\n",
       "<table border=\"1\" class=\"dataframe\">\n",
       "  <thead>\n",
       "    <tr style=\"text-align: right;\">\n",
       "      <th></th>\n",
       "      <th>education</th>\n",
       "      <th>education_id</th>\n",
       "    </tr>\n",
       "  </thead>\n",
       "  <tbody>\n",
       "    <tr>\n",
       "      <th>0</th>\n",
       "      <td>высшее</td>\n",
       "      <td>0</td>\n",
       "    </tr>\n",
       "    <tr>\n",
       "      <th>1</th>\n",
       "      <td>среднее</td>\n",
       "      <td>1</td>\n",
       "    </tr>\n",
       "    <tr>\n",
       "      <th>2</th>\n",
       "      <td>неоконченное высшее</td>\n",
       "      <td>2</td>\n",
       "    </tr>\n",
       "    <tr>\n",
       "      <th>3</th>\n",
       "      <td>начальное</td>\n",
       "      <td>3</td>\n",
       "    </tr>\n",
       "    <tr>\n",
       "      <th>4</th>\n",
       "      <td>ученая степень</td>\n",
       "      <td>4</td>\n",
       "    </tr>\n",
       "  </tbody>\n",
       "</table>\n",
       "</div>"
      ],
      "text/plain": [
       "             education  education_id\n",
       "0               высшее             0\n",
       "1              среднее             1\n",
       "2  неоконченное высшее             2\n",
       "3            начальное             3\n",
       "4       ученая степень             4"
      ]
     },
     "execution_count": 35,
     "metadata": {},
     "output_type": "execute_result"
    }
   ],
   "source": [
    "df_education = df_education.drop_duplicates().reset_index(drop = True)\n",
    "df_education "
   ]
  },
  {
   "cell_type": "markdown",
   "id": "4f61f780",
   "metadata": {},
   "source": [
    "Удалим дубликаты в сформированной таблице-словаре family_status и проверим полученный результат:"
   ]
  },
  {
   "cell_type": "code",
   "execution_count": 36,
   "id": "da5ddb7b",
   "metadata": {},
   "outputs": [
    {
     "data": {
      "text/html": [
       "<div>\n",
       "<style scoped>\n",
       "    .dataframe tbody tr th:only-of-type {\n",
       "        vertical-align: middle;\n",
       "    }\n",
       "\n",
       "    .dataframe tbody tr th {\n",
       "        vertical-align: top;\n",
       "    }\n",
       "\n",
       "    .dataframe thead th {\n",
       "        text-align: right;\n",
       "    }\n",
       "</style>\n",
       "<table border=\"1\" class=\"dataframe\">\n",
       "  <thead>\n",
       "    <tr style=\"text-align: right;\">\n",
       "      <th></th>\n",
       "      <th>family_status</th>\n",
       "      <th>family_status_id</th>\n",
       "    </tr>\n",
       "  </thead>\n",
       "  <tbody>\n",
       "    <tr>\n",
       "      <th>0</th>\n",
       "      <td>женат / замужем</td>\n",
       "      <td>0</td>\n",
       "    </tr>\n",
       "    <tr>\n",
       "      <th>1</th>\n",
       "      <td>гражданский брак</td>\n",
       "      <td>1</td>\n",
       "    </tr>\n",
       "    <tr>\n",
       "      <th>2</th>\n",
       "      <td>вдовец / вдова</td>\n",
       "      <td>2</td>\n",
       "    </tr>\n",
       "    <tr>\n",
       "      <th>3</th>\n",
       "      <td>в разводе</td>\n",
       "      <td>3</td>\n",
       "    </tr>\n",
       "    <tr>\n",
       "      <th>4</th>\n",
       "      <td>не женат / не замужем</td>\n",
       "      <td>4</td>\n",
       "    </tr>\n",
       "  </tbody>\n",
       "</table>\n",
       "</div>"
      ],
      "text/plain": [
       "           family_status  family_status_id\n",
       "0        женат / замужем                 0\n",
       "1       гражданский брак                 1\n",
       "2         вдовец / вдова                 2\n",
       "3              в разводе                 3\n",
       "4  не женат / не замужем                 4"
      ]
     },
     "execution_count": 36,
     "metadata": {},
     "output_type": "execute_result"
    }
   ],
   "source": [
    "df_family_status = data[['family_status', 'family_status_id']]\n",
    "df_family_status.duplicated().sum()\n",
    "df_family_status= df_family_status.drop_duplicates().reset_index(drop = True)\n",
    "df_family_status "
   ]
  },
  {
   "cell_type": "markdown",
   "id": "7925da33",
   "metadata": {},
   "source": [
    "Обновим исходный датафрейм, удалив из него столбцы education и family_status, которые теперь находятся в соответсвующих таблицах-словарях:"
   ]
  },
  {
   "cell_type": "code",
   "execution_count": 37,
   "id": "796f58af",
   "metadata": {},
   "outputs": [
    {
     "data": {
      "text/html": [
       "<div>\n",
       "<style scoped>\n",
       "    .dataframe tbody tr th:only-of-type {\n",
       "        vertical-align: middle;\n",
       "    }\n",
       "\n",
       "    .dataframe tbody tr th {\n",
       "        vertical-align: top;\n",
       "    }\n",
       "\n",
       "    .dataframe thead th {\n",
       "        text-align: right;\n",
       "    }\n",
       "</style>\n",
       "<table border=\"1\" class=\"dataframe\">\n",
       "  <thead>\n",
       "    <tr style=\"text-align: right;\">\n",
       "      <th></th>\n",
       "      <th>children</th>\n",
       "      <th>days_employed</th>\n",
       "      <th>dob_years</th>\n",
       "      <th>education_id</th>\n",
       "      <th>family_status_id</th>\n",
       "      <th>gender</th>\n",
       "      <th>income_type</th>\n",
       "      <th>debt</th>\n",
       "      <th>total_income</th>\n",
       "      <th>purpose</th>\n",
       "    </tr>\n",
       "  </thead>\n",
       "  <tbody>\n",
       "    <tr>\n",
       "      <th>0</th>\n",
       "      <td>1</td>\n",
       "      <td>8437</td>\n",
       "      <td>42</td>\n",
       "      <td>0</td>\n",
       "      <td>0</td>\n",
       "      <td>F</td>\n",
       "      <td>сотрудник</td>\n",
       "      <td>0</td>\n",
       "      <td>253875</td>\n",
       "      <td>покупка жилья</td>\n",
       "    </tr>\n",
       "    <tr>\n",
       "      <th>1</th>\n",
       "      <td>1</td>\n",
       "      <td>4024</td>\n",
       "      <td>36</td>\n",
       "      <td>1</td>\n",
       "      <td>0</td>\n",
       "      <td>F</td>\n",
       "      <td>сотрудник</td>\n",
       "      <td>0</td>\n",
       "      <td>112080</td>\n",
       "      <td>приобретение автомобиля</td>\n",
       "    </tr>\n",
       "    <tr>\n",
       "      <th>2</th>\n",
       "      <td>0</td>\n",
       "      <td>5623</td>\n",
       "      <td>33</td>\n",
       "      <td>1</td>\n",
       "      <td>0</td>\n",
       "      <td>M</td>\n",
       "      <td>сотрудник</td>\n",
       "      <td>0</td>\n",
       "      <td>145885</td>\n",
       "      <td>покупка жилья</td>\n",
       "    </tr>\n",
       "    <tr>\n",
       "      <th>3</th>\n",
       "      <td>3</td>\n",
       "      <td>4124</td>\n",
       "      <td>32</td>\n",
       "      <td>1</td>\n",
       "      <td>0</td>\n",
       "      <td>M</td>\n",
       "      <td>сотрудник</td>\n",
       "      <td>0</td>\n",
       "      <td>267628</td>\n",
       "      <td>дополнительное образование</td>\n",
       "    </tr>\n",
       "    <tr>\n",
       "      <th>4</th>\n",
       "      <td>0</td>\n",
       "      <td>340266</td>\n",
       "      <td>53</td>\n",
       "      <td>1</td>\n",
       "      <td>1</td>\n",
       "      <td>F</td>\n",
       "      <td>пенсионер</td>\n",
       "      <td>0</td>\n",
       "      <td>158616</td>\n",
       "      <td>сыграть свадьбу</td>\n",
       "    </tr>\n",
       "  </tbody>\n",
       "</table>\n",
       "</div>"
      ],
      "text/plain": [
       "   children  days_employed  dob_years  education_id  family_status_id gender  \\\n",
       "0         1           8437         42             0                 0      F   \n",
       "1         1           4024         36             1                 0      F   \n",
       "2         0           5623         33             1                 0      M   \n",
       "3         3           4124         32             1                 0      M   \n",
       "4         0         340266         53             1                 1      F   \n",
       "\n",
       "  income_type  debt  total_income                     purpose  \n",
       "0   сотрудник     0        253875               покупка жилья  \n",
       "1   сотрудник     0        112080     приобретение автомобиля  \n",
       "2   сотрудник     0        145885               покупка жилья  \n",
       "3   сотрудник     0        267628  дополнительное образование  \n",
       "4   пенсионер     0        158616             сыграть свадьбу  "
      ]
     },
     "execution_count": 37,
     "metadata": {},
     "output_type": "execute_result"
    }
   ],
   "source": [
    "data = data[['children', 'days_employed','dob_years','education_id','family_status_id','gender', 'income_type', 'debt', 'total_income', 'purpose']]\n",
    "data.head()\n"
   ]
  },
  {
   "cell_type": "markdown",
   "id": "70bd7df9",
   "metadata": {},
   "source": [
    "### Шаг 2.6. Категоризация дохода."
   ]
  },
  {
   "cell_type": "markdown",
   "id": "883ea2fb",
   "metadata": {},
   "source": [
    "Напишем функцию, с помощью которой создадим категории на основе диапозонов доходов:"
   ]
  },
  {
   "cell_type": "code",
   "execution_count": 38,
   "id": "976da651",
   "metadata": {},
   "outputs": [],
   "source": [
    "def alert_income_category(income): \n",
    "    if income <= 30000:\n",
    "        return 'E'\n",
    "    if income <= 50000:\n",
    "        return 'D'\n",
    "    if income <= 200000:\n",
    "        return 'C'\n",
    "    if income <= 1000000:\n",
    "        return 'B'\n",
    "    return 'A'\n",
    "#print(alert_income_category(10000)) #выполним проверку работы функции"
   ]
  },
  {
   "cell_type": "markdown",
   "id": "e9256015",
   "metadata": {},
   "source": [
    "Теперь создадим столбец с категориями дохода и проверим полученный результат (столбец 'total_income_category'):"
   ]
  },
  {
   "cell_type": "code",
   "execution_count": 39,
   "id": "405eb0f1",
   "metadata": {},
   "outputs": [
    {
     "data": {
      "text/html": [
       "<div>\n",
       "<style scoped>\n",
       "    .dataframe tbody tr th:only-of-type {\n",
       "        vertical-align: middle;\n",
       "    }\n",
       "\n",
       "    .dataframe tbody tr th {\n",
       "        vertical-align: top;\n",
       "    }\n",
       "\n",
       "    .dataframe thead th {\n",
       "        text-align: right;\n",
       "    }\n",
       "</style>\n",
       "<table border=\"1\" class=\"dataframe\">\n",
       "  <thead>\n",
       "    <tr style=\"text-align: right;\">\n",
       "      <th></th>\n",
       "      <th>children</th>\n",
       "      <th>days_employed</th>\n",
       "      <th>dob_years</th>\n",
       "      <th>education_id</th>\n",
       "      <th>family_status_id</th>\n",
       "      <th>gender</th>\n",
       "      <th>income_type</th>\n",
       "      <th>debt</th>\n",
       "      <th>total_income</th>\n",
       "      <th>purpose</th>\n",
       "      <th>total_income_category</th>\n",
       "    </tr>\n",
       "  </thead>\n",
       "  <tbody>\n",
       "    <tr>\n",
       "      <th>0</th>\n",
       "      <td>1</td>\n",
       "      <td>8437</td>\n",
       "      <td>42</td>\n",
       "      <td>0</td>\n",
       "      <td>0</td>\n",
       "      <td>F</td>\n",
       "      <td>сотрудник</td>\n",
       "      <td>0</td>\n",
       "      <td>253875</td>\n",
       "      <td>покупка жилья</td>\n",
       "      <td>B</td>\n",
       "    </tr>\n",
       "    <tr>\n",
       "      <th>1</th>\n",
       "      <td>1</td>\n",
       "      <td>4024</td>\n",
       "      <td>36</td>\n",
       "      <td>1</td>\n",
       "      <td>0</td>\n",
       "      <td>F</td>\n",
       "      <td>сотрудник</td>\n",
       "      <td>0</td>\n",
       "      <td>112080</td>\n",
       "      <td>приобретение автомобиля</td>\n",
       "      <td>C</td>\n",
       "    </tr>\n",
       "    <tr>\n",
       "      <th>2</th>\n",
       "      <td>0</td>\n",
       "      <td>5623</td>\n",
       "      <td>33</td>\n",
       "      <td>1</td>\n",
       "      <td>0</td>\n",
       "      <td>M</td>\n",
       "      <td>сотрудник</td>\n",
       "      <td>0</td>\n",
       "      <td>145885</td>\n",
       "      <td>покупка жилья</td>\n",
       "      <td>C</td>\n",
       "    </tr>\n",
       "    <tr>\n",
       "      <th>3</th>\n",
       "      <td>3</td>\n",
       "      <td>4124</td>\n",
       "      <td>32</td>\n",
       "      <td>1</td>\n",
       "      <td>0</td>\n",
       "      <td>M</td>\n",
       "      <td>сотрудник</td>\n",
       "      <td>0</td>\n",
       "      <td>267628</td>\n",
       "      <td>дополнительное образование</td>\n",
       "      <td>B</td>\n",
       "    </tr>\n",
       "    <tr>\n",
       "      <th>4</th>\n",
       "      <td>0</td>\n",
       "      <td>340266</td>\n",
       "      <td>53</td>\n",
       "      <td>1</td>\n",
       "      <td>1</td>\n",
       "      <td>F</td>\n",
       "      <td>пенсионер</td>\n",
       "      <td>0</td>\n",
       "      <td>158616</td>\n",
       "      <td>сыграть свадьбу</td>\n",
       "      <td>C</td>\n",
       "    </tr>\n",
       "    <tr>\n",
       "      <th>...</th>\n",
       "      <td>...</td>\n",
       "      <td>...</td>\n",
       "      <td>...</td>\n",
       "      <td>...</td>\n",
       "      <td>...</td>\n",
       "      <td>...</td>\n",
       "      <td>...</td>\n",
       "      <td>...</td>\n",
       "      <td>...</td>\n",
       "      <td>...</td>\n",
       "      <td>...</td>\n",
       "    </tr>\n",
       "    <tr>\n",
       "      <th>21448</th>\n",
       "      <td>1</td>\n",
       "      <td>4529</td>\n",
       "      <td>43</td>\n",
       "      <td>1</td>\n",
       "      <td>1</td>\n",
       "      <td>F</td>\n",
       "      <td>компаньон</td>\n",
       "      <td>0</td>\n",
       "      <td>224791</td>\n",
       "      <td>операции с жильем</td>\n",
       "      <td>B</td>\n",
       "    </tr>\n",
       "    <tr>\n",
       "      <th>21449</th>\n",
       "      <td>0</td>\n",
       "      <td>343937</td>\n",
       "      <td>67</td>\n",
       "      <td>1</td>\n",
       "      <td>0</td>\n",
       "      <td>F</td>\n",
       "      <td>пенсионер</td>\n",
       "      <td>0</td>\n",
       "      <td>155999</td>\n",
       "      <td>сделка с автомобилем</td>\n",
       "      <td>C</td>\n",
       "    </tr>\n",
       "    <tr>\n",
       "      <th>21450</th>\n",
       "      <td>1</td>\n",
       "      <td>2113</td>\n",
       "      <td>38</td>\n",
       "      <td>1</td>\n",
       "      <td>1</td>\n",
       "      <td>M</td>\n",
       "      <td>сотрудник</td>\n",
       "      <td>1</td>\n",
       "      <td>89672</td>\n",
       "      <td>недвижимость</td>\n",
       "      <td>C</td>\n",
       "    </tr>\n",
       "    <tr>\n",
       "      <th>21451</th>\n",
       "      <td>3</td>\n",
       "      <td>3112</td>\n",
       "      <td>38</td>\n",
       "      <td>1</td>\n",
       "      <td>0</td>\n",
       "      <td>M</td>\n",
       "      <td>сотрудник</td>\n",
       "      <td>1</td>\n",
       "      <td>244093</td>\n",
       "      <td>на покупку своего автомобиля</td>\n",
       "      <td>B</td>\n",
       "    </tr>\n",
       "    <tr>\n",
       "      <th>21452</th>\n",
       "      <td>2</td>\n",
       "      <td>1984</td>\n",
       "      <td>40</td>\n",
       "      <td>1</td>\n",
       "      <td>0</td>\n",
       "      <td>F</td>\n",
       "      <td>сотрудник</td>\n",
       "      <td>0</td>\n",
       "      <td>82047</td>\n",
       "      <td>на покупку автомобиля</td>\n",
       "      <td>C</td>\n",
       "    </tr>\n",
       "  </tbody>\n",
       "</table>\n",
       "<p>21453 rows × 11 columns</p>\n",
       "</div>"
      ],
      "text/plain": [
       "       children  days_employed  dob_years  education_id  family_status_id  \\\n",
       "0             1           8437         42             0                 0   \n",
       "1             1           4024         36             1                 0   \n",
       "2             0           5623         33             1                 0   \n",
       "3             3           4124         32             1                 0   \n",
       "4             0         340266         53             1                 1   \n",
       "...         ...            ...        ...           ...               ...   \n",
       "21448         1           4529         43             1                 1   \n",
       "21449         0         343937         67             1                 0   \n",
       "21450         1           2113         38             1                 1   \n",
       "21451         3           3112         38             1                 0   \n",
       "21452         2           1984         40             1                 0   \n",
       "\n",
       "      gender income_type  debt  total_income                       purpose  \\\n",
       "0          F   сотрудник     0        253875                 покупка жилья   \n",
       "1          F   сотрудник     0        112080       приобретение автомобиля   \n",
       "2          M   сотрудник     0        145885                 покупка жилья   \n",
       "3          M   сотрудник     0        267628    дополнительное образование   \n",
       "4          F   пенсионер     0        158616               сыграть свадьбу   \n",
       "...      ...         ...   ...           ...                           ...   \n",
       "21448      F   компаньон     0        224791             операции с жильем   \n",
       "21449      F   пенсионер     0        155999          сделка с автомобилем   \n",
       "21450      M   сотрудник     1         89672                  недвижимость   \n",
       "21451      M   сотрудник     1        244093  на покупку своего автомобиля   \n",
       "21452      F   сотрудник     0         82047         на покупку автомобиля   \n",
       "\n",
       "      total_income_category  \n",
       "0                         B  \n",
       "1                         C  \n",
       "2                         C  \n",
       "3                         B  \n",
       "4                         C  \n",
       "...                     ...  \n",
       "21448                     B  \n",
       "21449                     C  \n",
       "21450                     C  \n",
       "21451                     B  \n",
       "21452                     C  \n",
       "\n",
       "[21453 rows x 11 columns]"
      ]
     },
     "execution_count": 39,
     "metadata": {},
     "output_type": "execute_result"
    }
   ],
   "source": [
    "data['total_income_category']=data['total_income'].apply(alert_income_category)\n",
    "data "
   ]
  },
  {
   "cell_type": "markdown",
   "id": "b42cace0",
   "metadata": {},
   "source": [
    "### Шаг 2.7. Категоризация целей кредита."
   ]
  },
  {
   "cell_type": "markdown",
   "id": "40162f9b",
   "metadata": {},
   "source": [
    "Создадим функцию для категоризации целей получения кредита:"
   ]
  },
  {
   "cell_type": "code",
   "execution_count": 40,
   "id": "93157e84",
   "metadata": {},
   "outputs": [],
   "source": [
    "\n",
    "def alert_purpose(purpose):\n",
    "    if 'сыграть свадьбу' in purpose or 'на проведение свадьбы' in purpose or'свадьба' in purpose:\n",
    "        return 'проведение свадьбы'\n",
    "    if 'приобретение автомобиля'in purpose or'на покупку подержанного автомобиля'in purpose or'на покупку своего автомобиля'in purpose or'автомобили'in purpose or'сделка с подержанным автомобилем' in purpose or'автомобиль' in purpose or'свой автомобиль' in purpose or'сделка с автомобилем' in purpose or'на покупку автомобиля' in purpose:\n",
    "        return 'операции с автомобилем'\n",
    "    if 'дополнительное образование' in purpose or 'образование' in purpose or'заняться образованием'in purpose or'получение образования' in purpose or'получение дополнительного образования'in purpose or'получение высшего образования'in purpose or'профильное образование'in purpose or'высшее образование'in purpose or'заняться высшим образованием'in purpose:\n",
    "        return 'получение образования'\n",
    "    return 'операции с недвижимостью'\n",
    "#print(alert_purpose('жилье')) #проверим работу функции"
   ]
  },
  {
   "cell_type": "markdown",
   "id": "6528846f",
   "metadata": {},
   "source": [
    "Теперь создадим столбец с укрупнёнными категориями целей кредита и проверим полученный результат:"
   ]
  },
  {
   "cell_type": "code",
   "execution_count": 41,
   "id": "689215a9",
   "metadata": {},
   "outputs": [
    {
     "data": {
      "text/html": [
       "<div>\n",
       "<style scoped>\n",
       "    .dataframe tbody tr th:only-of-type {\n",
       "        vertical-align: middle;\n",
       "    }\n",
       "\n",
       "    .dataframe tbody tr th {\n",
       "        vertical-align: top;\n",
       "    }\n",
       "\n",
       "    .dataframe thead th {\n",
       "        text-align: right;\n",
       "    }\n",
       "</style>\n",
       "<table border=\"1\" class=\"dataframe\">\n",
       "  <thead>\n",
       "    <tr style=\"text-align: right;\">\n",
       "      <th></th>\n",
       "      <th>children</th>\n",
       "      <th>days_employed</th>\n",
       "      <th>dob_years</th>\n",
       "      <th>education_id</th>\n",
       "      <th>family_status_id</th>\n",
       "      <th>gender</th>\n",
       "      <th>income_type</th>\n",
       "      <th>debt</th>\n",
       "      <th>total_income</th>\n",
       "      <th>purpose</th>\n",
       "      <th>total_income_category</th>\n",
       "      <th>purpose_category</th>\n",
       "    </tr>\n",
       "  </thead>\n",
       "  <tbody>\n",
       "    <tr>\n",
       "      <th>0</th>\n",
       "      <td>1</td>\n",
       "      <td>8437</td>\n",
       "      <td>42</td>\n",
       "      <td>0</td>\n",
       "      <td>0</td>\n",
       "      <td>F</td>\n",
       "      <td>сотрудник</td>\n",
       "      <td>0</td>\n",
       "      <td>253875</td>\n",
       "      <td>покупка жилья</td>\n",
       "      <td>B</td>\n",
       "      <td>операции с недвижимостью</td>\n",
       "    </tr>\n",
       "    <tr>\n",
       "      <th>1</th>\n",
       "      <td>1</td>\n",
       "      <td>4024</td>\n",
       "      <td>36</td>\n",
       "      <td>1</td>\n",
       "      <td>0</td>\n",
       "      <td>F</td>\n",
       "      <td>сотрудник</td>\n",
       "      <td>0</td>\n",
       "      <td>112080</td>\n",
       "      <td>приобретение автомобиля</td>\n",
       "      <td>C</td>\n",
       "      <td>операции с автомобилем</td>\n",
       "    </tr>\n",
       "    <tr>\n",
       "      <th>2</th>\n",
       "      <td>0</td>\n",
       "      <td>5623</td>\n",
       "      <td>33</td>\n",
       "      <td>1</td>\n",
       "      <td>0</td>\n",
       "      <td>M</td>\n",
       "      <td>сотрудник</td>\n",
       "      <td>0</td>\n",
       "      <td>145885</td>\n",
       "      <td>покупка жилья</td>\n",
       "      <td>C</td>\n",
       "      <td>операции с недвижимостью</td>\n",
       "    </tr>\n",
       "    <tr>\n",
       "      <th>3</th>\n",
       "      <td>3</td>\n",
       "      <td>4124</td>\n",
       "      <td>32</td>\n",
       "      <td>1</td>\n",
       "      <td>0</td>\n",
       "      <td>M</td>\n",
       "      <td>сотрудник</td>\n",
       "      <td>0</td>\n",
       "      <td>267628</td>\n",
       "      <td>дополнительное образование</td>\n",
       "      <td>B</td>\n",
       "      <td>получение образования</td>\n",
       "    </tr>\n",
       "    <tr>\n",
       "      <th>4</th>\n",
       "      <td>0</td>\n",
       "      <td>340266</td>\n",
       "      <td>53</td>\n",
       "      <td>1</td>\n",
       "      <td>1</td>\n",
       "      <td>F</td>\n",
       "      <td>пенсионер</td>\n",
       "      <td>0</td>\n",
       "      <td>158616</td>\n",
       "      <td>сыграть свадьбу</td>\n",
       "      <td>C</td>\n",
       "      <td>проведение свадьбы</td>\n",
       "    </tr>\n",
       "    <tr>\n",
       "      <th>...</th>\n",
       "      <td>...</td>\n",
       "      <td>...</td>\n",
       "      <td>...</td>\n",
       "      <td>...</td>\n",
       "      <td>...</td>\n",
       "      <td>...</td>\n",
       "      <td>...</td>\n",
       "      <td>...</td>\n",
       "      <td>...</td>\n",
       "      <td>...</td>\n",
       "      <td>...</td>\n",
       "      <td>...</td>\n",
       "    </tr>\n",
       "    <tr>\n",
       "      <th>21448</th>\n",
       "      <td>1</td>\n",
       "      <td>4529</td>\n",
       "      <td>43</td>\n",
       "      <td>1</td>\n",
       "      <td>1</td>\n",
       "      <td>F</td>\n",
       "      <td>компаньон</td>\n",
       "      <td>0</td>\n",
       "      <td>224791</td>\n",
       "      <td>операции с жильем</td>\n",
       "      <td>B</td>\n",
       "      <td>операции с недвижимостью</td>\n",
       "    </tr>\n",
       "    <tr>\n",
       "      <th>21449</th>\n",
       "      <td>0</td>\n",
       "      <td>343937</td>\n",
       "      <td>67</td>\n",
       "      <td>1</td>\n",
       "      <td>0</td>\n",
       "      <td>F</td>\n",
       "      <td>пенсионер</td>\n",
       "      <td>0</td>\n",
       "      <td>155999</td>\n",
       "      <td>сделка с автомобилем</td>\n",
       "      <td>C</td>\n",
       "      <td>операции с автомобилем</td>\n",
       "    </tr>\n",
       "    <tr>\n",
       "      <th>21450</th>\n",
       "      <td>1</td>\n",
       "      <td>2113</td>\n",
       "      <td>38</td>\n",
       "      <td>1</td>\n",
       "      <td>1</td>\n",
       "      <td>M</td>\n",
       "      <td>сотрудник</td>\n",
       "      <td>1</td>\n",
       "      <td>89672</td>\n",
       "      <td>недвижимость</td>\n",
       "      <td>C</td>\n",
       "      <td>операции с недвижимостью</td>\n",
       "    </tr>\n",
       "    <tr>\n",
       "      <th>21451</th>\n",
       "      <td>3</td>\n",
       "      <td>3112</td>\n",
       "      <td>38</td>\n",
       "      <td>1</td>\n",
       "      <td>0</td>\n",
       "      <td>M</td>\n",
       "      <td>сотрудник</td>\n",
       "      <td>1</td>\n",
       "      <td>244093</td>\n",
       "      <td>на покупку своего автомобиля</td>\n",
       "      <td>B</td>\n",
       "      <td>операции с автомобилем</td>\n",
       "    </tr>\n",
       "    <tr>\n",
       "      <th>21452</th>\n",
       "      <td>2</td>\n",
       "      <td>1984</td>\n",
       "      <td>40</td>\n",
       "      <td>1</td>\n",
       "      <td>0</td>\n",
       "      <td>F</td>\n",
       "      <td>сотрудник</td>\n",
       "      <td>0</td>\n",
       "      <td>82047</td>\n",
       "      <td>на покупку автомобиля</td>\n",
       "      <td>C</td>\n",
       "      <td>операции с автомобилем</td>\n",
       "    </tr>\n",
       "  </tbody>\n",
       "</table>\n",
       "<p>21453 rows × 12 columns</p>\n",
       "</div>"
      ],
      "text/plain": [
       "       children  days_employed  dob_years  education_id  family_status_id  \\\n",
       "0             1           8437         42             0                 0   \n",
       "1             1           4024         36             1                 0   \n",
       "2             0           5623         33             1                 0   \n",
       "3             3           4124         32             1                 0   \n",
       "4             0         340266         53             1                 1   \n",
       "...         ...            ...        ...           ...               ...   \n",
       "21448         1           4529         43             1                 1   \n",
       "21449         0         343937         67             1                 0   \n",
       "21450         1           2113         38             1                 1   \n",
       "21451         3           3112         38             1                 0   \n",
       "21452         2           1984         40             1                 0   \n",
       "\n",
       "      gender income_type  debt  total_income                       purpose  \\\n",
       "0          F   сотрудник     0        253875                 покупка жилья   \n",
       "1          F   сотрудник     0        112080       приобретение автомобиля   \n",
       "2          M   сотрудник     0        145885                 покупка жилья   \n",
       "3          M   сотрудник     0        267628    дополнительное образование   \n",
       "4          F   пенсионер     0        158616               сыграть свадьбу   \n",
       "...      ...         ...   ...           ...                           ...   \n",
       "21448      F   компаньон     0        224791             операции с жильем   \n",
       "21449      F   пенсионер     0        155999          сделка с автомобилем   \n",
       "21450      M   сотрудник     1         89672                  недвижимость   \n",
       "21451      M   сотрудник     1        244093  на покупку своего автомобиля   \n",
       "21452      F   сотрудник     0         82047         на покупку автомобиля   \n",
       "\n",
       "      total_income_category          purpose_category  \n",
       "0                         B  операции с недвижимостью  \n",
       "1                         C    операции с автомобилем  \n",
       "2                         C  операции с недвижимостью  \n",
       "3                         B     получение образования  \n",
       "4                         C        проведение свадьбы  \n",
       "...                     ...                       ...  \n",
       "21448                     B  операции с недвижимостью  \n",
       "21449                     C    операции с автомобилем  \n",
       "21450                     C  операции с недвижимостью  \n",
       "21451                     B    операции с автомобилем  \n",
       "21452                     C    операции с автомобилем  \n",
       "\n",
       "[21453 rows x 12 columns]"
      ]
     },
     "execution_count": 41,
     "metadata": {},
     "output_type": "execute_result"
    }
   ],
   "source": [
    "data['purpose_category']=data['purpose'].apply(alert_purpose)\n",
    "data "
   ]
  },
  {
   "cell_type": "markdown",
   "id": "318c38c7",
   "metadata": {},
   "source": [
    "### Ответы на вопросы."
   ]
  },
  {
   "cell_type": "markdown",
   "id": "b506e495",
   "metadata": {},
   "source": [
    "##### Вопрос 1: Есть ли зависимость между количеством детей и возвратом кредита в срок?"
   ]
  },
  {
   "cell_type": "markdown",
   "id": "28e9e696",
   "metadata": {},
   "source": [
    "Находим все уникальные значения в столбце children:"
   ]
  },
  {
   "cell_type": "code",
   "execution_count": 42,
   "id": "ebbe9588",
   "metadata": {},
   "outputs": [
    {
     "data": {
      "text/plain": [
       "array([1, 0, 3, 2, 4, 5], dtype=int64)"
      ]
     },
     "execution_count": 42,
     "metadata": {},
     "output_type": "execute_result"
    }
   ],
   "source": [
    "unique_children = data['children'].unique() \n",
    "unique_children"
   ]
  },
  {
   "cell_type": "markdown",
   "id": "fb1b053e",
   "metadata": {},
   "source": [
    "Подготовим сводную таблицу, показывающую кол-во вовремя и невовремя отданных кредитов:"
   ]
  },
  {
   "cell_type": "code",
   "execution_count": 43,
   "id": "346a4153",
   "metadata": {},
   "outputs": [
    {
     "data": {
      "text/html": [
       "<div>\n",
       "<style scoped>\n",
       "    .dataframe tbody tr th:only-of-type {\n",
       "        vertical-align: middle;\n",
       "    }\n",
       "\n",
       "    .dataframe tbody tr th {\n",
       "        vertical-align: top;\n",
       "    }\n",
       "\n",
       "    .dataframe thead th {\n",
       "        text-align: right;\n",
       "    }\n",
       "</style>\n",
       "<table border=\"1\" class=\"dataframe\">\n",
       "  <thead>\n",
       "    <tr style=\"text-align: right;\">\n",
       "      <th>debt</th>\n",
       "      <th>0</th>\n",
       "      <th>1</th>\n",
       "    </tr>\n",
       "    <tr>\n",
       "      <th>children</th>\n",
       "      <th></th>\n",
       "      <th></th>\n",
       "    </tr>\n",
       "  </thead>\n",
       "  <tbody>\n",
       "    <tr>\n",
       "      <th>0</th>\n",
       "      <td>13027.0</td>\n",
       "      <td>1063.0</td>\n",
       "    </tr>\n",
       "    <tr>\n",
       "      <th>1</th>\n",
       "      <td>4410.0</td>\n",
       "      <td>445.0</td>\n",
       "    </tr>\n",
       "    <tr>\n",
       "      <th>2</th>\n",
       "      <td>1926.0</td>\n",
       "      <td>202.0</td>\n",
       "    </tr>\n",
       "    <tr>\n",
       "      <th>3</th>\n",
       "      <td>303.0</td>\n",
       "      <td>27.0</td>\n",
       "    </tr>\n",
       "    <tr>\n",
       "      <th>4</th>\n",
       "      <td>37.0</td>\n",
       "      <td>4.0</td>\n",
       "    </tr>\n",
       "    <tr>\n",
       "      <th>5</th>\n",
       "      <td>9.0</td>\n",
       "      <td>NaN</td>\n",
       "    </tr>\n",
       "  </tbody>\n",
       "</table>\n",
       "</div>"
      ],
      "text/plain": [
       "debt            0       1\n",
       "children                 \n",
       "0         13027.0  1063.0\n",
       "1          4410.0   445.0\n",
       "2          1926.0   202.0\n",
       "3           303.0    27.0\n",
       "4            37.0     4.0\n",
       "5             9.0     NaN"
      ]
     },
     "execution_count": 43,
     "metadata": {},
     "output_type": "execute_result"
    }
   ],
   "source": [
    "data_pivot_1 = data.pivot_table(index='children', columns='debt', values='income_type', aggfunc='count')\n",
    "data_pivot_1.head(10)"
   ]
  },
  {
   "cell_type": "markdown",
   "id": "3ddcb970",
   "metadata": {},
   "source": [
    "С помощью группировки и среднего найдём процент невовремя отданных кредитов в зависимости от кол-ва детей:"
   ]
  },
  {
   "cell_type": "code",
   "execution_count": 44,
   "id": "41e4d675",
   "metadata": {},
   "outputs": [
    {
     "data": {
      "text/plain": [
       "children\n",
       "4    9.76\n",
       "2    9.49\n",
       "1    9.17\n",
       "3    8.18\n",
       "0    7.54\n",
       "5    0.00\n",
       "Name: debt, dtype: float64"
      ]
     },
     "execution_count": 44,
     "metadata": {},
     "output_type": "execute_result"
    }
   ],
   "source": [
    "data.groupby('children')['debt'].mean().sort_values(ascending=False).round(4)*100"
   ]
  },
  {
   "cell_type": "markdown",
   "id": "2cc1996f",
   "metadata": {},
   "source": [
    "Посмотрим ещё раз какое количество клиентов имеют какое количество детей, чтобы учёсть, насколько показательна выборка: "
   ]
  },
  {
   "cell_type": "code",
   "execution_count": 45,
   "id": "7264b394",
   "metadata": {},
   "outputs": [
    {
     "data": {
      "text/plain": [
       "0    14090\n",
       "1     4855\n",
       "2     2128\n",
       "3      330\n",
       "4       41\n",
       "5        9\n",
       "Name: children, dtype: int64"
      ]
     },
     "execution_count": 45,
     "metadata": {},
     "output_type": "execute_result"
    }
   ],
   "source": [
    "data['children'].value_counts()"
   ]
  },
  {
   "cell_type": "markdown",
   "id": "6a6708cd",
   "metadata": {},
   "source": [
    "**Вывод о зависимости задолженности по кредитам от количества детей:**\n",
    "\n",
    "1) наибольший % фактов задолженности от всего кол-ва взятых кредитов у семей, где 4-ро детей - 9,76%, при этом необходимо учитывать, что кол-во таких семей среди клиентов составляет менее 0,5%, в связи с чем выборка не показательна.\n",
    "\n",
    "2) в пределах 9-9,5% у семей с 1-м, 2-мя;\n",
    "\n",
    "3) около 8,2% - у семьей с 3-мя детьми, \n",
    "\n",
    "4) у семей с 5-ю детьми на данный момент данных о задолжености нет, но выборку также нельзя считать показательной, т.к. доля таких клиентов менее 0,05%.\n",
    "\n",
    "5) наименьшая вероятность задолженности, у клиентов без детей - в пределах 8%."
   ]
  },
  {
   "cell_type": "markdown",
   "id": "fd55967c",
   "metadata": {},
   "source": [
    "##### Вопрос 2: есть ли зависимость между семейным положением и возвратом кредита в срок?"
   ]
  },
  {
   "cell_type": "markdown",
   "id": "301d237e",
   "metadata": {},
   "source": [
    "Посмотрим количество клиентов имеют какое семейное положение:"
   ]
  },
  {
   "cell_type": "code",
   "execution_count": 46,
   "id": "5a82cb58",
   "metadata": {},
   "outputs": [
    {
     "data": {
      "text/plain": [
       "женат / замужем          1\n",
       "гражданский брак         1\n",
       "вдовец / вдова           1\n",
       "в разводе                1\n",
       "не женат / не замужем    1\n",
       "Name: family_status, dtype: int64"
      ]
     },
     "execution_count": 46,
     "metadata": {},
     "output_type": "execute_result"
    }
   ],
   "source": [
    "df_family_status['family_status'].value_counts()"
   ]
  },
  {
   "cell_type": "markdown",
   "id": "190eaae9",
   "metadata": {},
   "source": [
    "Подготовим сводную таблицу, показывающую кол-во вовремя и невовремя отданных кредитов в зависимости от семейного положения.\n",
    "\n",
    "Далее соединим полученную сводную таблицу с ранее созданной таблицей df_family_status.\n",
    "\n",
    "Далее сделаем группировку по семейному положению, применим метод mean() и сортировку,чтобы получить итоговую таблицу по каждому статусу сколько кредитов было отдано в строк (столбец '0') и сколько с задолженностью (столбец '1')."
   ]
  },
  {
   "cell_type": "code",
   "execution_count": 47,
   "id": "315f49ab",
   "metadata": {},
   "outputs": [
    {
     "data": {
      "text/html": [
       "<div>\n",
       "<style scoped>\n",
       "    .dataframe tbody tr th:only-of-type {\n",
       "        vertical-align: middle;\n",
       "    }\n",
       "\n",
       "    .dataframe tbody tr th {\n",
       "        vertical-align: top;\n",
       "    }\n",
       "\n",
       "    .dataframe thead th {\n",
       "        text-align: right;\n",
       "    }\n",
       "</style>\n",
       "<table border=\"1\" class=\"dataframe\">\n",
       "  <thead>\n",
       "    <tr style=\"text-align: right;\">\n",
       "      <th></th>\n",
       "      <th>family_status_id</th>\n",
       "      <th>0</th>\n",
       "      <th>1</th>\n",
       "    </tr>\n",
       "    <tr>\n",
       "      <th>family_status</th>\n",
       "      <th></th>\n",
       "      <th></th>\n",
       "      <th></th>\n",
       "    </tr>\n",
       "  </thead>\n",
       "  <tbody>\n",
       "    <tr>\n",
       "      <th>женат / замужем</th>\n",
       "      <td>0.0</td>\n",
       "      <td>11408.0</td>\n",
       "      <td>931.0</td>\n",
       "    </tr>\n",
       "    <tr>\n",
       "      <th>гражданский брак</th>\n",
       "      <td>1.0</td>\n",
       "      <td>3762.0</td>\n",
       "      <td>388.0</td>\n",
       "    </tr>\n",
       "    <tr>\n",
       "      <th>вдовец / вдова</th>\n",
       "      <td>2.0</td>\n",
       "      <td>896.0</td>\n",
       "      <td>63.0</td>\n",
       "    </tr>\n",
       "    <tr>\n",
       "      <th>в разводе</th>\n",
       "      <td>3.0</td>\n",
       "      <td>1110.0</td>\n",
       "      <td>85.0</td>\n",
       "    </tr>\n",
       "    <tr>\n",
       "      <th>не женат / не замужем</th>\n",
       "      <td>4.0</td>\n",
       "      <td>2536.0</td>\n",
       "      <td>274.0</td>\n",
       "    </tr>\n",
       "  </tbody>\n",
       "</table>\n",
       "</div>"
      ],
      "text/plain": [
       "                       family_status_id        0      1\n",
       "family_status                                          \n",
       "женат / замужем                     0.0  11408.0  931.0\n",
       "гражданский брак                    1.0   3762.0  388.0\n",
       "вдовец / вдова                      2.0    896.0   63.0\n",
       "в разводе                           3.0   1110.0   85.0\n",
       "не женат / не замужем               4.0   2536.0  274.0"
      ]
     },
     "execution_count": 47,
     "metadata": {},
     "output_type": "execute_result"
    }
   ],
   "source": [
    "data_pivot_2 = data.pivot_table(index='family_status_id', columns='debt', values='income_type', aggfunc='count')\n",
    "data_pivot_2 = data_pivot_2.merge(df_family_status, on = 'family_status_id')\n",
    "data_pivot_2 = data_pivot_2.groupby('family_status').mean().sort_values('family_status_id')\n",
    "data_pivot_2"
   ]
  },
  {
   "cell_type": "markdown",
   "id": "24e4f07f",
   "metadata": {},
   "source": [
    "С помощью группировки и среднего найдём процент не вовремя отданных кредитов в зависимости от семейного положения: "
   ]
  },
  {
   "cell_type": "code",
   "execution_count": 48,
   "id": "0620be48",
   "metadata": {},
   "outputs": [
    {
     "data": {
      "text/plain": [
       "family_status_id\n",
       "2    6.6\n",
       "3    7.1\n",
       "0    7.5\n",
       "1    9.3\n",
       "4    9.8\n",
       "Name: debt, dtype: float64"
      ]
     },
     "execution_count": 48,
     "metadata": {},
     "output_type": "execute_result"
    }
   ],
   "source": [
    "data.groupby('family_status_id')['debt'].mean().sort_values().round(3)*100"
   ]
  },
  {
   "cell_type": "markdown",
   "id": "3eb7deb7",
   "metadata": {},
   "source": [
    "Зависимость наличия фактов задолженности по кредитам от семейного положения:\n",
    "\n",
    "в пределах 7% - \"вдовец / вдова\",\t\n",
    "\n",
    "в пределах 7,5% - \"женат / замужем\" и в \"разводе\",\n",
    "\n",
    "в пределах 9-10% - \"гражданский брак\", \"не женат / не замужем\"\n"
   ]
  },
  {
   "cell_type": "markdown",
   "id": "d9f8a2a6",
   "metadata": {},
   "source": [
    "##### Вопрос 3: есть ли зависимость между уровнем дохода и возвратом кредита в срок?"
   ]
  },
  {
   "cell_type": "markdown",
   "id": "a77a716f",
   "metadata": {},
   "source": [
    "Посмотрим как распределено количество клиентов по категориям дохода:"
   ]
  },
  {
   "cell_type": "code",
   "execution_count": 49,
   "id": "6bf39c70",
   "metadata": {},
   "outputs": [
    {
     "data": {
      "text/plain": [
       "C    16015\n",
       "B     5041\n",
       "D      350\n",
       "A       25\n",
       "E       22\n",
       "Name: total_income_category, dtype: int64"
      ]
     },
     "execution_count": 49,
     "metadata": {},
     "output_type": "execute_result"
    }
   ],
   "source": [
    "data['total_income_category'].value_counts()"
   ]
  },
  {
   "cell_type": "markdown",
   "id": "9c034bf1",
   "metadata": {},
   "source": [
    "Подготовим сводную таблицу, показывающую кол-во вовремя и невовремя отданных кредитов в зависимости от категории дохода:"
   ]
  },
  {
   "cell_type": "code",
   "execution_count": 50,
   "id": "7da7264e",
   "metadata": {},
   "outputs": [
    {
     "data": {
      "text/html": [
       "<div>\n",
       "<style scoped>\n",
       "    .dataframe tbody tr th:only-of-type {\n",
       "        vertical-align: middle;\n",
       "    }\n",
       "\n",
       "    .dataframe tbody tr th {\n",
       "        vertical-align: top;\n",
       "    }\n",
       "\n",
       "    .dataframe thead th {\n",
       "        text-align: right;\n",
       "    }\n",
       "</style>\n",
       "<table border=\"1\" class=\"dataframe\">\n",
       "  <thead>\n",
       "    <tr style=\"text-align: right;\">\n",
       "      <th>debt</th>\n",
       "      <th>0</th>\n",
       "      <th>1</th>\n",
       "    </tr>\n",
       "    <tr>\n",
       "      <th>total_income_category</th>\n",
       "      <th></th>\n",
       "      <th></th>\n",
       "    </tr>\n",
       "  </thead>\n",
       "  <tbody>\n",
       "    <tr>\n",
       "      <th>A</th>\n",
       "      <td>23</td>\n",
       "      <td>2</td>\n",
       "    </tr>\n",
       "    <tr>\n",
       "      <th>B</th>\n",
       "      <td>4685</td>\n",
       "      <td>356</td>\n",
       "    </tr>\n",
       "    <tr>\n",
       "      <th>C</th>\n",
       "      <td>14655</td>\n",
       "      <td>1360</td>\n",
       "    </tr>\n",
       "    <tr>\n",
       "      <th>D</th>\n",
       "      <td>329</td>\n",
       "      <td>21</td>\n",
       "    </tr>\n",
       "    <tr>\n",
       "      <th>E</th>\n",
       "      <td>20</td>\n",
       "      <td>2</td>\n",
       "    </tr>\n",
       "  </tbody>\n",
       "</table>\n",
       "</div>"
      ],
      "text/plain": [
       "debt                       0     1\n",
       "total_income_category             \n",
       "A                         23     2\n",
       "B                       4685   356\n",
       "C                      14655  1360\n",
       "D                        329    21\n",
       "E                         20     2"
      ]
     },
     "execution_count": 50,
     "metadata": {},
     "output_type": "execute_result"
    }
   ],
   "source": [
    "data_pivot_3 = data.pivot_table(index='total_income_category', columns='debt', values='income_type', aggfunc='count')\n",
    "data_pivot_3.head(5)"
   ]
  },
  {
   "cell_type": "markdown",
   "id": "2f3b6a22",
   "metadata": {},
   "source": [
    "С помощью группировки и среднего найдём процент невовремя отданных кредитов в зависимости от кол-ва детей:"
   ]
  },
  {
   "cell_type": "code",
   "execution_count": 51,
   "id": "b3e8f9a4",
   "metadata": {},
   "outputs": [
    {
     "data": {
      "text/plain": [
       "total_income_category\n",
       "D    6.0\n",
       "B    7.1\n",
       "A    8.0\n",
       "C    8.5\n",
       "E    9.1\n",
       "Name: debt, dtype: float64"
      ]
     },
     "execution_count": 51,
     "metadata": {},
     "output_type": "execute_result"
    }
   ],
   "source": [
    "data.groupby('total_income_category')['debt'].mean().sort_values().round(3)*100"
   ]
  },
  {
   "cell_type": "markdown",
   "id": "5b90f729",
   "metadata": {},
   "source": [
    "Зависимость наличия фактов задолженности по кредитам от уровня дохода:\n",
    "\n",
    "в пределах 6% от кол-ва всех взятых кредитов имеют задолженность клиенты из категория D(30001–50000 ), \n",
    "\n",
    "в пределах 7-8 % - из категория A(1000001 и выше) и B(200001–1000000),\n",
    "\n",
    "в пределах 8-9,1% - из категории С(50001–200000) и Е (0–30000 )."
   ]
  },
  {
   "cell_type": "markdown",
   "id": "9caab255",
   "metadata": {},
   "source": [
    "##### Вопрос 4: как разные цели кредита влияют на его возврат в срок?"
   ]
  },
  {
   "cell_type": "markdown",
   "id": "ca420879",
   "metadata": {},
   "source": [
    "Посмотрим количество клиентов имеют какие цели кредита:"
   ]
  },
  {
   "cell_type": "code",
   "execution_count": 52,
   "id": "934ffe4f",
   "metadata": {},
   "outputs": [
    {
     "data": {
      "text/plain": [
       "операции с недвижимостью    10811\n",
       "операции с автомобилем       4306\n",
       "получение образования        4013\n",
       "проведение свадьбы           2323\n",
       "Name: purpose_category, dtype: int64"
      ]
     },
     "execution_count": 52,
     "metadata": {},
     "output_type": "execute_result"
    }
   ],
   "source": [
    "data['purpose_category'].value_counts()"
   ]
  },
  {
   "cell_type": "markdown",
   "id": "46becfe0",
   "metadata": {},
   "source": [
    "Подготовим сводную таблицу, показывающую кол-во вовремя и невовремя отданных кредитов в зависимости от целей кредита:"
   ]
  },
  {
   "cell_type": "code",
   "execution_count": 53,
   "id": "67504c99",
   "metadata": {},
   "outputs": [
    {
     "data": {
      "text/html": [
       "<div>\n",
       "<style scoped>\n",
       "    .dataframe tbody tr th:only-of-type {\n",
       "        vertical-align: middle;\n",
       "    }\n",
       "\n",
       "    .dataframe tbody tr th {\n",
       "        vertical-align: top;\n",
       "    }\n",
       "\n",
       "    .dataframe thead th {\n",
       "        text-align: right;\n",
       "    }\n",
       "</style>\n",
       "<table border=\"1\" class=\"dataframe\">\n",
       "  <thead>\n",
       "    <tr style=\"text-align: right;\">\n",
       "      <th>debt</th>\n",
       "      <th>0</th>\n",
       "      <th>1</th>\n",
       "    </tr>\n",
       "    <tr>\n",
       "      <th>purpose_category</th>\n",
       "      <th></th>\n",
       "      <th></th>\n",
       "    </tr>\n",
       "  </thead>\n",
       "  <tbody>\n",
       "    <tr>\n",
       "      <th>операции с автомобилем</th>\n",
       "      <td>3903</td>\n",
       "      <td>403</td>\n",
       "    </tr>\n",
       "    <tr>\n",
       "      <th>операции с недвижимостью</th>\n",
       "      <td>10029</td>\n",
       "      <td>782</td>\n",
       "    </tr>\n",
       "    <tr>\n",
       "      <th>получение образования</th>\n",
       "      <td>3643</td>\n",
       "      <td>370</td>\n",
       "    </tr>\n",
       "    <tr>\n",
       "      <th>проведение свадьбы</th>\n",
       "      <td>2137</td>\n",
       "      <td>186</td>\n",
       "    </tr>\n",
       "  </tbody>\n",
       "</table>\n",
       "</div>"
      ],
      "text/plain": [
       "debt                          0    1\n",
       "purpose_category                    \n",
       "операции с автомобилем     3903  403\n",
       "операции с недвижимостью  10029  782\n",
       "получение образования      3643  370\n",
       "проведение свадьбы         2137  186"
      ]
     },
     "execution_count": 53,
     "metadata": {},
     "output_type": "execute_result"
    }
   ],
   "source": [
    "data_pivot_4 = data.pivot_table(index='purpose_category', columns='debt', values='income_type', aggfunc='count')\n",
    "data_pivot_4.head(10)"
   ]
  },
  {
   "cell_type": "markdown",
   "id": "2b70f540",
   "metadata": {},
   "source": [
    "С помощью группировки и среднего найдём процент невовремя отданных кредитов в зависимости от целей кредита:"
   ]
  },
  {
   "cell_type": "code",
   "execution_count": 54,
   "id": "60ae140a",
   "metadata": {},
   "outputs": [
    {
     "data": {
      "text/plain": [
       "purpose_category\n",
       "операции с недвижимостью    7.2\n",
       "проведение свадьбы          8.0\n",
       "получение образования       9.2\n",
       "операции с автомобилем      9.4\n",
       "Name: debt, dtype: float64"
      ]
     },
     "execution_count": 54,
     "metadata": {},
     "output_type": "execute_result"
    }
   ],
   "source": [
    "data.groupby('purpose_category')['debt'].mean().sort_values().round(3)*100"
   ]
  },
  {
   "cell_type": "markdown",
   "id": "c1e289f2",
   "metadata": {},
   "source": [
    "Минимальный % фактов задолжности имеют операции с недвижимостью 7,2% от всех всзятых кредитов на данную цель, максимальный % фактов задолженности у операций с автомобилем - 9,4% от всех всзятых кредитов на данную цель."
   ]
  },
  {
   "cell_type": "markdown",
   "id": "f40bcf20",
   "metadata": {},
   "source": [
    "## Общий вывод:"
   ]
  },
  {
   "cell_type": "markdown",
   "id": "d43d28f3",
   "metadata": {},
   "source": [
    "**В ходе исследования была проведена следующая преобработка исходных данных:**\n",
    "\n",
    "* в столбцах days_employed и children исправлены отрицательные значения стажа и кол-ва детей;\n",
    "* найдены пропуски в столбцах days_employed и total_income и заменены на медианные значения в этих столбцах;\n",
    "* исправлена найденная аномалия в столбце 'children' - выполнена замена значений с 20 на 2;\n",
    "* изменины типы данных в столбцах total_income и days_employed с вещественного float64 на целочисленный int64;\n",
    "* удалены неявные дубликаты в столбцах education и family_status\n",
    "* и затем удалены явные дубликаты в таблице\n",
    "* выполнено создание таблиц-словарей с уникальными значениями пар education_id - education и family_status_id - family_status;\n",
    "* исходная таблица была декомпозирована, удалены столбцы education и family_status, по которым были созданы таблицы-словари;\n",
    "\n",
    "**Далее для выполнения целей исследования была прооведена:**\n",
    "\n",
    "* категоризация дохода - выделено 4 категории и создан столбец с категориями дохода total_income_category;\n",
    "* категоризация целей кредита - выделено 4 категории и создан столбец с категориями purpose_category;\n",
    "\n",
    "**По результатам исследования выявлена зависимость семейного положения и количества детей на факт погашения кредита в срок:**\n",
    "\n",
    "минимум фактов задолженности от всего кол-ва взятых кредитов имеют:\n",
    "* клиенты с семейным положением \"вдовец / вдова\" и \"женат / замужем\" (6,6% и 7,1%) \n",
    "* клиенты, не имеющие детей (до 8%);\n",
    "\n",
    "максимум фактов возникновния задолженности имеют:\n",
    "* клиенты со статусом семейного положения \"не женат / не замужем\" (9,8%) \n",
    "* клиенты, имеющих 1-2 детей (9-9,5%).\n"
   ]
  }
 ],
 "metadata": {
  "ExecuteTimeLog": [
   {
    "duration": 554,
    "start_time": "2022-03-06T05:44:43.075Z"
   },
   {
    "duration": 52,
    "start_time": "2022-03-06T05:45:17.563Z"
   },
   {
    "duration": 50,
    "start_time": "2022-03-06T06:23:10.778Z"
   },
   {
    "duration": 307,
    "start_time": "2022-03-06T06:31:44.540Z"
   },
   {
    "duration": 56,
    "start_time": "2022-03-06T06:31:56.119Z"
   },
   {
    "duration": 49,
    "start_time": "2022-03-06T06:33:12.792Z"
   },
   {
    "duration": 50,
    "start_time": "2022-03-06T06:36:12.388Z"
   },
   {
    "duration": 54,
    "start_time": "2022-03-06T06:38:13.469Z"
   },
   {
    "duration": 13,
    "start_time": "2022-03-06T06:39:09.908Z"
   },
   {
    "duration": 52,
    "start_time": "2022-03-06T06:39:39.980Z"
   },
   {
    "duration": 11,
    "start_time": "2022-03-06T06:39:43.524Z"
   },
   {
    "duration": 11,
    "start_time": "2022-03-06T06:39:56.404Z"
   },
   {
    "duration": 51,
    "start_time": "2022-03-06T06:40:56.108Z"
   },
   {
    "duration": 58,
    "start_time": "2022-03-06T06:43:06.926Z"
   },
   {
    "duration": 14,
    "start_time": "2022-03-06T06:43:13.502Z"
   },
   {
    "duration": 13,
    "start_time": "2022-03-06T06:43:58.031Z"
   },
   {
    "duration": 13,
    "start_time": "2022-03-06T06:45:01.553Z"
   },
   {
    "duration": 13,
    "start_time": "2022-03-06T06:46:34.869Z"
   },
   {
    "duration": 64,
    "start_time": "2022-03-06T06:48:41.499Z"
   },
   {
    "duration": 186,
    "start_time": "2022-03-06T07:05:00.780Z"
   },
   {
    "duration": 3,
    "start_time": "2022-03-06T07:05:19.464Z"
   },
   {
    "duration": 4,
    "start_time": "2022-03-06T07:05:21.119Z"
   },
   {
    "duration": 5,
    "start_time": "2022-03-06T07:05:33.648Z"
   },
   {
    "duration": 3,
    "start_time": "2022-03-06T07:06:07.929Z"
   },
   {
    "duration": 4,
    "start_time": "2022-03-06T07:06:59.712Z"
   },
   {
    "duration": 5,
    "start_time": "2022-03-06T07:07:40.897Z"
   },
   {
    "duration": 5,
    "start_time": "2022-03-06T07:11:35.292Z"
   },
   {
    "duration": 2402,
    "start_time": "2022-03-06T07:16:38.366Z"
   },
   {
    "duration": 2395,
    "start_time": "2022-03-06T07:16:55.699Z"
   },
   {
    "duration": 2401,
    "start_time": "2022-03-06T07:17:18.517Z"
   },
   {
    "duration": 4198,
    "start_time": "2022-03-06T07:17:32.512Z"
   },
   {
    "duration": 50,
    "start_time": "2022-03-06T07:17:51.263Z"
   },
   {
    "duration": 2410,
    "start_time": "2022-03-06T07:18:00.798Z"
   },
   {
    "duration": 4116,
    "start_time": "2022-03-06T07:18:35.872Z"
   },
   {
    "duration": 4086,
    "start_time": "2022-03-06T07:19:33.730Z"
   },
   {
    "duration": 2404,
    "start_time": "2022-03-06T07:19:53.179Z"
   },
   {
    "duration": 4162,
    "start_time": "2022-03-06T07:20:15.474Z"
   },
   {
    "duration": 5,
    "start_time": "2022-03-06T07:20:45.515Z"
   },
   {
    "duration": 5,
    "start_time": "2022-03-06T07:21:42.563Z"
   },
   {
    "duration": 5,
    "start_time": "2022-03-06T07:23:11.068Z"
   },
   {
    "duration": 5,
    "start_time": "2022-03-06T07:23:52.741Z"
   },
   {
    "duration": 6,
    "start_time": "2022-03-06T07:25:31.182Z"
   },
   {
    "duration": 7,
    "start_time": "2022-03-06T07:26:42.727Z"
   },
   {
    "duration": 64,
    "start_time": "2022-03-06T07:27:38.728Z"
   },
   {
    "duration": 7,
    "start_time": "2022-03-06T07:27:46.671Z"
   },
   {
    "duration": 5,
    "start_time": "2022-03-06T07:27:54.616Z"
   },
   {
    "duration": 5,
    "start_time": "2022-03-06T07:28:00.856Z"
   },
   {
    "duration": 5,
    "start_time": "2022-03-06T07:28:29.752Z"
   },
   {
    "duration": 65,
    "start_time": "2022-03-06T07:51:16.835Z"
   },
   {
    "duration": 4,
    "start_time": "2022-03-06T08:18:23.730Z"
   },
   {
    "duration": 5,
    "start_time": "2022-03-06T08:18:49.427Z"
   },
   {
    "duration": 6,
    "start_time": "2022-03-06T08:19:04.116Z"
   },
   {
    "duration": 6,
    "start_time": "2022-03-06T08:20:18.781Z"
   },
   {
    "duration": 7,
    "start_time": "2022-03-06T08:20:33.652Z"
   },
   {
    "duration": 6,
    "start_time": "2022-03-06T08:21:00.773Z"
   },
   {
    "duration": 6,
    "start_time": "2022-03-06T08:21:12.256Z"
   },
   {
    "duration": 5,
    "start_time": "2022-03-06T08:21:23.518Z"
   },
   {
    "duration": 68,
    "start_time": "2022-03-06T08:32:08.366Z"
   },
   {
    "duration": 63,
    "start_time": "2022-03-06T08:32:21.110Z"
   },
   {
    "duration": 190,
    "start_time": "2022-03-06T08:32:39.310Z"
   },
   {
    "duration": 9,
    "start_time": "2022-03-06T08:33:00.599Z"
   },
   {
    "duration": 8,
    "start_time": "2022-03-06T08:33:14.371Z"
   },
   {
    "duration": 2508,
    "start_time": "2022-03-06T08:33:33.507Z"
   },
   {
    "duration": 4380,
    "start_time": "2022-03-06T08:34:01.488Z"
   },
   {
    "duration": 2133,
    "start_time": "2022-03-06T08:34:10.709Z"
   },
   {
    "duration": 4429,
    "start_time": "2022-03-06T08:34:14.006Z"
   },
   {
    "duration": 2500,
    "start_time": "2022-03-06T08:34:15.937Z"
   },
   {
    "duration": 171,
    "start_time": "2022-03-06T08:35:23.962Z"
   },
   {
    "duration": 9,
    "start_time": "2022-03-06T08:35:52.138Z"
   },
   {
    "duration": 7,
    "start_time": "2022-03-06T08:36:02.482Z"
   },
   {
    "duration": 2504,
    "start_time": "2022-03-06T08:36:30.301Z"
   },
   {
    "duration": 4362,
    "start_time": "2022-03-06T08:36:44.409Z"
   },
   {
    "duration": 4449,
    "start_time": "2022-03-06T08:36:57.172Z"
   },
   {
    "duration": 7,
    "start_time": "2022-03-06T08:37:15.610Z"
   },
   {
    "duration": 6,
    "start_time": "2022-03-06T08:37:28.809Z"
   },
   {
    "duration": 6,
    "start_time": "2022-03-06T08:37:58.922Z"
   },
   {
    "duration": 6,
    "start_time": "2022-03-06T08:38:09.580Z"
   },
   {
    "duration": 12,
    "start_time": "2022-03-06T09:10:12.282Z"
   },
   {
    "duration": 319,
    "start_time": "2022-03-07T10:15:06.588Z"
   },
   {
    "duration": 295,
    "start_time": "2022-03-07T10:15:16.135Z"
   },
   {
    "duration": 624,
    "start_time": "2022-03-07T10:15:31.967Z"
   },
   {
    "duration": 11,
    "start_time": "2022-03-07T10:15:32.593Z"
   },
   {
    "duration": 12,
    "start_time": "2022-03-07T10:15:32.606Z"
   },
   {
    "duration": 12,
    "start_time": "2022-03-07T10:15:32.619Z"
   },
   {
    "duration": 6,
    "start_time": "2022-03-07T10:15:32.632Z"
   },
   {
    "duration": 5,
    "start_time": "2022-03-07T10:15:32.639Z"
   },
   {
    "duration": 89,
    "start_time": "2022-03-07T10:15:32.646Z"
   },
   {
    "duration": 407,
    "start_time": "2022-03-07T10:15:32.330Z"
   },
   {
    "duration": 404,
    "start_time": "2022-03-07T10:15:32.334Z"
   },
   {
    "duration": 400,
    "start_time": "2022-03-07T10:15:32.339Z"
   },
   {
    "duration": 55,
    "start_time": "2022-03-07T10:15:51.863Z"
   },
   {
    "duration": 9,
    "start_time": "2022-03-07T10:15:51.919Z"
   },
   {
    "duration": 10,
    "start_time": "2022-03-07T10:15:51.930Z"
   },
   {
    "duration": 11,
    "start_time": "2022-03-07T10:15:51.942Z"
   },
   {
    "duration": 5,
    "start_time": "2022-03-07T10:15:51.954Z"
   },
   {
    "duration": 8,
    "start_time": "2022-03-07T10:15:51.960Z"
   },
   {
    "duration": 32,
    "start_time": "2022-03-07T10:15:51.969Z"
   },
   {
    "duration": 11,
    "start_time": "2022-03-07T10:15:52.003Z"
   },
   {
    "duration": 11,
    "start_time": "2022-03-07T10:15:52.015Z"
   },
   {
    "duration": 12,
    "start_time": "2022-03-07T10:16:51.048Z"
   },
   {
    "duration": 7,
    "start_time": "2022-03-07T10:17:55.824Z"
   },
   {
    "duration": 10,
    "start_time": "2022-03-07T10:18:09.096Z"
   },
   {
    "duration": 11,
    "start_time": "2022-03-07T10:25:39.794Z"
   },
   {
    "duration": 10,
    "start_time": "2022-03-07T10:26:14.708Z"
   },
   {
    "duration": 11,
    "start_time": "2022-03-07T10:26:26.412Z"
   },
   {
    "duration": 10,
    "start_time": "2022-03-07T10:26:52.824Z"
   },
   {
    "duration": 14,
    "start_time": "2022-03-07T10:42:06.657Z"
   },
   {
    "duration": 109,
    "start_time": "2022-03-07T10:44:36.619Z"
   },
   {
    "duration": 14,
    "start_time": "2022-03-07T10:44:43.610Z"
   },
   {
    "duration": 5,
    "start_time": "2022-03-07T11:02:27.158Z"
   },
   {
    "duration": 117,
    "start_time": "2022-03-07T11:07:24.236Z"
   },
   {
    "duration": 3,
    "start_time": "2022-03-07T11:07:30.403Z"
   },
   {
    "duration": 3,
    "start_time": "2022-03-07T11:07:46.491Z"
   },
   {
    "duration": 4,
    "start_time": "2022-03-07T11:08:00.116Z"
   },
   {
    "duration": 5,
    "start_time": "2022-03-07T11:08:11.323Z"
   },
   {
    "duration": 301,
    "start_time": "2022-03-07T11:13:20.616Z"
   },
   {
    "duration": 282,
    "start_time": "2022-03-07T11:14:23.001Z"
   },
   {
    "duration": 4,
    "start_time": "2022-03-07T11:15:52.442Z"
   },
   {
    "duration": 22,
    "start_time": "2022-03-07T11:23:23.819Z"
   },
   {
    "duration": 26,
    "start_time": "2022-03-07T11:23:40.019Z"
   },
   {
    "duration": 6,
    "start_time": "2022-03-07T11:34:32.550Z"
   },
   {
    "duration": 5,
    "start_time": "2022-03-07T11:36:38.896Z"
   },
   {
    "duration": 4,
    "start_time": "2022-03-07T11:37:51.762Z"
   },
   {
    "duration": 6,
    "start_time": "2022-03-07T11:38:44.586Z"
   },
   {
    "duration": 303,
    "start_time": "2022-03-09T11:14:59.612Z"
   },
   {
    "duration": 276,
    "start_time": "2022-03-09T11:15:10.097Z"
   },
   {
    "duration": 678,
    "start_time": "2022-03-09T11:15:21.106Z"
   },
   {
    "duration": 12,
    "start_time": "2022-03-09T11:15:21.786Z"
   },
   {
    "duration": 13,
    "start_time": "2022-03-09T11:15:21.800Z"
   },
   {
    "duration": 13,
    "start_time": "2022-03-09T11:15:21.815Z"
   },
   {
    "duration": 6,
    "start_time": "2022-03-09T11:15:21.830Z"
   },
   {
    "duration": 8,
    "start_time": "2022-03-09T11:15:21.838Z"
   },
   {
    "duration": 6,
    "start_time": "2022-03-09T11:15:21.877Z"
   },
   {
    "duration": 15,
    "start_time": "2022-03-09T11:15:21.886Z"
   },
   {
    "duration": 14,
    "start_time": "2022-03-09T11:15:21.903Z"
   },
   {
    "duration": 11,
    "start_time": "2022-03-09T11:15:21.919Z"
   },
   {
    "duration": 15,
    "start_time": "2022-03-09T11:15:21.932Z"
   },
   {
    "duration": 17,
    "start_time": "2022-03-09T11:15:21.977Z"
   },
   {
    "duration": 29,
    "start_time": "2022-03-09T11:15:21.995Z"
   },
   {
    "duration": 6,
    "start_time": "2022-03-09T11:15:22.026Z"
   },
   {
    "duration": 44,
    "start_time": "2022-03-09T11:15:22.034Z"
   },
   {
    "duration": 8,
    "start_time": "2022-03-09T11:15:22.081Z"
   },
   {
    "duration": 7,
    "start_time": "2022-03-09T11:15:22.090Z"
   },
   {
    "duration": 12,
    "start_time": "2022-03-09T11:15:22.099Z"
   },
   {
    "duration": 7,
    "start_time": "2022-03-09T11:15:22.112Z"
   },
   {
    "duration": 17,
    "start_time": "2022-03-09T11:15:30.706Z"
   },
   {
    "duration": 26,
    "start_time": "2022-03-09T11:15:45.873Z"
   },
   {
    "duration": 19,
    "start_time": "2022-03-09T11:18:38.642Z"
   },
   {
    "duration": 83,
    "start_time": "2022-03-09T11:32:50.898Z"
   },
   {
    "duration": 9,
    "start_time": "2022-03-09T11:53:24.223Z"
   },
   {
    "duration": 8,
    "start_time": "2022-03-09T11:53:47.369Z"
   },
   {
    "duration": 5,
    "start_time": "2022-03-09T12:03:23.726Z"
   },
   {
    "duration": 291,
    "start_time": "2022-03-09T12:03:40.608Z"
   },
   {
    "duration": 267,
    "start_time": "2022-03-09T12:04:00.762Z"
   },
   {
    "duration": 318,
    "start_time": "2022-03-09T12:04:21.715Z"
   },
   {
    "duration": 250,
    "start_time": "2022-03-09T12:05:15.108Z"
   },
   {
    "duration": 5,
    "start_time": "2022-03-09T12:10:57.407Z"
   },
   {
    "duration": 5,
    "start_time": "2022-03-09T12:11:11.503Z"
   },
   {
    "duration": 260,
    "start_time": "2022-03-09T12:12:19.688Z"
   },
   {
    "duration": 678,
    "start_time": "2022-03-11T21:54:00.596Z"
   },
   {
    "duration": 9,
    "start_time": "2022-03-11T21:54:01.276Z"
   },
   {
    "duration": 11,
    "start_time": "2022-03-11T21:54:01.287Z"
   },
   {
    "duration": 13,
    "start_time": "2022-03-11T21:54:01.299Z"
   },
   {
    "duration": 6,
    "start_time": "2022-03-11T21:54:01.314Z"
   },
   {
    "duration": 8,
    "start_time": "2022-03-11T21:54:01.321Z"
   },
   {
    "duration": 16,
    "start_time": "2022-03-11T21:54:01.330Z"
   },
   {
    "duration": 11,
    "start_time": "2022-03-11T21:54:01.348Z"
   },
   {
    "duration": 13,
    "start_time": "2022-03-11T21:54:01.362Z"
   },
   {
    "duration": 9,
    "start_time": "2022-03-11T21:54:01.376Z"
   },
   {
    "duration": 22,
    "start_time": "2022-03-11T21:54:01.386Z"
   },
   {
    "duration": 13,
    "start_time": "2022-03-11T21:54:01.409Z"
   },
   {
    "duration": 21,
    "start_time": "2022-03-11T21:54:01.423Z"
   },
   {
    "duration": 120,
    "start_time": "2022-03-11T21:54:01.446Z"
   },
   {
    "duration": 1956,
    "start_time": "2022-03-11T21:53:59.612Z"
   },
   {
    "duration": 1952,
    "start_time": "2022-03-11T21:53:59.617Z"
   },
   {
    "duration": 1938,
    "start_time": "2022-03-11T21:53:59.631Z"
   },
   {
    "duration": 1935,
    "start_time": "2022-03-11T21:53:59.635Z"
   },
   {
    "duration": 1931,
    "start_time": "2022-03-11T21:53:59.640Z"
   },
   {
    "duration": 1928,
    "start_time": "2022-03-11T21:53:59.643Z"
   },
   {
    "duration": 1926,
    "start_time": "2022-03-11T21:53:59.646Z"
   },
   {
    "duration": 1925,
    "start_time": "2022-03-11T21:53:59.648Z"
   },
   {
    "duration": 1922,
    "start_time": "2022-03-11T21:53:59.652Z"
   },
   {
    "duration": 1920,
    "start_time": "2022-03-11T21:53:59.655Z"
   },
   {
    "duration": 9,
    "start_time": "2022-03-11T21:59:15.226Z"
   },
   {
    "duration": 7,
    "start_time": "2022-03-11T21:59:31.131Z"
   },
   {
    "duration": 13,
    "start_time": "2022-03-11T22:00:17.460Z"
   },
   {
    "duration": 13,
    "start_time": "2022-03-11T22:00:55.505Z"
   },
   {
    "duration": 12,
    "start_time": "2022-03-11T22:01:51.103Z"
   },
   {
    "duration": 4,
    "start_time": "2022-03-11T22:20:34.826Z"
   },
   {
    "duration": 4,
    "start_time": "2022-03-11T22:27:51.772Z"
   },
   {
    "duration": 12,
    "start_time": "2022-03-11T22:30:50.758Z"
   },
   {
    "duration": 19,
    "start_time": "2022-03-11T22:41:49.011Z"
   },
   {
    "duration": 5,
    "start_time": "2022-03-11T23:03:23.356Z"
   },
   {
    "duration": 5,
    "start_time": "2022-03-11T23:03:25.471Z"
   },
   {
    "duration": 6,
    "start_time": "2022-03-11T23:03:28.254Z"
   },
   {
    "duration": 571,
    "start_time": "2022-03-11T23:39:39.792Z"
   },
   {
    "duration": 4,
    "start_time": "2022-03-11T23:39:53.511Z"
   },
   {
    "duration": 3,
    "start_time": "2022-03-11T23:40:08.035Z"
   },
   {
    "duration": 4,
    "start_time": "2022-03-11T23:40:42.333Z"
   },
   {
    "duration": 4,
    "start_time": "2022-03-11T23:49:05.276Z"
   },
   {
    "duration": 3,
    "start_time": "2022-03-11T23:49:18.042Z"
   },
   {
    "duration": 5,
    "start_time": "2022-03-11T23:49:39.858Z"
   },
   {
    "duration": 4,
    "start_time": "2022-03-11T23:49:53.553Z"
   },
   {
    "duration": 4,
    "start_time": "2022-03-11T23:50:17.149Z"
   },
   {
    "duration": 4,
    "start_time": "2022-03-11T23:50:37.947Z"
   },
   {
    "duration": 114,
    "start_time": "2022-03-11T23:50:52.588Z"
   },
   {
    "duration": 146,
    "start_time": "2022-03-11T23:50:55.779Z"
   },
   {
    "duration": 156,
    "start_time": "2022-03-11T23:52:04.013Z"
   },
   {
    "duration": 111,
    "start_time": "2022-03-11T23:52:23.453Z"
   },
   {
    "duration": 102,
    "start_time": "2022-03-11T23:53:03.764Z"
   },
   {
    "duration": 100,
    "start_time": "2022-03-11T23:55:29.422Z"
   },
   {
    "duration": 101,
    "start_time": "2022-03-11T23:55:53.543Z"
   },
   {
    "duration": 98,
    "start_time": "2022-03-11T23:56:07.407Z"
   },
   {
    "duration": 110,
    "start_time": "2022-03-11T23:56:25.162Z"
   },
   {
    "duration": 99,
    "start_time": "2022-03-11T23:56:40.416Z"
   },
   {
    "duration": 118,
    "start_time": "2022-03-11T23:56:43.615Z"
   },
   {
    "duration": 3,
    "start_time": "2022-03-12T00:03:18.812Z"
   },
   {
    "duration": 3,
    "start_time": "2022-03-12T00:03:21.412Z"
   },
   {
    "duration": 3,
    "start_time": "2022-03-12T00:03:24.578Z"
   },
   {
    "duration": 107,
    "start_time": "2022-03-12T00:03:26.015Z"
   },
   {
    "duration": 3,
    "start_time": "2022-03-12T00:03:30.351Z"
   },
   {
    "duration": 4,
    "start_time": "2022-03-12T00:04:06.485Z"
   },
   {
    "duration": 3,
    "start_time": "2022-03-12T00:04:18.381Z"
   },
   {
    "duration": 3,
    "start_time": "2022-03-12T00:04:46.757Z"
   },
   {
    "duration": 3,
    "start_time": "2022-03-12T00:05:02.126Z"
   },
   {
    "duration": 3,
    "start_time": "2022-03-12T00:05:21.327Z"
   },
   {
    "duration": 3,
    "start_time": "2022-03-12T00:05:38.726Z"
   },
   {
    "duration": 3,
    "start_time": "2022-03-12T00:05:40.886Z"
   },
   {
    "duration": 3,
    "start_time": "2022-03-12T00:05:46.190Z"
   },
   {
    "duration": 3,
    "start_time": "2022-03-12T00:06:00.174Z"
   },
   {
    "duration": 4,
    "start_time": "2022-03-12T00:09:40.769Z"
   },
   {
    "duration": 4,
    "start_time": "2022-03-12T00:12:19.723Z"
   },
   {
    "duration": 3,
    "start_time": "2022-03-12T00:12:30.283Z"
   },
   {
    "duration": 3,
    "start_time": "2022-03-12T00:12:42.167Z"
   },
   {
    "duration": 3,
    "start_time": "2022-03-12T00:13:06.659Z"
   },
   {
    "duration": 4,
    "start_time": "2022-03-12T00:14:02.227Z"
   },
   {
    "duration": 4,
    "start_time": "2022-03-12T00:15:32.517Z"
   },
   {
    "duration": 4,
    "start_time": "2022-03-12T00:15:56.429Z"
   },
   {
    "duration": 3,
    "start_time": "2022-03-12T00:16:50.942Z"
   },
   {
    "duration": 4,
    "start_time": "2022-03-12T00:17:21.934Z"
   },
   {
    "duration": 4,
    "start_time": "2022-03-12T00:17:46.182Z"
   },
   {
    "duration": 4,
    "start_time": "2022-03-12T00:18:08.615Z"
   },
   {
    "duration": 4,
    "start_time": "2022-03-12T00:18:59.014Z"
   },
   {
    "duration": 4,
    "start_time": "2022-03-12T00:19:12.343Z"
   },
   {
    "duration": 4,
    "start_time": "2022-03-12T00:19:29.832Z"
   },
   {
    "duration": 3,
    "start_time": "2022-03-12T00:25:31.576Z"
   },
   {
    "duration": 3,
    "start_time": "2022-03-12T00:25:39.312Z"
   },
   {
    "duration": 4,
    "start_time": "2022-03-12T00:27:55.263Z"
   },
   {
    "duration": 3,
    "start_time": "2022-03-12T00:28:18.115Z"
   },
   {
    "duration": 3,
    "start_time": "2022-03-12T00:28:40.193Z"
   },
   {
    "duration": 3,
    "start_time": "2022-03-12T00:28:54.794Z"
   },
   {
    "duration": 105,
    "start_time": "2022-03-12T00:32:17.262Z"
   },
   {
    "duration": 115,
    "start_time": "2022-03-12T00:34:10.167Z"
   },
   {
    "duration": 4,
    "start_time": "2022-03-12T00:41:53.292Z"
   },
   {
    "duration": 3,
    "start_time": "2022-03-12T00:42:34.845Z"
   },
   {
    "duration": 4,
    "start_time": "2022-03-12T00:43:02.493Z"
   },
   {
    "duration": 3,
    "start_time": "2022-03-12T00:43:43.166Z"
   },
   {
    "duration": 3,
    "start_time": "2022-03-12T00:43:56.686Z"
   },
   {
    "duration": 4,
    "start_time": "2022-03-12T00:44:12.764Z"
   },
   {
    "duration": 4,
    "start_time": "2022-03-12T00:49:29.342Z"
   },
   {
    "duration": 4,
    "start_time": "2022-03-12T00:50:06.241Z"
   },
   {
    "duration": 4,
    "start_time": "2022-03-12T01:36:18.893Z"
   },
   {
    "duration": 3,
    "start_time": "2022-03-12T01:37:01.354Z"
   },
   {
    "duration": 4,
    "start_time": "2022-03-12T01:37:46.557Z"
   },
   {
    "duration": 108,
    "start_time": "2022-03-12T01:42:46.502Z"
   },
   {
    "duration": 4,
    "start_time": "2022-03-12T01:42:55.456Z"
   },
   {
    "duration": 103,
    "start_time": "2022-03-12T01:46:16.329Z"
   },
   {
    "duration": 107,
    "start_time": "2022-03-12T01:47:41.908Z"
   },
   {
    "duration": 3,
    "start_time": "2022-03-12T01:47:53.406Z"
   },
   {
    "duration": 3,
    "start_time": "2022-03-12T01:48:10.973Z"
   },
   {
    "duration": 3,
    "start_time": "2022-03-12T01:48:55.942Z"
   },
   {
    "duration": 99,
    "start_time": "2022-03-12T01:52:16.696Z"
   },
   {
    "duration": 4,
    "start_time": "2022-03-12T01:52:23.688Z"
   },
   {
    "duration": 4,
    "start_time": "2022-03-12T01:55:34.737Z"
   },
   {
    "duration": 4,
    "start_time": "2022-03-12T01:59:09.611Z"
   },
   {
    "duration": 3,
    "start_time": "2022-03-12T02:07:46.724Z"
   },
   {
    "duration": 4,
    "start_time": "2022-03-12T02:11:00.210Z"
   },
   {
    "duration": 4,
    "start_time": "2022-03-12T02:12:04.815Z"
   },
   {
    "duration": 4,
    "start_time": "2022-03-12T02:12:31.175Z"
   },
   {
    "duration": 3,
    "start_time": "2022-03-12T02:12:47.312Z"
   },
   {
    "duration": 4,
    "start_time": "2022-03-12T02:15:44.386Z"
   },
   {
    "duration": 299,
    "start_time": "2022-03-12T02:18:03.960Z"
   },
   {
    "duration": 28,
    "start_time": "2022-03-12T02:18:11.167Z"
   },
   {
    "duration": 5,
    "start_time": "2022-03-12T02:41:43.233Z"
   },
   {
    "duration": 5,
    "start_time": "2022-03-12T02:53:51.358Z"
   },
   {
    "duration": 4,
    "start_time": "2022-03-12T02:54:58.455Z"
   },
   {
    "duration": 338,
    "start_time": "2022-03-12T02:55:26.856Z"
   },
   {
    "duration": 316,
    "start_time": "2022-03-12T02:55:39.400Z"
   },
   {
    "duration": 96,
    "start_time": "2022-03-12T02:55:46.073Z"
   },
   {
    "duration": 5,
    "start_time": "2022-03-12T02:55:49.463Z"
   },
   {
    "duration": 871,
    "start_time": "2022-03-13T03:30:08.885Z"
   },
   {
    "duration": 15,
    "start_time": "2022-03-13T03:30:09.759Z"
   },
   {
    "duration": 21,
    "start_time": "2022-03-13T03:30:09.777Z"
   },
   {
    "duration": 49,
    "start_time": "2022-03-13T03:30:09.801Z"
   },
   {
    "duration": 9,
    "start_time": "2022-03-13T03:30:09.853Z"
   },
   {
    "duration": 7,
    "start_time": "2022-03-13T03:30:09.865Z"
   },
   {
    "duration": 9,
    "start_time": "2022-03-13T03:30:09.875Z"
   },
   {
    "duration": 16,
    "start_time": "2022-03-13T03:30:09.932Z"
   },
   {
    "duration": 19,
    "start_time": "2022-03-13T03:30:09.952Z"
   },
   {
    "duration": 16,
    "start_time": "2022-03-13T03:30:09.974Z"
   },
   {
    "duration": 53,
    "start_time": "2022-03-13T03:30:09.992Z"
   },
   {
    "duration": 23,
    "start_time": "2022-03-13T03:30:10.048Z"
   },
   {
    "duration": 63,
    "start_time": "2022-03-13T03:30:10.074Z"
   },
   {
    "duration": 7,
    "start_time": "2022-03-13T03:30:10.140Z"
   },
   {
    "duration": 21,
    "start_time": "2022-03-13T03:30:10.150Z"
   },
   {
    "duration": 8,
    "start_time": "2022-03-13T03:30:10.173Z"
   },
   {
    "duration": 62,
    "start_time": "2022-03-13T03:30:10.184Z"
   },
   {
    "duration": 6,
    "start_time": "2022-03-13T03:30:10.249Z"
   },
   {
    "duration": 8,
    "start_time": "2022-03-13T03:30:10.258Z"
   },
   {
    "duration": 8,
    "start_time": "2022-03-13T03:30:10.269Z"
   },
   {
    "duration": 54,
    "start_time": "2022-03-13T03:30:10.280Z"
   },
   {
    "duration": 11,
    "start_time": "2022-03-13T03:30:10.336Z"
   },
   {
    "duration": 11,
    "start_time": "2022-03-13T03:30:10.352Z"
   },
   {
    "duration": 16,
    "start_time": "2022-03-13T03:30:10.365Z"
   },
   {
    "duration": 4,
    "start_time": "2022-03-13T03:30:10.384Z"
   },
   {
    "duration": 74,
    "start_time": "2022-03-13T03:30:10.390Z"
   },
   {
    "duration": 6,
    "start_time": "2022-03-13T03:30:10.466Z"
   },
   {
    "duration": 77,
    "start_time": "2022-03-13T03:30:10.475Z"
   },
   {
    "duration": 8,
    "start_time": "2022-03-13T03:30:10.555Z"
   },
   {
    "duration": 6,
    "start_time": "2022-03-13T03:32:51.305Z"
   },
   {
    "duration": 18,
    "start_time": "2022-03-13T03:33:56.093Z"
   },
   {
    "duration": 7,
    "start_time": "2022-03-13T03:34:27.294Z"
   },
   {
    "duration": 6,
    "start_time": "2022-03-13T03:34:51.900Z"
   },
   {
    "duration": 7,
    "start_time": "2022-03-13T05:24:51.658Z"
   },
   {
    "duration": 8,
    "start_time": "2022-03-13T05:25:24.426Z"
   },
   {
    "duration": 397,
    "start_time": "2022-03-13T05:52:20.988Z"
   },
   {
    "duration": 359,
    "start_time": "2022-03-13T05:52:27.712Z"
   },
   {
    "duration": 102,
    "start_time": "2022-03-13T06:11:18.447Z"
   },
   {
    "duration": 9,
    "start_time": "2022-03-13T06:11:32.607Z"
   },
   {
    "duration": 343,
    "start_time": "2022-03-13T06:21:37.775Z"
   },
   {
    "duration": 29,
    "start_time": "2022-03-13T06:21:46.793Z"
   },
   {
    "duration": 27,
    "start_time": "2022-03-13T06:22:33.820Z"
   },
   {
    "duration": 2556,
    "start_time": "2022-03-13T06:25:55.377Z"
   },
   {
    "duration": 28,
    "start_time": "2022-03-13T06:26:10.634Z"
   },
   {
    "duration": 2554,
    "start_time": "2022-03-13T06:26:59.082Z"
   },
   {
    "duration": 2554,
    "start_time": "2022-03-13T06:27:09.934Z"
   },
   {
    "duration": 28,
    "start_time": "2022-03-13T06:27:21.530Z"
   },
   {
    "duration": 10,
    "start_time": "2022-03-13T06:33:00.368Z"
   },
   {
    "duration": 9,
    "start_time": "2022-03-13T06:33:05.414Z"
   },
   {
    "duration": 9,
    "start_time": "2022-03-13T06:33:13.622Z"
   },
   {
    "duration": 59,
    "start_time": "2022-03-13T06:35:01.457Z"
   },
   {
    "duration": 740,
    "start_time": "2022-03-13T06:40:21.092Z"
   },
   {
    "duration": 14,
    "start_time": "2022-03-13T07:03:41.409Z"
   },
   {
    "duration": 36,
    "start_time": "2022-03-13T07:13:09.206Z"
   },
   {
    "duration": 386,
    "start_time": "2022-03-13T07:16:04.746Z"
   },
   {
    "duration": 360,
    "start_time": "2022-03-13T07:16:14.081Z"
   },
   {
    "duration": 372,
    "start_time": "2022-03-13T07:16:22.143Z"
   },
   {
    "duration": 26,
    "start_time": "2022-03-13T07:16:52.391Z"
   },
   {
    "duration": 364,
    "start_time": "2022-03-13T07:18:24.305Z"
   },
   {
    "duration": 310,
    "start_time": "2022-03-13T07:18:49.304Z"
   },
   {
    "duration": 31,
    "start_time": "2022-03-13T07:19:56.353Z"
   },
   {
    "duration": 320,
    "start_time": "2022-03-13T07:21:59.461Z"
   },
   {
    "duration": 317,
    "start_time": "2022-03-13T07:22:12.419Z"
   },
   {
    "duration": 318,
    "start_time": "2022-03-13T07:22:51.886Z"
   },
   {
    "duration": 320,
    "start_time": "2022-03-13T07:23:01.307Z"
   },
   {
    "duration": 318,
    "start_time": "2022-03-13T07:23:07.831Z"
   },
   {
    "duration": 2621,
    "start_time": "2022-03-13T07:23:05.531Z"
   },
   {
    "duration": 93,
    "start_time": "2022-03-13T07:23:11.182Z"
   },
   {
    "duration": 17,
    "start_time": "2022-03-13T07:23:11.278Z"
   },
   {
    "duration": 22,
    "start_time": "2022-03-13T07:23:11.334Z"
   },
   {
    "duration": 21,
    "start_time": "2022-03-13T07:23:11.359Z"
   },
   {
    "duration": 8,
    "start_time": "2022-03-13T07:23:11.383Z"
   },
   {
    "duration": 9,
    "start_time": "2022-03-13T07:23:11.434Z"
   },
   {
    "duration": 9,
    "start_time": "2022-03-13T07:23:11.446Z"
   },
   {
    "duration": 17,
    "start_time": "2022-03-13T07:23:11.461Z"
   },
   {
    "duration": 67,
    "start_time": "2022-03-13T07:23:11.482Z"
   },
   {
    "duration": 17,
    "start_time": "2022-03-13T07:23:11.553Z"
   },
   {
    "duration": 20,
    "start_time": "2022-03-13T07:23:11.573Z"
   },
   {
    "duration": 25,
    "start_time": "2022-03-13T07:23:11.633Z"
   },
   {
    "duration": 36,
    "start_time": "2022-03-13T07:23:11.661Z"
   },
   {
    "duration": 38,
    "start_time": "2022-03-13T07:23:11.700Z"
   },
   {
    "duration": 23,
    "start_time": "2022-03-13T07:23:11.741Z"
   },
   {
    "duration": 9,
    "start_time": "2022-03-13T07:23:11.768Z"
   },
   {
    "duration": 67,
    "start_time": "2022-03-13T07:23:11.779Z"
   },
   {
    "duration": 7,
    "start_time": "2022-03-13T07:23:11.848Z"
   },
   {
    "duration": 8,
    "start_time": "2022-03-13T07:23:11.857Z"
   },
   {
    "duration": 6,
    "start_time": "2022-03-13T07:23:11.867Z"
   },
   {
    "duration": 10,
    "start_time": "2022-03-13T07:23:11.875Z"
   },
   {
    "duration": 46,
    "start_time": "2022-03-13T07:23:11.887Z"
   },
   {
    "duration": 7,
    "start_time": "2022-03-13T07:23:11.938Z"
   },
   {
    "duration": 11,
    "start_time": "2022-03-13T07:23:11.948Z"
   },
   {
    "duration": 11,
    "start_time": "2022-03-13T07:23:11.961Z"
   },
   {
    "duration": 62,
    "start_time": "2022-03-13T07:23:11.974Z"
   },
   {
    "duration": 10,
    "start_time": "2022-03-13T07:23:12.039Z"
   },
   {
    "duration": 41,
    "start_time": "2022-03-13T07:23:12.051Z"
   },
   {
    "duration": 6,
    "start_time": "2022-03-13T07:23:12.094Z"
   },
   {
    "duration": 69,
    "start_time": "2022-03-13T07:23:12.102Z"
   },
   {
    "duration": 6,
    "start_time": "2022-03-13T07:23:12.173Z"
   },
   {
    "duration": 21,
    "start_time": "2022-03-13T07:23:12.181Z"
   },
   {
    "duration": 50,
    "start_time": "2022-03-13T07:23:12.205Z"
   },
   {
    "duration": 8,
    "start_time": "2022-03-13T07:23:12.258Z"
   },
   {
    "duration": 11,
    "start_time": "2022-03-13T07:23:12.269Z"
   },
   {
    "duration": 58,
    "start_time": "2022-03-13T07:23:12.282Z"
   },
   {
    "duration": 315,
    "start_time": "2022-03-13T07:23:12.342Z"
   },
   {
    "duration": 367,
    "start_time": "2022-03-13T07:27:25.598Z"
   },
   {
    "duration": 992,
    "start_time": "2022-03-13T07:27:31.207Z"
   },
   {
    "duration": 15,
    "start_time": "2022-03-13T07:27:32.202Z"
   },
   {
    "duration": 29,
    "start_time": "2022-03-13T07:27:32.220Z"
   },
   {
    "duration": 19,
    "start_time": "2022-03-13T07:27:32.252Z"
   },
   {
    "duration": 9,
    "start_time": "2022-03-13T07:27:32.273Z"
   },
   {
    "duration": 51,
    "start_time": "2022-03-13T07:27:32.284Z"
   },
   {
    "duration": 9,
    "start_time": "2022-03-13T07:27:32.337Z"
   },
   {
    "duration": 15,
    "start_time": "2022-03-13T07:27:32.350Z"
   },
   {
    "duration": 19,
    "start_time": "2022-03-13T07:27:32.368Z"
   },
   {
    "duration": 54,
    "start_time": "2022-03-13T07:27:32.389Z"
   },
   {
    "duration": 17,
    "start_time": "2022-03-13T07:27:32.445Z"
   },
   {
    "duration": 22,
    "start_time": "2022-03-13T07:27:32.465Z"
   },
   {
    "duration": 71,
    "start_time": "2022-03-13T07:27:32.489Z"
   },
   {
    "duration": 7,
    "start_time": "2022-03-13T07:27:32.562Z"
   },
   {
    "duration": 24,
    "start_time": "2022-03-13T07:27:32.572Z"
   },
   {
    "duration": 36,
    "start_time": "2022-03-13T07:27:32.599Z"
   },
   {
    "duration": 29,
    "start_time": "2022-03-13T07:27:32.638Z"
   },
   {
    "duration": 9,
    "start_time": "2022-03-13T07:27:32.670Z"
   },
   {
    "duration": 52,
    "start_time": "2022-03-13T07:27:32.681Z"
   },
   {
    "duration": 6,
    "start_time": "2022-03-13T07:27:32.736Z"
   },
   {
    "duration": 11,
    "start_time": "2022-03-13T07:27:32.745Z"
   },
   {
    "duration": 6,
    "start_time": "2022-03-13T07:27:32.759Z"
   },
   {
    "duration": 8,
    "start_time": "2022-03-13T07:27:32.770Z"
   },
   {
    "duration": 59,
    "start_time": "2022-03-13T07:27:32.781Z"
   },
   {
    "duration": 11,
    "start_time": "2022-03-13T07:27:32.843Z"
   },
   {
    "duration": 17,
    "start_time": "2022-03-13T07:27:32.857Z"
   },
   {
    "duration": 4,
    "start_time": "2022-03-13T07:27:32.877Z"
   },
   {
    "duration": 73,
    "start_time": "2022-03-13T07:27:32.884Z"
   },
   {
    "duration": 6,
    "start_time": "2022-03-13T07:27:32.959Z"
   },
   {
    "duration": 67,
    "start_time": "2022-03-13T07:27:32.967Z"
   },
   {
    "duration": 7,
    "start_time": "2022-03-13T07:27:33.036Z"
   },
   {
    "duration": 11,
    "start_time": "2022-03-13T07:27:33.045Z"
   },
   {
    "duration": 31,
    "start_time": "2022-03-13T07:27:33.059Z"
   },
   {
    "duration": 45,
    "start_time": "2022-03-13T07:27:33.092Z"
   },
   {
    "duration": 11,
    "start_time": "2022-03-13T07:27:33.140Z"
   },
   {
    "duration": 878,
    "start_time": "2022-03-13T07:28:34.045Z"
   },
   {
    "duration": 15,
    "start_time": "2022-03-13T07:28:34.925Z"
   },
   {
    "duration": 18,
    "start_time": "2022-03-13T07:28:34.943Z"
   },
   {
    "duration": 18,
    "start_time": "2022-03-13T07:28:34.964Z"
   },
   {
    "duration": 7,
    "start_time": "2022-03-13T07:28:34.984Z"
   },
   {
    "duration": 8,
    "start_time": "2022-03-13T07:28:35.033Z"
   },
   {
    "duration": 9,
    "start_time": "2022-03-13T07:28:35.043Z"
   },
   {
    "duration": 15,
    "start_time": "2022-03-13T07:28:35.055Z"
   },
   {
    "duration": 18,
    "start_time": "2022-03-13T07:28:35.073Z"
   },
   {
    "duration": 17,
    "start_time": "2022-03-13T07:28:35.132Z"
   },
   {
    "duration": 17,
    "start_time": "2022-03-13T07:28:35.151Z"
   },
   {
    "duration": 21,
    "start_time": "2022-03-13T07:28:35.170Z"
   },
   {
    "duration": 72,
    "start_time": "2022-03-13T07:28:35.193Z"
   },
   {
    "duration": 7,
    "start_time": "2022-03-13T07:28:35.268Z"
   },
   {
    "duration": 26,
    "start_time": "2022-03-13T07:28:35.277Z"
   },
   {
    "duration": 7,
    "start_time": "2022-03-13T07:28:35.331Z"
   },
   {
    "duration": 24,
    "start_time": "2022-03-13T07:28:35.341Z"
   },
   {
    "duration": 7,
    "start_time": "2022-03-13T07:28:35.368Z"
   },
   {
    "duration": 8,
    "start_time": "2022-03-13T07:28:35.377Z"
   },
   {
    "duration": 49,
    "start_time": "2022-03-13T07:28:35.387Z"
   },
   {
    "duration": 15,
    "start_time": "2022-03-13T07:28:35.439Z"
   },
   {
    "duration": 6,
    "start_time": "2022-03-13T07:28:35.456Z"
   },
   {
    "duration": 7,
    "start_time": "2022-03-13T07:28:35.467Z"
   },
   {
    "duration": 11,
    "start_time": "2022-03-13T07:28:35.477Z"
   },
   {
    "duration": 12,
    "start_time": "2022-03-13T07:28:35.533Z"
   },
   {
    "duration": 19,
    "start_time": "2022-03-13T07:28:35.547Z"
   },
   {
    "duration": 6,
    "start_time": "2022-03-13T07:28:35.568Z"
   },
   {
    "duration": 69,
    "start_time": "2022-03-13T07:28:35.576Z"
   },
   {
    "duration": 5,
    "start_time": "2022-03-13T07:28:35.647Z"
   },
   {
    "duration": 52,
    "start_time": "2022-03-13T07:28:35.654Z"
   },
   {
    "duration": 25,
    "start_time": "2022-03-13T07:28:35.709Z"
   },
   {
    "duration": 10,
    "start_time": "2022-03-13T07:28:35.737Z"
   },
   {
    "duration": 32,
    "start_time": "2022-03-13T07:28:35.750Z"
   },
   {
    "duration": 55,
    "start_time": "2022-03-13T07:28:35.785Z"
   },
   {
    "duration": 12,
    "start_time": "2022-03-13T07:28:35.842Z"
   },
   {
    "duration": 973,
    "start_time": "2022-03-13T07:28:51.891Z"
   },
   {
    "duration": 15,
    "start_time": "2022-03-13T07:28:52.868Z"
   },
   {
    "duration": 46,
    "start_time": "2022-03-13T07:28:52.886Z"
   },
   {
    "duration": 27,
    "start_time": "2022-03-13T07:28:52.936Z"
   },
   {
    "duration": 7,
    "start_time": "2022-03-13T07:28:52.965Z"
   },
   {
    "duration": 10,
    "start_time": "2022-03-13T07:28:52.975Z"
   },
   {
    "duration": 7,
    "start_time": "2022-03-13T07:28:52.988Z"
   },
   {
    "duration": 21,
    "start_time": "2022-03-13T07:28:53.035Z"
   },
   {
    "duration": 44,
    "start_time": "2022-03-13T07:28:53.060Z"
   },
   {
    "duration": 36,
    "start_time": "2022-03-13T07:28:53.110Z"
   },
   {
    "duration": 25,
    "start_time": "2022-03-13T07:28:53.149Z"
   },
   {
    "duration": 59,
    "start_time": "2022-03-13T07:28:53.177Z"
   },
   {
    "duration": 35,
    "start_time": "2022-03-13T07:28:53.239Z"
   },
   {
    "duration": 7,
    "start_time": "2022-03-13T07:28:53.277Z"
   },
   {
    "duration": 59,
    "start_time": "2022-03-13T07:28:53.286Z"
   },
   {
    "duration": 7,
    "start_time": "2022-03-13T07:28:53.347Z"
   },
   {
    "duration": 27,
    "start_time": "2022-03-13T07:28:53.356Z"
   },
   {
    "duration": 46,
    "start_time": "2022-03-13T07:28:53.386Z"
   },
   {
    "duration": 6,
    "start_time": "2022-03-13T07:28:53.435Z"
   },
   {
    "duration": 7,
    "start_time": "2022-03-13T07:28:53.444Z"
   },
   {
    "duration": 8,
    "start_time": "2022-03-13T07:28:53.453Z"
   },
   {
    "duration": 6,
    "start_time": "2022-03-13T07:28:53.464Z"
   },
   {
    "duration": 62,
    "start_time": "2022-03-13T07:28:53.475Z"
   },
   {
    "duration": 11,
    "start_time": "2022-03-13T07:28:53.540Z"
   },
   {
    "duration": 13,
    "start_time": "2022-03-13T07:28:53.554Z"
   },
   {
    "duration": 67,
    "start_time": "2022-03-13T07:28:53.570Z"
   },
   {
    "duration": 9,
    "start_time": "2022-03-13T07:28:53.639Z"
   },
   {
    "duration": 36,
    "start_time": "2022-03-13T07:28:53.651Z"
   },
   {
    "duration": 6,
    "start_time": "2022-03-13T07:28:53.690Z"
   },
   {
    "duration": 74,
    "start_time": "2022-03-13T07:28:53.698Z"
   },
   {
    "duration": 6,
    "start_time": "2022-03-13T07:28:53.774Z"
   },
   {
    "duration": 13,
    "start_time": "2022-03-13T07:28:53.783Z"
   },
   {
    "duration": 54,
    "start_time": "2022-03-13T07:28:53.799Z"
   },
   {
    "duration": 21,
    "start_time": "2022-03-13T07:28:53.856Z"
   },
   {
    "duration": 13,
    "start_time": "2022-03-13T07:28:53.880Z"
   },
   {
    "duration": 53,
    "start_time": "2022-03-13T07:28:53.896Z"
   },
   {
    "duration": 474,
    "start_time": "2022-03-13T07:28:53.952Z"
   },
   {
    "duration": 78,
    "start_time": "2022-03-13T07:29:14.139Z"
   },
   {
    "duration": 24,
    "start_time": "2022-03-13T07:29:14.220Z"
   },
   {
    "duration": 19,
    "start_time": "2022-03-13T07:29:14.248Z"
   },
   {
    "duration": 25,
    "start_time": "2022-03-13T07:29:14.270Z"
   },
   {
    "duration": 10,
    "start_time": "2022-03-13T07:29:14.334Z"
   },
   {
    "duration": 10,
    "start_time": "2022-03-13T07:29:14.346Z"
   },
   {
    "duration": 10,
    "start_time": "2022-03-13T07:29:14.358Z"
   },
   {
    "duration": 18,
    "start_time": "2022-03-13T07:29:14.373Z"
   },
   {
    "duration": 20,
    "start_time": "2022-03-13T07:29:14.435Z"
   },
   {
    "duration": 16,
    "start_time": "2022-03-13T07:29:14.458Z"
   },
   {
    "duration": 54,
    "start_time": "2022-03-13T07:29:14.476Z"
   },
   {
    "duration": 71,
    "start_time": "2022-03-13T07:29:14.532Z"
   },
   {
    "duration": 46,
    "start_time": "2022-03-13T07:29:14.606Z"
   },
   {
    "duration": 7,
    "start_time": "2022-03-13T07:29:14.655Z"
   },
   {
    "duration": 25,
    "start_time": "2022-03-13T07:29:14.664Z"
   },
   {
    "duration": 9,
    "start_time": "2022-03-13T07:29:14.692Z"
   },
   {
    "duration": 50,
    "start_time": "2022-03-13T07:29:14.704Z"
   },
   {
    "duration": 8,
    "start_time": "2022-03-13T07:29:14.757Z"
   },
   {
    "duration": 10,
    "start_time": "2022-03-13T07:29:14.767Z"
   },
   {
    "duration": 8,
    "start_time": "2022-03-13T07:29:14.780Z"
   },
   {
    "duration": 9,
    "start_time": "2022-03-13T07:29:14.834Z"
   },
   {
    "duration": 9,
    "start_time": "2022-03-13T07:29:14.846Z"
   },
   {
    "duration": 29,
    "start_time": "2022-03-13T07:29:14.861Z"
   },
   {
    "duration": 45,
    "start_time": "2022-03-13T07:29:14.892Z"
   },
   {
    "duration": 30,
    "start_time": "2022-03-13T07:29:14.940Z"
   },
   {
    "duration": 38,
    "start_time": "2022-03-13T07:29:14.972Z"
   },
   {
    "duration": 21,
    "start_time": "2022-03-13T07:29:15.012Z"
   },
   {
    "duration": 43,
    "start_time": "2022-03-13T07:29:15.036Z"
   },
   {
    "duration": 6,
    "start_time": "2022-03-13T07:29:15.081Z"
   },
   {
    "duration": 86,
    "start_time": "2022-03-13T07:29:15.090Z"
   },
   {
    "duration": 6,
    "start_time": "2022-03-13T07:29:15.178Z"
   },
   {
    "duration": 14,
    "start_time": "2022-03-13T07:29:15.186Z"
   },
   {
    "duration": 54,
    "start_time": "2022-03-13T07:29:15.203Z"
   },
   {
    "duration": 10,
    "start_time": "2022-03-13T07:29:15.259Z"
   },
   {
    "duration": 19,
    "start_time": "2022-03-13T07:29:15.272Z"
   },
   {
    "duration": 70,
    "start_time": "2022-03-13T07:29:15.294Z"
   },
   {
    "duration": 80,
    "start_time": "2022-03-13T07:29:36.036Z"
   },
   {
    "duration": 15,
    "start_time": "2022-03-13T07:29:36.133Z"
   },
   {
    "duration": 19,
    "start_time": "2022-03-13T07:29:36.151Z"
   },
   {
    "duration": 18,
    "start_time": "2022-03-13T07:29:36.174Z"
   },
   {
    "duration": 9,
    "start_time": "2022-03-13T07:29:36.232Z"
   },
   {
    "duration": 10,
    "start_time": "2022-03-13T07:29:36.244Z"
   },
   {
    "duration": 8,
    "start_time": "2022-03-13T07:29:36.257Z"
   },
   {
    "duration": 18,
    "start_time": "2022-03-13T07:29:36.270Z"
   },
   {
    "duration": 20,
    "start_time": "2022-03-13T07:29:36.332Z"
   },
   {
    "duration": 18,
    "start_time": "2022-03-13T07:29:36.355Z"
   },
   {
    "duration": 56,
    "start_time": "2022-03-13T07:29:36.376Z"
   },
   {
    "duration": 23,
    "start_time": "2022-03-13T07:29:36.435Z"
   },
   {
    "duration": 34,
    "start_time": "2022-03-13T07:29:36.460Z"
   },
   {
    "duration": 7,
    "start_time": "2022-03-13T07:29:36.496Z"
   },
   {
    "duration": 21,
    "start_time": "2022-03-13T07:29:36.533Z"
   },
   {
    "duration": 7,
    "start_time": "2022-03-13T07:29:36.556Z"
   },
   {
    "duration": 24,
    "start_time": "2022-03-13T07:29:36.565Z"
   },
   {
    "duration": 44,
    "start_time": "2022-03-13T07:29:36.592Z"
   },
   {
    "duration": 10,
    "start_time": "2022-03-13T07:29:36.639Z"
   },
   {
    "duration": 6,
    "start_time": "2022-03-13T07:29:36.651Z"
   },
   {
    "duration": 10,
    "start_time": "2022-03-13T07:29:36.659Z"
   },
   {
    "duration": 5,
    "start_time": "2022-03-13T07:29:36.672Z"
   },
   {
    "duration": 55,
    "start_time": "2022-03-13T07:29:36.681Z"
   },
   {
    "duration": 12,
    "start_time": "2022-03-13T07:29:36.738Z"
   },
   {
    "duration": 12,
    "start_time": "2022-03-13T07:29:36.752Z"
   },
   {
    "duration": 17,
    "start_time": "2022-03-13T07:29:36.767Z"
   },
   {
    "duration": 5,
    "start_time": "2022-03-13T07:29:36.786Z"
   },
   {
    "duration": 36,
    "start_time": "2022-03-13T07:29:36.833Z"
   },
   {
    "duration": 7,
    "start_time": "2022-03-13T07:29:36.872Z"
   },
   {
    "duration": 74,
    "start_time": "2022-03-13T07:29:36.881Z"
   },
   {
    "duration": 5,
    "start_time": "2022-03-13T07:29:36.958Z"
   },
   {
    "duration": 11,
    "start_time": "2022-03-13T07:29:36.966Z"
   },
   {
    "duration": 58,
    "start_time": "2022-03-13T07:29:36.980Z"
   },
   {
    "duration": 11,
    "start_time": "2022-03-13T07:29:37.041Z"
   },
   {
    "duration": 13,
    "start_time": "2022-03-13T07:29:37.055Z"
   },
   {
    "duration": 73,
    "start_time": "2022-03-13T07:29:37.072Z"
   },
   {
    "duration": 2640,
    "start_time": "2022-03-13T07:33:43.306Z"
   },
   {
    "duration": 11,
    "start_time": "2022-03-13T07:33:48.992Z"
   },
   {
    "duration": 87,
    "start_time": "2022-03-13T07:36:03.099Z"
   },
   {
    "duration": 14,
    "start_time": "2022-03-13T07:36:20.911Z"
   },
   {
    "duration": 20,
    "start_time": "2022-03-13T07:36:32.032Z"
   },
   {
    "duration": 28,
    "start_time": "2022-03-13T07:37:50.688Z"
   },
   {
    "duration": 350,
    "start_time": "2022-03-13T07:41:57.233Z"
   },
   {
    "duration": 324,
    "start_time": "2022-03-13T07:42:19.256Z"
   },
   {
    "duration": 320,
    "start_time": "2022-03-13T07:42:35.386Z"
   },
   {
    "duration": 373,
    "start_time": "2022-03-13T07:42:43.371Z"
   },
   {
    "duration": 16,
    "start_time": "2022-03-13T07:42:58.611Z"
   },
   {
    "duration": 14,
    "start_time": "2022-03-13T07:43:01.561Z"
   },
   {
    "duration": 24,
    "start_time": "2022-03-13T07:43:08.379Z"
   },
   {
    "duration": 17,
    "start_time": "2022-03-13T07:44:05.989Z"
   },
   {
    "duration": 17,
    "start_time": "2022-03-13T07:45:07.076Z"
   },
   {
    "duration": 14,
    "start_time": "2022-03-13T07:45:16.691Z"
   },
   {
    "duration": 26,
    "start_time": "2022-03-13T07:45:30.391Z"
   },
   {
    "duration": 18,
    "start_time": "2022-03-13T07:47:43.927Z"
   },
   {
    "duration": 17,
    "start_time": "2022-03-13T07:47:55.670Z"
   },
   {
    "duration": 24,
    "start_time": "2022-03-13T07:48:44.543Z"
   },
   {
    "duration": 348,
    "start_time": "2022-03-13T07:50:00.946Z"
   },
   {
    "duration": 336,
    "start_time": "2022-03-13T07:50:18.296Z"
   },
   {
    "duration": 22,
    "start_time": "2022-03-13T07:50:28.337Z"
   },
   {
    "duration": 25,
    "start_time": "2022-03-13T07:51:02.849Z"
   },
   {
    "duration": 324,
    "start_time": "2022-03-13T07:52:02.082Z"
   },
   {
    "duration": 328,
    "start_time": "2022-03-13T07:52:14.402Z"
   },
   {
    "duration": 327,
    "start_time": "2022-03-13T07:52:19.569Z"
   },
   {
    "duration": 18,
    "start_time": "2022-03-13T07:52:24.418Z"
   },
   {
    "duration": 25,
    "start_time": "2022-03-13T07:52:55.187Z"
   },
   {
    "duration": 349,
    "start_time": "2022-03-13T07:53:18.661Z"
   },
   {
    "duration": 340,
    "start_time": "2022-03-13T07:53:33.099Z"
   },
   {
    "duration": 26,
    "start_time": "2022-03-13T07:53:38.163Z"
   },
   {
    "duration": 363,
    "start_time": "2022-03-13T07:54:11.172Z"
   },
   {
    "duration": 26,
    "start_time": "2022-03-13T07:54:17.115Z"
   },
   {
    "duration": 44,
    "start_time": "2022-03-13T07:55:01.828Z"
   },
   {
    "duration": 46,
    "start_time": "2022-03-13T07:55:41.975Z"
   },
   {
    "duration": 355,
    "start_time": "2022-03-13T07:58:35.679Z"
   },
   {
    "duration": 44,
    "start_time": "2022-03-13T07:58:49.264Z"
   },
   {
    "duration": 43,
    "start_time": "2022-03-13T08:06:40.149Z"
   },
   {
    "duration": 30,
    "start_time": "2022-03-13T08:08:58.471Z"
   },
   {
    "duration": 40,
    "start_time": "2022-03-13T08:09:05.982Z"
   },
   {
    "duration": 305,
    "start_time": "2022-03-13T08:09:42.855Z"
   },
   {
    "duration": 339,
    "start_time": "2022-03-13T08:09:55.230Z"
   },
   {
    "duration": 17,
    "start_time": "2022-03-13T08:09:59.119Z"
   },
   {
    "duration": 327,
    "start_time": "2022-03-13T08:11:51.513Z"
   },
   {
    "duration": 10,
    "start_time": "2022-03-13T08:15:51.084Z"
   },
   {
    "duration": 8,
    "start_time": "2022-03-13T08:15:53.499Z"
   },
   {
    "duration": 14,
    "start_time": "2022-03-13T08:15:59.204Z"
   },
   {
    "duration": 2693,
    "start_time": "2022-03-13T08:17:06.370Z"
   },
   {
    "duration": 2685,
    "start_time": "2022-03-13T08:17:40.661Z"
   },
   {
    "duration": 101,
    "start_time": "2022-03-13T08:18:14.965Z"
   },
   {
    "duration": 13,
    "start_time": "2022-03-13T08:18:38.126Z"
   },
   {
    "duration": 10,
    "start_time": "2022-03-13T08:18:42.589Z"
   },
   {
    "duration": 10,
    "start_time": "2022-03-13T08:18:46.493Z"
   },
   {
    "duration": 10,
    "start_time": "2022-03-13T08:18:50.829Z"
   },
   {
    "duration": 10,
    "start_time": "2022-03-13T08:56:26.984Z"
   },
   {
    "duration": 47,
    "start_time": "2022-03-13T08:56:47.305Z"
   },
   {
    "duration": 11,
    "start_time": "2022-03-13T08:59:51.317Z"
   },
   {
    "duration": 11,
    "start_time": "2022-03-13T08:59:56.082Z"
   },
   {
    "duration": 10,
    "start_time": "2022-03-13T09:00:05.627Z"
   },
   {
    "duration": 15,
    "start_time": "2022-03-13T09:25:03.638Z"
   },
   {
    "duration": 30,
    "start_time": "2022-03-13T09:27:49.279Z"
   },
   {
    "duration": 12,
    "start_time": "2022-03-13T09:31:49.050Z"
   },
   {
    "duration": 22046,
    "start_time": "2022-03-13T09:40:18.455Z"
   },
   {
    "duration": 15,
    "start_time": "2022-03-13T09:41:22.066Z"
   },
   {
    "duration": 31,
    "start_time": "2022-03-13T09:47:06.826Z"
   },
   {
    "duration": 13,
    "start_time": "2022-03-13T09:48:47.039Z"
   },
   {
    "duration": 144,
    "start_time": "2022-03-13T09:49:36.519Z"
   },
   {
    "duration": 18,
    "start_time": "2022-03-13T09:49:48.767Z"
   },
   {
    "duration": 11,
    "start_time": "2022-03-13T09:50:23.845Z"
   },
   {
    "duration": 11,
    "start_time": "2022-03-13T09:50:43.273Z"
   },
   {
    "duration": 10,
    "start_time": "2022-03-13T09:51:04.488Z"
   },
   {
    "duration": 14,
    "start_time": "2022-03-13T09:51:49.785Z"
   },
   {
    "duration": 23,
    "start_time": "2022-03-13T10:27:00.814Z"
   },
   {
    "duration": 10,
    "start_time": "2022-03-13T10:30:10.924Z"
   },
   {
    "duration": 9,
    "start_time": "2022-03-13T10:30:16.276Z"
   },
   {
    "duration": 9,
    "start_time": "2022-03-13T10:30:23.110Z"
   },
   {
    "duration": 8,
    "start_time": "2022-03-13T10:30:38.749Z"
   },
   {
    "duration": 8,
    "start_time": "2022-03-13T10:30:44.773Z"
   },
   {
    "duration": 9,
    "start_time": "2022-03-13T10:30:50.445Z"
   },
   {
    "duration": 77,
    "start_time": "2022-03-13T10:30:55.500Z"
   },
   {
    "duration": 13,
    "start_time": "2022-03-13T10:30:55.580Z"
   },
   {
    "duration": 52,
    "start_time": "2022-03-13T10:30:55.597Z"
   },
   {
    "duration": 19,
    "start_time": "2022-03-13T10:30:55.653Z"
   },
   {
    "duration": 12,
    "start_time": "2022-03-13T10:30:55.675Z"
   },
   {
    "duration": 10,
    "start_time": "2022-03-13T10:30:55.734Z"
   },
   {
    "duration": 10,
    "start_time": "2022-03-13T10:30:55.748Z"
   },
   {
    "duration": 79,
    "start_time": "2022-03-13T10:30:55.763Z"
   },
   {
    "duration": 20,
    "start_time": "2022-03-13T10:30:55.847Z"
   },
   {
    "duration": 64,
    "start_time": "2022-03-13T10:30:55.870Z"
   },
   {
    "duration": 18,
    "start_time": "2022-03-13T10:30:55.937Z"
   },
   {
    "duration": 23,
    "start_time": "2022-03-13T10:30:55.957Z"
   },
   {
    "duration": 79,
    "start_time": "2022-03-13T10:30:55.982Z"
   },
   {
    "duration": 7,
    "start_time": "2022-03-13T10:30:56.064Z"
   },
   {
    "duration": 25,
    "start_time": "2022-03-13T10:30:56.073Z"
   },
   {
    "duration": 7,
    "start_time": "2022-03-13T10:30:56.132Z"
   },
   {
    "duration": 24,
    "start_time": "2022-03-13T10:30:56.142Z"
   },
   {
    "duration": 6,
    "start_time": "2022-03-13T10:30:56.169Z"
   },
   {
    "duration": 8,
    "start_time": "2022-03-13T10:30:56.178Z"
   },
   {
    "duration": 7,
    "start_time": "2022-03-13T10:30:56.232Z"
   },
   {
    "duration": 9,
    "start_time": "2022-03-13T10:30:56.241Z"
   },
   {
    "duration": 7,
    "start_time": "2022-03-13T10:30:56.252Z"
   },
   {
    "duration": 8,
    "start_time": "2022-03-13T10:30:56.263Z"
   },
   {
    "duration": 66,
    "start_time": "2022-03-13T10:30:56.275Z"
   },
   {
    "duration": 15,
    "start_time": "2022-03-13T10:30:56.344Z"
   },
   {
    "duration": 18,
    "start_time": "2022-03-13T10:30:56.361Z"
   },
   {
    "duration": 53,
    "start_time": "2022-03-13T10:30:56.382Z"
   },
   {
    "duration": 34,
    "start_time": "2022-03-13T10:30:56.438Z"
   },
   {
    "duration": 5,
    "start_time": "2022-03-13T10:30:56.475Z"
   },
   {
    "duration": 94,
    "start_time": "2022-03-13T10:30:56.483Z"
   },
   {
    "duration": 6,
    "start_time": "2022-03-13T10:30:56.579Z"
   },
   {
    "duration": 12,
    "start_time": "2022-03-13T10:30:56.587Z"
   },
   {
    "duration": 58,
    "start_time": "2022-03-13T10:30:56.601Z"
   },
   {
    "duration": 13,
    "start_time": "2022-03-13T10:30:56.661Z"
   },
   {
    "duration": 57,
    "start_time": "2022-03-13T10:30:56.676Z"
   },
   {
    "duration": 47,
    "start_time": "2022-03-13T10:30:56.736Z"
   },
   {
    "duration": 48,
    "start_time": "2022-03-13T10:30:56.786Z"
   },
   {
    "duration": 14,
    "start_time": "2022-03-13T10:30:56.837Z"
   },
   {
    "duration": 32,
    "start_time": "2022-03-13T10:30:56.854Z"
   },
   {
    "duration": 12,
    "start_time": "2022-03-13T10:30:56.934Z"
   },
   {
    "duration": 11,
    "start_time": "2022-03-13T10:30:56.949Z"
   },
   {
    "duration": 72,
    "start_time": "2022-03-13T10:30:56.962Z"
   },
   {
    "duration": 12,
    "start_time": "2022-03-13T10:30:57.036Z"
   },
   {
    "duration": 161,
    "start_time": "2022-03-13T10:31:12.813Z"
   },
   {
    "duration": 11,
    "start_time": "2022-03-13T10:31:22.597Z"
   },
   {
    "duration": 9,
    "start_time": "2022-03-13T10:31:29.228Z"
   },
   {
    "duration": 78,
    "start_time": "2022-03-13T10:31:33.975Z"
   },
   {
    "duration": 16,
    "start_time": "2022-03-13T10:31:34.056Z"
   },
   {
    "duration": 65,
    "start_time": "2022-03-13T10:31:34.077Z"
   },
   {
    "duration": 20,
    "start_time": "2022-03-13T10:31:34.145Z"
   },
   {
    "duration": 9,
    "start_time": "2022-03-13T10:31:34.168Z"
   },
   {
    "duration": 54,
    "start_time": "2022-03-13T10:31:34.180Z"
   },
   {
    "duration": 10,
    "start_time": "2022-03-13T10:31:34.237Z"
   },
   {
    "duration": 19,
    "start_time": "2022-03-13T10:31:34.253Z"
   },
   {
    "duration": 74,
    "start_time": "2022-03-13T10:31:34.276Z"
   },
   {
    "duration": 17,
    "start_time": "2022-03-13T10:31:34.353Z"
   },
   {
    "duration": 18,
    "start_time": "2022-03-13T10:31:34.373Z"
   },
   {
    "duration": 62,
    "start_time": "2022-03-13T10:31:34.394Z"
   },
   {
    "duration": 36,
    "start_time": "2022-03-13T10:31:34.459Z"
   },
   {
    "duration": 39,
    "start_time": "2022-03-13T10:31:34.497Z"
   },
   {
    "duration": 23,
    "start_time": "2022-03-13T10:31:34.538Z"
   },
   {
    "duration": 10,
    "start_time": "2022-03-13T10:31:34.564Z"
   },
   {
    "duration": 78,
    "start_time": "2022-03-13T10:31:34.577Z"
   },
   {
    "duration": 9,
    "start_time": "2022-03-13T10:31:34.658Z"
   },
   {
    "duration": 10,
    "start_time": "2022-03-13T10:31:34.669Z"
   },
   {
    "duration": 54,
    "start_time": "2022-03-13T10:31:34.682Z"
   },
   {
    "duration": 10,
    "start_time": "2022-03-13T10:31:34.738Z"
   },
   {
    "duration": 7,
    "start_time": "2022-03-13T10:31:34.750Z"
   },
   {
    "duration": 8,
    "start_time": "2022-03-13T10:31:34.762Z"
   },
   {
    "duration": 69,
    "start_time": "2022-03-13T10:31:34.773Z"
   },
   {
    "duration": 12,
    "start_time": "2022-03-13T10:31:34.845Z"
   },
   {
    "duration": 18,
    "start_time": "2022-03-13T10:31:34.860Z"
   },
   {
    "duration": 8,
    "start_time": "2022-03-13T10:31:34.881Z"
   },
   {
    "duration": 77,
    "start_time": "2022-03-13T10:31:34.892Z"
   },
   {
    "duration": 6,
    "start_time": "2022-03-13T10:31:34.971Z"
   },
   {
    "duration": 87,
    "start_time": "2022-03-13T10:31:34.980Z"
   },
   {
    "duration": 6,
    "start_time": "2022-03-13T10:31:35.070Z"
   },
   {
    "duration": 13,
    "start_time": "2022-03-13T10:31:35.078Z"
   },
   {
    "duration": 63,
    "start_time": "2022-03-13T10:31:35.093Z"
   },
   {
    "duration": 10,
    "start_time": "2022-03-13T10:31:35.159Z"
   },
   {
    "duration": 12,
    "start_time": "2022-03-13T10:31:35.171Z"
   },
   {
    "duration": 81,
    "start_time": "2022-03-13T10:31:35.185Z"
   },
   {
    "duration": 10,
    "start_time": "2022-03-13T10:31:35.268Z"
   },
   {
    "duration": 8,
    "start_time": "2022-03-13T10:31:35.281Z"
   },
   {
    "duration": 64,
    "start_time": "2022-03-13T10:31:35.291Z"
   },
   {
    "duration": 11,
    "start_time": "2022-03-13T10:31:35.357Z"
   },
   {
    "duration": 12,
    "start_time": "2022-03-13T10:31:35.371Z"
   },
   {
    "duration": 76,
    "start_time": "2022-03-13T10:31:35.386Z"
   },
   {
    "duration": 13,
    "start_time": "2022-03-13T10:31:35.464Z"
   },
   {
    "duration": 9,
    "start_time": "2022-03-13T10:32:03.158Z"
   },
   {
    "duration": 8,
    "start_time": "2022-03-13T10:32:11.678Z"
   },
   {
    "duration": 8,
    "start_time": "2022-03-13T10:32:15.395Z"
   },
   {
    "duration": 10,
    "start_time": "2022-03-13T10:32:24.041Z"
   },
   {
    "duration": 89,
    "start_time": "2022-03-13T10:32:26.655Z"
   },
   {
    "duration": 14,
    "start_time": "2022-03-13T10:32:26.748Z"
   },
   {
    "duration": 74,
    "start_time": "2022-03-13T10:32:26.766Z"
   },
   {
    "duration": 20,
    "start_time": "2022-03-13T10:32:26.843Z"
   },
   {
    "duration": 12,
    "start_time": "2022-03-13T10:32:26.866Z"
   },
   {
    "duration": 53,
    "start_time": "2022-03-13T10:32:26.881Z"
   },
   {
    "duration": 12,
    "start_time": "2022-03-13T10:32:26.937Z"
   },
   {
    "duration": 16,
    "start_time": "2022-03-13T10:32:26.953Z"
   },
   {
    "duration": 18,
    "start_time": "2022-03-13T10:32:26.972Z"
   },
   {
    "duration": 56,
    "start_time": "2022-03-13T10:32:26.992Z"
   },
   {
    "duration": 19,
    "start_time": "2022-03-13T10:32:27.051Z"
   },
   {
    "duration": 65,
    "start_time": "2022-03-13T10:32:27.072Z"
   },
   {
    "duration": 39,
    "start_time": "2022-03-13T10:32:27.139Z"
   },
   {
    "duration": 7,
    "start_time": "2022-03-13T10:32:27.180Z"
   },
   {
    "duration": 61,
    "start_time": "2022-03-13T10:32:27.190Z"
   },
   {
    "duration": 9,
    "start_time": "2022-03-13T10:32:27.254Z"
   },
   {
    "duration": 68,
    "start_time": "2022-03-13T10:32:27.266Z"
   },
   {
    "duration": 9,
    "start_time": "2022-03-13T10:32:27.337Z"
   },
   {
    "duration": 9,
    "start_time": "2022-03-13T10:32:27.349Z"
   },
   {
    "duration": 7,
    "start_time": "2022-03-13T10:32:27.361Z"
   },
   {
    "duration": 8,
    "start_time": "2022-03-13T10:32:27.371Z"
   },
   {
    "duration": 57,
    "start_time": "2022-03-13T10:32:27.381Z"
   },
   {
    "duration": 8,
    "start_time": "2022-03-13T10:32:27.444Z"
   },
   {
    "duration": 13,
    "start_time": "2022-03-13T10:32:27.457Z"
   },
   {
    "duration": 63,
    "start_time": "2022-03-13T10:32:27.473Z"
   },
   {
    "duration": 19,
    "start_time": "2022-03-13T10:32:27.539Z"
   },
   {
    "duration": 5,
    "start_time": "2022-03-13T10:32:27.561Z"
   },
   {
    "duration": 85,
    "start_time": "2022-03-13T10:32:27.568Z"
   },
   {
    "duration": 6,
    "start_time": "2022-03-13T10:32:27.656Z"
   },
   {
    "duration": 75,
    "start_time": "2022-03-13T10:32:27.665Z"
   },
   {
    "duration": 8,
    "start_time": "2022-03-13T10:32:27.743Z"
   },
   {
    "duration": 11,
    "start_time": "2022-03-13T10:32:27.754Z"
   },
   {
    "duration": 82,
    "start_time": "2022-03-13T10:32:27.768Z"
   },
   {
    "duration": 13,
    "start_time": "2022-03-13T10:32:27.854Z"
   },
   {
    "duration": 13,
    "start_time": "2022-03-13T10:32:27.870Z"
   },
   {
    "duration": 85,
    "start_time": "2022-03-13T10:32:27.885Z"
   },
   {
    "duration": 11,
    "start_time": "2022-03-13T10:32:27.972Z"
   },
   {
    "duration": 9,
    "start_time": "2022-03-13T10:32:27.985Z"
   },
   {
    "duration": 60,
    "start_time": "2022-03-13T10:32:27.996Z"
   },
   {
    "duration": 11,
    "start_time": "2022-03-13T10:32:28.058Z"
   },
   {
    "duration": 10,
    "start_time": "2022-03-13T10:32:28.071Z"
   },
   {
    "duration": 43,
    "start_time": "2022-03-13T10:32:28.132Z"
   },
   {
    "duration": 17,
    "start_time": "2022-03-13T10:32:28.178Z"
   },
   {
    "duration": 9,
    "start_time": "2022-03-13T10:32:49.120Z"
   },
   {
    "duration": 8,
    "start_time": "2022-03-13T10:32:57.470Z"
   },
   {
    "duration": 81,
    "start_time": "2022-03-13T10:33:00.561Z"
   },
   {
    "duration": 15,
    "start_time": "2022-03-13T10:33:00.645Z"
   },
   {
    "duration": 21,
    "start_time": "2022-03-13T10:33:00.663Z"
   },
   {
    "duration": 59,
    "start_time": "2022-03-13T10:33:00.687Z"
   },
   {
    "duration": 9,
    "start_time": "2022-03-13T10:33:00.748Z"
   },
   {
    "duration": 8,
    "start_time": "2022-03-13T10:33:00.760Z"
   },
   {
    "duration": 63,
    "start_time": "2022-03-13T10:33:00.771Z"
   },
   {
    "duration": 20,
    "start_time": "2022-03-13T10:33:00.840Z"
   },
   {
    "duration": 25,
    "start_time": "2022-03-13T10:33:00.864Z"
   },
   {
    "duration": 17,
    "start_time": "2022-03-13T10:33:00.932Z"
   },
   {
    "duration": 41,
    "start_time": "2022-03-13T10:33:00.952Z"
   },
   {
    "duration": 41,
    "start_time": "2022-03-13T10:33:00.995Z"
   },
   {
    "duration": 37,
    "start_time": "2022-03-13T10:33:01.038Z"
   },
   {
    "duration": 6,
    "start_time": "2022-03-13T10:33:01.078Z"
   },
   {
    "duration": 74,
    "start_time": "2022-03-13T10:33:01.087Z"
   },
   {
    "duration": 13,
    "start_time": "2022-03-13T10:33:01.164Z"
   },
   {
    "duration": 33,
    "start_time": "2022-03-13T10:33:01.180Z"
   },
   {
    "duration": 21,
    "start_time": "2022-03-13T10:33:01.215Z"
   },
   {
    "duration": 12,
    "start_time": "2022-03-13T10:33:01.239Z"
   },
   {
    "duration": 11,
    "start_time": "2022-03-13T10:33:01.253Z"
   },
   {
    "duration": 25,
    "start_time": "2022-03-13T10:33:01.266Z"
   },
   {
    "duration": 41,
    "start_time": "2022-03-13T10:33:01.293Z"
   },
   {
    "duration": 24,
    "start_time": "2022-03-13T10:33:01.340Z"
   },
   {
    "duration": 38,
    "start_time": "2022-03-13T10:33:01.367Z"
   },
   {
    "duration": 42,
    "start_time": "2022-03-13T10:33:01.407Z"
   },
   {
    "duration": 31,
    "start_time": "2022-03-13T10:33:01.451Z"
   },
   {
    "duration": 11,
    "start_time": "2022-03-13T10:33:01.484Z"
   },
   {
    "duration": 50,
    "start_time": "2022-03-13T10:33:01.498Z"
   },
   {
    "duration": 5,
    "start_time": "2022-03-13T10:33:01.551Z"
   },
   {
    "duration": 76,
    "start_time": "2022-03-13T10:33:01.559Z"
   },
   {
    "duration": 6,
    "start_time": "2022-03-13T10:33:01.637Z"
   },
   {
    "duration": 32,
    "start_time": "2022-03-13T10:33:01.645Z"
   },
   {
    "duration": 43,
    "start_time": "2022-03-13T10:33:01.680Z"
   },
   {
    "duration": 12,
    "start_time": "2022-03-13T10:33:01.732Z"
   },
   {
    "duration": 29,
    "start_time": "2022-03-13T10:33:01.746Z"
   },
   {
    "duration": 62,
    "start_time": "2022-03-13T10:33:01.777Z"
   },
   {
    "duration": 12,
    "start_time": "2022-03-13T10:33:01.841Z"
   },
   {
    "duration": 27,
    "start_time": "2022-03-13T10:33:01.855Z"
   },
   {
    "duration": 57,
    "start_time": "2022-03-13T10:33:01.884Z"
   },
   {
    "duration": 12,
    "start_time": "2022-03-13T10:33:01.943Z"
   },
   {
    "duration": 24,
    "start_time": "2022-03-13T10:33:01.958Z"
   },
   {
    "duration": 61,
    "start_time": "2022-03-13T10:33:01.986Z"
   },
   {
    "duration": 15,
    "start_time": "2022-03-13T10:33:02.050Z"
   },
   {
    "duration": 80,
    "start_time": "2022-03-13T10:33:20.399Z"
   },
   {
    "duration": 14,
    "start_time": "2022-03-13T10:33:20.482Z"
   },
   {
    "duration": 21,
    "start_time": "2022-03-13T10:33:20.534Z"
   },
   {
    "duration": 21,
    "start_time": "2022-03-13T10:33:20.559Z"
   },
   {
    "duration": 53,
    "start_time": "2022-03-13T10:33:20.582Z"
   },
   {
    "duration": 11,
    "start_time": "2022-03-13T10:33:20.637Z"
   },
   {
    "duration": 7,
    "start_time": "2022-03-13T10:33:20.651Z"
   },
   {
    "duration": 15,
    "start_time": "2022-03-13T10:33:20.661Z"
   },
   {
    "duration": 68,
    "start_time": "2022-03-13T10:33:20.679Z"
   },
   {
    "duration": 17,
    "start_time": "2022-03-13T10:33:20.749Z"
   },
   {
    "duration": 18,
    "start_time": "2022-03-13T10:33:20.768Z"
   },
   {
    "duration": 66,
    "start_time": "2022-03-13T10:33:20.788Z"
   },
   {
    "duration": 37,
    "start_time": "2022-03-13T10:33:20.856Z"
   },
   {
    "duration": 40,
    "start_time": "2022-03-13T10:33:20.895Z"
   },
   {
    "duration": 21,
    "start_time": "2022-03-13T10:33:20.937Z"
   },
   {
    "duration": 7,
    "start_time": "2022-03-13T10:33:20.961Z"
   },
   {
    "duration": 67,
    "start_time": "2022-03-13T10:33:20.971Z"
   },
   {
    "duration": 6,
    "start_time": "2022-03-13T10:33:21.041Z"
   },
   {
    "duration": 9,
    "start_time": "2022-03-13T10:33:21.049Z"
   },
   {
    "duration": 7,
    "start_time": "2022-03-13T10:33:21.060Z"
   },
   {
    "duration": 16,
    "start_time": "2022-03-13T10:33:21.069Z"
   },
   {
    "duration": 6,
    "start_time": "2022-03-13T10:33:21.133Z"
   },
   {
    "duration": 7,
    "start_time": "2022-03-13T10:33:21.144Z"
   },
   {
    "duration": 15,
    "start_time": "2022-03-13T10:33:21.154Z"
   },
   {
    "duration": 12,
    "start_time": "2022-03-13T10:33:21.171Z"
   },
   {
    "duration": 62,
    "start_time": "2022-03-13T10:33:21.185Z"
   },
   {
    "duration": 5,
    "start_time": "2022-03-13T10:33:21.250Z"
   },
   {
    "duration": 36,
    "start_time": "2022-03-13T10:33:21.257Z"
   },
   {
    "duration": 42,
    "start_time": "2022-03-13T10:33:21.295Z"
   },
   {
    "duration": 50,
    "start_time": "2022-03-13T10:33:21.340Z"
   },
   {
    "duration": 6,
    "start_time": "2022-03-13T10:33:21.392Z"
   },
   {
    "duration": 37,
    "start_time": "2022-03-13T10:33:21.401Z"
   },
   {
    "duration": 30,
    "start_time": "2022-03-13T10:33:21.440Z"
   },
   {
    "duration": 10,
    "start_time": "2022-03-13T10:33:21.473Z"
   },
   {
    "duration": 12,
    "start_time": "2022-03-13T10:33:21.532Z"
   },
   {
    "duration": 43,
    "start_time": "2022-03-13T10:33:21.547Z"
   },
   {
    "duration": 42,
    "start_time": "2022-03-13T10:33:21.592Z"
   },
   {
    "duration": 10,
    "start_time": "2022-03-13T10:33:21.636Z"
   },
   {
    "duration": 28,
    "start_time": "2022-03-13T10:33:21.648Z"
   },
   {
    "duration": 54,
    "start_time": "2022-03-13T10:33:21.678Z"
   },
   {
    "duration": 9,
    "start_time": "2022-03-13T10:33:21.735Z"
   },
   {
    "duration": 29,
    "start_time": "2022-03-13T10:33:21.747Z"
   },
   {
    "duration": 54,
    "start_time": "2022-03-13T10:33:21.779Z"
   },
   {
    "duration": 10,
    "start_time": "2022-03-13T10:36:05.677Z"
   },
   {
    "duration": 77,
    "start_time": "2022-03-13T10:36:08.275Z"
   },
   {
    "duration": 19,
    "start_time": "2022-03-13T10:36:08.356Z"
   },
   {
    "duration": 61,
    "start_time": "2022-03-13T10:36:08.378Z"
   },
   {
    "duration": 23,
    "start_time": "2022-03-13T10:36:08.442Z"
   },
   {
    "duration": 9,
    "start_time": "2022-03-13T10:36:08.467Z"
   },
   {
    "duration": 7,
    "start_time": "2022-03-13T10:36:08.478Z"
   },
   {
    "duration": 10,
    "start_time": "2022-03-13T10:36:08.531Z"
   },
   {
    "duration": 23,
    "start_time": "2022-03-13T10:36:08.547Z"
   },
   {
    "duration": 63,
    "start_time": "2022-03-13T10:36:08.574Z"
   },
   {
    "duration": 17,
    "start_time": "2022-03-13T10:36:08.640Z"
   },
   {
    "duration": 18,
    "start_time": "2022-03-13T10:36:08.660Z"
   },
   {
    "duration": 68,
    "start_time": "2022-03-13T10:36:08.681Z"
   },
   {
    "duration": 36,
    "start_time": "2022-03-13T10:36:08.752Z"
   },
   {
    "duration": 41,
    "start_time": "2022-03-13T10:36:08.791Z"
   },
   {
    "duration": 22,
    "start_time": "2022-03-13T10:36:08.835Z"
   },
   {
    "duration": 8,
    "start_time": "2022-03-13T10:36:08.860Z"
   },
   {
    "duration": 67,
    "start_time": "2022-03-13T10:36:08.871Z"
   },
   {
    "duration": 7,
    "start_time": "2022-03-13T10:36:08.941Z"
   },
   {
    "duration": 7,
    "start_time": "2022-03-13T10:36:08.950Z"
   },
   {
    "duration": 6,
    "start_time": "2022-03-13T10:36:08.960Z"
   },
   {
    "duration": 8,
    "start_time": "2022-03-13T10:36:08.968Z"
   },
   {
    "duration": 7,
    "start_time": "2022-03-13T10:36:09.034Z"
   },
   {
    "duration": 8,
    "start_time": "2022-03-13T10:36:09.046Z"
   },
   {
    "duration": 11,
    "start_time": "2022-03-13T10:36:09.057Z"
   },
   {
    "duration": 61,
    "start_time": "2022-03-13T10:36:09.071Z"
   },
   {
    "duration": 18,
    "start_time": "2022-03-13T10:36:09.135Z"
   },
   {
    "duration": 5,
    "start_time": "2022-03-13T10:36:09.156Z"
   },
   {
    "duration": 74,
    "start_time": "2022-03-13T10:36:09.163Z"
   },
   {
    "duration": 6,
    "start_time": "2022-03-13T10:36:09.240Z"
   },
   {
    "duration": 53,
    "start_time": "2022-03-13T10:36:09.248Z"
   },
   {
    "duration": 30,
    "start_time": "2022-03-13T10:36:09.303Z"
   },
   {
    "duration": 8,
    "start_time": "2022-03-13T10:36:09.336Z"
   },
   {
    "duration": 31,
    "start_time": "2022-03-13T10:36:09.346Z"
   },
   {
    "duration": 55,
    "start_time": "2022-03-13T10:36:09.379Z"
   },
   {
    "duration": 14,
    "start_time": "2022-03-13T10:36:09.437Z"
   },
   {
    "duration": 78,
    "start_time": "2022-03-13T10:36:09.454Z"
   },
   {
    "duration": 11,
    "start_time": "2022-03-13T10:36:09.535Z"
   },
   {
    "duration": 17,
    "start_time": "2022-03-13T10:36:09.548Z"
   },
   {
    "duration": 28,
    "start_time": "2022-03-13T10:36:09.568Z"
   },
   {
    "duration": 43,
    "start_time": "2022-03-13T10:36:09.598Z"
   },
   {
    "duration": 15,
    "start_time": "2022-03-13T10:36:09.644Z"
   },
   {
    "duration": 39,
    "start_time": "2022-03-13T10:36:09.662Z"
   },
   {
    "duration": 37,
    "start_time": "2022-03-13T10:36:09.704Z"
   },
   {
    "duration": 855,
    "start_time": "2022-03-13T10:40:47.908Z"
   },
   {
    "duration": 368,
    "start_time": "2022-03-13T10:41:15.421Z"
   },
   {
    "duration": 9,
    "start_time": "2022-03-13T10:41:45.486Z"
   },
   {
    "duration": 316,
    "start_time": "2022-03-13T10:43:08.606Z"
   },
   {
    "duration": 338,
    "start_time": "2022-03-13T10:44:47.369Z"
   },
   {
    "duration": 8,
    "start_time": "2022-03-13T10:45:17.928Z"
   },
   {
    "duration": 2871,
    "start_time": "2022-03-13T10:45:44.295Z"
   },
   {
    "duration": 2872,
    "start_time": "2022-03-13T10:46:03.379Z"
   },
   {
    "duration": 11,
    "start_time": "2022-03-13T10:46:09.072Z"
   },
   {
    "duration": 9,
    "start_time": "2022-03-13T10:46:22.008Z"
   },
   {
    "duration": 317,
    "start_time": "2022-03-13T10:46:47.393Z"
   },
   {
    "duration": 2871,
    "start_time": "2022-03-13T10:47:05.219Z"
   },
   {
    "duration": 2874,
    "start_time": "2022-03-13T10:47:33.194Z"
   },
   {
    "duration": 8100,
    "start_time": "2022-03-13T10:47:38.276Z"
   },
   {
    "duration": 325,
    "start_time": "2022-03-13T10:47:49.266Z"
   },
   {
    "duration": 9,
    "start_time": "2022-03-13T10:47:56.513Z"
   },
   {
    "duration": 10,
    "start_time": "2022-03-13T10:50:48.516Z"
   },
   {
    "duration": 106,
    "start_time": "2022-03-13T11:07:47.897Z"
   },
   {
    "duration": 8,
    "start_time": "2022-03-13T11:07:51.264Z"
   },
   {
    "duration": 10,
    "start_time": "2022-03-13T11:08:16.272Z"
   },
   {
    "duration": 8,
    "start_time": "2022-03-13T11:08:30.432Z"
   },
   {
    "duration": 7,
    "start_time": "2022-03-13T11:08:41.696Z"
   },
   {
    "duration": 76,
    "start_time": "2022-03-13T11:08:44.067Z"
   },
   {
    "duration": 14,
    "start_time": "2022-03-13T11:08:44.146Z"
   },
   {
    "duration": 20,
    "start_time": "2022-03-13T11:08:44.164Z"
   },
   {
    "duration": 66,
    "start_time": "2022-03-13T11:08:44.186Z"
   },
   {
    "duration": 10,
    "start_time": "2022-03-13T11:08:44.255Z"
   },
   {
    "duration": 11,
    "start_time": "2022-03-13T11:08:44.267Z"
   },
   {
    "duration": 58,
    "start_time": "2022-03-13T11:08:44.280Z"
   },
   {
    "duration": 16,
    "start_time": "2022-03-13T11:08:44.342Z"
   },
   {
    "duration": 19,
    "start_time": "2022-03-13T11:08:44.361Z"
   },
   {
    "duration": 64,
    "start_time": "2022-03-13T11:08:44.382Z"
   },
   {
    "duration": 18,
    "start_time": "2022-03-13T11:08:44.449Z"
   },
   {
    "duration": 63,
    "start_time": "2022-03-13T11:08:44.469Z"
   },
   {
    "duration": 36,
    "start_time": "2022-03-13T11:08:44.535Z"
   },
   {
    "duration": 6,
    "start_time": "2022-03-13T11:08:44.573Z"
   },
   {
    "duration": 59,
    "start_time": "2022-03-13T11:08:44.582Z"
   },
   {
    "duration": 7,
    "start_time": "2022-03-13T11:08:44.644Z"
   },
   {
    "duration": 26,
    "start_time": "2022-03-13T11:08:44.654Z"
   },
   {
    "duration": 52,
    "start_time": "2022-03-13T11:08:44.682Z"
   },
   {
    "duration": 8,
    "start_time": "2022-03-13T11:08:44.737Z"
   },
   {
    "duration": 9,
    "start_time": "2022-03-13T11:08:44.747Z"
   },
   {
    "duration": 8,
    "start_time": "2022-03-13T11:08:44.759Z"
   },
   {
    "duration": 64,
    "start_time": "2022-03-13T11:08:44.769Z"
   },
   {
    "duration": 5,
    "start_time": "2022-03-13T11:08:44.838Z"
   },
   {
    "duration": 8,
    "start_time": "2022-03-13T11:08:44.846Z"
   },
   {
    "duration": 11,
    "start_time": "2022-03-13T11:08:44.856Z"
   },
   {
    "duration": 63,
    "start_time": "2022-03-13T11:08:44.869Z"
   },
   {
    "duration": 17,
    "start_time": "2022-03-13T11:08:44.935Z"
   },
   {
    "duration": 4,
    "start_time": "2022-03-13T11:08:44.955Z"
   },
   {
    "duration": 73,
    "start_time": "2022-03-13T11:08:44.961Z"
   },
   {
    "duration": 6,
    "start_time": "2022-03-13T11:08:45.036Z"
   },
   {
    "duration": 55,
    "start_time": "2022-03-13T11:08:45.044Z"
   },
   {
    "duration": 32,
    "start_time": "2022-03-13T11:08:45.102Z"
   },
   {
    "duration": 11,
    "start_time": "2022-03-13T11:08:45.138Z"
   },
   {
    "duration": 31,
    "start_time": "2022-03-13T11:08:45.152Z"
   },
   {
    "duration": 59,
    "start_time": "2022-03-13T11:08:45.186Z"
   },
   {
    "duration": 13,
    "start_time": "2022-03-13T11:08:45.249Z"
   },
   {
    "duration": 97,
    "start_time": "2022-03-13T11:08:45.265Z"
   },
   {
    "duration": 9,
    "start_time": "2022-03-13T11:08:45.365Z"
   },
   {
    "duration": 9,
    "start_time": "2022-03-13T11:08:45.377Z"
   },
   {
    "duration": 61,
    "start_time": "2022-03-13T11:08:45.388Z"
   },
   {
    "duration": 10,
    "start_time": "2022-03-13T11:08:45.452Z"
   },
   {
    "duration": 9,
    "start_time": "2022-03-13T11:08:45.465Z"
   },
   {
    "duration": 73,
    "start_time": "2022-03-13T11:08:45.476Z"
   },
   {
    "duration": 12,
    "start_time": "2022-03-13T11:08:45.551Z"
   },
   {
    "duration": 7,
    "start_time": "2022-03-13T11:09:42.298Z"
   },
   {
    "duration": 341,
    "start_time": "2022-03-13T11:10:05.170Z"
   },
   {
    "duration": 8,
    "start_time": "2022-03-13T11:10:43.035Z"
   },
   {
    "duration": 314,
    "start_time": "2022-03-13T11:11:03.572Z"
   },
   {
    "duration": 108,
    "start_time": "2022-03-13T11:11:53.258Z"
   },
   {
    "duration": 341,
    "start_time": "2022-03-13T11:12:00.010Z"
   },
   {
    "duration": 32,
    "start_time": "2022-03-13T11:12:09.285Z"
   },
   {
    "duration": 9,
    "start_time": "2022-03-13T11:12:57.846Z"
   },
   {
    "duration": 307,
    "start_time": "2022-03-13T11:13:21.153Z"
   },
   {
    "duration": 330,
    "start_time": "2022-03-13T11:13:38.621Z"
   },
   {
    "duration": 313,
    "start_time": "2022-03-13T11:14:05.093Z"
   },
   {
    "duration": 352,
    "start_time": "2022-03-13T11:14:12.588Z"
   },
   {
    "duration": 10,
    "start_time": "2022-03-13T11:14:17.620Z"
   },
   {
    "duration": 313,
    "start_time": "2022-03-13T11:14:29.229Z"
   },
   {
    "duration": 11,
    "start_time": "2022-03-13T11:14:38.758Z"
   },
   {
    "duration": 26,
    "start_time": "2022-03-13T11:23:09.380Z"
   },
   {
    "duration": 10,
    "start_time": "2022-03-13T11:23:33.621Z"
   },
   {
    "duration": 326,
    "start_time": "2022-03-13T11:24:45.189Z"
   },
   {
    "duration": 12,
    "start_time": "2022-03-13T11:24:56.984Z"
   },
   {
    "duration": 17,
    "start_time": "2022-03-13T11:25:17.971Z"
   },
   {
    "duration": 8,
    "start_time": "2022-03-13T11:25:58.924Z"
   },
   {
    "duration": 12,
    "start_time": "2022-03-13T11:26:48.554Z"
   },
   {
    "duration": 1024,
    "start_time": "2022-03-22T10:26:21.861Z"
   },
   {
    "duration": 97,
    "start_time": "2022-03-22T10:26:22.887Z"
   },
   {
    "duration": 0,
    "start_time": "2022-03-22T10:26:22.988Z"
   },
   {
    "duration": 0,
    "start_time": "2022-03-22T10:26:22.990Z"
   },
   {
    "duration": 0,
    "start_time": "2022-03-22T10:26:22.991Z"
   },
   {
    "duration": 0,
    "start_time": "2022-03-22T10:26:22.993Z"
   },
   {
    "duration": 0,
    "start_time": "2022-03-22T10:26:22.994Z"
   },
   {
    "duration": 0,
    "start_time": "2022-03-22T10:26:22.996Z"
   },
   {
    "duration": 0,
    "start_time": "2022-03-22T10:26:22.998Z"
   },
   {
    "duration": 0,
    "start_time": "2022-03-22T10:26:22.999Z"
   },
   {
    "duration": 0,
    "start_time": "2022-03-22T10:26:23.001Z"
   },
   {
    "duration": 0,
    "start_time": "2022-03-22T10:26:23.003Z"
   },
   {
    "duration": 0,
    "start_time": "2022-03-22T10:26:23.005Z"
   },
   {
    "duration": 0,
    "start_time": "2022-03-22T10:26:23.008Z"
   },
   {
    "duration": 0,
    "start_time": "2022-03-22T10:26:23.009Z"
   },
   {
    "duration": 0,
    "start_time": "2022-03-22T10:26:23.012Z"
   },
   {
    "duration": 0,
    "start_time": "2022-03-22T10:26:23.014Z"
   },
   {
    "duration": 0,
    "start_time": "2022-03-22T10:26:23.015Z"
   },
   {
    "duration": 0,
    "start_time": "2022-03-22T10:26:23.016Z"
   },
   {
    "duration": 0,
    "start_time": "2022-03-22T10:26:23.018Z"
   },
   {
    "duration": 0,
    "start_time": "2022-03-22T10:26:23.068Z"
   },
   {
    "duration": 0,
    "start_time": "2022-03-22T10:26:23.069Z"
   },
   {
    "duration": 0,
    "start_time": "2022-03-22T10:26:23.071Z"
   },
   {
    "duration": 0,
    "start_time": "2022-03-22T10:26:23.077Z"
   },
   {
    "duration": 0,
    "start_time": "2022-03-22T10:26:23.079Z"
   },
   {
    "duration": 0,
    "start_time": "2022-03-22T10:26:23.081Z"
   },
   {
    "duration": 0,
    "start_time": "2022-03-22T10:26:23.082Z"
   },
   {
    "duration": 0,
    "start_time": "2022-03-22T10:26:23.084Z"
   },
   {
    "duration": 0,
    "start_time": "2022-03-22T10:26:23.085Z"
   },
   {
    "duration": 0,
    "start_time": "2022-03-22T10:26:23.087Z"
   },
   {
    "duration": 0,
    "start_time": "2022-03-22T10:26:23.088Z"
   },
   {
    "duration": 0,
    "start_time": "2022-03-22T10:26:23.089Z"
   },
   {
    "duration": 0,
    "start_time": "2022-03-22T10:26:23.093Z"
   },
   {
    "duration": 0,
    "start_time": "2022-03-22T10:26:23.095Z"
   },
   {
    "duration": 0,
    "start_time": "2022-03-22T10:26:23.096Z"
   },
   {
    "duration": 0,
    "start_time": "2022-03-22T10:26:23.099Z"
   },
   {
    "duration": 0,
    "start_time": "2022-03-22T10:26:23.101Z"
   },
   {
    "duration": 0,
    "start_time": "2022-03-22T10:26:23.103Z"
   },
   {
    "duration": 0,
    "start_time": "2022-03-22T10:26:23.105Z"
   },
   {
    "duration": 0,
    "start_time": "2022-03-22T10:26:23.107Z"
   },
   {
    "duration": 0,
    "start_time": "2022-03-22T10:26:23.108Z"
   },
   {
    "duration": 0,
    "start_time": "2022-03-22T10:26:23.110Z"
   },
   {
    "duration": 0,
    "start_time": "2022-03-22T10:26:23.111Z"
   },
   {
    "duration": 0,
    "start_time": "2022-03-22T10:26:23.113Z"
   },
   {
    "duration": 640,
    "start_time": "2022-03-22T10:26:51.767Z"
   },
   {
    "duration": 22,
    "start_time": "2022-03-22T10:26:52.410Z"
   },
   {
    "duration": 49,
    "start_time": "2022-03-22T10:26:52.435Z"
   },
   {
    "duration": 20,
    "start_time": "2022-03-22T10:26:52.488Z"
   },
   {
    "duration": 10,
    "start_time": "2022-03-22T10:26:52.512Z"
   },
   {
    "duration": 9,
    "start_time": "2022-03-22T10:26:52.525Z"
   },
   {
    "duration": 39,
    "start_time": "2022-03-22T10:26:52.536Z"
   },
   {
    "duration": 32,
    "start_time": "2022-03-22T10:26:52.578Z"
   },
   {
    "duration": 26,
    "start_time": "2022-03-22T10:26:52.612Z"
   },
   {
    "duration": 48,
    "start_time": "2022-03-22T10:26:52.640Z"
   },
   {
    "duration": 17,
    "start_time": "2022-03-22T10:26:52.691Z"
   },
   {
    "duration": 31,
    "start_time": "2022-03-22T10:26:52.710Z"
   },
   {
    "duration": 72,
    "start_time": "2022-03-22T10:26:52.743Z"
   },
   {
    "duration": 8,
    "start_time": "2022-03-22T10:26:52.820Z"
   },
   {
    "duration": 52,
    "start_time": "2022-03-22T10:26:52.830Z"
   },
   {
    "duration": 8,
    "start_time": "2022-03-22T10:26:52.888Z"
   },
   {
    "duration": 26,
    "start_time": "2022-03-22T10:26:52.898Z"
   },
   {
    "duration": 10,
    "start_time": "2022-03-22T10:26:52.926Z"
   },
   {
    "duration": 13,
    "start_time": "2022-03-22T10:26:52.970Z"
   },
   {
    "duration": 11,
    "start_time": "2022-03-22T10:26:52.988Z"
   },
   {
    "duration": 13,
    "start_time": "2022-03-22T10:26:53.002Z"
   },
   {
    "duration": 10,
    "start_time": "2022-03-22T10:26:53.017Z"
   },
   {
    "duration": 6,
    "start_time": "2022-03-22T10:26:53.029Z"
   },
   {
    "duration": 12,
    "start_time": "2022-03-22T10:26:53.069Z"
   },
   {
    "duration": 27,
    "start_time": "2022-03-22T10:26:53.084Z"
   },
   {
    "duration": 16,
    "start_time": "2022-03-22T10:26:53.114Z"
   },
   {
    "duration": 43,
    "start_time": "2022-03-22T10:26:53.132Z"
   },
   {
    "duration": 6,
    "start_time": "2022-03-22T10:26:53.184Z"
   },
   {
    "duration": 51,
    "start_time": "2022-03-22T10:26:53.192Z"
   },
   {
    "duration": 6,
    "start_time": "2022-03-22T10:26:53.245Z"
   },
   {
    "duration": 64,
    "start_time": "2022-03-22T10:26:53.274Z"
   },
   {
    "duration": 6,
    "start_time": "2022-03-22T10:26:53.340Z"
   },
   {
    "duration": 24,
    "start_time": "2022-03-22T10:26:53.348Z"
   },
   {
    "duration": 38,
    "start_time": "2022-03-22T10:26:53.375Z"
   },
   {
    "duration": 12,
    "start_time": "2022-03-22T10:26:53.416Z"
   },
   {
    "duration": 15,
    "start_time": "2022-03-22T10:26:53.430Z"
   },
   {
    "duration": 76,
    "start_time": "2022-03-22T10:26:53.447Z"
   },
   {
    "duration": 12,
    "start_time": "2022-03-22T10:26:53.525Z"
   },
   {
    "duration": 45,
    "start_time": "2022-03-22T10:26:53.540Z"
   },
   {
    "duration": 28,
    "start_time": "2022-03-22T10:26:53.588Z"
   },
   {
    "duration": 12,
    "start_time": "2022-03-22T10:26:53.621Z"
   },
   {
    "duration": 37,
    "start_time": "2022-03-22T10:26:53.636Z"
   },
   {
    "duration": 30,
    "start_time": "2022-03-22T10:26:53.675Z"
   },
   {
    "duration": 12,
    "start_time": "2022-03-22T10:26:53.708Z"
   },
   {
    "duration": 37,
    "start_time": "2022-03-22T10:34:21.535Z"
   },
   {
    "duration": 33,
    "start_time": "2022-03-22T10:34:37.694Z"
   },
   {
    "duration": 29,
    "start_time": "2022-03-22T10:39:02.006Z"
   },
   {
    "duration": 613,
    "start_time": "2022-03-22T10:42:02.591Z"
   },
   {
    "duration": 24,
    "start_time": "2022-03-22T10:42:03.208Z"
   },
   {
    "duration": 37,
    "start_time": "2022-03-22T10:42:03.234Z"
   },
   {
    "duration": 21,
    "start_time": "2022-03-22T10:42:03.275Z"
   },
   {
    "duration": 11,
    "start_time": "2022-03-22T10:42:03.299Z"
   },
   {
    "duration": 10,
    "start_time": "2022-03-22T10:42:03.313Z"
   },
   {
    "duration": 9,
    "start_time": "2022-03-22T10:42:03.367Z"
   },
   {
    "duration": 24,
    "start_time": "2022-03-22T10:42:03.379Z"
   },
   {
    "duration": 25,
    "start_time": "2022-03-22T10:42:03.406Z"
   },
   {
    "duration": 25,
    "start_time": "2022-03-22T10:42:03.469Z"
   },
   {
    "duration": 26,
    "start_time": "2022-03-22T10:42:03.497Z"
   },
   {
    "duration": 65,
    "start_time": "2022-03-22T10:42:03.525Z"
   },
   {
    "duration": 47,
    "start_time": "2022-03-22T10:42:03.592Z"
   },
   {
    "duration": 30,
    "start_time": "2022-03-22T10:42:03.641Z"
   },
   {
    "duration": 23,
    "start_time": "2022-03-22T10:42:03.674Z"
   },
   {
    "duration": 8,
    "start_time": "2022-03-22T10:42:03.699Z"
   },
   {
    "duration": 68,
    "start_time": "2022-03-22T10:42:03.709Z"
   },
   {
    "duration": 9,
    "start_time": "2022-03-22T10:42:03.780Z"
   },
   {
    "duration": 10,
    "start_time": "2022-03-22T10:42:03.792Z"
   },
   {
    "duration": 9,
    "start_time": "2022-03-22T10:42:03.805Z"
   },
   {
    "duration": 55,
    "start_time": "2022-03-22T10:42:03.817Z"
   },
   {
    "duration": 10,
    "start_time": "2022-03-22T10:42:03.875Z"
   },
   {
    "duration": 6,
    "start_time": "2022-03-22T10:42:03.889Z"
   },
   {
    "duration": 9,
    "start_time": "2022-03-22T10:42:03.897Z"
   },
   {
    "duration": 78,
    "start_time": "2022-03-22T10:42:03.908Z"
   },
   {
    "duration": 11,
    "start_time": "2022-03-22T10:42:03.989Z"
   },
   {
    "duration": 14,
    "start_time": "2022-03-22T10:42:04.002Z"
   },
   {
    "duration": 49,
    "start_time": "2022-03-22T10:42:04.022Z"
   },
   {
    "duration": 5,
    "start_time": "2022-03-22T10:42:04.073Z"
   },
   {
    "duration": 41,
    "start_time": "2022-03-22T10:42:04.081Z"
   },
   {
    "duration": 6,
    "start_time": "2022-03-22T10:42:04.124Z"
   },
   {
    "duration": 85,
    "start_time": "2022-03-22T10:42:04.169Z"
   },
   {
    "duration": 8,
    "start_time": "2022-03-22T10:42:04.269Z"
   },
   {
    "duration": 14,
    "start_time": "2022-03-22T10:42:04.280Z"
   },
   {
    "duration": 39,
    "start_time": "2022-03-22T10:42:04.297Z"
   },
   {
    "duration": 13,
    "start_time": "2022-03-22T10:42:04.367Z"
   },
   {
    "duration": 22,
    "start_time": "2022-03-22T10:42:04.383Z"
   },
   {
    "duration": 62,
    "start_time": "2022-03-22T10:42:04.407Z"
   },
   {
    "duration": 13,
    "start_time": "2022-03-22T10:42:04.472Z"
   },
   {
    "duration": 12,
    "start_time": "2022-03-22T10:42:04.488Z"
   },
   {
    "duration": 69,
    "start_time": "2022-03-22T10:42:04.503Z"
   },
   {
    "duration": 11,
    "start_time": "2022-03-22T10:42:04.575Z"
   },
   {
    "duration": 14,
    "start_time": "2022-03-22T10:42:04.589Z"
   },
   {
    "duration": 77,
    "start_time": "2022-03-22T10:42:04.607Z"
   },
   {
    "duration": 18,
    "start_time": "2022-03-22T10:42:04.687Z"
   },
   {
    "duration": 440,
    "start_time": "2022-03-23T05:31:53.104Z"
   },
   {
    "duration": 18,
    "start_time": "2022-03-23T05:32:20.783Z"
   },
   {
    "duration": 203,
    "start_time": "2022-03-23T06:25:32.419Z"
   },
   {
    "duration": 13,
    "start_time": "2022-03-23T06:25:40.362Z"
   },
   {
    "duration": 9,
    "start_time": "2022-03-23T06:28:45.864Z"
   },
   {
    "duration": 6,
    "start_time": "2022-03-23T06:30:36.990Z"
   },
   {
    "duration": 7,
    "start_time": "2022-03-23T06:30:57.685Z"
   },
   {
    "duration": 7,
    "start_time": "2022-03-23T06:31:06.141Z"
   },
   {
    "duration": 7,
    "start_time": "2022-03-23T06:31:26.021Z"
   },
   {
    "duration": 6,
    "start_time": "2022-03-23T06:31:46.893Z"
   },
   {
    "duration": 5,
    "start_time": "2022-03-23T06:33:01.168Z"
   },
   {
    "duration": 5,
    "start_time": "2022-03-23T06:33:11.647Z"
   },
   {
    "duration": 6,
    "start_time": "2022-03-23T06:33:31.263Z"
   },
   {
    "duration": 6,
    "start_time": "2022-03-23T06:33:54.768Z"
   },
   {
    "duration": 68,
    "start_time": "2022-03-23T06:34:06.946Z"
   },
   {
    "duration": 13,
    "start_time": "2022-03-23T06:34:07.016Z"
   },
   {
    "duration": 12,
    "start_time": "2022-03-23T06:34:07.031Z"
   },
   {
    "duration": 28,
    "start_time": "2022-03-23T06:34:07.045Z"
   },
   {
    "duration": 6,
    "start_time": "2022-03-23T06:34:07.075Z"
   },
   {
    "duration": 6,
    "start_time": "2022-03-23T06:34:07.083Z"
   },
   {
    "duration": 6,
    "start_time": "2022-03-23T06:34:07.091Z"
   },
   {
    "duration": 6,
    "start_time": "2022-03-23T06:34:07.100Z"
   },
   {
    "duration": 60,
    "start_time": "2022-03-23T06:34:07.108Z"
   },
   {
    "duration": 13,
    "start_time": "2022-03-23T06:34:07.170Z"
   },
   {
    "duration": 17,
    "start_time": "2022-03-23T06:34:07.184Z"
   },
   {
    "duration": 10,
    "start_time": "2022-03-23T06:34:07.203Z"
   },
   {
    "duration": 52,
    "start_time": "2022-03-23T06:34:07.216Z"
   },
   {
    "duration": 33,
    "start_time": "2022-03-23T06:34:07.270Z"
   },
   {
    "duration": 5,
    "start_time": "2022-03-23T06:34:07.305Z"
   },
   {
    "duration": 18,
    "start_time": "2022-03-23T06:34:07.311Z"
   },
   {
    "duration": 34,
    "start_time": "2022-03-23T06:34:07.330Z"
   },
   {
    "duration": 19,
    "start_time": "2022-03-23T06:34:07.365Z"
   },
   {
    "duration": 6,
    "start_time": "2022-03-23T06:34:07.386Z"
   },
   {
    "duration": 7,
    "start_time": "2022-03-23T06:34:07.393Z"
   },
   {
    "duration": 9,
    "start_time": "2022-03-23T06:34:07.402Z"
   },
   {
    "duration": 14,
    "start_time": "2022-03-23T06:34:07.412Z"
   },
   {
    "duration": 40,
    "start_time": "2022-03-23T06:34:07.427Z"
   },
   {
    "duration": 5,
    "start_time": "2022-03-23T06:34:07.468Z"
   },
   {
    "duration": 8,
    "start_time": "2022-03-23T06:34:07.474Z"
   },
   {
    "duration": 22,
    "start_time": "2022-03-23T06:34:07.483Z"
   },
   {
    "duration": 8,
    "start_time": "2022-03-23T06:34:07.508Z"
   },
   {
    "duration": 11,
    "start_time": "2022-03-23T06:34:07.518Z"
   },
   {
    "duration": 34,
    "start_time": "2022-03-23T06:34:07.530Z"
   },
   {
    "duration": 3,
    "start_time": "2022-03-23T06:34:07.565Z"
   },
   {
    "duration": 23,
    "start_time": "2022-03-23T06:34:07.570Z"
   },
   {
    "duration": 4,
    "start_time": "2022-03-23T06:34:07.595Z"
   },
   {
    "duration": 39,
    "start_time": "2022-03-23T06:34:07.600Z"
   },
   {
    "duration": 4,
    "start_time": "2022-03-23T06:34:07.641Z"
   },
   {
    "duration": 5,
    "start_time": "2022-03-23T06:34:07.663Z"
   },
   {
    "duration": 22,
    "start_time": "2022-03-23T06:34:07.670Z"
   },
   {
    "duration": 6,
    "start_time": "2022-03-23T06:34:07.694Z"
   },
   {
    "duration": 8,
    "start_time": "2022-03-23T06:34:07.701Z"
   },
   {
    "duration": 56,
    "start_time": "2022-03-23T06:34:07.710Z"
   },
   {
    "duration": 7,
    "start_time": "2022-03-23T06:34:07.767Z"
   },
   {
    "duration": 6,
    "start_time": "2022-03-23T06:34:07.776Z"
   },
   {
    "duration": 20,
    "start_time": "2022-03-23T06:34:07.784Z"
   },
   {
    "duration": 7,
    "start_time": "2022-03-23T06:34:07.806Z"
   },
   {
    "duration": 11,
    "start_time": "2022-03-23T06:34:07.814Z"
   },
   {
    "duration": 50,
    "start_time": "2022-03-23T06:34:07.827Z"
   },
   {
    "duration": 9,
    "start_time": "2022-03-23T06:34:07.878Z"
   },
   {
    "duration": 6,
    "start_time": "2022-03-23T06:34:49.576Z"
   },
   {
    "duration": 6,
    "start_time": "2022-03-23T06:35:23.576Z"
   },
   {
    "duration": 5,
    "start_time": "2022-03-23T06:35:32.977Z"
   },
   {
    "duration": 66,
    "start_time": "2022-03-23T06:35:37.105Z"
   },
   {
    "duration": 17,
    "start_time": "2022-03-23T06:35:37.173Z"
   },
   {
    "duration": 14,
    "start_time": "2022-03-23T06:35:37.191Z"
   },
   {
    "duration": 15,
    "start_time": "2022-03-23T06:35:37.206Z"
   },
   {
    "duration": 39,
    "start_time": "2022-03-23T06:35:37.223Z"
   },
   {
    "duration": 7,
    "start_time": "2022-03-23T06:35:37.264Z"
   },
   {
    "duration": 6,
    "start_time": "2022-03-23T06:35:37.273Z"
   },
   {
    "duration": 6,
    "start_time": "2022-03-23T06:35:37.281Z"
   },
   {
    "duration": 15,
    "start_time": "2022-03-23T06:35:37.289Z"
   },
   {
    "duration": 57,
    "start_time": "2022-03-23T06:35:37.307Z"
   },
   {
    "duration": 20,
    "start_time": "2022-03-23T06:35:37.366Z"
   },
   {
    "duration": 10,
    "start_time": "2022-03-23T06:35:37.387Z"
   },
   {
    "duration": 19,
    "start_time": "2022-03-23T06:35:37.398Z"
   },
   {
    "duration": 54,
    "start_time": "2022-03-23T06:35:37.419Z"
   },
   {
    "duration": 6,
    "start_time": "2022-03-23T06:35:37.476Z"
   },
   {
    "duration": 21,
    "start_time": "2022-03-23T06:35:37.484Z"
   },
   {
    "duration": 6,
    "start_time": "2022-03-23T06:35:37.507Z"
   },
   {
    "duration": 20,
    "start_time": "2022-03-23T06:35:37.515Z"
   },
   {
    "duration": 32,
    "start_time": "2022-03-23T06:35:37.536Z"
   },
   {
    "duration": 13,
    "start_time": "2022-03-23T06:35:37.570Z"
   },
   {
    "duration": 7,
    "start_time": "2022-03-23T06:35:37.584Z"
   },
   {
    "duration": 8,
    "start_time": "2022-03-23T06:35:37.593Z"
   },
   {
    "duration": 7,
    "start_time": "2022-03-23T06:35:37.603Z"
   },
   {
    "duration": 5,
    "start_time": "2022-03-23T06:35:37.612Z"
   },
   {
    "duration": 47,
    "start_time": "2022-03-23T06:35:37.619Z"
   },
   {
    "duration": 18,
    "start_time": "2022-03-23T06:35:37.668Z"
   },
   {
    "duration": 9,
    "start_time": "2022-03-23T06:35:37.688Z"
   },
   {
    "duration": 8,
    "start_time": "2022-03-23T06:35:37.702Z"
   },
   {
    "duration": 14,
    "start_time": "2022-03-23T06:35:37.712Z"
   },
   {
    "duration": 37,
    "start_time": "2022-03-23T06:35:37.727Z"
   },
   {
    "duration": 24,
    "start_time": "2022-03-23T06:35:37.766Z"
   },
   {
    "duration": 4,
    "start_time": "2022-03-23T06:35:37.792Z"
   },
   {
    "duration": 40,
    "start_time": "2022-03-23T06:35:37.797Z"
   },
   {
    "duration": 5,
    "start_time": "2022-03-23T06:35:37.838Z"
   },
   {
    "duration": 6,
    "start_time": "2022-03-23T06:35:37.863Z"
   },
   {
    "duration": 22,
    "start_time": "2022-03-23T06:35:37.870Z"
   },
   {
    "duration": 6,
    "start_time": "2022-03-23T06:35:37.894Z"
   },
   {
    "duration": 8,
    "start_time": "2022-03-23T06:35:37.901Z"
   },
   {
    "duration": 62,
    "start_time": "2022-03-23T06:35:37.910Z"
   },
   {
    "duration": 7,
    "start_time": "2022-03-23T06:35:37.973Z"
   },
   {
    "duration": 7,
    "start_time": "2022-03-23T06:35:37.982Z"
   },
   {
    "duration": 20,
    "start_time": "2022-03-23T06:35:37.991Z"
   },
   {
    "duration": 10,
    "start_time": "2022-03-23T06:35:38.013Z"
   },
   {
    "duration": 43,
    "start_time": "2022-03-23T06:35:38.024Z"
   },
   {
    "duration": 23,
    "start_time": "2022-03-23T06:35:38.069Z"
   },
   {
    "duration": 10,
    "start_time": "2022-03-23T06:35:38.094Z"
   },
   {
    "duration": 67,
    "start_time": "2022-03-23T07:08:00.978Z"
   },
   {
    "duration": 8,
    "start_time": "2022-03-23T07:08:10.378Z"
   },
   {
    "duration": 8,
    "start_time": "2022-03-23T07:08:22.210Z"
   },
   {
    "duration": 8,
    "start_time": "2022-03-23T07:08:39.530Z"
   },
   {
    "duration": 6,
    "start_time": "2022-03-23T07:08:51.818Z"
   },
   {
    "duration": 11,
    "start_time": "2022-03-23T07:10:16.541Z"
   },
   {
    "duration": 10,
    "start_time": "2022-03-23T07:10:32.764Z"
   },
   {
    "duration": 7,
    "start_time": "2022-03-23T07:10:43.595Z"
   },
   {
    "duration": 14,
    "start_time": "2022-03-23T07:11:06.909Z"
   },
   {
    "duration": 13,
    "start_time": "2022-03-23T07:11:12.605Z"
   },
   {
    "duration": 13,
    "start_time": "2022-03-23T07:11:17.884Z"
   },
   {
    "duration": 9,
    "start_time": "2022-03-23T07:11:38.981Z"
   },
   {
    "duration": 141,
    "start_time": "2022-03-23T07:11:54.117Z"
   },
   {
    "duration": 19,
    "start_time": "2022-03-23T07:12:07.493Z"
   },
   {
    "duration": 10,
    "start_time": "2022-03-23T07:12:25.534Z"
   },
   {
    "duration": 6,
    "start_time": "2022-03-23T07:12:33.007Z"
   },
   {
    "duration": 6,
    "start_time": "2022-03-23T07:13:44.046Z"
   },
   {
    "duration": 6,
    "start_time": "2022-03-23T07:15:20.695Z"
   },
   {
    "duration": 15,
    "start_time": "2022-03-23T07:16:02.432Z"
   },
   {
    "duration": 13,
    "start_time": "2022-03-23T07:16:04.527Z"
   },
   {
    "duration": 7,
    "start_time": "2022-03-23T07:16:22.424Z"
   },
   {
    "duration": 7,
    "start_time": "2022-03-23T07:16:34.944Z"
   },
   {
    "duration": 6,
    "start_time": "2022-03-23T07:16:36.463Z"
   },
   {
    "duration": 11,
    "start_time": "2022-03-23T07:21:32.620Z"
   },
   {
    "duration": 8,
    "start_time": "2022-03-23T07:21:39.107Z"
   },
   {
    "duration": 8,
    "start_time": "2022-03-23T07:21:41.532Z"
   },
   {
    "duration": 5,
    "start_time": "2022-03-23T08:12:56.721Z"
   },
   {
    "duration": 6,
    "start_time": "2022-03-23T08:12:58.106Z"
   },
   {
    "duration": 4,
    "start_time": "2022-03-23T08:17:35.509Z"
   },
   {
    "duration": 69,
    "start_time": "2022-03-23T08:17:49.726Z"
   },
   {
    "duration": 15,
    "start_time": "2022-03-23T08:17:49.798Z"
   },
   {
    "duration": 12,
    "start_time": "2022-03-23T08:17:49.815Z"
   },
   {
    "duration": 35,
    "start_time": "2022-03-23T08:17:49.828Z"
   },
   {
    "duration": 6,
    "start_time": "2022-03-23T08:17:49.865Z"
   },
   {
    "duration": 7,
    "start_time": "2022-03-23T08:17:49.873Z"
   },
   {
    "duration": 6,
    "start_time": "2022-03-23T08:17:49.882Z"
   },
   {
    "duration": 8,
    "start_time": "2022-03-23T08:17:49.889Z"
   },
   {
    "duration": 16,
    "start_time": "2022-03-23T08:17:49.899Z"
   },
   {
    "duration": 4,
    "start_time": "2022-03-23T08:17:49.917Z"
   },
   {
    "duration": 39,
    "start_time": "2022-03-23T08:17:49.924Z"
   },
   {
    "duration": 17,
    "start_time": "2022-03-23T08:17:49.965Z"
   },
   {
    "duration": 11,
    "start_time": "2022-03-23T08:17:49.984Z"
   },
   {
    "duration": 21,
    "start_time": "2022-03-23T08:17:49.997Z"
   },
   {
    "duration": 67,
    "start_time": "2022-03-23T08:17:50.020Z"
   },
   {
    "duration": 6,
    "start_time": "2022-03-23T08:17:50.089Z"
   },
   {
    "duration": 36,
    "start_time": "2022-03-23T08:17:50.096Z"
   },
   {
    "duration": 15,
    "start_time": "2022-03-23T08:17:50.140Z"
   },
   {
    "duration": 18,
    "start_time": "2022-03-23T08:17:50.163Z"
   },
   {
    "duration": 13,
    "start_time": "2022-03-23T08:17:50.183Z"
   },
   {
    "duration": 14,
    "start_time": "2022-03-23T08:17:50.197Z"
   },
   {
    "duration": 9,
    "start_time": "2022-03-23T08:17:50.213Z"
   },
   {
    "duration": 8,
    "start_time": "2022-03-23T08:17:50.224Z"
   },
   {
    "duration": 10,
    "start_time": "2022-03-23T08:17:50.234Z"
   },
   {
    "duration": 19,
    "start_time": "2022-03-23T08:17:50.245Z"
   },
   {
    "duration": 25,
    "start_time": "2022-03-23T08:17:50.265Z"
   },
   {
    "duration": 13,
    "start_time": "2022-03-23T08:17:50.292Z"
   },
   {
    "duration": 20,
    "start_time": "2022-03-23T08:17:50.307Z"
   },
   {
    "duration": 9,
    "start_time": "2022-03-23T08:17:50.328Z"
   },
   {
    "duration": 25,
    "start_time": "2022-03-23T08:17:50.339Z"
   },
   {
    "duration": 35,
    "start_time": "2022-03-23T08:17:50.366Z"
   },
   {
    "duration": 26,
    "start_time": "2022-03-23T08:17:50.402Z"
   },
   {
    "duration": 53,
    "start_time": "2022-03-23T08:17:50.429Z"
   },
   {
    "duration": 21,
    "start_time": "2022-03-23T08:17:50.483Z"
   },
   {
    "duration": 59,
    "start_time": "2022-03-23T08:17:50.505Z"
   },
   {
    "duration": 23,
    "start_time": "2022-03-23T08:17:50.566Z"
   },
   {
    "duration": 20,
    "start_time": "2022-03-23T08:17:50.591Z"
   },
   {
    "duration": 35,
    "start_time": "2022-03-23T08:17:50.614Z"
   },
   {
    "duration": 6,
    "start_time": "2022-03-23T08:17:50.652Z"
   },
   {
    "duration": 25,
    "start_time": "2022-03-23T08:17:50.660Z"
   },
   {
    "duration": 49,
    "start_time": "2022-03-23T08:17:50.687Z"
   },
   {
    "duration": 39,
    "start_time": "2022-03-23T08:17:50.738Z"
   },
   {
    "duration": 14,
    "start_time": "2022-03-23T08:17:50.778Z"
   },
   {
    "duration": 47,
    "start_time": "2022-03-23T08:17:50.794Z"
   },
   {
    "duration": 27,
    "start_time": "2022-03-23T08:17:50.843Z"
   },
   {
    "duration": 46,
    "start_time": "2022-03-23T08:17:50.871Z"
   },
   {
    "duration": 47,
    "start_time": "2022-03-23T08:17:50.919Z"
   },
   {
    "duration": 19,
    "start_time": "2022-03-23T08:17:50.968Z"
   },
   {
    "duration": 6,
    "start_time": "2022-03-23T08:18:44.774Z"
   },
   {
    "duration": 3,
    "start_time": "2022-03-23T08:26:23.195Z"
   },
   {
    "duration": 14,
    "start_time": "2022-03-23T08:27:56.318Z"
   },
   {
    "duration": 13,
    "start_time": "2022-03-23T08:31:22.816Z"
   },
   {
    "duration": 12,
    "start_time": "2022-03-23T08:31:24.910Z"
   },
   {
    "duration": 65,
    "start_time": "2022-03-23T08:31:38.353Z"
   },
   {
    "duration": 44,
    "start_time": "2022-03-23T08:31:38.420Z"
   },
   {
    "duration": 13,
    "start_time": "2022-03-23T08:31:38.465Z"
   },
   {
    "duration": 13,
    "start_time": "2022-03-23T08:31:38.481Z"
   },
   {
    "duration": 7,
    "start_time": "2022-03-23T08:31:38.496Z"
   },
   {
    "duration": 6,
    "start_time": "2022-03-23T08:31:38.505Z"
   },
   {
    "duration": 5,
    "start_time": "2022-03-23T08:31:38.513Z"
   },
   {
    "duration": 45,
    "start_time": "2022-03-23T08:31:38.519Z"
   },
   {
    "duration": 21,
    "start_time": "2022-03-23T08:31:38.566Z"
   },
   {
    "duration": 4,
    "start_time": "2022-03-23T08:31:38.590Z"
   },
   {
    "duration": 6,
    "start_time": "2022-03-23T08:31:38.595Z"
   },
   {
    "duration": 8,
    "start_time": "2022-03-23T08:31:38.602Z"
   },
   {
    "duration": 11,
    "start_time": "2022-03-23T08:31:38.611Z"
   },
   {
    "duration": 47,
    "start_time": "2022-03-23T08:31:38.624Z"
   },
   {
    "duration": 11,
    "start_time": "2022-03-23T08:31:38.673Z"
   },
   {
    "duration": 14,
    "start_time": "2022-03-23T08:31:38.685Z"
   },
   {
    "duration": 28,
    "start_time": "2022-03-23T08:31:38.701Z"
   },
   {
    "duration": 5,
    "start_time": "2022-03-23T08:31:38.730Z"
   },
   {
    "duration": 19,
    "start_time": "2022-03-23T08:31:38.763Z"
   },
   {
    "duration": 7,
    "start_time": "2022-03-23T08:31:38.783Z"
   },
   {
    "duration": 19,
    "start_time": "2022-03-23T08:31:38.792Z"
   },
   {
    "duration": 4,
    "start_time": "2022-03-23T08:31:38.813Z"
   },
   {
    "duration": 8,
    "start_time": "2022-03-23T08:31:38.818Z"
   },
   {
    "duration": 36,
    "start_time": "2022-03-23T08:31:38.828Z"
   },
   {
    "duration": 42,
    "start_time": "2022-03-23T08:31:38.865Z"
   },
   {
    "duration": 7,
    "start_time": "2022-03-23T08:31:38.908Z"
   },
   {
    "duration": 9,
    "start_time": "2022-03-23T08:31:38.916Z"
   },
   {
    "duration": 7,
    "start_time": "2022-03-23T08:31:38.928Z"
   },
   {
    "duration": 31,
    "start_time": "2022-03-23T08:31:38.936Z"
   },
   {
    "duration": 15,
    "start_time": "2022-03-23T08:31:38.968Z"
   },
   {
    "duration": 8,
    "start_time": "2022-03-23T08:31:38.984Z"
   },
   {
    "duration": 11,
    "start_time": "2022-03-23T08:31:38.994Z"
   },
   {
    "duration": 18,
    "start_time": "2022-03-23T08:31:39.007Z"
   },
   {
    "duration": 7,
    "start_time": "2022-03-23T08:31:39.026Z"
   },
   {
    "duration": 41,
    "start_time": "2022-03-23T08:31:39.035Z"
   },
   {
    "duration": 4,
    "start_time": "2022-03-23T08:31:39.078Z"
   },
   {
    "duration": 659,
    "start_time": "2022-03-23T08:31:39.083Z"
   },
   {
    "duration": 0,
    "start_time": "2022-03-23T08:31:39.743Z"
   },
   {
    "duration": 0,
    "start_time": "2022-03-23T08:31:39.744Z"
   },
   {
    "duration": 0,
    "start_time": "2022-03-23T08:31:39.745Z"
   },
   {
    "duration": 0,
    "start_time": "2022-03-23T08:31:39.746Z"
   },
   {
    "duration": 0,
    "start_time": "2022-03-23T08:31:39.747Z"
   },
   {
    "duration": 0,
    "start_time": "2022-03-23T08:31:39.749Z"
   },
   {
    "duration": 0,
    "start_time": "2022-03-23T08:31:39.749Z"
   },
   {
    "duration": 0,
    "start_time": "2022-03-23T08:31:39.751Z"
   },
   {
    "duration": 0,
    "start_time": "2022-03-23T08:31:39.752Z"
   },
   {
    "duration": 0,
    "start_time": "2022-03-23T08:31:39.752Z"
   },
   {
    "duration": 0,
    "start_time": "2022-03-23T08:31:39.753Z"
   },
   {
    "duration": 0,
    "start_time": "2022-03-23T08:31:39.754Z"
   },
   {
    "duration": 0,
    "start_time": "2022-03-23T08:31:39.756Z"
   },
   {
    "duration": 13,
    "start_time": "2022-03-23T08:32:02.231Z"
   },
   {
    "duration": 26,
    "start_time": "2022-03-23T08:33:47.640Z"
   },
   {
    "duration": 22,
    "start_time": "2022-03-23T08:34:02.784Z"
   },
   {
    "duration": 24,
    "start_time": "2022-03-23T08:34:31.952Z"
   },
   {
    "duration": 13,
    "start_time": "2022-03-23T08:34:36.200Z"
   },
   {
    "duration": 13,
    "start_time": "2022-03-23T08:35:01.297Z"
   },
   {
    "duration": 13,
    "start_time": "2022-03-23T08:35:29.017Z"
   },
   {
    "duration": 7,
    "start_time": "2022-03-23T08:40:56.670Z"
   },
   {
    "duration": 11,
    "start_time": "2022-03-23T08:41:17.486Z"
   },
   {
    "duration": 23,
    "start_time": "2022-03-23T08:41:35.007Z"
   },
   {
    "duration": 15,
    "start_time": "2022-03-23T08:44:28.640Z"
   },
   {
    "duration": 20,
    "start_time": "2022-03-23T08:44:46.665Z"
   },
   {
    "duration": 17,
    "start_time": "2022-03-23T08:44:52.280Z"
   },
   {
    "duration": 14,
    "start_time": "2022-03-23T08:44:57.024Z"
   },
   {
    "duration": 17,
    "start_time": "2022-03-23T08:44:58.584Z"
   },
   {
    "duration": 69,
    "start_time": "2022-03-23T08:45:02.481Z"
   },
   {
    "duration": 26,
    "start_time": "2022-03-23T08:45:02.552Z"
   },
   {
    "duration": 53,
    "start_time": "2022-03-23T08:45:02.579Z"
   },
   {
    "duration": 34,
    "start_time": "2022-03-23T08:45:02.634Z"
   },
   {
    "duration": 16,
    "start_time": "2022-03-23T08:45:02.670Z"
   },
   {
    "duration": 52,
    "start_time": "2022-03-23T08:45:02.687Z"
   },
   {
    "duration": 61,
    "start_time": "2022-03-23T08:45:02.741Z"
   },
   {
    "duration": 99,
    "start_time": "2022-03-23T08:45:02.804Z"
   },
   {
    "duration": 120,
    "start_time": "2022-03-23T08:45:02.905Z"
   },
   {
    "duration": 54,
    "start_time": "2022-03-23T08:45:03.027Z"
   },
   {
    "duration": 10,
    "start_time": "2022-03-23T08:45:03.083Z"
   },
   {
    "duration": 8,
    "start_time": "2022-03-23T08:45:03.094Z"
   },
   {
    "duration": 11,
    "start_time": "2022-03-23T08:45:03.104Z"
   },
   {
    "duration": 18,
    "start_time": "2022-03-23T08:45:03.116Z"
   },
   {
    "duration": 11,
    "start_time": "2022-03-23T08:45:03.136Z"
   },
   {
    "duration": 40,
    "start_time": "2022-03-23T08:45:03.149Z"
   },
   {
    "duration": 27,
    "start_time": "2022-03-23T08:45:03.191Z"
   },
   {
    "duration": 4,
    "start_time": "2022-03-23T08:45:03.220Z"
   },
   {
    "duration": 30,
    "start_time": "2022-03-23T08:45:03.226Z"
   },
   {
    "duration": 6,
    "start_time": "2022-03-23T08:45:03.258Z"
   },
   {
    "duration": 27,
    "start_time": "2022-03-23T08:45:03.266Z"
   },
   {
    "duration": 5,
    "start_time": "2022-03-23T08:45:03.295Z"
   },
   {
    "duration": 10,
    "start_time": "2022-03-23T08:45:03.301Z"
   },
   {
    "duration": 10,
    "start_time": "2022-03-23T08:45:03.313Z"
   },
   {
    "duration": 11,
    "start_time": "2022-03-23T08:45:03.324Z"
   },
   {
    "duration": 28,
    "start_time": "2022-03-23T08:45:03.337Z"
   },
   {
    "duration": 21,
    "start_time": "2022-03-23T08:45:03.367Z"
   },
   {
    "duration": 20,
    "start_time": "2022-03-23T08:45:03.394Z"
   },
   {
    "duration": 26,
    "start_time": "2022-03-23T08:45:03.416Z"
   },
   {
    "duration": 28,
    "start_time": "2022-03-23T08:45:03.444Z"
   },
   {
    "duration": 28,
    "start_time": "2022-03-23T08:45:03.473Z"
   },
   {
    "duration": 28,
    "start_time": "2022-03-23T08:45:03.503Z"
   },
   {
    "duration": 33,
    "start_time": "2022-03-23T08:45:03.533Z"
   },
   {
    "duration": 23,
    "start_time": "2022-03-23T08:45:03.568Z"
   },
   {
    "duration": 42,
    "start_time": "2022-03-23T08:45:03.593Z"
   },
   {
    "duration": 27,
    "start_time": "2022-03-23T08:45:03.637Z"
   },
   {
    "duration": 38,
    "start_time": "2022-03-23T08:45:03.666Z"
   },
   {
    "duration": 43,
    "start_time": "2022-03-23T08:45:03.706Z"
   },
   {
    "duration": 793,
    "start_time": "2022-03-23T08:45:03.751Z"
   },
   {
    "duration": 0,
    "start_time": "2022-03-23T08:45:04.546Z"
   },
   {
    "duration": 0,
    "start_time": "2022-03-23T08:45:04.548Z"
   },
   {
    "duration": 0,
    "start_time": "2022-03-23T08:45:04.549Z"
   },
   {
    "duration": 0,
    "start_time": "2022-03-23T08:45:04.550Z"
   },
   {
    "duration": 0,
    "start_time": "2022-03-23T08:45:04.551Z"
   },
   {
    "duration": 0,
    "start_time": "2022-03-23T08:45:04.553Z"
   },
   {
    "duration": 0,
    "start_time": "2022-03-23T08:45:04.553Z"
   },
   {
    "duration": 0,
    "start_time": "2022-03-23T08:45:04.554Z"
   },
   {
    "duration": 0,
    "start_time": "2022-03-23T08:45:04.556Z"
   },
   {
    "duration": 0,
    "start_time": "2022-03-23T08:45:04.556Z"
   },
   {
    "duration": 0,
    "start_time": "2022-03-23T08:45:04.558Z"
   },
   {
    "duration": 0,
    "start_time": "2022-03-23T08:45:04.559Z"
   },
   {
    "duration": 0,
    "start_time": "2022-03-23T08:45:04.560Z"
   },
   {
    "duration": 17,
    "start_time": "2022-03-23T08:45:47.808Z"
   },
   {
    "duration": 12,
    "start_time": "2022-03-23T08:45:56.191Z"
   },
   {
    "duration": 4,
    "start_time": "2022-03-23T08:52:26.479Z"
   },
   {
    "duration": 70,
    "start_time": "2022-03-23T08:52:52.768Z"
   },
   {
    "duration": 31,
    "start_time": "2022-03-23T08:52:52.840Z"
   },
   {
    "duration": 29,
    "start_time": "2022-03-23T08:52:52.873Z"
   },
   {
    "duration": 18,
    "start_time": "2022-03-23T08:52:52.905Z"
   },
   {
    "duration": 29,
    "start_time": "2022-03-23T08:52:52.924Z"
   },
   {
    "duration": 18,
    "start_time": "2022-03-23T08:52:52.955Z"
   },
   {
    "duration": 15,
    "start_time": "2022-03-23T08:52:52.974Z"
   },
   {
    "duration": 30,
    "start_time": "2022-03-23T08:52:52.991Z"
   },
   {
    "duration": 29,
    "start_time": "2022-03-23T08:52:53.023Z"
   },
   {
    "duration": 5,
    "start_time": "2022-03-23T08:52:53.055Z"
   },
   {
    "duration": 31,
    "start_time": "2022-03-23T08:52:53.061Z"
   },
   {
    "duration": 26,
    "start_time": "2022-03-23T08:52:53.094Z"
   },
   {
    "duration": 17,
    "start_time": "2022-03-23T08:52:53.122Z"
   },
   {
    "duration": 28,
    "start_time": "2022-03-23T08:52:53.141Z"
   },
   {
    "duration": 21,
    "start_time": "2022-03-23T08:52:53.171Z"
   },
   {
    "duration": 35,
    "start_time": "2022-03-23T08:52:53.194Z"
   },
   {
    "duration": 41,
    "start_time": "2022-03-23T08:52:53.231Z"
   },
   {
    "duration": 5,
    "start_time": "2022-03-23T08:52:53.275Z"
   },
   {
    "duration": 27,
    "start_time": "2022-03-23T08:52:53.281Z"
   },
   {
    "duration": 8,
    "start_time": "2022-03-23T08:52:53.309Z"
   },
   {
    "duration": 34,
    "start_time": "2022-03-23T08:52:53.318Z"
   },
   {
    "duration": 11,
    "start_time": "2022-03-23T08:52:53.353Z"
   },
   {
    "duration": 19,
    "start_time": "2022-03-23T08:52:53.366Z"
   },
   {
    "duration": 11,
    "start_time": "2022-03-23T08:52:53.387Z"
   },
   {
    "duration": 13,
    "start_time": "2022-03-23T08:52:53.399Z"
   },
   {
    "duration": 11,
    "start_time": "2022-03-23T08:52:53.413Z"
   },
   {
    "duration": 34,
    "start_time": "2022-03-23T08:52:53.426Z"
   },
   {
    "duration": 13,
    "start_time": "2022-03-23T08:52:53.464Z"
   },
   {
    "duration": 35,
    "start_time": "2022-03-23T08:52:53.479Z"
   },
   {
    "duration": 28,
    "start_time": "2022-03-23T08:52:53.516Z"
   },
   {
    "duration": 16,
    "start_time": "2022-03-23T08:52:53.546Z"
   },
   {
    "duration": 28,
    "start_time": "2022-03-23T08:52:53.564Z"
   },
   {
    "duration": 9,
    "start_time": "2022-03-23T08:52:53.593Z"
   },
   {
    "duration": 15,
    "start_time": "2022-03-23T08:52:53.603Z"
   },
   {
    "duration": 16,
    "start_time": "2022-03-23T08:52:53.620Z"
   },
   {
    "duration": 18,
    "start_time": "2022-03-23T08:52:53.638Z"
   },
   {
    "duration": 28,
    "start_time": "2022-03-23T08:52:53.659Z"
   },
   {
    "duration": 26,
    "start_time": "2022-03-23T08:52:53.688Z"
   },
   {
    "duration": 821,
    "start_time": "2022-03-23T08:52:53.716Z"
   },
   {
    "duration": 0,
    "start_time": "2022-03-23T08:52:54.539Z"
   },
   {
    "duration": 0,
    "start_time": "2022-03-23T08:52:54.541Z"
   },
   {
    "duration": 0,
    "start_time": "2022-03-23T08:52:54.542Z"
   },
   {
    "duration": 0,
    "start_time": "2022-03-23T08:52:54.543Z"
   },
   {
    "duration": 0,
    "start_time": "2022-03-23T08:52:54.545Z"
   },
   {
    "duration": 0,
    "start_time": "2022-03-23T08:52:54.547Z"
   },
   {
    "duration": 0,
    "start_time": "2022-03-23T08:52:54.548Z"
   },
   {
    "duration": 0,
    "start_time": "2022-03-23T08:52:54.550Z"
   },
   {
    "duration": 0,
    "start_time": "2022-03-23T08:52:54.551Z"
   },
   {
    "duration": 0,
    "start_time": "2022-03-23T08:52:54.552Z"
   },
   {
    "duration": 0,
    "start_time": "2022-03-23T08:52:54.554Z"
   },
   {
    "duration": 0,
    "start_time": "2022-03-23T08:52:54.555Z"
   },
   {
    "duration": 0,
    "start_time": "2022-03-23T08:52:54.556Z"
   },
   {
    "duration": 143,
    "start_time": "2022-03-23T09:07:18.641Z"
   },
   {
    "duration": 6,
    "start_time": "2022-03-23T09:07:33.312Z"
   },
   {
    "duration": 5,
    "start_time": "2022-03-23T09:07:40.385Z"
   },
   {
    "duration": 66,
    "start_time": "2022-03-23T09:07:44.750Z"
   },
   {
    "duration": 16,
    "start_time": "2022-03-23T09:07:44.818Z"
   },
   {
    "duration": 39,
    "start_time": "2022-03-23T09:07:44.836Z"
   },
   {
    "duration": 13,
    "start_time": "2022-03-23T09:07:44.878Z"
   },
   {
    "duration": 8,
    "start_time": "2022-03-23T09:07:44.894Z"
   },
   {
    "duration": 7,
    "start_time": "2022-03-23T09:07:44.904Z"
   },
   {
    "duration": 8,
    "start_time": "2022-03-23T09:07:44.913Z"
   },
   {
    "duration": 43,
    "start_time": "2022-03-23T09:07:44.922Z"
   },
   {
    "duration": 18,
    "start_time": "2022-03-23T09:07:44.967Z"
   },
   {
    "duration": 4,
    "start_time": "2022-03-23T09:07:44.989Z"
   },
   {
    "duration": 4,
    "start_time": "2022-03-23T09:07:44.995Z"
   },
   {
    "duration": 32,
    "start_time": "2022-03-23T09:07:45.001Z"
   },
   {
    "duration": 165,
    "start_time": "2022-03-23T09:07:45.035Z"
   },
   {
    "duration": 0,
    "start_time": "2022-03-23T09:07:45.202Z"
   },
   {
    "duration": 0,
    "start_time": "2022-03-23T09:07:45.203Z"
   },
   {
    "duration": 0,
    "start_time": "2022-03-23T09:07:45.205Z"
   },
   {
    "duration": 0,
    "start_time": "2022-03-23T09:07:45.206Z"
   },
   {
    "duration": 0,
    "start_time": "2022-03-23T09:07:45.207Z"
   },
   {
    "duration": 0,
    "start_time": "2022-03-23T09:07:45.208Z"
   },
   {
    "duration": 0,
    "start_time": "2022-03-23T09:07:45.209Z"
   },
   {
    "duration": 0,
    "start_time": "2022-03-23T09:07:45.211Z"
   },
   {
    "duration": 0,
    "start_time": "2022-03-23T09:07:45.212Z"
   },
   {
    "duration": 0,
    "start_time": "2022-03-23T09:07:45.213Z"
   },
   {
    "duration": 0,
    "start_time": "2022-03-23T09:07:45.214Z"
   },
   {
    "duration": 0,
    "start_time": "2022-03-23T09:07:45.215Z"
   },
   {
    "duration": 0,
    "start_time": "2022-03-23T09:07:45.216Z"
   },
   {
    "duration": 0,
    "start_time": "2022-03-23T09:07:45.216Z"
   },
   {
    "duration": 0,
    "start_time": "2022-03-23T09:07:45.217Z"
   },
   {
    "duration": 0,
    "start_time": "2022-03-23T09:07:45.219Z"
   },
   {
    "duration": 0,
    "start_time": "2022-03-23T09:07:45.220Z"
   },
   {
    "duration": 0,
    "start_time": "2022-03-23T09:07:45.221Z"
   },
   {
    "duration": 0,
    "start_time": "2022-03-23T09:07:45.221Z"
   },
   {
    "duration": 0,
    "start_time": "2022-03-23T09:07:45.223Z"
   },
   {
    "duration": 0,
    "start_time": "2022-03-23T09:07:45.223Z"
   },
   {
    "duration": 0,
    "start_time": "2022-03-23T09:07:45.224Z"
   },
   {
    "duration": 0,
    "start_time": "2022-03-23T09:07:45.225Z"
   },
   {
    "duration": 0,
    "start_time": "2022-03-23T09:07:45.226Z"
   },
   {
    "duration": 0,
    "start_time": "2022-03-23T09:07:45.227Z"
   },
   {
    "duration": 0,
    "start_time": "2022-03-23T09:07:45.228Z"
   },
   {
    "duration": 0,
    "start_time": "2022-03-23T09:07:45.229Z"
   },
   {
    "duration": 0,
    "start_time": "2022-03-23T09:07:45.229Z"
   },
   {
    "duration": 0,
    "start_time": "2022-03-23T09:07:45.230Z"
   },
   {
    "duration": 0,
    "start_time": "2022-03-23T09:07:45.231Z"
   },
   {
    "duration": 0,
    "start_time": "2022-03-23T09:07:45.232Z"
   },
   {
    "duration": 0,
    "start_time": "2022-03-23T09:07:45.233Z"
   },
   {
    "duration": 0,
    "start_time": "2022-03-23T09:07:45.234Z"
   },
   {
    "duration": 0,
    "start_time": "2022-03-23T09:07:45.235Z"
   },
   {
    "duration": 0,
    "start_time": "2022-03-23T09:07:45.235Z"
   },
   {
    "duration": 0,
    "start_time": "2022-03-23T09:07:45.236Z"
   },
   {
    "duration": 0,
    "start_time": "2022-03-23T09:07:45.237Z"
   },
   {
    "duration": 0,
    "start_time": "2022-03-23T09:07:45.262Z"
   },
   {
    "duration": 0,
    "start_time": "2022-03-23T09:07:45.264Z"
   },
   {
    "duration": 0,
    "start_time": "2022-03-23T09:07:45.265Z"
   },
   {
    "duration": 133,
    "start_time": "2022-03-23T09:08:07.753Z"
   },
   {
    "duration": 5,
    "start_time": "2022-03-23T09:08:18.314Z"
   },
   {
    "duration": 7,
    "start_time": "2022-03-23T09:08:21.497Z"
   },
   {
    "duration": 5,
    "start_time": "2022-03-23T09:08:41.561Z"
   },
   {
    "duration": 6,
    "start_time": "2022-03-23T09:08:44.386Z"
   },
   {
    "duration": 6,
    "start_time": "2022-03-23T09:09:02.866Z"
   },
   {
    "duration": 5,
    "start_time": "2022-03-23T09:09:17.866Z"
   },
   {
    "duration": 6,
    "start_time": "2022-03-23T09:09:20.729Z"
   },
   {
    "duration": 5,
    "start_time": "2022-03-23T09:09:45.955Z"
   },
   {
    "duration": 6,
    "start_time": "2022-03-23T09:09:47.833Z"
   },
   {
    "duration": 6,
    "start_time": "2022-03-23T09:10:06.652Z"
   },
   {
    "duration": 6,
    "start_time": "2022-03-23T09:10:09.267Z"
   },
   {
    "duration": 6,
    "start_time": "2022-03-23T09:10:12.706Z"
   },
   {
    "duration": 64,
    "start_time": "2022-03-23T09:10:15.676Z"
   },
   {
    "duration": 21,
    "start_time": "2022-03-23T09:10:15.742Z"
   },
   {
    "duration": 13,
    "start_time": "2022-03-23T09:10:15.764Z"
   },
   {
    "duration": 28,
    "start_time": "2022-03-23T09:10:15.779Z"
   },
   {
    "duration": 23,
    "start_time": "2022-03-23T09:10:15.808Z"
   },
   {
    "duration": 25,
    "start_time": "2022-03-23T09:10:15.832Z"
   },
   {
    "duration": 29,
    "start_time": "2022-03-23T09:10:15.858Z"
   },
   {
    "duration": 18,
    "start_time": "2022-03-23T09:10:15.888Z"
   },
   {
    "duration": 42,
    "start_time": "2022-03-23T09:10:15.907Z"
   },
   {
    "duration": 11,
    "start_time": "2022-03-23T09:10:15.952Z"
   },
   {
    "duration": 30,
    "start_time": "2022-03-23T09:10:15.965Z"
   },
   {
    "duration": 31,
    "start_time": "2022-03-23T09:10:15.996Z"
   },
   {
    "duration": 16,
    "start_time": "2022-03-23T09:10:16.029Z"
   },
   {
    "duration": 25,
    "start_time": "2022-03-23T09:10:16.047Z"
   },
   {
    "duration": 32,
    "start_time": "2022-03-23T09:10:16.074Z"
   },
   {
    "duration": 23,
    "start_time": "2022-03-23T09:10:16.108Z"
   },
   {
    "duration": 42,
    "start_time": "2022-03-23T09:10:16.132Z"
   },
   {
    "duration": 36,
    "start_time": "2022-03-23T09:10:16.175Z"
   },
   {
    "duration": 16,
    "start_time": "2022-03-23T09:10:16.213Z"
   },
   {
    "duration": 25,
    "start_time": "2022-03-23T09:10:16.230Z"
   },
   {
    "duration": 17,
    "start_time": "2022-03-23T09:10:16.256Z"
   },
   {
    "duration": 35,
    "start_time": "2022-03-23T09:10:16.274Z"
   },
   {
    "duration": 22,
    "start_time": "2022-03-23T09:10:16.311Z"
   },
   {
    "duration": 41,
    "start_time": "2022-03-23T09:10:16.335Z"
   },
   {
    "duration": 31,
    "start_time": "2022-03-23T09:10:16.378Z"
   },
   {
    "duration": 11,
    "start_time": "2022-03-23T09:10:16.411Z"
   },
   {
    "duration": 31,
    "start_time": "2022-03-23T09:10:16.423Z"
   },
   {
    "duration": 10,
    "start_time": "2022-03-23T09:10:16.458Z"
   },
   {
    "duration": 27,
    "start_time": "2022-03-23T09:10:16.470Z"
   },
   {
    "duration": 28,
    "start_time": "2022-03-23T09:10:16.498Z"
   },
   {
    "duration": 32,
    "start_time": "2022-03-23T09:10:16.528Z"
   },
   {
    "duration": 33,
    "start_time": "2022-03-23T09:10:16.562Z"
   },
   {
    "duration": 26,
    "start_time": "2022-03-23T09:10:16.597Z"
   },
   {
    "duration": 30,
    "start_time": "2022-03-23T09:10:16.625Z"
   },
   {
    "duration": 38,
    "start_time": "2022-03-23T09:10:16.657Z"
   },
   {
    "duration": 20,
    "start_time": "2022-03-23T09:10:16.697Z"
   },
   {
    "duration": 28,
    "start_time": "2022-03-23T09:10:16.719Z"
   },
   {
    "duration": 39,
    "start_time": "2022-03-23T09:10:16.749Z"
   },
   {
    "duration": 21,
    "start_time": "2022-03-23T09:10:16.790Z"
   },
   {
    "duration": 55,
    "start_time": "2022-03-23T09:10:16.813Z"
   },
   {
    "duration": 5,
    "start_time": "2022-03-23T09:10:16.870Z"
   },
   {
    "duration": 21,
    "start_time": "2022-03-23T09:10:16.876Z"
   },
   {
    "duration": 47,
    "start_time": "2022-03-23T09:10:16.899Z"
   },
   {
    "duration": 15,
    "start_time": "2022-03-23T09:10:16.947Z"
   },
   {
    "duration": 19,
    "start_time": "2022-03-23T09:10:16.964Z"
   },
   {
    "duration": 30,
    "start_time": "2022-03-23T09:10:16.984Z"
   },
   {
    "duration": 8,
    "start_time": "2022-03-23T09:10:17.016Z"
   },
   {
    "duration": 9,
    "start_time": "2022-03-23T09:10:17.025Z"
   },
   {
    "duration": 33,
    "start_time": "2022-03-23T09:10:17.036Z"
   },
   {
    "duration": 9,
    "start_time": "2022-03-23T09:10:17.070Z"
   },
   {
    "duration": 10,
    "start_time": "2022-03-23T09:10:17.081Z"
   },
   {
    "duration": 19,
    "start_time": "2022-03-23T09:10:17.093Z"
   },
   {
    "duration": 11,
    "start_time": "2022-03-23T09:10:17.114Z"
   },
   {
    "duration": 5,
    "start_time": "2022-03-23T09:11:34.388Z"
   },
   {
    "duration": 11,
    "start_time": "2022-03-23T09:12:00.284Z"
   },
   {
    "duration": 12,
    "start_time": "2022-03-23T09:12:33.381Z"
   },
   {
    "duration": 5,
    "start_time": "2022-03-23T09:12:36.876Z"
   },
   {
    "duration": 9,
    "start_time": "2022-03-23T09:14:05.423Z"
   },
   {
    "duration": 7,
    "start_time": "2022-03-23T09:14:07.469Z"
   },
   {
    "duration": 4,
    "start_time": "2022-03-23T09:15:50.503Z"
   },
   {
    "duration": 6,
    "start_time": "2022-03-23T09:15:52.054Z"
   },
   {
    "duration": 4,
    "start_time": "2022-03-23T09:15:59.687Z"
   },
   {
    "duration": 6,
    "start_time": "2022-03-23T09:16:01.438Z"
   },
   {
    "duration": 63,
    "start_time": "2022-03-23T09:16:05.649Z"
   },
   {
    "duration": 15,
    "start_time": "2022-03-23T09:16:05.714Z"
   },
   {
    "duration": 38,
    "start_time": "2022-03-23T09:16:05.730Z"
   },
   {
    "duration": 12,
    "start_time": "2022-03-23T09:16:05.770Z"
   },
   {
    "duration": 7,
    "start_time": "2022-03-23T09:16:05.784Z"
   },
   {
    "duration": 9,
    "start_time": "2022-03-23T09:16:05.793Z"
   },
   {
    "duration": 27,
    "start_time": "2022-03-23T09:16:05.803Z"
   },
   {
    "duration": 10,
    "start_time": "2022-03-23T09:16:05.831Z"
   },
   {
    "duration": 33,
    "start_time": "2022-03-23T09:16:05.842Z"
   },
   {
    "duration": 4,
    "start_time": "2022-03-23T09:16:05.878Z"
   },
   {
    "duration": 7,
    "start_time": "2022-03-23T09:16:05.884Z"
   },
   {
    "duration": 8,
    "start_time": "2022-03-23T09:16:05.892Z"
   },
   {
    "duration": 7,
    "start_time": "2022-03-23T09:16:05.902Z"
   },
   {
    "duration": 7,
    "start_time": "2022-03-23T09:16:05.911Z"
   },
   {
    "duration": 17,
    "start_time": "2022-03-23T09:16:05.920Z"
   },
   {
    "duration": 33,
    "start_time": "2022-03-23T09:16:05.939Z"
   },
   {
    "duration": 20,
    "start_time": "2022-03-23T09:16:05.974Z"
   },
   {
    "duration": 31,
    "start_time": "2022-03-23T09:16:05.996Z"
   },
   {
    "duration": 5,
    "start_time": "2022-03-23T09:16:06.029Z"
   },
   {
    "duration": 16,
    "start_time": "2022-03-23T09:16:06.063Z"
   },
   {
    "duration": 7,
    "start_time": "2022-03-23T09:16:06.081Z"
   },
   {
    "duration": 19,
    "start_time": "2022-03-23T09:16:06.090Z"
   },
   {
    "duration": 6,
    "start_time": "2022-03-23T09:16:06.110Z"
   },
   {
    "duration": 20,
    "start_time": "2022-03-23T09:16:06.117Z"
   },
   {
    "duration": 29,
    "start_time": "2022-03-23T09:16:06.138Z"
   },
   {
    "duration": 6,
    "start_time": "2022-03-23T09:16:06.168Z"
   },
   {
    "duration": 8,
    "start_time": "2022-03-23T09:16:06.175Z"
   },
   {
    "duration": 6,
    "start_time": "2022-03-23T09:16:06.187Z"
   },
   {
    "duration": 7,
    "start_time": "2022-03-23T09:16:06.195Z"
   },
   {
    "duration": 8,
    "start_time": "2022-03-23T09:16:06.204Z"
   },
   {
    "duration": 55,
    "start_time": "2022-03-23T09:16:06.214Z"
   },
   {
    "duration": 18,
    "start_time": "2022-03-23T09:16:06.271Z"
   },
   {
    "duration": 17,
    "start_time": "2022-03-23T09:16:06.291Z"
   },
   {
    "duration": 9,
    "start_time": "2022-03-23T09:16:06.310Z"
   },
   {
    "duration": 8,
    "start_time": "2022-03-23T09:16:06.321Z"
   },
   {
    "duration": 13,
    "start_time": "2022-03-23T09:16:06.363Z"
   },
   {
    "duration": 7,
    "start_time": "2022-03-23T09:16:06.377Z"
   },
   {
    "duration": 25,
    "start_time": "2022-03-23T09:16:06.386Z"
   },
   {
    "duration": 4,
    "start_time": "2022-03-23T09:16:06.413Z"
   },
   {
    "duration": 56,
    "start_time": "2022-03-23T09:16:06.419Z"
   },
   {
    "duration": 4,
    "start_time": "2022-03-23T09:16:06.477Z"
   },
   {
    "duration": 7,
    "start_time": "2022-03-23T09:16:06.483Z"
   },
   {
    "duration": 20,
    "start_time": "2022-03-23T09:16:06.492Z"
   },
   {
    "duration": 7,
    "start_time": "2022-03-23T09:16:06.514Z"
   },
   {
    "duration": 8,
    "start_time": "2022-03-23T09:16:06.522Z"
   },
   {
    "duration": 54,
    "start_time": "2022-03-23T09:16:06.532Z"
   },
   {
    "duration": 6,
    "start_time": "2022-03-23T09:16:06.588Z"
   },
   {
    "duration": 7,
    "start_time": "2022-03-23T09:16:06.596Z"
   },
   {
    "duration": 19,
    "start_time": "2022-03-23T09:16:06.604Z"
   },
   {
    "duration": 6,
    "start_time": "2022-03-23T09:16:06.625Z"
   },
   {
    "duration": 33,
    "start_time": "2022-03-23T09:16:06.633Z"
   },
   {
    "duration": 19,
    "start_time": "2022-03-23T09:16:06.668Z"
   },
   {
    "duration": 9,
    "start_time": "2022-03-23T09:16:06.689Z"
   },
   {
    "duration": 5,
    "start_time": "2022-03-23T09:16:22.687Z"
   },
   {
    "duration": 6,
    "start_time": "2022-03-23T09:16:24.415Z"
   },
   {
    "duration": 4,
    "start_time": "2022-03-23T09:22:52.876Z"
   },
   {
    "duration": 5,
    "start_time": "2022-03-23T09:22:55.389Z"
   },
   {
    "duration": 6,
    "start_time": "2022-03-23T09:23:10.748Z"
   },
   {
    "duration": 68,
    "start_time": "2022-03-23T09:23:14.327Z"
   },
   {
    "duration": 15,
    "start_time": "2022-03-23T09:23:14.397Z"
   },
   {
    "duration": 11,
    "start_time": "2022-03-23T09:23:14.414Z"
   },
   {
    "duration": 42,
    "start_time": "2022-03-23T09:23:14.427Z"
   },
   {
    "duration": 6,
    "start_time": "2022-03-23T09:23:14.471Z"
   },
   {
    "duration": 9,
    "start_time": "2022-03-23T09:23:14.478Z"
   },
   {
    "duration": 4,
    "start_time": "2022-03-23T09:23:14.489Z"
   },
   {
    "duration": 6,
    "start_time": "2022-03-23T09:23:14.495Z"
   },
   {
    "duration": 31,
    "start_time": "2022-03-23T09:23:14.502Z"
   },
   {
    "duration": 30,
    "start_time": "2022-03-23T09:23:14.535Z"
   },
   {
    "duration": 5,
    "start_time": "2022-03-23T09:23:14.567Z"
   },
   {
    "duration": 8,
    "start_time": "2022-03-23T09:23:14.574Z"
   },
   {
    "duration": 9,
    "start_time": "2022-03-23T09:23:14.584Z"
   },
   {
    "duration": 9,
    "start_time": "2022-03-23T09:23:14.594Z"
   },
   {
    "duration": 24,
    "start_time": "2022-03-23T09:23:14.604Z"
   },
   {
    "duration": 11,
    "start_time": "2022-03-23T09:23:14.629Z"
   },
   {
    "duration": 19,
    "start_time": "2022-03-23T09:23:14.663Z"
   },
   {
    "duration": 33,
    "start_time": "2022-03-23T09:23:14.683Z"
   },
   {
    "duration": 6,
    "start_time": "2022-03-23T09:23:14.718Z"
   },
   {
    "duration": 47,
    "start_time": "2022-03-23T09:23:14.725Z"
   },
   {
    "duration": 6,
    "start_time": "2022-03-23T09:23:14.774Z"
   },
   {
    "duration": 29,
    "start_time": "2022-03-23T09:23:14.782Z"
   },
   {
    "duration": 20,
    "start_time": "2022-03-23T09:23:14.813Z"
   },
   {
    "duration": 14,
    "start_time": "2022-03-23T09:23:14.834Z"
   },
   {
    "duration": 13,
    "start_time": "2022-03-23T09:23:14.850Z"
   },
   {
    "duration": 8,
    "start_time": "2022-03-23T09:23:14.865Z"
   },
   {
    "duration": 8,
    "start_time": "2022-03-23T09:23:14.875Z"
   },
   {
    "duration": 7,
    "start_time": "2022-03-23T09:23:14.886Z"
   },
   {
    "duration": 8,
    "start_time": "2022-03-23T09:23:14.895Z"
   },
   {
    "duration": 13,
    "start_time": "2022-03-23T09:23:14.904Z"
   },
   {
    "duration": 44,
    "start_time": "2022-03-23T09:23:14.918Z"
   },
   {
    "duration": 18,
    "start_time": "2022-03-23T09:23:14.964Z"
   },
   {
    "duration": 17,
    "start_time": "2022-03-23T09:23:14.984Z"
   },
   {
    "duration": 12,
    "start_time": "2022-03-23T09:23:15.003Z"
   },
   {
    "duration": 28,
    "start_time": "2022-03-23T09:23:15.017Z"
   },
   {
    "duration": 26,
    "start_time": "2022-03-23T09:23:15.047Z"
   },
   {
    "duration": 4,
    "start_time": "2022-03-23T09:23:15.074Z"
   },
   {
    "duration": 38,
    "start_time": "2022-03-23T09:23:15.080Z"
   },
   {
    "duration": 6,
    "start_time": "2022-03-23T09:23:15.120Z"
   },
   {
    "duration": 48,
    "start_time": "2022-03-23T09:23:15.128Z"
   },
   {
    "duration": 5,
    "start_time": "2022-03-23T09:23:15.178Z"
   },
   {
    "duration": 7,
    "start_time": "2022-03-23T09:23:15.185Z"
   },
   {
    "duration": 48,
    "start_time": "2022-03-23T09:23:15.193Z"
   },
   {
    "duration": 8,
    "start_time": "2022-03-23T09:23:15.242Z"
   },
   {
    "duration": 13,
    "start_time": "2022-03-23T09:23:15.252Z"
   },
   {
    "duration": 33,
    "start_time": "2022-03-23T09:23:15.267Z"
   },
   {
    "duration": 8,
    "start_time": "2022-03-23T09:23:15.301Z"
   },
   {
    "duration": 15,
    "start_time": "2022-03-23T09:23:15.310Z"
   },
   {
    "duration": 36,
    "start_time": "2022-03-23T09:23:15.327Z"
   },
   {
    "duration": 8,
    "start_time": "2022-03-23T09:23:15.364Z"
   },
   {
    "duration": 9,
    "start_time": "2022-03-23T09:23:15.374Z"
   },
   {
    "duration": 20,
    "start_time": "2022-03-23T09:23:15.384Z"
   },
   {
    "duration": 8,
    "start_time": "2022-03-23T09:23:15.405Z"
   },
   {
    "duration": 19,
    "start_time": "2022-03-23T09:36:13.638Z"
   },
   {
    "duration": 18,
    "start_time": "2022-03-23T09:36:14.950Z"
   },
   {
    "duration": 10,
    "start_time": "2022-03-23T09:36:44.198Z"
   },
   {
    "duration": 11,
    "start_time": "2022-03-23T09:36:46.127Z"
   },
   {
    "duration": 17,
    "start_time": "2022-03-23T09:37:16.695Z"
   },
   {
    "duration": 18,
    "start_time": "2022-03-23T09:37:19.535Z"
   },
   {
    "duration": 11,
    "start_time": "2022-03-23T09:37:22.414Z"
   },
   {
    "duration": 11,
    "start_time": "2022-03-23T09:37:28.159Z"
   },
   {
    "duration": 72,
    "start_time": "2022-03-23T09:37:39.233Z"
   },
   {
    "duration": 16,
    "start_time": "2022-03-23T09:37:39.306Z"
   },
   {
    "duration": 12,
    "start_time": "2022-03-23T09:37:39.324Z"
   },
   {
    "duration": 12,
    "start_time": "2022-03-23T09:37:39.363Z"
   },
   {
    "duration": 6,
    "start_time": "2022-03-23T09:37:39.377Z"
   },
   {
    "duration": 10,
    "start_time": "2022-03-23T09:37:39.384Z"
   },
   {
    "duration": 6,
    "start_time": "2022-03-23T09:37:39.396Z"
   },
   {
    "duration": 5,
    "start_time": "2022-03-23T09:37:39.404Z"
   },
   {
    "duration": 52,
    "start_time": "2022-03-23T09:37:39.411Z"
   },
   {
    "duration": 5,
    "start_time": "2022-03-23T09:37:39.467Z"
   },
   {
    "duration": 7,
    "start_time": "2022-03-23T09:37:39.473Z"
   },
   {
    "duration": 7,
    "start_time": "2022-03-23T09:37:39.481Z"
   },
   {
    "duration": 4,
    "start_time": "2022-03-23T09:37:39.490Z"
   },
   {
    "duration": 7,
    "start_time": "2022-03-23T09:37:39.496Z"
   },
   {
    "duration": 21,
    "start_time": "2022-03-23T09:37:39.504Z"
   },
   {
    "duration": 46,
    "start_time": "2022-03-23T09:37:39.526Z"
   },
   {
    "duration": 37,
    "start_time": "2022-03-23T09:37:39.574Z"
   },
   {
    "duration": 59,
    "start_time": "2022-03-23T09:37:39.613Z"
   },
   {
    "duration": 5,
    "start_time": "2022-03-23T09:37:39.674Z"
   },
   {
    "duration": 19,
    "start_time": "2022-03-23T09:37:39.681Z"
   },
   {
    "duration": 6,
    "start_time": "2022-03-23T09:37:39.702Z"
   },
   {
    "duration": 21,
    "start_time": "2022-03-23T09:37:39.710Z"
   },
   {
    "duration": 34,
    "start_time": "2022-03-23T09:37:39.733Z"
   },
   {
    "duration": 11,
    "start_time": "2022-03-23T09:37:39.769Z"
   },
   {
    "duration": 12,
    "start_time": "2022-03-23T09:37:39.781Z"
   },
   {
    "duration": 7,
    "start_time": "2022-03-23T09:37:39.795Z"
   },
   {
    "duration": 8,
    "start_time": "2022-03-23T09:37:39.804Z"
   },
   {
    "duration": 11,
    "start_time": "2022-03-23T09:37:39.816Z"
   },
   {
    "duration": 38,
    "start_time": "2022-03-23T09:37:39.829Z"
   },
   {
    "duration": 9,
    "start_time": "2022-03-23T09:37:39.869Z"
   },
   {
    "duration": 35,
    "start_time": "2022-03-23T09:37:39.879Z"
   },
   {
    "duration": 20,
    "start_time": "2022-03-23T09:37:39.916Z"
   },
   {
    "duration": 36,
    "start_time": "2022-03-23T09:37:39.938Z"
   },
   {
    "duration": 10,
    "start_time": "2022-03-23T09:37:39.976Z"
   },
   {
    "duration": 15,
    "start_time": "2022-03-23T09:37:39.988Z"
   },
   {
    "duration": 25,
    "start_time": "2022-03-23T09:37:40.005Z"
   },
   {
    "duration": 31,
    "start_time": "2022-03-23T09:37:40.032Z"
   },
   {
    "duration": 42,
    "start_time": "2022-03-23T09:37:40.066Z"
   },
   {
    "duration": 6,
    "start_time": "2022-03-23T09:37:40.110Z"
   },
   {
    "duration": 73,
    "start_time": "2022-03-23T09:37:40.118Z"
   },
   {
    "duration": 6,
    "start_time": "2022-03-23T09:37:40.193Z"
   },
   {
    "duration": 19,
    "start_time": "2022-03-23T09:37:40.201Z"
   },
   {
    "duration": 33,
    "start_time": "2022-03-23T09:37:40.223Z"
   },
   {
    "duration": 8,
    "start_time": "2022-03-23T09:37:40.263Z"
   },
   {
    "duration": 12,
    "start_time": "2022-03-23T09:37:40.273Z"
   },
   {
    "duration": 29,
    "start_time": "2022-03-23T09:37:40.287Z"
   },
   {
    "duration": 7,
    "start_time": "2022-03-23T09:37:40.318Z"
   },
   {
    "duration": 7,
    "start_time": "2022-03-23T09:37:40.327Z"
   },
   {
    "duration": 19,
    "start_time": "2022-03-23T09:37:40.363Z"
   },
   {
    "duration": 7,
    "start_time": "2022-03-23T09:37:40.384Z"
   },
   {
    "duration": 9,
    "start_time": "2022-03-23T09:37:40.392Z"
   },
   {
    "duration": 19,
    "start_time": "2022-03-23T09:37:40.403Z"
   },
   {
    "duration": 41,
    "start_time": "2022-03-23T09:37:40.424Z"
   },
   {
    "duration": 71,
    "start_time": "2022-03-23T09:38:21.569Z"
   },
   {
    "duration": 26,
    "start_time": "2022-03-23T09:38:21.642Z"
   },
   {
    "duration": 24,
    "start_time": "2022-03-23T09:38:21.670Z"
   },
   {
    "duration": 34,
    "start_time": "2022-03-23T09:38:21.697Z"
   },
   {
    "duration": 12,
    "start_time": "2022-03-23T09:38:21.733Z"
   },
   {
    "duration": 30,
    "start_time": "2022-03-23T09:38:21.747Z"
   },
   {
    "duration": 32,
    "start_time": "2022-03-23T09:38:21.778Z"
   },
   {
    "duration": 25,
    "start_time": "2022-03-23T09:38:21.812Z"
   },
   {
    "duration": 36,
    "start_time": "2022-03-23T09:38:21.838Z"
   },
   {
    "duration": 4,
    "start_time": "2022-03-23T09:38:21.878Z"
   },
   {
    "duration": 8,
    "start_time": "2022-03-23T09:38:21.884Z"
   },
   {
    "duration": 10,
    "start_time": "2022-03-23T09:38:21.894Z"
   },
   {
    "duration": 11,
    "start_time": "2022-03-23T09:38:21.905Z"
   },
   {
    "duration": 8,
    "start_time": "2022-03-23T09:38:21.917Z"
   },
   {
    "duration": 39,
    "start_time": "2022-03-23T09:38:21.926Z"
   },
   {
    "duration": 12,
    "start_time": "2022-03-23T09:38:21.966Z"
   },
   {
    "duration": 19,
    "start_time": "2022-03-23T09:38:21.980Z"
   },
   {
    "duration": 31,
    "start_time": "2022-03-23T09:38:22.001Z"
   },
   {
    "duration": 31,
    "start_time": "2022-03-23T09:38:22.034Z"
   },
   {
    "duration": 17,
    "start_time": "2022-03-23T09:38:22.067Z"
   },
   {
    "duration": 7,
    "start_time": "2022-03-23T09:38:22.086Z"
   },
   {
    "duration": 24,
    "start_time": "2022-03-23T09:38:22.094Z"
   },
   {
    "duration": 5,
    "start_time": "2022-03-23T09:38:22.120Z"
   },
   {
    "duration": 14,
    "start_time": "2022-03-23T09:38:22.126Z"
   },
   {
    "duration": 8,
    "start_time": "2022-03-23T09:38:22.162Z"
   },
   {
    "duration": 20,
    "start_time": "2022-03-23T09:38:22.171Z"
   },
   {
    "duration": 21,
    "start_time": "2022-03-23T09:38:22.192Z"
   },
   {
    "duration": 14,
    "start_time": "2022-03-23T09:38:22.216Z"
   },
   {
    "duration": 35,
    "start_time": "2022-03-23T09:38:22.231Z"
   },
   {
    "duration": 14,
    "start_time": "2022-03-23T09:38:22.268Z"
   },
   {
    "duration": 31,
    "start_time": "2022-03-23T09:38:22.284Z"
   },
   {
    "duration": 21,
    "start_time": "2022-03-23T09:38:22.317Z"
   },
   {
    "duration": 19,
    "start_time": "2022-03-23T09:38:22.340Z"
   },
   {
    "duration": 15,
    "start_time": "2022-03-23T09:38:22.363Z"
   },
   {
    "duration": 19,
    "start_time": "2022-03-23T09:38:22.380Z"
   },
   {
    "duration": 17,
    "start_time": "2022-03-23T09:38:22.401Z"
   },
   {
    "duration": 23,
    "start_time": "2022-03-23T09:38:22.420Z"
   },
   {
    "duration": 45,
    "start_time": "2022-03-23T09:38:22.445Z"
   },
   {
    "duration": 11,
    "start_time": "2022-03-23T09:38:22.492Z"
   },
   {
    "duration": 72,
    "start_time": "2022-03-23T09:38:22.505Z"
   },
   {
    "duration": 5,
    "start_time": "2022-03-23T09:38:22.579Z"
   },
   {
    "duration": 23,
    "start_time": "2022-03-23T09:38:22.586Z"
   },
   {
    "duration": 24,
    "start_time": "2022-03-23T09:38:22.610Z"
   },
   {
    "duration": 7,
    "start_time": "2022-03-23T09:38:22.636Z"
   },
   {
    "duration": 20,
    "start_time": "2022-03-23T09:38:22.645Z"
   },
   {
    "duration": 33,
    "start_time": "2022-03-23T09:38:22.667Z"
   },
   {
    "duration": 7,
    "start_time": "2022-03-23T09:38:22.702Z"
   },
   {
    "duration": 10,
    "start_time": "2022-03-23T09:38:22.711Z"
   },
   {
    "duration": 43,
    "start_time": "2022-03-23T09:38:22.723Z"
   },
   {
    "duration": 10,
    "start_time": "2022-03-23T09:38:22.768Z"
   },
   {
    "duration": 9,
    "start_time": "2022-03-23T09:38:22.779Z"
   },
   {
    "duration": 21,
    "start_time": "2022-03-23T09:38:22.789Z"
   },
   {
    "duration": 9,
    "start_time": "2022-03-23T09:38:22.813Z"
   },
   {
    "duration": 11,
    "start_time": "2022-03-23T09:48:06.751Z"
   },
   {
    "duration": 10,
    "start_time": "2022-03-23T09:48:41.952Z"
   },
   {
    "duration": 12,
    "start_time": "2022-03-23T09:49:12.984Z"
   },
   {
    "duration": 65,
    "start_time": "2022-03-23T09:49:23.761Z"
   },
   {
    "duration": 38,
    "start_time": "2022-03-23T09:49:23.829Z"
   },
   {
    "duration": 14,
    "start_time": "2022-03-23T09:49:23.869Z"
   },
   {
    "duration": 14,
    "start_time": "2022-03-23T09:49:23.885Z"
   },
   {
    "duration": 8,
    "start_time": "2022-03-23T09:49:23.900Z"
   },
   {
    "duration": 8,
    "start_time": "2022-03-23T09:49:23.909Z"
   },
   {
    "duration": 45,
    "start_time": "2022-03-23T09:49:23.919Z"
   },
   {
    "duration": 7,
    "start_time": "2022-03-23T09:49:23.966Z"
   },
   {
    "duration": 16,
    "start_time": "2022-03-23T09:49:23.975Z"
   },
   {
    "duration": 4,
    "start_time": "2022-03-23T09:49:23.994Z"
   },
   {
    "duration": 5,
    "start_time": "2022-03-23T09:49:24.000Z"
   },
   {
    "duration": 6,
    "start_time": "2022-03-23T09:49:24.007Z"
   },
   {
    "duration": 49,
    "start_time": "2022-03-23T09:49:24.015Z"
   },
   {
    "duration": 7,
    "start_time": "2022-03-23T09:49:24.066Z"
   },
   {
    "duration": 18,
    "start_time": "2022-03-23T09:49:24.075Z"
   },
   {
    "duration": 11,
    "start_time": "2022-03-23T09:49:24.095Z"
   },
   {
    "duration": 18,
    "start_time": "2022-03-23T09:49:24.108Z"
   },
   {
    "duration": 63,
    "start_time": "2022-03-23T09:49:24.128Z"
   },
   {
    "duration": 7,
    "start_time": "2022-03-23T09:49:24.192Z"
   },
   {
    "duration": 16,
    "start_time": "2022-03-23T09:49:24.200Z"
   },
   {
    "duration": 6,
    "start_time": "2022-03-23T09:49:24.218Z"
   },
   {
    "duration": 52,
    "start_time": "2022-03-23T09:49:24.226Z"
   },
   {
    "duration": 7,
    "start_time": "2022-03-23T09:49:24.280Z"
   },
   {
    "duration": 12,
    "start_time": "2022-03-23T09:49:24.289Z"
   },
   {
    "duration": 9,
    "start_time": "2022-03-23T09:49:24.302Z"
   },
   {
    "duration": 6,
    "start_time": "2022-03-23T09:49:24.312Z"
   },
   {
    "duration": 7,
    "start_time": "2022-03-23T09:49:24.320Z"
   },
   {
    "duration": 34,
    "start_time": "2022-03-23T09:49:24.330Z"
   },
   {
    "duration": 7,
    "start_time": "2022-03-23T09:49:24.366Z"
   },
   {
    "duration": 8,
    "start_time": "2022-03-23T09:49:24.375Z"
   },
   {
    "duration": 18,
    "start_time": "2022-03-23T09:49:24.385Z"
   },
   {
    "duration": 19,
    "start_time": "2022-03-23T09:49:24.404Z"
   },
   {
    "duration": 47,
    "start_time": "2022-03-23T09:49:24.424Z"
   },
   {
    "duration": 9,
    "start_time": "2022-03-23T09:49:24.472Z"
   },
   {
    "duration": 12,
    "start_time": "2022-03-23T09:49:24.482Z"
   },
   {
    "duration": 16,
    "start_time": "2022-03-23T09:49:24.495Z"
   },
   {
    "duration": 4,
    "start_time": "2022-03-23T09:49:24.513Z"
   },
   {
    "duration": 49,
    "start_time": "2022-03-23T09:49:24.519Z"
   },
   {
    "duration": 4,
    "start_time": "2022-03-23T09:49:24.570Z"
   },
   {
    "duration": 39,
    "start_time": "2022-03-23T09:49:24.576Z"
   },
   {
    "duration": 5,
    "start_time": "2022-03-23T09:49:24.616Z"
   },
   {
    "duration": 6,
    "start_time": "2022-03-23T09:49:24.622Z"
   },
   {
    "duration": 42,
    "start_time": "2022-03-23T09:49:24.629Z"
   },
   {
    "duration": 6,
    "start_time": "2022-03-23T09:49:24.673Z"
   },
   {
    "duration": 8,
    "start_time": "2022-03-23T09:49:24.681Z"
   },
   {
    "duration": 28,
    "start_time": "2022-03-23T09:49:24.690Z"
   },
   {
    "duration": 6,
    "start_time": "2022-03-23T09:49:24.720Z"
   },
   {
    "duration": 8,
    "start_time": "2022-03-23T09:49:24.727Z"
   },
   {
    "duration": 42,
    "start_time": "2022-03-23T09:49:24.737Z"
   },
   {
    "duration": 7,
    "start_time": "2022-03-23T09:49:24.781Z"
   },
   {
    "duration": 15,
    "start_time": "2022-03-23T09:49:24.790Z"
   },
   {
    "duration": 27,
    "start_time": "2022-03-23T09:49:24.806Z"
   },
   {
    "duration": 8,
    "start_time": "2022-03-23T09:49:24.835Z"
   },
   {
    "duration": 11,
    "start_time": "2022-03-23T09:50:33.736Z"
   },
   {
    "duration": 11,
    "start_time": "2022-03-23T09:51:41.465Z"
   },
   {
    "duration": 8,
    "start_time": "2022-03-23T09:53:03.290Z"
   },
   {
    "duration": 9,
    "start_time": "2022-03-23T09:53:11.306Z"
   },
   {
    "duration": 12,
    "start_time": "2022-03-23T09:55:01.436Z"
   },
   {
    "duration": 66,
    "start_time": "2022-03-23T09:55:06.756Z"
   },
   {
    "duration": 15,
    "start_time": "2022-03-23T09:55:06.824Z"
   },
   {
    "duration": 29,
    "start_time": "2022-03-23T09:55:06.840Z"
   },
   {
    "duration": 14,
    "start_time": "2022-03-23T09:55:06.871Z"
   },
   {
    "duration": 6,
    "start_time": "2022-03-23T09:55:06.887Z"
   },
   {
    "duration": 9,
    "start_time": "2022-03-23T09:55:06.895Z"
   },
   {
    "duration": 4,
    "start_time": "2022-03-23T09:55:06.906Z"
   },
   {
    "duration": 6,
    "start_time": "2022-03-23T09:55:06.912Z"
   },
   {
    "duration": 53,
    "start_time": "2022-03-23T09:55:06.919Z"
   },
   {
    "duration": 4,
    "start_time": "2022-03-23T09:55:06.975Z"
   },
   {
    "duration": 5,
    "start_time": "2022-03-23T09:55:06.980Z"
   },
   {
    "duration": 12,
    "start_time": "2022-03-23T09:55:06.987Z"
   },
   {
    "duration": 12,
    "start_time": "2022-03-23T09:55:07.000Z"
   },
   {
    "duration": 10,
    "start_time": "2022-03-23T09:55:07.014Z"
   },
   {
    "duration": 37,
    "start_time": "2022-03-23T09:55:07.026Z"
   },
   {
    "duration": 10,
    "start_time": "2022-03-23T09:55:07.065Z"
   },
   {
    "duration": 19,
    "start_time": "2022-03-23T09:55:07.077Z"
   },
   {
    "duration": 31,
    "start_time": "2022-03-23T09:55:07.098Z"
   },
   {
    "duration": 6,
    "start_time": "2022-03-23T09:55:07.131Z"
   },
   {
    "duration": 37,
    "start_time": "2022-03-23T09:55:07.138Z"
   },
   {
    "duration": 8,
    "start_time": "2022-03-23T09:55:07.177Z"
   },
   {
    "duration": 19,
    "start_time": "2022-03-23T09:55:07.187Z"
   },
   {
    "duration": 5,
    "start_time": "2022-03-23T09:55:07.207Z"
   },
   {
    "duration": 10,
    "start_time": "2022-03-23T09:55:07.213Z"
   },
   {
    "duration": 40,
    "start_time": "2022-03-23T09:55:07.225Z"
   },
   {
    "duration": 10,
    "start_time": "2022-03-23T09:55:07.266Z"
   },
   {
    "duration": 8,
    "start_time": "2022-03-23T09:55:07.278Z"
   },
   {
    "duration": 9,
    "start_time": "2022-03-23T09:55:07.290Z"
   },
   {
    "duration": 12,
    "start_time": "2022-03-23T09:55:07.300Z"
   },
   {
    "duration": 9,
    "start_time": "2022-03-23T09:55:07.313Z"
   },
   {
    "duration": 40,
    "start_time": "2022-03-23T09:55:07.324Z"
   },
   {
    "duration": 21,
    "start_time": "2022-03-23T09:55:07.366Z"
   },
   {
    "duration": 19,
    "start_time": "2022-03-23T09:55:07.390Z"
   },
   {
    "duration": 9,
    "start_time": "2022-03-23T09:55:07.411Z"
   },
   {
    "duration": 42,
    "start_time": "2022-03-23T09:55:07.422Z"
   },
   {
    "duration": 17,
    "start_time": "2022-03-23T09:55:07.467Z"
   },
   {
    "duration": 15,
    "start_time": "2022-03-23T09:55:07.486Z"
   },
   {
    "duration": 4,
    "start_time": "2022-03-23T09:55:07.503Z"
   },
   {
    "duration": 24,
    "start_time": "2022-03-23T09:55:07.509Z"
   },
   {
    "duration": 5,
    "start_time": "2022-03-23T09:55:07.562Z"
   },
   {
    "duration": 54,
    "start_time": "2022-03-23T09:55:07.569Z"
   },
   {
    "duration": 4,
    "start_time": "2022-03-23T09:55:07.624Z"
   },
   {
    "duration": 11,
    "start_time": "2022-03-23T09:55:07.630Z"
   },
   {
    "duration": 21,
    "start_time": "2022-03-23T09:55:07.642Z"
   },
   {
    "duration": 7,
    "start_time": "2022-03-23T09:55:07.665Z"
   },
   {
    "duration": 5,
    "start_time": "2022-03-23T09:55:07.673Z"
   },
   {
    "duration": 25,
    "start_time": "2022-03-23T09:55:07.680Z"
   },
   {
    "duration": 6,
    "start_time": "2022-03-23T09:55:07.707Z"
   },
   {
    "duration": 8,
    "start_time": "2022-03-23T09:55:07.715Z"
   },
   {
    "duration": 54,
    "start_time": "2022-03-23T09:55:07.724Z"
   },
   {
    "duration": 9,
    "start_time": "2022-03-23T09:55:07.779Z"
   },
   {
    "duration": 8,
    "start_time": "2022-03-23T09:55:07.789Z"
   },
   {
    "duration": 24,
    "start_time": "2022-03-23T09:55:07.799Z"
   },
   {
    "duration": 8,
    "start_time": "2022-03-23T09:55:07.824Z"
   },
   {
    "duration": 5,
    "start_time": "2022-03-23T10:11:58.969Z"
   },
   {
    "duration": 7,
    "start_time": "2022-03-23T12:10:09.409Z"
   },
   {
    "duration": 8,
    "start_time": "2022-03-23T12:31:33.969Z"
   },
   {
    "duration": 151,
    "start_time": "2022-03-23T12:32:39.713Z"
   },
   {
    "duration": 74,
    "start_time": "2022-03-23T12:40:30.037Z"
   },
   {
    "duration": 16,
    "start_time": "2022-03-23T12:40:30.112Z"
   },
   {
    "duration": 34,
    "start_time": "2022-03-23T12:40:30.130Z"
   },
   {
    "duration": 15,
    "start_time": "2022-03-23T12:40:30.167Z"
   },
   {
    "duration": 7,
    "start_time": "2022-03-23T12:40:30.183Z"
   },
   {
    "duration": 16,
    "start_time": "2022-03-23T12:40:30.192Z"
   },
   {
    "duration": 14,
    "start_time": "2022-03-23T12:40:30.210Z"
   },
   {
    "duration": 12,
    "start_time": "2022-03-23T12:40:30.225Z"
   },
   {
    "duration": 16,
    "start_time": "2022-03-23T12:40:30.264Z"
   },
   {
    "duration": 5,
    "start_time": "2022-03-23T12:40:30.282Z"
   },
   {
    "duration": 25,
    "start_time": "2022-03-23T12:40:30.288Z"
   },
   {
    "duration": 16,
    "start_time": "2022-03-23T12:40:30.315Z"
   },
   {
    "duration": 27,
    "start_time": "2022-03-23T12:40:30.333Z"
   },
   {
    "duration": 20,
    "start_time": "2022-03-23T12:40:30.362Z"
   },
   {
    "duration": 29,
    "start_time": "2022-03-23T12:40:30.385Z"
   },
   {
    "duration": 11,
    "start_time": "2022-03-23T12:40:30.416Z"
   },
   {
    "duration": 30,
    "start_time": "2022-03-23T12:40:30.428Z"
   },
   {
    "duration": 35,
    "start_time": "2022-03-23T12:40:30.462Z"
   },
   {
    "duration": 6,
    "start_time": "2022-03-23T12:40:30.499Z"
   },
   {
    "duration": 25,
    "start_time": "2022-03-23T12:40:30.506Z"
   },
   {
    "duration": 31,
    "start_time": "2022-03-23T12:40:30.534Z"
   },
   {
    "duration": 23,
    "start_time": "2022-03-23T12:40:30.567Z"
   },
   {
    "duration": 13,
    "start_time": "2022-03-23T12:40:30.592Z"
   },
   {
    "duration": 20,
    "start_time": "2022-03-23T12:40:30.606Z"
   },
   {
    "duration": 15,
    "start_time": "2022-03-23T12:40:30.628Z"
   },
   {
    "duration": 20,
    "start_time": "2022-03-23T12:40:30.645Z"
   },
   {
    "duration": 16,
    "start_time": "2022-03-23T12:40:30.668Z"
   },
   {
    "duration": 25,
    "start_time": "2022-03-23T12:40:30.686Z"
   },
   {
    "duration": 34,
    "start_time": "2022-03-23T12:40:30.713Z"
   },
   {
    "duration": 29,
    "start_time": "2022-03-23T12:40:30.748Z"
   },
   {
    "duration": 29,
    "start_time": "2022-03-23T12:40:30.779Z"
   },
   {
    "duration": 21,
    "start_time": "2022-03-23T12:40:30.810Z"
   },
   {
    "duration": 26,
    "start_time": "2022-03-23T12:40:30.833Z"
   },
   {
    "duration": 9,
    "start_time": "2022-03-23T12:40:30.861Z"
   },
   {
    "duration": 16,
    "start_time": "2022-03-23T12:40:30.872Z"
   },
   {
    "duration": 20,
    "start_time": "2022-03-23T12:40:30.889Z"
   },
   {
    "duration": 32,
    "start_time": "2022-03-23T12:40:30.911Z"
   },
   {
    "duration": 17,
    "start_time": "2022-03-23T12:40:30.946Z"
   },
   {
    "duration": 44,
    "start_time": "2022-03-23T12:40:30.965Z"
   },
   {
    "duration": 19,
    "start_time": "2022-03-23T12:40:31.011Z"
   },
   {
    "duration": 53,
    "start_time": "2022-03-23T12:40:31.033Z"
   },
   {
    "duration": 6,
    "start_time": "2022-03-23T12:40:31.087Z"
   },
   {
    "duration": 45,
    "start_time": "2022-03-23T12:40:31.095Z"
   },
   {
    "duration": 7,
    "start_time": "2022-03-23T12:40:31.142Z"
   },
   {
    "duration": 14,
    "start_time": "2022-03-23T12:40:31.150Z"
   },
   {
    "duration": 15,
    "start_time": "2022-03-23T12:40:31.166Z"
   },
   {
    "duration": 38,
    "start_time": "2022-03-23T12:40:31.183Z"
   },
   {
    "duration": 7,
    "start_time": "2022-03-23T12:40:31.224Z"
   },
   {
    "duration": 11,
    "start_time": "2022-03-23T12:40:31.232Z"
   },
   {
    "duration": 34,
    "start_time": "2022-03-23T12:40:31.244Z"
   },
   {
    "duration": 8,
    "start_time": "2022-03-23T12:40:31.280Z"
   },
   {
    "duration": 11,
    "start_time": "2022-03-23T12:40:31.289Z"
   },
   {
    "duration": 27,
    "start_time": "2022-03-23T12:40:31.302Z"
   },
   {
    "duration": 10,
    "start_time": "2022-03-23T12:40:31.331Z"
   },
   {
    "duration": 552,
    "start_time": "2022-03-23T16:22:03.501Z"
   },
   {
    "duration": 17,
    "start_time": "2022-03-23T16:22:04.055Z"
   },
   {
    "duration": 20,
    "start_time": "2022-03-23T16:22:04.074Z"
   },
   {
    "duration": 16,
    "start_time": "2022-03-23T16:22:04.096Z"
   },
   {
    "duration": 24,
    "start_time": "2022-03-23T16:22:04.113Z"
   },
   {
    "duration": 24,
    "start_time": "2022-03-23T16:22:04.139Z"
   },
   {
    "duration": 22,
    "start_time": "2022-03-23T16:22:04.165Z"
   },
   {
    "duration": 13,
    "start_time": "2022-03-23T16:22:04.189Z"
   },
   {
    "duration": 40,
    "start_time": "2022-03-23T16:22:04.204Z"
   },
   {
    "duration": 12,
    "start_time": "2022-03-23T16:22:04.248Z"
   },
   {
    "duration": 10,
    "start_time": "2022-03-23T16:22:04.262Z"
   },
   {
    "duration": 26,
    "start_time": "2022-03-23T16:22:04.274Z"
   },
   {
    "duration": 21,
    "start_time": "2022-03-23T16:22:04.302Z"
   },
   {
    "duration": 20,
    "start_time": "2022-03-23T16:22:04.325Z"
   },
   {
    "duration": 46,
    "start_time": "2022-03-23T16:22:04.347Z"
   },
   {
    "duration": 20,
    "start_time": "2022-03-23T16:22:04.395Z"
   },
   {
    "duration": 39,
    "start_time": "2022-03-23T16:22:04.417Z"
   },
   {
    "duration": 52,
    "start_time": "2022-03-23T16:22:04.457Z"
   },
   {
    "duration": 15,
    "start_time": "2022-03-23T16:22:04.510Z"
   },
   {
    "duration": 68,
    "start_time": "2022-03-23T16:22:04.527Z"
   },
   {
    "duration": 40,
    "start_time": "2022-03-23T16:22:04.596Z"
   },
   {
    "duration": 55,
    "start_time": "2022-03-23T16:22:04.638Z"
   },
   {
    "duration": 11,
    "start_time": "2022-03-23T16:22:04.695Z"
   },
   {
    "duration": 14,
    "start_time": "2022-03-23T16:22:04.708Z"
   },
   {
    "duration": 23,
    "start_time": "2022-03-23T16:22:04.724Z"
   },
   {
    "duration": 28,
    "start_time": "2022-03-23T16:22:04.749Z"
   },
   {
    "duration": 17,
    "start_time": "2022-03-23T16:22:04.779Z"
   },
   {
    "duration": 13,
    "start_time": "2022-03-23T16:22:04.801Z"
   },
   {
    "duration": 24,
    "start_time": "2022-03-23T16:22:04.816Z"
   },
   {
    "duration": 24,
    "start_time": "2022-03-23T16:22:04.842Z"
   },
   {
    "duration": 32,
    "start_time": "2022-03-23T16:22:04.867Z"
   },
   {
    "duration": 20,
    "start_time": "2022-03-23T16:22:04.901Z"
   },
   {
    "duration": 26,
    "start_time": "2022-03-23T16:22:04.923Z"
   },
   {
    "duration": 12,
    "start_time": "2022-03-23T16:22:04.951Z"
   },
   {
    "duration": 30,
    "start_time": "2022-03-23T16:22:04.965Z"
   },
   {
    "duration": 23,
    "start_time": "2022-03-23T16:22:04.997Z"
   },
   {
    "duration": 29,
    "start_time": "2022-03-23T16:22:05.022Z"
   },
   {
    "duration": 27,
    "start_time": "2022-03-23T16:22:05.053Z"
   },
   {
    "duration": 46,
    "start_time": "2022-03-23T16:22:05.082Z"
   },
   {
    "duration": 22,
    "start_time": "2022-03-23T16:22:05.130Z"
   },
   {
    "duration": 63,
    "start_time": "2022-03-23T16:22:05.154Z"
   },
   {
    "duration": 17,
    "start_time": "2022-03-23T16:22:05.219Z"
   },
   {
    "duration": 40,
    "start_time": "2022-03-23T16:22:05.237Z"
   },
   {
    "duration": 7,
    "start_time": "2022-03-23T16:22:05.279Z"
   },
   {
    "duration": 26,
    "start_time": "2022-03-23T16:22:05.288Z"
   },
   {
    "duration": 25,
    "start_time": "2022-03-23T16:22:05.316Z"
   },
   {
    "duration": 33,
    "start_time": "2022-03-23T16:22:05.343Z"
   },
   {
    "duration": 8,
    "start_time": "2022-03-23T16:22:05.378Z"
   },
   {
    "duration": 29,
    "start_time": "2022-03-23T16:22:05.387Z"
   },
   {
    "duration": 24,
    "start_time": "2022-03-23T16:22:05.418Z"
   },
   {
    "duration": 11,
    "start_time": "2022-03-23T16:22:05.444Z"
   },
   {
    "duration": 26,
    "start_time": "2022-03-23T16:22:05.457Z"
   },
   {
    "duration": 38,
    "start_time": "2022-03-23T16:22:05.485Z"
   },
   {
    "duration": 24,
    "start_time": "2022-03-23T16:22:05.525Z"
   },
   {
    "duration": 483,
    "start_time": "2022-03-23T16:26:59.694Z"
   },
   {
    "duration": 16,
    "start_time": "2022-03-23T16:27:00.179Z"
   },
   {
    "duration": 16,
    "start_time": "2022-03-23T16:27:00.197Z"
   },
   {
    "duration": 26,
    "start_time": "2022-03-23T16:27:00.216Z"
   },
   {
    "duration": 10,
    "start_time": "2022-03-23T16:27:00.244Z"
   },
   {
    "duration": 8,
    "start_time": "2022-03-23T16:27:00.256Z"
   },
   {
    "duration": 22,
    "start_time": "2022-03-23T16:27:00.266Z"
   },
   {
    "duration": 19,
    "start_time": "2022-03-23T16:27:00.290Z"
   },
   {
    "duration": 28,
    "start_time": "2022-03-23T16:27:00.311Z"
   },
   {
    "duration": 9,
    "start_time": "2022-03-23T16:27:00.341Z"
   },
   {
    "duration": 33,
    "start_time": "2022-03-23T16:27:00.352Z"
   },
   {
    "duration": 20,
    "start_time": "2022-03-23T16:27:00.387Z"
   },
   {
    "duration": 19,
    "start_time": "2022-03-23T16:27:00.409Z"
   },
   {
    "duration": 14,
    "start_time": "2022-03-23T16:27:00.433Z"
   },
   {
    "duration": 22,
    "start_time": "2022-03-23T16:27:00.449Z"
   },
   {
    "duration": 12,
    "start_time": "2022-03-23T16:27:00.473Z"
   },
   {
    "duration": 25,
    "start_time": "2022-03-23T16:27:00.486Z"
   },
   {
    "duration": 46,
    "start_time": "2022-03-23T16:27:00.513Z"
   },
   {
    "duration": 7,
    "start_time": "2022-03-23T16:27:00.561Z"
   },
   {
    "duration": 20,
    "start_time": "2022-03-23T16:27:00.569Z"
   },
   {
    "duration": 10,
    "start_time": "2022-03-23T16:27:00.591Z"
   },
   {
    "duration": 46,
    "start_time": "2022-03-23T16:27:00.603Z"
   },
   {
    "duration": 7,
    "start_time": "2022-03-23T16:27:00.651Z"
   },
   {
    "duration": 16,
    "start_time": "2022-03-23T16:27:00.660Z"
   },
   {
    "duration": 9,
    "start_time": "2022-03-23T16:27:00.678Z"
   },
   {
    "duration": 10,
    "start_time": "2022-03-23T16:27:00.688Z"
   },
   {
    "duration": 9,
    "start_time": "2022-03-23T16:27:00.700Z"
   },
   {
    "duration": 24,
    "start_time": "2022-03-23T16:27:00.710Z"
   },
   {
    "duration": 10,
    "start_time": "2022-03-23T16:27:00.736Z"
   },
   {
    "duration": 8,
    "start_time": "2022-03-23T16:27:00.748Z"
   },
   {
    "duration": 24,
    "start_time": "2022-03-23T16:27:00.757Z"
   },
   {
    "duration": 21,
    "start_time": "2022-03-23T16:27:00.783Z"
   },
   {
    "duration": 44,
    "start_time": "2022-03-23T16:27:00.805Z"
   },
   {
    "duration": 9,
    "start_time": "2022-03-23T16:27:00.850Z"
   },
   {
    "duration": 15,
    "start_time": "2022-03-23T16:27:00.861Z"
   },
   {
    "duration": 24,
    "start_time": "2022-03-23T16:27:00.877Z"
   },
   {
    "duration": 36,
    "start_time": "2022-03-23T16:27:00.902Z"
   },
   {
    "duration": 5,
    "start_time": "2022-03-23T16:27:00.939Z"
   },
   {
    "duration": 26,
    "start_time": "2022-03-23T16:27:00.946Z"
   },
   {
    "duration": 4,
    "start_time": "2022-03-23T16:27:00.973Z"
   },
   {
    "duration": 58,
    "start_time": "2022-03-23T16:27:00.981Z"
   },
   {
    "duration": 4,
    "start_time": "2022-03-23T16:27:01.040Z"
   },
   {
    "duration": 32,
    "start_time": "2022-03-23T16:27:01.046Z"
   },
   {
    "duration": 7,
    "start_time": "2022-03-23T16:27:01.079Z"
   },
   {
    "duration": 8,
    "start_time": "2022-03-23T16:27:01.088Z"
   },
   {
    "duration": 11,
    "start_time": "2022-03-23T16:27:01.098Z"
   },
   {
    "duration": 46,
    "start_time": "2022-03-23T16:27:01.111Z"
   },
   {
    "duration": 7,
    "start_time": "2022-03-23T16:27:01.159Z"
   },
   {
    "duration": 12,
    "start_time": "2022-03-23T16:27:01.168Z"
   },
   {
    "duration": 22,
    "start_time": "2022-03-23T16:27:01.182Z"
   },
   {
    "duration": 27,
    "start_time": "2022-03-23T16:27:01.205Z"
   },
   {
    "duration": 7,
    "start_time": "2022-03-23T16:27:01.234Z"
   },
   {
    "duration": 31,
    "start_time": "2022-03-23T16:27:01.242Z"
   },
   {
    "duration": 16,
    "start_time": "2022-03-23T16:27:01.275Z"
   },
   {
    "duration": 66,
    "start_time": "2022-05-18T11:12:00.880Z"
   }
  ],
  "kernelspec": {
   "display_name": "Python 3 (ipykernel)",
   "language": "python",
   "name": "python3"
  },
  "language_info": {
   "codemirror_mode": {
    "name": "ipython",
    "version": 3
   },
   "file_extension": ".py",
   "mimetype": "text/x-python",
   "name": "python",
   "nbconvert_exporter": "python",
   "pygments_lexer": "ipython3",
   "version": "3.9.7"
  },
  "toc": {
   "base_numbering": 1,
   "nav_menu": {},
   "number_sections": true,
   "sideBar": true,
   "skip_h1_title": true,
   "title_cell": "Table of Contents",
   "title_sidebar": "Contents",
   "toc_cell": false,
   "toc_position": {
    "height": "calc(100% - 180px)",
    "left": "10px",
    "top": "150px",
    "width": "451.594px"
   },
   "toc_section_display": true,
   "toc_window_display": true
  }
 },
 "nbformat": 4,
 "nbformat_minor": 5
}
