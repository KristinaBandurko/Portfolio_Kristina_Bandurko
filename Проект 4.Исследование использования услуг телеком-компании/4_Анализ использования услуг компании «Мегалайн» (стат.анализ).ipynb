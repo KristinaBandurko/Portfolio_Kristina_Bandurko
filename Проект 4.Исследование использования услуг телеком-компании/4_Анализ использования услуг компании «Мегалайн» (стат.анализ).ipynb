{
 "cells": [
  {
   "cell_type": "markdown",
   "metadata": {},
   "source": [
    "# Анализ использования услуг компании «Мегалайн»"
   ]
  },
  {
   "cell_type": "markdown",
   "metadata": {},
   "source": [
    "**Описание задачи проекта:** анализ использования услуг тарифов «Смарт» и «Ультра» на выборке клиентов."
   ]
  },
  {
   "cell_type": "markdown",
   "metadata": {},
   "source": [
    "**Данные:** таблицы\n",
    "* calls - информация о звонках\n",
    "* internet -информация об интернет-сессиях\n",
    "* messages - информация о сообщениях\n",
    "* tariffs - информация о тарифах\n",
    "* users - информация о пользователях"
   ]
  },
  {
   "cell_type": "markdown",
   "metadata": {},
   "source": [
    "**Описание тарифов:**\n",
    "\n",
    "###### Тариф «Смарт»\n",
    "* Ежемесячная плата: 550 рублей\n",
    "* Включено 500 минут разговора, 50 сообщений и 15 Гб интернет-трафика\n",
    "* Стоимость услуг сверх тарифного пакета:\n",
    " - минута разговора: 3 рубля\n",
    " - сообщение: 3 рубля\n",
    " - 1 Гб интернет-трафика: 200 рублей\n",
    "\n",
    "###### Тариф «Ультра»\n",
    "* Ежемесячная плата: 1950 рублей\n",
    "* Включено 3000 минут разговора, 1000 сообщений и 30 Гб интернет-трафика\n",
    "* Стоимость услуг сверх тарифного пакета:\n",
    " - минута разговора: 1 рубль\n",
    " - сообщение: 1 рубль\n",
    " - 1 Гб интернет-трафика: 150 рублей\n",
    " \n",
    " \n",
    "*Примечание:*\n",
    "\n",
    "«Мегалайн» всегда округляет секунды до минут, а мегабайты — до гигабайт. Каждый звонок округляется отдельно: даже если он длился всего 1 секунду, будет засчитан как 1 минута.\n",
    "Для веб-трафика отдельные сессии не считаются. Вместо этого общая сумма за месяц округляется в бо́льшую сторону. Если абонент использует 1025 мегабайт в этом месяце, с него возьмут плату за 2 гигабайта."
   ]
  },
  {
   "cell_type": "markdown",
   "metadata": {},
   "source": [
    "**Навыки и инструменты, применённые в работе:** "
   ]
  },
  {
   "cell_type": "markdown",
   "metadata": {},
   "source": [
    "* **Предобработка данных:** проверка на пропуски, замена типов данных, округление значений в большую сторону, добавление столбцов с номером месяца, переименование столбцов, замена пропусков.\n",
    "\n",
    "* **Расчёты и исследование данных:** сводные таблицы, объединение промежуточных таблиц, функция расчёта помесячной выручки с каждого пользователя, расчёт дисперсии и стандартного отклонения, коэффициент корреляции, проверка гипотез (с формулировкой нулевой и альтернативной гипотез).\n",
    "\n",
    "* **Графики:** гистограммы (распределения расчётных параметров), диаграмма рассеяния"
   ]
  },
  {
   "cell_type": "markdown",
   "metadata": {},
   "source": [
    "## Результаты исследования"
   ]
  },
  {
   "cell_type": "markdown",
   "metadata": {},
   "source": [
    "Анализ использования тарифных планов показал следующие результаты: \n",
    "\n",
    "| Параметр | SMART | ULTRA|Доп.информация, комментарии|\n",
    "|----------|-------|------|------|\n",
    "|Абонентская плата|550|1950|рублей в месяц|\n",
    "|Размер выборки|2229|985|количество клиентов|\n",
    "|Доход от абон.платы в месяц|1 225 950 руб|1 920 750 руб|при условии использования тарифа всеми клиентами выборки|\n",
    "|Общая ср.продолжительность звонков |420 мин|528 мин|расчёт по ср. значениям за месяц по каждому пользователю|\n",
    "|Диапазон продолжительности звонков на клиента в месяц|180 - 700 мин/мес|180 - 1000 мин/мес|границы, в которых находится основная часть распределения|\n",
    "|Общее ср.количество сообщений|33 шт|55 шт|расчёт по ср. значениям за месяц по каждому пользователю|\n",
    "|Диапазон кол-во сообщений на клиента в месяц | до 60 шт |до 100 шт|границы, в которых находится основная часть распределени|\n",
    "|Общий ср.объем трафика |17 Гб|20 Гб|расчёт по ср. значениям за месяц по каждому пользователю|\n",
    "|Диапазон объема трафика на клиента в месяц|10-23 Гб|5-35 Гб|границы, в которых находится основная часть распределения|\n",
    "\n",
    "\n"
   ]
  },
  {
   "cell_type": "markdown",
   "metadata": {},
   "source": [
    "По рассчитанным показателям видим, что:\n",
    "* **по продолжительности звонков** клиенты тарифа СМАРТ за частую выходят за предоставленный в месяц пакет, тогда как пользователи УЛЬРА с большим запасом укладываются в пакет 3000 минут;\n",
    "* **по использованию СМС** пользователи СМАРТ также часто выходят за свой пакет, тогда как на УЛЬТРА в большинстве случаев используется только десятая часть пакета;\n",
    "* **по использованию интернет-трафика** пользователи обоих тарифов  выходят за предоставленные пакеты, но в случае тарифа УЛЬТРА это происходит гораздо реже.  \n",
    "\n",
    "Выручка компании только от абонентской платы тарифа Ультра в 1,6 раза выше, чем от тарифа Смар (при оплате только абонентской платы и условии пользования тарифом тем, кол-во клиентов, которое указано в выборке). \n",
    "\n",
    "Для расчёта дополнительной выручки компании от тарифа Смарт необходимо учитывать, что по всем показателям зачастую пользователи превышают предоставленные пакеты и оплачивают услуги сверх тарифа.  (*Подобный расчёт может быть потенциальным развитием данного проекта.*)  \n",
    "\n",
    "В результате проверки гипотезы не подтвердилось предположение о различях в ср.выручки пользователей из Москвы и пользователей из других регионов."
   ]
  },
  {
   "cell_type": "markdown",
   "metadata": {},
   "source": [
    "**Что было сделано в ходе исследования:**\n",
    "* проверены исходные данные, \n",
    "* приведены к соответсвующим форматам, \n",
    "* данные по продолжительности звонков округлены до минут в большую сторону, а интернет-трафик округлен до гигабайтов\n",
    "* данные из исходных таблиц объединены для рассчётов. \n",
    "\n",
    "Рассчитаны по каждому клиенту: \n",
    "\n",
    "* количество сделанных звонков и израсходованных минут разговора по месяцам;\n",
    "* количество отправленных сообщений по месяцам;\n",
    "* объем израсходованного интернет-трафика по месяцам;\n",
    "\n",
    "а также рассчитано:\n",
    "\n",
    "* количество минут разговора,сообщений и объём интернет-трафика требуется пользователям каждого тарифа в месяц; \n",
    "* посчитано среднее количество, дисперсия и стандартное отклонение;\n",
    "* подтверждена гипотеза о том, что средняя выручка пользователей тарифов «Ультра» и «Смарт» различаются;\n",
    "* опровергнута гипотеза о том, что средняя выручка пользователей из Москвы отличается от выручки пользователей из других регионов."
   ]
  },
  {
   "cell_type": "markdown",
   "metadata": {},
   "source": [
    "## Изучение исходных данных"
   ]
  },
  {
   "cell_type": "markdown",
   "metadata": {},
   "source": [
    "Откроем файл с данными и изучим общую информацию об исходных таблицах."
   ]
  },
  {
   "cell_type": "markdown",
   "metadata": {},
   "source": [
    "Импортируем библиотеку pandas и откроем файлы с помощью функции read_csv()"
   ]
  },
  {
   "cell_type": "code",
   "execution_count": 2,
   "metadata": {},
   "outputs": [],
   "source": [
    "import pandas as pd\n",
    "import numpy as np\n",
    "from scipy import stats as st\n",
    "import matplotlib.pyplot as plt"
   ]
  },
  {
   "cell_type": "markdown",
   "metadata": {},
   "source": [
    "#### Таблица calls"
   ]
  },
  {
   "cell_type": "code",
   "execution_count": 3,
   "metadata": {},
   "outputs": [
    {
     "data": {
      "text/html": [
       "<div>\n",
       "<style scoped>\n",
       "    .dataframe tbody tr th:only-of-type {\n",
       "        vertical-align: middle;\n",
       "    }\n",
       "\n",
       "    .dataframe tbody tr th {\n",
       "        vertical-align: top;\n",
       "    }\n",
       "\n",
       "    .dataframe thead th {\n",
       "        text-align: right;\n",
       "    }\n",
       "</style>\n",
       "<table border=\"1\" class=\"dataframe\">\n",
       "  <thead>\n",
       "    <tr style=\"text-align: right;\">\n",
       "      <th></th>\n",
       "      <th>id</th>\n",
       "      <th>call_date</th>\n",
       "      <th>duration</th>\n",
       "      <th>user_id</th>\n",
       "    </tr>\n",
       "  </thead>\n",
       "  <tbody>\n",
       "    <tr>\n",
       "      <th>0</th>\n",
       "      <td>1000_0</td>\n",
       "      <td>2018-07-25</td>\n",
       "      <td>0.00</td>\n",
       "      <td>1000</td>\n",
       "    </tr>\n",
       "    <tr>\n",
       "      <th>1</th>\n",
       "      <td>1000_1</td>\n",
       "      <td>2018-08-17</td>\n",
       "      <td>0.00</td>\n",
       "      <td>1000</td>\n",
       "    </tr>\n",
       "    <tr>\n",
       "      <th>2</th>\n",
       "      <td>1000_2</td>\n",
       "      <td>2018-06-11</td>\n",
       "      <td>2.85</td>\n",
       "      <td>1000</td>\n",
       "    </tr>\n",
       "    <tr>\n",
       "      <th>3</th>\n",
       "      <td>1000_3</td>\n",
       "      <td>2018-09-21</td>\n",
       "      <td>13.80</td>\n",
       "      <td>1000</td>\n",
       "    </tr>\n",
       "    <tr>\n",
       "      <th>4</th>\n",
       "      <td>1000_4</td>\n",
       "      <td>2018-12-15</td>\n",
       "      <td>5.18</td>\n",
       "      <td>1000</td>\n",
       "    </tr>\n",
       "  </tbody>\n",
       "</table>\n",
       "</div>"
      ],
      "text/plain": [
       "       id   call_date  duration  user_id\n",
       "0  1000_0  2018-07-25      0.00     1000\n",
       "1  1000_1  2018-08-17      0.00     1000\n",
       "2  1000_2  2018-06-11      2.85     1000\n",
       "3  1000_3  2018-09-21     13.80     1000\n",
       "4  1000_4  2018-12-15      5.18     1000"
      ]
     },
     "execution_count": 3,
     "metadata": {},
     "output_type": "execute_result"
    }
   ],
   "source": [
    "calls = pd.read_csv('calls.csv')\n",
    "calls.head()"
   ]
  },
  {
   "cell_type": "markdown",
   "metadata": {},
   "source": [
    "Согласно документации к данным, таблица calls (информация о звонках):\n",
    "* id — уникальный номер звонка\n",
    "* call_date — дата звонка\n",
    "* duration — длительность звонка в минутах\n",
    "* user_id — идентификатор пользователя, сделавшего звонок"
   ]
  },
  {
   "cell_type": "code",
   "execution_count": 4,
   "metadata": {},
   "outputs": [
    {
     "name": "stdout",
     "output_type": "stream",
     "text": [
      "<class 'pandas.core.frame.DataFrame'>\n",
      "RangeIndex: 202607 entries, 0 to 202606\n",
      "Data columns (total 4 columns):\n",
      " #   Column     Non-Null Count   Dtype  \n",
      "---  ------     --------------   -----  \n",
      " 0   id         202607 non-null  object \n",
      " 1   call_date  202607 non-null  object \n",
      " 2   duration   202607 non-null  float64\n",
      " 3   user_id    202607 non-null  int64  \n",
      "dtypes: float64(1), int64(1), object(2)\n",
      "memory usage: 6.2+ MB\n"
     ]
    }
   ],
   "source": [
    "calls.info()"
   ]
  },
  {
   "cell_type": "markdown",
   "metadata": {},
   "source": [
    "Видим по общей информации из таблицы  calls , что пропусков в ней нет. \n",
    "\n",
    "Сделаем замену типа данных для столбца call_date с типа object на тип datetime, чтобы сделать дату удобной для дальнейшей работы с данными:"
   ]
  },
  {
   "cell_type": "code",
   "execution_count": 5,
   "metadata": {},
   "outputs": [],
   "source": [
    "calls['call_date']= pd.to_datetime(calls['call_date'], format = '%Y-%m-%d')"
   ]
  },
  {
   "cell_type": "markdown",
   "metadata": {},
   "source": [
    "Мы знаем, что компания всегда округляет секунды до минут, поэтому округлим значения в столбце duration в большую сторону и изменим на тип 'int', чтобы убрать нули после запятой."
   ]
  },
  {
   "cell_type": "code",
   "execution_count": 6,
   "metadata": {},
   "outputs": [],
   "source": [
    "calls['duration'] = np.ceil(calls['duration'])\n",
    "calls['duration'] =calls['duration'].astype('int')"
   ]
  },
  {
   "cell_type": "markdown",
   "metadata": {},
   "source": [
    "Проверим результат:"
   ]
  },
  {
   "cell_type": "code",
   "execution_count": 7,
   "metadata": {
    "scrolled": true
   },
   "outputs": [
    {
     "data": {
      "text/html": [
       "<div>\n",
       "<style scoped>\n",
       "    .dataframe tbody tr th:only-of-type {\n",
       "        vertical-align: middle;\n",
       "    }\n",
       "\n",
       "    .dataframe tbody tr th {\n",
       "        vertical-align: top;\n",
       "    }\n",
       "\n",
       "    .dataframe thead th {\n",
       "        text-align: right;\n",
       "    }\n",
       "</style>\n",
       "<table border=\"1\" class=\"dataframe\">\n",
       "  <thead>\n",
       "    <tr style=\"text-align: right;\">\n",
       "      <th></th>\n",
       "      <th>id</th>\n",
       "      <th>call_date</th>\n",
       "      <th>duration</th>\n",
       "      <th>user_id</th>\n",
       "    </tr>\n",
       "  </thead>\n",
       "  <tbody>\n",
       "    <tr>\n",
       "      <th>0</th>\n",
       "      <td>1000_0</td>\n",
       "      <td>2018-07-25</td>\n",
       "      <td>0</td>\n",
       "      <td>1000</td>\n",
       "    </tr>\n",
       "    <tr>\n",
       "      <th>1</th>\n",
       "      <td>1000_1</td>\n",
       "      <td>2018-08-17</td>\n",
       "      <td>0</td>\n",
       "      <td>1000</td>\n",
       "    </tr>\n",
       "    <tr>\n",
       "      <th>2</th>\n",
       "      <td>1000_2</td>\n",
       "      <td>2018-06-11</td>\n",
       "      <td>3</td>\n",
       "      <td>1000</td>\n",
       "    </tr>\n",
       "    <tr>\n",
       "      <th>3</th>\n",
       "      <td>1000_3</td>\n",
       "      <td>2018-09-21</td>\n",
       "      <td>14</td>\n",
       "      <td>1000</td>\n",
       "    </tr>\n",
       "    <tr>\n",
       "      <th>4</th>\n",
       "      <td>1000_4</td>\n",
       "      <td>2018-12-15</td>\n",
       "      <td>6</td>\n",
       "      <td>1000</td>\n",
       "    </tr>\n",
       "  </tbody>\n",
       "</table>\n",
       "</div>"
      ],
      "text/plain": [
       "       id  call_date  duration  user_id\n",
       "0  1000_0 2018-07-25         0     1000\n",
       "1  1000_1 2018-08-17         0     1000\n",
       "2  1000_2 2018-06-11         3     1000\n",
       "3  1000_3 2018-09-21        14     1000\n",
       "4  1000_4 2018-12-15         6     1000"
      ]
     },
     "execution_count": 7,
     "metadata": {},
     "output_type": "execute_result"
    }
   ],
   "source": [
    "calls.head()"
   ]
  },
  {
   "cell_type": "code",
   "execution_count": 8,
   "metadata": {},
   "outputs": [
    {
     "name": "stdout",
     "output_type": "stream",
     "text": [
      "<class 'pandas.core.frame.DataFrame'>\n",
      "RangeIndex: 202607 entries, 0 to 202606\n",
      "Data columns (total 4 columns):\n",
      " #   Column     Non-Null Count   Dtype         \n",
      "---  ------     --------------   -----         \n",
      " 0   id         202607 non-null  object        \n",
      " 1   call_date  202607 non-null  datetime64[ns]\n",
      " 2   duration   202607 non-null  int32         \n",
      " 3   user_id    202607 non-null  int64         \n",
      "dtypes: datetime64[ns](1), int32(1), int64(1), object(1)\n",
      "memory usage: 5.4+ MB\n"
     ]
    }
   ],
   "source": [
    "calls.info()"
   ]
  },
  {
   "cell_type": "markdown",
   "metadata": {},
   "source": [
    "#### Таблица internet"
   ]
  },
  {
   "cell_type": "code",
   "execution_count": 9,
   "metadata": {},
   "outputs": [
    {
     "data": {
      "text/html": [
       "<div>\n",
       "<style scoped>\n",
       "    .dataframe tbody tr th:only-of-type {\n",
       "        vertical-align: middle;\n",
       "    }\n",
       "\n",
       "    .dataframe tbody tr th {\n",
       "        vertical-align: top;\n",
       "    }\n",
       "\n",
       "    .dataframe thead th {\n",
       "        text-align: right;\n",
       "    }\n",
       "</style>\n",
       "<table border=\"1\" class=\"dataframe\">\n",
       "  <thead>\n",
       "    <tr style=\"text-align: right;\">\n",
       "      <th></th>\n",
       "      <th>Unnamed: 0</th>\n",
       "      <th>id</th>\n",
       "      <th>mb_used</th>\n",
       "      <th>session_date</th>\n",
       "      <th>user_id</th>\n",
       "    </tr>\n",
       "  </thead>\n",
       "  <tbody>\n",
       "    <tr>\n",
       "      <th>0</th>\n",
       "      <td>0</td>\n",
       "      <td>1000_0</td>\n",
       "      <td>112.95</td>\n",
       "      <td>2018-11-25</td>\n",
       "      <td>1000</td>\n",
       "    </tr>\n",
       "    <tr>\n",
       "      <th>1</th>\n",
       "      <td>1</td>\n",
       "      <td>1000_1</td>\n",
       "      <td>1052.81</td>\n",
       "      <td>2018-09-07</td>\n",
       "      <td>1000</td>\n",
       "    </tr>\n",
       "    <tr>\n",
       "      <th>2</th>\n",
       "      <td>2</td>\n",
       "      <td>1000_2</td>\n",
       "      <td>1197.26</td>\n",
       "      <td>2018-06-25</td>\n",
       "      <td>1000</td>\n",
       "    </tr>\n",
       "    <tr>\n",
       "      <th>3</th>\n",
       "      <td>3</td>\n",
       "      <td>1000_3</td>\n",
       "      <td>550.27</td>\n",
       "      <td>2018-08-22</td>\n",
       "      <td>1000</td>\n",
       "    </tr>\n",
       "    <tr>\n",
       "      <th>4</th>\n",
       "      <td>4</td>\n",
       "      <td>1000_4</td>\n",
       "      <td>302.56</td>\n",
       "      <td>2018-09-24</td>\n",
       "      <td>1000</td>\n",
       "    </tr>\n",
       "  </tbody>\n",
       "</table>\n",
       "</div>"
      ],
      "text/plain": [
       "   Unnamed: 0      id  mb_used session_date  user_id\n",
       "0           0  1000_0   112.95   2018-11-25     1000\n",
       "1           1  1000_1  1052.81   2018-09-07     1000\n",
       "2           2  1000_2  1197.26   2018-06-25     1000\n",
       "3           3  1000_3   550.27   2018-08-22     1000\n",
       "4           4  1000_4   302.56   2018-09-24     1000"
      ]
     },
     "execution_count": 9,
     "metadata": {},
     "output_type": "execute_result"
    }
   ],
   "source": [
    "internet = pd.read_csv('internet.csv')\n",
    "internet.head()"
   ]
  },
  {
   "cell_type": "markdown",
   "metadata": {},
   "source": [
    "Согласно документации к данным, таблица internet (информация об интернет-сессиях):\n",
    "* id — уникальный номер сессии\n",
    "* mb_used — объём потраченного за сессию интернет-трафика (в мегабайтах)\n",
    "* session_date — дата интернет-сессии\n",
    "* user_id — идентификатор пользователя\n",
    "\n"
   ]
  },
  {
   "cell_type": "code",
   "execution_count": 10,
   "metadata": {},
   "outputs": [
    {
     "name": "stdout",
     "output_type": "stream",
     "text": [
      "<class 'pandas.core.frame.DataFrame'>\n",
      "RangeIndex: 149396 entries, 0 to 149395\n",
      "Data columns (total 5 columns):\n",
      " #   Column        Non-Null Count   Dtype  \n",
      "---  ------        --------------   -----  \n",
      " 0   Unnamed: 0    149396 non-null  int64  \n",
      " 1   id            149396 non-null  object \n",
      " 2   mb_used       149396 non-null  float64\n",
      " 3   session_date  149396 non-null  object \n",
      " 4   user_id       149396 non-null  int64  \n",
      "dtypes: float64(1), int64(2), object(2)\n",
      "memory usage: 5.7+ MB\n"
     ]
    }
   ],
   "source": [
    "internet.info()"
   ]
  },
  {
   "cell_type": "markdown",
   "metadata": {},
   "source": [
    "Видим по общей информации из таблицы  internet, что пропусков в ней нет. \n",
    "\n",
    "Сделаем замену типа данных для столбца session_date с типа object на тип datetime, чтобы сделать дату удобной для дальнейшей работы с данными:"
   ]
  },
  {
   "cell_type": "code",
   "execution_count": 11,
   "metadata": {},
   "outputs": [],
   "source": [
    "internet['session_date']= pd.to_datetime(internet['session_date'], format = '%Y-%m-%d')"
   ]
  },
  {
   "cell_type": "code",
   "execution_count": 12,
   "metadata": {},
   "outputs": [
    {
     "name": "stdout",
     "output_type": "stream",
     "text": [
      "<class 'pandas.core.frame.DataFrame'>\n",
      "RangeIndex: 149396 entries, 0 to 149395\n",
      "Data columns (total 5 columns):\n",
      " #   Column        Non-Null Count   Dtype         \n",
      "---  ------        --------------   -----         \n",
      " 0   Unnamed: 0    149396 non-null  int64         \n",
      " 1   id            149396 non-null  object        \n",
      " 2   mb_used       149396 non-null  float64       \n",
      " 3   session_date  149396 non-null  datetime64[ns]\n",
      " 4   user_id       149396 non-null  int64         \n",
      "dtypes: datetime64[ns](1), float64(1), int64(2), object(1)\n",
      "memory usage: 5.7+ MB\n"
     ]
    }
   ],
   "source": [
    "internet.info()"
   ]
  },
  {
   "cell_type": "markdown",
   "metadata": {},
   "source": [
    "#### Таблица messages"
   ]
  },
  {
   "cell_type": "code",
   "execution_count": 13,
   "metadata": {},
   "outputs": [
    {
     "data": {
      "text/html": [
       "<div>\n",
       "<style scoped>\n",
       "    .dataframe tbody tr th:only-of-type {\n",
       "        vertical-align: middle;\n",
       "    }\n",
       "\n",
       "    .dataframe tbody tr th {\n",
       "        vertical-align: top;\n",
       "    }\n",
       "\n",
       "    .dataframe thead th {\n",
       "        text-align: right;\n",
       "    }\n",
       "</style>\n",
       "<table border=\"1\" class=\"dataframe\">\n",
       "  <thead>\n",
       "    <tr style=\"text-align: right;\">\n",
       "      <th></th>\n",
       "      <th>id</th>\n",
       "      <th>message_date</th>\n",
       "      <th>user_id</th>\n",
       "    </tr>\n",
       "  </thead>\n",
       "  <tbody>\n",
       "    <tr>\n",
       "      <th>0</th>\n",
       "      <td>1000_0</td>\n",
       "      <td>2018-06-27</td>\n",
       "      <td>1000</td>\n",
       "    </tr>\n",
       "    <tr>\n",
       "      <th>1</th>\n",
       "      <td>1000_1</td>\n",
       "      <td>2018-10-08</td>\n",
       "      <td>1000</td>\n",
       "    </tr>\n",
       "    <tr>\n",
       "      <th>2</th>\n",
       "      <td>1000_2</td>\n",
       "      <td>2018-08-04</td>\n",
       "      <td>1000</td>\n",
       "    </tr>\n",
       "    <tr>\n",
       "      <th>3</th>\n",
       "      <td>1000_3</td>\n",
       "      <td>2018-06-16</td>\n",
       "      <td>1000</td>\n",
       "    </tr>\n",
       "    <tr>\n",
       "      <th>4</th>\n",
       "      <td>1000_4</td>\n",
       "      <td>2018-12-05</td>\n",
       "      <td>1000</td>\n",
       "    </tr>\n",
       "  </tbody>\n",
       "</table>\n",
       "</div>"
      ],
      "text/plain": [
       "       id message_date  user_id\n",
       "0  1000_0   2018-06-27     1000\n",
       "1  1000_1   2018-10-08     1000\n",
       "2  1000_2   2018-08-04     1000\n",
       "3  1000_3   2018-06-16     1000\n",
       "4  1000_4   2018-12-05     1000"
      ]
     },
     "execution_count": 13,
     "metadata": {},
     "output_type": "execute_result"
    }
   ],
   "source": [
    "messages = pd.read_csv('messages.csv')\n",
    "messages.head()"
   ]
  },
  {
   "cell_type": "markdown",
   "metadata": {},
   "source": [
    "Согласно документации к данным, таблица messages (информация о сообщениях):\n",
    "* id — уникальный номер сообщения\n",
    "* message_date — дата сообщения\n",
    "* user_id — идентификатор пользователя, отправившего сообщение"
   ]
  },
  {
   "cell_type": "code",
   "execution_count": 14,
   "metadata": {},
   "outputs": [
    {
     "name": "stdout",
     "output_type": "stream",
     "text": [
      "<class 'pandas.core.frame.DataFrame'>\n",
      "RangeIndex: 123036 entries, 0 to 123035\n",
      "Data columns (total 3 columns):\n",
      " #   Column        Non-Null Count   Dtype \n",
      "---  ------        --------------   ----- \n",
      " 0   id            123036 non-null  object\n",
      " 1   message_date  123036 non-null  object\n",
      " 2   user_id       123036 non-null  int64 \n",
      "dtypes: int64(1), object(2)\n",
      "memory usage: 2.8+ MB\n"
     ]
    }
   ],
   "source": [
    "messages.info()"
   ]
  },
  {
   "cell_type": "markdown",
   "metadata": {},
   "source": [
    "Для таблицы messages требуется только изменение типа данных для столбца  message_date:"
   ]
  },
  {
   "cell_type": "code",
   "execution_count": 15,
   "metadata": {},
   "outputs": [
    {
     "name": "stdout",
     "output_type": "stream",
     "text": [
      "<class 'pandas.core.frame.DataFrame'>\n",
      "RangeIndex: 123036 entries, 0 to 123035\n",
      "Data columns (total 3 columns):\n",
      " #   Column        Non-Null Count   Dtype         \n",
      "---  ------        --------------   -----         \n",
      " 0   id            123036 non-null  object        \n",
      " 1   message_date  123036 non-null  datetime64[ns]\n",
      " 2   user_id       123036 non-null  int64         \n",
      "dtypes: datetime64[ns](1), int64(1), object(1)\n",
      "memory usage: 2.8+ MB\n"
     ]
    }
   ],
   "source": [
    "messages['message_date']= pd.to_datetime(messages['message_date'], format = '%Y-%m-%d')\n",
    "messages.info()"
   ]
  },
  {
   "cell_type": "markdown",
   "metadata": {},
   "source": [
    "#### Таблица tariffs"
   ]
  },
  {
   "cell_type": "code",
   "execution_count": 16,
   "metadata": {},
   "outputs": [
    {
     "data": {
      "text/html": [
       "<div>\n",
       "<style scoped>\n",
       "    .dataframe tbody tr th:only-of-type {\n",
       "        vertical-align: middle;\n",
       "    }\n",
       "\n",
       "    .dataframe tbody tr th {\n",
       "        vertical-align: top;\n",
       "    }\n",
       "\n",
       "    .dataframe thead th {\n",
       "        text-align: right;\n",
       "    }\n",
       "</style>\n",
       "<table border=\"1\" class=\"dataframe\">\n",
       "  <thead>\n",
       "    <tr style=\"text-align: right;\">\n",
       "      <th></th>\n",
       "      <th>messages_included</th>\n",
       "      <th>mb_per_month_included</th>\n",
       "      <th>minutes_included</th>\n",
       "      <th>rub_monthly_fee</th>\n",
       "      <th>rub_per_gb</th>\n",
       "      <th>rub_per_message</th>\n",
       "      <th>rub_per_minute</th>\n",
       "      <th>tariff_name</th>\n",
       "    </tr>\n",
       "  </thead>\n",
       "  <tbody>\n",
       "    <tr>\n",
       "      <th>0</th>\n",
       "      <td>50</td>\n",
       "      <td>15360</td>\n",
       "      <td>500</td>\n",
       "      <td>550</td>\n",
       "      <td>200</td>\n",
       "      <td>3</td>\n",
       "      <td>3</td>\n",
       "      <td>smart</td>\n",
       "    </tr>\n",
       "    <tr>\n",
       "      <th>1</th>\n",
       "      <td>1000</td>\n",
       "      <td>30720</td>\n",
       "      <td>3000</td>\n",
       "      <td>1950</td>\n",
       "      <td>150</td>\n",
       "      <td>1</td>\n",
       "      <td>1</td>\n",
       "      <td>ultra</td>\n",
       "    </tr>\n",
       "  </tbody>\n",
       "</table>\n",
       "</div>"
      ],
      "text/plain": [
       "   messages_included  mb_per_month_included  minutes_included  \\\n",
       "0                 50                  15360               500   \n",
       "1               1000                  30720              3000   \n",
       "\n",
       "   rub_monthly_fee  rub_per_gb  rub_per_message  rub_per_minute tariff_name  \n",
       "0              550         200                3               3       smart  \n",
       "1             1950         150                1               1       ultra  "
      ]
     },
     "execution_count": 16,
     "metadata": {},
     "output_type": "execute_result"
    }
   ],
   "source": [
    "tariffs = pd.read_csv('tariffs.csv')\n",
    "tariffs.head()"
   ]
  },
  {
   "cell_type": "markdown",
   "metadata": {},
   "source": [
    "Согласно документации к данным - таблица tariffs (информация о тарифах):\n",
    "* tariff_name — название тарифа\n",
    "* rub_monthly_fee — ежемесячная абонентская плата в рублях\n",
    "* minutes_included — количество минут разговора в месяц, включённых в абонентскую плату\n",
    "* messages_included — количество сообщений в месяц, включённых в абонентскую плату\n",
    "* mb_per_month_included — объём интернет-трафика, включённого в абонентскую плату (в мегабайтах)\n",
    "* rub_per_minute — стоимость минуты разговора сверх тарифного пакета (например, если в тарифе 100 минут разговора в месяц, то со 101 минуты будет взиматься плата)\n",
    "* rub_per_message — стоимость отправки сообщения сверх тарифного пакета\n",
    "* rub_per_gb — стоимость дополнительного гигабайта интернет-трафика сверх тарифного пакета (1 гигабайт = 1024 мегабайта)\n"
   ]
  },
  {
   "cell_type": "code",
   "execution_count": 17,
   "metadata": {},
   "outputs": [
    {
     "name": "stdout",
     "output_type": "stream",
     "text": [
      "<class 'pandas.core.frame.DataFrame'>\n",
      "RangeIndex: 2 entries, 0 to 1\n",
      "Data columns (total 8 columns):\n",
      " #   Column                 Non-Null Count  Dtype \n",
      "---  ------                 --------------  ----- \n",
      " 0   messages_included      2 non-null      int64 \n",
      " 1   mb_per_month_included  2 non-null      int64 \n",
      " 2   minutes_included       2 non-null      int64 \n",
      " 3   rub_monthly_fee        2 non-null      int64 \n",
      " 4   rub_per_gb             2 non-null      int64 \n",
      " 5   rub_per_message        2 non-null      int64 \n",
      " 6   rub_per_minute         2 non-null      int64 \n",
      " 7   tariff_name            2 non-null      object\n",
      "dtypes: int64(7), object(1)\n",
      "memory usage: 256.0+ bytes\n"
     ]
    }
   ],
   "source": [
    "tariffs.info()"
   ]
  },
  {
   "cell_type": "markdown",
   "metadata": {},
   "source": [
    "Заменты типов данных и исправления ошибок не требуется, но приведём значения в столбце mb_per_month_included к гигабайтам и переименуем столбец:"
   ]
  },
  {
   "cell_type": "code",
   "execution_count": 18,
   "metadata": {},
   "outputs": [
    {
     "data": {
      "text/html": [
       "<div>\n",
       "<style scoped>\n",
       "    .dataframe tbody tr th:only-of-type {\n",
       "        vertical-align: middle;\n",
       "    }\n",
       "\n",
       "    .dataframe tbody tr th {\n",
       "        vertical-align: top;\n",
       "    }\n",
       "\n",
       "    .dataframe thead th {\n",
       "        text-align: right;\n",
       "    }\n",
       "</style>\n",
       "<table border=\"1\" class=\"dataframe\">\n",
       "  <thead>\n",
       "    <tr style=\"text-align: right;\">\n",
       "      <th></th>\n",
       "      <th>messages_included</th>\n",
       "      <th>GB_per_month_included</th>\n",
       "      <th>minutes_included</th>\n",
       "      <th>rub_monthly_fee</th>\n",
       "      <th>rub_per_gb</th>\n",
       "      <th>rub_per_message</th>\n",
       "      <th>rub_per_minute</th>\n",
       "      <th>tariff</th>\n",
       "    </tr>\n",
       "  </thead>\n",
       "  <tbody>\n",
       "    <tr>\n",
       "      <th>0</th>\n",
       "      <td>50</td>\n",
       "      <td>15.0</td>\n",
       "      <td>500</td>\n",
       "      <td>550</td>\n",
       "      <td>200</td>\n",
       "      <td>3</td>\n",
       "      <td>3</td>\n",
       "      <td>smart</td>\n",
       "    </tr>\n",
       "    <tr>\n",
       "      <th>1</th>\n",
       "      <td>1000</td>\n",
       "      <td>30.0</td>\n",
       "      <td>3000</td>\n",
       "      <td>1950</td>\n",
       "      <td>150</td>\n",
       "      <td>1</td>\n",
       "      <td>1</td>\n",
       "      <td>ultra</td>\n",
       "    </tr>\n",
       "  </tbody>\n",
       "</table>\n",
       "</div>"
      ],
      "text/plain": [
       "   messages_included  GB_per_month_included  minutes_included  \\\n",
       "0                 50                   15.0               500   \n",
       "1               1000                   30.0              3000   \n",
       "\n",
       "   rub_monthly_fee  rub_per_gb  rub_per_message  rub_per_minute tariff  \n",
       "0              550         200                3               3  smart  \n",
       "1             1950         150                1               1  ultra  "
      ]
     },
     "execution_count": 18,
     "metadata": {},
     "output_type": "execute_result"
    }
   ],
   "source": [
    "tariffs['mb_per_month_included']= tariffs['mb_per_month_included']/1024\n",
    "tariffs = tariffs.rename(columns={'mb_per_month_included':'GB_per_month_included','tariff_name':'tariff'})\n",
    "tariffs"
   ]
  },
  {
   "cell_type": "markdown",
   "metadata": {},
   "source": [
    "#### Таблица users"
   ]
  },
  {
   "cell_type": "code",
   "execution_count": 19,
   "metadata": {},
   "outputs": [
    {
     "data": {
      "text/html": [
       "<div>\n",
       "<style scoped>\n",
       "    .dataframe tbody tr th:only-of-type {\n",
       "        vertical-align: middle;\n",
       "    }\n",
       "\n",
       "    .dataframe tbody tr th {\n",
       "        vertical-align: top;\n",
       "    }\n",
       "\n",
       "    .dataframe thead th {\n",
       "        text-align: right;\n",
       "    }\n",
       "</style>\n",
       "<table border=\"1\" class=\"dataframe\">\n",
       "  <thead>\n",
       "    <tr style=\"text-align: right;\">\n",
       "      <th></th>\n",
       "      <th>user_id</th>\n",
       "      <th>age</th>\n",
       "      <th>churn_date</th>\n",
       "      <th>city</th>\n",
       "      <th>first_name</th>\n",
       "      <th>last_name</th>\n",
       "      <th>reg_date</th>\n",
       "      <th>tariff</th>\n",
       "    </tr>\n",
       "  </thead>\n",
       "  <tbody>\n",
       "    <tr>\n",
       "      <th>0</th>\n",
       "      <td>1000</td>\n",
       "      <td>52</td>\n",
       "      <td>NaN</td>\n",
       "      <td>Краснодар</td>\n",
       "      <td>Рафаил</td>\n",
       "      <td>Верещагин</td>\n",
       "      <td>2018-05-25</td>\n",
       "      <td>ultra</td>\n",
       "    </tr>\n",
       "    <tr>\n",
       "      <th>1</th>\n",
       "      <td>1001</td>\n",
       "      <td>41</td>\n",
       "      <td>NaN</td>\n",
       "      <td>Москва</td>\n",
       "      <td>Иван</td>\n",
       "      <td>Ежов</td>\n",
       "      <td>2018-11-01</td>\n",
       "      <td>smart</td>\n",
       "    </tr>\n",
       "    <tr>\n",
       "      <th>2</th>\n",
       "      <td>1002</td>\n",
       "      <td>59</td>\n",
       "      <td>NaN</td>\n",
       "      <td>Стерлитамак</td>\n",
       "      <td>Евгений</td>\n",
       "      <td>Абрамович</td>\n",
       "      <td>2018-06-17</td>\n",
       "      <td>smart</td>\n",
       "    </tr>\n",
       "    <tr>\n",
       "      <th>3</th>\n",
       "      <td>1003</td>\n",
       "      <td>23</td>\n",
       "      <td>NaN</td>\n",
       "      <td>Москва</td>\n",
       "      <td>Белла</td>\n",
       "      <td>Белякова</td>\n",
       "      <td>2018-08-17</td>\n",
       "      <td>ultra</td>\n",
       "    </tr>\n",
       "    <tr>\n",
       "      <th>4</th>\n",
       "      <td>1004</td>\n",
       "      <td>68</td>\n",
       "      <td>NaN</td>\n",
       "      <td>Новокузнецк</td>\n",
       "      <td>Татьяна</td>\n",
       "      <td>Авдеенко</td>\n",
       "      <td>2018-05-14</td>\n",
       "      <td>ultra</td>\n",
       "    </tr>\n",
       "  </tbody>\n",
       "</table>\n",
       "</div>"
      ],
      "text/plain": [
       "   user_id  age churn_date         city first_name  last_name    reg_date  \\\n",
       "0     1000   52        NaN    Краснодар     Рафаил  Верещагин  2018-05-25   \n",
       "1     1001   41        NaN       Москва       Иван       Ежов  2018-11-01   \n",
       "2     1002   59        NaN  Стерлитамак    Евгений  Абрамович  2018-06-17   \n",
       "3     1003   23        NaN       Москва      Белла   Белякова  2018-08-17   \n",
       "4     1004   68        NaN  Новокузнецк    Татьяна   Авдеенко  2018-05-14   \n",
       "\n",
       "  tariff  \n",
       "0  ultra  \n",
       "1  smart  \n",
       "2  smart  \n",
       "3  ultra  \n",
       "4  ultra  "
      ]
     },
     "execution_count": 19,
     "metadata": {},
     "output_type": "execute_result"
    }
   ],
   "source": [
    "users = pd.read_csv('users.csv')\n",
    "users.head()"
   ]
  },
  {
   "cell_type": "markdown",
   "metadata": {},
   "source": [
    "Согласно документации к данным - таблица users (информация о пользователях):\n",
    "* user_id — уникальный идентификатор пользователя\n",
    "* first_name — имя пользователя\n",
    "* last_name — фамилия пользователя\n",
    "* age — возраст пользователя (годы)\n",
    "* reg_date — дата подключения тарифа (день, месяц, год)\n",
    "* churn_date — дата прекращения пользования тарифом (если значение пропущено, то тариф ещё действовал на момент выгрузки данных)\n",
    "* city — город проживания пользователя\n",
    "* tariff — название тарифного план\n"
   ]
  },
  {
   "cell_type": "code",
   "execution_count": 20,
   "metadata": {},
   "outputs": [
    {
     "name": "stdout",
     "output_type": "stream",
     "text": [
      "<class 'pandas.core.frame.DataFrame'>\n",
      "RangeIndex: 500 entries, 0 to 499\n",
      "Data columns (total 8 columns):\n",
      " #   Column      Non-Null Count  Dtype \n",
      "---  ------      --------------  ----- \n",
      " 0   user_id     500 non-null    int64 \n",
      " 1   age         500 non-null    int64 \n",
      " 2   churn_date  38 non-null     object\n",
      " 3   city        500 non-null    object\n",
      " 4   first_name  500 non-null    object\n",
      " 5   last_name   500 non-null    object\n",
      " 6   reg_date    500 non-null    object\n",
      " 7   tariff      500 non-null    object\n",
      "dtypes: int64(2), object(6)\n",
      "memory usage: 31.4+ KB\n"
     ]
    }
   ],
   "source": [
    "users.info()"
   ]
  },
  {
   "cell_type": "markdown",
   "metadata": {},
   "source": [
    "Для таблицы users требуется только изменение типа данных для столбцов churn_date и reg_date:"
   ]
  },
  {
   "cell_type": "code",
   "execution_count": 21,
   "metadata": {},
   "outputs": [],
   "source": [
    "columns = ['churn_date', 'reg_date']\n",
    "for i in columns:\n",
    "    users[i]= pd.to_datetime(users[i], format = '%Y-%m-%d')"
   ]
  },
  {
   "cell_type": "code",
   "execution_count": 22,
   "metadata": {},
   "outputs": [
    {
     "data": {
      "text/html": [
       "<div>\n",
       "<style scoped>\n",
       "    .dataframe tbody tr th:only-of-type {\n",
       "        vertical-align: middle;\n",
       "    }\n",
       "\n",
       "    .dataframe tbody tr th {\n",
       "        vertical-align: top;\n",
       "    }\n",
       "\n",
       "    .dataframe thead th {\n",
       "        text-align: right;\n",
       "    }\n",
       "</style>\n",
       "<table border=\"1\" class=\"dataframe\">\n",
       "  <thead>\n",
       "    <tr style=\"text-align: right;\">\n",
       "      <th></th>\n",
       "      <th>user_id</th>\n",
       "      <th>age</th>\n",
       "      <th>churn_date</th>\n",
       "      <th>city</th>\n",
       "      <th>first_name</th>\n",
       "      <th>last_name</th>\n",
       "      <th>reg_date</th>\n",
       "      <th>tariff</th>\n",
       "    </tr>\n",
       "  </thead>\n",
       "  <tbody>\n",
       "    <tr>\n",
       "      <th>0</th>\n",
       "      <td>1000</td>\n",
       "      <td>52</td>\n",
       "      <td>NaT</td>\n",
       "      <td>Краснодар</td>\n",
       "      <td>Рафаил</td>\n",
       "      <td>Верещагин</td>\n",
       "      <td>2018-05-25</td>\n",
       "      <td>ultra</td>\n",
       "    </tr>\n",
       "    <tr>\n",
       "      <th>1</th>\n",
       "      <td>1001</td>\n",
       "      <td>41</td>\n",
       "      <td>NaT</td>\n",
       "      <td>Москва</td>\n",
       "      <td>Иван</td>\n",
       "      <td>Ежов</td>\n",
       "      <td>2018-11-01</td>\n",
       "      <td>smart</td>\n",
       "    </tr>\n",
       "    <tr>\n",
       "      <th>2</th>\n",
       "      <td>1002</td>\n",
       "      <td>59</td>\n",
       "      <td>NaT</td>\n",
       "      <td>Стерлитамак</td>\n",
       "      <td>Евгений</td>\n",
       "      <td>Абрамович</td>\n",
       "      <td>2018-06-17</td>\n",
       "      <td>smart</td>\n",
       "    </tr>\n",
       "    <tr>\n",
       "      <th>3</th>\n",
       "      <td>1003</td>\n",
       "      <td>23</td>\n",
       "      <td>NaT</td>\n",
       "      <td>Москва</td>\n",
       "      <td>Белла</td>\n",
       "      <td>Белякова</td>\n",
       "      <td>2018-08-17</td>\n",
       "      <td>ultra</td>\n",
       "    </tr>\n",
       "    <tr>\n",
       "      <th>4</th>\n",
       "      <td>1004</td>\n",
       "      <td>68</td>\n",
       "      <td>NaT</td>\n",
       "      <td>Новокузнецк</td>\n",
       "      <td>Татьяна</td>\n",
       "      <td>Авдеенко</td>\n",
       "      <td>2018-05-14</td>\n",
       "      <td>ultra</td>\n",
       "    </tr>\n",
       "  </tbody>\n",
       "</table>\n",
       "</div>"
      ],
      "text/plain": [
       "   user_id  age churn_date         city first_name  last_name   reg_date  \\\n",
       "0     1000   52        NaT    Краснодар     Рафаил  Верещагин 2018-05-25   \n",
       "1     1001   41        NaT       Москва       Иван       Ежов 2018-11-01   \n",
       "2     1002   59        NaT  Стерлитамак    Евгений  Абрамович 2018-06-17   \n",
       "3     1003   23        NaT       Москва      Белла   Белякова 2018-08-17   \n",
       "4     1004   68        NaT  Новокузнецк    Татьяна   Авдеенко 2018-05-14   \n",
       "\n",
       "  tariff  \n",
       "0  ultra  \n",
       "1  smart  \n",
       "2  smart  \n",
       "3  ultra  \n",
       "4  ultra  "
      ]
     },
     "execution_count": 22,
     "metadata": {},
     "output_type": "execute_result"
    }
   ],
   "source": [
    "users.head()"
   ]
  },
  {
   "cell_type": "code",
   "execution_count": 23,
   "metadata": {},
   "outputs": [
    {
     "name": "stdout",
     "output_type": "stream",
     "text": [
      "<class 'pandas.core.frame.DataFrame'>\n",
      "RangeIndex: 500 entries, 0 to 499\n",
      "Data columns (total 8 columns):\n",
      " #   Column      Non-Null Count  Dtype         \n",
      "---  ------      --------------  -----         \n",
      " 0   user_id     500 non-null    int64         \n",
      " 1   age         500 non-null    int64         \n",
      " 2   churn_date  38 non-null     datetime64[ns]\n",
      " 3   city        500 non-null    object        \n",
      " 4   first_name  500 non-null    object        \n",
      " 5   last_name   500 non-null    object        \n",
      " 6   reg_date    500 non-null    datetime64[ns]\n",
      " 7   tariff      500 non-null    object        \n",
      "dtypes: datetime64[ns](2), int64(2), object(4)\n",
      "memory usage: 31.4+ KB\n"
     ]
    }
   ],
   "source": [
    "users.info()"
   ]
  },
  {
   "cell_type": "markdown",
   "metadata": {},
   "source": [
    "### Расчет данных о пользовании услугами и доходе с клиента"
   ]
  },
  {
   "cell_type": "markdown",
   "metadata": {},
   "source": [
    "Для рассчёта данных о пользовательях по месяцам предварительно добавим в исходные таблицы столбцы с номером месяца:"
   ]
  },
  {
   "cell_type": "code",
   "execution_count": 24,
   "metadata": {},
   "outputs": [],
   "source": [
    "calls['month'] = calls['call_date'].dt.month\n",
    "internet['month'] = internet['session_date'].dt.month\n",
    "messages['month'] = messages['message_date'].dt.month"
   ]
  },
  {
   "cell_type": "code",
   "execution_count": 25,
   "metadata": {},
   "outputs": [],
   "source": [
    "tariffs_name = users.loc[:,['user_id','tariff']]"
   ]
  },
  {
   "cell_type": "code",
   "execution_count": 26,
   "metadata": {},
   "outputs": [],
   "source": [
    "calls=calls.merge(tariffs_name, on = ['user_id'])\n",
    "internet=internet.merge(tariffs_name, on = ['user_id'])\n",
    "messages=messages.merge(tariffs_name, on = ['user_id'])"
   ]
  },
  {
   "cell_type": "markdown",
   "metadata": {},
   "source": [
    "Рассчитаем количество сделанных звонков и израсходованных минут разговора по месяцам"
   ]
  },
  {
   "cell_type": "code",
   "execution_count": 27,
   "metadata": {},
   "outputs": [
    {
     "data": {
      "text/html": [
       "<div>\n",
       "<style scoped>\n",
       "    .dataframe tbody tr th:only-of-type {\n",
       "        vertical-align: middle;\n",
       "    }\n",
       "\n",
       "    .dataframe tbody tr th {\n",
       "        vertical-align: top;\n",
       "    }\n",
       "\n",
       "    .dataframe thead th {\n",
       "        text-align: right;\n",
       "    }\n",
       "</style>\n",
       "<table border=\"1\" class=\"dataframe\">\n",
       "  <thead>\n",
       "    <tr style=\"text-align: right;\">\n",
       "      <th></th>\n",
       "      <th>user_id</th>\n",
       "      <th>tariff</th>\n",
       "      <th>month</th>\n",
       "      <th>amount_calls</th>\n",
       "      <th>sum_duration_calls</th>\n",
       "    </tr>\n",
       "  </thead>\n",
       "  <tbody>\n",
       "    <tr>\n",
       "      <th>0</th>\n",
       "      <td>1000</td>\n",
       "      <td>ultra</td>\n",
       "      <td>5</td>\n",
       "      <td>22</td>\n",
       "      <td>159</td>\n",
       "    </tr>\n",
       "    <tr>\n",
       "      <th>1</th>\n",
       "      <td>1000</td>\n",
       "      <td>ultra</td>\n",
       "      <td>6</td>\n",
       "      <td>43</td>\n",
       "      <td>172</td>\n",
       "    </tr>\n",
       "    <tr>\n",
       "      <th>2</th>\n",
       "      <td>1000</td>\n",
       "      <td>ultra</td>\n",
       "      <td>7</td>\n",
       "      <td>47</td>\n",
       "      <td>340</td>\n",
       "    </tr>\n",
       "    <tr>\n",
       "      <th>3</th>\n",
       "      <td>1000</td>\n",
       "      <td>ultra</td>\n",
       "      <td>8</td>\n",
       "      <td>52</td>\n",
       "      <td>408</td>\n",
       "    </tr>\n",
       "    <tr>\n",
       "      <th>4</th>\n",
       "      <td>1000</td>\n",
       "      <td>ultra</td>\n",
       "      <td>9</td>\n",
       "      <td>58</td>\n",
       "      <td>466</td>\n",
       "    </tr>\n",
       "    <tr>\n",
       "      <th>...</th>\n",
       "      <td>...</td>\n",
       "      <td>...</td>\n",
       "      <td>...</td>\n",
       "      <td>...</td>\n",
       "      <td>...</td>\n",
       "    </tr>\n",
       "    <tr>\n",
       "      <th>3169</th>\n",
       "      <td>1498</td>\n",
       "      <td>smart</td>\n",
       "      <td>10</td>\n",
       "      <td>41</td>\n",
       "      <td>247</td>\n",
       "    </tr>\n",
       "    <tr>\n",
       "      <th>3170</th>\n",
       "      <td>1499</td>\n",
       "      <td>smart</td>\n",
       "      <td>9</td>\n",
       "      <td>9</td>\n",
       "      <td>70</td>\n",
       "    </tr>\n",
       "    <tr>\n",
       "      <th>3171</th>\n",
       "      <td>1499</td>\n",
       "      <td>smart</td>\n",
       "      <td>10</td>\n",
       "      <td>68</td>\n",
       "      <td>449</td>\n",
       "    </tr>\n",
       "    <tr>\n",
       "      <th>3172</th>\n",
       "      <td>1499</td>\n",
       "      <td>smart</td>\n",
       "      <td>11</td>\n",
       "      <td>74</td>\n",
       "      <td>612</td>\n",
       "    </tr>\n",
       "    <tr>\n",
       "      <th>3173</th>\n",
       "      <td>1499</td>\n",
       "      <td>smart</td>\n",
       "      <td>12</td>\n",
       "      <td>69</td>\n",
       "      <td>492</td>\n",
       "    </tr>\n",
       "  </tbody>\n",
       "</table>\n",
       "<p>3174 rows × 5 columns</p>\n",
       "</div>"
      ],
      "text/plain": [
       "      user_id tariff  month  amount_calls  sum_duration_calls\n",
       "0        1000  ultra      5            22                 159\n",
       "1        1000  ultra      6            43                 172\n",
       "2        1000  ultra      7            47                 340\n",
       "3        1000  ultra      8            52                 408\n",
       "4        1000  ultra      9            58                 466\n",
       "...       ...    ...    ...           ...                 ...\n",
       "3169     1498  smart     10            41                 247\n",
       "3170     1499  smart      9             9                  70\n",
       "3171     1499  smart     10            68                 449\n",
       "3172     1499  smart     11            74                 612\n",
       "3173     1499  smart     12            69                 492\n",
       "\n",
       "[3174 rows x 5 columns]"
      ]
     },
     "execution_count": 27,
     "metadata": {},
     "output_type": "execute_result"
    }
   ],
   "source": [
    "calls_month = calls.pivot_table(index=['user_id','tariff','month'], values='duration', aggfunc = ['count','sum'])\n",
    "calls_month.columns = ['amount_calls', 'sum_duration_calls']\n",
    "calls_month.reset_index()"
   ]
  },
  {
   "cell_type": "markdown",
   "metadata": {},
   "source": [
    "Рассчитаем количество отправленных сообщений по месяцам по каждому пользователю:"
   ]
  },
  {
   "cell_type": "code",
   "execution_count": 28,
   "metadata": {},
   "outputs": [
    {
     "data": {
      "text/html": [
       "<div>\n",
       "<style scoped>\n",
       "    .dataframe tbody tr th:only-of-type {\n",
       "        vertical-align: middle;\n",
       "    }\n",
       "\n",
       "    .dataframe tbody tr th {\n",
       "        vertical-align: top;\n",
       "    }\n",
       "\n",
       "    .dataframe thead th {\n",
       "        text-align: right;\n",
       "    }\n",
       "</style>\n",
       "<table border=\"1\" class=\"dataframe\">\n",
       "  <thead>\n",
       "    <tr style=\"text-align: right;\">\n",
       "      <th></th>\n",
       "      <th>user_id</th>\n",
       "      <th>tariff</th>\n",
       "      <th>month</th>\n",
       "      <th>amount_sms</th>\n",
       "    </tr>\n",
       "  </thead>\n",
       "  <tbody>\n",
       "    <tr>\n",
       "      <th>0</th>\n",
       "      <td>1000</td>\n",
       "      <td>ultra</td>\n",
       "      <td>5</td>\n",
       "      <td>22</td>\n",
       "    </tr>\n",
       "    <tr>\n",
       "      <th>1</th>\n",
       "      <td>1000</td>\n",
       "      <td>ultra</td>\n",
       "      <td>6</td>\n",
       "      <td>60</td>\n",
       "    </tr>\n",
       "    <tr>\n",
       "      <th>2</th>\n",
       "      <td>1000</td>\n",
       "      <td>ultra</td>\n",
       "      <td>7</td>\n",
       "      <td>75</td>\n",
       "    </tr>\n",
       "    <tr>\n",
       "      <th>3</th>\n",
       "      <td>1000</td>\n",
       "      <td>ultra</td>\n",
       "      <td>8</td>\n",
       "      <td>81</td>\n",
       "    </tr>\n",
       "    <tr>\n",
       "      <th>4</th>\n",
       "      <td>1000</td>\n",
       "      <td>ultra</td>\n",
       "      <td>9</td>\n",
       "      <td>57</td>\n",
       "    </tr>\n",
       "  </tbody>\n",
       "</table>\n",
       "</div>"
      ],
      "text/plain": [
       "   user_id tariff  month  amount_sms\n",
       "0     1000  ultra      5          22\n",
       "1     1000  ultra      6          60\n",
       "2     1000  ultra      7          75\n",
       "3     1000  ultra      8          81\n",
       "4     1000  ultra      9          57"
      ]
     },
     "execution_count": 28,
     "metadata": {},
     "output_type": "execute_result"
    }
   ],
   "source": [
    "messages_month = messages.pivot_table(index=['user_id','tariff','month'], values='message_date', aggfunc = 'count')\n",
    "messages_month.columns = ['amount_sms']\n",
    "messages_month.reset_index().head()"
   ]
  },
  {
   "cell_type": "markdown",
   "metadata": {},
   "source": [
    "Рассчитаем объем израсходованного интернет-трафика по месяцам по каждому пользователю:"
   ]
  },
  {
   "cell_type": "code",
   "execution_count": 29,
   "metadata": {},
   "outputs": [
    {
     "data": {
      "text/html": [
       "<div>\n",
       "<style scoped>\n",
       "    .dataframe tbody tr th:only-of-type {\n",
       "        vertical-align: middle;\n",
       "    }\n",
       "\n",
       "    .dataframe tbody tr th {\n",
       "        vertical-align: top;\n",
       "    }\n",
       "\n",
       "    .dataframe thead th {\n",
       "        text-align: right;\n",
       "    }\n",
       "</style>\n",
       "<table border=\"1\" class=\"dataframe\">\n",
       "  <thead>\n",
       "    <tr style=\"text-align: right;\">\n",
       "      <th></th>\n",
       "      <th>Unnamed: 0</th>\n",
       "      <th>id</th>\n",
       "      <th>mb_used</th>\n",
       "      <th>session_date</th>\n",
       "      <th>user_id</th>\n",
       "      <th>month</th>\n",
       "      <th>tariff</th>\n",
       "    </tr>\n",
       "  </thead>\n",
       "  <tbody>\n",
       "    <tr>\n",
       "      <th>0</th>\n",
       "      <td>0</td>\n",
       "      <td>1000_0</td>\n",
       "      <td>112.95</td>\n",
       "      <td>2018-11-25</td>\n",
       "      <td>1000</td>\n",
       "      <td>11</td>\n",
       "      <td>ultra</td>\n",
       "    </tr>\n",
       "    <tr>\n",
       "      <th>1</th>\n",
       "      <td>1</td>\n",
       "      <td>1000_1</td>\n",
       "      <td>1052.81</td>\n",
       "      <td>2018-09-07</td>\n",
       "      <td>1000</td>\n",
       "      <td>9</td>\n",
       "      <td>ultra</td>\n",
       "    </tr>\n",
       "    <tr>\n",
       "      <th>2</th>\n",
       "      <td>2</td>\n",
       "      <td>1000_2</td>\n",
       "      <td>1197.26</td>\n",
       "      <td>2018-06-25</td>\n",
       "      <td>1000</td>\n",
       "      <td>6</td>\n",
       "      <td>ultra</td>\n",
       "    </tr>\n",
       "    <tr>\n",
       "      <th>3</th>\n",
       "      <td>3</td>\n",
       "      <td>1000_3</td>\n",
       "      <td>550.27</td>\n",
       "      <td>2018-08-22</td>\n",
       "      <td>1000</td>\n",
       "      <td>8</td>\n",
       "      <td>ultra</td>\n",
       "    </tr>\n",
       "    <tr>\n",
       "      <th>4</th>\n",
       "      <td>4</td>\n",
       "      <td>1000_4</td>\n",
       "      <td>302.56</td>\n",
       "      <td>2018-09-24</td>\n",
       "      <td>1000</td>\n",
       "      <td>9</td>\n",
       "      <td>ultra</td>\n",
       "    </tr>\n",
       "  </tbody>\n",
       "</table>\n",
       "</div>"
      ],
      "text/plain": [
       "   Unnamed: 0      id  mb_used session_date  user_id  month tariff\n",
       "0           0  1000_0   112.95   2018-11-25     1000     11  ultra\n",
       "1           1  1000_1  1052.81   2018-09-07     1000      9  ultra\n",
       "2           2  1000_2  1197.26   2018-06-25     1000      6  ultra\n",
       "3           3  1000_3   550.27   2018-08-22     1000      8  ultra\n",
       "4           4  1000_4   302.56   2018-09-24     1000      9  ultra"
      ]
     },
     "execution_count": 29,
     "metadata": {},
     "output_type": "execute_result"
    }
   ],
   "source": [
    "internet.head()"
   ]
  },
  {
   "cell_type": "code",
   "execution_count": 30,
   "metadata": {},
   "outputs": [
    {
     "data": {
      "text/html": [
       "<div>\n",
       "<style scoped>\n",
       "    .dataframe tbody tr th:only-of-type {\n",
       "        vertical-align: middle;\n",
       "    }\n",
       "\n",
       "    .dataframe tbody tr th {\n",
       "        vertical-align: top;\n",
       "    }\n",
       "\n",
       "    .dataframe thead th {\n",
       "        text-align: right;\n",
       "    }\n",
       "</style>\n",
       "<table border=\"1\" class=\"dataframe\">\n",
       "  <thead>\n",
       "    <tr style=\"text-align: right;\">\n",
       "      <th></th>\n",
       "      <th>user_id</th>\n",
       "      <th>tariff</th>\n",
       "      <th>month</th>\n",
       "      <th>sum_trafic_mb</th>\n",
       "    </tr>\n",
       "  </thead>\n",
       "  <tbody>\n",
       "    <tr>\n",
       "      <th>0</th>\n",
       "      <td>1000</td>\n",
       "      <td>ultra</td>\n",
       "      <td>5</td>\n",
       "      <td>2253.49</td>\n",
       "    </tr>\n",
       "    <tr>\n",
       "      <th>1</th>\n",
       "      <td>1000</td>\n",
       "      <td>ultra</td>\n",
       "      <td>6</td>\n",
       "      <td>23233.77</td>\n",
       "    </tr>\n",
       "    <tr>\n",
       "      <th>2</th>\n",
       "      <td>1000</td>\n",
       "      <td>ultra</td>\n",
       "      <td>7</td>\n",
       "      <td>14003.64</td>\n",
       "    </tr>\n",
       "    <tr>\n",
       "      <th>3</th>\n",
       "      <td>1000</td>\n",
       "      <td>ultra</td>\n",
       "      <td>8</td>\n",
       "      <td>14055.93</td>\n",
       "    </tr>\n",
       "    <tr>\n",
       "      <th>4</th>\n",
       "      <td>1000</td>\n",
       "      <td>ultra</td>\n",
       "      <td>9</td>\n",
       "      <td>14568.91</td>\n",
       "    </tr>\n",
       "  </tbody>\n",
       "</table>\n",
       "</div>"
      ],
      "text/plain": [
       "   user_id tariff  month  sum_trafic_mb\n",
       "0     1000  ultra      5        2253.49\n",
       "1     1000  ultra      6       23233.77\n",
       "2     1000  ultra      7       14003.64\n",
       "3     1000  ultra      8       14055.93\n",
       "4     1000  ultra      9       14568.91"
      ]
     },
     "execution_count": 30,
     "metadata": {},
     "output_type": "execute_result"
    }
   ],
   "source": [
    "internet_month = internet.pivot_table(index=['user_id','tariff','month'], values='mb_used', aggfunc='sum')\n",
    "internet_month.columns = ['sum_trafic_mb']\n",
    "internet_month.reset_index().head()"
   ]
  },
  {
   "cell_type": "markdown",
   "metadata": {},
   "source": [
    "Приведём значения в столбце sum_trafic_mb до гигабайт,округлим в большую сторону и изменим на тип 'int', чтобы убрать нули после запятой, после чего переименуем столбец на sum_trafic_gb:"
   ]
  },
  {
   "cell_type": "code",
   "execution_count": 31,
   "metadata": {},
   "outputs": [
    {
     "data": {
      "text/html": [
       "<div>\n",
       "<style scoped>\n",
       "    .dataframe tbody tr th:only-of-type {\n",
       "        vertical-align: middle;\n",
       "    }\n",
       "\n",
       "    .dataframe tbody tr th {\n",
       "        vertical-align: top;\n",
       "    }\n",
       "\n",
       "    .dataframe thead th {\n",
       "        text-align: right;\n",
       "    }\n",
       "</style>\n",
       "<table border=\"1\" class=\"dataframe\">\n",
       "  <thead>\n",
       "    <tr style=\"text-align: right;\">\n",
       "      <th></th>\n",
       "      <th>user_id</th>\n",
       "      <th>tariff</th>\n",
       "      <th>month</th>\n",
       "      <th>sum_trafic_gb</th>\n",
       "    </tr>\n",
       "  </thead>\n",
       "  <tbody>\n",
       "    <tr>\n",
       "      <th>0</th>\n",
       "      <td>1000</td>\n",
       "      <td>ultra</td>\n",
       "      <td>5</td>\n",
       "      <td>3</td>\n",
       "    </tr>\n",
       "    <tr>\n",
       "      <th>1</th>\n",
       "      <td>1000</td>\n",
       "      <td>ultra</td>\n",
       "      <td>6</td>\n",
       "      <td>23</td>\n",
       "    </tr>\n",
       "    <tr>\n",
       "      <th>2</th>\n",
       "      <td>1000</td>\n",
       "      <td>ultra</td>\n",
       "      <td>7</td>\n",
       "      <td>14</td>\n",
       "    </tr>\n",
       "    <tr>\n",
       "      <th>3</th>\n",
       "      <td>1000</td>\n",
       "      <td>ultra</td>\n",
       "      <td>8</td>\n",
       "      <td>14</td>\n",
       "    </tr>\n",
       "    <tr>\n",
       "      <th>4</th>\n",
       "      <td>1000</td>\n",
       "      <td>ultra</td>\n",
       "      <td>9</td>\n",
       "      <td>15</td>\n",
       "    </tr>\n",
       "  </tbody>\n",
       "</table>\n",
       "</div>"
      ],
      "text/plain": [
       "   user_id tariff  month  sum_trafic_gb\n",
       "0     1000  ultra      5              3\n",
       "1     1000  ultra      6             23\n",
       "2     1000  ultra      7             14\n",
       "3     1000  ultra      8             14\n",
       "4     1000  ultra      9             15"
      ]
     },
     "execution_count": 31,
     "metadata": {},
     "output_type": "execute_result"
    }
   ],
   "source": [
    "internet_month['sum_trafic_mb']=np.ceil(internet_month['sum_trafic_mb']/1024).astype('int')\n",
    "internet_month = internet_month.rename(columns={'sum_trafic_mb':'sum_trafic_gb'})\n",
    "internet_month.reset_index().head()"
   ]
  },
  {
   "cell_type": "markdown",
   "metadata": {},
   "source": [
    "Объединим сделанные расчёты о количестве звоноков, смс, интернет-трафика в одну таблицу с данными о каждом пользователе:"
   ]
  },
  {
   "cell_type": "code",
   "execution_count": 32,
   "metadata": {},
   "outputs": [],
   "source": [
    "data=calls_month.merge(messages_month, on = ['user_id','tariff','month'], how='outer')"
   ]
  },
  {
   "cell_type": "code",
   "execution_count": 33,
   "metadata": {},
   "outputs": [
    {
     "data": {
      "text/html": [
       "<div>\n",
       "<style scoped>\n",
       "    .dataframe tbody tr th:only-of-type {\n",
       "        vertical-align: middle;\n",
       "    }\n",
       "\n",
       "    .dataframe tbody tr th {\n",
       "        vertical-align: top;\n",
       "    }\n",
       "\n",
       "    .dataframe thead th {\n",
       "        text-align: right;\n",
       "    }\n",
       "</style>\n",
       "<table border=\"1\" class=\"dataframe\">\n",
       "  <thead>\n",
       "    <tr style=\"text-align: right;\">\n",
       "      <th></th>\n",
       "      <th>user_id</th>\n",
       "      <th>tariff</th>\n",
       "      <th>month</th>\n",
       "      <th>amount_calls</th>\n",
       "      <th>sum_duration_calls</th>\n",
       "      <th>amount_sms</th>\n",
       "      <th>sum_trafic_gb</th>\n",
       "    </tr>\n",
       "  </thead>\n",
       "  <tbody>\n",
       "    <tr>\n",
       "      <th>0</th>\n",
       "      <td>1000</td>\n",
       "      <td>ultra</td>\n",
       "      <td>5</td>\n",
       "      <td>22.0</td>\n",
       "      <td>159.0</td>\n",
       "      <td>22.0</td>\n",
       "      <td>3.0</td>\n",
       "    </tr>\n",
       "    <tr>\n",
       "      <th>1</th>\n",
       "      <td>1000</td>\n",
       "      <td>ultra</td>\n",
       "      <td>6</td>\n",
       "      <td>43.0</td>\n",
       "      <td>172.0</td>\n",
       "      <td>60.0</td>\n",
       "      <td>23.0</td>\n",
       "    </tr>\n",
       "    <tr>\n",
       "      <th>2</th>\n",
       "      <td>1000</td>\n",
       "      <td>ultra</td>\n",
       "      <td>7</td>\n",
       "      <td>47.0</td>\n",
       "      <td>340.0</td>\n",
       "      <td>75.0</td>\n",
       "      <td>14.0</td>\n",
       "    </tr>\n",
       "    <tr>\n",
       "      <th>3</th>\n",
       "      <td>1000</td>\n",
       "      <td>ultra</td>\n",
       "      <td>8</td>\n",
       "      <td>52.0</td>\n",
       "      <td>408.0</td>\n",
       "      <td>81.0</td>\n",
       "      <td>14.0</td>\n",
       "    </tr>\n",
       "    <tr>\n",
       "      <th>4</th>\n",
       "      <td>1000</td>\n",
       "      <td>ultra</td>\n",
       "      <td>9</td>\n",
       "      <td>58.0</td>\n",
       "      <td>466.0</td>\n",
       "      <td>57.0</td>\n",
       "      <td>15.0</td>\n",
       "    </tr>\n",
       "  </tbody>\n",
       "</table>\n",
       "</div>"
      ],
      "text/plain": [
       "   user_id tariff  month  amount_calls  sum_duration_calls  amount_sms  \\\n",
       "0     1000  ultra      5          22.0               159.0        22.0   \n",
       "1     1000  ultra      6          43.0               172.0        60.0   \n",
       "2     1000  ultra      7          47.0               340.0        75.0   \n",
       "3     1000  ultra      8          52.0               408.0        81.0   \n",
       "4     1000  ultra      9          58.0               466.0        57.0   \n",
       "\n",
       "   sum_trafic_gb  \n",
       "0            3.0  \n",
       "1           23.0  \n",
       "2           14.0  \n",
       "3           14.0  \n",
       "4           15.0  "
      ]
     },
     "execution_count": 33,
     "metadata": {},
     "output_type": "execute_result"
    }
   ],
   "source": [
    "data=data.merge(internet_month, on = ['user_id', 'tariff','month'], how='outer').reset_index()\n",
    "data.head()"
   ]
  },
  {
   "cell_type": "markdown",
   "metadata": {},
   "source": [
    "В полученной таблице заменим NaN на нулевые значения: "
   ]
  },
  {
   "cell_type": "code",
   "execution_count": 34,
   "metadata": {},
   "outputs": [
    {
     "name": "stdout",
     "output_type": "stream",
     "text": [
      "<class 'pandas.core.frame.DataFrame'>\n",
      "RangeIndex: 3214 entries, 0 to 3213\n",
      "Data columns (total 7 columns):\n",
      " #   Column              Non-Null Count  Dtype  \n",
      "---  ------              --------------  -----  \n",
      " 0   user_id             3214 non-null   int64  \n",
      " 1   tariff              3214 non-null   object \n",
      " 2   month               3214 non-null   int64  \n",
      " 3   amount_calls        3214 non-null   float64\n",
      " 4   sum_duration_calls  3214 non-null   float64\n",
      " 5   amount_sms          3214 non-null   float64\n",
      " 6   sum_trafic_gb       3214 non-null   float64\n",
      "dtypes: float64(4), int64(2), object(1)\n",
      "memory usage: 175.9+ KB\n"
     ]
    }
   ],
   "source": [
    "columns = ['amount_calls', 'sum_duration_calls', 'amount_sms', 'sum_trafic_gb']\n",
    "for i in columns:\n",
    "    data[i] = data[i].fillna(0)\n",
    "data.info()"
   ]
  },
  {
   "cell_type": "markdown",
   "metadata": {},
   "source": [
    "Рассчитаем помесячную выручку с каждого пользователя."
   ]
  },
  {
   "cell_type": "code",
   "execution_count": 35,
   "metadata": {},
   "outputs": [
    {
     "data": {
      "text/html": [
       "<div>\n",
       "<style scoped>\n",
       "    .dataframe tbody tr th:only-of-type {\n",
       "        vertical-align: middle;\n",
       "    }\n",
       "\n",
       "    .dataframe tbody tr th {\n",
       "        vertical-align: top;\n",
       "    }\n",
       "\n",
       "    .dataframe thead th {\n",
       "        text-align: right;\n",
       "    }\n",
       "</style>\n",
       "<table border=\"1\" class=\"dataframe\">\n",
       "  <thead>\n",
       "    <tr style=\"text-align: right;\">\n",
       "      <th></th>\n",
       "      <th>user_id</th>\n",
       "      <th>tariff</th>\n",
       "      <th>month</th>\n",
       "      <th>amount_calls</th>\n",
       "      <th>sum_duration_calls</th>\n",
       "      <th>amount_sms</th>\n",
       "      <th>sum_trafic_gb</th>\n",
       "      <th>messages_included</th>\n",
       "      <th>GB_per_month_included</th>\n",
       "      <th>minutes_included</th>\n",
       "      <th>rub_monthly_fee</th>\n",
       "      <th>rub_per_gb</th>\n",
       "      <th>rub_per_message</th>\n",
       "      <th>rub_per_minute</th>\n",
       "    </tr>\n",
       "  </thead>\n",
       "  <tbody>\n",
       "    <tr>\n",
       "      <th>0</th>\n",
       "      <td>1000</td>\n",
       "      <td>ultra</td>\n",
       "      <td>5</td>\n",
       "      <td>22.0</td>\n",
       "      <td>159.0</td>\n",
       "      <td>22.0</td>\n",
       "      <td>3.0</td>\n",
       "      <td>1000</td>\n",
       "      <td>30.0</td>\n",
       "      <td>3000</td>\n",
       "      <td>1950</td>\n",
       "      <td>150</td>\n",
       "      <td>1</td>\n",
       "      <td>1</td>\n",
       "    </tr>\n",
       "    <tr>\n",
       "      <th>1</th>\n",
       "      <td>1000</td>\n",
       "      <td>ultra</td>\n",
       "      <td>6</td>\n",
       "      <td>43.0</td>\n",
       "      <td>172.0</td>\n",
       "      <td>60.0</td>\n",
       "      <td>23.0</td>\n",
       "      <td>1000</td>\n",
       "      <td>30.0</td>\n",
       "      <td>3000</td>\n",
       "      <td>1950</td>\n",
       "      <td>150</td>\n",
       "      <td>1</td>\n",
       "      <td>1</td>\n",
       "    </tr>\n",
       "    <tr>\n",
       "      <th>2</th>\n",
       "      <td>1000</td>\n",
       "      <td>ultra</td>\n",
       "      <td>7</td>\n",
       "      <td>47.0</td>\n",
       "      <td>340.0</td>\n",
       "      <td>75.0</td>\n",
       "      <td>14.0</td>\n",
       "      <td>1000</td>\n",
       "      <td>30.0</td>\n",
       "      <td>3000</td>\n",
       "      <td>1950</td>\n",
       "      <td>150</td>\n",
       "      <td>1</td>\n",
       "      <td>1</td>\n",
       "    </tr>\n",
       "    <tr>\n",
       "      <th>3</th>\n",
       "      <td>1000</td>\n",
       "      <td>ultra</td>\n",
       "      <td>8</td>\n",
       "      <td>52.0</td>\n",
       "      <td>408.0</td>\n",
       "      <td>81.0</td>\n",
       "      <td>14.0</td>\n",
       "      <td>1000</td>\n",
       "      <td>30.0</td>\n",
       "      <td>3000</td>\n",
       "      <td>1950</td>\n",
       "      <td>150</td>\n",
       "      <td>1</td>\n",
       "      <td>1</td>\n",
       "    </tr>\n",
       "    <tr>\n",
       "      <th>4</th>\n",
       "      <td>1000</td>\n",
       "      <td>ultra</td>\n",
       "      <td>9</td>\n",
       "      <td>58.0</td>\n",
       "      <td>466.0</td>\n",
       "      <td>57.0</td>\n",
       "      <td>15.0</td>\n",
       "      <td>1000</td>\n",
       "      <td>30.0</td>\n",
       "      <td>3000</td>\n",
       "      <td>1950</td>\n",
       "      <td>150</td>\n",
       "      <td>1</td>\n",
       "      <td>1</td>\n",
       "    </tr>\n",
       "  </tbody>\n",
       "</table>\n",
       "</div>"
      ],
      "text/plain": [
       "   user_id tariff  month  amount_calls  sum_duration_calls  amount_sms  \\\n",
       "0     1000  ultra      5          22.0               159.0        22.0   \n",
       "1     1000  ultra      6          43.0               172.0        60.0   \n",
       "2     1000  ultra      7          47.0               340.0        75.0   \n",
       "3     1000  ultra      8          52.0               408.0        81.0   \n",
       "4     1000  ultra      9          58.0               466.0        57.0   \n",
       "\n",
       "   sum_trafic_gb  messages_included  GB_per_month_included  minutes_included  \\\n",
       "0            3.0               1000                   30.0              3000   \n",
       "1           23.0               1000                   30.0              3000   \n",
       "2           14.0               1000                   30.0              3000   \n",
       "3           14.0               1000                   30.0              3000   \n",
       "4           15.0               1000                   30.0              3000   \n",
       "\n",
       "   rub_monthly_fee  rub_per_gb  rub_per_message  rub_per_minute  \n",
       "0             1950         150                1               1  \n",
       "1             1950         150                1               1  \n",
       "2             1950         150                1               1  \n",
       "3             1950         150                1               1  \n",
       "4             1950         150                1               1  "
      ]
     },
     "execution_count": 35,
     "metadata": {},
     "output_type": "execute_result"
    }
   ],
   "source": [
    "data = data.merge(tariffs, on='tariff', how='outer')\n",
    "data.head()"
   ]
  },
  {
   "cell_type": "code",
   "execution_count": 36,
   "metadata": {},
   "outputs": [
    {
     "data": {
      "text/html": [
       "<div>\n",
       "<style scoped>\n",
       "    .dataframe tbody tr th:only-of-type {\n",
       "        vertical-align: middle;\n",
       "    }\n",
       "\n",
       "    .dataframe tbody tr th {\n",
       "        vertical-align: top;\n",
       "    }\n",
       "\n",
       "    .dataframe thead th {\n",
       "        text-align: right;\n",
       "    }\n",
       "</style>\n",
       "<table border=\"1\" class=\"dataframe\">\n",
       "  <thead>\n",
       "    <tr style=\"text-align: right;\">\n",
       "      <th></th>\n",
       "      <th>user_id</th>\n",
       "      <th>tariff</th>\n",
       "      <th>month</th>\n",
       "      <th>amount_calls</th>\n",
       "      <th>sum_duration_calls</th>\n",
       "      <th>amount_sms</th>\n",
       "      <th>sum_trafic_gb</th>\n",
       "      <th>messages_included</th>\n",
       "      <th>GB_per_month_included</th>\n",
       "      <th>minutes_included</th>\n",
       "      <th>rub_monthly_fee</th>\n",
       "      <th>rub_per_gb</th>\n",
       "      <th>rub_per_message</th>\n",
       "      <th>rub_per_minute</th>\n",
       "      <th>calls_over</th>\n",
       "      <th>sms_over</th>\n",
       "      <th>GB_over</th>\n",
       "    </tr>\n",
       "  </thead>\n",
       "  <tbody>\n",
       "    <tr>\n",
       "      <th>0</th>\n",
       "      <td>1000</td>\n",
       "      <td>ultra</td>\n",
       "      <td>5</td>\n",
       "      <td>22.0</td>\n",
       "      <td>159.0</td>\n",
       "      <td>22.0</td>\n",
       "      <td>3.0</td>\n",
       "      <td>1000</td>\n",
       "      <td>30.0</td>\n",
       "      <td>3000</td>\n",
       "      <td>1950</td>\n",
       "      <td>150</td>\n",
       "      <td>1</td>\n",
       "      <td>1</td>\n",
       "      <td>-2841.0</td>\n",
       "      <td>-978.0</td>\n",
       "      <td>-27.0</td>\n",
       "    </tr>\n",
       "    <tr>\n",
       "      <th>1</th>\n",
       "      <td>1000</td>\n",
       "      <td>ultra</td>\n",
       "      <td>6</td>\n",
       "      <td>43.0</td>\n",
       "      <td>172.0</td>\n",
       "      <td>60.0</td>\n",
       "      <td>23.0</td>\n",
       "      <td>1000</td>\n",
       "      <td>30.0</td>\n",
       "      <td>3000</td>\n",
       "      <td>1950</td>\n",
       "      <td>150</td>\n",
       "      <td>1</td>\n",
       "      <td>1</td>\n",
       "      <td>-2828.0</td>\n",
       "      <td>-940.0</td>\n",
       "      <td>-7.0</td>\n",
       "    </tr>\n",
       "    <tr>\n",
       "      <th>2</th>\n",
       "      <td>1000</td>\n",
       "      <td>ultra</td>\n",
       "      <td>7</td>\n",
       "      <td>47.0</td>\n",
       "      <td>340.0</td>\n",
       "      <td>75.0</td>\n",
       "      <td>14.0</td>\n",
       "      <td>1000</td>\n",
       "      <td>30.0</td>\n",
       "      <td>3000</td>\n",
       "      <td>1950</td>\n",
       "      <td>150</td>\n",
       "      <td>1</td>\n",
       "      <td>1</td>\n",
       "      <td>-2660.0</td>\n",
       "      <td>-925.0</td>\n",
       "      <td>-16.0</td>\n",
       "    </tr>\n",
       "    <tr>\n",
       "      <th>3</th>\n",
       "      <td>1000</td>\n",
       "      <td>ultra</td>\n",
       "      <td>8</td>\n",
       "      <td>52.0</td>\n",
       "      <td>408.0</td>\n",
       "      <td>81.0</td>\n",
       "      <td>14.0</td>\n",
       "      <td>1000</td>\n",
       "      <td>30.0</td>\n",
       "      <td>3000</td>\n",
       "      <td>1950</td>\n",
       "      <td>150</td>\n",
       "      <td>1</td>\n",
       "      <td>1</td>\n",
       "      <td>-2592.0</td>\n",
       "      <td>-919.0</td>\n",
       "      <td>-16.0</td>\n",
       "    </tr>\n",
       "    <tr>\n",
       "      <th>4</th>\n",
       "      <td>1000</td>\n",
       "      <td>ultra</td>\n",
       "      <td>9</td>\n",
       "      <td>58.0</td>\n",
       "      <td>466.0</td>\n",
       "      <td>57.0</td>\n",
       "      <td>15.0</td>\n",
       "      <td>1000</td>\n",
       "      <td>30.0</td>\n",
       "      <td>3000</td>\n",
       "      <td>1950</td>\n",
       "      <td>150</td>\n",
       "      <td>1</td>\n",
       "      <td>1</td>\n",
       "      <td>-2534.0</td>\n",
       "      <td>-943.0</td>\n",
       "      <td>-15.0</td>\n",
       "    </tr>\n",
       "  </tbody>\n",
       "</table>\n",
       "</div>"
      ],
      "text/plain": [
       "   user_id tariff  month  amount_calls  sum_duration_calls  amount_sms  \\\n",
       "0     1000  ultra      5          22.0               159.0        22.0   \n",
       "1     1000  ultra      6          43.0               172.0        60.0   \n",
       "2     1000  ultra      7          47.0               340.0        75.0   \n",
       "3     1000  ultra      8          52.0               408.0        81.0   \n",
       "4     1000  ultra      9          58.0               466.0        57.0   \n",
       "\n",
       "   sum_trafic_gb  messages_included  GB_per_month_included  minutes_included  \\\n",
       "0            3.0               1000                   30.0              3000   \n",
       "1           23.0               1000                   30.0              3000   \n",
       "2           14.0               1000                   30.0              3000   \n",
       "3           14.0               1000                   30.0              3000   \n",
       "4           15.0               1000                   30.0              3000   \n",
       "\n",
       "   rub_monthly_fee  rub_per_gb  rub_per_message  rub_per_minute  calls_over  \\\n",
       "0             1950         150                1               1     -2841.0   \n",
       "1             1950         150                1               1     -2828.0   \n",
       "2             1950         150                1               1     -2660.0   \n",
       "3             1950         150                1               1     -2592.0   \n",
       "4             1950         150                1               1     -2534.0   \n",
       "\n",
       "   sms_over  GB_over  \n",
       "0    -978.0    -27.0  \n",
       "1    -940.0     -7.0  \n",
       "2    -925.0    -16.0  \n",
       "3    -919.0    -16.0  \n",
       "4    -943.0    -15.0  "
      ]
     },
     "execution_count": 36,
     "metadata": {},
     "output_type": "execute_result"
    }
   ],
   "source": [
    "data['calls_over']= (data['sum_duration_calls']- data['minutes_included']) \n",
    "data['sms_over']= (data['amount_sms']- data['messages_included'])\n",
    "data['GB_over']= (data['sum_trafic_gb']- data['GB_per_month_included'])\n",
    "data.head()"
   ]
  },
  {
   "cell_type": "code",
   "execution_count": 37,
   "metadata": {},
   "outputs": [
    {
     "data": {
      "text/html": [
       "<div>\n",
       "<style scoped>\n",
       "    .dataframe tbody tr th:only-of-type {\n",
       "        vertical-align: middle;\n",
       "    }\n",
       "\n",
       "    .dataframe tbody tr th {\n",
       "        vertical-align: top;\n",
       "    }\n",
       "\n",
       "    .dataframe thead th {\n",
       "        text-align: right;\n",
       "    }\n",
       "</style>\n",
       "<table border=\"1\" class=\"dataframe\">\n",
       "  <thead>\n",
       "    <tr style=\"text-align: right;\">\n",
       "      <th></th>\n",
       "      <th>user_id</th>\n",
       "      <th>tariff</th>\n",
       "      <th>month</th>\n",
       "      <th>amount_calls</th>\n",
       "      <th>sum_duration_calls</th>\n",
       "      <th>amount_sms</th>\n",
       "      <th>sum_trafic_gb</th>\n",
       "      <th>messages_included</th>\n",
       "      <th>GB_per_month_included</th>\n",
       "      <th>minutes_included</th>\n",
       "      <th>rub_monthly_fee</th>\n",
       "      <th>rub_per_gb</th>\n",
       "      <th>rub_per_message</th>\n",
       "      <th>rub_per_minute</th>\n",
       "      <th>calls_over</th>\n",
       "      <th>sms_over</th>\n",
       "      <th>GB_over</th>\n",
       "    </tr>\n",
       "  </thead>\n",
       "  <tbody>\n",
       "    <tr>\n",
       "      <th>0</th>\n",
       "      <td>1000</td>\n",
       "      <td>ultra</td>\n",
       "      <td>5</td>\n",
       "      <td>22.0</td>\n",
       "      <td>159.0</td>\n",
       "      <td>22.0</td>\n",
       "      <td>3.0</td>\n",
       "      <td>1000</td>\n",
       "      <td>30.0</td>\n",
       "      <td>3000</td>\n",
       "      <td>1950</td>\n",
       "      <td>150</td>\n",
       "      <td>1</td>\n",
       "      <td>1</td>\n",
       "      <td>0.0</td>\n",
       "      <td>-978.0</td>\n",
       "      <td>-27.0</td>\n",
       "    </tr>\n",
       "    <tr>\n",
       "      <th>1</th>\n",
       "      <td>1000</td>\n",
       "      <td>ultra</td>\n",
       "      <td>6</td>\n",
       "      <td>43.0</td>\n",
       "      <td>172.0</td>\n",
       "      <td>60.0</td>\n",
       "      <td>23.0</td>\n",
       "      <td>1000</td>\n",
       "      <td>30.0</td>\n",
       "      <td>3000</td>\n",
       "      <td>1950</td>\n",
       "      <td>150</td>\n",
       "      <td>1</td>\n",
       "      <td>1</td>\n",
       "      <td>0.0</td>\n",
       "      <td>-940.0</td>\n",
       "      <td>-7.0</td>\n",
       "    </tr>\n",
       "    <tr>\n",
       "      <th>2</th>\n",
       "      <td>1000</td>\n",
       "      <td>ultra</td>\n",
       "      <td>7</td>\n",
       "      <td>47.0</td>\n",
       "      <td>340.0</td>\n",
       "      <td>75.0</td>\n",
       "      <td>14.0</td>\n",
       "      <td>1000</td>\n",
       "      <td>30.0</td>\n",
       "      <td>3000</td>\n",
       "      <td>1950</td>\n",
       "      <td>150</td>\n",
       "      <td>1</td>\n",
       "      <td>1</td>\n",
       "      <td>0.0</td>\n",
       "      <td>-925.0</td>\n",
       "      <td>-16.0</td>\n",
       "    </tr>\n",
       "    <tr>\n",
       "      <th>3</th>\n",
       "      <td>1000</td>\n",
       "      <td>ultra</td>\n",
       "      <td>8</td>\n",
       "      <td>52.0</td>\n",
       "      <td>408.0</td>\n",
       "      <td>81.0</td>\n",
       "      <td>14.0</td>\n",
       "      <td>1000</td>\n",
       "      <td>30.0</td>\n",
       "      <td>3000</td>\n",
       "      <td>1950</td>\n",
       "      <td>150</td>\n",
       "      <td>1</td>\n",
       "      <td>1</td>\n",
       "      <td>0.0</td>\n",
       "      <td>-919.0</td>\n",
       "      <td>-16.0</td>\n",
       "    </tr>\n",
       "    <tr>\n",
       "      <th>4</th>\n",
       "      <td>1000</td>\n",
       "      <td>ultra</td>\n",
       "      <td>9</td>\n",
       "      <td>58.0</td>\n",
       "      <td>466.0</td>\n",
       "      <td>57.0</td>\n",
       "      <td>15.0</td>\n",
       "      <td>1000</td>\n",
       "      <td>30.0</td>\n",
       "      <td>3000</td>\n",
       "      <td>1950</td>\n",
       "      <td>150</td>\n",
       "      <td>1</td>\n",
       "      <td>1</td>\n",
       "      <td>0.0</td>\n",
       "      <td>-943.0</td>\n",
       "      <td>-15.0</td>\n",
       "    </tr>\n",
       "  </tbody>\n",
       "</table>\n",
       "</div>"
      ],
      "text/plain": [
       "   user_id tariff  month  amount_calls  sum_duration_calls  amount_sms  \\\n",
       "0     1000  ultra      5          22.0               159.0        22.0   \n",
       "1     1000  ultra      6          43.0               172.0        60.0   \n",
       "2     1000  ultra      7          47.0               340.0        75.0   \n",
       "3     1000  ultra      8          52.0               408.0        81.0   \n",
       "4     1000  ultra      9          58.0               466.0        57.0   \n",
       "\n",
       "   sum_trafic_gb  messages_included  GB_per_month_included  minutes_included  \\\n",
       "0            3.0               1000                   30.0              3000   \n",
       "1           23.0               1000                   30.0              3000   \n",
       "2           14.0               1000                   30.0              3000   \n",
       "3           14.0               1000                   30.0              3000   \n",
       "4           15.0               1000                   30.0              3000   \n",
       "\n",
       "   rub_monthly_fee  rub_per_gb  rub_per_message  rub_per_minute  calls_over  \\\n",
       "0             1950         150                1               1         0.0   \n",
       "1             1950         150                1               1         0.0   \n",
       "2             1950         150                1               1         0.0   \n",
       "3             1950         150                1               1         0.0   \n",
       "4             1950         150                1               1         0.0   \n",
       "\n",
       "   sms_over  GB_over  \n",
       "0    -978.0    -27.0  \n",
       "1    -940.0     -7.0  \n",
       "2    -925.0    -16.0  \n",
       "3    -919.0    -16.0  \n",
       "4    -943.0    -15.0  "
      ]
     },
     "execution_count": 37,
     "metadata": {},
     "output_type": "execute_result"
    }
   ],
   "source": [
    "def x(row):\n",
    "    calls_over = row['calls_over']\n",
    "    pay_calls =row['rub_per_minute']\n",
    "    if calls_over < 0:\n",
    "        return 0\n",
    "    else:\n",
    "        return(calls_over* pay_calls)\n",
    "data['calls_over'] = data.apply(x, axis=1).reset_index(drop=True)\n",
    "data.head()"
   ]
  },
  {
   "cell_type": "code",
   "execution_count": 38,
   "metadata": {},
   "outputs": [
    {
     "data": {
      "text/html": [
       "<div>\n",
       "<style scoped>\n",
       "    .dataframe tbody tr th:only-of-type {\n",
       "        vertical-align: middle;\n",
       "    }\n",
       "\n",
       "    .dataframe tbody tr th {\n",
       "        vertical-align: top;\n",
       "    }\n",
       "\n",
       "    .dataframe thead th {\n",
       "        text-align: right;\n",
       "    }\n",
       "</style>\n",
       "<table border=\"1\" class=\"dataframe\">\n",
       "  <thead>\n",
       "    <tr style=\"text-align: right;\">\n",
       "      <th></th>\n",
       "      <th>user_id</th>\n",
       "      <th>tariff</th>\n",
       "      <th>month</th>\n",
       "      <th>amount_calls</th>\n",
       "      <th>sum_duration_calls</th>\n",
       "      <th>amount_sms</th>\n",
       "      <th>sum_trafic_gb</th>\n",
       "      <th>messages_included</th>\n",
       "      <th>GB_per_month_included</th>\n",
       "      <th>minutes_included</th>\n",
       "      <th>rub_monthly_fee</th>\n",
       "      <th>rub_per_gb</th>\n",
       "      <th>rub_per_message</th>\n",
       "      <th>rub_per_minute</th>\n",
       "      <th>calls_over</th>\n",
       "      <th>sms_over</th>\n",
       "      <th>GB_over</th>\n",
       "    </tr>\n",
       "  </thead>\n",
       "  <tbody>\n",
       "    <tr>\n",
       "      <th>0</th>\n",
       "      <td>1000</td>\n",
       "      <td>ultra</td>\n",
       "      <td>5</td>\n",
       "      <td>22.0</td>\n",
       "      <td>159.0</td>\n",
       "      <td>22.0</td>\n",
       "      <td>3.0</td>\n",
       "      <td>1000</td>\n",
       "      <td>30.0</td>\n",
       "      <td>3000</td>\n",
       "      <td>1950</td>\n",
       "      <td>150</td>\n",
       "      <td>1</td>\n",
       "      <td>1</td>\n",
       "      <td>0.0</td>\n",
       "      <td>0.0</td>\n",
       "      <td>-27.0</td>\n",
       "    </tr>\n",
       "    <tr>\n",
       "      <th>1</th>\n",
       "      <td>1000</td>\n",
       "      <td>ultra</td>\n",
       "      <td>6</td>\n",
       "      <td>43.0</td>\n",
       "      <td>172.0</td>\n",
       "      <td>60.0</td>\n",
       "      <td>23.0</td>\n",
       "      <td>1000</td>\n",
       "      <td>30.0</td>\n",
       "      <td>3000</td>\n",
       "      <td>1950</td>\n",
       "      <td>150</td>\n",
       "      <td>1</td>\n",
       "      <td>1</td>\n",
       "      <td>0.0</td>\n",
       "      <td>0.0</td>\n",
       "      <td>-7.0</td>\n",
       "    </tr>\n",
       "    <tr>\n",
       "      <th>2</th>\n",
       "      <td>1000</td>\n",
       "      <td>ultra</td>\n",
       "      <td>7</td>\n",
       "      <td>47.0</td>\n",
       "      <td>340.0</td>\n",
       "      <td>75.0</td>\n",
       "      <td>14.0</td>\n",
       "      <td>1000</td>\n",
       "      <td>30.0</td>\n",
       "      <td>3000</td>\n",
       "      <td>1950</td>\n",
       "      <td>150</td>\n",
       "      <td>1</td>\n",
       "      <td>1</td>\n",
       "      <td>0.0</td>\n",
       "      <td>0.0</td>\n",
       "      <td>-16.0</td>\n",
       "    </tr>\n",
       "    <tr>\n",
       "      <th>3</th>\n",
       "      <td>1000</td>\n",
       "      <td>ultra</td>\n",
       "      <td>8</td>\n",
       "      <td>52.0</td>\n",
       "      <td>408.0</td>\n",
       "      <td>81.0</td>\n",
       "      <td>14.0</td>\n",
       "      <td>1000</td>\n",
       "      <td>30.0</td>\n",
       "      <td>3000</td>\n",
       "      <td>1950</td>\n",
       "      <td>150</td>\n",
       "      <td>1</td>\n",
       "      <td>1</td>\n",
       "      <td>0.0</td>\n",
       "      <td>0.0</td>\n",
       "      <td>-16.0</td>\n",
       "    </tr>\n",
       "    <tr>\n",
       "      <th>4</th>\n",
       "      <td>1000</td>\n",
       "      <td>ultra</td>\n",
       "      <td>9</td>\n",
       "      <td>58.0</td>\n",
       "      <td>466.0</td>\n",
       "      <td>57.0</td>\n",
       "      <td>15.0</td>\n",
       "      <td>1000</td>\n",
       "      <td>30.0</td>\n",
       "      <td>3000</td>\n",
       "      <td>1950</td>\n",
       "      <td>150</td>\n",
       "      <td>1</td>\n",
       "      <td>1</td>\n",
       "      <td>0.0</td>\n",
       "      <td>0.0</td>\n",
       "      <td>-15.0</td>\n",
       "    </tr>\n",
       "  </tbody>\n",
       "</table>\n",
       "</div>"
      ],
      "text/plain": [
       "   user_id tariff  month  amount_calls  sum_duration_calls  amount_sms  \\\n",
       "0     1000  ultra      5          22.0               159.0        22.0   \n",
       "1     1000  ultra      6          43.0               172.0        60.0   \n",
       "2     1000  ultra      7          47.0               340.0        75.0   \n",
       "3     1000  ultra      8          52.0               408.0        81.0   \n",
       "4     1000  ultra      9          58.0               466.0        57.0   \n",
       "\n",
       "   sum_trafic_gb  messages_included  GB_per_month_included  minutes_included  \\\n",
       "0            3.0               1000                   30.0              3000   \n",
       "1           23.0               1000                   30.0              3000   \n",
       "2           14.0               1000                   30.0              3000   \n",
       "3           14.0               1000                   30.0              3000   \n",
       "4           15.0               1000                   30.0              3000   \n",
       "\n",
       "   rub_monthly_fee  rub_per_gb  rub_per_message  rub_per_minute  calls_over  \\\n",
       "0             1950         150                1               1         0.0   \n",
       "1             1950         150                1               1         0.0   \n",
       "2             1950         150                1               1         0.0   \n",
       "3             1950         150                1               1         0.0   \n",
       "4             1950         150                1               1         0.0   \n",
       "\n",
       "   sms_over  GB_over  \n",
       "0       0.0    -27.0  \n",
       "1       0.0     -7.0  \n",
       "2       0.0    -16.0  \n",
       "3       0.0    -16.0  \n",
       "4       0.0    -15.0  "
      ]
     },
     "execution_count": 38,
     "metadata": {},
     "output_type": "execute_result"
    }
   ],
   "source": [
    "def y(row):\n",
    "    sms_over = row['sms_over']\n",
    "    pay_sms = row['rub_per_message']\n",
    "    if sms_over < 0:\n",
    "        return 0\n",
    "    else:\n",
    "        return(sms_over* pay_sms)\n",
    "data['sms_over'] =  data.apply(y, axis=1).reset_index(drop=True)\n",
    "data.head()"
   ]
  },
  {
   "cell_type": "code",
   "execution_count": 39,
   "metadata": {},
   "outputs": [
    {
     "data": {
      "text/html": [
       "<div>\n",
       "<style scoped>\n",
       "    .dataframe tbody tr th:only-of-type {\n",
       "        vertical-align: middle;\n",
       "    }\n",
       "\n",
       "    .dataframe tbody tr th {\n",
       "        vertical-align: top;\n",
       "    }\n",
       "\n",
       "    .dataframe thead th {\n",
       "        text-align: right;\n",
       "    }\n",
       "</style>\n",
       "<table border=\"1\" class=\"dataframe\">\n",
       "  <thead>\n",
       "    <tr style=\"text-align: right;\">\n",
       "      <th></th>\n",
       "      <th>user_id</th>\n",
       "      <th>tariff</th>\n",
       "      <th>month</th>\n",
       "      <th>amount_calls</th>\n",
       "      <th>sum_duration_calls</th>\n",
       "      <th>amount_sms</th>\n",
       "      <th>sum_trafic_gb</th>\n",
       "      <th>messages_included</th>\n",
       "      <th>GB_per_month_included</th>\n",
       "      <th>minutes_included</th>\n",
       "      <th>rub_monthly_fee</th>\n",
       "      <th>rub_per_gb</th>\n",
       "      <th>rub_per_message</th>\n",
       "      <th>rub_per_minute</th>\n",
       "      <th>calls_over</th>\n",
       "      <th>sms_over</th>\n",
       "      <th>GB_over</th>\n",
       "    </tr>\n",
       "  </thead>\n",
       "  <tbody>\n",
       "    <tr>\n",
       "      <th>0</th>\n",
       "      <td>1000</td>\n",
       "      <td>ultra</td>\n",
       "      <td>5</td>\n",
       "      <td>22.0</td>\n",
       "      <td>159.0</td>\n",
       "      <td>22.0</td>\n",
       "      <td>3.0</td>\n",
       "      <td>1000</td>\n",
       "      <td>30.0</td>\n",
       "      <td>3000</td>\n",
       "      <td>1950</td>\n",
       "      <td>150</td>\n",
       "      <td>1</td>\n",
       "      <td>1</td>\n",
       "      <td>0.0</td>\n",
       "      <td>0.0</td>\n",
       "      <td>0.0</td>\n",
       "    </tr>\n",
       "    <tr>\n",
       "      <th>1</th>\n",
       "      <td>1000</td>\n",
       "      <td>ultra</td>\n",
       "      <td>6</td>\n",
       "      <td>43.0</td>\n",
       "      <td>172.0</td>\n",
       "      <td>60.0</td>\n",
       "      <td>23.0</td>\n",
       "      <td>1000</td>\n",
       "      <td>30.0</td>\n",
       "      <td>3000</td>\n",
       "      <td>1950</td>\n",
       "      <td>150</td>\n",
       "      <td>1</td>\n",
       "      <td>1</td>\n",
       "      <td>0.0</td>\n",
       "      <td>0.0</td>\n",
       "      <td>0.0</td>\n",
       "    </tr>\n",
       "    <tr>\n",
       "      <th>2</th>\n",
       "      <td>1000</td>\n",
       "      <td>ultra</td>\n",
       "      <td>7</td>\n",
       "      <td>47.0</td>\n",
       "      <td>340.0</td>\n",
       "      <td>75.0</td>\n",
       "      <td>14.0</td>\n",
       "      <td>1000</td>\n",
       "      <td>30.0</td>\n",
       "      <td>3000</td>\n",
       "      <td>1950</td>\n",
       "      <td>150</td>\n",
       "      <td>1</td>\n",
       "      <td>1</td>\n",
       "      <td>0.0</td>\n",
       "      <td>0.0</td>\n",
       "      <td>0.0</td>\n",
       "    </tr>\n",
       "    <tr>\n",
       "      <th>3</th>\n",
       "      <td>1000</td>\n",
       "      <td>ultra</td>\n",
       "      <td>8</td>\n",
       "      <td>52.0</td>\n",
       "      <td>408.0</td>\n",
       "      <td>81.0</td>\n",
       "      <td>14.0</td>\n",
       "      <td>1000</td>\n",
       "      <td>30.0</td>\n",
       "      <td>3000</td>\n",
       "      <td>1950</td>\n",
       "      <td>150</td>\n",
       "      <td>1</td>\n",
       "      <td>1</td>\n",
       "      <td>0.0</td>\n",
       "      <td>0.0</td>\n",
       "      <td>0.0</td>\n",
       "    </tr>\n",
       "    <tr>\n",
       "      <th>4</th>\n",
       "      <td>1000</td>\n",
       "      <td>ultra</td>\n",
       "      <td>9</td>\n",
       "      <td>58.0</td>\n",
       "      <td>466.0</td>\n",
       "      <td>57.0</td>\n",
       "      <td>15.0</td>\n",
       "      <td>1000</td>\n",
       "      <td>30.0</td>\n",
       "      <td>3000</td>\n",
       "      <td>1950</td>\n",
       "      <td>150</td>\n",
       "      <td>1</td>\n",
       "      <td>1</td>\n",
       "      <td>0.0</td>\n",
       "      <td>0.0</td>\n",
       "      <td>0.0</td>\n",
       "    </tr>\n",
       "  </tbody>\n",
       "</table>\n",
       "</div>"
      ],
      "text/plain": [
       "   user_id tariff  month  amount_calls  sum_duration_calls  amount_sms  \\\n",
       "0     1000  ultra      5          22.0               159.0        22.0   \n",
       "1     1000  ultra      6          43.0               172.0        60.0   \n",
       "2     1000  ultra      7          47.0               340.0        75.0   \n",
       "3     1000  ultra      8          52.0               408.0        81.0   \n",
       "4     1000  ultra      9          58.0               466.0        57.0   \n",
       "\n",
       "   sum_trafic_gb  messages_included  GB_per_month_included  minutes_included  \\\n",
       "0            3.0               1000                   30.0              3000   \n",
       "1           23.0               1000                   30.0              3000   \n",
       "2           14.0               1000                   30.0              3000   \n",
       "3           14.0               1000                   30.0              3000   \n",
       "4           15.0               1000                   30.0              3000   \n",
       "\n",
       "   rub_monthly_fee  rub_per_gb  rub_per_message  rub_per_minute  calls_over  \\\n",
       "0             1950         150                1               1         0.0   \n",
       "1             1950         150                1               1         0.0   \n",
       "2             1950         150                1               1         0.0   \n",
       "3             1950         150                1               1         0.0   \n",
       "4             1950         150                1               1         0.0   \n",
       "\n",
       "   sms_over  GB_over  \n",
       "0       0.0      0.0  \n",
       "1       0.0      0.0  \n",
       "2       0.0      0.0  \n",
       "3       0.0      0.0  \n",
       "4       0.0      0.0  "
      ]
     },
     "execution_count": 39,
     "metadata": {},
     "output_type": "execute_result"
    }
   ],
   "source": [
    "def z(row):\n",
    "    GB_over = row['GB_over']\n",
    "    pay_GB = row['rub_per_gb']\n",
    "    if GB_over < 0:\n",
    "        return 0\n",
    "    else:\n",
    "        return(GB_over*pay_GB)\n",
    "data['GB_over'] = data.apply(z, axis=1).reset_index(drop=True)\n",
    "data.head()"
   ]
  },
  {
   "cell_type": "code",
   "execution_count": 40,
   "metadata": {},
   "outputs": [
    {
     "data": {
      "text/html": [
       "<div>\n",
       "<style scoped>\n",
       "    .dataframe tbody tr th:only-of-type {\n",
       "        vertical-align: middle;\n",
       "    }\n",
       "\n",
       "    .dataframe tbody tr th {\n",
       "        vertical-align: top;\n",
       "    }\n",
       "\n",
       "    .dataframe thead th {\n",
       "        text-align: right;\n",
       "    }\n",
       "</style>\n",
       "<table border=\"1\" class=\"dataframe\">\n",
       "  <thead>\n",
       "    <tr style=\"text-align: right;\">\n",
       "      <th></th>\n",
       "      <th>user_id</th>\n",
       "      <th>tariff</th>\n",
       "      <th>month</th>\n",
       "      <th>amount_calls</th>\n",
       "      <th>sum_duration_calls</th>\n",
       "      <th>amount_sms</th>\n",
       "      <th>sum_trafic_gb</th>\n",
       "      <th>messages_included</th>\n",
       "      <th>GB_per_month_included</th>\n",
       "      <th>minutes_included</th>\n",
       "      <th>rub_monthly_fee</th>\n",
       "      <th>rub_per_gb</th>\n",
       "      <th>rub_per_message</th>\n",
       "      <th>rub_per_minute</th>\n",
       "      <th>calls_over</th>\n",
       "      <th>sms_over</th>\n",
       "      <th>GB_over</th>\n",
       "      <th>pay_month</th>\n",
       "    </tr>\n",
       "  </thead>\n",
       "  <tbody>\n",
       "    <tr>\n",
       "      <th>0</th>\n",
       "      <td>1000</td>\n",
       "      <td>ultra</td>\n",
       "      <td>5</td>\n",
       "      <td>22.0</td>\n",
       "      <td>159.0</td>\n",
       "      <td>22.0</td>\n",
       "      <td>3.0</td>\n",
       "      <td>1000</td>\n",
       "      <td>30.0</td>\n",
       "      <td>3000</td>\n",
       "      <td>1950</td>\n",
       "      <td>150</td>\n",
       "      <td>1</td>\n",
       "      <td>1</td>\n",
       "      <td>0.0</td>\n",
       "      <td>0.0</td>\n",
       "      <td>0.0</td>\n",
       "      <td>1950.0</td>\n",
       "    </tr>\n",
       "    <tr>\n",
       "      <th>1</th>\n",
       "      <td>1000</td>\n",
       "      <td>ultra</td>\n",
       "      <td>6</td>\n",
       "      <td>43.0</td>\n",
       "      <td>172.0</td>\n",
       "      <td>60.0</td>\n",
       "      <td>23.0</td>\n",
       "      <td>1000</td>\n",
       "      <td>30.0</td>\n",
       "      <td>3000</td>\n",
       "      <td>1950</td>\n",
       "      <td>150</td>\n",
       "      <td>1</td>\n",
       "      <td>1</td>\n",
       "      <td>0.0</td>\n",
       "      <td>0.0</td>\n",
       "      <td>0.0</td>\n",
       "      <td>1950.0</td>\n",
       "    </tr>\n",
       "    <tr>\n",
       "      <th>2</th>\n",
       "      <td>1000</td>\n",
       "      <td>ultra</td>\n",
       "      <td>7</td>\n",
       "      <td>47.0</td>\n",
       "      <td>340.0</td>\n",
       "      <td>75.0</td>\n",
       "      <td>14.0</td>\n",
       "      <td>1000</td>\n",
       "      <td>30.0</td>\n",
       "      <td>3000</td>\n",
       "      <td>1950</td>\n",
       "      <td>150</td>\n",
       "      <td>1</td>\n",
       "      <td>1</td>\n",
       "      <td>0.0</td>\n",
       "      <td>0.0</td>\n",
       "      <td>0.0</td>\n",
       "      <td>1950.0</td>\n",
       "    </tr>\n",
       "    <tr>\n",
       "      <th>3</th>\n",
       "      <td>1000</td>\n",
       "      <td>ultra</td>\n",
       "      <td>8</td>\n",
       "      <td>52.0</td>\n",
       "      <td>408.0</td>\n",
       "      <td>81.0</td>\n",
       "      <td>14.0</td>\n",
       "      <td>1000</td>\n",
       "      <td>30.0</td>\n",
       "      <td>3000</td>\n",
       "      <td>1950</td>\n",
       "      <td>150</td>\n",
       "      <td>1</td>\n",
       "      <td>1</td>\n",
       "      <td>0.0</td>\n",
       "      <td>0.0</td>\n",
       "      <td>0.0</td>\n",
       "      <td>1950.0</td>\n",
       "    </tr>\n",
       "    <tr>\n",
       "      <th>4</th>\n",
       "      <td>1000</td>\n",
       "      <td>ultra</td>\n",
       "      <td>9</td>\n",
       "      <td>58.0</td>\n",
       "      <td>466.0</td>\n",
       "      <td>57.0</td>\n",
       "      <td>15.0</td>\n",
       "      <td>1000</td>\n",
       "      <td>30.0</td>\n",
       "      <td>3000</td>\n",
       "      <td>1950</td>\n",
       "      <td>150</td>\n",
       "      <td>1</td>\n",
       "      <td>1</td>\n",
       "      <td>0.0</td>\n",
       "      <td>0.0</td>\n",
       "      <td>0.0</td>\n",
       "      <td>1950.0</td>\n",
       "    </tr>\n",
       "  </tbody>\n",
       "</table>\n",
       "</div>"
      ],
      "text/plain": [
       "   user_id tariff  month  amount_calls  sum_duration_calls  amount_sms  \\\n",
       "0     1000  ultra      5          22.0               159.0        22.0   \n",
       "1     1000  ultra      6          43.0               172.0        60.0   \n",
       "2     1000  ultra      7          47.0               340.0        75.0   \n",
       "3     1000  ultra      8          52.0               408.0        81.0   \n",
       "4     1000  ultra      9          58.0               466.0        57.0   \n",
       "\n",
       "   sum_trafic_gb  messages_included  GB_per_month_included  minutes_included  \\\n",
       "0            3.0               1000                   30.0              3000   \n",
       "1           23.0               1000                   30.0              3000   \n",
       "2           14.0               1000                   30.0              3000   \n",
       "3           14.0               1000                   30.0              3000   \n",
       "4           15.0               1000                   30.0              3000   \n",
       "\n",
       "   rub_monthly_fee  rub_per_gb  rub_per_message  rub_per_minute  calls_over  \\\n",
       "0             1950         150                1               1         0.0   \n",
       "1             1950         150                1               1         0.0   \n",
       "2             1950         150                1               1         0.0   \n",
       "3             1950         150                1               1         0.0   \n",
       "4             1950         150                1               1         0.0   \n",
       "\n",
       "   sms_over  GB_over  pay_month  \n",
       "0       0.0      0.0     1950.0  \n",
       "1       0.0      0.0     1950.0  \n",
       "2       0.0      0.0     1950.0  \n",
       "3       0.0      0.0     1950.0  \n",
       "4       0.0      0.0     1950.0  "
      ]
     },
     "execution_count": 40,
     "metadata": {},
     "output_type": "execute_result"
    }
   ],
   "source": [
    "data['pay_month']=data['calls_over']+data['sms_over']+data['GB_over']+ data['rub_monthly_fee']\n",
    "data.head()"
   ]
  },
  {
   "cell_type": "markdown",
   "metadata": {},
   "source": [
    "## Анализ поведения клиентов: продолжительность звонков, количество сообщений, объём трафика."
   ]
  },
  {
   "cell_type": "markdown",
   "metadata": {},
   "source": [
    "Посчитаем количество клиентов из выборки, которые пользуются тарифами smart и ultra:"
   ]
  },
  {
   "cell_type": "code",
   "execution_count": 41,
   "metadata": {
    "scrolled": true
   },
   "outputs": [
    {
     "name": "stdout",
     "output_type": "stream",
     "text": [
      "Размер выборки клиентов тарифа Смарт: 2229\n"
     ]
    }
   ],
   "source": [
    "smart = data[data['tariff']=='smart'].reset_index(drop=True)\n",
    "print('Размер выборки клиентов тарифа Смарт:',  len(smart))"
   ]
  },
  {
   "cell_type": "code",
   "execution_count": 42,
   "metadata": {},
   "outputs": [
    {
     "name": "stdout",
     "output_type": "stream",
     "text": [
      "Размер выборки клиентов тарифа Смарт: 985\n"
     ]
    }
   ],
   "source": [
    "ultra = data[data['tariff']=='ultra'].reset_index(drop=True)\n",
    "print('Размер выборки клиентов тарифа Смарт:',  len(ultra))"
   ]
  },
  {
   "cell_type": "markdown",
   "metadata": {},
   "source": [
    "### Продолжительность звонков"
   ]
  },
  {
   "cell_type": "markdown",
   "metadata": {},
   "source": [
    "Посчитаем среднее количество минут разговора для обоих тарифов по каждому клиенту в среднем за месяц:"
   ]
  },
  {
   "cell_type": "markdown",
   "metadata": {},
   "source": [
    "#### Тариф Smart"
   ]
  },
  {
   "cell_type": "code",
   "execution_count": 43,
   "metadata": {},
   "outputs": [
    {
     "data": {
      "text/html": [
       "<div>\n",
       "<style scoped>\n",
       "    .dataframe tbody tr th:only-of-type {\n",
       "        vertical-align: middle;\n",
       "    }\n",
       "\n",
       "    .dataframe tbody tr th {\n",
       "        vertical-align: top;\n",
       "    }\n",
       "\n",
       "    .dataframe thead th {\n",
       "        text-align: right;\n",
       "    }\n",
       "</style>\n",
       "<table border=\"1\" class=\"dataframe\">\n",
       "  <thead>\n",
       "    <tr style=\"text-align: right;\">\n",
       "      <th></th>\n",
       "      <th>user_id</th>\n",
       "      <th>amount_sms</th>\n",
       "      <th>sum_duration_calls</th>\n",
       "      <th>sum_trafic_gb</th>\n",
       "    </tr>\n",
       "  </thead>\n",
       "  <tbody>\n",
       "    <tr>\n",
       "      <th>0</th>\n",
       "      <td>1001</td>\n",
       "      <td>0.0</td>\n",
       "      <td>422.000000</td>\n",
       "      <td>16.000000</td>\n",
       "    </tr>\n",
       "    <tr>\n",
       "      <th>1</th>\n",
       "      <td>1002</td>\n",
       "      <td>10.0</td>\n",
       "      <td>216.714286</td>\n",
       "      <td>16.714286</td>\n",
       "    </tr>\n",
       "    <tr>\n",
       "      <th>2</th>\n",
       "      <td>1005</td>\n",
       "      <td>46.0</td>\n",
       "      <td>550.416667</td>\n",
       "      <td>8.583333</td>\n",
       "    </tr>\n",
       "    <tr>\n",
       "      <th>3</th>\n",
       "      <td>1006</td>\n",
       "      <td>0.0</td>\n",
       "      <td>318.272727</td>\n",
       "      <td>15.090909</td>\n",
       "    </tr>\n",
       "    <tr>\n",
       "      <th>4</th>\n",
       "      <td>1007</td>\n",
       "      <td>25.0</td>\n",
       "      <td>486.555556</td>\n",
       "      <td>14.888889</td>\n",
       "    </tr>\n",
       "  </tbody>\n",
       "</table>\n",
       "</div>"
      ],
      "text/plain": [
       "   user_id  amount_sms  sum_duration_calls  sum_trafic_gb\n",
       "0     1001         0.0          422.000000      16.000000\n",
       "1     1002        10.0          216.714286      16.714286\n",
       "2     1005        46.0          550.416667       8.583333\n",
       "3     1006         0.0          318.272727      15.090909\n",
       "4     1007        25.0          486.555556      14.888889"
      ]
     },
     "execution_count": 43,
     "metadata": {},
     "output_type": "execute_result"
    }
   ],
   "source": [
    "smart_data_users = smart.pivot_table(index= 'user_id', values = ['sum_duration_calls','amount_sms','sum_trafic_gb'], aggfunc = 'mean').reset_index()\n",
    "smart_data_users.head()"
   ]
  },
  {
   "cell_type": "markdown",
   "metadata": {},
   "source": [
    "#### Тариф Ultra"
   ]
  },
  {
   "cell_type": "code",
   "execution_count": 44,
   "metadata": {},
   "outputs": [
    {
     "data": {
      "text/html": [
       "<div>\n",
       "<style scoped>\n",
       "    .dataframe tbody tr th:only-of-type {\n",
       "        vertical-align: middle;\n",
       "    }\n",
       "\n",
       "    .dataframe tbody tr th {\n",
       "        vertical-align: top;\n",
       "    }\n",
       "\n",
       "    .dataframe thead th {\n",
       "        text-align: right;\n",
       "    }\n",
       "</style>\n",
       "<table border=\"1\" class=\"dataframe\">\n",
       "  <thead>\n",
       "    <tr style=\"text-align: right;\">\n",
       "      <th></th>\n",
       "      <th>user_id</th>\n",
       "      <th>amount_sms</th>\n",
       "      <th>sum_duration_calls</th>\n",
       "      <th>sum_trafic_gb</th>\n",
       "    </tr>\n",
       "  </thead>\n",
       "  <tbody>\n",
       "    <tr>\n",
       "      <th>0</th>\n",
       "      <td>1000</td>\n",
       "      <td>62.0</td>\n",
       "      <td>320.750</td>\n",
       "      <td>13.625</td>\n",
       "    </tr>\n",
       "    <tr>\n",
       "      <th>1</th>\n",
       "      <td>1003</td>\n",
       "      <td>76.0</td>\n",
       "      <td>764.400</td>\n",
       "      <td>11.800</td>\n",
       "    </tr>\n",
       "    <tr>\n",
       "      <th>2</th>\n",
       "      <td>1004</td>\n",
       "      <td>149.0</td>\n",
       "      <td>123.375</td>\n",
       "      <td>18.750</td>\n",
       "    </tr>\n",
       "    <tr>\n",
       "      <th>3</th>\n",
       "      <td>1013</td>\n",
       "      <td>21.0</td>\n",
       "      <td>468.000</td>\n",
       "      <td>15.500</td>\n",
       "    </tr>\n",
       "    <tr>\n",
       "      <th>4</th>\n",
       "      <td>1016</td>\n",
       "      <td>71.0</td>\n",
       "      <td>61.000</td>\n",
       "      <td>13.500</td>\n",
       "    </tr>\n",
       "  </tbody>\n",
       "</table>\n",
       "</div>"
      ],
      "text/plain": [
       "   user_id  amount_sms  sum_duration_calls  sum_trafic_gb\n",
       "0     1000        62.0             320.750         13.625\n",
       "1     1003        76.0             764.400         11.800\n",
       "2     1004       149.0             123.375         18.750\n",
       "3     1013        21.0             468.000         15.500\n",
       "4     1016        71.0              61.000         13.500"
      ]
     },
     "execution_count": 44,
     "metadata": {},
     "output_type": "execute_result"
    }
   ],
   "source": [
    "ultra_data_users = ultra.pivot_table(index= 'user_id', values = ['sum_duration_calls','amount_sms','sum_trafic_gb'], aggfunc = 'mean').reset_index()\n",
    "ultra_data_users.head()"
   ]
  },
  {
   "cell_type": "markdown",
   "metadata": {},
   "source": [
    "Посчитаем общее среднее значение по продолжительности звонков по средним значениям за месяц по каждому пользователю:"
   ]
  },
  {
   "cell_type": "markdown",
   "metadata": {},
   "source": [
    "#### Тариф Smart"
   ]
  },
  {
   "cell_type": "code",
   "execution_count": 45,
   "metadata": {},
   "outputs": [
    {
     "data": {
      "text/plain": [
       "420.0"
      ]
     },
     "execution_count": 45,
     "metadata": {},
     "output_type": "execute_result"
    }
   ],
   "source": [
    "smart_call_users_mean =np.ceil(smart_data_users['sum_duration_calls'].mean())\n",
    "smart_call_users_mean"
   ]
  },
  {
   "cell_type": "markdown",
   "metadata": {},
   "source": [
    "#### Тариф Ultra"
   ]
  },
  {
   "cell_type": "code",
   "execution_count": 46,
   "metadata": {},
   "outputs": [
    {
     "data": {
      "text/plain": [
       "528.0"
      ]
     },
     "execution_count": 46,
     "metadata": {},
     "output_type": "execute_result"
    }
   ],
   "source": [
    "ultra_call_users_mean =np.ceil(ultra_data_users['sum_duration_calls'].mean())\n",
    "ultra_call_users_mean"
   ]
  },
  {
   "cell_type": "markdown",
   "metadata": {},
   "source": [
    "Теперь рассчитаем дисперсию для количества минут разговора в месяц для пользователей обоих тарифов. Т.к. у нас не генеральная совокупность данных, а выборка, то дисперсия будет оценинивать дисперсию по формуле s2=n−1∑(μ−xi)2, используя в методе var() параметр ddof=1:"
   ]
  },
  {
   "cell_type": "markdown",
   "metadata": {},
   "source": [
    "#### Тариф Smart  "
   ]
  },
  {
   "cell_type": "code",
   "execution_count": 47,
   "metadata": {},
   "outputs": [
    {
     "data": {
      "text/plain": [
       "20974.05103943767"
      ]
     },
     "execution_count": 47,
     "metadata": {},
     "output_type": "execute_result"
    }
   ],
   "source": [
    "variance_calls_smart = np.var(smart_data_users['sum_duration_calls'])\n",
    "variance_calls_smart"
   ]
  },
  {
   "cell_type": "markdown",
   "metadata": {},
   "source": [
    "#### Тариф Ultra"
   ]
  },
  {
   "cell_type": "code",
   "execution_count": 48,
   "metadata": {},
   "outputs": [
    {
     "data": {
      "text/plain": [
       "78867.04136496517"
      ]
     },
     "execution_count": 48,
     "metadata": {},
     "output_type": "execute_result"
    }
   ],
   "source": [
    "variance_calls_ultra = np.var(ultra_data_users['sum_duration_calls'])\n",
    "variance_calls_ultra"
   ]
  },
  {
   "cell_type": "markdown",
   "metadata": {},
   "source": [
    "Рассчитаем стандратное отклонение для количества минут разговора в месяц для пользователей обоих тарифов. "
   ]
  },
  {
   "cell_type": "markdown",
   "metadata": {},
   "source": [
    "#### Тариф Smart   "
   ]
  },
  {
   "cell_type": "code",
   "execution_count": 49,
   "metadata": {},
   "outputs": [
    {
     "data": {
      "text/plain": [
       "145.03154348929033"
      ]
     },
     "execution_count": 49,
     "metadata": {},
     "output_type": "execute_result"
    }
   ],
   "source": [
    "st_dev_calls_smart=np.std(smart_data_users['sum_duration_calls'], ddof=1)\n",
    "st_dev_calls_smart"
   ]
  },
  {
   "cell_type": "markdown",
   "metadata": {},
   "source": [
    "#### Тариф Ultra"
   ]
  },
  {
   "cell_type": "code",
   "execution_count": 50,
   "metadata": {},
   "outputs": [
    {
     "data": {
      "text/plain": [
       "281.786358524399"
      ]
     },
     "execution_count": 50,
     "metadata": {},
     "output_type": "execute_result"
    }
   ],
   "source": [
    "st_dev_calls_ultra=np.std(ultra_data_users['sum_duration_calls'], ddof=1)\n",
    "st_dev_calls_ultra"
   ]
  },
  {
   "cell_type": "markdown",
   "metadata": {},
   "source": [
    "Построим гистограммы по каждому тарифу - по всем данным за каждый месяц:"
   ]
  },
  {
   "cell_type": "code",
   "execution_count": 51,
   "metadata": {},
   "outputs": [
    {
     "data": {
      "image/png": "[encoded data removed]",
      "text/plain": [
       "<Figure size 432x288 with 1 Axes>"
      ]
     },
     "metadata": {
      "needs_background": "light"
     },
     "output_type": "display_data"
    },
    {
     "data": {
      "image/png": "[encoded data removed]",
      "text/plain": [
       "<Figure size 432x288 with 1 Axes>"
      ]
     },
     "metadata": {
      "needs_background": "light"
     },
     "output_type": "display_data"
    }
   ],
   "source": [
    "smart.plot(kind ='hist', y='sum_duration_calls', bins=100, grid=True)\n",
    "plt.xlabel(\"Мин/мес, по всем данным за каждый месяц\")\n",
    "plt.ylabel(\"Частота\")\n",
    "plt.title(\"Распределение сум. длительности звонков, Smart\")\n",
    "\n",
    "ultra.plot(kind ='hist', y='sum_duration_calls', bins=100, grid=True)\n",
    "plt.xlabel(\"Мин/мес, по всем данным за каждый месяц\")\n",
    "plt.title(\"Распределение сум. длительности звонков, Ultra\")\n",
    "plt.ylabel(\"Частота\")\n",
    "plt.show()"
   ]
  },
  {
   "cell_type": "markdown",
   "metadata": {},
   "source": [
    "По графикам, основанным на данных за все месяцы, видим, что суммарная продолжительность звонков для обоих тарифов распеределены нормально. При этом данные по тарифу Smart имеют скошенность в отрицательную сторону, а по тарифу Ultra в положительную.\n",
    "Также видим, что тарифом Smart клиенты пользуются чаще (по количеству месяцев), чем тарифом Ultra. Но пользователи тарифа Ultra в среднем раговаривают почти на 110 мин в месяц дольше, чем пользователи Smart. Также интересный факт, что среди клиентов Ultra чаще встречаются случаи, когда клиент не использовал за месяц ни одной минуты разгвовора."
   ]
  },
  {
   "cell_type": "markdown",
   "metadata": {},
   "source": [
    "И построим аналогичные графики, но по усредненным данным по каждому пользователю:"
   ]
  },
  {
   "cell_type": "code",
   "execution_count": 52,
   "metadata": {},
   "outputs": [
    {
     "data": {
      "image/png": "[encoded data removed]",
      "text/plain": [
       "<Figure size 432x288 with 1 Axes>"
      ]
     },
     "metadata": {
      "needs_background": "light"
     },
     "output_type": "display_data"
    },
    {
     "data": {
      "image/png": "[encoded data removed]",
      "text/plain": [
       "<Figure size 432x288 with 1 Axes>"
      ]
     },
     "metadata": {
      "needs_background": "light"
     },
     "output_type": "display_data"
    }
   ],
   "source": [
    "smart_data_users.plot(kind ='hist', y='sum_duration_calls', bins=100, grid=True)\n",
    "plt.xlabel(\"Мин/мес, по ср.данным по каждому пользователю\")\n",
    "plt.ylabel(\"Частота\")\n",
    "plt.title(\"Распределение сум. длительности звонков, Smart\")\n",
    "\n",
    "ultra_data_users.plot(kind ='hist', y='sum_duration_calls', bins=100, grid=True)\n",
    "plt.xlabel(\"Мин/мес, по ср.данным по каждому пользователю\")\n",
    "plt.ylabel(\"Частота\")\n",
    "plt.title(\"Распределение сум. длительности звонков, Ultra\")\n",
    "plt.show()"
   ]
  },
  {
   "cell_type": "markdown",
   "metadata": {},
   "source": [
    " По графика, основанным на данных по пользователям по усреденной продолжительности звонков в месяяц, видим, что у клиентов Smart продолжительность звонков в месяц находится в диапазоне 180 - 700 мин/мес, у клиентов ultra диапазон 180 - 1000 мин/мес. "
   ]
  },
  {
   "cell_type": "markdown",
   "metadata": {},
   "source": [
    "### Количество сообщений"
   ]
  },
  {
   "cell_type": "markdown",
   "metadata": {},
   "source": [
    "Аналогичные расчёты выполним для показателя по количеству сообщений на обоих тарифах:"
   ]
  },
  {
   "cell_type": "markdown",
   "metadata": {},
   "source": [
    "#### Тариф Smart   "
   ]
  },
  {
   "cell_type": "code",
   "execution_count": 53,
   "metadata": {},
   "outputs": [
    {
     "name": "stdout",
     "output_type": "stream",
     "text": [
      "Ср.кол-во СМС: 33.0\n"
     ]
    }
   ],
   "source": [
    "smart_sms_mean= np.ceil(smart_data_users['amount_sms'].mean())\n",
    "print( 'Ср.кол-во СМС:', smart_sms_mean)"
   ]
  },
  {
   "cell_type": "markdown",
   "metadata": {},
   "source": [
    "#### Тариф Ultra"
   ]
  },
  {
   "cell_type": "code",
   "execution_count": 54,
   "metadata": {},
   "outputs": [
    {
     "name": "stdout",
     "output_type": "stream",
     "text": [
      "Ср.кол-во СМС: 55.0\n"
     ]
    }
   ],
   "source": [
    "ultra_sms_mean= np.ceil(ultra_data_users['amount_sms'].mean())\n",
    "print( 'Ср.кол-во СМС:', ultra_sms_mean)"
   ]
  },
  {
   "cell_type": "markdown",
   "metadata": {},
   "source": [
    "Найдём дисперсию показателя \"Количество смс\" для обоих тарифов. Т.к. мы имеем дело не с генеральной совокупностью, а выборка, поэтому вместо дисперсии будем считаеть её оценку по имеющейся выборке (то есть s², а не σ²). Для этого в методе var() укажем параметр ddof=1 :"
   ]
  },
  {
   "cell_type": "code",
   "execution_count": 83,
   "metadata": {},
   "outputs": [
    {
     "name": "stdout",
     "output_type": "stream",
     "text": [
      "Оценка дисперсии для параметра кол-ва смс для тарифа Смарт: 703\n"
     ]
    }
   ],
   "source": [
    "variance_sms_smart = np.var(smart_data_users['amount_sms'], ddof=1)\n",
    "print('Оценка дисперсии для параметра кол-ва смс для тарифа Смарт:', round(variance_sms_smart))"
   ]
  },
  {
   "cell_type": "code",
   "execution_count": 84,
   "metadata": {},
   "outputs": [
    {
     "name": "stdout",
     "output_type": "stream",
     "text": [
      "Оценка дисперсии для параметра кол-ва смс для тарифа Ультра: 2150\n"
     ]
    }
   ],
   "source": [
    "variance_sms_ultra = np.var(ultra_data_users['amount_sms'], ddof=1)\n",
    "print('Оценка дисперсии для параметра кол-ва смс для тарифа Ультра:', round(variance_sms_ultra))"
   ]
  },
  {
   "cell_type": "code",
   "execution_count": 88,
   "metadata": {},
   "outputs": [
    {
     "name": "stdout",
     "output_type": "stream",
     "text": [
      "Стандартное отклонение для параметра кол-ва смс для тарифа Смарт: 27\n"
     ]
    }
   ],
   "source": [
    "st_dev_sms_smart=np.std(smart_data_users['amount_sms'], ddof=1)\n",
    "print('Стандартное отклонение для параметра кол-ва смс для тарифа Смарт:', round(st_dev_sms_smart))"
   ]
  },
  {
   "cell_type": "code",
   "execution_count": 89,
   "metadata": {},
   "outputs": [
    {
     "name": "stdout",
     "output_type": "stream",
     "text": [
      "Стандартное отклонение для параметра кол-ва смс для тарифа Смарт: 46\n"
     ]
    }
   ],
   "source": [
    "st_dev_sms_ultra=np.std(ultra_data_users['amount_sms'], ddof=1)\n",
    "print('Стандартное отклонение для параметра кол-ва смс для тарифа Смарт:', round(st_dev_sms_ultra))"
   ]
  },
  {
   "cell_type": "markdown",
   "metadata": {},
   "source": [
    "Построим гистограммы по каждому тарифу - по всем данным за каждый месяц:"
   ]
  },
  {
   "cell_type": "code",
   "execution_count": 87,
   "metadata": {},
   "outputs": [
    {
     "data": {
      "image/png": "[encoded data removed]",
      "text/plain": [
       "<Figure size 432x288 with 1 Axes>"
      ]
     },
     "metadata": {
      "needs_background": "light"
     },
     "output_type": "display_data"
    },
    {
     "data": {
      "image/png": "[encoded data removed]",
      "text/plain": [
       "<Figure size 432x288 with 1 Axes>"
      ]
     },
     "metadata": {
      "needs_background": "light"
     },
     "output_type": "display_data"
    }
   ],
   "source": [
    "smart.plot(kind ='hist', y='amount_sms', bins=100, grid=True)\n",
    "plt.xlabel(\"шт/мес, по всем данным за каждый месяц\")\n",
    "plt.ylabel(\"Частота\")\n",
    "plt.title(\"Распределение кол-ва сообщений, Smart\")\n",
    "ultra.plot(kind ='hist', y='amount_sms', bins=100, grid=True)\n",
    "plt.show()"
   ]
  },
  {
   "cell_type": "markdown",
   "metadata": {},
   "source": [
    "И построим аналогичные графики, но по усредненным данным по каждому пользователю:"
   ]
  },
  {
   "cell_type": "code",
   "execution_count": 60,
   "metadata": {},
   "outputs": [
    {
     "data": {
      "image/png": "[encoded data removed]",
      "text/plain": [
       "<Figure size 432x288 with 1 Axes>"
      ]
     },
     "metadata": {
      "needs_background": "light"
     },
     "output_type": "display_data"
    },
    {
     "data": {
      "image/png": "[encoded data removed]",
      "text/plain": [
       "<Figure size 432x288 with 1 Axes>"
      ]
     },
     "metadata": {
      "needs_background": "light"
     },
     "output_type": "display_data"
    }
   ],
   "source": [
    "smart_data_users.plot(kind ='hist', y='amount_sms', bins=100, grid=True)\n",
    "plt.xlabel(\"шт/мес, по ср. данным по каждому пользователю\")\n",
    "plt.ylabel(\"Частота\")\n",
    "plt.title(\"Распределение кол-ва сообщений, Smart\")\n",
    "\n",
    "ultra_data_users.plot(kind ='hist', y='amount_sms', bins=100, grid=True)\n",
    "plt.xlabel(\"шт/мес, по ср. данным по каждому пользователю\")\n",
    "plt.ylabel(\"Частота\")\n",
    "plt.title(\"Распределение кол-ва сообщений, Ultra\")\n",
    "\n",
    "plt.show()"
   ]
  },
  {
   "cell_type": "markdown",
   "metadata": {},
   "source": [
    "По графикам видим, что данные скошены в положительную сторону. \n",
    "Поведение клиентов при использовании SMS отличается. Клиенты Smart чаще всего могут использовать  0-60 сообщений в месяц, тогда как для Ultra этот диапазон 0-100 сообщений/мес.Также видим,что достаточно часто клиенты вообще не используют ни одного сообщения в месяц."
   ]
  },
  {
   "cell_type": "markdown",
   "metadata": {},
   "source": [
    "Проверим есть ли зависимость отсутсвия смс и бОльщего расхода интернет трафика?"
   ]
  },
  {
   "cell_type": "code",
   "execution_count": 90,
   "metadata": {},
   "outputs": [
    {
     "data": {
      "image/png": "[encoded data removed]",
      "text/plain": [
       "<Figure size 432x288 with 1 Axes>"
      ]
     },
     "metadata": {
      "needs_background": "light"
     },
     "output_type": "display_data"
    }
   ],
   "source": [
    "ultra.plot(title='Зависимость расхода кол-ва смс и интернет-трафика',x='amount_sms', y='sum_trafic_gb', kind='scatter', grid=True) \n",
    "plt.xlabel(\"Расход смс, шт\")\n",
    "plt.ylabel(\"Расход трафика, Гб\")\n",
    "plt.show()"
   ]
  },
  {
   "cell_type": "code",
   "execution_count": 62,
   "metadata": {},
   "outputs": [
    {
     "name": "stdout",
     "output_type": "stream",
     "text": [
      "0.17390099857246077\n"
     ]
    }
   ],
   "source": [
    "print(ultra['amount_sms'].corr(ultra['sum_trafic_gb']))"
   ]
  },
  {
   "cell_type": "markdown",
   "metadata": {},
   "source": [
    "По графику и коэффициенту корреляции видим, что зависимость между количеством смс и объемом трафка есть, но она не определяющая. "
   ]
  },
  {
   "cell_type": "markdown",
   "metadata": {},
   "source": [
    "### Объем трафика"
   ]
  },
  {
   "cell_type": "code",
   "execution_count": 91,
   "metadata": {},
   "outputs": [
    {
     "name": "stdout",
     "output_type": "stream",
     "text": [
      "Ср.кол-во Гб, тариф Смарт: 17.0\n"
     ]
    }
   ],
   "source": [
    "smart_trafic_gb_mean = np.ceil(smart_data_users['sum_trafic_gb'].mean())\n",
    "print( 'Ср.кол-во Гб, тариф Смарт:', smart_trafic_gb_mean )"
   ]
  },
  {
   "cell_type": "code",
   "execution_count": 92,
   "metadata": {},
   "outputs": [
    {
     "name": "stdout",
     "output_type": "stream",
     "text": [
      "Ср.кол-во Гб, тариф Ультра: 20.0\n"
     ]
    }
   ],
   "source": [
    "ultra_trafic_gb_mean = np.ceil(ultra_data_users['sum_trafic_gb'].mean())\n",
    "print( 'Ср.кол-во Гб, тариф Ультра:', ultra_trafic_gb_mean )"
   ]
  },
  {
   "cell_type": "code",
   "execution_count": 93,
   "metadata": {},
   "outputs": [
    {
     "name": "stdout",
     "output_type": "stream",
     "text": [
      "Оценка дисперсии для параметра кол-ва Гб для тарифа Смарт: 12\n"
     ]
    }
   ],
   "source": [
    "smart_variance_trafic_gb = np.var(smart_data_users['sum_trafic_gb'], ddof=1)\n",
    "print('Оценка дисперсии для параметра кол-ва Гб для тарифа Смарт:', round(smart_variance_trafic_gb))"
   ]
  },
  {
   "cell_type": "code",
   "execution_count": 95,
   "metadata": {},
   "outputs": [
    {
     "name": "stdout",
     "output_type": "stream",
     "text": [
      "Оценка дисперсии для параметра кол-ва Гб для тарифа Ультра: 66\n"
     ]
    }
   ],
   "source": [
    "ultra_variance_trafic_gb = np.var(ultra_data_users['sum_trafic_gb'], ddof=1)\n",
    "print('Оценка дисперсии для параметра кол-ва Гб для тарифа Ультра:', round(ultra_variance_trafic_gb))"
   ]
  },
  {
   "cell_type": "code",
   "execution_count": 96,
   "metadata": {},
   "outputs": [
    {
     "name": "stdout",
     "output_type": "stream",
     "text": [
      "Стандартное отклонение для параметра кол-ва смс для тарифа Смарт: 4\n"
     ]
    }
   ],
   "source": [
    "smart_st_deviation_trafic_gb=np.std(smart_data_users['sum_trafic_gb'], ddof=1)\n",
    "print('Стандартное отклонение для параметра кол-ва смс для тарифа Смарт:', round(smart_st_deviation_trafic_gb))"
   ]
  },
  {
   "cell_type": "code",
   "execution_count": 97,
   "metadata": {},
   "outputs": [
    {
     "name": "stdout",
     "output_type": "stream",
     "text": [
      "Стандартное отклонение для параметра кол-ва смс для тарифа Смарт: 8\n"
     ]
    }
   ],
   "source": [
    "ultra_st_deviation_trafic_gb=np.std(ultra_data_users['sum_trafic_gb'], ddof=1)\n",
    "print('Стандартное отклонение для параметра кол-ва смс для тарифа Смарт:', round(ultra_st_deviation_trafic_gb))"
   ]
  },
  {
   "cell_type": "markdown",
   "metadata": {},
   "source": [
    "Построим гистограммы по каждому тарифу - по всем данным за каждый месяц:"
   ]
  },
  {
   "cell_type": "code",
   "execution_count": 69,
   "metadata": {
    "scrolled": true
   },
   "outputs": [
    {
     "data": {
      "image/png": "[encoded data removed]",
      "text/plain": [
       "<Figure size 432x288 with 1 Axes>"
      ]
     },
     "metadata": {
      "needs_background": "light"
     },
     "output_type": "display_data"
    },
    {
     "data": {
      "image/png": "[encoded data removed]",
      "text/plain": [
       "<Figure size 432x288 with 1 Axes>"
      ]
     },
     "metadata": {
      "needs_background": "light"
     },
     "output_type": "display_data"
    }
   ],
   "source": [
    "smart.plot(kind ='hist', y='sum_trafic_gb', bins=100, grid=True)\n",
    "plt.xlabel(\"гб/мес, по всем данным за каждый месяц\")\n",
    "plt.ylabel(\"Частота\")\n",
    "plt.title(\"Распределение объемf интернет трафика, Smart\")\n",
    "\n",
    "ultra.plot(kind ='hist', y='sum_trafic_gb', bins=100, grid=True)\n",
    "plt.xlabel(\"гб/мес, по всем данным за каждый месяц\")\n",
    "plt.ylabel(\"Частота\")\n",
    "plt.title(\"Распределение объемf интернет трафика, Ultra\")\n",
    "\n",
    "plt.show()"
   ]
  },
  {
   "cell_type": "markdown",
   "metadata": {},
   "source": [
    "И построим аналогичные графики, но по усредненным данным по каждому пользователю:"
   ]
  },
  {
   "cell_type": "code",
   "execution_count": 70,
   "metadata": {},
   "outputs": [
    {
     "data": {
      "image/png": "[encoded data removed]",
      "text/plain": [
       "<Figure size 432x288 with 1 Axes>"
      ]
     },
     "metadata": {
      "needs_background": "light"
     },
     "output_type": "display_data"
    },
    {
     "data": {
      "image/png": "[encoded data removed]",
      "text/plain": [
       "<Figure size 432x288 with 1 Axes>"
      ]
     },
     "metadata": {
      "needs_background": "light"
     },
     "output_type": "display_data"
    }
   ],
   "source": [
    "smart_data_users.plot(kind ='hist', y='sum_trafic_gb', bins=100, grid=True)\n",
    "plt.xlabel(\"гб/мес,  по ср.данным по каждому пользователю\")\n",
    "plt.ylabel(\"Частота\")\n",
    "plt.title(\"Распределение объемf интернет трафика, Smart\")\n",
    "\n",
    "ultra_data_users.plot(kind ='hist', y='sum_trafic_gb', bins=100, grid=True)\n",
    "plt.xlabel(\"гб/мес, по ср.данным по каждому пользователю\")\n",
    "plt.ylabel(\"Частота\")\n",
    "plt.title(\"Распределение объемf интернет трафика, Ultra\")\n",
    "\n",
    "plt.show()"
   ]
  },
  {
   "cell_type": "markdown",
   "metadata": {},
   "source": [
    "По графика видим,что данные по объему трафка распределены нормально. На тарифе Ultra видим, что клиенты чаще пользуются большим объемом трафика, доходящим до 35 гб/мес, тогда как клиенты Smart чаще всего ограничиваются 20 - 25 гб/мес."
   ]
  },
  {
   "cell_type": "markdown",
   "metadata": {},
   "source": [
    "## Проверка гипотез"
   ]
  },
  {
   "cell_type": "markdown",
   "metadata": {},
   "source": [
    "Имеющаяся выборка является стратифицированной, т.к. поведение клиентов по использованию минут разговора, сообщений и интернет-трафика отличается."
   ]
  },
  {
   "cell_type": "markdown",
   "metadata": {},
   "source": [
    "### Гипотеза_1"
   ]
  },
  {
   "cell_type": "markdown",
   "metadata": {},
   "source": [
    "**Проверим гипотезу: \"Средняя выручка пользователей тарифов «Ультра» и «Смарт» различаются.\"**"
   ]
  },
  {
   "cell_type": "markdown",
   "metadata": {},
   "source": [
    "Сформулируем нулевую гипотезу H₀: \n",
    "\"Средняя выручка пользователей тарифов «Ультра» и «Смарт» равны.\"\n",
    "\n",
    "Альтернативная гипотеза H₁: \"Средняя выручка пользователей тарифов «Ультра» и «Смарт» различаются.\" - двухсторонняя гипотеза, т.к. отличия могут быть как в одну так и другую сторону."
   ]
  },
  {
   "cell_type": "code",
   "execution_count": 71,
   "metadata": {},
   "outputs": [],
   "source": [
    "smart_pay_month = smart['pay_month']\n",
    "ultra_pay_month = ultra['pay_month']"
   ]
  },
  {
   "cell_type": "code",
   "execution_count": 72,
   "metadata": {},
   "outputs": [
    {
     "data": {
      "text/plain": [
       "2229"
      ]
     },
     "execution_count": 72,
     "metadata": {},
     "output_type": "execute_result"
    }
   ],
   "source": [
    "len(smart_pay_month) #смотрим размер выборки по тарифу smart"
   ]
  },
  {
   "cell_type": "code",
   "execution_count": 73,
   "metadata": {},
   "outputs": [
    {
     "data": {
      "text/plain": [
       "985"
      ]
     },
     "execution_count": 73,
     "metadata": {},
     "output_type": "execute_result"
    }
   ],
   "source": [
    "len(ultra_pay_month) #смотрим размер выборки по тарифу ultra"
   ]
  },
  {
   "cell_type": "markdown",
   "metadata": {},
   "source": [
    "При проверке гипотезы будем использовать доп.параметр  equal_var = False, т.к. выборки по тарифам не большие и при этом значительно отличаются друг от друга."
   ]
  },
  {
   "cell_type": "code",
   "execution_count": 74,
   "metadata": {},
   "outputs": [
    {
     "name": "stdout",
     "output_type": "stream",
     "text": [
      "p-значение: 4.2606313931076085e-250\n",
      "Отвергаем нулевую гипотезу\n"
     ]
    }
   ],
   "source": [
    "alpha = .05 # критический уровень статистической значимости\n",
    "# если p-value окажется меньше него - отвегнем нулевую гипотезу\n",
    "\n",
    "results = st.ttest_ind(\n",
    "    smart_pay_month, \n",
    "    ultra_pay_month, equal_var = False) \n",
    "print('p-значение:', results.pvalue)\n",
    "\n",
    "if results.pvalue < alpha:\n",
    "    print(\"Отвергаем нулевую гипотезу\")\n",
    "else:\n",
    "    print(\"Не получилось отвергнуть нулевую гипотезу\") "
   ]
  },
  {
   "cell_type": "markdown",
   "metadata": {},
   "source": [
    "Результат теста опровергает нулевую гипотезу о том, что средняя выручка пользователей тарифов «Ультра» и «Смарт» равны и оставляет нам альтернативную гипотезу о том, что средняя выручка пользователей тарифов «Ультра» и «Смарт» различаются."
   ]
  },
  {
   "cell_type": "markdown",
   "metadata": {},
   "source": [
    "### Гипотеза_2"
   ]
  },
  {
   "cell_type": "markdown",
   "metadata": {},
   "source": [
    "**Проверим гипотезу: \"Средняя выручка пользователей из Москвы отличается от выручки пользователей из других регионов.\"**"
   ]
  },
  {
   "cell_type": "markdown",
   "metadata": {},
   "source": [
    "Выделим из таблицы users столбцы 'user_id','city' в отдельную таблицу users_city и добавим данные о месте проживания клиента в таблицу data:"
   ]
  },
  {
   "cell_type": "code",
   "execution_count": 75,
   "metadata": {},
   "outputs": [],
   "source": [
    "users_city = users.loc[:,['user_id','city']]"
   ]
  },
  {
   "cell_type": "code",
   "execution_count": 76,
   "metadata": {},
   "outputs": [],
   "source": [
    "data = data.merge(users_city, on = ['user_id'])"
   ]
  },
  {
   "cell_type": "code",
   "execution_count": 77,
   "metadata": {},
   "outputs": [
    {
     "data": {
      "text/plain": [
       "611"
      ]
     },
     "execution_count": 77,
     "metadata": {},
     "output_type": "execute_result"
    }
   ],
   "source": [
    "Moscow_data = data[data['city']=='Москва']\n",
    "len(Moscow_data)"
   ]
  },
  {
   "cell_type": "code",
   "execution_count": 78,
   "metadata": {},
   "outputs": [],
   "source": [
    "Moscow = Moscow_data['pay_month']"
   ]
  },
  {
   "cell_type": "code",
   "execution_count": 79,
   "metadata": {},
   "outputs": [
    {
     "data": {
      "text/plain": [
       "2603"
      ]
     },
     "execution_count": 79,
     "metadata": {},
     "output_type": "execute_result"
    }
   ],
   "source": [
    "Region_data = data[data['city']!='Москва']\n",
    "len(Region_data)"
   ]
  },
  {
   "cell_type": "code",
   "execution_count": 80,
   "metadata": {},
   "outputs": [],
   "source": [
    "Region = Region_data['pay_month']"
   ]
  },
  {
   "cell_type": "markdown",
   "metadata": {},
   "source": [
    "Сформулируем нулевую гипотезу H₀: \n",
    "\"Средняя выручка пользователей из Москвы равна выручки пользователей из других регионов.\"\n",
    "\n",
    "Альтернативная гипотеза H₁: \"Средняя выручка пользователей из Москвы отличается от выручки пользователей из других регионов\", двухсторонняя гипотеза, т.к. отличия могут быть как в одну так и другую сторону."
   ]
  },
  {
   "cell_type": "code",
   "execution_count": 81,
   "metadata": {},
   "outputs": [
    {
     "name": "stdout",
     "output_type": "stream",
     "text": [
      "p-значение: 0.5257376663729298\n",
      "Не получилось отвергнуть нулевую гипотезу\n"
     ]
    }
   ],
   "source": [
    "alpha = .05 # критический уровень статистической значимости\n",
    "# если p-value окажется меньше него - отвегнем нулевую гипотезу\n",
    "\n",
    "results = st.ttest_ind(\n",
    "    Moscow, \n",
    "    Region, equal_var = False) \n",
    "print('p-значение:', results.pvalue)\n",
    "\n",
    "if results.pvalue < alpha:\n",
    "    print(\"Отвергаем нулевую гипотезу\")\n",
    "else:\n",
    "    print(\"Не получилось отвергнуть нулевую гипотезу\") "
   ]
  },
  {
   "cell_type": "markdown",
   "metadata": {},
   "source": [
    "Результат теста не опровергает нулевую гипотезу, что означает, что средняя выручка пользователей из Москвы не отличается от выручки пользователей из других регионов."
   ]
  }
 ],
 "metadata": {
  "ExecuteTimeLog": [
   {
    "duration": 378,
    "start_time": "2022-04-11T11:51:36.317Z"
   },
   {
    "duration": 82,
    "start_time": "2022-04-11T11:54:28.765Z"
   },
   {
    "duration": 140,
    "start_time": "2022-04-11T11:54:47.626Z"
   },
   {
    "duration": 148,
    "start_time": "2022-04-11T11:55:06.570Z"
   },
   {
    "duration": 128,
    "start_time": "2022-04-11T11:59:27.522Z"
   },
   {
    "duration": 113,
    "start_time": "2022-04-11T11:59:40.073Z"
   },
   {
    "duration": 18,
    "start_time": "2022-04-11T11:59:45.161Z"
   },
   {
    "duration": 23,
    "start_time": "2022-04-11T11:59:51.313Z"
   },
   {
    "duration": 71,
    "start_time": "2022-04-12T10:08:33.888Z"
   },
   {
    "duration": 9,
    "start_time": "2022-04-12T10:08:38.130Z"
   },
   {
    "duration": 466,
    "start_time": "2022-04-12T10:08:41.026Z"
   },
   {
    "duration": 210,
    "start_time": "2022-04-12T10:08:41.495Z"
   },
   {
    "duration": 192,
    "start_time": "2022-04-12T10:08:41.707Z"
   },
   {
    "duration": 121,
    "start_time": "2022-04-12T10:08:41.901Z"
   },
   {
    "duration": 21,
    "start_time": "2022-04-12T10:08:42.024Z"
   },
   {
    "duration": 50,
    "start_time": "2022-04-12T10:08:42.048Z"
   },
   {
    "duration": 212,
    "start_time": "2022-04-12T10:08:52.364Z"
   },
   {
    "duration": 34,
    "start_time": "2022-04-12T10:09:07.596Z"
   },
   {
    "duration": 31,
    "start_time": "2022-04-12T10:10:15.364Z"
   },
   {
    "duration": 27,
    "start_time": "2022-04-12T10:11:17.845Z"
   },
   {
    "duration": 18,
    "start_time": "2022-04-12T10:15:25.678Z"
   },
   {
    "duration": 71,
    "start_time": "2022-04-12T11:17:06.550Z"
   },
   {
    "duration": 10,
    "start_time": "2022-04-12T11:17:16.099Z"
   },
   {
    "duration": 524,
    "start_time": "2022-04-12T11:17:22.062Z"
   },
   {
    "duration": 217,
    "start_time": "2022-04-12T11:17:22.589Z"
   },
   {
    "duration": 33,
    "start_time": "2022-04-12T11:17:22.808Z"
   },
   {
    "duration": 300,
    "start_time": "2022-04-12T11:17:22.844Z"
   },
   {
    "duration": 38,
    "start_time": "2022-04-12T11:17:23.146Z"
   },
   {
    "duration": 120,
    "start_time": "2022-04-12T11:17:23.186Z"
   },
   {
    "duration": 25,
    "start_time": "2022-04-12T11:17:23.308Z"
   },
   {
    "duration": 20,
    "start_time": "2022-04-12T11:17:23.336Z"
   },
   {
    "duration": 38,
    "start_time": "2022-04-12T11:17:23.358Z"
   },
   {
    "duration": 40,
    "start_time": "2022-04-12T11:17:23.399Z"
   },
   {
    "duration": 18,
    "start_time": "2022-04-12T11:17:23.441Z"
   },
   {
    "duration": 116,
    "start_time": "2022-04-12T11:35:48.033Z"
   },
   {
    "duration": 75,
    "start_time": "2022-04-12T11:35:53.412Z"
   },
   {
    "duration": 129,
    "start_time": "2022-04-12T11:36:04.032Z"
   },
   {
    "duration": 50,
    "start_time": "2022-04-12T11:36:14.125Z"
   },
   {
    "duration": 24,
    "start_time": "2022-04-12T11:36:24.040Z"
   },
   {
    "duration": 45,
    "start_time": "2022-04-12T11:46:43.295Z"
   },
   {
    "duration": 3,
    "start_time": "2022-04-12T11:47:06.077Z"
   },
   {
    "duration": 9,
    "start_time": "2022-04-12T11:49:25.394Z"
   },
   {
    "duration": 5,
    "start_time": "2022-04-12T11:49:54.673Z"
   },
   {
    "duration": 13,
    "start_time": "2022-04-12T11:50:59.402Z"
   },
   {
    "duration": 4,
    "start_time": "2022-04-12T11:52:37.659Z"
   },
   {
    "duration": 237,
    "start_time": "2022-04-12T11:52:37.666Z"
   },
   {
    "duration": 41,
    "start_time": "2022-04-12T11:52:37.906Z"
   },
   {
    "duration": 48,
    "start_time": "2022-04-12T11:52:37.949Z"
   },
   {
    "duration": 35,
    "start_time": "2022-04-12T11:52:37.999Z"
   },
   {
    "duration": 5,
    "start_time": "2022-04-12T11:52:38.036Z"
   },
   {
    "duration": 14,
    "start_time": "2022-04-12T11:52:38.044Z"
   },
   {
    "duration": 15,
    "start_time": "2022-04-12T11:52:38.060Z"
   },
   {
    "duration": 220,
    "start_time": "2022-04-12T11:52:38.080Z"
   },
   {
    "duration": 37,
    "start_time": "2022-04-12T11:52:38.303Z"
   },
   {
    "duration": 143,
    "start_time": "2022-04-12T11:52:38.343Z"
   },
   {
    "duration": 39,
    "start_time": "2022-04-12T11:52:38.488Z"
   },
   {
    "duration": 20,
    "start_time": "2022-04-12T11:52:38.529Z"
   },
   {
    "duration": 15,
    "start_time": "2022-04-12T11:52:38.551Z"
   },
   {
    "duration": 46,
    "start_time": "2022-04-12T11:52:38.569Z"
   },
   {
    "duration": 15,
    "start_time": "2022-04-12T11:52:38.625Z"
   },
   {
    "duration": 7,
    "start_time": "2022-04-12T11:53:17.252Z"
   },
   {
    "duration": 12,
    "start_time": "2022-04-12T11:53:18.644Z"
   },
   {
    "duration": 3,
    "start_time": "2022-04-12T11:53:32.805Z"
   },
   {
    "duration": 233,
    "start_time": "2022-04-12T11:53:32.811Z"
   },
   {
    "duration": 33,
    "start_time": "2022-04-12T11:53:33.046Z"
   },
   {
    "duration": 68,
    "start_time": "2022-04-12T11:53:33.081Z"
   },
   {
    "duration": 3,
    "start_time": "2022-04-12T11:53:33.152Z"
   },
   {
    "duration": 57,
    "start_time": "2022-04-12T11:53:33.157Z"
   },
   {
    "duration": 17,
    "start_time": "2022-04-12T11:53:33.216Z"
   },
   {
    "duration": 203,
    "start_time": "2022-04-12T11:53:33.236Z"
   },
   {
    "duration": 44,
    "start_time": "2022-04-12T11:53:33.442Z"
   },
   {
    "duration": 178,
    "start_time": "2022-04-12T11:53:33.488Z"
   },
   {
    "duration": 26,
    "start_time": "2022-04-12T11:53:33.669Z"
   },
   {
    "duration": 40,
    "start_time": "2022-04-12T11:53:33.697Z"
   },
   {
    "duration": 20,
    "start_time": "2022-04-12T11:53:33.740Z"
   },
   {
    "duration": 48,
    "start_time": "2022-04-12T11:53:33.763Z"
   },
   {
    "duration": 27,
    "start_time": "2022-04-12T11:53:33.814Z"
   },
   {
    "duration": 39,
    "start_time": "2022-04-12T11:55:34.518Z"
   },
   {
    "duration": 9,
    "start_time": "2022-04-12T11:56:23.783Z"
   },
   {
    "duration": 11,
    "start_time": "2022-04-12T11:56:26.446Z"
   },
   {
    "duration": 69,
    "start_time": "2022-04-16T10:47:20.654Z"
   },
   {
    "duration": 533,
    "start_time": "2022-04-16T10:47:26.596Z"
   },
   {
    "duration": 215,
    "start_time": "2022-04-16T10:47:27.131Z"
   },
   {
    "duration": 42,
    "start_time": "2022-04-16T10:47:27.348Z"
   },
   {
    "duration": 48,
    "start_time": "2022-04-16T10:47:27.393Z"
   },
   {
    "duration": 3,
    "start_time": "2022-04-16T10:47:27.445Z"
   },
   {
    "duration": 34,
    "start_time": "2022-04-16T10:47:27.450Z"
   },
   {
    "duration": 102,
    "start_time": "2022-04-16T10:47:27.486Z"
   },
   {
    "duration": 0,
    "start_time": "2022-04-16T10:47:27.591Z"
   },
   {
    "duration": 0,
    "start_time": "2022-04-16T10:47:27.593Z"
   },
   {
    "duration": 0,
    "start_time": "2022-04-16T10:47:27.595Z"
   },
   {
    "duration": 0,
    "start_time": "2022-04-16T10:47:27.596Z"
   },
   {
    "duration": 0,
    "start_time": "2022-04-16T10:47:27.598Z"
   },
   {
    "duration": 0,
    "start_time": "2022-04-16T10:47:27.599Z"
   },
   {
    "duration": 0,
    "start_time": "2022-04-16T10:47:27.601Z"
   },
   {
    "duration": 0,
    "start_time": "2022-04-16T10:47:27.602Z"
   },
   {
    "duration": 0,
    "start_time": "2022-04-16T10:47:27.604Z"
   },
   {
    "duration": 0,
    "start_time": "2022-04-16T10:47:27.606Z"
   },
   {
    "duration": 1,
    "start_time": "2022-04-16T10:47:27.607Z"
   },
   {
    "duration": 67,
    "start_time": "2022-04-16T10:52:27.384Z"
   },
   {
    "duration": 10,
    "start_time": "2022-04-16T10:52:40.948Z"
   },
   {
    "duration": 182,
    "start_time": "2022-04-16T10:52:47.355Z"
   },
   {
    "duration": 36,
    "start_time": "2022-04-16T10:52:51.531Z"
   },
   {
    "duration": 8,
    "start_time": "2022-04-16T10:52:53.363Z"
   },
   {
    "duration": 21,
    "start_time": "2022-04-16T10:52:59.067Z"
   },
   {
    "duration": 15,
    "start_time": "2022-04-16T10:53:33.641Z"
   },
   {
    "duration": 4,
    "start_time": "2022-04-16T10:53:55.740Z"
   },
   {
    "duration": 216,
    "start_time": "2022-04-16T10:53:55.746Z"
   },
   {
    "duration": 37,
    "start_time": "2022-04-16T10:53:55.964Z"
   },
   {
    "duration": 44,
    "start_time": "2022-04-16T10:53:56.003Z"
   },
   {
    "duration": 3,
    "start_time": "2022-04-16T10:53:56.050Z"
   },
   {
    "duration": 32,
    "start_time": "2022-04-16T10:53:56.055Z"
   },
   {
    "duration": 13,
    "start_time": "2022-04-16T10:53:56.089Z"
   },
   {
    "duration": 28,
    "start_time": "2022-04-16T10:53:56.103Z"
   },
   {
    "duration": 202,
    "start_time": "2022-04-16T10:53:56.133Z"
   },
   {
    "duration": 45,
    "start_time": "2022-04-16T10:53:56.337Z"
   },
   {
    "duration": 36,
    "start_time": "2022-04-16T10:53:56.385Z"
   },
   {
    "duration": 13,
    "start_time": "2022-04-16T10:53:56.423Z"
   },
   {
    "duration": 140,
    "start_time": "2022-04-16T10:53:56.439Z"
   },
   {
    "duration": 25,
    "start_time": "2022-04-16T10:53:56.582Z"
   },
   {
    "duration": 19,
    "start_time": "2022-04-16T10:53:56.609Z"
   },
   {
    "duration": 16,
    "start_time": "2022-04-16T10:53:56.630Z"
   },
   {
    "duration": 49,
    "start_time": "2022-04-16T10:53:56.648Z"
   },
   {
    "duration": 16,
    "start_time": "2022-04-16T10:53:56.700Z"
   },
   {
    "duration": 29,
    "start_time": "2022-04-16T10:54:33.037Z"
   },
   {
    "duration": 23,
    "start_time": "2022-04-16T10:54:49.285Z"
   },
   {
    "duration": 25,
    "start_time": "2022-04-16T10:55:14.006Z"
   },
   {
    "duration": 48,
    "start_time": "2022-04-16T11:01:31.722Z"
   },
   {
    "duration": 22,
    "start_time": "2022-04-16T11:07:19.959Z"
   },
   {
    "duration": 11,
    "start_time": "2022-04-16T11:07:34.524Z"
   },
   {
    "duration": 11,
    "start_time": "2022-04-16T11:07:37.855Z"
   },
   {
    "duration": 9,
    "start_time": "2022-04-16T11:07:49.591Z"
   },
   {
    "duration": 10,
    "start_time": "2022-04-16T11:07:54.575Z"
   },
   {
    "duration": 20,
    "start_time": "2022-04-16T11:08:00.488Z"
   },
   {
    "duration": 104,
    "start_time": "2022-04-16T11:09:25.609Z"
   },
   {
    "duration": 20,
    "start_time": "2022-04-16T11:09:32.696Z"
   },
   {
    "duration": 9,
    "start_time": "2022-04-16T11:11:27.995Z"
   },
   {
    "duration": 9,
    "start_time": "2022-04-16T11:11:39.139Z"
   },
   {
    "duration": 20,
    "start_time": "2022-04-16T11:11:50.146Z"
   },
   {
    "duration": 15,
    "start_time": "2022-04-16T11:27:45.039Z"
   },
   {
    "duration": 2067,
    "start_time": "2022-04-16T11:27:49.430Z"
   },
   {
    "duration": 1702,
    "start_time": "2022-04-16T11:28:07.897Z"
   },
   {
    "duration": 3,
    "start_time": "2022-04-16T11:28:13.280Z"
   },
   {
    "duration": 222,
    "start_time": "2022-04-16T11:28:13.285Z"
   },
   {
    "duration": 32,
    "start_time": "2022-04-16T11:28:13.509Z"
   },
   {
    "duration": 69,
    "start_time": "2022-04-16T11:28:13.544Z"
   },
   {
    "duration": 3,
    "start_time": "2022-04-16T11:28:13.615Z"
   },
   {
    "duration": 11,
    "start_time": "2022-04-16T11:28:13.621Z"
   },
   {
    "duration": 12,
    "start_time": "2022-04-16T11:28:13.634Z"
   },
   {
    "duration": 54,
    "start_time": "2022-04-16T11:28:13.649Z"
   },
   {
    "duration": 191,
    "start_time": "2022-04-16T11:28:13.708Z"
   },
   {
    "duration": 29,
    "start_time": "2022-04-16T11:28:13.901Z"
   },
   {
    "duration": 54,
    "start_time": "2022-04-16T11:28:13.932Z"
   },
   {
    "duration": 13,
    "start_time": "2022-04-16T11:28:13.988Z"
   },
   {
    "duration": 22,
    "start_time": "2022-04-16T11:28:14.004Z"
   },
   {
    "duration": 155,
    "start_time": "2022-04-16T11:28:14.028Z"
   },
   {
    "duration": 27,
    "start_time": "2022-04-16T11:28:14.185Z"
   },
   {
    "duration": 72,
    "start_time": "2022-04-16T11:28:14.215Z"
   },
   {
    "duration": 21,
    "start_time": "2022-04-16T11:28:14.289Z"
   },
   {
    "duration": 16,
    "start_time": "2022-04-16T11:28:14.312Z"
   },
   {
    "duration": 33,
    "start_time": "2022-04-16T11:28:14.330Z"
   },
   {
    "duration": 29,
    "start_time": "2022-04-16T11:28:14.365Z"
   },
   {
    "duration": 1768,
    "start_time": "2022-04-16T11:28:14.396Z"
   },
   {
    "duration": 0,
    "start_time": "2022-04-16T11:28:16.167Z"
   },
   {
    "duration": 7,
    "start_time": "2022-04-16T11:30:13.618Z"
   },
   {
    "duration": 14,
    "start_time": "2022-04-16T11:30:15.474Z"
   },
   {
    "duration": 14,
    "start_time": "2022-04-16T11:31:27.170Z"
   },
   {
    "duration": 472,
    "start_time": "2022-04-17T03:42:26.381Z"
   },
   {
    "duration": 213,
    "start_time": "2022-04-17T03:42:26.856Z"
   },
   {
    "duration": 35,
    "start_time": "2022-04-17T03:42:27.072Z"
   },
   {
    "duration": 70,
    "start_time": "2022-04-17T03:42:27.110Z"
   },
   {
    "duration": 3,
    "start_time": "2022-04-17T03:42:27.183Z"
   },
   {
    "duration": 22,
    "start_time": "2022-04-17T03:42:27.189Z"
   },
   {
    "duration": 32,
    "start_time": "2022-04-17T03:42:27.213Z"
   },
   {
    "duration": 46,
    "start_time": "2022-04-17T03:42:27.247Z"
   },
   {
    "duration": 195,
    "start_time": "2022-04-17T03:42:27.295Z"
   },
   {
    "duration": 27,
    "start_time": "2022-04-17T03:42:27.493Z"
   },
   {
    "duration": 55,
    "start_time": "2022-04-17T03:42:27.523Z"
   },
   {
    "duration": 15,
    "start_time": "2022-04-17T03:42:27.580Z"
   },
   {
    "duration": 39,
    "start_time": "2022-04-17T03:42:27.597Z"
   },
   {
    "duration": 123,
    "start_time": "2022-04-17T03:42:27.638Z"
   },
   {
    "duration": 25,
    "start_time": "2022-04-17T03:42:27.763Z"
   },
   {
    "duration": 65,
    "start_time": "2022-04-17T03:42:27.790Z"
   },
   {
    "duration": 19,
    "start_time": "2022-04-17T03:42:27.858Z"
   },
   {
    "duration": 26,
    "start_time": "2022-04-17T03:42:27.879Z"
   },
   {
    "duration": 44,
    "start_time": "2022-04-17T03:42:27.907Z"
   },
   {
    "duration": 26,
    "start_time": "2022-04-17T03:42:27.953Z"
   },
   {
    "duration": 39,
    "start_time": "2022-04-17T03:42:27.981Z"
   },
   {
    "duration": 48,
    "start_time": "2022-04-17T03:42:28.023Z"
   },
   {
    "duration": 48,
    "start_time": "2022-04-17T03:42:28.074Z"
   },
   {
    "duration": 23,
    "start_time": "2022-04-17T03:45:38.799Z"
   },
   {
    "duration": 90,
    "start_time": "2022-04-17T03:48:48.990Z"
   },
   {
    "duration": 5,
    "start_time": "2022-04-17T03:49:03.181Z"
   },
   {
    "duration": 9,
    "start_time": "2022-04-17T03:51:03.849Z"
   },
   {
    "duration": 9,
    "start_time": "2022-04-17T03:51:15.192Z"
   },
   {
    "duration": 4,
    "start_time": "2022-04-17T03:52:44.376Z"
   },
   {
    "duration": 24,
    "start_time": "2022-04-17T03:52:53.113Z"
   },
   {
    "duration": 514,
    "start_time": "2022-04-17T03:53:01.384Z"
   },
   {
    "duration": 3,
    "start_time": "2022-04-17T03:53:07.321Z"
   },
   {
    "duration": 22,
    "start_time": "2022-04-17T03:53:08.848Z"
   },
   {
    "duration": 10,
    "start_time": "2022-04-17T04:05:12.026Z"
   },
   {
    "duration": 24,
    "start_time": "2022-04-17T04:05:14.233Z"
   },
   {
    "duration": 1552,
    "start_time": "2022-04-17T04:06:02.055Z"
   },
   {
    "duration": 39,
    "start_time": "2022-04-17T04:06:04.179Z"
   },
   {
    "duration": 1455,
    "start_time": "2022-04-17T04:06:14.516Z"
   },
   {
    "duration": 1370,
    "start_time": "2022-04-17T04:06:24.500Z"
   },
   {
    "duration": 4,
    "start_time": "2022-04-17T04:06:33.845Z"
   },
   {
    "duration": 336,
    "start_time": "2022-04-17T04:06:33.852Z"
   },
   {
    "duration": 72,
    "start_time": "2022-04-17T04:06:34.191Z"
   },
   {
    "duration": 47,
    "start_time": "2022-04-17T04:06:34.267Z"
   },
   {
    "duration": 3,
    "start_time": "2022-04-17T04:06:34.317Z"
   },
   {
    "duration": 32,
    "start_time": "2022-04-17T04:06:34.322Z"
   },
   {
    "duration": 11,
    "start_time": "2022-04-17T04:06:34.357Z"
   },
   {
    "duration": 27,
    "start_time": "2022-04-17T04:06:34.370Z"
   },
   {
    "duration": 213,
    "start_time": "2022-04-17T04:06:34.400Z"
   },
   {
    "duration": 41,
    "start_time": "2022-04-17T04:06:34.615Z"
   },
   {
    "duration": 34,
    "start_time": "2022-04-17T04:06:34.658Z"
   },
   {
    "duration": 25,
    "start_time": "2022-04-17T04:06:34.694Z"
   },
   {
    "duration": 50,
    "start_time": "2022-04-17T04:06:34.721Z"
   },
   {
    "duration": 120,
    "start_time": "2022-04-17T04:06:34.774Z"
   },
   {
    "duration": 25,
    "start_time": "2022-04-17T04:06:34.896Z"
   },
   {
    "duration": 62,
    "start_time": "2022-04-17T04:06:34.923Z"
   },
   {
    "duration": 19,
    "start_time": "2022-04-17T04:06:34.988Z"
   },
   {
    "duration": 15,
    "start_time": "2022-04-17T04:06:35.009Z"
   },
   {
    "duration": 62,
    "start_time": "2022-04-17T04:06:35.026Z"
   },
   {
    "duration": 15,
    "start_time": "2022-04-17T04:06:35.090Z"
   },
   {
    "duration": 9,
    "start_time": "2022-04-17T04:06:35.107Z"
   },
   {
    "duration": 37,
    "start_time": "2022-04-17T04:06:35.118Z"
   },
   {
    "duration": 16,
    "start_time": "2022-04-17T04:06:35.157Z"
   },
   {
    "duration": 215,
    "start_time": "2022-04-17T04:33:33.592Z"
   },
   {
    "duration": 299,
    "start_time": "2022-04-17T04:35:10.992Z"
   },
   {
    "duration": 13,
    "start_time": "2022-04-17T04:36:09.561Z"
   },
   {
    "duration": 11,
    "start_time": "2022-04-17T04:36:18.353Z"
   },
   {
    "duration": 11,
    "start_time": "2022-04-17T04:36:55.730Z"
   },
   {
    "duration": 10,
    "start_time": "2022-04-17T04:38:34.708Z"
   },
   {
    "duration": 6,
    "start_time": "2022-04-17T04:40:05.261Z"
   },
   {
    "duration": 14,
    "start_time": "2022-04-17T04:43:38.599Z"
   },
   {
    "duration": 11,
    "start_time": "2022-04-17T05:37:13.256Z"
   },
   {
    "duration": 4,
    "start_time": "2022-04-17T05:37:24.723Z"
   },
   {
    "duration": 221,
    "start_time": "2022-04-17T05:37:24.729Z"
   },
   {
    "duration": 35,
    "start_time": "2022-04-17T05:37:24.952Z"
   },
   {
    "duration": 68,
    "start_time": "2022-04-17T05:37:24.991Z"
   },
   {
    "duration": 4,
    "start_time": "2022-04-17T05:37:25.061Z"
   },
   {
    "duration": 10,
    "start_time": "2022-04-17T05:37:25.069Z"
   },
   {
    "duration": 22,
    "start_time": "2022-04-17T05:37:25.081Z"
   },
   {
    "duration": 47,
    "start_time": "2022-04-17T05:37:25.105Z"
   },
   {
    "duration": 174,
    "start_time": "2022-04-17T05:37:25.155Z"
   },
   {
    "duration": 36,
    "start_time": "2022-04-17T05:37:25.331Z"
   },
   {
    "duration": 33,
    "start_time": "2022-04-17T05:37:25.369Z"
   },
   {
    "duration": 47,
    "start_time": "2022-04-17T05:37:25.404Z"
   },
   {
    "duration": 23,
    "start_time": "2022-04-17T05:37:25.454Z"
   },
   {
    "duration": 134,
    "start_time": "2022-04-17T05:37:25.479Z"
   },
   {
    "duration": 39,
    "start_time": "2022-04-17T05:37:25.616Z"
   },
   {
    "duration": 46,
    "start_time": "2022-04-17T05:37:25.658Z"
   },
   {
    "duration": 19,
    "start_time": "2022-04-17T05:37:25.707Z"
   },
   {
    "duration": 17,
    "start_time": "2022-04-17T05:37:25.752Z"
   },
   {
    "duration": 31,
    "start_time": "2022-04-17T05:37:25.772Z"
   },
   {
    "duration": 15,
    "start_time": "2022-04-17T05:37:25.805Z"
   },
   {
    "duration": 35,
    "start_time": "2022-04-17T05:37:25.822Z"
   },
   {
    "duration": 24,
    "start_time": "2022-04-17T05:37:25.859Z"
   },
   {
    "duration": 12,
    "start_time": "2022-04-17T05:37:25.885Z"
   },
   {
    "duration": 5,
    "start_time": "2022-04-17T05:37:25.901Z"
   },
   {
    "duration": 45,
    "start_time": "2022-04-17T05:37:25.908Z"
   },
   {
    "duration": 15,
    "start_time": "2022-04-17T05:37:25.955Z"
   },
   {
    "duration": 13,
    "start_time": "2022-04-17T05:37:25.972Z"
   },
   {
    "duration": 9,
    "start_time": "2022-04-17T05:37:25.987Z"
   },
   {
    "duration": 0,
    "start_time": "2022-04-17T05:37:25.999Z"
   },
   {
    "duration": 0,
    "start_time": "2022-04-17T05:37:26.000Z"
   },
   {
    "duration": 10,
    "start_time": "2022-04-17T05:37:51.994Z"
   },
   {
    "duration": 4,
    "start_time": "2022-04-17T05:38:02.341Z"
   },
   {
    "duration": 208,
    "start_time": "2022-04-17T05:38:02.348Z"
   },
   {
    "duration": 34,
    "start_time": "2022-04-17T05:38:02.558Z"
   },
   {
    "duration": 64,
    "start_time": "2022-04-17T05:38:02.594Z"
   },
   {
    "duration": 3,
    "start_time": "2022-04-17T05:38:02.661Z"
   },
   {
    "duration": 10,
    "start_time": "2022-04-17T05:38:02.666Z"
   },
   {
    "duration": 11,
    "start_time": "2022-04-17T05:38:02.679Z"
   },
   {
    "duration": 25,
    "start_time": "2022-04-17T05:38:02.692Z"
   },
   {
    "duration": 210,
    "start_time": "2022-04-17T05:38:02.721Z"
   },
   {
    "duration": 37,
    "start_time": "2022-04-17T05:38:02.934Z"
   },
   {
    "duration": 32,
    "start_time": "2022-04-17T05:38:02.973Z"
   },
   {
    "duration": 47,
    "start_time": "2022-04-17T05:38:03.007Z"
   },
   {
    "duration": 28,
    "start_time": "2022-04-17T05:38:03.057Z"
   },
   {
    "duration": 133,
    "start_time": "2022-04-17T05:38:03.088Z"
   },
   {
    "duration": 35,
    "start_time": "2022-04-17T05:38:03.223Z"
   },
   {
    "duration": 42,
    "start_time": "2022-04-17T05:38:03.260Z"
   },
   {
    "duration": 19,
    "start_time": "2022-04-17T05:38:03.305Z"
   },
   {
    "duration": 39,
    "start_time": "2022-04-17T05:38:03.326Z"
   },
   {
    "duration": 32,
    "start_time": "2022-04-17T05:38:03.367Z"
   },
   {
    "duration": 15,
    "start_time": "2022-04-17T05:38:03.402Z"
   },
   {
    "duration": 10,
    "start_time": "2022-04-17T05:38:03.419Z"
   },
   {
    "duration": 14,
    "start_time": "2022-04-17T05:38:03.452Z"
   },
   {
    "duration": 12,
    "start_time": "2022-04-17T05:38:03.468Z"
   },
   {
    "duration": 6,
    "start_time": "2022-04-17T05:38:03.484Z"
   },
   {
    "duration": 16,
    "start_time": "2022-04-17T05:38:03.492Z"
   },
   {
    "duration": 44,
    "start_time": "2022-04-17T05:38:03.510Z"
   },
   {
    "duration": 14,
    "start_time": "2022-04-17T05:38:03.556Z"
   },
   {
    "duration": 10,
    "start_time": "2022-04-17T05:38:03.572Z"
   },
   {
    "duration": 0,
    "start_time": "2022-04-17T05:38:03.584Z"
   },
   {
    "duration": 0,
    "start_time": "2022-04-17T05:38:03.586Z"
   },
   {
    "duration": 10,
    "start_time": "2022-04-17T05:38:09.297Z"
   },
   {
    "duration": 11,
    "start_time": "2022-04-17T05:38:22.561Z"
   },
   {
    "duration": 1367,
    "start_time": "2022-04-17T05:38:29.289Z"
   },
   {
    "duration": 1439,
    "start_time": "2022-04-17T05:38:36.570Z"
   },
   {
    "duration": 1502,
    "start_time": "2022-04-17T05:38:54.299Z"
   },
   {
    "duration": 1526,
    "start_time": "2022-04-17T05:40:36.900Z"
   },
   {
    "duration": 1482,
    "start_time": "2022-04-17T05:40:48.524Z"
   },
   {
    "duration": 71,
    "start_time": "2022-04-17T05:43:15.014Z"
   },
   {
    "duration": 78,
    "start_time": "2022-04-17T05:43:30.846Z"
   },
   {
    "duration": 75,
    "start_time": "2022-04-17T05:43:46.845Z"
   },
   {
    "duration": 67,
    "start_time": "2022-04-17T05:43:56.310Z"
   },
   {
    "duration": 44,
    "start_time": "2022-04-17T05:55:43.095Z"
   },
   {
    "duration": 49,
    "start_time": "2022-04-17T05:55:50.230Z"
   },
   {
    "duration": 49,
    "start_time": "2022-04-17T05:58:45.633Z"
   },
   {
    "duration": 41,
    "start_time": "2022-04-17T05:59:18.131Z"
   },
   {
    "duration": 64,
    "start_time": "2022-04-17T06:03:08.204Z"
   },
   {
    "duration": 72,
    "start_time": "2022-04-17T06:03:14.548Z"
   },
   {
    "duration": 72,
    "start_time": "2022-04-17T06:03:34.236Z"
   },
   {
    "duration": 74,
    "start_time": "2022-04-17T06:03:55.181Z"
   },
   {
    "duration": 15,
    "start_time": "2022-04-17T06:13:07.223Z"
   },
   {
    "duration": 15,
    "start_time": "2022-04-17T06:13:18.544Z"
   },
   {
    "duration": 14,
    "start_time": "2022-04-17T06:13:53.272Z"
   },
   {
    "duration": 18,
    "start_time": "2022-04-17T06:15:53.554Z"
   },
   {
    "duration": 33,
    "start_time": "2022-04-17T06:16:31.636Z"
   },
   {
    "duration": 29,
    "start_time": "2022-04-17T06:17:06.084Z"
   },
   {
    "duration": 69,
    "start_time": "2022-04-17T06:17:18.869Z"
   },
   {
    "duration": 23,
    "start_time": "2022-04-17T06:18:16.117Z"
   },
   {
    "duration": 13,
    "start_time": "2022-04-17T06:18:27.430Z"
   },
   {
    "duration": 45,
    "start_time": "2022-04-17T06:20:49.503Z"
   },
   {
    "duration": 22,
    "start_time": "2022-04-17T06:23:39.874Z"
   },
   {
    "duration": 24,
    "start_time": "2022-04-17T06:23:40.756Z"
   },
   {
    "duration": 12,
    "start_time": "2022-04-17T06:24:31.131Z"
   },
   {
    "duration": 4,
    "start_time": "2022-04-17T06:24:40.389Z"
   },
   {
    "duration": 209,
    "start_time": "2022-04-17T06:24:40.395Z"
   },
   {
    "duration": 32,
    "start_time": "2022-04-17T06:24:40.607Z"
   },
   {
    "duration": 50,
    "start_time": "2022-04-17T06:24:40.641Z"
   },
   {
    "duration": 5,
    "start_time": "2022-04-17T06:24:40.694Z"
   },
   {
    "duration": 28,
    "start_time": "2022-04-17T06:24:40.701Z"
   },
   {
    "duration": 25,
    "start_time": "2022-04-17T06:24:40.731Z"
   },
   {
    "duration": 43,
    "start_time": "2022-04-17T06:24:40.758Z"
   },
   {
    "duration": 174,
    "start_time": "2022-04-17T06:24:40.803Z"
   },
   {
    "duration": 28,
    "start_time": "2022-04-17T06:24:40.979Z"
   },
   {
    "duration": 51,
    "start_time": "2022-04-17T06:24:41.011Z"
   },
   {
    "duration": 22,
    "start_time": "2022-04-17T06:24:41.064Z"
   },
   {
    "duration": 129,
    "start_time": "2022-04-17T06:24:41.088Z"
   },
   {
    "duration": 32,
    "start_time": "2022-04-17T06:24:41.219Z"
   },
   {
    "duration": 41,
    "start_time": "2022-04-17T06:24:41.254Z"
   },
   {
    "duration": 18,
    "start_time": "2022-04-17T06:24:41.297Z"
   },
   {
    "duration": 37,
    "start_time": "2022-04-17T06:24:41.317Z"
   },
   {
    "duration": 33,
    "start_time": "2022-04-17T06:24:41.356Z"
   },
   {
    "duration": 14,
    "start_time": "2022-04-17T06:24:41.391Z"
   },
   {
    "duration": 29,
    "start_time": "2022-04-17T06:24:41.408Z"
   },
   {
    "duration": 33,
    "start_time": "2022-04-17T06:24:41.439Z"
   },
   {
    "duration": 16,
    "start_time": "2022-04-17T06:24:41.474Z"
   },
   {
    "duration": 13,
    "start_time": "2022-04-17T06:24:41.492Z"
   },
   {
    "duration": 30,
    "start_time": "2022-04-17T06:24:41.507Z"
   },
   {
    "duration": 87,
    "start_time": "2022-04-17T06:24:41.539Z"
   },
   {
    "duration": 72,
    "start_time": "2022-04-17T06:24:41.628Z"
   },
   {
    "duration": 29,
    "start_time": "2022-04-17T06:24:41.702Z"
   },
   {
    "duration": 29,
    "start_time": "2022-04-17T06:24:41.733Z"
   },
   {
    "duration": 22,
    "start_time": "2022-04-17T06:24:41.766Z"
   },
   {
    "duration": 42,
    "start_time": "2022-04-17T06:25:04.116Z"
   },
   {
    "duration": 37,
    "start_time": "2022-04-17T06:25:21.148Z"
   },
   {
    "duration": 30,
    "start_time": "2022-04-17T06:26:34.581Z"
   },
   {
    "duration": 34,
    "start_time": "2022-04-17T06:26:58.253Z"
   },
   {
    "duration": 34,
    "start_time": "2022-04-17T06:31:03.543Z"
   },
   {
    "duration": 37,
    "start_time": "2022-04-17T06:31:14.088Z"
   },
   {
    "duration": 1369,
    "start_time": "2022-04-17T06:31:42.415Z"
   },
   {
    "duration": 34,
    "start_time": "2022-04-17T06:31:46.328Z"
   },
   {
    "duration": 32,
    "start_time": "2022-04-17T06:32:06.408Z"
   },
   {
    "duration": 30,
    "start_time": "2022-04-17T06:32:34.168Z"
   },
   {
    "duration": 1748,
    "start_time": "2022-04-17T06:35:06.265Z"
   },
   {
    "duration": 42,
    "start_time": "2022-04-17T06:35:18.544Z"
   },
   {
    "duration": 39,
    "start_time": "2022-04-17T06:35:37.128Z"
   },
   {
    "duration": 38,
    "start_time": "2022-04-17T06:35:48.752Z"
   },
   {
    "duration": 37,
    "start_time": "2022-04-17T06:36:08.009Z"
   },
   {
    "duration": 30,
    "start_time": "2022-04-17T06:38:01.613Z"
   },
   {
    "duration": 14,
    "start_time": "2022-04-17T06:39:06.419Z"
   },
   {
    "duration": 73,
    "start_time": "2022-04-17T06:51:09.162Z"
   },
   {
    "duration": 12,
    "start_time": "2022-04-17T06:51:34.947Z"
   },
   {
    "duration": 26,
    "start_time": "2022-04-17T06:51:40.050Z"
   },
   {
    "duration": 28,
    "start_time": "2022-04-17T06:52:06.323Z"
   },
   {
    "duration": 19,
    "start_time": "2022-04-17T06:56:03.966Z"
   },
   {
    "duration": 13,
    "start_time": "2022-04-17T06:56:11.454Z"
   },
   {
    "duration": 31,
    "start_time": "2022-04-17T06:56:46.719Z"
   },
   {
    "duration": 19,
    "start_time": "2022-04-17T06:59:57.457Z"
   },
   {
    "duration": 19,
    "start_time": "2022-04-17T07:00:31.545Z"
   },
   {
    "duration": 16,
    "start_time": "2022-04-17T07:01:00.768Z"
   },
   {
    "duration": 18,
    "start_time": "2022-04-17T07:02:03.251Z"
   },
   {
    "duration": 23,
    "start_time": "2022-04-17T07:02:12.866Z"
   },
   {
    "duration": 34,
    "start_time": "2022-04-17T07:06:05.558Z"
   },
   {
    "duration": 11,
    "start_time": "2022-04-17T07:10:58.274Z"
   },
   {
    "duration": 31,
    "start_time": "2022-04-17T07:10:59.354Z"
   },
   {
    "duration": 35,
    "start_time": "2022-04-17T07:12:24.683Z"
   },
   {
    "duration": 17,
    "start_time": "2022-04-17T07:17:10.277Z"
   },
   {
    "duration": 6,
    "start_time": "2022-04-17T07:18:36.718Z"
   },
   {
    "duration": 16,
    "start_time": "2022-04-17T07:18:48.334Z"
   },
   {
    "duration": 21,
    "start_time": "2022-04-17T07:20:01.024Z"
   },
   {
    "duration": 27,
    "start_time": "2022-04-17T07:41:56.855Z"
   },
   {
    "duration": 15,
    "start_time": "2022-04-17T07:42:04.856Z"
   },
   {
    "duration": 5,
    "start_time": "2022-04-17T07:42:20.593Z"
   },
   {
    "duration": 15,
    "start_time": "2022-04-17T07:42:31.449Z"
   },
   {
    "duration": 4,
    "start_time": "2022-04-17T07:42:43.770Z"
   },
   {
    "duration": 9,
    "start_time": "2022-04-17T07:43:41.627Z"
   },
   {
    "duration": 28,
    "start_time": "2022-04-17T07:43:46.809Z"
   },
   {
    "duration": 29,
    "start_time": "2022-04-17T07:44:08.211Z"
   },
   {
    "duration": 33,
    "start_time": "2022-04-17T07:45:14.972Z"
   },
   {
    "duration": 30,
    "start_time": "2022-04-17T07:45:25.260Z"
   },
   {
    "duration": 4,
    "start_time": "2022-04-17T07:45:35.903Z"
   },
   {
    "duration": 228,
    "start_time": "2022-04-17T07:45:35.910Z"
   },
   {
    "duration": 39,
    "start_time": "2022-04-17T07:45:36.141Z"
   },
   {
    "duration": 43,
    "start_time": "2022-04-17T07:45:36.183Z"
   },
   {
    "duration": 24,
    "start_time": "2022-04-17T07:45:36.229Z"
   },
   {
    "duration": 9,
    "start_time": "2022-04-17T07:45:36.256Z"
   },
   {
    "duration": 12,
    "start_time": "2022-04-17T07:45:36.267Z"
   },
   {
    "duration": 28,
    "start_time": "2022-04-17T07:45:36.281Z"
   },
   {
    "duration": 193,
    "start_time": "2022-04-17T07:45:36.311Z"
   },
   {
    "duration": 27,
    "start_time": "2022-04-17T07:45:36.507Z"
   },
   {
    "duration": 33,
    "start_time": "2022-04-17T07:45:36.553Z"
   },
   {
    "duration": 22,
    "start_time": "2022-04-17T07:45:36.588Z"
   },
   {
    "duration": 132,
    "start_time": "2022-04-17T07:45:36.612Z"
   },
   {
    "duration": 27,
    "start_time": "2022-04-17T07:45:36.746Z"
   },
   {
    "duration": 43,
    "start_time": "2022-04-17T07:45:36.775Z"
   },
   {
    "duration": 39,
    "start_time": "2022-04-17T07:45:36.821Z"
   },
   {
    "duration": 15,
    "start_time": "2022-04-17T07:45:36.862Z"
   },
   {
    "duration": 37,
    "start_time": "2022-04-17T07:45:36.879Z"
   },
   {
    "duration": 15,
    "start_time": "2022-04-17T07:45:36.919Z"
   },
   {
    "duration": 7,
    "start_time": "2022-04-17T07:45:36.952Z"
   },
   {
    "duration": 23,
    "start_time": "2022-04-17T07:45:36.961Z"
   },
   {
    "duration": 16,
    "start_time": "2022-04-17T07:45:36.986Z"
   },
   {
    "duration": 6,
    "start_time": "2022-04-17T07:45:37.004Z"
   },
   {
    "duration": 46,
    "start_time": "2022-04-17T07:45:37.012Z"
   },
   {
    "duration": 69,
    "start_time": "2022-04-17T07:45:37.060Z"
   },
   {
    "duration": 73,
    "start_time": "2022-04-17T07:45:37.131Z"
   },
   {
    "duration": 53,
    "start_time": "2022-04-17T07:45:37.206Z"
   },
   {
    "duration": 13,
    "start_time": "2022-04-17T07:45:37.261Z"
   },
   {
    "duration": 27,
    "start_time": "2022-04-17T07:45:37.278Z"
   },
   {
    "duration": 14,
    "start_time": "2022-04-17T07:45:37.307Z"
   },
   {
    "duration": 12,
    "start_time": "2022-04-17T07:45:37.351Z"
   },
   {
    "duration": 31,
    "start_time": "2022-04-17T07:45:37.365Z"
   },
   {
    "duration": 17,
    "start_time": "2022-04-17T07:45:37.399Z"
   },
   {
    "duration": 7,
    "start_time": "2022-04-17T07:45:37.451Z"
   },
   {
    "duration": 31,
    "start_time": "2022-04-17T07:45:37.460Z"
   },
   {
    "duration": 17,
    "start_time": "2022-04-17T07:45:37.493Z"
   },
   {
    "duration": 17,
    "start_time": "2022-04-17T07:46:38.837Z"
   },
   {
    "duration": 32,
    "start_time": "2022-04-17T07:46:58.381Z"
   },
   {
    "duration": 3,
    "start_time": "2022-04-17T07:47:03.177Z"
   },
   {
    "duration": 211,
    "start_time": "2022-04-17T07:47:03.183Z"
   },
   {
    "duration": 32,
    "start_time": "2022-04-17T07:47:03.397Z"
   },
   {
    "duration": 61,
    "start_time": "2022-04-17T07:47:03.432Z"
   },
   {
    "duration": 4,
    "start_time": "2022-04-17T07:47:03.496Z"
   },
   {
    "duration": 9,
    "start_time": "2022-04-17T07:47:03.502Z"
   },
   {
    "duration": 39,
    "start_time": "2022-04-17T07:47:03.513Z"
   },
   {
    "duration": 27,
    "start_time": "2022-04-17T07:47:03.554Z"
   },
   {
    "duration": 185,
    "start_time": "2022-04-17T07:47:03.583Z"
   },
   {
    "duration": 28,
    "start_time": "2022-04-17T07:47:03.770Z"
   },
   {
    "duration": 56,
    "start_time": "2022-04-17T07:47:03.802Z"
   },
   {
    "duration": 23,
    "start_time": "2022-04-17T07:47:03.860Z"
   },
   {
    "duration": 130,
    "start_time": "2022-04-17T07:47:03.885Z"
   },
   {
    "duration": 35,
    "start_time": "2022-04-17T07:47:04.017Z"
   },
   {
    "duration": 42,
    "start_time": "2022-04-17T07:47:04.054Z"
   },
   {
    "duration": 18,
    "start_time": "2022-04-17T07:47:04.098Z"
   },
   {
    "duration": 35,
    "start_time": "2022-04-17T07:47:04.118Z"
   },
   {
    "duration": 29,
    "start_time": "2022-04-17T07:47:04.155Z"
   },
   {
    "duration": 15,
    "start_time": "2022-04-17T07:47:04.186Z"
   },
   {
    "duration": 12,
    "start_time": "2022-04-17T07:47:04.202Z"
   },
   {
    "duration": 41,
    "start_time": "2022-04-17T07:47:04.217Z"
   },
   {
    "duration": 10,
    "start_time": "2022-04-17T07:47:04.260Z"
   },
   {
    "duration": 6,
    "start_time": "2022-04-17T07:47:04.273Z"
   },
   {
    "duration": 15,
    "start_time": "2022-04-17T07:47:04.281Z"
   },
   {
    "duration": 101,
    "start_time": "2022-04-17T07:47:04.299Z"
   },
   {
    "duration": 77,
    "start_time": "2022-04-17T07:47:04.402Z"
   },
   {
    "duration": 33,
    "start_time": "2022-04-17T07:47:04.481Z"
   },
   {
    "duration": 12,
    "start_time": "2022-04-17T07:47:04.516Z"
   },
   {
    "duration": 42,
    "start_time": "2022-04-17T07:47:04.533Z"
   },
   {
    "duration": 14,
    "start_time": "2022-04-17T07:47:04.577Z"
   },
   {
    "duration": 18,
    "start_time": "2022-04-17T07:47:04.593Z"
   },
   {
    "duration": 59,
    "start_time": "2022-04-17T07:47:04.613Z"
   },
   {
    "duration": 17,
    "start_time": "2022-04-17T07:47:04.675Z"
   },
   {
    "duration": 11,
    "start_time": "2022-04-17T07:47:04.694Z"
   },
   {
    "duration": 51,
    "start_time": "2022-04-17T07:47:04.707Z"
   },
   {
    "duration": 49,
    "start_time": "2022-04-17T07:52:48.161Z"
   },
   {
    "duration": 3,
    "start_time": "2022-04-17T07:53:25.388Z"
   },
   {
    "duration": 206,
    "start_time": "2022-04-17T07:53:25.394Z"
   },
   {
    "duration": 50,
    "start_time": "2022-04-17T07:53:25.603Z"
   },
   {
    "duration": 44,
    "start_time": "2022-04-17T07:53:25.655Z"
   },
   {
    "duration": 4,
    "start_time": "2022-04-17T07:53:25.702Z"
   },
   {
    "duration": 11,
    "start_time": "2022-04-17T07:53:25.708Z"
   },
   {
    "duration": 38,
    "start_time": "2022-04-17T07:53:25.721Z"
   },
   {
    "duration": 26,
    "start_time": "2022-04-17T07:53:25.762Z"
   },
   {
    "duration": 193,
    "start_time": "2022-04-17T07:53:25.791Z"
   },
   {
    "duration": 30,
    "start_time": "2022-04-17T07:53:25.986Z"
   },
   {
    "duration": 57,
    "start_time": "2022-04-17T07:53:26.021Z"
   },
   {
    "duration": 25,
    "start_time": "2022-04-17T07:53:26.080Z"
   },
   {
    "duration": 137,
    "start_time": "2022-04-17T07:53:26.108Z"
   },
   {
    "duration": 25,
    "start_time": "2022-04-17T07:53:26.251Z"
   },
   {
    "duration": 43,
    "start_time": "2022-04-17T07:53:26.278Z"
   },
   {
    "duration": 38,
    "start_time": "2022-04-17T07:53:26.323Z"
   },
   {
    "duration": 14,
    "start_time": "2022-04-17T07:53:26.364Z"
   },
   {
    "duration": 29,
    "start_time": "2022-04-17T07:53:26.380Z"
   },
   {
    "duration": 42,
    "start_time": "2022-04-17T07:53:26.411Z"
   },
   {
    "duration": 10,
    "start_time": "2022-04-17T07:53:26.456Z"
   },
   {
    "duration": 17,
    "start_time": "2022-04-17T07:53:26.468Z"
   },
   {
    "duration": 10,
    "start_time": "2022-04-17T07:53:26.488Z"
   },
   {
    "duration": 5,
    "start_time": "2022-04-17T07:53:26.500Z"
   },
   {
    "duration": 54,
    "start_time": "2022-04-17T07:53:26.507Z"
   },
   {
    "duration": 88,
    "start_time": "2022-04-17T07:53:26.563Z"
   },
   {
    "duration": 54,
    "start_time": "2022-04-17T07:53:26.654Z"
   },
   {
    "duration": 89,
    "start_time": "2022-04-17T07:53:26.710Z"
   },
   {
    "duration": 33,
    "start_time": "2022-04-17T07:53:26.801Z"
   },
   {
    "duration": 12,
    "start_time": "2022-04-17T07:53:26.855Z"
   },
   {
    "duration": 25,
    "start_time": "2022-04-17T07:53:26.869Z"
   },
   {
    "duration": 13,
    "start_time": "2022-04-17T07:53:26.896Z"
   },
   {
    "duration": 41,
    "start_time": "2022-04-17T07:53:26.912Z"
   },
   {
    "duration": 32,
    "start_time": "2022-04-17T07:53:26.955Z"
   },
   {
    "duration": 18,
    "start_time": "2022-04-17T07:53:26.990Z"
   },
   {
    "duration": 75,
    "start_time": "2022-04-17T07:58:43.958Z"
   },
   {
    "duration": 91,
    "start_time": "2022-04-17T07:59:24.838Z"
   },
   {
    "duration": 75,
    "start_time": "2022-04-17T07:59:28.237Z"
   },
   {
    "duration": 67,
    "start_time": "2022-04-17T08:01:33.487Z"
   },
   {
    "duration": 3,
    "start_time": "2022-04-17T08:01:38.587Z"
   },
   {
    "duration": 212,
    "start_time": "2022-04-17T08:01:38.593Z"
   },
   {
    "duration": 46,
    "start_time": "2022-04-17T08:01:38.807Z"
   },
   {
    "duration": 44,
    "start_time": "2022-04-17T08:01:38.856Z"
   },
   {
    "duration": 3,
    "start_time": "2022-04-17T08:01:38.902Z"
   },
   {
    "duration": 10,
    "start_time": "2022-04-17T08:01:38.907Z"
   },
   {
    "duration": 39,
    "start_time": "2022-04-17T08:01:38.920Z"
   },
   {
    "duration": 24,
    "start_time": "2022-04-17T08:01:38.961Z"
   },
   {
    "duration": 180,
    "start_time": "2022-04-17T08:01:38.989Z"
   },
   {
    "duration": 28,
    "start_time": "2022-04-17T08:01:39.171Z"
   },
   {
    "duration": 57,
    "start_time": "2022-04-17T08:01:39.201Z"
   },
   {
    "duration": 23,
    "start_time": "2022-04-17T08:01:39.260Z"
   },
   {
    "duration": 125,
    "start_time": "2022-04-17T08:01:39.286Z"
   },
   {
    "duration": 24,
    "start_time": "2022-04-17T08:01:39.414Z"
   },
   {
    "duration": 51,
    "start_time": "2022-04-17T08:01:39.440Z"
   },
   {
    "duration": 18,
    "start_time": "2022-04-17T08:01:39.493Z"
   },
   {
    "duration": 39,
    "start_time": "2022-04-17T08:01:39.514Z"
   },
   {
    "duration": 30,
    "start_time": "2022-04-17T08:01:39.555Z"
   },
   {
    "duration": 14,
    "start_time": "2022-04-17T08:01:39.587Z"
   },
   {
    "duration": 8,
    "start_time": "2022-04-17T08:01:39.603Z"
   },
   {
    "duration": 41,
    "start_time": "2022-04-17T08:01:39.613Z"
   },
   {
    "duration": 9,
    "start_time": "2022-04-17T08:01:39.656Z"
   },
   {
    "duration": 6,
    "start_time": "2022-04-17T08:01:39.668Z"
   },
   {
    "duration": 16,
    "start_time": "2022-04-17T08:01:39.678Z"
   },
   {
    "duration": 108,
    "start_time": "2022-04-17T08:01:39.696Z"
   },
   {
    "duration": 5,
    "start_time": "2022-04-17T08:01:39.806Z"
   },
   {
    "duration": 72,
    "start_time": "2022-04-17T08:01:39.813Z"
   },
   {
    "duration": 88,
    "start_time": "2022-04-17T08:01:39.887Z"
   },
   {
    "duration": 32,
    "start_time": "2022-04-17T08:01:39.977Z"
   },
   {
    "duration": 14,
    "start_time": "2022-04-17T08:01:40.011Z"
   },
   {
    "duration": 48,
    "start_time": "2022-04-17T08:01:40.027Z"
   },
   {
    "duration": 14,
    "start_time": "2022-04-17T08:01:40.077Z"
   },
   {
    "duration": 15,
    "start_time": "2022-04-17T08:01:40.093Z"
   },
   {
    "duration": 64,
    "start_time": "2022-04-17T08:01:40.110Z"
   },
   {
    "duration": 17,
    "start_time": "2022-04-17T08:01:40.177Z"
   },
   {
    "duration": 114,
    "start_time": "2022-04-17T08:02:59.824Z"
   },
   {
    "duration": 21,
    "start_time": "2022-04-17T08:03:13.754Z"
   },
   {
    "duration": 96,
    "start_time": "2022-04-17T08:03:26.113Z"
   },
   {
    "duration": 40,
    "start_time": "2022-04-17T08:03:29.192Z"
   },
   {
    "duration": 25,
    "start_time": "2022-04-17T08:03:31.008Z"
   },
   {
    "duration": 4,
    "start_time": "2022-04-17T08:03:34.435Z"
   },
   {
    "duration": 219,
    "start_time": "2022-04-17T08:03:34.441Z"
   },
   {
    "duration": 33,
    "start_time": "2022-04-17T08:03:34.662Z"
   },
   {
    "duration": 64,
    "start_time": "2022-04-17T08:03:34.697Z"
   },
   {
    "duration": 3,
    "start_time": "2022-04-17T08:03:34.764Z"
   },
   {
    "duration": 15,
    "start_time": "2022-04-17T08:03:34.769Z"
   },
   {
    "duration": 14,
    "start_time": "2022-04-17T08:03:34.786Z"
   },
   {
    "duration": 54,
    "start_time": "2022-04-17T08:03:34.802Z"
   },
   {
    "duration": 172,
    "start_time": "2022-04-17T08:03:34.858Z"
   },
   {
    "duration": 33,
    "start_time": "2022-04-17T08:03:35.032Z"
   },
   {
    "duration": 35,
    "start_time": "2022-04-17T08:03:35.068Z"
   },
   {
    "duration": 56,
    "start_time": "2022-04-17T08:03:35.106Z"
   },
   {
    "duration": 115,
    "start_time": "2022-04-17T08:03:35.164Z"
   },
   {
    "duration": 27,
    "start_time": "2022-04-17T08:03:35.281Z"
   },
   {
    "duration": 70,
    "start_time": "2022-04-17T08:03:35.311Z"
   },
   {
    "duration": 20,
    "start_time": "2022-04-17T08:03:35.384Z"
   },
   {
    "duration": 14,
    "start_time": "2022-04-17T08:03:35.406Z"
   },
   {
    "duration": 45,
    "start_time": "2022-04-17T08:03:35.422Z"
   },
   {
    "duration": 15,
    "start_time": "2022-04-17T08:03:35.470Z"
   },
   {
    "duration": 9,
    "start_time": "2022-04-17T08:03:35.487Z"
   },
   {
    "duration": 18,
    "start_time": "2022-04-17T08:03:35.498Z"
   },
   {
    "duration": 39,
    "start_time": "2022-04-17T08:03:35.518Z"
   },
   {
    "duration": 6,
    "start_time": "2022-04-17T08:03:35.559Z"
   },
   {
    "duration": 15,
    "start_time": "2022-04-17T08:03:35.567Z"
   },
   {
    "duration": 107,
    "start_time": "2022-04-17T08:03:35.585Z"
   },
   {
    "duration": 6,
    "start_time": "2022-04-17T08:03:35.694Z"
   },
   {
    "duration": 98,
    "start_time": "2022-04-17T08:03:35.702Z"
   },
   {
    "duration": 131,
    "start_time": "2022-04-17T08:03:35.803Z"
   },
   {
    "duration": 62,
    "start_time": "2022-04-17T08:03:35.939Z"
   },
   {
    "duration": 14,
    "start_time": "2022-04-17T08:03:36.003Z"
   },
   {
    "duration": 54,
    "start_time": "2022-04-17T08:03:36.020Z"
   },
   {
    "duration": 14,
    "start_time": "2022-04-17T08:03:36.077Z"
   },
   {
    "duration": 17,
    "start_time": "2022-04-17T08:03:36.093Z"
   },
   {
    "duration": 56,
    "start_time": "2022-04-17T08:03:36.112Z"
   },
   {
    "duration": 18,
    "start_time": "2022-04-17T08:03:36.170Z"
   },
   {
    "duration": 43,
    "start_time": "2022-04-17T08:04:24.690Z"
   },
   {
    "duration": 15,
    "start_time": "2022-04-17T08:04:29.154Z"
   },
   {
    "duration": 16,
    "start_time": "2022-04-17T08:04:57.594Z"
   },
   {
    "duration": 37,
    "start_time": "2022-04-17T08:04:58.962Z"
   },
   {
    "duration": 17,
    "start_time": "2022-04-17T08:05:07.626Z"
   },
   {
    "duration": 469,
    "start_time": "2022-04-17T08:12:09.831Z"
   },
   {
    "duration": 129,
    "start_time": "2022-04-17T08:12:31.552Z"
   },
   {
    "duration": 50,
    "start_time": "2022-04-17T08:13:49.665Z"
   },
   {
    "duration": 60,
    "start_time": "2022-04-17T08:14:25.682Z"
   },
   {
    "duration": 39,
    "start_time": "2022-04-17T08:15:41.050Z"
   },
   {
    "duration": 23,
    "start_time": "2022-04-17T08:16:17.844Z"
   },
   {
    "duration": 5,
    "start_time": "2022-04-17T08:21:06.216Z"
   },
   {
    "duration": 6,
    "start_time": "2022-04-17T08:23:17.193Z"
   },
   {
    "duration": 1390,
    "start_time": "2022-04-17T08:23:22.552Z"
   },
   {
    "duration": 1492,
    "start_time": "2022-04-17T08:23:24.489Z"
   },
   {
    "duration": 2316,
    "start_time": "2022-04-17T08:23:59.073Z"
   },
   {
    "duration": 4,
    "start_time": "2022-04-17T08:24:14.863Z"
   },
   {
    "duration": 240,
    "start_time": "2022-04-17T08:24:14.870Z"
   },
   {
    "duration": 42,
    "start_time": "2022-04-17T08:24:15.113Z"
   },
   {
    "duration": 47,
    "start_time": "2022-04-17T08:24:15.158Z"
   },
   {
    "duration": 3,
    "start_time": "2022-04-17T08:24:15.208Z"
   },
   {
    "duration": 11,
    "start_time": "2022-04-17T08:24:15.213Z"
   },
   {
    "duration": 15,
    "start_time": "2022-04-17T08:24:15.253Z"
   },
   {
    "duration": 26,
    "start_time": "2022-04-17T08:24:15.270Z"
   },
   {
    "duration": 209,
    "start_time": "2022-04-17T08:24:15.299Z"
   },
   {
    "duration": 28,
    "start_time": "2022-04-17T08:24:15.510Z"
   },
   {
    "duration": 38,
    "start_time": "2022-04-17T08:24:15.558Z"
   },
   {
    "duration": 23,
    "start_time": "2022-04-17T08:24:15.598Z"
   },
   {
    "duration": 146,
    "start_time": "2022-04-17T08:24:15.623Z"
   },
   {
    "duration": 25,
    "start_time": "2022-04-17T08:24:15.771Z"
   },
   {
    "duration": 75,
    "start_time": "2022-04-17T08:24:15.798Z"
   },
   {
    "duration": 19,
    "start_time": "2022-04-17T08:24:15.875Z"
   },
   {
    "duration": 15,
    "start_time": "2022-04-17T08:24:15.896Z"
   },
   {
    "duration": 44,
    "start_time": "2022-04-17T08:24:15.914Z"
   },
   {
    "duration": 37,
    "start_time": "2022-04-17T08:24:15.961Z"
   },
   {
    "duration": 15,
    "start_time": "2022-04-17T08:24:16.001Z"
   },
   {
    "duration": 12,
    "start_time": "2022-04-17T08:24:16.018Z"
   },
   {
    "duration": 36,
    "start_time": "2022-04-17T08:24:16.033Z"
   },
   {
    "duration": 10,
    "start_time": "2022-04-17T08:24:16.071Z"
   },
   {
    "duration": 9,
    "start_time": "2022-04-17T08:24:16.083Z"
   },
   {
    "duration": 20,
    "start_time": "2022-04-17T08:24:16.094Z"
   },
   {
    "duration": 106,
    "start_time": "2022-04-17T08:24:16.116Z"
   },
   {
    "duration": 5,
    "start_time": "2022-04-17T08:24:16.225Z"
   },
   {
    "duration": 95,
    "start_time": "2022-04-17T08:24:16.232Z"
   },
   {
    "duration": 152,
    "start_time": "2022-04-17T08:24:16.331Z"
   },
   {
    "duration": 68,
    "start_time": "2022-04-17T08:24:16.485Z"
   },
   {
    "duration": 14,
    "start_time": "2022-04-17T08:24:16.555Z"
   },
   {
    "duration": 85,
    "start_time": "2022-04-17T08:24:16.572Z"
   },
   {
    "duration": 21,
    "start_time": "2022-04-17T08:24:16.659Z"
   },
   {
    "duration": 15,
    "start_time": "2022-04-17T08:24:16.682Z"
   },
   {
    "duration": 74,
    "start_time": "2022-04-17T08:24:16.699Z"
   },
   {
    "duration": 17,
    "start_time": "2022-04-17T08:24:16.776Z"
   },
   {
    "duration": 15,
    "start_time": "2022-04-17T08:24:28.850Z"
   },
   {
    "duration": 4,
    "start_time": "2022-04-17T08:24:35.069Z"
   },
   {
    "duration": 226,
    "start_time": "2022-04-17T08:24:35.076Z"
   },
   {
    "duration": 55,
    "start_time": "2022-04-17T08:24:35.305Z"
   },
   {
    "duration": 46,
    "start_time": "2022-04-17T08:24:35.363Z"
   },
   {
    "duration": 4,
    "start_time": "2022-04-17T08:24:35.413Z"
   },
   {
    "duration": 34,
    "start_time": "2022-04-17T08:24:35.420Z"
   },
   {
    "duration": 14,
    "start_time": "2022-04-17T08:24:35.456Z"
   },
   {
    "duration": 27,
    "start_time": "2022-04-17T08:24:35.472Z"
   },
   {
    "duration": 200,
    "start_time": "2022-04-17T08:24:35.502Z"
   },
   {
    "duration": 29,
    "start_time": "2022-04-17T08:24:35.704Z"
   },
   {
    "duration": 46,
    "start_time": "2022-04-17T08:24:35.737Z"
   },
   {
    "duration": 31,
    "start_time": "2022-04-17T08:24:35.785Z"
   },
   {
    "duration": 142,
    "start_time": "2022-04-17T08:24:35.819Z"
   },
   {
    "duration": 27,
    "start_time": "2022-04-17T08:24:35.963Z"
   },
   {
    "duration": 65,
    "start_time": "2022-04-17T08:24:35.992Z"
   },
   {
    "duration": 19,
    "start_time": "2022-04-17T08:24:36.059Z"
   },
   {
    "duration": 15,
    "start_time": "2022-04-17T08:24:36.080Z"
   },
   {
    "duration": 14,
    "start_time": "2022-04-17T08:24:36.097Z"
   },
   {
    "duration": 51,
    "start_time": "2022-04-17T08:24:36.113Z"
   },
   {
    "duration": 16,
    "start_time": "2022-04-17T08:24:36.165Z"
   },
   {
    "duration": 9,
    "start_time": "2022-04-17T08:24:36.183Z"
   },
   {
    "duration": 18,
    "start_time": "2022-04-17T08:24:36.194Z"
   },
   {
    "duration": 39,
    "start_time": "2022-04-17T08:24:36.214Z"
   },
   {
    "duration": 6,
    "start_time": "2022-04-17T08:24:36.255Z"
   },
   {
    "duration": 17,
    "start_time": "2022-04-17T08:24:36.264Z"
   },
   {
    "duration": 104,
    "start_time": "2022-04-17T08:24:36.284Z"
   },
   {
    "duration": 6,
    "start_time": "2022-04-17T08:24:36.391Z"
   },
   {
    "duration": 108,
    "start_time": "2022-04-17T08:24:36.400Z"
   },
   {
    "duration": 138,
    "start_time": "2022-04-17T08:24:36.515Z"
   },
   {
    "duration": 54,
    "start_time": "2022-04-17T08:24:36.656Z"
   },
   {
    "duration": 14,
    "start_time": "2022-04-17T08:24:36.712Z"
   },
   {
    "duration": 64,
    "start_time": "2022-04-17T08:24:36.752Z"
   },
   {
    "duration": 51,
    "start_time": "2022-04-17T08:24:36.819Z"
   },
   {
    "duration": 17,
    "start_time": "2022-04-17T08:24:36.873Z"
   },
   {
    "duration": 72,
    "start_time": "2022-04-17T08:24:36.892Z"
   },
   {
    "duration": 18,
    "start_time": "2022-04-17T08:24:36.966Z"
   },
   {
    "duration": 15,
    "start_time": "2022-04-17T08:28:37.773Z"
   },
   {
    "duration": 20,
    "start_time": "2022-04-17T08:28:59.526Z"
   },
   {
    "duration": 13,
    "start_time": "2022-04-17T08:29:02.837Z"
   },
   {
    "duration": 40,
    "start_time": "2022-04-17T08:29:08.141Z"
   },
   {
    "duration": 3,
    "start_time": "2022-04-17T08:29:24.809Z"
   },
   {
    "duration": 223,
    "start_time": "2022-04-17T08:29:24.815Z"
   },
   {
    "duration": 42,
    "start_time": "2022-04-17T08:29:25.041Z"
   },
   {
    "duration": 45,
    "start_time": "2022-04-17T08:29:25.085Z"
   },
   {
    "duration": 20,
    "start_time": "2022-04-17T08:29:25.133Z"
   },
   {
    "duration": 12,
    "start_time": "2022-04-17T08:29:25.155Z"
   },
   {
    "duration": 14,
    "start_time": "2022-04-17T08:29:25.169Z"
   },
   {
    "duration": 27,
    "start_time": "2022-04-17T08:29:25.185Z"
   },
   {
    "duration": 198,
    "start_time": "2022-04-17T08:29:25.214Z"
   },
   {
    "duration": 41,
    "start_time": "2022-04-17T08:29:25.414Z"
   },
   {
    "duration": 35,
    "start_time": "2022-04-17T08:29:25.459Z"
   },
   {
    "duration": 24,
    "start_time": "2022-04-17T08:29:25.496Z"
   },
   {
    "duration": 149,
    "start_time": "2022-04-17T08:29:25.522Z"
   },
   {
    "duration": 24,
    "start_time": "2022-04-17T08:29:25.673Z"
   },
   {
    "duration": 59,
    "start_time": "2022-04-17T08:29:25.699Z"
   },
   {
    "duration": 20,
    "start_time": "2022-04-17T08:29:25.761Z"
   },
   {
    "duration": 15,
    "start_time": "2022-04-17T08:29:25.784Z"
   },
   {
    "duration": 16,
    "start_time": "2022-04-17T08:29:25.801Z"
   },
   {
    "duration": 59,
    "start_time": "2022-04-17T08:29:25.819Z"
   },
   {
    "duration": 16,
    "start_time": "2022-04-17T08:29:25.880Z"
   },
   {
    "duration": 13,
    "start_time": "2022-04-17T08:29:25.898Z"
   },
   {
    "duration": 38,
    "start_time": "2022-04-17T08:29:25.914Z"
   },
   {
    "duration": 12,
    "start_time": "2022-04-17T08:29:25.954Z"
   },
   {
    "duration": 7,
    "start_time": "2022-04-17T08:29:25.969Z"
   },
   {
    "duration": 22,
    "start_time": "2022-04-17T08:29:25.979Z"
   },
   {
    "duration": 113,
    "start_time": "2022-04-17T08:29:26.004Z"
   },
   {
    "duration": 6,
    "start_time": "2022-04-17T08:29:26.119Z"
   },
   {
    "duration": 153,
    "start_time": "2022-04-17T08:29:26.128Z"
   },
   {
    "duration": 193,
    "start_time": "2022-04-17T08:29:26.288Z"
   },
   {
    "duration": 92,
    "start_time": "2022-04-17T08:29:26.484Z"
   },
   {
    "duration": 21,
    "start_time": "2022-04-17T08:29:26.579Z"
   },
   {
    "duration": 113,
    "start_time": "2022-04-17T08:29:26.603Z"
   },
   {
    "duration": 41,
    "start_time": "2022-04-17T08:29:26.719Z"
   },
   {
    "duration": 19,
    "start_time": "2022-04-17T08:29:26.763Z"
   },
   {
    "duration": 38,
    "start_time": "2022-04-17T08:29:26.784Z"
   },
   {
    "duration": 43,
    "start_time": "2022-04-17T08:29:26.824Z"
   },
   {
    "duration": 35,
    "start_time": "2022-04-17T08:29:48.270Z"
   },
   {
    "duration": 4,
    "start_time": "2022-04-17T08:29:51.955Z"
   },
   {
    "duration": 270,
    "start_time": "2022-04-17T08:29:51.962Z"
   },
   {
    "duration": 38,
    "start_time": "2022-04-17T08:29:52.235Z"
   },
   {
    "duration": 45,
    "start_time": "2022-04-17T08:29:52.276Z"
   },
   {
    "duration": 28,
    "start_time": "2022-04-17T08:29:52.326Z"
   },
   {
    "duration": 9,
    "start_time": "2022-04-17T08:29:52.356Z"
   },
   {
    "duration": 11,
    "start_time": "2022-04-17T08:29:52.367Z"
   },
   {
    "duration": 27,
    "start_time": "2022-04-17T08:29:52.380Z"
   },
   {
    "duration": 293,
    "start_time": "2022-04-17T08:29:52.410Z"
   },
   {
    "duration": 31,
    "start_time": "2022-04-17T08:29:52.705Z"
   },
   {
    "duration": 34,
    "start_time": "2022-04-17T08:29:52.754Z"
   },
   {
    "duration": 23,
    "start_time": "2022-04-17T08:29:52.790Z"
   },
   {
    "duration": 145,
    "start_time": "2022-04-17T08:29:52.815Z"
   },
   {
    "duration": 27,
    "start_time": "2022-04-17T08:29:52.963Z"
   },
   {
    "duration": 73,
    "start_time": "2022-04-17T08:29:52.993Z"
   },
   {
    "duration": 19,
    "start_time": "2022-04-17T08:29:53.068Z"
   },
   {
    "duration": 16,
    "start_time": "2022-04-17T08:29:53.089Z"
   },
   {
    "duration": 14,
    "start_time": "2022-04-17T08:29:53.108Z"
   },
   {
    "duration": 29,
    "start_time": "2022-04-17T08:29:53.152Z"
   },
   {
    "duration": 15,
    "start_time": "2022-04-17T08:29:53.183Z"
   },
   {
    "duration": 11,
    "start_time": "2022-04-17T08:29:53.201Z"
   },
   {
    "duration": 44,
    "start_time": "2022-04-17T08:29:53.214Z"
   },
   {
    "duration": 12,
    "start_time": "2022-04-17T08:29:53.260Z"
   },
   {
    "duration": 11,
    "start_time": "2022-04-17T08:29:53.274Z"
   },
   {
    "duration": 17,
    "start_time": "2022-04-17T08:29:53.287Z"
   },
   {
    "duration": 95,
    "start_time": "2022-04-17T08:29:53.306Z"
   },
   {
    "duration": 6,
    "start_time": "2022-04-17T08:29:53.403Z"
   },
   {
    "duration": 118,
    "start_time": "2022-04-17T08:29:53.412Z"
   },
   {
    "duration": 135,
    "start_time": "2022-04-17T08:29:53.535Z"
   },
   {
    "duration": 54,
    "start_time": "2022-04-17T08:29:53.672Z"
   },
   {
    "duration": 31,
    "start_time": "2022-04-17T08:29:53.728Z"
   },
   {
    "duration": 68,
    "start_time": "2022-04-17T08:29:53.761Z"
   },
   {
    "duration": 37,
    "start_time": "2022-04-17T08:29:53.831Z"
   },
   {
    "duration": 18,
    "start_time": "2022-04-17T08:29:53.870Z"
   },
   {
    "duration": 37,
    "start_time": "2022-04-17T08:29:53.890Z"
   },
   {
    "duration": 38,
    "start_time": "2022-04-17T08:29:53.929Z"
   },
   {
    "duration": 15,
    "start_time": "2022-04-17T08:30:20.254Z"
   },
   {
    "duration": 19,
    "start_time": "2022-04-17T08:33:56.177Z"
   },
   {
    "duration": 9,
    "start_time": "2022-04-17T08:34:17.561Z"
   },
   {
    "duration": 13,
    "start_time": "2022-04-17T08:34:23.474Z"
   },
   {
    "duration": 6,
    "start_time": "2022-04-17T08:36:54.556Z"
   },
   {
    "duration": 28,
    "start_time": "2022-04-17T08:37:01.891Z"
   },
   {
    "duration": 16,
    "start_time": "2022-04-17T08:40:37.071Z"
   },
   {
    "duration": 17,
    "start_time": "2022-04-17T08:41:01.095Z"
   },
   {
    "duration": 17,
    "start_time": "2022-04-17T08:41:13.879Z"
   },
   {
    "duration": 16,
    "start_time": "2022-04-17T08:41:27.872Z"
   },
   {
    "duration": 16,
    "start_time": "2022-04-17T08:41:50.007Z"
   },
   {
    "duration": 92,
    "start_time": "2022-04-17T08:43:38.584Z"
   },
   {
    "duration": 96,
    "start_time": "2022-04-17T08:43:53.919Z"
   },
   {
    "duration": 1749,
    "start_time": "2022-04-17T08:44:05.936Z"
   },
   {
    "duration": 3,
    "start_time": "2022-04-17T08:44:20.661Z"
   },
   {
    "duration": 224,
    "start_time": "2022-04-17T08:44:20.668Z"
   },
   {
    "duration": 34,
    "start_time": "2022-04-17T08:44:20.895Z"
   },
   {
    "duration": 61,
    "start_time": "2022-04-17T08:44:20.931Z"
   },
   {
    "duration": 3,
    "start_time": "2022-04-17T08:44:20.995Z"
   },
   {
    "duration": 18,
    "start_time": "2022-04-17T08:44:21.000Z"
   },
   {
    "duration": 32,
    "start_time": "2022-04-17T08:44:21.020Z"
   },
   {
    "duration": 26,
    "start_time": "2022-04-17T08:44:21.054Z"
   },
   {
    "duration": 178,
    "start_time": "2022-04-17T08:44:21.082Z"
   },
   {
    "duration": 28,
    "start_time": "2022-04-17T08:44:21.262Z"
   },
   {
    "duration": 57,
    "start_time": "2022-04-17T08:44:21.295Z"
   },
   {
    "duration": 25,
    "start_time": "2022-04-17T08:44:21.354Z"
   },
   {
    "duration": 128,
    "start_time": "2022-04-17T08:44:21.381Z"
   },
   {
    "duration": 41,
    "start_time": "2022-04-17T08:44:21.511Z"
   },
   {
    "duration": 43,
    "start_time": "2022-04-17T08:44:21.554Z"
   },
   {
    "duration": 20,
    "start_time": "2022-04-17T08:44:21.599Z"
   },
   {
    "duration": 39,
    "start_time": "2022-04-17T08:44:21.620Z"
   },
   {
    "duration": 17,
    "start_time": "2022-04-17T08:44:21.661Z"
   },
   {
    "duration": 32,
    "start_time": "2022-04-17T08:44:21.680Z"
   },
   {
    "duration": 16,
    "start_time": "2022-04-17T08:44:21.714Z"
   },
   {
    "duration": 8,
    "start_time": "2022-04-17T08:44:21.752Z"
   },
   {
    "duration": 18,
    "start_time": "2022-04-17T08:44:21.763Z"
   },
   {
    "duration": 11,
    "start_time": "2022-04-17T08:44:21.783Z"
   },
   {
    "duration": 7,
    "start_time": "2022-04-17T08:44:21.796Z"
   },
   {
    "duration": 51,
    "start_time": "2022-04-17T08:44:21.805Z"
   },
   {
    "duration": 74,
    "start_time": "2022-04-17T08:44:21.859Z"
   },
   {
    "duration": 5,
    "start_time": "2022-04-17T08:44:21.935Z"
   },
   {
    "duration": 97,
    "start_time": "2022-04-17T08:44:21.943Z"
   },
   {
    "duration": 135,
    "start_time": "2022-04-17T08:44:22.045Z"
   },
   {
    "duration": 54,
    "start_time": "2022-04-17T08:44:22.182Z"
   },
   {
    "duration": 22,
    "start_time": "2022-04-17T08:44:22.239Z"
   },
   {
    "duration": 64,
    "start_time": "2022-04-17T08:44:22.263Z"
   },
   {
    "duration": 33,
    "start_time": "2022-04-17T08:44:22.329Z"
   },
   {
    "duration": 16,
    "start_time": "2022-04-17T08:44:22.364Z"
   },
   {
    "duration": 90,
    "start_time": "2022-04-17T08:44:22.382Z"
   },
   {
    "duration": 19,
    "start_time": "2022-04-17T08:44:22.474Z"
   },
   {
    "duration": 68,
    "start_time": "2022-04-17T08:44:22.496Z"
   },
   {
    "duration": 30,
    "start_time": "2022-04-17T08:44:58.794Z"
   },
   {
    "duration": 38,
    "start_time": "2022-04-17T08:45:05.761Z"
   },
   {
    "duration": 53,
    "start_time": "2022-04-17T08:45:46.906Z"
   },
   {
    "duration": 52,
    "start_time": "2022-04-17T08:46:01.331Z"
   },
   {
    "duration": 3,
    "start_time": "2022-04-17T08:50:46.130Z"
   },
   {
    "duration": 236,
    "start_time": "2022-04-17T08:50:46.136Z"
   },
   {
    "duration": 34,
    "start_time": "2022-04-17T08:50:46.375Z"
   },
   {
    "duration": 70,
    "start_time": "2022-04-17T08:50:46.412Z"
   },
   {
    "duration": 4,
    "start_time": "2022-04-17T08:50:46.485Z"
   },
   {
    "duration": 12,
    "start_time": "2022-04-17T08:50:46.491Z"
   },
   {
    "duration": 33,
    "start_time": "2022-04-17T08:50:46.505Z"
   },
   {
    "duration": 47,
    "start_time": "2022-04-17T08:50:46.541Z"
   },
   {
    "duration": 173,
    "start_time": "2022-04-17T08:50:46.590Z"
   },
   {
    "duration": 29,
    "start_time": "2022-04-17T08:50:46.765Z"
   },
   {
    "duration": 56,
    "start_time": "2022-04-17T08:50:46.797Z"
   },
   {
    "duration": 22,
    "start_time": "2022-04-17T08:50:46.855Z"
   },
   {
    "duration": 124,
    "start_time": "2022-04-17T08:50:46.879Z"
   },
   {
    "duration": 25,
    "start_time": "2022-04-17T08:50:47.005Z"
   },
   {
    "duration": 61,
    "start_time": "2022-04-17T08:50:47.032Z"
   },
   {
    "duration": 19,
    "start_time": "2022-04-17T08:50:47.096Z"
   },
   {
    "duration": 36,
    "start_time": "2022-04-17T08:50:47.117Z"
   },
   {
    "duration": 16,
    "start_time": "2022-04-17T08:50:47.155Z"
   },
   {
    "duration": 32,
    "start_time": "2022-04-17T08:50:47.173Z"
   },
   {
    "duration": 15,
    "start_time": "2022-04-17T08:50:47.207Z"
   },
   {
    "duration": 30,
    "start_time": "2022-04-17T08:50:47.225Z"
   },
   {
    "duration": 18,
    "start_time": "2022-04-17T08:50:47.257Z"
   },
   {
    "duration": 22,
    "start_time": "2022-04-17T08:50:47.277Z"
   },
   {
    "duration": 5,
    "start_time": "2022-04-17T08:50:47.302Z"
   },
   {
    "duration": 15,
    "start_time": "2022-04-17T08:50:47.310Z"
   },
   {
    "duration": 69,
    "start_time": "2022-04-17T08:50:47.352Z"
   },
   {
    "duration": 5,
    "start_time": "2022-04-17T08:50:47.424Z"
   },
   {
    "duration": 84,
    "start_time": "2022-04-17T08:50:47.451Z"
   },
   {
    "duration": 130,
    "start_time": "2022-04-17T08:50:47.552Z"
   },
   {
    "duration": 69,
    "start_time": "2022-04-17T08:50:47.684Z"
   },
   {
    "duration": 14,
    "start_time": "2022-04-17T08:50:47.756Z"
   },
   {
    "duration": 81,
    "start_time": "2022-04-17T08:50:47.772Z"
   },
   {
    "duration": 22,
    "start_time": "2022-04-17T08:50:47.855Z"
   },
   {
    "duration": 16,
    "start_time": "2022-04-17T08:50:47.880Z"
   },
   {
    "duration": 65,
    "start_time": "2022-04-17T08:50:47.899Z"
   },
   {
    "duration": 19,
    "start_time": "2022-04-17T08:50:47.966Z"
   },
   {
    "duration": 65,
    "start_time": "2022-04-17T08:50:47.987Z"
   },
   {
    "duration": 86,
    "start_time": "2022-04-17T08:50:48.055Z"
   },
   {
    "duration": 7,
    "start_time": "2022-04-17T08:51:12.821Z"
   },
   {
    "duration": 7,
    "start_time": "2022-04-17T08:51:23.261Z"
   },
   {
    "duration": 54,
    "start_time": "2022-04-17T08:51:36.453Z"
   },
   {
    "duration": 6,
    "start_time": "2022-04-17T08:55:18.409Z"
   },
   {
    "duration": 39,
    "start_time": "2022-04-17T08:55:29.025Z"
   },
   {
    "duration": 4,
    "start_time": "2022-04-17T08:55:49.124Z"
   },
   {
    "duration": 241,
    "start_time": "2022-04-17T08:55:49.132Z"
   },
   {
    "duration": 35,
    "start_time": "2022-04-17T08:55:49.376Z"
   },
   {
    "duration": 71,
    "start_time": "2022-04-17T08:55:49.413Z"
   },
   {
    "duration": 3,
    "start_time": "2022-04-17T08:55:49.487Z"
   },
   {
    "duration": 8,
    "start_time": "2022-04-17T08:55:49.492Z"
   },
   {
    "duration": 11,
    "start_time": "2022-04-17T08:55:49.503Z"
   },
   {
    "duration": 56,
    "start_time": "2022-04-17T08:55:49.516Z"
   },
   {
    "duration": 173,
    "start_time": "2022-04-17T08:55:49.575Z"
   },
   {
    "duration": 30,
    "start_time": "2022-04-17T08:55:49.752Z"
   },
   {
    "duration": 33,
    "start_time": "2022-04-17T08:55:49.786Z"
   },
   {
    "duration": 47,
    "start_time": "2022-04-17T08:55:49.822Z"
   },
   {
    "duration": 144,
    "start_time": "2022-04-17T08:55:49.872Z"
   },
   {
    "duration": 42,
    "start_time": "2022-04-17T08:55:50.018Z"
   },
   {
    "duration": 44,
    "start_time": "2022-04-17T08:55:50.063Z"
   },
   {
    "duration": 47,
    "start_time": "2022-04-17T08:55:50.110Z"
   },
   {
    "duration": 19,
    "start_time": "2022-04-17T08:55:50.159Z"
   },
   {
    "duration": 17,
    "start_time": "2022-04-17T08:55:50.181Z"
   },
   {
    "duration": 52,
    "start_time": "2022-04-17T08:55:50.201Z"
   },
   {
    "duration": 17,
    "start_time": "2022-04-17T08:55:50.256Z"
   },
   {
    "duration": 10,
    "start_time": "2022-04-17T08:55:50.275Z"
   },
   {
    "duration": 20,
    "start_time": "2022-04-17T08:55:50.287Z"
   },
   {
    "duration": 47,
    "start_time": "2022-04-17T08:55:50.310Z"
   },
   {
    "duration": 9,
    "start_time": "2022-04-17T08:55:50.360Z"
   },
   {
    "duration": 17,
    "start_time": "2022-04-17T08:55:50.372Z"
   },
   {
    "duration": 103,
    "start_time": "2022-04-17T08:55:50.392Z"
   },
   {
    "duration": 7,
    "start_time": "2022-04-17T08:55:50.497Z"
   },
   {
    "duration": 106,
    "start_time": "2022-04-17T08:55:50.507Z"
   },
   {
    "duration": 144,
    "start_time": "2022-04-17T08:55:50.618Z"
   },
   {
    "duration": 55,
    "start_time": "2022-04-17T08:55:50.764Z"
   },
   {
    "duration": 36,
    "start_time": "2022-04-17T08:55:50.821Z"
   },
   {
    "duration": 70,
    "start_time": "2022-04-17T08:55:50.859Z"
   },
   {
    "duration": 41,
    "start_time": "2022-04-17T08:55:50.931Z"
   },
   {
    "duration": 17,
    "start_time": "2022-04-17T08:55:50.975Z"
   },
   {
    "duration": 82,
    "start_time": "2022-04-17T08:55:50.996Z"
   },
   {
    "duration": 22,
    "start_time": "2022-04-17T08:55:51.081Z"
   },
   {
    "duration": 64,
    "start_time": "2022-04-17T08:55:51.105Z"
   },
   {
    "duration": 41,
    "start_time": "2022-04-17T08:55:51.171Z"
   },
   {
    "duration": 38,
    "start_time": "2022-04-17T08:56:06.825Z"
   },
   {
    "duration": 40,
    "start_time": "2022-04-17T08:56:34.698Z"
   },
   {
    "duration": 38,
    "start_time": "2022-04-17T09:01:34.550Z"
   },
   {
    "duration": 13,
    "start_time": "2022-04-17T09:06:00.259Z"
   },
   {
    "duration": 18,
    "start_time": "2022-04-17T09:06:10.977Z"
   },
   {
    "duration": 37,
    "start_time": "2022-04-17T09:06:41.994Z"
   },
   {
    "duration": 42,
    "start_time": "2022-04-17T09:12:59.296Z"
   },
   {
    "duration": 992,
    "start_time": "2022-04-17T09:14:53.129Z"
   },
   {
    "duration": 44,
    "start_time": "2022-04-17T09:15:29.019Z"
   },
   {
    "duration": 45,
    "start_time": "2022-04-17T09:17:08.851Z"
   },
   {
    "duration": 5,
    "start_time": "2022-04-17T09:18:24.635Z"
   },
   {
    "duration": 48,
    "start_time": "2022-04-17T09:18:28.667Z"
   },
   {
    "duration": 3,
    "start_time": "2022-04-17T09:18:35.663Z"
   },
   {
    "duration": 226,
    "start_time": "2022-04-17T09:18:35.669Z"
   },
   {
    "duration": 33,
    "start_time": "2022-04-17T09:18:35.897Z"
   },
   {
    "duration": 55,
    "start_time": "2022-04-17T09:18:35.933Z"
   },
   {
    "duration": 3,
    "start_time": "2022-04-17T09:18:35.992Z"
   },
   {
    "duration": 28,
    "start_time": "2022-04-17T09:18:35.997Z"
   },
   {
    "duration": 40,
    "start_time": "2022-04-17T09:18:36.028Z"
   },
   {
    "duration": 29,
    "start_time": "2022-04-17T09:18:36.070Z"
   },
   {
    "duration": 168,
    "start_time": "2022-04-17T09:18:36.101Z"
   },
   {
    "duration": 27,
    "start_time": "2022-04-17T09:18:36.271Z"
   },
   {
    "duration": 56,
    "start_time": "2022-04-17T09:18:36.304Z"
   },
   {
    "duration": 22,
    "start_time": "2022-04-17T09:18:36.362Z"
   },
   {
    "duration": 118,
    "start_time": "2022-04-17T09:18:36.386Z"
   },
   {
    "duration": 24,
    "start_time": "2022-04-17T09:18:36.506Z"
   },
   {
    "duration": 64,
    "start_time": "2022-04-17T09:18:36.532Z"
   },
   {
    "duration": 18,
    "start_time": "2022-04-17T09:18:36.598Z"
   },
   {
    "duration": 20,
    "start_time": "2022-04-17T09:18:36.619Z"
   },
   {
    "duration": 15,
    "start_time": "2022-04-17T09:18:36.651Z"
   },
   {
    "duration": 33,
    "start_time": "2022-04-17T09:18:36.668Z"
   },
   {
    "duration": 15,
    "start_time": "2022-04-17T09:18:36.703Z"
   },
   {
    "duration": 8,
    "start_time": "2022-04-17T09:18:36.720Z"
   },
   {
    "duration": 16,
    "start_time": "2022-04-17T09:18:36.751Z"
   },
   {
    "duration": 12,
    "start_time": "2022-04-17T09:18:36.769Z"
   },
   {
    "duration": 6,
    "start_time": "2022-04-17T09:18:36.783Z"
   },
   {
    "duration": 18,
    "start_time": "2022-04-17T09:18:36.791Z"
   },
   {
    "duration": 104,
    "start_time": "2022-04-17T09:18:36.811Z"
   },
   {
    "duration": 6,
    "start_time": "2022-04-17T09:18:36.917Z"
   },
   {
    "duration": 95,
    "start_time": "2022-04-17T09:18:36.925Z"
   },
   {
    "duration": 130,
    "start_time": "2022-04-17T09:18:37.025Z"
   },
   {
    "duration": 54,
    "start_time": "2022-04-17T09:18:37.157Z"
   },
   {
    "duration": 13,
    "start_time": "2022-04-17T09:18:37.213Z"
   },
   {
    "duration": 80,
    "start_time": "2022-04-17T09:18:37.228Z"
   },
   {
    "duration": 42,
    "start_time": "2022-04-17T09:18:37.310Z"
   },
   {
    "duration": 15,
    "start_time": "2022-04-17T09:18:37.354Z"
   },
   {
    "duration": 35,
    "start_time": "2022-04-17T09:18:37.372Z"
   },
   {
    "duration": 51,
    "start_time": "2022-04-17T09:18:37.409Z"
   },
   {
    "duration": 37,
    "start_time": "2022-04-17T09:18:37.463Z"
   },
   {
    "duration": 62,
    "start_time": "2022-04-17T09:18:37.502Z"
   },
   {
    "duration": 39,
    "start_time": "2022-04-17T09:20:10.140Z"
   },
   {
    "duration": 45,
    "start_time": "2022-04-17T09:22:23.230Z"
   },
   {
    "duration": 1562,
    "start_time": "2022-04-17T09:45:10.224Z"
   },
   {
    "duration": 9,
    "start_time": "2022-04-17T09:45:35.776Z"
   },
   {
    "duration": 12,
    "start_time": "2022-04-17T09:46:59.977Z"
   },
   {
    "duration": 40,
    "start_time": "2022-04-17T09:47:22.497Z"
   },
   {
    "duration": 39,
    "start_time": "2022-04-17T09:48:25.442Z"
   },
   {
    "duration": 7,
    "start_time": "2022-04-17T09:58:19.482Z"
   },
   {
    "duration": 131,
    "start_time": "2022-04-17T10:08:32.664Z"
   },
   {
    "duration": 102,
    "start_time": "2022-04-17T10:08:38.842Z"
   },
   {
    "duration": 73,
    "start_time": "2022-04-17T10:08:57.887Z"
   },
   {
    "duration": 225,
    "start_time": "2022-04-17T10:09:43.703Z"
   },
   {
    "duration": 5,
    "start_time": "2022-04-17T10:10:47.012Z"
   },
   {
    "duration": 4,
    "start_time": "2022-04-17T10:11:11.193Z"
   },
   {
    "duration": 95,
    "start_time": "2022-04-17T10:11:21.552Z"
   },
   {
    "duration": 23,
    "start_time": "2022-04-17T10:12:38.396Z"
   },
   {
    "duration": 4,
    "start_time": "2022-04-17T10:12:47.092Z"
   },
   {
    "duration": 210,
    "start_time": "2022-04-17T10:12:47.098Z"
   },
   {
    "duration": 47,
    "start_time": "2022-04-17T10:12:47.312Z"
   },
   {
    "duration": 52,
    "start_time": "2022-04-17T10:12:47.362Z"
   },
   {
    "duration": 4,
    "start_time": "2022-04-17T10:12:47.418Z"
   },
   {
    "duration": 32,
    "start_time": "2022-04-17T10:12:47.424Z"
   },
   {
    "duration": 28,
    "start_time": "2022-04-17T10:12:47.459Z"
   },
   {
    "duration": 32,
    "start_time": "2022-04-17T10:12:47.489Z"
   },
   {
    "duration": 176,
    "start_time": "2022-04-17T10:12:47.523Z"
   },
   {
    "duration": 31,
    "start_time": "2022-04-17T10:12:47.701Z"
   },
   {
    "duration": 34,
    "start_time": "2022-04-17T10:12:47.753Z"
   },
   {
    "duration": 29,
    "start_time": "2022-04-17T10:12:47.790Z"
   },
   {
    "duration": 135,
    "start_time": "2022-04-17T10:12:47.822Z"
   },
   {
    "duration": 25,
    "start_time": "2022-04-17T10:12:47.960Z"
   },
   {
    "duration": 70,
    "start_time": "2022-04-17T10:12:47.987Z"
   },
   {
    "duration": 19,
    "start_time": "2022-04-17T10:12:48.059Z"
   },
   {
    "duration": 15,
    "start_time": "2022-04-17T10:12:48.080Z"
   },
   {
    "duration": 21,
    "start_time": "2022-04-17T10:12:48.097Z"
   },
   {
    "duration": 50,
    "start_time": "2022-04-17T10:12:48.120Z"
   },
   {
    "duration": 16,
    "start_time": "2022-04-17T10:12:48.172Z"
   },
   {
    "duration": 10,
    "start_time": "2022-04-17T10:12:48.191Z"
   },
   {
    "duration": 19,
    "start_time": "2022-04-17T10:12:48.203Z"
   },
   {
    "duration": 10,
    "start_time": "2022-04-17T10:12:48.251Z"
   },
   {
    "duration": 6,
    "start_time": "2022-04-17T10:12:48.263Z"
   },
   {
    "duration": 17,
    "start_time": "2022-04-17T10:12:48.271Z"
   },
   {
    "duration": 106,
    "start_time": "2022-04-17T10:12:48.290Z"
   },
   {
    "duration": 5,
    "start_time": "2022-04-17T10:12:48.399Z"
   },
   {
    "duration": 99,
    "start_time": "2022-04-17T10:12:48.407Z"
   },
   {
    "duration": 137,
    "start_time": "2022-04-17T10:12:48.510Z"
   },
   {
    "duration": 55,
    "start_time": "2022-04-17T10:12:48.651Z"
   },
   {
    "duration": 14,
    "start_time": "2022-04-17T10:12:48.709Z"
   },
   {
    "duration": 88,
    "start_time": "2022-04-17T10:12:48.725Z"
   },
   {
    "duration": 45,
    "start_time": "2022-04-17T10:12:48.815Z"
   },
   {
    "duration": 19,
    "start_time": "2022-04-17T10:12:48.862Z"
   },
   {
    "duration": 38,
    "start_time": "2022-04-17T10:12:48.883Z"
   },
   {
    "duration": 44,
    "start_time": "2022-04-17T10:12:48.923Z"
   },
   {
    "duration": 40,
    "start_time": "2022-04-17T10:12:48.969Z"
   },
   {
    "duration": 88,
    "start_time": "2022-04-17T10:12:49.011Z"
   },
   {
    "duration": 359,
    "start_time": "2022-04-17T10:12:49.101Z"
   },
   {
    "duration": 8,
    "start_time": "2022-04-17T10:12:49.463Z"
   },
   {
    "duration": 40,
    "start_time": "2022-04-17T10:12:49.473Z"
   },
   {
    "duration": 111,
    "start_time": "2022-04-17T10:14:29.459Z"
   },
   {
    "duration": 95,
    "start_time": "2022-04-17T10:15:45.500Z"
   },
   {
    "duration": 0,
    "start_time": "2022-04-17T10:16:08.537Z"
   },
   {
    "duration": 6138,
    "start_time": "2022-04-17T10:16:11.740Z"
   },
   {
    "duration": 123,
    "start_time": "2022-04-17T10:17:00.133Z"
   },
   {
    "duration": 43,
    "start_time": "2022-04-17T10:17:22.861Z"
   },
   {
    "duration": 5,
    "start_time": "2022-04-17T10:17:37.303Z"
   },
   {
    "duration": 216,
    "start_time": "2022-04-17T10:17:37.310Z"
   },
   {
    "duration": 37,
    "start_time": "2022-04-17T10:17:37.528Z"
   },
   {
    "duration": 53,
    "start_time": "2022-04-17T10:17:37.567Z"
   },
   {
    "duration": 3,
    "start_time": "2022-04-17T10:17:37.623Z"
   },
   {
    "duration": 25,
    "start_time": "2022-04-17T10:17:37.628Z"
   },
   {
    "duration": 15,
    "start_time": "2022-04-17T10:17:37.656Z"
   },
   {
    "duration": 28,
    "start_time": "2022-04-17T10:17:37.673Z"
   },
   {
    "duration": 192,
    "start_time": "2022-04-17T10:17:37.703Z"
   },
   {
    "duration": 30,
    "start_time": "2022-04-17T10:17:37.897Z"
   },
   {
    "duration": 50,
    "start_time": "2022-04-17T10:17:37.931Z"
   },
   {
    "duration": 24,
    "start_time": "2022-04-17T10:17:37.983Z"
   },
   {
    "duration": 132,
    "start_time": "2022-04-17T10:17:38.010Z"
   },
   {
    "duration": 27,
    "start_time": "2022-04-17T10:17:38.144Z"
   },
   {
    "duration": 44,
    "start_time": "2022-04-17T10:17:38.174Z"
   },
   {
    "duration": 41,
    "start_time": "2022-04-17T10:17:38.220Z"
   },
   {
    "duration": 16,
    "start_time": "2022-04-17T10:17:38.264Z"
   },
   {
    "duration": 18,
    "start_time": "2022-04-17T10:17:38.282Z"
   },
   {
    "duration": 52,
    "start_time": "2022-04-17T10:17:38.303Z"
   },
   {
    "duration": 16,
    "start_time": "2022-04-17T10:17:38.358Z"
   },
   {
    "duration": 9,
    "start_time": "2022-04-17T10:17:38.377Z"
   },
   {
    "duration": 21,
    "start_time": "2022-04-17T10:17:38.389Z"
   },
   {
    "duration": 46,
    "start_time": "2022-04-17T10:17:38.412Z"
   },
   {
    "duration": 6,
    "start_time": "2022-04-17T10:17:38.460Z"
   },
   {
    "duration": 16,
    "start_time": "2022-04-17T10:17:38.469Z"
   },
   {
    "duration": 101,
    "start_time": "2022-04-17T10:17:38.487Z"
   },
   {
    "duration": 5,
    "start_time": "2022-04-17T10:17:38.591Z"
   },
   {
    "duration": 93,
    "start_time": "2022-04-17T10:17:38.599Z"
   },
   {
    "duration": 127,
    "start_time": "2022-04-17T10:17:38.697Z"
   },
   {
    "duration": 66,
    "start_time": "2022-04-17T10:17:38.827Z"
   },
   {
    "duration": 15,
    "start_time": "2022-04-17T10:17:38.895Z"
   },
   {
    "duration": 91,
    "start_time": "2022-04-17T10:17:38.912Z"
   },
   {
    "duration": 25,
    "start_time": "2022-04-17T10:17:39.006Z"
   },
   {
    "duration": 16,
    "start_time": "2022-04-17T10:17:39.052Z"
   },
   {
    "duration": 38,
    "start_time": "2022-04-17T10:17:39.070Z"
   },
   {
    "duration": 44,
    "start_time": "2022-04-17T10:17:39.110Z"
   },
   {
    "duration": 42,
    "start_time": "2022-04-17T10:17:39.156Z"
   },
   {
    "duration": 63,
    "start_time": "2022-04-17T10:17:39.200Z"
   },
   {
    "duration": 245,
    "start_time": "2022-04-17T10:17:39.266Z"
   },
   {
    "duration": 7,
    "start_time": "2022-04-17T10:17:39.513Z"
   },
   {
    "duration": 55,
    "start_time": "2022-04-17T10:17:39.523Z"
   },
   {
    "duration": 42,
    "start_time": "2022-04-17T10:23:22.340Z"
   },
   {
    "duration": 696,
    "start_time": "2022-04-17T10:24:11.347Z"
   },
   {
    "duration": 49,
    "start_time": "2022-04-17T10:25:52.694Z"
   },
   {
    "duration": 4,
    "start_time": "2022-04-17T10:25:56.597Z"
   },
   {
    "duration": 216,
    "start_time": "2022-04-17T10:25:56.603Z"
   },
   {
    "duration": 54,
    "start_time": "2022-04-17T10:25:56.821Z"
   },
   {
    "duration": 83,
    "start_time": "2022-04-17T10:25:56.877Z"
   },
   {
    "duration": 4,
    "start_time": "2022-04-17T10:25:56.964Z"
   },
   {
    "duration": 12,
    "start_time": "2022-04-17T10:25:56.970Z"
   },
   {
    "duration": 15,
    "start_time": "2022-04-17T10:25:56.984Z"
   },
   {
    "duration": 51,
    "start_time": "2022-04-17T10:25:57.001Z"
   },
   {
    "duration": 172,
    "start_time": "2022-04-17T10:25:57.054Z"
   },
   {
    "duration": 35,
    "start_time": "2022-04-17T10:25:57.228Z"
   },
   {
    "duration": 33,
    "start_time": "2022-04-17T10:25:57.267Z"
   },
   {
    "duration": 51,
    "start_time": "2022-04-17T10:25:57.302Z"
   },
   {
    "duration": 109,
    "start_time": "2022-04-17T10:25:57.355Z"
   },
   {
    "duration": 27,
    "start_time": "2022-04-17T10:25:57.466Z"
   },
   {
    "duration": 71,
    "start_time": "2022-04-17T10:25:57.496Z"
   },
   {
    "duration": 20,
    "start_time": "2022-04-17T10:25:57.570Z"
   },
   {
    "duration": 14,
    "start_time": "2022-04-17T10:25:57.593Z"
   },
   {
    "duration": 43,
    "start_time": "2022-04-17T10:25:57.609Z"
   },
   {
    "duration": 29,
    "start_time": "2022-04-17T10:25:57.655Z"
   },
   {
    "duration": 15,
    "start_time": "2022-04-17T10:25:57.687Z"
   },
   {
    "duration": 11,
    "start_time": "2022-04-17T10:25:57.705Z"
   },
   {
    "duration": 43,
    "start_time": "2022-04-17T10:25:57.719Z"
   },
   {
    "duration": 11,
    "start_time": "2022-04-17T10:25:57.765Z"
   },
   {
    "duration": 8,
    "start_time": "2022-04-17T10:25:57.779Z"
   },
   {
    "duration": 19,
    "start_time": "2022-04-17T10:25:57.789Z"
   },
   {
    "duration": 104,
    "start_time": "2022-04-17T10:25:57.811Z"
   },
   {
    "duration": 5,
    "start_time": "2022-04-17T10:25:57.918Z"
   },
   {
    "duration": 102,
    "start_time": "2022-04-17T10:25:57.926Z"
   },
   {
    "duration": 137,
    "start_time": "2022-04-17T10:25:58.033Z"
   },
   {
    "duration": 53,
    "start_time": "2022-04-17T10:25:58.173Z"
   },
   {
    "duration": 34,
    "start_time": "2022-04-17T10:25:58.228Z"
   },
   {
    "duration": 64,
    "start_time": "2022-04-17T10:25:58.265Z"
   },
   {
    "duration": 39,
    "start_time": "2022-04-17T10:25:58.331Z"
   },
   {
    "duration": 15,
    "start_time": "2022-04-17T10:25:58.372Z"
   },
   {
    "duration": 70,
    "start_time": "2022-04-17T10:25:58.389Z"
   },
   {
    "duration": 18,
    "start_time": "2022-04-17T10:25:58.461Z"
   },
   {
    "duration": 39,
    "start_time": "2022-04-17T10:25:58.481Z"
   },
   {
    "duration": 71,
    "start_time": "2022-04-17T10:25:58.522Z"
   },
   {
    "duration": 296,
    "start_time": "2022-04-17T10:25:58.595Z"
   },
   {
    "duration": 6,
    "start_time": "2022-04-17T10:25:58.893Z"
   },
   {
    "duration": 57,
    "start_time": "2022-04-17T10:25:58.901Z"
   },
   {
    "duration": 349,
    "start_time": "2022-04-17T10:30:07.312Z"
   },
   {
    "duration": 114,
    "start_time": "2022-04-17T10:31:02.330Z"
   },
   {
    "duration": 93,
    "start_time": "2022-04-17T10:31:54.473Z"
   },
   {
    "duration": 376,
    "start_time": "2022-04-17T10:32:11.896Z"
   },
   {
    "duration": 5,
    "start_time": "2022-04-17T10:32:35.058Z"
   },
   {
    "duration": 90,
    "start_time": "2022-04-17T10:33:31.331Z"
   },
   {
    "duration": 4,
    "start_time": "2022-04-17T10:33:48.545Z"
   },
   {
    "duration": 251,
    "start_time": "2022-04-17T10:33:48.552Z"
   },
   {
    "duration": 33,
    "start_time": "2022-04-17T10:33:48.806Z"
   },
   {
    "duration": 45,
    "start_time": "2022-04-17T10:33:48.852Z"
   },
   {
    "duration": 3,
    "start_time": "2022-04-17T10:33:48.901Z"
   },
   {
    "duration": 10,
    "start_time": "2022-04-17T10:33:48.906Z"
   },
   {
    "duration": 40,
    "start_time": "2022-04-17T10:33:48.918Z"
   },
   {
    "duration": 32,
    "start_time": "2022-04-17T10:33:48.960Z"
   },
   {
    "duration": 181,
    "start_time": "2022-04-17T10:33:48.994Z"
   },
   {
    "duration": 28,
    "start_time": "2022-04-17T10:33:49.177Z"
   },
   {
    "duration": 55,
    "start_time": "2022-04-17T10:33:49.209Z"
   },
   {
    "duration": 24,
    "start_time": "2022-04-17T10:33:49.266Z"
   },
   {
    "duration": 128,
    "start_time": "2022-04-17T10:33:49.293Z"
   },
   {
    "duration": 34,
    "start_time": "2022-04-17T10:33:49.423Z"
   },
   {
    "duration": 43,
    "start_time": "2022-04-17T10:33:49.460Z"
   },
   {
    "duration": 52,
    "start_time": "2022-04-17T10:33:49.506Z"
   },
   {
    "duration": 22,
    "start_time": "2022-04-17T10:33:49.561Z"
   },
   {
    "duration": 20,
    "start_time": "2022-04-17T10:33:49.586Z"
   },
   {
    "duration": 45,
    "start_time": "2022-04-17T10:33:49.608Z"
   },
   {
    "duration": 18,
    "start_time": "2022-04-17T10:33:49.655Z"
   },
   {
    "duration": 13,
    "start_time": "2022-04-17T10:33:49.675Z"
   },
   {
    "duration": 17,
    "start_time": "2022-04-17T10:33:49.691Z"
   },
   {
    "duration": 42,
    "start_time": "2022-04-17T10:33:49.711Z"
   },
   {
    "duration": 7,
    "start_time": "2022-04-17T10:33:49.756Z"
   },
   {
    "duration": 16,
    "start_time": "2022-04-17T10:33:49.766Z"
   },
   {
    "duration": 104,
    "start_time": "2022-04-17T10:33:49.784Z"
   },
   {
    "duration": 7,
    "start_time": "2022-04-17T10:33:49.890Z"
   },
   {
    "duration": 102,
    "start_time": "2022-04-17T10:33:49.900Z"
   },
   {
    "duration": 156,
    "start_time": "2022-04-17T10:33:50.007Z"
   },
   {
    "duration": 57,
    "start_time": "2022-04-17T10:33:50.165Z"
   },
   {
    "duration": 37,
    "start_time": "2022-04-17T10:33:50.224Z"
   },
   {
    "duration": 78,
    "start_time": "2022-04-17T10:33:50.263Z"
   },
   {
    "duration": 26,
    "start_time": "2022-04-17T10:33:50.344Z"
   },
   {
    "duration": 15,
    "start_time": "2022-04-17T10:33:50.373Z"
   },
   {
    "duration": 62,
    "start_time": "2022-04-17T10:33:50.391Z"
   },
   {
    "duration": 20,
    "start_time": "2022-04-17T10:33:50.455Z"
   },
   {
    "duration": 53,
    "start_time": "2022-04-17T10:33:50.478Z"
   },
   {
    "duration": 57,
    "start_time": "2022-04-17T10:33:50.533Z"
   },
   {
    "duration": 435,
    "start_time": "2022-04-17T10:33:50.592Z"
   },
   {
    "duration": 105,
    "start_time": "2022-04-17T10:33:51.030Z"
   },
   {
    "duration": 386,
    "start_time": "2022-04-17T10:33:51.138Z"
   },
   {
    "duration": 377,
    "start_time": "2022-04-17T10:33:51.526Z"
   },
   {
    "duration": 6,
    "start_time": "2022-04-17T10:33:51.906Z"
   },
   {
    "duration": 87,
    "start_time": "2022-04-17T10:34:57.219Z"
   },
   {
    "duration": 90,
    "start_time": "2022-04-17T10:35:33.380Z"
   },
   {
    "duration": 85,
    "start_time": "2022-04-17T10:35:43.604Z"
   },
   {
    "duration": 86,
    "start_time": "2022-04-17T10:36:39.445Z"
   },
   {
    "duration": 354,
    "start_time": "2022-04-17T10:37:32.685Z"
   },
   {
    "duration": 3,
    "start_time": "2022-04-17T10:37:38.863Z"
   },
   {
    "duration": 219,
    "start_time": "2022-04-17T10:37:38.869Z"
   },
   {
    "duration": 34,
    "start_time": "2022-04-17T10:37:39.090Z"
   },
   {
    "duration": 63,
    "start_time": "2022-04-17T10:37:39.126Z"
   },
   {
    "duration": 3,
    "start_time": "2022-04-17T10:37:39.192Z"
   },
   {
    "duration": 11,
    "start_time": "2022-04-17T10:37:39.197Z"
   },
   {
    "duration": 12,
    "start_time": "2022-04-17T10:37:39.211Z"
   },
   {
    "duration": 50,
    "start_time": "2022-04-17T10:37:39.225Z"
   },
   {
    "duration": 186,
    "start_time": "2022-04-17T10:37:39.277Z"
   },
   {
    "duration": 27,
    "start_time": "2022-04-17T10:37:39.466Z"
   },
   {
    "duration": 55,
    "start_time": "2022-04-17T10:37:39.497Z"
   },
   {
    "duration": 22,
    "start_time": "2022-04-17T10:37:39.554Z"
   },
   {
    "duration": 126,
    "start_time": "2022-04-17T10:37:39.578Z"
   },
   {
    "duration": 25,
    "start_time": "2022-04-17T10:37:39.706Z"
   },
   {
    "duration": 58,
    "start_time": "2022-04-17T10:37:39.733Z"
   },
   {
    "duration": 20,
    "start_time": "2022-04-17T10:37:39.793Z"
   },
   {
    "duration": 39,
    "start_time": "2022-04-17T10:37:39.816Z"
   },
   {
    "duration": 16,
    "start_time": "2022-04-17T10:37:39.857Z"
   },
   {
    "duration": 30,
    "start_time": "2022-04-17T10:37:39.876Z"
   },
   {
    "duration": 16,
    "start_time": "2022-04-17T10:37:39.908Z"
   },
   {
    "duration": 29,
    "start_time": "2022-04-17T10:37:39.927Z"
   },
   {
    "duration": 18,
    "start_time": "2022-04-17T10:37:39.959Z"
   },
   {
    "duration": 11,
    "start_time": "2022-04-17T10:37:39.980Z"
   },
   {
    "duration": 6,
    "start_time": "2022-04-17T10:37:39.993Z"
   },
   {
    "duration": 57,
    "start_time": "2022-04-17T10:37:40.001Z"
   },
   {
    "duration": 76,
    "start_time": "2022-04-17T10:37:40.060Z"
   },
   {
    "duration": 18,
    "start_time": "2022-04-17T10:37:40.138Z"
   },
   {
    "duration": 94,
    "start_time": "2022-04-17T10:37:40.158Z"
   },
   {
    "duration": 131,
    "start_time": "2022-04-17T10:37:40.258Z"
   },
   {
    "duration": 67,
    "start_time": "2022-04-17T10:37:40.391Z"
   },
   {
    "duration": 14,
    "start_time": "2022-04-17T10:37:40.460Z"
   },
   {
    "duration": 85,
    "start_time": "2022-04-17T10:37:40.476Z"
   },
   {
    "duration": 23,
    "start_time": "2022-04-17T10:37:40.563Z"
   },
   {
    "duration": 16,
    "start_time": "2022-04-17T10:37:40.588Z"
   },
   {
    "duration": 66,
    "start_time": "2022-04-17T10:37:40.606Z"
   },
   {
    "duration": 20,
    "start_time": "2022-04-17T10:37:40.674Z"
   },
   {
    "duration": 64,
    "start_time": "2022-04-17T10:37:40.696Z"
   },
   {
    "duration": 42,
    "start_time": "2022-04-17T10:37:40.762Z"
   },
   {
    "duration": 374,
    "start_time": "2022-04-17T10:37:40.807Z"
   },
   {
    "duration": 95,
    "start_time": "2022-04-17T10:37:41.183Z"
   },
   {
    "duration": 103,
    "start_time": "2022-04-17T10:37:41.280Z"
   },
   {
    "duration": 99,
    "start_time": "2022-04-17T10:37:41.385Z"
   },
   {
    "duration": 6,
    "start_time": "2022-04-17T10:37:41.486Z"
   },
   {
    "duration": 4,
    "start_time": "2022-04-17T10:53:00.835Z"
   },
   {
    "duration": 237,
    "start_time": "2022-04-17T10:53:00.841Z"
   },
   {
    "duration": 33,
    "start_time": "2022-04-17T10:53:01.081Z"
   },
   {
    "duration": 66,
    "start_time": "2022-04-17T10:53:01.117Z"
   },
   {
    "duration": 4,
    "start_time": "2022-04-17T10:53:01.186Z"
   },
   {
    "duration": 40,
    "start_time": "2022-04-17T10:53:01.192Z"
   },
   {
    "duration": 37,
    "start_time": "2022-04-17T10:53:01.235Z"
   },
   {
    "duration": 42,
    "start_time": "2022-04-17T10:53:01.275Z"
   },
   {
    "duration": 186,
    "start_time": "2022-04-17T10:53:01.319Z"
   },
   {
    "duration": 45,
    "start_time": "2022-04-17T10:53:01.507Z"
   },
   {
    "duration": 33,
    "start_time": "2022-04-17T10:53:01.556Z"
   },
   {
    "duration": 22,
    "start_time": "2022-04-17T10:53:01.591Z"
   },
   {
    "duration": 139,
    "start_time": "2022-04-17T10:53:01.616Z"
   },
   {
    "duration": 26,
    "start_time": "2022-04-17T10:53:01.757Z"
   },
   {
    "duration": 75,
    "start_time": "2022-04-17T10:53:01.785Z"
   },
   {
    "duration": 20,
    "start_time": "2022-04-17T10:53:01.863Z"
   },
   {
    "duration": 15,
    "start_time": "2022-04-17T10:53:01.885Z"
   },
   {
    "duration": 24,
    "start_time": "2022-04-17T10:53:01.902Z"
   },
   {
    "duration": 30,
    "start_time": "2022-04-17T10:53:01.953Z"
   },
   {
    "duration": 21,
    "start_time": "2022-04-17T10:53:01.985Z"
   },
   {
    "duration": 18,
    "start_time": "2022-04-17T10:53:02.008Z"
   },
   {
    "duration": 36,
    "start_time": "2022-04-17T10:53:02.028Z"
   },
   {
    "duration": 12,
    "start_time": "2022-04-17T10:53:02.066Z"
   },
   {
    "duration": 9,
    "start_time": "2022-04-17T10:53:02.080Z"
   },
   {
    "duration": 21,
    "start_time": "2022-04-17T10:53:02.092Z"
   },
   {
    "duration": 99,
    "start_time": "2022-04-17T10:53:02.115Z"
   },
   {
    "duration": 7,
    "start_time": "2022-04-17T10:53:02.216Z"
   },
   {
    "duration": 101,
    "start_time": "2022-04-17T10:53:02.226Z"
   },
   {
    "duration": 138,
    "start_time": "2022-04-17T10:53:02.333Z"
   },
   {
    "duration": 55,
    "start_time": "2022-04-17T10:53:02.474Z"
   },
   {
    "duration": 16,
    "start_time": "2022-04-17T10:53:02.551Z"
   },
   {
    "duration": 86,
    "start_time": "2022-04-17T10:53:02.570Z"
   },
   {
    "duration": 24,
    "start_time": "2022-04-17T10:53:02.659Z"
   },
   {
    "duration": 18,
    "start_time": "2022-04-17T10:53:02.686Z"
   },
   {
    "duration": 73,
    "start_time": "2022-04-17T10:53:02.706Z"
   },
   {
    "duration": 22,
    "start_time": "2022-04-17T10:53:02.782Z"
   },
   {
    "duration": 72,
    "start_time": "2022-04-17T10:53:02.807Z"
   },
   {
    "duration": 44,
    "start_time": "2022-04-17T10:53:02.882Z"
   },
   {
    "duration": 125,
    "start_time": "2022-04-17T10:53:02.929Z"
   },
   {
    "duration": 101,
    "start_time": "2022-04-17T10:53:03.056Z"
   },
   {
    "duration": 96,
    "start_time": "2022-04-17T10:53:03.159Z"
   },
   {
    "duration": 5,
    "start_time": "2022-04-17T10:53:03.257Z"
   },
   {
    "duration": 61,
    "start_time": "2022-04-17T11:02:02.272Z"
   },
   {
    "duration": 49,
    "start_time": "2022-04-17T12:19:04.417Z"
   },
   {
    "duration": 4,
    "start_time": "2022-04-17T12:19:23.231Z"
   },
   {
    "duration": 220,
    "start_time": "2022-04-17T12:19:23.237Z"
   },
   {
    "duration": 35,
    "start_time": "2022-04-17T12:19:23.460Z"
   },
   {
    "duration": 73,
    "start_time": "2022-04-17T12:19:23.498Z"
   },
   {
    "duration": 3,
    "start_time": "2022-04-17T12:19:23.575Z"
   },
   {
    "duration": 11,
    "start_time": "2022-04-17T12:19:23.580Z"
   },
   {
    "duration": 14,
    "start_time": "2022-04-17T12:19:23.593Z"
   },
   {
    "duration": 52,
    "start_time": "2022-04-17T12:19:23.609Z"
   },
   {
    "duration": 171,
    "start_time": "2022-04-17T12:19:23.663Z"
   },
   {
    "duration": 33,
    "start_time": "2022-04-17T12:19:23.836Z"
   },
   {
    "duration": 34,
    "start_time": "2022-04-17T12:19:23.873Z"
   },
   {
    "duration": 56,
    "start_time": "2022-04-17T12:19:23.909Z"
   },
   {
    "duration": 158,
    "start_time": "2022-04-17T12:19:23.968Z"
   },
   {
    "duration": 45,
    "start_time": "2022-04-17T12:19:24.129Z"
   },
   {
    "duration": 82,
    "start_time": "2022-04-17T12:19:24.177Z"
   },
   {
    "duration": 23,
    "start_time": "2022-04-17T12:19:24.262Z"
   },
   {
    "duration": 15,
    "start_time": "2022-04-17T12:19:24.289Z"
   },
   {
    "duration": 22,
    "start_time": "2022-04-17T12:19:24.307Z"
   },
   {
    "duration": 29,
    "start_time": "2022-04-17T12:19:24.352Z"
   },
   {
    "duration": 16,
    "start_time": "2022-04-17T12:19:24.384Z"
   },
   {
    "duration": 9,
    "start_time": "2022-04-17T12:19:24.403Z"
   },
   {
    "duration": 49,
    "start_time": "2022-04-17T12:19:24.414Z"
   },
   {
    "duration": 13,
    "start_time": "2022-04-17T12:19:24.465Z"
   },
   {
    "duration": 7,
    "start_time": "2022-04-17T12:19:24.480Z"
   },
   {
    "duration": 26,
    "start_time": "2022-04-17T12:19:24.489Z"
   },
   {
    "duration": 102,
    "start_time": "2022-04-17T12:19:24.518Z"
   },
   {
    "duration": 7,
    "start_time": "2022-04-17T12:19:24.622Z"
   },
   {
    "duration": 140,
    "start_time": "2022-04-17T12:19:24.633Z"
   },
   {
    "duration": 197,
    "start_time": "2022-04-17T12:19:24.782Z"
   },
   {
    "duration": 91,
    "start_time": "2022-04-17T12:19:24.982Z"
   },
   {
    "duration": 22,
    "start_time": "2022-04-17T12:19:25.076Z"
   },
   {
    "duration": 105,
    "start_time": "2022-04-17T12:19:25.100Z"
   },
   {
    "duration": 22,
    "start_time": "2022-04-17T12:19:25.208Z"
   },
   {
    "duration": 15,
    "start_time": "2022-04-17T12:19:25.253Z"
   },
   {
    "duration": 36,
    "start_time": "2022-04-17T12:19:25.270Z"
   },
   {
    "duration": 47,
    "start_time": "2022-04-17T12:19:25.309Z"
   },
   {
    "duration": 39,
    "start_time": "2022-04-17T12:19:25.359Z"
   },
   {
    "duration": 69,
    "start_time": "2022-04-17T12:19:25.400Z"
   },
   {
    "duration": 102,
    "start_time": "2022-04-17T12:19:25.472Z"
   },
   {
    "duration": 105,
    "start_time": "2022-04-17T12:19:25.576Z"
   },
   {
    "duration": 100,
    "start_time": "2022-04-17T12:19:25.684Z"
   },
   {
    "duration": 70,
    "start_time": "2022-04-17T12:19:25.787Z"
   },
   {
    "duration": 69,
    "start_time": "2022-04-18T11:52:52.404Z"
   },
   {
    "duration": 475,
    "start_time": "2022-04-18T11:52:56.224Z"
   },
   {
    "duration": 216,
    "start_time": "2022-04-18T11:52:56.701Z"
   },
   {
    "duration": 75,
    "start_time": "2022-04-18T11:52:56.920Z"
   },
   {
    "duration": 48,
    "start_time": "2022-04-18T11:52:56.998Z"
   },
   {
    "duration": 3,
    "start_time": "2022-04-18T11:52:57.049Z"
   },
   {
    "duration": 38,
    "start_time": "2022-04-18T11:52:57.055Z"
   },
   {
    "duration": 14,
    "start_time": "2022-04-18T11:52:57.096Z"
   },
   {
    "duration": 29,
    "start_time": "2022-04-18T11:52:57.112Z"
   },
   {
    "duration": 201,
    "start_time": "2022-04-18T11:52:57.144Z"
   },
   {
    "duration": 46,
    "start_time": "2022-04-18T11:52:57.348Z"
   },
   {
    "duration": 35,
    "start_time": "2022-04-18T11:52:57.396Z"
   },
   {
    "duration": 22,
    "start_time": "2022-04-18T11:52:57.433Z"
   },
   {
    "duration": 193,
    "start_time": "2022-04-18T11:52:57.457Z"
   },
   {
    "duration": 23,
    "start_time": "2022-04-18T11:52:57.653Z"
   },
   {
    "duration": 53,
    "start_time": "2022-04-18T11:52:57.679Z"
   },
   {
    "duration": 26,
    "start_time": "2022-04-18T11:52:57.733Z"
   },
   {
    "duration": 14,
    "start_time": "2022-04-18T11:52:57.761Z"
   },
   {
    "duration": 20,
    "start_time": "2022-04-18T11:52:57.792Z"
   },
   {
    "duration": 42,
    "start_time": "2022-04-18T11:52:57.814Z"
   },
   {
    "duration": 15,
    "start_time": "2022-04-18T11:52:57.858Z"
   },
   {
    "duration": 19,
    "start_time": "2022-04-18T11:52:57.875Z"
   },
   {
    "duration": 22,
    "start_time": "2022-04-18T11:52:57.897Z"
   },
   {
    "duration": 16,
    "start_time": "2022-04-18T11:52:57.921Z"
   },
   {
    "duration": 5,
    "start_time": "2022-04-18T11:52:57.939Z"
   },
   {
    "duration": 50,
    "start_time": "2022-04-18T11:52:57.946Z"
   },
   {
    "duration": 72,
    "start_time": "2022-04-18T11:52:57.998Z"
   },
   {
    "duration": 5,
    "start_time": "2022-04-18T11:52:58.073Z"
   },
   {
    "duration": 110,
    "start_time": "2022-04-18T11:52:58.095Z"
   },
   {
    "duration": 143,
    "start_time": "2022-04-18T11:52:58.207Z"
   },
   {
    "duration": 67,
    "start_time": "2022-04-18T11:52:58.353Z"
   },
   {
    "duration": 15,
    "start_time": "2022-04-18T11:52:58.423Z"
   },
   {
    "duration": 90,
    "start_time": "2022-04-18T11:52:58.441Z"
   },
   {
    "duration": 24,
    "start_time": "2022-04-18T11:52:58.534Z"
   },
   {
    "duration": 44,
    "start_time": "2022-04-18T11:52:58.560Z"
   },
   {
    "duration": 37,
    "start_time": "2022-04-18T11:52:58.606Z"
   },
   {
    "duration": 19,
    "start_time": "2022-04-18T11:52:58.645Z"
   },
   {
    "duration": 61,
    "start_time": "2022-04-18T11:52:58.666Z"
   },
   {
    "duration": 42,
    "start_time": "2022-04-18T11:52:58.729Z"
   },
   {
    "duration": 159,
    "start_time": "2022-04-18T11:52:58.793Z"
   },
   {
    "duration": 154,
    "start_time": "2022-04-18T11:52:58.955Z"
   },
   {
    "duration": 147,
    "start_time": "2022-04-18T11:52:59.112Z"
   },
   {
    "duration": 73,
    "start_time": "2022-04-18T11:52:59.262Z"
   },
   {
    "duration": 8,
    "start_time": "2022-04-18T11:52:59.338Z"
   },
   {
    "duration": 39,
    "start_time": "2022-04-18T11:53:05.658Z"
   },
   {
    "duration": 41,
    "start_time": "2022-04-18T11:53:44.387Z"
   },
   {
    "duration": 39,
    "start_time": "2022-04-18T11:53:57.771Z"
   },
   {
    "duration": 45,
    "start_time": "2022-04-18T12:02:29.003Z"
   },
   {
    "duration": 47,
    "start_time": "2022-04-19T10:13:51.938Z"
   },
   {
    "duration": 417,
    "start_time": "2022-04-19T10:13:55.688Z"
   },
   {
    "duration": 154,
    "start_time": "2022-04-19T10:13:56.107Z"
   },
   {
    "duration": 24,
    "start_time": "2022-04-19T10:13:56.263Z"
   },
   {
    "duration": 41,
    "start_time": "2022-04-19T10:13:56.289Z"
   },
   {
    "duration": 2,
    "start_time": "2022-04-19T10:13:56.331Z"
   },
   {
    "duration": 11,
    "start_time": "2022-04-19T10:13:56.335Z"
   },
   {
    "duration": 8,
    "start_time": "2022-04-19T10:13:56.348Z"
   },
   {
    "duration": 20,
    "start_time": "2022-04-19T10:13:56.357Z"
   },
   {
    "duration": 149,
    "start_time": "2022-04-19T10:13:56.379Z"
   },
   {
    "duration": 21,
    "start_time": "2022-04-19T10:13:56.531Z"
   },
   {
    "duration": 23,
    "start_time": "2022-04-19T10:13:56.553Z"
   },
   {
    "duration": 14,
    "start_time": "2022-04-19T10:13:56.578Z"
   },
   {
    "duration": 107,
    "start_time": "2022-04-19T10:13:56.594Z"
   },
   {
    "duration": 23,
    "start_time": "2022-04-19T10:13:56.702Z"
   },
   {
    "duration": 31,
    "start_time": "2022-04-19T10:13:56.727Z"
   },
   {
    "duration": 20,
    "start_time": "2022-04-19T10:13:56.759Z"
   },
   {
    "duration": 10,
    "start_time": "2022-04-19T10:13:56.780Z"
   },
   {
    "duration": 13,
    "start_time": "2022-04-19T10:13:56.791Z"
   },
   {
    "duration": 33,
    "start_time": "2022-04-19T10:13:56.822Z"
   },
   {
    "duration": 10,
    "start_time": "2022-04-19T10:13:56.857Z"
   },
   {
    "duration": 6,
    "start_time": "2022-04-19T10:13:56.868Z"
   },
   {
    "duration": 12,
    "start_time": "2022-04-19T10:13:56.876Z"
   },
   {
    "duration": 7,
    "start_time": "2022-04-19T10:13:56.890Z"
   },
   {
    "duration": 4,
    "start_time": "2022-04-19T10:13:56.899Z"
   },
   {
    "duration": 19,
    "start_time": "2022-04-19T10:13:56.904Z"
   },
   {
    "duration": 61,
    "start_time": "2022-04-19T10:13:56.925Z"
   },
   {
    "duration": 4,
    "start_time": "2022-04-19T10:13:56.987Z"
   },
   {
    "duration": 68,
    "start_time": "2022-04-19T10:13:56.995Z"
   },
   {
    "duration": 95,
    "start_time": "2022-04-19T10:13:57.065Z"
   },
   {
    "duration": 35,
    "start_time": "2022-04-19T10:13:57.161Z"
   },
   {
    "duration": 27,
    "start_time": "2022-04-19T10:13:57.197Z"
   },
   {
    "duration": 41,
    "start_time": "2022-04-19T10:13:57.226Z"
   },
   {
    "duration": 14,
    "start_time": "2022-04-19T10:13:57.269Z"
   },
   {
    "duration": 11,
    "start_time": "2022-04-19T10:13:57.285Z"
   },
   {
    "duration": 47,
    "start_time": "2022-04-19T10:13:57.297Z"
   },
   {
    "duration": 11,
    "start_time": "2022-04-19T10:13:57.346Z"
   },
   {
    "duration": 22,
    "start_time": "2022-04-19T10:13:57.358Z"
   },
   {
    "duration": 50,
    "start_time": "2022-04-19T10:13:57.382Z"
   },
   {
    "duration": 55,
    "start_time": "2022-04-19T10:13:57.434Z"
   },
   {
    "duration": 64,
    "start_time": "2022-04-19T10:13:57.490Z"
   },
   {
    "duration": 49,
    "start_time": "2022-04-19T10:13:57.556Z"
   },
   {
    "duration": 37,
    "start_time": "2022-04-19T10:13:57.607Z"
   },
   {
    "duration": 20,
    "start_time": "2022-04-19T10:13:57.645Z"
   },
   {
    "duration": 11,
    "start_time": "2022-04-19T10:13:57.666Z"
   },
   {
    "duration": 5,
    "start_time": "2022-04-19T10:19:42.582Z"
   },
   {
    "duration": 5,
    "start_time": "2022-04-19T10:23:22.200Z"
   },
   {
    "duration": 5,
    "start_time": "2022-04-19T10:23:32.680Z"
   },
   {
    "duration": 4,
    "start_time": "2022-04-19T10:23:37.705Z"
   },
   {
    "duration": 4,
    "start_time": "2022-04-19T10:26:04.915Z"
   },
   {
    "duration": 3,
    "start_time": "2022-04-19T10:26:08.595Z"
   },
   {
    "duration": 4,
    "start_time": "2022-04-19T10:26:17.231Z"
   },
   {
    "duration": 6,
    "start_time": "2022-04-19T10:26:49.171Z"
   },
   {
    "duration": 3,
    "start_time": "2022-04-19T10:27:58.781Z"
   },
   {
    "duration": 4,
    "start_time": "2022-04-19T10:28:09.765Z"
   },
   {
    "duration": 5,
    "start_time": "2022-04-19T10:40:55.710Z"
   },
   {
    "duration": 4,
    "start_time": "2022-04-19T10:41:42.951Z"
   },
   {
    "duration": 17,
    "start_time": "2022-04-19T10:41:58.856Z"
   },
   {
    "duration": 21,
    "start_time": "2022-04-19T10:42:05.375Z"
   },
   {
    "duration": 2,
    "start_time": "2022-04-19T10:45:09.133Z"
   },
   {
    "duration": 231,
    "start_time": "2022-04-19T10:45:09.139Z"
   },
   {
    "duration": 56,
    "start_time": "2022-04-19T10:45:09.372Z"
   },
   {
    "duration": 49,
    "start_time": "2022-04-19T10:45:09.430Z"
   },
   {
    "duration": 3,
    "start_time": "2022-04-19T10:45:09.482Z"
   },
   {
    "duration": 6,
    "start_time": "2022-04-19T10:45:09.487Z"
   },
   {
    "duration": 28,
    "start_time": "2022-04-19T10:45:09.495Z"
   },
   {
    "duration": 19,
    "start_time": "2022-04-19T10:45:09.525Z"
   },
   {
    "duration": 137,
    "start_time": "2022-04-19T10:45:09.546Z"
   },
   {
    "duration": 22,
    "start_time": "2022-04-19T10:45:09.685Z"
   },
   {
    "duration": 36,
    "start_time": "2022-04-19T10:45:09.710Z"
   },
   {
    "duration": 25,
    "start_time": "2022-04-19T10:45:09.748Z"
   },
   {
    "duration": 102,
    "start_time": "2022-04-19T10:45:09.776Z"
   },
   {
    "duration": 19,
    "start_time": "2022-04-19T10:45:09.879Z"
   },
   {
    "duration": 45,
    "start_time": "2022-04-19T10:45:09.900Z"
   },
   {
    "duration": 21,
    "start_time": "2022-04-19T10:45:09.947Z"
   },
   {
    "duration": 10,
    "start_time": "2022-04-19T10:45:09.969Z"
   },
   {
    "duration": 18,
    "start_time": "2022-04-19T10:45:09.981Z"
   },
   {
    "duration": 40,
    "start_time": "2022-04-19T10:45:10.001Z"
   },
   {
    "duration": 10,
    "start_time": "2022-04-19T10:45:10.043Z"
   },
   {
    "duration": 9,
    "start_time": "2022-04-19T10:45:10.055Z"
   },
   {
    "duration": 13,
    "start_time": "2022-04-19T10:45:10.066Z"
   },
   {
    "duration": 7,
    "start_time": "2022-04-19T10:45:10.081Z"
   },
   {
    "duration": 5,
    "start_time": "2022-04-19T10:45:10.090Z"
   },
   {
    "duration": 27,
    "start_time": "2022-04-19T10:45:10.097Z"
   },
   {
    "duration": 54,
    "start_time": "2022-04-19T10:45:10.126Z"
   },
   {
    "duration": 4,
    "start_time": "2022-04-19T10:45:10.182Z"
   },
   {
    "duration": 72,
    "start_time": "2022-04-19T10:45:10.187Z"
   },
   {
    "duration": 97,
    "start_time": "2022-04-19T10:45:10.263Z"
   },
   {
    "duration": 38,
    "start_time": "2022-04-19T10:45:10.362Z"
   },
   {
    "duration": 23,
    "start_time": "2022-04-19T10:45:10.401Z"
   },
   {
    "duration": 43,
    "start_time": "2022-04-19T10:45:10.425Z"
   },
   {
    "duration": 14,
    "start_time": "2022-04-19T10:45:10.469Z"
   },
   {
    "duration": 11,
    "start_time": "2022-04-19T10:45:10.485Z"
   },
   {
    "duration": 46,
    "start_time": "2022-04-19T10:45:10.497Z"
   },
   {
    "duration": 12,
    "start_time": "2022-04-19T10:45:10.545Z"
   },
   {
    "duration": 24,
    "start_time": "2022-04-19T10:45:10.559Z"
   },
   {
    "duration": 55,
    "start_time": "2022-04-19T10:45:10.585Z"
   },
   {
    "duration": 54,
    "start_time": "2022-04-19T10:45:10.642Z"
   },
   {
    "duration": 67,
    "start_time": "2022-04-19T10:45:10.698Z"
   },
   {
    "duration": 63,
    "start_time": "2022-04-19T10:45:10.767Z"
   },
   {
    "duration": 24,
    "start_time": "2022-04-19T10:45:10.832Z"
   },
   {
    "duration": 18,
    "start_time": "2022-04-19T10:45:10.858Z"
   },
   {
    "duration": 4,
    "start_time": "2022-04-19T10:45:10.878Z"
   },
   {
    "duration": 6,
    "start_time": "2022-04-19T10:45:10.884Z"
   },
   {
    "duration": 33,
    "start_time": "2022-04-19T10:45:10.891Z"
   },
   {
    "duration": 21,
    "start_time": "2022-04-19T10:45:10.926Z"
   },
   {
    "duration": 5,
    "start_time": "2022-04-19T10:46:10.082Z"
   },
   {
    "duration": 250,
    "start_time": "2022-04-19T10:46:30.347Z"
   },
   {
    "duration": 5,
    "start_time": "2022-04-19T10:46:34.454Z"
   },
   {
    "duration": 7,
    "start_time": "2022-04-19T10:56:27.987Z"
   },
   {
    "duration": 5,
    "start_time": "2022-04-19T11:06:21.626Z"
   },
   {
    "duration": 5,
    "start_time": "2022-04-19T11:06:59.211Z"
   },
   {
    "duration": 5,
    "start_time": "2022-04-19T11:07:25.971Z"
   },
   {
    "duration": 5,
    "start_time": "2022-04-19T11:07:57.933Z"
   },
   {
    "duration": 4,
    "start_time": "2022-04-19T11:08:21.164Z"
   },
   {
    "duration": 224,
    "start_time": "2022-04-19T11:08:37.515Z"
   },
   {
    "duration": 6,
    "start_time": "2022-04-19T11:08:55.347Z"
   },
   {
    "duration": 4,
    "start_time": "2022-04-19T11:08:58.876Z"
   },
   {
    "duration": 369,
    "start_time": "2022-04-20T10:43:07.821Z"
   },
   {
    "duration": 149,
    "start_time": "2022-04-20T10:43:08.192Z"
   },
   {
    "duration": 23,
    "start_time": "2022-04-20T10:43:08.343Z"
   },
   {
    "duration": 42,
    "start_time": "2022-04-20T10:43:08.369Z"
   },
   {
    "duration": 3,
    "start_time": "2022-04-20T10:43:08.412Z"
   },
   {
    "duration": 7,
    "start_time": "2022-04-20T10:43:08.417Z"
   },
   {
    "duration": 7,
    "start_time": "2022-04-20T10:43:08.425Z"
   },
   {
    "duration": 16,
    "start_time": "2022-04-20T10:43:08.434Z"
   },
   {
    "duration": 128,
    "start_time": "2022-04-20T10:43:08.452Z"
   },
   {
    "duration": 29,
    "start_time": "2022-04-20T10:43:08.583Z"
   },
   {
    "duration": 22,
    "start_time": "2022-04-20T10:43:08.613Z"
   },
   {
    "duration": 16,
    "start_time": "2022-04-20T10:43:08.636Z"
   },
   {
    "duration": 98,
    "start_time": "2022-04-20T10:43:08.653Z"
   },
   {
    "duration": 16,
    "start_time": "2022-04-20T10:43:08.753Z"
   },
   {
    "duration": 38,
    "start_time": "2022-04-20T10:43:08.770Z"
   },
   {
    "duration": 18,
    "start_time": "2022-04-20T10:43:08.810Z"
   },
   {
    "duration": 8,
    "start_time": "2022-04-20T10:43:08.830Z"
   },
   {
    "duration": 13,
    "start_time": "2022-04-20T10:43:08.840Z"
   },
   {
    "duration": 40,
    "start_time": "2022-04-20T10:43:08.854Z"
   },
   {
    "duration": 8,
    "start_time": "2022-04-20T10:43:08.896Z"
   },
   {
    "duration": 9,
    "start_time": "2022-04-20T10:43:08.905Z"
   },
   {
    "duration": 10,
    "start_time": "2022-04-20T10:43:08.915Z"
   },
   {
    "duration": 8,
    "start_time": "2022-04-20T10:43:08.927Z"
   },
   {
    "duration": 4,
    "start_time": "2022-04-20T10:43:08.936Z"
   },
   {
    "duration": 10,
    "start_time": "2022-04-20T10:43:08.942Z"
   },
   {
    "duration": 70,
    "start_time": "2022-04-20T10:43:08.953Z"
   },
   {
    "duration": 4,
    "start_time": "2022-04-20T10:43:09.025Z"
   },
   {
    "duration": 72,
    "start_time": "2022-04-20T10:43:09.032Z"
   },
   {
    "duration": 78,
    "start_time": "2022-04-20T10:43:09.105Z"
   },
   {
    "duration": 39,
    "start_time": "2022-04-20T10:43:09.185Z"
   },
   {
    "duration": 8,
    "start_time": "2022-04-20T10:43:09.225Z"
   },
   {
    "duration": 37,
    "start_time": "2022-04-20T10:43:09.235Z"
   },
   {
    "duration": 28,
    "start_time": "2022-04-20T10:43:09.273Z"
   },
   {
    "duration": 9,
    "start_time": "2022-04-20T10:43:09.302Z"
   },
   {
    "duration": 20,
    "start_time": "2022-04-20T10:43:09.312Z"
   },
   {
    "duration": 11,
    "start_time": "2022-04-20T10:43:09.333Z"
   },
   {
    "duration": 19,
    "start_time": "2022-04-20T10:43:09.345Z"
   },
   {
    "duration": 51,
    "start_time": "2022-04-20T10:43:09.365Z"
   },
   {
    "duration": 46,
    "start_time": "2022-04-20T10:43:09.417Z"
   },
   {
    "duration": 57,
    "start_time": "2022-04-20T10:43:09.465Z"
   },
   {
    "duration": 47,
    "start_time": "2022-04-20T10:43:09.524Z"
   },
   {
    "duration": 40,
    "start_time": "2022-04-20T10:43:09.572Z"
   },
   {
    "duration": 18,
    "start_time": "2022-04-20T10:43:09.614Z"
   },
   {
    "duration": 4,
    "start_time": "2022-04-20T10:43:09.634Z"
   },
   {
    "duration": 8,
    "start_time": "2022-04-20T10:43:09.639Z"
   },
   {
    "duration": 4,
    "start_time": "2022-04-20T10:43:09.648Z"
   },
   {
    "duration": 5,
    "start_time": "2022-04-20T10:43:09.654Z"
   },
   {
    "duration": 41,
    "start_time": "2022-04-20T10:43:09.660Z"
   },
   {
    "duration": 4,
    "start_time": "2022-04-20T10:43:09.703Z"
   },
   {
    "duration": 6,
    "start_time": "2022-04-20T10:43:09.709Z"
   },
   {
    "duration": 5,
    "start_time": "2022-04-20T10:43:09.716Z"
   },
   {
    "duration": 7,
    "start_time": "2022-04-20T10:43:09.722Z"
   },
   {
    "duration": 8,
    "start_time": "2022-04-20T10:43:09.730Z"
   },
   {
    "duration": 59,
    "start_time": "2022-04-20T10:46:49.161Z"
   },
   {
    "duration": 7,
    "start_time": "2022-04-20T10:46:54.988Z"
   },
   {
    "duration": 702,
    "start_time": "2022-04-20T10:47:08.841Z"
   },
   {
    "duration": 238,
    "start_time": "2022-04-20T10:47:18.689Z"
   },
   {
    "duration": 2,
    "start_time": "2022-04-20T10:48:40.890Z"
   },
   {
    "duration": 293,
    "start_time": "2022-04-20T10:48:50.547Z"
   },
   {
    "duration": 254,
    "start_time": "2022-04-20T10:49:05.978Z"
   },
   {
    "duration": 235,
    "start_time": "2022-04-20T11:21:09.721Z"
   },
   {
    "duration": 242,
    "start_time": "2022-04-20T11:22:41.942Z"
   },
   {
    "duration": 3,
    "start_time": "2022-04-20T11:23:36.323Z"
   },
   {
    "duration": 249,
    "start_time": "2022-04-20T11:23:39.194Z"
   },
   {
    "duration": 551,
    "start_time": "2022-04-20T11:24:07.756Z"
   },
   {
    "duration": 480,
    "start_time": "2022-04-20T11:24:19.339Z"
   },
   {
    "duration": 491,
    "start_time": "2022-04-20T11:27:17.359Z"
   },
   {
    "duration": 20,
    "start_time": "2022-04-20T11:30:46.264Z"
   },
   {
    "duration": 15,
    "start_time": "2022-04-20T11:31:45.081Z"
   },
   {
    "duration": 15,
    "start_time": "2022-04-20T11:32:35.073Z"
   },
   {
    "duration": 5,
    "start_time": "2022-04-20T11:33:56.777Z"
   },
   {
    "duration": 5,
    "start_time": "2022-04-20T11:34:16.866Z"
   },
   {
    "duration": 5,
    "start_time": "2022-04-20T11:34:31.833Z"
   },
   {
    "duration": 569,
    "start_time": "2022-04-20T11:36:48.236Z"
   },
   {
    "duration": 485,
    "start_time": "2022-04-20T11:37:24.177Z"
   },
   {
    "duration": 497,
    "start_time": "2022-04-20T11:40:04.311Z"
   },
   {
    "duration": 9,
    "start_time": "2022-04-20T11:41:55.928Z"
   },
   {
    "duration": 12,
    "start_time": "2022-04-20T11:43:07.881Z"
   },
   {
    "duration": 4,
    "start_time": "2022-04-20T11:43:38.017Z"
   },
   {
    "duration": 11,
    "start_time": "2022-04-20T11:44:04.177Z"
   },
   {
    "duration": 12,
    "start_time": "2022-04-20T11:44:34.793Z"
   },
   {
    "duration": 9,
    "start_time": "2022-04-20T11:56:38.158Z"
   },
   {
    "duration": 14,
    "start_time": "2022-04-20T11:56:42.454Z"
   },
   {
    "duration": 128,
    "start_time": "2022-04-20T11:57:00.158Z"
   },
   {
    "duration": 18,
    "start_time": "2022-04-20T11:57:19.791Z"
   },
   {
    "duration": 17,
    "start_time": "2022-04-20T11:57:51.872Z"
   },
   {
    "duration": 3179,
    "start_time": "2022-04-20T11:59:08.512Z"
   },
   {
    "duration": 3083,
    "start_time": "2022-04-20T11:59:14.657Z"
   },
   {
    "duration": 7,
    "start_time": "2022-04-20T11:59:24.016Z"
   },
   {
    "duration": 7,
    "start_time": "2022-04-20T11:59:57.360Z"
   },
   {
    "duration": 7,
    "start_time": "2022-04-20T12:00:13.387Z"
   },
   {
    "duration": 3210,
    "start_time": "2022-04-20T12:00:47.693Z"
   },
   {
    "duration": 3,
    "start_time": "2022-04-20T12:01:21.118Z"
   },
   {
    "duration": 240,
    "start_time": "2022-04-20T12:01:21.123Z"
   },
   {
    "duration": 45,
    "start_time": "2022-04-20T12:01:21.366Z"
   },
   {
    "duration": 29,
    "start_time": "2022-04-20T12:01:21.413Z"
   },
   {
    "duration": 2,
    "start_time": "2022-04-20T12:01:21.445Z"
   },
   {
    "duration": 8,
    "start_time": "2022-04-20T12:01:21.449Z"
   },
   {
    "duration": 18,
    "start_time": "2022-04-20T12:01:21.459Z"
   },
   {
    "duration": 40,
    "start_time": "2022-04-20T12:01:21.479Z"
   },
   {
    "duration": 129,
    "start_time": "2022-04-20T12:01:21.521Z"
   },
   {
    "duration": 20,
    "start_time": "2022-04-20T12:01:21.652Z"
   },
   {
    "duration": 39,
    "start_time": "2022-04-20T12:01:21.674Z"
   },
   {
    "duration": 18,
    "start_time": "2022-04-20T12:01:21.714Z"
   },
   {
    "duration": 99,
    "start_time": "2022-04-20T12:01:21.733Z"
   },
   {
    "duration": 19,
    "start_time": "2022-04-20T12:01:21.834Z"
   },
   {
    "duration": 46,
    "start_time": "2022-04-20T12:01:21.855Z"
   },
   {
    "duration": 21,
    "start_time": "2022-04-20T12:01:21.903Z"
   },
   {
    "duration": 10,
    "start_time": "2022-04-20T12:01:21.926Z"
   },
   {
    "duration": 11,
    "start_time": "2022-04-20T12:01:21.938Z"
   },
   {
    "duration": 46,
    "start_time": "2022-04-20T12:01:21.951Z"
   },
   {
    "duration": 10,
    "start_time": "2022-04-20T12:01:21.998Z"
   },
   {
    "duration": 9,
    "start_time": "2022-04-20T12:01:22.010Z"
   },
   {
    "duration": 11,
    "start_time": "2022-04-20T12:01:22.021Z"
   },
   {
    "duration": 7,
    "start_time": "2022-04-20T12:01:22.034Z"
   },
   {
    "duration": 5,
    "start_time": "2022-04-20T12:01:22.043Z"
   },
   {
    "duration": 14,
    "start_time": "2022-04-20T12:01:22.049Z"
   },
   {
    "duration": 72,
    "start_time": "2022-04-20T12:01:22.064Z"
   },
   {
    "duration": 4,
    "start_time": "2022-04-20T12:01:22.138Z"
   },
   {
    "duration": 74,
    "start_time": "2022-04-20T12:01:22.143Z"
   },
   {
    "duration": 85,
    "start_time": "2022-04-20T12:01:22.221Z"
   },
   {
    "duration": 32,
    "start_time": "2022-04-20T12:01:22.308Z"
   },
   {
    "duration": 9,
    "start_time": "2022-04-20T12:01:22.341Z"
   },
   {
    "duration": 59,
    "start_time": "2022-04-20T12:01:22.351Z"
   },
   {
    "duration": 14,
    "start_time": "2022-04-20T12:01:22.411Z"
   },
   {
    "duration": 10,
    "start_time": "2022-04-20T12:01:22.427Z"
   },
   {
    "duration": 22,
    "start_time": "2022-04-20T12:01:22.438Z"
   },
   {
    "duration": 40,
    "start_time": "2022-04-20T12:01:22.462Z"
   },
   {
    "duration": 34,
    "start_time": "2022-04-20T12:01:22.504Z"
   },
   {
    "duration": 25,
    "start_time": "2022-04-20T12:01:22.539Z"
   },
   {
    "duration": 69,
    "start_time": "2022-04-20T12:01:22.566Z"
   },
   {
    "duration": 63,
    "start_time": "2022-04-20T12:01:22.637Z"
   },
   {
    "duration": 53,
    "start_time": "2022-04-20T12:01:22.702Z"
   },
   {
    "duration": 50,
    "start_time": "2022-04-20T12:01:22.757Z"
   },
   {
    "duration": 801,
    "start_time": "2022-04-20T12:01:22.809Z"
   },
   {
    "duration": 17,
    "start_time": "2022-04-20T12:01:23.612Z"
   },
   {
    "duration": 22,
    "start_time": "2022-04-20T12:01:23.631Z"
   },
   {
    "duration": 19,
    "start_time": "2022-04-20T12:01:23.655Z"
   },
   {
    "duration": 27,
    "start_time": "2022-04-20T12:01:23.675Z"
   },
   {
    "duration": 3485,
    "start_time": "2022-04-20T12:01:23.704Z"
   },
   {
    "duration": 0,
    "start_time": "2022-04-20T12:01:27.191Z"
   },
   {
    "duration": 0,
    "start_time": "2022-04-20T12:01:27.192Z"
   },
   {
    "duration": 0,
    "start_time": "2022-04-20T12:01:27.193Z"
   },
   {
    "duration": 0,
    "start_time": "2022-04-20T12:01:27.194Z"
   },
   {
    "duration": 0,
    "start_time": "2022-04-20T12:01:27.195Z"
   },
   {
    "duration": 0,
    "start_time": "2022-04-20T12:01:27.196Z"
   },
   {
    "duration": 0,
    "start_time": "2022-04-20T12:01:27.197Z"
   },
   {
    "duration": 0,
    "start_time": "2022-04-20T12:01:27.198Z"
   },
   {
    "duration": 0,
    "start_time": "2022-04-20T12:01:27.199Z"
   },
   {
    "duration": 0,
    "start_time": "2022-04-20T12:01:27.200Z"
   },
   {
    "duration": 0,
    "start_time": "2022-04-20T12:01:27.200Z"
   },
   {
    "duration": 0,
    "start_time": "2022-04-20T12:01:27.201Z"
   },
   {
    "duration": 0,
    "start_time": "2022-04-20T12:01:27.202Z"
   },
   {
    "duration": 1326,
    "start_time": "2022-04-21T10:38:20.535Z"
   },
   {
    "duration": 210,
    "start_time": "2022-04-21T10:38:21.864Z"
   },
   {
    "duration": 34,
    "start_time": "2022-04-21T10:38:22.076Z"
   },
   {
    "duration": 69,
    "start_time": "2022-04-21T10:38:22.113Z"
   },
   {
    "duration": 3,
    "start_time": "2022-04-21T10:38:22.184Z"
   },
   {
    "duration": 11,
    "start_time": "2022-04-21T10:38:22.189Z"
   },
   {
    "duration": 12,
    "start_time": "2022-04-21T10:38:22.202Z"
   },
   {
    "duration": 56,
    "start_time": "2022-04-21T10:38:22.217Z"
   },
   {
    "duration": 185,
    "start_time": "2022-04-21T10:38:22.276Z"
   },
   {
    "duration": 29,
    "start_time": "2022-04-21T10:38:22.465Z"
   },
   {
    "duration": 60,
    "start_time": "2022-04-21T10:38:22.496Z"
   },
   {
    "duration": 23,
    "start_time": "2022-04-21T10:38:22.558Z"
   },
   {
    "duration": 131,
    "start_time": "2022-04-21T10:38:22.583Z"
   },
   {
    "duration": 37,
    "start_time": "2022-04-21T10:38:22.716Z"
   },
   {
    "duration": 43,
    "start_time": "2022-04-21T10:38:22.755Z"
   },
   {
    "duration": 19,
    "start_time": "2022-04-21T10:38:22.800Z"
   },
   {
    "duration": 35,
    "start_time": "2022-04-21T10:38:22.821Z"
   },
   {
    "duration": 20,
    "start_time": "2022-04-21T10:38:22.859Z"
   },
   {
    "duration": 27,
    "start_time": "2022-04-21T10:38:22.882Z"
   },
   {
    "duration": 41,
    "start_time": "2022-04-21T10:38:22.912Z"
   },
   {
    "duration": 12,
    "start_time": "2022-04-21T10:38:22.956Z"
   },
   {
    "duration": 17,
    "start_time": "2022-04-21T10:38:22.969Z"
   },
   {
    "duration": 12,
    "start_time": "2022-04-21T10:38:22.988Z"
   },
   {
    "duration": 5,
    "start_time": "2022-04-21T10:38:23.002Z"
   },
   {
    "duration": 55,
    "start_time": "2022-04-21T10:38:23.010Z"
   },
   {
    "duration": 88,
    "start_time": "2022-04-21T10:38:23.067Z"
   },
   {
    "duration": 6,
    "start_time": "2022-04-21T10:38:23.157Z"
   },
   {
    "duration": 117,
    "start_time": "2022-04-21T10:38:23.169Z"
   },
   {
    "duration": 152,
    "start_time": "2022-04-21T10:38:23.288Z"
   },
   {
    "duration": 59,
    "start_time": "2022-04-21T10:38:23.442Z"
   },
   {
    "duration": 13,
    "start_time": "2022-04-21T10:38:23.503Z"
   },
   {
    "duration": 95,
    "start_time": "2022-04-21T10:38:23.518Z"
   },
   {
    "duration": 21,
    "start_time": "2022-04-21T10:38:23.615Z"
   },
   {
    "duration": 16,
    "start_time": "2022-04-21T10:38:23.652Z"
   },
   {
    "duration": 36,
    "start_time": "2022-04-21T10:38:23.670Z"
   },
   {
    "duration": 44,
    "start_time": "2022-04-21T10:38:23.708Z"
   },
   {
    "duration": 39,
    "start_time": "2022-04-21T10:38:23.754Z"
   },
   {
    "duration": 68,
    "start_time": "2022-04-21T10:38:23.796Z"
   },
   {
    "duration": 101,
    "start_time": "2022-04-21T10:38:23.866Z"
   },
   {
    "duration": 100,
    "start_time": "2022-04-21T10:38:23.969Z"
   },
   {
    "duration": 99,
    "start_time": "2022-04-21T10:38:24.071Z"
   },
   {
    "duration": 41,
    "start_time": "2022-04-21T10:38:24.172Z"
   },
   {
    "duration": 982,
    "start_time": "2022-04-21T10:38:24.215Z"
   },
   {
    "duration": 27,
    "start_time": "2022-04-21T10:38:25.200Z"
   },
   {
    "duration": 44,
    "start_time": "2022-04-21T10:38:25.229Z"
   },
   {
    "duration": 7,
    "start_time": "2022-04-21T10:38:25.275Z"
   },
   {
    "duration": 7,
    "start_time": "2022-04-21T10:38:25.284Z"
   },
   {
    "duration": 1013,
    "start_time": "2022-04-21T10:38:25.293Z"
   },
   {
    "duration": 12,
    "start_time": "2022-04-21T10:38:26.308Z"
   },
   {
    "duration": 32,
    "start_time": "2022-04-21T10:38:26.321Z"
   },
   {
    "duration": 7,
    "start_time": "2022-04-21T10:38:26.355Z"
   },
   {
    "duration": 10,
    "start_time": "2022-04-21T10:38:26.364Z"
   },
   {
    "duration": 12,
    "start_time": "2022-04-21T10:38:26.376Z"
   },
   {
    "duration": 10,
    "start_time": "2022-04-21T10:38:26.390Z"
   },
   {
    "duration": 10,
    "start_time": "2022-04-21T10:38:26.402Z"
   },
   {
    "duration": 7,
    "start_time": "2022-04-21T10:38:26.451Z"
   },
   {
    "duration": 8,
    "start_time": "2022-04-21T10:38:26.461Z"
   },
   {
    "duration": 7,
    "start_time": "2022-04-21T10:38:26.471Z"
   },
   {
    "duration": 1872,
    "start_time": "2022-04-21T10:42:09.740Z"
   },
   {
    "duration": 26,
    "start_time": "2022-04-21T10:42:36.816Z"
   },
   {
    "duration": 31,
    "start_time": "2022-04-21T10:42:53.924Z"
   },
   {
    "duration": 1682,
    "start_time": "2022-04-21T10:43:26.020Z"
   },
   {
    "duration": 1539,
    "start_time": "2022-04-21T10:44:14.110Z"
   },
   {
    "duration": 32,
    "start_time": "2022-04-21T10:44:21.726Z"
   },
   {
    "duration": 33,
    "start_time": "2022-04-21T10:44:27.956Z"
   },
   {
    "duration": 6,
    "start_time": "2022-04-21T10:51:27.822Z"
   },
   {
    "duration": 6,
    "start_time": "2022-04-21T10:53:01.616Z"
   },
   {
    "duration": 6,
    "start_time": "2022-04-21T10:53:06.571Z"
   },
   {
    "duration": 7,
    "start_time": "2022-04-21T10:54:18.725Z"
   },
   {
    "duration": 8,
    "start_time": "2022-04-21T11:00:45.966Z"
   },
   {
    "duration": 6,
    "start_time": "2022-04-21T11:00:53.055Z"
   },
   {
    "duration": 11,
    "start_time": "2022-04-21T11:00:59.419Z"
   },
   {
    "duration": 10,
    "start_time": "2022-04-21T11:01:14.546Z"
   },
   {
    "duration": 11,
    "start_time": "2022-04-21T11:02:39.778Z"
   },
   {
    "duration": 6,
    "start_time": "2022-04-21T11:03:02.555Z"
   },
   {
    "duration": 5,
    "start_time": "2022-04-21T11:04:08.508Z"
   },
   {
    "duration": 5,
    "start_time": "2022-04-21T11:04:26.748Z"
   },
   {
    "duration": 6,
    "start_time": "2022-04-21T11:05:01.981Z"
   },
   {
    "duration": 6,
    "start_time": "2022-04-21T11:09:57.944Z"
   },
   {
    "duration": 1492,
    "start_time": "2022-04-21T11:11:45.090Z"
   },
   {
    "duration": 1496,
    "start_time": "2022-04-21T11:12:12.959Z"
   },
   {
    "duration": 2182,
    "start_time": "2022-04-21T11:12:33.003Z"
   },
   {
    "duration": 1612,
    "start_time": "2022-04-21T11:13:57.261Z"
   },
   {
    "duration": 923,
    "start_time": "2022-04-21T11:19:09.680Z"
   },
   {
    "duration": 7,
    "start_time": "2022-04-21T11:31:16.730Z"
   },
   {
    "duration": 8,
    "start_time": "2022-04-21T11:31:40.890Z"
   },
   {
    "duration": 6,
    "start_time": "2022-04-21T11:31:59.610Z"
   },
   {
    "duration": 7,
    "start_time": "2022-04-21T11:32:20.774Z"
   },
   {
    "duration": 7,
    "start_time": "2022-04-21T11:32:26.803Z"
   },
   {
    "duration": 4,
    "start_time": "2022-04-21T11:32:35.800Z"
   },
   {
    "duration": 348,
    "start_time": "2022-04-21T11:32:35.807Z"
   },
   {
    "duration": 55,
    "start_time": "2022-04-21T11:32:36.158Z"
   },
   {
    "duration": 65,
    "start_time": "2022-04-21T11:32:36.215Z"
   },
   {
    "duration": 3,
    "start_time": "2022-04-21T11:32:36.283Z"
   },
   {
    "duration": 15,
    "start_time": "2022-04-21T11:32:36.289Z"
   },
   {
    "duration": 15,
    "start_time": "2022-04-21T11:32:36.306Z"
   },
   {
    "duration": 60,
    "start_time": "2022-04-21T11:32:36.324Z"
   },
   {
    "duration": 251,
    "start_time": "2022-04-21T11:32:36.387Z"
   },
   {
    "duration": 45,
    "start_time": "2022-04-21T11:32:36.641Z"
   },
   {
    "duration": 33,
    "start_time": "2022-04-21T11:32:36.691Z"
   },
   {
    "duration": 44,
    "start_time": "2022-04-21T11:32:36.727Z"
   },
   {
    "duration": 127,
    "start_time": "2022-04-21T11:32:36.773Z"
   },
   {
    "duration": 25,
    "start_time": "2022-04-21T11:32:36.902Z"
   },
   {
    "duration": 90,
    "start_time": "2022-04-21T11:32:36.930Z"
   },
   {
    "duration": 33,
    "start_time": "2022-04-21T11:32:37.022Z"
   },
   {
    "duration": 20,
    "start_time": "2022-04-21T11:32:37.058Z"
   },
   {
    "duration": 18,
    "start_time": "2022-04-21T11:32:37.080Z"
   },
   {
    "duration": 52,
    "start_time": "2022-04-21T11:32:37.101Z"
   },
   {
    "duration": 7,
    "start_time": "2022-04-21T11:32:37.156Z"
   },
   {
    "duration": 19,
    "start_time": "2022-04-21T11:32:37.165Z"
   },
   {
    "duration": 10,
    "start_time": "2022-04-21T11:32:37.187Z"
   },
   {
    "duration": 16,
    "start_time": "2022-04-21T11:32:37.199Z"
   },
   {
    "duration": 50,
    "start_time": "2022-04-21T11:32:37.217Z"
   },
   {
    "duration": 90,
    "start_time": "2022-04-21T11:32:37.270Z"
   },
   {
    "duration": 5,
    "start_time": "2022-04-21T11:32:37.363Z"
   },
   {
    "duration": 109,
    "start_time": "2022-04-21T11:32:37.370Z"
   },
   {
    "duration": 139,
    "start_time": "2022-04-21T11:32:37.481Z"
   },
   {
    "duration": 60,
    "start_time": "2022-04-21T11:32:37.626Z"
   },
   {
    "duration": 14,
    "start_time": "2022-04-21T11:32:37.688Z"
   },
   {
    "duration": 81,
    "start_time": "2022-04-21T11:32:37.704Z"
   },
   {
    "duration": 28,
    "start_time": "2022-04-21T11:32:37.788Z"
   },
   {
    "duration": 34,
    "start_time": "2022-04-21T11:32:37.818Z"
   },
   {
    "duration": 42,
    "start_time": "2022-04-21T11:32:37.854Z"
   },
   {
    "duration": 18,
    "start_time": "2022-04-21T11:32:37.898Z"
   },
   {
    "duration": 69,
    "start_time": "2022-04-21T11:32:37.918Z"
   },
   {
    "duration": 67,
    "start_time": "2022-04-21T11:32:37.989Z"
   },
   {
    "duration": 101,
    "start_time": "2022-04-21T11:32:38.059Z"
   },
   {
    "duration": 102,
    "start_time": "2022-04-21T11:32:38.163Z"
   },
   {
    "duration": 101,
    "start_time": "2022-04-21T11:32:38.268Z"
   },
   {
    "duration": 43,
    "start_time": "2022-04-21T11:32:38.371Z"
   },
   {
    "duration": 51,
    "start_time": "2022-04-21T11:32:38.416Z"
   },
   {
    "duration": 27,
    "start_time": "2022-04-21T11:32:38.469Z"
   },
   {
    "duration": 6,
    "start_time": "2022-04-21T11:32:38.498Z"
   },
   {
    "duration": 46,
    "start_time": "2022-04-21T11:32:38.506Z"
   },
   {
    "duration": 6,
    "start_time": "2022-04-21T11:32:38.554Z"
   },
   {
    "duration": 9,
    "start_time": "2022-04-21T11:32:38.563Z"
   },
   {
    "duration": 8,
    "start_time": "2022-04-21T11:32:38.575Z"
   },
   {
    "duration": 8,
    "start_time": "2022-04-21T11:32:38.586Z"
   },
   {
    "duration": 1040,
    "start_time": "2022-04-21T11:32:38.596Z"
   },
   {
    "duration": 14,
    "start_time": "2022-04-21T11:32:39.639Z"
   },
   {
    "duration": 9,
    "start_time": "2022-04-21T11:32:39.655Z"
   },
   {
    "duration": 12,
    "start_time": "2022-04-21T11:32:39.667Z"
   },
   {
    "duration": 8,
    "start_time": "2022-04-21T11:32:39.681Z"
   },
   {
    "duration": 11,
    "start_time": "2022-04-21T11:32:39.691Z"
   },
   {
    "duration": 9,
    "start_time": "2022-04-21T11:32:39.704Z"
   },
   {
    "duration": 39,
    "start_time": "2022-04-21T11:32:39.715Z"
   },
   {
    "duration": 10,
    "start_time": "2022-04-21T11:32:39.756Z"
   },
   {
    "duration": 9,
    "start_time": "2022-04-21T11:32:39.768Z"
   },
   {
    "duration": 10,
    "start_time": "2022-04-21T11:34:14.629Z"
   },
   {
    "duration": 7,
    "start_time": "2022-04-21T11:34:24.294Z"
   },
   {
    "duration": 8,
    "start_time": "2022-04-21T11:34:41.069Z"
   },
   {
    "duration": 7,
    "start_time": "2022-04-21T11:34:52.862Z"
   },
   {
    "duration": 8,
    "start_time": "2022-04-21T11:35:41.022Z"
   },
   {
    "duration": 45,
    "start_time": "2022-04-23T09:15:28.793Z"
   },
   {
    "duration": 792,
    "start_time": "2022-04-23T09:17:04.365Z"
   },
   {
    "duration": 157,
    "start_time": "2022-04-23T09:17:05.159Z"
   },
   {
    "duration": 36,
    "start_time": "2022-04-23T09:17:05.318Z"
   },
   {
    "duration": 33,
    "start_time": "2022-04-23T09:17:05.356Z"
   },
   {
    "duration": 3,
    "start_time": "2022-04-23T09:17:05.391Z"
   },
   {
    "duration": 9,
    "start_time": "2022-04-23T09:17:05.395Z"
   },
   {
    "duration": 9,
    "start_time": "2022-04-23T09:17:05.405Z"
   },
   {
    "duration": 44,
    "start_time": "2022-04-23T09:17:05.415Z"
   },
   {
    "duration": 135,
    "start_time": "2022-04-23T09:17:05.461Z"
   },
   {
    "duration": 22,
    "start_time": "2022-04-23T09:17:05.599Z"
   },
   {
    "duration": 38,
    "start_time": "2022-04-23T09:17:05.623Z"
   },
   {
    "duration": 17,
    "start_time": "2022-04-23T09:17:05.663Z"
   },
   {
    "duration": 108,
    "start_time": "2022-04-23T09:17:05.682Z"
   },
   {
    "duration": 19,
    "start_time": "2022-04-23T09:17:05.792Z"
   },
   {
    "duration": 47,
    "start_time": "2022-04-23T09:17:05.813Z"
   },
   {
    "duration": 14,
    "start_time": "2022-04-23T09:17:05.862Z"
   },
   {
    "duration": 9,
    "start_time": "2022-04-23T09:17:05.878Z"
   },
   {
    "duration": 12,
    "start_time": "2022-04-23T09:17:05.888Z"
   },
   {
    "duration": 21,
    "start_time": "2022-04-23T09:17:05.901Z"
   },
   {
    "duration": 4,
    "start_time": "2022-04-23T09:17:05.924Z"
   },
   {
    "duration": 27,
    "start_time": "2022-04-23T09:17:05.930Z"
   },
   {
    "duration": 9,
    "start_time": "2022-04-23T09:17:05.958Z"
   },
   {
    "duration": 12,
    "start_time": "2022-04-23T09:17:05.968Z"
   },
   {
    "duration": 12,
    "start_time": "2022-04-23T09:17:05.982Z"
   },
   {
    "duration": 70,
    "start_time": "2022-04-23T09:17:05.995Z"
   },
   {
    "duration": 4,
    "start_time": "2022-04-23T09:17:06.067Z"
   },
   {
    "duration": 80,
    "start_time": "2022-04-23T09:17:06.072Z"
   },
   {
    "duration": 100,
    "start_time": "2022-04-23T09:17:06.156Z"
   },
   {
    "duration": 35,
    "start_time": "2022-04-23T09:17:06.257Z"
   },
   {
    "duration": 9,
    "start_time": "2022-04-23T09:17:06.294Z"
   },
   {
    "duration": 66,
    "start_time": "2022-04-23T09:17:06.304Z"
   },
   {
    "duration": 13,
    "start_time": "2022-04-23T09:17:06.372Z"
   },
   {
    "duration": 19,
    "start_time": "2022-04-23T09:17:06.387Z"
   },
   {
    "duration": 45,
    "start_time": "2022-04-23T09:17:06.408Z"
   },
   {
    "duration": 13,
    "start_time": "2022-04-23T09:17:06.455Z"
   },
   {
    "duration": 22,
    "start_time": "2022-04-23T09:17:06.469Z"
   },
   {
    "duration": 26,
    "start_time": "2022-04-23T09:17:06.493Z"
   },
   {
    "duration": 54,
    "start_time": "2022-04-23T09:17:06.548Z"
   },
   {
    "duration": 68,
    "start_time": "2022-04-23T09:17:06.603Z"
   },
   {
    "duration": 52,
    "start_time": "2022-04-23T09:17:06.672Z"
   },
   {
    "duration": 41,
    "start_time": "2022-04-23T09:17:06.726Z"
   },
   {
    "duration": 16,
    "start_time": "2022-04-23T09:17:06.769Z"
   },
   {
    "duration": 16,
    "start_time": "2022-04-23T09:17:06.787Z"
   },
   {
    "duration": 5,
    "start_time": "2022-04-23T09:17:06.805Z"
   },
   {
    "duration": 37,
    "start_time": "2022-04-23T09:17:06.811Z"
   },
   {
    "duration": 5,
    "start_time": "2022-04-23T09:17:06.850Z"
   },
   {
    "duration": 7,
    "start_time": "2022-04-23T09:17:06.856Z"
   },
   {
    "duration": 7,
    "start_time": "2022-04-23T09:17:06.865Z"
   },
   {
    "duration": 6,
    "start_time": "2022-04-23T09:17:06.873Z"
   },
   {
    "duration": 537,
    "start_time": "2022-04-23T09:17:06.881Z"
   },
   {
    "duration": 4,
    "start_time": "2022-04-23T09:17:07.420Z"
   },
   {
    "duration": 8,
    "start_time": "2022-04-23T09:17:07.425Z"
   },
   {
    "duration": 4,
    "start_time": "2022-04-23T09:17:07.448Z"
   },
   {
    "duration": 6,
    "start_time": "2022-04-23T09:17:07.454Z"
   },
   {
    "duration": 7,
    "start_time": "2022-04-23T09:17:07.461Z"
   },
   {
    "duration": 6,
    "start_time": "2022-04-23T09:17:07.469Z"
   },
   {
    "duration": 572,
    "start_time": "2022-04-23T09:17:07.477Z"
   },
   {
    "duration": 4,
    "start_time": "2022-04-23T09:17:08.050Z"
   },
   {
    "duration": 6,
    "start_time": "2022-04-23T09:17:08.056Z"
   },
   {
    "duration": 5,
    "start_time": "2022-04-23T09:17:08.063Z"
   },
   {
    "duration": 35,
    "start_time": "2022-04-23T09:18:03.945Z"
   },
   {
    "duration": 508,
    "start_time": "2022-04-23T09:19:27.209Z"
   },
   {
    "duration": 34,
    "start_time": "2022-04-23T09:27:42.331Z"
   },
   {
    "duration": 3,
    "start_time": "2022-04-23T09:27:49.836Z"
   },
   {
    "duration": 9,
    "start_time": "2022-04-23T09:27:56.463Z"
   },
   {
    "duration": 3,
    "start_time": "2022-04-23T09:28:14.877Z"
   },
   {
    "duration": 176,
    "start_time": "2022-04-23T09:28:14.883Z"
   },
   {
    "duration": 27,
    "start_time": "2022-04-23T09:28:15.060Z"
   },
   {
    "duration": 60,
    "start_time": "2022-04-23T09:28:15.088Z"
   },
   {
    "duration": 2,
    "start_time": "2022-04-23T09:28:15.150Z"
   },
   {
    "duration": 9,
    "start_time": "2022-04-23T09:28:15.154Z"
   },
   {
    "duration": 8,
    "start_time": "2022-04-23T09:28:15.164Z"
   },
   {
    "duration": 20,
    "start_time": "2022-04-23T09:28:15.174Z"
   },
   {
    "duration": 137,
    "start_time": "2022-04-23T09:28:15.196Z"
   },
   {
    "duration": 28,
    "start_time": "2022-04-23T09:28:15.334Z"
   },
   {
    "duration": 21,
    "start_time": "2022-04-23T09:28:15.365Z"
   },
   {
    "duration": 16,
    "start_time": "2022-04-23T09:28:15.387Z"
   },
   {
    "duration": 107,
    "start_time": "2022-04-23T09:28:15.404Z"
   },
   {
    "duration": 18,
    "start_time": "2022-04-23T09:28:15.512Z"
   },
   {
    "duration": 41,
    "start_time": "2022-04-23T09:28:15.532Z"
   },
   {
    "duration": 14,
    "start_time": "2022-04-23T09:28:15.574Z"
   },
   {
    "duration": 11,
    "start_time": "2022-04-23T09:28:15.590Z"
   },
   {
    "duration": 11,
    "start_time": "2022-04-23T09:28:15.603Z"
   },
   {
    "duration": 40,
    "start_time": "2022-04-23T09:28:15.616Z"
   },
   {
    "duration": 4,
    "start_time": "2022-04-23T09:28:15.658Z"
   },
   {
    "duration": 10,
    "start_time": "2022-04-23T09:28:15.664Z"
   },
   {
    "duration": 9,
    "start_time": "2022-04-23T09:28:15.676Z"
   },
   {
    "duration": 11,
    "start_time": "2022-04-23T09:28:15.686Z"
   },
   {
    "duration": 11,
    "start_time": "2022-04-23T09:28:15.699Z"
   },
   {
    "duration": 69,
    "start_time": "2022-04-23T09:28:15.712Z"
   },
   {
    "duration": 4,
    "start_time": "2022-04-23T09:28:15.783Z"
   },
   {
    "duration": 76,
    "start_time": "2022-04-23T09:28:15.788Z"
   },
   {
    "duration": 92,
    "start_time": "2022-04-23T09:28:15.866Z"
   },
   {
    "duration": 39,
    "start_time": "2022-04-23T09:28:15.962Z"
   },
   {
    "duration": 10,
    "start_time": "2022-04-23T09:28:16.003Z"
   },
   {
    "duration": 76,
    "start_time": "2022-04-23T09:28:16.015Z"
   },
   {
    "duration": 15,
    "start_time": "2022-04-23T09:28:16.096Z"
   },
   {
    "duration": 10,
    "start_time": "2022-04-23T09:28:16.113Z"
   },
   {
    "duration": 44,
    "start_time": "2022-04-23T09:28:16.124Z"
   },
   {
    "duration": 12,
    "start_time": "2022-04-23T09:28:16.169Z"
   },
   {
    "duration": 24,
    "start_time": "2022-04-23T09:28:16.182Z"
   },
   {
    "duration": 56,
    "start_time": "2022-04-23T09:28:16.208Z"
   },
   {
    "duration": 51,
    "start_time": "2022-04-23T09:28:16.266Z"
   },
   {
    "duration": 69,
    "start_time": "2022-04-23T09:28:16.319Z"
   },
   {
    "duration": 66,
    "start_time": "2022-04-23T09:28:16.390Z"
   },
   {
    "duration": 25,
    "start_time": "2022-04-23T09:28:16.458Z"
   },
   {
    "duration": 18,
    "start_time": "2022-04-23T09:28:16.485Z"
   },
   {
    "duration": 16,
    "start_time": "2022-04-23T09:28:16.505Z"
   },
   {
    "duration": 5,
    "start_time": "2022-04-23T09:28:16.548Z"
   },
   {
    "duration": 6,
    "start_time": "2022-04-23T09:28:16.555Z"
   },
   {
    "duration": 7,
    "start_time": "2022-04-23T09:28:16.563Z"
   },
   {
    "duration": 6,
    "start_time": "2022-04-23T09:28:16.572Z"
   },
   {
    "duration": 8,
    "start_time": "2022-04-23T09:28:16.579Z"
   },
   {
    "duration": 7,
    "start_time": "2022-04-23T09:28:16.589Z"
   },
   {
    "duration": 641,
    "start_time": "2022-04-23T09:28:16.598Z"
   },
   {
    "duration": 4,
    "start_time": "2022-04-23T09:28:17.247Z"
   },
   {
    "duration": 5,
    "start_time": "2022-04-23T09:28:17.253Z"
   },
   {
    "duration": 5,
    "start_time": "2022-04-23T09:28:17.260Z"
   },
   {
    "duration": 5,
    "start_time": "2022-04-23T09:28:17.266Z"
   },
   {
    "duration": 5,
    "start_time": "2022-04-23T09:28:17.272Z"
   },
   {
    "duration": 4,
    "start_time": "2022-04-23T09:28:17.279Z"
   },
   {
    "duration": 5,
    "start_time": "2022-04-23T09:28:17.285Z"
   },
   {
    "duration": 0,
    "start_time": "2022-04-23T09:29:54.770Z"
   },
   {
    "duration": 0,
    "start_time": "2022-04-23T09:29:54.782Z"
   },
   {
    "duration": 0,
    "start_time": "2022-04-23T09:29:54.783Z"
   },
   {
    "duration": 0,
    "start_time": "2022-04-23T09:29:54.785Z"
   },
   {
    "duration": 0,
    "start_time": "2022-04-23T09:29:54.850Z"
   },
   {
    "duration": 0,
    "start_time": "2022-04-23T09:29:54.853Z"
   },
   {
    "duration": 0,
    "start_time": "2022-04-23T09:29:54.856Z"
   },
   {
    "duration": 0,
    "start_time": "2022-04-23T09:29:54.859Z"
   },
   {
    "duration": 0,
    "start_time": "2022-04-23T09:29:54.861Z"
   },
   {
    "duration": 0,
    "start_time": "2022-04-23T09:29:54.864Z"
   },
   {
    "duration": 0,
    "start_time": "2022-04-23T09:29:54.868Z"
   },
   {
    "duration": 0,
    "start_time": "2022-04-23T09:29:54.870Z"
   },
   {
    "duration": 0,
    "start_time": "2022-04-23T09:29:54.872Z"
   },
   {
    "duration": 0,
    "start_time": "2022-04-23T09:29:54.874Z"
   },
   {
    "duration": 0,
    "start_time": "2022-04-23T09:29:54.876Z"
   },
   {
    "duration": 0,
    "start_time": "2022-04-23T09:29:54.877Z"
   },
   {
    "duration": 0,
    "start_time": "2022-04-23T09:29:54.879Z"
   },
   {
    "duration": 0,
    "start_time": "2022-04-23T09:29:54.881Z"
   },
   {
    "duration": 0,
    "start_time": "2022-04-23T09:29:54.884Z"
   },
   {
    "duration": 0,
    "start_time": "2022-04-23T09:29:54.948Z"
   },
   {
    "duration": 0,
    "start_time": "2022-04-23T09:29:54.952Z"
   },
   {
    "duration": 0,
    "start_time": "2022-04-23T09:29:54.954Z"
   },
   {
    "duration": 0,
    "start_time": "2022-04-23T09:29:54.958Z"
   },
   {
    "duration": 0,
    "start_time": "2022-04-23T09:29:54.968Z"
   },
   {
    "duration": 0,
    "start_time": "2022-04-23T09:29:54.971Z"
   },
   {
    "duration": 0,
    "start_time": "2022-04-23T09:29:54.974Z"
   },
   {
    "duration": 0,
    "start_time": "2022-04-23T09:29:54.977Z"
   },
   {
    "duration": 0,
    "start_time": "2022-04-23T09:29:54.979Z"
   },
   {
    "duration": 0,
    "start_time": "2022-04-23T09:29:54.982Z"
   },
   {
    "duration": 0,
    "start_time": "2022-04-23T09:29:54.986Z"
   },
   {
    "duration": 0,
    "start_time": "2022-04-23T09:29:54.988Z"
   },
   {
    "duration": 0,
    "start_time": "2022-04-23T09:29:54.991Z"
   },
   {
    "duration": 0,
    "start_time": "2022-04-23T09:29:54.993Z"
   },
   {
    "duration": 0,
    "start_time": "2022-04-23T09:29:55.062Z"
   },
   {
    "duration": 0,
    "start_time": "2022-04-23T09:29:55.065Z"
   },
   {
    "duration": 0,
    "start_time": "2022-04-23T09:29:55.067Z"
   },
   {
    "duration": 0,
    "start_time": "2022-04-23T09:29:55.069Z"
   },
   {
    "duration": 0,
    "start_time": "2022-04-23T09:29:55.071Z"
   },
   {
    "duration": 0,
    "start_time": "2022-04-23T09:29:55.073Z"
   },
   {
    "duration": 0,
    "start_time": "2022-04-23T09:29:55.075Z"
   },
   {
    "duration": 0,
    "start_time": "2022-04-23T09:29:55.076Z"
   },
   {
    "duration": 0,
    "start_time": "2022-04-23T09:29:55.078Z"
   },
   {
    "duration": 0,
    "start_time": "2022-04-23T09:29:55.080Z"
   },
   {
    "duration": 0,
    "start_time": "2022-04-23T09:29:55.082Z"
   },
   {
    "duration": 0,
    "start_time": "2022-04-23T09:29:55.084Z"
   },
   {
    "duration": 0,
    "start_time": "2022-04-23T09:29:55.086Z"
   },
   {
    "duration": 0,
    "start_time": "2022-04-23T09:29:55.088Z"
   },
   {
    "duration": 0,
    "start_time": "2022-04-23T09:29:55.090Z"
   },
   {
    "duration": 0,
    "start_time": "2022-04-23T09:29:55.091Z"
   },
   {
    "duration": 0,
    "start_time": "2022-04-23T09:29:55.155Z"
   },
   {
    "duration": 0,
    "start_time": "2022-04-23T09:29:55.157Z"
   },
   {
    "duration": 0,
    "start_time": "2022-04-23T09:29:55.158Z"
   },
   {
    "duration": 0,
    "start_time": "2022-04-23T09:29:55.160Z"
   },
   {
    "duration": 0,
    "start_time": "2022-04-23T09:29:55.161Z"
   },
   {
    "duration": 0,
    "start_time": "2022-04-23T09:29:55.163Z"
   },
   {
    "duration": 0,
    "start_time": "2022-04-23T09:29:55.168Z"
   },
   {
    "duration": 0,
    "start_time": "2022-04-23T09:29:55.170Z"
   },
   {
    "duration": 0,
    "start_time": "2022-04-23T09:29:55.174Z"
   },
   {
    "duration": 0,
    "start_time": "2022-04-23T09:29:55.176Z"
   },
   {
    "duration": 0,
    "start_time": "2022-04-23T09:29:55.178Z"
   },
   {
    "duration": 0,
    "start_time": "2022-04-23T09:29:55.180Z"
   },
   {
    "duration": 0,
    "start_time": "2022-04-23T09:29:55.182Z"
   },
   {
    "duration": 680,
    "start_time": "2022-04-23T09:30:50.418Z"
   },
   {
    "duration": 176,
    "start_time": "2022-04-23T09:30:51.100Z"
   },
   {
    "duration": 25,
    "start_time": "2022-04-23T09:30:51.277Z"
   },
   {
    "duration": 52,
    "start_time": "2022-04-23T09:30:51.305Z"
   },
   {
    "duration": 4,
    "start_time": "2022-04-23T09:30:51.359Z"
   },
   {
    "duration": 10,
    "start_time": "2022-04-23T09:30:51.365Z"
   },
   {
    "duration": 7,
    "start_time": "2022-04-23T09:30:51.377Z"
   },
   {
    "duration": 21,
    "start_time": "2022-04-23T09:30:51.385Z"
   },
   {
    "duration": 160,
    "start_time": "2022-04-23T09:30:51.408Z"
   },
   {
    "duration": 20,
    "start_time": "2022-04-23T09:30:51.570Z"
   },
   {
    "duration": 23,
    "start_time": "2022-04-23T09:30:51.592Z"
   },
   {
    "duration": 32,
    "start_time": "2022-04-23T09:30:51.617Z"
   },
   {
    "duration": 107,
    "start_time": "2022-04-23T09:30:51.652Z"
   },
   {
    "duration": 28,
    "start_time": "2022-04-23T09:30:51.761Z"
   },
   {
    "duration": 58,
    "start_time": "2022-04-23T09:30:51.791Z"
   },
   {
    "duration": 28,
    "start_time": "2022-04-23T09:30:51.851Z"
   },
   {
    "duration": 10,
    "start_time": "2022-04-23T09:30:51.881Z"
   },
   {
    "duration": 10,
    "start_time": "2022-04-23T09:30:51.892Z"
   },
   {
    "duration": 23,
    "start_time": "2022-04-23T09:30:51.904Z"
   },
   {
    "duration": 5,
    "start_time": "2022-04-23T09:30:51.929Z"
   },
   {
    "duration": 16,
    "start_time": "2022-04-23T09:30:51.947Z"
   },
   {
    "duration": 8,
    "start_time": "2022-04-23T09:30:51.966Z"
   },
   {
    "duration": 13,
    "start_time": "2022-04-23T09:30:51.975Z"
   },
   {
    "duration": 13,
    "start_time": "2022-04-23T09:30:51.989Z"
   },
   {
    "duration": 78,
    "start_time": "2022-04-23T09:30:52.004Z"
   },
   {
    "duration": 4,
    "start_time": "2022-04-23T09:30:52.083Z"
   },
   {
    "duration": 93,
    "start_time": "2022-04-23T09:30:52.089Z"
   },
   {
    "duration": 103,
    "start_time": "2022-04-23T09:30:52.186Z"
   },
   {
    "duration": 33,
    "start_time": "2022-04-23T09:30:52.291Z"
   },
   {
    "duration": 8,
    "start_time": "2022-04-23T09:30:52.326Z"
   },
   {
    "duration": 59,
    "start_time": "2022-04-23T09:30:52.336Z"
   },
   {
    "duration": 14,
    "start_time": "2022-04-23T09:30:52.396Z"
   },
   {
    "duration": 10,
    "start_time": "2022-04-23T09:30:52.411Z"
   },
   {
    "duration": 52,
    "start_time": "2022-04-23T09:30:52.423Z"
   },
   {
    "duration": 13,
    "start_time": "2022-04-23T09:30:52.476Z"
   },
   {
    "duration": 24,
    "start_time": "2022-04-23T09:30:52.490Z"
   },
   {
    "duration": 49,
    "start_time": "2022-04-23T09:30:52.516Z"
   },
   {
    "duration": 52,
    "start_time": "2022-04-23T09:30:52.567Z"
   },
   {
    "duration": 69,
    "start_time": "2022-04-23T09:30:52.620Z"
   },
   {
    "duration": 61,
    "start_time": "2022-04-23T09:30:52.691Z"
   },
   {
    "duration": 27,
    "start_time": "2022-04-23T09:30:52.754Z"
   },
   {
    "duration": 17,
    "start_time": "2022-04-23T09:30:52.782Z"
   },
   {
    "duration": 16,
    "start_time": "2022-04-23T09:30:52.801Z"
   },
   {
    "duration": 6,
    "start_time": "2022-04-23T09:30:52.848Z"
   },
   {
    "duration": 16,
    "start_time": "2022-04-23T09:30:52.856Z"
   },
   {
    "duration": 7,
    "start_time": "2022-04-23T09:30:52.874Z"
   },
   {
    "duration": 5,
    "start_time": "2022-04-23T09:30:52.882Z"
   },
   {
    "duration": 5,
    "start_time": "2022-04-23T09:30:52.888Z"
   },
   {
    "duration": 7,
    "start_time": "2022-04-23T09:30:52.894Z"
   },
   {
    "duration": 586,
    "start_time": "2022-04-23T09:30:52.902Z"
   },
   {
    "duration": 4,
    "start_time": "2022-04-23T09:30:53.490Z"
   },
   {
    "duration": 7,
    "start_time": "2022-04-23T09:30:53.495Z"
   },
   {
    "duration": 7,
    "start_time": "2022-04-23T09:30:53.504Z"
   },
   {
    "duration": 6,
    "start_time": "2022-04-23T09:30:53.512Z"
   },
   {
    "duration": 32,
    "start_time": "2022-04-23T09:30:53.519Z"
   },
   {
    "duration": 6,
    "start_time": "2022-04-23T09:30:53.554Z"
   },
   {
    "duration": 639,
    "start_time": "2022-04-23T09:30:53.562Z"
   },
   {
    "duration": 143,
    "start_time": "2022-04-23T09:30:54.203Z"
   },
   {
    "duration": 0,
    "start_time": "2022-04-23T09:30:54.348Z"
   },
   {
    "duration": 0,
    "start_time": "2022-04-23T09:30:54.350Z"
   },
   {
    "duration": 1,
    "start_time": "2022-04-23T09:30:54.351Z"
   },
   {
    "duration": 187,
    "start_time": "2022-04-23T09:55:41.173Z"
   },
   {
    "duration": 5,
    "start_time": "2022-04-23T09:56:45.377Z"
   },
   {
    "duration": 122,
    "start_time": "2022-04-23T09:58:52.515Z"
   },
   {
    "duration": 147,
    "start_time": "2022-04-23T10:21:06.696Z"
   },
   {
    "duration": 132,
    "start_time": "2022-04-23T10:21:33.118Z"
   },
   {
    "duration": 5,
    "start_time": "2022-04-23T10:29:19.955Z"
   },
   {
    "duration": 532,
    "start_time": "2022-04-23T10:30:16.635Z"
   },
   {
    "duration": 583,
    "start_time": "2022-04-23T10:31:32.988Z"
   },
   {
    "duration": 5,
    "start_time": "2022-04-23T10:31:46.004Z"
   },
   {
    "duration": 5,
    "start_time": "2022-04-23T10:31:47.323Z"
   },
   {
    "duration": 5,
    "start_time": "2022-04-23T10:31:49.267Z"
   },
   {
    "duration": 18,
    "start_time": "2022-04-23T11:28:15.289Z"
   },
   {
    "duration": 45,
    "start_time": "2022-04-24T02:46:58.220Z"
   },
   {
    "duration": 900,
    "start_time": "2022-04-24T02:47:01.054Z"
   },
   {
    "duration": 177,
    "start_time": "2022-04-24T02:47:01.957Z"
   },
   {
    "duration": 37,
    "start_time": "2022-04-24T02:47:02.136Z"
   },
   {
    "duration": 35,
    "start_time": "2022-04-24T02:47:02.176Z"
   },
   {
    "duration": 2,
    "start_time": "2022-04-24T02:47:02.214Z"
   },
   {
    "duration": 17,
    "start_time": "2022-04-24T02:47:02.218Z"
   },
   {
    "duration": 11,
    "start_time": "2022-04-24T02:47:02.237Z"
   },
   {
    "duration": 39,
    "start_time": "2022-04-24T02:47:02.249Z"
   },
   {
    "duration": 144,
    "start_time": "2022-04-24T02:47:02.290Z"
   },
   {
    "duration": 22,
    "start_time": "2022-04-24T02:47:02.436Z"
   },
   {
    "duration": 26,
    "start_time": "2022-04-24T02:47:02.473Z"
   },
   {
    "duration": 17,
    "start_time": "2022-04-24T02:47:02.501Z"
   },
   {
    "duration": 119,
    "start_time": "2022-04-24T02:47:02.520Z"
   },
   {
    "duration": 20,
    "start_time": "2022-04-24T02:47:02.640Z"
   },
   {
    "duration": 39,
    "start_time": "2022-04-24T02:47:02.662Z"
   },
   {
    "duration": 14,
    "start_time": "2022-04-24T02:47:02.703Z"
   },
   {
    "duration": 17,
    "start_time": "2022-04-24T02:47:02.719Z"
   },
   {
    "duration": 37,
    "start_time": "2022-04-24T02:47:02.738Z"
   },
   {
    "duration": 23,
    "start_time": "2022-04-24T02:47:02.776Z"
   },
   {
    "duration": 4,
    "start_time": "2022-04-24T02:47:02.801Z"
   },
   {
    "duration": 14,
    "start_time": "2022-04-24T02:47:02.806Z"
   },
   {
    "duration": 8,
    "start_time": "2022-04-24T02:47:02.821Z"
   },
   {
    "duration": 13,
    "start_time": "2022-04-24T02:47:02.830Z"
   },
   {
    "duration": 29,
    "start_time": "2022-04-24T02:47:02.844Z"
   },
   {
    "duration": 50,
    "start_time": "2022-04-24T02:47:02.875Z"
   },
   {
    "duration": 4,
    "start_time": "2022-04-24T02:47:02.927Z"
   },
   {
    "duration": 99,
    "start_time": "2022-04-24T02:47:02.932Z"
   },
   {
    "duration": 101,
    "start_time": "2022-04-24T02:47:03.035Z"
   },
   {
    "duration": 48,
    "start_time": "2022-04-24T02:47:03.137Z"
   },
   {
    "duration": 10,
    "start_time": "2022-04-24T02:47:03.186Z"
   },
   {
    "duration": 46,
    "start_time": "2022-04-24T02:47:03.197Z"
   },
   {
    "duration": 36,
    "start_time": "2022-04-24T02:47:03.244Z"
   },
   {
    "duration": 12,
    "start_time": "2022-04-24T02:47:03.282Z"
   },
   {
    "duration": 28,
    "start_time": "2022-04-24T02:47:03.295Z"
   },
   {
    "duration": 14,
    "start_time": "2022-04-24T02:47:03.324Z"
   },
   {
    "duration": 46,
    "start_time": "2022-04-24T02:47:03.339Z"
   },
   {
    "duration": 26,
    "start_time": "2022-04-24T02:47:03.387Z"
   },
   {
    "duration": 75,
    "start_time": "2022-04-24T02:47:03.415Z"
   },
   {
    "duration": 54,
    "start_time": "2022-04-24T02:47:03.491Z"
   },
   {
    "duration": 67,
    "start_time": "2022-04-24T02:47:03.546Z"
   },
   {
    "duration": 28,
    "start_time": "2022-04-24T02:47:03.615Z"
   },
   {
    "duration": 36,
    "start_time": "2022-04-24T02:47:03.644Z"
   },
   {
    "duration": 17,
    "start_time": "2022-04-24T02:47:03.681Z"
   },
   {
    "duration": 6,
    "start_time": "2022-04-24T02:47:03.700Z"
   },
   {
    "duration": 9,
    "start_time": "2022-04-24T02:47:03.708Z"
   },
   {
    "duration": 6,
    "start_time": "2022-04-24T02:47:03.718Z"
   },
   {
    "duration": 6,
    "start_time": "2022-04-24T02:47:03.726Z"
   },
   {
    "duration": 42,
    "start_time": "2022-04-24T02:47:03.733Z"
   },
   {
    "duration": 6,
    "start_time": "2022-04-24T02:47:03.777Z"
   },
   {
    "duration": 598,
    "start_time": "2022-04-24T02:47:03.784Z"
   },
   {
    "duration": 5,
    "start_time": "2022-04-24T02:47:04.385Z"
   },
   {
    "duration": 6,
    "start_time": "2022-04-24T02:47:04.392Z"
   },
   {
    "duration": 8,
    "start_time": "2022-04-24T02:47:04.400Z"
   },
   {
    "duration": 8,
    "start_time": "2022-04-24T02:47:04.410Z"
   },
   {
    "duration": 8,
    "start_time": "2022-04-24T02:47:04.419Z"
   },
   {
    "duration": 6,
    "start_time": "2022-04-24T02:47:04.429Z"
   },
   {
    "duration": 653,
    "start_time": "2022-04-24T02:47:04.436Z"
   },
   {
    "duration": 148,
    "start_time": "2022-04-24T02:47:05.091Z"
   },
   {
    "duration": 5,
    "start_time": "2022-04-24T02:47:05.241Z"
   },
   {
    "duration": 7,
    "start_time": "2022-04-24T02:47:05.248Z"
   },
   {
    "duration": 20,
    "start_time": "2022-04-24T02:47:05.257Z"
   },
   {
    "duration": 6,
    "start_time": "2022-04-24T02:47:05.279Z"
   },
   {
    "duration": 543,
    "start_time": "2022-04-24T02:47:05.287Z"
   },
   {
    "duration": 6,
    "start_time": "2022-04-24T02:47:05.832Z"
   },
   {
    "duration": 21,
    "start_time": "2022-04-24T02:47:05.840Z"
   },
   {
    "duration": 493,
    "start_time": "2022-04-24T02:47:05.873Z"
   },
   {
    "duration": 4,
    "start_time": "2022-04-24T02:47:44.512Z"
   },
   {
    "duration": 6,
    "start_time": "2022-04-24T02:56:43.907Z"
   },
   {
    "duration": 6,
    "start_time": "2022-04-24T02:58:16.687Z"
   },
   {
    "duration": 5,
    "start_time": "2022-04-24T02:58:55.319Z"
   },
   {
    "duration": 3,
    "start_time": "2022-04-24T02:59:39.585Z"
   },
   {
    "duration": 4,
    "start_time": "2022-04-24T03:00:04.008Z"
   },
   {
    "duration": 5,
    "start_time": "2022-04-24T03:10:36.448Z"
   },
   {
    "duration": 5,
    "start_time": "2022-04-24T03:21:35.618Z"
   },
   {
    "duration": 5,
    "start_time": "2022-04-24T03:23:56.388Z"
   },
   {
    "duration": 61,
    "start_time": "2022-04-24T03:24:10.276Z"
   },
   {
    "duration": 5,
    "start_time": "2022-04-24T03:24:27.127Z"
   },
   {
    "duration": 5,
    "start_time": "2022-04-24T03:24:56.966Z"
   },
   {
    "duration": 6,
    "start_time": "2022-04-24T03:25:14.446Z"
   },
   {
    "duration": 2,
    "start_time": "2022-04-24T03:27:57.664Z"
   },
   {
    "duration": 3,
    "start_time": "2022-04-24T03:28:01.979Z"
   },
   {
    "duration": 28,
    "start_time": "2022-04-24T03:33:55.004Z"
   },
   {
    "duration": 15,
    "start_time": "2022-04-24T03:35:00.389Z"
   },
   {
    "duration": 1863,
    "start_time": "2022-04-24T03:41:21.362Z"
   },
   {
    "duration": 1801,
    "start_time": "2022-04-24T03:41:27.763Z"
   },
   {
    "duration": 3,
    "start_time": "2022-04-24T03:41:33.474Z"
   },
   {
    "duration": 167,
    "start_time": "2022-04-24T03:41:33.478Z"
   },
   {
    "duration": 42,
    "start_time": "2022-04-24T03:41:33.647Z"
   },
   {
    "duration": 30,
    "start_time": "2022-04-24T03:41:33.691Z"
   },
   {
    "duration": 6,
    "start_time": "2022-04-24T03:41:33.723Z"
   },
   {
    "duration": 47,
    "start_time": "2022-04-24T03:41:33.731Z"
   },
   {
    "duration": 22,
    "start_time": "2022-04-24T03:41:33.779Z"
   },
   {
    "duration": 144,
    "start_time": "2022-04-24T03:41:33.803Z"
   },
   {
    "duration": 26,
    "start_time": "2022-04-24T03:41:33.949Z"
   },
   {
    "duration": 23,
    "start_time": "2022-04-24T03:41:33.976Z"
   },
   {
    "duration": 18,
    "start_time": "2022-04-24T03:41:34.002Z"
   },
   {
    "duration": 120,
    "start_time": "2022-04-24T03:41:34.022Z"
   },
   {
    "duration": 31,
    "start_time": "2022-04-24T03:41:34.143Z"
   },
   {
    "duration": 31,
    "start_time": "2022-04-24T03:41:34.175Z"
   },
   {
    "duration": 15,
    "start_time": "2022-04-24T03:41:34.208Z"
   },
   {
    "duration": 11,
    "start_time": "2022-04-24T03:41:34.224Z"
   },
   {
    "duration": 13,
    "start_time": "2022-04-24T03:41:34.236Z"
   },
   {
    "duration": 22,
    "start_time": "2022-04-24T03:41:34.274Z"
   },
   {
    "duration": 5,
    "start_time": "2022-04-24T03:41:34.297Z"
   },
   {
    "duration": 14,
    "start_time": "2022-04-24T03:41:34.303Z"
   },
   {
    "duration": 8,
    "start_time": "2022-04-24T03:41:34.318Z"
   },
   {
    "duration": 12,
    "start_time": "2022-04-24T03:41:34.328Z"
   },
   {
    "duration": 32,
    "start_time": "2022-04-24T03:41:34.341Z"
   },
   {
    "duration": 48,
    "start_time": "2022-04-24T03:41:34.375Z"
   },
   {
    "duration": 4,
    "start_time": "2022-04-24T03:41:34.425Z"
   },
   {
    "duration": 86,
    "start_time": "2022-04-24T03:41:34.430Z"
   },
   {
    "duration": 120,
    "start_time": "2022-04-24T03:41:34.518Z"
   },
   {
    "duration": 72,
    "start_time": "2022-04-24T03:41:34.641Z"
   },
   {
    "duration": 11,
    "start_time": "2022-04-24T03:41:34.718Z"
   },
   {
    "duration": 50,
    "start_time": "2022-04-24T03:41:34.730Z"
   },
   {
    "duration": 14,
    "start_time": "2022-04-24T03:41:34.782Z"
   },
   {
    "duration": 11,
    "start_time": "2022-04-24T03:41:34.798Z"
   },
   {
    "duration": 26,
    "start_time": "2022-04-24T03:41:34.811Z"
   },
   {
    "duration": 43,
    "start_time": "2022-04-24T03:41:34.838Z"
   },
   {
    "duration": 26,
    "start_time": "2022-04-24T03:41:34.882Z"
   },
   {
    "duration": 29,
    "start_time": "2022-04-24T03:41:34.909Z"
   },
   {
    "duration": 83,
    "start_time": "2022-04-24T03:41:34.940Z"
   },
   {
    "duration": 76,
    "start_time": "2022-04-24T03:41:35.025Z"
   },
   {
    "duration": 58,
    "start_time": "2022-04-24T03:41:35.102Z"
   },
   {
    "duration": 36,
    "start_time": "2022-04-24T03:41:35.161Z"
   },
   {
    "duration": 19,
    "start_time": "2022-04-24T03:41:35.198Z"
   },
   {
    "duration": 18,
    "start_time": "2022-04-24T03:41:35.218Z"
   },
   {
    "duration": 4,
    "start_time": "2022-04-24T03:41:35.238Z"
   },
   {
    "duration": 5,
    "start_time": "2022-04-24T03:41:35.274Z"
   },
   {
    "duration": 7,
    "start_time": "2022-04-24T03:41:35.280Z"
   },
   {
    "duration": 9,
    "start_time": "2022-04-24T03:41:35.288Z"
   },
   {
    "duration": 6,
    "start_time": "2022-04-24T03:41:35.299Z"
   },
   {
    "duration": 6,
    "start_time": "2022-04-24T03:41:35.306Z"
   },
   {
    "duration": 613,
    "start_time": "2022-04-24T03:41:35.314Z"
   },
   {
    "duration": 5,
    "start_time": "2022-04-24T03:41:35.929Z"
   },
   {
    "duration": 8,
    "start_time": "2022-04-24T03:41:35.936Z"
   },
   {
    "duration": 6,
    "start_time": "2022-04-24T03:41:35.945Z"
   },
   {
    "duration": 22,
    "start_time": "2022-04-24T03:41:35.953Z"
   },
   {
    "duration": 7,
    "start_time": "2022-04-24T03:41:35.977Z"
   },
   {
    "duration": 7,
    "start_time": "2022-04-24T03:41:35.986Z"
   },
   {
    "duration": 585,
    "start_time": "2022-04-24T03:41:35.994Z"
   },
   {
    "duration": 257,
    "start_time": "2022-04-24T03:41:36.581Z"
   },
   {
    "duration": 5,
    "start_time": "2022-04-24T03:41:36.839Z"
   },
   {
    "duration": 7,
    "start_time": "2022-04-24T03:41:36.846Z"
   },
   {
    "duration": 20,
    "start_time": "2022-04-24T03:41:36.855Z"
   },
   {
    "duration": 5,
    "start_time": "2022-04-24T03:41:36.877Z"
   },
   {
    "duration": 558,
    "start_time": "2022-04-24T03:41:36.883Z"
   },
   {
    "duration": 4,
    "start_time": "2022-04-24T03:41:37.442Z"
   },
   {
    "duration": 6,
    "start_time": "2022-04-24T03:41:37.448Z"
   },
   {
    "duration": 18,
    "start_time": "2022-04-24T03:41:37.456Z"
   },
   {
    "duration": 5,
    "start_time": "2022-04-24T03:41:37.476Z"
   },
   {
    "duration": 34,
    "start_time": "2022-04-24T03:41:37.483Z"
   },
   {
    "duration": 1801,
    "start_time": "2022-04-24T03:41:37.519Z"
   },
   {
    "duration": 0,
    "start_time": "2022-04-24T03:41:39.322Z"
   },
   {
    "duration": 1870,
    "start_time": "2022-04-24T03:42:04.034Z"
   },
   {
    "duration": 1870,
    "start_time": "2022-04-24T03:42:18.940Z"
   },
   {
    "duration": 5,
    "start_time": "2022-04-24T03:44:53.461Z"
   },
   {
    "duration": 11,
    "start_time": "2022-04-24T03:45:02.005Z"
   },
   {
    "duration": 3,
    "start_time": "2022-04-24T03:45:09.318Z"
   },
   {
    "duration": 7,
    "start_time": "2022-04-24T03:46:29.477Z"
   },
   {
    "duration": 31,
    "start_time": "2022-04-24T03:46:35.558Z"
   },
   {
    "duration": 36,
    "start_time": "2022-04-24T03:46:50.727Z"
   },
   {
    "duration": 4,
    "start_time": "2022-04-24T03:47:32.158Z"
   },
   {
    "duration": 219,
    "start_time": "2022-04-24T03:47:32.164Z"
   },
   {
    "duration": 27,
    "start_time": "2022-04-24T03:47:32.386Z"
   },
   {
    "duration": 66,
    "start_time": "2022-04-24T03:47:32.415Z"
   },
   {
    "duration": 7,
    "start_time": "2022-04-24T03:47:32.484Z"
   },
   {
    "duration": 15,
    "start_time": "2022-04-24T03:47:32.493Z"
   },
   {
    "duration": 22,
    "start_time": "2022-04-24T03:47:32.510Z"
   },
   {
    "duration": 149,
    "start_time": "2022-04-24T03:47:32.533Z"
   },
   {
    "duration": 20,
    "start_time": "2022-04-24T03:47:32.684Z"
   },
   {
    "duration": 28,
    "start_time": "2022-04-24T03:47:32.706Z"
   },
   {
    "duration": 17,
    "start_time": "2022-04-24T03:47:32.738Z"
   },
   {
    "duration": 88,
    "start_time": "2022-04-24T03:47:32.774Z"
   },
   {
    "duration": 23,
    "start_time": "2022-04-24T03:47:32.863Z"
   },
   {
    "duration": 29,
    "start_time": "2022-04-24T03:47:32.888Z"
   },
   {
    "duration": 15,
    "start_time": "2022-04-24T03:47:32.919Z"
   },
   {
    "duration": 10,
    "start_time": "2022-04-24T03:47:32.936Z"
   },
   {
    "duration": 33,
    "start_time": "2022-04-24T03:47:32.948Z"
   },
   {
    "duration": 28,
    "start_time": "2022-04-24T03:47:32.982Z"
   },
   {
    "duration": 4,
    "start_time": "2022-04-24T03:47:33.012Z"
   },
   {
    "duration": 20,
    "start_time": "2022-04-24T03:47:33.018Z"
   },
   {
    "duration": 6,
    "start_time": "2022-04-24T03:47:33.041Z"
   },
   {
    "duration": 13,
    "start_time": "2022-04-24T03:47:33.049Z"
   },
   {
    "duration": 11,
    "start_time": "2022-04-24T03:47:33.072Z"
   },
   {
    "duration": 52,
    "start_time": "2022-04-24T03:47:33.085Z"
   },
   {
    "duration": 5,
    "start_time": "2022-04-24T03:47:33.139Z"
   },
   {
    "duration": 90,
    "start_time": "2022-04-24T03:47:33.145Z"
   },
   {
    "duration": 94,
    "start_time": "2022-04-24T03:47:33.237Z"
   },
   {
    "duration": 45,
    "start_time": "2022-04-24T03:47:33.333Z"
   },
   {
    "duration": 9,
    "start_time": "2022-04-24T03:47:33.382Z"
   },
   {
    "duration": 60,
    "start_time": "2022-04-24T03:47:33.393Z"
   },
   {
    "duration": 20,
    "start_time": "2022-04-24T03:47:33.454Z"
   },
   {
    "duration": 17,
    "start_time": "2022-04-24T03:47:33.475Z"
   },
   {
    "duration": 24,
    "start_time": "2022-04-24T03:47:33.494Z"
   },
   {
    "duration": 12,
    "start_time": "2022-04-24T03:47:33.520Z"
   },
   {
    "duration": 40,
    "start_time": "2022-04-24T03:47:33.534Z"
   },
   {
    "duration": 26,
    "start_time": "2022-04-24T03:47:33.576Z"
   },
   {
    "duration": 71,
    "start_time": "2022-04-24T03:47:33.603Z"
   },
   {
    "duration": 55,
    "start_time": "2022-04-24T03:47:33.675Z"
   },
   {
    "duration": 69,
    "start_time": "2022-04-24T03:47:33.731Z"
   },
   {
    "duration": 26,
    "start_time": "2022-04-24T03:47:33.802Z"
   },
   {
    "duration": 17,
    "start_time": "2022-04-24T03:47:33.830Z"
   },
   {
    "duration": 40,
    "start_time": "2022-04-24T03:47:33.849Z"
   },
   {
    "duration": 4,
    "start_time": "2022-04-24T03:47:33.890Z"
   },
   {
    "duration": 7,
    "start_time": "2022-04-24T03:47:33.896Z"
   },
   {
    "duration": 28,
    "start_time": "2022-04-24T03:47:33.904Z"
   },
   {
    "duration": 12,
    "start_time": "2022-04-24T03:47:33.934Z"
   },
   {
    "duration": 9,
    "start_time": "2022-04-24T03:47:33.947Z"
   },
   {
    "duration": 6,
    "start_time": "2022-04-24T03:47:33.958Z"
   },
   {
    "duration": 565,
    "start_time": "2022-04-24T03:47:33.965Z"
   },
   {
    "duration": 5,
    "start_time": "2022-04-24T03:47:34.532Z"
   },
   {
    "duration": 10,
    "start_time": "2022-04-24T03:47:34.539Z"
   },
   {
    "duration": 7,
    "start_time": "2022-04-24T03:47:34.550Z"
   },
   {
    "duration": 5,
    "start_time": "2022-04-24T03:47:34.574Z"
   },
   {
    "duration": 8,
    "start_time": "2022-04-24T03:47:34.581Z"
   },
   {
    "duration": 11,
    "start_time": "2022-04-24T03:47:34.590Z"
   },
   {
    "duration": 752,
    "start_time": "2022-04-24T03:47:34.602Z"
   },
   {
    "duration": 151,
    "start_time": "2022-04-24T03:47:35.356Z"
   },
   {
    "duration": 4,
    "start_time": "2022-04-24T03:47:35.509Z"
   },
   {
    "duration": 8,
    "start_time": "2022-04-24T03:47:35.515Z"
   },
   {
    "duration": 7,
    "start_time": "2022-04-24T03:47:35.525Z"
   },
   {
    "duration": 8,
    "start_time": "2022-04-24T03:47:35.534Z"
   },
   {
    "duration": 583,
    "start_time": "2022-04-24T03:47:35.543Z"
   },
   {
    "duration": 3,
    "start_time": "2022-04-24T03:47:36.128Z"
   },
   {
    "duration": 11,
    "start_time": "2022-04-24T03:47:36.132Z"
   },
   {
    "duration": 8,
    "start_time": "2022-04-24T03:47:36.145Z"
   },
   {
    "duration": 8,
    "start_time": "2022-04-24T03:47:36.154Z"
   },
   {
    "duration": 26,
    "start_time": "2022-04-24T03:47:36.173Z"
   },
   {
    "duration": 96,
    "start_time": "2022-04-24T03:47:36.201Z"
   },
   {
    "duration": 3,
    "start_time": "2022-04-24T03:47:36.299Z"
   },
   {
    "duration": 37,
    "start_time": "2022-04-24T03:47:36.304Z"
   },
   {
    "duration": 30,
    "start_time": "2022-04-24T03:47:36.343Z"
   },
   {
    "duration": 16,
    "start_time": "2022-04-24T03:48:05.855Z"
   },
   {
    "duration": 5,
    "start_time": "2022-04-24T03:48:20.592Z"
   },
   {
    "duration": 30,
    "start_time": "2022-04-24T03:48:27.911Z"
   },
   {
    "duration": 6,
    "start_time": "2022-04-24T03:48:42.480Z"
   },
   {
    "duration": 7,
    "start_time": "2022-04-24T03:50:02.369Z"
   },
   {
    "duration": 126,
    "start_time": "2022-04-24T04:03:05.773Z"
   },
   {
    "duration": 9,
    "start_time": "2022-04-24T04:03:09.961Z"
   },
   {
    "duration": 138,
    "start_time": "2022-04-24T04:08:25.919Z"
   },
   {
    "duration": 171,
    "start_time": "2022-04-24T04:10:32.691Z"
   },
   {
    "duration": 1769,
    "start_time": "2022-04-24T04:10:39.145Z"
   },
   {
    "duration": 1869,
    "start_time": "2022-04-24T04:10:56.643Z"
   },
   {
    "duration": 1814,
    "start_time": "2022-04-24T04:11:18.963Z"
   },
   {
    "duration": 3,
    "start_time": "2022-04-24T04:11:32.666Z"
   },
   {
    "duration": 175,
    "start_time": "2022-04-24T04:11:32.671Z"
   },
   {
    "duration": 45,
    "start_time": "2022-04-24T04:11:32.849Z"
   },
   {
    "duration": 30,
    "start_time": "2022-04-24T04:11:32.895Z"
   },
   {
    "duration": 6,
    "start_time": "2022-04-24T04:11:32.927Z"
   },
   {
    "duration": 40,
    "start_time": "2022-04-24T04:11:32.934Z"
   },
   {
    "duration": 23,
    "start_time": "2022-04-24T04:11:32.975Z"
   },
   {
    "duration": 153,
    "start_time": "2022-04-24T04:11:32.999Z"
   },
   {
    "duration": 31,
    "start_time": "2022-04-24T04:11:33.154Z"
   },
   {
    "duration": 22,
    "start_time": "2022-04-24T04:11:33.186Z"
   },
   {
    "duration": 15,
    "start_time": "2022-04-24T04:11:33.211Z"
   },
   {
    "duration": 105,
    "start_time": "2022-04-24T04:11:33.228Z"
   },
   {
    "duration": 19,
    "start_time": "2022-04-24T04:11:33.335Z"
   },
   {
    "duration": 43,
    "start_time": "2022-04-24T04:11:33.356Z"
   },
   {
    "duration": 15,
    "start_time": "2022-04-24T04:11:33.400Z"
   },
   {
    "duration": 10,
    "start_time": "2022-04-24T04:11:33.416Z"
   },
   {
    "duration": 13,
    "start_time": "2022-04-24T04:11:33.427Z"
   },
   {
    "duration": 39,
    "start_time": "2022-04-24T04:11:33.441Z"
   },
   {
    "duration": 5,
    "start_time": "2022-04-24T04:11:33.481Z"
   },
   {
    "duration": 12,
    "start_time": "2022-04-24T04:11:33.487Z"
   },
   {
    "duration": 5,
    "start_time": "2022-04-24T04:11:33.501Z"
   },
   {
    "duration": 14,
    "start_time": "2022-04-24T04:11:33.507Z"
   },
   {
    "duration": 12,
    "start_time": "2022-04-24T04:11:33.522Z"
   },
   {
    "duration": 75,
    "start_time": "2022-04-24T04:11:33.536Z"
   },
   {
    "duration": 4,
    "start_time": "2022-04-24T04:11:33.613Z"
   },
   {
    "duration": 76,
    "start_time": "2022-04-24T04:11:33.618Z"
   },
   {
    "duration": 99,
    "start_time": "2022-04-24T04:11:33.696Z"
   },
   {
    "duration": 38,
    "start_time": "2022-04-24T04:11:33.796Z"
   },
   {
    "duration": 10,
    "start_time": "2022-04-24T04:11:33.838Z"
   },
   {
    "duration": 59,
    "start_time": "2022-04-24T04:11:33.850Z"
   },
   {
    "duration": 14,
    "start_time": "2022-04-24T04:11:33.911Z"
   },
   {
    "duration": 10,
    "start_time": "2022-04-24T04:11:33.927Z"
   },
   {
    "duration": 53,
    "start_time": "2022-04-24T04:11:33.939Z"
   },
   {
    "duration": 13,
    "start_time": "2022-04-24T04:11:33.993Z"
   },
   {
    "duration": 24,
    "start_time": "2022-04-24T04:11:34.007Z"
   },
   {
    "duration": 49,
    "start_time": "2022-04-24T04:11:34.033Z"
   },
   {
    "duration": 52,
    "start_time": "2022-04-24T04:11:34.084Z"
   },
   {
    "duration": 64,
    "start_time": "2022-04-24T04:11:34.138Z"
   },
   {
    "duration": 69,
    "start_time": "2022-04-24T04:11:34.204Z"
   },
   {
    "duration": 26,
    "start_time": "2022-04-24T04:11:34.275Z"
   },
   {
    "duration": 17,
    "start_time": "2022-04-24T04:11:34.303Z"
   },
   {
    "duration": 17,
    "start_time": "2022-04-24T04:11:34.322Z"
   },
   {
    "duration": 4,
    "start_time": "2022-04-24T04:11:34.340Z"
   },
   {
    "duration": 5,
    "start_time": "2022-04-24T04:11:34.373Z"
   },
   {
    "duration": 9,
    "start_time": "2022-04-24T04:11:34.380Z"
   },
   {
    "duration": 9,
    "start_time": "2022-04-24T04:11:34.390Z"
   },
   {
    "duration": 8,
    "start_time": "2022-04-24T04:11:34.401Z"
   },
   {
    "duration": 9,
    "start_time": "2022-04-24T04:11:34.411Z"
   },
   {
    "duration": 582,
    "start_time": "2022-04-24T04:11:34.422Z"
   },
   {
    "duration": 6,
    "start_time": "2022-04-24T04:11:35.005Z"
   },
   {
    "duration": 8,
    "start_time": "2022-04-24T04:11:35.013Z"
   },
   {
    "duration": 7,
    "start_time": "2022-04-24T04:11:35.022Z"
   },
   {
    "duration": 6,
    "start_time": "2022-04-24T04:11:35.031Z"
   },
   {
    "duration": 35,
    "start_time": "2022-04-24T04:11:35.039Z"
   },
   {
    "duration": 5,
    "start_time": "2022-04-24T04:11:35.076Z"
   },
   {
    "duration": 713,
    "start_time": "2022-04-24T04:11:35.083Z"
   },
   {
    "duration": 145,
    "start_time": "2022-04-24T04:11:35.798Z"
   },
   {
    "duration": 5,
    "start_time": "2022-04-24T04:11:35.945Z"
   },
   {
    "duration": 6,
    "start_time": "2022-04-24T04:11:35.952Z"
   },
   {
    "duration": 5,
    "start_time": "2022-04-24T04:11:35.973Z"
   },
   {
    "duration": 9,
    "start_time": "2022-04-24T04:11:35.980Z"
   },
   {
    "duration": 596,
    "start_time": "2022-04-24T04:11:35.990Z"
   },
   {
    "duration": 3,
    "start_time": "2022-04-24T04:11:36.588Z"
   },
   {
    "duration": 9,
    "start_time": "2022-04-24T04:11:36.592Z"
   },
   {
    "duration": 5,
    "start_time": "2022-04-24T04:11:36.603Z"
   },
   {
    "duration": 6,
    "start_time": "2022-04-24T04:11:36.609Z"
   },
   {
    "duration": 5,
    "start_time": "2022-04-24T04:11:36.616Z"
   },
   {
    "duration": 11,
    "start_time": "2022-04-24T04:11:36.622Z"
   },
   {
    "duration": 11,
    "start_time": "2022-04-24T04:11:36.634Z"
   },
   {
    "duration": 0,
    "start_time": "2022-04-24T04:11:36.673Z"
   },
   {
    "duration": 0,
    "start_time": "2022-04-24T04:11:36.674Z"
   },
   {
    "duration": 6,
    "start_time": "2022-04-24T04:11:57.506Z"
   },
   {
    "duration": 3,
    "start_time": "2022-04-24T04:12:17.652Z"
   },
   {
    "duration": 9,
    "start_time": "2022-04-24T04:12:27.485Z"
   },
   {
    "duration": 3,
    "start_time": "2022-04-24T04:12:37.005Z"
   },
   {
    "duration": 177,
    "start_time": "2022-04-24T04:12:37.010Z"
   },
   {
    "duration": 26,
    "start_time": "2022-04-24T04:12:37.189Z"
   },
   {
    "duration": 58,
    "start_time": "2022-04-24T04:12:37.217Z"
   },
   {
    "duration": 6,
    "start_time": "2022-04-24T04:12:37.277Z"
   },
   {
    "duration": 8,
    "start_time": "2022-04-24T04:12:37.284Z"
   },
   {
    "duration": 29,
    "start_time": "2022-04-24T04:12:37.293Z"
   },
   {
    "duration": 154,
    "start_time": "2022-04-24T04:12:37.324Z"
   },
   {
    "duration": 21,
    "start_time": "2022-04-24T04:12:37.480Z"
   },
   {
    "duration": 23,
    "start_time": "2022-04-24T04:12:37.503Z"
   },
   {
    "duration": 17,
    "start_time": "2022-04-24T04:12:37.529Z"
   },
   {
    "duration": 88,
    "start_time": "2022-04-24T04:12:37.573Z"
   },
   {
    "duration": 28,
    "start_time": "2022-04-24T04:12:37.663Z"
   },
   {
    "duration": 31,
    "start_time": "2022-04-24T04:12:37.693Z"
   },
   {
    "duration": 14,
    "start_time": "2022-04-24T04:12:37.726Z"
   },
   {
    "duration": 31,
    "start_time": "2022-04-24T04:12:37.742Z"
   },
   {
    "duration": 10,
    "start_time": "2022-04-24T04:12:37.775Z"
   },
   {
    "duration": 25,
    "start_time": "2022-04-24T04:12:37.786Z"
   },
   {
    "duration": 5,
    "start_time": "2022-04-24T04:12:37.812Z"
   },
   {
    "duration": 12,
    "start_time": "2022-04-24T04:12:37.819Z"
   },
   {
    "duration": 8,
    "start_time": "2022-04-24T04:12:37.833Z"
   },
   {
    "duration": 31,
    "start_time": "2022-04-24T04:12:37.843Z"
   },
   {
    "duration": 11,
    "start_time": "2022-04-24T04:12:37.875Z"
   },
   {
    "duration": 48,
    "start_time": "2022-04-24T04:12:37.888Z"
   },
   {
    "duration": 4,
    "start_time": "2022-04-24T04:12:37.938Z"
   },
   {
    "duration": 91,
    "start_time": "2022-04-24T04:12:37.943Z"
   },
   {
    "duration": 99,
    "start_time": "2022-04-24T04:12:38.035Z"
   },
   {
    "duration": 46,
    "start_time": "2022-04-24T04:12:38.136Z"
   },
   {
    "duration": 11,
    "start_time": "2022-04-24T04:12:38.186Z"
   },
   {
    "duration": 46,
    "start_time": "2022-04-24T04:12:38.198Z"
   },
   {
    "duration": 36,
    "start_time": "2022-04-24T04:12:38.246Z"
   },
   {
    "duration": 11,
    "start_time": "2022-04-24T04:12:38.283Z"
   },
   {
    "duration": 24,
    "start_time": "2022-04-24T04:12:38.296Z"
   },
   {
    "duration": 12,
    "start_time": "2022-04-24T04:12:38.322Z"
   },
   {
    "duration": 51,
    "start_time": "2022-04-24T04:12:38.335Z"
   },
   {
    "duration": 29,
    "start_time": "2022-04-24T04:12:38.388Z"
   },
   {
    "duration": 76,
    "start_time": "2022-04-24T04:12:38.419Z"
   },
   {
    "duration": 55,
    "start_time": "2022-04-24T04:12:38.497Z"
   },
   {
    "duration": 73,
    "start_time": "2022-04-24T04:12:38.554Z"
   },
   {
    "duration": 28,
    "start_time": "2022-04-24T04:12:38.628Z"
   },
   {
    "duration": 19,
    "start_time": "2022-04-24T04:12:38.674Z"
   },
   {
    "duration": 18,
    "start_time": "2022-04-24T04:12:38.694Z"
   },
   {
    "duration": 6,
    "start_time": "2022-04-24T04:12:38.714Z"
   },
   {
    "duration": 7,
    "start_time": "2022-04-24T04:12:38.721Z"
   },
   {
    "duration": 6,
    "start_time": "2022-04-24T04:12:38.729Z"
   },
   {
    "duration": 36,
    "start_time": "2022-04-24T04:12:38.737Z"
   },
   {
    "duration": 5,
    "start_time": "2022-04-24T04:12:38.775Z"
   },
   {
    "duration": 8,
    "start_time": "2022-04-24T04:12:38.781Z"
   },
   {
    "duration": 724,
    "start_time": "2022-04-24T04:12:38.790Z"
   },
   {
    "duration": 5,
    "start_time": "2022-04-24T04:12:39.516Z"
   },
   {
    "duration": 7,
    "start_time": "2022-04-24T04:12:39.522Z"
   },
   {
    "duration": 6,
    "start_time": "2022-04-24T04:12:39.531Z"
   },
   {
    "duration": 7,
    "start_time": "2022-04-24T04:12:39.538Z"
   },
   {
    "duration": 26,
    "start_time": "2022-04-24T04:12:39.547Z"
   },
   {
    "duration": 5,
    "start_time": "2022-04-24T04:12:39.575Z"
   },
   {
    "duration": 570,
    "start_time": "2022-04-24T04:12:39.581Z"
   },
   {
    "duration": 143,
    "start_time": "2022-04-24T04:12:40.153Z"
   },
   {
    "duration": 4,
    "start_time": "2022-04-24T04:12:40.298Z"
   },
   {
    "duration": 7,
    "start_time": "2022-04-24T04:12:40.304Z"
   },
   {
    "duration": 6,
    "start_time": "2022-04-24T04:12:40.313Z"
   },
   {
    "duration": 8,
    "start_time": "2022-04-24T04:12:40.321Z"
   },
   {
    "duration": 567,
    "start_time": "2022-04-24T04:12:40.330Z"
   },
   {
    "duration": 3,
    "start_time": "2022-04-24T04:12:40.898Z"
   },
   {
    "duration": 6,
    "start_time": "2022-04-24T04:12:40.903Z"
   },
   {
    "duration": 6,
    "start_time": "2022-04-24T04:12:40.911Z"
   },
   {
    "duration": 8,
    "start_time": "2022-04-24T04:12:40.919Z"
   },
   {
    "duration": 5,
    "start_time": "2022-04-24T04:12:40.928Z"
   },
   {
    "duration": 10,
    "start_time": "2022-04-24T04:12:40.935Z"
   },
   {
    "duration": 32,
    "start_time": "2022-04-24T04:12:40.946Z"
   },
   {
    "duration": 3,
    "start_time": "2022-04-24T04:12:40.979Z"
   },
   {
    "duration": 8,
    "start_time": "2022-04-24T04:12:40.984Z"
   },
   {
    "duration": 4,
    "start_time": "2022-04-24T04:12:40.994Z"
   },
   {
    "duration": 7,
    "start_time": "2022-04-24T04:12:40.999Z"
   },
   {
    "duration": 5,
    "start_time": "2022-04-24T04:16:27.127Z"
   },
   {
    "duration": 15,
    "start_time": "2022-04-24T04:23:27.805Z"
   },
   {
    "duration": 17,
    "start_time": "2022-04-24T04:23:51.405Z"
   },
   {
    "duration": 17,
    "start_time": "2022-04-24T04:25:21.718Z"
   },
   {
    "duration": 4,
    "start_time": "2022-04-24T04:26:27.134Z"
   },
   {
    "duration": 5,
    "start_time": "2022-04-24T04:26:35.229Z"
   },
   {
    "duration": 5,
    "start_time": "2022-04-24T04:27:09.808Z"
   },
   {
    "duration": 17,
    "start_time": "2022-04-24T04:28:12.383Z"
   },
   {
    "duration": 5,
    "start_time": "2022-04-24T04:30:19.786Z"
   },
   {
    "duration": 756,
    "start_time": "2022-04-24T04:31:13.802Z"
   },
   {
    "duration": 526,
    "start_time": "2022-04-24T04:31:28.963Z"
   },
   {
    "duration": 559,
    "start_time": "2022-04-24T04:34:19.733Z"
   },
   {
    "duration": 758,
    "start_time": "2022-04-24T04:34:45.741Z"
   },
   {
    "duration": 5,
    "start_time": "2022-04-24T04:38:53.680Z"
   },
   {
    "duration": 4,
    "start_time": "2022-04-24T04:39:03.936Z"
   },
   {
    "duration": 5,
    "start_time": "2022-04-24T04:42:22.619Z"
   },
   {
    "duration": 5,
    "start_time": "2022-04-24T04:44:44.868Z"
   },
   {
    "duration": 5,
    "start_time": "2022-04-24T04:45:15.524Z"
   },
   {
    "duration": 6,
    "start_time": "2022-04-24T04:45:26.092Z"
   },
   {
    "duration": 6,
    "start_time": "2022-04-24T04:45:34.243Z"
   },
   {
    "duration": 5,
    "start_time": "2022-04-24T04:46:03.181Z"
   },
   {
    "duration": 5,
    "start_time": "2022-04-24T04:46:13.413Z"
   },
   {
    "duration": 560,
    "start_time": "2022-04-24T04:52:31.451Z"
   },
   {
    "duration": 519,
    "start_time": "2022-04-24T04:53:16.129Z"
   },
   {
    "duration": 745,
    "start_time": "2022-04-24T04:57:36.573Z"
   },
   {
    "duration": 20,
    "start_time": "2022-04-24T05:02:00.050Z"
   },
   {
    "duration": 18,
    "start_time": "2022-04-24T05:02:25.289Z"
   },
   {
    "duration": 1776,
    "start_time": "2022-04-24T05:13:49.762Z"
   },
   {
    "duration": 9,
    "start_time": "2022-04-24T05:14:38.795Z"
   },
   {
    "duration": 19,
    "start_time": "2022-04-24T05:14:46.370Z"
   },
   {
    "duration": 18,
    "start_time": "2022-04-24T05:14:50.067Z"
   },
   {
    "duration": 18,
    "start_time": "2022-04-24T05:15:09.220Z"
   },
   {
    "duration": 5,
    "start_time": "2022-04-24T05:15:16.507Z"
   },
   {
    "duration": 4,
    "start_time": "2022-04-24T05:15:24.459Z"
   },
   {
    "duration": 5,
    "start_time": "2022-04-24T05:15:50.396Z"
   },
   {
    "duration": 4,
    "start_time": "2022-04-24T05:15:51.709Z"
   },
   {
    "duration": 4,
    "start_time": "2022-04-24T05:16:09.141Z"
   },
   {
    "duration": 5,
    "start_time": "2022-04-24T05:16:23.228Z"
   },
   {
    "duration": 535,
    "start_time": "2022-04-24T05:16:56.901Z"
   },
   {
    "duration": 5,
    "start_time": "2022-04-24T05:17:09.026Z"
   },
   {
    "duration": 5,
    "start_time": "2022-04-24T05:17:55.637Z"
   },
   {
    "duration": 4,
    "start_time": "2022-04-24T05:18:09.758Z"
   },
   {
    "duration": 3,
    "start_time": "2022-04-24T05:18:21.030Z"
   },
   {
    "duration": 182,
    "start_time": "2022-04-24T05:18:21.037Z"
   },
   {
    "duration": 52,
    "start_time": "2022-04-24T05:18:21.221Z"
   },
   {
    "duration": 30,
    "start_time": "2022-04-24T05:18:21.275Z"
   },
   {
    "duration": 5,
    "start_time": "2022-04-24T05:18:21.308Z"
   },
   {
    "duration": 11,
    "start_time": "2022-04-24T05:18:21.315Z"
   },
   {
    "duration": 24,
    "start_time": "2022-04-24T05:18:21.327Z"
   },
   {
    "duration": 138,
    "start_time": "2022-04-24T05:18:21.373Z"
   },
   {
    "duration": 22,
    "start_time": "2022-04-24T05:18:21.512Z"
   },
   {
    "duration": 47,
    "start_time": "2022-04-24T05:18:21.536Z"
   },
   {
    "duration": 15,
    "start_time": "2022-04-24T05:18:21.586Z"
   },
   {
    "duration": 98,
    "start_time": "2022-04-24T05:18:21.603Z"
   },
   {
    "duration": 19,
    "start_time": "2022-04-24T05:18:21.703Z"
   },
   {
    "duration": 49,
    "start_time": "2022-04-24T05:18:21.724Z"
   },
   {
    "duration": 16,
    "start_time": "2022-04-24T05:18:21.775Z"
   },
   {
    "duration": 11,
    "start_time": "2022-04-24T05:18:21.793Z"
   },
   {
    "duration": 17,
    "start_time": "2022-04-24T05:18:21.805Z"
   },
   {
    "duration": 34,
    "start_time": "2022-04-24T05:18:21.824Z"
   },
   {
    "duration": 5,
    "start_time": "2022-04-24T05:18:21.859Z"
   },
   {
    "duration": 17,
    "start_time": "2022-04-24T05:18:21.865Z"
   },
   {
    "duration": 8,
    "start_time": "2022-04-24T05:18:21.884Z"
   },
   {
    "duration": 13,
    "start_time": "2022-04-24T05:18:21.894Z"
   },
   {
    "duration": 15,
    "start_time": "2022-04-24T05:18:21.909Z"
   },
   {
    "duration": 73,
    "start_time": "2022-04-24T05:18:21.926Z"
   },
   {
    "duration": 4,
    "start_time": "2022-04-24T05:18:22.001Z"
   },
   {
    "duration": 78,
    "start_time": "2022-04-24T05:18:22.007Z"
   },
   {
    "duration": 105,
    "start_time": "2022-04-24T05:18:22.087Z"
   },
   {
    "duration": 39,
    "start_time": "2022-04-24T05:18:22.193Z"
   },
   {
    "duration": 11,
    "start_time": "2022-04-24T05:18:22.237Z"
   },
   {
    "duration": 65,
    "start_time": "2022-04-24T05:18:22.250Z"
   },
   {
    "duration": 15,
    "start_time": "2022-04-24T05:18:22.317Z"
   },
   {
    "duration": 16,
    "start_time": "2022-04-24T05:18:22.334Z"
   },
   {
    "duration": 41,
    "start_time": "2022-04-24T05:18:22.351Z"
   },
   {
    "duration": 13,
    "start_time": "2022-04-24T05:18:22.393Z"
   },
   {
    "duration": 24,
    "start_time": "2022-04-24T05:18:22.407Z"
   },
   {
    "duration": 52,
    "start_time": "2022-04-24T05:18:22.432Z"
   },
   {
    "duration": 54,
    "start_time": "2022-04-24T05:18:22.486Z"
   },
   {
    "duration": 71,
    "start_time": "2022-04-24T05:18:22.542Z"
   },
   {
    "duration": 69,
    "start_time": "2022-04-24T05:18:22.615Z"
   },
   {
    "duration": 26,
    "start_time": "2022-04-24T05:18:22.686Z"
   },
   {
    "duration": 18,
    "start_time": "2022-04-24T05:18:22.714Z"
   },
   {
    "duration": 43,
    "start_time": "2022-04-24T05:18:22.734Z"
   },
   {
    "duration": 19,
    "start_time": "2022-04-24T05:18:22.779Z"
   },
   {
    "duration": 20,
    "start_time": "2022-04-24T05:18:22.799Z"
   },
   {
    "duration": 6,
    "start_time": "2022-04-24T05:18:22.820Z"
   },
   {
    "duration": 12,
    "start_time": "2022-04-24T05:18:22.828Z"
   },
   {
    "duration": 6,
    "start_time": "2022-04-24T05:18:22.873Z"
   },
   {
    "duration": 134,
    "start_time": "2022-04-24T05:18:22.880Z"
   },
   {
    "duration": 0,
    "start_time": "2022-04-24T05:18:23.016Z"
   },
   {
    "duration": 0,
    "start_time": "2022-04-24T05:18:23.018Z"
   },
   {
    "duration": 0,
    "start_time": "2022-04-24T05:18:23.020Z"
   },
   {
    "duration": 0,
    "start_time": "2022-04-24T05:18:23.021Z"
   },
   {
    "duration": 0,
    "start_time": "2022-04-24T05:18:23.022Z"
   },
   {
    "duration": 0,
    "start_time": "2022-04-24T05:18:23.024Z"
   },
   {
    "duration": 0,
    "start_time": "2022-04-24T05:18:23.026Z"
   },
   {
    "duration": 0,
    "start_time": "2022-04-24T05:18:23.027Z"
   },
   {
    "duration": 0,
    "start_time": "2022-04-24T05:18:23.029Z"
   },
   {
    "duration": 0,
    "start_time": "2022-04-24T05:18:23.030Z"
   },
   {
    "duration": 0,
    "start_time": "2022-04-24T05:18:23.031Z"
   },
   {
    "duration": 0,
    "start_time": "2022-04-24T05:18:23.033Z"
   },
   {
    "duration": 0,
    "start_time": "2022-04-24T05:18:23.034Z"
   },
   {
    "duration": 0,
    "start_time": "2022-04-24T05:18:23.036Z"
   },
   {
    "duration": 0,
    "start_time": "2022-04-24T05:18:23.038Z"
   },
   {
    "duration": 0,
    "start_time": "2022-04-24T05:18:23.039Z"
   },
   {
    "duration": 0,
    "start_time": "2022-04-24T05:18:23.041Z"
   },
   {
    "duration": 0,
    "start_time": "2022-04-24T05:18:23.042Z"
   },
   {
    "duration": 0,
    "start_time": "2022-04-24T05:18:23.044Z"
   },
   {
    "duration": 0,
    "start_time": "2022-04-24T05:18:23.045Z"
   },
   {
    "duration": 0,
    "start_time": "2022-04-24T05:18:23.047Z"
   },
   {
    "duration": 0,
    "start_time": "2022-04-24T05:18:23.048Z"
   },
   {
    "duration": 0,
    "start_time": "2022-04-24T05:18:23.049Z"
   },
   {
    "duration": 0,
    "start_time": "2022-04-24T05:18:23.050Z"
   },
   {
    "duration": 0,
    "start_time": "2022-04-24T05:18:23.051Z"
   },
   {
    "duration": 0,
    "start_time": "2022-04-24T05:18:23.052Z"
   },
   {
    "duration": 0,
    "start_time": "2022-04-24T05:18:23.053Z"
   },
   {
    "duration": 0,
    "start_time": "2022-04-24T05:18:23.054Z"
   },
   {
    "duration": 6,
    "start_time": "2022-04-24T05:19:21.063Z"
   },
   {
    "duration": 5,
    "start_time": "2022-04-24T05:19:25.982Z"
   },
   {
    "duration": 5,
    "start_time": "2022-04-24T05:19:44.415Z"
   },
   {
    "duration": 5,
    "start_time": "2022-04-24T05:19:48.136Z"
   },
   {
    "duration": 5,
    "start_time": "2022-04-24T05:20:20.135Z"
   },
   {
    "duration": 5,
    "start_time": "2022-04-24T05:20:21.087Z"
   },
   {
    "duration": 5,
    "start_time": "2022-04-24T05:20:31.552Z"
   },
   {
    "duration": 6,
    "start_time": "2022-04-24T05:20:38.384Z"
   },
   {
    "duration": 5,
    "start_time": "2022-04-24T05:20:39.535Z"
   },
   {
    "duration": 5,
    "start_time": "2022-04-24T05:20:40.975Z"
   },
   {
    "duration": 5,
    "start_time": "2022-04-24T05:20:42.495Z"
   },
   {
    "duration": 135,
    "start_time": "2022-04-24T05:20:52.015Z"
   },
   {
    "duration": 4,
    "start_time": "2022-04-24T05:20:55.360Z"
   },
   {
    "duration": 567,
    "start_time": "2022-04-24T05:23:14.538Z"
   },
   {
    "duration": 557,
    "start_time": "2022-04-24T05:26:03.605Z"
   },
   {
    "duration": 825,
    "start_time": "2022-04-24T05:26:33.718Z"
   },
   {
    "duration": 529,
    "start_time": "2022-04-24T05:26:45.262Z"
   },
   {
    "duration": 603,
    "start_time": "2022-04-24T05:33:41.085Z"
   },
   {
    "duration": 127,
    "start_time": "2022-04-24T05:36:42.974Z"
   },
   {
    "duration": 6,
    "start_time": "2022-04-24T05:37:05.973Z"
   },
   {
    "duration": 524,
    "start_time": "2022-04-24T05:37:11.246Z"
   },
   {
    "duration": 888,
    "start_time": "2022-04-24T05:39:04.912Z"
   },
   {
    "duration": 109,
    "start_time": "2022-04-24T05:39:52.105Z"
   },
   {
    "duration": 131,
    "start_time": "2022-04-24T05:40:59.121Z"
   },
   {
    "duration": 577,
    "start_time": "2022-04-24T05:41:01.849Z"
   },
   {
    "duration": 5,
    "start_time": "2022-04-24T05:43:11.859Z"
   },
   {
    "duration": 5,
    "start_time": "2022-04-24T05:45:10.365Z"
   },
   {
    "duration": 5,
    "start_time": "2022-04-24T05:45:34.300Z"
   },
   {
    "duration": 5,
    "start_time": "2022-04-24T05:46:51.989Z"
   },
   {
    "duration": 5,
    "start_time": "2022-04-24T05:47:05.181Z"
   },
   {
    "duration": 5,
    "start_time": "2022-04-24T05:47:31.389Z"
   },
   {
    "duration": 5,
    "start_time": "2022-04-24T05:49:02.982Z"
   },
   {
    "duration": 4,
    "start_time": "2022-04-24T05:49:12.134Z"
   },
   {
    "duration": 537,
    "start_time": "2022-04-24T05:49:56.031Z"
   },
   {
    "duration": 576,
    "start_time": "2022-04-24T05:51:43.367Z"
   },
   {
    "duration": 2,
    "start_time": "2022-04-24T05:55:19.753Z"
   },
   {
    "duration": 816,
    "start_time": "2022-04-24T10:43:17.942Z"
   },
   {
    "duration": 156,
    "start_time": "2022-04-24T10:43:18.761Z"
   },
   {
    "duration": 28,
    "start_time": "2022-04-24T10:43:18.919Z"
   },
   {
    "duration": 47,
    "start_time": "2022-04-24T10:43:18.949Z"
   },
   {
    "duration": 6,
    "start_time": "2022-04-24T10:43:18.998Z"
   },
   {
    "duration": 9,
    "start_time": "2022-04-24T10:43:19.006Z"
   },
   {
    "duration": 21,
    "start_time": "2022-04-24T10:43:19.016Z"
   },
   {
    "duration": 151,
    "start_time": "2022-04-24T10:43:19.039Z"
   },
   {
    "duration": 22,
    "start_time": "2022-04-24T10:43:19.192Z"
   },
   {
    "duration": 27,
    "start_time": "2022-04-24T10:43:19.217Z"
   },
   {
    "duration": 17,
    "start_time": "2022-04-24T10:43:19.246Z"
   },
   {
    "duration": 113,
    "start_time": "2022-04-24T10:43:19.265Z"
   },
   {
    "duration": 24,
    "start_time": "2022-04-24T10:43:19.380Z"
   },
   {
    "duration": 33,
    "start_time": "2022-04-24T10:43:19.405Z"
   },
   {
    "duration": 26,
    "start_time": "2022-04-24T10:43:19.440Z"
   },
   {
    "duration": 73,
    "start_time": "2022-04-24T10:43:19.469Z"
   },
   {
    "duration": 15,
    "start_time": "2022-04-24T10:43:19.544Z"
   },
   {
    "duration": 22,
    "start_time": "2022-04-24T10:43:19.560Z"
   },
   {
    "duration": 5,
    "start_time": "2022-04-24T10:43:19.583Z"
   },
   {
    "duration": 11,
    "start_time": "2022-04-24T10:43:19.589Z"
   },
   {
    "duration": 5,
    "start_time": "2022-04-24T10:43:19.602Z"
   },
   {
    "duration": 11,
    "start_time": "2022-04-24T10:43:19.609Z"
   },
   {
    "duration": 12,
    "start_time": "2022-04-24T10:43:19.622Z"
   },
   {
    "duration": 70,
    "start_time": "2022-04-24T10:43:19.636Z"
   },
   {
    "duration": 3,
    "start_time": "2022-04-24T10:43:19.708Z"
   },
   {
    "duration": 79,
    "start_time": "2022-04-24T10:43:19.713Z"
   },
   {
    "duration": 99,
    "start_time": "2022-04-24T10:43:19.794Z"
   },
   {
    "duration": 37,
    "start_time": "2022-04-24T10:43:19.898Z"
   },
   {
    "duration": 9,
    "start_time": "2022-04-24T10:43:19.937Z"
   },
   {
    "duration": 60,
    "start_time": "2022-04-24T10:43:19.948Z"
   },
   {
    "duration": 14,
    "start_time": "2022-04-24T10:43:20.010Z"
   },
   {
    "duration": 11,
    "start_time": "2022-04-24T10:43:20.026Z"
   },
   {
    "duration": 25,
    "start_time": "2022-04-24T10:43:20.038Z"
   },
   {
    "duration": 40,
    "start_time": "2022-04-24T10:43:20.064Z"
   },
   {
    "duration": 27,
    "start_time": "2022-04-24T10:43:20.105Z"
   },
   {
    "duration": 27,
    "start_time": "2022-04-24T10:43:20.134Z"
   },
   {
    "duration": 76,
    "start_time": "2022-04-24T10:43:20.163Z"
   },
   {
    "duration": 69,
    "start_time": "2022-04-24T10:43:20.241Z"
   },
   {
    "duration": 55,
    "start_time": "2022-04-24T10:43:20.312Z"
   },
   {
    "duration": 41,
    "start_time": "2022-04-24T10:43:20.368Z"
   },
   {
    "duration": 18,
    "start_time": "2022-04-24T10:43:20.410Z"
   },
   {
    "duration": 17,
    "start_time": "2022-04-24T10:43:20.430Z"
   },
   {
    "duration": 18,
    "start_time": "2022-04-24T10:43:20.449Z"
   },
   {
    "duration": 17,
    "start_time": "2022-04-24T10:43:20.493Z"
   },
   {
    "duration": 4,
    "start_time": "2022-04-24T10:43:20.512Z"
   },
   {
    "duration": 7,
    "start_time": "2022-04-24T10:43:20.517Z"
   },
   {
    "duration": 7,
    "start_time": "2022-04-24T10:43:20.525Z"
   },
   {
    "duration": 8,
    "start_time": "2022-04-24T10:43:20.533Z"
   },
   {
    "duration": 6,
    "start_time": "2022-04-24T10:43:20.542Z"
   },
   {
    "duration": 8,
    "start_time": "2022-04-24T10:43:20.549Z"
   },
   {
    "duration": 713,
    "start_time": "2022-04-24T10:43:20.558Z"
   },
   {
    "duration": 593,
    "start_time": "2022-04-24T10:43:21.273Z"
   },
   {
    "duration": 4,
    "start_time": "2022-04-24T10:43:21.868Z"
   },
   {
    "duration": 19,
    "start_time": "2022-04-24T10:43:21.874Z"
   },
   {
    "duration": 11,
    "start_time": "2022-04-24T10:43:21.895Z"
   },
   {
    "duration": 9,
    "start_time": "2022-04-24T10:43:21.907Z"
   },
   {
    "duration": 9,
    "start_time": "2022-04-24T10:43:21.918Z"
   },
   {
    "duration": 16,
    "start_time": "2022-04-24T10:43:21.929Z"
   },
   {
    "duration": 563,
    "start_time": "2022-04-24T10:43:21.947Z"
   },
   {
    "duration": 660,
    "start_time": "2022-04-24T10:43:22.512Z"
   },
   {
    "duration": 219,
    "start_time": "2022-04-24T10:43:23.174Z"
   },
   {
    "duration": 4,
    "start_time": "2022-04-24T10:43:23.395Z"
   },
   {
    "duration": 7,
    "start_time": "2022-04-24T10:43:23.401Z"
   },
   {
    "duration": 8,
    "start_time": "2022-04-24T10:43:23.409Z"
   },
   {
    "duration": 6,
    "start_time": "2022-04-24T10:43:23.418Z"
   },
   {
    "duration": 6,
    "start_time": "2022-04-24T10:43:23.426Z"
   },
   {
    "duration": 6,
    "start_time": "2022-04-24T10:43:23.433Z"
   },
   {
    "duration": 12,
    "start_time": "2022-04-24T10:43:23.440Z"
   },
   {
    "duration": 559,
    "start_time": "2022-04-24T10:43:23.454Z"
   },
   {
    "duration": 555,
    "start_time": "2022-04-24T10:43:24.014Z"
   },
   {
    "duration": 507,
    "start_time": "2022-04-24T10:43:24.571Z"
   },
   {
    "duration": 5,
    "start_time": "2022-04-24T10:43:25.080Z"
   },
   {
    "duration": 4,
    "start_time": "2022-04-24T10:43:25.093Z"
   },
   {
    "duration": 11,
    "start_time": "2022-04-24T10:43:25.099Z"
   },
   {
    "duration": 6,
    "start_time": "2022-04-24T10:43:25.112Z"
   },
   {
    "duration": 9,
    "start_time": "2022-04-24T10:43:25.120Z"
   },
   {
    "duration": 8,
    "start_time": "2022-04-24T10:43:25.131Z"
   },
   {
    "duration": 3,
    "start_time": "2022-04-24T10:43:25.141Z"
   },
   {
    "duration": 10,
    "start_time": "2022-04-24T10:43:25.145Z"
   },
   {
    "duration": 6,
    "start_time": "2022-04-24T10:43:25.157Z"
   },
   {
    "duration": 5,
    "start_time": "2022-04-24T10:43:25.193Z"
   },
   {
    "duration": 707,
    "start_time": "2022-04-30T09:35:45.036Z"
   },
   {
    "duration": 153,
    "start_time": "2022-04-30T09:35:45.745Z"
   },
   {
    "duration": 30,
    "start_time": "2022-04-30T09:35:45.900Z"
   },
   {
    "duration": 49,
    "start_time": "2022-04-30T09:35:45.932Z"
   },
   {
    "duration": 16,
    "start_time": "2022-04-30T09:35:45.983Z"
   },
   {
    "duration": 29,
    "start_time": "2022-04-30T09:35:46.000Z"
   },
   {
    "duration": 46,
    "start_time": "2022-04-30T09:35:46.031Z"
   },
   {
    "duration": 189,
    "start_time": "2022-04-30T09:35:46.079Z"
   },
   {
    "duration": 34,
    "start_time": "2022-04-30T09:35:46.271Z"
   },
   {
    "duration": 39,
    "start_time": "2022-04-30T09:35:46.322Z"
   },
   {
    "duration": 24,
    "start_time": "2022-04-30T09:35:46.363Z"
   },
   {
    "duration": 94,
    "start_time": "2022-04-30T09:35:46.388Z"
   },
   {
    "duration": 19,
    "start_time": "2022-04-30T09:35:46.484Z"
   },
   {
    "duration": 46,
    "start_time": "2022-04-30T09:35:46.505Z"
   },
   {
    "duration": 20,
    "start_time": "2022-04-30T09:35:46.553Z"
   },
   {
    "duration": 23,
    "start_time": "2022-04-30T09:35:46.574Z"
   },
   {
    "duration": 30,
    "start_time": "2022-04-30T09:35:46.598Z"
   },
   {
    "duration": 60,
    "start_time": "2022-04-30T09:35:46.630Z"
   },
   {
    "duration": 5,
    "start_time": "2022-04-30T09:35:46.692Z"
   },
   {
    "duration": 50,
    "start_time": "2022-04-30T09:35:46.699Z"
   },
   {
    "duration": 37,
    "start_time": "2022-04-30T09:35:46.751Z"
   },
   {
    "duration": 34,
    "start_time": "2022-04-30T09:35:46.790Z"
   },
   {
    "duration": 36,
    "start_time": "2022-04-30T09:35:46.826Z"
   },
   {
    "duration": 77,
    "start_time": "2022-04-30T09:35:46.864Z"
   },
   {
    "duration": 3,
    "start_time": "2022-04-30T09:35:46.943Z"
   },
   {
    "duration": 90,
    "start_time": "2022-04-30T09:35:46.948Z"
   },
   {
    "duration": 130,
    "start_time": "2022-04-30T09:35:47.040Z"
   },
   {
    "duration": 32,
    "start_time": "2022-04-30T09:35:47.175Z"
   },
   {
    "duration": 24,
    "start_time": "2022-04-30T09:35:47.209Z"
   },
   {
    "duration": 73,
    "start_time": "2022-04-30T09:35:47.235Z"
   },
   {
    "duration": 19,
    "start_time": "2022-04-30T09:35:47.322Z"
   },
   {
    "duration": 10,
    "start_time": "2022-04-30T09:35:47.343Z"
   },
   {
    "duration": 33,
    "start_time": "2022-04-30T09:35:47.355Z"
   },
   {
    "duration": 12,
    "start_time": "2022-04-30T09:35:47.389Z"
   },
   {
    "duration": 21,
    "start_time": "2022-04-30T09:35:47.423Z"
   },
   {
    "duration": 28,
    "start_time": "2022-04-30T09:35:47.446Z"
   },
   {
    "duration": 72,
    "start_time": "2022-04-30T09:35:47.476Z"
   },
   {
    "duration": 89,
    "start_time": "2022-04-30T09:35:47.549Z"
   },
   {
    "duration": 91,
    "start_time": "2022-04-30T09:35:47.641Z"
   },
   {
    "duration": 35,
    "start_time": "2022-04-30T09:35:47.734Z"
   },
   {
    "duration": 16,
    "start_time": "2022-04-30T09:35:47.771Z"
   },
   {
    "duration": 43,
    "start_time": "2022-04-30T09:35:47.789Z"
   },
   {
    "duration": 35,
    "start_time": "2022-04-30T09:35:47.834Z"
   },
   {
    "duration": 18,
    "start_time": "2022-04-30T09:35:47.871Z"
   },
   {
    "duration": 13,
    "start_time": "2022-04-30T09:35:47.891Z"
   },
   {
    "duration": 22,
    "start_time": "2022-04-30T09:35:47.906Z"
   },
   {
    "duration": 8,
    "start_time": "2022-04-30T09:35:47.930Z"
   },
   {
    "duration": 7,
    "start_time": "2022-04-30T09:35:47.939Z"
   },
   {
    "duration": 15,
    "start_time": "2022-04-30T09:35:47.948Z"
   },
   {
    "duration": 23,
    "start_time": "2022-04-30T09:35:47.964Z"
   },
   {
    "duration": 784,
    "start_time": "2022-04-30T09:35:47.989Z"
   },
   {
    "duration": 883,
    "start_time": "2022-04-30T09:35:48.775Z"
   },
   {
    "duration": 5,
    "start_time": "2022-04-30T09:35:49.661Z"
   },
   {
    "duration": 12,
    "start_time": "2022-04-30T09:35:49.667Z"
   },
   {
    "duration": 7,
    "start_time": "2022-04-30T09:35:49.681Z"
   },
   {
    "duration": 5,
    "start_time": "2022-04-30T09:35:49.690Z"
   },
   {
    "duration": 4,
    "start_time": "2022-04-30T09:35:49.722Z"
   },
   {
    "duration": 6,
    "start_time": "2022-04-30T09:35:49.728Z"
   },
   {
    "duration": 522,
    "start_time": "2022-04-30T09:35:49.736Z"
   },
   {
    "duration": 531,
    "start_time": "2022-04-30T09:35:50.260Z"
   },
   {
    "duration": 313,
    "start_time": "2022-04-30T09:35:50.793Z"
   },
   {
    "duration": 6,
    "start_time": "2022-04-30T09:35:51.108Z"
   },
   {
    "duration": 5,
    "start_time": "2022-04-30T09:35:51.123Z"
   },
   {
    "duration": 10,
    "start_time": "2022-04-30T09:35:51.129Z"
   },
   {
    "duration": 8,
    "start_time": "2022-04-30T09:35:51.140Z"
   },
   {
    "duration": 7,
    "start_time": "2022-04-30T09:35:51.149Z"
   },
   {
    "duration": 6,
    "start_time": "2022-04-30T09:35:51.157Z"
   },
   {
    "duration": 5,
    "start_time": "2022-04-30T09:35:51.165Z"
   },
   {
    "duration": 836,
    "start_time": "2022-04-30T09:35:51.172Z"
   },
   {
    "duration": 858,
    "start_time": "2022-04-30T09:35:52.010Z"
   },
   {
    "duration": 501,
    "start_time": "2022-04-30T09:35:52.870Z"
   },
   {
    "duration": 4,
    "start_time": "2022-04-30T09:35:53.373Z"
   },
   {
    "duration": 8,
    "start_time": "2022-04-30T09:35:53.379Z"
   },
   {
    "duration": 7,
    "start_time": "2022-04-30T09:35:53.388Z"
   },
   {
    "duration": 27,
    "start_time": "2022-04-30T09:35:53.396Z"
   },
   {
    "duration": 11,
    "start_time": "2022-04-30T09:35:53.424Z"
   },
   {
    "duration": 6,
    "start_time": "2022-04-30T09:35:53.437Z"
   },
   {
    "duration": 4,
    "start_time": "2022-04-30T09:35:53.444Z"
   },
   {
    "duration": 9,
    "start_time": "2022-04-30T09:35:53.450Z"
   },
   {
    "duration": 12,
    "start_time": "2022-04-30T09:35:53.461Z"
   },
   {
    "duration": 14,
    "start_time": "2022-04-30T09:35:53.475Z"
   },
   {
    "duration": 17,
    "start_time": "2022-04-30T09:38:04.885Z"
   },
   {
    "duration": 49,
    "start_time": "2022-05-01T07:00:07.584Z"
   },
   {
    "duration": 935,
    "start_time": "2022-05-01T07:00:12.061Z"
   },
   {
    "duration": 170,
    "start_time": "2022-05-01T07:00:12.999Z"
   },
   {
    "duration": 28,
    "start_time": "2022-05-01T07:00:13.170Z"
   },
   {
    "duration": 34,
    "start_time": "2022-05-01T07:00:13.201Z"
   },
   {
    "duration": 7,
    "start_time": "2022-05-01T07:00:13.237Z"
   },
   {
    "duration": 33,
    "start_time": "2022-05-01T07:00:13.246Z"
   },
   {
    "duration": 29,
    "start_time": "2022-05-01T07:00:13.281Z"
   },
   {
    "duration": 190,
    "start_time": "2022-05-01T07:00:13.313Z"
   },
   {
    "duration": 23,
    "start_time": "2022-05-01T07:00:13.505Z"
   },
   {
    "duration": 45,
    "start_time": "2022-05-01T07:00:13.531Z"
   },
   {
    "duration": 19,
    "start_time": "2022-05-01T07:00:13.578Z"
   },
   {
    "duration": 118,
    "start_time": "2022-05-01T07:00:13.599Z"
   },
   {
    "duration": 25,
    "start_time": "2022-05-01T07:00:13.719Z"
   },
   {
    "duration": 48,
    "start_time": "2022-05-01T07:00:13.746Z"
   },
   {
    "duration": 16,
    "start_time": "2022-05-01T07:00:13.796Z"
   },
   {
    "duration": 10,
    "start_time": "2022-05-01T07:00:13.814Z"
   },
   {
    "duration": 26,
    "start_time": "2022-05-01T07:00:13.826Z"
   },
   {
    "duration": 34,
    "start_time": "2022-05-01T07:00:13.855Z"
   },
   {
    "duration": 6,
    "start_time": "2022-05-01T07:00:13.891Z"
   },
   {
    "duration": 16,
    "start_time": "2022-05-01T07:00:13.898Z"
   },
   {
    "duration": 9,
    "start_time": "2022-05-01T07:00:13.916Z"
   },
   {
    "duration": 15,
    "start_time": "2022-05-01T07:00:13.927Z"
   },
   {
    "duration": 12,
    "start_time": "2022-05-01T07:00:13.974Z"
   },
   {
    "duration": 62,
    "start_time": "2022-05-01T07:00:13.988Z"
   },
   {
    "duration": 49,
    "start_time": "2022-05-01T07:00:14.052Z"
   },
   {
    "duration": 4,
    "start_time": "2022-05-01T07:00:14.104Z"
   },
   {
    "duration": 94,
    "start_time": "2022-05-01T07:00:14.110Z"
   },
   {
    "duration": 113,
    "start_time": "2022-05-01T07:00:14.210Z"
   },
   {
    "duration": 53,
    "start_time": "2022-05-01T07:00:14.325Z"
   },
   {
    "duration": 11,
    "start_time": "2022-05-01T07:00:14.380Z"
   },
   {
    "duration": 53,
    "start_time": "2022-05-01T07:00:14.394Z"
   },
   {
    "duration": 38,
    "start_time": "2022-05-01T07:00:14.450Z"
   },
   {
    "duration": 45,
    "start_time": "2022-05-01T07:00:14.490Z"
   },
   {
    "duration": 0,
    "start_time": "2022-05-01T07:00:14.537Z"
   },
   {
    "duration": 0,
    "start_time": "2022-05-01T07:00:14.539Z"
   },
   {
    "duration": 0,
    "start_time": "2022-05-01T07:00:14.540Z"
   },
   {
    "duration": 0,
    "start_time": "2022-05-01T07:00:14.542Z"
   },
   {
    "duration": 0,
    "start_time": "2022-05-01T07:00:14.544Z"
   },
   {
    "duration": 0,
    "start_time": "2022-05-01T07:00:14.574Z"
   },
   {
    "duration": 0,
    "start_time": "2022-05-01T07:00:14.576Z"
   },
   {
    "duration": 0,
    "start_time": "2022-05-01T07:00:14.578Z"
   },
   {
    "duration": 0,
    "start_time": "2022-05-01T07:00:14.580Z"
   },
   {
    "duration": 0,
    "start_time": "2022-05-01T07:00:14.583Z"
   },
   {
    "duration": 0,
    "start_time": "2022-05-01T07:00:14.585Z"
   },
   {
    "duration": 0,
    "start_time": "2022-05-01T07:00:14.587Z"
   },
   {
    "duration": 0,
    "start_time": "2022-05-01T07:00:14.589Z"
   },
   {
    "duration": 0,
    "start_time": "2022-05-01T07:00:14.590Z"
   },
   {
    "duration": 0,
    "start_time": "2022-05-01T07:00:14.592Z"
   },
   {
    "duration": 0,
    "start_time": "2022-05-01T07:00:14.594Z"
   },
   {
    "duration": 0,
    "start_time": "2022-05-01T07:00:14.596Z"
   },
   {
    "duration": 0,
    "start_time": "2022-05-01T07:00:14.597Z"
   },
   {
    "duration": 0,
    "start_time": "2022-05-01T07:00:14.599Z"
   },
   {
    "duration": 0,
    "start_time": "2022-05-01T07:00:14.601Z"
   },
   {
    "duration": 0,
    "start_time": "2022-05-01T07:00:14.602Z"
   },
   {
    "duration": 0,
    "start_time": "2022-05-01T07:00:14.604Z"
   },
   {
    "duration": 0,
    "start_time": "2022-05-01T07:00:14.606Z"
   },
   {
    "duration": 0,
    "start_time": "2022-05-01T07:00:14.607Z"
   },
   {
    "duration": 0,
    "start_time": "2022-05-01T07:00:14.609Z"
   },
   {
    "duration": 0,
    "start_time": "2022-05-01T07:00:14.611Z"
   },
   {
    "duration": 0,
    "start_time": "2022-05-01T07:00:14.673Z"
   },
   {
    "duration": 0,
    "start_time": "2022-05-01T07:00:14.676Z"
   },
   {
    "duration": 1,
    "start_time": "2022-05-01T07:00:14.677Z"
   },
   {
    "duration": 0,
    "start_time": "2022-05-01T07:00:14.679Z"
   },
   {
    "duration": 0,
    "start_time": "2022-05-01T07:00:14.680Z"
   },
   {
    "duration": 0,
    "start_time": "2022-05-01T07:00:14.682Z"
   },
   {
    "duration": 0,
    "start_time": "2022-05-01T07:00:14.684Z"
   },
   {
    "duration": 0,
    "start_time": "2022-05-01T07:00:14.685Z"
   },
   {
    "duration": 0,
    "start_time": "2022-05-01T07:00:14.687Z"
   },
   {
    "duration": 0,
    "start_time": "2022-05-01T07:00:14.689Z"
   },
   {
    "duration": 0,
    "start_time": "2022-05-01T07:00:14.690Z"
   },
   {
    "duration": 0,
    "start_time": "2022-05-01T07:00:14.692Z"
   },
   {
    "duration": 0,
    "start_time": "2022-05-01T07:00:14.693Z"
   },
   {
    "duration": 0,
    "start_time": "2022-05-01T07:00:14.695Z"
   },
   {
    "duration": 0,
    "start_time": "2022-05-01T07:00:14.697Z"
   },
   {
    "duration": 0,
    "start_time": "2022-05-01T07:00:14.698Z"
   },
   {
    "duration": 0,
    "start_time": "2022-05-01T07:00:14.700Z"
   },
   {
    "duration": 0,
    "start_time": "2022-05-01T07:00:14.701Z"
   },
   {
    "duration": 0,
    "start_time": "2022-05-01T07:00:14.703Z"
   },
   {
    "duration": 0,
    "start_time": "2022-05-01T07:00:14.705Z"
   },
   {
    "duration": 0,
    "start_time": "2022-05-01T07:00:14.706Z"
   },
   {
    "duration": 0,
    "start_time": "2022-05-01T07:00:14.707Z"
   },
   {
    "duration": 0,
    "start_time": "2022-05-01T07:00:14.708Z"
   },
   {
    "duration": 13,
    "start_time": "2022-05-01T07:04:13.535Z"
   },
   {
    "duration": 3,
    "start_time": "2022-05-01T07:04:16.911Z"
   },
   {
    "duration": 185,
    "start_time": "2022-05-01T07:04:16.918Z"
   },
   {
    "duration": 24,
    "start_time": "2022-05-01T07:04:17.105Z"
   },
   {
    "duration": 56,
    "start_time": "2022-05-01T07:04:17.131Z"
   },
   {
    "duration": 6,
    "start_time": "2022-05-01T07:04:17.192Z"
   },
   {
    "duration": 13,
    "start_time": "2022-05-01T07:04:17.200Z"
   },
   {
    "duration": 21,
    "start_time": "2022-05-01T07:04:17.215Z"
   },
   {
    "duration": 184,
    "start_time": "2022-05-01T07:04:17.238Z"
   },
   {
    "duration": 23,
    "start_time": "2022-05-01T07:04:17.424Z"
   },
   {
    "duration": 51,
    "start_time": "2022-05-01T07:04:17.449Z"
   },
   {
    "duration": 18,
    "start_time": "2022-05-01T07:04:17.503Z"
   },
   {
    "duration": 105,
    "start_time": "2022-05-01T07:04:17.523Z"
   },
   {
    "duration": 19,
    "start_time": "2022-05-01T07:04:17.630Z"
   },
   {
    "duration": 48,
    "start_time": "2022-05-01T07:04:17.651Z"
   },
   {
    "duration": 15,
    "start_time": "2022-05-01T07:04:17.701Z"
   },
   {
    "duration": 10,
    "start_time": "2022-05-01T07:04:17.718Z"
   },
   {
    "duration": 18,
    "start_time": "2022-05-01T07:04:17.730Z"
   },
   {
    "duration": 60,
    "start_time": "2022-05-01T07:04:17.749Z"
   },
   {
    "duration": 4,
    "start_time": "2022-05-01T07:04:17.811Z"
   },
   {
    "duration": 12,
    "start_time": "2022-05-01T07:04:17.817Z"
   },
   {
    "duration": 7,
    "start_time": "2022-05-01T07:04:17.831Z"
   },
   {
    "duration": 17,
    "start_time": "2022-05-01T07:04:17.839Z"
   },
   {
    "duration": 19,
    "start_time": "2022-05-01T07:04:17.857Z"
   },
   {
    "duration": 61,
    "start_time": "2022-05-01T07:04:17.878Z"
   },
   {
    "duration": 4,
    "start_time": "2022-05-01T07:04:17.941Z"
   },
   {
    "duration": 68,
    "start_time": "2022-05-01T07:04:17.947Z"
   },
   {
    "duration": 101,
    "start_time": "2022-05-01T07:04:18.017Z"
   },
   {
    "duration": 37,
    "start_time": "2022-05-01T07:04:18.120Z"
   },
   {
    "duration": 12,
    "start_time": "2022-05-01T07:04:18.174Z"
   },
   {
    "duration": 48,
    "start_time": "2022-05-01T07:04:18.188Z"
   },
   {
    "duration": 16,
    "start_time": "2022-05-01T07:04:18.237Z"
   },
   {
    "duration": 35,
    "start_time": "2022-05-01T07:04:18.255Z"
   },
   {
    "duration": 38,
    "start_time": "2022-05-01T07:04:18.292Z"
   },
   {
    "duration": 13,
    "start_time": "2022-05-01T07:04:18.332Z"
   },
   {
    "duration": 40,
    "start_time": "2022-05-01T07:04:18.347Z"
   },
   {
    "duration": 29,
    "start_time": "2022-05-01T07:04:18.389Z"
   },
   {
    "duration": 73,
    "start_time": "2022-05-01T07:04:18.420Z"
   },
   {
    "duration": 56,
    "start_time": "2022-05-01T07:04:18.494Z"
   },
   {
    "duration": 71,
    "start_time": "2022-05-01T07:04:18.552Z"
   },
   {
    "duration": 28,
    "start_time": "2022-05-01T07:04:18.625Z"
   },
   {
    "duration": 24,
    "start_time": "2022-05-01T07:04:18.674Z"
   },
   {
    "duration": 17,
    "start_time": "2022-05-01T07:04:18.700Z"
   },
   {
    "duration": 28,
    "start_time": "2022-05-01T07:04:18.720Z"
   },
   {
    "duration": 34,
    "start_time": "2022-05-01T07:04:18.750Z"
   },
   {
    "duration": 5,
    "start_time": "2022-05-01T07:04:18.786Z"
   },
   {
    "duration": 8,
    "start_time": "2022-05-01T07:04:18.793Z"
   },
   {
    "duration": 7,
    "start_time": "2022-05-01T07:04:18.802Z"
   },
   {
    "duration": 9,
    "start_time": "2022-05-01T07:04:18.811Z"
   },
   {
    "duration": 10,
    "start_time": "2022-05-01T07:04:18.821Z"
   },
   {
    "duration": 9,
    "start_time": "2022-05-01T07:04:18.833Z"
   },
   {
    "duration": 657,
    "start_time": "2022-05-01T07:04:18.844Z"
   },
   {
    "duration": 645,
    "start_time": "2022-05-01T07:04:19.503Z"
   },
   {
    "duration": 5,
    "start_time": "2022-05-01T07:04:20.149Z"
   },
   {
    "duration": 18,
    "start_time": "2022-05-01T07:04:20.156Z"
   },
   {
    "duration": 18,
    "start_time": "2022-05-01T07:04:20.176Z"
   },
   {
    "duration": 9,
    "start_time": "2022-05-01T07:04:20.195Z"
   },
   {
    "duration": 7,
    "start_time": "2022-05-01T07:04:20.206Z"
   },
   {
    "duration": 13,
    "start_time": "2022-05-01T07:04:20.215Z"
   },
   {
    "duration": 589,
    "start_time": "2022-05-01T07:04:20.230Z"
   },
   {
    "duration": 594,
    "start_time": "2022-05-01T07:04:20.822Z"
   },
   {
    "duration": 259,
    "start_time": "2022-05-01T07:04:21.417Z"
   },
   {
    "duration": 5,
    "start_time": "2022-05-01T07:04:21.678Z"
   },
   {
    "duration": 15,
    "start_time": "2022-05-01T07:04:21.684Z"
   },
   {
    "duration": 11,
    "start_time": "2022-05-01T07:04:21.701Z"
   },
   {
    "duration": 6,
    "start_time": "2022-05-01T07:04:21.714Z"
   },
   {
    "duration": 7,
    "start_time": "2022-05-01T07:04:21.721Z"
   },
   {
    "duration": 7,
    "start_time": "2022-05-01T07:04:21.729Z"
   },
   {
    "duration": 8,
    "start_time": "2022-05-01T07:04:21.738Z"
   },
   {
    "duration": 614,
    "start_time": "2022-05-01T07:04:21.747Z"
   },
   {
    "duration": 606,
    "start_time": "2022-05-01T07:04:22.362Z"
   },
   {
    "duration": 533,
    "start_time": "2022-05-01T07:04:22.970Z"
   },
   {
    "duration": 4,
    "start_time": "2022-05-01T07:04:23.505Z"
   },
   {
    "duration": 6,
    "start_time": "2022-05-01T07:04:23.511Z"
   },
   {
    "duration": 7,
    "start_time": "2022-05-01T07:04:23.519Z"
   },
   {
    "duration": 22,
    "start_time": "2022-05-01T07:04:23.528Z"
   },
   {
    "duration": 21,
    "start_time": "2022-05-01T07:04:23.552Z"
   },
   {
    "duration": 21,
    "start_time": "2022-05-01T07:04:23.574Z"
   },
   {
    "duration": 5,
    "start_time": "2022-05-01T07:04:23.597Z"
   },
   {
    "duration": 12,
    "start_time": "2022-05-01T07:04:23.604Z"
   },
   {
    "duration": 8,
    "start_time": "2022-05-01T07:04:23.617Z"
   },
   {
    "duration": 9,
    "start_time": "2022-05-01T07:04:23.627Z"
   },
   {
    "duration": 22,
    "start_time": "2022-05-01T07:16:15.022Z"
   },
   {
    "duration": 28,
    "start_time": "2022-05-01T07:16:18.210Z"
   },
   {
    "duration": 1791,
    "start_time": "2022-05-01T07:16:21.471Z"
   },
   {
    "duration": 1712,
    "start_time": "2022-05-01T07:16:23.976Z"
   },
   {
    "duration": 3,
    "start_time": "2022-05-01T07:16:32.952Z"
   },
   {
    "duration": 194,
    "start_time": "2022-05-01T07:16:32.959Z"
   },
   {
    "duration": 39,
    "start_time": "2022-05-01T07:16:33.155Z"
   },
   {
    "duration": 30,
    "start_time": "2022-05-01T07:16:33.196Z"
   },
   {
    "duration": 6,
    "start_time": "2022-05-01T07:16:33.228Z"
   },
   {
    "duration": 41,
    "start_time": "2022-05-01T07:16:33.236Z"
   },
   {
    "duration": 21,
    "start_time": "2022-05-01T07:16:33.279Z"
   },
   {
    "duration": 150,
    "start_time": "2022-05-01T07:16:33.302Z"
   },
   {
    "duration": 39,
    "start_time": "2022-05-01T07:16:33.454Z"
   },
   {
    "duration": 23,
    "start_time": "2022-05-01T07:16:33.495Z"
   },
   {
    "duration": 18,
    "start_time": "2022-05-01T07:16:33.521Z"
   },
   {
    "duration": 103,
    "start_time": "2022-05-01T07:16:33.574Z"
   },
   {
    "duration": 20,
    "start_time": "2022-05-01T07:16:33.678Z"
   },
   {
    "duration": 33,
    "start_time": "2022-05-01T07:16:33.700Z"
   },
   {
    "duration": 16,
    "start_time": "2022-05-01T07:16:33.735Z"
   },
   {
    "duration": 27,
    "start_time": "2022-05-01T07:16:33.753Z"
   },
   {
    "duration": 10,
    "start_time": "2022-05-01T07:16:33.782Z"
   },
   {
    "duration": 42,
    "start_time": "2022-05-01T07:16:33.794Z"
   },
   {
    "duration": 5,
    "start_time": "2022-05-01T07:16:33.837Z"
   },
   {
    "duration": 12,
    "start_time": "2022-05-01T07:16:33.843Z"
   },
   {
    "duration": 10,
    "start_time": "2022-05-01T07:16:33.857Z"
   },
   {
    "duration": 16,
    "start_time": "2022-05-01T07:16:33.869Z"
   },
   {
    "duration": 15,
    "start_time": "2022-05-01T07:16:33.887Z"
   },
   {
    "duration": 53,
    "start_time": "2022-05-01T07:16:33.903Z"
   },
   {
    "duration": 17,
    "start_time": "2022-05-01T07:16:33.958Z"
   },
   {
    "duration": 74,
    "start_time": "2022-05-01T07:16:33.977Z"
   },
   {
    "duration": 101,
    "start_time": "2022-05-01T07:16:34.053Z"
   },
   {
    "duration": 50,
    "start_time": "2022-05-01T07:16:34.155Z"
   },
   {
    "duration": 10,
    "start_time": "2022-05-01T07:16:34.209Z"
   },
   {
    "duration": 67,
    "start_time": "2022-05-01T07:16:34.221Z"
   },
   {
    "duration": 15,
    "start_time": "2022-05-01T07:16:34.289Z"
   },
   {
    "duration": 11,
    "start_time": "2022-05-01T07:16:34.305Z"
   },
   {
    "duration": 38,
    "start_time": "2022-05-01T07:16:34.317Z"
   },
   {
    "duration": 22,
    "start_time": "2022-05-01T07:16:34.357Z"
   },
   {
    "duration": 18,
    "start_time": "2022-05-01T07:16:34.380Z"
   },
   {
    "duration": 18,
    "start_time": "2022-05-01T07:16:34.400Z"
   },
   {
    "duration": 68,
    "start_time": "2022-05-01T07:16:34.420Z"
   },
   {
    "duration": 57,
    "start_time": "2022-05-01T07:16:34.489Z"
   },
   {
    "duration": 72,
    "start_time": "2022-05-01T07:16:34.548Z"
   },
   {
    "duration": 28,
    "start_time": "2022-05-01T07:16:34.622Z"
   },
   {
    "duration": 36,
    "start_time": "2022-05-01T07:16:34.652Z"
   },
   {
    "duration": 17,
    "start_time": "2022-05-01T07:16:34.690Z"
   },
   {
    "duration": 18,
    "start_time": "2022-05-01T07:16:34.710Z"
   },
   {
    "duration": 44,
    "start_time": "2022-05-01T07:16:34.730Z"
   },
   {
    "duration": 5,
    "start_time": "2022-05-01T07:16:34.776Z"
   },
   {
    "duration": 8,
    "start_time": "2022-05-01T07:16:34.783Z"
   },
   {
    "duration": 8,
    "start_time": "2022-05-01T07:16:34.792Z"
   },
   {
    "duration": 7,
    "start_time": "2022-05-01T07:16:34.801Z"
   },
   {
    "duration": 6,
    "start_time": "2022-05-01T07:16:34.810Z"
   },
   {
    "duration": 7,
    "start_time": "2022-05-01T07:16:34.818Z"
   },
   {
    "duration": 608,
    "start_time": "2022-05-01T07:16:34.827Z"
   },
   {
    "duration": 569,
    "start_time": "2022-05-01T07:16:35.437Z"
   },
   {
    "duration": 5,
    "start_time": "2022-05-01T07:16:36.008Z"
   },
   {
    "duration": 13,
    "start_time": "2022-05-01T07:16:36.015Z"
   },
   {
    "duration": 9,
    "start_time": "2022-05-01T07:16:36.030Z"
   },
   {
    "duration": 8,
    "start_time": "2022-05-01T07:16:36.041Z"
   },
   {
    "duration": 25,
    "start_time": "2022-05-01T07:16:36.050Z"
   },
   {
    "duration": 7,
    "start_time": "2022-05-01T07:16:36.077Z"
   },
   {
    "duration": 723,
    "start_time": "2022-05-01T07:16:36.086Z"
   },
   {
    "duration": 598,
    "start_time": "2022-05-01T07:16:36.811Z"
   },
   {
    "duration": 156,
    "start_time": "2022-05-01T07:16:37.411Z"
   },
   {
    "duration": 5,
    "start_time": "2022-05-01T07:16:37.573Z"
   },
   {
    "duration": 7,
    "start_time": "2022-05-01T07:16:37.580Z"
   },
   {
    "duration": 8,
    "start_time": "2022-05-01T07:16:37.588Z"
   },
   {
    "duration": 8,
    "start_time": "2022-05-01T07:16:37.597Z"
   },
   {
    "duration": 10,
    "start_time": "2022-05-01T07:16:37.606Z"
   },
   {
    "duration": 6,
    "start_time": "2022-05-01T07:16:37.618Z"
   },
   {
    "duration": 7,
    "start_time": "2022-05-01T07:16:37.626Z"
   },
   {
    "duration": 788,
    "start_time": "2022-05-01T07:16:37.634Z"
   },
   {
    "duration": 588,
    "start_time": "2022-05-01T07:16:38.424Z"
   },
   {
    "duration": 4,
    "start_time": "2022-05-01T07:16:39.013Z"
   },
   {
    "duration": 15,
    "start_time": "2022-05-01T07:16:39.019Z"
   },
   {
    "duration": 14,
    "start_time": "2022-05-01T07:16:39.036Z"
   },
   {
    "duration": 25,
    "start_time": "2022-05-01T07:16:39.052Z"
   },
   {
    "duration": 19,
    "start_time": "2022-05-01T07:16:39.079Z"
   },
   {
    "duration": 21,
    "start_time": "2022-05-01T07:16:39.100Z"
   },
   {
    "duration": 54,
    "start_time": "2022-05-01T07:16:39.123Z"
   },
   {
    "duration": 6,
    "start_time": "2022-05-01T07:16:39.179Z"
   },
   {
    "duration": 16,
    "start_time": "2022-05-01T07:16:39.187Z"
   },
   {
    "duration": 8,
    "start_time": "2022-05-01T07:16:39.204Z"
   },
   {
    "duration": 8,
    "start_time": "2022-05-01T07:16:39.214Z"
   },
   {
    "duration": 50,
    "start_time": "2022-05-01T07:17:40.899Z"
   },
   {
    "duration": 62,
    "start_time": "2022-05-01T07:17:46.993Z"
   },
   {
    "duration": 19,
    "start_time": "2022-05-01T07:17:53.188Z"
   },
   {
    "duration": 17,
    "start_time": "2022-05-01T07:25:58.709Z"
   },
   {
    "duration": 17,
    "start_time": "2022-05-01T07:26:05.085Z"
   },
   {
    "duration": 9,
    "start_time": "2022-05-01T07:27:16.950Z"
   },
   {
    "duration": 5,
    "start_time": "2022-05-01T07:27:22.570Z"
   },
   {
    "duration": 56,
    "start_time": "2022-05-01T07:40:31.860Z"
   },
   {
    "duration": 36,
    "start_time": "2022-05-01T07:44:29.858Z"
   },
   {
    "duration": 38,
    "start_time": "2022-05-01T07:44:42.442Z"
   },
   {
    "duration": 14,
    "start_time": "2022-05-01T07:44:48.090Z"
   },
   {
    "duration": 33,
    "start_time": "2022-05-01T07:44:55.003Z"
   }
  ],
  "kernelspec": {
   "display_name": "Python 3 (ipykernel)",
   "language": "python",
   "name": "python3"
  },
  "language_info": {
   "codemirror_mode": {
    "name": "ipython",
    "version": 3
   },
   "file_extension": ".py",
   "mimetype": "text/x-python",
   "name": "python",
   "nbconvert_exporter": "python",
   "pygments_lexer": "ipython3",
   "version": "3.9.7"
  },
  "toc": {
   "base_numbering": 1,
   "nav_menu": {
    "height": "421px",
    "width": "160px"
   },
   "number_sections": true,
   "sideBar": true,
   "skip_h1_title": true,
   "title_cell": "Table of Contents",
   "title_sidebar": "Contents",
   "toc_cell": false,
   "toc_position": {
    "height": "calc(100% - 180px)",
    "left": "10px",
    "top": "150px",
    "width": "200px"
   },
   "toc_section_display": true,
   "toc_window_display": false
  }
 },
 "nbformat": 4,
 "nbformat_minor": 2
}
